{
  "cells": [
    {
      "cell_type": "markdown",
      "metadata": {
        "toc": true,
        "id": "taCZnI4mE126"
      },
      "source": [
        "<h1>Содержание<span class=\"tocSkip\"></span></h1>\n",
        "<div class=\"toc\"><ul class=\"toc-item\"><li><span><a href=\"#Подготовка\" data-toc-modified-id=\"Подготовка-1\"><span class=\"toc-item-num\">1&nbsp;&nbsp;</span>Подготовка</a></span></li><li><span><a href=\"#Анализ\" data-toc-modified-id=\"Анализ-2\"><span class=\"toc-item-num\">2&nbsp;&nbsp;</span>Анализ</a></span></li><li><span><a href=\"#Обучение-и-тестирование\" data-toc-modified-id=\"Обучение-и-тестирование-3\"><span class=\"toc-item-num\">3&nbsp;&nbsp;</span>Обучение и тестирование</a></span></li><li><span><a href=\"#Тестирование\" data-toc-modified-id=\"Тестирование-4\"><span class=\"toc-item-num\">4&nbsp;&nbsp;</span>Тестирование</a></span></li><li><span><a href=\"#Вывод\" data-toc-modified-id=\"Вывод-5\"><span class=\"toc-item-num\">5&nbsp;&nbsp;</span>Вывод</a></span></li><li><span><a href=\"#Чек-лист-проверки\" data-toc-modified-id=\"Чек-лист-проверки-6\"><span class=\"toc-item-num\">6&nbsp;&nbsp;</span>Чек-лист проверки</a></span></li></ul></div>"
      ]
    },
    {
      "cell_type": "markdown",
      "metadata": {
        "id": "C71EnNUME12_"
      },
      "source": [
        "#  Прогнозирование заказов такси"
      ]
    },
    {
      "cell_type": "markdown",
      "metadata": {
        "id": "OV92z4xQE13A"
      },
      "source": [
        "Нужно спрогнозировать количество заказов такси на следующий час. Построим модель для такого предсказания.\n",
        "\n",
        "Значение метрики *RMSE* на тестовой выборке должно быть не больше 48.\n",
        "\n",
        "Нам нужно:\n",
        "\n",
        "1. Загрузить данные и выполнить их ресемплирование по одному часу.\n",
        "2. Проанализировать данные.\n",
        "3. Обучить разные модели с различными гиперпараметрами. Сделать тестовую выборку размером 10% от исходных данных.\n",
        "4. Проверить данные на тестовой выборке и сделать выводы.\n",
        "\n",
        "\n",
        "Количество заказов находится в столбце `num_orders` (от англ. *number of orders*, «число заказов»)."
      ]
    },
    {
      "cell_type": "markdown",
      "metadata": {
        "id": "xwQnyeyUE13B"
      },
      "source": [
        "## Подготовка"
      ]
    },
    {
      "cell_type": "code",
      "execution_count": null,
      "metadata": {
        "id": "IY_kUs3iE13B"
      },
      "outputs": [],
      "source": [
        "import pandas as pd\n",
        "import numpy as np\n",
        "from statsmodels.graphics import tsaplots\n",
        "import matplotlib.pyplot as plt\n",
        "\n",
        "from statsmodels.tsa.seasonal import seasonal_decompose\n",
        "\n",
        "from sklearn.model_selection import train_test_split, TimeSeriesSplit, cross_val_score\n",
        "from sklearn.metrics import mean_squared_error as mse\n",
        "from sklearn.linear_model import LinearRegression\n",
        "from sklearn.tree import DecisionTreeRegressor\n",
        "from sklearn.ensemble import RandomForestRegressor\n",
        "\n",
        "from catboost import CatBoostRegressor\n",
        "from lightgbm import LGBMRegressor"
      ]
    },
    {
      "cell_type": "code",
      "execution_count": null,
      "metadata": {
        "id": "Cvn45gc_E13D"
      },
      "outputs": [],
      "source": [
        "seed = np.random.seed(123)"
      ]
    },
    {
      "cell_type": "code",
      "execution_count": null,
      "metadata": {
        "id": "bEzOl7uUE13D",
        "outputId": "d7127936-4f97-4b41-a7aa-4be4d5494884"
      },
      "outputs": [
        {
          "name": "stdout",
          "output_type": "stream",
          "text": [
            "<class 'pandas.core.frame.DataFrame'>\n",
            "DatetimeIndex: 26496 entries, 2018-03-01 00:00:00 to 2018-08-31 23:50:00\n",
            "Data columns (total 1 columns):\n",
            " #   Column      Non-Null Count  Dtype\n",
            "---  ------      --------------  -----\n",
            " 0   num_orders  26496 non-null  int64\n",
            "dtypes: int64(1)\n",
            "memory usage: 414.0 KB\n"
          ]
        }
      ],
      "source": [
        "df = pd.read_csv('/datasets/taxi.csv', index_col=[0], parse_dates=[0])\n",
        "df.info()"
      ]
    },
    {
      "cell_type": "code",
      "execution_count": null,
      "metadata": {
        "id": "0ZFV75a_E13E",
        "outputId": "4905a048-cb2f-4572-c0f4-a76608c1ce7a"
      },
      "outputs": [
        {
          "data": {
            "text/html": [
              "<div>\n",
              "<style scoped>\n",
              "    .dataframe tbody tr th:only-of-type {\n",
              "        vertical-align: middle;\n",
              "    }\n",
              "\n",
              "    .dataframe tbody tr th {\n",
              "        vertical-align: top;\n",
              "    }\n",
              "\n",
              "    .dataframe thead th {\n",
              "        text-align: right;\n",
              "    }\n",
              "</style>\n",
              "<table border=\"1\" class=\"dataframe\">\n",
              "  <thead>\n",
              "    <tr style=\"text-align: right;\">\n",
              "      <th></th>\n",
              "      <th>num_orders</th>\n",
              "    </tr>\n",
              "    <tr>\n",
              "      <th>datetime</th>\n",
              "      <th></th>\n",
              "    </tr>\n",
              "  </thead>\n",
              "  <tbody>\n",
              "    <tr>\n",
              "      <th>2018-03-01 00:00:00</th>\n",
              "      <td>9</td>\n",
              "    </tr>\n",
              "    <tr>\n",
              "      <th>2018-03-01 00:10:00</th>\n",
              "      <td>14</td>\n",
              "    </tr>\n",
              "    <tr>\n",
              "      <th>2018-03-01 00:20:00</th>\n",
              "      <td>28</td>\n",
              "    </tr>\n",
              "    <tr>\n",
              "      <th>2018-03-01 00:30:00</th>\n",
              "      <td>20</td>\n",
              "    </tr>\n",
              "    <tr>\n",
              "      <th>2018-03-01 00:40:00</th>\n",
              "      <td>32</td>\n",
              "    </tr>\n",
              "  </tbody>\n",
              "</table>\n",
              "</div>"
            ],
            "text/plain": [
              "                     num_orders\n",
              "datetime                       \n",
              "2018-03-01 00:00:00           9\n",
              "2018-03-01 00:10:00          14\n",
              "2018-03-01 00:20:00          28\n",
              "2018-03-01 00:30:00          20\n",
              "2018-03-01 00:40:00          32"
            ]
          },
          "execution_count": 4,
          "metadata": {},
          "output_type": "execute_result"
        }
      ],
      "source": [
        "df.sort_index(inplace=True)\n",
        "df.head()"
      ]
    },
    {
      "cell_type": "code",
      "execution_count": null,
      "metadata": {
        "id": "SVLzmu6DE13F",
        "outputId": "55586b1a-ef1d-4504-8c24-5d5561b983ff"
      },
      "outputs": [
        {
          "data": {
            "text/html": [
              "<div>\n",
              "<style scoped>\n",
              "    .dataframe tbody tr th:only-of-type {\n",
              "        vertical-align: middle;\n",
              "    }\n",
              "\n",
              "    .dataframe tbody tr th {\n",
              "        vertical-align: top;\n",
              "    }\n",
              "\n",
              "    .dataframe thead th {\n",
              "        text-align: right;\n",
              "    }\n",
              "</style>\n",
              "<table border=\"1\" class=\"dataframe\">\n",
              "  <thead>\n",
              "    <tr style=\"text-align: right;\">\n",
              "      <th></th>\n",
              "      <th>num_orders</th>\n",
              "    </tr>\n",
              "    <tr>\n",
              "      <th>datetime</th>\n",
              "      <th></th>\n",
              "    </tr>\n",
              "  </thead>\n",
              "  <tbody>\n",
              "    <tr>\n",
              "      <th>2018-03-01 00:00:00</th>\n",
              "      <td>124</td>\n",
              "    </tr>\n",
              "    <tr>\n",
              "      <th>2018-03-01 01:00:00</th>\n",
              "      <td>85</td>\n",
              "    </tr>\n",
              "    <tr>\n",
              "      <th>2018-03-01 02:00:00</th>\n",
              "      <td>71</td>\n",
              "    </tr>\n",
              "    <tr>\n",
              "      <th>2018-03-01 03:00:00</th>\n",
              "      <td>66</td>\n",
              "    </tr>\n",
              "    <tr>\n",
              "      <th>2018-03-01 04:00:00</th>\n",
              "      <td>43</td>\n",
              "    </tr>\n",
              "  </tbody>\n",
              "</table>\n",
              "</div>"
            ],
            "text/plain": [
              "                     num_orders\n",
              "datetime                       \n",
              "2018-03-01 00:00:00         124\n",
              "2018-03-01 01:00:00          85\n",
              "2018-03-01 02:00:00          71\n",
              "2018-03-01 03:00:00          66\n",
              "2018-03-01 04:00:00          43"
            ]
          },
          "execution_count": 5,
          "metadata": {},
          "output_type": "execute_result"
        }
      ],
      "source": [
        "df = df.resample('1H').sum()\n",
        "df.head()"
      ]
    },
    {
      "cell_type": "markdown",
      "metadata": {
        "id": "l9VzUBw8E13G"
      },
      "source": [
        "## Анализ"
      ]
    },
    {
      "cell_type": "code",
      "execution_count": null,
      "metadata": {
        "id": "jOL5qiLYE13G"
      },
      "outputs": [],
      "source": [
        "decomposed = seasonal_decompose(df)"
      ]
    },
    {
      "cell_type": "code",
      "execution_count": null,
      "metadata": {
        "id": "Wr_RR9q2E13G",
        "outputId": "b08ae9ce-c0b0-4165-a555-b95e7c5c9082"
      },
      "outputs": [
        {
          "data": {
            "text/plain": [
              "<AxesSubplot:xlabel='datetime'>"
            ]
          },
          "execution_count": 7,
          "metadata": {},
          "output_type": "execute_result"
        },
        {
          "data": {
            "image/png": "[encoded data removed]",
            "text/plain": [
              "<Figure size 432x288 with 1 Axes>"
            ]
          },
          "metadata": {
            "needs_background": "light"
          },
          "output_type": "display_data"
        }
      ],
      "source": [
        "decomposed.trend.plot(kind='line')"
      ]
    },
    {
      "cell_type": "markdown",
      "metadata": {
        "id": "-AmJgFuGE13H"
      },
      "source": [
        "Общий тренд на повышение.Число заказов за время наблюдения (полгода) выросло почти в 3 раза.  \n",
        "Тренд двигается с ускорением после июня и еще активнее в августе"
      ]
    },
    {
      "cell_type": "code",
      "execution_count": null,
      "metadata": {
        "id": "dTm1Mf7VE13H",
        "outputId": "3a61e554-bd49-4873-8c87-39801aa06a1f"
      },
      "outputs": [
        {
          "data": {
            "text/plain": [
              "<AxesSubplot:xlabel='datetime'>"
            ]
          },
          "execution_count": 8,
          "metadata": {},
          "output_type": "execute_result"
        },
        {
          "data": {
            "image/png": "[encoded data removed]",
            "text/plain": [
              "<Figure size 432x288 with 1 Axes>"
            ]
          },
          "metadata": {
            "needs_background": "light"
          },
          "output_type": "display_data"
        }
      ],
      "source": [
        "decomposed.trend['2018-03':'2018-03'] .plot(kind='line')"
      ]
    },
    {
      "cell_type": "markdown",
      "metadata": {
        "id": "nx1J2h-gE13H"
      },
      "source": [
        "На внутримесячном тренде видим пики внутри недели - это в основном вечер пятницы и понедельник, а также праздничные дни"
      ]
    },
    {
      "cell_type": "code",
      "execution_count": null,
      "metadata": {
        "id": "kaO7z4g_E13H",
        "outputId": "a6b5aa6a-314c-4fe4-f387-b3027b6c6b66"
      },
      "outputs": [
        {
          "data": {
            "text/plain": [
              "<AxesSubplot:xlabel='datetime'>"
            ]
          },
          "execution_count": 9,
          "metadata": {},
          "output_type": "execute_result"
        },
        {
          "data": {
            "image/png": "[encoded data removed]",
            "text/plain": [
              "<Figure size 432x288 with 1 Axes>"
            ]
          },
          "metadata": {
            "needs_background": "light"
          },
          "output_type": "display_data"
        }
      ],
      "source": [
        "decomposed.seasonal.tail(24).plot()"
      ]
    },
    {
      "cell_type": "markdown",
      "metadata": {
        "id": "khke7y_UE13H"
      },
      "source": [
        "Внутри одного дня примерно одинаковая картина - пик в районе 9 часов (начало рабочего дня), около 16 (бранчи? или короткий рабочий день? не уверен), и самый большой - около полуночи."
      ]
    },
    {
      "cell_type": "code",
      "execution_count": null,
      "metadata": {
        "id": "AY15X5ATE13I",
        "outputId": "ca2cb601-438f-4b44-81bd-32412a4eecc3"
      },
      "outputs": [
        {
          "name": "stdout",
          "output_type": "stream",
          "text": [
            "<class 'pandas.core.frame.DataFrame'>\n",
            "DatetimeIndex: 4416 entries, 2018-03-01 00:00:00 to 2018-08-31 23:00:00\n",
            "Freq: H\n",
            "Data columns (total 1 columns):\n",
            " #   Column      Non-Null Count  Dtype\n",
            "---  ------      --------------  -----\n",
            " 0   num_orders  4416 non-null   int64\n",
            "dtypes: int64(1)\n",
            "memory usage: 69.0 KB\n"
          ]
        }
      ],
      "source": [
        "df.info()"
      ]
    },
    {
      "cell_type": "code",
      "execution_count": null,
      "metadata": {
        "id": "LTYe48kIE13I",
        "outputId": "6fe4fb1d-ea1c-4b50-dfdc-66f3929b0ed7"
      },
      "outputs": [
        {
          "data": {
            "text/plain": [
              "<AxesSubplot:xlabel='datetime'>"
            ]
          },
          "execution_count": 11,
          "metadata": {},
          "output_type": "execute_result"
        },
        {
          "data": {
            "image/png": "[encoded data removed]",
            "text/plain": [
              "<Figure size 432x288 with 1 Axes>"
            ]
          },
          "metadata": {
            "needs_background": "light"
          },
          "output_type": "display_data"
        }
      ],
      "source": [
        "decomposed.resid.plot()"
      ]
    },
    {
      "cell_type": "markdown",
      "metadata": {
        "id": "6hUtQf_yE13I"
      },
      "source": [
        "В конце графика шумы заметно усиливаются, что затруднит работу модели, ведь учиться она будет на тех данных, где шумов меньше.  \n",
        "Это наверняка отразится на результатах проверки на тестовой выборке."
      ]
    },
    {
      "cell_type": "code",
      "execution_count": null,
      "metadata": {
        "id": "C9smEDOfE13I"
      },
      "outputs": [],
      "source": [
        "def make_features(df, max_lag):\n",
        "    df['day'] = df.index.day\n",
        "    df['dayofweek'] = df.index.dayofweek\n",
        "    df['hour'] = df.index.hour\n",
        "\n",
        "    df['lag_168'] = df['num_orders'].shift(168)\n",
        "    df['lag_336'] = df['num_orders'].shift(336)\n",
        "    df['lag_504'] = df['num_orders'].shift(554)\n",
        "    df['lag_672'] = df['num_orders'].shift(672)\n",
        "\n",
        "    for lag in range(1, max_lag + 1):\n",
        "        df['lag_{}'.format(lag)] = df['num_orders'].shift(lag)\n",
        "\n",
        "    df['rolling_mean_24'] = df['num_orders'].shift().rolling(24).mean()\n",
        "    df['rolling_sum_24'] = df['num_orders'].shift().rolling(24).sum()\n",
        "\n",
        "    return df"
      ]
    },
    {
      "cell_type": "code",
      "execution_count": null,
      "metadata": {
        "scrolled": true,
        "id": "mNQQ3lw3E13J",
        "outputId": "03f33a51-0902-457e-afbe-1a425ad68706"
      },
      "outputs": [
        {
          "data": {
            "text/html": [
              "<div>\n",
              "<style scoped>\n",
              "    .dataframe tbody tr th:only-of-type {\n",
              "        vertical-align: middle;\n",
              "    }\n",
              "\n",
              "    .dataframe tbody tr th {\n",
              "        vertical-align: top;\n",
              "    }\n",
              "\n",
              "    .dataframe thead th {\n",
              "        text-align: right;\n",
              "    }\n",
              "</style>\n",
              "<table border=\"1\" class=\"dataframe\">\n",
              "  <thead>\n",
              "    <tr style=\"text-align: right;\">\n",
              "      <th></th>\n",
              "      <th>num_orders</th>\n",
              "      <th>day</th>\n",
              "      <th>dayofweek</th>\n",
              "      <th>hour</th>\n",
              "      <th>lag_168</th>\n",
              "      <th>lag_1</th>\n",
              "      <th>lag_2</th>\n",
              "      <th>lag_3</th>\n",
              "      <th>lag_4</th>\n",
              "      <th>lag_5</th>\n",
              "      <th>...</th>\n",
              "      <th>lag_44</th>\n",
              "      <th>lag_45</th>\n",
              "      <th>lag_46</th>\n",
              "      <th>lag_47</th>\n",
              "      <th>lag_48</th>\n",
              "      <th>rolling_mean_24</th>\n",
              "      <th>rolling_sum_24</th>\n",
              "      <th>lag_336</th>\n",
              "      <th>lag_504</th>\n",
              "      <th>lag_672</th>\n",
              "    </tr>\n",
              "    <tr>\n",
              "      <th>datetime</th>\n",
              "      <th></th>\n",
              "      <th></th>\n",
              "      <th></th>\n",
              "      <th></th>\n",
              "      <th></th>\n",
              "      <th></th>\n",
              "      <th></th>\n",
              "      <th></th>\n",
              "      <th></th>\n",
              "      <th></th>\n",
              "      <th></th>\n",
              "      <th></th>\n",
              "      <th></th>\n",
              "      <th></th>\n",
              "      <th></th>\n",
              "      <th></th>\n",
              "      <th></th>\n",
              "      <th></th>\n",
              "      <th></th>\n",
              "      <th></th>\n",
              "      <th></th>\n",
              "    </tr>\n",
              "  </thead>\n",
              "  <tbody>\n",
              "    <tr>\n",
              "      <th>2018-03-01 00:00:00</th>\n",
              "      <td>124</td>\n",
              "      <td>1</td>\n",
              "      <td>3</td>\n",
              "      <td>0</td>\n",
              "      <td>NaN</td>\n",
              "      <td>NaN</td>\n",
              "      <td>NaN</td>\n",
              "      <td>NaN</td>\n",
              "      <td>NaN</td>\n",
              "      <td>NaN</td>\n",
              "      <td>...</td>\n",
              "      <td>NaN</td>\n",
              "      <td>NaN</td>\n",
              "      <td>NaN</td>\n",
              "      <td>NaN</td>\n",
              "      <td>NaN</td>\n",
              "      <td>NaN</td>\n",
              "      <td>NaN</td>\n",
              "      <td>NaN</td>\n",
              "      <td>NaN</td>\n",
              "      <td>NaN</td>\n",
              "    </tr>\n",
              "    <tr>\n",
              "      <th>2018-03-01 01:00:00</th>\n",
              "      <td>85</td>\n",
              "      <td>1</td>\n",
              "      <td>3</td>\n",
              "      <td>1</td>\n",
              "      <td>NaN</td>\n",
              "      <td>124.0</td>\n",
              "      <td>NaN</td>\n",
              "      <td>NaN</td>\n",
              "      <td>NaN</td>\n",
              "      <td>NaN</td>\n",
              "      <td>...</td>\n",
              "      <td>NaN</td>\n",
              "      <td>NaN</td>\n",
              "      <td>NaN</td>\n",
              "      <td>NaN</td>\n",
              "      <td>NaN</td>\n",
              "      <td>NaN</td>\n",
              "      <td>NaN</td>\n",
              "      <td>NaN</td>\n",
              "      <td>NaN</td>\n",
              "      <td>NaN</td>\n",
              "    </tr>\n",
              "    <tr>\n",
              "      <th>2018-03-01 02:00:00</th>\n",
              "      <td>71</td>\n",
              "      <td>1</td>\n",
              "      <td>3</td>\n",
              "      <td>2</td>\n",
              "      <td>NaN</td>\n",
              "      <td>85.0</td>\n",
              "      <td>124.0</td>\n",
              "      <td>NaN</td>\n",
              "      <td>NaN</td>\n",
              "      <td>NaN</td>\n",
              "      <td>...</td>\n",
              "      <td>NaN</td>\n",
              "      <td>NaN</td>\n",
              "      <td>NaN</td>\n",
              "      <td>NaN</td>\n",
              "      <td>NaN</td>\n",
              "      <td>NaN</td>\n",
              "      <td>NaN</td>\n",
              "      <td>NaN</td>\n",
              "      <td>NaN</td>\n",
              "      <td>NaN</td>\n",
              "    </tr>\n",
              "    <tr>\n",
              "      <th>2018-03-01 03:00:00</th>\n",
              "      <td>66</td>\n",
              "      <td>1</td>\n",
              "      <td>3</td>\n",
              "      <td>3</td>\n",
              "      <td>NaN</td>\n",
              "      <td>71.0</td>\n",
              "      <td>85.0</td>\n",
              "      <td>124.0</td>\n",
              "      <td>NaN</td>\n",
              "      <td>NaN</td>\n",
              "      <td>...</td>\n",
              "      <td>NaN</td>\n",
              "      <td>NaN</td>\n",
              "      <td>NaN</td>\n",
              "      <td>NaN</td>\n",
              "      <td>NaN</td>\n",
              "      <td>NaN</td>\n",
              "      <td>NaN</td>\n",
              "      <td>NaN</td>\n",
              "      <td>NaN</td>\n",
              "      <td>NaN</td>\n",
              "    </tr>\n",
              "    <tr>\n",
              "      <th>2018-03-01 04:00:00</th>\n",
              "      <td>43</td>\n",
              "      <td>1</td>\n",
              "      <td>3</td>\n",
              "      <td>4</td>\n",
              "      <td>NaN</td>\n",
              "      <td>66.0</td>\n",
              "      <td>71.0</td>\n",
              "      <td>85.0</td>\n",
              "      <td>124.0</td>\n",
              "      <td>NaN</td>\n",
              "      <td>...</td>\n",
              "      <td>NaN</td>\n",
              "      <td>NaN</td>\n",
              "      <td>NaN</td>\n",
              "      <td>NaN</td>\n",
              "      <td>NaN</td>\n",
              "      <td>NaN</td>\n",
              "      <td>NaN</td>\n",
              "      <td>NaN</td>\n",
              "      <td>NaN</td>\n",
              "      <td>NaN</td>\n",
              "    </tr>\n",
              "    <tr>\n",
              "      <th>...</th>\n",
              "      <td>...</td>\n",
              "      <td>...</td>\n",
              "      <td>...</td>\n",
              "      <td>...</td>\n",
              "      <td>...</td>\n",
              "      <td>...</td>\n",
              "      <td>...</td>\n",
              "      <td>...</td>\n",
              "      <td>...</td>\n",
              "      <td>...</td>\n",
              "      <td>...</td>\n",
              "      <td>...</td>\n",
              "      <td>...</td>\n",
              "      <td>...</td>\n",
              "      <td>...</td>\n",
              "      <td>...</td>\n",
              "      <td>...</td>\n",
              "      <td>...</td>\n",
              "      <td>...</td>\n",
              "      <td>...</td>\n",
              "      <td>...</td>\n",
              "    </tr>\n",
              "    <tr>\n",
              "      <th>2018-08-31 19:00:00</th>\n",
              "      <td>136</td>\n",
              "      <td>31</td>\n",
              "      <td>4</td>\n",
              "      <td>19</td>\n",
              "      <td>113.0</td>\n",
              "      <td>207.0</td>\n",
              "      <td>217.0</td>\n",
              "      <td>197.0</td>\n",
              "      <td>116.0</td>\n",
              "      <td>133.0</td>\n",
              "      <td>...</td>\n",
              "      <td>265.0</td>\n",
              "      <td>177.0</td>\n",
              "      <td>170.0</td>\n",
              "      <td>191.0</td>\n",
              "      <td>169.0</td>\n",
              "      <td>164.875000</td>\n",
              "      <td>3957.0</td>\n",
              "      <td>84.0</td>\n",
              "      <td>95.0</td>\n",
              "      <td>91.0</td>\n",
              "    </tr>\n",
              "    <tr>\n",
              "      <th>2018-08-31 20:00:00</th>\n",
              "      <td>154</td>\n",
              "      <td>31</td>\n",
              "      <td>4</td>\n",
              "      <td>20</td>\n",
              "      <td>179.0</td>\n",
              "      <td>136.0</td>\n",
              "      <td>207.0</td>\n",
              "      <td>217.0</td>\n",
              "      <td>197.0</td>\n",
              "      <td>116.0</td>\n",
              "      <td>...</td>\n",
              "      <td>216.0</td>\n",
              "      <td>265.0</td>\n",
              "      <td>177.0</td>\n",
              "      <td>170.0</td>\n",
              "      <td>191.0</td>\n",
              "      <td>167.541667</td>\n",
              "      <td>4021.0</td>\n",
              "      <td>126.0</td>\n",
              "      <td>58.0</td>\n",
              "      <td>87.0</td>\n",
              "    </tr>\n",
              "    <tr>\n",
              "      <th>2018-08-31 21:00:00</th>\n",
              "      <td>159</td>\n",
              "      <td>31</td>\n",
              "      <td>4</td>\n",
              "      <td>21</td>\n",
              "      <td>166.0</td>\n",
              "      <td>154.0</td>\n",
              "      <td>136.0</td>\n",
              "      <td>207.0</td>\n",
              "      <td>217.0</td>\n",
              "      <td>197.0</td>\n",
              "      <td>...</td>\n",
              "      <td>217.0</td>\n",
              "      <td>216.0</td>\n",
              "      <td>265.0</td>\n",
              "      <td>177.0</td>\n",
              "      <td>170.0</td>\n",
              "      <td>168.041667</td>\n",
              "      <td>4033.0</td>\n",
              "      <td>144.0</td>\n",
              "      <td>96.0</td>\n",
              "      <td>123.0</td>\n",
              "    </tr>\n",
              "    <tr>\n",
              "      <th>2018-08-31 22:00:00</th>\n",
              "      <td>223</td>\n",
              "      <td>31</td>\n",
              "      <td>4</td>\n",
              "      <td>22</td>\n",
              "      <td>242.0</td>\n",
              "      <td>159.0</td>\n",
              "      <td>154.0</td>\n",
              "      <td>136.0</td>\n",
              "      <td>207.0</td>\n",
              "      <td>217.0</td>\n",
              "      <td>...</td>\n",
              "      <td>232.0</td>\n",
              "      <td>217.0</td>\n",
              "      <td>216.0</td>\n",
              "      <td>265.0</td>\n",
              "      <td>177.0</td>\n",
              "      <td>166.416667</td>\n",
              "      <td>3994.0</td>\n",
              "      <td>167.0</td>\n",
              "      <td>127.0</td>\n",
              "      <td>170.0</td>\n",
              "    </tr>\n",
              "    <tr>\n",
              "      <th>2018-08-31 23:00:00</th>\n",
              "      <td>205</td>\n",
              "      <td>31</td>\n",
              "      <td>4</td>\n",
              "      <td>23</td>\n",
              "      <td>173.0</td>\n",
              "      <td>223.0</td>\n",
              "      <td>159.0</td>\n",
              "      <td>154.0</td>\n",
              "      <td>136.0</td>\n",
              "      <td>207.0</td>\n",
              "      <td>...</td>\n",
              "      <td>193.0</td>\n",
              "      <td>232.0</td>\n",
              "      <td>217.0</td>\n",
              "      <td>216.0</td>\n",
              "      <td>265.0</td>\n",
              "      <td>169.125000</td>\n",
              "      <td>4059.0</td>\n",
              "      <td>155.0</td>\n",
              "      <td>130.0</td>\n",
              "      <td>123.0</td>\n",
              "    </tr>\n",
              "  </tbody>\n",
              "</table>\n",
              "<p>4416 rows × 58 columns</p>\n",
              "</div>"
            ],
            "text/plain": [
              "                     num_orders  day  dayofweek  hour  lag_168  lag_1  lag_2  \\\n",
              "datetime                                                                       \n",
              "2018-03-01 00:00:00         124    1          3     0      NaN    NaN    NaN   \n",
              "2018-03-01 01:00:00          85    1          3     1      NaN  124.0    NaN   \n",
              "2018-03-01 02:00:00          71    1          3     2      NaN   85.0  124.0   \n",
              "2018-03-01 03:00:00          66    1          3     3      NaN   71.0   85.0   \n",
              "2018-03-01 04:00:00          43    1          3     4      NaN   66.0   71.0   \n",
              "...                         ...  ...        ...   ...      ...    ...    ...   \n",
              "2018-08-31 19:00:00         136   31          4    19    113.0  207.0  217.0   \n",
              "2018-08-31 20:00:00         154   31          4    20    179.0  136.0  207.0   \n",
              "2018-08-31 21:00:00         159   31          4    21    166.0  154.0  136.0   \n",
              "2018-08-31 22:00:00         223   31          4    22    242.0  159.0  154.0   \n",
              "2018-08-31 23:00:00         205   31          4    23    173.0  223.0  159.0   \n",
              "\n",
              "                     lag_3  lag_4  lag_5  ...  lag_44  lag_45  lag_46  lag_47  \\\n",
              "datetime                                  ...                                   \n",
              "2018-03-01 00:00:00    NaN    NaN    NaN  ...     NaN     NaN     NaN     NaN   \n",
              "2018-03-01 01:00:00    NaN    NaN    NaN  ...     NaN     NaN     NaN     NaN   \n",
              "2018-03-01 02:00:00    NaN    NaN    NaN  ...     NaN     NaN     NaN     NaN   \n",
              "2018-03-01 03:00:00  124.0    NaN    NaN  ...     NaN     NaN     NaN     NaN   \n",
              "2018-03-01 04:00:00   85.0  124.0    NaN  ...     NaN     NaN     NaN     NaN   \n",
              "...                    ...    ...    ...  ...     ...     ...     ...     ...   \n",
              "2018-08-31 19:00:00  197.0  116.0  133.0  ...   265.0   177.0   170.0   191.0   \n",
              "2018-08-31 20:00:00  217.0  197.0  116.0  ...   216.0   265.0   177.0   170.0   \n",
              "2018-08-31 21:00:00  207.0  217.0  197.0  ...   217.0   216.0   265.0   177.0   \n",
              "2018-08-31 22:00:00  136.0  207.0  217.0  ...   232.0   217.0   216.0   265.0   \n",
              "2018-08-31 23:00:00  154.0  136.0  207.0  ...   193.0   232.0   217.0   216.0   \n",
              "\n",
              "                     lag_48  rolling_mean_24  rolling_sum_24  lag_336  \\\n",
              "datetime                                                                \n",
              "2018-03-01 00:00:00     NaN              NaN             NaN      NaN   \n",
              "2018-03-01 01:00:00     NaN              NaN             NaN      NaN   \n",
              "2018-03-01 02:00:00     NaN              NaN             NaN      NaN   \n",
              "2018-03-01 03:00:00     NaN              NaN             NaN      NaN   \n",
              "2018-03-01 04:00:00     NaN              NaN             NaN      NaN   \n",
              "...                     ...              ...             ...      ...   \n",
              "2018-08-31 19:00:00   169.0       164.875000          3957.0     84.0   \n",
              "2018-08-31 20:00:00   191.0       167.541667          4021.0    126.0   \n",
              "2018-08-31 21:00:00   170.0       168.041667          4033.0    144.0   \n",
              "2018-08-31 22:00:00   177.0       166.416667          3994.0    167.0   \n",
              "2018-08-31 23:00:00   265.0       169.125000          4059.0    155.0   \n",
              "\n",
              "                     lag_504  lag_672  \n",
              "datetime                               \n",
              "2018-03-01 00:00:00      NaN      NaN  \n",
              "2018-03-01 01:00:00      NaN      NaN  \n",
              "2018-03-01 02:00:00      NaN      NaN  \n",
              "2018-03-01 03:00:00      NaN      NaN  \n",
              "2018-03-01 04:00:00      NaN      NaN  \n",
              "...                      ...      ...  \n",
              "2018-08-31 19:00:00     95.0     91.0  \n",
              "2018-08-31 20:00:00     58.0     87.0  \n",
              "2018-08-31 21:00:00     96.0    123.0  \n",
              "2018-08-31 22:00:00    127.0    170.0  \n",
              "2018-08-31 23:00:00    130.0    123.0  \n",
              "\n",
              "[4416 rows x 58 columns]"
            ]
          },
          "execution_count": 25,
          "metadata": {},
          "output_type": "execute_result"
        }
      ],
      "source": [
        "make_features(df, 48)"
      ]
    },
    {
      "cell_type": "code",
      "execution_count": null,
      "metadata": {
        "scrolled": true,
        "id": "lO6X0Mz1E13J",
        "outputId": "beb266cf-9439-466a-b27d-5b76d03a6ec4"
      },
      "outputs": [
        {
          "data": {
            "image/png": "[encoded data removed]",
            "text/plain": [
              "<Figure size 1080x864 with 2 Axes>"
            ]
          },
          "metadata": {
            "needs_background": "light"
          },
          "output_type": "display_data"
        }
      ],
      "source": [
        "import seaborn as sns\n",
        "fig, ax = plt.subplots(figsize=(15,12))\n",
        "fig = sns.heatmap(df.corr(), ax=ax)"
      ]
    },
    {
      "cell_type": "markdown",
      "metadata": {
        "id": "IaDcHMbYE13K"
      },
      "source": [
        "Судя по корреляции - основными признаками для модели станут лаги в 24 +-2 часа, среднее скользящее за 24 часа и лаг в 1 неделю (168 часов)"
      ]
    },
    {
      "cell_type": "markdown",
      "source": [
        "Посмотрим важность признаков другим способом.\n",
        "Функция показывает, как признак коррелирует с предыдущими. Область синей заливки обозначает порог статистической значимости (если значение внутри, корреляция уже не заслуживает доверия. Статзначимость вычисляется по тесту Стьюдента)."
      ],
      "metadata": {
        "id": "J5eeFHIAi7Hu"
      }
    },
    {
      "cell_type": "code",
      "execution_count": null,
      "metadata": {
        "id": "17KlgKP0E13K",
        "outputId": "ce56a1e2-ee92-46ab-e4f6-5b6987114e27"
      },
      "outputs": [
        {
          "data": {
            "image/png": "[encoded data removed]",
            "text/plain": [
              "<Figure size 1332x432 with 1 Axes>"
            ]
          },
          "metadata": {
            "needs_background": "light"
          },
          "output_type": "display_data"
        }
      ],
      "source": [
        "taxi = pd.read_csv(\"/datasets/taxi.csv\", index_col=[0], parse_dates=[0]).resample('1H').sum()\n",
        "ts = taxi['num_orders']\n",
        "\n",
        "fig = tsaplots.plot_acf(ts,lags= 680)\n",
        "fig.set_size_inches(18.5, 6)\n",
        "plt.ylim(-.1, 1.1)\n",
        "plt.show()"
      ]
    },
    {
      "cell_type": "markdown",
      "metadata": {
        "id": "6BsoQkSYE13K"
      },
      "source": [
        "## Обучение и тестирование"
      ]
    },
    {
      "cell_type": "code",
      "execution_count": null,
      "metadata": {
        "id": "mEkZYZNAE13K"
      },
      "outputs": [],
      "source": [
        "train, test = train_test_split(df, shuffle=False, test_size=0.1)\n",
        "train = train.dropna()\n",
        "\n",
        "features_train = train.drop('num_orders', axis = 1)\n",
        "features_test = test.drop('num_orders', axis = 1)\n",
        "target_train = train['num_orders']\n",
        "target_test = test['num_orders']"
      ]
    },
    {
      "cell_type": "code",
      "execution_count": null,
      "metadata": {
        "id": "nBZgIT0ZE13K",
        "outputId": "d7965500-75ff-4329-936c-05e64558c37e"
      },
      "outputs": [
        {
          "name": "stdout",
          "output_type": "stream",
          "text": [
            "CPU times: user 374 ms, sys: 858 ms, total: 1.23 s\n",
            "Wall time: 1.13 s\n"
          ]
        },
        {
          "data": {
            "text/plain": [
              "22.65"
            ]
          },
          "execution_count": 30,
          "metadata": {},
          "output_type": "execute_result"
        }
      ],
      "source": [
        "%%time\n",
        "#модель линейной регрессии\n",
        "cv = TimeSeriesSplit(n_splits=5).split(features_train)\n",
        "model_lr = LinearRegression()\n",
        "model_lr.fit(features_train, target_train)\n",
        "score_lr = cross_val_score(model_lr, features_train, target_train, scoring='neg_mean_squared_error', cv=cv)\n",
        "round(np.mean(-score_lr)**0.5, 2)"
      ]
    },
    {
      "cell_type": "code",
      "execution_count": null,
      "metadata": {
        "id": "4SEA3WqyE13L",
        "outputId": "282c7347-957d-47d5-9ff9-25bc8877fb0c"
      },
      "outputs": [
        {
          "name": "stdout",
          "output_type": "stream",
          "text": [
            "DecisionTreeRegressor(max_depth=4) 22.88\n",
            "DecisionTreeRegressor(max_depth=5) 23.93\n",
            "DecisionTreeRegressor(max_depth=6) 24.76\n"
          ]
        }
      ],
      "source": [
        "res_dt = 47\n",
        "dt = None\n",
        "\n",
        "for depth in range(4, 7, 1):\n",
        "    model = DecisionTreeRegressor(random_state=seed, max_depth=depth)\n",
        "    model.fit(features_train, target_train)\n",
        "    score_dt = cross_val_score(model, features_train, target_train, scoring='neg_mean_squared_error', cv=5)\n",
        "    res = round(np.mean(-score_dt)**0.5, 2)\n",
        "    print(model, res)\n",
        "\n",
        "    if res < res_dt:\n",
        "        res_dt = res\n",
        "        dt = model"
      ]
    },
    {
      "cell_type": "code",
      "execution_count": null,
      "metadata": {
        "id": "TLxcu8UnE13L",
        "outputId": "245e5863-3637-439e-d2a4-b69eb65d5c50"
      },
      "outputs": [
        {
          "name": "stdout",
          "output_type": "stream",
          "text": [
            "RandomForestRegressor(max_depth=10) 20.96\n",
            "RandomForestRegressor(max_depth=12) 20.93\n",
            "RandomForestRegressor(max_depth=14) 21.01\n"
          ]
        }
      ],
      "source": [
        "res_rf = 47\n",
        "rf = None\n",
        "\n",
        "for depth in range(10, 15, 2):\n",
        "\n",
        "    model = RandomForestRegressor(random_state=seed, max_depth=depth, n_estimators=100)\n",
        "    model.fit(features_train, target_train)\n",
        "    score_rf = cross_val_score(model, features_train, target_train, scoring='neg_mean_squared_error', cv=3)\n",
        "\n",
        "    res = round(np.mean(-score_rf)**0.5, 2)\n",
        "    print(model, res)\n",
        "\n",
        "    if res < res_rf:\n",
        "        res_rf = res\n",
        "        rf = model"
      ]
    },
    {
      "cell_type": "code",
      "execution_count": null,
      "metadata": {
        "id": "d370TEzRE13L"
      },
      "outputs": [],
      "source": [
        "train, test = train_test_split(df, shuffle=False, test_size=0.2)\n",
        "valid, test = train_test_split(test, shuffle=False, test_size=0.5)\n",
        "\n",
        "train = train.dropna()\n",
        "\n",
        "features_train = train.drop('num_orders', axis = 1)\n",
        "features_valid = valid.drop('num_orders', axis = 1)\n",
        "features_test = test.drop('num_orders', axis = 1)\n",
        "target_train = train['num_orders']\n",
        "target_valid = valid['num_orders']\n",
        "target_test = test['num_orders']"
      ]
    },
    {
      "cell_type": "code",
      "execution_count": null,
      "metadata": {
        "id": "4yGb0WxYE13L"
      },
      "outputs": [],
      "source": [
        "catboost = CatBoostRegressor(iterations=120, random_seed=seed,\n",
        "                          learning_rate=0.2,\n",
        "                        verbose=30,\n",
        "                          depth=12)"
      ]
    },
    {
      "cell_type": "code",
      "execution_count": null,
      "metadata": {
        "id": "aBbLp1BPE13L"
      },
      "outputs": [],
      "source": [
        "catboost.fit(features_train, target_train, verbose=30, plot=True)"
      ]
    },
    {
      "cell_type": "code",
      "execution_count": null,
      "metadata": {
        "id": "xO3_wXfPE13M",
        "outputId": "ca0b9820-3590-44a1-b956-a305ff8cf305"
      },
      "outputs": [
        {
          "data": {
            "text/plain": [
              "31.146173669176697"
            ]
          },
          "execution_count": 36,
          "metadata": {},
          "output_type": "execute_result"
        }
      ],
      "source": [
        "cb_rmse = mse(target_valid, catboost.predict(features_valid), squared=False)\n",
        "cb_rmse"
      ]
    },
    {
      "cell_type": "code",
      "execution_count": null,
      "metadata": {
        "id": "cHqNb1c5E13M"
      },
      "outputs": [],
      "source": [
        "score_cb = cross_val_score(catboost, features_train, target_train, scoring='neg_mean_squared_error', cv=5)\n",
        "print(catboost, round(np.mean(-score_cb)**0.5, 2))"
      ]
    },
    {
      "cell_type": "code",
      "execution_count": null,
      "metadata": {
        "id": "bBfAkuY7E13M",
        "outputId": "e97da165-5d0a-4745-b020-1dbaf48b322f"
      },
      "outputs": [
        {
          "name": "stdout",
          "output_type": "stream",
          "text": [
            "LGBMRegressor(learning_rate=0.3, max_depth=4) 29.80053886742697\n",
            "LGBMRegressor(learning_rate=0.3, max_depth=8) 31.56834506706655\n",
            "LGBMRegressor(learning_rate=0.3, max_depth=12) 31.46520366522875\n"
          ]
        }
      ],
      "source": [
        "lgbm = None\n",
        "lgbm_rmse = 2500\n",
        "\n",
        "for depth in range(4,13, 4):\n",
        "    model = LGBMRegressor(max_depth=depth, n_estimators=100,\n",
        "                         random_state=seed, learning_rate = 0.3)\n",
        "    model.fit(features_train, target_train)\n",
        "    result = mse(target_valid, model.predict(features_valid), squared=False)\n",
        "    print(model, result)\n",
        "\n",
        "    if result < lgbm_rmse:\n",
        "        lgbm = model\n",
        "        lgbm_rmse = result\n"
      ]
    },
    {
      "cell_type": "markdown",
      "metadata": {
        "id": "fp8HuMSaE13M"
      },
      "source": [
        "## Тестирование"
      ]
    },
    {
      "cell_type": "code",
      "execution_count": null,
      "metadata": {
        "id": "kt7GkPyrE13M",
        "outputId": "8be01c71-6b43-48e0-8eb0-2cbdd82816f4"
      },
      "outputs": [
        {
          "name": "stdout",
          "output_type": "stream",
          "text": [
            "MSE тестовой выборки LinearRegression(): 33.72\n",
            "MSE тестовой выборки DecisionTreeRegressor(max_depth=4): 53.54\n",
            "MSE тестовой выборки RandomForestRegressor(max_depth=12): 41.67\n",
            "MSE тестовой выборки <catboost.core.CatBoostRegressor object at 0x7fe472fe7df0>: 54.53\n",
            "MSE тестовой выборки LGBMRegressor(learning_rate=0.3, max_depth=4): 46.85\n"
          ]
        }
      ],
      "source": [
        "model_list = [model_lr, dt, rf, catboost, lgbm]\n",
        "\n",
        "for model in model_list:\n",
        "    print(f\"MSE тестовой выборки {model}:\", round(mse(model.predict(features_test), target_test, squared=False), 2))\n"
      ]
    },
    {
      "cell_type": "markdown",
      "source": [
        "Проверим результат предсказания предыдущим значением. \"Тест адекватности моделей\""
      ],
      "metadata": {
        "id": "aenkSW7Kgb3k"
      }
    },
    {
      "cell_type": "code",
      "execution_count": null,
      "metadata": {
        "id": "uBDwBQw-E13Y",
        "outputId": "e0be9470-ce7b-4d6c-ebca-73239d0fad90"
      },
      "outputs": [
        {
          "data": {
            "text/plain": [
              "58.88"
            ]
          },
          "execution_count": 44,
          "metadata": {},
          "output_type": "execute_result"
        }
      ],
      "source": [
        "pred_previous = target_test.shift()\n",
        "pred_previous.iloc[0] = target_train.iloc[-1]\n",
        "round(mse(pred_previous, target_test, squared=False), 2)"
      ]
    },
    {
      "cell_type": "markdown",
      "metadata": {
        "id": "kwU3H6WoE13Z"
      },
      "source": [
        "## Вывод"
      ]
    },
    {
      "cell_type": "markdown",
      "metadata": {
        "id": "EQJwTT_PE13Z"
      },
      "source": [
        "В ходе исследования проделали следующие шаги:\n",
        "* Ресемплирование\n",
        "* Анализ сезонности, общего тренда, тренда внутри дня и недели, шумов\n",
        "* Добавленение новых признаков (месяц, день, день недели, отстающие показатели, среднее скользящее)\n",
        "* Оценка важности признаков\n",
        "\n",
        "Были проверены следующие модели:\n",
        "* Линейная регрессия  \n",
        "* Дерево решений  \n",
        "* Случайный лес  \n",
        "* Catboost  \n",
        "* Lightgbm  \n",
        "\n",
        "Проведенное исследование показало, что наилучшие показатели RMSE у следующей модели:  \n",
        "**LinearRegression(): 33.72**"
      ]
    }
  ],
  "metadata": {
    "ExecuteTimeLog": [
      {
        "duration": 465,
        "start_time": "2023-06-26T14:03:23.810Z"
      },
      {
        "duration": 143,
        "start_time": "2023-06-26T14:03:41.955Z"
      },
      {
        "duration": 21,
        "start_time": "2023-06-26T14:03:54.898Z"
      },
      {
        "duration": 83,
        "start_time": "2023-06-26T14:04:24.255Z"
      },
      {
        "duration": 10,
        "start_time": "2023-06-26T14:04:31.024Z"
      },
      {
        "duration": 10,
        "start_time": "2023-06-26T14:04:40.370Z"
      },
      {
        "duration": 18,
        "start_time": "2023-06-26T14:04:50.818Z"
      },
      {
        "duration": 4388,
        "start_time": "2023-06-26T14:07:01.474Z"
      },
      {
        "duration": 12,
        "start_time": "2023-06-26T14:08:10.121Z"
      },
      {
        "duration": 16,
        "start_time": "2023-06-26T14:08:13.890Z"
      },
      {
        "duration": 10,
        "start_time": "2023-06-26T14:08:40.642Z"
      },
      {
        "duration": 8,
        "start_time": "2023-06-26T14:08:53.592Z"
      },
      {
        "duration": 67,
        "start_time": "2023-06-26T14:09:14.289Z"
      },
      {
        "duration": 16,
        "start_time": "2023-06-26T14:09:17.200Z"
      },
      {
        "duration": 11,
        "start_time": "2023-06-26T14:09:20.670Z"
      },
      {
        "duration": 11,
        "start_time": "2023-06-26T14:09:42.079Z"
      },
      {
        "duration": 2100,
        "start_time": "2023-06-26T14:11:13.766Z"
      },
      {
        "duration": 65,
        "start_time": "2023-06-26T14:12:30.192Z"
      },
      {
        "duration": 9,
        "start_time": "2023-06-26T14:12:31.884Z"
      },
      {
        "duration": 67,
        "start_time": "2023-06-26T14:12:43.161Z"
      },
      {
        "duration": 7,
        "start_time": "2023-06-26T14:12:44.670Z"
      },
      {
        "duration": 8,
        "start_time": "2023-06-26T14:12:48.920Z"
      },
      {
        "duration": 17,
        "start_time": "2023-06-26T14:12:58.298Z"
      },
      {
        "duration": 8,
        "start_time": "2023-06-26T14:16:26.961Z"
      },
      {
        "duration": 12,
        "start_time": "2023-06-26T14:16:38.953Z"
      },
      {
        "duration": 7,
        "start_time": "2023-06-26T14:17:22.640Z"
      },
      {
        "duration": 24,
        "start_time": "2023-06-26T14:21:41.428Z"
      },
      {
        "duration": 843,
        "start_time": "2023-06-26T14:22:58.971Z"
      },
      {
        "duration": 10,
        "start_time": "2023-06-26T14:23:03.759Z"
      },
      {
        "duration": 35,
        "start_time": "2023-06-26T14:23:08.401Z"
      },
      {
        "duration": 39,
        "start_time": "2023-06-26T14:23:16.931Z"
      },
      {
        "duration": 176,
        "start_time": "2023-06-26T14:23:43.335Z"
      },
      {
        "duration": 57,
        "start_time": "2023-06-26T14:23:56.171Z"
      },
      {
        "duration": 6,
        "start_time": "2023-06-26T14:24:58.025Z"
      },
      {
        "duration": 13,
        "start_time": "2023-06-26T14:24:58.534Z"
      },
      {
        "duration": 12,
        "start_time": "2023-06-26T14:24:59.025Z"
      },
      {
        "duration": 151,
        "start_time": "2023-06-26T14:24:59.581Z"
      },
      {
        "duration": 19,
        "start_time": "2023-06-26T14:25:19.024Z"
      },
      {
        "duration": 13,
        "start_time": "2023-06-26T14:25:19.572Z"
      },
      {
        "duration": 228,
        "start_time": "2023-06-26T14:25:20.195Z"
      },
      {
        "duration": 11,
        "start_time": "2023-06-26T14:25:30.995Z"
      },
      {
        "duration": 11,
        "start_time": "2023-06-26T14:25:31.475Z"
      },
      {
        "duration": 69,
        "start_time": "2023-06-26T14:25:32.051Z"
      },
      {
        "duration": 8,
        "start_time": "2023-06-26T14:25:49.853Z"
      },
      {
        "duration": 28,
        "start_time": "2023-06-26T14:25:50.397Z"
      },
      {
        "duration": 17,
        "start_time": "2023-06-26T14:26:16.594Z"
      },
      {
        "duration": 4,
        "start_time": "2023-06-26T14:26:20.050Z"
      },
      {
        "duration": 14,
        "start_time": "2023-06-26T14:26:20.857Z"
      },
      {
        "duration": 4,
        "start_time": "2023-06-26T14:26:28.718Z"
      },
      {
        "duration": 84,
        "start_time": "2023-06-26T14:26:28.725Z"
      },
      {
        "duration": 8,
        "start_time": "2023-06-26T14:26:28.812Z"
      },
      {
        "duration": 41,
        "start_time": "2023-06-26T14:26:28.822Z"
      },
      {
        "duration": 4,
        "start_time": "2023-06-26T14:26:28.865Z"
      },
      {
        "duration": 42,
        "start_time": "2023-06-26T14:26:28.870Z"
      },
      {
        "duration": 24,
        "start_time": "2023-06-26T14:26:28.915Z"
      },
      {
        "duration": 70,
        "start_time": "2023-06-26T14:26:28.940Z"
      },
      {
        "duration": 11,
        "start_time": "2023-06-26T14:26:36.830Z"
      },
      {
        "duration": 10,
        "start_time": "2023-06-26T14:26:38.271Z"
      },
      {
        "duration": 80,
        "start_time": "2023-06-26T14:26:38.754Z"
      },
      {
        "duration": 5,
        "start_time": "2023-06-26T14:26:59.324Z"
      },
      {
        "duration": 9,
        "start_time": "2023-06-26T14:26:59.739Z"
      },
      {
        "duration": 12,
        "start_time": "2023-06-26T14:27:00.229Z"
      },
      {
        "duration": 32,
        "start_time": "2023-06-26T14:27:01.002Z"
      },
      {
        "duration": 8,
        "start_time": "2023-06-26T14:27:10.032Z"
      },
      {
        "duration": 13,
        "start_time": "2023-06-26T14:27:10.426Z"
      },
      {
        "duration": 17,
        "start_time": "2023-06-26T14:27:10.737Z"
      },
      {
        "duration": 10,
        "start_time": "2023-06-26T14:27:15.522Z"
      },
      {
        "duration": 12,
        "start_time": "2023-06-26T14:27:15.821Z"
      },
      {
        "duration": 25,
        "start_time": "2023-06-26T14:27:16.177Z"
      },
      {
        "duration": 12,
        "start_time": "2023-06-26T14:27:29.125Z"
      },
      {
        "duration": 13,
        "start_time": "2023-06-26T14:27:29.575Z"
      },
      {
        "duration": 37,
        "start_time": "2023-06-26T14:27:29.977Z"
      },
      {
        "duration": 19,
        "start_time": "2023-06-26T14:27:40.386Z"
      },
      {
        "duration": 13,
        "start_time": "2023-06-26T14:27:40.730Z"
      },
      {
        "duration": 187,
        "start_time": "2023-06-26T14:27:41.117Z"
      },
      {
        "duration": 13,
        "start_time": "2023-06-26T14:27:46.999Z"
      },
      {
        "duration": 19,
        "start_time": "2023-06-26T14:27:47.306Z"
      },
      {
        "duration": 93,
        "start_time": "2023-06-26T14:27:47.719Z"
      },
      {
        "duration": 13,
        "start_time": "2023-06-26T14:29:50.765Z"
      },
      {
        "duration": 37,
        "start_time": "2023-06-26T14:30:21.156Z"
      },
      {
        "duration": 9,
        "start_time": "2023-06-26T14:30:55.403Z"
      },
      {
        "duration": 3,
        "start_time": "2023-06-26T14:31:26.795Z"
      },
      {
        "duration": 3,
        "start_time": "2023-06-26T14:31:30.757Z"
      },
      {
        "duration": 20,
        "start_time": "2023-06-26T14:31:51.610Z"
      },
      {
        "duration": 143,
        "start_time": "2023-06-26T14:31:59.969Z"
      },
      {
        "duration": 4,
        "start_time": "2023-06-26T14:32:04.856Z"
      },
      {
        "duration": 167,
        "start_time": "2023-06-26T14:34:49.252Z"
      },
      {
        "duration": 174,
        "start_time": "2023-06-26T14:35:04.547Z"
      },
      {
        "duration": 102907,
        "start_time": "2023-06-26T14:38:12.390Z"
      },
      {
        "duration": 331,
        "start_time": "2023-06-26T14:39:55.304Z"
      },
      {
        "duration": 51354,
        "start_time": "2023-06-26T14:40:20.735Z"
      },
      {
        "duration": 99,
        "start_time": "2023-06-26T14:46:35.666Z"
      },
      {
        "duration": 85,
        "start_time": "2023-06-26T14:46:52.122Z"
      },
      {
        "duration": 4,
        "start_time": "2023-06-26T14:46:57.538Z"
      },
      {
        "duration": 734053,
        "start_time": "2023-06-26T14:47:05.856Z"
      },
      {
        "duration": 18,
        "start_time": "2023-06-26T14:59:19.911Z"
      },
      {
        "duration": 12,
        "start_time": "2023-06-26T19:02:36.152Z"
      },
      {
        "duration": 6,
        "start_time": "2023-06-26T19:02:47.251Z"
      },
      {
        "duration": 6,
        "start_time": "2023-06-26T19:02:53.906Z"
      },
      {
        "duration": 3,
        "start_time": "2023-06-26T19:03:20.986Z"
      },
      {
        "duration": 15867,
        "start_time": "2023-06-26T19:03:22.104Z"
      },
      {
        "duration": 6,
        "start_time": "2023-06-26T19:03:37.973Z"
      },
      {
        "duration": 3,
        "start_time": "2023-06-26T19:03:56.389Z"
      },
      {
        "duration": 15667,
        "start_time": "2023-06-26T19:03:56.906Z"
      },
      {
        "duration": 8,
        "start_time": "2023-06-26T19:04:12.575Z"
      },
      {
        "duration": 3,
        "start_time": "2023-06-26T19:04:51.328Z"
      },
      {
        "duration": 77917,
        "start_time": "2023-06-26T19:04:51.633Z"
      },
      {
        "duration": 7,
        "start_time": "2023-06-26T19:06:09.553Z"
      },
      {
        "duration": 11,
        "start_time": "2023-06-26T19:06:31.376Z"
      },
      {
        "duration": 11,
        "start_time": "2023-06-26T19:07:04.759Z"
      },
      {
        "duration": 10,
        "start_time": "2023-06-26T19:07:24.582Z"
      },
      {
        "duration": 93,
        "start_time": "2023-06-26T19:07:38.942Z"
      },
      {
        "duration": 102177,
        "start_time": "2023-06-26T19:07:46.931Z"
      },
      {
        "duration": 89,
        "start_time": "2023-06-26T19:12:17.306Z"
      },
      {
        "duration": 2366,
        "start_time": "2023-06-26T19:12:21.245Z"
      },
      {
        "duration": 4053,
        "start_time": "2023-06-26T19:12:40.157Z"
      },
      {
        "duration": 2677,
        "start_time": "2023-06-26T19:13:02.725Z"
      },
      {
        "duration": 27796,
        "start_time": "2023-06-26T19:14:36.113Z"
      },
      {
        "duration": 23,
        "start_time": "2023-06-26T19:16:25.425Z"
      },
      {
        "duration": 3835,
        "start_time": "2023-06-26T19:17:18.635Z"
      },
      {
        "duration": 6,
        "start_time": "2023-06-26T19:17:36.801Z"
      },
      {
        "duration": 6,
        "start_time": "2023-06-26T19:17:43.901Z"
      },
      {
        "duration": 4,
        "start_time": "2023-06-26T19:17:51.808Z"
      },
      {
        "duration": 4,
        "start_time": "2023-06-26T19:18:29.239Z"
      },
      {
        "duration": 38,
        "start_time": "2023-06-26T19:18:30.038Z"
      },
      {
        "duration": 36,
        "start_time": "2023-06-26T19:18:49.527Z"
      },
      {
        "duration": 46,
        "start_time": "2023-06-26T19:18:58.194Z"
      },
      {
        "duration": 43,
        "start_time": "2023-06-26T19:19:07.526Z"
      },
      {
        "duration": 4,
        "start_time": "2023-06-26T19:19:22.467Z"
      },
      {
        "duration": 17,
        "start_time": "2023-06-26T19:19:22.474Z"
      },
      {
        "duration": 72,
        "start_time": "2023-06-26T19:19:22.493Z"
      },
      {
        "duration": 8,
        "start_time": "2023-06-26T19:19:22.567Z"
      },
      {
        "duration": 18,
        "start_time": "2023-06-26T19:19:22.577Z"
      },
      {
        "duration": 4,
        "start_time": "2023-06-26T19:19:26.956Z"
      },
      {
        "duration": 37,
        "start_time": "2023-06-26T19:19:28.063Z"
      },
      {
        "duration": 10,
        "start_time": "2023-06-26T19:19:36.935Z"
      },
      {
        "duration": 13,
        "start_time": "2023-06-26T19:19:39.406Z"
      },
      {
        "duration": 27,
        "start_time": "2023-06-26T19:19:51.086Z"
      },
      {
        "duration": 10,
        "start_time": "2023-06-26T19:19:59.461Z"
      },
      {
        "duration": 20,
        "start_time": "2023-06-26T19:20:00.803Z"
      },
      {
        "duration": 29,
        "start_time": "2023-06-26T19:20:07.444Z"
      },
      {
        "duration": 10,
        "start_time": "2023-06-26T19:20:09.320Z"
      },
      {
        "duration": 50,
        "start_time": "2023-06-26T19:20:10.754Z"
      },
      {
        "duration": 34,
        "start_time": "2023-06-26T19:20:18.461Z"
      },
      {
        "duration": 11,
        "start_time": "2023-06-26T19:20:19.633Z"
      },
      {
        "duration": 19,
        "start_time": "2023-06-26T19:20:20.642Z"
      },
      {
        "duration": 4,
        "start_time": "2023-06-26T19:20:31.024Z"
      },
      {
        "duration": 64,
        "start_time": "2023-06-26T19:20:31.030Z"
      },
      {
        "duration": 95,
        "start_time": "2023-06-26T19:20:31.095Z"
      },
      {
        "duration": 8,
        "start_time": "2023-06-26T19:20:31.193Z"
      },
      {
        "duration": 12,
        "start_time": "2023-06-26T19:20:33.907Z"
      },
      {
        "duration": 9,
        "start_time": "2023-06-26T19:20:41.460Z"
      },
      {
        "duration": 189,
        "start_time": "2023-06-26T19:20:43.443Z"
      },
      {
        "duration": 24,
        "start_time": "2023-06-26T19:20:56.138Z"
      },
      {
        "duration": 10,
        "start_time": "2023-06-26T19:21:03.305Z"
      },
      {
        "duration": 16,
        "start_time": "2023-06-26T19:21:05.509Z"
      },
      {
        "duration": 22,
        "start_time": "2023-06-26T19:21:19.867Z"
      },
      {
        "duration": 19,
        "start_time": "2023-06-26T19:21:23.067Z"
      },
      {
        "duration": 9,
        "start_time": "2023-06-26T19:21:25.007Z"
      },
      {
        "duration": 13,
        "start_time": "2023-06-26T19:21:29.097Z"
      },
      {
        "duration": 23,
        "start_time": "2023-06-26T19:21:36.851Z"
      },
      {
        "duration": 10,
        "start_time": "2023-06-26T19:21:37.422Z"
      },
      {
        "duration": 19,
        "start_time": "2023-06-26T19:21:38.240Z"
      },
      {
        "duration": 46,
        "start_time": "2023-06-26T19:21:47.209Z"
      },
      {
        "duration": 10,
        "start_time": "2023-06-26T19:21:49.005Z"
      },
      {
        "duration": 99,
        "start_time": "2023-06-26T19:21:50.005Z"
      },
      {
        "duration": 4,
        "start_time": "2023-06-26T19:21:59.438Z"
      },
      {
        "duration": 6,
        "start_time": "2023-06-26T19:21:59.444Z"
      },
      {
        "duration": 57,
        "start_time": "2023-06-26T19:21:59.452Z"
      },
      {
        "duration": 7,
        "start_time": "2023-06-26T19:21:59.512Z"
      },
      {
        "duration": 15,
        "start_time": "2023-06-26T19:21:59.521Z"
      },
      {
        "duration": 4,
        "start_time": "2023-06-26T19:21:59.538Z"
      },
      {
        "duration": 37,
        "start_time": "2023-06-26T19:21:59.543Z"
      },
      {
        "duration": 22,
        "start_time": "2023-06-26T19:21:59.582Z"
      },
      {
        "duration": 100,
        "start_time": "2023-06-26T19:21:59.606Z"
      },
      {
        "duration": 234,
        "start_time": "2023-06-26T19:21:59.709Z"
      },
      {
        "duration": 6887,
        "start_time": "2023-06-26T19:21:59.944Z"
      },
      {
        "duration": 4,
        "start_time": "2023-06-26T19:22:06.833Z"
      },
      {
        "duration": 7504,
        "start_time": "2023-06-26T19:22:06.839Z"
      },
      {
        "duration": 7,
        "start_time": "2023-06-26T19:22:14.345Z"
      },
      {
        "duration": 0,
        "start_time": "2023-06-26T19:27:58.740Z"
      },
      {
        "duration": 3,
        "start_time": "2023-06-26T19:28:08.929Z"
      },
      {
        "duration": 8,
        "start_time": "2023-06-26T19:28:08.935Z"
      },
      {
        "duration": 68,
        "start_time": "2023-06-26T19:28:08.945Z"
      },
      {
        "duration": 6,
        "start_time": "2023-06-26T19:28:09.015Z"
      },
      {
        "duration": 15,
        "start_time": "2023-06-26T19:28:09.023Z"
      },
      {
        "duration": 4,
        "start_time": "2023-06-26T19:28:09.040Z"
      },
      {
        "duration": 36,
        "start_time": "2023-06-26T19:28:09.046Z"
      },
      {
        "duration": 28,
        "start_time": "2023-06-26T19:28:09.083Z"
      },
      {
        "duration": 16,
        "start_time": "2023-06-26T19:28:09.113Z"
      },
      {
        "duration": 133,
        "start_time": "2023-06-26T19:28:12.229Z"
      },
      {
        "duration": 40,
        "start_time": "2023-06-26T19:28:27.615Z"
      },
      {
        "duration": 11,
        "start_time": "2023-06-26T19:28:29.624Z"
      },
      {
        "duration": 220,
        "start_time": "2023-06-26T19:28:32.156Z"
      },
      {
        "duration": 36,
        "start_time": "2023-06-26T19:28:42.296Z"
      },
      {
        "duration": 11,
        "start_time": "2023-06-26T19:28:43.637Z"
      },
      {
        "duration": 48,
        "start_time": "2023-06-26T19:28:45.463Z"
      },
      {
        "duration": 207,
        "start_time": "2023-06-26T19:28:47.932Z"
      },
      {
        "duration": 34,
        "start_time": "2023-06-26T19:28:58.601Z"
      },
      {
        "duration": 13,
        "start_time": "2023-06-26T19:29:00.392Z"
      },
      {
        "duration": 84,
        "start_time": "2023-06-26T19:29:02.424Z"
      },
      {
        "duration": 221,
        "start_time": "2023-06-26T19:29:06.135Z"
      },
      {
        "duration": 39,
        "start_time": "2023-06-26T19:29:12.246Z"
      },
      {
        "duration": 14,
        "start_time": "2023-06-26T19:29:14.156Z"
      },
      {
        "duration": 69,
        "start_time": "2023-06-26T19:29:16.646Z"
      },
      {
        "duration": 278,
        "start_time": "2023-06-26T19:29:19.469Z"
      },
      {
        "duration": 41,
        "start_time": "2023-06-26T19:29:27.032Z"
      },
      {
        "duration": 12,
        "start_time": "2023-06-26T19:29:29.517Z"
      },
      {
        "duration": 161,
        "start_time": "2023-06-26T19:29:31.541Z"
      },
      {
        "duration": 264,
        "start_time": "2023-06-26T19:29:35.131Z"
      },
      {
        "duration": 44,
        "start_time": "2023-06-26T19:29:45.628Z"
      },
      {
        "duration": 10,
        "start_time": "2023-06-26T19:29:47.419Z"
      },
      {
        "duration": 198,
        "start_time": "2023-06-26T19:29:48.805Z"
      },
      {
        "duration": 346,
        "start_time": "2023-06-26T19:29:53.796Z"
      },
      {
        "duration": 17610,
        "start_time": "2023-06-26T19:30:10.160Z"
      },
      {
        "duration": 38,
        "start_time": "2023-06-26T19:30:47.725Z"
      },
      {
        "duration": 52,
        "start_time": "2023-06-26T19:30:52.937Z"
      },
      {
        "duration": 7,
        "start_time": "2023-06-26T19:30:54.097Z"
      },
      {
        "duration": 12,
        "start_time": "2023-06-26T19:30:55.113Z"
      },
      {
        "duration": 4,
        "start_time": "2023-06-26T19:30:56.650Z"
      },
      {
        "duration": 49,
        "start_time": "2023-06-26T19:30:59.696Z"
      },
      {
        "duration": 11,
        "start_time": "2023-06-26T19:31:06.197Z"
      },
      {
        "duration": 71,
        "start_time": "2023-06-26T19:31:08.038Z"
      },
      {
        "duration": 331,
        "start_time": "2023-06-26T19:31:10.411Z"
      },
      {
        "duration": 13838,
        "start_time": "2023-06-26T19:31:14.492Z"
      },
      {
        "duration": 11706,
        "start_time": "2023-06-26T19:31:40.056Z"
      },
      {
        "duration": 3,
        "start_time": "2023-06-26T19:32:39.933Z"
      },
      {
        "duration": 16517,
        "start_time": "2023-06-26T19:32:40.504Z"
      },
      {
        "duration": 6,
        "start_time": "2023-06-26T19:32:57.023Z"
      },
      {
        "duration": 483472,
        "start_time": "2023-06-26T19:32:57.031Z"
      },
      {
        "duration": 118176,
        "start_time": "2023-06-26T19:54:21.731Z"
      },
      {
        "duration": 1019810,
        "start_time": "2023-06-26T19:58:13.292Z"
      },
      {
        "duration": 2060,
        "start_time": "2023-06-27T03:21:43.867Z"
      },
      {
        "duration": 3,
        "start_time": "2023-06-27T03:21:45.929Z"
      },
      {
        "duration": 136,
        "start_time": "2023-06-27T03:21:45.933Z"
      },
      {
        "duration": 13,
        "start_time": "2023-06-27T03:21:46.071Z"
      },
      {
        "duration": 11,
        "start_time": "2023-06-27T03:21:46.087Z"
      },
      {
        "duration": 5,
        "start_time": "2023-06-27T03:21:46.100Z"
      },
      {
        "duration": 61,
        "start_time": "2023-06-27T03:21:46.107Z"
      },
      {
        "duration": 11,
        "start_time": "2023-06-27T03:21:46.169Z"
      },
      {
        "duration": 171,
        "start_time": "2023-06-27T03:21:46.181Z"
      },
      {
        "duration": 290,
        "start_time": "2023-06-27T03:21:46.354Z"
      },
      {
        "duration": 12287,
        "start_time": "2023-06-27T03:21:46.646Z"
      },
      {
        "duration": 3,
        "start_time": "2023-06-27T03:21:58.935Z"
      },
      {
        "duration": 22196,
        "start_time": "2023-06-27T03:21:58.941Z"
      },
      {
        "duration": 10,
        "start_time": "2023-06-27T03:22:21.140Z"
      },
      {
        "duration": 2425415,
        "start_time": "2023-06-27T03:22:21.152Z"
      },
      {
        "duration": 73,
        "start_time": "2023-06-27T04:02:46.581Z"
      },
      {
        "duration": 131,
        "start_time": "2023-06-27T04:02:46.660Z"
      },
      {
        "duration": 209,
        "start_time": "2023-06-27T04:02:46.800Z"
      },
      {
        "duration": 48,
        "start_time": "2023-06-27T04:02:47.054Z"
      },
      {
        "duration": 100,
        "start_time": "2023-06-27T04:02:47.169Z"
      },
      {
        "duration": 123,
        "start_time": "2023-06-27T04:02:47.277Z"
      },
      {
        "duration": 372,
        "start_time": "2023-06-27T04:02:47.405Z"
      },
      {
        "duration": 2785,
        "start_time": "2023-06-27T04:02:47.785Z"
      },
      {
        "duration": 60,
        "start_time": "2023-06-28T19:39:28.017Z"
      },
      {
        "duration": 1734,
        "start_time": "2023-06-28T19:40:11.516Z"
      },
      {
        "duration": 3,
        "start_time": "2023-06-28T19:40:13.254Z"
      },
      {
        "duration": 265,
        "start_time": "2023-06-28T19:40:13.259Z"
      },
      {
        "duration": 19,
        "start_time": "2023-06-28T19:40:13.526Z"
      },
      {
        "duration": 34,
        "start_time": "2023-06-28T19:40:13.549Z"
      },
      {
        "duration": 17,
        "start_time": "2023-06-28T19:40:13.586Z"
      },
      {
        "duration": 6,
        "start_time": "2023-06-28T19:40:13.608Z"
      },
      {
        "duration": 80,
        "start_time": "2023-06-28T19:40:13.618Z"
      },
      {
        "duration": 1025,
        "start_time": "2023-06-28T19:40:13.700Z"
      },
      {
        "duration": 0,
        "start_time": "2023-06-28T19:40:14.728Z"
      },
      {
        "duration": 0,
        "start_time": "2023-06-28T19:40:14.730Z"
      },
      {
        "duration": 0,
        "start_time": "2023-06-28T19:40:14.731Z"
      },
      {
        "duration": 0,
        "start_time": "2023-06-28T19:40:14.732Z"
      },
      {
        "duration": 0,
        "start_time": "2023-06-28T19:40:14.734Z"
      },
      {
        "duration": 0,
        "start_time": "2023-06-28T19:40:14.736Z"
      },
      {
        "duration": 1,
        "start_time": "2023-06-28T19:40:14.737Z"
      },
      {
        "duration": 0,
        "start_time": "2023-06-28T19:40:14.739Z"
      },
      {
        "duration": 14,
        "start_time": "2023-06-28T19:40:56.856Z"
      },
      {
        "duration": 419,
        "start_time": "2023-06-28T19:41:17.028Z"
      },
      {
        "duration": 27,
        "start_time": "2023-06-28T19:42:08.897Z"
      },
      {
        "duration": 13,
        "start_time": "2023-06-28T19:42:15.824Z"
      },
      {
        "duration": 298,
        "start_time": "2023-06-28T19:42:27.661Z"
      },
      {
        "duration": 279,
        "start_time": "2023-06-28T19:43:21.245Z"
      },
      {
        "duration": 16,
        "start_time": "2023-06-28T19:44:27.612Z"
      },
      {
        "duration": 199,
        "start_time": "2023-06-28T19:44:37.821Z"
      },
      {
        "duration": 12,
        "start_time": "2023-06-28T19:44:50.207Z"
      },
      {
        "duration": 9,
        "start_time": "2023-06-28T19:45:06.794Z"
      },
      {
        "duration": 4,
        "start_time": "2023-06-28T19:45:24.241Z"
      },
      {
        "duration": 19,
        "start_time": "2023-06-28T19:45:32.301Z"
      },
      {
        "duration": 17,
        "start_time": "2023-06-28T19:45:48.433Z"
      },
      {
        "duration": 6,
        "start_time": "2023-06-28T19:46:06.529Z"
      },
      {
        "duration": 4,
        "start_time": "2023-06-28T19:47:04.723Z"
      },
      {
        "duration": 8,
        "start_time": "2023-06-28T19:47:20.312Z"
      },
      {
        "duration": 182,
        "start_time": "2023-06-28T19:47:26.599Z"
      },
      {
        "duration": 212,
        "start_time": "2023-06-28T19:47:34.596Z"
      },
      {
        "duration": 220,
        "start_time": "2023-06-28T19:47:46.716Z"
      },
      {
        "duration": 4,
        "start_time": "2023-06-28T19:57:14.360Z"
      },
      {
        "duration": 158,
        "start_time": "2023-06-28T19:57:25.759Z"
      },
      {
        "duration": 276,
        "start_time": "2023-06-28T19:57:46.126Z"
      },
      {
        "duration": 196,
        "start_time": "2023-06-28T19:58:19.526Z"
      },
      {
        "duration": 251,
        "start_time": "2023-06-28T19:58:24.526Z"
      },
      {
        "duration": 258,
        "start_time": "2023-06-28T19:58:43.606Z"
      },
      {
        "duration": 202,
        "start_time": "2023-06-28T19:59:06.261Z"
      },
      {
        "duration": 361,
        "start_time": "2023-06-28T19:59:43.060Z"
      },
      {
        "duration": 268,
        "start_time": "2023-06-28T20:00:39.570Z"
      },
      {
        "duration": 264,
        "start_time": "2023-06-28T20:02:28.430Z"
      },
      {
        "duration": 230,
        "start_time": "2023-06-28T20:08:49.397Z"
      },
      {
        "duration": 408,
        "start_time": "2023-06-28T20:08:53.692Z"
      },
      {
        "duration": 211,
        "start_time": "2023-06-28T20:08:58.014Z"
      },
      {
        "duration": 274,
        "start_time": "2023-06-28T20:09:09.220Z"
      },
      {
        "duration": 6,
        "start_time": "2023-06-28T20:11:01.649Z"
      },
      {
        "duration": 9,
        "start_time": "2023-06-28T20:11:11.336Z"
      },
      {
        "duration": 11,
        "start_time": "2023-06-28T20:11:32.227Z"
      },
      {
        "duration": 17,
        "start_time": "2023-06-28T20:12:07.326Z"
      },
      {
        "duration": 9,
        "start_time": "2023-06-28T20:12:31.222Z"
      },
      {
        "duration": 10,
        "start_time": "2023-06-28T20:12:55.765Z"
      },
      {
        "duration": 72,
        "start_time": "2023-06-28T20:13:25.205Z"
      },
      {
        "duration": 10,
        "start_time": "2023-06-28T20:13:28.460Z"
      },
      {
        "duration": 8,
        "start_time": "2023-06-28T20:13:35.085Z"
      },
      {
        "duration": 394,
        "start_time": "2023-06-28T20:14:00.233Z"
      },
      {
        "duration": 64,
        "start_time": "2023-06-28T21:01:03.147Z"
      },
      {
        "duration": 50,
        "start_time": "2023-06-28T21:02:16.208Z"
      },
      {
        "duration": 26,
        "start_time": "2023-06-28T21:02:39.750Z"
      },
      {
        "duration": 66,
        "start_time": "2023-06-28T21:03:00.528Z"
      },
      {
        "duration": 37,
        "start_time": "2023-06-28T21:03:41.519Z"
      },
      {
        "duration": 492,
        "start_time": "2023-06-28T21:03:47.387Z"
      },
      {
        "duration": 86,
        "start_time": "2023-06-28T21:04:37.403Z"
      },
      {
        "duration": 621,
        "start_time": "2023-06-28T21:04:39.100Z"
      },
      {
        "duration": 423,
        "start_time": "2023-06-28T21:05:21.432Z"
      },
      {
        "duration": 19,
        "start_time": "2023-06-28T21:06:48.432Z"
      },
      {
        "duration": 22,
        "start_time": "2023-06-29T12:02:49.163Z"
      },
      {
        "duration": 3746,
        "start_time": "2023-06-29T12:02:53.173Z"
      },
      {
        "duration": 5,
        "start_time": "2023-06-29T12:02:56.922Z"
      },
      {
        "duration": 587,
        "start_time": "2023-06-29T12:02:56.929Z"
      },
      {
        "duration": 19,
        "start_time": "2023-06-29T12:02:57.519Z"
      },
      {
        "duration": 28,
        "start_time": "2023-06-29T12:02:57.541Z"
      },
      {
        "duration": 25,
        "start_time": "2023-06-29T12:02:57.573Z"
      },
      {
        "duration": 1206,
        "start_time": "2023-06-29T12:02:57.605Z"
      },
      {
        "duration": 380,
        "start_time": "2023-06-29T12:02:58.814Z"
      },
      {
        "duration": 364,
        "start_time": "2023-06-29T12:02:59.202Z"
      },
      {
        "duration": 28,
        "start_time": "2023-06-29T12:02:59.575Z"
      },
      {
        "duration": 359,
        "start_time": "2023-06-29T12:02:59.608Z"
      },
      {
        "duration": 6,
        "start_time": "2023-06-29T12:02:59.970Z"
      },
      {
        "duration": 234,
        "start_time": "2023-06-29T12:02:59.979Z"
      },
      {
        "duration": 19,
        "start_time": "2023-06-29T12:03:37.890Z"
      },
      {
        "duration": 46,
        "start_time": "2023-06-29T12:03:40.442Z"
      },
      {
        "duration": 9,
        "start_time": "2023-06-29T12:04:03.747Z"
      },
      {
        "duration": 13,
        "start_time": "2023-06-29T12:04:09.979Z"
      },
      {
        "duration": 5,
        "start_time": "2023-06-29T12:04:52.937Z"
      },
      {
        "duration": 7,
        "start_time": "2023-06-29T12:05:01.116Z"
      },
      {
        "duration": 47,
        "start_time": "2023-06-29T12:05:03.427Z"
      },
      {
        "duration": 14,
        "start_time": "2023-06-29T12:06:26.387Z"
      },
      {
        "duration": 91,
        "start_time": "2023-06-29T12:06:28.142Z"
      },
      {
        "duration": 1167,
        "start_time": "2023-06-29T12:08:01.183Z"
      },
      {
        "duration": 10,
        "start_time": "2023-06-29T12:08:16.871Z"
      },
      {
        "duration": 97,
        "start_time": "2023-06-29T12:08:19.204Z"
      },
      {
        "duration": 887,
        "start_time": "2023-06-29T12:08:25.294Z"
      },
      {
        "duration": 10,
        "start_time": "2023-06-29T12:09:20.560Z"
      },
      {
        "duration": 4,
        "start_time": "2023-06-29T12:09:20.584Z"
      },
      {
        "duration": 525,
        "start_time": "2023-06-29T12:09:20.591Z"
      },
      {
        "duration": 16,
        "start_time": "2023-06-29T12:09:21.119Z"
      },
      {
        "duration": 28,
        "start_time": "2023-06-29T12:09:21.138Z"
      },
      {
        "duration": 41,
        "start_time": "2023-06-29T12:09:21.172Z"
      },
      {
        "duration": 405,
        "start_time": "2023-06-29T12:09:21.216Z"
      },
      {
        "duration": 335,
        "start_time": "2023-06-29T12:09:21.628Z"
      },
      {
        "duration": 218,
        "start_time": "2023-06-29T12:09:21.971Z"
      },
      {
        "duration": 14,
        "start_time": "2023-06-29T12:09:22.191Z"
      },
      {
        "duration": 797,
        "start_time": "2023-06-29T12:09:22.208Z"
      },
      {
        "duration": 10,
        "start_time": "2023-06-29T12:09:25.243Z"
      },
      {
        "duration": 75,
        "start_time": "2023-06-29T12:09:28.527Z"
      },
      {
        "duration": 16,
        "start_time": "2023-06-29T12:10:36.751Z"
      },
      {
        "duration": 22,
        "start_time": "2023-06-29T12:10:36.772Z"
      },
      {
        "duration": 138,
        "start_time": "2023-06-29T12:10:36.798Z"
      },
      {
        "duration": 37,
        "start_time": "2023-06-29T12:10:36.939Z"
      },
      {
        "duration": 49,
        "start_time": "2023-06-29T12:10:36.985Z"
      },
      {
        "duration": 32,
        "start_time": "2023-06-29T12:10:37.043Z"
      },
      {
        "duration": 369,
        "start_time": "2023-06-29T12:10:37.083Z"
      },
      {
        "duration": 335,
        "start_time": "2023-06-29T12:10:37.455Z"
      },
      {
        "duration": 287,
        "start_time": "2023-06-29T12:10:37.793Z"
      },
      {
        "duration": 17,
        "start_time": "2023-06-29T12:10:38.083Z"
      },
      {
        "duration": 382,
        "start_time": "2023-06-29T12:10:38.103Z"
      },
      {
        "duration": 7,
        "start_time": "2023-06-29T12:10:38.488Z"
      },
      {
        "duration": 65,
        "start_time": "2023-06-29T12:10:38.498Z"
      },
      {
        "duration": 669,
        "start_time": "2023-06-29T12:11:26.224Z"
      },
      {
        "duration": 62,
        "start_time": "2023-06-29T12:11:51.949Z"
      },
      {
        "duration": 657,
        "start_time": "2023-06-29T12:11:53.285Z"
      },
      {
        "duration": 12,
        "start_time": "2023-06-29T12:13:51.651Z"
      },
      {
        "duration": 4,
        "start_time": "2023-06-29T12:13:51.666Z"
      },
      {
        "duration": 122,
        "start_time": "2023-06-29T12:13:51.673Z"
      },
      {
        "duration": 16,
        "start_time": "2023-06-29T12:13:51.798Z"
      },
      {
        "duration": 26,
        "start_time": "2023-06-29T12:13:51.818Z"
      },
      {
        "duration": 15,
        "start_time": "2023-06-29T12:13:51.852Z"
      },
      {
        "duration": 413,
        "start_time": "2023-06-29T12:13:51.874Z"
      },
      {
        "duration": 396,
        "start_time": "2023-06-29T12:13:52.295Z"
      },
      {
        "duration": 283,
        "start_time": "2023-06-29T12:13:52.699Z"
      },
      {
        "duration": 19,
        "start_time": "2023-06-29T12:13:52.989Z"
      },
      {
        "duration": 582,
        "start_time": "2023-06-29T12:13:53.015Z"
      },
      {
        "duration": 9,
        "start_time": "2023-06-29T12:13:53.605Z"
      },
      {
        "duration": 128,
        "start_time": "2023-06-29T12:13:53.620Z"
      },
      {
        "duration": 758,
        "start_time": "2023-06-29T12:13:55.652Z"
      },
      {
        "duration": 5,
        "start_time": "2023-06-29T12:17:07.431Z"
      },
      {
        "duration": 13,
        "start_time": "2023-06-29T12:17:07.440Z"
      },
      {
        "duration": 118,
        "start_time": "2023-06-29T12:17:07.459Z"
      },
      {
        "duration": 19,
        "start_time": "2023-06-29T12:17:07.584Z"
      },
      {
        "duration": 24,
        "start_time": "2023-06-29T12:17:07.611Z"
      },
      {
        "duration": 16,
        "start_time": "2023-06-29T12:17:07.643Z"
      },
      {
        "duration": 390,
        "start_time": "2023-06-29T12:17:07.666Z"
      },
      {
        "duration": 354,
        "start_time": "2023-06-29T12:17:08.063Z"
      },
      {
        "duration": 497,
        "start_time": "2023-06-29T12:17:08.433Z"
      },
      {
        "duration": 25,
        "start_time": "2023-06-29T12:17:08.943Z"
      },
      {
        "duration": 383,
        "start_time": "2023-06-29T12:17:08.978Z"
      },
      {
        "duration": 16,
        "start_time": "2023-06-29T12:17:09.369Z"
      },
      {
        "duration": 114,
        "start_time": "2023-06-29T12:17:09.396Z"
      },
      {
        "duration": 691,
        "start_time": "2023-06-29T12:17:09.517Z"
      },
      {
        "duration": 9,
        "start_time": "2023-06-29T12:18:53.630Z"
      },
      {
        "duration": 88,
        "start_time": "2023-06-29T12:18:55.383Z"
      },
      {
        "duration": 772,
        "start_time": "2023-06-29T12:19:06.703Z"
      },
      {
        "duration": 13,
        "start_time": "2023-06-29T12:19:29.472Z"
      },
      {
        "duration": 12,
        "start_time": "2023-06-29T12:19:29.489Z"
      },
      {
        "duration": 99,
        "start_time": "2023-06-29T12:19:29.504Z"
      },
      {
        "duration": 10,
        "start_time": "2023-06-29T12:19:29.606Z"
      },
      {
        "duration": 39,
        "start_time": "2023-06-29T12:19:29.620Z"
      },
      {
        "duration": 21,
        "start_time": "2023-06-29T12:19:29.661Z"
      },
      {
        "duration": 359,
        "start_time": "2023-06-29T12:19:29.685Z"
      },
      {
        "duration": 345,
        "start_time": "2023-06-29T12:19:30.047Z"
      },
      {
        "duration": 487,
        "start_time": "2023-06-29T12:19:30.404Z"
      },
      {
        "duration": 16,
        "start_time": "2023-06-29T12:19:30.894Z"
      },
      {
        "duration": 391,
        "start_time": "2023-06-29T12:19:30.913Z"
      },
      {
        "duration": 6,
        "start_time": "2023-06-29T12:19:31.306Z"
      },
      {
        "duration": 76,
        "start_time": "2023-06-29T12:19:31.474Z"
      },
      {
        "duration": 692,
        "start_time": "2023-06-29T12:19:33.249Z"
      },
      {
        "duration": 107,
        "start_time": "2023-06-29T12:20:21.896Z"
      },
      {
        "duration": 760,
        "start_time": "2023-06-29T12:20:24.125Z"
      },
      {
        "duration": 212,
        "start_time": "2023-06-29T13:15:06.725Z"
      },
      {
        "duration": 219,
        "start_time": "2023-06-29T13:16:36.844Z"
      },
      {
        "duration": 606,
        "start_time": "2023-06-29T13:16:39.681Z"
      },
      {
        "duration": 27,
        "start_time": "2023-06-29T13:17:13.107Z"
      },
      {
        "duration": 15,
        "start_time": "2023-06-29T13:17:43.222Z"
      },
      {
        "duration": 30,
        "start_time": "2023-06-29T13:17:59.710Z"
      },
      {
        "duration": 32,
        "start_time": "2023-06-29T13:18:09.735Z"
      },
      {
        "duration": 64,
        "start_time": "2023-06-29T13:18:39.765Z"
      },
      {
        "duration": 1139,
        "start_time": "2023-06-29T13:18:51.647Z"
      },
      {
        "duration": 677,
        "start_time": "2023-06-29T13:18:58.164Z"
      },
      {
        "duration": 6,
        "start_time": "2023-06-29T13:20:24.515Z"
      },
      {
        "duration": 32,
        "start_time": "2023-06-29T13:20:24.524Z"
      },
      {
        "duration": 97,
        "start_time": "2023-06-29T13:20:24.559Z"
      },
      {
        "duration": 11,
        "start_time": "2023-06-29T13:20:24.659Z"
      },
      {
        "duration": 48,
        "start_time": "2023-06-29T13:20:24.673Z"
      },
      {
        "duration": 27,
        "start_time": "2023-06-29T13:20:24.723Z"
      },
      {
        "duration": 401,
        "start_time": "2023-06-29T13:20:24.753Z"
      },
      {
        "duration": 370,
        "start_time": "2023-06-29T13:20:25.157Z"
      },
      {
        "duration": 273,
        "start_time": "2023-06-29T13:20:25.530Z"
      },
      {
        "duration": 17,
        "start_time": "2023-06-29T13:20:25.806Z"
      },
      {
        "duration": 415,
        "start_time": "2023-06-29T13:20:25.826Z"
      },
      {
        "duration": 7,
        "start_time": "2023-06-29T13:20:26.771Z"
      },
      {
        "duration": 121,
        "start_time": "2023-06-29T13:20:32.740Z"
      },
      {
        "duration": 603,
        "start_time": "2023-06-29T13:20:34.807Z"
      },
      {
        "duration": 19,
        "start_time": "2023-06-29T13:22:46.340Z"
      },
      {
        "duration": 239,
        "start_time": "2023-06-29T13:22:50.331Z"
      },
      {
        "duration": 121,
        "start_time": "2023-06-29T14:25:23.562Z"
      },
      {
        "duration": 5,
        "start_time": "2023-06-29T14:26:05.635Z"
      },
      {
        "duration": 1195,
        "start_time": "2023-06-29T14:26:16.389Z"
      },
      {
        "duration": 5,
        "start_time": "2023-06-29T14:26:44.690Z"
      },
      {
        "duration": 14,
        "start_time": "2023-06-29T14:26:54.083Z"
      },
      {
        "duration": 7,
        "start_time": "2023-06-29T14:36:17.306Z"
      },
      {
        "duration": 1826,
        "start_time": "2023-06-29T14:36:28.982Z"
      },
      {
        "duration": 4205,
        "start_time": "2023-06-29T14:37:10.304Z"
      },
      {
        "duration": 4125,
        "start_time": "2023-06-29T14:37:20.118Z"
      },
      {
        "duration": 1551,
        "start_time": "2023-06-29T14:37:39.998Z"
      },
      {
        "duration": 1785,
        "start_time": "2023-06-29T14:37:49.474Z"
      },
      {
        "duration": 291,
        "start_time": "2023-06-29T14:38:05.644Z"
      },
      {
        "duration": 1144,
        "start_time": "2023-06-29T14:38:09.132Z"
      },
      {
        "duration": 73,
        "start_time": "2023-06-29T14:39:10.005Z"
      },
      {
        "duration": 8030,
        "start_time": "2023-06-29T14:39:19.027Z"
      },
      {
        "duration": 13100,
        "start_time": "2023-06-29T14:39:35.936Z"
      },
      {
        "duration": 199179,
        "start_time": "2023-06-29T14:43:18.871Z"
      },
      {
        "duration": 5,
        "start_time": "2023-06-29T14:46:38.054Z"
      },
      {
        "duration": 61372,
        "start_time": "2023-06-29T14:46:38.064Z"
      },
      {
        "duration": 10,
        "start_time": "2023-06-29T14:47:39.438Z"
      },
      {
        "duration": 548486,
        "start_time": "2023-06-29T14:47:39.450Z"
      },
      {
        "duration": 95,
        "start_time": "2023-06-29T14:56:55.409Z"
      },
      {
        "duration": 330574,
        "start_time": "2023-06-29T14:57:01.242Z"
      },
      {
        "duration": 316994,
        "start_time": "2023-06-29T15:02:31.819Z"
      },
      {
        "duration": 4,
        "start_time": "2023-06-29T15:10:13.934Z"
      },
      {
        "duration": 88434,
        "start_time": "2023-06-29T15:10:14.635Z"
      },
      {
        "duration": 24,
        "start_time": "2023-06-29T15:12:25.675Z"
      },
      {
        "duration": 157922,
        "start_time": "2023-06-29T15:13:18.035Z"
      },
      {
        "duration": 139556,
        "start_time": "2023-06-29T15:17:20.532Z"
      },
      {
        "duration": 18,
        "start_time": "2023-06-29T15:19:40.096Z"
      },
      {
        "duration": 0,
        "start_time": "2023-06-29T15:19:40.116Z"
      },
      {
        "duration": 36,
        "start_time": "2023-06-29T15:20:35.385Z"
      },
      {
        "duration": 28,
        "start_time": "2023-06-29T15:20:45.477Z"
      },
      {
        "duration": 18,
        "start_time": "2023-06-29T15:20:49.908Z"
      },
      {
        "duration": 5,
        "start_time": "2023-06-29T15:20:55.671Z"
      },
      {
        "duration": 85365,
        "start_time": "2023-06-29T15:20:56.388Z"
      },
      {
        "duration": 15,
        "start_time": "2023-06-29T15:22:21.755Z"
      },
      {
        "duration": 378900,
        "start_time": "2023-06-29T15:22:21.773Z"
      },
      {
        "duration": 0,
        "start_time": "2023-06-29T15:28:40.683Z"
      },
      {
        "duration": 5,
        "start_time": "2023-06-29T15:28:51.534Z"
      },
      {
        "duration": 7,
        "start_time": "2023-06-29T15:28:51.542Z"
      },
      {
        "duration": 95,
        "start_time": "2023-06-29T15:28:51.551Z"
      },
      {
        "duration": 12,
        "start_time": "2023-06-29T15:28:51.649Z"
      },
      {
        "duration": 23,
        "start_time": "2023-06-29T15:28:51.673Z"
      },
      {
        "duration": 10,
        "start_time": "2023-06-29T15:28:51.703Z"
      },
      {
        "duration": 332,
        "start_time": "2023-06-29T15:28:51.716Z"
      },
      {
        "duration": 267,
        "start_time": "2023-06-29T15:28:52.050Z"
      },
      {
        "duration": 251,
        "start_time": "2023-06-29T15:28:52.320Z"
      },
      {
        "duration": 17,
        "start_time": "2023-06-29T15:28:52.573Z"
      },
      {
        "duration": 354,
        "start_time": "2023-06-29T15:28:52.594Z"
      },
      {
        "duration": 7,
        "start_time": "2023-06-29T15:28:52.950Z"
      },
      {
        "duration": 113,
        "start_time": "2023-06-29T15:28:52.966Z"
      },
      {
        "duration": 651,
        "start_time": "2023-06-29T15:28:53.084Z"
      },
      {
        "duration": 638,
        "start_time": "2023-06-29T15:28:53.737Z"
      },
      {
        "duration": 15,
        "start_time": "2023-06-29T15:28:54.378Z"
      },
      {
        "duration": 3495,
        "start_time": "2023-06-29T15:28:54.395Z"
      },
      {
        "duration": 1891,
        "start_time": "2023-06-29T15:28:57.893Z"
      },
      {
        "duration": 131327,
        "start_time": "2023-06-29T15:28:59.795Z"
      },
      {
        "duration": 38,
        "start_time": "2023-06-29T15:31:11.124Z"
      },
      {
        "duration": 9,
        "start_time": "2023-06-29T15:31:11.167Z"
      },
      {
        "duration": 74465,
        "start_time": "2023-06-29T15:31:11.187Z"
      },
      {
        "duration": 25,
        "start_time": "2023-06-29T15:32:25.659Z"
      },
      {
        "duration": 348495,
        "start_time": "2023-06-29T15:32:25.686Z"
      },
      {
        "duration": 1108233,
        "start_time": "2023-06-29T15:38:14.187Z"
      },
      {
        "duration": 0,
        "start_time": "2023-06-29T15:56:42.427Z"
      },
      {
        "duration": 0,
        "start_time": "2023-06-29T15:56:42.434Z"
      },
      {
        "duration": 424,
        "start_time": "2023-06-29T15:56:44.881Z"
      },
      {
        "duration": 48,
        "start_time": "2023-06-29T15:56:45.349Z"
      },
      {
        "duration": 102471,
        "start_time": "2023-06-29T15:58:16.484Z"
      },
      {
        "duration": 98747,
        "start_time": "2023-06-29T16:01:54.224Z"
      },
      {
        "duration": 228,
        "start_time": "2023-06-29T16:03:36.310Z"
      },
      {
        "duration": 5599,
        "start_time": "2023-06-29T16:05:25.418Z"
      },
      {
        "duration": 5,
        "start_time": "2023-06-29T16:05:45.243Z"
      },
      {
        "duration": 26,
        "start_time": "2023-06-29T16:05:45.251Z"
      },
      {
        "duration": 112,
        "start_time": "2023-06-29T16:05:45.284Z"
      },
      {
        "duration": 14,
        "start_time": "2023-06-29T16:05:45.401Z"
      },
      {
        "duration": 24,
        "start_time": "2023-06-29T16:05:45.418Z"
      },
      {
        "duration": 32,
        "start_time": "2023-06-29T16:05:45.445Z"
      },
      {
        "duration": 535,
        "start_time": "2023-06-29T16:05:45.483Z"
      },
      {
        "duration": 258,
        "start_time": "2023-06-29T16:05:46.020Z"
      },
      {
        "duration": 216,
        "start_time": "2023-06-29T16:05:46.280Z"
      },
      {
        "duration": 13,
        "start_time": "2023-06-29T16:05:46.498Z"
      },
      {
        "duration": 319,
        "start_time": "2023-06-29T16:05:46.513Z"
      },
      {
        "duration": 174,
        "start_time": "2023-06-29T16:05:51.612Z"
      },
      {
        "duration": 175,
        "start_time": "2023-06-29T16:06:09.737Z"
      },
      {
        "duration": 167,
        "start_time": "2023-06-29T16:06:22.685Z"
      },
      {
        "duration": 224,
        "start_time": "2023-06-29T16:06:32.639Z"
      },
      {
        "duration": 183,
        "start_time": "2023-06-29T16:06:49.142Z"
      },
      {
        "duration": 242,
        "start_time": "2023-06-29T16:07:01.901Z"
      },
      {
        "duration": 192,
        "start_time": "2023-06-29T16:08:04.809Z"
      },
      {
        "duration": 10,
        "start_time": "2023-06-29T16:08:38.379Z"
      },
      {
        "duration": 196,
        "start_time": "2023-06-29T16:08:41.836Z"
      },
      {
        "duration": 14,
        "start_time": "2023-06-29T16:08:49.178Z"
      },
      {
        "duration": 10,
        "start_time": "2023-06-29T16:08:49.195Z"
      },
      {
        "duration": 110,
        "start_time": "2023-06-29T16:08:49.207Z"
      },
      {
        "duration": 623,
        "start_time": "2023-06-29T16:08:49.319Z"
      },
      {
        "duration": 370,
        "start_time": "2023-06-29T16:08:49.944Z"
      },
      {
        "duration": 17,
        "start_time": "2023-06-29T16:08:50.317Z"
      },
      {
        "duration": 7120,
        "start_time": "2023-06-29T16:08:50.336Z"
      },
      {
        "duration": 1353,
        "start_time": "2023-06-29T16:08:57.459Z"
      },
      {
        "duration": 70354,
        "start_time": "2023-06-29T16:08:58.818Z"
      },
      {
        "duration": 24,
        "start_time": "2023-06-29T16:10:09.179Z"
      },
      {
        "duration": 6,
        "start_time": "2023-06-29T16:10:09.211Z"
      },
      {
        "duration": 73093,
        "start_time": "2023-06-29T16:10:09.219Z"
      },
      {
        "duration": 27,
        "start_time": "2023-06-29T16:11:22.314Z"
      },
      {
        "duration": 0,
        "start_time": "2023-06-29T16:11:22.343Z"
      },
      {
        "duration": 0,
        "start_time": "2023-06-29T16:11:22.345Z"
      },
      {
        "duration": 0,
        "start_time": "2023-06-29T16:11:22.346Z"
      },
      {
        "duration": 63,
        "start_time": "2023-06-29T16:13:05.684Z"
      },
      {
        "duration": 79,
        "start_time": "2023-06-29T16:14:00.411Z"
      },
      {
        "duration": 14,
        "start_time": "2023-06-29T16:14:11.009Z"
      },
      {
        "duration": 47,
        "start_time": "2023-06-29T16:14:16.310Z"
      },
      {
        "duration": 41,
        "start_time": "2023-06-29T16:14:19.849Z"
      },
      {
        "duration": 11,
        "start_time": "2023-06-29T16:15:05.176Z"
      },
      {
        "duration": 4,
        "start_time": "2023-06-29T16:15:05.190Z"
      },
      {
        "duration": 94,
        "start_time": "2023-06-29T16:15:05.196Z"
      },
      {
        "duration": 9,
        "start_time": "2023-06-29T16:15:05.294Z"
      },
      {
        "duration": 20,
        "start_time": "2023-06-29T16:15:05.305Z"
      },
      {
        "duration": 13,
        "start_time": "2023-06-29T16:15:05.327Z"
      },
      {
        "duration": 330,
        "start_time": "2023-06-29T16:15:05.342Z"
      },
      {
        "duration": 296,
        "start_time": "2023-06-29T16:15:05.674Z"
      },
      {
        "duration": 185,
        "start_time": "2023-06-29T16:15:05.972Z"
      },
      {
        "duration": 16,
        "start_time": "2023-06-29T16:15:06.160Z"
      },
      {
        "duration": 274,
        "start_time": "2023-06-29T16:15:06.178Z"
      },
      {
        "duration": 214,
        "start_time": "2023-06-29T16:15:06.464Z"
      },
      {
        "duration": 208,
        "start_time": "2023-06-29T16:15:06.680Z"
      },
      {
        "duration": 6,
        "start_time": "2023-06-29T16:15:06.890Z"
      },
      {
        "duration": 12,
        "start_time": "2023-06-29T16:15:07.451Z"
      },
      {
        "duration": 94,
        "start_time": "2023-06-29T16:15:14.897Z"
      },
      {
        "duration": 35,
        "start_time": "2023-06-29T16:15:41.689Z"
      },
      {
        "duration": 33,
        "start_time": "2023-06-29T16:15:46.765Z"
      },
      {
        "duration": 34,
        "start_time": "2023-06-29T16:16:01.511Z"
      },
      {
        "duration": 36,
        "start_time": "2023-06-29T16:16:15.798Z"
      },
      {
        "duration": 31,
        "start_time": "2023-06-29T16:17:35.492Z"
      },
      {
        "duration": 39,
        "start_time": "2023-06-29T16:18:01.682Z"
      },
      {
        "duration": 61,
        "start_time": "2023-06-29T16:19:05.628Z"
      },
      {
        "duration": 56,
        "start_time": "2023-06-29T16:19:14.234Z"
      },
      {
        "duration": 1370,
        "start_time": "2023-06-29T16:19:41.345Z"
      },
      {
        "duration": 61,
        "start_time": "2023-06-29T16:19:48.079Z"
      },
      {
        "duration": 18,
        "start_time": "2023-06-29T16:20:43.506Z"
      },
      {
        "duration": 10,
        "start_time": "2023-06-29T16:21:01.948Z"
      },
      {
        "duration": 66,
        "start_time": "2023-06-29T16:21:01.962Z"
      },
      {
        "duration": 102,
        "start_time": "2023-06-29T16:21:02.030Z"
      },
      {
        "duration": 8,
        "start_time": "2023-06-29T16:21:02.134Z"
      },
      {
        "duration": 45,
        "start_time": "2023-06-29T16:21:02.145Z"
      },
      {
        "duration": 12,
        "start_time": "2023-06-29T16:21:02.192Z"
      },
      {
        "duration": 411,
        "start_time": "2023-06-29T16:21:02.206Z"
      },
      {
        "duration": 256,
        "start_time": "2023-06-29T16:21:02.621Z"
      },
      {
        "duration": 200,
        "start_time": "2023-06-29T16:21:02.879Z"
      },
      {
        "duration": 18,
        "start_time": "2023-06-29T16:21:03.085Z"
      },
      {
        "duration": 302,
        "start_time": "2023-06-29T16:21:03.106Z"
      },
      {
        "duration": 195,
        "start_time": "2023-06-29T16:21:03.410Z"
      },
      {
        "duration": 206,
        "start_time": "2023-06-29T16:21:03.607Z"
      },
      {
        "duration": 17,
        "start_time": "2023-06-29T16:21:03.816Z"
      },
      {
        "duration": 19,
        "start_time": "2023-06-29T16:21:08.788Z"
      },
      {
        "duration": 11,
        "start_time": "2023-06-29T16:22:15.625Z"
      },
      {
        "duration": 28,
        "start_time": "2023-06-29T16:22:21.877Z"
      },
      {
        "duration": 16,
        "start_time": "2023-06-29T16:22:28.915Z"
      },
      {
        "duration": 23,
        "start_time": "2023-06-29T16:22:39.180Z"
      },
      {
        "duration": 11,
        "start_time": "2023-06-29T16:23:23.650Z"
      },
      {
        "duration": 20,
        "start_time": "2023-06-29T16:23:23.664Z"
      },
      {
        "duration": 61,
        "start_time": "2023-06-29T16:23:23.688Z"
      },
      {
        "duration": 14,
        "start_time": "2023-06-29T16:23:23.751Z"
      },
      {
        "duration": 20,
        "start_time": "2023-06-29T16:23:23.769Z"
      },
      {
        "duration": 8,
        "start_time": "2023-06-29T16:23:23.796Z"
      },
      {
        "duration": 267,
        "start_time": "2023-06-29T16:23:23.806Z"
      },
      {
        "duration": 243,
        "start_time": "2023-06-29T16:23:24.075Z"
      },
      {
        "duration": 481,
        "start_time": "2023-06-29T16:23:24.320Z"
      },
      {
        "duration": 12,
        "start_time": "2023-06-29T16:23:24.805Z"
      },
      {
        "duration": 300,
        "start_time": "2023-06-29T16:23:24.819Z"
      },
      {
        "duration": 225,
        "start_time": "2023-06-29T16:23:25.121Z"
      },
      {
        "duration": 228,
        "start_time": "2023-06-29T16:23:25.349Z"
      },
      {
        "duration": 36,
        "start_time": "2023-06-29T16:23:25.592Z"
      },
      {
        "duration": 17,
        "start_time": "2023-06-29T16:23:58.442Z"
      },
      {
        "duration": 5,
        "start_time": "2023-06-29T16:24:43.329Z"
      },
      {
        "duration": 28,
        "start_time": "2023-06-29T16:24:49.981Z"
      },
      {
        "duration": 9,
        "start_time": "2023-06-29T16:25:08.880Z"
      },
      {
        "duration": 7,
        "start_time": "2023-06-29T16:25:23.928Z"
      },
      {
        "duration": 10,
        "start_time": "2023-06-29T16:25:27.647Z"
      },
      {
        "duration": 124,
        "start_time": "2023-06-29T16:25:33.176Z"
      },
      {
        "duration": 21,
        "start_time": "2023-06-29T16:25:48.811Z"
      },
      {
        "duration": 20,
        "start_time": "2023-06-29T16:26:07.931Z"
      },
      {
        "duration": 3959,
        "start_time": "2023-06-29T16:26:07.954Z"
      },
      {
        "duration": 2863,
        "start_time": "2023-06-29T16:26:11.926Z"
      },
      {
        "duration": 69733,
        "start_time": "2023-06-29T16:26:14.793Z"
      },
      {
        "duration": 15,
        "start_time": "2023-06-29T16:27:24.536Z"
      },
      {
        "duration": 12,
        "start_time": "2023-06-29T16:27:24.552Z"
      },
      {
        "duration": 72028,
        "start_time": "2023-06-29T16:27:24.575Z"
      },
      {
        "duration": 26,
        "start_time": "2023-06-29T16:28:36.605Z"
      },
      {
        "duration": 11,
        "start_time": "2023-06-29T16:28:36.634Z"
      },
      {
        "duration": 363691,
        "start_time": "2023-06-29T16:28:36.648Z"
      },
      {
        "duration": 716884,
        "start_time": "2023-06-29T16:34:40.342Z"
      },
      {
        "duration": 310,
        "start_time": "2023-06-29T16:46:37.228Z"
      },
      {
        "duration": 218,
        "start_time": "2023-06-29T16:54:25.394Z"
      },
      {
        "duration": 15,
        "start_time": "2023-06-29T16:56:09.082Z"
      },
      {
        "duration": 7,
        "start_time": "2023-06-29T16:56:39.516Z"
      },
      {
        "duration": 1414,
        "start_time": "2023-06-30T17:25:39.940Z"
      },
      {
        "duration": 3,
        "start_time": "2023-06-30T17:25:41.356Z"
      },
      {
        "duration": 318,
        "start_time": "2023-06-30T17:25:41.360Z"
      },
      {
        "duration": 13,
        "start_time": "2023-06-30T17:25:41.680Z"
      },
      {
        "duration": 13,
        "start_time": "2023-06-30T17:25:41.694Z"
      },
      {
        "duration": 12,
        "start_time": "2023-06-30T17:25:41.709Z"
      },
      {
        "duration": 547,
        "start_time": "2023-06-30T17:25:41.723Z"
      },
      {
        "duration": 228,
        "start_time": "2023-06-30T17:25:42.272Z"
      },
      {
        "duration": 238,
        "start_time": "2023-06-30T17:25:42.501Z"
      },
      {
        "duration": 11,
        "start_time": "2023-06-30T17:25:42.742Z"
      },
      {
        "duration": 241,
        "start_time": "2023-06-30T17:25:42.754Z"
      },
      {
        "duration": 2,
        "start_time": "2023-06-30T17:25:42.997Z"
      },
      {
        "duration": 13,
        "start_time": "2023-06-30T17:25:43.001Z"
      },
      {
        "duration": 4,
        "start_time": "2023-06-30T17:25:43.016Z"
      },
      {
        "duration": 72,
        "start_time": "2023-06-30T17:25:43.022Z"
      },
      {
        "duration": 645,
        "start_time": "2023-06-30T17:25:43.095Z"
      },
      {
        "duration": 386,
        "start_time": "2023-06-30T17:25:43.742Z"
      },
      {
        "duration": 621,
        "start_time": "2023-06-30T17:26:01.810Z"
      },
      {
        "duration": 517,
        "start_time": "2023-06-30T17:26:54.196Z"
      },
      {
        "duration": 600,
        "start_time": "2023-06-30T17:26:59.010Z"
      },
      {
        "duration": 494,
        "start_time": "2023-06-30T17:27:03.711Z"
      },
      {
        "duration": 517,
        "start_time": "2023-06-30T17:27:31.696Z"
      },
      {
        "duration": 911,
        "start_time": "2023-06-30T17:29:39.085Z"
      },
      {
        "duration": 5,
        "start_time": "2023-06-30T17:40:31.987Z"
      },
      {
        "duration": 52,
        "start_time": "2023-06-30T17:40:37.520Z"
      },
      {
        "duration": 896,
        "start_time": "2023-06-30T17:40:42.113Z"
      },
      {
        "duration": 2112,
        "start_time": "2023-06-30T17:41:33.399Z"
      },
      {
        "duration": 422,
        "start_time": "2023-06-30T17:42:36.007Z"
      },
      {
        "duration": 16,
        "start_time": "2023-06-30T17:42:49.675Z"
      },
      {
        "duration": 1215,
        "start_time": "2023-06-30T17:42:53.901Z"
      },
      {
        "duration": 11,
        "start_time": "2023-06-30T17:43:58.925Z"
      },
      {
        "duration": 12,
        "start_time": "2023-06-30T17:44:51.858Z"
      },
      {
        "duration": 14,
        "start_time": "2023-06-30T17:47:00.662Z"
      },
      {
        "duration": 74,
        "start_time": "2023-06-30T17:47:00.678Z"
      },
      {
        "duration": 54893,
        "start_time": "2023-06-30T17:47:00.754Z"
      },
      {
        "duration": 14,
        "start_time": "2023-06-30T17:47:55.650Z"
      },
      {
        "duration": 251678,
        "start_time": "2023-06-30T17:47:55.666Z"
      },
      {
        "duration": 4681,
        "start_time": "2023-06-30T17:52:07.345Z"
      },
      {
        "duration": 91,
        "start_time": "2023-06-30T17:52:12.027Z"
      },
      {
        "duration": 0,
        "start_time": "2023-06-30T17:52:12.119Z"
      },
      {
        "duration": 0,
        "start_time": "2023-06-30T17:52:12.120Z"
      },
      {
        "duration": 11,
        "start_time": "2023-06-30T17:55:15.105Z"
      },
      {
        "duration": 735,
        "start_time": "2023-06-30T17:55:27.349Z"
      },
      {
        "duration": 52738,
        "start_time": "2023-06-30T17:55:29.710Z"
      },
      {
        "duration": 188,
        "start_time": "2023-06-30T17:56:22.450Z"
      },
      {
        "duration": 6,
        "start_time": "2023-06-30T18:04:48.303Z"
      }
    ],
    "kernelspec": {
      "display_name": "Python 3 (ipykernel)",
      "language": "python",
      "name": "python3"
    },
    "language_info": {
      "codemirror_mode": {
        "name": "ipython",
        "version": 3
      },
      "file_extension": ".py",
      "mimetype": "text/x-python",
      "name": "python",
      "nbconvert_exporter": "python",
      "pygments_lexer": "ipython3",
      "version": "3.9.5"
    },
    "toc": {
      "base_numbering": 1,
      "nav_menu": {},
      "number_sections": true,
      "sideBar": true,
      "skip_h1_title": true,
      "title_cell": "Содержание",
      "title_sidebar": "Contents",
      "toc_cell": true,
      "toc_position": {},
      "toc_section_display": true,
      "toc_window_display": false
    },
    "colab": {
      "provenance": []
    }
  },
  "nbformat": 4,
  "nbformat_minor": 0
}
