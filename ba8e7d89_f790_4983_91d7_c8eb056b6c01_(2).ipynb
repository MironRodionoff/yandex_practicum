{
  "cells": [
    {
      "cell_type": "markdown",
      "metadata": {
        "toc": true,
        "id": "HpfqRhDACNsC"
      },
      "source": [
        "<h1>Содержание<span class=\"tocSkip\"></span></h1>\n",
        "<div class=\"toc\"><ul class=\"toc-item\"><li><span><a href=\"#Подготовка\" data-toc-modified-id=\"Подготовка-1\"><span class=\"toc-item-num\">1&nbsp;&nbsp;</span>Подготовка</a></span></li><li><span><a href=\"#Обучение\" data-toc-modified-id=\"Обучение-2\"><span class=\"toc-item-num\">2&nbsp;&nbsp;</span>Обучение</a></span><ul class=\"toc-item\"><li><span><a href=\"#Логистическая-Регрессия\" data-toc-modified-id=\"Логистическая-Регрессия-2.1\"><span class=\"toc-item-num\">2.1&nbsp;&nbsp;</span>Логистическая Регрессия</a></span></li><li><span><a href=\"#Catboost\" data-toc-modified-id=\"Catboost-2.2\"><span class=\"toc-item-num\">2.2&nbsp;&nbsp;</span>Catboost</a></span></li><li><span><a href=\"#LightGBM\" data-toc-modified-id=\"LightGBM-2.3\"><span class=\"toc-item-num\">2.3&nbsp;&nbsp;</span>LightGBM</a></span></li></ul></li><li><span><a href=\"#Тестирование\" data-toc-modified-id=\"Тестирование-3\"><span class=\"toc-item-num\">3&nbsp;&nbsp;</span>Тестирование</a></span></li><li><span><a href=\"#Выводы\" data-toc-modified-id=\"Выводы-4\"><span class=\"toc-item-num\">4&nbsp;&nbsp;</span>Выводы</a></span></li>"
      ]
    },
    {
      "cell_type": "markdown",
      "metadata": {
        "id": "7aAY1y-kCNsG"
      },
      "source": [
        "# ML для текста\n",
        "## Поиск токсичных комментариев"
      ]
    },
    {
      "cell_type": "markdown",
      "metadata": {
        "id": "xQy9u_1SCNsH"
      },
      "source": [
        "Интернет-магазину нужен инструмент, который будет искать токсичные комментарии и отправлять их на модерацию.\n",
        "\n",
        "Обучим модель классифицировать комментарии на позитивные и негативные. В нашем распоряжении набор данных с разметкой о токсичности правок.\n",
        "\n",
        "Построим модель со значением метрики качества *F1* не меньше 0.7.\n",
        "\n",
        "Данные находятся в файле `toxic_comments.csv`. Столбец *text* в нём содержит текст комментария, а *toxic* — целевой признак."
      ]
    },
    {
      "cell_type": "markdown",
      "source": [
        "## План работы:\n",
        "\n",
        "\n",
        "*   Очистка текста\n",
        "*   Лемматизация\n",
        "*   Токенизация и обучение моделей с помощью pipeline\n",
        "*   Выбор лучшей модели и тестирование\n",
        "\n"
      ],
      "metadata": {
        "id": "32Plcc2RgY2K"
      }
    },
    {
      "cell_type": "markdown",
      "metadata": {
        "id": "escDSj2dCNsI"
      },
      "source": [
        "## Подготовка"
      ]
    },
    {
      "cell_type": "code",
      "source": [
        "!pip3 install catboost"
      ],
      "metadata": {
        "id": "XiLci4ELC1Wp"
      },
      "execution_count": null,
      "outputs": []
    },
    {
      "cell_type": "code",
      "execution_count": null,
      "metadata": {
        "id": "bWSfu-XDCNsJ"
      },
      "outputs": [],
      "source": [
        "import numpy as np\n",
        "import pandas as pd\n",
        "\n",
        "import re\n",
        "import nltk\n",
        "from nltk.stem import WordNetLemmatizer\n",
        "from nltk.corpus import stopwords\n",
        "from nltk.corpus import wordnet\n",
        "nltk.download('averaged_perceptron_tagger')\n",
        "nltk.download('wordnet')\n",
        "nltk.download('punkt')\n",
        "\n",
        "import sklearn\n",
        "from sklearn.feature_extraction.text import CountVectorizer, TfidfVectorizer\n",
        "from sklearn.linear_model import LogisticRegression\n",
        "from sklearn.model_selection import cross_val_score\n",
        "from sklearn.model_selection import train_test_split, GridSearchCV\n",
        "from sklearn.pipeline import Pipeline\n",
        "from sklearn.metrics import f1_score\n",
        "\n",
        "from catboost import CatBoostClassifier\n",
        "from lightgbm import LGBMClassifier\n",
        "\n",
        "import random\n",
        "seed = random.seed(0)\n",
        "\n",
        "import warnings\n",
        "warnings.filterwarnings(\"ignore\")\n",
        "\n",
        "from tqdm import notebook"
      ]
    },
    {
      "cell_type": "code",
      "execution_count": 6,
      "metadata": {
        "colab": {
          "base_uri": "https://localhost:8080/"
        },
        "id": "oNFWOcctCNsL",
        "outputId": "2e41f9ce-7c3c-45e9-d85f-eb6e691164fe"
      },
      "outputs": [
        {
          "output_type": "stream",
          "name": "stdout",
          "text": [
            "<class 'pandas.core.frame.DataFrame'>\n",
            "RangeIndex: 100000 entries, 0 to 99999\n",
            "Data columns (total 2 columns):\n",
            " #   Column  Non-Null Count   Dtype \n",
            "---  ------  --------------   ----- \n",
            " 0   text    100000 non-null  object\n",
            " 1   toxic   100000 non-null  int64 \n",
            "dtypes: int64(1), object(1)\n",
            "memory usage: 1.5+ MB\n"
          ]
        }
      ],
      "source": [
        "df = pd.read_csv('/content/toxic_comments.csv', index_col=[0]).sample(100000).reset_index(drop=True)\n",
        "df.info()"
      ]
    },
    {
      "cell_type": "code",
      "execution_count": 7,
      "metadata": {
        "colab": {
          "base_uri": "https://localhost:8080/",
          "height": 206
        },
        "id": "gHGqJJU7CNsM",
        "outputId": "d9d6926f-6d09-4b18-e6c5-b66378879f47"
      },
      "outputs": [
        {
          "output_type": "execute_result",
          "data": {
            "text/plain": [
              "                                                text  toxic\n",
              "0  It's quite a funny coincidence that all of the...      0\n",
              "1  That is EXACTLY why I asked so vehemently to b...      0\n",
              "2  \"\\n\\nsimple reading of the Act would explain:\\...      0\n",
              "3        To the attention of mr. W. Waggel s.s.t.t.:      0\n",
              "4                     What rule did i break exactly?      0"
            ],
            "text/html": [
              "\n",
              "  <div id=\"df-93b01cc1-1caf-48fd-af93-796945d4c0e9\" class=\"colab-df-container\">\n",
              "    <div>\n",
              "<style scoped>\n",
              "    .dataframe tbody tr th:only-of-type {\n",
              "        vertical-align: middle;\n",
              "    }\n",
              "\n",
              "    .dataframe tbody tr th {\n",
              "        vertical-align: top;\n",
              "    }\n",
              "\n",
              "    .dataframe thead th {\n",
              "        text-align: right;\n",
              "    }\n",
              "</style>\n",
              "<table border=\"1\" class=\"dataframe\">\n",
              "  <thead>\n",
              "    <tr style=\"text-align: right;\">\n",
              "      <th></th>\n",
              "      <th>text</th>\n",
              "      <th>toxic</th>\n",
              "    </tr>\n",
              "  </thead>\n",
              "  <tbody>\n",
              "    <tr>\n",
              "      <th>0</th>\n",
              "      <td>It's quite a funny coincidence that all of the...</td>\n",
              "      <td>0</td>\n",
              "    </tr>\n",
              "    <tr>\n",
              "      <th>1</th>\n",
              "      <td>That is EXACTLY why I asked so vehemently to b...</td>\n",
              "      <td>0</td>\n",
              "    </tr>\n",
              "    <tr>\n",
              "      <th>2</th>\n",
              "      <td>\"\\n\\nsimple reading of the Act would explain:\\...</td>\n",
              "      <td>0</td>\n",
              "    </tr>\n",
              "    <tr>\n",
              "      <th>3</th>\n",
              "      <td>To the attention of mr. W. Waggel s.s.t.t.:</td>\n",
              "      <td>0</td>\n",
              "    </tr>\n",
              "    <tr>\n",
              "      <th>4</th>\n",
              "      <td>What rule did i break exactly?</td>\n",
              "      <td>0</td>\n",
              "    </tr>\n",
              "  </tbody>\n",
              "</table>\n",
              "</div>\n",
              "    <div class=\"colab-df-buttons\">\n",
              "\n",
              "  <div class=\"colab-df-container\">\n",
              "    <button class=\"colab-df-convert\" onclick=\"convertToInteractive('df-93b01cc1-1caf-48fd-af93-796945d4c0e9')\"\n",
              "            title=\"Convert this dataframe to an interactive table.\"\n",
              "            style=\"display:none;\">\n",
              "\n",
              "  <svg xmlns=\"http://www.w3.org/2000/svg\" height=\"24px\" viewBox=\"0 -960 960 960\">\n",
              "    <path d=\"M120-120v-720h720v720H120Zm60-500h600v-160H180v160Zm220 220h160v-160H400v160Zm0 220h160v-160H400v160ZM180-400h160v-160H180v160Zm440 0h160v-160H620v160ZM180-180h160v-160H180v160Zm440 0h160v-160H620v160Z\"/>\n",
              "  </svg>\n",
              "    </button>\n",
              "\n",
              "  <style>\n",
              "    .colab-df-container {\n",
              "      display:flex;\n",
              "      gap: 12px;\n",
              "    }\n",
              "\n",
              "    .colab-df-convert {\n",
              "      background-color: #E8F0FE;\n",
              "      border: none;\n",
              "      border-radius: 50%;\n",
              "      cursor: pointer;\n",
              "      display: none;\n",
              "      fill: #1967D2;\n",
              "      height: 32px;\n",
              "      padding: 0 0 0 0;\n",
              "      width: 32px;\n",
              "    }\n",
              "\n",
              "    .colab-df-convert:hover {\n",
              "      background-color: #E2EBFA;\n",
              "      box-shadow: 0px 1px 2px rgba(60, 64, 67, 0.3), 0px 1px 3px 1px rgba(60, 64, 67, 0.15);\n",
              "      fill: #174EA6;\n",
              "    }\n",
              "\n",
              "    .colab-df-buttons div {\n",
              "      margin-bottom: 4px;\n",
              "    }\n",
              "\n",
              "    [theme=dark] .colab-df-convert {\n",
              "      background-color: #3B4455;\n",
              "      fill: #D2E3FC;\n",
              "    }\n",
              "\n",
              "    [theme=dark] .colab-df-convert:hover {\n",
              "      background-color: #434B5C;\n",
              "      box-shadow: 0px 1px 3px 1px rgba(0, 0, 0, 0.15);\n",
              "      filter: drop-shadow(0px 1px 2px rgba(0, 0, 0, 0.3));\n",
              "      fill: #FFFFFF;\n",
              "    }\n",
              "  </style>\n",
              "\n",
              "    <script>\n",
              "      const buttonEl =\n",
              "        document.querySelector('#df-93b01cc1-1caf-48fd-af93-796945d4c0e9 button.colab-df-convert');\n",
              "      buttonEl.style.display =\n",
              "        google.colab.kernel.accessAllowed ? 'block' : 'none';\n",
              "\n",
              "      async function convertToInteractive(key) {\n",
              "        const element = document.querySelector('#df-93b01cc1-1caf-48fd-af93-796945d4c0e9');\n",
              "        const dataTable =\n",
              "          await google.colab.kernel.invokeFunction('convertToInteractive',\n",
              "                                                    [key], {});\n",
              "        if (!dataTable) return;\n",
              "\n",
              "        const docLinkHtml = 'Like what you see? Visit the ' +\n",
              "          '<a target=\"_blank\" href=https://colab.research.google.com/notebooks/data_table.ipynb>data table notebook</a>'\n",
              "          + ' to learn more about interactive tables.';\n",
              "        element.innerHTML = '';\n",
              "        dataTable['output_type'] = 'display_data';\n",
              "        await google.colab.output.renderOutput(dataTable, element);\n",
              "        const docLink = document.createElement('div');\n",
              "        docLink.innerHTML = docLinkHtml;\n",
              "        element.appendChild(docLink);\n",
              "      }\n",
              "    </script>\n",
              "  </div>\n",
              "\n",
              "\n",
              "<div id=\"df-4a679154-93ba-4563-9db7-7ac0aac56ee8\">\n",
              "  <button class=\"colab-df-quickchart\" onclick=\"quickchart('df-4a679154-93ba-4563-9db7-7ac0aac56ee8')\"\n",
              "            title=\"Suggest charts.\"\n",
              "            style=\"display:none;\">\n",
              "\n",
              "<svg xmlns=\"http://www.w3.org/2000/svg\" height=\"24px\"viewBox=\"0 0 24 24\"\n",
              "     width=\"24px\">\n",
              "    <g>\n",
              "        <path d=\"M19 3H5c-1.1 0-2 .9-2 2v14c0 1.1.9 2 2 2h14c1.1 0 2-.9 2-2V5c0-1.1-.9-2-2-2zM9 17H7v-7h2v7zm4 0h-2V7h2v10zm4 0h-2v-4h2v4z\"/>\n",
              "    </g>\n",
              "</svg>\n",
              "  </button>\n",
              "\n",
              "<style>\n",
              "  .colab-df-quickchart {\n",
              "      --bg-color: #E8F0FE;\n",
              "      --fill-color: #1967D2;\n",
              "      --hover-bg-color: #E2EBFA;\n",
              "      --hover-fill-color: #174EA6;\n",
              "      --disabled-fill-color: #AAA;\n",
              "      --disabled-bg-color: #DDD;\n",
              "  }\n",
              "\n",
              "  [theme=dark] .colab-df-quickchart {\n",
              "      --bg-color: #3B4455;\n",
              "      --fill-color: #D2E3FC;\n",
              "      --hover-bg-color: #434B5C;\n",
              "      --hover-fill-color: #FFFFFF;\n",
              "      --disabled-bg-color: #3B4455;\n",
              "      --disabled-fill-color: #666;\n",
              "  }\n",
              "\n",
              "  .colab-df-quickchart {\n",
              "    background-color: var(--bg-color);\n",
              "    border: none;\n",
              "    border-radius: 50%;\n",
              "    cursor: pointer;\n",
              "    display: none;\n",
              "    fill: var(--fill-color);\n",
              "    height: 32px;\n",
              "    padding: 0;\n",
              "    width: 32px;\n",
              "  }\n",
              "\n",
              "  .colab-df-quickchart:hover {\n",
              "    background-color: var(--hover-bg-color);\n",
              "    box-shadow: 0 1px 2px rgba(60, 64, 67, 0.3), 0 1px 3px 1px rgba(60, 64, 67, 0.15);\n",
              "    fill: var(--button-hover-fill-color);\n",
              "  }\n",
              "\n",
              "  .colab-df-quickchart-complete:disabled,\n",
              "  .colab-df-quickchart-complete:disabled:hover {\n",
              "    background-color: var(--disabled-bg-color);\n",
              "    fill: var(--disabled-fill-color);\n",
              "    box-shadow: none;\n",
              "  }\n",
              "\n",
              "  .colab-df-spinner {\n",
              "    border: 2px solid var(--fill-color);\n",
              "    border-color: transparent;\n",
              "    border-bottom-color: var(--fill-color);\n",
              "    animation:\n",
              "      spin 1s steps(1) infinite;\n",
              "  }\n",
              "\n",
              "  @keyframes spin {\n",
              "    0% {\n",
              "      border-color: transparent;\n",
              "      border-bottom-color: var(--fill-color);\n",
              "      border-left-color: var(--fill-color);\n",
              "    }\n",
              "    20% {\n",
              "      border-color: transparent;\n",
              "      border-left-color: var(--fill-color);\n",
              "      border-top-color: var(--fill-color);\n",
              "    }\n",
              "    30% {\n",
              "      border-color: transparent;\n",
              "      border-left-color: var(--fill-color);\n",
              "      border-top-color: var(--fill-color);\n",
              "      border-right-color: var(--fill-color);\n",
              "    }\n",
              "    40% {\n",
              "      border-color: transparent;\n",
              "      border-right-color: var(--fill-color);\n",
              "      border-top-color: var(--fill-color);\n",
              "    }\n",
              "    60% {\n",
              "      border-color: transparent;\n",
              "      border-right-color: var(--fill-color);\n",
              "    }\n",
              "    80% {\n",
              "      border-color: transparent;\n",
              "      border-right-color: var(--fill-color);\n",
              "      border-bottom-color: var(--fill-color);\n",
              "    }\n",
              "    90% {\n",
              "      border-color: transparent;\n",
              "      border-bottom-color: var(--fill-color);\n",
              "    }\n",
              "  }\n",
              "</style>\n",
              "\n",
              "  <script>\n",
              "    async function quickchart(key) {\n",
              "      const quickchartButtonEl =\n",
              "        document.querySelector('#' + key + ' button');\n",
              "      quickchartButtonEl.disabled = true;  // To prevent multiple clicks.\n",
              "      quickchartButtonEl.classList.add('colab-df-spinner');\n",
              "      try {\n",
              "        const charts = await google.colab.kernel.invokeFunction(\n",
              "            'suggestCharts', [key], {});\n",
              "      } catch (error) {\n",
              "        console.error('Error during call to suggestCharts:', error);\n",
              "      }\n",
              "      quickchartButtonEl.classList.remove('colab-df-spinner');\n",
              "      quickchartButtonEl.classList.add('colab-df-quickchart-complete');\n",
              "    }\n",
              "    (() => {\n",
              "      let quickchartButtonEl =\n",
              "        document.querySelector('#df-4a679154-93ba-4563-9db7-7ac0aac56ee8 button');\n",
              "      quickchartButtonEl.style.display =\n",
              "        google.colab.kernel.accessAllowed ? 'block' : 'none';\n",
              "    })();\n",
              "  </script>\n",
              "</div>\n",
              "    </div>\n",
              "  </div>\n"
            ]
          },
          "metadata": {},
          "execution_count": 7
        }
      ],
      "source": [
        "df.head()"
      ]
    },
    {
      "cell_type": "code",
      "execution_count": 8,
      "metadata": {
        "colab": {
          "base_uri": "https://localhost:8080/"
        },
        "id": "j-fTo88MCNsM",
        "outputId": "88c451ff-ef5e-4ef4-b297-150d3a55f20e"
      },
      "outputs": [
        {
          "output_type": "execute_result",
          "data": {
            "text/plain": [
              "0    0.89867\n",
              "1    0.10133\n",
              "Name: toxic, dtype: float64"
            ]
          },
          "metadata": {},
          "execution_count": 8
        }
      ],
      "source": [
        "df.toxic.value_counts(normalize=True)"
      ]
    },
    {
      "cell_type": "markdown",
      "metadata": {
        "id": "GXRap_qECNsM"
      },
      "source": [
        "Баланс классов примерно 90/10"
      ]
    },
    {
      "cell_type": "code",
      "execution_count": 9,
      "metadata": {
        "id": "scwxDytZCNsN"
      },
      "outputs": [],
      "source": [
        "corpus = list(df['text'].values)"
      ]
    },
    {
      "cell_type": "code",
      "execution_count": 10,
      "metadata": {
        "id": "9H5rJUsYCNsN"
      },
      "outputs": [],
      "source": [
        "def get_wordnet_pos(word):\n",
        "    \"\"\"Map POS tag to first character lemmatize() accepts\"\"\"\n",
        "    tag = nltk.pos_tag([word])[0][1][0].upper()\n",
        "    tag_dict = {\"J\": wordnet.ADJ,\n",
        "                \"N\": wordnet.NOUN,\n",
        "                \"V\": wordnet.VERB,\n",
        "                \"R\": wordnet.ADV}\n",
        "\n",
        "    return tag_dict.get(tag, wordnet.NOUN)"
      ]
    },
    {
      "cell_type": "code",
      "execution_count": 11,
      "metadata": {
        "id": "G9e6VKuDCNsN"
      },
      "outputs": [],
      "source": [
        "def lemmatize(text):\n",
        "    lemmatizer = WordNetLemmatizer()\n",
        "    word_list = nltk.word_tokenize(text)\n",
        "    lemmatized_output = ' '.join([lemmatizer.lemmatize(w.lower(), get_wordnet_pos(w)) for w in word_list])\n",
        "    return lemmatized_output\n",
        "\n",
        "def clear_text(text):\n",
        "    text = re.sub(r\"[^a-zA-Z ]\", ' ', text)\n",
        "    text = text.split()\n",
        "    return \" \".join(text)"
      ]
    },
    {
      "cell_type": "code",
      "execution_count": 12,
      "metadata": {
        "colab": {
          "base_uri": "https://localhost:8080/",
          "height": 35
        },
        "id": "QgbwrrZTCNsO",
        "outputId": "5178c6aa-63d1-488b-d7d9-2499d24ed8d2"
      },
      "outputs": [
        {
          "output_type": "execute_result",
          "data": {
            "text/plain": [
              "'To the attention of mr. W. Waggel s.s.t.t.:'"
            ],
            "application/vnd.google.colaboratory.intrinsic+json": {
              "type": "string"
            }
          },
          "metadata": {},
          "execution_count": 12
        }
      ],
      "source": [
        "corpus[3]"
      ]
    },
    {
      "cell_type": "code",
      "execution_count": 13,
      "metadata": {
        "colab": {
          "base_uri": "https://localhost:8080/",
          "height": 35
        },
        "id": "c1GHTOFgCNsO",
        "outputId": "6d09a6e2-16c8-489e-ed80-1543a6a3820c"
      },
      "outputs": [
        {
          "output_type": "execute_result",
          "data": {
            "text/plain": [
              "'to the attention of mr w waggel s s t t'"
            ],
            "application/vnd.google.colaboratory.intrinsic+json": {
              "type": "string"
            }
          },
          "metadata": {},
          "execution_count": 13
        }
      ],
      "source": [
        "clear_text(lemmatize(corpus[3]))"
      ]
    },
    {
      "cell_type": "code",
      "execution_count": 14,
      "metadata": {
        "colab": {
          "base_uri": "https://localhost:8080/",
          "height": 49,
          "referenced_widgets": [
            "abaf0be3b515400495e70e0b789eb5fd",
            "5aafc113b85e4fe4b8b56ca900e1c56b",
            "ac2b36c2b37a413ba5d972cf64713758",
            "55b11a0a1ae44c2088a0d95d0c8f66f6",
            "de755036f53d4e5092eca60828e2bcff",
            "c7539002f1614d299965bf29f87f0c21",
            "ed49bf5ecbe64d33b0bfe626ddf00c98",
            "ecebc10548ed43dc80b29c0f31cc8c58",
            "2c7cc7d60f6348b08e960c1dfb303721",
            "3c75799affe946c5a04cd60e6015f5fc",
            "fcdc91ca16df4fa389084e7635408e0c"
          ]
        },
        "id": "dqwTJfPpCNsP",
        "outputId": "a3132bcd-8157-41e6-c57b-7d551f1cde4c"
      },
      "outputs": [
        {
          "output_type": "display_data",
          "data": {
            "text/plain": [
              "  0%|          | 0/100000 [00:00<?, ?it/s]"
            ],
            "application/vnd.jupyter.widget-view+json": {
              "version_major": 2,
              "version_minor": 0,
              "model_id": "abaf0be3b515400495e70e0b789eb5fd"
            }
          },
          "metadata": {}
        }
      ],
      "source": [
        "for i in notebook.tqdm(range(len(corpus))):\n",
        "    corpus[i] = clear_text(lemmatize(corpus[i]))"
      ]
    },
    {
      "cell_type": "code",
      "execution_count": 15,
      "metadata": {
        "colab": {
          "base_uri": "https://localhost:8080/"
        },
        "id": "EkNnJyepCNsP",
        "outputId": "b4b57c11-9e75-4076-ea40-e92733c3a12a"
      },
      "outputs": [
        {
          "output_type": "execute_result",
          "data": {
            "text/plain": [
              "['it s quite a funny coincidence that all of the ip editor attack the page be from the uk and several of them have also significantly vandalizes sandpit include special contributions not funny ha ha mind you but funny',\n",
              " 'that be exactly why i ask so vehemently to be block you know for a site that claim to be righteous and forgive when it come to this kind of thing you be pretty underhanded can i create a new account no because the idiot that block me in the first place put that under the block parameter what evidence be there of personal attack and harassment if you can not answer that then you can not block me it s a very simple concept to grasp',\n",
              " 'simple reading of the act would explain an act to provide a national currency secure by a pledge of united state stock and to provide for the circulation and redemption thereof sec and be it far enact that every association after have comply with the provision of this act preliminary to the commencement of banking business under it provision shall transfer and deliver to the treasurer of the united state any united state bond bearing interest to an amount not less than one third of the capital stock paid in which bonds shall be deposit with the treasurer of the united states and by him safely kept in his office until the same shall be otherwise dispose of in pursuance of the provision of this act section and be it far enact that upon the make of any such transfer and delivery the association make the same shall be entitle to receive from the comptroller of the currency circulate note of different denomination in blank register and countersign a hereinafter provide equal in amount to ninety per centum of the current market value of the united state bonds so transfer and deliver but not exceed the par value thereof if bearing interest at the rate of six per centum or of equivalent united state bond bearing a less rate of interest and at no time shall the total amount of such note issue to any such association exceed the amount at such time actually paid in of it capital stock sec and be it far enact that every such association shall at all time have on hand in lawful money of the united states an amount equal to at least twenty five per centum of the aggregate amount of it outstanding note of circulation and it deposit lawful money ie united state note commonly reffered to a greenback']"
            ]
          },
          "metadata": {},
          "execution_count": 15
        }
      ],
      "source": [
        "corpus[0:3]"
      ]
    },
    {
      "cell_type": "code",
      "execution_count": 16,
      "metadata": {
        "colab": {
          "base_uri": "https://localhost:8080/"
        },
        "id": "7Dfxk5j-CNsQ",
        "outputId": "25b5d96a-d684-4c07-c39e-b7d922a1ca0c"
      },
      "outputs": [
        {
          "output_type": "stream",
          "name": "stderr",
          "text": [
            "[nltk_data] Downloading package stopwords to /root/nltk_data...\n",
            "[nltk_data]   Unzipping corpora/stopwords.zip.\n"
          ]
        }
      ],
      "source": [
        "nltk.download('stopwords')\n",
        "stopwords = list(stopwords.words('english'))"
      ]
    },
    {
      "cell_type": "code",
      "execution_count": 17,
      "metadata": {
        "id": "-l39PMeUCNsQ"
      },
      "outputs": [],
      "source": [
        "features = corpus\n",
        "target = df['toxic']\n",
        "\n",
        "features_train, features_test, target_train, target_test = train_test_split(features, target, test_size=0.1,\n",
        "                                                                           stratify=target, random_state=seed)"
      ]
    },
    {
      "cell_type": "markdown",
      "metadata": {
        "id": "dd11oinwCNsS"
      },
      "source": [
        "## Обучение"
      ]
    },
    {
      "cell_type": "markdown",
      "metadata": {
        "id": "OjkzR943CNsS"
      },
      "source": [
        "### Логистическая Регрессия"
      ]
    },
    {
      "cell_type": "code",
      "execution_count": 21,
      "metadata": {
        "id": "Ou83I58hCNsT"
      },
      "outputs": [],
      "source": [
        "pipe_lr = Pipeline([\n",
        "    ('count_tf_idf', TfidfVectorizer(stop_words=stopwords, ngram_range=(1,2))),\n",
        "    ('lr', LogisticRegression(solver='liblinear', class_weight = 'balanced', random_state=seed))\n",
        "])"
      ]
    },
    {
      "cell_type": "code",
      "execution_count": null,
      "metadata": {
        "scrolled": true,
        "id": "mpDZpM8kCNsT"
      },
      "outputs": [],
      "source": [
        "%%time\n",
        "\n",
        "grid_lr = {\"lr__C\":np.logspace(-3,3,7), \"lr__penalty\":['l1', \"l2\"]} # l1 lasso l2 ridge\n",
        "\n",
        "gs_lr = GridSearchCV(pipe_lr, grid_lr, cv=3, scoring='f1', error_score='raise')\n",
        "gs_lr.fit(features_train, target_train)\n",
        "\n",
        "print(\"tuned hyperparameters :(best parameters) \", gs_lr.best_params_)\n",
        "print(\"f1 :\", gs_lr.best_score_)"
      ]
    },
    {
      "cell_type": "markdown",
      "metadata": {
        "id": "PLdm8Lx3CNsj"
      },
      "source": [
        "Для Логистической Регрессии подобрали оптимальные параметры:  \n",
        "С = 100, class_weight = 'balanced', penalty = 'l2'\n",
        "Результат F1 - 0.78"
      ]
    },
    {
      "cell_type": "markdown",
      "metadata": {
        "id": "NrjaBnnmCNsj"
      },
      "source": [
        "### Catboost"
      ]
    },
    {
      "cell_type": "code",
      "execution_count": 30,
      "metadata": {
        "id": "4jZOkQ32CNsk"
      },
      "outputs": [],
      "source": [
        "pipe_cb = Pipeline([\n",
        "    ('count_tf_idf', TfidfVectorizer(stop_words=stopwords, ngram_range=(1,2))),\n",
        "    ('cb', CatBoostClassifier(class_weights = list(target.value_counts()), iterations=100,\n",
        "                              random_seed=seed, verbose=-1))\n",
        "])"
      ]
    },
    {
      "cell_type": "code",
      "execution_count": 31,
      "metadata": {
        "id": "cFaiIrDECNsk"
      },
      "outputs": [],
      "source": [
        "grid_cb = {\n",
        "    'cb__learning_rate' : list(np.arange(0.1,1.1,0.3)),\n",
        "    'cb__max_depth' : list(range(4, 13, 4))\n",
        "}"
      ]
    },
    {
      "cell_type": "code",
      "execution_count": null,
      "metadata": {
        "scrolled": true,
        "id": "rEv4u1rfCNsl"
      },
      "outputs": [],
      "source": [
        "%%time\n",
        "\n",
        "gs_cb = GridSearchCV(\n",
        "    pipe_cb,\n",
        "    grid_cb,\n",
        "    scoring='f1',\n",
        "    n_jobs=-1,\n",
        "    cv = 3\n",
        ")\n",
        "\n",
        "gs_cb.fit(features_train, target_train)\n",
        "\n",
        "print(\"tuned hyperparameters :(best parameters) \", gs_cb.best_params_)\n",
        "print(\"f1 :\", gs_cb.best_score_)"
      ]
    },
    {
      "cell_type": "markdown",
      "metadata": {
        "id": "tcm1z-exCNsn"
      },
      "source": [
        "Для модели catboost подобрали оптимальные параметры:  \n",
        "rate - 0.7, depth - 10\n",
        "Результат F1 - 0.74"
      ]
    },
    {
      "cell_type": "markdown",
      "metadata": {
        "id": "lLVnHKh-CNsn"
      },
      "source": [
        "### LightGBM"
      ]
    },
    {
      "cell_type": "code",
      "execution_count": 27,
      "metadata": {
        "id": "aAG0tFDJCNsn"
      },
      "outputs": [],
      "source": [
        "pipe_lgbm = Pipeline([\n",
        "    ('count_tf_idf', TfidfVectorizer(stop_words=stopwords, ngram_range=(1,2))),\n",
        "    ('lgbm', LGBMClassifier(class_weight = 'balanced', random_seed=seed, n_jobs=-1))\n",
        "])"
      ]
    },
    {
      "cell_type": "code",
      "execution_count": 28,
      "metadata": {
        "id": "t7K7UvqaCNsn"
      },
      "outputs": [],
      "source": [
        "grid_lgbm = {\n",
        "    'lgbm__learning_rate' : list(np.arange(0.1,1.1,0.3)),\n",
        "    'lgbm__max_depth' : list(range(1, 11, 3))\n",
        "}"
      ]
    },
    {
      "cell_type": "code",
      "execution_count": null,
      "metadata": {
        "id": "d_vGHhEOCNso"
      },
      "outputs": [],
      "source": [
        "%%time\n",
        "\n",
        "gs_lgbm = GridSearchCV(\n",
        "    pipe_lgbm,\n",
        "    grid_lgbm,\n",
        "    scoring='f1',\n",
        "    n_jobs=-1,\n",
        "    cv = 3\n",
        ")\n",
        "\n",
        "gs_lgbm.fit(features_train, target_train)\n",
        "\n",
        "print(\"tuned hyperparameters :(best parameters) \", gs_lgbm.best_params_)\n",
        "print(\"f1 :\", gs_lgbm.best_score_)"
      ]
    },
    {
      "cell_type": "markdown",
      "metadata": {
        "id": "aHCIBQf4CNsp"
      },
      "source": [
        "Для модели lgbm подобрали оптимальные параметры:  \n",
        "rate - 0.4, depth - 10\n",
        "Результат F1 - 0.75"
      ]
    },
    {
      "cell_type": "markdown",
      "metadata": {
        "id": "_NgDIWdXCNsq"
      },
      "source": [
        "По результатам обучения, самой корректной оказалась модель логистической регрессии с показателем метрики F1 0.78"
      ]
    },
    {
      "cell_type": "markdown",
      "metadata": {
        "id": "2WUaLQNQCNsq"
      },
      "source": [
        "Для Логистической Регрессии подобрали оптимальные параметры:\n",
        "С = 100, class_weight = 'balanced', penalty = 'l2'  \n",
        "Результат F1 - 0.78"
      ]
    },
    {
      "cell_type": "markdown",
      "metadata": {
        "id": "lAULo0fmCNsq"
      },
      "source": [
        "## Тестирование"
      ]
    },
    {
      "cell_type": "code",
      "execution_count": null,
      "metadata": {
        "scrolled": true,
        "id": "g6JAH1T7CNsr",
        "outputId": "82289d17-c7a6-43af-85c6-4d1fd32bb4fb"
      },
      "outputs": [
        {
          "data": {
            "text/plain": [
              "0.78"
            ]
          },
          "execution_count": 32,
          "metadata": {},
          "output_type": "execute_result"
        }
      ],
      "source": [
        "prediction_lr = gs_lr.predict_proba(features_test)[:,1]\n",
        "\n",
        "round(f1_score(target_test, prediction_lr), 2)"
      ]
    },
    {
      "cell_type": "markdown",
      "metadata": {
        "id": "1C2BW33DCNss"
      },
      "source": [
        "## Выводы"
      ]
    },
    {
      "cell_type": "markdown",
      "metadata": {
        "id": "3BjrAd8oCNss"
      },
      "source": [
        "В ходе исследования были применены следующие методы:\n",
        "* Токенезация\n",
        "* Лемматизация\n",
        "* Очистка текста от символов и бранных слов\n",
        "* Векторизация для n-грамм. (1 леммa)\n",
        "\n",
        "Проверены следующие модели:\n",
        "* Линейная Регрессия\n",
        "* CatBoostClassifier\n",
        "* LGBMClassifier\n",
        "\n",
        "**По результатам измерения f1-score рекомендуется использовать модель Логистической Регрессии.  \n",
        "оптимальные параметры:\n",
        "С = 100, class_weight = 'balanced', penalty = 'l2' Результат F1 - 0.78**"
      ]
    }
  ],
  "metadata": {
    "ExecuteTimeLog": [
      {
        "duration": 2910,
        "start_time": "2023-07-04T19:35:01.512Z"
      },
      {
        "duration": 202,
        "start_time": "2023-07-04T19:35:26.630Z"
      },
      {
        "duration": 2463,
        "start_time": "2023-07-04T19:35:33.198Z"
      },
      {
        "duration": 13,
        "start_time": "2023-07-04T19:35:38.724Z"
      },
      {
        "duration": 11,
        "start_time": "2023-07-04T19:36:06.607Z"
      },
      {
        "duration": 11,
        "start_time": "2023-07-04T19:36:12.167Z"
      },
      {
        "duration": 755,
        "start_time": "2023-07-04T19:36:33.902Z"
      },
      {
        "duration": 10,
        "start_time": "2023-07-04T19:36:39.475Z"
      },
      {
        "duration": 13192,
        "start_time": "2023-07-04T19:38:25.934Z"
      },
      {
        "duration": 8650,
        "start_time": "2023-07-05T19:52:28.077Z"
      },
      {
        "duration": 2400,
        "start_time": "2023-07-05T19:52:36.729Z"
      },
      {
        "duration": 14,
        "start_time": "2023-07-05T19:52:39.131Z"
      },
      {
        "duration": 163,
        "start_time": "2023-07-05T19:52:46.821Z"
      },
      {
        "duration": 8,
        "start_time": "2023-07-05T19:52:53.187Z"
      },
      {
        "duration": 10,
        "start_time": "2023-07-05T19:53:07.923Z"
      },
      {
        "duration": 25675,
        "start_time": "2023-07-05T19:54:00.805Z"
      },
      {
        "duration": 849,
        "start_time": "2023-07-05T19:54:48.328Z"
      },
      {
        "duration": 846,
        "start_time": "2023-07-05T19:54:54.491Z"
      },
      {
        "duration": 20772,
        "start_time": "2023-07-05T19:55:08.863Z"
      },
      {
        "duration": 449,
        "start_time": "2023-07-05T19:55:36.625Z"
      },
      {
        "duration": 5,
        "start_time": "2023-07-05T20:02:18.459Z"
      },
      {
        "duration": 23,
        "start_time": "2023-07-05T20:02:24.891Z"
      },
      {
        "duration": 5,
        "start_time": "2023-07-05T20:02:34.939Z"
      },
      {
        "duration": 8,
        "start_time": "2023-07-05T20:03:59.951Z"
      },
      {
        "duration": 530,
        "start_time": "2023-07-05T20:06:04.500Z"
      },
      {
        "duration": 3,
        "start_time": "2023-07-05T20:07:22.516Z"
      },
      {
        "duration": 57,
        "start_time": "2023-07-05T20:08:04.688Z"
      },
      {
        "duration": 1765,
        "start_time": "2023-07-05T20:08:16.067Z"
      },
      {
        "duration": 1829,
        "start_time": "2023-07-05T20:09:01.387Z"
      },
      {
        "duration": 5,
        "start_time": "2023-07-05T20:09:36.120Z"
      },
      {
        "duration": 1727,
        "start_time": "2023-07-05T20:09:43.494Z"
      },
      {
        "duration": 200,
        "start_time": "2023-07-05T20:12:48.634Z"
      },
      {
        "duration": 17,
        "start_time": "2023-07-05T20:13:05.471Z"
      },
      {
        "duration": 3,
        "start_time": "2023-07-05T20:13:17.591Z"
      },
      {
        "duration": 6,
        "start_time": "2023-07-05T20:13:19.712Z"
      },
      {
        "duration": 1741,
        "start_time": "2023-07-05T20:13:33.840Z"
      },
      {
        "duration": 1775,
        "start_time": "2023-07-05T20:13:41.255Z"
      },
      {
        "duration": 2593,
        "start_time": "2023-07-05T20:13:47.225Z"
      },
      {
        "duration": 3586,
        "start_time": "2023-07-05T20:14:30.789Z"
      },
      {
        "duration": 2654,
        "start_time": "2023-07-05T20:15:22.988Z"
      },
      {
        "duration": 9920,
        "start_time": "2023-07-05T20:15:30.101Z"
      },
      {
        "duration": 9891,
        "start_time": "2023-07-05T20:15:55.917Z"
      },
      {
        "duration": 2627,
        "start_time": "2023-07-05T20:16:12.875Z"
      },
      {
        "duration": 22,
        "start_time": "2023-07-05T20:18:43.047Z"
      },
      {
        "duration": 5,
        "start_time": "2023-07-05T20:18:58.759Z"
      },
      {
        "duration": 6,
        "start_time": "2023-07-05T20:19:06.454Z"
      },
      {
        "duration": 5,
        "start_time": "2023-07-05T20:19:21.133Z"
      },
      {
        "duration": 6,
        "start_time": "2023-07-05T20:19:24.548Z"
      },
      {
        "duration": 2676,
        "start_time": "2023-07-05T20:20:13.318Z"
      },
      {
        "duration": 2727,
        "start_time": "2023-07-05T20:20:39.985Z"
      },
      {
        "duration": 2628,
        "start_time": "2023-07-05T20:20:57.738Z"
      },
      {
        "duration": 7086,
        "start_time": "2023-07-05T20:23:58.870Z"
      },
      {
        "duration": 2388,
        "start_time": "2023-07-05T20:25:12.128Z"
      },
      {
        "duration": 8,
        "start_time": "2023-07-05T20:25:14.518Z"
      },
      {
        "duration": 11,
        "start_time": "2023-07-05T20:25:14.527Z"
      },
      {
        "duration": 1845,
        "start_time": "2023-07-05T20:25:14.540Z"
      },
      {
        "duration": 4,
        "start_time": "2023-07-05T20:25:16.388Z"
      },
      {
        "duration": 19,
        "start_time": "2023-07-05T20:25:16.393Z"
      },
      {
        "duration": 12,
        "start_time": "2023-07-05T20:25:16.415Z"
      },
      {
        "duration": 26,
        "start_time": "2023-07-05T20:25:16.429Z"
      },
      {
        "duration": 3438,
        "start_time": "2023-07-05T20:25:16.457Z"
      },
      {
        "duration": 8466,
        "start_time": "2023-07-05T20:25:19.898Z"
      },
      {
        "duration": 11262,
        "start_time": "2023-07-05T20:25:28.455Z"
      },
      {
        "duration": 0,
        "start_time": "2023-07-05T20:25:39.719Z"
      },
      {
        "duration": 18,
        "start_time": "2023-07-05T20:29:05.985Z"
      },
      {
        "duration": 19,
        "start_time": "2023-07-05T20:29:18.788Z"
      },
      {
        "duration": 42,
        "start_time": "2023-07-05T20:30:14.146Z"
      },
      {
        "duration": 5,
        "start_time": "2023-07-05T20:30:18.002Z"
      },
      {
        "duration": 3336,
        "start_time": "2023-07-05T20:30:26.733Z"
      },
      {
        "duration": 6928,
        "start_time": "2023-07-05T20:30:32.139Z"
      },
      {
        "duration": 13517,
        "start_time": "2023-07-05T20:32:56.638Z"
      },
      {
        "duration": 20,
        "start_time": "2023-07-05T20:36:28.831Z"
      },
      {
        "duration": 4,
        "start_time": "2023-07-05T20:36:37.593Z"
      },
      {
        "duration": 228027,
        "start_time": "2023-07-05T20:36:40.650Z"
      },
      {
        "duration": 19,
        "start_time": "2023-07-05T20:41:49.505Z"
      },
      {
        "duration": 3,
        "start_time": "2023-07-05T20:41:54.943Z"
      },
      {
        "duration": 18,
        "start_time": "2023-07-05T20:41:58.863Z"
      },
      {
        "duration": 208,
        "start_time": "2023-07-05T20:42:11.384Z"
      },
      {
        "duration": 191,
        "start_time": "2023-07-05T20:42:17.072Z"
      },
      {
        "duration": 197,
        "start_time": "2023-07-05T20:43:41.388Z"
      },
      {
        "duration": 4,
        "start_time": "2023-07-05T20:44:06.026Z"
      },
      {
        "duration": 4040,
        "start_time": "2023-07-05T20:44:07.750Z"
      },
      {
        "duration": 211,
        "start_time": "2023-07-05T20:44:18.784Z"
      },
      {
        "duration": 4,
        "start_time": "2023-07-05T20:44:29.967Z"
      },
      {
        "duration": 2396,
        "start_time": "2023-07-05T20:44:30.812Z"
      },
      {
        "duration": 3,
        "start_time": "2023-07-05T20:44:39.650Z"
      },
      {
        "duration": 21074,
        "start_time": "2023-07-05T20:44:40.290Z"
      },
      {
        "duration": 189,
        "start_time": "2023-07-05T20:45:04.745Z"
      },
      {
        "duration": 189,
        "start_time": "2023-07-05T20:45:18.408Z"
      },
      {
        "duration": 4,
        "start_time": "2023-07-05T20:45:32.728Z"
      },
      {
        "duration": 8063,
        "start_time": "2023-07-05T20:45:33.384Z"
      },
      {
        "duration": 210,
        "start_time": "2023-07-05T20:45:45.671Z"
      },
      {
        "duration": 4,
        "start_time": "2023-07-05T20:46:44.672Z"
      },
      {
        "duration": 6117,
        "start_time": "2023-07-05T20:46:45.591Z"
      },
      {
        "duration": 223,
        "start_time": "2023-07-05T20:46:55.669Z"
      },
      {
        "duration": 6621,
        "start_time": "2023-07-05T20:47:49.151Z"
      },
      {
        "duration": 192,
        "start_time": "2023-07-05T20:49:41.626Z"
      },
      {
        "duration": 33,
        "start_time": "2023-07-05T20:50:12.681Z"
      },
      {
        "duration": 13,
        "start_time": "2023-07-05T20:50:29.911Z"
      },
      {
        "duration": 58,
        "start_time": "2023-07-05T20:52:29.181Z"
      },
      {
        "duration": 29,
        "start_time": "2023-07-05T20:52:34.572Z"
      },
      {
        "duration": 232,
        "start_time": "2023-07-05T20:57:42.099Z"
      },
      {
        "duration": 1685,
        "start_time": "2023-07-05T20:59:56.135Z"
      },
      {
        "duration": 4,
        "start_time": "2023-07-05T21:00:03.807Z"
      },
      {
        "duration": 6,
        "start_time": "2023-07-05T21:00:09.822Z"
      },
      {
        "duration": 49,
        "start_time": "2023-07-05T21:00:45.255Z"
      },
      {
        "duration": 9845,
        "start_time": "2023-07-05T21:00:55.533Z"
      },
      {
        "duration": 2474,
        "start_time": "2023-07-05T21:01:05.380Z"
      },
      {
        "duration": 13,
        "start_time": "2023-07-05T21:01:07.856Z"
      },
      {
        "duration": 19021,
        "start_time": "2023-07-05T21:01:15.700Z"
      },
      {
        "duration": 5,
        "start_time": "2023-07-05T21:01:34.723Z"
      },
      {
        "duration": 7,
        "start_time": "2023-07-05T21:01:40.027Z"
      },
      {
        "duration": 5,
        "start_time": "2023-07-05T21:01:42.650Z"
      },
      {
        "duration": 14,
        "start_time": "2023-07-05T21:01:42.658Z"
      },
      {
        "duration": 12,
        "start_time": "2023-07-05T21:01:42.674Z"
      },
      {
        "duration": 1123,
        "start_time": "2023-07-05T21:01:42.687Z"
      },
      {
        "duration": 0,
        "start_time": "2023-07-05T21:01:43.812Z"
      },
      {
        "duration": 0,
        "start_time": "2023-07-05T21:01:43.814Z"
      },
      {
        "duration": 1,
        "start_time": "2023-07-05T21:01:43.815Z"
      },
      {
        "duration": 0,
        "start_time": "2023-07-05T21:01:43.817Z"
      },
      {
        "duration": 0,
        "start_time": "2023-07-05T21:01:43.818Z"
      },
      {
        "duration": 0,
        "start_time": "2023-07-05T21:01:43.819Z"
      },
      {
        "duration": 0,
        "start_time": "2023-07-05T21:01:43.820Z"
      },
      {
        "duration": 0,
        "start_time": "2023-07-05T21:01:43.821Z"
      },
      {
        "duration": 2608,
        "start_time": "2023-07-05T21:01:56.435Z"
      },
      {
        "duration": 4516,
        "start_time": "2023-07-05T21:01:59.046Z"
      },
      {
        "duration": 89,
        "start_time": "2023-07-05T21:02:03.566Z"
      },
      {
        "duration": 2393,
        "start_time": "2023-07-05T21:02:03.656Z"
      },
      {
        "duration": 3,
        "start_time": "2023-07-05T21:02:06.051Z"
      },
      {
        "duration": 54,
        "start_time": "2023-07-05T21:02:06.056Z"
      },
      {
        "duration": 17313,
        "start_time": "2023-07-05T21:02:06.112Z"
      },
      {
        "duration": 67,
        "start_time": "2023-07-05T21:02:42.434Z"
      },
      {
        "duration": 9721,
        "start_time": "2023-07-05T21:31:24.926Z"
      },
      {
        "duration": 2524,
        "start_time": "2023-07-05T21:31:34.649Z"
      },
      {
        "duration": 13,
        "start_time": "2023-07-05T21:31:37.175Z"
      },
      {
        "duration": 9,
        "start_time": "2023-07-05T21:31:37.191Z"
      },
      {
        "duration": 21315,
        "start_time": "2023-07-05T21:31:37.202Z"
      },
      {
        "duration": 4,
        "start_time": "2023-07-05T21:31:58.518Z"
      },
      {
        "duration": 47,
        "start_time": "2023-07-05T21:31:58.523Z"
      },
      {
        "duration": 10,
        "start_time": "2023-07-05T21:31:58.572Z"
      },
      {
        "duration": 91,
        "start_time": "2023-07-05T21:31:58.584Z"
      },
      {
        "duration": 6,
        "start_time": "2023-07-05T21:31:58.678Z"
      },
      {
        "duration": 10264,
        "start_time": "2023-07-05T21:31:58.685Z"
      },
      {
        "duration": 10406,
        "start_time": "2023-07-05T21:32:08.950Z"
      },
      {
        "duration": 4,
        "start_time": "2023-07-05T21:32:19.359Z"
      },
      {
        "duration": 8134,
        "start_time": "2023-07-05T21:32:19.455Z"
      },
      {
        "duration": 3,
        "start_time": "2023-07-05T21:32:27.591Z"
      },
      {
        "duration": 328,
        "start_time": "2023-07-05T21:32:27.596Z"
      },
      {
        "duration": 3,
        "start_time": "2023-07-05T21:32:27.926Z"
      },
      {
        "duration": 12,
        "start_time": "2023-07-05T21:32:27.931Z"
      },
      {
        "duration": 8,
        "start_time": "2023-07-05T21:32:27.953Z"
      },
      {
        "duration": 4,
        "start_time": "2023-07-05T21:32:53.605Z"
      },
      {
        "duration": 11978,
        "start_time": "2023-07-05T21:32:54.476Z"
      },
      {
        "duration": 312,
        "start_time": "2023-07-05T21:33:06.456Z"
      },
      {
        "duration": 4,
        "start_time": "2023-07-05T21:33:39.813Z"
      },
      {
        "duration": 4,
        "start_time": "2023-07-05T21:37:32.251Z"
      },
      {
        "duration": 3949,
        "start_time": "2023-07-05T21:37:32.694Z"
      },
      {
        "duration": 307,
        "start_time": "2023-07-05T21:37:41.165Z"
      },
      {
        "duration": 4,
        "start_time": "2023-07-05T21:37:52.789Z"
      },
      {
        "duration": 2561,
        "start_time": "2023-07-05T21:37:54.158Z"
      },
      {
        "duration": 313,
        "start_time": "2023-07-05T21:37:58.542Z"
      },
      {
        "duration": 3,
        "start_time": "2023-07-05T21:38:03.221Z"
      },
      {
        "duration": 17720,
        "start_time": "2023-07-05T21:38:04.125Z"
      },
      {
        "duration": 313,
        "start_time": "2023-07-05T21:38:21.848Z"
      },
      {
        "duration": 9090,
        "start_time": "2023-07-05T21:39:31.001Z"
      },
      {
        "duration": 5,
        "start_time": "2023-07-05T21:39:40.094Z"
      },
      {
        "duration": 97,
        "start_time": "2023-07-05T21:39:40.102Z"
      },
      {
        "duration": 5,
        "start_time": "2023-07-05T21:39:40.201Z"
      },
      {
        "duration": 375,
        "start_time": "2023-07-05T21:39:40.208Z"
      },
      {
        "duration": 6,
        "start_time": "2023-07-05T21:39:40.585Z"
      },
      {
        "duration": 13444,
        "start_time": "2023-07-05T21:39:40.592Z"
      },
      {
        "duration": 31620,
        "start_time": "2023-07-05T21:39:54.038Z"
      },
      {
        "duration": 3,
        "start_time": "2023-07-05T21:40:25.753Z"
      },
      {
        "duration": 30267,
        "start_time": "2023-07-05T21:40:25.758Z"
      },
      {
        "duration": 1802,
        "start_time": "2023-07-05T21:40:56.026Z"
      },
      {
        "duration": 10,
        "start_time": "2023-07-05T21:40:57.830Z"
      },
      {
        "duration": 13,
        "start_time": "2023-07-05T21:40:57.842Z"
      },
      {
        "duration": 26,
        "start_time": "2023-07-05T21:40:57.857Z"
      },
      {
        "duration": 5,
        "start_time": "2023-07-05T21:42:28.535Z"
      },
      {
        "duration": 48,
        "start_time": "2023-07-05T21:42:36.132Z"
      },
      {
        "duration": 6,
        "start_time": "2023-07-05T21:42:37.506Z"
      },
      {
        "duration": 13134,
        "start_time": "2023-07-05T21:42:40.436Z"
      },
      {
        "duration": 3173,
        "start_time": "2023-07-06T19:09:49.738Z"
      },
      {
        "duration": 4259,
        "start_time": "2023-07-06T19:09:52.914Z"
      },
      {
        "duration": 21,
        "start_time": "2023-07-06T19:09:57.175Z"
      },
      {
        "duration": 39,
        "start_time": "2023-07-06T19:09:57.199Z"
      },
      {
        "duration": 340,
        "start_time": "2023-07-06T19:16:20.598Z"
      },
      {
        "duration": 1024,
        "start_time": "2023-07-06T19:16:20.948Z"
      },
      {
        "duration": 8,
        "start_time": "2023-07-06T19:16:21.974Z"
      },
      {
        "duration": 34,
        "start_time": "2023-07-06T19:16:21.985Z"
      },
      {
        "duration": 203,
        "start_time": "2023-07-06T19:16:22.022Z"
      },
      {
        "duration": 0,
        "start_time": "2023-07-06T19:16:22.227Z"
      },
      {
        "duration": 0,
        "start_time": "2023-07-06T19:16:22.228Z"
      },
      {
        "duration": 0,
        "start_time": "2023-07-06T19:16:22.228Z"
      },
      {
        "duration": 14042,
        "start_time": "2023-07-06T19:16:51.337Z"
      },
      {
        "duration": 218,
        "start_time": "2023-07-06T19:18:05.069Z"
      },
      {
        "duration": 18,
        "start_time": "2023-07-06T19:18:13.570Z"
      },
      {
        "duration": 5,
        "start_time": "2023-07-06T19:18:23.379Z"
      },
      {
        "duration": 24,
        "start_time": "2023-07-06T19:18:43.955Z"
      },
      {
        "duration": 19,
        "start_time": "2023-07-06T19:22:25.566Z"
      },
      {
        "duration": 153,
        "start_time": "2023-07-06T19:22:29.790Z"
      },
      {
        "duration": 118,
        "start_time": "2023-07-06T19:22:35.687Z"
      },
      {
        "duration": 5,
        "start_time": "2023-07-06T19:23:00.502Z"
      },
      {
        "duration": 92,
        "start_time": "2023-07-06T19:25:59.152Z"
      },
      {
        "duration": 1410,
        "start_time": "2023-07-06T19:26:00.555Z"
      },
      {
        "duration": 5,
        "start_time": "2023-07-06T19:26:59.073Z"
      },
      {
        "duration": 875,
        "start_time": "2023-07-06T19:28:26.130Z"
      },
      {
        "duration": 166,
        "start_time": "2023-07-06T19:33:14.811Z"
      },
      {
        "duration": 3,
        "start_time": "2023-07-06T19:33:15.666Z"
      },
      {
        "duration": 2,
        "start_time": "2023-07-06T19:42:31.166Z"
      },
      {
        "duration": 5,
        "start_time": "2023-07-06T19:42:37.955Z"
      },
      {
        "duration": 41,
        "start_time": "2023-07-06T19:42:48.504Z"
      },
      {
        "duration": 11,
        "start_time": "2023-07-06T19:47:24.735Z"
      },
      {
        "duration": 37,
        "start_time": "2023-07-06T19:47:49.632Z"
      },
      {
        "duration": 138,
        "start_time": "2023-07-06T19:47:55.658Z"
      },
      {
        "duration": 6,
        "start_time": "2023-07-06T19:48:00.549Z"
      },
      {
        "duration": 992,
        "start_time": "2023-07-06T19:48:25.163Z"
      },
      {
        "duration": 5,
        "start_time": "2023-07-06T19:48:56.179Z"
      },
      {
        "duration": 9,
        "start_time": "2023-07-06T19:48:58.021Z"
      },
      {
        "duration": 1379,
        "start_time": "2023-07-06T19:48:59.120Z"
      },
      {
        "duration": 7,
        "start_time": "2023-07-06T19:49:32.163Z"
      },
      {
        "duration": 1195,
        "start_time": "2023-07-06T19:49:39.044Z"
      },
      {
        "duration": 32,
        "start_time": "2023-07-06T19:49:55.272Z"
      },
      {
        "duration": 37,
        "start_time": "2023-07-06T19:51:02.334Z"
      },
      {
        "duration": 747264,
        "start_time": "2023-07-06T19:51:55.165Z"
      },
      {
        "duration": 122,
        "start_time": "2023-07-06T20:04:46.500Z"
      },
      {
        "duration": 106,
        "start_time": "2023-07-06T20:05:08.789Z"
      },
      {
        "duration": 102,
        "start_time": "2023-07-06T20:05:24.909Z"
      },
      {
        "duration": 101,
        "start_time": "2023-07-06T20:05:42.011Z"
      },
      {
        "duration": 84,
        "start_time": "2023-07-06T20:05:53.356Z"
      },
      {
        "duration": 6,
        "start_time": "2023-07-06T20:06:09.426Z"
      },
      {
        "duration": 5,
        "start_time": "2023-07-06T20:06:41.670Z"
      },
      {
        "duration": 34,
        "start_time": "2023-07-06T20:06:50.438Z"
      },
      {
        "duration": 10,
        "start_time": "2023-07-06T20:07:44.243Z"
      },
      {
        "duration": 40,
        "start_time": "2023-07-06T20:07:44.901Z"
      },
      {
        "duration": 5,
        "start_time": "2023-07-06T20:07:50.006Z"
      },
      {
        "duration": 9638,
        "start_time": "2023-07-06T20:07:50.637Z"
      },
      {
        "duration": 6,
        "start_time": "2023-07-06T20:08:10.795Z"
      },
      {
        "duration": 4,
        "start_time": "2023-07-06T20:09:36.368Z"
      },
      {
        "duration": 72,
        "start_time": "2023-07-06T20:09:49.465Z"
      },
      {
        "duration": 9,
        "start_time": "2023-07-06T20:10:40.763Z"
      },
      {
        "duration": 1941,
        "start_time": "2023-07-06T20:10:41.545Z"
      },
      {
        "duration": 11,
        "start_time": "2023-07-06T20:10:49.600Z"
      },
      {
        "duration": 28,
        "start_time": "2023-07-06T20:12:33.137Z"
      },
      {
        "duration": 5,
        "start_time": "2023-07-06T20:12:36.804Z"
      },
      {
        "duration": 36,
        "start_time": "2023-07-06T20:12:37.968Z"
      },
      {
        "duration": 6,
        "start_time": "2023-07-06T20:12:59.881Z"
      },
      {
        "duration": 3,
        "start_time": "2023-07-06T20:13:00.680Z"
      },
      {
        "duration": 41,
        "start_time": "2023-07-06T20:13:04.256Z"
      },
      {
        "duration": 15,
        "start_time": "2023-07-06T20:13:47.414Z"
      },
      {
        "duration": 419,
        "start_time": "2023-07-06T20:14:03.206Z"
      },
      {
        "duration": 60277,
        "start_time": "2023-07-06T20:14:10.040Z"
      },
      {
        "duration": 379309,
        "start_time": "2023-07-06T20:15:14.468Z"
      },
      {
        "duration": 0,
        "start_time": "2023-07-06T20:21:33.787Z"
      },
      {
        "duration": 0,
        "start_time": "2023-07-06T20:21:33.792Z"
      },
      {
        "duration": 15,
        "start_time": "2023-07-06T20:21:36.387Z"
      },
      {
        "duration": 10,
        "start_time": "2023-07-06T20:21:37.555Z"
      },
      {
        "duration": 36,
        "start_time": "2023-07-06T20:21:39.185Z"
      },
      {
        "duration": 621,
        "start_time": "2023-07-06T20:21:47.777Z"
      },
      {
        "duration": 12,
        "start_time": "2023-07-06T20:21:57.946Z"
      },
      {
        "duration": 14,
        "start_time": "2023-07-06T20:22:08.307Z"
      },
      {
        "duration": 9,
        "start_time": "2023-07-06T20:22:15.864Z"
      },
      {
        "duration": 5,
        "start_time": "2023-07-06T20:23:45.284Z"
      },
      {
        "duration": 57670,
        "start_time": "2023-07-06T20:23:53.794Z"
      },
      {
        "duration": 0,
        "start_time": "2023-07-06T20:24:51.474Z"
      },
      {
        "duration": 6,
        "start_time": "2023-07-06T20:24:52.991Z"
      },
      {
        "duration": 1394578,
        "start_time": "2023-07-06T20:24:55.976Z"
      },
      {
        "duration": 32,
        "start_time": "2023-07-06T20:48:10.560Z"
      },
      {
        "duration": 67,
        "start_time": "2023-07-06T21:18:32.562Z"
      },
      {
        "duration": 5,
        "start_time": "2023-07-06T21:19:01.355Z"
      },
      {
        "duration": 278,
        "start_time": "2023-07-06T21:19:06.260Z"
      },
      {
        "duration": 1450786,
        "start_time": "2023-07-06T21:19:09.697Z"
      },
      {
        "duration": 13,
        "start_time": "2023-07-06T21:43:20.486Z"
      },
      {
        "duration": 6,
        "start_time": "2023-07-06T22:15:28.227Z"
      },
      {
        "duration": 3,
        "start_time": "2023-07-06T22:15:29.966Z"
      },
      {
        "duration": 6,
        "start_time": "2023-07-06T22:15:31.053Z"
      },
      {
        "duration": 5,
        "start_time": "2023-07-06T22:16:01.206Z"
      },
      {
        "duration": 808147,
        "start_time": "2023-07-06T22:16:05.806Z"
      },
      {
        "duration": 2659,
        "start_time": "2023-07-07T18:51:24.099Z"
      },
      {
        "duration": 3123,
        "start_time": "2023-07-07T18:51:26.760Z"
      },
      {
        "duration": 12,
        "start_time": "2023-07-07T18:51:29.885Z"
      },
      {
        "duration": 18,
        "start_time": "2023-07-07T18:51:29.898Z"
      },
      {
        "duration": 148,
        "start_time": "2023-07-07T18:51:29.918Z"
      },
      {
        "duration": 0,
        "start_time": "2023-07-07T18:51:30.068Z"
      },
      {
        "duration": 15,
        "start_time": "2023-07-07T18:52:22.204Z"
      },
      {
        "duration": 4,
        "start_time": "2023-07-07T18:52:22.965Z"
      },
      {
        "duration": 325579,
        "start_time": "2023-07-07T18:52:26.621Z"
      },
      {
        "duration": 5,
        "start_time": "2023-07-07T18:57:52.202Z"
      },
      {
        "duration": 150,
        "start_time": "2023-07-07T18:58:36.475Z"
      },
      {
        "duration": 32,
        "start_time": "2023-07-07T18:58:46.073Z"
      },
      {
        "duration": 4,
        "start_time": "2023-07-07T18:59:03.768Z"
      },
      {
        "duration": 6,
        "start_time": "2023-07-07T19:01:28.654Z"
      },
      {
        "duration": 4,
        "start_time": "2023-07-07T19:01:31.684Z"
      },
      {
        "duration": 5,
        "start_time": "2023-07-07T19:01:40.244Z"
      },
      {
        "duration": 2187,
        "start_time": "2023-07-07T19:01:46.411Z"
      },
      {
        "duration": 2218,
        "start_time": "2023-07-07T19:03:04.396Z"
      },
      {
        "duration": 101,
        "start_time": "2023-07-07T19:03:30.033Z"
      },
      {
        "duration": 96,
        "start_time": "2023-07-07T19:03:39.560Z"
      },
      {
        "duration": 2786,
        "start_time": "2023-07-07T19:04:12.619Z"
      },
      {
        "duration": 191,
        "start_time": "2023-07-07T19:04:35.991Z"
      },
      {
        "duration": 2226,
        "start_time": "2023-07-07T19:07:30.490Z"
      },
      {
        "duration": 135,
        "start_time": "2023-07-07T19:07:41.610Z"
      },
      {
        "duration": 5,
        "start_time": "2023-07-07T19:07:52.113Z"
      },
      {
        "duration": 2199,
        "start_time": "2023-07-07T19:08:06.850Z"
      },
      {
        "duration": 22,
        "start_time": "2023-07-07T19:09:20.502Z"
      },
      {
        "duration": 424,
        "start_time": "2023-07-07T19:10:36.821Z"
      },
      {
        "duration": 6,
        "start_time": "2023-07-07T19:19:01.992Z"
      },
      {
        "duration": 3,
        "start_time": "2023-07-07T19:19:03.637Z"
      },
      {
        "duration": 6,
        "start_time": "2023-07-07T19:19:09.410Z"
      },
      {
        "duration": 505,
        "start_time": "2023-07-07T19:19:14.023Z"
      },
      {
        "duration": 15,
        "start_time": "2023-07-07T19:21:42.492Z"
      },
      {
        "duration": 3,
        "start_time": "2023-07-07T19:21:56.310Z"
      },
      {
        "duration": 2686,
        "start_time": "2023-07-07T19:24:59.935Z"
      },
      {
        "duration": 16,
        "start_time": "2023-07-07T19:25:24.612Z"
      },
      {
        "duration": 2380,
        "start_time": "2023-07-07T19:25:46.167Z"
      },
      {
        "duration": 122,
        "start_time": "2023-07-07T19:26:02.132Z"
      },
      {
        "duration": 111,
        "start_time": "2023-07-07T19:26:17.442Z"
      },
      {
        "duration": 2364,
        "start_time": "2023-07-07T19:27:35.567Z"
      },
      {
        "duration": 5,
        "start_time": "2023-07-07T20:52:02.083Z"
      },
      {
        "duration": 3,
        "start_time": "2023-07-07T20:52:26.746Z"
      },
      {
        "duration": 1346,
        "start_time": "2023-07-07T20:52:44.364Z"
      },
      {
        "duration": 16,
        "start_time": "2023-07-07T20:53:01.427Z"
      },
      {
        "duration": 4,
        "start_time": "2023-07-07T20:53:02.776Z"
      },
      {
        "duration": 33,
        "start_time": "2023-07-07T20:53:04.871Z"
      },
      {
        "duration": 4,
        "start_time": "2023-07-07T20:53:07.898Z"
      },
      {
        "duration": 3,
        "start_time": "2023-07-07T20:59:07.161Z"
      },
      {
        "duration": 3,
        "start_time": "2023-07-07T21:01:06.518Z"
      },
      {
        "duration": 3,
        "start_time": "2023-07-07T21:01:37.147Z"
      },
      {
        "duration": 61,
        "start_time": "2023-07-07T21:01:47.195Z"
      },
      {
        "duration": 584,
        "start_time": "2023-07-07T21:03:52.791Z"
      },
      {
        "duration": 5,
        "start_time": "2023-07-07T21:04:02.352Z"
      },
      {
        "duration": 211,
        "start_time": "2023-07-07T21:04:05.257Z"
      },
      {
        "duration": 4,
        "start_time": "2023-07-07T21:04:08.576Z"
      },
      {
        "duration": 78,
        "start_time": "2023-07-07T21:04:28.287Z"
      },
      {
        "duration": 4,
        "start_time": "2023-07-07T21:04:31.389Z"
      },
      {
        "duration": 5,
        "start_time": "2023-07-07T21:05:56.549Z"
      },
      {
        "duration": 5,
        "start_time": "2023-07-07T21:06:05.228Z"
      },
      {
        "duration": 4,
        "start_time": "2023-07-07T21:06:56.147Z"
      },
      {
        "duration": 4,
        "start_time": "2023-07-07T21:06:59.272Z"
      },
      {
        "duration": 4,
        "start_time": "2023-07-07T21:07:24.514Z"
      },
      {
        "duration": 73,
        "start_time": "2023-07-07T21:07:44.455Z"
      },
      {
        "duration": 4,
        "start_time": "2023-07-07T21:07:53.567Z"
      },
      {
        "duration": 4,
        "start_time": "2023-07-07T21:08:24.640Z"
      },
      {
        "duration": 7,
        "start_time": "2023-07-07T21:08:54.009Z"
      },
      {
        "duration": 1045,
        "start_time": "2023-07-07T21:08:54.018Z"
      },
      {
        "duration": 8,
        "start_time": "2023-07-07T21:08:55.065Z"
      },
      {
        "duration": 10,
        "start_time": "2023-07-07T21:08:55.075Z"
      },
      {
        "duration": 4,
        "start_time": "2023-07-07T21:08:55.087Z"
      },
      {
        "duration": 14,
        "start_time": "2023-07-07T21:08:55.093Z"
      },
      {
        "duration": 16,
        "start_time": "2023-07-07T21:08:55.109Z"
      },
      {
        "duration": 6,
        "start_time": "2023-07-07T21:08:55.127Z"
      },
      {
        "duration": 37,
        "start_time": "2023-07-07T21:08:55.134Z"
      },
      {
        "duration": 6,
        "start_time": "2023-07-07T21:08:55.173Z"
      },
      {
        "duration": 7,
        "start_time": "2023-07-07T21:08:55.180Z"
      },
      {
        "duration": 89,
        "start_time": "2023-07-07T21:08:55.188Z"
      },
      {
        "duration": 4,
        "start_time": "2023-07-07T21:08:59.990Z"
      },
      {
        "duration": 5,
        "start_time": "2023-07-07T21:09:57.861Z"
      },
      {
        "duration": 4,
        "start_time": "2023-07-07T21:09:59.077Z"
      },
      {
        "duration": 2784,
        "start_time": "2023-07-07T21:10:29.899Z"
      },
      {
        "duration": 807,
        "start_time": "2023-07-07T21:10:32.685Z"
      },
      {
        "duration": 11,
        "start_time": "2023-07-07T21:10:33.494Z"
      },
      {
        "duration": 9,
        "start_time": "2023-07-07T21:10:33.506Z"
      },
      {
        "duration": 2,
        "start_time": "2023-07-07T21:10:33.516Z"
      },
      {
        "duration": 223,
        "start_time": "2023-07-07T21:10:33.519Z"
      },
      {
        "duration": 1298,
        "start_time": "2023-07-07T21:10:33.744Z"
      },
      {
        "duration": 4,
        "start_time": "2023-07-07T21:10:35.044Z"
      },
      {
        "duration": 28,
        "start_time": "2023-07-07T21:10:35.050Z"
      },
      {
        "duration": 11,
        "start_time": "2023-07-07T21:10:35.081Z"
      },
      {
        "duration": 15,
        "start_time": "2023-07-07T21:10:35.094Z"
      },
      {
        "duration": 4,
        "start_time": "2023-07-07T21:10:35.111Z"
      },
      {
        "duration": 4,
        "start_time": "2023-07-07T21:10:39.770Z"
      },
      {
        "duration": 5,
        "start_time": "2023-07-07T21:10:56.084Z"
      },
      {
        "duration": 4,
        "start_time": "2023-07-07T21:11:03.398Z"
      },
      {
        "duration": 3,
        "start_time": "2023-07-07T21:11:04.565Z"
      },
      {
        "duration": 4,
        "start_time": "2023-07-07T21:15:16.725Z"
      },
      {
        "duration": 3,
        "start_time": "2023-07-07T21:15:17.660Z"
      },
      {
        "duration": 4,
        "start_time": "2023-07-07T21:15:58.641Z"
      },
      {
        "duration": 4,
        "start_time": "2023-07-07T21:16:05.211Z"
      },
      {
        "duration": 79,
        "start_time": "2023-07-07T21:16:34.770Z"
      },
      {
        "duration": 4,
        "start_time": "2023-07-07T21:16:36.578Z"
      },
      {
        "duration": 151,
        "start_time": "2023-07-07T21:17:03.754Z"
      },
      {
        "duration": 12,
        "start_time": "2023-07-07T21:17:13.706Z"
      },
      {
        "duration": 129,
        "start_time": "2023-07-07T21:17:35.746Z"
      },
      {
        "duration": 4,
        "start_time": "2023-07-07T21:17:39.647Z"
      },
      {
        "duration": 5,
        "start_time": "2023-07-07T21:18:15.087Z"
      },
      {
        "duration": 37,
        "start_time": "2023-07-07T21:18:18.688Z"
      },
      {
        "duration": 5,
        "start_time": "2023-07-07T21:18:19.933Z"
      },
      {
        "duration": 6,
        "start_time": "2023-07-07T21:18:24.325Z"
      },
      {
        "duration": 4,
        "start_time": "2023-07-07T21:18:26.085Z"
      },
      {
        "duration": 5,
        "start_time": "2023-07-07T21:18:30.126Z"
      },
      {
        "duration": 2223,
        "start_time": "2023-07-07T21:18:33.027Z"
      },
      {
        "duration": 2123,
        "start_time": "2023-07-07T21:18:47.422Z"
      },
      {
        "duration": 20,
        "start_time": "2023-07-07T21:18:51.518Z"
      },
      {
        "duration": 106,
        "start_time": "2023-07-07T21:19:04.613Z"
      },
      {
        "duration": 287,
        "start_time": "2023-07-07T21:19:11.703Z"
      },
      {
        "duration": 2792,
        "start_time": "2023-07-08T16:25:23.550Z"
      },
      {
        "duration": 3720,
        "start_time": "2023-07-08T16:25:26.344Z"
      },
      {
        "duration": 14,
        "start_time": "2023-07-08T16:25:30.066Z"
      },
      {
        "duration": 24,
        "start_time": "2023-07-08T16:25:30.081Z"
      },
      {
        "duration": 21,
        "start_time": "2023-07-08T16:25:30.107Z"
      },
      {
        "duration": 714,
        "start_time": "2023-07-08T16:25:30.130Z"
      },
      {
        "duration": 4,
        "start_time": "2023-07-08T16:25:30.847Z"
      },
      {
        "duration": 1352,
        "start_time": "2023-07-08T16:26:03.653Z"
      },
      {
        "duration": 32,
        "start_time": "2023-07-08T16:30:03.023Z"
      },
      {
        "duration": 4,
        "start_time": "2023-07-08T16:30:08.335Z"
      },
      {
        "duration": 4,
        "start_time": "2023-07-08T16:30:13.452Z"
      },
      {
        "duration": 4,
        "start_time": "2023-07-08T16:30:14.492Z"
      },
      {
        "duration": 174,
        "start_time": "2023-07-08T16:32:22.689Z"
      },
      {
        "duration": 18,
        "start_time": "2023-07-08T16:33:49.320Z"
      },
      {
        "duration": 17,
        "start_time": "2023-07-08T16:34:11.607Z"
      },
      {
        "duration": 33,
        "start_time": "2023-07-08T16:34:32.494Z"
      },
      {
        "duration": 4,
        "start_time": "2023-07-08T16:36:11.655Z"
      },
      {
        "duration": 5,
        "start_time": "2023-07-08T16:38:47.047Z"
      },
      {
        "duration": 5,
        "start_time": "2023-07-08T16:38:53.740Z"
      },
      {
        "duration": 5,
        "start_time": "2023-07-08T16:39:07.131Z"
      },
      {
        "duration": 4,
        "start_time": "2023-07-08T16:40:25.006Z"
      },
      {
        "duration": 25,
        "start_time": "2023-07-08T16:40:27.354Z"
      },
      {
        "duration": 5,
        "start_time": "2023-07-08T16:42:01.546Z"
      },
      {
        "duration": 17,
        "start_time": "2023-07-08T16:42:04.145Z"
      },
      {
        "duration": 4,
        "start_time": "2023-07-08T16:42:15.010Z"
      },
      {
        "duration": 4,
        "start_time": "2023-07-08T16:42:17.574Z"
      },
      {
        "duration": 4,
        "start_time": "2023-07-08T16:42:55.105Z"
      },
      {
        "duration": 3,
        "start_time": "2023-07-08T16:44:30.763Z"
      },
      {
        "duration": 4,
        "start_time": "2023-07-08T16:44:33.035Z"
      },
      {
        "duration": 7,
        "start_time": "2023-07-08T16:44:49.241Z"
      },
      {
        "duration": 6,
        "start_time": "2023-07-08T16:45:21.330Z"
      },
      {
        "duration": 10,
        "start_time": "2023-07-08T16:45:31.599Z"
      },
      {
        "duration": 3,
        "start_time": "2023-07-08T16:45:41.054Z"
      },
      {
        "duration": 5,
        "start_time": "2023-07-08T16:45:46.512Z"
      },
      {
        "duration": 4,
        "start_time": "2023-07-08T16:48:08.131Z"
      },
      {
        "duration": 5,
        "start_time": "2023-07-08T16:48:09.901Z"
      },
      {
        "duration": 6,
        "start_time": "2023-07-08T16:50:10.524Z"
      },
      {
        "duration": 6,
        "start_time": "2023-07-08T16:50:27.451Z"
      },
      {
        "duration": 4,
        "start_time": "2023-07-08T16:50:54.803Z"
      },
      {
        "duration": 4,
        "start_time": "2023-07-08T16:50:56.946Z"
      },
      {
        "duration": 5,
        "start_time": "2023-07-08T16:51:15.465Z"
      },
      {
        "duration": 4,
        "start_time": "2023-07-08T16:51:41.019Z"
      },
      {
        "duration": 6,
        "start_time": "2023-07-08T16:51:46.304Z"
      },
      {
        "duration": 6,
        "start_time": "2023-07-08T16:51:57.709Z"
      },
      {
        "duration": 774,
        "start_time": "2023-07-08T16:51:57.718Z"
      },
      {
        "duration": 8,
        "start_time": "2023-07-08T16:51:58.494Z"
      },
      {
        "duration": 6,
        "start_time": "2023-07-08T16:51:58.514Z"
      },
      {
        "duration": 9,
        "start_time": "2023-07-08T16:51:58.522Z"
      },
      {
        "duration": 11,
        "start_time": "2023-07-08T16:51:58.533Z"
      },
      {
        "duration": 5,
        "start_time": "2023-07-08T16:51:58.546Z"
      },
      {
        "duration": 8,
        "start_time": "2023-07-08T16:51:58.552Z"
      },
      {
        "duration": 9,
        "start_time": "2023-07-08T16:51:58.562Z"
      },
      {
        "duration": 6,
        "start_time": "2023-07-08T16:51:58.572Z"
      },
      {
        "duration": 7,
        "start_time": "2023-07-08T16:52:00.503Z"
      },
      {
        "duration": 6,
        "start_time": "2023-07-08T16:52:31.063Z"
      },
      {
        "duration": 6,
        "start_time": "2023-07-08T16:53:08.101Z"
      },
      {
        "duration": 11,
        "start_time": "2023-07-08T16:53:22.230Z"
      },
      {
        "duration": 6,
        "start_time": "2023-07-08T16:53:48.298Z"
      },
      {
        "duration": 4,
        "start_time": "2023-07-08T16:54:21.203Z"
      },
      {
        "duration": 16,
        "start_time": "2023-07-08T16:54:36.420Z"
      },
      {
        "duration": 4,
        "start_time": "2023-07-08T16:54:54.014Z"
      },
      {
        "duration": 4,
        "start_time": "2023-07-08T16:55:17.257Z"
      },
      {
        "duration": 11,
        "start_time": "2023-07-08T16:55:18.998Z"
      },
      {
        "duration": 30,
        "start_time": "2023-07-08T16:55:47.695Z"
      },
      {
        "duration": 5,
        "start_time": "2023-07-08T16:55:52.099Z"
      },
      {
        "duration": 24,
        "start_time": "2023-07-08T16:56:11.895Z"
      },
      {
        "duration": 1038,
        "start_time": "2023-07-08T16:56:45.118Z"
      },
      {
        "duration": 8160,
        "start_time": "2023-07-08T16:56:55.710Z"
      },
      {
        "duration": 5,
        "start_time": "2023-07-08T16:57:19.095Z"
      },
      {
        "duration": 64121,
        "start_time": "2023-07-08T16:57:30.523Z"
      },
      {
        "duration": 6,
        "start_time": "2023-07-08T17:05:51.873Z"
      },
      {
        "duration": 7,
        "start_time": "2023-07-08T17:09:30.809Z"
      },
      {
        "duration": 15,
        "start_time": "2023-07-08T17:09:32.533Z"
      },
      {
        "duration": 6,
        "start_time": "2023-07-08T17:11:51.113Z"
      },
      {
        "duration": 9,
        "start_time": "2023-07-08T17:12:22.115Z"
      },
      {
        "duration": 536,
        "start_time": "2023-07-08T17:12:30.552Z"
      },
      {
        "duration": 4,
        "start_time": "2023-07-08T17:12:56.213Z"
      },
      {
        "duration": 6,
        "start_time": "2023-07-08T17:13:12.741Z"
      },
      {
        "duration": 5,
        "start_time": "2023-07-08T17:13:16.564Z"
      },
      {
        "duration": 6,
        "start_time": "2023-07-08T17:17:44.305Z"
      },
      {
        "duration": 46,
        "start_time": "2023-07-08T17:17:57.830Z"
      },
      {
        "duration": 280,
        "start_time": "2023-07-08T17:20:21.105Z"
      },
      {
        "duration": 7,
        "start_time": "2023-07-08T17:20:28.701Z"
      },
      {
        "duration": 7037,
        "start_time": "2023-07-08T17:21:12.510Z"
      },
      {
        "duration": 27,
        "start_time": "2023-07-08T17:21:33.228Z"
      },
      {
        "duration": 23079,
        "start_time": "2023-07-08T17:21:38.350Z"
      },
      {
        "duration": 4,
        "start_time": "2023-07-08T17:34:58.506Z"
      },
      {
        "duration": 44572,
        "start_time": "2023-07-08T17:35:00.692Z"
      },
      {
        "duration": 35,
        "start_time": "2023-07-08T17:35:45.267Z"
      },
      {
        "duration": 4,
        "start_time": "2023-07-08T17:36:44.248Z"
      },
      {
        "duration": 9554,
        "start_time": "2023-07-08T17:36:44.800Z"
      },
      {
        "duration": 37,
        "start_time": "2023-07-08T17:37:11.735Z"
      },
      {
        "duration": 3,
        "start_time": "2023-07-08T17:37:50.834Z"
      },
      {
        "duration": 9075,
        "start_time": "2023-07-08T17:37:51.199Z"
      },
      {
        "duration": 26,
        "start_time": "2023-07-08T17:38:07.755Z"
      },
      {
        "duration": 4,
        "start_time": "2023-07-08T17:38:35.052Z"
      },
      {
        "duration": 16163,
        "start_time": "2023-07-08T17:38:35.533Z"
      },
      {
        "duration": 36,
        "start_time": "2023-07-08T17:38:55.250Z"
      },
      {
        "duration": 5,
        "start_time": "2023-07-08T17:39:06.126Z"
      },
      {
        "duration": 46271,
        "start_time": "2023-07-08T17:39:06.736Z"
      },
      {
        "duration": 40,
        "start_time": "2023-07-08T17:39:53.009Z"
      },
      {
        "duration": 3,
        "start_time": "2023-07-08T17:40:12.360Z"
      },
      {
        "duration": 47013,
        "start_time": "2023-07-08T17:40:14.335Z"
      },
      {
        "duration": 35,
        "start_time": "2023-07-08T17:41:01.350Z"
      },
      {
        "duration": 4,
        "start_time": "2023-07-08T17:41:16.194Z"
      },
      {
        "duration": 170511,
        "start_time": "2023-07-08T17:41:16.579Z"
      },
      {
        "duration": 17,
        "start_time": "2023-07-08T17:48:27.701Z"
      },
      {
        "duration": 14,
        "start_time": "2023-07-08T17:48:47.791Z"
      },
      {
        "duration": 17,
        "start_time": "2023-07-08T17:48:56.091Z"
      },
      {
        "duration": 20,
        "start_time": "2023-07-08T17:49:10.787Z"
      },
      {
        "duration": 702,
        "start_time": "2023-07-08T17:49:16.452Z"
      },
      {
        "duration": 71482,
        "start_time": "2023-07-08T17:49:30.380Z"
      },
      {
        "duration": 1157463,
        "start_time": "2023-07-08T17:50:44.335Z"
      },
      {
        "duration": 30621,
        "start_time": "2023-07-08T19:53:53.337Z"
      },
      {
        "duration": 132951,
        "start_time": "2023-07-08T19:54:31.442Z"
      },
      {
        "duration": 1752691,
        "start_time": "2023-07-08T20:00:37.987Z"
      },
      {
        "duration": 107332,
        "start_time": "2023-07-08T20:51:14.654Z"
      },
      {
        "duration": 12,
        "start_time": "2023-07-08T21:07:41.718Z"
      },
      {
        "duration": 21252,
        "start_time": "2023-07-08T21:08:00.070Z"
      },
      {
        "duration": 83,
        "start_time": "2023-07-08T21:13:08.907Z"
      },
      {
        "duration": 344,
        "start_time": "2023-07-08T21:14:09.106Z"
      },
      {
        "duration": 10,
        "start_time": "2023-07-08T21:15:01.667Z"
      },
      {
        "duration": 2,
        "start_time": "2023-07-08T21:15:31.256Z"
      },
      {
        "duration": 4911,
        "start_time": "2023-07-08T21:15:35.120Z"
      },
      {
        "duration": 67,
        "start_time": "2023-07-08T21:16:37.814Z"
      },
      {
        "duration": 15,
        "start_time": "2023-07-08T21:16:41.028Z"
      },
      {
        "duration": 9494,
        "start_time": "2023-07-08T21:16:48.637Z"
      },
      {
        "duration": 42865,
        "start_time": "2023-07-08T21:17:36.675Z"
      },
      {
        "duration": 3028,
        "start_time": "2023-07-08T21:19:49.537Z"
      },
      {
        "duration": 981,
        "start_time": "2023-07-08T21:19:52.568Z"
      },
      {
        "duration": 67,
        "start_time": "2023-07-08T21:19:53.551Z"
      },
      {
        "duration": 14,
        "start_time": "2023-07-08T21:19:53.620Z"
      },
      {
        "duration": 20,
        "start_time": "2023-07-08T21:19:53.635Z"
      },
      {
        "duration": 57,
        "start_time": "2023-07-08T21:19:53.657Z"
      },
      {
        "duration": 116,
        "start_time": "2023-07-08T21:19:53.715Z"
      },
      {
        "duration": 119,
        "start_time": "2023-07-08T21:19:53.833Z"
      },
      {
        "duration": 45,
        "start_time": "2023-07-08T21:19:53.954Z"
      },
      {
        "duration": 15,
        "start_time": "2023-07-08T21:19:54.015Z"
      },
      {
        "duration": 384,
        "start_time": "2023-07-08T21:19:54.032Z"
      },
      {
        "duration": 0,
        "start_time": "2023-07-08T21:19:54.418Z"
      },
      {
        "duration": 0,
        "start_time": "2023-07-08T21:19:54.420Z"
      },
      {
        "duration": 0,
        "start_time": "2023-07-08T21:19:54.422Z"
      },
      {
        "duration": 0,
        "start_time": "2023-07-08T21:19:54.423Z"
      },
      {
        "duration": 0,
        "start_time": "2023-07-08T21:19:54.424Z"
      },
      {
        "duration": 0,
        "start_time": "2023-07-08T21:19:54.425Z"
      },
      {
        "duration": 0,
        "start_time": "2023-07-08T21:19:54.426Z"
      },
      {
        "duration": 0,
        "start_time": "2023-07-08T21:19:54.427Z"
      },
      {
        "duration": 0,
        "start_time": "2023-07-08T21:19:54.429Z"
      },
      {
        "duration": 0,
        "start_time": "2023-07-08T21:19:54.430Z"
      },
      {
        "duration": 0,
        "start_time": "2023-07-08T21:19:54.432Z"
      },
      {
        "duration": 1,
        "start_time": "2023-07-08T21:19:54.433Z"
      },
      {
        "duration": 0,
        "start_time": "2023-07-08T21:19:54.435Z"
      },
      {
        "duration": 0,
        "start_time": "2023-07-08T21:19:54.437Z"
      },
      {
        "duration": 0,
        "start_time": "2023-07-08T21:19:54.438Z"
      },
      {
        "duration": 0,
        "start_time": "2023-07-08T21:19:54.440Z"
      },
      {
        "duration": 0,
        "start_time": "2023-07-08T21:19:54.441Z"
      },
      {
        "duration": 0,
        "start_time": "2023-07-08T21:19:54.442Z"
      },
      {
        "duration": 0,
        "start_time": "2023-07-08T21:19:54.444Z"
      },
      {
        "duration": 0,
        "start_time": "2023-07-08T21:19:54.445Z"
      },
      {
        "duration": 0,
        "start_time": "2023-07-08T21:19:54.447Z"
      },
      {
        "duration": 0,
        "start_time": "2023-07-08T21:19:54.448Z"
      },
      {
        "duration": 4,
        "start_time": "2023-07-08T21:20:48.084Z"
      },
      {
        "duration": 7,
        "start_time": "2023-07-08T21:20:48.090Z"
      },
      {
        "duration": 14,
        "start_time": "2023-07-08T21:20:48.099Z"
      },
      {
        "duration": 14,
        "start_time": "2023-07-08T21:20:48.115Z"
      },
      {
        "duration": 1325,
        "start_time": "2023-07-08T21:20:48.131Z"
      },
      {
        "duration": 3,
        "start_time": "2023-07-08T21:20:49.457Z"
      },
      {
        "duration": 23,
        "start_time": "2023-07-08T21:20:49.461Z"
      },
      {
        "duration": 413363,
        "start_time": "2023-07-08T21:20:49.486Z"
      },
      {
        "duration": 4,
        "start_time": "2023-07-08T21:27:42.850Z"
      },
      {
        "duration": 7,
        "start_time": "2023-07-08T21:27:42.855Z"
      },
      {
        "duration": 49,
        "start_time": "2023-07-08T21:27:42.864Z"
      },
      {
        "duration": 3,
        "start_time": "2023-07-08T21:27:42.915Z"
      },
      {
        "duration": 2281,
        "start_time": "2023-07-08T21:27:42.920Z"
      },
      {
        "duration": 38,
        "start_time": "2023-07-08T21:27:45.204Z"
      },
      {
        "duration": 2,
        "start_time": "2023-07-08T21:27:45.244Z"
      },
      {
        "duration": 6,
        "start_time": "2023-07-08T21:27:45.248Z"
      },
      {
        "duration": 57745,
        "start_time": "2023-07-08T21:27:45.256Z"
      },
      {
        "duration": 102,
        "start_time": "2023-07-08T21:28:43.003Z"
      },
      {
        "duration": 170664,
        "start_time": "2023-07-08T21:28:43.113Z"
      },
      {
        "duration": 57,
        "start_time": "2023-07-08T21:31:33.779Z"
      },
      {
        "duration": 0,
        "start_time": "2023-07-08T21:31:33.837Z"
      },
      {
        "duration": 0,
        "start_time": "2023-07-08T21:31:33.839Z"
      },
      {
        "duration": 0,
        "start_time": "2023-07-08T21:31:33.841Z"
      },
      {
        "duration": 0,
        "start_time": "2023-07-08T21:31:33.842Z"
      },
      {
        "duration": 0,
        "start_time": "2023-07-08T21:31:33.843Z"
      },
      {
        "duration": 0,
        "start_time": "2023-07-08T21:31:33.844Z"
      },
      {
        "duration": 0,
        "start_time": "2023-07-08T21:31:33.845Z"
      },
      {
        "duration": 761047,
        "start_time": "2023-07-08T21:36:19.539Z"
      },
      {
        "duration": 15,
        "start_time": "2023-07-08T21:49:00.588Z"
      },
      {
        "duration": 0,
        "start_time": "2023-07-08T21:49:00.613Z"
      },
      {
        "duration": 0,
        "start_time": "2023-07-08T21:49:00.615Z"
      },
      {
        "duration": 0,
        "start_time": "2023-07-08T21:49:00.616Z"
      },
      {
        "duration": 0,
        "start_time": "2023-07-08T21:49:00.617Z"
      },
      {
        "duration": 0,
        "start_time": "2023-07-08T21:49:00.618Z"
      },
      {
        "duration": 2488,
        "start_time": "2023-07-08T22:10:35.526Z"
      },
      {
        "duration": 734206,
        "start_time": "2023-07-08T22:10:44.016Z"
      },
      {
        "duration": 62797,
        "start_time": "2023-07-08T22:22:58.225Z"
      },
      {
        "duration": 108750,
        "start_time": "2023-07-08T22:24:11.766Z"
      },
      {
        "duration": 17,
        "start_time": "2023-07-08T22:31:15.034Z"
      },
      {
        "duration": 29,
        "start_time": "2023-07-08T22:31:22.289Z"
      },
      {
        "duration": 53,
        "start_time": "2023-07-08T22:31:39.184Z"
      },
      {
        "duration": 248,
        "start_time": "2023-07-08T22:31:51.417Z"
      },
      {
        "duration": 54,
        "start_time": "2023-07-08T22:32:37.023Z"
      },
      {
        "duration": 157,
        "start_time": "2023-07-08T22:33:58.741Z"
      },
      {
        "duration": 53,
        "start_time": "2023-07-08T22:34:40.765Z"
      },
      {
        "duration": 183,
        "start_time": "2023-07-08T22:34:43.766Z"
      },
      {
        "duration": 90,
        "start_time": "2023-07-08T22:35:23.841Z"
      },
      {
        "duration": 4,
        "start_time": "2023-07-08T22:37:56.485Z"
      },
      {
        "duration": 24,
        "start_time": "2023-07-08T22:38:00.503Z"
      },
      {
        "duration": 16,
        "start_time": "2023-07-08T22:38:57.045Z"
      },
      {
        "duration": 17,
        "start_time": "2023-07-08T22:39:17.381Z"
      },
      {
        "duration": 17,
        "start_time": "2023-07-08T22:39:34.946Z"
      },
      {
        "duration": 4,
        "start_time": "2023-07-08T22:40:25.738Z"
      },
      {
        "duration": 13,
        "start_time": "2023-07-08T22:40:28.593Z"
      },
      {
        "duration": 784,
        "start_time": "2023-07-08T22:41:20.616Z"
      },
      {
        "duration": 9,
        "start_time": "2023-07-08T22:41:27.138Z"
      },
      {
        "duration": 8,
        "start_time": "2023-07-08T22:41:27.150Z"
      },
      {
        "duration": 20,
        "start_time": "2023-07-08T22:41:27.160Z"
      },
      {
        "duration": 18,
        "start_time": "2023-07-08T22:41:27.182Z"
      },
      {
        "duration": 13,
        "start_time": "2023-07-08T22:41:27.202Z"
      },
      {
        "duration": 8,
        "start_time": "2023-07-08T22:41:27.217Z"
      },
      {
        "duration": 5,
        "start_time": "2023-07-08T22:41:27.227Z"
      },
      {
        "duration": 31,
        "start_time": "2023-07-08T22:41:27.234Z"
      },
      {
        "duration": 11,
        "start_time": "2023-07-08T22:41:27.266Z"
      },
      {
        "duration": 35,
        "start_time": "2023-07-08T22:41:27.280Z"
      },
      {
        "duration": 45068,
        "start_time": "2023-07-08T22:41:27.317Z"
      },
      {
        "duration": 5,
        "start_time": "2023-07-08T22:42:12.387Z"
      },
      {
        "duration": 252,
        "start_time": "2023-07-08T22:42:12.394Z"
      },
      {
        "duration": 8,
        "start_time": "2023-07-08T22:42:12.648Z"
      },
      {
        "duration": 18,
        "start_time": "2023-07-08T22:42:12.658Z"
      },
      {
        "duration": 251,
        "start_time": "2023-07-08T22:42:12.678Z"
      },
      {
        "duration": 9,
        "start_time": "2023-07-08T22:42:12.931Z"
      },
      {
        "duration": 15,
        "start_time": "2023-07-08T22:42:12.942Z"
      },
      {
        "duration": 31,
        "start_time": "2023-07-08T22:42:12.959Z"
      },
      {
        "duration": 27922,
        "start_time": "2023-07-08T22:42:12.992Z"
      },
      {
        "duration": 116,
        "start_time": "2023-07-08T22:42:40.916Z"
      },
      {
        "duration": 103619,
        "start_time": "2023-07-08T22:42:41.034Z"
      },
      {
        "duration": 69,
        "start_time": "2023-07-08T22:44:24.655Z"
      },
      {
        "duration": 53195,
        "start_time": "2023-07-08T22:44:24.726Z"
      },
      {
        "duration": 34,
        "start_time": "2023-07-08T22:45:17.923Z"
      },
      {
        "duration": 6,
        "start_time": "2023-07-08T22:45:17.959Z"
      },
      {
        "duration": 48,
        "start_time": "2023-07-08T22:45:17.966Z"
      },
      {
        "duration": 38,
        "start_time": "2023-07-08T22:45:18.018Z"
      },
      {
        "duration": 21,
        "start_time": "2023-07-08T22:45:18.057Z"
      },
      {
        "duration": 20,
        "start_time": "2023-07-08T22:51:00.639Z"
      },
      {
        "duration": 5,
        "start_time": "2023-07-08T22:51:26.743Z"
      },
      {
        "duration": 13,
        "start_time": "2023-07-08T22:51:30.806Z"
      },
      {
        "duration": 2681,
        "start_time": "2023-07-08T22:51:57.735Z"
      },
      {
        "duration": 1489,
        "start_time": "2023-07-08T22:52:00.419Z"
      },
      {
        "duration": 10,
        "start_time": "2023-07-08T22:52:01.912Z"
      },
      {
        "duration": 25,
        "start_time": "2023-07-08T22:52:01.924Z"
      },
      {
        "duration": 40,
        "start_time": "2023-07-08T22:52:01.951Z"
      },
      {
        "duration": 17,
        "start_time": "2023-07-08T22:52:01.993Z"
      },
      {
        "duration": 24,
        "start_time": "2023-07-08T22:52:02.013Z"
      },
      {
        "duration": 16,
        "start_time": "2023-07-08T22:52:02.039Z"
      },
      {
        "duration": 60,
        "start_time": "2023-07-08T22:52:02.056Z"
      },
      {
        "duration": 15,
        "start_time": "2023-07-08T22:52:02.119Z"
      },
      {
        "duration": 49,
        "start_time": "2023-07-08T22:52:02.135Z"
      },
      {
        "duration": 43747,
        "start_time": "2023-07-08T22:52:02.186Z"
      },
      {
        "duration": 5,
        "start_time": "2023-07-08T22:52:45.936Z"
      },
      {
        "duration": 12,
        "start_time": "2023-07-08T22:52:45.943Z"
      },
      {
        "duration": 12,
        "start_time": "2023-07-08T22:52:45.957Z"
      },
      {
        "duration": 12,
        "start_time": "2023-07-08T22:52:45.971Z"
      },
      {
        "duration": 1420,
        "start_time": "2023-07-08T22:52:45.984Z"
      },
      {
        "duration": 1344,
        "start_time": "2023-07-08T22:52:47.406Z"
      },
      {
        "duration": 18,
        "start_time": "2023-07-08T22:52:48.752Z"
      },
      {
        "duration": 2,
        "start_time": "2023-07-08T22:52:48.772Z"
      },
      {
        "duration": 8,
        "start_time": "2023-07-08T22:52:48.776Z"
      },
      {
        "duration": 53329,
        "start_time": "2023-07-08T22:52:48.786Z"
      },
      {
        "duration": 103,
        "start_time": "2023-07-08T22:53:42.119Z"
      },
      {
        "duration": 656268,
        "start_time": "2023-07-08T22:53:42.224Z"
      },
      {
        "duration": 259,
        "start_time": "2023-07-08T23:04:38.494Z"
      },
      {
        "duration": 97477,
        "start_time": "2023-07-08T23:04:38.755Z"
      },
      {
        "duration": 101,
        "start_time": "2023-07-08T23:06:16.234Z"
      },
      {
        "duration": 3,
        "start_time": "2023-07-08T23:06:16.339Z"
      },
      {
        "duration": 15,
        "start_time": "2023-07-08T23:06:16.344Z"
      },
      {
        "duration": 7,
        "start_time": "2023-07-08T23:06:16.361Z"
      },
      {
        "duration": 6,
        "start_time": "2023-07-08T23:06:16.370Z"
      },
      {
        "duration": 55,
        "start_time": "2023-07-08T23:11:54.292Z"
      },
      {
        "duration": 20,
        "start_time": "2023-07-08T23:12:03.721Z"
      },
      {
        "duration": 5,
        "start_time": "2023-07-08T23:12:38.625Z"
      },
      {
        "duration": 130,
        "start_time": "2023-07-08T23:15:48.850Z"
      },
      {
        "duration": 3341,
        "start_time": "2023-07-10T17:01:32.265Z"
      },
      {
        "duration": 3,
        "start_time": "2023-07-10T17:02:47.671Z"
      },
      {
        "duration": 12,
        "start_time": "2023-07-10T17:02:47.680Z"
      },
      {
        "duration": 2303,
        "start_time": "2023-07-10T17:02:47.693Z"
      },
      {
        "duration": 13,
        "start_time": "2023-07-10T17:02:49.998Z"
      },
      {
        "duration": 12,
        "start_time": "2023-07-10T17:02:50.013Z"
      },
      {
        "duration": 12,
        "start_time": "2023-07-10T17:02:50.027Z"
      },
      {
        "duration": 12,
        "start_time": "2023-07-10T17:02:50.040Z"
      },
      {
        "duration": 23,
        "start_time": "2023-07-10T17:02:50.053Z"
      },
      {
        "duration": 7,
        "start_time": "2023-07-10T17:02:50.078Z"
      },
      {
        "duration": 1387,
        "start_time": "2023-07-10T17:02:52.284Z"
      },
      {
        "duration": 427393,
        "start_time": "2023-07-10T17:03:02.243Z"
      },
      {
        "duration": 4,
        "start_time": "2023-07-10T17:10:09.638Z"
      },
      {
        "duration": 4,
        "start_time": "2023-07-10T17:16:04.804Z"
      },
      {
        "duration": 5,
        "start_time": "2023-07-10T17:16:05.524Z"
      },
      {
        "duration": 29,
        "start_time": "2023-07-10T17:16:06.063Z"
      },
      {
        "duration": 2,
        "start_time": "2023-07-10T17:16:06.493Z"
      },
      {
        "duration": 7504,
        "start_time": "2023-07-10T17:16:07.335Z"
      },
      {
        "duration": 99,
        "start_time": "2023-07-10T17:16:14.841Z"
      },
      {
        "duration": 5,
        "start_time": "2023-07-10T17:16:21.045Z"
      },
      {
        "duration": 161,
        "start_time": "2023-07-10T17:16:25.470Z"
      },
      {
        "duration": 13,
        "start_time": "2023-07-10T17:16:45.838Z"
      },
      {
        "duration": 21,
        "start_time": "2023-07-10T17:18:26.499Z"
      },
      {
        "duration": 15,
        "start_time": "2023-07-10T17:20:18.489Z"
      },
      {
        "duration": 15,
        "start_time": "2023-07-10T17:20:40.054Z"
      },
      {
        "duration": 19,
        "start_time": "2023-07-10T17:22:00.710Z"
      },
      {
        "duration": 13,
        "start_time": "2023-07-10T17:22:12.498Z"
      },
      {
        "duration": 44331,
        "start_time": "2023-07-10T17:22:19.011Z"
      },
      {
        "duration": 1456957,
        "start_time": "2023-07-10T17:23:09.688Z"
      },
      {
        "duration": 0,
        "start_time": "2023-07-10T17:47:26.646Z"
      },
      {
        "duration": 693573,
        "start_time": "2023-07-10T17:47:49.980Z"
      },
      {
        "duration": 5,
        "start_time": "2023-07-10T18:07:02.228Z"
      },
      {
        "duration": 16,
        "start_time": "2023-07-10T18:07:07.613Z"
      },
      {
        "duration": 79907,
        "start_time": "2023-07-10T18:08:00.698Z"
      },
      {
        "duration": 0,
        "start_time": "2023-07-10T18:09:20.607Z"
      },
      {
        "duration": 80434,
        "start_time": "2023-07-10T18:09:56.399Z"
      },
      {
        "duration": 4,
        "start_time": "2023-07-10T18:11:16.835Z"
      },
      {
        "duration": 14,
        "start_time": "2023-07-10T18:13:33.088Z"
      },
      {
        "duration": 10,
        "start_time": "2023-07-10T18:14:39.086Z"
      },
      {
        "duration": 16,
        "start_time": "2023-07-10T18:32:30.692Z"
      },
      {
        "duration": 12,
        "start_time": "2023-07-10T18:33:13.980Z"
      },
      {
        "duration": 39,
        "start_time": "2023-07-10T18:33:19.653Z"
      },
      {
        "duration": 39,
        "start_time": "2023-07-10T18:34:01.989Z"
      },
      {
        "duration": 39,
        "start_time": "2023-07-10T18:34:53.196Z"
      },
      {
        "duration": 16,
        "start_time": "2023-07-10T18:35:50.524Z"
      },
      {
        "duration": 73438,
        "start_time": "2023-07-10T18:35:55.685Z"
      },
      {
        "duration": 2,
        "start_time": "2023-07-10T18:37:20.870Z"
      },
      {
        "duration": 294,
        "start_time": "2023-07-10T18:37:20.875Z"
      },
      {
        "duration": 795,
        "start_time": "2023-07-10T18:37:21.172Z"
      },
      {
        "duration": 7,
        "start_time": "2023-07-10T18:37:21.969Z"
      },
      {
        "duration": 37,
        "start_time": "2023-07-10T18:37:21.978Z"
      },
      {
        "duration": 23,
        "start_time": "2023-07-10T18:37:22.016Z"
      },
      {
        "duration": 27,
        "start_time": "2023-07-10T18:37:22.040Z"
      },
      {
        "duration": 37,
        "start_time": "2023-07-10T18:37:22.069Z"
      },
      {
        "duration": 15,
        "start_time": "2023-07-10T18:37:22.108Z"
      },
      {
        "duration": 20,
        "start_time": "2023-07-10T18:37:22.126Z"
      },
      {
        "duration": 18,
        "start_time": "2023-07-10T18:37:22.149Z"
      },
      {
        "duration": 19,
        "start_time": "2023-07-10T18:37:22.168Z"
      },
      {
        "duration": 44106,
        "start_time": "2023-07-10T18:37:22.189Z"
      },
      {
        "duration": 5,
        "start_time": "2023-07-10T18:38:06.302Z"
      },
      {
        "duration": 12,
        "start_time": "2023-07-10T18:38:06.309Z"
      },
      {
        "duration": 18,
        "start_time": "2023-07-10T18:38:06.323Z"
      },
      {
        "duration": 3,
        "start_time": "2023-07-10T18:38:06.343Z"
      },
      {
        "duration": 816,
        "start_time": "2023-07-10T18:38:06.349Z"
      },
      {
        "duration": 14,
        "start_time": "2023-07-10T18:38:07.168Z"
      },
      {
        "duration": 28030,
        "start_time": "2023-07-10T18:38:07.184Z"
      },
      {
        "duration": 27729,
        "start_time": "2023-07-10T18:39:04.880Z"
      },
      {
        "duration": 961179,
        "start_time": "2023-07-10T18:40:57.234Z"
      },
      {
        "duration": 24520,
        "start_time": "2023-07-10T18:57:17.391Z"
      },
      {
        "duration": 8124,
        "start_time": "2023-07-10T18:57:58.015Z"
      },
      {
        "duration": 4,
        "start_time": "2023-07-10T18:58:10.039Z"
      },
      {
        "duration": 8,
        "start_time": "2023-07-10T18:59:04.400Z"
      },
      {
        "duration": 78,
        "start_time": "2023-07-10T19:00:14.539Z"
      },
      {
        "duration": 156649,
        "start_time": "2023-07-10T19:00:29.256Z"
      },
      {
        "duration": 53466,
        "start_time": "2023-07-10T19:04:21.754Z"
      },
      {
        "duration": 14955,
        "start_time": "2023-07-10T19:05:19.486Z"
      },
      {
        "duration": 3,
        "start_time": "2023-07-10T19:05:53.397Z"
      },
      {
        "duration": 14688,
        "start_time": "2023-07-10T19:05:54.925Z"
      },
      {
        "duration": 4,
        "start_time": "2023-07-10T19:06:09.615Z"
      },
      {
        "duration": 4,
        "start_time": "2023-07-10T19:06:12.231Z"
      },
      {
        "duration": 8,
        "start_time": "2023-07-10T19:06:22.167Z"
      },
      {
        "duration": 26,
        "start_time": "2023-07-10T19:12:01.742Z"
      },
      {
        "duration": 12,
        "start_time": "2023-07-10T19:12:43.696Z"
      },
      {
        "duration": 675,
        "start_time": "2023-07-10T19:13:09.594Z"
      },
      {
        "duration": 16412,
        "start_time": "2023-07-10T19:13:54.923Z"
      },
      {
        "duration": 5,
        "start_time": "2023-07-10T19:14:11.337Z"
      },
      {
        "duration": 28,
        "start_time": "2023-07-10T19:14:11.344Z"
      },
      {
        "duration": 14594,
        "start_time": "2023-07-10T19:15:39.960Z"
      },
      {
        "duration": 4,
        "start_time": "2023-07-10T19:15:54.556Z"
      },
      {
        "duration": 15,
        "start_time": "2023-07-10T19:15:54.562Z"
      },
      {
        "duration": 675173,
        "start_time": "2023-07-10T19:21:32.845Z"
      },
      {
        "duration": 4,
        "start_time": "2023-07-10T19:32:48.020Z"
      },
      {
        "duration": 9,
        "start_time": "2023-07-10T19:32:48.026Z"
      },
      {
        "duration": 0,
        "start_time": "2023-07-10T19:32:48.037Z"
      },
      {
        "duration": 0,
        "start_time": "2023-07-10T19:32:48.038Z"
      },
      {
        "duration": 0,
        "start_time": "2023-07-10T19:32:48.040Z"
      },
      {
        "duration": 0,
        "start_time": "2023-07-10T19:32:48.041Z"
      },
      {
        "duration": 19,
        "start_time": "2023-07-10T19:43:00.204Z"
      },
      {
        "duration": 26235,
        "start_time": "2023-07-10T19:44:43.292Z"
      },
      {
        "duration": 5,
        "start_time": "2023-07-10T19:45:14.145Z"
      },
      {
        "duration": 40568,
        "start_time": "2023-07-10T19:46:09.742Z"
      },
      {
        "duration": 5,
        "start_time": "2023-07-10T19:46:50.313Z"
      },
      {
        "duration": 26,
        "start_time": "2023-07-10T19:47:10.261Z"
      },
      {
        "duration": 4,
        "start_time": "2023-07-10T19:47:19.039Z"
      },
      {
        "duration": 37908,
        "start_time": "2023-07-10T19:48:00.603Z"
      },
      {
        "duration": 4,
        "start_time": "2023-07-10T19:48:42.155Z"
      },
      {
        "duration": 30,
        "start_time": "2023-07-10T19:48:47.185Z"
      },
      {
        "duration": 4,
        "start_time": "2023-07-10T19:48:48.393Z"
      },
      {
        "duration": 5,
        "start_time": "2023-07-10T19:49:00.661Z"
      },
      {
        "duration": 5,
        "start_time": "2023-07-10T19:49:30.760Z"
      },
      {
        "duration": 3756,
        "start_time": "2023-07-10T19:49:30.767Z"
      },
      {
        "duration": 1261,
        "start_time": "2023-07-10T19:49:34.524Z"
      },
      {
        "duration": 21,
        "start_time": "2023-07-10T19:49:35.787Z"
      },
      {
        "duration": 8,
        "start_time": "2023-07-10T19:49:35.810Z"
      },
      {
        "duration": 16,
        "start_time": "2023-07-10T19:49:35.820Z"
      },
      {
        "duration": 18,
        "start_time": "2023-07-10T19:49:35.838Z"
      },
      {
        "duration": 22,
        "start_time": "2023-07-10T19:49:35.858Z"
      },
      {
        "duration": 39,
        "start_time": "2023-07-10T19:49:35.883Z"
      },
      {
        "duration": 1490,
        "start_time": "2023-07-10T19:49:35.923Z"
      },
      {
        "duration": 3,
        "start_time": "2023-07-10T19:49:37.415Z"
      },
      {
        "duration": 14,
        "start_time": "2023-07-10T19:49:37.420Z"
      },
      {
        "duration": 431093,
        "start_time": "2023-07-10T19:49:37.436Z"
      },
      {
        "duration": 4,
        "start_time": "2023-07-10T19:56:48.531Z"
      },
      {
        "duration": 20,
        "start_time": "2023-07-10T19:56:48.536Z"
      },
      {
        "duration": 44,
        "start_time": "2023-07-10T19:56:48.558Z"
      },
      {
        "duration": 3,
        "start_time": "2023-07-10T19:56:48.604Z"
      },
      {
        "duration": 7573,
        "start_time": "2023-07-10T19:56:48.608Z"
      },
      {
        "duration": 91,
        "start_time": "2023-07-10T19:56:56.183Z"
      },
      {
        "duration": 3,
        "start_time": "2023-07-10T19:56:56.275Z"
      },
      {
        "duration": 36,
        "start_time": "2023-07-10T19:56:56.279Z"
      },
      {
        "duration": 10,
        "start_time": "2023-07-10T19:56:56.317Z"
      },
      {
        "duration": 71663,
        "start_time": "2023-07-10T19:56:56.329Z"
      },
      {
        "duration": 4,
        "start_time": "2023-07-10T19:58:08.005Z"
      },
      {
        "duration": 3665904,
        "start_time": "2023-07-10T19:58:08.011Z"
      },
      {
        "duration": 6,
        "start_time": "2023-07-10T20:59:13.917Z"
      },
      {
        "duration": 245102,
        "start_time": "2023-07-10T20:59:13.924Z"
      },
      {
        "duration": 5,
        "start_time": "2023-07-10T21:03:19.028Z"
      },
      {
        "duration": 847189,
        "start_time": "2023-07-10T21:03:19.035Z"
      },
      {
        "duration": 5,
        "start_time": "2023-07-10T21:17:26.227Z"
      },
      {
        "duration": 297,
        "start_time": "2023-07-10T21:17:26.235Z"
      },
      {
        "duration": 5,
        "start_time": "2023-07-10T21:17:26.534Z"
      },
      {
        "duration": 16,
        "start_time": "2023-07-10T21:17:26.541Z"
      },
      {
        "duration": 16,
        "start_time": "2023-07-10T21:17:26.559Z"
      },
      {
        "duration": 14,
        "start_time": "2023-07-10T21:17:26.577Z"
      },
      {
        "duration": 13,
        "start_time": "2023-07-10T21:17:26.593Z"
      },
      {
        "duration": 18,
        "start_time": "2023-07-10T21:17:26.608Z"
      },
      {
        "duration": 176,
        "start_time": "2023-07-10T21:17:54.849Z"
      },
      {
        "duration": 975,
        "start_time": "2023-07-10T21:18:06.091Z"
      },
      {
        "duration": 11,
        "start_time": "2023-07-10T21:18:09.813Z"
      },
      {
        "duration": 1004,
        "start_time": "2023-07-10T21:18:23.813Z"
      },
      {
        "duration": 11,
        "start_time": "2023-07-10T21:18:30.255Z"
      },
      {
        "duration": 14,
        "start_time": "2023-07-10T21:27:28.760Z"
      },
      {
        "duration": 964,
        "start_time": "2023-07-10T21:27:29.128Z"
      },
      {
        "duration": 17,
        "start_time": "2023-07-10T21:27:30.095Z"
      },
      {
        "duration": 142,
        "start_time": "2023-07-10T21:27:40.765Z"
      },
      {
        "duration": 15,
        "start_time": "2023-07-10T21:28:12.152Z"
      },
      {
        "duration": 10,
        "start_time": "2023-07-10T21:29:45.075Z"
      },
      {
        "duration": 1014,
        "start_time": "2023-07-10T21:29:59.994Z"
      },
      {
        "duration": 1009,
        "start_time": "2023-07-10T21:30:26.769Z"
      },
      {
        "duration": 143,
        "start_time": "2023-07-10T21:30:42.680Z"
      },
      {
        "duration": 200,
        "start_time": "2023-07-10T21:30:48.802Z"
      },
      {
        "duration": 4,
        "start_time": "2023-07-11T14:56:41.013Z"
      },
      {
        "duration": 3626,
        "start_time": "2023-07-11T14:56:41.019Z"
      },
      {
        "duration": 3931,
        "start_time": "2023-07-11T14:56:44.647Z"
      },
      {
        "duration": 18,
        "start_time": "2023-07-11T14:56:48.580Z"
      },
      {
        "duration": 11,
        "start_time": "2023-07-11T14:56:48.600Z"
      },
      {
        "duration": 10,
        "start_time": "2023-07-11T14:56:48.614Z"
      },
      {
        "duration": 10,
        "start_time": "2023-07-11T14:56:48.626Z"
      },
      {
        "duration": 30,
        "start_time": "2023-07-11T14:56:48.637Z"
      },
      {
        "duration": 9,
        "start_time": "2023-07-11T14:56:48.671Z"
      },
      {
        "duration": 1525,
        "start_time": "2023-07-11T14:56:48.686Z"
      },
      {
        "duration": 486147,
        "start_time": "2023-07-11T14:56:50.213Z"
      },
      {
        "duration": 13,
        "start_time": "2023-07-11T15:04:56.368Z"
      },
      {
        "duration": 5,
        "start_time": "2023-07-11T15:04:56.386Z"
      },
      {
        "duration": 43,
        "start_time": "2023-07-11T15:04:56.393Z"
      },
      {
        "duration": 3,
        "start_time": "2023-07-11T15:04:56.437Z"
      },
      {
        "duration": 7964,
        "start_time": "2023-07-11T15:04:56.442Z"
      },
      {
        "duration": 94,
        "start_time": "2023-07-11T15:05:04.412Z"
      },
      {
        "duration": 85591,
        "start_time": "2023-07-11T15:05:22.635Z"
      },
      {
        "duration": 3,
        "start_time": "2023-07-11T15:06:48.536Z"
      },
      {
        "duration": 82238,
        "start_time": "2023-07-11T15:08:34.293Z"
      },
      {
        "duration": 3,
        "start_time": "2023-07-11T15:10:12.528Z"
      },
      {
        "duration": 3432270,
        "start_time": "2023-07-11T15:11:10.903Z"
      },
      {
        "duration": 9,
        "start_time": "2023-07-11T16:08:23.175Z"
      },
      {
        "duration": 243842,
        "start_time": "2023-07-11T16:08:23.186Z"
      },
      {
        "duration": 4,
        "start_time": "2023-07-11T16:12:27.030Z"
      },
      {
        "duration": 1303862,
        "start_time": "2023-07-11T16:12:27.036Z"
      },
      {
        "duration": 5,
        "start_time": "2023-07-11T16:34:10.899Z"
      },
      {
        "duration": 315,
        "start_time": "2023-07-11T16:34:10.906Z"
      },
      {
        "duration": 4,
        "start_time": "2023-07-11T16:34:11.223Z"
      },
      {
        "duration": 92,
        "start_time": "2023-07-11T19:32:31.327Z"
      },
      {
        "duration": 212,
        "start_time": "2023-07-11T19:32:37.700Z"
      },
      {
        "duration": 14,
        "start_time": "2023-07-11T19:51:53.839Z"
      },
      {
        "duration": 17,
        "start_time": "2023-07-11T19:52:04.940Z"
      },
      {
        "duration": 6,
        "start_time": "2023-07-11T19:54:26.529Z"
      },
      {
        "duration": 5798,
        "start_time": "2023-07-11T19:54:26.541Z"
      },
      {
        "duration": 8240,
        "start_time": "2023-07-11T19:54:32.342Z"
      },
      {
        "duration": 41,
        "start_time": "2023-07-11T19:54:40.589Z"
      },
      {
        "duration": 33,
        "start_time": "2023-07-11T19:54:40.637Z"
      },
      {
        "duration": 13,
        "start_time": "2023-07-11T19:54:40.678Z"
      },
      {
        "duration": 43,
        "start_time": "2023-07-11T19:54:40.697Z"
      },
      {
        "duration": 23,
        "start_time": "2023-07-11T19:54:40.749Z"
      },
      {
        "duration": 22,
        "start_time": "2023-07-11T19:54:40.779Z"
      },
      {
        "duration": 2460,
        "start_time": "2023-07-11T19:54:40.821Z"
      },
      {
        "duration": 64864,
        "start_time": "2023-07-11T19:54:43.290Z"
      },
      {
        "duration": 13,
        "start_time": "2023-07-11T19:55:48.156Z"
      },
      {
        "duration": 9,
        "start_time": "2023-07-11T19:55:48.176Z"
      },
      {
        "duration": 15,
        "start_time": "2023-07-11T19:55:48.187Z"
      },
      {
        "duration": 3,
        "start_time": "2023-07-11T19:55:48.204Z"
      },
      {
        "duration": 849,
        "start_time": "2023-07-11T19:55:48.209Z"
      },
      {
        "duration": 22,
        "start_time": "2023-07-11T19:55:49.061Z"
      },
      {
        "duration": 24,
        "start_time": "2023-07-11T19:55:49.087Z"
      },
      {
        "duration": 134,
        "start_time": "2023-07-11T19:55:49.115Z"
      },
      {
        "duration": 231,
        "start_time": "2023-07-11T19:58:51.019Z"
      },
      {
        "duration": 5475,
        "start_time": "2023-07-11T19:58:59.708Z"
      },
      {
        "duration": 16,
        "start_time": "2023-07-11T19:59:51.728Z"
      },
      {
        "duration": 4750,
        "start_time": "2023-07-11T20:00:05.536Z"
      },
      {
        "duration": 56,
        "start_time": "2023-07-11T20:09:41.775Z"
      },
      {
        "duration": 183,
        "start_time": "2023-07-11T20:12:00.438Z"
      },
      {
        "duration": 9364,
        "start_time": "2023-07-11T20:12:24.607Z"
      },
      {
        "duration": 7,
        "start_time": "2023-07-11T20:12:36.952Z"
      },
      {
        "duration": 8037,
        "start_time": "2023-07-11T21:25:16.743Z"
      },
      {
        "duration": 6,
        "start_time": "2023-07-11T21:25:32.087Z"
      },
      {
        "duration": 104,
        "start_time": "2023-07-11T22:03:13.586Z"
      },
      {
        "duration": 7,
        "start_time": "2023-07-11T22:03:34.153Z"
      },
      {
        "duration": 104,
        "start_time": "2023-07-11T22:03:35.948Z"
      },
      {
        "duration": 82,
        "start_time": "2023-07-11T22:04:32.764Z"
      },
      {
        "duration": 3,
        "start_time": "2023-07-11T22:05:02.812Z"
      },
      {
        "duration": 5136,
        "start_time": "2023-09-19T15:16:47.891Z"
      },
      {
        "duration": 2465,
        "start_time": "2023-09-19T15:17:12.535Z"
      },
      {
        "duration": 16,
        "start_time": "2023-09-19T15:18:31.899Z"
      },
      {
        "duration": 4,
        "start_time": "2023-09-19T15:18:33.487Z"
      },
      {
        "duration": 3,
        "start_time": "2023-09-19T15:18:39.440Z"
      },
      {
        "duration": 9,
        "start_time": "2023-09-19T15:18:43.843Z"
      },
      {
        "duration": 4,
        "start_time": "2023-09-19T15:18:48.717Z"
      },
      {
        "duration": 1468,
        "start_time": "2023-09-19T15:19:05.619Z"
      },
      {
        "duration": 1434084,
        "start_time": "2023-09-19T15:30:41.377Z"
      },
      {
        "duration": 4,
        "start_time": "2023-09-19T16:14:51.870Z"
      },
      {
        "duration": 5,
        "start_time": "2023-09-19T16:14:54.198Z"
      },
      {
        "duration": 114,
        "start_time": "2023-09-19T16:15:13.490Z"
      },
      {
        "duration": 172,
        "start_time": "2023-09-19T16:15:15.946Z"
      },
      {
        "duration": 4,
        "start_time": "2023-09-19T16:16:05.858Z"
      },
      {
        "duration": 4,
        "start_time": "2023-09-19T16:16:10.010Z"
      },
      {
        "duration": 7139,
        "start_time": "2023-09-19T16:16:41.493Z"
      },
      {
        "duration": 116,
        "start_time": "2023-09-19T16:17:09.282Z"
      },
      {
        "duration": 12,
        "start_time": "2023-09-19T16:17:20.194Z"
      },
      {
        "duration": 5,
        "start_time": "2023-09-19T16:17:25.985Z"
      },
      {
        "duration": 4,
        "start_time": "2023-09-19T16:18:14.697Z"
      },
      {
        "duration": 4,
        "start_time": "2023-09-19T16:18:32.389Z"
      },
      {
        "duration": 4,
        "start_time": "2023-09-19T16:19:22.649Z"
      },
      {
        "duration": 7,
        "start_time": "2023-09-19T16:20:16.501Z"
      },
      {
        "duration": 56629,
        "start_time": "2023-09-19T16:20:25.897Z"
      },
      {
        "duration": 4,
        "start_time": "2023-09-19T16:21:42.216Z"
      },
      {
        "duration": 54545,
        "start_time": "2023-09-19T16:25:25.748Z"
      },
      {
        "duration": 1054256,
        "start_time": "2023-09-19T19:10:16.726Z"
      },
      {
        "duration": 6,
        "start_time": "2023-09-19T19:27:50.986Z"
      },
      {
        "duration": 282,
        "start_time": "2023-09-19T19:36:31.044Z"
      },
      {
        "duration": 74,
        "start_time": "2023-09-19T19:38:02.500Z"
      },
      {
        "duration": 18,
        "start_time": "2023-09-19T19:38:12.920Z"
      },
      {
        "duration": 502086,
        "start_time": "2023-09-19T19:38:45.156Z"
      },
      {
        "duration": 150724,
        "start_time": "2023-09-19T19:48:01.294Z"
      },
      {
        "duration": 2569814,
        "start_time": "2023-09-19T19:50:39.469Z"
      },
      {
        "duration": 11,
        "start_time": "2023-09-19T20:33:29.286Z"
      },
      {
        "duration": 231050,
        "start_time": "2023-09-19T20:39:53.846Z"
      },
      {
        "duration": 257269,
        "start_time": "2023-09-19T20:46:34.626Z"
      },
      {
        "duration": 4078,
        "start_time": "2023-09-20T07:41:08.059Z"
      },
      {
        "duration": 3663,
        "start_time": "2023-09-20T07:41:18.130Z"
      },
      {
        "duration": 17,
        "start_time": "2023-09-20T07:41:21.795Z"
      },
      {
        "duration": 36,
        "start_time": "2023-09-20T07:41:21.813Z"
      },
      {
        "duration": 21,
        "start_time": "2023-09-20T07:41:21.851Z"
      },
      {
        "duration": 15,
        "start_time": "2023-09-20T07:41:21.874Z"
      },
      {
        "duration": 32,
        "start_time": "2023-09-20T07:41:21.891Z"
      },
      {
        "duration": 16,
        "start_time": "2023-09-20T07:41:21.925Z"
      },
      {
        "duration": 1502,
        "start_time": "2023-09-20T07:41:22.031Z"
      },
      {
        "duration": 475254,
        "start_time": "2023-09-20T07:41:26.139Z"
      },
      {
        "duration": 5,
        "start_time": "2023-09-20T07:49:21.396Z"
      },
      {
        "duration": 34,
        "start_time": "2023-09-20T07:49:21.403Z"
      },
      {
        "duration": 45,
        "start_time": "2023-09-20T08:46:08.931Z"
      },
      {
        "duration": 2746,
        "start_time": "2023-09-20T08:46:09.482Z"
      },
      {
        "duration": 5,
        "start_time": "2023-09-20T08:46:12.230Z"
      },
      {
        "duration": 144,
        "start_time": "2023-09-20T08:46:12.238Z"
      },
      {
        "duration": 98,
        "start_time": "2023-09-20T08:51:14.273Z"
      },
      {
        "duration": 186,
        "start_time": "2023-09-20T08:51:36.387Z"
      },
      {
        "duration": 176,
        "start_time": "2023-09-20T08:52:17.270Z"
      },
      {
        "duration": 3,
        "start_time": "2023-09-20T08:52:23.982Z"
      },
      {
        "duration": 4,
        "start_time": "2023-09-20T08:52:53.638Z"
      },
      {
        "duration": 43,
        "start_time": "2023-09-20T08:54:51.103Z"
      },
      {
        "duration": 975,
        "start_time": "2023-09-20T08:55:16.313Z"
      },
      {
        "duration": 4,
        "start_time": "2023-09-20T08:58:09.008Z"
      },
      {
        "duration": 4,
        "start_time": "2023-09-20T08:58:12.825Z"
      },
      {
        "duration": 2,
        "start_time": "2023-09-20T08:58:16.426Z"
      },
      {
        "duration": 3,
        "start_time": "2023-09-20T08:58:34.090Z"
      },
      {
        "duration": 502,
        "start_time": "2023-09-20T08:58:35.406Z"
      },
      {
        "duration": 5,
        "start_time": "2023-09-20T08:59:47.702Z"
      },
      {
        "duration": 37,
        "start_time": "2023-09-20T08:59:52.321Z"
      },
      {
        "duration": 5,
        "start_time": "2023-09-20T08:59:58.906Z"
      },
      {
        "duration": 1685724,
        "start_time": "2023-09-20T08:59:59.481Z"
      },
      {
        "duration": 118,
        "start_time": "2023-09-20T09:29:52.128Z"
      },
      {
        "duration": 4,
        "start_time": "2023-09-20T09:29:55.648Z"
      },
      {
        "duration": 6456,
        "start_time": "2023-09-20T09:29:55.992Z"
      },
      {
        "duration": 157,
        "start_time": "2023-09-20T09:30:09.823Z"
      },
      {
        "duration": 5,
        "start_time": "2023-09-20T09:30:34.260Z"
      },
      {
        "duration": 15,
        "start_time": "2023-09-20T09:30:37.152Z"
      },
      {
        "duration": 4,
        "start_time": "2023-09-20T09:31:44.499Z"
      },
      {
        "duration": 59,
        "start_time": "2023-09-20T09:31:52.531Z"
      },
      {
        "duration": 206,
        "start_time": "2023-09-20T09:31:59.419Z"
      },
      {
        "duration": 118,
        "start_time": "2023-09-20T09:32:14.887Z"
      },
      {
        "duration": 237,
        "start_time": "2023-09-20T09:32:22.619Z"
      },
      {
        "duration": 18397,
        "start_time": "2023-09-20T09:32:52.395Z"
      },
      {
        "duration": 52,
        "start_time": "2023-09-20T09:33:25.375Z"
      },
      {
        "duration": 4,
        "start_time": "2023-09-20T09:33:41.927Z"
      },
      {
        "duration": 118,
        "start_time": "2023-09-20T09:34:04.365Z"
      },
      {
        "duration": 830,
        "start_time": "2023-09-20T09:34:59.532Z"
      },
      {
        "duration": 5,
        "start_time": "2023-09-20T09:36:02.479Z"
      },
      {
        "duration": 30018,
        "start_time": "2023-09-20T09:36:16.466Z"
      },
      {
        "duration": 4,
        "start_time": "2023-09-20T09:36:50.027Z"
      },
      {
        "duration": 3,
        "start_time": "2023-09-20T09:36:50.851Z"
      },
      {
        "duration": 278890,
        "start_time": "2023-09-20T09:36:59.283Z"
      },
      {
        "duration": 4,
        "start_time": "2023-09-20T09:41:38.176Z"
      },
      {
        "duration": 1167304,
        "start_time": "2023-09-20T09:41:38.182Z"
      },
      {
        "duration": 7,
        "start_time": "2023-09-20T11:44:02.290Z"
      },
      {
        "duration": 8,
        "start_time": "2023-09-20T11:50:18.830Z"
      },
      {
        "duration": 7,
        "start_time": "2023-09-20T11:50:30.796Z"
      },
      {
        "duration": 8,
        "start_time": "2023-09-20T11:50:45.482Z"
      },
      {
        "duration": 7,
        "start_time": "2023-09-20T11:51:07.078Z"
      },
      {
        "duration": 6,
        "start_time": "2023-09-20T11:51:13.579Z"
      },
      {
        "duration": 4,
        "start_time": "2023-09-20T11:51:16.386Z"
      },
      {
        "duration": 55,
        "start_time": "2023-09-20T11:58:27.046Z"
      },
      {
        "duration": 4,
        "start_time": "2023-09-20T11:58:32.054Z"
      },
      {
        "duration": 4171,
        "start_time": "2023-09-20T11:58:32.063Z"
      },
      {
        "duration": 3868,
        "start_time": "2023-09-20T11:58:36.237Z"
      },
      {
        "duration": 16,
        "start_time": "2023-09-20T11:58:40.107Z"
      },
      {
        "duration": 12,
        "start_time": "2023-09-20T11:58:40.126Z"
      },
      {
        "duration": 26,
        "start_time": "2023-09-20T11:58:40.140Z"
      },
      {
        "duration": 15,
        "start_time": "2023-09-20T11:58:40.168Z"
      },
      {
        "duration": 12,
        "start_time": "2023-09-20T11:58:40.185Z"
      },
      {
        "duration": 11,
        "start_time": "2023-09-20T11:58:40.199Z"
      },
      {
        "duration": 1726,
        "start_time": "2023-09-20T11:58:40.212Z"
      },
      {
        "duration": 527137,
        "start_time": "2023-09-20T11:58:41.942Z"
      },
      {
        "duration": 6,
        "start_time": "2023-09-20T12:07:29.081Z"
      },
      {
        "duration": 39,
        "start_time": "2023-09-20T12:07:29.089Z"
      },
      {
        "duration": 47,
        "start_time": "2023-09-20T12:07:29.130Z"
      },
      {
        "duration": 9647,
        "start_time": "2023-09-20T12:07:29.179Z"
      },
      {
        "duration": 5,
        "start_time": "2023-09-20T12:07:38.828Z"
      },
      {
        "duration": 40,
        "start_time": "2023-09-20T12:07:38.835Z"
      },
      {
        "duration": 11,
        "start_time": "2023-09-20T12:07:38.942Z"
      },
      {
        "duration": 8,
        "start_time": "2023-09-20T12:07:38.956Z"
      },
      {
        "duration": 899,
        "start_time": "2023-09-20T12:07:38.977Z"
      },
      {
        "duration": 5,
        "start_time": "2023-09-20T12:07:39.878Z"
      },
      {
        "duration": 27,
        "start_time": "2023-09-20T12:07:39.925Z"
      },
      {
        "duration": 818,
        "start_time": "2023-09-20T12:07:39.954Z"
      },
      {
        "duration": 84,
        "start_time": "2023-09-20T13:05:01.005Z"
      },
      {
        "duration": 6,
        "start_time": "2023-09-20T13:05:22.900Z"
      },
      {
        "duration": 4,
        "start_time": "2023-09-20T13:05:23.317Z"
      },
      {
        "duration": 58,
        "start_time": "2023-09-20T14:00:41.382Z"
      }
    ],
    "kernelspec": {
      "display_name": "Python 3",
      "name": "python3"
    },
    "language_info": {
      "codemirror_mode": {
        "name": "ipython",
        "version": 3
      },
      "file_extension": ".py",
      "mimetype": "text/x-python",
      "name": "python",
      "nbconvert_exporter": "python",
      "pygments_lexer": "ipython3",
      "version": "3.9.5"
    },
    "toc": {
      "base_numbering": 1,
      "nav_menu": {},
      "number_sections": true,
      "sideBar": true,
      "skip_h1_title": true,
      "title_cell": "Содержание",
      "title_sidebar": "Contents",
      "toc_cell": true,
      "toc_position": {
        "height": "calc(100% - 180px)",
        "left": "10px",
        "top": "150px",
        "width": "312.391px"
      },
      "toc_section_display": true,
      "toc_window_display": true
    },
    "colab": {
      "provenance": [],
      "toc_visible": true,
      "gpuType": "T4"
    },
    "accelerator": "GPU",
    "widgets": {
      "application/vnd.jupyter.widget-state+json": {
        "abaf0be3b515400495e70e0b789eb5fd": {
          "model_module": "@jupyter-widgets/controls",
          "model_name": "HBoxModel",
          "model_module_version": "1.5.0",
          "state": {
            "_dom_classes": [],
            "_model_module": "@jupyter-widgets/controls",
            "_model_module_version": "1.5.0",
            "_model_name": "HBoxModel",
            "_view_count": null,
            "_view_module": "@jupyter-widgets/controls",
            "_view_module_version": "1.5.0",
            "_view_name": "HBoxView",
            "box_style": "",
            "children": [
              "IPY_MODEL_5aafc113b85e4fe4b8b56ca900e1c56b",
              "IPY_MODEL_ac2b36c2b37a413ba5d972cf64713758",
              "IPY_MODEL_55b11a0a1ae44c2088a0d95d0c8f66f6"
            ],
            "layout": "IPY_MODEL_de755036f53d4e5092eca60828e2bcff"
          }
        },
        "5aafc113b85e4fe4b8b56ca900e1c56b": {
          "model_module": "@jupyter-widgets/controls",
          "model_name": "HTMLModel",
          "model_module_version": "1.5.0",
          "state": {
            "_dom_classes": [],
            "_model_module": "@jupyter-widgets/controls",
            "_model_module_version": "1.5.0",
            "_model_name": "HTMLModel",
            "_view_count": null,
            "_view_module": "@jupyter-widgets/controls",
            "_view_module_version": "1.5.0",
            "_view_name": "HTMLView",
            "description": "",
            "description_tooltip": null,
            "layout": "IPY_MODEL_c7539002f1614d299965bf29f87f0c21",
            "placeholder": "​",
            "style": "IPY_MODEL_ed49bf5ecbe64d33b0bfe626ddf00c98",
            "value": "100%"
          }
        },
        "ac2b36c2b37a413ba5d972cf64713758": {
          "model_module": "@jupyter-widgets/controls",
          "model_name": "FloatProgressModel",
          "model_module_version": "1.5.0",
          "state": {
            "_dom_classes": [],
            "_model_module": "@jupyter-widgets/controls",
            "_model_module_version": "1.5.0",
            "_model_name": "FloatProgressModel",
            "_view_count": null,
            "_view_module": "@jupyter-widgets/controls",
            "_view_module_version": "1.5.0",
            "_view_name": "ProgressView",
            "bar_style": "success",
            "description": "",
            "description_tooltip": null,
            "layout": "IPY_MODEL_ecebc10548ed43dc80b29c0f31cc8c58",
            "max": 100000,
            "min": 0,
            "orientation": "horizontal",
            "style": "IPY_MODEL_2c7cc7d60f6348b08e960c1dfb303721",
            "value": 100000
          }
        },
        "55b11a0a1ae44c2088a0d95d0c8f66f6": {
          "model_module": "@jupyter-widgets/controls",
          "model_name": "HTMLModel",
          "model_module_version": "1.5.0",
          "state": {
            "_dom_classes": [],
            "_model_module": "@jupyter-widgets/controls",
            "_model_module_version": "1.5.0",
            "_model_name": "HTMLModel",
            "_view_count": null,
            "_view_module": "@jupyter-widgets/controls",
            "_view_module_version": "1.5.0",
            "_view_name": "HTMLView",
            "description": "",
            "description_tooltip": null,
            "layout": "IPY_MODEL_3c75799affe946c5a04cd60e6015f5fc",
            "placeholder": "​",
            "style": "IPY_MODEL_fcdc91ca16df4fa389084e7635408e0c",
            "value": " 100000/100000 [16:51&lt;00:00, 140.80it/s]"
          }
        },
        "de755036f53d4e5092eca60828e2bcff": {
          "model_module": "@jupyter-widgets/base",
          "model_name": "LayoutModel",
          "model_module_version": "1.2.0",
          "state": {
            "_model_module": "@jupyter-widgets/base",
            "_model_module_version": "1.2.0",
            "_model_name": "LayoutModel",
            "_view_count": null,
            "_view_module": "@jupyter-widgets/base",
            "_view_module_version": "1.2.0",
            "_view_name": "LayoutView",
            "align_content": null,
            "align_items": null,
            "align_self": null,
            "border": null,
            "bottom": null,
            "display": null,
            "flex": null,
            "flex_flow": null,
            "grid_area": null,
            "grid_auto_columns": null,
            "grid_auto_flow": null,
            "grid_auto_rows": null,
            "grid_column": null,
            "grid_gap": null,
            "grid_row": null,
            "grid_template_areas": null,
            "grid_template_columns": null,
            "grid_template_rows": null,
            "height": null,
            "justify_content": null,
            "justify_items": null,
            "left": null,
            "margin": null,
            "max_height": null,
            "max_width": null,
            "min_height": null,
            "min_width": null,
            "object_fit": null,
            "object_position": null,
            "order": null,
            "overflow": null,
            "overflow_x": null,
            "overflow_y": null,
            "padding": null,
            "right": null,
            "top": null,
            "visibility": null,
            "width": null
          }
        },
        "c7539002f1614d299965bf29f87f0c21": {
          "model_module": "@jupyter-widgets/base",
          "model_name": "LayoutModel",
          "model_module_version": "1.2.0",
          "state": {
            "_model_module": "@jupyter-widgets/base",
            "_model_module_version": "1.2.0",
            "_model_name": "LayoutModel",
            "_view_count": null,
            "_view_module": "@jupyter-widgets/base",
            "_view_module_version": "1.2.0",
            "_view_name": "LayoutView",
            "align_content": null,
            "align_items": null,
            "align_self": null,
            "border": null,
            "bottom": null,
            "display": null,
            "flex": null,
            "flex_flow": null,
            "grid_area": null,
            "grid_auto_columns": null,
            "grid_auto_flow": null,
            "grid_auto_rows": null,
            "grid_column": null,
            "grid_gap": null,
            "grid_row": null,
            "grid_template_areas": null,
            "grid_template_columns": null,
            "grid_template_rows": null,
            "height": null,
            "justify_content": null,
            "justify_items": null,
            "left": null,
            "margin": null,
            "max_height": null,
            "max_width": null,
            "min_height": null,
            "min_width": null,
            "object_fit": null,
            "object_position": null,
            "order": null,
            "overflow": null,
            "overflow_x": null,
            "overflow_y": null,
            "padding": null,
            "right": null,
            "top": null,
            "visibility": null,
            "width": null
          }
        },
        "ed49bf5ecbe64d33b0bfe626ddf00c98": {
          "model_module": "@jupyter-widgets/controls",
          "model_name": "DescriptionStyleModel",
          "model_module_version": "1.5.0",
          "state": {
            "_model_module": "@jupyter-widgets/controls",
            "_model_module_version": "1.5.0",
            "_model_name": "DescriptionStyleModel",
            "_view_count": null,
            "_view_module": "@jupyter-widgets/base",
            "_view_module_version": "1.2.0",
            "_view_name": "StyleView",
            "description_width": ""
          }
        },
        "ecebc10548ed43dc80b29c0f31cc8c58": {
          "model_module": "@jupyter-widgets/base",
          "model_name": "LayoutModel",
          "model_module_version": "1.2.0",
          "state": {
            "_model_module": "@jupyter-widgets/base",
            "_model_module_version": "1.2.0",
            "_model_name": "LayoutModel",
            "_view_count": null,
            "_view_module": "@jupyter-widgets/base",
            "_view_module_version": "1.2.0",
            "_view_name": "LayoutView",
            "align_content": null,
            "align_items": null,
            "align_self": null,
            "border": null,
            "bottom": null,
            "display": null,
            "flex": null,
            "flex_flow": null,
            "grid_area": null,
            "grid_auto_columns": null,
            "grid_auto_flow": null,
            "grid_auto_rows": null,
            "grid_column": null,
            "grid_gap": null,
            "grid_row": null,
            "grid_template_areas": null,
            "grid_template_columns": null,
            "grid_template_rows": null,
            "height": null,
            "justify_content": null,
            "justify_items": null,
            "left": null,
            "margin": null,
            "max_height": null,
            "max_width": null,
            "min_height": null,
            "min_width": null,
            "object_fit": null,
            "object_position": null,
            "order": null,
            "overflow": null,
            "overflow_x": null,
            "overflow_y": null,
            "padding": null,
            "right": null,
            "top": null,
            "visibility": null,
            "width": null
          }
        },
        "2c7cc7d60f6348b08e960c1dfb303721": {
          "model_module": "@jupyter-widgets/controls",
          "model_name": "ProgressStyleModel",
          "model_module_version": "1.5.0",
          "state": {
            "_model_module": "@jupyter-widgets/controls",
            "_model_module_version": "1.5.0",
            "_model_name": "ProgressStyleModel",
            "_view_count": null,
            "_view_module": "@jupyter-widgets/base",
            "_view_module_version": "1.2.0",
            "_view_name": "StyleView",
            "bar_color": null,
            "description_width": ""
          }
        },
        "3c75799affe946c5a04cd60e6015f5fc": {
          "model_module": "@jupyter-widgets/base",
          "model_name": "LayoutModel",
          "model_module_version": "1.2.0",
          "state": {
            "_model_module": "@jupyter-widgets/base",
            "_model_module_version": "1.2.0",
            "_model_name": "LayoutModel",
            "_view_count": null,
            "_view_module": "@jupyter-widgets/base",
            "_view_module_version": "1.2.0",
            "_view_name": "LayoutView",
            "align_content": null,
            "align_items": null,
            "align_self": null,
            "border": null,
            "bottom": null,
            "display": null,
            "flex": null,
            "flex_flow": null,
            "grid_area": null,
            "grid_auto_columns": null,
            "grid_auto_flow": null,
            "grid_auto_rows": null,
            "grid_column": null,
            "grid_gap": null,
            "grid_row": null,
            "grid_template_areas": null,
            "grid_template_columns": null,
            "grid_template_rows": null,
            "height": null,
            "justify_content": null,
            "justify_items": null,
            "left": null,
            "margin": null,
            "max_height": null,
            "max_width": null,
            "min_height": null,
            "min_width": null,
            "object_fit": null,
            "object_position": null,
            "order": null,
            "overflow": null,
            "overflow_x": null,
            "overflow_y": null,
            "padding": null,
            "right": null,
            "top": null,
            "visibility": null,
            "width": null
          }
        },
        "fcdc91ca16df4fa389084e7635408e0c": {
          "model_module": "@jupyter-widgets/controls",
          "model_name": "DescriptionStyleModel",
          "model_module_version": "1.5.0",
          "state": {
            "_model_module": "@jupyter-widgets/controls",
            "_model_module_version": "1.5.0",
            "_model_name": "DescriptionStyleModel",
            "_view_count": null,
            "_view_module": "@jupyter-widgets/base",
            "_view_module_version": "1.2.0",
            "_view_name": "StyleView",
            "description_width": ""
          }
        }
      }
    }
  },
  "nbformat": 4,
  "nbformat_minor": 0
}