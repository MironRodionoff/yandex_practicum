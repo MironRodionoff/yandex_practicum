{
  "cells": [
    {
      "cell_type": "markdown",
      "metadata": {
        "id": "A7JaYYs8_l_c"
      },
      "source": [
        "# Определение стоимости автомобилей"
      ]
    },
    {
      "cell_type": "markdown",
      "metadata": {
        "id": "gDA7XvMw_l_c"
      },
      "source": [
        "Сервис по продаже автомобилей разрабатывает приложение для привлечения новых клиентов. В нём можно быстро узнать рыночную стоимость своего автомобиля. В нашем распоряжении исторические данные: технические характеристики, комплектации и цены автомобилей. Нам нужно построить модель для определения стоимости."
      ]
    },
    {
      "cell_type": "markdown",
      "metadata": {
        "id": "JrRgaXzs_l_c"
      },
      "source": [
        "**Цели проекта:**\n",
        "Построить модель для предсказания стоимости автомобиля на основании имеющихся данных."
      ]
    },
    {
      "cell_type": "markdown",
      "source": [
        "Этапы работы:\n",
        "\n",
        "* Предобработка данных\n",
        "\t* удаление дубликатов\n",
        "\t* заполнение пропусков с помощью KNN Imputer\n",
        "\t* обработка аномалий\n",
        "* Обучение моделей:\n",
        "\t* Линейная Регрессия\n",
        "\t* RandomForest Regressor\n",
        "\t* CatBoost Regressor\n",
        "\t* LGBM Regressor\n",
        "\n",
        "* Вывод"
      ],
      "metadata": {
        "id": "qYBPn8qSzbXg"
      }
    },
    {
      "cell_type": "markdown",
      "metadata": {
        "id": "ZW55aOCb_l_d"
      },
      "source": [
        "## Подготовка данных"
      ]
    },
    {
      "cell_type": "code",
      "execution_count": null,
      "metadata": {
        "collapsed": true,
        "id": "Y3CHL-Me_l_e"
      },
      "outputs": [],
      "source": [
        "pip install --upgrade category_encoders catboost"
      ]
    },
    {
      "cell_type": "code",
      "source": [
        "pip install phik"
      ],
      "metadata": {
        "id": "HG25jfKt6HJ-"
      },
      "execution_count": null,
      "outputs": []
    },
    {
      "cell_type": "code",
      "execution_count": null,
      "metadata": {
        "id": "zTVe6uwv_l_f"
      },
      "outputs": [],
      "source": [
        "import pandas as pd\n",
        "import matplotlib.pyplot as plt\n",
        "import numpy as np\n",
        "\n",
        "\n",
        "from category_encoders.m_estimate import MEstimateEncoder\n",
        "from phik import phik\n",
        "import seaborn as sns\n",
        "\n",
        "from sklearn.impute import KNNImputer\n",
        "from sklearn.preprocessing import StandardScaler, OrdinalEncoder\n",
        "from sklearn.model_selection import train_test_split, GridSearchCV\n",
        "from sklearn.metrics import mean_squared_error as mse\n",
        "from sklearn.tree import DecisionTreeRegressor\n",
        "from sklearn.ensemble import RandomForestRegressor\n",
        "from sklearn.linear_model import LinearRegression\n",
        "from sklearn.model_selection import RepeatedKFold\n",
        "from sklearn.model_selection import cross_val_score\n",
        "\n",
        "from catboost import CatBoostRegressor\n",
        "from lightgbm import LGBMRegressor\n",
        "\n",
        "import random\n",
        "seed = random.seed(0)\n",
        "\n",
        "from tqdm import tqdm\n",
        "import time"
      ]
    },
    {
      "cell_type": "code",
      "execution_count": null,
      "metadata": {
        "id": "u-KAnDL1_l_f"
      },
      "outputs": [],
      "source": [
        "df = pd.read_csv('/content/autos.csv')"
      ]
    },
    {
      "cell_type": "code",
      "execution_count": null,
      "metadata": {
        "colab": {
          "base_uri": "https://localhost:8080/",
          "height": 400
        },
        "id": "wcRuRYoV_l_f",
        "outputId": "fb71b202-d59e-4a66-f59a-02cc0ea38d44"
      },
      "outputs": [
        {
          "output_type": "execute_result",
          "data": {
            "text/plain": [
              "           DateCrawled  Price VehicleType  RegistrationYear Gearbox  Power  \\\n",
              "0  2016-03-24 11:52:17    480         NaN              1993  manual      0   \n",
              "1  2016-03-24 10:58:45  18300       coupe              2011  manual    190   \n",
              "2  2016-03-14 12:52:21   9800         suv              2004    auto    163   \n",
              "3  2016-03-17 16:54:04   1500       small              2001  manual     75   \n",
              "4  2016-03-31 17:25:20   3600       small              2008  manual     69   \n",
              "\n",
              "   Model  Kilometer  RegistrationMonth  FuelType       Brand Repaired  \\\n",
              "0   golf     150000                  0    petrol  volkswagen      NaN   \n",
              "1    NaN     125000                  5  gasoline        audi      yes   \n",
              "2  grand     125000                  8  gasoline        jeep      NaN   \n",
              "3   golf     150000                  6    petrol  volkswagen       no   \n",
              "4  fabia      90000                  7  gasoline       skoda       no   \n",
              "\n",
              "           DateCreated  NumberOfPictures  PostalCode             LastSeen  \n",
              "0  2016-03-24 00:00:00                 0       70435  2016-04-07 03:16:57  \n",
              "1  2016-03-24 00:00:00                 0       66954  2016-04-07 01:46:50  \n",
              "2  2016-03-14 00:00:00                 0       90480  2016-04-05 12:47:46  \n",
              "3  2016-03-17 00:00:00                 0       91074  2016-03-17 17:40:17  \n",
              "4  2016-03-31 00:00:00                 0       60437  2016-04-06 10:17:21  "
            ],
            "text/html": [
              "\n",
              "  <div id=\"df-3e22c8ff-555f-467d-a3a6-5bd8ab379e30\" class=\"colab-df-container\">\n",
              "    <div>\n",
              "<style scoped>\n",
              "    .dataframe tbody tr th:only-of-type {\n",
              "        vertical-align: middle;\n",
              "    }\n",
              "\n",
              "    .dataframe tbody tr th {\n",
              "        vertical-align: top;\n",
              "    }\n",
              "\n",
              "    .dataframe thead th {\n",
              "        text-align: right;\n",
              "    }\n",
              "</style>\n",
              "<table border=\"1\" class=\"dataframe\">\n",
              "  <thead>\n",
              "    <tr style=\"text-align: right;\">\n",
              "      <th></th>\n",
              "      <th>DateCrawled</th>\n",
              "      <th>Price</th>\n",
              "      <th>VehicleType</th>\n",
              "      <th>RegistrationYear</th>\n",
              "      <th>Gearbox</th>\n",
              "      <th>Power</th>\n",
              "      <th>Model</th>\n",
              "      <th>Kilometer</th>\n",
              "      <th>RegistrationMonth</th>\n",
              "      <th>FuelType</th>\n",
              "      <th>Brand</th>\n",
              "      <th>Repaired</th>\n",
              "      <th>DateCreated</th>\n",
              "      <th>NumberOfPictures</th>\n",
              "      <th>PostalCode</th>\n",
              "      <th>LastSeen</th>\n",
              "    </tr>\n",
              "  </thead>\n",
              "  <tbody>\n",
              "    <tr>\n",
              "      <th>0</th>\n",
              "      <td>2016-03-24 11:52:17</td>\n",
              "      <td>480</td>\n",
              "      <td>NaN</td>\n",
              "      <td>1993</td>\n",
              "      <td>manual</td>\n",
              "      <td>0</td>\n",
              "      <td>golf</td>\n",
              "      <td>150000</td>\n",
              "      <td>0</td>\n",
              "      <td>petrol</td>\n",
              "      <td>volkswagen</td>\n",
              "      <td>NaN</td>\n",
              "      <td>2016-03-24 00:00:00</td>\n",
              "      <td>0</td>\n",
              "      <td>70435</td>\n",
              "      <td>2016-04-07 03:16:57</td>\n",
              "    </tr>\n",
              "    <tr>\n",
              "      <th>1</th>\n",
              "      <td>2016-03-24 10:58:45</td>\n",
              "      <td>18300</td>\n",
              "      <td>coupe</td>\n",
              "      <td>2011</td>\n",
              "      <td>manual</td>\n",
              "      <td>190</td>\n",
              "      <td>NaN</td>\n",
              "      <td>125000</td>\n",
              "      <td>5</td>\n",
              "      <td>gasoline</td>\n",
              "      <td>audi</td>\n",
              "      <td>yes</td>\n",
              "      <td>2016-03-24 00:00:00</td>\n",
              "      <td>0</td>\n",
              "      <td>66954</td>\n",
              "      <td>2016-04-07 01:46:50</td>\n",
              "    </tr>\n",
              "    <tr>\n",
              "      <th>2</th>\n",
              "      <td>2016-03-14 12:52:21</td>\n",
              "      <td>9800</td>\n",
              "      <td>suv</td>\n",
              "      <td>2004</td>\n",
              "      <td>auto</td>\n",
              "      <td>163</td>\n",
              "      <td>grand</td>\n",
              "      <td>125000</td>\n",
              "      <td>8</td>\n",
              "      <td>gasoline</td>\n",
              "      <td>jeep</td>\n",
              "      <td>NaN</td>\n",
              "      <td>2016-03-14 00:00:00</td>\n",
              "      <td>0</td>\n",
              "      <td>90480</td>\n",
              "      <td>2016-04-05 12:47:46</td>\n",
              "    </tr>\n",
              "    <tr>\n",
              "      <th>3</th>\n",
              "      <td>2016-03-17 16:54:04</td>\n",
              "      <td>1500</td>\n",
              "      <td>small</td>\n",
              "      <td>2001</td>\n",
              "      <td>manual</td>\n",
              "      <td>75</td>\n",
              "      <td>golf</td>\n",
              "      <td>150000</td>\n",
              "      <td>6</td>\n",
              "      <td>petrol</td>\n",
              "      <td>volkswagen</td>\n",
              "      <td>no</td>\n",
              "      <td>2016-03-17 00:00:00</td>\n",
              "      <td>0</td>\n",
              "      <td>91074</td>\n",
              "      <td>2016-03-17 17:40:17</td>\n",
              "    </tr>\n",
              "    <tr>\n",
              "      <th>4</th>\n",
              "      <td>2016-03-31 17:25:20</td>\n",
              "      <td>3600</td>\n",
              "      <td>small</td>\n",
              "      <td>2008</td>\n",
              "      <td>manual</td>\n",
              "      <td>69</td>\n",
              "      <td>fabia</td>\n",
              "      <td>90000</td>\n",
              "      <td>7</td>\n",
              "      <td>gasoline</td>\n",
              "      <td>skoda</td>\n",
              "      <td>no</td>\n",
              "      <td>2016-03-31 00:00:00</td>\n",
              "      <td>0</td>\n",
              "      <td>60437</td>\n",
              "      <td>2016-04-06 10:17:21</td>\n",
              "    </tr>\n",
              "  </tbody>\n",
              "</table>\n",
              "</div>\n",
              "    <div class=\"colab-df-buttons\">\n",
              "\n",
              "  <div class=\"colab-df-container\">\n",
              "    <button class=\"colab-df-convert\" onclick=\"convertToInteractive('df-3e22c8ff-555f-467d-a3a6-5bd8ab379e30')\"\n",
              "            title=\"Convert this dataframe to an interactive table.\"\n",
              "            style=\"display:none;\">\n",
              "\n",
              "  <svg xmlns=\"http://www.w3.org/2000/svg\" height=\"24px\" viewBox=\"0 -960 960 960\">\n",
              "    <path d=\"M120-120v-720h720v720H120Zm60-500h600v-160H180v160Zm220 220h160v-160H400v160Zm0 220h160v-160H400v160ZM180-400h160v-160H180v160Zm440 0h160v-160H620v160ZM180-180h160v-160H180v160Zm440 0h160v-160H620v160Z\"/>\n",
              "  </svg>\n",
              "    </button>\n",
              "\n",
              "  <style>\n",
              "    .colab-df-container {\n",
              "      display:flex;\n",
              "      gap: 12px;\n",
              "    }\n",
              "\n",
              "    .colab-df-convert {\n",
              "      background-color: #E8F0FE;\n",
              "      border: none;\n",
              "      border-radius: 50%;\n",
              "      cursor: pointer;\n",
              "      display: none;\n",
              "      fill: #1967D2;\n",
              "      height: 32px;\n",
              "      padding: 0 0 0 0;\n",
              "      width: 32px;\n",
              "    }\n",
              "\n",
              "    .colab-df-convert:hover {\n",
              "      background-color: #E2EBFA;\n",
              "      box-shadow: 0px 1px 2px rgba(60, 64, 67, 0.3), 0px 1px 3px 1px rgba(60, 64, 67, 0.15);\n",
              "      fill: #174EA6;\n",
              "    }\n",
              "\n",
              "    .colab-df-buttons div {\n",
              "      margin-bottom: 4px;\n",
              "    }\n",
              "\n",
              "    [theme=dark] .colab-df-convert {\n",
              "      background-color: #3B4455;\n",
              "      fill: #D2E3FC;\n",
              "    }\n",
              "\n",
              "    [theme=dark] .colab-df-convert:hover {\n",
              "      background-color: #434B5C;\n",
              "      box-shadow: 0px 1px 3px 1px rgba(0, 0, 0, 0.15);\n",
              "      filter: drop-shadow(0px 1px 2px rgba(0, 0, 0, 0.3));\n",
              "      fill: #FFFFFF;\n",
              "    }\n",
              "  </style>\n",
              "\n",
              "    <script>\n",
              "      const buttonEl =\n",
              "        document.querySelector('#df-3e22c8ff-555f-467d-a3a6-5bd8ab379e30 button.colab-df-convert');\n",
              "      buttonEl.style.display =\n",
              "        google.colab.kernel.accessAllowed ? 'block' : 'none';\n",
              "\n",
              "      async function convertToInteractive(key) {\n",
              "        const element = document.querySelector('#df-3e22c8ff-555f-467d-a3a6-5bd8ab379e30');\n",
              "        const dataTable =\n",
              "          await google.colab.kernel.invokeFunction('convertToInteractive',\n",
              "                                                    [key], {});\n",
              "        if (!dataTable) return;\n",
              "\n",
              "        const docLinkHtml = 'Like what you see? Visit the ' +\n",
              "          '<a target=\"_blank\" href=https://colab.research.google.com/notebooks/data_table.ipynb>data table notebook</a>'\n",
              "          + ' to learn more about interactive tables.';\n",
              "        element.innerHTML = '';\n",
              "        dataTable['output_type'] = 'display_data';\n",
              "        await google.colab.output.renderOutput(dataTable, element);\n",
              "        const docLink = document.createElement('div');\n",
              "        docLink.innerHTML = docLinkHtml;\n",
              "        element.appendChild(docLink);\n",
              "      }\n",
              "    </script>\n",
              "  </div>\n",
              "\n",
              "\n",
              "<div id=\"df-72cd96d6-8b04-4c37-9332-353735ed7328\">\n",
              "  <button class=\"colab-df-quickchart\" onclick=\"quickchart('df-72cd96d6-8b04-4c37-9332-353735ed7328')\"\n",
              "            title=\"Suggest charts.\"\n",
              "            style=\"display:none;\">\n",
              "\n",
              "<svg xmlns=\"http://www.w3.org/2000/svg\" height=\"24px\"viewBox=\"0 0 24 24\"\n",
              "     width=\"24px\">\n",
              "    <g>\n",
              "        <path d=\"M19 3H5c-1.1 0-2 .9-2 2v14c0 1.1.9 2 2 2h14c1.1 0 2-.9 2-2V5c0-1.1-.9-2-2-2zM9 17H7v-7h2v7zm4 0h-2V7h2v10zm4 0h-2v-4h2v4z\"/>\n",
              "    </g>\n",
              "</svg>\n",
              "  </button>\n",
              "\n",
              "<style>\n",
              "  .colab-df-quickchart {\n",
              "      --bg-color: #E8F0FE;\n",
              "      --fill-color: #1967D2;\n",
              "      --hover-bg-color: #E2EBFA;\n",
              "      --hover-fill-color: #174EA6;\n",
              "      --disabled-fill-color: #AAA;\n",
              "      --disabled-bg-color: #DDD;\n",
              "  }\n",
              "\n",
              "  [theme=dark] .colab-df-quickchart {\n",
              "      --bg-color: #3B4455;\n",
              "      --fill-color: #D2E3FC;\n",
              "      --hover-bg-color: #434B5C;\n",
              "      --hover-fill-color: #FFFFFF;\n",
              "      --disabled-bg-color: #3B4455;\n",
              "      --disabled-fill-color: #666;\n",
              "  }\n",
              "\n",
              "  .colab-df-quickchart {\n",
              "    background-color: var(--bg-color);\n",
              "    border: none;\n",
              "    border-radius: 50%;\n",
              "    cursor: pointer;\n",
              "    display: none;\n",
              "    fill: var(--fill-color);\n",
              "    height: 32px;\n",
              "    padding: 0;\n",
              "    width: 32px;\n",
              "  }\n",
              "\n",
              "  .colab-df-quickchart:hover {\n",
              "    background-color: var(--hover-bg-color);\n",
              "    box-shadow: 0 1px 2px rgba(60, 64, 67, 0.3), 0 1px 3px 1px rgba(60, 64, 67, 0.15);\n",
              "    fill: var(--button-hover-fill-color);\n",
              "  }\n",
              "\n",
              "  .colab-df-quickchart-complete:disabled,\n",
              "  .colab-df-quickchart-complete:disabled:hover {\n",
              "    background-color: var(--disabled-bg-color);\n",
              "    fill: var(--disabled-fill-color);\n",
              "    box-shadow: none;\n",
              "  }\n",
              "\n",
              "  .colab-df-spinner {\n",
              "    border: 2px solid var(--fill-color);\n",
              "    border-color: transparent;\n",
              "    border-bottom-color: var(--fill-color);\n",
              "    animation:\n",
              "      spin 1s steps(1) infinite;\n",
              "  }\n",
              "\n",
              "  @keyframes spin {\n",
              "    0% {\n",
              "      border-color: transparent;\n",
              "      border-bottom-color: var(--fill-color);\n",
              "      border-left-color: var(--fill-color);\n",
              "    }\n",
              "    20% {\n",
              "      border-color: transparent;\n",
              "      border-left-color: var(--fill-color);\n",
              "      border-top-color: var(--fill-color);\n",
              "    }\n",
              "    30% {\n",
              "      border-color: transparent;\n",
              "      border-left-color: var(--fill-color);\n",
              "      border-top-color: var(--fill-color);\n",
              "      border-right-color: var(--fill-color);\n",
              "    }\n",
              "    40% {\n",
              "      border-color: transparent;\n",
              "      border-right-color: var(--fill-color);\n",
              "      border-top-color: var(--fill-color);\n",
              "    }\n",
              "    60% {\n",
              "      border-color: transparent;\n",
              "      border-right-color: var(--fill-color);\n",
              "    }\n",
              "    80% {\n",
              "      border-color: transparent;\n",
              "      border-right-color: var(--fill-color);\n",
              "      border-bottom-color: var(--fill-color);\n",
              "    }\n",
              "    90% {\n",
              "      border-color: transparent;\n",
              "      border-bottom-color: var(--fill-color);\n",
              "    }\n",
              "  }\n",
              "</style>\n",
              "\n",
              "  <script>\n",
              "    async function quickchart(key) {\n",
              "      const quickchartButtonEl =\n",
              "        document.querySelector('#' + key + ' button');\n",
              "      quickchartButtonEl.disabled = true;  // To prevent multiple clicks.\n",
              "      quickchartButtonEl.classList.add('colab-df-spinner');\n",
              "      try {\n",
              "        const charts = await google.colab.kernel.invokeFunction(\n",
              "            'suggestCharts', [key], {});\n",
              "      } catch (error) {\n",
              "        console.error('Error during call to suggestCharts:', error);\n",
              "      }\n",
              "      quickchartButtonEl.classList.remove('colab-df-spinner');\n",
              "      quickchartButtonEl.classList.add('colab-df-quickchart-complete');\n",
              "    }\n",
              "    (() => {\n",
              "      let quickchartButtonEl =\n",
              "        document.querySelector('#df-72cd96d6-8b04-4c37-9332-353735ed7328 button');\n",
              "      quickchartButtonEl.style.display =\n",
              "        google.colab.kernel.accessAllowed ? 'block' : 'none';\n",
              "    })();\n",
              "  </script>\n",
              "</div>\n",
              "    </div>\n",
              "  </div>\n"
            ]
          },
          "metadata": {},
          "execution_count": 6
        }
      ],
      "source": [
        "df.head()"
      ]
    },
    {
      "cell_type": "code",
      "execution_count": null,
      "metadata": {
        "colab": {
          "base_uri": "https://localhost:8080/"
        },
        "id": "mMiGjBta_l_g",
        "outputId": "c5832085-4b95-41d2-b512-c048f6fee2d5"
      },
      "outputs": [
        {
          "output_type": "stream",
          "name": "stdout",
          "text": [
            "<class 'pandas.core.frame.DataFrame'>\n",
            "RangeIndex: 354369 entries, 0 to 354368\n",
            "Data columns (total 16 columns):\n",
            " #   Column             Non-Null Count   Dtype \n",
            "---  ------             --------------   ----- \n",
            " 0   DateCrawled        354369 non-null  object\n",
            " 1   Price              354369 non-null  int64 \n",
            " 2   VehicleType        316879 non-null  object\n",
            " 3   RegistrationYear   354369 non-null  int64 \n",
            " 4   Gearbox            334536 non-null  object\n",
            " 5   Power              354369 non-null  int64 \n",
            " 6   Model              334664 non-null  object\n",
            " 7   Kilometer          354369 non-null  int64 \n",
            " 8   RegistrationMonth  354369 non-null  int64 \n",
            " 9   FuelType           321474 non-null  object\n",
            " 10  Brand              354369 non-null  object\n",
            " 11  Repaired           283215 non-null  object\n",
            " 12  DateCreated        354369 non-null  object\n",
            " 13  NumberOfPictures   354369 non-null  int64 \n",
            " 14  PostalCode         354369 non-null  int64 \n",
            " 15  LastSeen           354369 non-null  object\n",
            "dtypes: int64(7), object(9)\n",
            "memory usage: 43.3+ MB\n"
          ]
        }
      ],
      "source": [
        "df.info()"
      ]
    },
    {
      "cell_type": "code",
      "source": [
        "df.describe()"
      ],
      "metadata": {
        "colab": {
          "base_uri": "https://localhost:8080/",
          "height": 300
        },
        "id": "3hCcIvt1BQXN",
        "outputId": "f9eca435-50fe-4120-d4c6-8ab7b9a68cd9"
      },
      "execution_count": null,
      "outputs": [
        {
          "output_type": "execute_result",
          "data": {
            "text/plain": [
              "               Price  RegistrationYear          Power      Kilometer  \\\n",
              "count  354369.000000     354369.000000  354369.000000  354369.000000   \n",
              "mean     4416.656776       2004.234448     110.094337  128211.172535   \n",
              "std      4514.158514         90.227958     189.850405   37905.341530   \n",
              "min         0.000000       1000.000000       0.000000    5000.000000   \n",
              "25%      1050.000000       1999.000000      69.000000  125000.000000   \n",
              "50%      2700.000000       2003.000000     105.000000  150000.000000   \n",
              "75%      6400.000000       2008.000000     143.000000  150000.000000   \n",
              "max     20000.000000       9999.000000   20000.000000  150000.000000   \n",
              "\n",
              "       RegistrationMonth  NumberOfPictures     PostalCode  \n",
              "count      354369.000000          354369.0  354369.000000  \n",
              "mean            5.714645               0.0   50508.689087  \n",
              "std             3.726421               0.0   25783.096248  \n",
              "min             0.000000               0.0    1067.000000  \n",
              "25%             3.000000               0.0   30165.000000  \n",
              "50%             6.000000               0.0   49413.000000  \n",
              "75%             9.000000               0.0   71083.000000  \n",
              "max            12.000000               0.0   99998.000000  "
            ],
            "text/html": [
              "\n",
              "  <div id=\"df-991d5147-4e61-42a5-a758-acdbca13f9ad\" class=\"colab-df-container\">\n",
              "    <div>\n",
              "<style scoped>\n",
              "    .dataframe tbody tr th:only-of-type {\n",
              "        vertical-align: middle;\n",
              "    }\n",
              "\n",
              "    .dataframe tbody tr th {\n",
              "        vertical-align: top;\n",
              "    }\n",
              "\n",
              "    .dataframe thead th {\n",
              "        text-align: right;\n",
              "    }\n",
              "</style>\n",
              "<table border=\"1\" class=\"dataframe\">\n",
              "  <thead>\n",
              "    <tr style=\"text-align: right;\">\n",
              "      <th></th>\n",
              "      <th>Price</th>\n",
              "      <th>RegistrationYear</th>\n",
              "      <th>Power</th>\n",
              "      <th>Kilometer</th>\n",
              "      <th>RegistrationMonth</th>\n",
              "      <th>NumberOfPictures</th>\n",
              "      <th>PostalCode</th>\n",
              "    </tr>\n",
              "  </thead>\n",
              "  <tbody>\n",
              "    <tr>\n",
              "      <th>count</th>\n",
              "      <td>354369.000000</td>\n",
              "      <td>354369.000000</td>\n",
              "      <td>354369.000000</td>\n",
              "      <td>354369.000000</td>\n",
              "      <td>354369.000000</td>\n",
              "      <td>354369.0</td>\n",
              "      <td>354369.000000</td>\n",
              "    </tr>\n",
              "    <tr>\n",
              "      <th>mean</th>\n",
              "      <td>4416.656776</td>\n",
              "      <td>2004.234448</td>\n",
              "      <td>110.094337</td>\n",
              "      <td>128211.172535</td>\n",
              "      <td>5.714645</td>\n",
              "      <td>0.0</td>\n",
              "      <td>50508.689087</td>\n",
              "    </tr>\n",
              "    <tr>\n",
              "      <th>std</th>\n",
              "      <td>4514.158514</td>\n",
              "      <td>90.227958</td>\n",
              "      <td>189.850405</td>\n",
              "      <td>37905.341530</td>\n",
              "      <td>3.726421</td>\n",
              "      <td>0.0</td>\n",
              "      <td>25783.096248</td>\n",
              "    </tr>\n",
              "    <tr>\n",
              "      <th>min</th>\n",
              "      <td>0.000000</td>\n",
              "      <td>1000.000000</td>\n",
              "      <td>0.000000</td>\n",
              "      <td>5000.000000</td>\n",
              "      <td>0.000000</td>\n",
              "      <td>0.0</td>\n",
              "      <td>1067.000000</td>\n",
              "    </tr>\n",
              "    <tr>\n",
              "      <th>25%</th>\n",
              "      <td>1050.000000</td>\n",
              "      <td>1999.000000</td>\n",
              "      <td>69.000000</td>\n",
              "      <td>125000.000000</td>\n",
              "      <td>3.000000</td>\n",
              "      <td>0.0</td>\n",
              "      <td>30165.000000</td>\n",
              "    </tr>\n",
              "    <tr>\n",
              "      <th>50%</th>\n",
              "      <td>2700.000000</td>\n",
              "      <td>2003.000000</td>\n",
              "      <td>105.000000</td>\n",
              "      <td>150000.000000</td>\n",
              "      <td>6.000000</td>\n",
              "      <td>0.0</td>\n",
              "      <td>49413.000000</td>\n",
              "    </tr>\n",
              "    <tr>\n",
              "      <th>75%</th>\n",
              "      <td>6400.000000</td>\n",
              "      <td>2008.000000</td>\n",
              "      <td>143.000000</td>\n",
              "      <td>150000.000000</td>\n",
              "      <td>9.000000</td>\n",
              "      <td>0.0</td>\n",
              "      <td>71083.000000</td>\n",
              "    </tr>\n",
              "    <tr>\n",
              "      <th>max</th>\n",
              "      <td>20000.000000</td>\n",
              "      <td>9999.000000</td>\n",
              "      <td>20000.000000</td>\n",
              "      <td>150000.000000</td>\n",
              "      <td>12.000000</td>\n",
              "      <td>0.0</td>\n",
              "      <td>99998.000000</td>\n",
              "    </tr>\n",
              "  </tbody>\n",
              "</table>\n",
              "</div>\n",
              "    <div class=\"colab-df-buttons\">\n",
              "\n",
              "  <div class=\"colab-df-container\">\n",
              "    <button class=\"colab-df-convert\" onclick=\"convertToInteractive('df-991d5147-4e61-42a5-a758-acdbca13f9ad')\"\n",
              "            title=\"Convert this dataframe to an interactive table.\"\n",
              "            style=\"display:none;\">\n",
              "\n",
              "  <svg xmlns=\"http://www.w3.org/2000/svg\" height=\"24px\" viewBox=\"0 -960 960 960\">\n",
              "    <path d=\"M120-120v-720h720v720H120Zm60-500h600v-160H180v160Zm220 220h160v-160H400v160Zm0 220h160v-160H400v160ZM180-400h160v-160H180v160Zm440 0h160v-160H620v160ZM180-180h160v-160H180v160Zm440 0h160v-160H620v160Z\"/>\n",
              "  </svg>\n",
              "    </button>\n",
              "\n",
              "  <style>\n",
              "    .colab-df-container {\n",
              "      display:flex;\n",
              "      gap: 12px;\n",
              "    }\n",
              "\n",
              "    .colab-df-convert {\n",
              "      background-color: #E8F0FE;\n",
              "      border: none;\n",
              "      border-radius: 50%;\n",
              "      cursor: pointer;\n",
              "      display: none;\n",
              "      fill: #1967D2;\n",
              "      height: 32px;\n",
              "      padding: 0 0 0 0;\n",
              "      width: 32px;\n",
              "    }\n",
              "\n",
              "    .colab-df-convert:hover {\n",
              "      background-color: #E2EBFA;\n",
              "      box-shadow: 0px 1px 2px rgba(60, 64, 67, 0.3), 0px 1px 3px 1px rgba(60, 64, 67, 0.15);\n",
              "      fill: #174EA6;\n",
              "    }\n",
              "\n",
              "    .colab-df-buttons div {\n",
              "      margin-bottom: 4px;\n",
              "    }\n",
              "\n",
              "    [theme=dark] .colab-df-convert {\n",
              "      background-color: #3B4455;\n",
              "      fill: #D2E3FC;\n",
              "    }\n",
              "\n",
              "    [theme=dark] .colab-df-convert:hover {\n",
              "      background-color: #434B5C;\n",
              "      box-shadow: 0px 1px 3px 1px rgba(0, 0, 0, 0.15);\n",
              "      filter: drop-shadow(0px 1px 2px rgba(0, 0, 0, 0.3));\n",
              "      fill: #FFFFFF;\n",
              "    }\n",
              "  </style>\n",
              "\n",
              "    <script>\n",
              "      const buttonEl =\n",
              "        document.querySelector('#df-991d5147-4e61-42a5-a758-acdbca13f9ad button.colab-df-convert');\n",
              "      buttonEl.style.display =\n",
              "        google.colab.kernel.accessAllowed ? 'block' : 'none';\n",
              "\n",
              "      async function convertToInteractive(key) {\n",
              "        const element = document.querySelector('#df-991d5147-4e61-42a5-a758-acdbca13f9ad');\n",
              "        const dataTable =\n",
              "          await google.colab.kernel.invokeFunction('convertToInteractive',\n",
              "                                                    [key], {});\n",
              "        if (!dataTable) return;\n",
              "\n",
              "        const docLinkHtml = 'Like what you see? Visit the ' +\n",
              "          '<a target=\"_blank\" href=https://colab.research.google.com/notebooks/data_table.ipynb>data table notebook</a>'\n",
              "          + ' to learn more about interactive tables.';\n",
              "        element.innerHTML = '';\n",
              "        dataTable['output_type'] = 'display_data';\n",
              "        await google.colab.output.renderOutput(dataTable, element);\n",
              "        const docLink = document.createElement('div');\n",
              "        docLink.innerHTML = docLinkHtml;\n",
              "        element.appendChild(docLink);\n",
              "      }\n",
              "    </script>\n",
              "  </div>\n",
              "\n",
              "\n",
              "<div id=\"df-102ae034-ae98-4d4f-9daa-351c81956bce\">\n",
              "  <button class=\"colab-df-quickchart\" onclick=\"quickchart('df-102ae034-ae98-4d4f-9daa-351c81956bce')\"\n",
              "            title=\"Suggest charts.\"\n",
              "            style=\"display:none;\">\n",
              "\n",
              "<svg xmlns=\"http://www.w3.org/2000/svg\" height=\"24px\"viewBox=\"0 0 24 24\"\n",
              "     width=\"24px\">\n",
              "    <g>\n",
              "        <path d=\"M19 3H5c-1.1 0-2 .9-2 2v14c0 1.1.9 2 2 2h14c1.1 0 2-.9 2-2V5c0-1.1-.9-2-2-2zM9 17H7v-7h2v7zm4 0h-2V7h2v10zm4 0h-2v-4h2v4z\"/>\n",
              "    </g>\n",
              "</svg>\n",
              "  </button>\n",
              "\n",
              "<style>\n",
              "  .colab-df-quickchart {\n",
              "      --bg-color: #E8F0FE;\n",
              "      --fill-color: #1967D2;\n",
              "      --hover-bg-color: #E2EBFA;\n",
              "      --hover-fill-color: #174EA6;\n",
              "      --disabled-fill-color: #AAA;\n",
              "      --disabled-bg-color: #DDD;\n",
              "  }\n",
              "\n",
              "  [theme=dark] .colab-df-quickchart {\n",
              "      --bg-color: #3B4455;\n",
              "      --fill-color: #D2E3FC;\n",
              "      --hover-bg-color: #434B5C;\n",
              "      --hover-fill-color: #FFFFFF;\n",
              "      --disabled-bg-color: #3B4455;\n",
              "      --disabled-fill-color: #666;\n",
              "  }\n",
              "\n",
              "  .colab-df-quickchart {\n",
              "    background-color: var(--bg-color);\n",
              "    border: none;\n",
              "    border-radius: 50%;\n",
              "    cursor: pointer;\n",
              "    display: none;\n",
              "    fill: var(--fill-color);\n",
              "    height: 32px;\n",
              "    padding: 0;\n",
              "    width: 32px;\n",
              "  }\n",
              "\n",
              "  .colab-df-quickchart:hover {\n",
              "    background-color: var(--hover-bg-color);\n",
              "    box-shadow: 0 1px 2px rgba(60, 64, 67, 0.3), 0 1px 3px 1px rgba(60, 64, 67, 0.15);\n",
              "    fill: var(--button-hover-fill-color);\n",
              "  }\n",
              "\n",
              "  .colab-df-quickchart-complete:disabled,\n",
              "  .colab-df-quickchart-complete:disabled:hover {\n",
              "    background-color: var(--disabled-bg-color);\n",
              "    fill: var(--disabled-fill-color);\n",
              "    box-shadow: none;\n",
              "  }\n",
              "\n",
              "  .colab-df-spinner {\n",
              "    border: 2px solid var(--fill-color);\n",
              "    border-color: transparent;\n",
              "    border-bottom-color: var(--fill-color);\n",
              "    animation:\n",
              "      spin 1s steps(1) infinite;\n",
              "  }\n",
              "\n",
              "  @keyframes spin {\n",
              "    0% {\n",
              "      border-color: transparent;\n",
              "      border-bottom-color: var(--fill-color);\n",
              "      border-left-color: var(--fill-color);\n",
              "    }\n",
              "    20% {\n",
              "      border-color: transparent;\n",
              "      border-left-color: var(--fill-color);\n",
              "      border-top-color: var(--fill-color);\n",
              "    }\n",
              "    30% {\n",
              "      border-color: transparent;\n",
              "      border-left-color: var(--fill-color);\n",
              "      border-top-color: var(--fill-color);\n",
              "      border-right-color: var(--fill-color);\n",
              "    }\n",
              "    40% {\n",
              "      border-color: transparent;\n",
              "      border-right-color: var(--fill-color);\n",
              "      border-top-color: var(--fill-color);\n",
              "    }\n",
              "    60% {\n",
              "      border-color: transparent;\n",
              "      border-right-color: var(--fill-color);\n",
              "    }\n",
              "    80% {\n",
              "      border-color: transparent;\n",
              "      border-right-color: var(--fill-color);\n",
              "      border-bottom-color: var(--fill-color);\n",
              "    }\n",
              "    90% {\n",
              "      border-color: transparent;\n",
              "      border-bottom-color: var(--fill-color);\n",
              "    }\n",
              "  }\n",
              "</style>\n",
              "\n",
              "  <script>\n",
              "    async function quickchart(key) {\n",
              "      const quickchartButtonEl =\n",
              "        document.querySelector('#' + key + ' button');\n",
              "      quickchartButtonEl.disabled = true;  // To prevent multiple clicks.\n",
              "      quickchartButtonEl.classList.add('colab-df-spinner');\n",
              "      try {\n",
              "        const charts = await google.colab.kernel.invokeFunction(\n",
              "            'suggestCharts', [key], {});\n",
              "      } catch (error) {\n",
              "        console.error('Error during call to suggestCharts:', error);\n",
              "      }\n",
              "      quickchartButtonEl.classList.remove('colab-df-spinner');\n",
              "      quickchartButtonEl.classList.add('colab-df-quickchart-complete');\n",
              "    }\n",
              "    (() => {\n",
              "      let quickchartButtonEl =\n",
              "        document.querySelector('#df-102ae034-ae98-4d4f-9daa-351c81956bce button');\n",
              "      quickchartButtonEl.style.display =\n",
              "        google.colab.kernel.accessAllowed ? 'block' : 'none';\n",
              "    })();\n",
              "  </script>\n",
              "</div>\n",
              "    </div>\n",
              "  </div>\n"
            ]
          },
          "metadata": {},
          "execution_count": 8
        }
      ]
    },
    {
      "cell_type": "code",
      "execution_count": null,
      "metadata": {
        "colab": {
          "base_uri": "https://localhost:8080/"
        },
        "id": "oPJYmVbl_l_g",
        "outputId": "df52938e-8c35-446f-e0a3-7d9490c215a3"
      },
      "outputs": [
        {
          "output_type": "execute_result",
          "data": {
            "text/plain": [
              "4"
            ]
          },
          "metadata": {},
          "execution_count": 9
        }
      ],
      "source": [
        "df.duplicated().sum()"
      ]
    },
    {
      "cell_type": "code",
      "execution_count": null,
      "metadata": {
        "id": "IydNu4rj_l_g"
      },
      "outputs": [],
      "source": [
        "df = df.drop_duplicates()"
      ]
    },
    {
      "cell_type": "code",
      "execution_count": null,
      "metadata": {
        "colab": {
          "base_uri": "https://localhost:8080/"
        },
        "id": "61M9pOP0_l_h",
        "outputId": "de52d79d-a0da-4aaa-a901-f26196b79889"
      },
      "outputs": [
        {
          "output_type": "execute_result",
          "data": {
            "text/plain": [
              "0"
            ]
          },
          "metadata": {},
          "execution_count": 11
        }
      ],
      "source": [
        "df.duplicated().sum()"
      ]
    },
    {
      "cell_type": "markdown",
      "source": [
        "Удалим лишние столбцы, которые не несут важной информации"
      ],
      "metadata": {
        "id": "aPo1FZUpV0jd"
      }
    },
    {
      "cell_type": "code",
      "execution_count": null,
      "metadata": {
        "id": "yeWUiAst_l_z"
      },
      "outputs": [],
      "source": [
        "df = df.drop(['NumberOfPictures', 'DateCrawled', 'LastSeen', 'PostalCode', 'DateCreated', 'RegistrationMonth'], axis=1)"
      ]
    },
    {
      "cell_type": "code",
      "source": [
        "df.isna().sum()"
      ],
      "metadata": {
        "colab": {
          "base_uri": "https://localhost:8080/"
        },
        "id": "Pd-cXfMQWKsN",
        "outputId": "7f53df5b-6bff-4af2-bcef-5b572481d013"
      },
      "execution_count": null,
      "outputs": [
        {
          "output_type": "execute_result",
          "data": {
            "text/plain": [
              "Price                   0\n",
              "VehicleType         37490\n",
              "RegistrationYear        0\n",
              "Gearbox             19833\n",
              "Power                   0\n",
              "Model               19705\n",
              "Kilometer               0\n",
              "FuelType            32895\n",
              "Brand                   0\n",
              "Repaired            71154\n",
              "dtype: int64"
            ]
          },
          "metadata": {},
          "execution_count": 17
        }
      ]
    },
    {
      "cell_type": "code",
      "source": [
        "cat = df.select_dtypes(include='object').columns.to_list()"
      ],
      "metadata": {
        "id": "4aVMvo9hEIsZ"
      },
      "execution_count": null,
      "outputs": []
    },
    {
      "cell_type": "code",
      "source": [
        "cat"
      ],
      "metadata": {
        "colab": {
          "base_uri": "https://localhost:8080/"
        },
        "id": "LzlbvmLjUYgo",
        "outputId": "44eb722d-8897-42fc-b2de-b27d06ea2ed5"
      },
      "execution_count": null,
      "outputs": [
        {
          "output_type": "execute_result",
          "data": {
            "text/plain": [
              "['VehicleType', 'Gearbox', 'Model', 'FuelType', 'Brand', 'Repaired']"
            ]
          },
          "metadata": {},
          "execution_count": 19
        }
      ]
    },
    {
      "cell_type": "code",
      "source": [
        "encoder = MEstimateEncoder(handle_missing='return_nan')\n",
        "df_coded = df.copy()\n",
        "df_coded[cat] = encoder.fit_transform(df_coded[cat], y=df_coded['Price'])"
      ],
      "metadata": {
        "id": "S9KRhH0pD_R1"
      },
      "execution_count": null,
      "outputs": []
    },
    {
      "cell_type": "code",
      "source": [
        "df_coded.head()"
      ],
      "metadata": {
        "colab": {
          "base_uri": "https://localhost:8080/",
          "height": 206
        },
        "id": "Gt8piYoJBM4X",
        "outputId": "1495d521-d311-4b4d-ea2d-ea0dc3f63978"
      },
      "execution_count": null,
      "outputs": [
        {
          "output_type": "execute_result",
          "data": {
            "text/plain": [
              "   Price  VehicleType  RegistrationYear      Gearbox  Power        Model  \\\n",
              "0    480          NaN              1993  3980.777632      0  4154.315831   \n",
              "1  18300  6011.127749              2011  3980.777632    190          NaN   \n",
              "2   9800  9008.823679              2004  6842.136831    163  6379.894448   \n",
              "3   1500  2677.694238              2001  3980.777632     75  4154.315831   \n",
              "4   3600  2677.694238              2008  3980.777632     69  4184.033484   \n",
              "\n",
              "   Kilometer     FuelType        Brand     Repaired  \n",
              "0     150000  3750.044856  4381.308463          NaN  \n",
              "1     125000  6579.784630  6239.914610  1916.031250  \n",
              "2     125000  6579.784630  7061.189793          NaN  \n",
              "3     150000  3750.044856  4381.308463  5296.852454  \n",
              "4      90000  6579.784630  5909.335335  5296.852454  "
            ],
            "text/html": [
              "\n",
              "  <div id=\"df-556776f7-7267-42f6-a175-26c21e22813b\" class=\"colab-df-container\">\n",
              "    <div>\n",
              "<style scoped>\n",
              "    .dataframe tbody tr th:only-of-type {\n",
              "        vertical-align: middle;\n",
              "    }\n",
              "\n",
              "    .dataframe tbody tr th {\n",
              "        vertical-align: top;\n",
              "    }\n",
              "\n",
              "    .dataframe thead th {\n",
              "        text-align: right;\n",
              "    }\n",
              "</style>\n",
              "<table border=\"1\" class=\"dataframe\">\n",
              "  <thead>\n",
              "    <tr style=\"text-align: right;\">\n",
              "      <th></th>\n",
              "      <th>Price</th>\n",
              "      <th>VehicleType</th>\n",
              "      <th>RegistrationYear</th>\n",
              "      <th>Gearbox</th>\n",
              "      <th>Power</th>\n",
              "      <th>Model</th>\n",
              "      <th>Kilometer</th>\n",
              "      <th>FuelType</th>\n",
              "      <th>Brand</th>\n",
              "      <th>Repaired</th>\n",
              "    </tr>\n",
              "  </thead>\n",
              "  <tbody>\n",
              "    <tr>\n",
              "      <th>0</th>\n",
              "      <td>480</td>\n",
              "      <td>NaN</td>\n",
              "      <td>1993</td>\n",
              "      <td>3980.777632</td>\n",
              "      <td>0</td>\n",
              "      <td>4154.315831</td>\n",
              "      <td>150000</td>\n",
              "      <td>3750.044856</td>\n",
              "      <td>4381.308463</td>\n",
              "      <td>NaN</td>\n",
              "    </tr>\n",
              "    <tr>\n",
              "      <th>1</th>\n",
              "      <td>18300</td>\n",
              "      <td>6011.127749</td>\n",
              "      <td>2011</td>\n",
              "      <td>3980.777632</td>\n",
              "      <td>190</td>\n",
              "      <td>NaN</td>\n",
              "      <td>125000</td>\n",
              "      <td>6579.784630</td>\n",
              "      <td>6239.914610</td>\n",
              "      <td>1916.031250</td>\n",
              "    </tr>\n",
              "    <tr>\n",
              "      <th>2</th>\n",
              "      <td>9800</td>\n",
              "      <td>9008.823679</td>\n",
              "      <td>2004</td>\n",
              "      <td>6842.136831</td>\n",
              "      <td>163</td>\n",
              "      <td>6379.894448</td>\n",
              "      <td>125000</td>\n",
              "      <td>6579.784630</td>\n",
              "      <td>7061.189793</td>\n",
              "      <td>NaN</td>\n",
              "    </tr>\n",
              "    <tr>\n",
              "      <th>3</th>\n",
              "      <td>1500</td>\n",
              "      <td>2677.694238</td>\n",
              "      <td>2001</td>\n",
              "      <td>3980.777632</td>\n",
              "      <td>75</td>\n",
              "      <td>4154.315831</td>\n",
              "      <td>150000</td>\n",
              "      <td>3750.044856</td>\n",
              "      <td>4381.308463</td>\n",
              "      <td>5296.852454</td>\n",
              "    </tr>\n",
              "    <tr>\n",
              "      <th>4</th>\n",
              "      <td>3600</td>\n",
              "      <td>2677.694238</td>\n",
              "      <td>2008</td>\n",
              "      <td>3980.777632</td>\n",
              "      <td>69</td>\n",
              "      <td>4184.033484</td>\n",
              "      <td>90000</td>\n",
              "      <td>6579.784630</td>\n",
              "      <td>5909.335335</td>\n",
              "      <td>5296.852454</td>\n",
              "    </tr>\n",
              "  </tbody>\n",
              "</table>\n",
              "</div>\n",
              "    <div class=\"colab-df-buttons\">\n",
              "\n",
              "  <div class=\"colab-df-container\">\n",
              "    <button class=\"colab-df-convert\" onclick=\"convertToInteractive('df-556776f7-7267-42f6-a175-26c21e22813b')\"\n",
              "            title=\"Convert this dataframe to an interactive table.\"\n",
              "            style=\"display:none;\">\n",
              "\n",
              "  <svg xmlns=\"http://www.w3.org/2000/svg\" height=\"24px\" viewBox=\"0 -960 960 960\">\n",
              "    <path d=\"M120-120v-720h720v720H120Zm60-500h600v-160H180v160Zm220 220h160v-160H400v160Zm0 220h160v-160H400v160ZM180-400h160v-160H180v160Zm440 0h160v-160H620v160ZM180-180h160v-160H180v160Zm440 0h160v-160H620v160Z\"/>\n",
              "  </svg>\n",
              "    </button>\n",
              "\n",
              "  <style>\n",
              "    .colab-df-container {\n",
              "      display:flex;\n",
              "      gap: 12px;\n",
              "    }\n",
              "\n",
              "    .colab-df-convert {\n",
              "      background-color: #E8F0FE;\n",
              "      border: none;\n",
              "      border-radius: 50%;\n",
              "      cursor: pointer;\n",
              "      display: none;\n",
              "      fill: #1967D2;\n",
              "      height: 32px;\n",
              "      padding: 0 0 0 0;\n",
              "      width: 32px;\n",
              "    }\n",
              "\n",
              "    .colab-df-convert:hover {\n",
              "      background-color: #E2EBFA;\n",
              "      box-shadow: 0px 1px 2px rgba(60, 64, 67, 0.3), 0px 1px 3px 1px rgba(60, 64, 67, 0.15);\n",
              "      fill: #174EA6;\n",
              "    }\n",
              "\n",
              "    .colab-df-buttons div {\n",
              "      margin-bottom: 4px;\n",
              "    }\n",
              "\n",
              "    [theme=dark] .colab-df-convert {\n",
              "      background-color: #3B4455;\n",
              "      fill: #D2E3FC;\n",
              "    }\n",
              "\n",
              "    [theme=dark] .colab-df-convert:hover {\n",
              "      background-color: #434B5C;\n",
              "      box-shadow: 0px 1px 3px 1px rgba(0, 0, 0, 0.15);\n",
              "      filter: drop-shadow(0px 1px 2px rgba(0, 0, 0, 0.3));\n",
              "      fill: #FFFFFF;\n",
              "    }\n",
              "  </style>\n",
              "\n",
              "    <script>\n",
              "      const buttonEl =\n",
              "        document.querySelector('#df-556776f7-7267-42f6-a175-26c21e22813b button.colab-df-convert');\n",
              "      buttonEl.style.display =\n",
              "        google.colab.kernel.accessAllowed ? 'block' : 'none';\n",
              "\n",
              "      async function convertToInteractive(key) {\n",
              "        const element = document.querySelector('#df-556776f7-7267-42f6-a175-26c21e22813b');\n",
              "        const dataTable =\n",
              "          await google.colab.kernel.invokeFunction('convertToInteractive',\n",
              "                                                    [key], {});\n",
              "        if (!dataTable) return;\n",
              "\n",
              "        const docLinkHtml = 'Like what you see? Visit the ' +\n",
              "          '<a target=\"_blank\" href=https://colab.research.google.com/notebooks/data_table.ipynb>data table notebook</a>'\n",
              "          + ' to learn more about interactive tables.';\n",
              "        element.innerHTML = '';\n",
              "        dataTable['output_type'] = 'display_data';\n",
              "        await google.colab.output.renderOutput(dataTable, element);\n",
              "        const docLink = document.createElement('div');\n",
              "        docLink.innerHTML = docLinkHtml;\n",
              "        element.appendChild(docLink);\n",
              "      }\n",
              "    </script>\n",
              "  </div>\n",
              "\n",
              "\n",
              "<div id=\"df-caeb29cd-9d73-41e9-98b7-2f0796a2d3a3\">\n",
              "  <button class=\"colab-df-quickchart\" onclick=\"quickchart('df-caeb29cd-9d73-41e9-98b7-2f0796a2d3a3')\"\n",
              "            title=\"Suggest charts.\"\n",
              "            style=\"display:none;\">\n",
              "\n",
              "<svg xmlns=\"http://www.w3.org/2000/svg\" height=\"24px\"viewBox=\"0 0 24 24\"\n",
              "     width=\"24px\">\n",
              "    <g>\n",
              "        <path d=\"M19 3H5c-1.1 0-2 .9-2 2v14c0 1.1.9 2 2 2h14c1.1 0 2-.9 2-2V5c0-1.1-.9-2-2-2zM9 17H7v-7h2v7zm4 0h-2V7h2v10zm4 0h-2v-4h2v4z\"/>\n",
              "    </g>\n",
              "</svg>\n",
              "  </button>\n",
              "\n",
              "<style>\n",
              "  .colab-df-quickchart {\n",
              "      --bg-color: #E8F0FE;\n",
              "      --fill-color: #1967D2;\n",
              "      --hover-bg-color: #E2EBFA;\n",
              "      --hover-fill-color: #174EA6;\n",
              "      --disabled-fill-color: #AAA;\n",
              "      --disabled-bg-color: #DDD;\n",
              "  }\n",
              "\n",
              "  [theme=dark] .colab-df-quickchart {\n",
              "      --bg-color: #3B4455;\n",
              "      --fill-color: #D2E3FC;\n",
              "      --hover-bg-color: #434B5C;\n",
              "      --hover-fill-color: #FFFFFF;\n",
              "      --disabled-bg-color: #3B4455;\n",
              "      --disabled-fill-color: #666;\n",
              "  }\n",
              "\n",
              "  .colab-df-quickchart {\n",
              "    background-color: var(--bg-color);\n",
              "    border: none;\n",
              "    border-radius: 50%;\n",
              "    cursor: pointer;\n",
              "    display: none;\n",
              "    fill: var(--fill-color);\n",
              "    height: 32px;\n",
              "    padding: 0;\n",
              "    width: 32px;\n",
              "  }\n",
              "\n",
              "  .colab-df-quickchart:hover {\n",
              "    background-color: var(--hover-bg-color);\n",
              "    box-shadow: 0 1px 2px rgba(60, 64, 67, 0.3), 0 1px 3px 1px rgba(60, 64, 67, 0.15);\n",
              "    fill: var(--button-hover-fill-color);\n",
              "  }\n",
              "\n",
              "  .colab-df-quickchart-complete:disabled,\n",
              "  .colab-df-quickchart-complete:disabled:hover {\n",
              "    background-color: var(--disabled-bg-color);\n",
              "    fill: var(--disabled-fill-color);\n",
              "    box-shadow: none;\n",
              "  }\n",
              "\n",
              "  .colab-df-spinner {\n",
              "    border: 2px solid var(--fill-color);\n",
              "    border-color: transparent;\n",
              "    border-bottom-color: var(--fill-color);\n",
              "    animation:\n",
              "      spin 1s steps(1) infinite;\n",
              "  }\n",
              "\n",
              "  @keyframes spin {\n",
              "    0% {\n",
              "      border-color: transparent;\n",
              "      border-bottom-color: var(--fill-color);\n",
              "      border-left-color: var(--fill-color);\n",
              "    }\n",
              "    20% {\n",
              "      border-color: transparent;\n",
              "      border-left-color: var(--fill-color);\n",
              "      border-top-color: var(--fill-color);\n",
              "    }\n",
              "    30% {\n",
              "      border-color: transparent;\n",
              "      border-left-color: var(--fill-color);\n",
              "      border-top-color: var(--fill-color);\n",
              "      border-right-color: var(--fill-color);\n",
              "    }\n",
              "    40% {\n",
              "      border-color: transparent;\n",
              "      border-right-color: var(--fill-color);\n",
              "      border-top-color: var(--fill-color);\n",
              "    }\n",
              "    60% {\n",
              "      border-color: transparent;\n",
              "      border-right-color: var(--fill-color);\n",
              "    }\n",
              "    80% {\n",
              "      border-color: transparent;\n",
              "      border-right-color: var(--fill-color);\n",
              "      border-bottom-color: var(--fill-color);\n",
              "    }\n",
              "    90% {\n",
              "      border-color: transparent;\n",
              "      border-bottom-color: var(--fill-color);\n",
              "    }\n",
              "  }\n",
              "</style>\n",
              "\n",
              "  <script>\n",
              "    async function quickchart(key) {\n",
              "      const quickchartButtonEl =\n",
              "        document.querySelector('#' + key + ' button');\n",
              "      quickchartButtonEl.disabled = true;  // To prevent multiple clicks.\n",
              "      quickchartButtonEl.classList.add('colab-df-spinner');\n",
              "      try {\n",
              "        const charts = await google.colab.kernel.invokeFunction(\n",
              "            'suggestCharts', [key], {});\n",
              "      } catch (error) {\n",
              "        console.error('Error during call to suggestCharts:', error);\n",
              "      }\n",
              "      quickchartButtonEl.classList.remove('colab-df-spinner');\n",
              "      quickchartButtonEl.classList.add('colab-df-quickchart-complete');\n",
              "    }\n",
              "    (() => {\n",
              "      let quickchartButtonEl =\n",
              "        document.querySelector('#df-caeb29cd-9d73-41e9-98b7-2f0796a2d3a3 button');\n",
              "      quickchartButtonEl.style.display =\n",
              "        google.colab.kernel.accessAllowed ? 'block' : 'none';\n",
              "    })();\n",
              "  </script>\n",
              "</div>\n",
              "    </div>\n",
              "  </div>\n"
            ]
          },
          "metadata": {},
          "execution_count": 21
        }
      ]
    },
    {
      "cell_type": "code",
      "source": [
        "imputer = KNNImputer(n_neighbors=5)\n",
        "df_coded = pd.DataFrame(imputer.fit_transform(df_coded), columns=df.columns)\n"
      ],
      "metadata": {
        "id": "wvKxllM5CbO1"
      },
      "execution_count": null,
      "outputs": []
    },
    {
      "cell_type": "code",
      "source": [
        "df_coded.describe()"
      ],
      "metadata": {
        "colab": {
          "base_uri": "https://localhost:8080/",
          "height": 300
        },
        "id": "Hf7u3IDvS_Xb",
        "outputId": "2b895cd9-6001-4b12-ba10-6adae17ca221"
      },
      "execution_count": null,
      "outputs": [
        {
          "output_type": "execute_result",
          "data": {
            "text/plain": [
              "               Price  RegistrationYear          Power      Kilometer  \\\n",
              "count  354365.000000     354365.000000  354365.000000  354365.000000   \n",
              "mean     4416.679830       2004.234481     110.093816  128211.363989   \n",
              "std      4514.176349         90.228466     189.851330   37905.083858   \n",
              "min         0.000000       1000.000000       0.000000    5000.000000   \n",
              "25%      1050.000000       1999.000000      69.000000  125000.000000   \n",
              "50%      2700.000000       2003.000000     105.000000  150000.000000   \n",
              "75%      6400.000000       2008.000000     143.000000  150000.000000   \n",
              "max     20000.000000       9999.000000   20000.000000  150000.000000   \n",
              "\n",
              "               Brand  \n",
              "count  354365.000000  \n",
              "mean     4416.683633  \n",
              "std      1455.788133  \n",
              "min      1024.071234  \n",
              "25%      3175.769129  \n",
              "50%      4381.308463  \n",
              "75%      5910.627108  \n",
              "max     10986.003531  "
            ],
            "text/html": [
              "\n",
              "  <div id=\"df-9bbaedb3-9caa-4aca-b056-8b79844bf789\" class=\"colab-df-container\">\n",
              "    <div>\n",
              "<style scoped>\n",
              "    .dataframe tbody tr th:only-of-type {\n",
              "        vertical-align: middle;\n",
              "    }\n",
              "\n",
              "    .dataframe tbody tr th {\n",
              "        vertical-align: top;\n",
              "    }\n",
              "\n",
              "    .dataframe thead th {\n",
              "        text-align: right;\n",
              "    }\n",
              "</style>\n",
              "<table border=\"1\" class=\"dataframe\">\n",
              "  <thead>\n",
              "    <tr style=\"text-align: right;\">\n",
              "      <th></th>\n",
              "      <th>Price</th>\n",
              "      <th>RegistrationYear</th>\n",
              "      <th>Power</th>\n",
              "      <th>Kilometer</th>\n",
              "      <th>Brand</th>\n",
              "    </tr>\n",
              "  </thead>\n",
              "  <tbody>\n",
              "    <tr>\n",
              "      <th>count</th>\n",
              "      <td>354365.000000</td>\n",
              "      <td>354365.000000</td>\n",
              "      <td>354365.000000</td>\n",
              "      <td>354365.000000</td>\n",
              "      <td>354365.000000</td>\n",
              "    </tr>\n",
              "    <tr>\n",
              "      <th>mean</th>\n",
              "      <td>4416.679830</td>\n",
              "      <td>2004.234481</td>\n",
              "      <td>110.093816</td>\n",
              "      <td>128211.363989</td>\n",
              "      <td>4416.683633</td>\n",
              "    </tr>\n",
              "    <tr>\n",
              "      <th>std</th>\n",
              "      <td>4514.176349</td>\n",
              "      <td>90.228466</td>\n",
              "      <td>189.851330</td>\n",
              "      <td>37905.083858</td>\n",
              "      <td>1455.788133</td>\n",
              "    </tr>\n",
              "    <tr>\n",
              "      <th>min</th>\n",
              "      <td>0.000000</td>\n",
              "      <td>1000.000000</td>\n",
              "      <td>0.000000</td>\n",
              "      <td>5000.000000</td>\n",
              "      <td>1024.071234</td>\n",
              "    </tr>\n",
              "    <tr>\n",
              "      <th>25%</th>\n",
              "      <td>1050.000000</td>\n",
              "      <td>1999.000000</td>\n",
              "      <td>69.000000</td>\n",
              "      <td>125000.000000</td>\n",
              "      <td>3175.769129</td>\n",
              "    </tr>\n",
              "    <tr>\n",
              "      <th>50%</th>\n",
              "      <td>2700.000000</td>\n",
              "      <td>2003.000000</td>\n",
              "      <td>105.000000</td>\n",
              "      <td>150000.000000</td>\n",
              "      <td>4381.308463</td>\n",
              "    </tr>\n",
              "    <tr>\n",
              "      <th>75%</th>\n",
              "      <td>6400.000000</td>\n",
              "      <td>2008.000000</td>\n",
              "      <td>143.000000</td>\n",
              "      <td>150000.000000</td>\n",
              "      <td>5910.627108</td>\n",
              "    </tr>\n",
              "    <tr>\n",
              "      <th>max</th>\n",
              "      <td>20000.000000</td>\n",
              "      <td>9999.000000</td>\n",
              "      <td>20000.000000</td>\n",
              "      <td>150000.000000</td>\n",
              "      <td>10986.003531</td>\n",
              "    </tr>\n",
              "  </tbody>\n",
              "</table>\n",
              "</div>\n",
              "    <div class=\"colab-df-buttons\">\n",
              "\n",
              "  <div class=\"colab-df-container\">\n",
              "    <button class=\"colab-df-convert\" onclick=\"convertToInteractive('df-9bbaedb3-9caa-4aca-b056-8b79844bf789')\"\n",
              "            title=\"Convert this dataframe to an interactive table.\"\n",
              "            style=\"display:none;\">\n",
              "\n",
              "  <svg xmlns=\"http://www.w3.org/2000/svg\" height=\"24px\" viewBox=\"0 -960 960 960\">\n",
              "    <path d=\"M120-120v-720h720v720H120Zm60-500h600v-160H180v160Zm220 220h160v-160H400v160Zm0 220h160v-160H400v160ZM180-400h160v-160H180v160Zm440 0h160v-160H620v160ZM180-180h160v-160H180v160Zm440 0h160v-160H620v160Z\"/>\n",
              "  </svg>\n",
              "    </button>\n",
              "\n",
              "  <style>\n",
              "    .colab-df-container {\n",
              "      display:flex;\n",
              "      gap: 12px;\n",
              "    }\n",
              "\n",
              "    .colab-df-convert {\n",
              "      background-color: #E8F0FE;\n",
              "      border: none;\n",
              "      border-radius: 50%;\n",
              "      cursor: pointer;\n",
              "      display: none;\n",
              "      fill: #1967D2;\n",
              "      height: 32px;\n",
              "      padding: 0 0 0 0;\n",
              "      width: 32px;\n",
              "    }\n",
              "\n",
              "    .colab-df-convert:hover {\n",
              "      background-color: #E2EBFA;\n",
              "      box-shadow: 0px 1px 2px rgba(60, 64, 67, 0.3), 0px 1px 3px 1px rgba(60, 64, 67, 0.15);\n",
              "      fill: #174EA6;\n",
              "    }\n",
              "\n",
              "    .colab-df-buttons div {\n",
              "      margin-bottom: 4px;\n",
              "    }\n",
              "\n",
              "    [theme=dark] .colab-df-convert {\n",
              "      background-color: #3B4455;\n",
              "      fill: #D2E3FC;\n",
              "    }\n",
              "\n",
              "    [theme=dark] .colab-df-convert:hover {\n",
              "      background-color: #434B5C;\n",
              "      box-shadow: 0px 1px 3px 1px rgba(0, 0, 0, 0.15);\n",
              "      filter: drop-shadow(0px 1px 2px rgba(0, 0, 0, 0.3));\n",
              "      fill: #FFFFFF;\n",
              "    }\n",
              "  </style>\n",
              "\n",
              "    <script>\n",
              "      const buttonEl =\n",
              "        document.querySelector('#df-9bbaedb3-9caa-4aca-b056-8b79844bf789 button.colab-df-convert');\n",
              "      buttonEl.style.display =\n",
              "        google.colab.kernel.accessAllowed ? 'block' : 'none';\n",
              "\n",
              "      async function convertToInteractive(key) {\n",
              "        const element = document.querySelector('#df-9bbaedb3-9caa-4aca-b056-8b79844bf789');\n",
              "        const dataTable =\n",
              "          await google.colab.kernel.invokeFunction('convertToInteractive',\n",
              "                                                    [key], {});\n",
              "        if (!dataTable) return;\n",
              "\n",
              "        const docLinkHtml = 'Like what you see? Visit the ' +\n",
              "          '<a target=\"_blank\" href=https://colab.research.google.com/notebooks/data_table.ipynb>data table notebook</a>'\n",
              "          + ' to learn more about interactive tables.';\n",
              "        element.innerHTML = '';\n",
              "        dataTable['output_type'] = 'display_data';\n",
              "        await google.colab.output.renderOutput(dataTable, element);\n",
              "        const docLink = document.createElement('div');\n",
              "        docLink.innerHTML = docLinkHtml;\n",
              "        element.appendChild(docLink);\n",
              "      }\n",
              "    </script>\n",
              "  </div>\n",
              "\n",
              "\n",
              "<div id=\"df-be8316b9-0278-4bff-8956-e268dff6e460\">\n",
              "  <button class=\"colab-df-quickchart\" onclick=\"quickchart('df-be8316b9-0278-4bff-8956-e268dff6e460')\"\n",
              "            title=\"Suggest charts.\"\n",
              "            style=\"display:none;\">\n",
              "\n",
              "<svg xmlns=\"http://www.w3.org/2000/svg\" height=\"24px\"viewBox=\"0 0 24 24\"\n",
              "     width=\"24px\">\n",
              "    <g>\n",
              "        <path d=\"M19 3H5c-1.1 0-2 .9-2 2v14c0 1.1.9 2 2 2h14c1.1 0 2-.9 2-2V5c0-1.1-.9-2-2-2zM9 17H7v-7h2v7zm4 0h-2V7h2v10zm4 0h-2v-4h2v4z\"/>\n",
              "    </g>\n",
              "</svg>\n",
              "  </button>\n",
              "\n",
              "<style>\n",
              "  .colab-df-quickchart {\n",
              "      --bg-color: #E8F0FE;\n",
              "      --fill-color: #1967D2;\n",
              "      --hover-bg-color: #E2EBFA;\n",
              "      --hover-fill-color: #174EA6;\n",
              "      --disabled-fill-color: #AAA;\n",
              "      --disabled-bg-color: #DDD;\n",
              "  }\n",
              "\n",
              "  [theme=dark] .colab-df-quickchart {\n",
              "      --bg-color: #3B4455;\n",
              "      --fill-color: #D2E3FC;\n",
              "      --hover-bg-color: #434B5C;\n",
              "      --hover-fill-color: #FFFFFF;\n",
              "      --disabled-bg-color: #3B4455;\n",
              "      --disabled-fill-color: #666;\n",
              "  }\n",
              "\n",
              "  .colab-df-quickchart {\n",
              "    background-color: var(--bg-color);\n",
              "    border: none;\n",
              "    border-radius: 50%;\n",
              "    cursor: pointer;\n",
              "    display: none;\n",
              "    fill: var(--fill-color);\n",
              "    height: 32px;\n",
              "    padding: 0;\n",
              "    width: 32px;\n",
              "  }\n",
              "\n",
              "  .colab-df-quickchart:hover {\n",
              "    background-color: var(--hover-bg-color);\n",
              "    box-shadow: 0 1px 2px rgba(60, 64, 67, 0.3), 0 1px 3px 1px rgba(60, 64, 67, 0.15);\n",
              "    fill: var(--button-hover-fill-color);\n",
              "  }\n",
              "\n",
              "  .colab-df-quickchart-complete:disabled,\n",
              "  .colab-df-quickchart-complete:disabled:hover {\n",
              "    background-color: var(--disabled-bg-color);\n",
              "    fill: var(--disabled-fill-color);\n",
              "    box-shadow: none;\n",
              "  }\n",
              "\n",
              "  .colab-df-spinner {\n",
              "    border: 2px solid var(--fill-color);\n",
              "    border-color: transparent;\n",
              "    border-bottom-color: var(--fill-color);\n",
              "    animation:\n",
              "      spin 1s steps(1) infinite;\n",
              "  }\n",
              "\n",
              "  @keyframes spin {\n",
              "    0% {\n",
              "      border-color: transparent;\n",
              "      border-bottom-color: var(--fill-color);\n",
              "      border-left-color: var(--fill-color);\n",
              "    }\n",
              "    20% {\n",
              "      border-color: transparent;\n",
              "      border-left-color: var(--fill-color);\n",
              "      border-top-color: var(--fill-color);\n",
              "    }\n",
              "    30% {\n",
              "      border-color: transparent;\n",
              "      border-left-color: var(--fill-color);\n",
              "      border-top-color: var(--fill-color);\n",
              "      border-right-color: var(--fill-color);\n",
              "    }\n",
              "    40% {\n",
              "      border-color: transparent;\n",
              "      border-right-color: var(--fill-color);\n",
              "      border-top-color: var(--fill-color);\n",
              "    }\n",
              "    60% {\n",
              "      border-color: transparent;\n",
              "      border-right-color: var(--fill-color);\n",
              "    }\n",
              "    80% {\n",
              "      border-color: transparent;\n",
              "      border-right-color: var(--fill-color);\n",
              "      border-bottom-color: var(--fill-color);\n",
              "    }\n",
              "    90% {\n",
              "      border-color: transparent;\n",
              "      border-bottom-color: var(--fill-color);\n",
              "    }\n",
              "  }\n",
              "</style>\n",
              "\n",
              "  <script>\n",
              "    async function quickchart(key) {\n",
              "      const quickchartButtonEl =\n",
              "        document.querySelector('#' + key + ' button');\n",
              "      quickchartButtonEl.disabled = true;  // To prevent multiple clicks.\n",
              "      quickchartButtonEl.classList.add('colab-df-spinner');\n",
              "      try {\n",
              "        const charts = await google.colab.kernel.invokeFunction(\n",
              "            'suggestCharts', [key], {});\n",
              "      } catch (error) {\n",
              "        console.error('Error during call to suggestCharts:', error);\n",
              "      }\n",
              "      quickchartButtonEl.classList.remove('colab-df-spinner');\n",
              "      quickchartButtonEl.classList.add('colab-df-quickchart-complete');\n",
              "    }\n",
              "    (() => {\n",
              "      let quickchartButtonEl =\n",
              "        document.querySelector('#df-be8316b9-0278-4bff-8956-e268dff6e460 button');\n",
              "      quickchartButtonEl.style.display =\n",
              "        google.colab.kernel.accessAllowed ? 'block' : 'none';\n",
              "    })();\n",
              "  </script>\n",
              "</div>\n",
              "    </div>\n",
              "  </div>\n"
            ]
          },
          "metadata": {},
          "execution_count": 25
        }
      ]
    },
    {
      "cell_type": "code",
      "source": [
        "df_coded.head()"
      ],
      "metadata": {
        "colab": {
          "base_uri": "https://localhost:8080/",
          "height": 206
        },
        "id": "j8yi3MAyT1Rx",
        "outputId": "878ccca1-f24a-4f31-e434-37f13196d407"
      },
      "execution_count": null,
      "outputs": [
        {
          "output_type": "execute_result",
          "data": {
            "text/plain": [
              "   Price  VehicleType  RegistrationYear      Gearbox  Power        Model  \\\n",
              "0    480            0              1993  3980.777632      0  4154.315831   \n",
              "1  18300  6011.127749              2011  3980.777632    190            0   \n",
              "2   9800  9008.823679              2004  6842.136831    163  6379.894448   \n",
              "3   1500  2677.694238              2001  3980.777632     75  4154.315831   \n",
              "4   3600  2677.694238              2008  3980.777632     69  4184.033484   \n",
              "\n",
              "   Kilometer     FuelType        Brand     Repaired  \n",
              "0     150000  3750.044856  4381.308463            0  \n",
              "1     125000   6579.78463  6239.914610   1916.03125  \n",
              "2     125000   6579.78463  7061.189793            0  \n",
              "3     150000  3750.044856  4381.308463  5296.852454  \n",
              "4      90000   6579.78463  5909.335335  5296.852454  "
            ],
            "text/html": [
              "\n",
              "  <div id=\"df-4e4e0bad-6a06-4bb7-aab8-41998d959fe8\" class=\"colab-df-container\">\n",
              "    <div>\n",
              "<style scoped>\n",
              "    .dataframe tbody tr th:only-of-type {\n",
              "        vertical-align: middle;\n",
              "    }\n",
              "\n",
              "    .dataframe tbody tr th {\n",
              "        vertical-align: top;\n",
              "    }\n",
              "\n",
              "    .dataframe thead th {\n",
              "        text-align: right;\n",
              "    }\n",
              "</style>\n",
              "<table border=\"1\" class=\"dataframe\">\n",
              "  <thead>\n",
              "    <tr style=\"text-align: right;\">\n",
              "      <th></th>\n",
              "      <th>Price</th>\n",
              "      <th>VehicleType</th>\n",
              "      <th>RegistrationYear</th>\n",
              "      <th>Gearbox</th>\n",
              "      <th>Power</th>\n",
              "      <th>Model</th>\n",
              "      <th>Kilometer</th>\n",
              "      <th>FuelType</th>\n",
              "      <th>Brand</th>\n",
              "      <th>Repaired</th>\n",
              "    </tr>\n",
              "  </thead>\n",
              "  <tbody>\n",
              "    <tr>\n",
              "      <th>0</th>\n",
              "      <td>480</td>\n",
              "      <td>0</td>\n",
              "      <td>1993</td>\n",
              "      <td>3980.777632</td>\n",
              "      <td>0</td>\n",
              "      <td>4154.315831</td>\n",
              "      <td>150000</td>\n",
              "      <td>3750.044856</td>\n",
              "      <td>4381.308463</td>\n",
              "      <td>0</td>\n",
              "    </tr>\n",
              "    <tr>\n",
              "      <th>1</th>\n",
              "      <td>18300</td>\n",
              "      <td>6011.127749</td>\n",
              "      <td>2011</td>\n",
              "      <td>3980.777632</td>\n",
              "      <td>190</td>\n",
              "      <td>0</td>\n",
              "      <td>125000</td>\n",
              "      <td>6579.78463</td>\n",
              "      <td>6239.914610</td>\n",
              "      <td>1916.03125</td>\n",
              "    </tr>\n",
              "    <tr>\n",
              "      <th>2</th>\n",
              "      <td>9800</td>\n",
              "      <td>9008.823679</td>\n",
              "      <td>2004</td>\n",
              "      <td>6842.136831</td>\n",
              "      <td>163</td>\n",
              "      <td>6379.894448</td>\n",
              "      <td>125000</td>\n",
              "      <td>6579.78463</td>\n",
              "      <td>7061.189793</td>\n",
              "      <td>0</td>\n",
              "    </tr>\n",
              "    <tr>\n",
              "      <th>3</th>\n",
              "      <td>1500</td>\n",
              "      <td>2677.694238</td>\n",
              "      <td>2001</td>\n",
              "      <td>3980.777632</td>\n",
              "      <td>75</td>\n",
              "      <td>4154.315831</td>\n",
              "      <td>150000</td>\n",
              "      <td>3750.044856</td>\n",
              "      <td>4381.308463</td>\n",
              "      <td>5296.852454</td>\n",
              "    </tr>\n",
              "    <tr>\n",
              "      <th>4</th>\n",
              "      <td>3600</td>\n",
              "      <td>2677.694238</td>\n",
              "      <td>2008</td>\n",
              "      <td>3980.777632</td>\n",
              "      <td>69</td>\n",
              "      <td>4184.033484</td>\n",
              "      <td>90000</td>\n",
              "      <td>6579.78463</td>\n",
              "      <td>5909.335335</td>\n",
              "      <td>5296.852454</td>\n",
              "    </tr>\n",
              "  </tbody>\n",
              "</table>\n",
              "</div>\n",
              "    <div class=\"colab-df-buttons\">\n",
              "\n",
              "  <div class=\"colab-df-container\">\n",
              "    <button class=\"colab-df-convert\" onclick=\"convertToInteractive('df-4e4e0bad-6a06-4bb7-aab8-41998d959fe8')\"\n",
              "            title=\"Convert this dataframe to an interactive table.\"\n",
              "            style=\"display:none;\">\n",
              "\n",
              "  <svg xmlns=\"http://www.w3.org/2000/svg\" height=\"24px\" viewBox=\"0 -960 960 960\">\n",
              "    <path d=\"M120-120v-720h720v720H120Zm60-500h600v-160H180v160Zm220 220h160v-160H400v160Zm0 220h160v-160H400v160ZM180-400h160v-160H180v160Zm440 0h160v-160H620v160ZM180-180h160v-160H180v160Zm440 0h160v-160H620v160Z\"/>\n",
              "  </svg>\n",
              "    </button>\n",
              "\n",
              "  <style>\n",
              "    .colab-df-container {\n",
              "      display:flex;\n",
              "      gap: 12px;\n",
              "    }\n",
              "\n",
              "    .colab-df-convert {\n",
              "      background-color: #E8F0FE;\n",
              "      border: none;\n",
              "      border-radius: 50%;\n",
              "      cursor: pointer;\n",
              "      display: none;\n",
              "      fill: #1967D2;\n",
              "      height: 32px;\n",
              "      padding: 0 0 0 0;\n",
              "      width: 32px;\n",
              "    }\n",
              "\n",
              "    .colab-df-convert:hover {\n",
              "      background-color: #E2EBFA;\n",
              "      box-shadow: 0px 1px 2px rgba(60, 64, 67, 0.3), 0px 1px 3px 1px rgba(60, 64, 67, 0.15);\n",
              "      fill: #174EA6;\n",
              "    }\n",
              "\n",
              "    .colab-df-buttons div {\n",
              "      margin-bottom: 4px;\n",
              "    }\n",
              "\n",
              "    [theme=dark] .colab-df-convert {\n",
              "      background-color: #3B4455;\n",
              "      fill: #D2E3FC;\n",
              "    }\n",
              "\n",
              "    [theme=dark] .colab-df-convert:hover {\n",
              "      background-color: #434B5C;\n",
              "      box-shadow: 0px 1px 3px 1px rgba(0, 0, 0, 0.15);\n",
              "      filter: drop-shadow(0px 1px 2px rgba(0, 0, 0, 0.3));\n",
              "      fill: #FFFFFF;\n",
              "    }\n",
              "  </style>\n",
              "\n",
              "    <script>\n",
              "      const buttonEl =\n",
              "        document.querySelector('#df-4e4e0bad-6a06-4bb7-aab8-41998d959fe8 button.colab-df-convert');\n",
              "      buttonEl.style.display =\n",
              "        google.colab.kernel.accessAllowed ? 'block' : 'none';\n",
              "\n",
              "      async function convertToInteractive(key) {\n",
              "        const element = document.querySelector('#df-4e4e0bad-6a06-4bb7-aab8-41998d959fe8');\n",
              "        const dataTable =\n",
              "          await google.colab.kernel.invokeFunction('convertToInteractive',\n",
              "                                                    [key], {});\n",
              "        if (!dataTable) return;\n",
              "\n",
              "        const docLinkHtml = 'Like what you see? Visit the ' +\n",
              "          '<a target=\"_blank\" href=https://colab.research.google.com/notebooks/data_table.ipynb>data table notebook</a>'\n",
              "          + ' to learn more about interactive tables.';\n",
              "        element.innerHTML = '';\n",
              "        dataTable['output_type'] = 'display_data';\n",
              "        await google.colab.output.renderOutput(dataTable, element);\n",
              "        const docLink = document.createElement('div');\n",
              "        docLink.innerHTML = docLinkHtml;\n",
              "        element.appendChild(docLink);\n",
              "      }\n",
              "    </script>\n",
              "  </div>\n",
              "\n",
              "\n",
              "<div id=\"df-1efd2d5d-e333-4a57-bf5f-6ff4e97757e3\">\n",
              "  <button class=\"colab-df-quickchart\" onclick=\"quickchart('df-1efd2d5d-e333-4a57-bf5f-6ff4e97757e3')\"\n",
              "            title=\"Suggest charts.\"\n",
              "            style=\"display:none;\">\n",
              "\n",
              "<svg xmlns=\"http://www.w3.org/2000/svg\" height=\"24px\"viewBox=\"0 0 24 24\"\n",
              "     width=\"24px\">\n",
              "    <g>\n",
              "        <path d=\"M19 3H5c-1.1 0-2 .9-2 2v14c0 1.1.9 2 2 2h14c1.1 0 2-.9 2-2V5c0-1.1-.9-2-2-2zM9 17H7v-7h2v7zm4 0h-2V7h2v10zm4 0h-2v-4h2v4z\"/>\n",
              "    </g>\n",
              "</svg>\n",
              "  </button>\n",
              "\n",
              "<style>\n",
              "  .colab-df-quickchart {\n",
              "      --bg-color: #E8F0FE;\n",
              "      --fill-color: #1967D2;\n",
              "      --hover-bg-color: #E2EBFA;\n",
              "      --hover-fill-color: #174EA6;\n",
              "      --disabled-fill-color: #AAA;\n",
              "      --disabled-bg-color: #DDD;\n",
              "  }\n",
              "\n",
              "  [theme=dark] .colab-df-quickchart {\n",
              "      --bg-color: #3B4455;\n",
              "      --fill-color: #D2E3FC;\n",
              "      --hover-bg-color: #434B5C;\n",
              "      --hover-fill-color: #FFFFFF;\n",
              "      --disabled-bg-color: #3B4455;\n",
              "      --disabled-fill-color: #666;\n",
              "  }\n",
              "\n",
              "  .colab-df-quickchart {\n",
              "    background-color: var(--bg-color);\n",
              "    border: none;\n",
              "    border-radius: 50%;\n",
              "    cursor: pointer;\n",
              "    display: none;\n",
              "    fill: var(--fill-color);\n",
              "    height: 32px;\n",
              "    padding: 0;\n",
              "    width: 32px;\n",
              "  }\n",
              "\n",
              "  .colab-df-quickchart:hover {\n",
              "    background-color: var(--hover-bg-color);\n",
              "    box-shadow: 0 1px 2px rgba(60, 64, 67, 0.3), 0 1px 3px 1px rgba(60, 64, 67, 0.15);\n",
              "    fill: var(--button-hover-fill-color);\n",
              "  }\n",
              "\n",
              "  .colab-df-quickchart-complete:disabled,\n",
              "  .colab-df-quickchart-complete:disabled:hover {\n",
              "    background-color: var(--disabled-bg-color);\n",
              "    fill: var(--disabled-fill-color);\n",
              "    box-shadow: none;\n",
              "  }\n",
              "\n",
              "  .colab-df-spinner {\n",
              "    border: 2px solid var(--fill-color);\n",
              "    border-color: transparent;\n",
              "    border-bottom-color: var(--fill-color);\n",
              "    animation:\n",
              "      spin 1s steps(1) infinite;\n",
              "  }\n",
              "\n",
              "  @keyframes spin {\n",
              "    0% {\n",
              "      border-color: transparent;\n",
              "      border-bottom-color: var(--fill-color);\n",
              "      border-left-color: var(--fill-color);\n",
              "    }\n",
              "    20% {\n",
              "      border-color: transparent;\n",
              "      border-left-color: var(--fill-color);\n",
              "      border-top-color: var(--fill-color);\n",
              "    }\n",
              "    30% {\n",
              "      border-color: transparent;\n",
              "      border-left-color: var(--fill-color);\n",
              "      border-top-color: var(--fill-color);\n",
              "      border-right-color: var(--fill-color);\n",
              "    }\n",
              "    40% {\n",
              "      border-color: transparent;\n",
              "      border-right-color: var(--fill-color);\n",
              "      border-top-color: var(--fill-color);\n",
              "    }\n",
              "    60% {\n",
              "      border-color: transparent;\n",
              "      border-right-color: var(--fill-color);\n",
              "    }\n",
              "    80% {\n",
              "      border-color: transparent;\n",
              "      border-right-color: var(--fill-color);\n",
              "      border-bottom-color: var(--fill-color);\n",
              "    }\n",
              "    90% {\n",
              "      border-color: transparent;\n",
              "      border-bottom-color: var(--fill-color);\n",
              "    }\n",
              "  }\n",
              "</style>\n",
              "\n",
              "  <script>\n",
              "    async function quickchart(key) {\n",
              "      const quickchartButtonEl =\n",
              "        document.querySelector('#' + key + ' button');\n",
              "      quickchartButtonEl.disabled = true;  // To prevent multiple clicks.\n",
              "      quickchartButtonEl.classList.add('colab-df-spinner');\n",
              "      try {\n",
              "        const charts = await google.colab.kernel.invokeFunction(\n",
              "            'suggestCharts', [key], {});\n",
              "      } catch (error) {\n",
              "        console.error('Error during call to suggestCharts:', error);\n",
              "      }\n",
              "      quickchartButtonEl.classList.remove('colab-df-spinner');\n",
              "      quickchartButtonEl.classList.add('colab-df-quickchart-complete');\n",
              "    }\n",
              "    (() => {\n",
              "      let quickchartButtonEl =\n",
              "        document.querySelector('#df-1efd2d5d-e333-4a57-bf5f-6ff4e97757e3 button');\n",
              "      quickchartButtonEl.style.display =\n",
              "        google.colab.kernel.accessAllowed ? 'block' : 'none';\n",
              "    })();\n",
              "  </script>\n",
              "</div>\n",
              "    </div>\n",
              "  </div>\n"
            ]
          },
          "metadata": {},
          "execution_count": 26
        }
      ]
    },
    {
      "cell_type": "code",
      "execution_count": null,
      "metadata": {
        "id": "hzZWBlkS_l_m",
        "colab": {
          "base_uri": "https://localhost:8080/"
        },
        "outputId": "2f4eb932-2172-4874-86d2-3f43d6d4c689"
      },
      "outputs": [
        {
          "output_type": "execute_result",
          "data": {
            "text/plain": [
              "Price               0\n",
              "VehicleType         0\n",
              "RegistrationYear    0\n",
              "Gearbox             0\n",
              "Power               0\n",
              "Model               0\n",
              "Kilometer           0\n",
              "FuelType            0\n",
              "Brand               0\n",
              "Repaired            0\n",
              "dtype: int64"
            ]
          },
          "metadata": {},
          "execution_count": 28
        }
      ],
      "source": [
        "df_coded.isna().sum()"
      ]
    },
    {
      "cell_type": "code",
      "execution_count": null,
      "metadata": {
        "id": "KOVYu3f-_l_n",
        "colab": {
          "base_uri": "https://localhost:8080/",
          "height": 870
        },
        "outputId": "01eedd33-3e75-4c5c-bb20-053f421a1676"
      },
      "outputs": [
        {
          "output_type": "execute_result",
          "data": {
            "text/plain": [
              "<function matplotlib.pyplot.show(close=None, block=None)>"
            ]
          },
          "metadata": {},
          "execution_count": 172
        },
        {
          "output_type": "display_data",
          "data": {
            "text/plain": [
              "<Figure size 1000x1000 with 12 Axes>"
            ],
            "image/png": "[encoded data removed]"
          },
          "metadata": {}
        }
      ],
      "source": [
        "df_coded.hist(figsize=(10,10))\n",
        "plt.show"
      ]
    },
    {
      "cell_type": "code",
      "execution_count": null,
      "metadata": {
        "scrolled": true,
        "id": "LqlWgAfc_l_n",
        "colab": {
          "base_uri": "https://localhost:8080/",
          "height": 447
        },
        "outputId": "227c74e7-7743-4e6f-eabb-fb99cb8e2f3f"
      },
      "outputs": [
        {
          "output_type": "execute_result",
          "data": {
            "text/plain": [
              "<Axes: >"
            ]
          },
          "metadata": {},
          "execution_count": 29
        },
        {
          "output_type": "display_data",
          "data": {
            "text/plain": [
              "<Figure size 640x480 with 1 Axes>"
            ],
            "image/png": "[encoded data removed]"
          },
          "metadata": {}
        }
      ],
      "source": [
        "df_coded['Price'].hist(bins=40)"
      ]
    },
    {
      "cell_type": "code",
      "execution_count": null,
      "metadata": {
        "id": "UtY627AU_l_n",
        "colab": {
          "base_uri": "https://localhost:8080/",
          "height": 447
        },
        "outputId": "60547dd4-e1a9-4c95-afdd-1de9cb2692d6"
      },
      "outputs": [
        {
          "output_type": "execute_result",
          "data": {
            "text/plain": [
              "<function matplotlib.pyplot.show(close=None, block=None)>"
            ]
          },
          "metadata": {},
          "execution_count": 30
        },
        {
          "output_type": "display_data",
          "data": {
            "text/plain": [
              "<Figure size 640x480 with 1 Axes>"
            ],
            "image/png": "[encoded data removed]"
          },
          "metadata": {}
        }
      ],
      "source": [
        "plt.hist(df_coded['Price'], range=(0,1500), bins=40)\n",
        "plt.show"
      ]
    },
    {
      "cell_type": "code",
      "execution_count": null,
      "metadata": {
        "scrolled": true,
        "id": "txUdJGXf_l_o",
        "colab": {
          "base_uri": "https://localhost:8080/",
          "height": 206
        },
        "outputId": "7f79c054-d77e-4973-b052-9796d2a14eae"
      },
      "outputs": [
        {
          "output_type": "execute_result",
          "data": {
            "text/plain": [
              "        Price  VehicleType  RegistrationYear      Gearbox  Power  \\\n",
              "124564      1            0              2013            0      0   \n",
              "261761      0            0              2017  3980.777632    193   \n",
              "248497      0  4880.383308              1997  3980.777632    165   \n",
              "183482      1  2677.694238              1995  3980.777632     90   \n",
              "79536       0  4722.657151              2004            0      0   \n",
              "\n",
              "               Model  Kilometer     FuelType        Brand     Repaired  \n",
              "124564  11429.414367      50000  3750.044856  4084.771485            0  \n",
              "261761   5785.723329     150000  3750.044856  6239.914610  5296.852454  \n",
              "248497   5785.723329     150000  3750.044856  6239.914610  5296.852454  \n",
              "183482    1892.37409     150000  3750.044856  2730.809769  5296.852454  \n",
              "79536    4154.315831     150000            0  4381.308463            0  "
            ],
            "text/html": [
              "\n",
              "  <div id=\"df-c7c413a2-ee2a-4df4-971b-e496955d4dd4\" class=\"colab-df-container\">\n",
              "    <div>\n",
              "<style scoped>\n",
              "    .dataframe tbody tr th:only-of-type {\n",
              "        vertical-align: middle;\n",
              "    }\n",
              "\n",
              "    .dataframe tbody tr th {\n",
              "        vertical-align: top;\n",
              "    }\n",
              "\n",
              "    .dataframe thead th {\n",
              "        text-align: right;\n",
              "    }\n",
              "</style>\n",
              "<table border=\"1\" class=\"dataframe\">\n",
              "  <thead>\n",
              "    <tr style=\"text-align: right;\">\n",
              "      <th></th>\n",
              "      <th>Price</th>\n",
              "      <th>VehicleType</th>\n",
              "      <th>RegistrationYear</th>\n",
              "      <th>Gearbox</th>\n",
              "      <th>Power</th>\n",
              "      <th>Model</th>\n",
              "      <th>Kilometer</th>\n",
              "      <th>FuelType</th>\n",
              "      <th>Brand</th>\n",
              "      <th>Repaired</th>\n",
              "    </tr>\n",
              "  </thead>\n",
              "  <tbody>\n",
              "    <tr>\n",
              "      <th>124564</th>\n",
              "      <td>1</td>\n",
              "      <td>0</td>\n",
              "      <td>2013</td>\n",
              "      <td>0</td>\n",
              "      <td>0</td>\n",
              "      <td>11429.414367</td>\n",
              "      <td>50000</td>\n",
              "      <td>3750.044856</td>\n",
              "      <td>4084.771485</td>\n",
              "      <td>0</td>\n",
              "    </tr>\n",
              "    <tr>\n",
              "      <th>261761</th>\n",
              "      <td>0</td>\n",
              "      <td>0</td>\n",
              "      <td>2017</td>\n",
              "      <td>3980.777632</td>\n",
              "      <td>193</td>\n",
              "      <td>5785.723329</td>\n",
              "      <td>150000</td>\n",
              "      <td>3750.044856</td>\n",
              "      <td>6239.914610</td>\n",
              "      <td>5296.852454</td>\n",
              "    </tr>\n",
              "    <tr>\n",
              "      <th>248497</th>\n",
              "      <td>0</td>\n",
              "      <td>4880.383308</td>\n",
              "      <td>1997</td>\n",
              "      <td>3980.777632</td>\n",
              "      <td>165</td>\n",
              "      <td>5785.723329</td>\n",
              "      <td>150000</td>\n",
              "      <td>3750.044856</td>\n",
              "      <td>6239.914610</td>\n",
              "      <td>5296.852454</td>\n",
              "    </tr>\n",
              "    <tr>\n",
              "      <th>183482</th>\n",
              "      <td>1</td>\n",
              "      <td>2677.694238</td>\n",
              "      <td>1995</td>\n",
              "      <td>3980.777632</td>\n",
              "      <td>90</td>\n",
              "      <td>1892.37409</td>\n",
              "      <td>150000</td>\n",
              "      <td>3750.044856</td>\n",
              "      <td>2730.809769</td>\n",
              "      <td>5296.852454</td>\n",
              "    </tr>\n",
              "    <tr>\n",
              "      <th>79536</th>\n",
              "      <td>0</td>\n",
              "      <td>4722.657151</td>\n",
              "      <td>2004</td>\n",
              "      <td>0</td>\n",
              "      <td>0</td>\n",
              "      <td>4154.315831</td>\n",
              "      <td>150000</td>\n",
              "      <td>0</td>\n",
              "      <td>4381.308463</td>\n",
              "      <td>0</td>\n",
              "    </tr>\n",
              "  </tbody>\n",
              "</table>\n",
              "</div>\n",
              "    <div class=\"colab-df-buttons\">\n",
              "\n",
              "  <div class=\"colab-df-container\">\n",
              "    <button class=\"colab-df-convert\" onclick=\"convertToInteractive('df-c7c413a2-ee2a-4df4-971b-e496955d4dd4')\"\n",
              "            title=\"Convert this dataframe to an interactive table.\"\n",
              "            style=\"display:none;\">\n",
              "\n",
              "  <svg xmlns=\"http://www.w3.org/2000/svg\" height=\"24px\" viewBox=\"0 -960 960 960\">\n",
              "    <path d=\"M120-120v-720h720v720H120Zm60-500h600v-160H180v160Zm220 220h160v-160H400v160Zm0 220h160v-160H400v160ZM180-400h160v-160H180v160Zm440 0h160v-160H620v160ZM180-180h160v-160H180v160Zm440 0h160v-160H620v160Z\"/>\n",
              "  </svg>\n",
              "    </button>\n",
              "\n",
              "  <style>\n",
              "    .colab-df-container {\n",
              "      display:flex;\n",
              "      gap: 12px;\n",
              "    }\n",
              "\n",
              "    .colab-df-convert {\n",
              "      background-color: #E8F0FE;\n",
              "      border: none;\n",
              "      border-radius: 50%;\n",
              "      cursor: pointer;\n",
              "      display: none;\n",
              "      fill: #1967D2;\n",
              "      height: 32px;\n",
              "      padding: 0 0 0 0;\n",
              "      width: 32px;\n",
              "    }\n",
              "\n",
              "    .colab-df-convert:hover {\n",
              "      background-color: #E2EBFA;\n",
              "      box-shadow: 0px 1px 2px rgba(60, 64, 67, 0.3), 0px 1px 3px 1px rgba(60, 64, 67, 0.15);\n",
              "      fill: #174EA6;\n",
              "    }\n",
              "\n",
              "    .colab-df-buttons div {\n",
              "      margin-bottom: 4px;\n",
              "    }\n",
              "\n",
              "    [theme=dark] .colab-df-convert {\n",
              "      background-color: #3B4455;\n",
              "      fill: #D2E3FC;\n",
              "    }\n",
              "\n",
              "    [theme=dark] .colab-df-convert:hover {\n",
              "      background-color: #434B5C;\n",
              "      box-shadow: 0px 1px 3px 1px rgba(0, 0, 0, 0.15);\n",
              "      filter: drop-shadow(0px 1px 2px rgba(0, 0, 0, 0.3));\n",
              "      fill: #FFFFFF;\n",
              "    }\n",
              "  </style>\n",
              "\n",
              "    <script>\n",
              "      const buttonEl =\n",
              "        document.querySelector('#df-c7c413a2-ee2a-4df4-971b-e496955d4dd4 button.colab-df-convert');\n",
              "      buttonEl.style.display =\n",
              "        google.colab.kernel.accessAllowed ? 'block' : 'none';\n",
              "\n",
              "      async function convertToInteractive(key) {\n",
              "        const element = document.querySelector('#df-c7c413a2-ee2a-4df4-971b-e496955d4dd4');\n",
              "        const dataTable =\n",
              "          await google.colab.kernel.invokeFunction('convertToInteractive',\n",
              "                                                    [key], {});\n",
              "        if (!dataTable) return;\n",
              "\n",
              "        const docLinkHtml = 'Like what you see? Visit the ' +\n",
              "          '<a target=\"_blank\" href=https://colab.research.google.com/notebooks/data_table.ipynb>data table notebook</a>'\n",
              "          + ' to learn more about interactive tables.';\n",
              "        element.innerHTML = '';\n",
              "        dataTable['output_type'] = 'display_data';\n",
              "        await google.colab.output.renderOutput(dataTable, element);\n",
              "        const docLink = document.createElement('div');\n",
              "        docLink.innerHTML = docLinkHtml;\n",
              "        element.appendChild(docLink);\n",
              "      }\n",
              "    </script>\n",
              "  </div>\n",
              "\n",
              "\n",
              "<div id=\"df-b71a06eb-26ca-43a3-828d-1f449e997a0f\">\n",
              "  <button class=\"colab-df-quickchart\" onclick=\"quickchart('df-b71a06eb-26ca-43a3-828d-1f449e997a0f')\"\n",
              "            title=\"Suggest charts.\"\n",
              "            style=\"display:none;\">\n",
              "\n",
              "<svg xmlns=\"http://www.w3.org/2000/svg\" height=\"24px\"viewBox=\"0 0 24 24\"\n",
              "     width=\"24px\">\n",
              "    <g>\n",
              "        <path d=\"M19 3H5c-1.1 0-2 .9-2 2v14c0 1.1.9 2 2 2h14c1.1 0 2-.9 2-2V5c0-1.1-.9-2-2-2zM9 17H7v-7h2v7zm4 0h-2V7h2v10zm4 0h-2v-4h2v4z\"/>\n",
              "    </g>\n",
              "</svg>\n",
              "  </button>\n",
              "\n",
              "<style>\n",
              "  .colab-df-quickchart {\n",
              "      --bg-color: #E8F0FE;\n",
              "      --fill-color: #1967D2;\n",
              "      --hover-bg-color: #E2EBFA;\n",
              "      --hover-fill-color: #174EA6;\n",
              "      --disabled-fill-color: #AAA;\n",
              "      --disabled-bg-color: #DDD;\n",
              "  }\n",
              "\n",
              "  [theme=dark] .colab-df-quickchart {\n",
              "      --bg-color: #3B4455;\n",
              "      --fill-color: #D2E3FC;\n",
              "      --hover-bg-color: #434B5C;\n",
              "      --hover-fill-color: #FFFFFF;\n",
              "      --disabled-bg-color: #3B4455;\n",
              "      --disabled-fill-color: #666;\n",
              "  }\n",
              "\n",
              "  .colab-df-quickchart {\n",
              "    background-color: var(--bg-color);\n",
              "    border: none;\n",
              "    border-radius: 50%;\n",
              "    cursor: pointer;\n",
              "    display: none;\n",
              "    fill: var(--fill-color);\n",
              "    height: 32px;\n",
              "    padding: 0;\n",
              "    width: 32px;\n",
              "  }\n",
              "\n",
              "  .colab-df-quickchart:hover {\n",
              "    background-color: var(--hover-bg-color);\n",
              "    box-shadow: 0 1px 2px rgba(60, 64, 67, 0.3), 0 1px 3px 1px rgba(60, 64, 67, 0.15);\n",
              "    fill: var(--button-hover-fill-color);\n",
              "  }\n",
              "\n",
              "  .colab-df-quickchart-complete:disabled,\n",
              "  .colab-df-quickchart-complete:disabled:hover {\n",
              "    background-color: var(--disabled-bg-color);\n",
              "    fill: var(--disabled-fill-color);\n",
              "    box-shadow: none;\n",
              "  }\n",
              "\n",
              "  .colab-df-spinner {\n",
              "    border: 2px solid var(--fill-color);\n",
              "    border-color: transparent;\n",
              "    border-bottom-color: var(--fill-color);\n",
              "    animation:\n",
              "      spin 1s steps(1) infinite;\n",
              "  }\n",
              "\n",
              "  @keyframes spin {\n",
              "    0% {\n",
              "      border-color: transparent;\n",
              "      border-bottom-color: var(--fill-color);\n",
              "      border-left-color: var(--fill-color);\n",
              "    }\n",
              "    20% {\n",
              "      border-color: transparent;\n",
              "      border-left-color: var(--fill-color);\n",
              "      border-top-color: var(--fill-color);\n",
              "    }\n",
              "    30% {\n",
              "      border-color: transparent;\n",
              "      border-left-color: var(--fill-color);\n",
              "      border-top-color: var(--fill-color);\n",
              "      border-right-color: var(--fill-color);\n",
              "    }\n",
              "    40% {\n",
              "      border-color: transparent;\n",
              "      border-right-color: var(--fill-color);\n",
              "      border-top-color: var(--fill-color);\n",
              "    }\n",
              "    60% {\n",
              "      border-color: transparent;\n",
              "      border-right-color: var(--fill-color);\n",
              "    }\n",
              "    80% {\n",
              "      border-color: transparent;\n",
              "      border-right-color: var(--fill-color);\n",
              "      border-bottom-color: var(--fill-color);\n",
              "    }\n",
              "    90% {\n",
              "      border-color: transparent;\n",
              "      border-bottom-color: var(--fill-color);\n",
              "    }\n",
              "  }\n",
              "</style>\n",
              "\n",
              "  <script>\n",
              "    async function quickchart(key) {\n",
              "      const quickchartButtonEl =\n",
              "        document.querySelector('#' + key + ' button');\n",
              "      quickchartButtonEl.disabled = true;  // To prevent multiple clicks.\n",
              "      quickchartButtonEl.classList.add('colab-df-spinner');\n",
              "      try {\n",
              "        const charts = await google.colab.kernel.invokeFunction(\n",
              "            'suggestCharts', [key], {});\n",
              "      } catch (error) {\n",
              "        console.error('Error during call to suggestCharts:', error);\n",
              "      }\n",
              "      quickchartButtonEl.classList.remove('colab-df-spinner');\n",
              "      quickchartButtonEl.classList.add('colab-df-quickchart-complete');\n",
              "    }\n",
              "    (() => {\n",
              "      let quickchartButtonEl =\n",
              "        document.querySelector('#df-b71a06eb-26ca-43a3-828d-1f449e997a0f button');\n",
              "      quickchartButtonEl.style.display =\n",
              "        google.colab.kernel.accessAllowed ? 'block' : 'none';\n",
              "    })();\n",
              "  </script>\n",
              "</div>\n",
              "    </div>\n",
              "  </div>\n"
            ]
          },
          "metadata": {},
          "execution_count": 31
        }
      ],
      "source": [
        "df_coded[df_coded['Price']<100].sample(5)"
      ]
    },
    {
      "cell_type": "code",
      "execution_count": null,
      "metadata": {
        "id": "K92z0lwB_l_w"
      },
      "outputs": [],
      "source": [
        "df_coded = df_coded[df_coded['Price']>99]"
      ]
    },
    {
      "cell_type": "code",
      "execution_count": null,
      "metadata": {
        "scrolled": true,
        "id": "GovMSa_t_l_y",
        "colab": {
          "base_uri": "https://localhost:8080/",
          "height": 206
        },
        "outputId": "2d3c79f0-ac3d-4cd8-96c1-a7b10748838f"
      },
      "outputs": [
        {
          "output_type": "execute_result",
          "data": {
            "text/plain": [
              "        Price VehicleType  RegistrationYear      Gearbox  Power        Model  \\\n",
              "134856  11111           0              7000            0      0  2525.965767   \n",
              "306578    350           0              9999            0      0  6005.421399   \n",
              "18259     300           0              2200            0      0  1383.230052   \n",
              "316079    500           0              5555            0      0  2152.585757   \n",
              "53678    7999           0              5911  6842.136831     75  4154.315831   \n",
              "\n",
              "        Kilometer FuelType        Brand Repaired  \n",
              "134856      10000        0  4381.308463        0  \n",
              "306578      10000        0  4381.308463        0  \n",
              "18259        5000        0  2269.746970        0  \n",
              "316079      10000        0  2269.746970        0  \n",
              "53678       10000        0  4381.308463        0  "
            ],
            "text/html": [
              "\n",
              "  <div id=\"df-a1a61f92-9376-4a33-8b47-bdf19b39c216\" class=\"colab-df-container\">\n",
              "    <div>\n",
              "<style scoped>\n",
              "    .dataframe tbody tr th:only-of-type {\n",
              "        vertical-align: middle;\n",
              "    }\n",
              "\n",
              "    .dataframe tbody tr th {\n",
              "        vertical-align: top;\n",
              "    }\n",
              "\n",
              "    .dataframe thead th {\n",
              "        text-align: right;\n",
              "    }\n",
              "</style>\n",
              "<table border=\"1\" class=\"dataframe\">\n",
              "  <thead>\n",
              "    <tr style=\"text-align: right;\">\n",
              "      <th></th>\n",
              "      <th>Price</th>\n",
              "      <th>VehicleType</th>\n",
              "      <th>RegistrationYear</th>\n",
              "      <th>Gearbox</th>\n",
              "      <th>Power</th>\n",
              "      <th>Model</th>\n",
              "      <th>Kilometer</th>\n",
              "      <th>FuelType</th>\n",
              "      <th>Brand</th>\n",
              "      <th>Repaired</th>\n",
              "    </tr>\n",
              "  </thead>\n",
              "  <tbody>\n",
              "    <tr>\n",
              "      <th>134856</th>\n",
              "      <td>11111</td>\n",
              "      <td>0</td>\n",
              "      <td>7000</td>\n",
              "      <td>0</td>\n",
              "      <td>0</td>\n",
              "      <td>2525.965767</td>\n",
              "      <td>10000</td>\n",
              "      <td>0</td>\n",
              "      <td>4381.308463</td>\n",
              "      <td>0</td>\n",
              "    </tr>\n",
              "    <tr>\n",
              "      <th>306578</th>\n",
              "      <td>350</td>\n",
              "      <td>0</td>\n",
              "      <td>9999</td>\n",
              "      <td>0</td>\n",
              "      <td>0</td>\n",
              "      <td>6005.421399</td>\n",
              "      <td>10000</td>\n",
              "      <td>0</td>\n",
              "      <td>4381.308463</td>\n",
              "      <td>0</td>\n",
              "    </tr>\n",
              "    <tr>\n",
              "      <th>18259</th>\n",
              "      <td>300</td>\n",
              "      <td>0</td>\n",
              "      <td>2200</td>\n",
              "      <td>0</td>\n",
              "      <td>0</td>\n",
              "      <td>1383.230052</td>\n",
              "      <td>5000</td>\n",
              "      <td>0</td>\n",
              "      <td>2269.746970</td>\n",
              "      <td>0</td>\n",
              "    </tr>\n",
              "    <tr>\n",
              "      <th>316079</th>\n",
              "      <td>500</td>\n",
              "      <td>0</td>\n",
              "      <td>5555</td>\n",
              "      <td>0</td>\n",
              "      <td>0</td>\n",
              "      <td>2152.585757</td>\n",
              "      <td>10000</td>\n",
              "      <td>0</td>\n",
              "      <td>2269.746970</td>\n",
              "      <td>0</td>\n",
              "    </tr>\n",
              "    <tr>\n",
              "      <th>53678</th>\n",
              "      <td>7999</td>\n",
              "      <td>0</td>\n",
              "      <td>5911</td>\n",
              "      <td>6842.136831</td>\n",
              "      <td>75</td>\n",
              "      <td>4154.315831</td>\n",
              "      <td>10000</td>\n",
              "      <td>0</td>\n",
              "      <td>4381.308463</td>\n",
              "      <td>0</td>\n",
              "    </tr>\n",
              "  </tbody>\n",
              "</table>\n",
              "</div>\n",
              "    <div class=\"colab-df-buttons\">\n",
              "\n",
              "  <div class=\"colab-df-container\">\n",
              "    <button class=\"colab-df-convert\" onclick=\"convertToInteractive('df-a1a61f92-9376-4a33-8b47-bdf19b39c216')\"\n",
              "            title=\"Convert this dataframe to an interactive table.\"\n",
              "            style=\"display:none;\">\n",
              "\n",
              "  <svg xmlns=\"http://www.w3.org/2000/svg\" height=\"24px\" viewBox=\"0 -960 960 960\">\n",
              "    <path d=\"M120-120v-720h720v720H120Zm60-500h600v-160H180v160Zm220 220h160v-160H400v160Zm0 220h160v-160H400v160ZM180-400h160v-160H180v160Zm440 0h160v-160H620v160ZM180-180h160v-160H180v160Zm440 0h160v-160H620v160Z\"/>\n",
              "  </svg>\n",
              "    </button>\n",
              "\n",
              "  <style>\n",
              "    .colab-df-container {\n",
              "      display:flex;\n",
              "      gap: 12px;\n",
              "    }\n",
              "\n",
              "    .colab-df-convert {\n",
              "      background-color: #E8F0FE;\n",
              "      border: none;\n",
              "      border-radius: 50%;\n",
              "      cursor: pointer;\n",
              "      display: none;\n",
              "      fill: #1967D2;\n",
              "      height: 32px;\n",
              "      padding: 0 0 0 0;\n",
              "      width: 32px;\n",
              "    }\n",
              "\n",
              "    .colab-df-convert:hover {\n",
              "      background-color: #E2EBFA;\n",
              "      box-shadow: 0px 1px 2px rgba(60, 64, 67, 0.3), 0px 1px 3px 1px rgba(60, 64, 67, 0.15);\n",
              "      fill: #174EA6;\n",
              "    }\n",
              "\n",
              "    .colab-df-buttons div {\n",
              "      margin-bottom: 4px;\n",
              "    }\n",
              "\n",
              "    [theme=dark] .colab-df-convert {\n",
              "      background-color: #3B4455;\n",
              "      fill: #D2E3FC;\n",
              "    }\n",
              "\n",
              "    [theme=dark] .colab-df-convert:hover {\n",
              "      background-color: #434B5C;\n",
              "      box-shadow: 0px 1px 3px 1px rgba(0, 0, 0, 0.15);\n",
              "      filter: drop-shadow(0px 1px 2px rgba(0, 0, 0, 0.3));\n",
              "      fill: #FFFFFF;\n",
              "    }\n",
              "  </style>\n",
              "\n",
              "    <script>\n",
              "      const buttonEl =\n",
              "        document.querySelector('#df-a1a61f92-9376-4a33-8b47-bdf19b39c216 button.colab-df-convert');\n",
              "      buttonEl.style.display =\n",
              "        google.colab.kernel.accessAllowed ? 'block' : 'none';\n",
              "\n",
              "      async function convertToInteractive(key) {\n",
              "        const element = document.querySelector('#df-a1a61f92-9376-4a33-8b47-bdf19b39c216');\n",
              "        const dataTable =\n",
              "          await google.colab.kernel.invokeFunction('convertToInteractive',\n",
              "                                                    [key], {});\n",
              "        if (!dataTable) return;\n",
              "\n",
              "        const docLinkHtml = 'Like what you see? Visit the ' +\n",
              "          '<a target=\"_blank\" href=https://colab.research.google.com/notebooks/data_table.ipynb>data table notebook</a>'\n",
              "          + ' to learn more about interactive tables.';\n",
              "        element.innerHTML = '';\n",
              "        dataTable['output_type'] = 'display_data';\n",
              "        await google.colab.output.renderOutput(dataTable, element);\n",
              "        const docLink = document.createElement('div');\n",
              "        docLink.innerHTML = docLinkHtml;\n",
              "        element.appendChild(docLink);\n",
              "      }\n",
              "    </script>\n",
              "  </div>\n",
              "\n",
              "\n",
              "<div id=\"df-0fb7dc7f-47c8-4edf-8d0c-cba89f684293\">\n",
              "  <button class=\"colab-df-quickchart\" onclick=\"quickchart('df-0fb7dc7f-47c8-4edf-8d0c-cba89f684293')\"\n",
              "            title=\"Suggest charts.\"\n",
              "            style=\"display:none;\">\n",
              "\n",
              "<svg xmlns=\"http://www.w3.org/2000/svg\" height=\"24px\"viewBox=\"0 0 24 24\"\n",
              "     width=\"24px\">\n",
              "    <g>\n",
              "        <path d=\"M19 3H5c-1.1 0-2 .9-2 2v14c0 1.1.9 2 2 2h14c1.1 0 2-.9 2-2V5c0-1.1-.9-2-2-2zM9 17H7v-7h2v7zm4 0h-2V7h2v10zm4 0h-2v-4h2v4z\"/>\n",
              "    </g>\n",
              "</svg>\n",
              "  </button>\n",
              "\n",
              "<style>\n",
              "  .colab-df-quickchart {\n",
              "      --bg-color: #E8F0FE;\n",
              "      --fill-color: #1967D2;\n",
              "      --hover-bg-color: #E2EBFA;\n",
              "      --hover-fill-color: #174EA6;\n",
              "      --disabled-fill-color: #AAA;\n",
              "      --disabled-bg-color: #DDD;\n",
              "  }\n",
              "\n",
              "  [theme=dark] .colab-df-quickchart {\n",
              "      --bg-color: #3B4455;\n",
              "      --fill-color: #D2E3FC;\n",
              "      --hover-bg-color: #434B5C;\n",
              "      --hover-fill-color: #FFFFFF;\n",
              "      --disabled-bg-color: #3B4455;\n",
              "      --disabled-fill-color: #666;\n",
              "  }\n",
              "\n",
              "  .colab-df-quickchart {\n",
              "    background-color: var(--bg-color);\n",
              "    border: none;\n",
              "    border-radius: 50%;\n",
              "    cursor: pointer;\n",
              "    display: none;\n",
              "    fill: var(--fill-color);\n",
              "    height: 32px;\n",
              "    padding: 0;\n",
              "    width: 32px;\n",
              "  }\n",
              "\n",
              "  .colab-df-quickchart:hover {\n",
              "    background-color: var(--hover-bg-color);\n",
              "    box-shadow: 0 1px 2px rgba(60, 64, 67, 0.3), 0 1px 3px 1px rgba(60, 64, 67, 0.15);\n",
              "    fill: var(--button-hover-fill-color);\n",
              "  }\n",
              "\n",
              "  .colab-df-quickchart-complete:disabled,\n",
              "  .colab-df-quickchart-complete:disabled:hover {\n",
              "    background-color: var(--disabled-bg-color);\n",
              "    fill: var(--disabled-fill-color);\n",
              "    box-shadow: none;\n",
              "  }\n",
              "\n",
              "  .colab-df-spinner {\n",
              "    border: 2px solid var(--fill-color);\n",
              "    border-color: transparent;\n",
              "    border-bottom-color: var(--fill-color);\n",
              "    animation:\n",
              "      spin 1s steps(1) infinite;\n",
              "  }\n",
              "\n",
              "  @keyframes spin {\n",
              "    0% {\n",
              "      border-color: transparent;\n",
              "      border-bottom-color: var(--fill-color);\n",
              "      border-left-color: var(--fill-color);\n",
              "    }\n",
              "    20% {\n",
              "      border-color: transparent;\n",
              "      border-left-color: var(--fill-color);\n",
              "      border-top-color: var(--fill-color);\n",
              "    }\n",
              "    30% {\n",
              "      border-color: transparent;\n",
              "      border-left-color: var(--fill-color);\n",
              "      border-top-color: var(--fill-color);\n",
              "      border-right-color: var(--fill-color);\n",
              "    }\n",
              "    40% {\n",
              "      border-color: transparent;\n",
              "      border-right-color: var(--fill-color);\n",
              "      border-top-color: var(--fill-color);\n",
              "    }\n",
              "    60% {\n",
              "      border-color: transparent;\n",
              "      border-right-color: var(--fill-color);\n",
              "    }\n",
              "    80% {\n",
              "      border-color: transparent;\n",
              "      border-right-color: var(--fill-color);\n",
              "      border-bottom-color: var(--fill-color);\n",
              "    }\n",
              "    90% {\n",
              "      border-color: transparent;\n",
              "      border-bottom-color: var(--fill-color);\n",
              "    }\n",
              "  }\n",
              "</style>\n",
              "\n",
              "  <script>\n",
              "    async function quickchart(key) {\n",
              "      const quickchartButtonEl =\n",
              "        document.querySelector('#' + key + ' button');\n",
              "      quickchartButtonEl.disabled = true;  // To prevent multiple clicks.\n",
              "      quickchartButtonEl.classList.add('colab-df-spinner');\n",
              "      try {\n",
              "        const charts = await google.colab.kernel.invokeFunction(\n",
              "            'suggestCharts', [key], {});\n",
              "      } catch (error) {\n",
              "        console.error('Error during call to suggestCharts:', error);\n",
              "      }\n",
              "      quickchartButtonEl.classList.remove('colab-df-spinner');\n",
              "      quickchartButtonEl.classList.add('colab-df-quickchart-complete');\n",
              "    }\n",
              "    (() => {\n",
              "      let quickchartButtonEl =\n",
              "        document.querySelector('#df-0fb7dc7f-47c8-4edf-8d0c-cba89f684293 button');\n",
              "      quickchartButtonEl.style.display =\n",
              "        google.colab.kernel.accessAllowed ? 'block' : 'none';\n",
              "    })();\n",
              "  </script>\n",
              "</div>\n",
              "    </div>\n",
              "  </div>\n"
            ]
          },
          "metadata": {},
          "execution_count": 33
        }
      ],
      "source": [
        "df_coded[df_coded['RegistrationYear'] > 2020].sample(5)"
      ]
    },
    {
      "cell_type": "code",
      "execution_count": null,
      "metadata": {
        "id": "w0X8d5WY_l_y"
      },
      "outputs": [],
      "source": [
        "df_coded = df_coded.loc[(df_coded['RegistrationYear']>1900)&(df_coded['RegistrationYear']<2017)]"
      ]
    },
    {
      "cell_type": "code",
      "execution_count": null,
      "metadata": {
        "id": "9GxhcOG-_l_y",
        "colab": {
          "base_uri": "https://localhost:8080/",
          "height": 447
        },
        "outputId": "3a6665f4-8536-4329-89e6-5717b68181dd"
      },
      "outputs": [
        {
          "output_type": "execute_result",
          "data": {
            "text/plain": [
              "<function matplotlib.pyplot.show(close=None, block=None)>"
            ]
          },
          "metadata": {},
          "execution_count": 35
        },
        {
          "output_type": "display_data",
          "data": {
            "text/plain": [
              "<Figure size 640x480 with 1 Axes>"
            ],
            "image/png": "[encoded data removed]"
          },
          "metadata": {}
        }
      ],
      "source": [
        "plt.hist(df_coded['Power'], bins=40, range=(200, 2000))\n",
        "plt.show"
      ]
    },
    {
      "cell_type": "code",
      "execution_count": null,
      "metadata": {
        "id": "Wl6WvwTr_l_y"
      },
      "outputs": [],
      "source": [
        "df_coded = df_coded[(df_coded['Power']<351)&(df_coded['Power']>10)]"
      ]
    },
    {
      "cell_type": "code",
      "execution_count": null,
      "metadata": {
        "id": "6yj2wTDO_l_0",
        "colab": {
          "base_uri": "https://localhost:8080/"
        },
        "outputId": "cd90add4-7263-49d6-b8e9-62c43288a4ae"
      },
      "outputs": [
        {
          "output_type": "stream",
          "name": "stdout",
          "text": [
            "<class 'pandas.core.frame.DataFrame'>\n",
            "Int64Index: 294403 entries, 1 to 354368\n",
            "Data columns (total 10 columns):\n",
            " #   Column            Non-Null Count   Dtype  \n",
            "---  ------            --------------   -----  \n",
            " 0   Price             294403 non-null  int64  \n",
            " 1   VehicleType       294403 non-null  object \n",
            " 2   RegistrationYear  294403 non-null  int64  \n",
            " 3   Gearbox           294403 non-null  object \n",
            " 4   Power             294403 non-null  int64  \n",
            " 5   Model             294403 non-null  object \n",
            " 6   Kilometer         294403 non-null  int64  \n",
            " 7   FuelType          294403 non-null  object \n",
            " 8   Brand             294403 non-null  float64\n",
            " 9   Repaired          294403 non-null  object \n",
            "dtypes: float64(1), int64(4), object(5)\n",
            "memory usage: 24.7+ MB\n"
          ]
        }
      ],
      "source": [
        "df_coded.info()"
      ]
    },
    {
      "cell_type": "code",
      "execution_count": null,
      "metadata": {
        "id": "C6jotNSN_l_0",
        "colab": {
          "base_uri": "https://localhost:8080/"
        },
        "outputId": "a3dacc58-77f7-4ec1-d5ad-153a5d23bd8b"
      },
      "outputs": [
        {
          "output_type": "execute_result",
          "data": {
            "text/plain": [
              "0.16921909083469489"
            ]
          },
          "metadata": {},
          "execution_count": 38
        }
      ],
      "source": [
        "df_orig = pd.read_csv('/content/autos.csv')\n",
        "\n",
        "1 - len(df_coded)/len(df_orig)"
      ]
    },
    {
      "cell_type": "code",
      "execution_count": null,
      "metadata": {
        "id": "FnGrJo3i_l_1",
        "colab": {
          "base_uri": "https://localhost:8080/",
          "height": 552
        },
        "outputId": "67ead6be-90d7-45cc-bca3-6af6a26c63d3"
      },
      "outputs": [
        {
          "output_type": "execute_result",
          "data": {
            "text/plain": [
              "<Axes: >"
            ]
          },
          "metadata": {},
          "execution_count": 40
        },
        {
          "output_type": "display_data",
          "data": {
            "text/plain": [
              "<Figure size 640x480 with 2 Axes>"
            ],
            "image/png": "[encoded data removed]"
          },
          "metadata": {}
        }
      ],
      "source": [
        "sns.heatmap(df_coded.phik_matrix(interval_cols=['Price', 'RegistrationYear', 'Power', 'Kilometer']))"
      ]
    },
    {
      "cell_type": "markdown",
      "source": [
        "Видим что столбец `Модель` коррелирует - сразу с тремя столбцами: `Бренд`, `Тип двигателя` и `Мощность`.  \n",
        "Возможно от столбца Модель вообще можно отказаться"
      ],
      "metadata": {
        "id": "zhm5Ulxt8WME"
      }
    },
    {
      "cell_type": "markdown",
      "metadata": {
        "id": "LwvpdnR6_l_2"
      },
      "source": [
        "**Итоги предобработки**  \n",
        "Мы проверили данные на дубликаты, подозрительные выбросы, а также заполнили пропуски подходящими значениями с помощью KNN Imputer и посмотрели корреляцию"
      ]
    },
    {
      "cell_type": "markdown",
      "metadata": {
        "id": "xYbuyyqu_l_2"
      },
      "source": [
        "## Обучение моделей"
      ]
    },
    {
      "cell_type": "code",
      "execution_count": null,
      "metadata": {
        "id": "-oXAK0d0_l_3"
      },
      "outputs": [],
      "source": [
        "features = df_coded.drop('Price', axis=1)\n",
        "target = df_coded['Price']"
      ]
    },
    {
      "cell_type": "code",
      "execution_count": null,
      "metadata": {
        "id": "adTRZAwO_l_3"
      },
      "outputs": [],
      "source": [
        "features_train, features_test, target_train, target_test = train_test_split(features, target, test_size=0.4,\n",
        "                                                                           random_state=seed)\n",
        "features_valid, features_test, target_valid, target_test = train_test_split(features_test, target_test, test_size=0.5,\n",
        "                                                                           random_state=seed)"
      ]
    },
    {
      "cell_type": "code",
      "execution_count": null,
      "metadata": {
        "scrolled": true,
        "id": "eHz1zREQ_l_3",
        "colab": {
          "base_uri": "https://localhost:8080/"
        },
        "outputId": "98201d86-9217-4a5c-a121-3d501ba013f3"
      },
      "outputs": [
        {
          "output_type": "execute_result",
          "data": {
            "text/plain": [
              "((176641, 9), (176641,), (58881, 9), (58881,), (58881, 9), (58881,))"
            ]
          },
          "metadata": {},
          "execution_count": 115
        }
      ],
      "source": [
        "features_train.shape, target_train.shape, features_valid.shape, target_valid.shape, features_test.shape, target_test.shape"
      ]
    },
    {
      "cell_type": "code",
      "execution_count": null,
      "metadata": {
        "id": "SqSoPcnV_l_7"
      },
      "outputs": [],
      "source": [
        "scaler = StandardScaler()\n",
        "scaler.fit(features_train)\n",
        "\n",
        "features_train = scaler.transform(features_train)\n",
        "features_valid = scaler.transform(features_valid)\n",
        "features_test = scaler.transform(features_test)"
      ]
    },
    {
      "cell_type": "markdown",
      "source": [
        "Linear Regression"
      ],
      "metadata": {
        "id": "utju3JchT3TA"
      }
    },
    {
      "cell_type": "code",
      "execution_count": null,
      "metadata": {
        "id": "b0Ht_ZX4_l_9",
        "colab": {
          "base_uri": "https://localhost:8080/"
        },
        "outputId": "f4f02a4d-2c77-4901-db2f-47b27d73b2e8"
      },
      "outputs": [
        {
          "output_type": "stream",
          "name": "stdout",
          "text": [
            "Модель: LinearRegression(), rmse: 2790.7991227205293, time :0.11708545684814453\n"
          ]
        }
      ],
      "source": [
        "start_time = time.time()\n",
        "lr = LinearRegression()\n",
        "lr.fit(features_train, target_train)\n",
        "lr_rmse = mse(target_valid, lr.predict(features_valid), squared=False)\n",
        "lr_time = time.time() - start_time\n",
        "print(f'Модель: {lr}, rmse: {lr_rmse}, time :{lr_time}')"
      ]
    },
    {
      "cell_type": "markdown",
      "source": [
        "DecisionTreeRegressor"
      ],
      "metadata": {
        "id": "0ajX7zOvT75b"
      }
    },
    {
      "cell_type": "code",
      "execution_count": null,
      "metadata": {
        "scrolled": false,
        "id": "zyVSl9Xm_l_-",
        "colab": {
          "base_uri": "https://localhost:8080/"
        },
        "outputId": "981d8f78-b3bc-4a5e-eb2f-bb8b694266b1"
      },
      "outputs": [
        {
          "output_type": "stream",
          "name": "stderr",
          "text": [
            " 14%|█▍        | 1/7 [00:00<00:02,  2.97it/s]"
          ]
        },
        {
          "output_type": "stream",
          "name": "stdout",
          "text": [
            "max_depth = 6 : 2244.648629103646\n",
            "0.33615875244140625\n"
          ]
        },
        {
          "output_type": "stream",
          "name": "stderr",
          "text": [
            "\r 29%|██▊       | 2/7 [00:00<00:02,  2.32it/s]"
          ]
        },
        {
          "output_type": "stream",
          "name": "stdout",
          "text": [
            "max_depth = 9 : 1995.005395901193\n",
            "0.4949347972869873\n"
          ]
        },
        {
          "output_type": "stream",
          "name": "stderr",
          "text": [
            "\r 43%|████▎     | 3/7 [00:01<00:02,  1.95it/s]"
          ]
        },
        {
          "output_type": "stream",
          "name": "stdout",
          "text": [
            "max_depth = 12 : 1878.9075234777422\n",
            "0.6098434925079346\n"
          ]
        },
        {
          "output_type": "stream",
          "name": "stderr",
          "text": [
            "\r 57%|█████▋    | 4/7 [00:02<00:01,  1.69it/s]"
          ]
        },
        {
          "output_type": "stream",
          "name": "stdout",
          "text": [
            "max_depth = 15 : 1867.1286560200908\n",
            "0.7077772617340088\n"
          ]
        },
        {
          "output_type": "stream",
          "name": "stderr",
          "text": [
            "\r 71%|███████▏  | 5/7 [00:02<00:01,  1.50it/s]"
          ]
        },
        {
          "output_type": "stream",
          "name": "stdout",
          "text": [
            "max_depth = 18 : 1920.9319841937358\n",
            "0.7996118068695068\n"
          ]
        },
        {
          "output_type": "stream",
          "name": "stderr",
          "text": [
            "\r 86%|████████▌ | 6/7 [00:03<00:00,  1.36it/s]"
          ]
        },
        {
          "output_type": "stream",
          "name": "stdout",
          "text": [
            "max_depth = 21 : 1955.4017930611808\n",
            "0.8629701137542725\n"
          ]
        },
        {
          "output_type": "stream",
          "name": "stderr",
          "text": [
            "100%|██████████| 7/7 [00:04<00:00,  1.47it/s]"
          ]
        },
        {
          "output_type": "stream",
          "name": "stdout",
          "text": [
            "max_depth = 24 : 1975.7348827809394\n",
            "0.9387967586517334\n"
          ]
        },
        {
          "output_type": "stream",
          "name": "stderr",
          "text": [
            "\n"
          ]
        }
      ],
      "source": [
        "dt = None\n",
        "dt_rmse = 2500\n",
        "\n",
        "for depth in tqdm(range (6,25,3)):\n",
        "    start_time=time.time()\n",
        "    model = DecisionTreeRegressor(random_state=seed, max_depth=depth)\n",
        "    model.fit(features_train, target_train)\n",
        "    predictions = model.predict(features_valid)\n",
        "    result = mse(target_valid, predictions, squared=False)\n",
        "    print(\"max_depth =\", depth, \":\", result)\n",
        "    print(time.time()-start_time)\n",
        "    if result < dt_rmse:\n",
        "        dt_rmse = result\n",
        "        dt = model\n",
        "        dt_time = time.time() - start_time\n"
      ]
    },
    {
      "cell_type": "code",
      "execution_count": null,
      "metadata": {
        "id": "PJkvWmNL_l__",
        "colab": {
          "base_uri": "https://localhost:8080/"
        },
        "outputId": "b075de9e-6020-4a0d-ba33-f32e9ce8c928"
      },
      "outputs": [
        {
          "output_type": "stream",
          "name": "stdout",
          "text": [
            "Модель: DecisionTreeRegressor(max_depth=15), rmse: 1867.1286560200908, time :0.7078068256378174\n"
          ]
        }
      ],
      "source": [
        "print(f'Модель: {dt}, rmse: {dt_rmse}, time :{dt_time}')"
      ]
    },
    {
      "cell_type": "markdown",
      "source": [
        "RandomForestRegressor\n",
        "\n"
      ],
      "metadata": {
        "id": "NXA029FdT_V4"
      }
    },
    {
      "cell_type": "code",
      "source": [
        "grid_rf = {\n",
        "    'max_depth' : list(range(16,22,1)),\n",
        "    'n_estimators' : list(range(200, 501, 100))\n",
        "}"
      ],
      "metadata": {
        "id": "SJiyQNPQcOGo"
      },
      "execution_count": null,
      "outputs": []
    },
    {
      "cell_type": "code",
      "source": [
        "rf = RandomForestRegressor(random_state=seed)\n",
        "gs_rf = GridSearchCV(\n",
        "    rf,\n",
        "    grid_rf,\n",
        "    scoring='neg_root_mean_squared_error',\n",
        "    n_jobs=-1,\n",
        "    cv = 3\n",
        ")\n",
        "gs_rf.fit(features_train, target_train)\n",
        "\n",
        "print(\"tuned hyperparameters :(best parameters) \", gs_rf.best_params_)\n",
        "print(\"f1 :\", gs_rf.best_score_)"
      ],
      "metadata": {
        "colab": {
          "base_uri": "https://localhost:8080/"
        },
        "id": "LnDmeQgUctVH",
        "outputId": "87dce440-5b72-4f59-b32b-367bcb2dcc75"
      },
      "execution_count": null,
      "outputs": [
        {
          "output_type": "stream",
          "name": "stderr",
          "text": [
            "/usr/local/lib/python3.10/dist-packages/joblib/externals/loky/process_executor.py:752: UserWarning: A worker stopped while some jobs were given to the executor. This can be caused by a too short worker timeout or by a memory leak.\n",
            "  warnings.warn(\n"
          ]
        },
        {
          "output_type": "stream",
          "name": "stdout",
          "text": [
            "tuned hyperparameters :(best parameters)  {'max_depth': 18, 'n_estimators': 400}\n",
            "f1 : -1576.831961574142\n"
          ]
        }
      ]
    },
    {
      "cell_type": "markdown",
      "source": [
        "LGBMRegressor"
      ],
      "metadata": {
        "id": "9B3_PLEPUCVf"
      }
    },
    {
      "cell_type": "code",
      "source": [
        "grid_lgbm = {\n",
        "    'learning_rate' : list(np.arange(0.1,1.1,0.1)),\n",
        "    'max_depth' : list(range(5, 22, 4))\n",
        "}"
      ],
      "metadata": {
        "id": "yW1RL4IQdoE9"
      },
      "execution_count": null,
      "outputs": []
    },
    {
      "cell_type": "code",
      "source": [
        "%%time\n",
        "lgbm = LGBMRegressor(random_state=seed)\n",
        "\n",
        "gs_lgbm = GridSearchCV(\n",
        "    lgbm,\n",
        "    grid_lgbm,\n",
        "    scoring='neg_root_mean_squared_error',\n",
        "    n_jobs=-1,\n",
        "    cv = 3\n",
        ")\n",
        "\n",
        "gs_lgbm.fit(features_train, target_train)\n",
        "\n",
        "print(\"tuned hyperparameters :(best parameters) \", gs_lgbm.best_params_)\n",
        "print(\"f1 :\", gs_lgbm.best_score_)"
      ],
      "metadata": {
        "colab": {
          "base_uri": "https://localhost:8080/"
        },
        "id": "fHilHRDmdn_s",
        "outputId": "6e187fa4-8196-4774-c683-090ee325bd95"
      },
      "execution_count": null,
      "outputs": [
        {
          "output_type": "stream",
          "name": "stdout",
          "text": [
            "[LightGBM] [Warning] Accuracy may be bad since you didn't explicitly set num_leaves OR 2^max_depth > num_leaves. (num_leaves=31).\n",
            "[LightGBM] [Warning] Accuracy may be bad since you didn't explicitly set num_leaves OR 2^max_depth > num_leaves. (num_leaves=31).\n",
            "[LightGBM] [Warning] Auto-choosing row-wise multi-threading, the overhead of testing was 0.017630 seconds.\n",
            "You can set `force_row_wise=true` to remove the overhead.\n",
            "And if memory is not enough, you can set `force_col_wise=true`.\n",
            "[LightGBM] [Info] Total Bins 626\n",
            "[LightGBM] [Info] Number of data points in the train set: 176641, number of used features: 9\n",
            "[LightGBM] [Info] Start training from score 4849.951416\n",
            "tuned hyperparameters :(best parameters)  {'learning_rate': 0.30000000000000004, 'max_depth': 13}\n",
            "f1 : -1586.2686277566465\n",
            "CPU times: user 2.69 s, sys: 242 ms, total: 2.93 s\n",
            "Wall time: 1min 7s\n"
          ]
        }
      ]
    },
    {
      "cell_type": "markdown",
      "source": [
        "CatBoostRegressor"
      ],
      "metadata": {
        "id": "QyZ9OmlbUFNi"
      }
    },
    {
      "cell_type": "code",
      "source": [
        "features_train = pd.DataFrame(features_train, columns = features.columns)\n",
        "features_train[cat] = features_train[cat].astype(str)"
      ],
      "metadata": {
        "id": "b5vSGz5WrBDZ"
      },
      "execution_count": null,
      "outputs": []
    },
    {
      "cell_type": "code",
      "source": [
        "features_train.info()"
      ],
      "metadata": {
        "colab": {
          "base_uri": "https://localhost:8080/"
        },
        "id": "GfAzqd7Yu-oi",
        "outputId": "e02dff60-d74b-4066-d0eb-d1fac85a24cf"
      },
      "execution_count": null,
      "outputs": [
        {
          "output_type": "stream",
          "name": "stdout",
          "text": [
            "<class 'pandas.core.frame.DataFrame'>\n",
            "RangeIndex: 176641 entries, 0 to 176640\n",
            "Data columns (total 9 columns):\n",
            " #   Column            Non-Null Count   Dtype  \n",
            "---  ------            --------------   -----  \n",
            " 0   VehicleType       176641 non-null  object \n",
            " 1   RegistrationYear  176641 non-null  float64\n",
            " 2   Gearbox           176641 non-null  object \n",
            " 3   Power             176641 non-null  float64\n",
            " 4   Model             176641 non-null  object \n",
            " 5   Kilometer         176641 non-null  float64\n",
            " 6   FuelType          176641 non-null  object \n",
            " 7   Brand             176641 non-null  object \n",
            " 8   Repaired          176641 non-null  object \n",
            "dtypes: float64(3), object(6)\n",
            "memory usage: 12.1+ MB\n"
          ]
        }
      ]
    },
    {
      "cell_type": "code",
      "source": [
        "features_valid = pd.DataFrame(features_valid, columns = features.columns)\n",
        "features_valid[cat] = features_valid[cat].astype(str)"
      ],
      "metadata": {
        "id": "uMNSbUajvthW"
      },
      "execution_count": null,
      "outputs": []
    },
    {
      "cell_type": "code",
      "execution_count": null,
      "metadata": {
        "id": "HJoJqrDb_mAB"
      },
      "outputs": [],
      "source": [
        "cb = CatBoostRegressor(iterations=150, random_seed=seed,\n",
        "                            verbose=150)"
      ]
    },
    {
      "cell_type": "code",
      "source": [
        "grid_cb = {\n",
        "    'learning_rate' : list(np.arange(0.1,1.1,0.1)),\n",
        "    'max_depth' : list(range(6, 23, 4))\n",
        "}"
      ],
      "metadata": {
        "id": "5JMjSFvxvyPN"
      },
      "execution_count": null,
      "outputs": []
    },
    {
      "cell_type": "code",
      "source": [
        "%%time\n",
        "\n",
        "gs_cb = GridSearchCV(\n",
        "    cb,\n",
        "    grid_cb,\n",
        "    scoring='neg_root_mean_squared_error',\n",
        "    n_jobs=-1,\n",
        "    cv = 3\n",
        ")\n",
        "\n",
        "gs_cb.fit(features_train, target_train)\n",
        "\n",
        "print(\"tuned hyperparameters :(best parameters) \", gs_cb.best_params_)\n",
        "print(\"f1 :\", gs_cb.best_score_)"
      ],
      "metadata": {
        "colab": {
          "base_uri": "https://localhost:8080/"
        },
        "id": "OCXgnawlvyMR",
        "outputId": "066d79be-ade9-49a9-afe6-7d5228d1dbc1"
      },
      "execution_count": null,
      "outputs": [
        {
          "output_type": "stream",
          "name": "stderr",
          "text": [
            "/usr/local/lib/python3.10/dist-packages/joblib/externals/loky/process_executor.py:752: UserWarning: A worker stopped while some jobs were given to the executor. This can be caused by a too short worker timeout or by a memory leak.\n",
            "  warnings.warn(\n",
            "/usr/local/lib/python3.10/dist-packages/sklearn/model_selection/_validation.py:378: FitFailedWarning: \n",
            "9 fits failed out of a total of 45.\n",
            "The score on these train-test partitions for these parameters will be set to nan.\n",
            "If these failures are not expected, you can try to debug them by setting error_score='raise'.\n",
            "\n",
            "Below are more details about the failures:\n",
            "--------------------------------------------------------------------------------\n",
            "9 fits failed with the following error:\n",
            "Traceback (most recent call last):\n",
            "  File \"/usr/local/lib/python3.10/dist-packages/sklearn/model_selection/_validation.py\", line 686, in _fit_and_score\n",
            "    estimator.fit(X_train, y_train, **fit_params)\n",
            "  File \"/usr/local/lib/python3.10/dist-packages/catboost/core.py\", line 5703, in fit\n",
            "    return self._fit(X, y, cat_features, text_features, embedding_features, None, sample_weight, None, None, None, None, baseline,\n",
            "  File \"/usr/local/lib/python3.10/dist-packages/catboost/core.py\", line 2303, in _fit\n",
            "    train_params = self._prepare_train_params(\n",
            "  File \"/usr/local/lib/python3.10/dist-packages/catboost/core.py\", line 2230, in _prepare_train_params\n",
            "    _check_train_params(params)\n",
            "  File \"_catboost.pyx\", line 6105, in _catboost._check_train_params\n",
            "  File \"_catboost.pyx\", line 6124, in _catboost._check_train_params\n",
            "_catboost.CatBoostError: /src/catboost/catboost/private/libs/options/oblivious_tree_options.cpp:128: Maximum tree depth is 16\n",
            "\n",
            "  warnings.warn(some_fits_failed_message, FitFailedWarning)\n",
            "/usr/local/lib/python3.10/dist-packages/sklearn/model_selection/_search.py:952: UserWarning: One or more of the test scores are non-finite: [-1566.28784023 -1554.37632096 -1548.0531998  -1550.53483035\n",
            "            nan -1559.01482071 -1557.69150124 -1561.92121601\n",
            " -1574.89234251            nan -1574.1935517  -1578.14410765\n",
            " -1594.53589069 -1608.78216562            nan]\n",
            "  warnings.warn(\n"
          ]
        },
        {
          "output_type": "stream",
          "name": "stdout",
          "text": [
            "0:\tlearn: 3900.6245421\ttotal: 255ms\tremaining: 38.1s\n",
            "149:\tlearn: 1286.8481269\ttotal: 39s\tremaining: 0us\n",
            "tuned hyperparameters :(best parameters)  {'learning_rate': 0.2, 'max_depth': 14}\n",
            "f1 : -1548.0531998046724\n",
            "CPU times: user 1min 31s, sys: 18.3 s, total: 1min 49s\n",
            "Wall time: 30min 53s\n"
          ]
        }
      ]
    },
    {
      "cell_type": "markdown",
      "source": [
        "(best parameters)  {'learning_rate': 0.2, 'max_depth': 14}\n",
        "f1 : -1548.0531998046724"
      ],
      "metadata": {
        "id": "viCWljyRF8g3"
      }
    },
    {
      "cell_type": "markdown",
      "metadata": {
        "id": "qe1hF9SL_mAC"
      },
      "source": [
        "## Анализ моделей"
      ]
    },
    {
      "cell_type": "code",
      "source": [
        "features_test_cb = pd.DataFrame(features_test, columns = features.columns)\n",
        "features_test_cb[cat] = features_test_cb[cat].astype(str)"
      ],
      "metadata": {
        "id": "Pur3KMXcwNGo"
      },
      "execution_count": null,
      "outputs": []
    },
    {
      "cell_type": "code",
      "execution_count": null,
      "metadata": {
        "id": "7Za_0Plr_mAC"
      },
      "outputs": [],
      "source": [
        "cb_rmse = mse(target_test, gs_cb.predict(features_test_cb), squared=False)"
      ]
    },
    {
      "cell_type": "code",
      "execution_count": null,
      "metadata": {
        "id": "wQq2Ry-l_mAD",
        "colab": {
          "base_uri": "https://localhost:8080/"
        },
        "outputId": "742efe52-612c-4981-c98c-da092bef8ae4"
      },
      "outputs": [
        {
          "output_type": "execute_result",
          "data": {
            "text/plain": [
              "1479.2070205045322"
            ]
          },
          "metadata": {},
          "execution_count": 108
        }
      ],
      "source": [
        "cb_rmse"
      ]
    },
    {
      "cell_type": "code",
      "source": [
        "lgbm_rmse = mse(target_test, gs_lgbm.predict(features_test), squared=False)\n",
        "lgbm_rmse"
      ],
      "metadata": {
        "colab": {
          "base_uri": "https://localhost:8080/"
        },
        "id": "3gzeNKZlkcRQ",
        "outputId": "c314d447-9279-4451-eb5c-a48edaf288e4"
      },
      "execution_count": null,
      "outputs": [
        {
          "output_type": "stream",
          "name": "stdout",
          "text": [
            "[LightGBM] [Warning] Accuracy may be bad since you didn't explicitly set num_leaves OR 2^max_depth > num_leaves. (num_leaves=31).\n"
          ]
        },
        {
          "output_type": "execute_result",
          "data": {
            "text/plain": [
              "1583.1981871191952"
            ]
          },
          "metadata": {},
          "execution_count": 118
        }
      ]
    },
    {
      "cell_type": "code",
      "source": [
        "rf_rmse = mse(target_test, gs_rf.predict(features_test), squared=False)\n",
        "rf_rmse"
      ],
      "metadata": {
        "colab": {
          "base_uri": "https://localhost:8080/"
        },
        "id": "msCGBwf6ks__",
        "outputId": "b16945d3-db42-4f3a-c77c-39e7dbe5a909"
      },
      "execution_count": null,
      "outputs": [
        {
          "output_type": "execute_result",
          "data": {
            "text/plain": [
              "1303.3425606220603"
            ]
          },
          "metadata": {},
          "execution_count": 119
        }
      ]
    },
    {
      "cell_type": "code",
      "execution_count": null,
      "metadata": {
        "id": "Wh9_O713_mAD"
      },
      "outputs": [],
      "source": [
        "dummy_rmse = mse(target_test, pd.Series(target_test.mean(), index = target_test.index), squared=False)"
      ]
    },
    {
      "cell_type": "code",
      "execution_count": 120,
      "metadata": {
        "id": "r_EMvxOv_mAD",
        "colab": {
          "base_uri": "https://localhost:8080/"
        },
        "outputId": "29d62de5-4a77-4944-a747-54d71919706a"
      },
      "outputs": [
        {
          "output_type": "execute_result",
          "data": {
            "text/plain": [
              "4583.931678652258"
            ]
          },
          "metadata": {},
          "execution_count": 120
        }
      ],
      "source": [
        "dummy_rmse"
      ]
    },
    {
      "cell_type": "markdown",
      "source": [
        "Посмотрим на результаты моделей в сравнении с временем обучения"
      ],
      "metadata": {
        "id": "N4M88Da0zPJm"
      }
    },
    {
      "cell_type": "code",
      "source": [
        "models_list = ['Random Forest', 'LGBM', 'CatBoost']\n",
        "\n",
        "total = pd.DataFrame({'RMSE' : pd.Series([rf_rmse, lgbm_rmse, cb_rmse], index=models_list),\n",
        "                      'Time' : pd.Series([114, 2, 30], index=models_list)},\n",
        "                     columns=['RMSE', 'Time'])\n",
        "total"
      ],
      "metadata": {
        "colab": {
          "base_uri": "https://localhost:8080/",
          "height": 143
        },
        "id": "G33SaGXPy1PH",
        "outputId": "ddcbb42b-c3ed-42e5-de3b-bc783e49551e"
      },
      "execution_count": 121,
      "outputs": [
        {
          "output_type": "execute_result",
          "data": {
            "text/plain": [
              "                      RMSE  Time\n",
              "Random Forest  1303.342561   114\n",
              "LGBM           1583.198187     2\n",
              "CatBoost       1479.207021    30"
            ],
            "text/html": [
              "\n",
              "  <div id=\"df-f4c6951d-721a-417c-9bc7-f3f84b36de48\" class=\"colab-df-container\">\n",
              "    <div>\n",
              "<style scoped>\n",
              "    .dataframe tbody tr th:only-of-type {\n",
              "        vertical-align: middle;\n",
              "    }\n",
              "\n",
              "    .dataframe tbody tr th {\n",
              "        vertical-align: top;\n",
              "    }\n",
              "\n",
              "    .dataframe thead th {\n",
              "        text-align: right;\n",
              "    }\n",
              "</style>\n",
              "<table border=\"1\" class=\"dataframe\">\n",
              "  <thead>\n",
              "    <tr style=\"text-align: right;\">\n",
              "      <th></th>\n",
              "      <th>RMSE</th>\n",
              "      <th>Time</th>\n",
              "    </tr>\n",
              "  </thead>\n",
              "  <tbody>\n",
              "    <tr>\n",
              "      <th>Random Forest</th>\n",
              "      <td>1303.342561</td>\n",
              "      <td>114</td>\n",
              "    </tr>\n",
              "    <tr>\n",
              "      <th>LGBM</th>\n",
              "      <td>1583.198187</td>\n",
              "      <td>2</td>\n",
              "    </tr>\n",
              "    <tr>\n",
              "      <th>CatBoost</th>\n",
              "      <td>1479.207021</td>\n",
              "      <td>30</td>\n",
              "    </tr>\n",
              "  </tbody>\n",
              "</table>\n",
              "</div>\n",
              "    <div class=\"colab-df-buttons\">\n",
              "\n",
              "  <div class=\"colab-df-container\">\n",
              "    <button class=\"colab-df-convert\" onclick=\"convertToInteractive('df-f4c6951d-721a-417c-9bc7-f3f84b36de48')\"\n",
              "            title=\"Convert this dataframe to an interactive table.\"\n",
              "            style=\"display:none;\">\n",
              "\n",
              "  <svg xmlns=\"http://www.w3.org/2000/svg\" height=\"24px\" viewBox=\"0 -960 960 960\">\n",
              "    <path d=\"M120-120v-720h720v720H120Zm60-500h600v-160H180v160Zm220 220h160v-160H400v160Zm0 220h160v-160H400v160ZM180-400h160v-160H180v160Zm440 0h160v-160H620v160ZM180-180h160v-160H180v160Zm440 0h160v-160H620v160Z\"/>\n",
              "  </svg>\n",
              "    </button>\n",
              "\n",
              "  <style>\n",
              "    .colab-df-container {\n",
              "      display:flex;\n",
              "      gap: 12px;\n",
              "    }\n",
              "\n",
              "    .colab-df-convert {\n",
              "      background-color: #E8F0FE;\n",
              "      border: none;\n",
              "      border-radius: 50%;\n",
              "      cursor: pointer;\n",
              "      display: none;\n",
              "      fill: #1967D2;\n",
              "      height: 32px;\n",
              "      padding: 0 0 0 0;\n",
              "      width: 32px;\n",
              "    }\n",
              "\n",
              "    .colab-df-convert:hover {\n",
              "      background-color: #E2EBFA;\n",
              "      box-shadow: 0px 1px 2px rgba(60, 64, 67, 0.3), 0px 1px 3px 1px rgba(60, 64, 67, 0.15);\n",
              "      fill: #174EA6;\n",
              "    }\n",
              "\n",
              "    .colab-df-buttons div {\n",
              "      margin-bottom: 4px;\n",
              "    }\n",
              "\n",
              "    [theme=dark] .colab-df-convert {\n",
              "      background-color: #3B4455;\n",
              "      fill: #D2E3FC;\n",
              "    }\n",
              "\n",
              "    [theme=dark] .colab-df-convert:hover {\n",
              "      background-color: #434B5C;\n",
              "      box-shadow: 0px 1px 3px 1px rgba(0, 0, 0, 0.15);\n",
              "      filter: drop-shadow(0px 1px 2px rgba(0, 0, 0, 0.3));\n",
              "      fill: #FFFFFF;\n",
              "    }\n",
              "  </style>\n",
              "\n",
              "    <script>\n",
              "      const buttonEl =\n",
              "        document.querySelector('#df-f4c6951d-721a-417c-9bc7-f3f84b36de48 button.colab-df-convert');\n",
              "      buttonEl.style.display =\n",
              "        google.colab.kernel.accessAllowed ? 'block' : 'none';\n",
              "\n",
              "      async function convertToInteractive(key) {\n",
              "        const element = document.querySelector('#df-f4c6951d-721a-417c-9bc7-f3f84b36de48');\n",
              "        const dataTable =\n",
              "          await google.colab.kernel.invokeFunction('convertToInteractive',\n",
              "                                                    [key], {});\n",
              "        if (!dataTable) return;\n",
              "\n",
              "        const docLinkHtml = 'Like what you see? Visit the ' +\n",
              "          '<a target=\"_blank\" href=https://colab.research.google.com/notebooks/data_table.ipynb>data table notebook</a>'\n",
              "          + ' to learn more about interactive tables.';\n",
              "        element.innerHTML = '';\n",
              "        dataTable['output_type'] = 'display_data';\n",
              "        await google.colab.output.renderOutput(dataTable, element);\n",
              "        const docLink = document.createElement('div');\n",
              "        docLink.innerHTML = docLinkHtml;\n",
              "        element.appendChild(docLink);\n",
              "      }\n",
              "    </script>\n",
              "  </div>\n",
              "\n",
              "\n",
              "<div id=\"df-cedbd4b9-c5ca-4f11-a1be-0ceb7512c83e\">\n",
              "  <button class=\"colab-df-quickchart\" onclick=\"quickchart('df-cedbd4b9-c5ca-4f11-a1be-0ceb7512c83e')\"\n",
              "            title=\"Suggest charts.\"\n",
              "            style=\"display:none;\">\n",
              "\n",
              "<svg xmlns=\"http://www.w3.org/2000/svg\" height=\"24px\"viewBox=\"0 0 24 24\"\n",
              "     width=\"24px\">\n",
              "    <g>\n",
              "        <path d=\"M19 3H5c-1.1 0-2 .9-2 2v14c0 1.1.9 2 2 2h14c1.1 0 2-.9 2-2V5c0-1.1-.9-2-2-2zM9 17H7v-7h2v7zm4 0h-2V7h2v10zm4 0h-2v-4h2v4z\"/>\n",
              "    </g>\n",
              "</svg>\n",
              "  </button>\n",
              "\n",
              "<style>\n",
              "  .colab-df-quickchart {\n",
              "      --bg-color: #E8F0FE;\n",
              "      --fill-color: #1967D2;\n",
              "      --hover-bg-color: #E2EBFA;\n",
              "      --hover-fill-color: #174EA6;\n",
              "      --disabled-fill-color: #AAA;\n",
              "      --disabled-bg-color: #DDD;\n",
              "  }\n",
              "\n",
              "  [theme=dark] .colab-df-quickchart {\n",
              "      --bg-color: #3B4455;\n",
              "      --fill-color: #D2E3FC;\n",
              "      --hover-bg-color: #434B5C;\n",
              "      --hover-fill-color: #FFFFFF;\n",
              "      --disabled-bg-color: #3B4455;\n",
              "      --disabled-fill-color: #666;\n",
              "  }\n",
              "\n",
              "  .colab-df-quickchart {\n",
              "    background-color: var(--bg-color);\n",
              "    border: none;\n",
              "    border-radius: 50%;\n",
              "    cursor: pointer;\n",
              "    display: none;\n",
              "    fill: var(--fill-color);\n",
              "    height: 32px;\n",
              "    padding: 0;\n",
              "    width: 32px;\n",
              "  }\n",
              "\n",
              "  .colab-df-quickchart:hover {\n",
              "    background-color: var(--hover-bg-color);\n",
              "    box-shadow: 0 1px 2px rgba(60, 64, 67, 0.3), 0 1px 3px 1px rgba(60, 64, 67, 0.15);\n",
              "    fill: var(--button-hover-fill-color);\n",
              "  }\n",
              "\n",
              "  .colab-df-quickchart-complete:disabled,\n",
              "  .colab-df-quickchart-complete:disabled:hover {\n",
              "    background-color: var(--disabled-bg-color);\n",
              "    fill: var(--disabled-fill-color);\n",
              "    box-shadow: none;\n",
              "  }\n",
              "\n",
              "  .colab-df-spinner {\n",
              "    border: 2px solid var(--fill-color);\n",
              "    border-color: transparent;\n",
              "    border-bottom-color: var(--fill-color);\n",
              "    animation:\n",
              "      spin 1s steps(1) infinite;\n",
              "  }\n",
              "\n",
              "  @keyframes spin {\n",
              "    0% {\n",
              "      border-color: transparent;\n",
              "      border-bottom-color: var(--fill-color);\n",
              "      border-left-color: var(--fill-color);\n",
              "    }\n",
              "    20% {\n",
              "      border-color: transparent;\n",
              "      border-left-color: var(--fill-color);\n",
              "      border-top-color: var(--fill-color);\n",
              "    }\n",
              "    30% {\n",
              "      border-color: transparent;\n",
              "      border-left-color: var(--fill-color);\n",
              "      border-top-color: var(--fill-color);\n",
              "      border-right-color: var(--fill-color);\n",
              "    }\n",
              "    40% {\n",
              "      border-color: transparent;\n",
              "      border-right-color: var(--fill-color);\n",
              "      border-top-color: var(--fill-color);\n",
              "    }\n",
              "    60% {\n",
              "      border-color: transparent;\n",
              "      border-right-color: var(--fill-color);\n",
              "    }\n",
              "    80% {\n",
              "      border-color: transparent;\n",
              "      border-right-color: var(--fill-color);\n",
              "      border-bottom-color: var(--fill-color);\n",
              "    }\n",
              "    90% {\n",
              "      border-color: transparent;\n",
              "      border-bottom-color: var(--fill-color);\n",
              "    }\n",
              "  }\n",
              "</style>\n",
              "\n",
              "  <script>\n",
              "    async function quickchart(key) {\n",
              "      const quickchartButtonEl =\n",
              "        document.querySelector('#' + key + ' button');\n",
              "      quickchartButtonEl.disabled = true;  // To prevent multiple clicks.\n",
              "      quickchartButtonEl.classList.add('colab-df-spinner');\n",
              "      try {\n",
              "        const charts = await google.colab.kernel.invokeFunction(\n",
              "            'suggestCharts', [key], {});\n",
              "      } catch (error) {\n",
              "        console.error('Error during call to suggestCharts:', error);\n",
              "      }\n",
              "      quickchartButtonEl.classList.remove('colab-df-spinner');\n",
              "      quickchartButtonEl.classList.add('colab-df-quickchart-complete');\n",
              "    }\n",
              "    (() => {\n",
              "      let quickchartButtonEl =\n",
              "        document.querySelector('#df-cedbd4b9-c5ca-4f11-a1be-0ceb7512c83e button');\n",
              "      quickchartButtonEl.style.display =\n",
              "        google.colab.kernel.accessAllowed ? 'block' : 'none';\n",
              "    })();\n",
              "  </script>\n",
              "</div>\n",
              "    </div>\n",
              "  </div>\n"
            ]
          },
          "metadata": {},
          "execution_count": 121
        }
      ]
    },
    {
      "cell_type": "markdown",
      "metadata": {
        "id": "h5bVQ4M4_mAD"
      },
      "source": [
        "## Выводы"
      ]
    },
    {
      "cell_type": "markdown",
      "metadata": {
        "id": "9ligtZdv_mAE"
      },
      "source": [
        "Для решения данной задачи были проведены следующие мероприятия:\n",
        "* Предобработка данных\n",
        "\t* удаление дубликатов\n",
        "\t* заполнение пропусков с помощью KNN Imputer\n",
        "\t* обработка аномалий\n",
        "* Обучение моделей:\n",
        "\t* Линейная Регрессия\n",
        "\t* RandomForest Regressor\n",
        "\t* CatBoost Regressor\n",
        "\t* LGBM Regressor"
      ]
    },
    {
      "cell_type": "markdown",
      "metadata": {
        "id": "Q6oMh6Y8_mAE"
      },
      "source": [
        "**Для проверки на тестовой выборке были отобраны 3 модели с лучшими результатами, все они показали себя примерно одинаково.  \n",
        "Также была проведена проверка на адекватность**"
      ]
    },
    {
      "cell_type": "code",
      "execution_count": 122,
      "metadata": {
        "id": "LEao32CW_mAE",
        "colab": {
          "base_uri": "https://localhost:8080/",
          "height": 143
        },
        "outputId": "e6e33cd8-b7d4-43fa-9b16-d8c6537d238c"
      },
      "outputs": [
        {
          "output_type": "execute_result",
          "data": {
            "text/plain": [
              "                      RMSE  Time\n",
              "Random Forest  1303.342561   114\n",
              "LGBM           1583.198187     2\n",
              "CatBoost       1479.207021    30"
            ],
            "text/html": [
              "\n",
              "  <div id=\"df-be5b5f07-ea5f-4ba3-8f07-17fd851a0535\" class=\"colab-df-container\">\n",
              "    <div>\n",
              "<style scoped>\n",
              "    .dataframe tbody tr th:only-of-type {\n",
              "        vertical-align: middle;\n",
              "    }\n",
              "\n",
              "    .dataframe tbody tr th {\n",
              "        vertical-align: top;\n",
              "    }\n",
              "\n",
              "    .dataframe thead th {\n",
              "        text-align: right;\n",
              "    }\n",
              "</style>\n",
              "<table border=\"1\" class=\"dataframe\">\n",
              "  <thead>\n",
              "    <tr style=\"text-align: right;\">\n",
              "      <th></th>\n",
              "      <th>RMSE</th>\n",
              "      <th>Time</th>\n",
              "    </tr>\n",
              "  </thead>\n",
              "  <tbody>\n",
              "    <tr>\n",
              "      <th>Random Forest</th>\n",
              "      <td>1303.342561</td>\n",
              "      <td>114</td>\n",
              "    </tr>\n",
              "    <tr>\n",
              "      <th>LGBM</th>\n",
              "      <td>1583.198187</td>\n",
              "      <td>2</td>\n",
              "    </tr>\n",
              "    <tr>\n",
              "      <th>CatBoost</th>\n",
              "      <td>1479.207021</td>\n",
              "      <td>30</td>\n",
              "    </tr>\n",
              "  </tbody>\n",
              "</table>\n",
              "</div>\n",
              "    <div class=\"colab-df-buttons\">\n",
              "\n",
              "  <div class=\"colab-df-container\">\n",
              "    <button class=\"colab-df-convert\" onclick=\"convertToInteractive('df-be5b5f07-ea5f-4ba3-8f07-17fd851a0535')\"\n",
              "            title=\"Convert this dataframe to an interactive table.\"\n",
              "            style=\"display:none;\">\n",
              "\n",
              "  <svg xmlns=\"http://www.w3.org/2000/svg\" height=\"24px\" viewBox=\"0 -960 960 960\">\n",
              "    <path d=\"M120-120v-720h720v720H120Zm60-500h600v-160H180v160Zm220 220h160v-160H400v160Zm0 220h160v-160H400v160ZM180-400h160v-160H180v160Zm440 0h160v-160H620v160ZM180-180h160v-160H180v160Zm440 0h160v-160H620v160Z\"/>\n",
              "  </svg>\n",
              "    </button>\n",
              "\n",
              "  <style>\n",
              "    .colab-df-container {\n",
              "      display:flex;\n",
              "      gap: 12px;\n",
              "    }\n",
              "\n",
              "    .colab-df-convert {\n",
              "      background-color: #E8F0FE;\n",
              "      border: none;\n",
              "      border-radius: 50%;\n",
              "      cursor: pointer;\n",
              "      display: none;\n",
              "      fill: #1967D2;\n",
              "      height: 32px;\n",
              "      padding: 0 0 0 0;\n",
              "      width: 32px;\n",
              "    }\n",
              "\n",
              "    .colab-df-convert:hover {\n",
              "      background-color: #E2EBFA;\n",
              "      box-shadow: 0px 1px 2px rgba(60, 64, 67, 0.3), 0px 1px 3px 1px rgba(60, 64, 67, 0.15);\n",
              "      fill: #174EA6;\n",
              "    }\n",
              "\n",
              "    .colab-df-buttons div {\n",
              "      margin-bottom: 4px;\n",
              "    }\n",
              "\n",
              "    [theme=dark] .colab-df-convert {\n",
              "      background-color: #3B4455;\n",
              "      fill: #D2E3FC;\n",
              "    }\n",
              "\n",
              "    [theme=dark] .colab-df-convert:hover {\n",
              "      background-color: #434B5C;\n",
              "      box-shadow: 0px 1px 3px 1px rgba(0, 0, 0, 0.15);\n",
              "      filter: drop-shadow(0px 1px 2px rgba(0, 0, 0, 0.3));\n",
              "      fill: #FFFFFF;\n",
              "    }\n",
              "  </style>\n",
              "\n",
              "    <script>\n",
              "      const buttonEl =\n",
              "        document.querySelector('#df-be5b5f07-ea5f-4ba3-8f07-17fd851a0535 button.colab-df-convert');\n",
              "      buttonEl.style.display =\n",
              "        google.colab.kernel.accessAllowed ? 'block' : 'none';\n",
              "\n",
              "      async function convertToInteractive(key) {\n",
              "        const element = document.querySelector('#df-be5b5f07-ea5f-4ba3-8f07-17fd851a0535');\n",
              "        const dataTable =\n",
              "          await google.colab.kernel.invokeFunction('convertToInteractive',\n",
              "                                                    [key], {});\n",
              "        if (!dataTable) return;\n",
              "\n",
              "        const docLinkHtml = 'Like what you see? Visit the ' +\n",
              "          '<a target=\"_blank\" href=https://colab.research.google.com/notebooks/data_table.ipynb>data table notebook</a>'\n",
              "          + ' to learn more about interactive tables.';\n",
              "        element.innerHTML = '';\n",
              "        dataTable['output_type'] = 'display_data';\n",
              "        await google.colab.output.renderOutput(dataTable, element);\n",
              "        const docLink = document.createElement('div');\n",
              "        docLink.innerHTML = docLinkHtml;\n",
              "        element.appendChild(docLink);\n",
              "      }\n",
              "    </script>\n",
              "  </div>\n",
              "\n",
              "\n",
              "<div id=\"df-00914b2e-fbc2-4f0f-978b-553119650e04\">\n",
              "  <button class=\"colab-df-quickchart\" onclick=\"quickchart('df-00914b2e-fbc2-4f0f-978b-553119650e04')\"\n",
              "            title=\"Suggest charts.\"\n",
              "            style=\"display:none;\">\n",
              "\n",
              "<svg xmlns=\"http://www.w3.org/2000/svg\" height=\"24px\"viewBox=\"0 0 24 24\"\n",
              "     width=\"24px\">\n",
              "    <g>\n",
              "        <path d=\"M19 3H5c-1.1 0-2 .9-2 2v14c0 1.1.9 2 2 2h14c1.1 0 2-.9 2-2V5c0-1.1-.9-2-2-2zM9 17H7v-7h2v7zm4 0h-2V7h2v10zm4 0h-2v-4h2v4z\"/>\n",
              "    </g>\n",
              "</svg>\n",
              "  </button>\n",
              "\n",
              "<style>\n",
              "  .colab-df-quickchart {\n",
              "      --bg-color: #E8F0FE;\n",
              "      --fill-color: #1967D2;\n",
              "      --hover-bg-color: #E2EBFA;\n",
              "      --hover-fill-color: #174EA6;\n",
              "      --disabled-fill-color: #AAA;\n",
              "      --disabled-bg-color: #DDD;\n",
              "  }\n",
              "\n",
              "  [theme=dark] .colab-df-quickchart {\n",
              "      --bg-color: #3B4455;\n",
              "      --fill-color: #D2E3FC;\n",
              "      --hover-bg-color: #434B5C;\n",
              "      --hover-fill-color: #FFFFFF;\n",
              "      --disabled-bg-color: #3B4455;\n",
              "      --disabled-fill-color: #666;\n",
              "  }\n",
              "\n",
              "  .colab-df-quickchart {\n",
              "    background-color: var(--bg-color);\n",
              "    border: none;\n",
              "    border-radius: 50%;\n",
              "    cursor: pointer;\n",
              "    display: none;\n",
              "    fill: var(--fill-color);\n",
              "    height: 32px;\n",
              "    padding: 0;\n",
              "    width: 32px;\n",
              "  }\n",
              "\n",
              "  .colab-df-quickchart:hover {\n",
              "    background-color: var(--hover-bg-color);\n",
              "    box-shadow: 0 1px 2px rgba(60, 64, 67, 0.3), 0 1px 3px 1px rgba(60, 64, 67, 0.15);\n",
              "    fill: var(--button-hover-fill-color);\n",
              "  }\n",
              "\n",
              "  .colab-df-quickchart-complete:disabled,\n",
              "  .colab-df-quickchart-complete:disabled:hover {\n",
              "    background-color: var(--disabled-bg-color);\n",
              "    fill: var(--disabled-fill-color);\n",
              "    box-shadow: none;\n",
              "  }\n",
              "\n",
              "  .colab-df-spinner {\n",
              "    border: 2px solid var(--fill-color);\n",
              "    border-color: transparent;\n",
              "    border-bottom-color: var(--fill-color);\n",
              "    animation:\n",
              "      spin 1s steps(1) infinite;\n",
              "  }\n",
              "\n",
              "  @keyframes spin {\n",
              "    0% {\n",
              "      border-color: transparent;\n",
              "      border-bottom-color: var(--fill-color);\n",
              "      border-left-color: var(--fill-color);\n",
              "    }\n",
              "    20% {\n",
              "      border-color: transparent;\n",
              "      border-left-color: var(--fill-color);\n",
              "      border-top-color: var(--fill-color);\n",
              "    }\n",
              "    30% {\n",
              "      border-color: transparent;\n",
              "      border-left-color: var(--fill-color);\n",
              "      border-top-color: var(--fill-color);\n",
              "      border-right-color: var(--fill-color);\n",
              "    }\n",
              "    40% {\n",
              "      border-color: transparent;\n",
              "      border-right-color: var(--fill-color);\n",
              "      border-top-color: var(--fill-color);\n",
              "    }\n",
              "    60% {\n",
              "      border-color: transparent;\n",
              "      border-right-color: var(--fill-color);\n",
              "    }\n",
              "    80% {\n",
              "      border-color: transparent;\n",
              "      border-right-color: var(--fill-color);\n",
              "      border-bottom-color: var(--fill-color);\n",
              "    }\n",
              "    90% {\n",
              "      border-color: transparent;\n",
              "      border-bottom-color: var(--fill-color);\n",
              "    }\n",
              "  }\n",
              "</style>\n",
              "\n",
              "  <script>\n",
              "    async function quickchart(key) {\n",
              "      const quickchartButtonEl =\n",
              "        document.querySelector('#' + key + ' button');\n",
              "      quickchartButtonEl.disabled = true;  // To prevent multiple clicks.\n",
              "      quickchartButtonEl.classList.add('colab-df-spinner');\n",
              "      try {\n",
              "        const charts = await google.colab.kernel.invokeFunction(\n",
              "            'suggestCharts', [key], {});\n",
              "      } catch (error) {\n",
              "        console.error('Error during call to suggestCharts:', error);\n",
              "      }\n",
              "      quickchartButtonEl.classList.remove('colab-df-spinner');\n",
              "      quickchartButtonEl.classList.add('colab-df-quickchart-complete');\n",
              "    }\n",
              "    (() => {\n",
              "      let quickchartButtonEl =\n",
              "        document.querySelector('#df-00914b2e-fbc2-4f0f-978b-553119650e04 button');\n",
              "      quickchartButtonEl.style.display =\n",
              "        google.colab.kernel.accessAllowed ? 'block' : 'none';\n",
              "    })();\n",
              "  </script>\n",
              "</div>\n",
              "    </div>\n",
              "  </div>\n"
            ]
          },
          "metadata": {},
          "execution_count": 122
        }
      ],
      "source": [
        "total"
      ]
    },
    {
      "cell_type": "markdown",
      "metadata": {
        "id": "3jwYuiT7_mAE"
      },
      "source": [
        "**Параметры рекомендуемых моделей:**  \n",
        ">RandomForestRegressor (max_depth=18, n_estimators=400)  \n",
        ">CatBoostRegressor (iterations=150, learning_rate=0.2, max_depth=14)  \n",
        ">LGBMRegressor ('learning_rate': 0.3, 'max_depth': 13)"
      ]
    }
  ],
  "metadata": {
    "ExecuteTimeLog": [
      {
        "duration": 369,
        "start_time": "2023-06-12T15:32:16.669Z"
      },
      {
        "duration": 1041,
        "start_time": "2023-06-12T15:32:17.346Z"
      },
      {
        "duration": 26,
        "start_time": "2023-06-12T15:32:25.536Z"
      },
      {
        "duration": 198,
        "start_time": "2023-06-12T15:34:11.678Z"
      },
      {
        "duration": 99,
        "start_time": "2023-06-12T16:03:21.975Z"
      },
      {
        "duration": 854,
        "start_time": "2023-06-12T16:03:30.484Z"
      },
      {
        "duration": 110,
        "start_time": "2023-06-12T16:05:58.866Z"
      },
      {
        "duration": 52,
        "start_time": "2023-06-12T16:06:33.769Z"
      },
      {
        "duration": 8,
        "start_time": "2023-06-12T16:08:59.153Z"
      },
      {
        "duration": 9,
        "start_time": "2023-06-12T16:09:04.284Z"
      },
      {
        "duration": 13,
        "start_time": "2023-06-12T16:09:31.327Z"
      },
      {
        "duration": 54,
        "start_time": "2023-06-12T16:14:46.575Z"
      },
      {
        "duration": 6,
        "start_time": "2023-06-12T16:24:25.329Z"
      },
      {
        "duration": 27,
        "start_time": "2023-06-12T16:25:27.469Z"
      },
      {
        "duration": 23,
        "start_time": "2023-06-12T16:27:01.082Z"
      },
      {
        "duration": 2,
        "start_time": "2023-06-12T16:36:24.081Z"
      },
      {
        "duration": 21,
        "start_time": "2023-06-12T16:37:57.565Z"
      },
      {
        "duration": 12,
        "start_time": "2023-06-12T16:38:20.253Z"
      },
      {
        "duration": 4,
        "start_time": "2023-06-12T16:38:50.631Z"
      },
      {
        "duration": 14,
        "start_time": "2023-06-12T16:39:04.892Z"
      },
      {
        "duration": 12,
        "start_time": "2023-06-12T16:39:17.267Z"
      },
      {
        "duration": 5,
        "start_time": "2023-06-12T16:40:01.538Z"
      },
      {
        "duration": 3,
        "start_time": "2023-06-12T16:40:12.741Z"
      },
      {
        "duration": 917,
        "start_time": "2023-06-12T16:40:12.745Z"
      },
      {
        "duration": 14,
        "start_time": "2023-06-12T16:40:13.663Z"
      },
      {
        "duration": 134,
        "start_time": "2023-06-12T16:40:13.679Z"
      },
      {
        "duration": 2,
        "start_time": "2023-06-12T16:40:13.815Z"
      },
      {
        "duration": 32,
        "start_time": "2023-06-12T16:40:13.818Z"
      },
      {
        "duration": 5,
        "start_time": "2023-06-12T16:40:42.177Z"
      },
      {
        "duration": 12,
        "start_time": "2023-06-12T16:41:53.901Z"
      },
      {
        "duration": 4,
        "start_time": "2023-06-12T16:42:00.075Z"
      },
      {
        "duration": 16,
        "start_time": "2023-06-12T16:43:40.955Z"
      },
      {
        "duration": 11,
        "start_time": "2023-06-12T16:43:44.412Z"
      },
      {
        "duration": 68,
        "start_time": "2023-06-12T16:43:53.147Z"
      },
      {
        "duration": 16,
        "start_time": "2023-06-12T16:49:56.082Z"
      },
      {
        "duration": 27,
        "start_time": "2023-06-12T16:50:00.032Z"
      },
      {
        "duration": 15,
        "start_time": "2023-06-12T16:50:38.984Z"
      },
      {
        "duration": 2145,
        "start_time": "2023-06-12T16:51:27.614Z"
      },
      {
        "duration": 1312,
        "start_time": "2023-06-12T16:51:45.326Z"
      },
      {
        "duration": 2099,
        "start_time": "2023-06-12T16:52:31.212Z"
      },
      {
        "duration": 2733,
        "start_time": "2023-06-12T16:52:52.661Z"
      },
      {
        "duration": 177,
        "start_time": "2023-06-12T16:53:13.387Z"
      },
      {
        "duration": 13,
        "start_time": "2023-06-12T16:53:16.779Z"
      },
      {
        "duration": 184,
        "start_time": "2023-06-12T16:54:23.048Z"
      },
      {
        "duration": 17,
        "start_time": "2023-06-12T16:55:48.311Z"
      },
      {
        "duration": 501,
        "start_time": "2023-06-12T16:56:13.694Z"
      },
      {
        "duration": 169,
        "start_time": "2023-06-12T16:56:41.689Z"
      },
      {
        "duration": 3,
        "start_time": "2023-06-12T16:56:59.834Z"
      },
      {
        "duration": 918,
        "start_time": "2023-06-12T16:56:59.838Z"
      },
      {
        "duration": 13,
        "start_time": "2023-06-12T16:57:00.757Z"
      },
      {
        "duration": 165,
        "start_time": "2023-06-12T16:57:00.772Z"
      },
      {
        "duration": 2,
        "start_time": "2023-06-12T16:57:00.939Z"
      },
      {
        "duration": 53,
        "start_time": "2023-06-12T16:57:00.943Z"
      },
      {
        "duration": 0,
        "start_time": "2023-06-12T16:57:00.998Z"
      },
      {
        "duration": 146,
        "start_time": "2023-06-12T16:57:17.091Z"
      },
      {
        "duration": 1105,
        "start_time": "2023-06-12T16:57:17.849Z"
      },
      {
        "duration": 15,
        "start_time": "2023-06-12T16:57:31.059Z"
      },
      {
        "duration": 23,
        "start_time": "2023-06-12T18:29:52.783Z"
      },
      {
        "duration": 59,
        "start_time": "2023-06-12T18:30:08.752Z"
      },
      {
        "duration": 21,
        "start_time": "2023-06-12T18:30:45.159Z"
      },
      {
        "duration": 1041,
        "start_time": "2023-06-12T18:31:08.734Z"
      },
      {
        "duration": 62,
        "start_time": "2023-06-12T18:31:18.350Z"
      },
      {
        "duration": 150,
        "start_time": "2023-06-12T18:31:45.796Z"
      },
      {
        "duration": 17,
        "start_time": "2023-06-12T19:11:02.240Z"
      },
      {
        "duration": 19,
        "start_time": "2023-06-12T20:01:28.365Z"
      },
      {
        "duration": 98,
        "start_time": "2023-06-12T20:02:24.123Z"
      },
      {
        "duration": 4,
        "start_time": "2023-06-12T20:03:30.033Z"
      },
      {
        "duration": 102,
        "start_time": "2023-06-12T20:08:41.425Z"
      },
      {
        "duration": 83,
        "start_time": "2023-06-12T20:08:52.015Z"
      },
      {
        "duration": 18,
        "start_time": "2023-06-12T20:09:04.333Z"
      },
      {
        "duration": 109,
        "start_time": "2023-06-12T20:09:07.215Z"
      },
      {
        "duration": 63,
        "start_time": "2023-06-12T20:10:51.327Z"
      },
      {
        "duration": 136,
        "start_time": "2023-06-12T20:12:09.745Z"
      },
      {
        "duration": 30,
        "start_time": "2023-06-12T20:12:47.064Z"
      },
      {
        "duration": 111,
        "start_time": "2023-06-12T20:12:48.415Z"
      },
      {
        "duration": 20,
        "start_time": "2023-06-12T20:12:55.183Z"
      },
      {
        "duration": 104,
        "start_time": "2023-06-12T20:12:56.383Z"
      },
      {
        "duration": 18,
        "start_time": "2023-06-12T20:13:57.086Z"
      },
      {
        "duration": 96,
        "start_time": "2023-06-12T20:13:57.461Z"
      },
      {
        "duration": 931,
        "start_time": "2023-06-12T20:14:20.173Z"
      },
      {
        "duration": 3,
        "start_time": "2023-06-12T20:16:21.327Z"
      },
      {
        "duration": 576,
        "start_time": "2023-06-12T20:16:39.628Z"
      },
      {
        "duration": 520,
        "start_time": "2023-06-12T20:16:46.938Z"
      },
      {
        "duration": 13474,
        "start_time": "2023-06-12T20:17:05.946Z"
      },
      {
        "duration": 744,
        "start_time": "2023-06-12T20:17:46.673Z"
      },
      {
        "duration": 1452,
        "start_time": "2023-06-12T20:18:59.663Z"
      },
      {
        "duration": 151,
        "start_time": "2023-06-12T20:19:09.957Z"
      },
      {
        "duration": 144,
        "start_time": "2023-06-12T20:19:20.906Z"
      },
      {
        "duration": 36,
        "start_time": "2023-06-12T20:21:56.976Z"
      },
      {
        "duration": 30,
        "start_time": "2023-06-12T20:24:40.756Z"
      },
      {
        "duration": 42,
        "start_time": "2023-06-12T20:24:51.476Z"
      },
      {
        "duration": 115,
        "start_time": "2023-06-12T20:25:29.954Z"
      },
      {
        "duration": 21,
        "start_time": "2023-06-12T20:25:33.810Z"
      },
      {
        "duration": 46,
        "start_time": "2023-06-12T20:25:52.529Z"
      },
      {
        "duration": 27,
        "start_time": "2023-06-12T20:26:03.124Z"
      },
      {
        "duration": 279,
        "start_time": "2023-06-12T20:26:54.310Z"
      },
      {
        "duration": 108,
        "start_time": "2023-06-12T20:26:59.742Z"
      },
      {
        "duration": 317,
        "start_time": "2023-06-12T20:27:17.430Z"
      },
      {
        "duration": 73,
        "start_time": "2023-06-12T20:27:58.310Z"
      },
      {
        "duration": 123,
        "start_time": "2023-06-12T20:28:13.231Z"
      },
      {
        "duration": 294,
        "start_time": "2023-06-12T20:29:20.850Z"
      },
      {
        "duration": 386,
        "start_time": "2023-06-12T20:29:29.678Z"
      },
      {
        "duration": 589,
        "start_time": "2023-06-12T20:30:08.274Z"
      },
      {
        "duration": 106,
        "start_time": "2023-06-12T20:30:25.064Z"
      },
      {
        "duration": 3,
        "start_time": "2023-06-12T20:30:44.030Z"
      },
      {
        "duration": 711,
        "start_time": "2023-06-12T20:30:44.035Z"
      },
      {
        "duration": 11,
        "start_time": "2023-06-12T20:30:44.748Z"
      },
      {
        "duration": 104,
        "start_time": "2023-06-12T20:30:44.760Z"
      },
      {
        "duration": 2,
        "start_time": "2023-06-12T20:30:44.866Z"
      },
      {
        "duration": 5,
        "start_time": "2023-06-12T20:30:44.869Z"
      },
      {
        "duration": 106,
        "start_time": "2023-06-12T20:30:44.875Z"
      },
      {
        "duration": 16,
        "start_time": "2023-06-12T20:30:44.982Z"
      },
      {
        "duration": 27,
        "start_time": "2023-06-12T20:30:44.999Z"
      },
      {
        "duration": 52,
        "start_time": "2023-06-12T20:30:45.027Z"
      },
      {
        "duration": 92,
        "start_time": "2023-06-12T20:30:45.080Z"
      },
      {
        "duration": 4,
        "start_time": "2023-06-12T20:30:45.173Z"
      },
      {
        "duration": 17,
        "start_time": "2023-06-12T20:30:45.178Z"
      },
      {
        "duration": 139,
        "start_time": "2023-06-12T20:30:45.196Z"
      },
      {
        "duration": 20,
        "start_time": "2023-06-12T20:30:45.336Z"
      },
      {
        "duration": 34,
        "start_time": "2023-06-12T20:30:45.357Z"
      },
      {
        "duration": 101,
        "start_time": "2023-06-12T20:30:45.393Z"
      },
      {
        "duration": 648,
        "start_time": "2023-06-12T20:30:45.495Z"
      },
      {
        "duration": 144,
        "start_time": "2023-06-12T20:30:46.144Z"
      },
      {
        "duration": 282,
        "start_time": "2023-06-12T20:30:46.289Z"
      },
      {
        "duration": 109,
        "start_time": "2023-06-12T20:30:46.572Z"
      },
      {
        "duration": 430,
        "start_time": "2023-06-12T20:31:30.070Z"
      },
      {
        "duration": 350,
        "start_time": "2023-06-12T20:32:12.141Z"
      },
      {
        "duration": 10,
        "start_time": "2023-06-12T20:32:32.909Z"
      },
      {
        "duration": 2,
        "start_time": "2023-06-12T20:32:54.836Z"
      },
      {
        "duration": 675,
        "start_time": "2023-06-12T20:32:54.840Z"
      },
      {
        "duration": 12,
        "start_time": "2023-06-12T20:32:55.517Z"
      },
      {
        "duration": 120,
        "start_time": "2023-06-12T20:32:55.531Z"
      },
      {
        "duration": 19,
        "start_time": "2023-06-12T20:32:55.653Z"
      },
      {
        "duration": 4,
        "start_time": "2023-06-12T20:32:55.674Z"
      },
      {
        "duration": 102,
        "start_time": "2023-06-12T20:32:55.679Z"
      },
      {
        "duration": 16,
        "start_time": "2023-06-12T20:32:55.783Z"
      },
      {
        "duration": 25,
        "start_time": "2023-06-12T20:32:55.801Z"
      },
      {
        "duration": 19,
        "start_time": "2023-06-12T20:32:55.828Z"
      },
      {
        "duration": 101,
        "start_time": "2023-06-12T20:32:55.849Z"
      },
      {
        "duration": 5,
        "start_time": "2023-06-12T20:32:55.951Z"
      },
      {
        "duration": 29,
        "start_time": "2023-06-12T20:32:55.958Z"
      },
      {
        "duration": 121,
        "start_time": "2023-06-12T20:32:55.989Z"
      },
      {
        "duration": 17,
        "start_time": "2023-06-12T20:32:56.115Z"
      },
      {
        "duration": 22,
        "start_time": "2023-06-12T20:32:56.134Z"
      },
      {
        "duration": 109,
        "start_time": "2023-06-12T20:32:56.157Z"
      },
      {
        "duration": 829,
        "start_time": "2023-06-12T20:32:56.267Z"
      },
      {
        "duration": 155,
        "start_time": "2023-06-12T20:32:57.097Z"
      },
      {
        "duration": 284,
        "start_time": "2023-06-12T20:32:57.254Z"
      },
      {
        "duration": 11,
        "start_time": "2023-06-12T20:32:57.539Z"
      },
      {
        "duration": 382,
        "start_time": "2023-06-12T20:32:57.551Z"
      },
      {
        "duration": 0,
        "start_time": "2023-06-12T20:32:57.935Z"
      },
      {
        "duration": 3,
        "start_time": "2023-06-12T20:33:21.859Z"
      },
      {
        "duration": 677,
        "start_time": "2023-06-12T20:33:21.864Z"
      },
      {
        "duration": 11,
        "start_time": "2023-06-12T20:33:22.542Z"
      },
      {
        "duration": 118,
        "start_time": "2023-06-12T20:33:22.555Z"
      },
      {
        "duration": 2,
        "start_time": "2023-06-12T20:33:22.675Z"
      },
      {
        "duration": 9,
        "start_time": "2023-06-12T20:33:22.679Z"
      },
      {
        "duration": 118,
        "start_time": "2023-06-12T20:33:22.690Z"
      },
      {
        "duration": 16,
        "start_time": "2023-06-12T20:33:22.816Z"
      },
      {
        "duration": 18,
        "start_time": "2023-06-12T20:33:22.833Z"
      },
      {
        "duration": 20,
        "start_time": "2023-06-12T20:33:22.853Z"
      },
      {
        "duration": 95,
        "start_time": "2023-06-12T20:33:22.874Z"
      },
      {
        "duration": 3,
        "start_time": "2023-06-12T20:33:22.971Z"
      },
      {
        "duration": 20,
        "start_time": "2023-06-12T20:33:22.975Z"
      },
      {
        "duration": 116,
        "start_time": "2023-06-12T20:33:22.997Z"
      },
      {
        "duration": 18,
        "start_time": "2023-06-12T20:33:23.115Z"
      },
      {
        "duration": 28,
        "start_time": "2023-06-12T20:33:23.134Z"
      },
      {
        "duration": 108,
        "start_time": "2023-06-12T20:33:23.163Z"
      },
      {
        "duration": 649,
        "start_time": "2023-06-12T20:33:23.273Z"
      },
      {
        "duration": 149,
        "start_time": "2023-06-12T20:33:23.924Z"
      },
      {
        "duration": 6,
        "start_time": "2023-06-12T20:33:24.075Z"
      },
      {
        "duration": 21,
        "start_time": "2023-06-12T20:33:24.082Z"
      },
      {
        "duration": 18,
        "start_time": "2023-06-12T20:33:24.104Z"
      },
      {
        "duration": 107,
        "start_time": "2023-06-12T20:33:24.123Z"
      },
      {
        "duration": 3,
        "start_time": "2023-06-12T20:34:02.241Z"
      },
      {
        "duration": 729,
        "start_time": "2023-06-12T20:34:02.246Z"
      },
      {
        "duration": 13,
        "start_time": "2023-06-12T20:34:02.977Z"
      },
      {
        "duration": 130,
        "start_time": "2023-06-12T20:34:02.991Z"
      },
      {
        "duration": 2,
        "start_time": "2023-06-12T20:34:03.122Z"
      },
      {
        "duration": 36,
        "start_time": "2023-06-12T20:34:03.126Z"
      },
      {
        "duration": 122,
        "start_time": "2023-06-12T20:34:03.164Z"
      },
      {
        "duration": 17,
        "start_time": "2023-06-12T20:34:03.288Z"
      },
      {
        "duration": 29,
        "start_time": "2023-06-12T20:34:03.315Z"
      },
      {
        "duration": 45,
        "start_time": "2023-06-12T20:34:03.346Z"
      },
      {
        "duration": 105,
        "start_time": "2023-06-12T20:34:03.393Z"
      },
      {
        "duration": 5,
        "start_time": "2023-06-12T20:34:03.500Z"
      },
      {
        "duration": 29,
        "start_time": "2023-06-12T20:34:03.506Z"
      },
      {
        "duration": 119,
        "start_time": "2023-06-12T20:34:03.537Z"
      },
      {
        "duration": 19,
        "start_time": "2023-06-12T20:34:03.658Z"
      },
      {
        "duration": 25,
        "start_time": "2023-06-12T20:34:03.679Z"
      },
      {
        "duration": 119,
        "start_time": "2023-06-12T20:34:03.706Z"
      },
      {
        "duration": 791,
        "start_time": "2023-06-12T20:34:03.827Z"
      },
      {
        "duration": 176,
        "start_time": "2023-06-12T20:34:04.619Z"
      },
      {
        "duration": 67,
        "start_time": "2023-06-12T20:34:04.797Z"
      },
      {
        "duration": 0,
        "start_time": "2023-06-12T20:34:04.865Z"
      },
      {
        "duration": 0,
        "start_time": "2023-06-12T20:34:04.866Z"
      },
      {
        "duration": 0,
        "start_time": "2023-06-12T20:34:04.867Z"
      },
      {
        "duration": 12,
        "start_time": "2023-06-12T20:34:11.321Z"
      },
      {
        "duration": 94,
        "start_time": "2023-06-12T20:34:21.362Z"
      },
      {
        "duration": 36,
        "start_time": "2023-06-12T20:34:54.096Z"
      },
      {
        "duration": 95,
        "start_time": "2023-06-12T20:34:55.184Z"
      },
      {
        "duration": 6,
        "start_time": "2023-06-12T20:36:19.559Z"
      },
      {
        "duration": 28,
        "start_time": "2023-06-12T20:36:28.329Z"
      },
      {
        "duration": 14,
        "start_time": "2023-06-12T20:37:08.700Z"
      },
      {
        "duration": 11,
        "start_time": "2023-06-12T20:37:38.820Z"
      },
      {
        "duration": 12,
        "start_time": "2023-06-12T20:38:04.926Z"
      },
      {
        "duration": 12,
        "start_time": "2023-06-12T20:38:08.315Z"
      },
      {
        "duration": 4,
        "start_time": "2023-06-12T20:39:16.107Z"
      },
      {
        "duration": 3,
        "start_time": "2023-06-12T20:39:22.778Z"
      },
      {
        "duration": 7,
        "start_time": "2023-06-12T20:39:26.128Z"
      },
      {
        "duration": 3,
        "start_time": "2023-06-12T20:39:33.903Z"
      },
      {
        "duration": 646,
        "start_time": "2023-06-12T20:39:33.907Z"
      },
      {
        "duration": 10,
        "start_time": "2023-06-12T20:39:34.554Z"
      },
      {
        "duration": 157,
        "start_time": "2023-06-12T20:39:34.566Z"
      },
      {
        "duration": 21,
        "start_time": "2023-06-12T20:39:34.725Z"
      },
      {
        "duration": 9,
        "start_time": "2023-06-12T20:39:34.748Z"
      },
      {
        "duration": 106,
        "start_time": "2023-06-12T20:39:34.759Z"
      },
      {
        "duration": 15,
        "start_time": "2023-06-12T20:39:34.867Z"
      },
      {
        "duration": 33,
        "start_time": "2023-06-12T20:39:34.883Z"
      },
      {
        "duration": 22,
        "start_time": "2023-06-12T20:39:34.917Z"
      },
      {
        "duration": 87,
        "start_time": "2023-06-12T20:39:34.940Z"
      },
      {
        "duration": 4,
        "start_time": "2023-06-12T20:39:35.029Z"
      },
      {
        "duration": 34,
        "start_time": "2023-06-12T20:39:35.034Z"
      },
      {
        "duration": 129,
        "start_time": "2023-06-12T20:39:35.070Z"
      },
      {
        "duration": 18,
        "start_time": "2023-06-12T20:39:35.201Z"
      },
      {
        "duration": 31,
        "start_time": "2023-06-12T20:39:35.220Z"
      },
      {
        "duration": 129,
        "start_time": "2023-06-12T20:39:35.253Z"
      },
      {
        "duration": 657,
        "start_time": "2023-06-12T20:39:35.384Z"
      },
      {
        "duration": 150,
        "start_time": "2023-06-12T20:39:36.043Z"
      },
      {
        "duration": 49,
        "start_time": "2023-06-12T20:39:36.194Z"
      },
      {
        "duration": 23,
        "start_time": "2023-06-12T20:39:36.244Z"
      },
      {
        "duration": 59,
        "start_time": "2023-06-12T20:39:36.268Z"
      },
      {
        "duration": 21,
        "start_time": "2023-06-12T20:39:36.328Z"
      },
      {
        "duration": 18,
        "start_time": "2023-06-12T20:39:36.351Z"
      },
      {
        "duration": 23,
        "start_time": "2023-06-12T20:40:21.224Z"
      },
      {
        "duration": 29,
        "start_time": "2023-06-12T20:40:43.815Z"
      },
      {
        "duration": 7,
        "start_time": "2023-06-12T20:43:31.028Z"
      },
      {
        "duration": 20,
        "start_time": "2023-06-12T20:43:33.795Z"
      },
      {
        "duration": 3,
        "start_time": "2023-06-12T20:43:39.242Z"
      },
      {
        "duration": 674,
        "start_time": "2023-06-12T20:43:39.246Z"
      },
      {
        "duration": 11,
        "start_time": "2023-06-12T20:43:39.922Z"
      },
      {
        "duration": 113,
        "start_time": "2023-06-12T20:43:39.934Z"
      },
      {
        "duration": 2,
        "start_time": "2023-06-12T20:43:40.049Z"
      },
      {
        "duration": 20,
        "start_time": "2023-06-12T20:43:40.052Z"
      },
      {
        "duration": 159,
        "start_time": "2023-06-12T20:43:40.073Z"
      },
      {
        "duration": 18,
        "start_time": "2023-06-12T20:43:40.234Z"
      },
      {
        "duration": 20,
        "start_time": "2023-06-12T20:43:40.253Z"
      },
      {
        "duration": 27,
        "start_time": "2023-06-12T20:43:40.275Z"
      },
      {
        "duration": 94,
        "start_time": "2023-06-12T20:43:40.304Z"
      },
      {
        "duration": 15,
        "start_time": "2023-06-12T20:43:40.400Z"
      },
      {
        "duration": 24,
        "start_time": "2023-06-12T20:43:40.417Z"
      },
      {
        "duration": 126,
        "start_time": "2023-06-12T20:43:40.442Z"
      },
      {
        "duration": 17,
        "start_time": "2023-06-12T20:43:40.570Z"
      },
      {
        "duration": 29,
        "start_time": "2023-06-12T20:43:40.589Z"
      },
      {
        "duration": 108,
        "start_time": "2023-06-12T20:43:40.619Z"
      },
      {
        "duration": 664,
        "start_time": "2023-06-12T20:43:40.728Z"
      },
      {
        "duration": 267,
        "start_time": "2023-06-12T20:43:41.393Z"
      },
      {
        "duration": 37,
        "start_time": "2023-06-12T20:43:41.661Z"
      },
      {
        "duration": 29,
        "start_time": "2023-06-12T20:43:41.700Z"
      },
      {
        "duration": 47,
        "start_time": "2023-06-12T20:43:41.730Z"
      },
      {
        "duration": 51,
        "start_time": "2023-06-12T20:43:41.779Z"
      },
      {
        "duration": 24,
        "start_time": "2023-06-12T20:43:41.831Z"
      },
      {
        "duration": 23,
        "start_time": "2023-06-12T20:43:41.857Z"
      },
      {
        "duration": 3,
        "start_time": "2023-06-12T20:43:55.958Z"
      },
      {
        "duration": 686,
        "start_time": "2023-06-12T20:43:55.962Z"
      },
      {
        "duration": 12,
        "start_time": "2023-06-12T20:43:56.649Z"
      },
      {
        "duration": 114,
        "start_time": "2023-06-12T20:43:56.662Z"
      },
      {
        "duration": 3,
        "start_time": "2023-06-12T20:43:56.778Z"
      },
      {
        "duration": 35,
        "start_time": "2023-06-12T20:43:56.782Z"
      },
      {
        "duration": 124,
        "start_time": "2023-06-12T20:43:56.818Z"
      },
      {
        "duration": 18,
        "start_time": "2023-06-12T20:43:56.943Z"
      },
      {
        "duration": 26,
        "start_time": "2023-06-12T20:43:56.962Z"
      },
      {
        "duration": 28,
        "start_time": "2023-06-12T20:43:56.990Z"
      },
      {
        "duration": 96,
        "start_time": "2023-06-12T20:43:57.020Z"
      },
      {
        "duration": 5,
        "start_time": "2023-06-12T20:43:57.118Z"
      },
      {
        "duration": 30,
        "start_time": "2023-06-12T20:43:57.126Z"
      },
      {
        "duration": 117,
        "start_time": "2023-06-12T20:43:57.158Z"
      },
      {
        "duration": 18,
        "start_time": "2023-06-12T20:43:57.277Z"
      },
      {
        "duration": 34,
        "start_time": "2023-06-12T20:43:57.297Z"
      },
      {
        "duration": 104,
        "start_time": "2023-06-12T20:43:57.333Z"
      },
      {
        "duration": 720,
        "start_time": "2023-06-12T20:43:57.439Z"
      },
      {
        "duration": 164,
        "start_time": "2023-06-12T20:43:58.160Z"
      },
      {
        "duration": 39,
        "start_time": "2023-06-12T20:43:58.325Z"
      },
      {
        "duration": 21,
        "start_time": "2023-06-12T20:43:58.365Z"
      },
      {
        "duration": 75,
        "start_time": "2023-06-12T20:43:58.387Z"
      },
      {
        "duration": 40,
        "start_time": "2023-06-12T20:43:58.463Z"
      },
      {
        "duration": 113,
        "start_time": "2023-06-12T20:43:58.504Z"
      },
      {
        "duration": 5,
        "start_time": "2023-06-12T20:45:24.920Z"
      },
      {
        "duration": 34,
        "start_time": "2023-06-12T20:45:48.197Z"
      },
      {
        "duration": 101,
        "start_time": "2023-06-12T20:45:49.207Z"
      },
      {
        "duration": 12,
        "start_time": "2023-06-12T20:49:35.318Z"
      },
      {
        "duration": 9,
        "start_time": "2023-06-12T20:50:39.281Z"
      },
      {
        "duration": 9,
        "start_time": "2023-06-12T20:51:13.131Z"
      },
      {
        "duration": 10,
        "start_time": "2023-06-12T20:51:46.451Z"
      },
      {
        "duration": 3,
        "start_time": "2023-06-12T20:52:05.198Z"
      },
      {
        "duration": 765,
        "start_time": "2023-06-12T20:52:05.202Z"
      },
      {
        "duration": 13,
        "start_time": "2023-06-12T20:52:05.968Z"
      },
      {
        "duration": 179,
        "start_time": "2023-06-12T20:52:05.982Z"
      },
      {
        "duration": 31,
        "start_time": "2023-06-12T20:52:06.163Z"
      },
      {
        "duration": 34,
        "start_time": "2023-06-12T20:52:06.197Z"
      },
      {
        "duration": 143,
        "start_time": "2023-06-12T20:52:06.232Z"
      },
      {
        "duration": 17,
        "start_time": "2023-06-12T20:52:06.377Z"
      },
      {
        "duration": 47,
        "start_time": "2023-06-12T20:52:06.396Z"
      },
      {
        "duration": 34,
        "start_time": "2023-06-12T20:52:06.444Z"
      },
      {
        "duration": 104,
        "start_time": "2023-06-12T20:52:06.481Z"
      },
      {
        "duration": 4,
        "start_time": "2023-06-12T20:52:06.587Z"
      },
      {
        "duration": 41,
        "start_time": "2023-06-12T20:52:06.592Z"
      },
      {
        "duration": 124,
        "start_time": "2023-06-12T20:52:06.634Z"
      },
      {
        "duration": 19,
        "start_time": "2023-06-12T20:52:06.760Z"
      },
      {
        "duration": 26,
        "start_time": "2023-06-12T20:52:06.781Z"
      },
      {
        "duration": 120,
        "start_time": "2023-06-12T20:52:06.809Z"
      },
      {
        "duration": 665,
        "start_time": "2023-06-12T20:52:06.930Z"
      },
      {
        "duration": 177,
        "start_time": "2023-06-12T20:52:07.596Z"
      },
      {
        "duration": 31,
        "start_time": "2023-06-12T20:52:07.774Z"
      },
      {
        "duration": 24,
        "start_time": "2023-06-12T20:52:07.815Z"
      },
      {
        "duration": 27,
        "start_time": "2023-06-12T20:52:07.840Z"
      },
      {
        "duration": 0,
        "start_time": "2023-06-12T20:52:07.869Z"
      },
      {
        "duration": 0,
        "start_time": "2023-06-12T20:52:07.870Z"
      },
      {
        "duration": 0,
        "start_time": "2023-06-12T20:52:07.871Z"
      },
      {
        "duration": 0,
        "start_time": "2023-06-12T20:52:07.872Z"
      },
      {
        "duration": 10,
        "start_time": "2023-06-12T20:52:25.906Z"
      },
      {
        "duration": 9,
        "start_time": "2023-06-12T20:52:56.314Z"
      },
      {
        "duration": 9,
        "start_time": "2023-06-12T20:53:27.159Z"
      },
      {
        "duration": 3,
        "start_time": "2023-06-12T20:53:38.342Z"
      },
      {
        "duration": 20,
        "start_time": "2023-06-12T20:53:41.905Z"
      },
      {
        "duration": 14,
        "start_time": "2023-06-12T20:54:28.196Z"
      },
      {
        "duration": 11,
        "start_time": "2023-06-12T20:54:51.141Z"
      },
      {
        "duration": 2,
        "start_time": "2023-06-12T20:55:43.633Z"
      },
      {
        "duration": 675,
        "start_time": "2023-06-12T20:55:43.637Z"
      },
      {
        "duration": 11,
        "start_time": "2023-06-12T20:55:44.315Z"
      },
      {
        "duration": 115,
        "start_time": "2023-06-12T20:55:44.327Z"
      },
      {
        "duration": 2,
        "start_time": "2023-06-12T20:55:44.444Z"
      },
      {
        "duration": 9,
        "start_time": "2023-06-12T20:55:44.448Z"
      },
      {
        "duration": 219,
        "start_time": "2023-06-12T20:55:44.458Z"
      },
      {
        "duration": 17,
        "start_time": "2023-06-12T20:55:44.679Z"
      },
      {
        "duration": 29,
        "start_time": "2023-06-12T20:55:44.697Z"
      },
      {
        "duration": 20,
        "start_time": "2023-06-12T20:55:44.727Z"
      },
      {
        "duration": 94,
        "start_time": "2023-06-12T20:55:44.749Z"
      },
      {
        "duration": 3,
        "start_time": "2023-06-12T20:55:44.845Z"
      },
      {
        "duration": 17,
        "start_time": "2023-06-12T20:55:44.851Z"
      },
      {
        "duration": 128,
        "start_time": "2023-06-12T20:55:44.870Z"
      },
      {
        "duration": 26,
        "start_time": "2023-06-12T20:55:44.999Z"
      },
      {
        "duration": 63,
        "start_time": "2023-06-12T20:55:45.026Z"
      },
      {
        "duration": 147,
        "start_time": "2023-06-12T20:55:45.091Z"
      },
      {
        "duration": 727,
        "start_time": "2023-06-12T20:55:45.241Z"
      },
      {
        "duration": 160,
        "start_time": "2023-06-12T20:55:45.970Z"
      },
      {
        "duration": 37,
        "start_time": "2023-06-12T20:55:46.132Z"
      },
      {
        "duration": 19,
        "start_time": "2023-06-12T20:55:46.170Z"
      },
      {
        "duration": 27,
        "start_time": "2023-06-12T20:55:46.191Z"
      },
      {
        "duration": 0,
        "start_time": "2023-06-12T20:55:46.219Z"
      },
      {
        "duration": 0,
        "start_time": "2023-06-12T20:55:46.220Z"
      },
      {
        "duration": 0,
        "start_time": "2023-06-12T20:55:46.221Z"
      },
      {
        "duration": 0,
        "start_time": "2023-06-12T20:55:46.222Z"
      },
      {
        "duration": 0,
        "start_time": "2023-06-12T20:55:46.223Z"
      },
      {
        "duration": 9,
        "start_time": "2023-06-12T20:55:56.603Z"
      },
      {
        "duration": 10,
        "start_time": "2023-06-12T20:56:13.151Z"
      },
      {
        "duration": 52,
        "start_time": "2023-06-12T20:57:05.201Z"
      },
      {
        "duration": 44,
        "start_time": "2023-06-12T20:57:54.376Z"
      },
      {
        "duration": 6,
        "start_time": "2023-06-12T20:57:55.008Z"
      },
      {
        "duration": 24,
        "start_time": "2023-06-12T20:57:55.711Z"
      },
      {
        "duration": 69,
        "start_time": "2023-06-12T20:57:56.265Z"
      },
      {
        "duration": 9,
        "start_time": "2023-06-12T20:58:38.542Z"
      },
      {
        "duration": 8,
        "start_time": "2023-06-12T20:58:43.505Z"
      },
      {
        "duration": 637,
        "start_time": "2023-06-12T20:59:15.911Z"
      },
      {
        "duration": 9,
        "start_time": "2023-06-12T20:59:22.542Z"
      },
      {
        "duration": 3,
        "start_time": "2023-06-12T20:59:59.952Z"
      },
      {
        "duration": 686,
        "start_time": "2023-06-12T20:59:59.957Z"
      },
      {
        "duration": 12,
        "start_time": "2023-06-12T21:00:00.645Z"
      },
      {
        "duration": 180,
        "start_time": "2023-06-12T21:00:00.658Z"
      },
      {
        "duration": 230,
        "start_time": "2023-06-12T21:00:00.841Z"
      },
      {
        "duration": 210,
        "start_time": "2023-06-12T21:00:01.073Z"
      },
      {
        "duration": 259,
        "start_time": "2023-06-12T21:00:01.284Z"
      },
      {
        "duration": 232,
        "start_time": "2023-06-12T21:00:01.545Z"
      },
      {
        "duration": 170,
        "start_time": "2023-06-12T21:00:01.778Z"
      },
      {
        "duration": 144,
        "start_time": "2023-06-12T21:00:01.950Z"
      },
      {
        "duration": 252,
        "start_time": "2023-06-12T21:00:02.096Z"
      },
      {
        "duration": 75,
        "start_time": "2023-06-12T21:00:02.349Z"
      },
      {
        "duration": 499,
        "start_time": "2023-06-12T21:00:02.425Z"
      },
      {
        "duration": 380,
        "start_time": "2023-06-12T21:00:02.927Z"
      },
      {
        "duration": 141,
        "start_time": "2023-06-12T21:00:03.308Z"
      },
      {
        "duration": 339,
        "start_time": "2023-06-12T21:00:03.451Z"
      },
      {
        "duration": 196,
        "start_time": "2023-06-12T21:00:03.792Z"
      },
      {
        "duration": 712,
        "start_time": "2023-06-12T21:00:03.990Z"
      },
      {
        "duration": 152,
        "start_time": "2023-06-12T21:00:04.703Z"
      },
      {
        "duration": 151,
        "start_time": "2023-06-12T21:00:04.857Z"
      },
      {
        "duration": 61,
        "start_time": "2023-06-12T21:00:05.010Z"
      },
      {
        "duration": 69,
        "start_time": "2023-06-12T21:00:05.073Z"
      },
      {
        "duration": 8,
        "start_time": "2023-06-12T21:00:05.144Z"
      },
      {
        "duration": 72,
        "start_time": "2023-06-12T21:00:05.153Z"
      },
      {
        "duration": 25,
        "start_time": "2023-06-12T21:00:05.227Z"
      },
      {
        "duration": 74,
        "start_time": "2023-06-12T21:00:05.254Z"
      },
      {
        "duration": 93,
        "start_time": "2023-06-12T21:00:05.331Z"
      },
      {
        "duration": 629,
        "start_time": "2023-06-12T21:00:22.876Z"
      },
      {
        "duration": 38,
        "start_time": "2023-06-12T21:01:31.944Z"
      },
      {
        "duration": 9,
        "start_time": "2023-06-12T21:02:24.232Z"
      },
      {
        "duration": 11,
        "start_time": "2023-06-12T21:02:55.471Z"
      },
      {
        "duration": 40,
        "start_time": "2023-06-12T21:03:01.104Z"
      },
      {
        "duration": 2,
        "start_time": "2023-06-12T21:06:55.911Z"
      },
      {
        "duration": 679,
        "start_time": "2023-06-12T21:06:55.915Z"
      },
      {
        "duration": 12,
        "start_time": "2023-06-12T21:06:56.595Z"
      },
      {
        "duration": 108,
        "start_time": "2023-06-12T21:06:56.615Z"
      },
      {
        "duration": 2,
        "start_time": "2023-06-12T21:06:56.726Z"
      },
      {
        "duration": 7,
        "start_time": "2023-06-12T21:06:56.729Z"
      },
      {
        "duration": 140,
        "start_time": "2023-06-12T21:06:56.737Z"
      },
      {
        "duration": 18,
        "start_time": "2023-06-12T21:06:56.879Z"
      },
      {
        "duration": 30,
        "start_time": "2023-06-12T21:06:56.898Z"
      },
      {
        "duration": 30,
        "start_time": "2023-06-12T21:06:56.930Z"
      },
      {
        "duration": 126,
        "start_time": "2023-06-12T21:06:56.962Z"
      },
      {
        "duration": 3,
        "start_time": "2023-06-12T21:06:57.090Z"
      },
      {
        "duration": 56,
        "start_time": "2023-06-12T21:06:57.095Z"
      },
      {
        "duration": 129,
        "start_time": "2023-06-12T21:06:57.154Z"
      },
      {
        "duration": 18,
        "start_time": "2023-06-12T21:06:57.284Z"
      },
      {
        "duration": 21,
        "start_time": "2023-06-12T21:06:57.303Z"
      },
      {
        "duration": 107,
        "start_time": "2023-06-12T21:06:57.326Z"
      },
      {
        "duration": 815,
        "start_time": "2023-06-12T21:06:57.434Z"
      },
      {
        "duration": 166,
        "start_time": "2023-06-12T21:06:58.250Z"
      },
      {
        "duration": 40,
        "start_time": "2023-06-12T21:06:58.417Z"
      },
      {
        "duration": 19,
        "start_time": "2023-06-12T21:06:58.458Z"
      },
      {
        "duration": 66,
        "start_time": "2023-06-12T21:06:58.479Z"
      },
      {
        "duration": 8,
        "start_time": "2023-06-12T21:06:58.547Z"
      },
      {
        "duration": 44,
        "start_time": "2023-06-12T21:06:58.556Z"
      },
      {
        "duration": 16,
        "start_time": "2023-06-12T21:06:58.601Z"
      },
      {
        "duration": 24,
        "start_time": "2023-06-12T21:06:58.618Z"
      },
      {
        "duration": 91,
        "start_time": "2023-06-12T21:06:58.643Z"
      },
      {
        "duration": 116,
        "start_time": "2023-06-12T21:06:58.736Z"
      },
      {
        "duration": 0,
        "start_time": "2023-06-12T21:06:58.853Z"
      },
      {
        "duration": 660,
        "start_time": "2023-06-12T21:07:40.527Z"
      },
      {
        "duration": 132,
        "start_time": "2023-06-12T21:07:41.934Z"
      },
      {
        "duration": 653,
        "start_time": "2023-06-12T21:08:11.014Z"
      },
      {
        "duration": 143,
        "start_time": "2023-06-12T21:08:21.933Z"
      },
      {
        "duration": 3,
        "start_time": "2023-06-12T21:08:47.828Z"
      },
      {
        "duration": 705,
        "start_time": "2023-06-12T21:08:47.833Z"
      },
      {
        "duration": 12,
        "start_time": "2023-06-12T21:08:48.540Z"
      },
      {
        "duration": 115,
        "start_time": "2023-06-12T21:08:48.554Z"
      },
      {
        "duration": 2,
        "start_time": "2023-06-12T21:08:48.671Z"
      },
      {
        "duration": 6,
        "start_time": "2023-06-12T21:08:48.674Z"
      },
      {
        "duration": 125,
        "start_time": "2023-06-12T21:08:48.681Z"
      },
      {
        "duration": 19,
        "start_time": "2023-06-12T21:08:48.807Z"
      },
      {
        "duration": 18,
        "start_time": "2023-06-12T21:08:48.828Z"
      },
      {
        "duration": 22,
        "start_time": "2023-06-12T21:08:48.849Z"
      },
      {
        "duration": 106,
        "start_time": "2023-06-12T21:08:48.872Z"
      },
      {
        "duration": 2,
        "start_time": "2023-06-12T21:08:48.980Z"
      },
      {
        "duration": 33,
        "start_time": "2023-06-12T21:08:48.983Z"
      },
      {
        "duration": 122,
        "start_time": "2023-06-12T21:08:49.017Z"
      },
      {
        "duration": 18,
        "start_time": "2023-06-12T21:08:49.140Z"
      },
      {
        "duration": 20,
        "start_time": "2023-06-12T21:08:49.160Z"
      },
      {
        "duration": 117,
        "start_time": "2023-06-12T21:08:49.181Z"
      },
      {
        "duration": 704,
        "start_time": "2023-06-12T21:08:49.299Z"
      },
      {
        "duration": 158,
        "start_time": "2023-06-12T21:08:50.004Z"
      },
      {
        "duration": 31,
        "start_time": "2023-06-12T21:08:50.163Z"
      },
      {
        "duration": 33,
        "start_time": "2023-06-12T21:08:50.196Z"
      },
      {
        "duration": 51,
        "start_time": "2023-06-12T21:08:50.231Z"
      },
      {
        "duration": 8,
        "start_time": "2023-06-12T21:08:50.283Z"
      },
      {
        "duration": 65,
        "start_time": "2023-06-12T21:08:50.293Z"
      },
      {
        "duration": 6,
        "start_time": "2023-06-12T21:08:50.360Z"
      },
      {
        "duration": 33,
        "start_time": "2023-06-12T21:08:50.367Z"
      },
      {
        "duration": 75,
        "start_time": "2023-06-12T21:08:50.401Z"
      },
      {
        "duration": 76,
        "start_time": "2023-06-12T21:08:50.479Z"
      },
      {
        "duration": 0,
        "start_time": "2023-06-12T21:08:50.557Z"
      },
      {
        "duration": 1406,
        "start_time": "2023-06-13T19:11:51.586Z"
      },
      {
        "duration": 1034,
        "start_time": "2023-06-13T19:11:52.995Z"
      },
      {
        "duration": 16,
        "start_time": "2023-06-13T19:11:54.030Z"
      },
      {
        "duration": 116,
        "start_time": "2023-06-13T19:11:54.047Z"
      },
      {
        "duration": 3,
        "start_time": "2023-06-13T19:11:54.165Z"
      },
      {
        "duration": 6,
        "start_time": "2023-06-13T19:11:54.169Z"
      },
      {
        "duration": 136,
        "start_time": "2023-06-13T19:11:54.176Z"
      },
      {
        "duration": 20,
        "start_time": "2023-06-13T19:11:54.321Z"
      },
      {
        "duration": 23,
        "start_time": "2023-06-13T19:11:54.343Z"
      },
      {
        "duration": 28,
        "start_time": "2023-06-13T19:11:54.367Z"
      },
      {
        "duration": 111,
        "start_time": "2023-06-13T19:11:54.396Z"
      },
      {
        "duration": 26,
        "start_time": "2023-06-13T19:11:54.508Z"
      },
      {
        "duration": 135,
        "start_time": "2023-06-13T19:11:54.536Z"
      },
      {
        "duration": 19,
        "start_time": "2023-06-13T19:11:54.673Z"
      },
      {
        "duration": 53,
        "start_time": "2023-06-13T19:11:54.693Z"
      },
      {
        "duration": 140,
        "start_time": "2023-06-13T19:11:54.747Z"
      },
      {
        "duration": 775,
        "start_time": "2023-06-13T19:11:54.889Z"
      },
      {
        "duration": 164,
        "start_time": "2023-06-13T19:11:55.665Z"
      },
      {
        "duration": 44,
        "start_time": "2023-06-13T19:11:55.831Z"
      },
      {
        "duration": 20,
        "start_time": "2023-06-13T19:11:55.877Z"
      },
      {
        "duration": 67,
        "start_time": "2023-06-13T19:11:55.899Z"
      },
      {
        "duration": 7,
        "start_time": "2023-06-13T19:11:55.968Z"
      },
      {
        "duration": 57,
        "start_time": "2023-06-13T19:11:55.977Z"
      },
      {
        "duration": 5,
        "start_time": "2023-06-13T19:11:56.036Z"
      },
      {
        "duration": 41,
        "start_time": "2023-06-13T19:11:56.043Z"
      },
      {
        "duration": 82,
        "start_time": "2023-06-13T19:11:56.085Z"
      },
      {
        "duration": 56,
        "start_time": "2023-06-13T19:11:56.169Z"
      },
      {
        "duration": 73,
        "start_time": "2023-06-13T19:12:43.848Z"
      },
      {
        "duration": 598,
        "start_time": "2023-06-13T19:12:49.308Z"
      },
      {
        "duration": 103,
        "start_time": "2023-06-13T19:13:42.790Z"
      },
      {
        "duration": 152,
        "start_time": "2023-06-13T19:13:47.303Z"
      },
      {
        "duration": 180,
        "start_time": "2023-06-13T19:13:52.408Z"
      },
      {
        "duration": 157,
        "start_time": "2023-06-13T19:13:57.003Z"
      },
      {
        "duration": 162,
        "start_time": "2023-06-13T19:14:24.080Z"
      },
      {
        "duration": 692,
        "start_time": "2023-06-13T19:14:50.199Z"
      },
      {
        "duration": 325,
        "start_time": "2023-06-13T19:14:54.278Z"
      },
      {
        "duration": 454,
        "start_time": "2023-06-13T19:15:37.619Z"
      },
      {
        "duration": 3,
        "start_time": "2023-06-13T19:15:46.314Z"
      },
      {
        "duration": 754,
        "start_time": "2023-06-13T19:15:46.319Z"
      },
      {
        "duration": 403,
        "start_time": "2023-06-13T19:15:47.075Z"
      },
      {
        "duration": 407,
        "start_time": "2023-06-13T19:15:47.479Z"
      },
      {
        "duration": 11,
        "start_time": "2023-06-13T19:15:47.888Z"
      },
      {
        "duration": 127,
        "start_time": "2023-06-13T19:15:47.901Z"
      },
      {
        "duration": 2,
        "start_time": "2023-06-13T19:15:48.034Z"
      },
      {
        "duration": 14,
        "start_time": "2023-06-13T19:15:48.038Z"
      },
      {
        "duration": 134,
        "start_time": "2023-06-13T19:15:48.054Z"
      },
      {
        "duration": 26,
        "start_time": "2023-06-13T19:15:48.190Z"
      },
      {
        "duration": 27,
        "start_time": "2023-06-13T19:15:48.220Z"
      },
      {
        "duration": 26,
        "start_time": "2023-06-13T19:15:48.249Z"
      },
      {
        "duration": 106,
        "start_time": "2023-06-13T19:15:48.277Z"
      },
      {
        "duration": 15,
        "start_time": "2023-06-13T19:15:48.385Z"
      },
      {
        "duration": 144,
        "start_time": "2023-06-13T19:15:48.402Z"
      },
      {
        "duration": 17,
        "start_time": "2023-06-13T19:15:48.547Z"
      },
      {
        "duration": 23,
        "start_time": "2023-06-13T19:15:48.565Z"
      },
      {
        "duration": 111,
        "start_time": "2023-06-13T19:15:48.589Z"
      },
      {
        "duration": 683,
        "start_time": "2023-06-13T19:15:48.701Z"
      },
      {
        "duration": 170,
        "start_time": "2023-06-13T19:15:49.386Z"
      },
      {
        "duration": 37,
        "start_time": "2023-06-13T19:15:49.557Z"
      },
      {
        "duration": 38,
        "start_time": "2023-06-13T19:15:49.596Z"
      },
      {
        "duration": 53,
        "start_time": "2023-06-13T19:15:49.635Z"
      },
      {
        "duration": 7,
        "start_time": "2023-06-13T19:15:49.690Z"
      },
      {
        "duration": 60,
        "start_time": "2023-06-13T19:15:49.698Z"
      },
      {
        "duration": 7,
        "start_time": "2023-06-13T19:15:49.760Z"
      },
      {
        "duration": 25,
        "start_time": "2023-06-13T19:15:49.768Z"
      },
      {
        "duration": 110,
        "start_time": "2023-06-13T19:15:49.794Z"
      },
      {
        "duration": 49,
        "start_time": "2023-06-13T19:15:49.915Z"
      },
      {
        "duration": 8,
        "start_time": "2023-06-13T19:16:36.306Z"
      },
      {
        "duration": 17,
        "start_time": "2023-06-13T19:17:09.980Z"
      },
      {
        "duration": 59,
        "start_time": "2023-06-13T19:20:25.709Z"
      },
      {
        "duration": 3,
        "start_time": "2023-06-13T19:20:39.431Z"
      },
      {
        "duration": 2,
        "start_time": "2023-06-13T19:21:00.218Z"
      },
      {
        "duration": 69,
        "start_time": "2023-06-13T19:21:01.146Z"
      },
      {
        "duration": 11,
        "start_time": "2023-06-13T19:23:37.558Z"
      },
      {
        "duration": 9,
        "start_time": "2023-06-13T19:23:44.319Z"
      },
      {
        "duration": 10,
        "start_time": "2023-06-13T19:23:49.375Z"
      },
      {
        "duration": 58,
        "start_time": "2023-06-13T19:24:12.702Z"
      },
      {
        "duration": 3,
        "start_time": "2023-06-13T19:34:01.051Z"
      },
      {
        "duration": 74,
        "start_time": "2023-06-13T19:34:26.712Z"
      },
      {
        "duration": 717,
        "start_time": "2023-06-13T19:36:35.391Z"
      },
      {
        "duration": 55,
        "start_time": "2023-06-13T19:36:37.951Z"
      },
      {
        "duration": 12,
        "start_time": "2023-06-13T19:36:59.007Z"
      },
      {
        "duration": 48,
        "start_time": "2023-06-13T19:37:11.085Z"
      },
      {
        "duration": 155,
        "start_time": "2023-06-13T19:37:12.583Z"
      },
      {
        "duration": 1720,
        "start_time": "2023-06-13T19:37:57.700Z"
      },
      {
        "duration": 1795,
        "start_time": "2023-06-13T19:38:04.621Z"
      },
      {
        "duration": 1544,
        "start_time": "2023-06-13T19:52:48.996Z"
      },
      {
        "duration": 1695,
        "start_time": "2023-06-13T19:55:22.725Z"
      },
      {
        "duration": 1686,
        "start_time": "2023-06-13T19:55:36.277Z"
      },
      {
        "duration": 1646,
        "start_time": "2023-06-13T19:56:17.280Z"
      },
      {
        "duration": 26,
        "start_time": "2023-06-13T19:58:13.097Z"
      },
      {
        "duration": 14,
        "start_time": "2023-06-13T19:59:10.793Z"
      },
      {
        "duration": 3,
        "start_time": "2023-06-13T19:59:36.620Z"
      },
      {
        "duration": 690,
        "start_time": "2023-06-13T19:59:36.625Z"
      },
      {
        "duration": 354,
        "start_time": "2023-06-13T19:59:37.317Z"
      },
      {
        "duration": 406,
        "start_time": "2023-06-13T19:59:37.673Z"
      },
      {
        "duration": 13,
        "start_time": "2023-06-13T19:59:38.082Z"
      },
      {
        "duration": 211,
        "start_time": "2023-06-13T19:59:38.097Z"
      },
      {
        "duration": 6,
        "start_time": "2023-06-13T19:59:38.310Z"
      },
      {
        "duration": 5,
        "start_time": "2023-06-13T19:59:38.317Z"
      },
      {
        "duration": 126,
        "start_time": "2023-06-13T19:59:38.324Z"
      },
      {
        "duration": 17,
        "start_time": "2023-06-13T19:59:38.452Z"
      },
      {
        "duration": 19,
        "start_time": "2023-06-13T19:59:38.471Z"
      },
      {
        "duration": 36,
        "start_time": "2023-06-13T19:59:38.491Z"
      },
      {
        "duration": 99,
        "start_time": "2023-06-13T19:59:38.530Z"
      },
      {
        "duration": 18,
        "start_time": "2023-06-13T19:59:38.631Z"
      },
      {
        "duration": 129,
        "start_time": "2023-06-13T19:59:38.651Z"
      },
      {
        "duration": 18,
        "start_time": "2023-06-13T19:59:38.782Z"
      },
      {
        "duration": 30,
        "start_time": "2023-06-13T19:59:38.802Z"
      },
      {
        "duration": 124,
        "start_time": "2023-06-13T19:59:38.833Z"
      },
      {
        "duration": 726,
        "start_time": "2023-06-13T19:59:38.958Z"
      },
      {
        "duration": 167,
        "start_time": "2023-06-13T19:59:39.686Z"
      },
      {
        "duration": 35,
        "start_time": "2023-06-13T19:59:39.855Z"
      },
      {
        "duration": 40,
        "start_time": "2023-06-13T19:59:39.892Z"
      },
      {
        "duration": 53,
        "start_time": "2023-06-13T19:59:39.934Z"
      },
      {
        "duration": 26,
        "start_time": "2023-06-13T19:59:39.989Z"
      },
      {
        "duration": 39,
        "start_time": "2023-06-13T19:59:40.017Z"
      },
      {
        "duration": 7,
        "start_time": "2023-06-13T19:59:40.058Z"
      },
      {
        "duration": 37,
        "start_time": "2023-06-13T19:59:40.066Z"
      },
      {
        "duration": 24,
        "start_time": "2023-06-13T19:59:40.117Z"
      },
      {
        "duration": 76,
        "start_time": "2023-06-13T19:59:40.143Z"
      },
      {
        "duration": 40,
        "start_time": "2023-06-13T19:59:40.220Z"
      },
      {
        "duration": 74,
        "start_time": "2023-06-13T19:59:40.262Z"
      },
      {
        "duration": 780,
        "start_time": "2023-06-13T19:59:40.338Z"
      },
      {
        "duration": 12,
        "start_time": "2023-06-13T19:59:41.120Z"
      },
      {
        "duration": 59,
        "start_time": "2023-06-13T19:59:41.133Z"
      },
      {
        "duration": 45,
        "start_time": "2023-06-13T20:00:00.037Z"
      },
      {
        "duration": 49,
        "start_time": "2023-06-13T20:00:46.624Z"
      },
      {
        "duration": 1299,
        "start_time": "2023-06-13T20:00:56.531Z"
      },
      {
        "duration": 987,
        "start_time": "2023-06-13T20:00:57.832Z"
      },
      {
        "duration": 394,
        "start_time": "2023-06-13T20:00:58.821Z"
      },
      {
        "duration": 460,
        "start_time": "2023-06-13T20:00:59.217Z"
      },
      {
        "duration": 13,
        "start_time": "2023-06-13T20:00:59.679Z"
      },
      {
        "duration": 126,
        "start_time": "2023-06-13T20:00:59.694Z"
      },
      {
        "duration": 2,
        "start_time": "2023-06-13T20:00:59.822Z"
      },
      {
        "duration": 9,
        "start_time": "2023-06-13T20:00:59.826Z"
      },
      {
        "duration": 144,
        "start_time": "2023-06-13T20:00:59.836Z"
      },
      {
        "duration": 17,
        "start_time": "2023-06-13T20:00:59.982Z"
      },
      {
        "duration": 33,
        "start_time": "2023-06-13T20:01:00.001Z"
      },
      {
        "duration": 87,
        "start_time": "2023-06-13T20:01:00.036Z"
      },
      {
        "duration": 105,
        "start_time": "2023-06-13T20:01:00.125Z"
      },
      {
        "duration": 17,
        "start_time": "2023-06-13T20:01:00.233Z"
      },
      {
        "duration": 146,
        "start_time": "2023-06-13T20:01:00.251Z"
      },
      {
        "duration": 19,
        "start_time": "2023-06-13T20:01:00.399Z"
      },
      {
        "duration": 37,
        "start_time": "2023-06-13T20:01:00.420Z"
      },
      {
        "duration": 143,
        "start_time": "2023-06-13T20:01:00.459Z"
      },
      {
        "duration": 751,
        "start_time": "2023-06-13T20:01:00.604Z"
      },
      {
        "duration": 221,
        "start_time": "2023-06-13T20:01:01.357Z"
      },
      {
        "duration": 160,
        "start_time": "2023-06-13T20:01:01.579Z"
      },
      {
        "duration": 431,
        "start_time": "2023-06-13T20:01:01.740Z"
      },
      {
        "duration": 565,
        "start_time": "2023-06-13T20:01:02.173Z"
      },
      {
        "duration": 7,
        "start_time": "2023-06-13T20:01:02.740Z"
      },
      {
        "duration": 59,
        "start_time": "2023-06-13T20:01:02.749Z"
      },
      {
        "duration": 5,
        "start_time": "2023-06-13T20:01:02.810Z"
      },
      {
        "duration": 37,
        "start_time": "2023-06-13T20:01:02.816Z"
      },
      {
        "duration": 50,
        "start_time": "2023-06-13T20:01:02.855Z"
      },
      {
        "duration": 88,
        "start_time": "2023-06-13T20:01:02.906Z"
      },
      {
        "duration": 40,
        "start_time": "2023-06-13T20:01:02.996Z"
      },
      {
        "duration": 813,
        "start_time": "2023-06-13T20:01:03.038Z"
      },
      {
        "duration": 14,
        "start_time": "2023-06-13T20:01:03.853Z"
      },
      {
        "duration": 66,
        "start_time": "2023-06-13T20:01:03.869Z"
      },
      {
        "duration": 86,
        "start_time": "2023-06-13T20:01:03.937Z"
      },
      {
        "duration": 46,
        "start_time": "2023-06-13T20:01:41.643Z"
      },
      {
        "duration": 1429,
        "start_time": "2023-06-13T20:02:03.341Z"
      },
      {
        "duration": 1085,
        "start_time": "2023-06-13T20:02:04.772Z"
      },
      {
        "duration": 443,
        "start_time": "2023-06-13T20:02:05.858Z"
      },
      {
        "duration": 479,
        "start_time": "2023-06-13T20:02:06.303Z"
      },
      {
        "duration": 15,
        "start_time": "2023-06-13T20:02:06.784Z"
      },
      {
        "duration": 148,
        "start_time": "2023-06-13T20:02:06.801Z"
      },
      {
        "duration": 3,
        "start_time": "2023-06-13T20:02:06.950Z"
      },
      {
        "duration": 10,
        "start_time": "2023-06-13T20:02:06.954Z"
      },
      {
        "duration": 128,
        "start_time": "2023-06-13T20:02:06.965Z"
      },
      {
        "duration": 24,
        "start_time": "2023-06-13T20:02:07.095Z"
      },
      {
        "duration": 18,
        "start_time": "2023-06-13T20:02:07.120Z"
      },
      {
        "duration": 21,
        "start_time": "2023-06-13T20:02:07.139Z"
      },
      {
        "duration": 108,
        "start_time": "2023-06-13T20:02:07.162Z"
      },
      {
        "duration": 16,
        "start_time": "2023-06-13T20:02:07.272Z"
      },
      {
        "duration": 120,
        "start_time": "2023-06-13T20:02:07.290Z"
      },
      {
        "duration": 17,
        "start_time": "2023-06-13T20:02:07.415Z"
      },
      {
        "duration": 22,
        "start_time": "2023-06-13T20:02:07.434Z"
      },
      {
        "duration": 113,
        "start_time": "2023-06-13T20:02:07.457Z"
      },
      {
        "duration": 707,
        "start_time": "2023-06-13T20:02:07.572Z"
      },
      {
        "duration": 228,
        "start_time": "2023-06-13T20:02:08.280Z"
      },
      {
        "duration": 39,
        "start_time": "2023-06-13T20:02:08.516Z"
      },
      {
        "duration": 18,
        "start_time": "2023-06-13T20:02:08.557Z"
      },
      {
        "duration": 66,
        "start_time": "2023-06-13T20:02:08.577Z"
      },
      {
        "duration": 8,
        "start_time": "2023-06-13T20:02:08.644Z"
      },
      {
        "duration": 39,
        "start_time": "2023-06-13T20:02:08.653Z"
      },
      {
        "duration": 5,
        "start_time": "2023-06-13T20:02:08.693Z"
      },
      {
        "duration": 25,
        "start_time": "2023-06-13T20:02:08.716Z"
      },
      {
        "duration": 31,
        "start_time": "2023-06-13T20:02:08.744Z"
      },
      {
        "duration": 77,
        "start_time": "2023-06-13T20:02:08.777Z"
      },
      {
        "duration": 38,
        "start_time": "2023-06-13T20:02:08.855Z"
      },
      {
        "duration": 757,
        "start_time": "2023-06-13T20:02:08.895Z"
      },
      {
        "duration": 10,
        "start_time": "2023-06-13T20:02:09.654Z"
      },
      {
        "duration": 53,
        "start_time": "2023-06-13T20:02:09.665Z"
      },
      {
        "duration": 1558,
        "start_time": "2023-06-14T19:50:53.300Z"
      },
      {
        "duration": 3037,
        "start_time": "2023-06-14T19:50:54.860Z"
      },
      {
        "duration": 490,
        "start_time": "2023-06-14T19:50:57.898Z"
      },
      {
        "duration": 540,
        "start_time": "2023-06-14T19:50:58.389Z"
      },
      {
        "duration": 13,
        "start_time": "2023-06-14T19:50:58.931Z"
      },
      {
        "duration": 181,
        "start_time": "2023-06-14T19:50:58.945Z"
      },
      {
        "duration": 3,
        "start_time": "2023-06-14T19:50:59.127Z"
      },
      {
        "duration": 14,
        "start_time": "2023-06-14T19:50:59.132Z"
      },
      {
        "duration": 136,
        "start_time": "2023-06-14T19:50:59.148Z"
      },
      {
        "duration": 19,
        "start_time": "2023-06-14T19:50:59.286Z"
      },
      {
        "duration": 29,
        "start_time": "2023-06-14T19:50:59.306Z"
      },
      {
        "duration": 29,
        "start_time": "2023-06-14T19:50:59.337Z"
      },
      {
        "duration": 101,
        "start_time": "2023-06-14T19:50:59.368Z"
      },
      {
        "duration": 23,
        "start_time": "2023-06-14T19:50:59.476Z"
      },
      {
        "duration": 138,
        "start_time": "2023-06-14T19:50:59.501Z"
      },
      {
        "duration": 36,
        "start_time": "2023-06-14T19:50:59.641Z"
      },
      {
        "duration": 22,
        "start_time": "2023-06-14T19:50:59.685Z"
      },
      {
        "duration": 129,
        "start_time": "2023-06-14T19:50:59.709Z"
      },
      {
        "duration": 882,
        "start_time": "2023-06-14T19:50:59.840Z"
      },
      {
        "duration": 181,
        "start_time": "2023-06-14T19:51:00.724Z"
      },
      {
        "duration": 44,
        "start_time": "2023-06-14T19:51:00.907Z"
      },
      {
        "duration": 35,
        "start_time": "2023-06-14T19:51:00.953Z"
      },
      {
        "duration": 61,
        "start_time": "2023-06-14T19:51:00.990Z"
      },
      {
        "duration": 31,
        "start_time": "2023-06-14T19:51:01.053Z"
      },
      {
        "duration": 44,
        "start_time": "2023-06-14T19:51:01.085Z"
      },
      {
        "duration": 37,
        "start_time": "2023-06-14T19:51:01.131Z"
      },
      {
        "duration": 91,
        "start_time": "2023-06-14T19:51:01.172Z"
      },
      {
        "duration": 56,
        "start_time": "2023-06-14T19:51:01.265Z"
      },
      {
        "duration": 115,
        "start_time": "2023-06-14T19:51:01.323Z"
      },
      {
        "duration": 61,
        "start_time": "2023-06-14T19:51:01.440Z"
      },
      {
        "duration": 956,
        "start_time": "2023-06-14T19:51:01.502Z"
      },
      {
        "duration": 28,
        "start_time": "2023-06-14T19:51:02.460Z"
      },
      {
        "duration": 74,
        "start_time": "2023-06-14T19:51:02.490Z"
      },
      {
        "duration": 1442,
        "start_time": "2023-06-14T19:54:16.143Z"
      },
      {
        "duration": 48,
        "start_time": "2023-06-14T19:56:37.827Z"
      },
      {
        "duration": 2791,
        "start_time": "2023-06-14T19:56:37.878Z"
      },
      {
        "duration": 452,
        "start_time": "2023-06-14T19:56:40.671Z"
      },
      {
        "duration": 1040,
        "start_time": "2023-06-14T19:56:41.125Z"
      },
      {
        "duration": 2374,
        "start_time": "2023-06-14T19:56:42.168Z"
      },
      {
        "duration": 927,
        "start_time": "2023-06-14T19:56:44.544Z"
      },
      {
        "duration": 5,
        "start_time": "2023-06-14T19:56:45.473Z"
      },
      {
        "duration": 11,
        "start_time": "2023-06-14T19:56:45.481Z"
      },
      {
        "duration": 159,
        "start_time": "2023-06-14T19:56:45.495Z"
      },
      {
        "duration": 37,
        "start_time": "2023-06-14T19:56:45.656Z"
      },
      {
        "duration": 41,
        "start_time": "2023-06-14T19:56:45.696Z"
      },
      {
        "duration": 35,
        "start_time": "2023-06-14T19:56:45.739Z"
      },
      {
        "duration": 164,
        "start_time": "2023-06-14T19:56:45.777Z"
      },
      {
        "duration": 35,
        "start_time": "2023-06-14T19:56:45.945Z"
      },
      {
        "duration": 182,
        "start_time": "2023-06-14T19:56:45.982Z"
      },
      {
        "duration": 20,
        "start_time": "2023-06-14T19:56:46.166Z"
      },
      {
        "duration": 27,
        "start_time": "2023-06-14T19:56:46.189Z"
      },
      {
        "duration": 229,
        "start_time": "2023-06-14T19:56:46.218Z"
      },
      {
        "duration": 789,
        "start_time": "2023-06-14T19:56:46.448Z"
      },
      {
        "duration": 260,
        "start_time": "2023-06-14T19:56:47.239Z"
      },
      {
        "duration": 39,
        "start_time": "2023-06-14T19:56:47.501Z"
      },
      {
        "duration": 34,
        "start_time": "2023-06-14T19:56:47.542Z"
      },
      {
        "duration": 52,
        "start_time": "2023-06-14T19:56:47.577Z"
      },
      {
        "duration": 8,
        "start_time": "2023-06-14T19:56:47.630Z"
      },
      {
        "duration": 63,
        "start_time": "2023-06-14T19:56:47.639Z"
      },
      {
        "duration": 5,
        "start_time": "2023-06-14T19:56:47.704Z"
      },
      {
        "duration": 34,
        "start_time": "2023-06-14T19:56:47.711Z"
      },
      {
        "duration": 42,
        "start_time": "2023-06-14T19:56:47.748Z"
      },
      {
        "duration": 79,
        "start_time": "2023-06-14T19:56:47.792Z"
      },
      {
        "duration": 45,
        "start_time": "2023-06-14T19:56:47.873Z"
      },
      {
        "duration": 833,
        "start_time": "2023-06-14T19:56:47.920Z"
      },
      {
        "duration": 15,
        "start_time": "2023-06-14T19:56:48.754Z"
      },
      {
        "duration": 55,
        "start_time": "2023-06-14T19:56:48.771Z"
      },
      {
        "duration": 2,
        "start_time": "2023-06-14T19:56:48.828Z"
      },
      {
        "duration": 50,
        "start_time": "2023-06-14T19:57:26.919Z"
      },
      {
        "duration": 1863,
        "start_time": "2023-06-14T19:59:38.895Z"
      },
      {
        "duration": 4,
        "start_time": "2023-06-14T20:00:07.119Z"
      },
      {
        "duration": 3076,
        "start_time": "2023-06-14T20:00:07.125Z"
      },
      {
        "duration": 503,
        "start_time": "2023-06-14T20:00:10.203Z"
      },
      {
        "duration": 586,
        "start_time": "2023-06-14T20:00:10.708Z"
      },
      {
        "duration": 16,
        "start_time": "2023-06-14T20:00:11.297Z"
      },
      {
        "duration": 139,
        "start_time": "2023-06-14T20:00:11.314Z"
      },
      {
        "duration": 14,
        "start_time": "2023-06-14T20:00:11.455Z"
      },
      {
        "duration": 5,
        "start_time": "2023-06-14T20:00:11.471Z"
      },
      {
        "duration": 136,
        "start_time": "2023-06-14T20:00:11.477Z"
      },
      {
        "duration": 19,
        "start_time": "2023-06-14T20:00:11.615Z"
      },
      {
        "duration": 37,
        "start_time": "2023-06-14T20:00:11.636Z"
      },
      {
        "duration": 31,
        "start_time": "2023-06-14T20:00:11.675Z"
      },
      {
        "duration": 114,
        "start_time": "2023-06-14T20:00:11.707Z"
      },
      {
        "duration": 20,
        "start_time": "2023-06-14T20:00:11.825Z"
      },
      {
        "duration": 137,
        "start_time": "2023-06-14T20:00:11.847Z"
      },
      {
        "duration": 23,
        "start_time": "2023-06-14T20:00:11.986Z"
      },
      {
        "duration": 27,
        "start_time": "2023-06-14T20:00:12.014Z"
      },
      {
        "duration": 148,
        "start_time": "2023-06-14T20:00:12.042Z"
      },
      {
        "duration": 821,
        "start_time": "2023-06-14T20:00:12.192Z"
      },
      {
        "duration": 329,
        "start_time": "2023-06-14T20:00:13.016Z"
      },
      {
        "duration": 62,
        "start_time": "2023-06-14T20:00:13.347Z"
      },
      {
        "duration": 22,
        "start_time": "2023-06-14T20:00:13.411Z"
      },
      {
        "duration": 93,
        "start_time": "2023-06-14T20:00:13.435Z"
      },
      {
        "duration": 9,
        "start_time": "2023-06-14T20:00:13.529Z"
      },
      {
        "duration": 80,
        "start_time": "2023-06-14T20:00:13.539Z"
      },
      {
        "duration": 7,
        "start_time": "2023-06-14T20:00:13.622Z"
      },
      {
        "duration": 38,
        "start_time": "2023-06-14T20:00:13.631Z"
      },
      {
        "duration": 45,
        "start_time": "2023-06-14T20:00:13.671Z"
      },
      {
        "duration": 85,
        "start_time": "2023-06-14T20:00:13.718Z"
      },
      {
        "duration": 57,
        "start_time": "2023-06-14T20:00:13.805Z"
      },
      {
        "duration": 1179,
        "start_time": "2023-06-14T20:00:13.863Z"
      },
      {
        "duration": 13,
        "start_time": "2023-06-14T20:00:15.044Z"
      },
      {
        "duration": 96,
        "start_time": "2023-06-14T20:00:15.059Z"
      },
      {
        "duration": 13,
        "start_time": "2023-06-14T20:00:15.157Z"
      },
      {
        "duration": 4,
        "start_time": "2023-06-14T20:00:15.173Z"
      },
      {
        "duration": 20,
        "start_time": "2023-06-14T20:00:15.179Z"
      },
      {
        "duration": 281,
        "start_time": "2023-06-14T20:01:59.024Z"
      },
      {
        "duration": 10,
        "start_time": "2023-06-14T20:02:15.228Z"
      },
      {
        "duration": 9,
        "start_time": "2023-06-14T20:03:56.047Z"
      },
      {
        "duration": 14,
        "start_time": "2023-06-14T20:04:07.939Z"
      },
      {
        "duration": 10,
        "start_time": "2023-06-14T20:04:27.545Z"
      },
      {
        "duration": 62,
        "start_time": "2023-06-14T20:06:11.507Z"
      },
      {
        "duration": 5,
        "start_time": "2023-06-14T20:06:24.987Z"
      },
      {
        "duration": 225,
        "start_time": "2023-06-14T20:06:36.643Z"
      },
      {
        "duration": 4,
        "start_time": "2023-06-14T20:06:37.419Z"
      },
      {
        "duration": 61,
        "start_time": "2023-06-14T20:06:54.919Z"
      },
      {
        "duration": 4,
        "start_time": "2023-06-14T20:06:55.495Z"
      },
      {
        "duration": 58,
        "start_time": "2023-06-14T20:07:26.934Z"
      },
      {
        "duration": 4,
        "start_time": "2023-06-14T20:07:27.635Z"
      },
      {
        "duration": 10,
        "start_time": "2023-06-14T20:07:31.088Z"
      },
      {
        "duration": 161,
        "start_time": "2023-06-14T20:07:33.925Z"
      },
      {
        "duration": 5,
        "start_time": "2023-06-14T20:07:34.757Z"
      },
      {
        "duration": 236,
        "start_time": "2023-06-14T20:07:56.032Z"
      },
      {
        "duration": 6,
        "start_time": "2023-06-14T20:07:57.237Z"
      },
      {
        "duration": 1672,
        "start_time": "2023-06-14T20:10:21.164Z"
      },
      {
        "duration": 193,
        "start_time": "2023-06-14T20:10:27.927Z"
      },
      {
        "duration": 3,
        "start_time": "2023-06-14T20:10:54.792Z"
      },
      {
        "duration": 19,
        "start_time": "2023-06-14T20:12:13.616Z"
      },
      {
        "duration": 3,
        "start_time": "2023-06-14T20:12:26.447Z"
      },
      {
        "duration": 2901,
        "start_time": "2023-06-14T20:12:26.458Z"
      },
      {
        "duration": 498,
        "start_time": "2023-06-14T20:12:29.362Z"
      },
      {
        "duration": 516,
        "start_time": "2023-06-14T20:12:29.862Z"
      },
      {
        "duration": 15,
        "start_time": "2023-06-14T20:12:30.379Z"
      },
      {
        "duration": 140,
        "start_time": "2023-06-14T20:12:30.396Z"
      },
      {
        "duration": 3,
        "start_time": "2023-06-14T20:12:30.539Z"
      },
      {
        "duration": 35,
        "start_time": "2023-06-14T20:12:30.543Z"
      },
      {
        "duration": 155,
        "start_time": "2023-06-14T20:12:30.580Z"
      },
      {
        "duration": 19,
        "start_time": "2023-06-14T20:12:30.737Z"
      },
      {
        "duration": 44,
        "start_time": "2023-06-14T20:12:30.757Z"
      },
      {
        "duration": 39,
        "start_time": "2023-06-14T20:12:30.802Z"
      },
      {
        "duration": 131,
        "start_time": "2023-06-14T20:12:30.842Z"
      },
      {
        "duration": 19,
        "start_time": "2023-06-14T20:12:30.974Z"
      },
      {
        "duration": 143,
        "start_time": "2023-06-14T20:12:30.996Z"
      },
      {
        "duration": 19,
        "start_time": "2023-06-14T20:12:31.141Z"
      },
      {
        "duration": 61,
        "start_time": "2023-06-14T20:12:31.162Z"
      },
      {
        "duration": 146,
        "start_time": "2023-06-14T20:12:31.225Z"
      },
      {
        "duration": 767,
        "start_time": "2023-06-14T20:12:31.373Z"
      },
      {
        "duration": 361,
        "start_time": "2023-06-14T20:12:32.142Z"
      },
      {
        "duration": 41,
        "start_time": "2023-06-14T20:12:32.505Z"
      },
      {
        "duration": 31,
        "start_time": "2023-06-14T20:12:32.548Z"
      },
      {
        "duration": 53,
        "start_time": "2023-06-14T20:12:32.581Z"
      },
      {
        "duration": 9,
        "start_time": "2023-06-14T20:12:32.635Z"
      },
      {
        "duration": 59,
        "start_time": "2023-06-14T20:12:32.645Z"
      },
      {
        "duration": 5,
        "start_time": "2023-06-14T20:12:32.706Z"
      },
      {
        "duration": 30,
        "start_time": "2023-06-14T20:12:32.713Z"
      },
      {
        "duration": 23,
        "start_time": "2023-06-14T20:12:32.768Z"
      },
      {
        "duration": 93,
        "start_time": "2023-06-14T20:12:32.792Z"
      },
      {
        "duration": 38,
        "start_time": "2023-06-14T20:12:32.887Z"
      },
      {
        "duration": 934,
        "start_time": "2023-06-14T20:12:32.926Z"
      },
      {
        "duration": 16,
        "start_time": "2023-06-14T20:12:33.862Z"
      },
      {
        "duration": 69,
        "start_time": "2023-06-14T20:12:33.880Z"
      },
      {
        "duration": 25,
        "start_time": "2023-06-14T20:12:33.951Z"
      },
      {
        "duration": 0,
        "start_time": "2023-06-14T20:12:33.978Z"
      },
      {
        "duration": 0,
        "start_time": "2023-06-14T20:12:33.980Z"
      },
      {
        "duration": 0,
        "start_time": "2023-06-14T20:12:33.983Z"
      },
      {
        "duration": 0,
        "start_time": "2023-06-14T20:12:33.985Z"
      },
      {
        "duration": 0,
        "start_time": "2023-06-14T20:12:33.986Z"
      },
      {
        "duration": 10,
        "start_time": "2023-06-14T20:13:16.212Z"
      },
      {
        "duration": 9,
        "start_time": "2023-06-14T20:13:35.427Z"
      },
      {
        "duration": 109,
        "start_time": "2023-06-14T20:13:38.653Z"
      },
      {
        "duration": 992,
        "start_time": "2023-06-14T20:13:46.534Z"
      },
      {
        "duration": 5642,
        "start_time": "2023-06-14T20:13:56.549Z"
      },
      {
        "duration": 5557,
        "start_time": "2023-06-14T20:14:24.227Z"
      },
      {
        "duration": 14445,
        "start_time": "2023-06-14T20:14:34.609Z"
      },
      {
        "duration": 10,
        "start_time": "2023-06-14T20:40:37.529Z"
      },
      {
        "duration": 24,
        "start_time": "2023-06-14T20:40:49.245Z"
      },
      {
        "duration": 3,
        "start_time": "2023-06-14T20:44:20.832Z"
      },
      {
        "duration": 13,
        "start_time": "2023-06-14T20:49:38.151Z"
      },
      {
        "duration": 18175,
        "start_time": "2023-06-14T20:50:29.028Z"
      },
      {
        "duration": 15,
        "start_time": "2023-06-14T20:50:48.861Z"
      },
      {
        "duration": 4,
        "start_time": "2023-06-14T20:51:06.850Z"
      },
      {
        "duration": 13,
        "start_time": "2023-06-14T20:51:11.614Z"
      },
      {
        "duration": 3,
        "start_time": "2023-06-14T20:52:16.521Z"
      },
      {
        "duration": 771,
        "start_time": "2023-06-14T20:52:16.526Z"
      },
      {
        "duration": 395,
        "start_time": "2023-06-14T20:52:17.299Z"
      },
      {
        "duration": 441,
        "start_time": "2023-06-14T20:52:17.696Z"
      },
      {
        "duration": 13,
        "start_time": "2023-06-14T20:52:18.140Z"
      },
      {
        "duration": 134,
        "start_time": "2023-06-14T20:52:18.154Z"
      },
      {
        "duration": 3,
        "start_time": "2023-06-14T20:52:18.289Z"
      },
      {
        "duration": 5,
        "start_time": "2023-06-14T20:52:18.293Z"
      },
      {
        "duration": 148,
        "start_time": "2023-06-14T20:52:18.299Z"
      },
      {
        "duration": 25,
        "start_time": "2023-06-14T20:52:18.448Z"
      },
      {
        "duration": 29,
        "start_time": "2023-06-14T20:52:18.474Z"
      },
      {
        "duration": 41,
        "start_time": "2023-06-14T20:52:18.505Z"
      },
      {
        "duration": 85,
        "start_time": "2023-06-14T20:52:18.548Z"
      },
      {
        "duration": 17,
        "start_time": "2023-06-14T20:52:18.635Z"
      },
      {
        "duration": 114,
        "start_time": "2023-06-14T20:52:18.654Z"
      },
      {
        "duration": 18,
        "start_time": "2023-06-14T20:52:18.770Z"
      },
      {
        "duration": 27,
        "start_time": "2023-06-14T20:52:18.789Z"
      },
      {
        "duration": 134,
        "start_time": "2023-06-14T20:52:18.817Z"
      },
      {
        "duration": 766,
        "start_time": "2023-06-14T20:52:18.952Z"
      },
      {
        "duration": 179,
        "start_time": "2023-06-14T20:52:19.720Z"
      },
      {
        "duration": 42,
        "start_time": "2023-06-14T20:52:19.901Z"
      },
      {
        "duration": 35,
        "start_time": "2023-06-14T20:52:19.945Z"
      },
      {
        "duration": 59,
        "start_time": "2023-06-14T20:52:19.982Z"
      },
      {
        "duration": 28,
        "start_time": "2023-06-14T20:52:20.043Z"
      },
      {
        "duration": 42,
        "start_time": "2023-06-14T20:52:20.072Z"
      },
      {
        "duration": 6,
        "start_time": "2023-06-14T20:52:20.116Z"
      },
      {
        "duration": 53,
        "start_time": "2023-06-14T20:52:20.123Z"
      },
      {
        "duration": 39,
        "start_time": "2023-06-14T20:52:20.177Z"
      },
      {
        "duration": 83,
        "start_time": "2023-06-14T20:52:20.218Z"
      },
      {
        "duration": 56,
        "start_time": "2023-06-14T20:52:20.302Z"
      },
      {
        "duration": 1540,
        "start_time": "2023-06-14T20:52:20.360Z"
      },
      {
        "duration": 67,
        "start_time": "2023-06-14T20:52:21.902Z"
      },
      {
        "duration": 109,
        "start_time": "2023-06-14T20:52:21.970Z"
      },
      {
        "duration": 10,
        "start_time": "2023-06-14T20:52:22.081Z"
      },
      {
        "duration": 0,
        "start_time": "2023-06-14T20:52:22.092Z"
      },
      {
        "duration": 0,
        "start_time": "2023-06-14T20:52:22.093Z"
      },
      {
        "duration": 0,
        "start_time": "2023-06-14T20:52:22.095Z"
      },
      {
        "duration": 0,
        "start_time": "2023-06-14T20:52:22.096Z"
      },
      {
        "duration": 0,
        "start_time": "2023-06-14T20:52:22.097Z"
      },
      {
        "duration": 0,
        "start_time": "2023-06-14T20:52:22.098Z"
      },
      {
        "duration": 10990,
        "start_time": "2023-06-14T20:52:42.196Z"
      },
      {
        "duration": 3,
        "start_time": "2023-06-14T20:52:59.820Z"
      },
      {
        "duration": 18,
        "start_time": "2023-06-14T20:53:05.520Z"
      },
      {
        "duration": 5,
        "start_time": "2023-06-14T20:53:21.379Z"
      },
      {
        "duration": 14,
        "start_time": "2023-06-14T20:53:26.098Z"
      },
      {
        "duration": 4,
        "start_time": "2023-06-14T20:53:46.120Z"
      },
      {
        "duration": 10,
        "start_time": "2023-06-14T20:53:57.837Z"
      },
      {
        "duration": 27,
        "start_time": "2023-06-14T20:54:18.519Z"
      },
      {
        "duration": 4,
        "start_time": "2023-06-14T20:55:12.931Z"
      },
      {
        "duration": 9,
        "start_time": "2023-06-14T20:55:18.897Z"
      },
      {
        "duration": 4,
        "start_time": "2023-06-14T20:55:28.922Z"
      },
      {
        "duration": 2926384,
        "start_time": "2023-06-14T20:55:51.485Z"
      },
      {
        "duration": 1821,
        "start_time": "2023-06-15T19:53:47.213Z"
      },
      {
        "duration": 3469,
        "start_time": "2023-06-15T19:53:49.036Z"
      },
      {
        "duration": 495,
        "start_time": "2023-06-15T19:53:52.507Z"
      },
      {
        "duration": 555,
        "start_time": "2023-06-15T19:53:53.004Z"
      },
      {
        "duration": 16,
        "start_time": "2023-06-15T19:53:53.562Z"
      },
      {
        "duration": 205,
        "start_time": "2023-06-15T19:53:53.580Z"
      },
      {
        "duration": 3,
        "start_time": "2023-06-15T19:53:53.787Z"
      },
      {
        "duration": 12,
        "start_time": "2023-06-15T19:53:53.791Z"
      },
      {
        "duration": 187,
        "start_time": "2023-06-15T19:53:53.805Z"
      },
      {
        "duration": 22,
        "start_time": "2023-06-15T19:53:53.994Z"
      },
      {
        "duration": 31,
        "start_time": "2023-06-15T19:53:54.017Z"
      },
      {
        "duration": 20,
        "start_time": "2023-06-15T19:53:54.050Z"
      },
      {
        "duration": 167,
        "start_time": "2023-06-15T19:53:54.072Z"
      },
      {
        "duration": 21,
        "start_time": "2023-06-15T19:53:54.244Z"
      },
      {
        "duration": 191,
        "start_time": "2023-06-15T19:53:54.267Z"
      },
      {
        "duration": 29,
        "start_time": "2023-06-15T19:53:54.461Z"
      },
      {
        "duration": 38,
        "start_time": "2023-06-15T19:53:54.492Z"
      },
      {
        "duration": 130,
        "start_time": "2023-06-15T19:53:54.540Z"
      },
      {
        "duration": 976,
        "start_time": "2023-06-15T19:53:54.672Z"
      },
      {
        "duration": 217,
        "start_time": "2023-06-15T19:53:55.650Z"
      },
      {
        "duration": 70,
        "start_time": "2023-06-15T19:53:55.869Z"
      },
      {
        "duration": 37,
        "start_time": "2023-06-15T19:53:55.941Z"
      },
      {
        "duration": 91,
        "start_time": "2023-06-15T19:53:55.980Z"
      },
      {
        "duration": 10,
        "start_time": "2023-06-15T19:53:56.073Z"
      },
      {
        "duration": 77,
        "start_time": "2023-06-15T19:53:56.085Z"
      },
      {
        "duration": 8,
        "start_time": "2023-06-15T19:53:56.164Z"
      },
      {
        "duration": 53,
        "start_time": "2023-06-15T19:53:56.174Z"
      },
      {
        "duration": 36,
        "start_time": "2023-06-15T19:53:56.234Z"
      },
      {
        "duration": 183,
        "start_time": "2023-06-15T19:53:56.272Z"
      },
      {
        "duration": 46,
        "start_time": "2023-06-15T19:53:56.457Z"
      },
      {
        "duration": 173,
        "start_time": "2023-06-15T19:53:56.514Z"
      },
      {
        "duration": 0,
        "start_time": "2023-06-15T19:53:56.689Z"
      },
      {
        "duration": 0,
        "start_time": "2023-06-15T19:53:56.691Z"
      },
      {
        "duration": 0,
        "start_time": "2023-06-15T19:53:56.692Z"
      },
      {
        "duration": 0,
        "start_time": "2023-06-15T19:53:56.693Z"
      },
      {
        "duration": 0,
        "start_time": "2023-06-15T19:53:56.695Z"
      },
      {
        "duration": 0,
        "start_time": "2023-06-15T19:53:56.696Z"
      },
      {
        "duration": 0,
        "start_time": "2023-06-15T19:53:56.697Z"
      },
      {
        "duration": 0,
        "start_time": "2023-06-15T19:53:56.715Z"
      },
      {
        "duration": 0,
        "start_time": "2023-06-15T19:53:56.715Z"
      },
      {
        "duration": 0,
        "start_time": "2023-06-15T19:53:56.716Z"
      },
      {
        "duration": 47,
        "start_time": "2023-06-15T20:11:06.449Z"
      },
      {
        "duration": 1088,
        "start_time": "2023-06-15T20:11:13.542Z"
      },
      {
        "duration": 15,
        "start_time": "2023-06-15T20:11:14.633Z"
      },
      {
        "duration": 91,
        "start_time": "2023-06-15T20:11:14.650Z"
      },
      {
        "duration": 18,
        "start_time": "2023-06-15T20:11:14.743Z"
      },
      {
        "duration": 0,
        "start_time": "2023-06-15T20:11:14.762Z"
      },
      {
        "duration": 0,
        "start_time": "2023-06-15T20:11:14.764Z"
      },
      {
        "duration": 0,
        "start_time": "2023-06-15T20:11:14.765Z"
      },
      {
        "duration": 0,
        "start_time": "2023-06-15T20:11:14.767Z"
      },
      {
        "duration": 0,
        "start_time": "2023-06-15T20:11:14.769Z"
      },
      {
        "duration": 0,
        "start_time": "2023-06-15T20:11:14.770Z"
      },
      {
        "duration": 0,
        "start_time": "2023-06-15T20:11:14.772Z"
      },
      {
        "duration": 9,
        "start_time": "2023-06-15T20:12:17.196Z"
      },
      {
        "duration": 4,
        "start_time": "2023-06-15T20:12:44.239Z"
      },
      {
        "duration": 4,
        "start_time": "2023-06-15T20:13:09.563Z"
      },
      {
        "duration": 10,
        "start_time": "2023-06-15T20:13:13.108Z"
      },
      {
        "duration": 10,
        "start_time": "2023-06-15T20:14:30.736Z"
      },
      {
        "duration": 21,
        "start_time": "2023-06-15T20:14:47.604Z"
      },
      {
        "duration": 231,
        "start_time": "2023-06-15T20:14:53.385Z"
      },
      {
        "duration": 5,
        "start_time": "2023-06-15T20:15:01.199Z"
      },
      {
        "duration": 11166,
        "start_time": "2023-06-15T20:15:31.762Z"
      },
      {
        "duration": 7,
        "start_time": "2023-06-15T20:17:01.099Z"
      },
      {
        "duration": 6,
        "start_time": "2023-06-15T20:17:12.727Z"
      },
      {
        "duration": 6,
        "start_time": "2023-06-15T20:17:17.604Z"
      },
      {
        "duration": 10865,
        "start_time": "2023-06-15T20:17:35.865Z"
      },
      {
        "duration": 3,
        "start_time": "2023-06-15T20:20:57.935Z"
      },
      {
        "duration": 10844,
        "start_time": "2023-06-15T20:21:00.253Z"
      },
      {
        "duration": 10608,
        "start_time": "2023-06-15T20:21:47.912Z"
      },
      {
        "duration": 10705,
        "start_time": "2023-06-15T20:22:06.625Z"
      },
      {
        "duration": 17,
        "start_time": "2023-06-15T20:22:18.952Z"
      },
      {
        "duration": 3,
        "start_time": "2023-06-15T20:22:31.134Z"
      },
      {
        "duration": 15,
        "start_time": "2023-06-15T20:22:33.523Z"
      },
      {
        "duration": 14,
        "start_time": "2023-06-15T20:22:51.466Z"
      },
      {
        "duration": 72,
        "start_time": "2023-06-15T20:23:48.900Z"
      },
      {
        "duration": 73,
        "start_time": "2023-06-15T20:24:17.012Z"
      },
      {
        "duration": 11,
        "start_time": "2023-06-15T20:25:13.260Z"
      },
      {
        "duration": 10756,
        "start_time": "2023-06-15T20:25:17.091Z"
      },
      {
        "duration": 10,
        "start_time": "2023-06-15T20:31:09.544Z"
      },
      {
        "duration": 11,
        "start_time": "2023-06-15T20:31:27.939Z"
      },
      {
        "duration": 1458159,
        "start_time": "2023-06-15T20:33:38.000Z"
      },
      {
        "duration": 36,
        "start_time": "2023-06-15T20:58:02.068Z"
      },
      {
        "duration": 10,
        "start_time": "2023-06-15T20:58:36.747Z"
      },
      {
        "duration": 1953,
        "start_time": "2023-06-15T20:58:44.531Z"
      },
      {
        "duration": 13,
        "start_time": "2023-06-15T21:02:33.550Z"
      },
      {
        "duration": 1862,
        "start_time": "2023-06-15T21:04:08.823Z"
      },
      {
        "duration": 23,
        "start_time": "2023-06-15T21:08:52.351Z"
      },
      {
        "duration": 1158,
        "start_time": "2023-06-15T21:09:28.131Z"
      },
      {
        "duration": 1325,
        "start_time": "2023-06-15T21:10:03.207Z"
      },
      {
        "duration": 2868,
        "start_time": "2023-06-15T21:10:19.611Z"
      },
      {
        "duration": 2383,
        "start_time": "2023-06-15T21:10:57.411Z"
      },
      {
        "duration": 2510,
        "start_time": "2023-06-15T21:11:46.375Z"
      },
      {
        "duration": 100,
        "start_time": "2023-06-15T21:12:48.939Z"
      },
      {
        "duration": 618,
        "start_time": "2023-06-15T21:13:11.920Z"
      },
      {
        "duration": 1934,
        "start_time": "2023-06-15T21:13:58.626Z"
      },
      {
        "duration": 794,
        "start_time": "2023-06-15T21:16:34.539Z"
      },
      {
        "duration": 216,
        "start_time": "2023-06-15T21:16:57.191Z"
      },
      {
        "duration": 4,
        "start_time": "2023-06-15T21:16:59.095Z"
      },
      {
        "duration": 11,
        "start_time": "2023-06-15T21:17:04.827Z"
      },
      {
        "duration": 188,
        "start_time": "2023-06-15T21:17:17.452Z"
      },
      {
        "duration": 2114,
        "start_time": "2023-06-15T21:17:41.791Z"
      },
      {
        "duration": 376,
        "start_time": "2023-06-15T21:18:20.811Z"
      },
      {
        "duration": 2834,
        "start_time": "2023-06-15T21:18:54.577Z"
      },
      {
        "duration": 26,
        "start_time": "2023-06-15T21:19:23.431Z"
      },
      {
        "duration": 2822,
        "start_time": "2023-06-15T21:19:29.139Z"
      },
      {
        "duration": 129,
        "start_time": "2023-06-15T21:19:49.676Z"
      },
      {
        "duration": 4,
        "start_time": "2023-06-15T21:19:52.580Z"
      },
      {
        "duration": 2179,
        "start_time": "2023-06-15T21:20:00.625Z"
      },
      {
        "duration": 2196,
        "start_time": "2023-06-15T21:20:08.411Z"
      },
      {
        "duration": 182,
        "start_time": "2023-06-15T21:20:33.667Z"
      },
      {
        "duration": 2107,
        "start_time": "2023-06-15T21:20:42.075Z"
      },
      {
        "duration": 941,
        "start_time": "2023-06-15T21:20:52.707Z"
      },
      {
        "duration": 46,
        "start_time": "2023-06-15T21:21:02.708Z"
      },
      {
        "duration": 103,
        "start_time": "2023-06-15T21:21:11.631Z"
      },
      {
        "duration": 1948,
        "start_time": "2023-06-15T21:21:20.428Z"
      },
      {
        "duration": 1843,
        "start_time": "2023-06-16T17:39:43.095Z"
      },
      {
        "duration": 3248,
        "start_time": "2023-06-16T17:39:44.941Z"
      },
      {
        "duration": 22,
        "start_time": "2023-06-16T17:39:48.191Z"
      },
      {
        "duration": 170,
        "start_time": "2023-06-16T17:39:48.216Z"
      },
      {
        "duration": 657,
        "start_time": "2023-06-16T17:39:48.388Z"
      },
      {
        "duration": 620,
        "start_time": "2023-06-16T17:39:49.047Z"
      },
      {
        "duration": 3,
        "start_time": "2023-06-16T17:39:49.669Z"
      },
      {
        "duration": 5,
        "start_time": "2023-06-16T17:39:49.674Z"
      },
      {
        "duration": 209,
        "start_time": "2023-06-16T17:39:49.681Z"
      },
      {
        "duration": 40,
        "start_time": "2023-06-16T17:39:49.893Z"
      },
      {
        "duration": 32,
        "start_time": "2023-06-16T17:39:49.939Z"
      },
      {
        "duration": 29,
        "start_time": "2023-06-16T17:39:49.973Z"
      },
      {
        "duration": 164,
        "start_time": "2023-06-16T17:39:50.005Z"
      },
      {
        "duration": 19,
        "start_time": "2023-06-16T17:39:50.171Z"
      },
      {
        "duration": 184,
        "start_time": "2023-06-16T17:39:50.192Z"
      },
      {
        "duration": 21,
        "start_time": "2023-06-16T17:39:50.377Z"
      },
      {
        "duration": 43,
        "start_time": "2023-06-16T17:39:50.400Z"
      },
      {
        "duration": 151,
        "start_time": "2023-06-16T17:39:50.446Z"
      },
      {
        "duration": 950,
        "start_time": "2023-06-16T17:39:50.599Z"
      },
      {
        "duration": 313,
        "start_time": "2023-06-16T17:39:51.552Z"
      },
      {
        "duration": 73,
        "start_time": "2023-06-16T17:39:51.867Z"
      },
      {
        "duration": 24,
        "start_time": "2023-06-16T17:39:51.942Z"
      },
      {
        "duration": 73,
        "start_time": "2023-06-16T17:39:51.968Z"
      },
      {
        "duration": 11,
        "start_time": "2023-06-16T17:39:52.043Z"
      },
      {
        "duration": 74,
        "start_time": "2023-06-16T17:39:52.056Z"
      },
      {
        "duration": 6,
        "start_time": "2023-06-16T17:39:52.133Z"
      },
      {
        "duration": 94,
        "start_time": "2023-06-16T17:39:52.140Z"
      },
      {
        "duration": 23,
        "start_time": "2023-06-16T17:39:52.239Z"
      },
      {
        "duration": 86,
        "start_time": "2023-06-16T17:39:52.264Z"
      },
      {
        "duration": 50,
        "start_time": "2023-06-16T17:39:52.352Z"
      },
      {
        "duration": 1020,
        "start_time": "2023-06-16T17:39:52.403Z"
      },
      {
        "duration": 17,
        "start_time": "2023-06-16T17:39:53.428Z"
      },
      {
        "duration": 87,
        "start_time": "2023-06-16T17:39:53.447Z"
      },
      {
        "duration": 5,
        "start_time": "2023-06-16T17:39:53.541Z"
      },
      {
        "duration": 183,
        "start_time": "2023-06-16T17:39:53.548Z"
      },
      {
        "duration": 15,
        "start_time": "2023-06-16T17:39:53.733Z"
      },
      {
        "duration": 77,
        "start_time": "2023-06-16T17:39:53.751Z"
      },
      {
        "duration": 81,
        "start_time": "2023-06-16T17:39:53.833Z"
      },
      {
        "duration": 20,
        "start_time": "2023-06-16T17:39:53.916Z"
      },
      {
        "duration": 158,
        "start_time": "2023-06-16T17:39:53.939Z"
      },
      {
        "duration": 1,
        "start_time": "2023-06-16T17:39:54.098Z"
      },
      {
        "duration": 0,
        "start_time": "2023-06-16T17:39:54.101Z"
      },
      {
        "duration": 0,
        "start_time": "2023-06-16T17:39:54.102Z"
      },
      {
        "duration": 0,
        "start_time": "2023-06-16T17:39:54.103Z"
      },
      {
        "duration": 0,
        "start_time": "2023-06-16T17:39:54.113Z"
      },
      {
        "duration": 0,
        "start_time": "2023-06-16T17:39:54.114Z"
      },
      {
        "duration": 38,
        "start_time": "2023-06-16T17:40:04.808Z"
      },
      {
        "duration": 12850,
        "start_time": "2023-06-16T17:40:06.383Z"
      },
      {
        "duration": 190117,
        "start_time": "2023-06-16T18:00:20.107Z"
      },
      {
        "duration": 31095,
        "start_time": "2023-06-16T18:03:56.845Z"
      },
      {
        "duration": 1746,
        "start_time": "2023-06-16T18:07:57.900Z"
      },
      {
        "duration": 3262,
        "start_time": "2023-06-16T18:07:59.649Z"
      },
      {
        "duration": 24,
        "start_time": "2023-06-16T18:08:02.912Z"
      },
      {
        "duration": 170,
        "start_time": "2023-06-16T18:08:02.938Z"
      },
      {
        "duration": 495,
        "start_time": "2023-06-16T18:08:03.119Z"
      },
      {
        "duration": 599,
        "start_time": "2023-06-16T18:08:03.622Z"
      },
      {
        "duration": 4,
        "start_time": "2023-06-16T18:08:04.223Z"
      },
      {
        "duration": 96,
        "start_time": "2023-06-16T18:08:04.237Z"
      },
      {
        "duration": 161,
        "start_time": "2023-06-16T18:08:04.335Z"
      },
      {
        "duration": 35,
        "start_time": "2023-06-16T18:08:04.499Z"
      },
      {
        "duration": 24,
        "start_time": "2023-06-16T18:08:04.536Z"
      },
      {
        "duration": 28,
        "start_time": "2023-06-16T18:08:04.563Z"
      },
      {
        "duration": 150,
        "start_time": "2023-06-16T18:08:04.594Z"
      },
      {
        "duration": 21,
        "start_time": "2023-06-16T18:08:04.747Z"
      },
      {
        "duration": 160,
        "start_time": "2023-06-16T18:08:04.770Z"
      },
      {
        "duration": 24,
        "start_time": "2023-06-16T18:08:04.935Z"
      },
      {
        "duration": 26,
        "start_time": "2023-06-16T18:08:04.961Z"
      },
      {
        "duration": 143,
        "start_time": "2023-06-16T18:08:04.989Z"
      },
      {
        "duration": 916,
        "start_time": "2023-06-16T18:08:05.134Z"
      },
      {
        "duration": 338,
        "start_time": "2023-06-16T18:08:06.055Z"
      },
      {
        "duration": 85,
        "start_time": "2023-06-16T18:08:06.395Z"
      },
      {
        "duration": 25,
        "start_time": "2023-06-16T18:08:06.482Z"
      },
      {
        "duration": 58,
        "start_time": "2023-06-16T18:08:06.519Z"
      },
      {
        "duration": 9,
        "start_time": "2023-06-16T18:08:06.579Z"
      },
      {
        "duration": 85,
        "start_time": "2023-06-16T18:08:06.589Z"
      },
      {
        "duration": 7,
        "start_time": "2023-06-16T18:08:06.676Z"
      },
      {
        "duration": 48,
        "start_time": "2023-06-16T18:08:06.685Z"
      },
      {
        "duration": 40,
        "start_time": "2023-06-16T18:08:06.736Z"
      },
      {
        "duration": 77,
        "start_time": "2023-06-16T18:08:06.778Z"
      },
      {
        "duration": 68,
        "start_time": "2023-06-16T18:08:06.857Z"
      },
      {
        "duration": 945,
        "start_time": "2023-06-16T18:08:06.926Z"
      },
      {
        "duration": 14,
        "start_time": "2023-06-16T18:08:07.874Z"
      },
      {
        "duration": 82,
        "start_time": "2023-06-16T18:08:07.890Z"
      },
      {
        "duration": 4,
        "start_time": "2023-06-16T18:08:07.974Z"
      },
      {
        "duration": 137,
        "start_time": "2023-06-16T18:08:07.980Z"
      },
      {
        "duration": 106,
        "start_time": "2023-06-16T18:08:08.119Z"
      },
      {
        "duration": 2,
        "start_time": "2023-06-16T18:08:08.227Z"
      },
      {
        "duration": 171,
        "start_time": "2023-06-16T18:09:15.484Z"
      },
      {
        "duration": 33,
        "start_time": "2023-06-16T18:09:24.698Z"
      },
      {
        "duration": 1798,
        "start_time": "2023-06-16T18:23:26.653Z"
      },
      {
        "duration": 3823,
        "start_time": "2023-06-16T18:23:28.453Z"
      },
      {
        "duration": 19,
        "start_time": "2023-06-16T18:23:32.278Z"
      },
      {
        "duration": 210,
        "start_time": "2023-06-16T18:23:32.299Z"
      },
      {
        "duration": 647,
        "start_time": "2023-06-16T18:23:32.512Z"
      },
      {
        "duration": 593,
        "start_time": "2023-06-16T18:23:33.162Z"
      },
      {
        "duration": 4,
        "start_time": "2023-06-16T18:23:33.760Z"
      },
      {
        "duration": 83,
        "start_time": "2023-06-16T18:23:33.766Z"
      },
      {
        "duration": 235,
        "start_time": "2023-06-16T18:23:33.852Z"
      },
      {
        "duration": 25,
        "start_time": "2023-06-16T18:23:34.089Z"
      },
      {
        "duration": 42,
        "start_time": "2023-06-16T18:23:34.116Z"
      },
      {
        "duration": 21,
        "start_time": "2023-06-16T18:23:34.159Z"
      },
      {
        "duration": 153,
        "start_time": "2023-06-16T18:23:34.183Z"
      },
      {
        "duration": 24,
        "start_time": "2023-06-16T18:23:34.341Z"
      },
      {
        "duration": 164,
        "start_time": "2023-06-16T18:23:34.368Z"
      },
      {
        "duration": 26,
        "start_time": "2023-06-16T18:23:34.534Z"
      },
      {
        "duration": 52,
        "start_time": "2023-06-16T18:23:34.562Z"
      },
      {
        "duration": 158,
        "start_time": "2023-06-16T18:23:34.616Z"
      },
      {
        "duration": 974,
        "start_time": "2023-06-16T18:23:34.776Z"
      },
      {
        "duration": 304,
        "start_time": "2023-06-16T18:23:35.754Z"
      },
      {
        "duration": 69,
        "start_time": "2023-06-16T18:23:36.060Z"
      },
      {
        "duration": 32,
        "start_time": "2023-06-16T18:23:36.140Z"
      },
      {
        "duration": 85,
        "start_time": "2023-06-16T18:23:36.174Z"
      },
      {
        "duration": 10,
        "start_time": "2023-06-16T18:23:36.267Z"
      },
      {
        "duration": 74,
        "start_time": "2023-06-16T18:23:36.279Z"
      },
      {
        "duration": 7,
        "start_time": "2023-06-16T18:23:36.355Z"
      },
      {
        "duration": 47,
        "start_time": "2023-06-16T18:23:36.364Z"
      },
      {
        "duration": 46,
        "start_time": "2023-06-16T18:23:36.419Z"
      },
      {
        "duration": 131,
        "start_time": "2023-06-16T18:23:36.467Z"
      },
      {
        "duration": 66,
        "start_time": "2023-06-16T18:23:36.599Z"
      },
      {
        "duration": 1264,
        "start_time": "2023-06-16T18:23:36.669Z"
      },
      {
        "duration": 17,
        "start_time": "2023-06-16T18:23:37.935Z"
      },
      {
        "duration": 96,
        "start_time": "2023-06-16T18:23:37.955Z"
      },
      {
        "duration": 6,
        "start_time": "2023-06-16T18:23:38.054Z"
      },
      {
        "duration": 173,
        "start_time": "2023-06-16T18:23:38.061Z"
      },
      {
        "duration": 9,
        "start_time": "2023-06-16T18:23:38.237Z"
      },
      {
        "duration": 73,
        "start_time": "2023-06-16T18:23:38.253Z"
      },
      {
        "duration": 80,
        "start_time": "2023-06-16T18:23:38.331Z"
      },
      {
        "duration": 0,
        "start_time": "2023-06-16T18:23:38.422Z"
      },
      {
        "duration": 0,
        "start_time": "2023-06-16T18:23:38.423Z"
      },
      {
        "duration": 0,
        "start_time": "2023-06-16T18:23:38.424Z"
      },
      {
        "duration": 0,
        "start_time": "2023-06-16T18:23:38.425Z"
      },
      {
        "duration": 6,
        "start_time": "2023-06-16T19:16:25.997Z"
      },
      {
        "duration": 1080,
        "start_time": "2023-06-16T19:16:26.005Z"
      },
      {
        "duration": 51,
        "start_time": "2023-06-16T19:16:27.098Z"
      },
      {
        "duration": 233,
        "start_time": "2023-06-16T19:16:27.154Z"
      },
      {
        "duration": 574,
        "start_time": "2023-06-16T19:16:27.394Z"
      },
      {
        "duration": 620,
        "start_time": "2023-06-16T19:16:27.973Z"
      },
      {
        "duration": 3,
        "start_time": "2023-06-16T19:16:28.599Z"
      },
      {
        "duration": 9,
        "start_time": "2023-06-16T19:16:28.607Z"
      },
      {
        "duration": 301,
        "start_time": "2023-06-16T19:16:28.620Z"
      },
      {
        "duration": 32,
        "start_time": "2023-06-16T19:16:28.929Z"
      },
      {
        "duration": 38,
        "start_time": "2023-06-16T19:16:28.967Z"
      },
      {
        "duration": 42,
        "start_time": "2023-06-16T19:16:29.010Z"
      },
      {
        "duration": 162,
        "start_time": "2023-06-16T19:16:29.054Z"
      },
      {
        "duration": 39,
        "start_time": "2023-06-16T19:16:29.228Z"
      },
      {
        "duration": 187,
        "start_time": "2023-06-16T19:16:29.273Z"
      },
      {
        "duration": 30,
        "start_time": "2023-06-16T19:16:29.465Z"
      },
      {
        "duration": 38,
        "start_time": "2023-06-16T19:16:29.501Z"
      },
      {
        "duration": 228,
        "start_time": "2023-06-16T19:16:29.541Z"
      },
      {
        "duration": 1226,
        "start_time": "2023-06-16T19:16:29.771Z"
      },
      {
        "duration": 333,
        "start_time": "2023-06-16T19:16:31.010Z"
      },
      {
        "duration": 73,
        "start_time": "2023-06-16T19:16:31.348Z"
      },
      {
        "duration": 296,
        "start_time": "2023-06-16T19:16:31.427Z"
      },
      {
        "duration": 215,
        "start_time": "2023-06-16T19:16:31.729Z"
      },
      {
        "duration": 110,
        "start_time": "2023-06-16T19:16:31.947Z"
      },
      {
        "duration": 155,
        "start_time": "2023-06-16T19:16:32.060Z"
      },
      {
        "duration": 44,
        "start_time": "2023-06-16T19:16:32.217Z"
      },
      {
        "duration": 120,
        "start_time": "2023-06-16T19:16:32.263Z"
      },
      {
        "duration": 54,
        "start_time": "2023-06-16T19:16:32.385Z"
      },
      {
        "duration": 295,
        "start_time": "2023-06-16T19:16:32.446Z"
      },
      {
        "duration": 73,
        "start_time": "2023-06-16T19:16:32.747Z"
      },
      {
        "duration": 1585,
        "start_time": "2023-06-16T19:16:32.825Z"
      },
      {
        "duration": 33,
        "start_time": "2023-06-16T19:16:34.417Z"
      },
      {
        "duration": 194,
        "start_time": "2023-06-16T19:16:34.456Z"
      },
      {
        "duration": 8,
        "start_time": "2023-06-16T19:16:34.654Z"
      },
      {
        "duration": 187,
        "start_time": "2023-06-16T19:16:34.664Z"
      },
      {
        "duration": 31,
        "start_time": "2023-06-16T19:16:34.860Z"
      },
      {
        "duration": 18,
        "start_time": "2023-06-16T19:16:34.901Z"
      },
      {
        "duration": 16,
        "start_time": "2023-06-16T19:16:34.943Z"
      },
      {
        "duration": 14,
        "start_time": "2023-06-16T19:16:34.977Z"
      },
      {
        "duration": 11783,
        "start_time": "2023-06-16T19:16:39.942Z"
      },
      {
        "duration": 70,
        "start_time": "2023-06-16T19:16:59.393Z"
      },
      {
        "duration": 30374,
        "start_time": "2023-06-16T19:17:03.751Z"
      },
      {
        "duration": 34,
        "start_time": "2023-06-16T19:18:18.066Z"
      },
      {
        "duration": 9,
        "start_time": "2023-06-16T19:20:15.839Z"
      },
      {
        "duration": 139,
        "start_time": "2023-06-16T19:23:36.665Z"
      },
      {
        "duration": 173,
        "start_time": "2023-06-16T19:23:38.754Z"
      },
      {
        "duration": 13,
        "start_time": "2023-06-16T19:23:53.152Z"
      },
      {
        "duration": 914,
        "start_time": "2023-06-16T19:24:26.684Z"
      },
      {
        "duration": 119,
        "start_time": "2023-06-16T19:24:28.965Z"
      },
      {
        "duration": 12,
        "start_time": "2023-06-16T19:24:30.192Z"
      },
      {
        "duration": 97,
        "start_time": "2023-06-16T19:24:51.609Z"
      },
      {
        "duration": 32,
        "start_time": "2023-06-16T19:24:53.166Z"
      },
      {
        "duration": 105,
        "start_time": "2023-06-16T19:25:10.647Z"
      },
      {
        "duration": 34,
        "start_time": "2023-06-16T19:25:15.051Z"
      },
      {
        "duration": 112,
        "start_time": "2023-06-16T19:25:26.211Z"
      },
      {
        "duration": 18,
        "start_time": "2023-06-16T19:25:26.891Z"
      },
      {
        "duration": 98,
        "start_time": "2023-06-16T19:25:43.546Z"
      },
      {
        "duration": 5,
        "start_time": "2023-06-16T19:25:44.105Z"
      },
      {
        "duration": 295,
        "start_time": "2023-06-16T19:25:45.097Z"
      },
      {
        "duration": 20,
        "start_time": "2023-06-16T19:25:47.580Z"
      },
      {
        "duration": 1697,
        "start_time": "2023-06-17T18:09:40.888Z"
      },
      {
        "duration": 1187,
        "start_time": "2023-06-17T18:09:42.588Z"
      },
      {
        "duration": 16,
        "start_time": "2023-06-17T18:09:43.777Z"
      },
      {
        "duration": 119,
        "start_time": "2023-06-17T18:09:43.794Z"
      },
      {
        "duration": 435,
        "start_time": "2023-06-17T18:09:43.919Z"
      },
      {
        "duration": 448,
        "start_time": "2023-06-17T18:09:44.355Z"
      },
      {
        "duration": 3,
        "start_time": "2023-06-17T18:09:44.804Z"
      },
      {
        "duration": 11,
        "start_time": "2023-06-17T18:09:44.808Z"
      },
      {
        "duration": 145,
        "start_time": "2023-06-17T18:09:44.821Z"
      },
      {
        "duration": 17,
        "start_time": "2023-06-17T18:09:44.967Z"
      },
      {
        "duration": 21,
        "start_time": "2023-06-17T18:09:44.986Z"
      },
      {
        "duration": 76,
        "start_time": "2023-06-17T18:09:45.008Z"
      },
      {
        "duration": 148,
        "start_time": "2023-06-17T18:09:45.085Z"
      },
      {
        "duration": 27,
        "start_time": "2023-06-17T18:09:45.239Z"
      },
      {
        "duration": 149,
        "start_time": "2023-06-17T18:09:45.268Z"
      },
      {
        "duration": 28,
        "start_time": "2023-06-17T18:09:45.418Z"
      },
      {
        "duration": 60,
        "start_time": "2023-06-17T18:09:45.447Z"
      },
      {
        "duration": 116,
        "start_time": "2023-06-17T18:09:45.508Z"
      },
      {
        "duration": 835,
        "start_time": "2023-06-17T18:09:45.626Z"
      },
      {
        "duration": 224,
        "start_time": "2023-06-17T18:09:46.462Z"
      },
      {
        "duration": 70,
        "start_time": "2023-06-17T18:09:46.688Z"
      },
      {
        "duration": 18,
        "start_time": "2023-06-17T18:09:46.760Z"
      },
      {
        "duration": 66,
        "start_time": "2023-06-17T18:09:46.779Z"
      },
      {
        "duration": 8,
        "start_time": "2023-06-17T18:09:46.847Z"
      },
      {
        "duration": 45,
        "start_time": "2023-06-17T18:09:46.857Z"
      },
      {
        "duration": 21,
        "start_time": "2023-06-17T18:09:46.903Z"
      },
      {
        "duration": 47,
        "start_time": "2023-06-17T18:09:46.926Z"
      },
      {
        "duration": 28,
        "start_time": "2023-06-17T18:09:46.975Z"
      },
      {
        "duration": 88,
        "start_time": "2023-06-17T18:09:47.004Z"
      },
      {
        "duration": 51,
        "start_time": "2023-06-17T18:09:47.094Z"
      },
      {
        "duration": 797,
        "start_time": "2023-06-17T18:09:47.147Z"
      },
      {
        "duration": 115,
        "start_time": "2023-06-17T18:09:47.945Z"
      },
      {
        "duration": 0,
        "start_time": "2023-06-17T18:09:48.061Z"
      },
      {
        "duration": 0,
        "start_time": "2023-06-17T18:09:48.063Z"
      },
      {
        "duration": 0,
        "start_time": "2023-06-17T18:09:48.064Z"
      },
      {
        "duration": 0,
        "start_time": "2023-06-17T18:09:48.064Z"
      },
      {
        "duration": 0,
        "start_time": "2023-06-17T18:09:48.065Z"
      },
      {
        "duration": 0,
        "start_time": "2023-06-17T18:09:48.066Z"
      },
      {
        "duration": 0,
        "start_time": "2023-06-17T18:09:48.067Z"
      },
      {
        "duration": 0,
        "start_time": "2023-06-17T18:09:48.067Z"
      },
      {
        "duration": 0,
        "start_time": "2023-06-17T18:09:48.069Z"
      },
      {
        "duration": 0,
        "start_time": "2023-06-17T18:09:48.069Z"
      },
      {
        "duration": 0,
        "start_time": "2023-06-17T18:09:48.070Z"
      },
      {
        "duration": 0,
        "start_time": "2023-06-17T18:09:48.071Z"
      },
      {
        "duration": 0,
        "start_time": "2023-06-17T18:09:48.071Z"
      },
      {
        "duration": 0,
        "start_time": "2023-06-17T18:09:48.072Z"
      },
      {
        "duration": 0,
        "start_time": "2023-06-17T18:09:48.073Z"
      },
      {
        "duration": 37,
        "start_time": "2023-06-17T18:10:26.360Z"
      },
      {
        "duration": 83,
        "start_time": "2023-06-17T18:10:27.014Z"
      },
      {
        "duration": 13,
        "start_time": "2023-06-17T18:11:05.706Z"
      },
      {
        "duration": 71,
        "start_time": "2023-06-17T18:11:39.469Z"
      },
      {
        "duration": 8,
        "start_time": "2023-06-17T18:11:57.623Z"
      },
      {
        "duration": 62,
        "start_time": "2023-06-17T18:11:58.540Z"
      },
      {
        "duration": 28,
        "start_time": "2023-06-17T18:11:59.188Z"
      },
      {
        "duration": 4,
        "start_time": "2023-06-17T18:12:00.333Z"
      },
      {
        "duration": 11,
        "start_time": "2023-06-17T18:12:14.908Z"
      },
      {
        "duration": 4,
        "start_time": "2023-06-17T18:12:25.075Z"
      },
      {
        "duration": 113,
        "start_time": "2023-06-17T18:12:38.717Z"
      },
      {
        "duration": 3,
        "start_time": "2023-06-17T18:12:39.812Z"
      },
      {
        "duration": 9,
        "start_time": "2023-06-17T18:12:50.649Z"
      },
      {
        "duration": 10,
        "start_time": "2023-06-17T18:13:18.722Z"
      },
      {
        "duration": 3,
        "start_time": "2023-06-17T18:13:37.940Z"
      },
      {
        "duration": 9,
        "start_time": "2023-06-17T18:13:39.809Z"
      },
      {
        "duration": 4,
        "start_time": "2023-06-17T18:13:53.747Z"
      },
      {
        "duration": 12,
        "start_time": "2023-06-17T18:14:00.433Z"
      },
      {
        "duration": 141,
        "start_time": "2023-06-17T18:14:25.279Z"
      },
      {
        "duration": 4,
        "start_time": "2023-06-17T18:14:26.599Z"
      },
      {
        "duration": 85,
        "start_time": "2023-06-17T18:14:29.041Z"
      },
      {
        "duration": 4,
        "start_time": "2023-06-17T18:14:29.704Z"
      },
      {
        "duration": 9503,
        "start_time": "2023-06-17T18:15:35.525Z"
      },
      {
        "duration": 15217,
        "start_time": "2023-06-17T18:16:03.230Z"
      },
      {
        "duration": 14772,
        "start_time": "2023-06-17T18:16:42.317Z"
      },
      {
        "duration": 49,
        "start_time": "2023-06-17T18:17:05.259Z"
      },
      {
        "duration": 4,
        "start_time": "2023-06-17T18:17:12.444Z"
      },
      {
        "duration": 35878,
        "start_time": "2023-06-17T18:17:16.362Z"
      },
      {
        "duration": 3,
        "start_time": "2023-06-17T18:19:24.537Z"
      },
      {
        "duration": 15250,
        "start_time": "2023-06-17T18:19:30.932Z"
      },
      {
        "duration": 14965,
        "start_time": "2023-06-17T18:25:38.269Z"
      },
      {
        "duration": 5,
        "start_time": "2023-06-17T18:27:12.737Z"
      },
      {
        "duration": 5,
        "start_time": "2023-06-17T18:28:35.976Z"
      },
      {
        "duration": 5,
        "start_time": "2023-06-17T18:28:43.272Z"
      },
      {
        "duration": 1681,
        "start_time": "2023-06-17T18:28:46.288Z"
      },
      {
        "duration": 1597,
        "start_time": "2023-06-17T18:29:15.702Z"
      },
      {
        "duration": 70,
        "start_time": "2023-06-17T18:30:30.572Z"
      },
      {
        "duration": 4,
        "start_time": "2023-06-17T18:31:18.005Z"
      },
      {
        "duration": 1602,
        "start_time": "2023-06-17T18:31:55.930Z"
      },
      {
        "duration": 1645,
        "start_time": "2023-06-17T18:32:05.579Z"
      },
      {
        "duration": 14,
        "start_time": "2023-06-17T18:32:47.088Z"
      },
      {
        "duration": 50,
        "start_time": "2023-06-17T18:33:08.400Z"
      },
      {
        "duration": 11,
        "start_time": "2023-06-17T18:33:10.328Z"
      },
      {
        "duration": 11,
        "start_time": "2023-06-17T18:33:38.918Z"
      },
      {
        "duration": 5,
        "start_time": "2023-06-17T18:34:48.786Z"
      },
      {
        "duration": 698,
        "start_time": "2023-06-17T18:34:48.793Z"
      },
      {
        "duration": 11,
        "start_time": "2023-06-17T18:34:49.492Z"
      },
      {
        "duration": 118,
        "start_time": "2023-06-17T18:34:49.505Z"
      },
      {
        "duration": 368,
        "start_time": "2023-06-17T18:34:49.625Z"
      },
      {
        "duration": 375,
        "start_time": "2023-06-17T18:34:49.995Z"
      },
      {
        "duration": 2,
        "start_time": "2023-06-17T18:34:50.372Z"
      },
      {
        "duration": 21,
        "start_time": "2023-06-17T18:34:50.376Z"
      },
      {
        "duration": 151,
        "start_time": "2023-06-17T18:34:50.399Z"
      },
      {
        "duration": 17,
        "start_time": "2023-06-17T18:34:50.552Z"
      },
      {
        "duration": 20,
        "start_time": "2023-06-17T18:34:50.571Z"
      },
      {
        "duration": 28,
        "start_time": "2023-06-17T18:34:50.592Z"
      },
      {
        "duration": 99,
        "start_time": "2023-06-17T18:34:50.622Z"
      },
      {
        "duration": 22,
        "start_time": "2023-06-17T18:34:50.722Z"
      },
      {
        "duration": 121,
        "start_time": "2023-06-17T18:34:50.746Z"
      },
      {
        "duration": 16,
        "start_time": "2023-06-17T18:34:50.869Z"
      },
      {
        "duration": 28,
        "start_time": "2023-06-17T18:34:50.886Z"
      },
      {
        "duration": 111,
        "start_time": "2023-06-17T18:34:50.916Z"
      },
      {
        "duration": 667,
        "start_time": "2023-06-17T18:34:51.029Z"
      },
      {
        "duration": 164,
        "start_time": "2023-06-17T18:34:51.698Z"
      },
      {
        "duration": 38,
        "start_time": "2023-06-17T18:34:51.863Z"
      },
      {
        "duration": 33,
        "start_time": "2023-06-17T18:34:51.903Z"
      },
      {
        "duration": 46,
        "start_time": "2023-06-17T18:34:51.938Z"
      },
      {
        "duration": 8,
        "start_time": "2023-06-17T18:34:51.985Z"
      },
      {
        "duration": 51,
        "start_time": "2023-06-17T18:34:51.994Z"
      },
      {
        "duration": 5,
        "start_time": "2023-06-17T18:34:52.047Z"
      },
      {
        "duration": 42,
        "start_time": "2023-06-17T18:34:52.053Z"
      },
      {
        "duration": 56,
        "start_time": "2023-06-17T18:34:52.098Z"
      },
      {
        "duration": 73,
        "start_time": "2023-06-17T18:34:52.156Z"
      },
      {
        "duration": 47,
        "start_time": "2023-06-17T18:34:52.231Z"
      },
      {
        "duration": 744,
        "start_time": "2023-06-17T18:34:52.279Z"
      },
      {
        "duration": 16,
        "start_time": "2023-06-17T18:34:53.026Z"
      },
      {
        "duration": 44,
        "start_time": "2023-06-17T18:34:53.044Z"
      },
      {
        "duration": 84,
        "start_time": "2023-06-17T18:34:53.090Z"
      },
      {
        "duration": 35,
        "start_time": "2023-06-17T18:34:53.175Z"
      },
      {
        "duration": 28,
        "start_time": "2023-06-17T18:34:53.212Z"
      },
      {
        "duration": 36,
        "start_time": "2023-06-17T18:34:53.241Z"
      },
      {
        "duration": 71,
        "start_time": "2023-06-17T18:34:53.279Z"
      },
      {
        "duration": 71,
        "start_time": "2023-06-17T18:34:53.351Z"
      },
      {
        "duration": 98,
        "start_time": "2023-06-17T18:34:53.423Z"
      },
      {
        "duration": 62,
        "start_time": "2023-06-17T18:34:53.524Z"
      },
      {
        "duration": 22,
        "start_time": "2023-06-17T18:34:53.587Z"
      },
      {
        "duration": 1604,
        "start_time": "2023-06-17T18:34:53.610Z"
      },
      {
        "duration": 48,
        "start_time": "2023-06-17T18:34:55.221Z"
      },
      {
        "duration": 26550,
        "start_time": "2023-06-17T18:34:55.271Z"
      },
      {
        "duration": 11,
        "start_time": "2023-06-17T18:35:21.823Z"
      },
      {
        "duration": 13,
        "start_time": "2023-06-17T18:35:21.835Z"
      },
      {
        "duration": 1367,
        "start_time": "2023-06-17T18:35:21.850Z"
      },
      {
        "duration": 136,
        "start_time": "2023-06-17T18:35:23.218Z"
      },
      {
        "duration": 2118,
        "start_time": "2023-06-17T18:35:23.356Z"
      },
      {
        "duration": 650,
        "start_time": "2023-06-17T18:36:48.202Z"
      },
      {
        "duration": 12,
        "start_time": "2023-06-17T18:36:50.073Z"
      },
      {
        "duration": 11,
        "start_time": "2023-06-17T18:36:59.002Z"
      },
      {
        "duration": 12,
        "start_time": "2023-06-17T18:37:00.436Z"
      },
      {
        "duration": 35,
        "start_time": "2023-06-17T18:37:02.132Z"
      },
      {
        "duration": 4,
        "start_time": "2023-06-17T18:37:18.592Z"
      },
      {
        "duration": 675,
        "start_time": "2023-06-17T18:37:18.598Z"
      },
      {
        "duration": 11,
        "start_time": "2023-06-17T18:37:19.275Z"
      },
      {
        "duration": 111,
        "start_time": "2023-06-17T18:37:19.288Z"
      },
      {
        "duration": 356,
        "start_time": "2023-06-17T18:37:19.401Z"
      },
      {
        "duration": 344,
        "start_time": "2023-06-17T18:37:19.758Z"
      },
      {
        "duration": 2,
        "start_time": "2023-06-17T18:37:20.104Z"
      },
      {
        "duration": 14,
        "start_time": "2023-06-17T18:37:20.107Z"
      },
      {
        "duration": 104,
        "start_time": "2023-06-17T18:37:20.122Z"
      },
      {
        "duration": 16,
        "start_time": "2023-06-17T18:37:20.228Z"
      },
      {
        "duration": 24,
        "start_time": "2023-06-17T18:37:20.245Z"
      },
      {
        "duration": 19,
        "start_time": "2023-06-17T18:37:20.271Z"
      },
      {
        "duration": 91,
        "start_time": "2023-06-17T18:37:20.292Z"
      },
      {
        "duration": 36,
        "start_time": "2023-06-17T18:37:20.384Z"
      },
      {
        "duration": 134,
        "start_time": "2023-06-17T18:37:20.422Z"
      },
      {
        "duration": 17,
        "start_time": "2023-06-17T18:37:20.558Z"
      },
      {
        "duration": 20,
        "start_time": "2023-06-17T18:37:20.577Z"
      },
      {
        "duration": 118,
        "start_time": "2023-06-17T18:37:20.599Z"
      },
      {
        "duration": 730,
        "start_time": "2023-06-17T18:37:20.719Z"
      },
      {
        "duration": 152,
        "start_time": "2023-06-17T18:37:21.450Z"
      },
      {
        "duration": 49,
        "start_time": "2023-06-17T18:37:21.603Z"
      },
      {
        "duration": 22,
        "start_time": "2023-06-17T18:37:21.654Z"
      },
      {
        "duration": 56,
        "start_time": "2023-06-17T18:37:21.677Z"
      },
      {
        "duration": 7,
        "start_time": "2023-06-17T18:37:21.735Z"
      },
      {
        "duration": 60,
        "start_time": "2023-06-17T18:37:21.744Z"
      },
      {
        "duration": 5,
        "start_time": "2023-06-17T18:37:21.805Z"
      },
      {
        "duration": 61,
        "start_time": "2023-06-17T18:37:21.811Z"
      },
      {
        "duration": 46,
        "start_time": "2023-06-17T18:37:21.873Z"
      },
      {
        "duration": 82,
        "start_time": "2023-06-17T18:37:21.921Z"
      },
      {
        "duration": 80,
        "start_time": "2023-06-17T18:37:22.004Z"
      },
      {
        "duration": 9,
        "start_time": "2023-06-17T18:37:31.775Z"
      },
      {
        "duration": 11,
        "start_time": "2023-06-17T18:37:35.631Z"
      },
      {
        "duration": 719,
        "start_time": "2023-06-17T18:37:48.225Z"
      },
      {
        "duration": 16,
        "start_time": "2023-06-17T18:37:51.535Z"
      },
      {
        "duration": 4,
        "start_time": "2023-06-17T18:38:07.973Z"
      },
      {
        "duration": 669,
        "start_time": "2023-06-17T18:38:07.979Z"
      },
      {
        "duration": 12,
        "start_time": "2023-06-17T18:38:08.649Z"
      },
      {
        "duration": 108,
        "start_time": "2023-06-17T18:38:08.662Z"
      },
      {
        "duration": 349,
        "start_time": "2023-06-17T18:38:08.773Z"
      },
      {
        "duration": 362,
        "start_time": "2023-06-17T18:38:09.124Z"
      },
      {
        "duration": 2,
        "start_time": "2023-06-17T18:38:09.488Z"
      },
      {
        "duration": 20,
        "start_time": "2023-06-17T18:38:09.492Z"
      },
      {
        "duration": 115,
        "start_time": "2023-06-17T18:38:09.513Z"
      },
      {
        "duration": 18,
        "start_time": "2023-06-17T18:38:09.630Z"
      },
      {
        "duration": 26,
        "start_time": "2023-06-17T18:38:09.649Z"
      },
      {
        "duration": 37,
        "start_time": "2023-06-17T18:38:09.677Z"
      },
      {
        "duration": 90,
        "start_time": "2023-06-17T18:38:09.717Z"
      },
      {
        "duration": 129,
        "start_time": "2023-06-17T18:38:09.808Z"
      },
      {
        "duration": 111,
        "start_time": "2023-06-17T18:38:09.939Z"
      },
      {
        "duration": 17,
        "start_time": "2023-06-17T18:38:10.052Z"
      },
      {
        "duration": 29,
        "start_time": "2023-06-17T18:38:10.071Z"
      },
      {
        "duration": 112,
        "start_time": "2023-06-17T18:38:10.102Z"
      },
      {
        "duration": 659,
        "start_time": "2023-06-17T18:38:10.215Z"
      },
      {
        "duration": 148,
        "start_time": "2023-06-17T18:38:10.876Z"
      },
      {
        "duration": 41,
        "start_time": "2023-06-17T18:38:11.025Z"
      },
      {
        "duration": 19,
        "start_time": "2023-06-17T18:38:11.068Z"
      },
      {
        "duration": 60,
        "start_time": "2023-06-17T18:38:11.089Z"
      },
      {
        "duration": 10,
        "start_time": "2023-06-17T18:38:11.150Z"
      },
      {
        "duration": 47,
        "start_time": "2023-06-17T18:38:11.161Z"
      },
      {
        "duration": 14,
        "start_time": "2023-06-17T18:38:11.209Z"
      },
      {
        "duration": 38,
        "start_time": "2023-06-17T18:38:11.224Z"
      },
      {
        "duration": 22,
        "start_time": "2023-06-17T18:38:11.263Z"
      },
      {
        "duration": 64,
        "start_time": "2023-06-17T18:38:11.286Z"
      },
      {
        "duration": 36,
        "start_time": "2023-06-17T18:38:11.351Z"
      },
      {
        "duration": 10,
        "start_time": "2023-06-17T18:38:19.312Z"
      },
      {
        "duration": 11,
        "start_time": "2023-06-17T18:38:21.624Z"
      },
      {
        "duration": 714,
        "start_time": "2023-06-17T18:38:26.822Z"
      },
      {
        "duration": 10,
        "start_time": "2023-06-17T18:38:28.574Z"
      },
      {
        "duration": 11,
        "start_time": "2023-06-17T18:38:29.789Z"
      },
      {
        "duration": 14,
        "start_time": "2023-06-17T18:38:46.902Z"
      },
      {
        "duration": 64,
        "start_time": "2023-06-17T18:39:00.944Z"
      },
      {
        "duration": 36,
        "start_time": "2023-06-17T18:39:02.518Z"
      },
      {
        "duration": 4,
        "start_time": "2023-06-17T18:39:03.436Z"
      },
      {
        "duration": 9,
        "start_time": "2023-06-17T18:39:05.229Z"
      },
      {
        "duration": 60,
        "start_time": "2023-06-17T18:39:08.396Z"
      },
      {
        "duration": 4,
        "start_time": "2023-06-17T18:39:08.740Z"
      },
      {
        "duration": 54,
        "start_time": "2023-06-17T18:39:53.656Z"
      },
      {
        "duration": 25,
        "start_time": "2023-06-17T18:40:13.211Z"
      },
      {
        "duration": 11,
        "start_time": "2023-06-17T18:41:19.666Z"
      },
      {
        "duration": 64,
        "start_time": "2023-06-17T18:41:20.138Z"
      },
      {
        "duration": 27,
        "start_time": "2023-06-17T18:41:20.843Z"
      },
      {
        "duration": 3,
        "start_time": "2023-06-17T18:41:21.555Z"
      },
      {
        "duration": 2445,
        "start_time": "2023-06-17T18:41:26.578Z"
      },
      {
        "duration": 28754,
        "start_time": "2023-06-17T18:41:53.468Z"
      },
      {
        "duration": 2046,
        "start_time": "2023-06-17T18:43:26.166Z"
      },
      {
        "duration": 1520,
        "start_time": "2023-06-17T18:44:20.333Z"
      },
      {
        "duration": 2152,
        "start_time": "2023-06-17T18:44:26.677Z"
      },
      {
        "duration": 87,
        "start_time": "2023-06-17T18:44:54.556Z"
      },
      {
        "duration": 11,
        "start_time": "2023-06-17T18:44:56.891Z"
      },
      {
        "duration": 10,
        "start_time": "2023-06-17T18:44:58.681Z"
      },
      {
        "duration": 1168,
        "start_time": "2023-06-17T18:45:00.363Z"
      },
      {
        "duration": 1519,
        "start_time": "2023-06-17T18:45:18.812Z"
      },
      {
        "duration": 12,
        "start_time": "2023-06-17T18:45:57.576Z"
      },
      {
        "duration": 315,
        "start_time": "2023-06-17T18:47:05.631Z"
      },
      {
        "duration": 106,
        "start_time": "2023-06-17T18:47:28.471Z"
      },
      {
        "duration": 176,
        "start_time": "2023-06-17T18:47:36.509Z"
      },
      {
        "duration": 1399,
        "start_time": "2023-06-17T18:47:43.630Z"
      },
      {
        "duration": 428,
        "start_time": "2023-06-17T19:04:51.954Z"
      },
      {
        "duration": 2710,
        "start_time": "2023-06-17T19:05:01.206Z"
      },
      {
        "duration": 79,
        "start_time": "2023-06-17T19:05:24.431Z"
      },
      {
        "duration": 11,
        "start_time": "2023-06-17T19:05:25.440Z"
      },
      {
        "duration": 9,
        "start_time": "2023-06-17T19:05:27.089Z"
      },
      {
        "duration": 1247,
        "start_time": "2023-06-17T19:05:34.568Z"
      },
      {
        "duration": 1232,
        "start_time": "2023-06-17T19:05:48.023Z"
      },
      {
        "duration": 21,
        "start_time": "2023-06-17T19:07:06.046Z"
      },
      {
        "duration": 63,
        "start_time": "2023-06-17T19:07:06.557Z"
      },
      {
        "duration": 45,
        "start_time": "2023-06-17T19:07:07.004Z"
      },
      {
        "duration": 4,
        "start_time": "2023-06-17T19:07:07.670Z"
      },
      {
        "duration": 2164,
        "start_time": "2023-06-17T19:07:13.221Z"
      },
      {
        "duration": 53,
        "start_time": "2023-06-17T19:07:50.822Z"
      },
      {
        "duration": 11,
        "start_time": "2023-06-17T19:07:51.539Z"
      },
      {
        "duration": 9,
        "start_time": "2023-06-17T19:07:51.979Z"
      },
      {
        "duration": 799,
        "start_time": "2023-06-17T19:07:53.532Z"
      },
      {
        "duration": 11,
        "start_time": "2023-06-17T19:07:59.541Z"
      },
      {
        "duration": 764,
        "start_time": "2023-06-17T19:08:15.531Z"
      },
      {
        "duration": 1225,
        "start_time": "2023-06-17T19:08:26.340Z"
      },
      {
        "duration": 11,
        "start_time": "2023-06-17T19:11:17.909Z"
      },
      {
        "duration": 1243,
        "start_time": "2023-06-17T19:11:56.253Z"
      },
      {
        "duration": 83,
        "start_time": "2023-06-17T19:12:35.194Z"
      },
      {
        "duration": 9,
        "start_time": "2023-06-17T19:12:38.166Z"
      },
      {
        "duration": 1160,
        "start_time": "2023-06-17T19:12:42.043Z"
      },
      {
        "duration": 1155,
        "start_time": "2023-06-17T19:12:45.916Z"
      },
      {
        "duration": 12,
        "start_time": "2023-06-17T19:41:54.240Z"
      },
      {
        "duration": 10,
        "start_time": "2023-06-17T19:44:17.916Z"
      },
      {
        "duration": 5,
        "start_time": "2023-06-17T19:44:23.276Z"
      },
      {
        "duration": 70,
        "start_time": "2023-06-17T19:44:44.845Z"
      },
      {
        "duration": 1091,
        "start_time": "2023-06-17T19:44:47.390Z"
      },
      {
        "duration": 1934,
        "start_time": "2023-06-17T19:44:51.271Z"
      },
      {
        "duration": 87,
        "start_time": "2023-06-17T19:45:27.387Z"
      },
      {
        "duration": 388,
        "start_time": "2023-06-17T19:45:32.289Z"
      },
      {
        "duration": 2149,
        "start_time": "2023-06-17T19:45:35.588Z"
      },
      {
        "duration": 1494,
        "start_time": "2023-06-17T19:46:36.839Z"
      },
      {
        "duration": 46,
        "start_time": "2023-06-17T19:54:06.348Z"
      },
      {
        "duration": 1281,
        "start_time": "2023-06-17T19:54:25.785Z"
      },
      {
        "duration": 1015,
        "start_time": "2023-06-17T19:54:27.068Z"
      },
      {
        "duration": 22,
        "start_time": "2023-06-17T19:54:28.085Z"
      },
      {
        "duration": 165,
        "start_time": "2023-06-17T19:54:28.109Z"
      },
      {
        "duration": 456,
        "start_time": "2023-06-17T19:54:28.277Z"
      },
      {
        "duration": 496,
        "start_time": "2023-06-17T19:54:28.735Z"
      },
      {
        "duration": 3,
        "start_time": "2023-06-17T19:54:29.233Z"
      },
      {
        "duration": 15,
        "start_time": "2023-06-17T19:54:29.238Z"
      },
      {
        "duration": 142,
        "start_time": "2023-06-17T19:54:29.254Z"
      },
      {
        "duration": 22,
        "start_time": "2023-06-17T19:54:29.398Z"
      },
      {
        "duration": 38,
        "start_time": "2023-06-17T19:54:29.422Z"
      },
      {
        "duration": 21,
        "start_time": "2023-06-17T19:54:29.462Z"
      },
      {
        "duration": 126,
        "start_time": "2023-06-17T19:54:29.484Z"
      },
      {
        "duration": 32,
        "start_time": "2023-06-17T19:54:29.613Z"
      },
      {
        "duration": 141,
        "start_time": "2023-06-17T19:54:29.648Z"
      },
      {
        "duration": 19,
        "start_time": "2023-06-17T19:54:29.790Z"
      },
      {
        "duration": 78,
        "start_time": "2023-06-17T19:54:29.811Z"
      },
      {
        "duration": 105,
        "start_time": "2023-06-17T19:54:29.891Z"
      },
      {
        "duration": 878,
        "start_time": "2023-06-17T19:54:29.998Z"
      },
      {
        "duration": 158,
        "start_time": "2023-06-17T19:54:30.877Z"
      },
      {
        "duration": 52,
        "start_time": "2023-06-17T19:54:31.037Z"
      },
      {
        "duration": 99,
        "start_time": "2023-06-17T19:54:31.091Z"
      },
      {
        "duration": 76,
        "start_time": "2023-06-17T19:54:31.192Z"
      },
      {
        "duration": 11,
        "start_time": "2023-06-17T19:54:31.270Z"
      },
      {
        "duration": 68,
        "start_time": "2023-06-17T19:54:31.283Z"
      },
      {
        "duration": 7,
        "start_time": "2023-06-17T19:54:31.353Z"
      },
      {
        "duration": 44,
        "start_time": "2023-06-17T19:54:31.361Z"
      },
      {
        "duration": 49,
        "start_time": "2023-06-17T19:54:31.406Z"
      },
      {
        "duration": 110,
        "start_time": "2023-06-17T19:54:31.456Z"
      },
      {
        "duration": 71,
        "start_time": "2023-06-17T19:54:31.568Z"
      },
      {
        "duration": 62,
        "start_time": "2023-06-17T19:54:51.059Z"
      },
      {
        "duration": 860,
        "start_time": "2023-06-17T19:54:54.722Z"
      },
      {
        "duration": 88,
        "start_time": "2023-06-17T19:55:01.344Z"
      },
      {
        "duration": 382,
        "start_time": "2023-06-17T19:55:05.002Z"
      },
      {
        "duration": 60,
        "start_time": "2023-06-17T20:05:28.323Z"
      },
      {
        "duration": 1539,
        "start_time": "2023-06-17T20:05:40.894Z"
      },
      {
        "duration": 1113,
        "start_time": "2023-06-17T20:05:42.435Z"
      },
      {
        "duration": 22,
        "start_time": "2023-06-17T20:05:43.549Z"
      },
      {
        "duration": 131,
        "start_time": "2023-06-17T20:05:43.574Z"
      },
      {
        "duration": 435,
        "start_time": "2023-06-17T20:05:43.707Z"
      },
      {
        "duration": 546,
        "start_time": "2023-06-17T20:05:44.144Z"
      },
      {
        "duration": 4,
        "start_time": "2023-06-17T20:05:44.692Z"
      },
      {
        "duration": 24,
        "start_time": "2023-06-17T20:05:44.697Z"
      },
      {
        "duration": 176,
        "start_time": "2023-06-17T20:05:44.723Z"
      },
      {
        "duration": 26,
        "start_time": "2023-06-17T20:05:44.902Z"
      },
      {
        "duration": 48,
        "start_time": "2023-06-17T20:05:44.931Z"
      },
      {
        "duration": 37,
        "start_time": "2023-06-17T20:05:44.981Z"
      },
      {
        "duration": 162,
        "start_time": "2023-06-17T20:05:45.020Z"
      },
      {
        "duration": 29,
        "start_time": "2023-06-17T20:05:45.184Z"
      },
      {
        "duration": 241,
        "start_time": "2023-06-17T20:05:45.214Z"
      },
      {
        "duration": 23,
        "start_time": "2023-06-17T20:05:45.457Z"
      },
      {
        "duration": 47,
        "start_time": "2023-06-17T20:05:45.482Z"
      },
      {
        "duration": 228,
        "start_time": "2023-06-17T20:05:45.531Z"
      },
      {
        "duration": 796,
        "start_time": "2023-06-17T20:05:45.762Z"
      },
      {
        "duration": 201,
        "start_time": "2023-06-17T20:05:46.560Z"
      },
      {
        "duration": 66,
        "start_time": "2023-06-17T20:05:46.763Z"
      },
      {
        "duration": 31,
        "start_time": "2023-06-17T20:05:46.832Z"
      },
      {
        "duration": 73,
        "start_time": "2023-06-17T20:05:46.865Z"
      },
      {
        "duration": 11,
        "start_time": "2023-06-17T20:05:46.940Z"
      },
      {
        "duration": 69,
        "start_time": "2023-06-17T20:05:46.953Z"
      },
      {
        "duration": 5,
        "start_time": "2023-06-17T20:05:47.024Z"
      },
      {
        "duration": 35,
        "start_time": "2023-06-17T20:05:47.031Z"
      },
      {
        "duration": 50,
        "start_time": "2023-06-17T20:05:47.071Z"
      },
      {
        "duration": 127,
        "start_time": "2023-06-17T20:05:47.123Z"
      },
      {
        "duration": 56,
        "start_time": "2023-06-17T20:05:47.252Z"
      },
      {
        "duration": 988,
        "start_time": "2023-06-17T20:05:47.310Z"
      },
      {
        "duration": 15,
        "start_time": "2023-06-17T20:05:48.299Z"
      },
      {
        "duration": 51,
        "start_time": "2023-06-17T20:05:48.319Z"
      },
      {
        "duration": 75,
        "start_time": "2023-06-17T20:05:48.372Z"
      },
      {
        "duration": 93,
        "start_time": "2023-06-17T20:05:48.449Z"
      },
      {
        "duration": 47,
        "start_time": "2023-06-17T20:05:48.544Z"
      },
      {
        "duration": 6,
        "start_time": "2023-06-17T20:05:48.593Z"
      },
      {
        "duration": 40,
        "start_time": "2023-06-17T20:05:48.600Z"
      },
      {
        "duration": 202,
        "start_time": "2023-06-17T20:05:48.642Z"
      },
      {
        "duration": 205,
        "start_time": "2023-06-17T20:05:48.921Z"
      },
      {
        "duration": 0,
        "start_time": "2023-06-17T20:05:49.128Z"
      },
      {
        "duration": 0,
        "start_time": "2023-06-17T20:05:49.132Z"
      },
      {
        "duration": 0,
        "start_time": "2023-06-17T20:05:49.134Z"
      },
      {
        "duration": 0,
        "start_time": "2023-06-17T20:05:49.137Z"
      },
      {
        "duration": 0,
        "start_time": "2023-06-17T20:05:49.138Z"
      },
      {
        "duration": 0,
        "start_time": "2023-06-17T20:05:49.139Z"
      },
      {
        "duration": 0,
        "start_time": "2023-06-17T20:05:49.140Z"
      },
      {
        "duration": 0,
        "start_time": "2023-06-17T20:05:49.142Z"
      },
      {
        "duration": 0,
        "start_time": "2023-06-17T20:05:49.144Z"
      },
      {
        "duration": 0,
        "start_time": "2023-06-17T20:05:49.145Z"
      },
      {
        "duration": 0,
        "start_time": "2023-06-17T20:05:49.147Z"
      },
      {
        "duration": 0,
        "start_time": "2023-06-17T20:05:49.150Z"
      },
      {
        "duration": 103,
        "start_time": "2023-06-17T20:06:03.227Z"
      },
      {
        "duration": 6,
        "start_time": "2023-06-17T20:06:03.333Z"
      },
      {
        "duration": 31,
        "start_time": "2023-06-17T20:06:03.420Z"
      },
      {
        "duration": 33,
        "start_time": "2023-06-17T20:06:03.453Z"
      },
      {
        "duration": 1994,
        "start_time": "2023-06-17T20:06:03.488Z"
      },
      {
        "duration": 394349,
        "start_time": "2023-06-17T20:06:05.485Z"
      },
      {
        "duration": 0,
        "start_time": "2023-06-17T20:12:39.836Z"
      },
      {
        "duration": 0,
        "start_time": "2023-06-17T20:12:39.837Z"
      },
      {
        "duration": 0,
        "start_time": "2023-06-17T20:12:39.839Z"
      },
      {
        "duration": 0,
        "start_time": "2023-06-17T20:12:39.840Z"
      },
      {
        "duration": 0,
        "start_time": "2023-06-17T20:12:39.841Z"
      },
      {
        "duration": 0,
        "start_time": "2023-06-17T20:12:39.843Z"
      },
      {
        "duration": 0,
        "start_time": "2023-06-17T20:12:39.844Z"
      },
      {
        "duration": 0,
        "start_time": "2023-06-17T20:12:39.847Z"
      },
      {
        "duration": 159,
        "start_time": "2023-06-17T20:12:42.361Z"
      },
      {
        "duration": 127,
        "start_time": "2023-06-17T20:12:45.298Z"
      },
      {
        "duration": 111,
        "start_time": "2023-06-17T20:12:46.317Z"
      },
      {
        "duration": 47,
        "start_time": "2023-06-17T20:13:57.186Z"
      },
      {
        "duration": 1748,
        "start_time": "2023-06-17T20:15:06.944Z"
      },
      {
        "duration": 6,
        "start_time": "2023-06-17T20:33:24.175Z"
      },
      {
        "duration": 1479,
        "start_time": "2023-06-17T20:33:24.184Z"
      },
      {
        "duration": 24,
        "start_time": "2023-06-17T20:33:25.665Z"
      },
      {
        "duration": 224,
        "start_time": "2023-06-17T20:33:25.691Z"
      },
      {
        "duration": 624,
        "start_time": "2023-06-17T20:33:25.917Z"
      },
      {
        "duration": 655,
        "start_time": "2023-06-17T20:33:26.543Z"
      },
      {
        "duration": 3,
        "start_time": "2023-06-17T20:33:27.203Z"
      },
      {
        "duration": 59,
        "start_time": "2023-06-17T20:33:27.209Z"
      },
      {
        "duration": 244,
        "start_time": "2023-06-17T20:33:27.272Z"
      },
      {
        "duration": 32,
        "start_time": "2023-06-17T20:33:27.518Z"
      },
      {
        "duration": 65,
        "start_time": "2023-06-17T20:33:27.552Z"
      },
      {
        "duration": 43,
        "start_time": "2023-06-17T20:33:27.619Z"
      },
      {
        "duration": 178,
        "start_time": "2023-06-17T20:33:27.666Z"
      },
      {
        "duration": 33,
        "start_time": "2023-06-17T20:33:27.850Z"
      },
      {
        "duration": 238,
        "start_time": "2023-06-17T20:33:27.887Z"
      },
      {
        "duration": 32,
        "start_time": "2023-06-17T20:33:28.127Z"
      },
      {
        "duration": 35,
        "start_time": "2023-06-17T20:33:28.161Z"
      },
      {
        "duration": 207,
        "start_time": "2023-06-17T20:33:28.202Z"
      },
      {
        "duration": 1162,
        "start_time": "2023-06-17T20:33:28.411Z"
      },
      {
        "duration": 200,
        "start_time": "2023-06-17T20:33:29.575Z"
      },
      {
        "duration": 55,
        "start_time": "2023-06-17T20:33:29.777Z"
      },
      {
        "duration": 35,
        "start_time": "2023-06-17T20:33:29.834Z"
      },
      {
        "duration": 78,
        "start_time": "2023-06-17T20:33:29.871Z"
      },
      {
        "duration": 8,
        "start_time": "2023-06-17T20:33:29.959Z"
      },
      {
        "duration": 60,
        "start_time": "2023-06-17T20:33:29.970Z"
      },
      {
        "duration": 10,
        "start_time": "2023-06-17T20:33:30.032Z"
      },
      {
        "duration": 98,
        "start_time": "2023-06-17T20:33:30.043Z"
      },
      {
        "duration": 63,
        "start_time": "2023-06-17T20:33:30.145Z"
      },
      {
        "duration": 107,
        "start_time": "2023-06-17T20:33:30.212Z"
      },
      {
        "duration": 59,
        "start_time": "2023-06-17T20:33:30.321Z"
      },
      {
        "duration": 1008,
        "start_time": "2023-06-17T20:33:30.382Z"
      },
      {
        "duration": 12,
        "start_time": "2023-06-17T20:33:31.392Z"
      },
      {
        "duration": 60,
        "start_time": "2023-06-17T20:33:31.428Z"
      },
      {
        "duration": 100,
        "start_time": "2023-06-17T20:33:31.489Z"
      },
      {
        "duration": 165,
        "start_time": "2023-06-17T20:33:31.592Z"
      },
      {
        "duration": 42,
        "start_time": "2023-06-17T20:33:31.759Z"
      },
      {
        "duration": 5,
        "start_time": "2023-06-17T20:33:31.803Z"
      },
      {
        "duration": 76,
        "start_time": "2023-06-17T20:33:31.810Z"
      },
      {
        "duration": 175,
        "start_time": "2023-06-17T20:33:31.888Z"
      },
      {
        "duration": 6,
        "start_time": "2023-06-17T20:33:32.064Z"
      },
      {
        "duration": 71,
        "start_time": "2023-06-17T20:33:32.121Z"
      },
      {
        "duration": 34,
        "start_time": "2023-06-17T20:33:32.194Z"
      },
      {
        "duration": 1671,
        "start_time": "2023-06-18T13:11:38.393Z"
      },
      {
        "duration": 2882,
        "start_time": "2023-06-18T13:11:40.068Z"
      },
      {
        "duration": 16,
        "start_time": "2023-06-18T13:11:42.952Z"
      },
      {
        "duration": 119,
        "start_time": "2023-06-18T13:11:42.970Z"
      },
      {
        "duration": 440,
        "start_time": "2023-06-18T13:11:43.091Z"
      },
      {
        "duration": 524,
        "start_time": "2023-06-18T13:11:43.533Z"
      },
      {
        "duration": 4,
        "start_time": "2023-06-18T13:11:44.059Z"
      },
      {
        "duration": 19,
        "start_time": "2023-06-18T13:11:44.064Z"
      },
      {
        "duration": 187,
        "start_time": "2023-06-18T13:11:44.085Z"
      },
      {
        "duration": 18,
        "start_time": "2023-06-18T13:11:44.274Z"
      },
      {
        "duration": 32,
        "start_time": "2023-06-18T13:11:44.293Z"
      },
      {
        "duration": 22,
        "start_time": "2023-06-18T13:11:44.327Z"
      },
      {
        "duration": 115,
        "start_time": "2023-06-18T13:11:44.351Z"
      },
      {
        "duration": 18,
        "start_time": "2023-06-18T13:11:44.470Z"
      },
      {
        "duration": 148,
        "start_time": "2023-06-18T13:11:44.489Z"
      },
      {
        "duration": 18,
        "start_time": "2023-06-18T13:11:44.639Z"
      },
      {
        "duration": 37,
        "start_time": "2023-06-18T13:11:44.659Z"
      },
      {
        "duration": 111,
        "start_time": "2023-06-18T13:11:44.698Z"
      },
      {
        "duration": 944,
        "start_time": "2023-06-18T13:11:44.811Z"
      },
      {
        "duration": 206,
        "start_time": "2023-06-18T13:11:45.757Z"
      },
      {
        "duration": 62,
        "start_time": "2023-06-18T13:11:45.964Z"
      },
      {
        "duration": 21,
        "start_time": "2023-06-18T13:11:46.028Z"
      },
      {
        "duration": 64,
        "start_time": "2023-06-18T13:11:46.051Z"
      },
      {
        "duration": 8,
        "start_time": "2023-06-18T13:11:46.117Z"
      },
      {
        "duration": 46,
        "start_time": "2023-06-18T13:11:46.126Z"
      },
      {
        "duration": 6,
        "start_time": "2023-06-18T13:11:46.173Z"
      },
      {
        "duration": 54,
        "start_time": "2023-06-18T13:11:46.180Z"
      },
      {
        "duration": 31,
        "start_time": "2023-06-18T13:11:46.235Z"
      },
      {
        "duration": 68,
        "start_time": "2023-06-18T13:11:46.268Z"
      },
      {
        "duration": 37,
        "start_time": "2023-06-18T13:11:46.337Z"
      },
      {
        "duration": 897,
        "start_time": "2023-06-18T13:11:46.375Z"
      },
      {
        "duration": 10,
        "start_time": "2023-06-18T13:11:47.274Z"
      },
      {
        "duration": 27,
        "start_time": "2023-06-18T13:11:47.286Z"
      },
      {
        "duration": 53,
        "start_time": "2023-06-18T13:11:47.315Z"
      },
      {
        "duration": 93,
        "start_time": "2023-06-18T13:11:47.370Z"
      },
      {
        "duration": 40,
        "start_time": "2023-06-18T13:11:47.465Z"
      },
      {
        "duration": 4,
        "start_time": "2023-06-18T13:11:47.513Z"
      },
      {
        "duration": 29,
        "start_time": "2023-06-18T13:11:47.519Z"
      },
      {
        "duration": 165,
        "start_time": "2023-06-18T13:11:47.550Z"
      },
      {
        "duration": 5,
        "start_time": "2023-06-18T13:11:47.716Z"
      },
      {
        "duration": 89,
        "start_time": "2023-06-18T13:11:47.725Z"
      },
      {
        "duration": 7,
        "start_time": "2023-06-18T13:11:47.816Z"
      },
      {
        "duration": 1843,
        "start_time": "2023-06-18T17:00:15.846Z"
      },
      {
        "duration": 4861,
        "start_time": "2023-06-18T17:00:17.692Z"
      },
      {
        "duration": 20,
        "start_time": "2023-06-18T17:00:22.561Z"
      },
      {
        "duration": 167,
        "start_time": "2023-06-18T17:00:22.583Z"
      },
      {
        "duration": 556,
        "start_time": "2023-06-18T17:00:22.766Z"
      },
      {
        "duration": 652,
        "start_time": "2023-06-18T17:00:23.339Z"
      },
      {
        "duration": 3,
        "start_time": "2023-06-18T17:00:23.994Z"
      },
      {
        "duration": 46,
        "start_time": "2023-06-18T17:00:24.000Z"
      },
      {
        "duration": 197,
        "start_time": "2023-06-18T17:00:24.048Z"
      },
      {
        "duration": 29,
        "start_time": "2023-06-18T17:00:24.256Z"
      },
      {
        "duration": 39,
        "start_time": "2023-06-18T17:00:24.287Z"
      },
      {
        "duration": 43,
        "start_time": "2023-06-18T17:00:24.328Z"
      },
      {
        "duration": 121,
        "start_time": "2023-06-18T17:00:24.373Z"
      },
      {
        "duration": 39,
        "start_time": "2023-06-18T17:00:24.497Z"
      },
      {
        "duration": 186,
        "start_time": "2023-06-18T17:00:24.537Z"
      },
      {
        "duration": 31,
        "start_time": "2023-06-18T17:00:24.725Z"
      },
      {
        "duration": 30,
        "start_time": "2023-06-18T17:00:24.762Z"
      },
      {
        "duration": 170,
        "start_time": "2023-06-18T17:00:24.794Z"
      },
      {
        "duration": 1144,
        "start_time": "2023-06-18T17:00:24.966Z"
      },
      {
        "duration": 237,
        "start_time": "2023-06-18T17:00:26.111Z"
      },
      {
        "duration": 65,
        "start_time": "2023-06-18T17:00:26.354Z"
      },
      {
        "duration": 33,
        "start_time": "2023-06-18T17:00:26.426Z"
      },
      {
        "duration": 68,
        "start_time": "2023-06-18T17:00:26.464Z"
      },
      {
        "duration": 20,
        "start_time": "2023-06-18T17:00:26.538Z"
      },
      {
        "duration": 54,
        "start_time": "2023-06-18T17:00:26.563Z"
      },
      {
        "duration": 9,
        "start_time": "2023-06-18T17:00:26.623Z"
      },
      {
        "duration": 49,
        "start_time": "2023-06-18T17:00:26.639Z"
      },
      {
        "duration": 33,
        "start_time": "2023-06-18T17:00:26.690Z"
      },
      {
        "duration": 96,
        "start_time": "2023-06-18T17:00:26.728Z"
      },
      {
        "duration": 54,
        "start_time": "2023-06-18T17:00:26.829Z"
      },
      {
        "duration": 1397,
        "start_time": "2023-06-18T17:00:26.888Z"
      },
      {
        "duration": 20,
        "start_time": "2023-06-18T17:00:28.290Z"
      },
      {
        "duration": 67,
        "start_time": "2023-06-18T17:00:28.312Z"
      },
      {
        "duration": 17,
        "start_time": "2023-06-18T17:00:28.384Z"
      },
      {
        "duration": 121,
        "start_time": "2023-06-18T17:00:28.403Z"
      },
      {
        "duration": 73,
        "start_time": "2023-06-18T17:00:28.526Z"
      },
      {
        "duration": 6,
        "start_time": "2023-06-18T17:00:28.601Z"
      },
      {
        "duration": 31,
        "start_time": "2023-06-18T17:00:28.608Z"
      },
      {
        "duration": 246,
        "start_time": "2023-06-18T17:00:28.641Z"
      },
      {
        "duration": 6,
        "start_time": "2023-06-18T17:00:28.891Z"
      },
      {
        "duration": 26,
        "start_time": "2023-06-18T17:00:28.933Z"
      },
      {
        "duration": 23,
        "start_time": "2023-06-18T17:00:28.962Z"
      },
      {
        "duration": 80,
        "start_time": "2023-06-18T17:01:42.638Z"
      },
      {
        "duration": 2533,
        "start_time": "2023-06-18T17:01:55.302Z"
      },
      {
        "duration": 5222,
        "start_time": "2023-06-18T17:01:57.838Z"
      },
      {
        "duration": 37,
        "start_time": "2023-06-18T17:02:03.062Z"
      },
      {
        "duration": 190,
        "start_time": "2023-06-18T17:02:03.101Z"
      },
      {
        "duration": 669,
        "start_time": "2023-06-18T17:02:03.294Z"
      },
      {
        "duration": 690,
        "start_time": "2023-06-18T17:02:03.966Z"
      },
      {
        "duration": 3,
        "start_time": "2023-06-18T17:02:04.658Z"
      },
      {
        "duration": 2,
        "start_time": "2023-06-18T17:02:04.663Z"
      },
      {
        "duration": 204,
        "start_time": "2023-06-18T17:02:04.667Z"
      },
      {
        "duration": 33,
        "start_time": "2023-06-18T17:02:04.878Z"
      },
      {
        "duration": 71,
        "start_time": "2023-06-18T17:02:04.913Z"
      },
      {
        "duration": 38,
        "start_time": "2023-06-18T17:02:04.989Z"
      },
      {
        "duration": 214,
        "start_time": "2023-06-18T17:02:05.031Z"
      },
      {
        "duration": 34,
        "start_time": "2023-06-18T17:02:05.254Z"
      },
      {
        "duration": 202,
        "start_time": "2023-06-18T17:02:05.291Z"
      },
      {
        "duration": 30,
        "start_time": "2023-06-18T17:02:05.499Z"
      },
      {
        "duration": 59,
        "start_time": "2023-06-18T17:02:05.534Z"
      },
      {
        "duration": 196,
        "start_time": "2023-06-18T17:02:05.595Z"
      },
      {
        "duration": 1133,
        "start_time": "2023-06-18T17:02:05.794Z"
      },
      {
        "duration": 258,
        "start_time": "2023-06-18T17:02:06.928Z"
      },
      {
        "duration": 80,
        "start_time": "2023-06-18T17:02:07.190Z"
      },
      {
        "duration": 29,
        "start_time": "2023-06-18T17:02:07.273Z"
      },
      {
        "duration": 86,
        "start_time": "2023-06-18T17:02:07.303Z"
      },
      {
        "duration": 9,
        "start_time": "2023-06-18T17:02:07.394Z"
      },
      {
        "duration": 63,
        "start_time": "2023-06-18T17:02:07.404Z"
      },
      {
        "duration": 12,
        "start_time": "2023-06-18T17:02:07.469Z"
      },
      {
        "duration": 72,
        "start_time": "2023-06-18T17:02:07.491Z"
      },
      {
        "duration": 28,
        "start_time": "2023-06-18T17:02:07.565Z"
      },
      {
        "duration": 97,
        "start_time": "2023-06-18T17:02:07.595Z"
      },
      {
        "duration": 49,
        "start_time": "2023-06-18T17:02:07.695Z"
      },
      {
        "duration": 1288,
        "start_time": "2023-06-18T17:02:07.746Z"
      },
      {
        "duration": 21,
        "start_time": "2023-06-18T17:02:09.036Z"
      },
      {
        "duration": 34,
        "start_time": "2023-06-18T17:02:09.059Z"
      },
      {
        "duration": 16,
        "start_time": "2023-06-18T17:02:09.095Z"
      },
      {
        "duration": 115,
        "start_time": "2023-06-18T17:02:09.112Z"
      },
      {
        "duration": 78,
        "start_time": "2023-06-18T17:02:09.233Z"
      },
      {
        "duration": 20,
        "start_time": "2023-06-18T17:02:09.316Z"
      },
      {
        "duration": 33,
        "start_time": "2023-06-18T17:02:09.346Z"
      },
      {
        "duration": 289,
        "start_time": "2023-06-18T17:02:09.381Z"
      },
      {
        "duration": 3,
        "start_time": "2023-06-18T17:02:09.675Z"
      },
      {
        "duration": 9,
        "start_time": "2023-06-18T17:02:09.684Z"
      },
      {
        "duration": 22,
        "start_time": "2023-06-18T17:02:09.696Z"
      },
      {
        "duration": 20,
        "start_time": "2023-06-18T17:03:50.159Z"
      },
      {
        "duration": 2880,
        "start_time": "2023-06-18T17:03:58.994Z"
      },
      {
        "duration": 5263,
        "start_time": "2023-06-18T17:04:01.880Z"
      },
      {
        "duration": 34,
        "start_time": "2023-06-18T17:04:07.153Z"
      },
      {
        "duration": 180,
        "start_time": "2023-06-18T17:04:07.190Z"
      },
      {
        "duration": 693,
        "start_time": "2023-06-18T17:04:07.373Z"
      },
      {
        "duration": 665,
        "start_time": "2023-06-18T17:04:08.069Z"
      },
      {
        "duration": 4,
        "start_time": "2023-06-18T17:04:08.735Z"
      },
      {
        "duration": 11,
        "start_time": "2023-06-18T17:04:08.741Z"
      },
      {
        "duration": 193,
        "start_time": "2023-06-18T17:04:08.754Z"
      },
      {
        "duration": 35,
        "start_time": "2023-06-18T17:04:08.953Z"
      },
      {
        "duration": 20,
        "start_time": "2023-06-18T17:04:08.991Z"
      },
      {
        "duration": 55,
        "start_time": "2023-06-18T17:04:09.012Z"
      },
      {
        "duration": 142,
        "start_time": "2023-06-18T17:04:09.079Z"
      },
      {
        "duration": 31,
        "start_time": "2023-06-18T17:04:09.226Z"
      },
      {
        "duration": 186,
        "start_time": "2023-06-18T17:04:09.259Z"
      },
      {
        "duration": 30,
        "start_time": "2023-06-18T17:04:09.447Z"
      },
      {
        "duration": 40,
        "start_time": "2023-06-18T17:04:09.482Z"
      },
      {
        "duration": 188,
        "start_time": "2023-06-18T17:04:09.534Z"
      },
      {
        "duration": 1252,
        "start_time": "2023-06-18T17:04:09.727Z"
      },
      {
        "duration": 277,
        "start_time": "2023-06-18T17:04:10.983Z"
      },
      {
        "duration": 82,
        "start_time": "2023-06-18T17:04:11.266Z"
      },
      {
        "duration": 33,
        "start_time": "2023-06-18T17:04:11.350Z"
      },
      {
        "duration": 76,
        "start_time": "2023-06-18T17:04:11.387Z"
      },
      {
        "duration": 11,
        "start_time": "2023-06-18T17:04:11.465Z"
      },
      {
        "duration": 66,
        "start_time": "2023-06-18T17:04:11.478Z"
      },
      {
        "duration": 7,
        "start_time": "2023-06-18T17:04:11.546Z"
      },
      {
        "duration": 63,
        "start_time": "2023-06-18T17:04:11.556Z"
      },
      {
        "duration": 56,
        "start_time": "2023-06-18T17:04:11.620Z"
      },
      {
        "duration": 126,
        "start_time": "2023-06-18T17:04:11.678Z"
      },
      {
        "duration": 57,
        "start_time": "2023-06-18T17:04:11.806Z"
      },
      {
        "duration": 1310,
        "start_time": "2023-06-18T17:04:11.865Z"
      },
      {
        "duration": 13,
        "start_time": "2023-06-18T17:04:13.177Z"
      },
      {
        "duration": 21,
        "start_time": "2023-06-18T17:04:13.192Z"
      },
      {
        "duration": 46,
        "start_time": "2023-06-18T17:04:13.215Z"
      },
      {
        "duration": 114,
        "start_time": "2023-06-18T17:04:13.264Z"
      },
      {
        "duration": 58,
        "start_time": "2023-06-18T17:04:13.379Z"
      },
      {
        "duration": 5,
        "start_time": "2023-06-18T17:04:13.439Z"
      },
      {
        "duration": 39,
        "start_time": "2023-06-18T17:04:13.450Z"
      },
      {
        "duration": 250,
        "start_time": "2023-06-18T17:04:13.491Z"
      },
      {
        "duration": 28,
        "start_time": "2023-06-18T17:04:13.760Z"
      },
      {
        "duration": 14,
        "start_time": "2023-06-18T17:04:13.793Z"
      },
      {
        "duration": 22,
        "start_time": "2023-06-18T17:04:13.812Z"
      },
      {
        "duration": 31875,
        "start_time": "2023-06-18T17:04:18.330Z"
      },
      {
        "duration": 3636819,
        "start_time": "2023-06-18T17:05:32.446Z"
      },
      {
        "duration": 5,
        "start_time": "2023-06-18T20:44:39.075Z"
      },
      {
        "duration": 1059,
        "start_time": "2023-06-18T20:44:39.085Z"
      },
      {
        "duration": 17,
        "start_time": "2023-06-18T20:44:40.147Z"
      },
      {
        "duration": 169,
        "start_time": "2023-06-18T20:44:40.166Z"
      },
      {
        "duration": 564,
        "start_time": "2023-06-18T20:44:40.337Z"
      },
      {
        "duration": 526,
        "start_time": "2023-06-18T20:44:40.907Z"
      },
      {
        "duration": 25,
        "start_time": "2023-06-18T20:44:41.437Z"
      },
      {
        "duration": 7,
        "start_time": "2023-06-18T20:44:41.473Z"
      },
      {
        "duration": 186,
        "start_time": "2023-06-18T20:44:41.492Z"
      },
      {
        "duration": 26,
        "start_time": "2023-06-18T20:44:41.684Z"
      },
      {
        "duration": 42,
        "start_time": "2023-06-18T20:44:41.714Z"
      },
      {
        "duration": 31,
        "start_time": "2023-06-18T20:44:41.765Z"
      },
      {
        "duration": 163,
        "start_time": "2023-06-18T20:44:41.800Z"
      },
      {
        "duration": 33,
        "start_time": "2023-06-18T20:44:41.965Z"
      },
      {
        "duration": 194,
        "start_time": "2023-06-18T20:44:42.000Z"
      },
      {
        "duration": 42,
        "start_time": "2023-06-18T20:44:42.196Z"
      },
      {
        "duration": 43,
        "start_time": "2023-06-18T20:44:42.240Z"
      },
      {
        "duration": 195,
        "start_time": "2023-06-18T20:44:42.286Z"
      },
      {
        "duration": 1220,
        "start_time": "2023-06-18T20:44:42.484Z"
      },
      {
        "duration": 285,
        "start_time": "2023-06-18T20:44:43.707Z"
      },
      {
        "duration": 68,
        "start_time": "2023-06-18T20:44:43.998Z"
      },
      {
        "duration": 41,
        "start_time": "2023-06-18T20:44:44.069Z"
      },
      {
        "duration": 63,
        "start_time": "2023-06-18T20:44:44.112Z"
      },
      {
        "duration": 14,
        "start_time": "2023-06-18T20:44:44.176Z"
      },
      {
        "duration": 71,
        "start_time": "2023-06-18T20:44:44.194Z"
      },
      {
        "duration": 13,
        "start_time": "2023-06-18T20:44:44.268Z"
      },
      {
        "duration": 96,
        "start_time": "2023-06-18T20:44:44.282Z"
      },
      {
        "duration": 51,
        "start_time": "2023-06-18T20:44:44.380Z"
      },
      {
        "duration": 147,
        "start_time": "2023-06-18T20:44:44.435Z"
      },
      {
        "duration": 113,
        "start_time": "2023-06-18T20:44:44.585Z"
      },
      {
        "duration": 1393,
        "start_time": "2023-06-18T20:44:44.701Z"
      },
      {
        "duration": 23,
        "start_time": "2023-06-18T20:44:46.096Z"
      },
      {
        "duration": 59,
        "start_time": "2023-06-18T20:44:46.121Z"
      },
      {
        "duration": 22,
        "start_time": "2023-06-18T20:44:46.182Z"
      },
      {
        "duration": 110,
        "start_time": "2023-06-18T20:44:46.206Z"
      },
      {
        "duration": 56,
        "start_time": "2023-06-18T20:44:46.318Z"
      },
      {
        "duration": 9,
        "start_time": "2023-06-18T20:44:46.378Z"
      },
      {
        "duration": 22,
        "start_time": "2023-06-18T20:44:46.389Z"
      },
      {
        "duration": 246,
        "start_time": "2023-06-18T20:44:46.415Z"
      },
      {
        "duration": 7,
        "start_time": "2023-06-18T20:44:46.671Z"
      },
      {
        "duration": 16,
        "start_time": "2023-06-18T20:44:46.722Z"
      },
      {
        "duration": 37,
        "start_time": "2023-06-18T20:44:46.744Z"
      },
      {
        "duration": 88,
        "start_time": "2023-06-18T20:45:39.159Z"
      },
      {
        "duration": 3309,
        "start_time": "2023-06-18T20:45:42.167Z"
      },
      {
        "duration": 4600,
        "start_time": "2023-06-18T20:45:45.479Z"
      },
      {
        "duration": 28,
        "start_time": "2023-06-18T20:45:50.081Z"
      },
      {
        "duration": 182,
        "start_time": "2023-06-18T20:45:50.111Z"
      },
      {
        "duration": 655,
        "start_time": "2023-06-18T20:45:50.296Z"
      },
      {
        "duration": 656,
        "start_time": "2023-06-18T20:45:50.955Z"
      },
      {
        "duration": 3,
        "start_time": "2023-06-18T20:45:51.635Z"
      },
      {
        "duration": 19,
        "start_time": "2023-06-18T20:45:51.640Z"
      },
      {
        "duration": 249,
        "start_time": "2023-06-18T20:45:51.669Z"
      },
      {
        "duration": 29,
        "start_time": "2023-06-18T20:45:51.924Z"
      },
      {
        "duration": 42,
        "start_time": "2023-06-18T20:45:51.959Z"
      },
      {
        "duration": 41,
        "start_time": "2023-06-18T20:45:52.003Z"
      },
      {
        "duration": 358,
        "start_time": "2023-06-18T20:45:52.046Z"
      },
      {
        "duration": 25,
        "start_time": "2023-06-18T20:45:52.409Z"
      },
      {
        "duration": 191,
        "start_time": "2023-06-18T20:45:52.440Z"
      },
      {
        "duration": 28,
        "start_time": "2023-06-18T20:45:52.637Z"
      },
      {
        "duration": 30,
        "start_time": "2023-06-18T20:45:52.671Z"
      },
      {
        "duration": 211,
        "start_time": "2023-06-18T20:45:52.704Z"
      },
      {
        "duration": 1404,
        "start_time": "2023-06-18T20:45:52.916Z"
      },
      {
        "duration": 248,
        "start_time": "2023-06-18T20:45:54.322Z"
      },
      {
        "duration": 76,
        "start_time": "2023-06-18T20:45:54.572Z"
      },
      {
        "duration": 33,
        "start_time": "2023-06-18T20:45:54.650Z"
      },
      {
        "duration": 92,
        "start_time": "2023-06-18T20:45:54.685Z"
      },
      {
        "duration": 9,
        "start_time": "2023-06-18T20:45:54.781Z"
      },
      {
        "duration": 75,
        "start_time": "2023-06-18T20:45:54.792Z"
      },
      {
        "duration": 11,
        "start_time": "2023-06-18T20:45:54.869Z"
      },
      {
        "duration": 51,
        "start_time": "2023-06-18T20:45:54.883Z"
      },
      {
        "duration": 38,
        "start_time": "2023-06-18T20:45:54.938Z"
      },
      {
        "duration": 131,
        "start_time": "2023-06-18T20:45:54.978Z"
      },
      {
        "duration": 68,
        "start_time": "2023-06-18T20:45:55.111Z"
      },
      {
        "duration": 1537,
        "start_time": "2023-06-18T20:45:55.182Z"
      },
      {
        "duration": 17,
        "start_time": "2023-06-18T20:45:56.720Z"
      },
      {
        "duration": 51,
        "start_time": "2023-06-18T20:45:56.739Z"
      },
      {
        "duration": 48,
        "start_time": "2023-06-18T20:45:56.793Z"
      },
      {
        "duration": 121,
        "start_time": "2023-06-18T20:45:56.843Z"
      },
      {
        "duration": 67,
        "start_time": "2023-06-18T20:45:56.966Z"
      },
      {
        "duration": 9,
        "start_time": "2023-06-18T20:45:57.036Z"
      },
      {
        "duration": 42,
        "start_time": "2023-06-18T20:45:57.047Z"
      },
      {
        "duration": 273,
        "start_time": "2023-06-18T20:45:57.091Z"
      },
      {
        "duration": 3,
        "start_time": "2023-06-18T20:45:57.378Z"
      },
      {
        "duration": 18,
        "start_time": "2023-06-18T20:45:57.394Z"
      },
      {
        "duration": 7,
        "start_time": "2023-06-18T20:45:57.432Z"
      },
      {
        "duration": 3100,
        "start_time": "2023-06-18T20:46:40.670Z"
      },
      {
        "duration": 4852,
        "start_time": "2023-06-18T20:46:43.781Z"
      },
      {
        "duration": 45,
        "start_time": "2023-06-18T20:46:48.642Z"
      },
      {
        "duration": 235,
        "start_time": "2023-06-18T20:46:48.689Z"
      },
      {
        "duration": 690,
        "start_time": "2023-06-18T20:46:48.930Z"
      },
      {
        "duration": 780,
        "start_time": "2023-06-18T20:46:49.626Z"
      },
      {
        "duration": 3,
        "start_time": "2023-06-18T20:46:50.411Z"
      },
      {
        "duration": 32,
        "start_time": "2023-06-18T20:46:50.417Z"
      },
      {
        "duration": 223,
        "start_time": "2023-06-18T20:46:50.460Z"
      },
      {
        "duration": 28,
        "start_time": "2023-06-18T20:46:50.688Z"
      },
      {
        "duration": 41,
        "start_time": "2023-06-18T20:46:50.722Z"
      },
      {
        "duration": 65,
        "start_time": "2023-06-18T20:46:50.769Z"
      },
      {
        "duration": 166,
        "start_time": "2023-06-18T20:46:50.841Z"
      },
      {
        "duration": 42,
        "start_time": "2023-06-18T20:46:51.011Z"
      },
      {
        "duration": 275,
        "start_time": "2023-06-18T20:46:51.057Z"
      },
      {
        "duration": 46,
        "start_time": "2023-06-18T20:46:51.346Z"
      },
      {
        "duration": 53,
        "start_time": "2023-06-18T20:46:51.400Z"
      },
      {
        "duration": 228,
        "start_time": "2023-06-18T20:46:51.460Z"
      },
      {
        "duration": 1290,
        "start_time": "2023-06-18T20:46:51.695Z"
      },
      {
        "duration": 312,
        "start_time": "2023-06-18T20:46:52.986Z"
      },
      {
        "duration": 94,
        "start_time": "2023-06-18T20:46:53.305Z"
      },
      {
        "duration": 40,
        "start_time": "2023-06-18T20:46:53.405Z"
      },
      {
        "duration": 75,
        "start_time": "2023-06-18T20:46:53.451Z"
      },
      {
        "duration": 20,
        "start_time": "2023-06-18T20:46:53.532Z"
      },
      {
        "duration": 83,
        "start_time": "2023-06-18T20:46:53.558Z"
      },
      {
        "duration": 9,
        "start_time": "2023-06-18T20:46:53.648Z"
      },
      {
        "duration": 52,
        "start_time": "2023-06-18T20:46:53.658Z"
      },
      {
        "duration": 57,
        "start_time": "2023-06-18T20:46:53.712Z"
      },
      {
        "duration": 127,
        "start_time": "2023-06-18T20:46:53.778Z"
      },
      {
        "duration": 68,
        "start_time": "2023-06-18T20:46:53.907Z"
      },
      {
        "duration": 1559,
        "start_time": "2023-06-18T20:46:53.981Z"
      },
      {
        "duration": 47,
        "start_time": "2023-06-18T20:46:55.556Z"
      },
      {
        "duration": 58,
        "start_time": "2023-06-18T20:46:55.607Z"
      },
      {
        "duration": 30,
        "start_time": "2023-06-18T20:46:55.671Z"
      },
      {
        "duration": 129,
        "start_time": "2023-06-18T20:46:55.710Z"
      },
      {
        "duration": 62,
        "start_time": "2023-06-18T20:46:55.856Z"
      },
      {
        "duration": 20,
        "start_time": "2023-06-18T20:46:55.922Z"
      },
      {
        "duration": 31,
        "start_time": "2023-06-18T20:46:55.944Z"
      },
      {
        "duration": 175,
        "start_time": "2023-06-18T20:46:55.976Z"
      },
      {
        "duration": 14,
        "start_time": "2023-06-18T20:46:56.161Z"
      },
      {
        "duration": 28,
        "start_time": "2023-06-18T20:46:56.202Z"
      },
      {
        "duration": 11,
        "start_time": "2023-06-18T20:46:56.246Z"
      },
      {
        "duration": 15894,
        "start_time": "2023-06-18T20:46:56.263Z"
      },
      {
        "duration": 877329,
        "start_time": "2023-06-18T20:47:12.159Z"
      },
      {
        "duration": 0,
        "start_time": "2023-06-18T21:01:49.490Z"
      },
      {
        "duration": 0,
        "start_time": "2023-06-18T21:01:49.491Z"
      },
      {
        "duration": 0,
        "start_time": "2023-06-18T21:01:49.493Z"
      },
      {
        "duration": 0,
        "start_time": "2023-06-18T21:01:49.494Z"
      },
      {
        "duration": 6100,
        "start_time": "2023-06-19T15:39:21.599Z"
      },
      {
        "duration": 1547,
        "start_time": "2023-06-19T19:10:15.752Z"
      },
      {
        "duration": 1091,
        "start_time": "2023-06-19T19:10:17.300Z"
      },
      {
        "duration": 16,
        "start_time": "2023-06-19T19:10:18.393Z"
      },
      {
        "duration": 126,
        "start_time": "2023-06-19T19:10:18.411Z"
      },
      {
        "duration": 397,
        "start_time": "2023-06-19T19:10:18.538Z"
      },
      {
        "duration": 405,
        "start_time": "2023-06-19T19:10:18.936Z"
      },
      {
        "duration": 501,
        "start_time": "2023-06-19T19:10:22.786Z"
      },
      {
        "duration": 11,
        "start_time": "2023-06-19T19:26:29.534Z"
      },
      {
        "duration": 827,
        "start_time": "2023-06-19T19:26:29.547Z"
      },
      {
        "duration": 13,
        "start_time": "2023-06-19T19:26:30.376Z"
      },
      {
        "duration": 210,
        "start_time": "2023-06-19T19:26:30.392Z"
      },
      {
        "duration": 443,
        "start_time": "2023-06-19T19:26:30.604Z"
      },
      {
        "duration": 434,
        "start_time": "2023-06-19T19:26:31.056Z"
      },
      {
        "duration": 405,
        "start_time": "2023-06-19T19:26:31.491Z"
      },
      {
        "duration": 2,
        "start_time": "2023-06-19T19:26:31.898Z"
      },
      {
        "duration": 64,
        "start_time": "2023-06-19T19:26:31.901Z"
      },
      {
        "duration": 180,
        "start_time": "2023-06-19T19:26:31.967Z"
      },
      {
        "duration": 19,
        "start_time": "2023-06-19T19:26:32.154Z"
      },
      {
        "duration": 90,
        "start_time": "2023-06-19T19:26:32.174Z"
      },
      {
        "duration": 36,
        "start_time": "2023-06-19T19:26:32.266Z"
      },
      {
        "duration": 182,
        "start_time": "2023-06-19T19:26:32.304Z"
      },
      {
        "duration": 25,
        "start_time": "2023-06-19T19:26:32.487Z"
      },
      {
        "duration": 200,
        "start_time": "2023-06-19T19:26:32.513Z"
      },
      {
        "duration": 23,
        "start_time": "2023-06-19T19:26:32.714Z"
      },
      {
        "duration": 53,
        "start_time": "2023-06-19T19:26:32.738Z"
      },
      {
        "duration": 144,
        "start_time": "2023-06-19T19:26:32.793Z"
      },
      {
        "duration": 813,
        "start_time": "2023-06-19T19:26:32.948Z"
      },
      {
        "duration": 170,
        "start_time": "2023-06-19T19:26:33.767Z"
      },
      {
        "duration": 48,
        "start_time": "2023-06-19T19:26:33.938Z"
      },
      {
        "duration": 17,
        "start_time": "2023-06-19T19:26:33.988Z"
      },
      {
        "duration": 53,
        "start_time": "2023-06-19T19:26:34.007Z"
      },
      {
        "duration": 22,
        "start_time": "2023-06-19T19:26:53.975Z"
      },
      {
        "duration": 19,
        "start_time": "2023-06-19T19:27:42.457Z"
      },
      {
        "duration": 260,
        "start_time": "2023-06-19T19:31:24.043Z"
      },
      {
        "duration": 170,
        "start_time": "2023-06-19T19:31:39.298Z"
      },
      {
        "duration": 177,
        "start_time": "2023-06-19T19:32:37.578Z"
      },
      {
        "duration": 168,
        "start_time": "2023-06-19T19:34:05.295Z"
      },
      {
        "duration": 131,
        "start_time": "2023-06-19T19:34:48.185Z"
      },
      {
        "duration": 146,
        "start_time": "2023-06-19T19:35:08.868Z"
      },
      {
        "duration": 166,
        "start_time": "2023-06-19T19:36:09.306Z"
      },
      {
        "duration": 149,
        "start_time": "2023-06-19T19:36:13.869Z"
      },
      {
        "duration": 131,
        "start_time": "2023-06-19T19:36:54.654Z"
      },
      {
        "duration": 228,
        "start_time": "2023-06-19T19:37:09.979Z"
      },
      {
        "duration": 137,
        "start_time": "2023-06-19T19:37:17.854Z"
      },
      {
        "duration": 124,
        "start_time": "2023-06-19T19:37:32.742Z"
      },
      {
        "duration": 117,
        "start_time": "2023-06-19T19:37:42.559Z"
      },
      {
        "duration": 129,
        "start_time": "2023-06-19T19:38:37.248Z"
      },
      {
        "duration": 156,
        "start_time": "2023-06-19T19:38:43.597Z"
      },
      {
        "duration": 149,
        "start_time": "2023-06-19T19:39:36.011Z"
      },
      {
        "duration": 28,
        "start_time": "2023-06-19T19:46:55.590Z"
      },
      {
        "duration": 63,
        "start_time": "2023-06-19T19:47:10.247Z"
      },
      {
        "duration": 24,
        "start_time": "2023-06-19T19:47:21.687Z"
      },
      {
        "duration": 43,
        "start_time": "2023-06-19T19:47:54.449Z"
      },
      {
        "duration": 1835,
        "start_time": "2023-06-21T12:22:52.422Z"
      },
      {
        "duration": 1298,
        "start_time": "2023-06-21T12:22:54.259Z"
      },
      {
        "duration": 22,
        "start_time": "2023-06-21T12:22:55.576Z"
      },
      {
        "duration": 291,
        "start_time": "2023-06-21T12:22:55.601Z"
      },
      {
        "duration": 557,
        "start_time": "2023-06-21T12:22:55.894Z"
      },
      {
        "duration": 656,
        "start_time": "2023-06-21T12:22:56.453Z"
      },
      {
        "duration": 525,
        "start_time": "2023-06-21T12:22:57.111Z"
      },
      {
        "duration": 3,
        "start_time": "2023-06-21T12:22:57.637Z"
      },
      {
        "duration": 8,
        "start_time": "2023-06-21T12:22:57.642Z"
      },
      {
        "duration": 181,
        "start_time": "2023-06-21T12:22:57.652Z"
      },
      {
        "duration": 20,
        "start_time": "2023-06-21T12:22:57.835Z"
      },
      {
        "duration": 48,
        "start_time": "2023-06-21T12:22:57.856Z"
      },
      {
        "duration": 41,
        "start_time": "2023-06-21T12:22:57.909Z"
      },
      {
        "duration": 134,
        "start_time": "2023-06-21T12:22:57.952Z"
      },
      {
        "duration": 33,
        "start_time": "2023-06-21T12:22:58.088Z"
      },
      {
        "duration": 154,
        "start_time": "2023-06-21T12:22:58.123Z"
      },
      {
        "duration": 37,
        "start_time": "2023-06-21T12:22:58.282Z"
      },
      {
        "duration": 107,
        "start_time": "2023-06-21T12:22:58.321Z"
      },
      {
        "duration": 175,
        "start_time": "2023-06-21T12:22:58.430Z"
      },
      {
        "duration": 1021,
        "start_time": "2023-06-21T12:22:58.607Z"
      },
      {
        "duration": 218,
        "start_time": "2023-06-21T12:22:59.630Z"
      },
      {
        "duration": 77,
        "start_time": "2023-06-21T12:22:59.850Z"
      },
      {
        "duration": 74,
        "start_time": "2023-06-21T12:22:59.929Z"
      },
      {
        "duration": 227,
        "start_time": "2023-06-21T12:23:00.005Z"
      },
      {
        "duration": 26,
        "start_time": "2023-06-21T12:23:00.235Z"
      },
      {
        "duration": 175,
        "start_time": "2023-06-21T12:23:00.282Z"
      },
      {
        "duration": 261,
        "start_time": "2023-06-21T12:23:00.460Z"
      },
      {
        "duration": 458,
        "start_time": "2023-06-21T12:23:00.724Z"
      },
      {
        "duration": 252,
        "start_time": "2023-06-21T12:23:01.184Z"
      },
      {
        "duration": 265,
        "start_time": "2023-06-21T12:23:01.438Z"
      },
      {
        "duration": 139,
        "start_time": "2023-06-21T12:23:01.707Z"
      },
      {
        "duration": 493,
        "start_time": "2023-06-21T12:23:01.848Z"
      },
      {
        "duration": 229,
        "start_time": "2023-06-21T12:23:02.343Z"
      },
      {
        "duration": 169,
        "start_time": "2023-06-21T12:23:02.574Z"
      },
      {
        "duration": 957,
        "start_time": "2023-06-21T12:23:07.667Z"
      },
      {
        "duration": 23,
        "start_time": "2023-06-21T12:26:01.358Z"
      },
      {
        "duration": 5,
        "start_time": "2023-06-21T12:28:41.597Z"
      },
      {
        "duration": 896,
        "start_time": "2023-06-21T12:28:41.604Z"
      },
      {
        "duration": 22,
        "start_time": "2023-06-21T12:28:42.501Z"
      },
      {
        "duration": 175,
        "start_time": "2023-06-21T12:28:42.525Z"
      },
      {
        "duration": 492,
        "start_time": "2023-06-21T12:28:42.702Z"
      },
      {
        "duration": 511,
        "start_time": "2023-06-21T12:28:43.195Z"
      },
      {
        "duration": 531,
        "start_time": "2023-06-21T12:28:43.708Z"
      },
      {
        "duration": 3,
        "start_time": "2023-06-21T12:28:44.241Z"
      },
      {
        "duration": 85,
        "start_time": "2023-06-21T12:28:44.247Z"
      },
      {
        "duration": 259,
        "start_time": "2023-06-21T12:28:44.336Z"
      },
      {
        "duration": 34,
        "start_time": "2023-06-21T12:28:44.597Z"
      },
      {
        "duration": 59,
        "start_time": "2023-06-21T12:28:44.633Z"
      },
      {
        "duration": 68,
        "start_time": "2023-06-21T12:28:44.694Z"
      },
      {
        "duration": 153,
        "start_time": "2023-06-21T12:28:44.764Z"
      },
      {
        "duration": 22,
        "start_time": "2023-06-21T12:28:44.918Z"
      },
      {
        "duration": 157,
        "start_time": "2023-06-21T12:28:44.941Z"
      },
      {
        "duration": 37,
        "start_time": "2023-06-21T12:28:45.100Z"
      },
      {
        "duration": 103,
        "start_time": "2023-06-21T12:28:45.139Z"
      },
      {
        "duration": 271,
        "start_time": "2023-06-21T12:28:45.244Z"
      },
      {
        "duration": 866,
        "start_time": "2023-06-21T12:28:45.523Z"
      },
      {
        "duration": 246,
        "start_time": "2023-06-21T12:28:46.392Z"
      },
      {
        "duration": 55,
        "start_time": "2023-06-21T12:28:46.640Z"
      },
      {
        "duration": 59,
        "start_time": "2023-06-21T12:28:46.697Z"
      },
      {
        "duration": 225,
        "start_time": "2023-06-21T12:28:46.758Z"
      },
      {
        "duration": 36,
        "start_time": "2023-06-21T12:28:46.987Z"
      },
      {
        "duration": 67,
        "start_time": "2023-06-21T12:28:47.025Z"
      },
      {
        "duration": 52,
        "start_time": "2023-06-21T12:28:47.098Z"
      },
      {
        "duration": 175,
        "start_time": "2023-06-21T12:28:47.155Z"
      },
      {
        "duration": 30,
        "start_time": "2023-06-21T12:28:47.332Z"
      },
      {
        "duration": 49,
        "start_time": "2023-06-21T12:28:47.363Z"
      },
      {
        "duration": 24,
        "start_time": "2023-06-21T12:28:47.415Z"
      },
      {
        "duration": 77,
        "start_time": "2023-06-21T12:28:47.441Z"
      },
      {
        "duration": 75,
        "start_time": "2023-06-21T12:28:47.520Z"
      },
      {
        "duration": 146,
        "start_time": "2023-06-21T12:28:47.600Z"
      },
      {
        "duration": 908,
        "start_time": "2023-06-21T12:28:47.748Z"
      },
      {
        "duration": 7,
        "start_time": "2023-06-21T12:44:13.955Z"
      },
      {
        "duration": 1054,
        "start_time": "2023-06-21T12:44:13.964Z"
      },
      {
        "duration": 16,
        "start_time": "2023-06-21T12:44:15.024Z"
      },
      {
        "duration": 227,
        "start_time": "2023-06-21T12:44:15.043Z"
      },
      {
        "duration": 517,
        "start_time": "2023-06-21T12:44:15.275Z"
      },
      {
        "duration": 565,
        "start_time": "2023-06-21T12:44:15.794Z"
      },
      {
        "duration": 554,
        "start_time": "2023-06-21T12:44:16.361Z"
      },
      {
        "duration": 5,
        "start_time": "2023-06-21T12:44:16.918Z"
      },
      {
        "duration": 20,
        "start_time": "2023-06-21T12:44:16.925Z"
      },
      {
        "duration": 200,
        "start_time": "2023-06-21T12:44:16.949Z"
      },
      {
        "duration": 37,
        "start_time": "2023-06-21T12:44:17.152Z"
      },
      {
        "duration": 162,
        "start_time": "2023-06-21T12:44:17.191Z"
      },
      {
        "duration": 34,
        "start_time": "2023-06-21T12:44:17.356Z"
      },
      {
        "duration": 190,
        "start_time": "2023-06-21T12:44:17.395Z"
      },
      {
        "duration": 44,
        "start_time": "2023-06-21T12:44:17.586Z"
      },
      {
        "duration": 205,
        "start_time": "2023-06-21T12:44:17.634Z"
      },
      {
        "duration": 41,
        "start_time": "2023-06-21T12:44:17.841Z"
      },
      {
        "duration": 67,
        "start_time": "2023-06-21T12:44:17.885Z"
      },
      {
        "duration": 200,
        "start_time": "2023-06-21T12:44:17.954Z"
      },
      {
        "duration": 1145,
        "start_time": "2023-06-21T12:44:18.156Z"
      },
      {
        "duration": 229,
        "start_time": "2023-06-21T12:44:19.305Z"
      },
      {
        "duration": 34,
        "start_time": "2023-06-21T12:44:19.537Z"
      },
      {
        "duration": 30,
        "start_time": "2023-06-21T12:44:27.918Z"
      },
      {
        "duration": 238,
        "start_time": "2023-06-21T12:45:40.643Z"
      },
      {
        "duration": 242,
        "start_time": "2023-06-21T12:45:51.121Z"
      },
      {
        "duration": 626,
        "start_time": "2023-06-21T12:46:19.002Z"
      },
      {
        "duration": 0,
        "start_time": "2023-06-21T12:46:19.630Z"
      },
      {
        "duration": 239,
        "start_time": "2023-06-21T12:46:24.562Z"
      },
      {
        "duration": 202,
        "start_time": "2023-06-21T12:46:47.516Z"
      },
      {
        "duration": 250,
        "start_time": "2023-06-21T12:46:54.836Z"
      },
      {
        "duration": 189,
        "start_time": "2023-06-21T12:47:15.042Z"
      },
      {
        "duration": 454,
        "start_time": "2023-06-21T12:47:50.476Z"
      },
      {
        "duration": 290,
        "start_time": "2023-06-21T12:48:12.352Z"
      },
      {
        "duration": 4,
        "start_time": "2023-06-21T12:55:25.339Z"
      },
      {
        "duration": 1148,
        "start_time": "2023-06-21T12:55:25.345Z"
      },
      {
        "duration": 25,
        "start_time": "2023-06-21T12:55:26.497Z"
      },
      {
        "duration": 238,
        "start_time": "2023-06-21T12:55:26.529Z"
      },
      {
        "duration": 710,
        "start_time": "2023-06-21T12:55:26.770Z"
      },
      {
        "duration": 565,
        "start_time": "2023-06-21T12:55:27.482Z"
      },
      {
        "duration": 538,
        "start_time": "2023-06-21T12:55:28.049Z"
      },
      {
        "duration": 3,
        "start_time": "2023-06-21T12:55:28.595Z"
      },
      {
        "duration": 34,
        "start_time": "2023-06-21T12:55:28.600Z"
      },
      {
        "duration": 197,
        "start_time": "2023-06-21T12:55:28.636Z"
      },
      {
        "duration": 46,
        "start_time": "2023-06-21T12:55:28.838Z"
      },
      {
        "duration": 80,
        "start_time": "2023-06-21T12:55:28.886Z"
      },
      {
        "duration": 58,
        "start_time": "2023-06-21T12:55:28.968Z"
      },
      {
        "duration": 117,
        "start_time": "2023-06-21T12:55:29.030Z"
      },
      {
        "duration": 31,
        "start_time": "2023-06-21T12:55:29.148Z"
      },
      {
        "duration": 174,
        "start_time": "2023-06-21T12:55:29.187Z"
      },
      {
        "duration": 40,
        "start_time": "2023-06-21T12:55:29.363Z"
      },
      {
        "duration": 41,
        "start_time": "2023-06-21T12:55:29.411Z"
      },
      {
        "duration": 201,
        "start_time": "2023-06-21T12:55:29.463Z"
      },
      {
        "duration": 1014,
        "start_time": "2023-06-21T12:55:29.666Z"
      },
      {
        "duration": 254,
        "start_time": "2023-06-21T12:55:30.682Z"
      },
      {
        "duration": 49,
        "start_time": "2023-06-21T12:55:30.938Z"
      },
      {
        "duration": 61,
        "start_time": "2023-06-21T12:55:30.989Z"
      },
      {
        "duration": 258,
        "start_time": "2023-06-21T12:55:31.052Z"
      },
      {
        "duration": 29,
        "start_time": "2023-06-21T12:55:31.317Z"
      },
      {
        "duration": 444,
        "start_time": "2023-06-21T12:55:31.348Z"
      },
      {
        "duration": 190,
        "start_time": "2023-06-21T12:55:31.801Z"
      },
      {
        "duration": 331,
        "start_time": "2023-06-21T12:55:31.993Z"
      },
      {
        "duration": 39,
        "start_time": "2023-06-21T12:55:32.332Z"
      },
      {
        "duration": 328,
        "start_time": "2023-06-21T12:55:32.373Z"
      },
      {
        "duration": 51,
        "start_time": "2023-06-21T12:55:32.703Z"
      },
      {
        "duration": 26,
        "start_time": "2023-06-21T12:55:32.756Z"
      },
      {
        "duration": 99,
        "start_time": "2023-06-21T12:55:32.784Z"
      },
      {
        "duration": 60,
        "start_time": "2023-06-21T12:55:32.890Z"
      },
      {
        "duration": 141,
        "start_time": "2023-06-21T12:55:32.952Z"
      },
      {
        "duration": 1050,
        "start_time": "2023-06-21T12:55:33.095Z"
      },
      {
        "duration": 58,
        "start_time": "2023-06-21T12:55:34.147Z"
      },
      {
        "duration": 234,
        "start_time": "2023-06-21T12:56:08.010Z"
      },
      {
        "duration": 225,
        "start_time": "2023-06-21T12:56:19.663Z"
      },
      {
        "duration": 1031,
        "start_time": "2023-06-21T12:57:34.114Z"
      },
      {
        "duration": 33,
        "start_time": "2023-06-21T12:57:46.068Z"
      },
      {
        "duration": 910,
        "start_time": "2023-06-21T12:57:52.123Z"
      },
      {
        "duration": 16,
        "start_time": "2023-06-21T13:01:55.572Z"
      },
      {
        "duration": 19,
        "start_time": "2023-06-21T13:02:26.397Z"
      },
      {
        "duration": 10,
        "start_time": "2023-06-21T13:02:41.445Z"
      },
      {
        "duration": 9,
        "start_time": "2023-06-21T13:03:28.865Z"
      },
      {
        "duration": 42,
        "start_time": "2023-06-21T13:03:33.931Z"
      },
      {
        "duration": 12,
        "start_time": "2023-06-21T13:03:47.313Z"
      },
      {
        "duration": 76,
        "start_time": "2023-06-21T13:03:51.306Z"
      },
      {
        "duration": 14,
        "start_time": "2023-06-21T13:10:57.358Z"
      },
      {
        "duration": 13,
        "start_time": "2023-06-21T13:11:14.132Z"
      },
      {
        "duration": 17,
        "start_time": "2023-06-21T13:58:18.423Z"
      },
      {
        "duration": 30,
        "start_time": "2023-06-21T13:58:37.410Z"
      },
      {
        "duration": 121,
        "start_time": "2023-06-21T13:58:39.916Z"
      },
      {
        "duration": 8,
        "start_time": "2023-06-21T13:58:46.536Z"
      },
      {
        "duration": 16,
        "start_time": "2023-06-21T14:04:00.941Z"
      },
      {
        "duration": 272,
        "start_time": "2023-06-21T14:04:07.561Z"
      },
      {
        "duration": 11,
        "start_time": "2023-06-21T14:04:09.120Z"
      },
      {
        "duration": 153,
        "start_time": "2023-06-21T14:05:24.204Z"
      },
      {
        "duration": 21,
        "start_time": "2023-06-21T14:05:25.364Z"
      },
      {
        "duration": 132,
        "start_time": "2023-06-21T14:06:29.616Z"
      },
      {
        "duration": 5,
        "start_time": "2023-06-21T14:06:30.452Z"
      },
      {
        "duration": 611,
        "start_time": "2023-06-21T14:10:47.740Z"
      },
      {
        "duration": 586,
        "start_time": "2023-06-21T14:12:04.604Z"
      },
      {
        "duration": 1341,
        "start_time": "2023-06-21T14:12:42.170Z"
      },
      {
        "duration": 14,
        "start_time": "2023-06-21T14:14:07.750Z"
      },
      {
        "duration": 101,
        "start_time": "2023-06-21T14:17:20.779Z"
      },
      {
        "duration": 13,
        "start_time": "2023-06-21T14:17:55.447Z"
      },
      {
        "duration": 57,
        "start_time": "2023-06-21T15:25:20.305Z"
      },
      {
        "duration": 11,
        "start_time": "2023-06-21T15:25:53.416Z"
      },
      {
        "duration": 11404,
        "start_time": "2023-06-21T15:26:38.728Z"
      },
      {
        "duration": 5,
        "start_time": "2023-06-21T15:26:54.279Z"
      },
      {
        "duration": 1911,
        "start_time": "2023-06-21T15:27:50.098Z"
      },
      {
        "duration": 2019,
        "start_time": "2023-06-21T15:28:02.605Z"
      },
      {
        "duration": 57,
        "start_time": "2023-06-21T15:32:42.098Z"
      },
      {
        "duration": 87,
        "start_time": "2023-06-21T15:33:19.414Z"
      },
      {
        "duration": 1896,
        "start_time": "2023-06-21T15:37:11.918Z"
      },
      {
        "duration": 4125,
        "start_time": "2023-06-21T15:37:37.105Z"
      },
      {
        "duration": 5057,
        "start_time": "2023-06-21T15:37:54.741Z"
      },
      {
        "duration": 4783,
        "start_time": "2023-06-21T15:42:48.221Z"
      },
      {
        "duration": 4754,
        "start_time": "2023-06-21T15:43:17.228Z"
      },
      {
        "duration": 4816,
        "start_time": "2023-06-21T15:44:00.731Z"
      },
      {
        "duration": 5,
        "start_time": "2023-06-21T15:44:26.704Z"
      },
      {
        "duration": 14,
        "start_time": "2023-06-21T15:48:17.755Z"
      },
      {
        "duration": 20,
        "start_time": "2023-06-21T15:48:31.915Z"
      },
      {
        "duration": 9284,
        "start_time": "2023-06-21T15:48:45.929Z"
      },
      {
        "duration": 1591,
        "start_time": "2023-06-21T16:33:06.260Z"
      },
      {
        "duration": 1126,
        "start_time": "2023-06-21T16:33:07.853Z"
      },
      {
        "duration": 18,
        "start_time": "2023-06-21T16:33:08.982Z"
      },
      {
        "duration": 145,
        "start_time": "2023-06-21T16:33:09.002Z"
      },
      {
        "duration": 545,
        "start_time": "2023-06-21T16:33:09.149Z"
      },
      {
        "duration": 564,
        "start_time": "2023-06-21T16:33:09.696Z"
      },
      {
        "duration": 517,
        "start_time": "2023-06-21T16:33:10.261Z"
      },
      {
        "duration": 3,
        "start_time": "2023-06-21T16:33:10.780Z"
      },
      {
        "duration": 41,
        "start_time": "2023-06-21T16:33:10.785Z"
      },
      {
        "duration": 164,
        "start_time": "2023-06-21T16:33:10.829Z"
      },
      {
        "duration": 19,
        "start_time": "2023-06-21T16:33:10.995Z"
      },
      {
        "duration": 54,
        "start_time": "2023-06-21T16:33:11.015Z"
      },
      {
        "duration": 54,
        "start_time": "2023-06-21T16:33:11.071Z"
      },
      {
        "duration": 139,
        "start_time": "2023-06-21T16:33:11.128Z"
      },
      {
        "duration": 32,
        "start_time": "2023-06-21T16:33:11.269Z"
      },
      {
        "duration": 160,
        "start_time": "2023-06-21T16:33:11.302Z"
      },
      {
        "duration": 23,
        "start_time": "2023-06-21T16:33:11.464Z"
      },
      {
        "duration": 28,
        "start_time": "2023-06-21T16:33:11.490Z"
      },
      {
        "duration": 150,
        "start_time": "2023-06-21T16:33:11.520Z"
      },
      {
        "duration": 887,
        "start_time": "2023-06-21T16:33:11.676Z"
      },
      {
        "duration": 193,
        "start_time": "2023-06-21T16:33:12.565Z"
      },
      {
        "duration": 179,
        "start_time": "2023-06-21T16:33:12.760Z"
      },
      {
        "duration": 44,
        "start_time": "2023-06-21T16:33:12.941Z"
      },
      {
        "duration": 59,
        "start_time": "2023-06-21T16:33:12.988Z"
      },
      {
        "duration": 41,
        "start_time": "2023-06-21T16:33:13.049Z"
      },
      {
        "duration": 59,
        "start_time": "2023-06-21T16:33:13.091Z"
      },
      {
        "duration": 51,
        "start_time": "2023-06-21T16:33:13.152Z"
      },
      {
        "duration": 45,
        "start_time": "2023-06-21T16:33:13.208Z"
      },
      {
        "duration": 29,
        "start_time": "2023-06-21T16:33:13.255Z"
      },
      {
        "duration": 182,
        "start_time": "2023-06-21T16:33:13.287Z"
      },
      {
        "duration": 56,
        "start_time": "2023-06-21T16:33:13.474Z"
      },
      {
        "duration": 5,
        "start_time": "2023-06-21T16:33:13.532Z"
      },
      {
        "duration": 53,
        "start_time": "2023-06-21T16:33:13.538Z"
      },
      {
        "duration": 43,
        "start_time": "2023-06-21T16:33:13.592Z"
      },
      {
        "duration": 92,
        "start_time": "2023-06-21T16:33:13.637Z"
      },
      {
        "duration": 818,
        "start_time": "2023-06-21T16:33:13.731Z"
      },
      {
        "duration": 81,
        "start_time": "2023-06-21T16:33:14.550Z"
      },
      {
        "duration": 29,
        "start_time": "2023-06-21T16:33:14.632Z"
      },
      {
        "duration": 28,
        "start_time": "2023-06-21T16:33:14.663Z"
      },
      {
        "duration": 95,
        "start_time": "2023-06-21T16:33:14.692Z"
      },
      {
        "duration": 5,
        "start_time": "2023-06-21T16:33:14.790Z"
      },
      {
        "duration": 990,
        "start_time": "2023-06-21T16:33:14.796Z"
      },
      {
        "duration": 64,
        "start_time": "2023-06-21T16:33:15.788Z"
      },
      {
        "duration": 23,
        "start_time": "2023-06-21T16:33:15.854Z"
      },
      {
        "duration": 104,
        "start_time": "2023-06-21T16:33:15.879Z"
      },
      {
        "duration": 3992,
        "start_time": "2023-06-21T16:33:15.985Z"
      },
      {
        "duration": 5,
        "start_time": "2023-06-21T16:33:19.979Z"
      },
      {
        "duration": 19032,
        "start_time": "2023-06-21T16:33:48.127Z"
      },
      {
        "duration": 45531,
        "start_time": "2023-06-21T16:35:00.711Z"
      },
      {
        "duration": 527296,
        "start_time": "2023-06-21T16:35:54.054Z"
      },
      {
        "duration": 6,
        "start_time": "2023-06-21T16:45:03.698Z"
      },
      {
        "duration": 55754,
        "start_time": "2023-06-21T16:45:59.567Z"
      },
      {
        "duration": 1519690,
        "start_time": "2023-06-21T16:48:59.631Z"
      },
      {
        "duration": 5,
        "start_time": "2023-06-21T18:18:27.281Z"
      },
      {
        "duration": 2736,
        "start_time": "2023-06-21T18:18:35.057Z"
      },
      {
        "duration": 13,
        "start_time": "2023-06-21T18:19:09.957Z"
      },
      {
        "duration": 17,
        "start_time": "2023-06-21T18:19:16.156Z"
      },
      {
        "duration": 1383,
        "start_time": "2023-06-21T18:19:21.611Z"
      },
      {
        "duration": 3,
        "start_time": "2023-06-21T18:19:48.293Z"
      },
      {
        "duration": 2180,
        "start_time": "2023-06-21T18:19:51.649Z"
      },
      {
        "duration": 3,
        "start_time": "2023-06-21T18:20:35.149Z"
      },
      {
        "duration": 7803,
        "start_time": "2023-06-21T18:20:38.123Z"
      },
      {
        "duration": 5,
        "start_time": "2023-06-21T18:21:07.410Z"
      },
      {
        "duration": 36099,
        "start_time": "2023-06-21T18:21:11.754Z"
      },
      {
        "duration": 102,
        "start_time": "2023-06-21T18:22:43.416Z"
      },
      {
        "duration": 3,
        "start_time": "2023-06-21T18:22:49.335Z"
      },
      {
        "duration": 110631,
        "start_time": "2023-06-21T18:22:51.725Z"
      },
      {
        "duration": 79,
        "start_time": "2023-06-21T18:25:23.193Z"
      },
      {
        "duration": 2419,
        "start_time": "2023-06-21T18:25:40.650Z"
      },
      {
        "duration": 123,
        "start_time": "2023-06-21T18:25:55.091Z"
      },
      {
        "duration": 3,
        "start_time": "2023-06-21T18:26:38.823Z"
      },
      {
        "duration": 105918,
        "start_time": "2023-06-21T18:26:39.750Z"
      },
      {
        "duration": 4,
        "start_time": "2023-06-21T18:28:48.293Z"
      },
      {
        "duration": 99473,
        "start_time": "2023-06-21T18:28:49.065Z"
      },
      {
        "duration": 4,
        "start_time": "2023-06-21T18:33:06.702Z"
      },
      {
        "duration": 1533,
        "start_time": "2023-06-21T18:33:22.999Z"
      },
      {
        "duration": 1160,
        "start_time": "2023-06-21T18:33:24.534Z"
      },
      {
        "duration": 17,
        "start_time": "2023-06-21T18:33:25.696Z"
      },
      {
        "duration": 150,
        "start_time": "2023-06-21T18:33:25.715Z"
      },
      {
        "duration": 552,
        "start_time": "2023-06-21T18:33:25.869Z"
      },
      {
        "duration": 591,
        "start_time": "2023-06-21T18:33:26.423Z"
      },
      {
        "duration": 581,
        "start_time": "2023-06-21T18:33:27.016Z"
      },
      {
        "duration": 3,
        "start_time": "2023-06-21T18:33:27.599Z"
      },
      {
        "duration": 14,
        "start_time": "2023-06-21T18:33:27.604Z"
      },
      {
        "duration": 156,
        "start_time": "2023-06-21T18:33:27.620Z"
      },
      {
        "duration": 21,
        "start_time": "2023-06-21T18:33:27.778Z"
      },
      {
        "duration": 32,
        "start_time": "2023-06-21T18:33:27.800Z"
      },
      {
        "duration": 40,
        "start_time": "2023-06-21T18:33:27.834Z"
      },
      {
        "duration": 127,
        "start_time": "2023-06-21T18:33:27.878Z"
      },
      {
        "duration": 20,
        "start_time": "2023-06-21T18:33:28.007Z"
      },
      {
        "duration": 229,
        "start_time": "2023-06-21T18:33:28.029Z"
      },
      {
        "duration": 24,
        "start_time": "2023-06-21T18:33:28.260Z"
      },
      {
        "duration": 32,
        "start_time": "2023-06-21T18:33:28.286Z"
      },
      {
        "duration": 160,
        "start_time": "2023-06-21T18:33:28.320Z"
      },
      {
        "duration": 969,
        "start_time": "2023-06-21T18:33:28.482Z"
      },
      {
        "duration": 246,
        "start_time": "2023-06-21T18:33:29.452Z"
      },
      {
        "duration": 187,
        "start_time": "2023-06-21T18:33:29.700Z"
      },
      {
        "duration": 41,
        "start_time": "2023-06-21T18:33:29.889Z"
      },
      {
        "duration": 89,
        "start_time": "2023-06-21T18:33:29.933Z"
      },
      {
        "duration": 35,
        "start_time": "2023-06-21T18:33:30.025Z"
      },
      {
        "duration": 148,
        "start_time": "2023-06-21T18:33:30.074Z"
      },
      {
        "duration": 52,
        "start_time": "2023-06-21T18:33:30.224Z"
      },
      {
        "duration": 96,
        "start_time": "2023-06-21T18:33:30.278Z"
      },
      {
        "duration": 30,
        "start_time": "2023-06-21T18:33:30.376Z"
      },
      {
        "duration": 228,
        "start_time": "2023-06-21T18:33:30.408Z"
      },
      {
        "duration": 63,
        "start_time": "2023-06-21T18:33:30.638Z"
      },
      {
        "duration": 6,
        "start_time": "2023-06-21T18:33:30.703Z"
      },
      {
        "duration": 56,
        "start_time": "2023-06-21T18:33:30.711Z"
      },
      {
        "duration": 82,
        "start_time": "2023-06-21T18:33:30.769Z"
      },
      {
        "duration": 121,
        "start_time": "2023-06-21T18:33:30.853Z"
      },
      {
        "duration": 956,
        "start_time": "2023-06-21T18:33:30.976Z"
      },
      {
        "duration": 78,
        "start_time": "2023-06-21T18:33:31.934Z"
      },
      {
        "duration": 90,
        "start_time": "2023-06-21T18:33:32.014Z"
      },
      {
        "duration": 14,
        "start_time": "2023-06-21T18:33:32.105Z"
      },
      {
        "duration": 102,
        "start_time": "2023-06-21T18:33:32.120Z"
      },
      {
        "duration": 5,
        "start_time": "2023-06-21T18:33:32.227Z"
      },
      {
        "duration": 989,
        "start_time": "2023-06-21T18:33:32.234Z"
      },
      {
        "duration": 76,
        "start_time": "2023-06-21T18:33:33.225Z"
      },
      {
        "duration": 13,
        "start_time": "2023-06-21T18:33:33.303Z"
      },
      {
        "duration": 167,
        "start_time": "2023-06-21T18:33:33.318Z"
      },
      {
        "duration": 4189,
        "start_time": "2023-06-21T18:33:33.487Z"
      },
      {
        "duration": 6,
        "start_time": "2023-06-21T18:33:37.677Z"
      },
      {
        "duration": 78864,
        "start_time": "2023-06-21T18:33:37.685Z"
      },
      {
        "duration": 0,
        "start_time": "2023-06-21T18:34:56.552Z"
      },
      {
        "duration": 0,
        "start_time": "2023-06-21T18:34:56.554Z"
      },
      {
        "duration": 0,
        "start_time": "2023-06-21T18:34:56.555Z"
      },
      {
        "duration": 0,
        "start_time": "2023-06-21T18:34:56.556Z"
      },
      {
        "duration": 0,
        "start_time": "2023-06-21T18:34:56.557Z"
      },
      {
        "duration": 0,
        "start_time": "2023-06-21T18:34:56.558Z"
      },
      {
        "duration": 4,
        "start_time": "2023-06-21T18:35:02.376Z"
      },
      {
        "duration": 432970,
        "start_time": "2023-06-21T18:35:03.791Z"
      },
      {
        "duration": 357,
        "start_time": "2023-06-21T18:42:22.535Z"
      },
      {
        "duration": 4,
        "start_time": "2023-06-21T18:45:02.020Z"
      },
      {
        "duration": 371,
        "start_time": "2023-06-21T18:45:10.097Z"
      },
      {
        "duration": 542,
        "start_time": "2023-06-21T18:45:55.505Z"
      },
      {
        "duration": 4,
        "start_time": "2023-06-21T18:49:53.329Z"
      },
      {
        "duration": 495,
        "start_time": "2023-06-21T18:58:02.556Z"
      },
      {
        "duration": 523,
        "start_time": "2023-06-21T18:58:59.904Z"
      },
      {
        "duration": 97,
        "start_time": "2023-06-21T18:59:21.118Z"
      },
      {
        "duration": 5,
        "start_time": "2023-06-21T18:59:49.695Z"
      },
      {
        "duration": 875,
        "start_time": "2023-06-21T18:59:49.702Z"
      },
      {
        "duration": 18,
        "start_time": "2023-06-21T18:59:50.582Z"
      },
      {
        "duration": 147,
        "start_time": "2023-06-21T18:59:50.602Z"
      },
      {
        "duration": 489,
        "start_time": "2023-06-21T18:59:50.751Z"
      },
      {
        "duration": 498,
        "start_time": "2023-06-21T18:59:51.242Z"
      },
      {
        "duration": 467,
        "start_time": "2023-06-21T18:59:51.741Z"
      },
      {
        "duration": 3,
        "start_time": "2023-06-21T18:59:52.209Z"
      },
      {
        "duration": 17,
        "start_time": "2023-06-21T18:59:52.215Z"
      },
      {
        "duration": 144,
        "start_time": "2023-06-21T18:59:52.234Z"
      },
      {
        "duration": 30,
        "start_time": "2023-06-21T18:59:52.380Z"
      },
      {
        "duration": 26,
        "start_time": "2023-06-21T18:59:52.412Z"
      },
      {
        "duration": 40,
        "start_time": "2023-06-21T18:59:52.440Z"
      },
      {
        "duration": 122,
        "start_time": "2023-06-21T18:59:52.482Z"
      },
      {
        "duration": 18,
        "start_time": "2023-06-21T18:59:52.606Z"
      },
      {
        "duration": 144,
        "start_time": "2023-06-21T18:59:52.625Z"
      },
      {
        "duration": 31,
        "start_time": "2023-06-21T18:59:52.774Z"
      },
      {
        "duration": 33,
        "start_time": "2023-06-21T18:59:52.807Z"
      },
      {
        "duration": 162,
        "start_time": "2023-06-21T18:59:52.842Z"
      },
      {
        "duration": 1018,
        "start_time": "2023-06-21T18:59:53.007Z"
      },
      {
        "duration": 205,
        "start_time": "2023-06-21T18:59:54.027Z"
      },
      {
        "duration": 195,
        "start_time": "2023-06-21T18:59:54.234Z"
      },
      {
        "duration": 28,
        "start_time": "2023-06-21T18:59:54.431Z"
      },
      {
        "duration": 56,
        "start_time": "2023-06-21T18:59:54.462Z"
      },
      {
        "duration": 20,
        "start_time": "2023-06-21T18:59:54.521Z"
      },
      {
        "duration": 68,
        "start_time": "2023-06-21T18:59:54.543Z"
      },
      {
        "duration": 31,
        "start_time": "2023-06-21T18:59:54.613Z"
      },
      {
        "duration": 110,
        "start_time": "2023-06-21T18:59:54.645Z"
      },
      {
        "duration": 17,
        "start_time": "2023-06-21T18:59:54.756Z"
      },
      {
        "duration": 227,
        "start_time": "2023-06-21T18:59:54.775Z"
      },
      {
        "duration": 43,
        "start_time": "2023-06-21T18:59:55.004Z"
      },
      {
        "duration": 8,
        "start_time": "2023-06-21T18:59:55.048Z"
      },
      {
        "duration": 68,
        "start_time": "2023-06-21T18:59:55.058Z"
      },
      {
        "duration": 66,
        "start_time": "2023-06-21T18:59:55.128Z"
      },
      {
        "duration": 112,
        "start_time": "2023-06-21T18:59:55.196Z"
      },
      {
        "duration": 856,
        "start_time": "2023-06-21T18:59:55.310Z"
      },
      {
        "duration": 89,
        "start_time": "2023-06-21T18:59:56.168Z"
      },
      {
        "duration": 51,
        "start_time": "2023-06-21T18:59:56.259Z"
      },
      {
        "duration": 18,
        "start_time": "2023-06-21T18:59:56.312Z"
      },
      {
        "duration": 101,
        "start_time": "2023-06-21T18:59:56.332Z"
      },
      {
        "duration": 4,
        "start_time": "2023-06-21T18:59:56.435Z"
      },
      {
        "duration": 87,
        "start_time": "2023-06-21T18:59:56.441Z"
      },
      {
        "duration": 446,
        "start_time": "2023-06-21T18:59:57.894Z"
      },
      {
        "duration": 486,
        "start_time": "2023-06-21T19:04:40.921Z"
      },
      {
        "duration": 535,
        "start_time": "2023-06-21T19:04:57.851Z"
      },
      {
        "duration": 540,
        "start_time": "2023-06-21T19:05:10.558Z"
      },
      {
        "duration": 2329,
        "start_time": "2023-06-21T19:05:11.100Z"
      },
      {
        "duration": 0,
        "start_time": "2023-06-21T19:05:13.431Z"
      },
      {
        "duration": 0,
        "start_time": "2023-06-21T19:05:13.433Z"
      },
      {
        "duration": 0,
        "start_time": "2023-06-21T19:05:13.434Z"
      },
      {
        "duration": 0,
        "start_time": "2023-06-21T19:05:13.436Z"
      },
      {
        "duration": 0,
        "start_time": "2023-06-21T19:05:13.437Z"
      },
      {
        "duration": 0,
        "start_time": "2023-06-21T19:05:13.439Z"
      },
      {
        "duration": 0,
        "start_time": "2023-06-21T19:05:13.440Z"
      },
      {
        "duration": 0,
        "start_time": "2023-06-21T19:05:13.441Z"
      },
      {
        "duration": 0,
        "start_time": "2023-06-21T19:05:13.443Z"
      },
      {
        "duration": 0,
        "start_time": "2023-06-21T19:05:13.444Z"
      },
      {
        "duration": 0,
        "start_time": "2023-06-21T19:05:13.445Z"
      },
      {
        "duration": 0,
        "start_time": "2023-06-21T19:05:13.447Z"
      },
      {
        "duration": 5,
        "start_time": "2023-06-21T19:53:57.808Z"
      },
      {
        "duration": 775,
        "start_time": "2023-06-21T19:53:57.816Z"
      },
      {
        "duration": 13,
        "start_time": "2023-06-21T19:53:58.593Z"
      },
      {
        "duration": 140,
        "start_time": "2023-06-21T19:53:58.608Z"
      },
      {
        "duration": 404,
        "start_time": "2023-06-21T19:53:58.750Z"
      },
      {
        "duration": 412,
        "start_time": "2023-06-21T19:53:59.156Z"
      },
      {
        "duration": 402,
        "start_time": "2023-06-21T19:53:59.570Z"
      },
      {
        "duration": 3,
        "start_time": "2023-06-21T19:53:59.975Z"
      },
      {
        "duration": 16,
        "start_time": "2023-06-21T19:53:59.981Z"
      },
      {
        "duration": 226,
        "start_time": "2023-06-21T19:53:59.999Z"
      },
      {
        "duration": 24,
        "start_time": "2023-06-21T19:54:00.227Z"
      },
      {
        "duration": 45,
        "start_time": "2023-06-21T19:54:00.254Z"
      },
      {
        "duration": 57,
        "start_time": "2023-06-21T19:54:00.301Z"
      },
      {
        "duration": 194,
        "start_time": "2023-06-21T19:54:00.360Z"
      },
      {
        "duration": 21,
        "start_time": "2023-06-21T19:54:00.556Z"
      },
      {
        "duration": 142,
        "start_time": "2023-06-21T19:54:00.579Z"
      },
      {
        "duration": 19,
        "start_time": "2023-06-21T19:54:00.723Z"
      },
      {
        "duration": 150,
        "start_time": "2023-06-21T19:54:00.744Z"
      },
      {
        "duration": 232,
        "start_time": "2023-06-21T19:54:00.895Z"
      },
      {
        "duration": 853,
        "start_time": "2023-06-21T19:54:01.131Z"
      },
      {
        "duration": 184,
        "start_time": "2023-06-21T19:54:01.986Z"
      },
      {
        "duration": 195,
        "start_time": "2023-06-21T19:54:02.171Z"
      },
      {
        "duration": 28,
        "start_time": "2023-06-21T19:54:02.375Z"
      },
      {
        "duration": 40,
        "start_time": "2023-06-21T19:54:02.406Z"
      },
      {
        "duration": 39,
        "start_time": "2023-06-21T19:54:02.448Z"
      },
      {
        "duration": 42,
        "start_time": "2023-06-21T19:54:02.488Z"
      },
      {
        "duration": 44,
        "start_time": "2023-06-21T19:54:02.532Z"
      },
      {
        "duration": 47,
        "start_time": "2023-06-21T19:54:02.578Z"
      },
      {
        "duration": 7,
        "start_time": "2023-06-21T19:54:02.627Z"
      },
      {
        "duration": 323,
        "start_time": "2023-06-21T19:54:02.636Z"
      },
      {
        "duration": 43,
        "start_time": "2023-06-21T19:54:02.961Z"
      },
      {
        "duration": 5,
        "start_time": "2023-06-21T19:54:03.006Z"
      },
      {
        "duration": 37,
        "start_time": "2023-06-21T19:54:03.013Z"
      },
      {
        "duration": 39,
        "start_time": "2023-06-21T19:54:03.051Z"
      },
      {
        "duration": 84,
        "start_time": "2023-06-21T19:54:03.092Z"
      },
      {
        "duration": 782,
        "start_time": "2023-06-21T19:54:03.178Z"
      },
      {
        "duration": 75,
        "start_time": "2023-06-21T19:54:03.962Z"
      },
      {
        "duration": 41,
        "start_time": "2023-06-21T19:54:04.039Z"
      },
      {
        "duration": 15,
        "start_time": "2023-06-21T19:54:04.081Z"
      },
      {
        "duration": 91,
        "start_time": "2023-06-21T19:54:04.098Z"
      },
      {
        "duration": 4,
        "start_time": "2023-06-21T19:54:04.191Z"
      },
      {
        "duration": 16,
        "start_time": "2023-06-21T19:54:16.598Z"
      },
      {
        "duration": 19,
        "start_time": "2023-06-21T19:55:15.716Z"
      },
      {
        "duration": 547,
        "start_time": "2023-06-21T19:55:34.293Z"
      },
      {
        "duration": 20,
        "start_time": "2023-06-21T19:55:39.202Z"
      },
      {
        "duration": 2376,
        "start_time": "2023-06-21T19:56:33.661Z"
      },
      {
        "duration": 1706,
        "start_time": "2023-06-21T19:59:47.940Z"
      },
      {
        "duration": 12,
        "start_time": "2023-06-21T20:02:09.594Z"
      },
      {
        "duration": 2,
        "start_time": "2023-06-21T20:03:09.448Z"
      },
      {
        "duration": 196,
        "start_time": "2023-06-21T20:03:46.238Z"
      },
      {
        "duration": 53,
        "start_time": "2023-06-21T20:04:14.787Z"
      },
      {
        "duration": 20,
        "start_time": "2023-06-21T20:05:38.502Z"
      },
      {
        "duration": 15,
        "start_time": "2023-06-21T20:06:28.905Z"
      },
      {
        "duration": 4,
        "start_time": "2023-06-21T20:07:19.576Z"
      },
      {
        "duration": 760,
        "start_time": "2023-06-21T20:07:19.582Z"
      },
      {
        "duration": 14,
        "start_time": "2023-06-21T20:07:20.343Z"
      },
      {
        "duration": 149,
        "start_time": "2023-06-21T20:07:20.359Z"
      },
      {
        "duration": 397,
        "start_time": "2023-06-21T20:07:20.510Z"
      },
      {
        "duration": 423,
        "start_time": "2023-06-21T20:07:20.908Z"
      },
      {
        "duration": 402,
        "start_time": "2023-06-21T20:07:21.333Z"
      },
      {
        "duration": 3,
        "start_time": "2023-06-21T20:07:21.737Z"
      },
      {
        "duration": 14,
        "start_time": "2023-06-21T20:07:21.743Z"
      },
      {
        "duration": 132,
        "start_time": "2023-06-21T20:07:21.759Z"
      },
      {
        "duration": 21,
        "start_time": "2023-06-21T20:07:21.893Z"
      },
      {
        "duration": 42,
        "start_time": "2023-06-21T20:07:21.916Z"
      },
      {
        "duration": 43,
        "start_time": "2023-06-21T20:07:21.959Z"
      },
      {
        "duration": 89,
        "start_time": "2023-06-21T20:07:22.004Z"
      },
      {
        "duration": 19,
        "start_time": "2023-06-21T20:07:22.095Z"
      },
      {
        "duration": 134,
        "start_time": "2023-06-21T20:07:22.116Z"
      },
      {
        "duration": 24,
        "start_time": "2023-06-21T20:07:22.252Z"
      },
      {
        "duration": 37,
        "start_time": "2023-06-21T20:07:22.278Z"
      },
      {
        "duration": 127,
        "start_time": "2023-06-21T20:07:22.317Z"
      },
      {
        "duration": 798,
        "start_time": "2023-06-21T20:07:22.446Z"
      },
      {
        "duration": 178,
        "start_time": "2023-06-21T20:07:23.246Z"
      },
      {
        "duration": 173,
        "start_time": "2023-06-21T20:07:23.426Z"
      },
      {
        "duration": 26,
        "start_time": "2023-06-21T20:07:23.602Z"
      },
      {
        "duration": 68,
        "start_time": "2023-06-21T20:07:23.632Z"
      },
      {
        "duration": 24,
        "start_time": "2023-06-21T20:07:23.702Z"
      },
      {
        "duration": 63,
        "start_time": "2023-06-21T20:07:23.728Z"
      },
      {
        "duration": 30,
        "start_time": "2023-06-21T20:07:23.792Z"
      },
      {
        "duration": 82,
        "start_time": "2023-06-21T20:07:23.825Z"
      },
      {
        "duration": 14,
        "start_time": "2023-06-21T20:07:23.909Z"
      },
      {
        "duration": 203,
        "start_time": "2023-06-21T20:07:23.925Z"
      },
      {
        "duration": 49,
        "start_time": "2023-06-21T20:07:24.130Z"
      },
      {
        "duration": 6,
        "start_time": "2023-06-21T20:07:24.181Z"
      },
      {
        "duration": 34,
        "start_time": "2023-06-21T20:07:24.189Z"
      },
      {
        "duration": 31,
        "start_time": "2023-06-21T20:07:24.224Z"
      },
      {
        "duration": 90,
        "start_time": "2023-06-21T20:07:24.257Z"
      },
      {
        "duration": 764,
        "start_time": "2023-06-21T20:07:24.350Z"
      },
      {
        "duration": 74,
        "start_time": "2023-06-21T20:07:25.120Z"
      },
      {
        "duration": 47,
        "start_time": "2023-06-21T20:07:25.196Z"
      },
      {
        "duration": 21,
        "start_time": "2023-06-21T20:07:25.245Z"
      },
      {
        "duration": 110,
        "start_time": "2023-06-21T20:07:25.268Z"
      },
      {
        "duration": 4,
        "start_time": "2023-06-21T20:07:25.379Z"
      },
      {
        "duration": 521,
        "start_time": "2023-06-21T20:07:25.385Z"
      },
      {
        "duration": 10,
        "start_time": "2023-06-21T20:07:25.908Z"
      },
      {
        "duration": 33,
        "start_time": "2023-06-21T20:07:25.919Z"
      },
      {
        "duration": 199,
        "start_time": "2023-06-21T20:07:25.953Z"
      },
      {
        "duration": 17,
        "start_time": "2023-06-21T20:07:29.897Z"
      },
      {
        "duration": 16,
        "start_time": "2023-06-21T20:07:40.691Z"
      },
      {
        "duration": 1510,
        "start_time": "2023-06-21T20:08:18.492Z"
      },
      {
        "duration": 1039,
        "start_time": "2023-06-21T20:08:20.004Z"
      },
      {
        "duration": 16,
        "start_time": "2023-06-21T20:08:21.045Z"
      },
      {
        "duration": 133,
        "start_time": "2023-06-21T20:08:21.063Z"
      },
      {
        "duration": 483,
        "start_time": "2023-06-21T20:08:21.198Z"
      },
      {
        "duration": 473,
        "start_time": "2023-06-21T20:08:21.683Z"
      },
      {
        "duration": 467,
        "start_time": "2023-06-21T20:08:22.158Z"
      },
      {
        "duration": 2,
        "start_time": "2023-06-21T20:08:22.627Z"
      },
      {
        "duration": 7,
        "start_time": "2023-06-21T20:08:22.630Z"
      },
      {
        "duration": 140,
        "start_time": "2023-06-21T20:08:22.638Z"
      },
      {
        "duration": 17,
        "start_time": "2023-06-21T20:08:22.780Z"
      },
      {
        "duration": 24,
        "start_time": "2023-06-21T20:08:22.799Z"
      },
      {
        "duration": 25,
        "start_time": "2023-06-21T20:08:22.825Z"
      },
      {
        "duration": 111,
        "start_time": "2023-06-21T20:08:22.853Z"
      },
      {
        "duration": 21,
        "start_time": "2023-06-21T20:08:22.966Z"
      },
      {
        "duration": 143,
        "start_time": "2023-06-21T20:08:22.989Z"
      },
      {
        "duration": 18,
        "start_time": "2023-06-21T20:08:23.134Z"
      },
      {
        "duration": 33,
        "start_time": "2023-06-21T20:08:23.153Z"
      },
      {
        "duration": 132,
        "start_time": "2023-06-21T20:08:23.188Z"
      },
      {
        "duration": 835,
        "start_time": "2023-06-21T20:08:23.321Z"
      },
      {
        "duration": 188,
        "start_time": "2023-06-21T20:08:24.158Z"
      },
      {
        "duration": 194,
        "start_time": "2023-06-21T20:08:24.348Z"
      },
      {
        "duration": 40,
        "start_time": "2023-06-21T20:08:24.544Z"
      },
      {
        "duration": 58,
        "start_time": "2023-06-21T20:08:24.586Z"
      },
      {
        "duration": 34,
        "start_time": "2023-06-21T20:08:24.646Z"
      },
      {
        "duration": 64,
        "start_time": "2023-06-21T20:08:24.682Z"
      },
      {
        "duration": 48,
        "start_time": "2023-06-21T20:08:24.748Z"
      },
      {
        "duration": 51,
        "start_time": "2023-06-21T20:08:24.798Z"
      },
      {
        "duration": 8,
        "start_time": "2023-06-21T20:08:24.851Z"
      },
      {
        "duration": 208,
        "start_time": "2023-06-21T20:08:24.861Z"
      },
      {
        "duration": 48,
        "start_time": "2023-06-21T20:08:25.075Z"
      },
      {
        "duration": 6,
        "start_time": "2023-06-21T20:08:25.125Z"
      },
      {
        "duration": 42,
        "start_time": "2023-06-21T20:08:25.133Z"
      },
      {
        "duration": 25,
        "start_time": "2023-06-21T20:08:25.177Z"
      },
      {
        "duration": 77,
        "start_time": "2023-06-21T20:08:25.204Z"
      },
      {
        "duration": 738,
        "start_time": "2023-06-21T20:08:25.283Z"
      },
      {
        "duration": 69,
        "start_time": "2023-06-21T20:08:26.023Z"
      },
      {
        "duration": 33,
        "start_time": "2023-06-21T20:08:26.093Z"
      },
      {
        "duration": 12,
        "start_time": "2023-06-21T20:08:26.127Z"
      },
      {
        "duration": 85,
        "start_time": "2023-06-21T20:08:26.141Z"
      },
      {
        "duration": 4,
        "start_time": "2023-06-21T20:08:26.230Z"
      },
      {
        "duration": 586,
        "start_time": "2023-06-21T20:08:26.236Z"
      },
      {
        "duration": 10,
        "start_time": "2023-06-21T20:08:26.824Z"
      },
      {
        "duration": 14,
        "start_time": "2023-06-21T20:08:26.836Z"
      },
      {
        "duration": 210,
        "start_time": "2023-06-21T20:08:26.851Z"
      },
      {
        "duration": 18,
        "start_time": "2023-06-21T20:08:27.063Z"
      },
      {
        "duration": 24681,
        "start_time": "2023-06-21T20:08:27.083Z"
      },
      {
        "duration": 5,
        "start_time": "2023-06-21T20:09:59.322Z"
      },
      {
        "duration": 21,
        "start_time": "2023-06-21T20:10:28.687Z"
      },
      {
        "duration": 83,
        "start_time": "2023-06-21T20:10:29.342Z"
      },
      {
        "duration": 5,
        "start_time": "2023-06-21T20:10:31.137Z"
      },
      {
        "duration": 583,
        "start_time": "2023-06-21T20:10:35.945Z"
      },
      {
        "duration": 4,
        "start_time": "2023-06-21T20:10:41.144Z"
      },
      {
        "duration": 212,
        "start_time": "2023-06-21T20:10:41.825Z"
      },
      {
        "duration": 7,
        "start_time": "2023-06-21T20:10:44.090Z"
      },
      {
        "duration": 2500,
        "start_time": "2023-06-21T20:18:27.142Z"
      },
      {
        "duration": 348,
        "start_time": "2023-06-21T20:21:33.785Z"
      },
      {
        "duration": 116,
        "start_time": "2023-06-21T20:23:27.012Z"
      },
      {
        "duration": 369,
        "start_time": "2023-06-21T20:23:32.797Z"
      },
      {
        "duration": 492,
        "start_time": "2023-06-21T20:35:31.718Z"
      },
      {
        "duration": 4,
        "start_time": "2023-06-21T20:35:45.348Z"
      },
      {
        "duration": 531,
        "start_time": "2023-06-21T20:36:27.184Z"
      },
      {
        "duration": 5,
        "start_time": "2023-06-21T20:36:39.515Z"
      },
      {
        "duration": 14,
        "start_time": "2023-06-21T20:37:03.598Z"
      },
      {
        "duration": 516,
        "start_time": "2023-06-21T20:37:30.588Z"
      },
      {
        "duration": 16,
        "start_time": "2023-06-21T20:37:36.904Z"
      },
      {
        "duration": 5,
        "start_time": "2023-06-21T20:39:37.696Z"
      },
      {
        "duration": 538,
        "start_time": "2023-06-21T20:39:47.137Z"
      },
      {
        "duration": 4,
        "start_time": "2023-06-21T20:39:51.716Z"
      },
      {
        "duration": 44,
        "start_time": "2023-06-21T20:40:13.196Z"
      },
      {
        "duration": 31,
        "start_time": "2023-06-21T20:40:22.693Z"
      },
      {
        "duration": 23,
        "start_time": "2023-06-21T20:40:29.111Z"
      },
      {
        "duration": 74,
        "start_time": "2023-06-21T20:42:11.892Z"
      },
      {
        "duration": 594,
        "start_time": "2023-06-21T20:42:49.633Z"
      },
      {
        "duration": 3,
        "start_time": "2023-06-21T20:43:04.753Z"
      },
      {
        "duration": 205,
        "start_time": "2023-06-21T20:43:05.242Z"
      },
      {
        "duration": 5,
        "start_time": "2023-06-21T20:43:10.054Z"
      },
      {
        "duration": 33,
        "start_time": "2023-06-21T20:44:33.693Z"
      },
      {
        "duration": 4,
        "start_time": "2023-06-21T20:46:54.290Z"
      },
      {
        "duration": 22544,
        "start_time": "2023-06-21T20:47:08.235Z"
      },
      {
        "duration": 26269,
        "start_time": "2023-06-21T20:47:47.705Z"
      },
      {
        "duration": 4,
        "start_time": "2023-06-21T20:48:21.285Z"
      },
      {
        "duration": 3139042,
        "start_time": "2023-06-21T20:48:27.687Z"
      },
      {
        "duration": 4,
        "start_time": "2023-06-21T21:40:46.731Z"
      },
      {
        "duration": 116386,
        "start_time": "2023-06-21T21:53:35.106Z"
      },
      {
        "duration": 0,
        "start_time": "2023-06-21T21:55:31.494Z"
      },
      {
        "duration": 2698,
        "start_time": "2023-06-22T05:52:54.661Z"
      },
      {
        "duration": 785,
        "start_time": "2023-06-22T05:52:57.361Z"
      },
      {
        "duration": 19,
        "start_time": "2023-06-22T05:52:58.147Z"
      },
      {
        "duration": 149,
        "start_time": "2023-06-22T05:52:58.169Z"
      },
      {
        "duration": 397,
        "start_time": "2023-06-22T05:52:58.321Z"
      },
      {
        "duration": 398,
        "start_time": "2023-06-22T05:52:58.720Z"
      },
      {
        "duration": 400,
        "start_time": "2023-06-22T05:52:59.119Z"
      },
      {
        "duration": 2,
        "start_time": "2023-06-22T05:52:59.521Z"
      },
      {
        "duration": 22,
        "start_time": "2023-06-22T05:52:59.525Z"
      },
      {
        "duration": 198,
        "start_time": "2023-06-22T05:52:59.549Z"
      },
      {
        "duration": 18,
        "start_time": "2023-06-22T05:52:59.748Z"
      },
      {
        "duration": 17,
        "start_time": "2023-06-22T05:52:59.767Z"
      },
      {
        "duration": 42,
        "start_time": "2023-06-22T05:52:59.786Z"
      },
      {
        "duration": 103,
        "start_time": "2023-06-22T05:52:59.831Z"
      },
      {
        "duration": 18,
        "start_time": "2023-06-22T05:52:59.936Z"
      },
      {
        "duration": 162,
        "start_time": "2023-06-22T05:52:59.956Z"
      },
      {
        "duration": 18,
        "start_time": "2023-06-22T05:53:00.119Z"
      },
      {
        "duration": 78,
        "start_time": "2023-06-22T05:53:00.139Z"
      },
      {
        "duration": 235,
        "start_time": "2023-06-22T05:53:00.219Z"
      },
      {
        "duration": 776,
        "start_time": "2023-06-22T05:53:00.455Z"
      },
      {
        "duration": 191,
        "start_time": "2023-06-22T05:53:01.233Z"
      },
      {
        "duration": 202,
        "start_time": "2023-06-22T05:53:01.426Z"
      },
      {
        "duration": 37,
        "start_time": "2023-06-22T05:53:01.630Z"
      },
      {
        "duration": 82,
        "start_time": "2023-06-22T05:53:01.669Z"
      },
      {
        "duration": 42,
        "start_time": "2023-06-22T05:53:01.753Z"
      },
      {
        "duration": 163,
        "start_time": "2023-06-22T05:53:01.797Z"
      },
      {
        "duration": 89,
        "start_time": "2023-06-22T05:53:01.962Z"
      },
      {
        "duration": 104,
        "start_time": "2023-06-22T05:53:02.053Z"
      },
      {
        "duration": 28,
        "start_time": "2023-06-22T05:53:02.159Z"
      },
      {
        "duration": 229,
        "start_time": "2023-06-22T05:53:02.189Z"
      },
      {
        "duration": 65,
        "start_time": "2023-06-22T05:53:02.420Z"
      },
      {
        "duration": 6,
        "start_time": "2023-06-22T05:53:02.486Z"
      },
      {
        "duration": 71,
        "start_time": "2023-06-22T05:53:02.494Z"
      },
      {
        "duration": 54,
        "start_time": "2023-06-22T05:53:02.567Z"
      },
      {
        "duration": 107,
        "start_time": "2023-06-22T05:53:02.623Z"
      },
      {
        "duration": 699,
        "start_time": "2023-06-22T05:53:02.732Z"
      },
      {
        "duration": 85,
        "start_time": "2023-06-22T05:53:03.432Z"
      },
      {
        "duration": 31,
        "start_time": "2023-06-22T05:53:03.519Z"
      },
      {
        "duration": 13,
        "start_time": "2023-06-22T05:53:03.551Z"
      },
      {
        "duration": 71,
        "start_time": "2023-06-22T05:53:03.565Z"
      },
      {
        "duration": 4,
        "start_time": "2023-06-22T05:53:03.639Z"
      },
      {
        "duration": 481,
        "start_time": "2023-06-22T05:53:03.645Z"
      },
      {
        "duration": 25,
        "start_time": "2023-06-22T05:53:04.128Z"
      },
      {
        "duration": 4,
        "start_time": "2023-06-22T05:53:04.154Z"
      },
      {
        "duration": 14,
        "start_time": "2023-06-22T05:53:04.159Z"
      },
      {
        "duration": 170,
        "start_time": "2023-06-22T05:53:04.174Z"
      },
      {
        "duration": 42357,
        "start_time": "2023-06-22T05:53:04.345Z"
      },
      {
        "duration": 24834,
        "start_time": "2023-06-22T05:53:46.704Z"
      },
      {
        "duration": 5,
        "start_time": "2023-06-22T05:54:11.540Z"
      },
      {
        "duration": 2708689,
        "start_time": "2023-06-22T05:54:11.546Z"
      },
      {
        "duration": 3,
        "start_time": "2023-06-22T06:39:20.236Z"
      },
      {
        "duration": 2422869,
        "start_time": "2023-06-22T06:39:20.241Z"
      },
      {
        "duration": 4,
        "start_time": "2023-06-22T07:19:43.112Z"
      },
      {
        "duration": 12,
        "start_time": "2023-06-22T07:19:43.121Z"
      },
      {
        "duration": 94306,
        "start_time": "2023-06-22T07:19:43.134Z"
      },
      {
        "duration": 155,
        "start_time": "2023-06-22T07:21:17.441Z"
      },
      {
        "duration": 13,
        "start_time": "2023-06-22T07:21:17.597Z"
      },
      {
        "duration": 1788,
        "start_time": "2023-06-23T10:56:53.801Z"
      },
      {
        "duration": 1106,
        "start_time": "2023-06-23T10:56:55.591Z"
      },
      {
        "duration": 18,
        "start_time": "2023-06-23T10:56:56.699Z"
      },
      {
        "duration": 114,
        "start_time": "2023-06-23T10:56:56.720Z"
      },
      {
        "duration": 495,
        "start_time": "2023-06-23T10:56:56.836Z"
      },
      {
        "duration": 504,
        "start_time": "2023-06-23T10:56:57.332Z"
      },
      {
        "duration": 550,
        "start_time": "2023-06-23T10:56:57.838Z"
      },
      {
        "duration": 4,
        "start_time": "2023-06-23T10:56:58.390Z"
      },
      {
        "duration": 55,
        "start_time": "2023-06-23T10:56:58.396Z"
      },
      {
        "duration": 178,
        "start_time": "2023-06-23T10:56:58.455Z"
      },
      {
        "duration": 23,
        "start_time": "2023-06-23T10:56:58.634Z"
      },
      {
        "duration": 20,
        "start_time": "2023-06-23T10:56:58.658Z"
      },
      {
        "duration": 37,
        "start_time": "2023-06-23T10:56:58.680Z"
      },
      {
        "duration": 110,
        "start_time": "2023-06-23T10:56:58.719Z"
      },
      {
        "duration": 25,
        "start_time": "2023-06-23T10:56:58.830Z"
      },
      {
        "duration": 148,
        "start_time": "2023-06-23T10:56:58.857Z"
      },
      {
        "duration": 18,
        "start_time": "2023-06-23T10:56:59.007Z"
      },
      {
        "duration": 33,
        "start_time": "2023-06-23T10:56:59.027Z"
      },
      {
        "duration": 119,
        "start_time": "2023-06-23T10:56:59.062Z"
      },
      {
        "duration": 932,
        "start_time": "2023-06-23T10:56:59.183Z"
      },
      {
        "duration": 196,
        "start_time": "2023-06-23T10:57:00.116Z"
      },
      {
        "duration": 203,
        "start_time": "2023-06-23T10:57:00.314Z"
      },
      {
        "duration": 43,
        "start_time": "2023-06-23T10:57:00.519Z"
      },
      {
        "duration": 63,
        "start_time": "2023-06-23T10:57:00.563Z"
      },
      {
        "duration": 38,
        "start_time": "2023-06-23T10:57:00.628Z"
      },
      {
        "duration": 91,
        "start_time": "2023-06-23T10:57:00.668Z"
      },
      {
        "duration": 29,
        "start_time": "2023-06-23T10:57:00.761Z"
      },
      {
        "duration": 64,
        "start_time": "2023-06-23T10:57:00.793Z"
      },
      {
        "duration": 15,
        "start_time": "2023-06-23T10:57:00.859Z"
      },
      {
        "duration": 200,
        "start_time": "2023-06-23T10:57:00.875Z"
      },
      {
        "duration": 55,
        "start_time": "2023-06-23T10:57:01.077Z"
      },
      {
        "duration": 16,
        "start_time": "2023-06-23T10:57:01.136Z"
      },
      {
        "duration": 68,
        "start_time": "2023-06-23T10:57:01.154Z"
      },
      {
        "duration": 78,
        "start_time": "2023-06-23T10:57:01.224Z"
      },
      {
        "duration": 96,
        "start_time": "2023-06-23T10:57:01.304Z"
      },
      {
        "duration": 837,
        "start_time": "2023-06-23T10:57:01.402Z"
      },
      {
        "duration": 76,
        "start_time": "2023-06-23T10:57:02.241Z"
      },
      {
        "duration": 96,
        "start_time": "2023-06-23T10:57:02.319Z"
      },
      {
        "duration": 16,
        "start_time": "2023-06-23T10:57:02.417Z"
      },
      {
        "duration": 153,
        "start_time": "2023-06-23T10:57:02.435Z"
      },
      {
        "duration": 5,
        "start_time": "2023-06-23T10:57:02.590Z"
      },
      {
        "duration": 113,
        "start_time": "2023-06-23T11:03:35.958Z"
      },
      {
        "duration": 10,
        "start_time": "2023-06-23T11:09:07.241Z"
      },
      {
        "duration": 10,
        "start_time": "2023-06-23T11:09:14.353Z"
      },
      {
        "duration": 12,
        "start_time": "2023-06-23T11:10:17.154Z"
      },
      {
        "duration": 5076,
        "start_time": "2023-06-23T11:11:53.421Z"
      },
      {
        "duration": 111,
        "start_time": "2023-06-23T11:12:02.725Z"
      },
      {
        "duration": 41,
        "start_time": "2023-06-23T11:18:39.017Z"
      },
      {
        "duration": 12,
        "start_time": "2023-06-23T11:20:12.532Z"
      },
      {
        "duration": 12,
        "start_time": "2023-06-23T11:20:59.324Z"
      },
      {
        "duration": 1511,
        "start_time": "2023-06-23T11:21:04.824Z"
      },
      {
        "duration": 9,
        "start_time": "2023-06-23T11:21:19.324Z"
      },
      {
        "duration": 6,
        "start_time": "2023-06-23T11:21:28.566Z"
      },
      {
        "duration": 12,
        "start_time": "2023-06-23T11:21:49.612Z"
      },
      {
        "duration": 10,
        "start_time": "2023-06-23T11:22:07.838Z"
      },
      {
        "duration": 4,
        "start_time": "2023-06-23T11:22:40.112Z"
      },
      {
        "duration": 150,
        "start_time": "2023-06-23T11:22:40.665Z"
      },
      {
        "duration": 1444,
        "start_time": "2023-06-23T11:23:39.375Z"
      },
      {
        "duration": 59,
        "start_time": "2023-06-23T11:23:47.263Z"
      },
      {
        "duration": 11,
        "start_time": "2023-06-23T11:24:01.020Z"
      },
      {
        "duration": 6,
        "start_time": "2023-06-23T11:24:14.328Z"
      },
      {
        "duration": 225,
        "start_time": "2023-06-23T11:24:38.827Z"
      },
      {
        "duration": 3598,
        "start_time": "2023-06-23T11:25:14.236Z"
      },
      {
        "duration": 4,
        "start_time": "2023-06-23T11:25:26.932Z"
      },
      {
        "duration": 470439,
        "start_time": "2023-06-23T11:25:35.313Z"
      },
      {
        "duration": 4,
        "start_time": "2023-06-23T11:33:25.753Z"
      },
      {
        "duration": 39136,
        "start_time": "2023-06-23T11:33:56.917Z"
      },
      {
        "duration": 3,
        "start_time": "2023-06-23T11:34:36.056Z"
      },
      {
        "duration": 4,
        "start_time": "2023-06-23T11:36:08.978Z"
      },
      {
        "duration": 104888,
        "start_time": "2023-06-23T11:36:10.104Z"
      },
      {
        "duration": 170,
        "start_time": "2023-06-23T11:37:54.994Z"
      },
      {
        "duration": 12,
        "start_time": "2023-06-23T11:43:48.120Z"
      },
      {
        "duration": 355,
        "start_time": "2023-06-23T11:44:55.556Z"
      },
      {
        "duration": 12,
        "start_time": "2023-06-23T11:45:05.838Z"
      },
      {
        "duration": 11,
        "start_time": "2023-06-23T11:47:00.708Z"
      },
      {
        "duration": 236,
        "start_time": "2023-06-23T11:50:08.911Z"
      },
      {
        "duration": 459,
        "start_time": "2023-06-23T11:50:17.204Z"
      },
      {
        "duration": 108,
        "start_time": "2023-06-23T11:51:14.168Z"
      },
      {
        "duration": 25,
        "start_time": "2023-06-23T11:51:27.238Z"
      },
      {
        "duration": 20,
        "start_time": "2023-06-23T11:51:53.078Z"
      },
      {
        "duration": 9,
        "start_time": "2023-06-23T11:52:02.671Z"
      },
      {
        "duration": 18,
        "start_time": "2023-06-23T11:52:16.935Z"
      },
      {
        "duration": 9,
        "start_time": "2023-06-23T11:52:22.358Z"
      },
      {
        "duration": 13,
        "start_time": "2023-06-23T11:53:49.963Z"
      },
      {
        "duration": 12,
        "start_time": "2023-06-23T11:53:57.125Z"
      },
      {
        "duration": 14,
        "start_time": "2023-06-23T11:54:06.113Z"
      },
      {
        "duration": 12,
        "start_time": "2023-06-23T11:54:30.267Z"
      },
      {
        "duration": 12,
        "start_time": "2023-06-23T11:54:44.812Z"
      },
      {
        "duration": 11,
        "start_time": "2023-06-23T11:55:23.104Z"
      },
      {
        "duration": 11,
        "start_time": "2023-06-23T11:58:45.348Z"
      },
      {
        "duration": 2,
        "start_time": "2023-06-23T11:58:47.228Z"
      },
      {
        "duration": 30,
        "start_time": "2023-06-23T11:58:48.720Z"
      },
      {
        "duration": 10,
        "start_time": "2023-06-23T11:59:00.315Z"
      },
      {
        "duration": 9,
        "start_time": "2023-06-23T11:59:10.661Z"
      },
      {
        "duration": 19,
        "start_time": "2023-06-23T12:02:23.277Z"
      },
      {
        "duration": 4,
        "start_time": "2023-06-23T12:02:59.020Z"
      },
      {
        "duration": 6,
        "start_time": "2023-06-23T12:03:02.035Z"
      },
      {
        "duration": 15,
        "start_time": "2023-06-23T12:04:24.640Z"
      },
      {
        "duration": 12,
        "start_time": "2023-06-23T12:04:35.246Z"
      },
      {
        "duration": 5,
        "start_time": "2023-06-23T12:06:36.061Z"
      },
      {
        "duration": 13,
        "start_time": "2023-06-23T12:07:28.005Z"
      },
      {
        "duration": 3,
        "start_time": "2023-06-23T12:07:32.648Z"
      },
      {
        "duration": 3,
        "start_time": "2023-06-23T12:07:33.965Z"
      },
      {
        "duration": 17,
        "start_time": "2023-06-23T12:07:35.120Z"
      },
      {
        "duration": 9,
        "start_time": "2023-06-23T12:08:15.217Z"
      },
      {
        "duration": 3,
        "start_time": "2023-06-23T12:08:21.957Z"
      },
      {
        "duration": 10,
        "start_time": "2023-06-23T12:08:23.728Z"
      },
      {
        "duration": 5,
        "start_time": "2023-06-23T12:08:48.907Z"
      },
      {
        "duration": 6,
        "start_time": "2023-06-23T12:08:49.912Z"
      },
      {
        "duration": 12,
        "start_time": "2023-06-23T12:10:23.827Z"
      },
      {
        "duration": 3,
        "start_time": "2023-06-23T12:10:34.715Z"
      },
      {
        "duration": 14,
        "start_time": "2023-06-23T12:57:40.516Z"
      },
      {
        "duration": 10,
        "start_time": "2023-06-23T13:02:22.017Z"
      },
      {
        "duration": 6,
        "start_time": "2023-06-23T13:02:27.065Z"
      },
      {
        "duration": 257,
        "start_time": "2023-06-23T13:05:06.926Z"
      },
      {
        "duration": 97,
        "start_time": "2023-06-23T13:05:37.669Z"
      },
      {
        "duration": 10,
        "start_time": "2023-06-23T13:05:55.540Z"
      },
      {
        "duration": 26,
        "start_time": "2023-06-23T13:06:40.600Z"
      },
      {
        "duration": 4,
        "start_time": "2023-06-23T13:07:42.823Z"
      },
      {
        "duration": 13,
        "start_time": "2023-06-23T13:07:44.498Z"
      },
      {
        "duration": 13,
        "start_time": "2023-06-23T13:07:49.204Z"
      },
      {
        "duration": 12,
        "start_time": "2023-06-23T13:07:54.588Z"
      },
      {
        "duration": 12,
        "start_time": "2023-06-23T13:08:20.606Z"
      },
      {
        "duration": 12,
        "start_time": "2023-06-23T13:08:56.925Z"
      },
      {
        "duration": 14,
        "start_time": "2023-06-23T13:09:33.493Z"
      },
      {
        "duration": 11,
        "start_time": "2023-06-23T13:09:51.606Z"
      },
      {
        "duration": 10,
        "start_time": "2023-06-23T13:10:49.416Z"
      },
      {
        "duration": 11,
        "start_time": "2023-06-23T13:10:56.828Z"
      },
      {
        "duration": 4,
        "start_time": "2023-06-23T13:11:15.435Z"
      },
      {
        "duration": 6,
        "start_time": "2023-06-23T13:11:26.796Z"
      },
      {
        "duration": 6,
        "start_time": "2023-06-23T13:12:08.769Z"
      },
      {
        "duration": 15,
        "start_time": "2023-06-23T13:12:29.400Z"
      },
      {
        "duration": 93,
        "start_time": "2023-06-23T13:13:40.534Z"
      },
      {
        "duration": 15,
        "start_time": "2023-06-23T13:13:45.164Z"
      },
      {
        "duration": 168,
        "start_time": "2023-06-23T13:17:16.183Z"
      },
      {
        "duration": 7,
        "start_time": "2023-06-23T13:17:24.609Z"
      },
      {
        "duration": 13,
        "start_time": "2023-06-23T13:17:29.520Z"
      },
      {
        "duration": 11,
        "start_time": "2023-06-23T13:18:34.269Z"
      },
      {
        "duration": 14,
        "start_time": "2023-06-23T13:21:14.784Z"
      },
      {
        "duration": 30,
        "start_time": "2023-06-23T13:21:38.500Z"
      },
      {
        "duration": 13,
        "start_time": "2023-06-23T13:22:34.229Z"
      },
      {
        "duration": 4,
        "start_time": "2023-06-23T13:23:09.603Z"
      },
      {
        "duration": 4,
        "start_time": "2023-06-23T13:23:18.165Z"
      },
      {
        "duration": 4,
        "start_time": "2023-06-23T13:23:25.467Z"
      },
      {
        "duration": 16,
        "start_time": "2023-06-23T13:23:42.402Z"
      },
      {
        "duration": 10,
        "start_time": "2023-06-23T13:24:12.788Z"
      },
      {
        "duration": 11,
        "start_time": "2023-06-23T13:24:54.765Z"
      },
      {
        "duration": 34288,
        "start_time": "2023-06-23T13:25:03.601Z"
      },
      {
        "duration": 732268,
        "start_time": "2023-06-23T13:25:38.302Z"
      },
      {
        "duration": 4,
        "start_time": "2023-06-23T13:40:35.506Z"
      },
      {
        "duration": 11,
        "start_time": "2023-06-23T13:41:11.203Z"
      },
      {
        "duration": 3,
        "start_time": "2023-06-23T13:42:59.244Z"
      },
      {
        "duration": 1101,
        "start_time": "2023-06-23T13:43:01.496Z"
      },
      {
        "duration": 4,
        "start_time": "2023-06-23T13:44:31.997Z"
      },
      {
        "duration": 332738,
        "start_time": "2023-06-23T13:44:32.700Z"
      },
      {
        "duration": 6,
        "start_time": "2023-06-23T13:50:17.270Z"
      },
      {
        "duration": 20016,
        "start_time": "2023-06-23T13:50:22.521Z"
      },
      {
        "duration": 4,
        "start_time": "2023-06-23T13:50:46.567Z"
      },
      {
        "duration": 19872,
        "start_time": "2023-06-23T13:50:47.066Z"
      },
      {
        "duration": 4,
        "start_time": "2023-06-23T13:51:10.610Z"
      },
      {
        "duration": 19399,
        "start_time": "2023-06-23T13:51:11.014Z"
      },
      {
        "duration": 4,
        "start_time": "2023-06-23T13:51:37.363Z"
      },
      {
        "duration": 19568,
        "start_time": "2023-06-23T13:51:37.808Z"
      },
      {
        "duration": 4,
        "start_time": "2023-06-23T13:52:02.715Z"
      },
      {
        "duration": 19364,
        "start_time": "2023-06-23T13:52:03.130Z"
      },
      {
        "duration": 3,
        "start_time": "2023-06-23T13:52:26.403Z"
      },
      {
        "duration": 28510,
        "start_time": "2023-06-23T13:52:27.897Z"
      },
      {
        "duration": 3,
        "start_time": "2023-06-23T13:53:02.298Z"
      },
      {
        "duration": 414908,
        "start_time": "2023-06-23T13:53:03.464Z"
      },
      {
        "duration": 643,
        "start_time": "2023-06-23T13:59:58.375Z"
      },
      {
        "duration": 4,
        "start_time": "2023-06-23T14:00:19.924Z"
      },
      {
        "duration": 29390,
        "start_time": "2023-06-23T14:00:20.608Z"
      },
      {
        "duration": 121,
        "start_time": "2023-06-23T14:00:50.001Z"
      },
      {
        "duration": 4,
        "start_time": "2023-06-23T14:01:07.714Z"
      },
      {
        "duration": 30301,
        "start_time": "2023-06-23T14:01:09.236Z"
      },
      {
        "duration": 133,
        "start_time": "2023-06-23T14:01:39.540Z"
      },
      {
        "duration": 4,
        "start_time": "2023-06-23T14:01:52.542Z"
      },
      {
        "duration": 28673,
        "start_time": "2023-06-23T14:01:53.112Z"
      },
      {
        "duration": 133,
        "start_time": "2023-06-23T14:02:21.787Z"
      },
      {
        "duration": 3,
        "start_time": "2023-06-23T14:02:56.717Z"
      },
      {
        "duration": 29599,
        "start_time": "2023-06-23T14:02:57.152Z"
      },
      {
        "duration": 136,
        "start_time": "2023-06-23T14:03:26.753Z"
      },
      {
        "duration": 4,
        "start_time": "2023-06-23T14:03:35.750Z"
      },
      {
        "duration": 28890,
        "start_time": "2023-06-23T14:03:36.119Z"
      },
      {
        "duration": 149,
        "start_time": "2023-06-23T14:04:05.011Z"
      },
      {
        "duration": 4,
        "start_time": "2023-06-23T14:04:22.067Z"
      },
      {
        "duration": 23062,
        "start_time": "2023-06-23T14:04:22.447Z"
      },
      {
        "duration": 115,
        "start_time": "2023-06-23T14:04:45.512Z"
      },
      {
        "duration": 3,
        "start_time": "2023-06-23T14:05:06.644Z"
      },
      {
        "duration": 24687,
        "start_time": "2023-06-23T14:05:06.993Z"
      },
      {
        "duration": 123,
        "start_time": "2023-06-23T14:05:31.682Z"
      },
      {
        "duration": 5,
        "start_time": "2023-06-23T14:05:43.851Z"
      },
      {
        "duration": 24202,
        "start_time": "2023-06-23T14:05:44.226Z"
      },
      {
        "duration": 152,
        "start_time": "2023-06-23T14:06:08.431Z"
      },
      {
        "duration": 5,
        "start_time": "2023-06-23T14:06:24.215Z"
      },
      {
        "duration": 48386,
        "start_time": "2023-06-23T14:06:24.563Z"
      },
      {
        "duration": 153,
        "start_time": "2023-06-23T14:07:12.951Z"
      },
      {
        "duration": 5,
        "start_time": "2023-06-23T14:08:18.472Z"
      },
      {
        "duration": 24216,
        "start_time": "2023-06-23T14:08:18.805Z"
      },
      {
        "duration": 116,
        "start_time": "2023-06-23T14:08:43.023Z"
      },
      {
        "duration": 18,
        "start_time": "2023-06-23T14:08:49.651Z"
      },
      {
        "duration": 128,
        "start_time": "2023-06-23T14:10:39.608Z"
      },
      {
        "duration": 5,
        "start_time": "2023-06-23T14:10:43.564Z"
      },
      {
        "duration": 16,
        "start_time": "2023-06-23T14:11:35.834Z"
      },
      {
        "duration": 5,
        "start_time": "2023-06-23T14:12:10.933Z"
      },
      {
        "duration": 4,
        "start_time": "2023-06-23T14:12:15.567Z"
      },
      {
        "duration": 5,
        "start_time": "2023-06-23T14:12:24.276Z"
      },
      {
        "duration": 4,
        "start_time": "2023-06-23T14:12:24.668Z"
      },
      {
        "duration": 83,
        "start_time": "2023-06-23T14:12:35.864Z"
      },
      {
        "duration": 7,
        "start_time": "2023-06-23T14:12:48.765Z"
      },
      {
        "duration": 8,
        "start_time": "2023-06-23T14:14:44.916Z"
      },
      {
        "duration": 10,
        "start_time": "2023-06-23T14:15:17.776Z"
      },
      {
        "duration": 5,
        "start_time": "2023-06-23T14:15:20.174Z"
      },
      {
        "duration": 18,
        "start_time": "2023-06-23T14:19:40.915Z"
      },
      {
        "duration": 12,
        "start_time": "2023-06-23T14:20:01.228Z"
      },
      {
        "duration": 14,
        "start_time": "2023-06-23T14:20:08.104Z"
      },
      {
        "duration": 5,
        "start_time": "2023-06-23T14:20:33.720Z"
      },
      {
        "duration": 4,
        "start_time": "2023-06-23T14:22:45.845Z"
      },
      {
        "duration": 98,
        "start_time": "2023-06-23T14:22:55.164Z"
      },
      {
        "duration": 3349,
        "start_time": "2023-06-23T14:24:01.238Z"
      },
      {
        "duration": 3,
        "start_time": "2023-06-23T14:24:31.672Z"
      },
      {
        "duration": 182,
        "start_time": "2023-06-23T14:35:08.491Z"
      },
      {
        "duration": 0,
        "start_time": "2023-06-23T14:35:08.676Z"
      },
      {
        "duration": 0,
        "start_time": "2023-06-23T14:35:08.677Z"
      },
      {
        "duration": 0,
        "start_time": "2023-06-23T14:35:08.678Z"
      },
      {
        "duration": 1,
        "start_time": "2023-06-23T14:35:08.679Z"
      },
      {
        "duration": 0,
        "start_time": "2023-06-23T14:35:08.680Z"
      },
      {
        "duration": 0,
        "start_time": "2023-06-23T14:35:08.681Z"
      },
      {
        "duration": 0,
        "start_time": "2023-06-23T14:35:08.682Z"
      },
      {
        "duration": 0,
        "start_time": "2023-06-23T14:35:08.683Z"
      },
      {
        "duration": 0,
        "start_time": "2023-06-23T14:35:08.684Z"
      },
      {
        "duration": 0,
        "start_time": "2023-06-23T14:35:08.685Z"
      },
      {
        "duration": 1,
        "start_time": "2023-06-23T14:35:08.686Z"
      },
      {
        "duration": 0,
        "start_time": "2023-06-23T14:35:08.688Z"
      },
      {
        "duration": 1,
        "start_time": "2023-06-23T14:35:08.688Z"
      },
      {
        "duration": 0,
        "start_time": "2023-06-23T14:35:08.689Z"
      },
      {
        "duration": 0,
        "start_time": "2023-06-23T14:35:08.691Z"
      },
      {
        "duration": 0,
        "start_time": "2023-06-23T14:35:08.692Z"
      },
      {
        "duration": 0,
        "start_time": "2023-06-23T14:35:08.693Z"
      },
      {
        "duration": 0,
        "start_time": "2023-06-23T14:35:08.694Z"
      },
      {
        "duration": 0,
        "start_time": "2023-06-23T14:35:08.695Z"
      },
      {
        "duration": 0,
        "start_time": "2023-06-23T14:35:08.696Z"
      },
      {
        "duration": 0,
        "start_time": "2023-06-23T14:35:08.697Z"
      },
      {
        "duration": 0,
        "start_time": "2023-06-23T14:35:08.698Z"
      },
      {
        "duration": 0,
        "start_time": "2023-06-23T14:35:08.699Z"
      },
      {
        "duration": 0,
        "start_time": "2023-06-23T14:35:08.700Z"
      },
      {
        "duration": 0,
        "start_time": "2023-06-23T14:35:08.701Z"
      },
      {
        "duration": 0,
        "start_time": "2023-06-23T14:35:08.702Z"
      },
      {
        "duration": 0,
        "start_time": "2023-06-23T14:35:08.703Z"
      },
      {
        "duration": 0,
        "start_time": "2023-06-23T14:35:08.704Z"
      },
      {
        "duration": 0,
        "start_time": "2023-06-23T14:35:08.705Z"
      },
      {
        "duration": 0,
        "start_time": "2023-06-23T14:35:08.706Z"
      },
      {
        "duration": 0,
        "start_time": "2023-06-23T14:35:08.707Z"
      },
      {
        "duration": 0,
        "start_time": "2023-06-23T14:35:08.708Z"
      },
      {
        "duration": 0,
        "start_time": "2023-06-23T14:35:08.709Z"
      },
      {
        "duration": 0,
        "start_time": "2023-06-23T14:35:08.710Z"
      },
      {
        "duration": 0,
        "start_time": "2023-06-23T14:35:08.711Z"
      },
      {
        "duration": 0,
        "start_time": "2023-06-23T14:35:08.751Z"
      },
      {
        "duration": 0,
        "start_time": "2023-06-23T14:35:08.753Z"
      },
      {
        "duration": 0,
        "start_time": "2023-06-23T14:35:08.754Z"
      },
      {
        "duration": 0,
        "start_time": "2023-06-23T14:35:08.755Z"
      },
      {
        "duration": 0,
        "start_time": "2023-06-23T14:35:08.757Z"
      },
      {
        "duration": 0,
        "start_time": "2023-06-23T14:35:08.759Z"
      },
      {
        "duration": 0,
        "start_time": "2023-06-23T14:35:08.760Z"
      },
      {
        "duration": 0,
        "start_time": "2023-06-23T14:35:08.761Z"
      },
      {
        "duration": 0,
        "start_time": "2023-06-23T14:35:08.763Z"
      },
      {
        "duration": 0,
        "start_time": "2023-06-23T14:35:08.764Z"
      },
      {
        "duration": 0,
        "start_time": "2023-06-23T14:35:08.766Z"
      },
      {
        "duration": 0,
        "start_time": "2023-06-23T14:35:08.767Z"
      },
      {
        "duration": 0,
        "start_time": "2023-06-23T14:35:08.769Z"
      },
      {
        "duration": 0,
        "start_time": "2023-06-23T14:35:08.771Z"
      },
      {
        "duration": 0,
        "start_time": "2023-06-23T14:35:08.772Z"
      },
      {
        "duration": 0,
        "start_time": "2023-06-23T14:35:08.774Z"
      },
      {
        "duration": 0,
        "start_time": "2023-06-23T14:35:08.775Z"
      },
      {
        "duration": 0,
        "start_time": "2023-06-23T14:35:08.776Z"
      },
      {
        "duration": 0,
        "start_time": "2023-06-23T14:35:08.778Z"
      },
      {
        "duration": 0,
        "start_time": "2023-06-23T14:35:08.779Z"
      },
      {
        "duration": 0,
        "start_time": "2023-06-23T14:35:08.781Z"
      },
      {
        "duration": 0,
        "start_time": "2023-06-23T14:35:08.783Z"
      },
      {
        "duration": 0,
        "start_time": "2023-06-23T14:35:08.784Z"
      },
      {
        "duration": 0,
        "start_time": "2023-06-23T14:35:08.785Z"
      },
      {
        "duration": 0,
        "start_time": "2023-06-23T14:35:08.787Z"
      },
      {
        "duration": 0,
        "start_time": "2023-06-23T14:35:08.788Z"
      },
      {
        "duration": 0,
        "start_time": "2023-06-23T14:35:08.851Z"
      },
      {
        "duration": 0,
        "start_time": "2023-06-23T14:35:08.853Z"
      },
      {
        "duration": 0,
        "start_time": "2023-06-23T14:35:08.854Z"
      },
      {
        "duration": 0,
        "start_time": "2023-06-23T14:35:08.855Z"
      },
      {
        "duration": 0,
        "start_time": "2023-06-23T14:35:08.856Z"
      },
      {
        "duration": 194,
        "start_time": "2023-06-23T14:35:25.652Z"
      },
      {
        "duration": 0,
        "start_time": "2023-06-23T14:35:25.849Z"
      },
      {
        "duration": 0,
        "start_time": "2023-06-23T14:35:25.851Z"
      },
      {
        "duration": 0,
        "start_time": "2023-06-23T14:35:25.852Z"
      },
      {
        "duration": 0,
        "start_time": "2023-06-23T14:35:25.853Z"
      },
      {
        "duration": 0,
        "start_time": "2023-06-23T14:35:25.854Z"
      },
      {
        "duration": 0,
        "start_time": "2023-06-23T14:35:25.855Z"
      },
      {
        "duration": 0,
        "start_time": "2023-06-23T14:35:25.855Z"
      },
      {
        "duration": 0,
        "start_time": "2023-06-23T14:35:25.856Z"
      },
      {
        "duration": 0,
        "start_time": "2023-06-23T14:35:25.857Z"
      },
      {
        "duration": 0,
        "start_time": "2023-06-23T14:35:25.858Z"
      },
      {
        "duration": 0,
        "start_time": "2023-06-23T14:35:25.859Z"
      },
      {
        "duration": 0,
        "start_time": "2023-06-23T14:35:25.860Z"
      },
      {
        "duration": 0,
        "start_time": "2023-06-23T14:35:25.861Z"
      },
      {
        "duration": 0,
        "start_time": "2023-06-23T14:35:25.862Z"
      },
      {
        "duration": 0,
        "start_time": "2023-06-23T14:35:25.863Z"
      },
      {
        "duration": 0,
        "start_time": "2023-06-23T14:35:25.864Z"
      },
      {
        "duration": 0,
        "start_time": "2023-06-23T14:35:25.865Z"
      },
      {
        "duration": 0,
        "start_time": "2023-06-23T14:35:25.866Z"
      },
      {
        "duration": 0,
        "start_time": "2023-06-23T14:35:25.867Z"
      },
      {
        "duration": 0,
        "start_time": "2023-06-23T14:35:25.868Z"
      },
      {
        "duration": 0,
        "start_time": "2023-06-23T14:35:25.869Z"
      },
      {
        "duration": 0,
        "start_time": "2023-06-23T14:35:25.870Z"
      },
      {
        "duration": 0,
        "start_time": "2023-06-23T14:35:25.871Z"
      },
      {
        "duration": 0,
        "start_time": "2023-06-23T14:35:25.872Z"
      },
      {
        "duration": 0,
        "start_time": "2023-06-23T14:35:25.873Z"
      },
      {
        "duration": 0,
        "start_time": "2023-06-23T14:35:25.874Z"
      },
      {
        "duration": 0,
        "start_time": "2023-06-23T14:35:25.875Z"
      },
      {
        "duration": 0,
        "start_time": "2023-06-23T14:35:25.876Z"
      },
      {
        "duration": 0,
        "start_time": "2023-06-23T14:35:25.877Z"
      },
      {
        "duration": 0,
        "start_time": "2023-06-23T14:35:25.878Z"
      },
      {
        "duration": 0,
        "start_time": "2023-06-23T14:35:25.879Z"
      },
      {
        "duration": 0,
        "start_time": "2023-06-23T14:35:25.880Z"
      },
      {
        "duration": 0,
        "start_time": "2023-06-23T14:35:25.881Z"
      },
      {
        "duration": 0,
        "start_time": "2023-06-23T14:35:25.882Z"
      },
      {
        "duration": 0,
        "start_time": "2023-06-23T14:35:25.883Z"
      },
      {
        "duration": 0,
        "start_time": "2023-06-23T14:35:25.884Z"
      },
      {
        "duration": 0,
        "start_time": "2023-06-23T14:35:25.885Z"
      },
      {
        "duration": 0,
        "start_time": "2023-06-23T14:35:25.886Z"
      },
      {
        "duration": 0,
        "start_time": "2023-06-23T14:35:25.887Z"
      },
      {
        "duration": 0,
        "start_time": "2023-06-23T14:35:25.888Z"
      },
      {
        "duration": 0,
        "start_time": "2023-06-23T14:35:25.889Z"
      },
      {
        "duration": 0,
        "start_time": "2023-06-23T14:35:25.890Z"
      },
      {
        "duration": 0,
        "start_time": "2023-06-23T14:35:25.952Z"
      },
      {
        "duration": 0,
        "start_time": "2023-06-23T14:35:25.953Z"
      },
      {
        "duration": 0,
        "start_time": "2023-06-23T14:35:25.954Z"
      },
      {
        "duration": 0,
        "start_time": "2023-06-23T14:35:25.955Z"
      },
      {
        "duration": 0,
        "start_time": "2023-06-23T14:35:25.956Z"
      },
      {
        "duration": 0,
        "start_time": "2023-06-23T14:35:25.957Z"
      },
      {
        "duration": 0,
        "start_time": "2023-06-23T14:35:25.958Z"
      },
      {
        "duration": 0,
        "start_time": "2023-06-23T14:35:25.959Z"
      },
      {
        "duration": 0,
        "start_time": "2023-06-23T14:35:25.960Z"
      },
      {
        "duration": 0,
        "start_time": "2023-06-23T14:35:25.962Z"
      },
      {
        "duration": 0,
        "start_time": "2023-06-23T14:35:25.963Z"
      },
      {
        "duration": 0,
        "start_time": "2023-06-23T14:35:25.964Z"
      },
      {
        "duration": 0,
        "start_time": "2023-06-23T14:35:25.965Z"
      },
      {
        "duration": 0,
        "start_time": "2023-06-23T14:35:25.966Z"
      },
      {
        "duration": 0,
        "start_time": "2023-06-23T14:35:25.967Z"
      },
      {
        "duration": 0,
        "start_time": "2023-06-23T14:35:25.968Z"
      },
      {
        "duration": 0,
        "start_time": "2023-06-23T14:35:25.969Z"
      },
      {
        "duration": 0,
        "start_time": "2023-06-23T14:35:25.970Z"
      },
      {
        "duration": 0,
        "start_time": "2023-06-23T14:35:25.971Z"
      },
      {
        "duration": 0,
        "start_time": "2023-06-23T14:35:25.972Z"
      },
      {
        "duration": 0,
        "start_time": "2023-06-23T14:35:25.973Z"
      },
      {
        "duration": 0,
        "start_time": "2023-06-23T14:35:25.974Z"
      },
      {
        "duration": 0,
        "start_time": "2023-06-23T14:35:25.975Z"
      },
      {
        "duration": 0,
        "start_time": "2023-06-23T14:35:25.976Z"
      },
      {
        "duration": 155,
        "start_time": "2023-06-23T14:35:35.893Z"
      },
      {
        "duration": 0,
        "start_time": "2023-06-23T14:35:36.051Z"
      },
      {
        "duration": 0,
        "start_time": "2023-06-23T14:35:36.052Z"
      },
      {
        "duration": 0,
        "start_time": "2023-06-23T14:35:36.053Z"
      },
      {
        "duration": 0,
        "start_time": "2023-06-23T14:35:36.054Z"
      },
      {
        "duration": 0,
        "start_time": "2023-06-23T14:35:36.055Z"
      },
      {
        "duration": 0,
        "start_time": "2023-06-23T14:35:36.056Z"
      },
      {
        "duration": 0,
        "start_time": "2023-06-23T14:35:36.057Z"
      },
      {
        "duration": 0,
        "start_time": "2023-06-23T14:35:36.058Z"
      },
      {
        "duration": 0,
        "start_time": "2023-06-23T14:35:36.060Z"
      },
      {
        "duration": 0,
        "start_time": "2023-06-23T14:35:36.061Z"
      },
      {
        "duration": 0,
        "start_time": "2023-06-23T14:35:36.062Z"
      },
      {
        "duration": 0,
        "start_time": "2023-06-23T14:35:36.063Z"
      },
      {
        "duration": 0,
        "start_time": "2023-06-23T14:35:36.064Z"
      },
      {
        "duration": 0,
        "start_time": "2023-06-23T14:35:36.065Z"
      },
      {
        "duration": 0,
        "start_time": "2023-06-23T14:35:36.065Z"
      },
      {
        "duration": 0,
        "start_time": "2023-06-23T14:35:36.066Z"
      },
      {
        "duration": 0,
        "start_time": "2023-06-23T14:35:36.067Z"
      },
      {
        "duration": 0,
        "start_time": "2023-06-23T14:35:36.068Z"
      },
      {
        "duration": 0,
        "start_time": "2023-06-23T14:35:36.068Z"
      },
      {
        "duration": 0,
        "start_time": "2023-06-23T14:35:36.070Z"
      },
      {
        "duration": 0,
        "start_time": "2023-06-23T14:35:36.071Z"
      },
      {
        "duration": 0,
        "start_time": "2023-06-23T14:35:36.072Z"
      },
      {
        "duration": 0,
        "start_time": "2023-06-23T14:35:36.073Z"
      },
      {
        "duration": 0,
        "start_time": "2023-06-23T14:35:36.074Z"
      },
      {
        "duration": 0,
        "start_time": "2023-06-23T14:35:36.074Z"
      },
      {
        "duration": 0,
        "start_time": "2023-06-23T14:35:36.075Z"
      },
      {
        "duration": 0,
        "start_time": "2023-06-23T14:35:36.076Z"
      },
      {
        "duration": 0,
        "start_time": "2023-06-23T14:35:36.077Z"
      },
      {
        "duration": 0,
        "start_time": "2023-06-23T14:35:36.078Z"
      },
      {
        "duration": 0,
        "start_time": "2023-06-23T14:35:36.079Z"
      },
      {
        "duration": 0,
        "start_time": "2023-06-23T14:35:36.080Z"
      },
      {
        "duration": 0,
        "start_time": "2023-06-23T14:35:36.081Z"
      },
      {
        "duration": 0,
        "start_time": "2023-06-23T14:35:36.082Z"
      },
      {
        "duration": 0,
        "start_time": "2023-06-23T14:35:36.083Z"
      },
      {
        "duration": 0,
        "start_time": "2023-06-23T14:35:36.084Z"
      },
      {
        "duration": 0,
        "start_time": "2023-06-23T14:35:36.085Z"
      },
      {
        "duration": 0,
        "start_time": "2023-06-23T14:35:36.086Z"
      },
      {
        "duration": 0,
        "start_time": "2023-06-23T14:35:36.087Z"
      },
      {
        "duration": 0,
        "start_time": "2023-06-23T14:35:36.088Z"
      },
      {
        "duration": 0,
        "start_time": "2023-06-23T14:35:36.090Z"
      },
      {
        "duration": 0,
        "start_time": "2023-06-23T14:35:36.091Z"
      },
      {
        "duration": 0,
        "start_time": "2023-06-23T14:35:36.092Z"
      },
      {
        "duration": 0,
        "start_time": "2023-06-23T14:35:36.153Z"
      },
      {
        "duration": 0,
        "start_time": "2023-06-23T14:35:36.154Z"
      },
      {
        "duration": 0,
        "start_time": "2023-06-23T14:35:36.155Z"
      },
      {
        "duration": 0,
        "start_time": "2023-06-23T14:35:36.157Z"
      },
      {
        "duration": 0,
        "start_time": "2023-06-23T14:35:36.158Z"
      },
      {
        "duration": 0,
        "start_time": "2023-06-23T14:35:36.159Z"
      },
      {
        "duration": 0,
        "start_time": "2023-06-23T14:35:36.160Z"
      },
      {
        "duration": 0,
        "start_time": "2023-06-23T14:35:36.161Z"
      },
      {
        "duration": 0,
        "start_time": "2023-06-23T14:35:36.162Z"
      },
      {
        "duration": 0,
        "start_time": "2023-06-23T14:35:36.163Z"
      },
      {
        "duration": 0,
        "start_time": "2023-06-23T14:35:36.164Z"
      },
      {
        "duration": 0,
        "start_time": "2023-06-23T14:35:36.165Z"
      },
      {
        "duration": 0,
        "start_time": "2023-06-23T14:35:36.166Z"
      },
      {
        "duration": 0,
        "start_time": "2023-06-23T14:35:36.167Z"
      },
      {
        "duration": 0,
        "start_time": "2023-06-23T14:35:36.168Z"
      },
      {
        "duration": 0,
        "start_time": "2023-06-23T14:35:36.169Z"
      },
      {
        "duration": 0,
        "start_time": "2023-06-23T14:35:36.170Z"
      },
      {
        "duration": 0,
        "start_time": "2023-06-23T14:35:36.171Z"
      },
      {
        "duration": 0,
        "start_time": "2023-06-23T14:35:36.172Z"
      },
      {
        "duration": 0,
        "start_time": "2023-06-23T14:35:36.173Z"
      },
      {
        "duration": 0,
        "start_time": "2023-06-23T14:35:36.174Z"
      },
      {
        "duration": 0,
        "start_time": "2023-06-23T14:35:36.175Z"
      },
      {
        "duration": 114,
        "start_time": "2023-06-23T14:35:36.178Z"
      },
      {
        "duration": 0,
        "start_time": "2023-06-23T14:35:36.294Z"
      },
      {
        "duration": 2119,
        "start_time": "2023-06-23T14:35:57.515Z"
      },
      {
        "duration": 6,
        "start_time": "2023-06-23T14:36:10.473Z"
      },
      {
        "duration": 1129,
        "start_time": "2023-06-23T14:36:10.504Z"
      },
      {
        "duration": 19,
        "start_time": "2023-06-23T14:36:11.635Z"
      },
      {
        "duration": 122,
        "start_time": "2023-06-23T14:36:11.655Z"
      },
      {
        "duration": 493,
        "start_time": "2023-06-23T14:36:11.778Z"
      },
      {
        "duration": 535,
        "start_time": "2023-06-23T14:36:12.273Z"
      },
      {
        "duration": 472,
        "start_time": "2023-06-23T14:36:12.810Z"
      },
      {
        "duration": 2,
        "start_time": "2023-06-23T14:36:13.284Z"
      },
      {
        "duration": 117,
        "start_time": "2023-06-23T14:36:13.287Z"
      },
      {
        "duration": 121,
        "start_time": "2023-06-23T14:36:13.406Z"
      },
      {
        "duration": 23,
        "start_time": "2023-06-23T14:36:13.529Z"
      },
      {
        "duration": 20,
        "start_time": "2023-06-23T14:36:13.554Z"
      },
      {
        "duration": 21,
        "start_time": "2023-06-23T14:36:13.575Z"
      },
      {
        "duration": 121,
        "start_time": "2023-06-23T14:36:13.598Z"
      },
      {
        "duration": 19,
        "start_time": "2023-06-23T14:36:13.723Z"
      },
      {
        "duration": 123,
        "start_time": "2023-06-23T14:36:13.744Z"
      },
      {
        "duration": 19,
        "start_time": "2023-06-23T14:36:13.868Z"
      },
      {
        "duration": 25,
        "start_time": "2023-06-23T14:36:13.888Z"
      },
      {
        "duration": 124,
        "start_time": "2023-06-23T14:36:13.915Z"
      },
      {
        "duration": 917,
        "start_time": "2023-06-23T14:36:14.041Z"
      },
      {
        "duration": 216,
        "start_time": "2023-06-23T14:36:14.959Z"
      },
      {
        "duration": 234,
        "start_time": "2023-06-23T14:36:15.177Z"
      },
      {
        "duration": 57,
        "start_time": "2023-06-23T14:36:15.414Z"
      },
      {
        "duration": 65,
        "start_time": "2023-06-23T14:36:15.473Z"
      },
      {
        "duration": 24,
        "start_time": "2023-06-23T14:36:15.551Z"
      },
      {
        "duration": 78,
        "start_time": "2023-06-23T14:36:15.577Z"
      },
      {
        "duration": 28,
        "start_time": "2023-06-23T14:36:15.657Z"
      },
      {
        "duration": 53,
        "start_time": "2023-06-23T14:36:15.686Z"
      },
      {
        "duration": 15,
        "start_time": "2023-06-23T14:36:15.741Z"
      },
      {
        "duration": 204,
        "start_time": "2023-06-23T14:36:15.758Z"
      },
      {
        "duration": 53,
        "start_time": "2023-06-23T14:36:15.965Z"
      },
      {
        "duration": 5,
        "start_time": "2023-06-23T14:36:16.020Z"
      },
      {
        "duration": 44,
        "start_time": "2023-06-23T14:36:16.027Z"
      },
      {
        "duration": 43,
        "start_time": "2023-06-23T14:36:16.074Z"
      },
      {
        "duration": 71,
        "start_time": "2023-06-23T14:36:16.119Z"
      },
      {
        "duration": 800,
        "start_time": "2023-06-23T14:36:16.192Z"
      },
      {
        "duration": 69,
        "start_time": "2023-06-23T14:36:16.994Z"
      },
      {
        "duration": 31,
        "start_time": "2023-06-23T14:36:17.065Z"
      },
      {
        "duration": 15,
        "start_time": "2023-06-23T14:36:17.098Z"
      },
      {
        "duration": 110,
        "start_time": "2023-06-23T14:36:17.115Z"
      },
      {
        "duration": 4,
        "start_time": "2023-06-23T14:36:17.227Z"
      },
      {
        "duration": 2410,
        "start_time": "2023-06-23T14:36:17.235Z"
      },
      {
        "duration": 6,
        "start_time": "2023-06-23T14:36:19.647Z"
      },
      {
        "duration": 18,
        "start_time": "2023-06-23T14:36:19.655Z"
      },
      {
        "duration": 42,
        "start_time": "2023-06-23T14:36:19.677Z"
      },
      {
        "duration": 30,
        "start_time": "2023-06-23T14:36:19.721Z"
      },
      {
        "duration": 83,
        "start_time": "2023-06-23T14:36:19.753Z"
      },
      {
        "duration": 5,
        "start_time": "2023-06-23T14:36:19.837Z"
      },
      {
        "duration": 108,
        "start_time": "2023-06-23T14:36:19.844Z"
      },
      {
        "duration": 4256,
        "start_time": "2023-06-23T14:36:19.954Z"
      },
      {
        "duration": 4,
        "start_time": "2023-06-23T14:36:24.212Z"
      },
      {
        "duration": 126921,
        "start_time": "2023-06-23T14:36:24.218Z"
      },
      {
        "duration": 5,
        "start_time": "2023-06-23T14:38:31.140Z"
      },
      {
        "duration": 46608,
        "start_time": "2023-06-23T14:38:31.151Z"
      },
      {
        "duration": 5,
        "start_time": "2023-06-23T14:39:17.761Z"
      },
      {
        "duration": 12,
        "start_time": "2023-06-23T14:39:17.767Z"
      },
      {
        "duration": 22564,
        "start_time": "2023-06-23T14:39:17.781Z"
      },
      {
        "duration": 121,
        "start_time": "2023-06-23T14:39:40.347Z"
      },
      {
        "duration": 17,
        "start_time": "2023-06-23T14:39:40.470Z"
      },
      {
        "duration": 135,
        "start_time": "2023-06-23T14:39:40.489Z"
      },
      {
        "duration": 4,
        "start_time": "2023-06-23T14:39:40.626Z"
      },
      {
        "duration": 117,
        "start_time": "2023-06-23T14:39:40.631Z"
      },
      {
        "duration": 0,
        "start_time": "2023-06-23T14:39:40.750Z"
      },
      {
        "duration": 0,
        "start_time": "2023-06-23T14:39:40.751Z"
      },
      {
        "duration": 0,
        "start_time": "2023-06-23T14:39:40.752Z"
      },
      {
        "duration": 732,
        "start_time": "2023-06-23T14:46:12.441Z"
      },
      {
        "duration": 6,
        "start_time": "2023-06-23T14:46:15.548Z"
      },
      {
        "duration": 5,
        "start_time": "2023-06-23T14:46:15.767Z"
      },
      {
        "duration": 8,
        "start_time": "2023-06-23T14:46:19.602Z"
      },
      {
        "duration": 268415,
        "start_time": "2023-06-23T14:48:02.066Z"
      },
      {
        "duration": 132,
        "start_time": "2023-06-23T14:54:52.563Z"
      },
      {
        "duration": 296642,
        "start_time": "2023-06-23T14:55:02.433Z"
      },
      {
        "duration": 5,
        "start_time": "2023-06-23T14:59:59.077Z"
      },
      {
        "duration": 14,
        "start_time": "2023-06-23T15:08:02.954Z"
      },
      {
        "duration": 17,
        "start_time": "2023-06-23T15:08:23.482Z"
      },
      {
        "duration": 23,
        "start_time": "2023-06-23T15:08:31.010Z"
      },
      {
        "duration": 340469,
        "start_time": "2023-06-23T15:09:50.103Z"
      },
      {
        "duration": 6,
        "start_time": "2023-06-23T15:15:30.574Z"
      },
      {
        "duration": 131,
        "start_time": "2023-06-23T15:31:31.411Z"
      },
      {
        "duration": 50613,
        "start_time": "2023-06-23T15:31:39.765Z"
      },
      {
        "duration": 5,
        "start_time": "2023-06-23T15:32:30.380Z"
      },
      {
        "duration": 6954,
        "start_time": "2023-06-23T15:33:25.717Z"
      },
      {
        "duration": 4,
        "start_time": "2023-06-23T15:33:32.673Z"
      },
      {
        "duration": 16,
        "start_time": "2023-06-23T15:34:05.404Z"
      },
      {
        "duration": 1676,
        "start_time": "2023-06-23T15:35:26.664Z"
      },
      {
        "duration": 8,
        "start_time": "2023-06-23T15:35:57.217Z"
      },
      {
        "duration": 177,
        "start_time": "2023-06-23T15:40:02.668Z"
      },
      {
        "duration": 4,
        "start_time": "2023-06-23T15:40:09.232Z"
      },
      {
        "duration": 225,
        "start_time": "2023-06-23T15:40:10.852Z"
      },
      {
        "duration": 4,
        "start_time": "2023-06-23T15:42:11.870Z"
      },
      {
        "duration": 86173,
        "start_time": "2023-06-23T15:42:12.365Z"
      },
      {
        "duration": 150,
        "start_time": "2023-06-23T15:43:38.540Z"
      },
      {
        "duration": 4,
        "start_time": "2023-06-23T15:44:41.067Z"
      },
      {
        "duration": 5,
        "start_time": "2023-06-23T15:44:51.216Z"
      },
      {
        "duration": 3976,
        "start_time": "2023-06-23T16:19:05.209Z"
      },
      {
        "duration": 1649,
        "start_time": "2023-06-23T16:19:09.187Z"
      },
      {
        "duration": 18,
        "start_time": "2023-06-23T16:19:10.838Z"
      },
      {
        "duration": 172,
        "start_time": "2023-06-23T16:19:10.858Z"
      },
      {
        "duration": 536,
        "start_time": "2023-06-23T16:19:11.032Z"
      },
      {
        "duration": 541,
        "start_time": "2023-06-23T16:19:11.574Z"
      },
      {
        "duration": 479,
        "start_time": "2023-06-23T16:19:12.117Z"
      },
      {
        "duration": 3,
        "start_time": "2023-06-23T16:19:12.600Z"
      },
      {
        "duration": 14,
        "start_time": "2023-06-23T16:19:12.605Z"
      },
      {
        "duration": 131,
        "start_time": "2023-06-23T16:19:12.621Z"
      },
      {
        "duration": 32,
        "start_time": "2023-06-23T16:19:12.753Z"
      },
      {
        "duration": 43,
        "start_time": "2023-06-23T16:19:12.786Z"
      },
      {
        "duration": 34,
        "start_time": "2023-06-23T16:19:12.831Z"
      },
      {
        "duration": 134,
        "start_time": "2023-06-23T16:19:12.866Z"
      },
      {
        "duration": 21,
        "start_time": "2023-06-23T16:19:13.002Z"
      },
      {
        "duration": 141,
        "start_time": "2023-06-23T16:19:13.025Z"
      },
      {
        "duration": 42,
        "start_time": "2023-06-23T16:19:13.167Z"
      },
      {
        "duration": 34,
        "start_time": "2023-06-23T16:19:13.211Z"
      },
      {
        "duration": 146,
        "start_time": "2023-06-23T16:19:13.247Z"
      },
      {
        "duration": 919,
        "start_time": "2023-06-23T16:19:13.394Z"
      },
      {
        "duration": 194,
        "start_time": "2023-06-23T16:19:14.315Z"
      },
      {
        "duration": 190,
        "start_time": "2023-06-23T16:19:14.510Z"
      },
      {
        "duration": 30,
        "start_time": "2023-06-23T16:19:14.701Z"
      },
      {
        "duration": 80,
        "start_time": "2023-06-23T16:19:14.733Z"
      },
      {
        "duration": 20,
        "start_time": "2023-06-23T16:19:14.815Z"
      },
      {
        "duration": 70,
        "start_time": "2023-06-23T16:19:14.837Z"
      },
      {
        "duration": 29,
        "start_time": "2023-06-23T16:19:14.908Z"
      },
      {
        "duration": 73,
        "start_time": "2023-06-23T16:19:14.941Z"
      },
      {
        "duration": 9,
        "start_time": "2023-06-23T16:19:15.016Z"
      },
      {
        "duration": 233,
        "start_time": "2023-06-23T16:19:15.027Z"
      },
      {
        "duration": 58,
        "start_time": "2023-06-23T16:19:15.261Z"
      },
      {
        "duration": 5,
        "start_time": "2023-06-23T16:19:15.321Z"
      },
      {
        "duration": 31,
        "start_time": "2023-06-23T16:19:15.328Z"
      },
      {
        "duration": 42,
        "start_time": "2023-06-23T16:19:15.360Z"
      },
      {
        "duration": 92,
        "start_time": "2023-06-23T16:19:15.403Z"
      },
      {
        "duration": 844,
        "start_time": "2023-06-23T16:19:15.502Z"
      },
      {
        "duration": 104,
        "start_time": "2023-06-23T16:19:16.348Z"
      },
      {
        "duration": 50,
        "start_time": "2023-06-23T16:19:16.454Z"
      },
      {
        "duration": 14,
        "start_time": "2023-06-23T16:19:16.511Z"
      },
      {
        "duration": 100,
        "start_time": "2023-06-23T16:19:16.527Z"
      },
      {
        "duration": 4,
        "start_time": "2023-06-23T16:19:16.629Z"
      },
      {
        "duration": 1494,
        "start_time": "2023-06-23T16:19:16.635Z"
      },
      {
        "duration": 4,
        "start_time": "2023-06-23T16:19:18.130Z"
      },
      {
        "duration": 12,
        "start_time": "2023-06-23T16:19:18.136Z"
      },
      {
        "duration": 32,
        "start_time": "2023-06-23T16:19:18.150Z"
      },
      {
        "duration": 26,
        "start_time": "2023-06-23T16:19:18.184Z"
      },
      {
        "duration": 64,
        "start_time": "2023-06-23T16:19:18.212Z"
      },
      {
        "duration": 6,
        "start_time": "2023-06-23T16:19:18.277Z"
      },
      {
        "duration": 120,
        "start_time": "2023-06-23T16:19:18.284Z"
      },
      {
        "duration": 3376,
        "start_time": "2023-06-23T16:19:18.482Z"
      },
      {
        "duration": 4,
        "start_time": "2023-06-23T16:19:21.860Z"
      },
      {
        "duration": 129422,
        "start_time": "2023-06-23T16:19:21.880Z"
      },
      {
        "duration": 6,
        "start_time": "2023-06-23T16:21:31.306Z"
      },
      {
        "duration": 636489,
        "start_time": "2023-06-23T16:21:31.313Z"
      },
      {
        "duration": 0,
        "start_time": "2023-06-23T16:32:07.804Z"
      },
      {
        "duration": 0,
        "start_time": "2023-06-23T16:32:07.806Z"
      },
      {
        "duration": 0,
        "start_time": "2023-06-23T16:32:07.807Z"
      },
      {
        "duration": 0,
        "start_time": "2023-06-23T16:32:07.809Z"
      },
      {
        "duration": 0,
        "start_time": "2023-06-23T16:32:07.810Z"
      },
      {
        "duration": 0,
        "start_time": "2023-06-23T16:32:07.812Z"
      },
      {
        "duration": 0,
        "start_time": "2023-06-23T16:32:07.813Z"
      },
      {
        "duration": 0,
        "start_time": "2023-06-23T16:32:07.815Z"
      },
      {
        "duration": 0,
        "start_time": "2023-06-23T16:32:07.816Z"
      },
      {
        "duration": 0,
        "start_time": "2023-06-23T16:32:07.818Z"
      },
      {
        "duration": 0,
        "start_time": "2023-06-23T16:32:07.819Z"
      },
      {
        "duration": 0,
        "start_time": "2023-06-23T16:32:07.820Z"
      },
      {
        "duration": 890,
        "start_time": "2023-06-23T16:57:48.045Z"
      },
      {
        "duration": 0,
        "start_time": "2023-06-23T16:57:48.938Z"
      },
      {
        "duration": 0,
        "start_time": "2023-06-23T16:57:48.939Z"
      },
      {
        "duration": 0,
        "start_time": "2023-06-23T16:57:48.940Z"
      },
      {
        "duration": 0,
        "start_time": "2023-06-23T16:57:48.941Z"
      },
      {
        "duration": 0,
        "start_time": "2023-06-23T16:57:48.954Z"
      },
      {
        "duration": 0,
        "start_time": "2023-06-23T16:57:48.955Z"
      },
      {
        "duration": 1,
        "start_time": "2023-06-23T16:57:48.956Z"
      },
      {
        "duration": 0,
        "start_time": "2023-06-23T16:57:48.958Z"
      },
      {
        "duration": 0,
        "start_time": "2023-06-23T16:57:48.959Z"
      },
      {
        "duration": 0,
        "start_time": "2023-06-23T16:57:48.960Z"
      },
      {
        "duration": 0,
        "start_time": "2023-06-23T16:57:48.961Z"
      },
      {
        "duration": 0,
        "start_time": "2023-06-23T16:57:48.961Z"
      },
      {
        "duration": 0,
        "start_time": "2023-06-23T16:57:48.962Z"
      },
      {
        "duration": 0,
        "start_time": "2023-06-23T16:57:48.964Z"
      },
      {
        "duration": 1,
        "start_time": "2023-06-23T16:57:48.964Z"
      },
      {
        "duration": 0,
        "start_time": "2023-06-23T16:57:48.966Z"
      },
      {
        "duration": 0,
        "start_time": "2023-06-23T16:57:48.967Z"
      },
      {
        "duration": 0,
        "start_time": "2023-06-23T16:57:48.968Z"
      },
      {
        "duration": 0,
        "start_time": "2023-06-23T16:57:48.969Z"
      },
      {
        "duration": 0,
        "start_time": "2023-06-23T16:57:48.970Z"
      },
      {
        "duration": 0,
        "start_time": "2023-06-23T16:57:48.971Z"
      },
      {
        "duration": 0,
        "start_time": "2023-06-23T16:57:48.972Z"
      },
      {
        "duration": 0,
        "start_time": "2023-06-23T16:57:48.973Z"
      },
      {
        "duration": 0,
        "start_time": "2023-06-23T16:57:48.974Z"
      },
      {
        "duration": 0,
        "start_time": "2023-06-23T16:57:48.975Z"
      },
      {
        "duration": 0,
        "start_time": "2023-06-23T16:57:48.977Z"
      },
      {
        "duration": 0,
        "start_time": "2023-06-23T16:57:48.978Z"
      },
      {
        "duration": 0,
        "start_time": "2023-06-23T16:57:48.979Z"
      },
      {
        "duration": 0,
        "start_time": "2023-06-23T16:57:48.980Z"
      },
      {
        "duration": 0,
        "start_time": "2023-06-23T16:57:48.981Z"
      },
      {
        "duration": 0,
        "start_time": "2023-06-23T16:57:48.982Z"
      },
      {
        "duration": 0,
        "start_time": "2023-06-23T16:57:48.983Z"
      },
      {
        "duration": 0,
        "start_time": "2023-06-23T16:57:48.984Z"
      },
      {
        "duration": 0,
        "start_time": "2023-06-23T16:57:48.985Z"
      },
      {
        "duration": 0,
        "start_time": "2023-06-23T16:57:48.986Z"
      },
      {
        "duration": 0,
        "start_time": "2023-06-23T16:57:48.987Z"
      },
      {
        "duration": 0,
        "start_time": "2023-06-23T16:57:48.988Z"
      },
      {
        "duration": 0,
        "start_time": "2023-06-23T16:57:48.990Z"
      },
      {
        "duration": 0,
        "start_time": "2023-06-23T16:57:48.991Z"
      },
      {
        "duration": 1,
        "start_time": "2023-06-23T16:57:48.991Z"
      },
      {
        "duration": 0,
        "start_time": "2023-06-23T16:57:48.992Z"
      },
      {
        "duration": 0,
        "start_time": "2023-06-23T16:57:49.054Z"
      },
      {
        "duration": 0,
        "start_time": "2023-06-23T16:57:49.055Z"
      },
      {
        "duration": 0,
        "start_time": "2023-06-23T16:57:49.057Z"
      },
      {
        "duration": 0,
        "start_time": "2023-06-23T16:57:49.058Z"
      },
      {
        "duration": 0,
        "start_time": "2023-06-23T16:57:49.058Z"
      },
      {
        "duration": 8,
        "start_time": "2023-06-23T16:57:58.249Z"
      },
      {
        "duration": 3029,
        "start_time": "2023-06-23T17:00:22.731Z"
      },
      {
        "duration": 948,
        "start_time": "2023-06-23T17:00:27.302Z"
      },
      {
        "duration": 58,
        "start_time": "2023-06-23T17:00:35.947Z"
      },
      {
        "duration": 2636,
        "start_time": "2023-06-23T17:00:38.908Z"
      },
      {
        "duration": 6,
        "start_time": "2023-06-23T17:00:41.546Z"
      },
      {
        "duration": 2925,
        "start_time": "2023-06-23T17:00:41.553Z"
      },
      {
        "duration": 18,
        "start_time": "2023-06-23T17:00:44.480Z"
      },
      {
        "duration": 158,
        "start_time": "2023-06-23T17:00:44.500Z"
      },
      {
        "duration": 503,
        "start_time": "2023-06-23T17:00:44.660Z"
      },
      {
        "duration": 515,
        "start_time": "2023-06-23T17:00:45.165Z"
      },
      {
        "duration": 452,
        "start_time": "2023-06-23T17:00:45.682Z"
      },
      {
        "duration": 3,
        "start_time": "2023-06-23T17:00:46.136Z"
      },
      {
        "duration": 25,
        "start_time": "2023-06-23T17:00:46.140Z"
      },
      {
        "duration": 146,
        "start_time": "2023-06-23T17:00:46.167Z"
      },
      {
        "duration": 19,
        "start_time": "2023-06-23T17:00:46.315Z"
      },
      {
        "duration": 40,
        "start_time": "2023-06-23T17:00:46.336Z"
      },
      {
        "duration": 23,
        "start_time": "2023-06-23T17:00:46.379Z"
      },
      {
        "duration": 133,
        "start_time": "2023-06-23T17:00:46.404Z"
      },
      {
        "duration": 23,
        "start_time": "2023-06-23T17:00:46.538Z"
      },
      {
        "duration": 138,
        "start_time": "2023-06-23T17:00:46.563Z"
      },
      {
        "duration": 22,
        "start_time": "2023-06-23T17:00:46.702Z"
      },
      {
        "duration": 41,
        "start_time": "2023-06-23T17:00:46.725Z"
      },
      {
        "duration": 131,
        "start_time": "2023-06-23T17:00:46.768Z"
      },
      {
        "duration": 981,
        "start_time": "2023-06-23T17:00:46.900Z"
      },
      {
        "duration": 195,
        "start_time": "2023-06-23T17:00:47.883Z"
      },
      {
        "duration": 196,
        "start_time": "2023-06-23T17:00:48.079Z"
      },
      {
        "duration": 27,
        "start_time": "2023-06-23T17:00:48.277Z"
      },
      {
        "duration": 71,
        "start_time": "2023-06-23T17:00:48.306Z"
      },
      {
        "duration": 23,
        "start_time": "2023-06-23T17:00:48.379Z"
      },
      {
        "duration": 62,
        "start_time": "2023-06-23T17:00:48.404Z"
      },
      {
        "duration": 33,
        "start_time": "2023-06-23T17:00:48.468Z"
      },
      {
        "duration": 62,
        "start_time": "2023-06-23T17:00:48.503Z"
      },
      {
        "duration": 7,
        "start_time": "2023-06-23T17:00:48.567Z"
      },
      {
        "duration": 191,
        "start_time": "2023-06-23T17:00:48.576Z"
      },
      {
        "duration": 42,
        "start_time": "2023-06-23T17:00:48.769Z"
      },
      {
        "duration": 6,
        "start_time": "2023-06-23T17:00:48.812Z"
      },
      {
        "duration": 48,
        "start_time": "2023-06-23T17:00:48.819Z"
      },
      {
        "duration": 20,
        "start_time": "2023-06-23T17:00:48.869Z"
      },
      {
        "duration": 89,
        "start_time": "2023-06-23T17:00:48.890Z"
      },
      {
        "duration": 778,
        "start_time": "2023-06-23T17:00:48.980Z"
      },
      {
        "duration": 74,
        "start_time": "2023-06-23T17:00:49.760Z"
      },
      {
        "duration": 40,
        "start_time": "2023-06-23T17:00:49.836Z"
      },
      {
        "duration": 12,
        "start_time": "2023-06-23T17:00:49.878Z"
      },
      {
        "duration": 87,
        "start_time": "2023-06-23T17:00:49.893Z"
      },
      {
        "duration": 5,
        "start_time": "2023-06-23T17:00:49.981Z"
      },
      {
        "duration": 1334,
        "start_time": "2023-06-23T17:00:49.987Z"
      },
      {
        "duration": 4,
        "start_time": "2023-06-23T17:00:51.323Z"
      },
      {
        "duration": 117753,
        "start_time": "2023-06-23T17:01:19.102Z"
      },
      {
        "duration": 5,
        "start_time": "2023-06-23T17:41:56.003Z"
      },
      {
        "duration": 8,
        "start_time": "2023-06-23T17:41:59.053Z"
      },
      {
        "duration": 21813,
        "start_time": "2023-06-23T17:41:59.063Z"
      },
      {
        "duration": 121,
        "start_time": "2023-06-23T17:42:20.877Z"
      },
      {
        "duration": 13,
        "start_time": "2023-06-23T17:42:21.000Z"
      },
      {
        "duration": 0,
        "start_time": "2023-06-23T17:42:21.015Z"
      },
      {
        "duration": 0,
        "start_time": "2023-06-23T17:42:21.017Z"
      },
      {
        "duration": 0,
        "start_time": "2023-06-23T17:42:21.018Z"
      },
      {
        "duration": 0,
        "start_time": "2023-06-23T17:42:21.019Z"
      },
      {
        "duration": 0,
        "start_time": "2023-06-23T17:42:21.020Z"
      },
      {
        "duration": 0,
        "start_time": "2023-06-23T17:42:21.022Z"
      },
      {
        "duration": 0,
        "start_time": "2023-06-23T17:42:21.023Z"
      },
      {
        "duration": 162,
        "start_time": "2023-06-23T17:52:09.515Z"
      },
      {
        "duration": 3,
        "start_time": "2023-06-23T17:52:37.725Z"
      },
      {
        "duration": 31994,
        "start_time": "2023-06-23T17:52:39.391Z"
      },
      {
        "duration": 136,
        "start_time": "2023-06-23T17:53:11.387Z"
      },
      {
        "duration": 11,
        "start_time": "2023-06-23T17:53:11.524Z"
      },
      {
        "duration": 3278,
        "start_time": "2023-06-23T17:53:22.894Z"
      },
      {
        "duration": 4,
        "start_time": "2023-06-23T17:53:29.227Z"
      },
      {
        "duration": 130850,
        "start_time": "2023-06-23T17:53:32.398Z"
      },
      {
        "duration": 8,
        "start_time": "2023-06-23T17:55:43.254Z"
      },
      {
        "duration": 603018,
        "start_time": "2023-06-23T17:55:43.264Z"
      },
      {
        "duration": 4,
        "start_time": "2023-06-23T18:05:46.284Z"
      },
      {
        "duration": 77,
        "start_time": "2023-06-23T18:05:46.290Z"
      },
      {
        "duration": 77149,
        "start_time": "2023-06-23T18:05:46.368Z"
      },
      {
        "duration": 150,
        "start_time": "2023-06-23T18:07:03.519Z"
      },
      {
        "duration": 4,
        "start_time": "2023-06-23T18:40:04.396Z"
      },
      {
        "duration": 45069,
        "start_time": "2023-06-23T18:40:06.114Z"
      },
      {
        "duration": 4,
        "start_time": "2023-06-23T18:40:54.399Z"
      },
      {
        "duration": 23643,
        "start_time": "2023-06-23T18:40:54.605Z"
      },
      {
        "duration": 5,
        "start_time": "2023-06-23T18:41:21.924Z"
      },
      {
        "duration": 45648,
        "start_time": "2023-06-23T18:41:22.148Z"
      },
      {
        "duration": 3,
        "start_time": "2023-06-23T18:42:10.803Z"
      },
      {
        "duration": 21277,
        "start_time": "2023-06-23T18:42:11.052Z"
      },
      {
        "duration": 4,
        "start_time": "2023-06-23T18:42:53.605Z"
      },
      {
        "duration": 21781,
        "start_time": "2023-06-23T18:42:58.699Z"
      },
      {
        "duration": 4,
        "start_time": "2023-06-23T18:46:39.575Z"
      },
      {
        "duration": 20827,
        "start_time": "2023-06-23T18:46:39.820Z"
      },
      {
        "duration": 4,
        "start_time": "2023-06-23T18:47:06.714Z"
      },
      {
        "duration": 767,
        "start_time": "2023-06-23T18:47:07.200Z"
      },
      {
        "duration": 4,
        "start_time": "2023-06-23T18:47:15.435Z"
      },
      {
        "duration": 14450,
        "start_time": "2023-06-23T18:47:15.746Z"
      },
      {
        "duration": 3,
        "start_time": "2023-06-23T18:47:43.218Z"
      },
      {
        "duration": 146707,
        "start_time": "2023-06-23T18:47:43.532Z"
      },
      {
        "duration": 150,
        "start_time": "2023-06-23T18:52:38.147Z"
      },
      {
        "duration": 9,
        "start_time": "2023-06-23T18:52:39.816Z"
      },
      {
        "duration": 10,
        "start_time": "2023-06-23T18:52:47.004Z"
      },
      {
        "duration": 142,
        "start_time": "2023-06-23T18:52:47.016Z"
      },
      {
        "duration": 4,
        "start_time": "2023-06-23T18:52:47.162Z"
      },
      {
        "duration": 602,
        "start_time": "2023-06-23T18:52:47.167Z"
      },
      {
        "duration": 1549,
        "start_time": "2023-06-23T18:52:47.772Z"
      },
      {
        "duration": 4,
        "start_time": "2023-06-23T18:52:49.323Z"
      },
      {
        "duration": 7,
        "start_time": "2023-06-23T18:52:49.329Z"
      },
      {
        "duration": 22,
        "start_time": "2023-06-23T18:52:49.337Z"
      },
      {
        "duration": 10,
        "start_time": "2023-09-12T18:52:45.480Z"
      },
      {
        "duration": 952,
        "start_time": "2023-09-12T18:52:45.492Z"
      },
      {
        "duration": 0,
        "start_time": "2023-09-12T18:52:46.448Z"
      },
      {
        "duration": 0,
        "start_time": "2023-09-12T18:52:46.449Z"
      },
      {
        "duration": 0,
        "start_time": "2023-09-12T18:52:46.450Z"
      },
      {
        "duration": 0,
        "start_time": "2023-09-12T18:52:46.451Z"
      },
      {
        "duration": 0,
        "start_time": "2023-09-12T18:52:46.452Z"
      },
      {
        "duration": 0,
        "start_time": "2023-09-12T18:52:46.453Z"
      },
      {
        "duration": 0,
        "start_time": "2023-09-12T18:52:46.454Z"
      },
      {
        "duration": 0,
        "start_time": "2023-09-12T18:52:46.455Z"
      },
      {
        "duration": 0,
        "start_time": "2023-09-12T18:52:46.456Z"
      },
      {
        "duration": 0,
        "start_time": "2023-09-12T18:52:46.457Z"
      },
      {
        "duration": 0,
        "start_time": "2023-09-12T18:52:46.458Z"
      },
      {
        "duration": 0,
        "start_time": "2023-09-12T18:52:46.459Z"
      },
      {
        "duration": 0,
        "start_time": "2023-09-12T18:52:46.460Z"
      },
      {
        "duration": 0,
        "start_time": "2023-09-12T18:52:46.461Z"
      },
      {
        "duration": 0,
        "start_time": "2023-09-12T18:52:46.462Z"
      },
      {
        "duration": 0,
        "start_time": "2023-09-12T18:52:46.463Z"
      },
      {
        "duration": 0,
        "start_time": "2023-09-12T18:52:46.464Z"
      },
      {
        "duration": 0,
        "start_time": "2023-09-12T18:52:46.465Z"
      },
      {
        "duration": 0,
        "start_time": "2023-09-12T18:52:46.501Z"
      },
      {
        "duration": 0,
        "start_time": "2023-09-12T18:52:46.503Z"
      },
      {
        "duration": 0,
        "start_time": "2023-09-12T18:52:46.504Z"
      },
      {
        "duration": 0,
        "start_time": "2023-09-12T18:52:46.505Z"
      },
      {
        "duration": 0,
        "start_time": "2023-09-12T18:52:46.506Z"
      },
      {
        "duration": 0,
        "start_time": "2023-09-12T18:52:46.507Z"
      },
      {
        "duration": 0,
        "start_time": "2023-09-12T18:52:46.507Z"
      },
      {
        "duration": 0,
        "start_time": "2023-09-12T18:52:46.509Z"
      },
      {
        "duration": 0,
        "start_time": "2023-09-12T18:52:46.510Z"
      },
      {
        "duration": 0,
        "start_time": "2023-09-12T18:52:46.511Z"
      },
      {
        "duration": 0,
        "start_time": "2023-09-12T18:52:46.512Z"
      },
      {
        "duration": 0,
        "start_time": "2023-09-12T18:52:46.513Z"
      },
      {
        "duration": 0,
        "start_time": "2023-09-12T18:52:46.514Z"
      },
      {
        "duration": 0,
        "start_time": "2023-09-12T18:52:46.514Z"
      },
      {
        "duration": 0,
        "start_time": "2023-09-12T18:52:46.515Z"
      },
      {
        "duration": 0,
        "start_time": "2023-09-12T18:52:46.516Z"
      },
      {
        "duration": 0,
        "start_time": "2023-09-12T18:52:46.518Z"
      },
      {
        "duration": 1,
        "start_time": "2023-09-12T18:52:46.518Z"
      },
      {
        "duration": 0,
        "start_time": "2023-09-12T18:52:46.520Z"
      },
      {
        "duration": 0,
        "start_time": "2023-09-12T18:52:46.520Z"
      },
      {
        "duration": 0,
        "start_time": "2023-09-12T18:52:46.521Z"
      },
      {
        "duration": 0,
        "start_time": "2023-09-12T18:52:46.523Z"
      },
      {
        "duration": 0,
        "start_time": "2023-09-12T18:52:46.523Z"
      },
      {
        "duration": 0,
        "start_time": "2023-09-12T18:52:46.525Z"
      },
      {
        "duration": 0,
        "start_time": "2023-09-12T18:52:46.526Z"
      },
      {
        "duration": 0,
        "start_time": "2023-09-12T18:52:46.527Z"
      },
      {
        "duration": 0,
        "start_time": "2023-09-12T18:52:46.527Z"
      },
      {
        "duration": 0,
        "start_time": "2023-09-12T18:52:46.529Z"
      },
      {
        "duration": 0,
        "start_time": "2023-09-12T18:52:46.530Z"
      },
      {
        "duration": 0,
        "start_time": "2023-09-12T18:52:46.532Z"
      },
      {
        "duration": 0,
        "start_time": "2023-09-12T18:52:46.534Z"
      },
      {
        "duration": 0,
        "start_time": "2023-09-12T18:52:46.535Z"
      },
      {
        "duration": 0,
        "start_time": "2023-09-12T18:52:46.537Z"
      },
      {
        "duration": 0,
        "start_time": "2023-09-12T18:52:46.538Z"
      },
      {
        "duration": 0,
        "start_time": "2023-09-12T18:52:46.539Z"
      },
      {
        "duration": 0,
        "start_time": "2023-09-12T18:52:46.602Z"
      },
      {
        "duration": 0,
        "start_time": "2023-09-12T18:52:46.603Z"
      },
      {
        "duration": 0,
        "start_time": "2023-09-12T18:52:46.604Z"
      },
      {
        "duration": 0,
        "start_time": "2023-09-12T18:52:46.605Z"
      },
      {
        "duration": 0,
        "start_time": "2023-09-12T18:52:46.606Z"
      },
      {
        "duration": 0,
        "start_time": "2023-09-12T18:52:46.608Z"
      },
      {
        "duration": 0,
        "start_time": "2023-09-12T18:52:46.609Z"
      },
      {
        "duration": 0,
        "start_time": "2023-09-12T18:52:46.610Z"
      },
      {
        "duration": 0,
        "start_time": "2023-09-12T18:52:46.611Z"
      },
      {
        "duration": 0,
        "start_time": "2023-09-12T18:52:46.612Z"
      },
      {
        "duration": 0,
        "start_time": "2023-09-12T18:52:46.614Z"
      },
      {
        "duration": 0,
        "start_time": "2023-09-12T18:52:46.615Z"
      },
      {
        "duration": 4281,
        "start_time": "2023-09-12T18:53:20.460Z"
      },
      {
        "duration": 1001,
        "start_time": "2023-09-12T18:53:24.745Z"
      },
      {
        "duration": 1204,
        "start_time": "2023-09-12T18:53:25.748Z"
      },
      {
        "duration": 18,
        "start_time": "2023-09-12T18:53:26.955Z"
      },
      {
        "duration": 166,
        "start_time": "2023-09-12T18:53:26.975Z"
      },
      {
        "duration": 510,
        "start_time": "2023-09-12T18:53:27.143Z"
      },
      {
        "duration": 527,
        "start_time": "2023-09-12T18:53:27.655Z"
      },
      {
        "duration": 487,
        "start_time": "2023-09-12T18:53:28.184Z"
      },
      {
        "duration": 3,
        "start_time": "2023-09-12T18:53:28.672Z"
      },
      {
        "duration": 17,
        "start_time": "2023-09-12T18:53:28.678Z"
      },
      {
        "duration": 147,
        "start_time": "2023-09-12T18:53:28.697Z"
      },
      {
        "duration": 22,
        "start_time": "2023-09-12T18:53:28.846Z"
      },
      {
        "duration": 85,
        "start_time": "2023-09-12T18:53:28.870Z"
      },
      {
        "duration": 26,
        "start_time": "2023-09-12T18:53:28.957Z"
      },
      {
        "duration": 114,
        "start_time": "2023-09-12T18:53:28.984Z"
      },
      {
        "duration": 22,
        "start_time": "2023-09-12T18:53:29.099Z"
      },
      {
        "duration": 139,
        "start_time": "2023-09-12T18:53:29.123Z"
      },
      {
        "duration": 23,
        "start_time": "2023-09-12T18:53:29.263Z"
      },
      {
        "duration": 52,
        "start_time": "2023-09-12T18:53:29.287Z"
      },
      {
        "duration": 150,
        "start_time": "2023-09-12T18:53:29.341Z"
      },
      {
        "duration": 922,
        "start_time": "2023-09-12T18:53:29.502Z"
      },
      {
        "duration": 209,
        "start_time": "2023-09-12T18:53:30.425Z"
      },
      {
        "duration": 194,
        "start_time": "2023-09-12T18:53:30.636Z"
      },
      {
        "duration": 30,
        "start_time": "2023-09-12T18:53:30.832Z"
      },
      {
        "duration": 98,
        "start_time": "2023-09-12T18:53:30.864Z"
      },
      {
        "duration": 226,
        "start_time": "2023-09-12T18:53:30.964Z"
      },
      {
        "duration": 325,
        "start_time": "2023-09-12T18:53:31.192Z"
      },
      {
        "duration": 72,
        "start_time": "2023-09-12T18:53:31.522Z"
      },
      {
        "duration": 106,
        "start_time": "2023-09-12T18:53:31.596Z"
      },
      {
        "duration": 12,
        "start_time": "2023-09-12T18:53:31.704Z"
      },
      {
        "duration": 214,
        "start_time": "2023-09-12T18:53:31.717Z"
      },
      {
        "duration": 44,
        "start_time": "2023-09-12T18:53:31.933Z"
      },
      {
        "duration": 6,
        "start_time": "2023-09-12T18:53:31.978Z"
      },
      {
        "duration": 93,
        "start_time": "2023-09-12T18:53:31.986Z"
      },
      {
        "duration": 34,
        "start_time": "2023-09-12T18:53:32.081Z"
      },
      {
        "duration": 95,
        "start_time": "2023-09-12T18:53:32.117Z"
      },
      {
        "duration": 1142,
        "start_time": "2023-09-12T18:53:32.214Z"
      },
      {
        "duration": 95,
        "start_time": "2023-09-12T18:53:33.358Z"
      },
      {
        "duration": 64,
        "start_time": "2023-09-12T18:53:33.455Z"
      },
      {
        "duration": 24,
        "start_time": "2023-09-12T18:53:33.521Z"
      },
      {
        "duration": 103,
        "start_time": "2023-09-12T18:53:33.547Z"
      },
      {
        "duration": 4,
        "start_time": "2023-09-12T18:53:33.652Z"
      },
      {
        "duration": 1552,
        "start_time": "2023-09-12T18:53:33.658Z"
      },
      {
        "duration": 4,
        "start_time": "2023-09-12T18:53:35.212Z"
      },
      {
        "duration": 14,
        "start_time": "2023-09-12T18:53:35.218Z"
      },
      {
        "duration": 12,
        "start_time": "2023-09-12T18:53:35.234Z"
      },
      {
        "duration": 4,
        "start_time": "2023-09-12T18:53:35.248Z"
      },
      {
        "duration": 78,
        "start_time": "2023-09-12T18:53:35.254Z"
      },
      {
        "duration": 0,
        "start_time": "2023-09-12T18:53:35.334Z"
      },
      {
        "duration": 0,
        "start_time": "2023-09-12T18:53:35.335Z"
      },
      {
        "duration": 0,
        "start_time": "2023-09-12T18:53:35.336Z"
      },
      {
        "duration": 0,
        "start_time": "2023-09-12T18:53:35.338Z"
      },
      {
        "duration": 0,
        "start_time": "2023-09-12T18:53:35.339Z"
      },
      {
        "duration": 0,
        "start_time": "2023-09-12T18:53:35.340Z"
      },
      {
        "duration": 0,
        "start_time": "2023-09-12T18:53:35.341Z"
      },
      {
        "duration": 0,
        "start_time": "2023-09-12T18:53:35.342Z"
      },
      {
        "duration": 0,
        "start_time": "2023-09-12T18:53:35.343Z"
      },
      {
        "duration": 0,
        "start_time": "2023-09-12T18:53:35.344Z"
      },
      {
        "duration": 0,
        "start_time": "2023-09-12T18:53:35.345Z"
      },
      {
        "duration": 0,
        "start_time": "2023-09-12T18:53:35.346Z"
      },
      {
        "duration": 0,
        "start_time": "2023-09-12T18:53:35.347Z"
      },
      {
        "duration": 0,
        "start_time": "2023-09-12T18:53:35.348Z"
      },
      {
        "duration": 0,
        "start_time": "2023-09-12T18:53:35.349Z"
      },
      {
        "duration": 0,
        "start_time": "2023-09-12T18:53:35.350Z"
      },
      {
        "duration": 0,
        "start_time": "2023-09-12T18:53:35.351Z"
      },
      {
        "duration": 0,
        "start_time": "2023-09-12T18:53:35.352Z"
      },
      {
        "duration": 0,
        "start_time": "2023-09-12T18:53:35.353Z"
      }
    ],
    "kernelspec": {
      "display_name": "Python 3 (ipykernel)",
      "language": "python",
      "name": "python3"
    },
    "language_info": {
      "codemirror_mode": {
        "name": "ipython",
        "version": 3
      },
      "file_extension": ".py",
      "mimetype": "text/x-python",
      "name": "python",
      "nbconvert_exporter": "python",
      "pygments_lexer": "ipython3",
      "version": "3.9.5"
    },
    "toc": {
      "base_numbering": 1,
      "nav_menu": {},
      "number_sections": true,
      "sideBar": true,
      "skip_h1_title": true,
      "title_cell": "Table of Contents",
      "title_sidebar": "Contents",
      "toc_cell": false,
      "toc_position": {
        "height": "calc(100% - 180px)",
        "left": "10px",
        "top": "150px",
        "width": "236.391px"
      },
      "toc_section_display": true,
      "toc_window_display": true
    },
    "colab": {
      "provenance": [],
      "toc_visible": true
    }
  },
  "nbformat": 4,
  "nbformat_minor": 0
}