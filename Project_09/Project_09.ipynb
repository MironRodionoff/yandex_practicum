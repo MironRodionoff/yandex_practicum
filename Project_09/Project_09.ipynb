{
 "cells": [
  {
   "cell_type": "markdown",
   "metadata": {
    "toc": true
   },
   "source": [
    "<h1>Содержание<span class=\"tocSkip\"></span></h1>\n",
    "<div class=\"toc\"><ul class=\"toc-item\"><li><span><a href=\"#Загрузка-данных\" data-toc-modified-id=\"Загрузка-данных-1\"><span class=\"toc-item-num\">1&nbsp;&nbsp;</span>Загрузка данных</a></span></li><li><span><a href=\"#Умножение-матриц\" data-toc-modified-id=\"Умножение-матриц-2\"><span class=\"toc-item-num\">2&nbsp;&nbsp;</span>Умножение матриц</a></span></li><li><span><a href=\"#Ответьте-на-вопрос-и-обоснуйте-решение.\" data-toc-modified-id=\"Ответьте-на-вопрос-и-обоснуйте-решение.-3\"><span class=\"toc-item-num\">3&nbsp;&nbsp;</span>Ответьте на вопрос и обоснуйте решение.</a></span></li><li><span><a href=\"#Алгоритм-преобразования\" data-toc-modified-id=\"Алгоритм-преобразования-4\"><span class=\"toc-item-num\">4&nbsp;&nbsp;</span>Алгоритм преобразования</a></span></li><li><span><a href=\"#Проверка-алгоритма\" data-toc-modified-id=\"Проверка-алгоритма-5\"><span class=\"toc-item-num\">5&nbsp;&nbsp;</span>Проверка алгоритма</a></span></li><li><span><a href=\"#Общий-вывод\" data-toc-modified-id=\"Общий-вывод-6\"><span class=\"toc-item-num\">6&nbsp;&nbsp;</span>Общий вывод</a></span></li></ul></div>"
   ]
  },
  {
   "cell_type": "markdown",
   "metadata": {},
   "source": [
    "# Защита персональных данных клиентов"
   ]
  },
  {
   "cell_type": "markdown",
   "metadata": {},
   "source": [
    "Нам нужно защитить данные клиентов страховой компании «Хоть потоп». Разработаем такой метод преобразования данных, чтобы по ним было сложно восстановить персональную информацию. Обоснуем корректность его работы.\n",
    "\n",
    "Нужно защитить данные, чтобы при преобразовании качество моделей машинного обучения не ухудшилось.  \n",
    "Подбирать наилучшую модель не требуется."
   ]
  },
  {
   "cell_type": "markdown",
   "metadata": {},
   "source": [
    "## Загрузка данных"
   ]
  },
  {
   "cell_type": "code",
   "execution_count": 1,
   "metadata": {},
   "outputs": [],
   "source": [
    "import pandas as pd\n",
    "import numpy as np\n",
    "import matplotlib.pyplot as plt\n",
    "from seaborn import heatmap\n",
    "\n",
    "from sklearn.linear_model import LinearRegression\n",
    "from sklearn.metrics import r2_score"
   ]
  },
  {
   "cell_type": "code",
   "execution_count": 2,
   "metadata": {},
   "outputs": [
    {
     "data": {
      "text/html": [
       "<div>\n",
       "<style scoped>\n",
       "    .dataframe tbody tr th:only-of-type {\n",
       "        vertical-align: middle;\n",
       "    }\n",
       "\n",
       "    .dataframe tbody tr th {\n",
       "        vertical-align: top;\n",
       "    }\n",
       "\n",
       "    .dataframe thead th {\n",
       "        text-align: right;\n",
       "    }\n",
       "</style>\n",
       "<table border=\"1\" class=\"dataframe\">\n",
       "  <thead>\n",
       "    <tr style=\"text-align: right;\">\n",
       "      <th></th>\n",
       "      <th>Пол</th>\n",
       "      <th>Возраст</th>\n",
       "      <th>Зарплата</th>\n",
       "      <th>Члены семьи</th>\n",
       "      <th>Страховые выплаты</th>\n",
       "    </tr>\n",
       "  </thead>\n",
       "  <tbody>\n",
       "    <tr>\n",
       "      <th>0</th>\n",
       "      <td>1</td>\n",
       "      <td>41.0</td>\n",
       "      <td>49600.0</td>\n",
       "      <td>1</td>\n",
       "      <td>0</td>\n",
       "    </tr>\n",
       "    <tr>\n",
       "      <th>1</th>\n",
       "      <td>0</td>\n",
       "      <td>46.0</td>\n",
       "      <td>38000.0</td>\n",
       "      <td>1</td>\n",
       "      <td>1</td>\n",
       "    </tr>\n",
       "    <tr>\n",
       "      <th>2</th>\n",
       "      <td>0</td>\n",
       "      <td>29.0</td>\n",
       "      <td>21000.0</td>\n",
       "      <td>0</td>\n",
       "      <td>0</td>\n",
       "    </tr>\n",
       "    <tr>\n",
       "      <th>3</th>\n",
       "      <td>0</td>\n",
       "      <td>21.0</td>\n",
       "      <td>41700.0</td>\n",
       "      <td>2</td>\n",
       "      <td>0</td>\n",
       "    </tr>\n",
       "    <tr>\n",
       "      <th>4</th>\n",
       "      <td>1</td>\n",
       "      <td>28.0</td>\n",
       "      <td>26100.0</td>\n",
       "      <td>0</td>\n",
       "      <td>0</td>\n",
       "    </tr>\n",
       "  </tbody>\n",
       "</table>\n",
       "</div>"
      ],
      "text/plain": [
       "   Пол  Возраст  Зарплата  Члены семьи  Страховые выплаты\n",
       "0    1     41.0   49600.0            1                  0\n",
       "1    0     46.0   38000.0            1                  1\n",
       "2    0     29.0   21000.0            0                  0\n",
       "3    0     21.0   41700.0            2                  0\n",
       "4    1     28.0   26100.0            0                  0"
      ]
     },
     "execution_count": 2,
     "metadata": {},
     "output_type": "execute_result"
    }
   ],
   "source": [
    "df = pd.read_csv('/datasets/insurance.csv')\n",
    "df.head()"
   ]
  },
  {
   "cell_type": "code",
   "execution_count": 3,
   "metadata": {},
   "outputs": [
    {
     "name": "stdout",
     "output_type": "stream",
     "text": [
      "<class 'pandas.core.frame.DataFrame'>\n",
      "RangeIndex: 5000 entries, 0 to 4999\n",
      "Data columns (total 5 columns):\n",
      " #   Column             Non-Null Count  Dtype  \n",
      "---  ------             --------------  -----  \n",
      " 0   Пол                5000 non-null   int64  \n",
      " 1   Возраст            5000 non-null   float64\n",
      " 2   Зарплата           5000 non-null   float64\n",
      " 3   Члены семьи        5000 non-null   int64  \n",
      " 4   Страховые выплаты  5000 non-null   int64  \n",
      "dtypes: float64(2), int64(3)\n",
      "memory usage: 195.4 KB\n"
     ]
    }
   ],
   "source": [
    "df.info()"
   ]
  },
  {
   "cell_type": "code",
   "execution_count": 4,
   "metadata": {},
   "outputs": [
    {
     "data": {
      "text/html": [
       "<div>\n",
       "<style scoped>\n",
       "    .dataframe tbody tr th:only-of-type {\n",
       "        vertical-align: middle;\n",
       "    }\n",
       "\n",
       "    .dataframe tbody tr th {\n",
       "        vertical-align: top;\n",
       "    }\n",
       "\n",
       "    .dataframe thead th {\n",
       "        text-align: right;\n",
       "    }\n",
       "</style>\n",
       "<table border=\"1\" class=\"dataframe\">\n",
       "  <thead>\n",
       "    <tr style=\"text-align: right;\">\n",
       "      <th></th>\n",
       "      <th>Пол</th>\n",
       "      <th>Возраст</th>\n",
       "      <th>Зарплата</th>\n",
       "      <th>Члены семьи</th>\n",
       "      <th>Страховые выплаты</th>\n",
       "    </tr>\n",
       "  </thead>\n",
       "  <tbody>\n",
       "    <tr>\n",
       "      <th>count</th>\n",
       "      <td>5000.000000</td>\n",
       "      <td>5000.000000</td>\n",
       "      <td>5000.000000</td>\n",
       "      <td>5000.000000</td>\n",
       "      <td>5000.000000</td>\n",
       "    </tr>\n",
       "    <tr>\n",
       "      <th>mean</th>\n",
       "      <td>0.499000</td>\n",
       "      <td>30.952800</td>\n",
       "      <td>39916.360000</td>\n",
       "      <td>1.194200</td>\n",
       "      <td>0.148000</td>\n",
       "    </tr>\n",
       "    <tr>\n",
       "      <th>std</th>\n",
       "      <td>0.500049</td>\n",
       "      <td>8.440807</td>\n",
       "      <td>9900.083569</td>\n",
       "      <td>1.091387</td>\n",
       "      <td>0.463183</td>\n",
       "    </tr>\n",
       "    <tr>\n",
       "      <th>min</th>\n",
       "      <td>0.000000</td>\n",
       "      <td>18.000000</td>\n",
       "      <td>5300.000000</td>\n",
       "      <td>0.000000</td>\n",
       "      <td>0.000000</td>\n",
       "    </tr>\n",
       "    <tr>\n",
       "      <th>25%</th>\n",
       "      <td>0.000000</td>\n",
       "      <td>24.000000</td>\n",
       "      <td>33300.000000</td>\n",
       "      <td>0.000000</td>\n",
       "      <td>0.000000</td>\n",
       "    </tr>\n",
       "    <tr>\n",
       "      <th>50%</th>\n",
       "      <td>0.000000</td>\n",
       "      <td>30.000000</td>\n",
       "      <td>40200.000000</td>\n",
       "      <td>1.000000</td>\n",
       "      <td>0.000000</td>\n",
       "    </tr>\n",
       "    <tr>\n",
       "      <th>75%</th>\n",
       "      <td>1.000000</td>\n",
       "      <td>37.000000</td>\n",
       "      <td>46600.000000</td>\n",
       "      <td>2.000000</td>\n",
       "      <td>0.000000</td>\n",
       "    </tr>\n",
       "    <tr>\n",
       "      <th>max</th>\n",
       "      <td>1.000000</td>\n",
       "      <td>65.000000</td>\n",
       "      <td>79000.000000</td>\n",
       "      <td>6.000000</td>\n",
       "      <td>5.000000</td>\n",
       "    </tr>\n",
       "  </tbody>\n",
       "</table>\n",
       "</div>"
      ],
      "text/plain": [
       "               Пол      Возраст      Зарплата  Члены семьи  Страховые выплаты\n",
       "count  5000.000000  5000.000000   5000.000000  5000.000000        5000.000000\n",
       "mean      0.499000    30.952800  39916.360000     1.194200           0.148000\n",
       "std       0.500049     8.440807   9900.083569     1.091387           0.463183\n",
       "min       0.000000    18.000000   5300.000000     0.000000           0.000000\n",
       "25%       0.000000    24.000000  33300.000000     0.000000           0.000000\n",
       "50%       0.000000    30.000000  40200.000000     1.000000           0.000000\n",
       "75%       1.000000    37.000000  46600.000000     2.000000           0.000000\n",
       "max       1.000000    65.000000  79000.000000     6.000000           5.000000"
      ]
     },
     "execution_count": 4,
     "metadata": {},
     "output_type": "execute_result"
    }
   ],
   "source": [
    "df.describe()"
   ]
  },
  {
   "cell_type": "code",
   "execution_count": 5,
   "metadata": {},
   "outputs": [
    {
     "data": {
      "text/plain": [
       "153"
      ]
     },
     "execution_count": 5,
     "metadata": {},
     "output_type": "execute_result"
    }
   ],
   "source": [
    "df.duplicated().sum()"
   ]
  },
  {
   "cell_type": "code",
   "execution_count": 6,
   "metadata": {},
   "outputs": [],
   "source": [
    "df = df.drop_duplicates().copy()"
   ]
  },
  {
   "cell_type": "code",
   "execution_count": 7,
   "metadata": {},
   "outputs": [
    {
     "data": {
      "text/plain": [
       "(4847, 5)"
      ]
     },
     "execution_count": 7,
     "metadata": {},
     "output_type": "execute_result"
    }
   ],
   "source": [
    "df.shape"
   ]
  },
  {
   "cell_type": "code",
   "execution_count": 8,
   "metadata": {},
   "outputs": [
    {
     "data": {
      "text/plain": [
       "<AxesSubplot:>"
      ]
     },
     "execution_count": 8,
     "metadata": {},
     "output_type": "execute_result"
    },
    {
     "data": {
      "image/png": "[encoded data removed]",
      "text/plain": [
       "<Figure size 432x288 with 2 Axes>"
      ]
     },
     "metadata": {
      "needs_background": "light"
     },
     "output_type": "display_data"
    }
   ],
   "source": [
    "heatmap(df.corr(method = 'spearman'))"
   ]
  },
  {
   "cell_type": "code",
   "execution_count": 9,
   "metadata": {},
   "outputs": [
    {
     "data": {
      "text/plain": [
       "<function matplotlib.pyplot.show(close=None, block=None)>"
      ]
     },
     "execution_count": 9,
     "metadata": {},
     "output_type": "execute_result"
    },
    {
     "data": {
      "image/png": "[encoded data removed]",
      "text/plain": [
       "<Figure size 720x720 with 6 Axes>"
      ]
     },
     "metadata": {
      "needs_background": "light"
     },
     "output_type": "display_data"
    }
   ],
   "source": [
    "df.hist(figsize=(10,10))\n",
    "plt.show"
   ]
  },
  {
   "cell_type": "markdown",
   "metadata": {},
   "source": [
    "**По итогу анализа данных посмотрели на:**\n",
    "* наличие пропусков\n",
    "> нет\n",
    "* наличие дубликатов \n",
    "> удалены 153\n",
    "* распределение данных\n",
    "> выбросов нет, распределения выглядят логично\n",
    "* корреляцию признаков\n",
    "> замечена корреляция между возрастом и количеством страховых выплат"
   ]
  },
  {
   "cell_type": "markdown",
   "metadata": {},
   "source": [
    "## Умножение матриц"
   ]
  },
  {
   "cell_type": "code",
   "execution_count": 10,
   "metadata": {},
   "outputs": [],
   "source": [
    "df_features = df.drop('Страховые выплаты', axis=1)\n",
    "df_target = df['Страховые выплаты']\n"
   ]
  },
  {
   "cell_type": "code",
   "execution_count": 11,
   "metadata": {},
   "outputs": [
    {
     "data": {
      "text/plain": [
       "array([[0.71783409, 0.04785513, 0.94447198, 0.68638004],\n",
       "       [0.58120733, 0.14267862, 0.94591918, 0.33999059],\n",
       "       [0.62043546, 0.45295964, 0.23976742, 0.03450459],\n",
       "       [0.14859311, 0.81086617, 0.65310538, 0.54446869]])"
      ]
     },
     "execution_count": 11,
     "metadata": {},
     "output_type": "execute_result"
    }
   ],
   "source": [
    "np.random.seed(555)\n",
    "code = np.random.random([df_features.shape[1], df_features.shape[1]])\n",
    "code"
   ]
  },
  {
   "cell_type": "code",
   "execution_count": 12,
   "metadata": {},
   "outputs": [],
   "source": [
    "code_reverse = np.linalg.inv(code)"
   ]
  },
  {
   "cell_type": "code",
   "execution_count": 13,
   "metadata": {},
   "outputs": [
    {
     "data": {
      "text/plain": [
       "((4, 4), (4, 4))"
      ]
     },
     "execution_count": 13,
     "metadata": {},
     "output_type": "execute_result"
    }
   ],
   "source": [
    "code.shape, code_reverse.shape"
   ]
  },
  {
   "cell_type": "code",
   "execution_count": 14,
   "metadata": {},
   "outputs": [
    {
     "data": {
      "text/plain": [
       "((4847, 4), (4847, 4), (4847,))"
      ]
     },
     "execution_count": 14,
     "metadata": {},
     "output_type": "execute_result"
    }
   ],
   "source": [
    "features_coded = pd.DataFrame(df_features.values@code, columns=df_features.columns)\n",
    "features_coded.shape, df_features.shape, df_target.shape"
   ]
  },
  {
   "cell_type": "code",
   "execution_count": 15,
   "metadata": {},
   "outputs": [
    {
     "data": {
      "text/plain": [
       "0.4302010044852066"
      ]
     },
     "execution_count": 15,
     "metadata": {},
     "output_type": "execute_result"
    }
   ],
   "source": [
    "model = LinearRegression()\n",
    "model.fit(df_features, df_target)\n",
    "r2_score(df_target, model.predict(df_features))"
   ]
  },
  {
   "cell_type": "code",
   "execution_count": 16,
   "metadata": {},
   "outputs": [
    {
     "data": {
      "text/plain": [
       "0.4302010044852125"
      ]
     },
     "execution_count": 16,
     "metadata": {},
     "output_type": "execute_result"
    }
   ],
   "source": [
    "model = LinearRegression()\n",
    "model.fit(features_coded, df_target)\n",
    "r2_score(df_target, model.predict(features_coded))"
   ]
  },
  {
   "cell_type": "markdown",
   "metadata": {},
   "source": [
    "## Ответьте на вопрос и обоснуйте решение. \n",
    " Признаки умножают на обратимую матрицу. Изменится ли качество линейной регрессии? (Её можно обучить заново.)  \n",
    " a. Изменится. Приведите примеры матриц.  \n",
    " b. Не изменится. Укажите, как связаны параметры линейной регрессии в исходной задаче и в преобразованной.  "
   ]
  },
  {
   "cell_type": "markdown",
   "metadata": {},
   "source": [
    "Обозначения:\n",
    "\n",
    "- $X$ — матрица признаков (нулевой столбец состоит из единиц)\n",
    "\n",
    "- $y$ — вектор целевого признака\n",
    "\n",
    "- $P$ — матрица, на которую умножаются признаки\n",
    "\n",
    "- $w$ — вектор весов линейной регрессии (нулевой элемент равен сдвигу)"
   ]
  },
  {
   "cell_type": "markdown",
   "metadata": {},
   "source": [
    "Предсказания:\n",
    "\n",
    "$$\n",
    "a = Xw\n",
    "$$\n",
    "\n",
    "Задача обучения:\n",
    "\n",
    "$$\n",
    "w = \\arg\\min_w MSE(Xw, y)\n",
    "$$\n",
    "\n",
    "Формула обучения:\n",
    "\n",
    "$$\n",
    "w = (X^T X)^{-1} X^T y\n",
    "$$"
   ]
  },
  {
   "cell_type": "markdown",
   "metadata": {},
   "source": [
    "$$\n",
    "a = Xw\n",
    "$$\n",
    "$$\n",
    "a' = (XP)w'\n",
    "$$\n",
    "$$\n",
    "w = (X^T X)^{-1} X^T y\n",
    "$$\n",
    "$$\n",
    "w' = ((XP)^T XP)^{-1} (XP)^T y\n",
    "$$\n",
    "$$\n",
    "a = X(X^T X)^{-1} X^T y\n",
    "$$\n",
    "$$\n",
    "a' = (XP)((XP)^T XP)^{-1} (XP)^T y\n",
    "$$\n",
    "$$\n",
    "a == a' ?\n",
    "$$\n",
    "$$\n",
    "X(X^T X)^{-1} X^T y == (XP)((XP)^T XP)^{-1} (XP)^T y\n",
    "$$\n",
    "$$\n",
    "(XP)(P^T(X^TX)P)^{-1}P^TX^T y = X(PP^{-1})(X^TX)^{-1}((P^T)^{-1}P^T)X^T y\n",
    "$$\n",
    "$$\n",
    "PP^{-1} = E, (P^T)^{-1}P^T = E\n",
    "$$\n",
    "$$\n",
    "X(X^TX)^{-1}X^T y = X(X^TX)^{-1}X^T y\n",
    "$$\n",
    "$$\n",
    "a = a'\n",
    "$$\n",
    "\n",
    "\n",
    "Равенство предсказаний, полученных по матрице признаков и такой же матрице, умноженной на случайную квадратную матрицу равной ширины доказано\n",
    "\n"
   ]
  },
  {
   "cell_type": "markdown",
   "metadata": {},
   "source": [
    "## Алгоритм преобразования"
   ]
  },
  {
   "cell_type": "markdown",
   "metadata": {},
   "source": [
    "1. Сгенерировать случайную квадратную матрицу со стороной, равной кол-ву признаков  \n",
    "2. Проверить матрицу на обратимость\n",
    "3. Умножить матрицу признаков на случайную матрицу (закодировать)\n",
    "4. Обучить модель Линейной Регрессии на изначальных данных\n",
    "5. Получить предсказание от модели\n",
    "5. Измерить успешность предсказания подходящей метрикой (R2)\n",
    "5. Обучить вторую модель Линейной Регрессии на кодированных данных\n",
    "5. Получить предсказание от второй модели\n",
    "5. Измерить успешность предсказания подходящей метрикой (R2)\n",
    "5. Сравнить два показателя метрики"
   ]
  },
  {
   "cell_type": "markdown",
   "metadata": {},
   "source": [
    "## Проверка алгоритма"
   ]
  },
  {
   "cell_type": "code",
   "execution_count": 22,
   "metadata": {},
   "outputs": [],
   "source": [
    "def enigma(features, random_state):\n",
    "    np.random.seed(random_state)\n",
    "    code = np.random.random([features.shape[1], features.shape[1]])\n",
    "    code_reverse = np.linalg.inv(code)\n",
    "    feat = features.copy()\n",
    "    features_coded = features @ code \n",
    "    s = list(features.columns)\n",
    "    features_coded.columns = feat.columns\n",
    "    return features_coded, code_reverse  "
   ]
  },
  {
   "cell_type": "code",
   "execution_count": 23,
   "metadata": {
    "scrolled": false
   },
   "outputs": [
    {
     "data": {
      "text/plain": [
       "(               Пол       Возраст      Зарплата  Члены семьи\n",
       " 0     30798.294653  22473.506908  11932.844276  1726.598172\n",
       " 1     23603.431541  17219.840571   9155.327333  1327.358491\n",
       " 2     13045.999634   9516.290213   5062.547468   734.456136\n",
       " 3     25884.661146  18893.035156  10019.471911  1447.070181\n",
       " 4     16210.357098  11826.289576   6285.359861   910.775939\n",
       " ...            ...           ...           ...          ...\n",
       " 4995  22166.116848  16176.276040   8587.488828  1242.422570\n",
       " 4996  32530.727650  23740.747307  12596.627145  1820.144713\n",
       " 4997  21044.683365  15359.807251   8148.340119  1177.594381\n",
       " 4998  20302.189657  14817.399756   7864.108631  1138.099702\n",
       " 4999  25206.819834  18395.015286   9762.640550  1411.636977\n",
       " \n",
       " [4847 rows x 4 columns],\n",
       " array([[ 0.87826839, -0.73722243,  1.46336309, -0.73956495],\n",
       "        [-0.70661156, -0.09514177,  0.68956082,  0.90649541],\n",
       "        [-1.27474949,  2.46328984, -0.86224668,  0.12345745],\n",
       "        [ 2.34174812, -2.61189386, -0.39203225,  0.54037464]]))"
      ]
     },
     "execution_count": 23,
     "metadata": {},
     "output_type": "execute_result"
    }
   ],
   "source": [
    "enigma(df_features, 555)"
   ]
  },
  {
   "cell_type": "code",
   "execution_count": 24,
   "metadata": {},
   "outputs": [
    {
     "data": {
      "text/html": [
       "<div>\n",
       "<style scoped>\n",
       "    .dataframe tbody tr th:only-of-type {\n",
       "        vertical-align: middle;\n",
       "    }\n",
       "\n",
       "    .dataframe tbody tr th {\n",
       "        vertical-align: top;\n",
       "    }\n",
       "\n",
       "    .dataframe thead th {\n",
       "        text-align: right;\n",
       "    }\n",
       "</style>\n",
       "<table border=\"1\" class=\"dataframe\">\n",
       "  <thead>\n",
       "    <tr style=\"text-align: right;\">\n",
       "      <th></th>\n",
       "      <th>Пол</th>\n",
       "      <th>Возраст</th>\n",
       "      <th>Зарплата</th>\n",
       "      <th>Члены семьи</th>\n",
       "    </tr>\n",
       "  </thead>\n",
       "  <tbody>\n",
       "    <tr>\n",
       "      <th>0</th>\n",
       "      <td>30798.294653</td>\n",
       "      <td>22473.506908</td>\n",
       "      <td>11932.844276</td>\n",
       "      <td>1726.598172</td>\n",
       "    </tr>\n",
       "    <tr>\n",
       "      <th>1</th>\n",
       "      <td>23603.431541</td>\n",
       "      <td>17219.840571</td>\n",
       "      <td>9155.327333</td>\n",
       "      <td>1327.358491</td>\n",
       "    </tr>\n",
       "    <tr>\n",
       "      <th>2</th>\n",
       "      <td>13045.999634</td>\n",
       "      <td>9516.290213</td>\n",
       "      <td>5062.547468</td>\n",
       "      <td>734.456136</td>\n",
       "    </tr>\n",
       "    <tr>\n",
       "      <th>3</th>\n",
       "      <td>25884.661146</td>\n",
       "      <td>18893.035156</td>\n",
       "      <td>10019.471911</td>\n",
       "      <td>1447.070181</td>\n",
       "    </tr>\n",
       "    <tr>\n",
       "      <th>4</th>\n",
       "      <td>16210.357098</td>\n",
       "      <td>11826.289576</td>\n",
       "      <td>6285.359861</td>\n",
       "      <td>910.775939</td>\n",
       "    </tr>\n",
       "    <tr>\n",
       "      <th>...</th>\n",
       "      <td>...</td>\n",
       "      <td>...</td>\n",
       "      <td>...</td>\n",
       "      <td>...</td>\n",
       "    </tr>\n",
       "    <tr>\n",
       "      <th>4842</th>\n",
       "      <td>22166.116848</td>\n",
       "      <td>16176.276040</td>\n",
       "      <td>8587.488828</td>\n",
       "      <td>1242.422570</td>\n",
       "    </tr>\n",
       "    <tr>\n",
       "      <th>4843</th>\n",
       "      <td>32530.727650</td>\n",
       "      <td>23740.747307</td>\n",
       "      <td>12596.627145</td>\n",
       "      <td>1820.144713</td>\n",
       "    </tr>\n",
       "    <tr>\n",
       "      <th>4844</th>\n",
       "      <td>21044.683365</td>\n",
       "      <td>15359.807251</td>\n",
       "      <td>8148.340119</td>\n",
       "      <td>1177.594381</td>\n",
       "    </tr>\n",
       "    <tr>\n",
       "      <th>4845</th>\n",
       "      <td>20302.189657</td>\n",
       "      <td>14817.399756</td>\n",
       "      <td>7864.108631</td>\n",
       "      <td>1138.099702</td>\n",
       "    </tr>\n",
       "    <tr>\n",
       "      <th>4846</th>\n",
       "      <td>25206.819834</td>\n",
       "      <td>18395.015286</td>\n",
       "      <td>9762.640550</td>\n",
       "      <td>1411.636977</td>\n",
       "    </tr>\n",
       "  </tbody>\n",
       "</table>\n",
       "<p>4847 rows × 4 columns</p>\n",
       "</div>"
      ],
      "text/plain": [
       "               Пол       Возраст      Зарплата  Члены семьи\n",
       "0     30798.294653  22473.506908  11932.844276  1726.598172\n",
       "1     23603.431541  17219.840571   9155.327333  1327.358491\n",
       "2     13045.999634   9516.290213   5062.547468   734.456136\n",
       "3     25884.661146  18893.035156  10019.471911  1447.070181\n",
       "4     16210.357098  11826.289576   6285.359861   910.775939\n",
       "...            ...           ...           ...          ...\n",
       "4842  22166.116848  16176.276040   8587.488828  1242.422570\n",
       "4843  32530.727650  23740.747307  12596.627145  1820.144713\n",
       "4844  21044.683365  15359.807251   8148.340119  1177.594381\n",
       "4845  20302.189657  14817.399756   7864.108631  1138.099702\n",
       "4846  25206.819834  18395.015286   9762.640550  1411.636977\n",
       "\n",
       "[4847 rows x 4 columns]"
      ]
     },
     "execution_count": 24,
     "metadata": {},
     "output_type": "execute_result"
    }
   ],
   "source": [
    "features_coded"
   ]
  },
  {
   "cell_type": "code",
   "execution_count": 25,
   "metadata": {},
   "outputs": [
    {
     "data": {
      "text/plain": [
       "0.4302010044852125"
      ]
     },
     "execution_count": 25,
     "metadata": {},
     "output_type": "execute_result"
    }
   ],
   "source": [
    "model = LinearRegression()\n",
    "model.fit(enigma(df_features, 555)[0], df_target)\n",
    "r2_score(df_target, model.predict(enigma(df_features, 555)[0]))"
   ]
  },
  {
   "cell_type": "code",
   "execution_count": 30,
   "metadata": {},
   "outputs": [],
   "source": [
    "features_decoded = (features_coded.values @ code_reverse).astype(int)"
   ]
  },
  {
   "cell_type": "code",
   "execution_count": 27,
   "metadata": {},
   "outputs": [
    {
     "data": {
      "text/plain": [
       "0.43020100448520937"
      ]
     },
     "execution_count": 27,
     "metadata": {},
     "output_type": "execute_result"
    }
   ],
   "source": [
    "model = LinearRegression()\n",
    "model.fit(features_decoded, df_target)\n",
    "r2_score(df_target, model.predict(features_decoded))"
   ]
  },
  {
   "cell_type": "code",
   "execution_count": 28,
   "metadata": {
    "scrolled": false
   },
   "outputs": [
    {
     "data": {
      "text/html": [
       "<div>\n",
       "<style scoped>\n",
       "    .dataframe tbody tr th:only-of-type {\n",
       "        vertical-align: middle;\n",
       "    }\n",
       "\n",
       "    .dataframe tbody tr th {\n",
       "        vertical-align: top;\n",
       "    }\n",
       "\n",
       "    .dataframe thead th {\n",
       "        text-align: right;\n",
       "    }\n",
       "</style>\n",
       "<table border=\"1\" class=\"dataframe\">\n",
       "  <thead>\n",
       "    <tr style=\"text-align: right;\">\n",
       "      <th></th>\n",
       "      <th>Пол</th>\n",
       "      <th>Возраст</th>\n",
       "      <th>Зарплата</th>\n",
       "      <th>Члены семьи</th>\n",
       "    </tr>\n",
       "  </thead>\n",
       "  <tbody>\n",
       "    <tr>\n",
       "      <th>0</th>\n",
       "      <td>1</td>\n",
       "      <td>41.0</td>\n",
       "      <td>49600.0</td>\n",
       "      <td>1</td>\n",
       "    </tr>\n",
       "    <tr>\n",
       "      <th>1</th>\n",
       "      <td>0</td>\n",
       "      <td>46.0</td>\n",
       "      <td>38000.0</td>\n",
       "      <td>1</td>\n",
       "    </tr>\n",
       "    <tr>\n",
       "      <th>2</th>\n",
       "      <td>0</td>\n",
       "      <td>29.0</td>\n",
       "      <td>21000.0</td>\n",
       "      <td>0</td>\n",
       "    </tr>\n",
       "    <tr>\n",
       "      <th>3</th>\n",
       "      <td>0</td>\n",
       "      <td>21.0</td>\n",
       "      <td>41700.0</td>\n",
       "      <td>2</td>\n",
       "    </tr>\n",
       "    <tr>\n",
       "      <th>4</th>\n",
       "      <td>1</td>\n",
       "      <td>28.0</td>\n",
       "      <td>26100.0</td>\n",
       "      <td>0</td>\n",
       "    </tr>\n",
       "    <tr>\n",
       "      <th>...</th>\n",
       "      <td>...</td>\n",
       "      <td>...</td>\n",
       "      <td>...</td>\n",
       "      <td>...</td>\n",
       "    </tr>\n",
       "    <tr>\n",
       "      <th>4995</th>\n",
       "      <td>0</td>\n",
       "      <td>28.0</td>\n",
       "      <td>35700.0</td>\n",
       "      <td>2</td>\n",
       "    </tr>\n",
       "    <tr>\n",
       "      <th>4996</th>\n",
       "      <td>0</td>\n",
       "      <td>34.0</td>\n",
       "      <td>52400.0</td>\n",
       "      <td>1</td>\n",
       "    </tr>\n",
       "    <tr>\n",
       "      <th>4997</th>\n",
       "      <td>0</td>\n",
       "      <td>20.0</td>\n",
       "      <td>33900.0</td>\n",
       "      <td>2</td>\n",
       "    </tr>\n",
       "    <tr>\n",
       "      <th>4998</th>\n",
       "      <td>1</td>\n",
       "      <td>22.0</td>\n",
       "      <td>32700.0</td>\n",
       "      <td>3</td>\n",
       "    </tr>\n",
       "    <tr>\n",
       "      <th>4999</th>\n",
       "      <td>1</td>\n",
       "      <td>28.0</td>\n",
       "      <td>40600.0</td>\n",
       "      <td>1</td>\n",
       "    </tr>\n",
       "  </tbody>\n",
       "</table>\n",
       "<p>4847 rows × 4 columns</p>\n",
       "</div>"
      ],
      "text/plain": [
       "      Пол  Возраст  Зарплата  Члены семьи\n",
       "0       1     41.0   49600.0            1\n",
       "1       0     46.0   38000.0            1\n",
       "2       0     29.0   21000.0            0\n",
       "3       0     21.0   41700.0            2\n",
       "4       1     28.0   26100.0            0\n",
       "...   ...      ...       ...          ...\n",
       "4995    0     28.0   35700.0            2\n",
       "4996    0     34.0   52400.0            1\n",
       "4997    0     20.0   33900.0            2\n",
       "4998    1     22.0   32700.0            3\n",
       "4999    1     28.0   40600.0            1\n",
       "\n",
       "[4847 rows x 4 columns]"
      ]
     },
     "execution_count": 28,
     "metadata": {},
     "output_type": "execute_result"
    }
   ],
   "source": [
    "df_features"
   ]
  },
  {
   "cell_type": "code",
   "execution_count": 31,
   "metadata": {},
   "outputs": [
    {
     "data": {
      "text/html": [
       "<div>\n",
       "<style scoped>\n",
       "    .dataframe tbody tr th:only-of-type {\n",
       "        vertical-align: middle;\n",
       "    }\n",
       "\n",
       "    .dataframe tbody tr th {\n",
       "        vertical-align: top;\n",
       "    }\n",
       "\n",
       "    .dataframe thead th {\n",
       "        text-align: right;\n",
       "    }\n",
       "</style>\n",
       "<table border=\"1\" class=\"dataframe\">\n",
       "  <thead>\n",
       "    <tr style=\"text-align: right;\">\n",
       "      <th></th>\n",
       "      <th>Пол</th>\n",
       "      <th>Возраст</th>\n",
       "      <th>Зарплата</th>\n",
       "      <th>Члены семьи</th>\n",
       "    </tr>\n",
       "  </thead>\n",
       "  <tbody>\n",
       "    <tr>\n",
       "      <th>0</th>\n",
       "      <td>1</td>\n",
       "      <td>40</td>\n",
       "      <td>49599</td>\n",
       "      <td>1</td>\n",
       "    </tr>\n",
       "    <tr>\n",
       "      <th>1</th>\n",
       "      <td>0</td>\n",
       "      <td>45</td>\n",
       "      <td>37999</td>\n",
       "      <td>1</td>\n",
       "    </tr>\n",
       "    <tr>\n",
       "      <th>2</th>\n",
       "      <td>0</td>\n",
       "      <td>28</td>\n",
       "      <td>20999</td>\n",
       "      <td>0</td>\n",
       "    </tr>\n",
       "    <tr>\n",
       "      <th>3</th>\n",
       "      <td>0</td>\n",
       "      <td>20</td>\n",
       "      <td>41699</td>\n",
       "      <td>1</td>\n",
       "    </tr>\n",
       "    <tr>\n",
       "      <th>4</th>\n",
       "      <td>1</td>\n",
       "      <td>27</td>\n",
       "      <td>26099</td>\n",
       "      <td>0</td>\n",
       "    </tr>\n",
       "    <tr>\n",
       "      <th>...</th>\n",
       "      <td>...</td>\n",
       "      <td>...</td>\n",
       "      <td>...</td>\n",
       "      <td>...</td>\n",
       "    </tr>\n",
       "    <tr>\n",
       "      <th>4842</th>\n",
       "      <td>0</td>\n",
       "      <td>27</td>\n",
       "      <td>35699</td>\n",
       "      <td>2</td>\n",
       "    </tr>\n",
       "    <tr>\n",
       "      <th>4843</th>\n",
       "      <td>0</td>\n",
       "      <td>33</td>\n",
       "      <td>52399</td>\n",
       "      <td>1</td>\n",
       "    </tr>\n",
       "    <tr>\n",
       "      <th>4844</th>\n",
       "      <td>0</td>\n",
       "      <td>19</td>\n",
       "      <td>33899</td>\n",
       "      <td>2</td>\n",
       "    </tr>\n",
       "    <tr>\n",
       "      <th>4845</th>\n",
       "      <td>1</td>\n",
       "      <td>21</td>\n",
       "      <td>32699</td>\n",
       "      <td>3</td>\n",
       "    </tr>\n",
       "    <tr>\n",
       "      <th>4846</th>\n",
       "      <td>1</td>\n",
       "      <td>27</td>\n",
       "      <td>40599</td>\n",
       "      <td>1</td>\n",
       "    </tr>\n",
       "  </tbody>\n",
       "</table>\n",
       "<p>4847 rows × 4 columns</p>\n",
       "</div>"
      ],
      "text/plain": [
       "      Пол  Возраст  Зарплата  Члены семьи\n",
       "0       1       40     49599            1\n",
       "1       0       45     37999            1\n",
       "2       0       28     20999            0\n",
       "3       0       20     41699            1\n",
       "4       1       27     26099            0\n",
       "...   ...      ...       ...          ...\n",
       "4842    0       27     35699            2\n",
       "4843    0       33     52399            1\n",
       "4844    0       19     33899            2\n",
       "4845    1       21     32699            3\n",
       "4846    1       27     40599            1\n",
       "\n",
       "[4847 rows x 4 columns]"
      ]
     },
     "execution_count": 31,
     "metadata": {},
     "output_type": "execute_result"
    }
   ],
   "source": [
    "pd.DataFrame(features_decoded, columns=df_features.columns)"
   ]
  },
  {
   "cell_type": "markdown",
   "metadata": {},
   "source": [
    "## Общий вывод"
   ]
  },
  {
   "cell_type": "markdown",
   "metadata": {},
   "source": [
    "**В ходе выполнения проекта были проведены следующие шаги:**\n",
    "\n",
    "1. Получение данных\n",
    "2. Анализ\n",
    "3. Создание алгоритма защиты данных\n",
    "4. Проверка алгоритма:\n",
    "\n",
    ">1. Сгенерировать случайную квадратную матрицу со стороной, равной кол-ву признаков  \n",
    "2. Проверить матрицу на обратимость\n",
    "3. Умножить матрицу признаков на случайную матрицу (закодировать)\n",
    "4. Обучить модель Линейной Регрессии на изначальных данных\n",
    "5. Получить предсказание от модели\n",
    "5. Измерить успешность предсказания подходящей метрикой (R2)\n",
    "5. Обучить вторую модель Линейной Регрессии на кодированных данных\n",
    "5. Получить предсказание от второй модели\n",
    "5. Измерить успешность предсказания подходящей метрикой (R2)\n",
    ">5. Сравнить два показателя метрики\n",
    "\n",
    "5. Раскодирование данных\n",
    "6. Общий вывод"
   ]
  },
  {
   "cell_type": "markdown",
   "metadata": {},
   "source": [
    "**Модели показали одинаковые результаты по потерям при обучении на данных до, после кодирования, а также после раскодирования.\n",
    "Предложенный способ умножения матрицы признаков на определенную обратимую матрицу показал себя надежным способом шифрования личных данных**"
   ]
  }
 ],
 "metadata": {
  "ExecuteTimeLog": [
   {
    "duration": 5,
    "start_time": "2023-05-26T17:46:45.057Z"
   },
   {
    "duration": 35,
    "start_time": "2023-05-26T17:47:13.778Z"
   },
   {
    "duration": 6,
    "start_time": "2023-05-26T17:47:19.697Z"
   },
   {
    "duration": 13,
    "start_time": "2023-05-26T17:47:24.952Z"
   },
   {
    "duration": 6,
    "start_time": "2023-05-26T17:49:34.557Z"
   },
   {
    "duration": 201,
    "start_time": "2023-05-26T17:49:54.339Z"
   },
   {
    "duration": 4,
    "start_time": "2023-05-26T17:52:21.927Z"
   },
   {
    "duration": 4,
    "start_time": "2023-05-26T17:52:26.272Z"
   },
   {
    "duration": 4,
    "start_time": "2023-05-26T17:52:28.615Z"
   },
   {
    "duration": 4,
    "start_time": "2023-05-26T17:52:29.502Z"
   },
   {
    "duration": 5,
    "start_time": "2023-05-26T17:52:34.536Z"
   },
   {
    "duration": 5,
    "start_time": "2023-05-26T17:52:35.366Z"
   },
   {
    "duration": 5,
    "start_time": "2023-05-26T17:52:36.126Z"
   },
   {
    "duration": 5,
    "start_time": "2023-05-26T17:52:39.175Z"
   },
   {
    "duration": 4,
    "start_time": "2023-05-26T17:52:39.943Z"
   },
   {
    "duration": 5,
    "start_time": "2023-05-26T17:52:55.262Z"
   },
   {
    "duration": 8,
    "start_time": "2023-05-26T17:54:12.940Z"
   },
   {
    "duration": 3,
    "start_time": "2023-05-26T17:54:17.011Z"
   },
   {
    "duration": 364,
    "start_time": "2023-05-26T17:54:18.203Z"
   },
   {
    "duration": 408,
    "start_time": "2023-05-26T17:54:28.756Z"
   },
   {
    "duration": 392,
    "start_time": "2023-05-26T17:54:33.068Z"
   },
   {
    "duration": 389,
    "start_time": "2023-05-26T17:54:37.172Z"
   },
   {
    "duration": 678,
    "start_time": "2023-05-26T17:55:18.602Z"
   },
   {
    "duration": 359,
    "start_time": "2023-05-26T17:55:34.298Z"
   },
   {
    "duration": 465,
    "start_time": "2023-05-26T17:56:27.428Z"
   },
   {
    "duration": 11,
    "start_time": "2023-05-26T17:56:53.034Z"
   },
   {
    "duration": 6,
    "start_time": "2023-05-26T17:57:13.983Z"
   },
   {
    "duration": 17,
    "start_time": "2023-05-26T17:57:50.157Z"
   },
   {
    "duration": 5,
    "start_time": "2023-05-26T18:00:14.481Z"
   },
   {
    "duration": 3,
    "start_time": "2023-05-26T18:01:06.847Z"
   },
   {
    "duration": 22,
    "start_time": "2023-05-26T18:01:33.496Z"
   },
   {
    "duration": 15,
    "start_time": "2023-05-26T18:01:45.927Z"
   },
   {
    "duration": 10,
    "start_time": "2023-05-26T18:02:25.006Z"
   },
   {
    "duration": 16,
    "start_time": "2023-05-26T18:02:58.190Z"
   },
   {
    "duration": 12,
    "start_time": "2023-05-26T18:03:44.092Z"
   },
   {
    "duration": 9,
    "start_time": "2023-05-26T18:05:50.448Z"
   },
   {
    "duration": 9,
    "start_time": "2023-05-26T18:05:51.815Z"
   },
   {
    "duration": 4,
    "start_time": "2023-05-26T18:06:52.376Z"
   },
   {
    "duration": 80,
    "start_time": "2023-05-26T18:07:59.880Z"
   },
   {
    "duration": 215,
    "start_time": "2023-05-26T18:09:44.434Z"
   },
   {
    "duration": 15583,
    "start_time": "2023-05-26T18:09:45.450Z"
   },
   {
    "duration": 9,
    "start_time": "2023-05-26T18:10:26.448Z"
   },
   {
    "duration": 11,
    "start_time": "2023-05-26T18:11:09.414Z"
   },
   {
    "duration": 4,
    "start_time": "2023-05-26T18:11:22.412Z"
   },
   {
    "duration": 4,
    "start_time": "2023-05-26T18:12:19.660Z"
   },
   {
    "duration": 68,
    "start_time": "2023-05-26T18:12:20.500Z"
   },
   {
    "duration": 4,
    "start_time": "2023-05-26T18:12:23.763Z"
   },
   {
    "duration": 3,
    "start_time": "2023-05-26T18:16:45.815Z"
   },
   {
    "duration": 6,
    "start_time": "2023-05-26T18:16:46.395Z"
   },
   {
    "duration": 4,
    "start_time": "2023-05-26T18:16:52.036Z"
   },
   {
    "duration": 16,
    "start_time": "2023-05-26T18:16:53.900Z"
   },
   {
    "duration": 6,
    "start_time": "2023-05-26T18:17:40.180Z"
   },
   {
    "duration": 4,
    "start_time": "2023-05-26T18:17:41.002Z"
   },
   {
    "duration": 32,
    "start_time": "2023-05-26T18:17:43.834Z"
   },
   {
    "duration": 16,
    "start_time": "2023-05-26T18:17:45.524Z"
   },
   {
    "duration": 16,
    "start_time": "2023-05-26T18:19:32.282Z"
   },
   {
    "duration": 5,
    "start_time": "2023-05-26T18:19:35.936Z"
   },
   {
    "duration": 4,
    "start_time": "2023-05-26T18:19:36.504Z"
   },
   {
    "duration": 18,
    "start_time": "2023-05-26T18:19:37.022Z"
   },
   {
    "duration": 11,
    "start_time": "2023-05-26T18:19:37.606Z"
   },
   {
    "duration": 3,
    "start_time": "2023-05-26T18:20:21.861Z"
   },
   {
    "duration": 5,
    "start_time": "2023-05-26T18:20:22.814Z"
   },
   {
    "duration": 5,
    "start_time": "2023-05-26T18:20:24.064Z"
   },
   {
    "duration": 14,
    "start_time": "2023-05-26T18:20:24.999Z"
   },
   {
    "duration": 4,
    "start_time": "2023-05-26T18:20:25.607Z"
   },
   {
    "duration": 4,
    "start_time": "2023-05-26T18:20:26.056Z"
   },
   {
    "duration": 11,
    "start_time": "2023-05-26T18:20:26.237Z"
   },
   {
    "duration": 10,
    "start_time": "2023-05-26T18:20:26.953Z"
   },
   {
    "duration": 2,
    "start_time": "2023-05-26T18:20:33.830Z"
   },
   {
    "duration": 4,
    "start_time": "2023-05-26T18:20:34.376Z"
   },
   {
    "duration": 4,
    "start_time": "2023-05-26T18:20:36.974Z"
   },
   {
    "duration": 12,
    "start_time": "2023-05-26T18:20:37.568Z"
   },
   {
    "duration": 5,
    "start_time": "2023-05-26T18:20:38.031Z"
   },
   {
    "duration": 5,
    "start_time": "2023-05-26T18:20:38.454Z"
   },
   {
    "duration": 15,
    "start_time": "2023-05-26T18:20:38.901Z"
   },
   {
    "duration": 11,
    "start_time": "2023-05-26T18:20:39.413Z"
   },
   {
    "duration": 5,
    "start_time": "2023-05-26T19:11:32.404Z"
   },
   {
    "duration": 12,
    "start_time": "2023-05-26T19:12:20.743Z"
   },
   {
    "duration": 6,
    "start_time": "2023-05-26T19:13:07.397Z"
   },
   {
    "duration": 5,
    "start_time": "2023-05-26T19:13:08.005Z"
   },
   {
    "duration": 36,
    "start_time": "2023-05-26T19:13:53.524Z"
   },
   {
    "duration": 12,
    "start_time": "2023-05-26T19:13:59.203Z"
   },
   {
    "duration": 12,
    "start_time": "2023-05-26T19:14:00.300Z"
   },
   {
    "duration": 19,
    "start_time": "2023-05-26T19:14:01.606Z"
   },
   {
    "duration": 14,
    "start_time": "2023-05-26T19:19:19.875Z"
   },
   {
    "duration": 12,
    "start_time": "2023-05-26T19:19:33.391Z"
   },
   {
    "duration": 13,
    "start_time": "2023-05-26T19:19:37.498Z"
   },
   {
    "duration": 10,
    "start_time": "2023-05-26T19:19:52.739Z"
   },
   {
    "duration": 6,
    "start_time": "2023-05-26T19:21:07.855Z"
   },
   {
    "duration": 7,
    "start_time": "2023-05-26T19:21:08.502Z"
   },
   {
    "duration": 23,
    "start_time": "2023-05-26T19:21:08.902Z"
   },
   {
    "duration": 5,
    "start_time": "2023-05-26T19:21:50.132Z"
   },
   {
    "duration": 9,
    "start_time": "2023-05-26T19:21:50.584Z"
   },
   {
    "duration": 22,
    "start_time": "2023-05-26T19:21:50.895Z"
   },
   {
    "duration": 7,
    "start_time": "2023-05-26T19:21:53.705Z"
   },
   {
    "duration": 6,
    "start_time": "2023-05-26T19:21:53.993Z"
   },
   {
    "duration": 35,
    "start_time": "2023-05-26T19:21:54.306Z"
   },
   {
    "duration": 15,
    "start_time": "2023-05-26T19:21:56.355Z"
   },
   {
    "duration": 5,
    "start_time": "2023-05-26T19:21:56.617Z"
   },
   {
    "duration": 22,
    "start_time": "2023-05-26T19:21:56.901Z"
   },
   {
    "duration": 5,
    "start_time": "2023-05-26T19:22:01.153Z"
   },
   {
    "duration": 6,
    "start_time": "2023-05-26T19:22:01.891Z"
   },
   {
    "duration": 50,
    "start_time": "2023-05-26T19:22:02.223Z"
   },
   {
    "duration": 5,
    "start_time": "2023-05-26T19:22:04.217Z"
   },
   {
    "duration": 7,
    "start_time": "2023-05-26T19:22:04.415Z"
   },
   {
    "duration": 23,
    "start_time": "2023-05-26T19:22:06.303Z"
   },
   {
    "duration": 4,
    "start_time": "2023-05-26T19:22:08.049Z"
   },
   {
    "duration": 10,
    "start_time": "2023-05-26T19:22:08.387Z"
   },
   {
    "duration": 18,
    "start_time": "2023-05-26T19:22:08.696Z"
   },
   {
    "duration": 1094,
    "start_time": "2023-05-28T17:37:36.366Z"
   },
   {
    "duration": 109,
    "start_time": "2023-05-28T17:37:37.463Z"
   },
   {
    "duration": 11,
    "start_time": "2023-05-28T17:37:37.574Z"
   },
   {
    "duration": 7,
    "start_time": "2023-05-28T17:37:37.587Z"
   },
   {
    "duration": 11,
    "start_time": "2023-05-28T17:37:37.596Z"
   },
   {
    "duration": 27,
    "start_time": "2023-05-28T17:37:37.609Z"
   },
   {
    "duration": 99,
    "start_time": "2023-05-28T17:37:37.637Z"
   },
   {
    "duration": 4,
    "start_time": "2023-05-28T17:37:37.740Z"
   },
   {
    "duration": 10,
    "start_time": "2023-05-28T17:37:37.746Z"
   },
   {
    "duration": 70,
    "start_time": "2023-05-28T17:37:37.759Z"
   },
   {
    "duration": 96,
    "start_time": "2023-05-28T17:37:37.831Z"
   },
   {
    "duration": 9,
    "start_time": "2023-05-28T17:37:37.932Z"
   },
   {
    "duration": 85,
    "start_time": "2023-05-28T17:37:37.947Z"
   },
   {
    "duration": 15,
    "start_time": "2023-05-28T17:37:38.033Z"
   },
   {
    "duration": 6,
    "start_time": "2023-05-28T17:48:29.603Z"
   },
   {
    "duration": 109,
    "start_time": "2023-05-28T17:49:50.556Z"
   },
   {
    "duration": 9,
    "start_time": "2023-05-28T17:50:07.305Z"
   },
   {
    "duration": 10,
    "start_time": "2023-05-28T17:51:03.485Z"
   },
   {
    "duration": 18,
    "start_time": "2023-05-28T17:51:11.013Z"
   },
   {
    "duration": 7,
    "start_time": "2023-05-28T17:51:32.962Z"
   },
   {
    "duration": 8,
    "start_time": "2023-05-28T17:51:34.108Z"
   },
   {
    "duration": 7,
    "start_time": "2023-05-28T17:51:40.251Z"
   },
   {
    "duration": 10,
    "start_time": "2023-05-28T17:51:40.883Z"
   },
   {
    "duration": 11,
    "start_time": "2023-05-28T17:51:59.851Z"
   },
   {
    "duration": 19,
    "start_time": "2023-05-28T17:52:00.454Z"
   },
   {
    "duration": 8,
    "start_time": "2023-05-28T17:52:25.890Z"
   },
   {
    "duration": 12,
    "start_time": "2023-05-28T17:53:04.377Z"
   },
   {
    "duration": 13,
    "start_time": "2023-05-28T17:53:19.948Z"
   },
   {
    "duration": 9,
    "start_time": "2023-05-28T17:53:58.659Z"
   },
   {
    "duration": 12,
    "start_time": "2023-05-28T17:53:59.990Z"
   },
   {
    "duration": 11,
    "start_time": "2023-05-28T17:54:41.408Z"
   },
   {
    "duration": 5,
    "start_time": "2023-05-28T17:55:33.469Z"
   },
   {
    "duration": 4,
    "start_time": "2023-05-28T17:55:34.396Z"
   },
   {
    "duration": 28,
    "start_time": "2023-05-28T17:55:35.049Z"
   },
   {
    "duration": 9,
    "start_time": "2023-05-28T17:56:43.380Z"
   },
   {
    "duration": 13,
    "start_time": "2023-05-28T17:56:55.875Z"
   },
   {
    "duration": 96,
    "start_time": "2023-05-28T17:56:59.567Z"
   },
   {
    "duration": 403,
    "start_time": "2023-05-28T17:57:59.489Z"
   },
   {
    "duration": 336,
    "start_time": "2023-05-28T17:58:20.289Z"
   },
   {
    "duration": 21,
    "start_time": "2023-05-28T17:59:19.861Z"
   },
   {
    "duration": 4,
    "start_time": "2023-05-28T17:59:57.468Z"
   },
   {
    "duration": 4,
    "start_time": "2023-05-28T18:00:13.675Z"
   },
   {
    "duration": 10,
    "start_time": "2023-05-28T18:03:53.559Z"
   },
   {
    "duration": 17,
    "start_time": "2023-05-28T18:04:04.813Z"
   },
   {
    "duration": 6,
    "start_time": "2023-05-28T18:04:11.168Z"
   },
   {
    "duration": 4,
    "start_time": "2023-05-28T18:04:11.583Z"
   },
   {
    "duration": 18,
    "start_time": "2023-05-28T18:04:12.399Z"
   },
   {
    "duration": 11,
    "start_time": "2023-05-28T18:04:51.772Z"
   },
   {
    "duration": 13,
    "start_time": "2023-05-28T18:05:05.005Z"
   },
   {
    "duration": 12,
    "start_time": "2023-05-28T18:05:14.810Z"
   },
   {
    "duration": 20,
    "start_time": "2023-05-28T18:05:24.962Z"
   },
   {
    "duration": 13,
    "start_time": "2023-05-28T18:05:53.468Z"
   },
   {
    "duration": 5,
    "start_time": "2023-05-28T18:05:55.569Z"
   },
   {
    "duration": 7,
    "start_time": "2023-05-28T18:05:55.971Z"
   },
   {
    "duration": 18,
    "start_time": "2023-05-28T18:05:56.706Z"
   },
   {
    "duration": 18,
    "start_time": "2023-05-28T18:06:01.864Z"
   },
   {
    "duration": 4,
    "start_time": "2023-05-28T18:12:49.369Z"
   },
   {
    "duration": 7,
    "start_time": "2023-05-28T18:15:08.757Z"
   },
   {
    "duration": 5,
    "start_time": "2023-05-28T18:15:09.170Z"
   },
   {
    "duration": 3,
    "start_time": "2023-05-28T18:15:10.679Z"
   },
   {
    "duration": 18,
    "start_time": "2023-05-28T18:15:18.099Z"
   },
   {
    "duration": 11,
    "start_time": "2023-05-28T18:15:24.264Z"
   },
   {
    "duration": 20,
    "start_time": "2023-05-28T18:15:34.320Z"
   },
   {
    "duration": 40,
    "start_time": "2023-05-28T18:17:10.424Z"
   },
   {
    "duration": 88,
    "start_time": "2023-05-28T18:17:27.112Z"
   },
   {
    "duration": 23,
    "start_time": "2023-05-28T18:17:28.289Z"
   },
   {
    "duration": 20,
    "start_time": "2023-05-28T18:17:59.059Z"
   },
   {
    "duration": 27,
    "start_time": "2023-05-28T18:18:10.262Z"
   },
   {
    "duration": 18,
    "start_time": "2023-05-28T18:46:23.927Z"
   },
   {
    "duration": 16,
    "start_time": "2023-05-28T18:47:24.268Z"
   },
   {
    "duration": 6,
    "start_time": "2023-05-28T18:47:33.692Z"
   },
   {
    "duration": 9,
    "start_time": "2023-05-28T20:34:52.914Z"
   },
   {
    "duration": 7,
    "start_time": "2023-05-28T20:35:25.994Z"
   },
   {
    "duration": 8,
    "start_time": "2023-05-28T20:35:45.260Z"
   },
   {
    "duration": 9,
    "start_time": "2023-05-28T20:35:52.159Z"
   },
   {
    "duration": 6,
    "start_time": "2023-05-28T20:36:00.582Z"
   },
   {
    "duration": 14,
    "start_time": "2023-05-28T20:36:08.205Z"
   },
   {
    "duration": 12,
    "start_time": "2023-05-28T20:36:09.117Z"
   },
   {
    "duration": 5,
    "start_time": "2023-05-28T20:44:27.687Z"
   },
   {
    "duration": 5,
    "start_time": "2023-05-28T20:44:31.423Z"
   },
   {
    "duration": 4,
    "start_time": "2023-05-28T20:45:39.904Z"
   },
   {
    "duration": 5,
    "start_time": "2023-05-28T20:45:40.315Z"
   },
   {
    "duration": 5,
    "start_time": "2023-05-28T20:45:41.163Z"
   },
   {
    "duration": 12,
    "start_time": "2023-05-28T20:45:41.970Z"
   },
   {
    "duration": 378,
    "start_time": "2023-05-28T20:46:16.355Z"
   },
   {
    "duration": 3,
    "start_time": "2023-05-28T20:46:16.955Z"
   },
   {
    "duration": 183,
    "start_time": "2023-05-28T20:46:35.178Z"
   },
   {
    "duration": 5,
    "start_time": "2023-05-28T20:46:58.466Z"
   },
   {
    "duration": 4,
    "start_time": "2023-05-28T20:46:59.313Z"
   },
   {
    "duration": 3,
    "start_time": "2023-05-28T20:47:01.459Z"
   },
   {
    "duration": 10,
    "start_time": "2023-05-28T20:47:02.255Z"
   },
   {
    "duration": 10,
    "start_time": "2023-05-28T21:02:10.699Z"
   },
   {
    "duration": 12,
    "start_time": "2023-05-28T21:02:37.178Z"
   },
   {
    "duration": 12,
    "start_time": "2023-05-28T21:02:44.087Z"
   },
   {
    "duration": 7,
    "start_time": "2023-05-28T21:02:52.179Z"
   },
   {
    "duration": 11,
    "start_time": "2023-05-28T21:03:17.582Z"
   },
   {
    "duration": 9,
    "start_time": "2023-05-28T21:06:19.015Z"
   },
   {
    "duration": 10,
    "start_time": "2023-05-28T21:07:07.709Z"
   },
   {
    "duration": 13,
    "start_time": "2023-05-28T21:07:40.062Z"
   },
   {
    "duration": 82,
    "start_time": "2023-05-28T21:32:16.396Z"
   },
   {
    "duration": 3,
    "start_time": "2023-05-28T21:35:38.991Z"
   },
   {
    "duration": 17,
    "start_time": "2023-05-28T21:36:52.919Z"
   },
   {
    "duration": 11,
    "start_time": "2023-05-28T21:36:59.183Z"
   },
   {
    "duration": 5,
    "start_time": "2023-05-28T21:37:49.309Z"
   },
   {
    "duration": 17,
    "start_time": "2023-05-28T21:37:54.927Z"
   },
   {
    "duration": 3,
    "start_time": "2023-05-28T21:38:08.698Z"
   },
   {
    "duration": 225,
    "start_time": "2023-05-28T21:38:09.192Z"
   },
   {
    "duration": 3,
    "start_time": "2023-05-28T21:38:46.185Z"
   },
   {
    "duration": 11,
    "start_time": "2023-05-28T21:38:46.966Z"
   },
   {
    "duration": 15,
    "start_time": "2023-05-28T21:39:20.804Z"
   },
   {
    "duration": 76,
    "start_time": "2023-05-28T21:39:40.690Z"
   },
   {
    "duration": 4,
    "start_time": "2023-05-28T21:40:19.595Z"
   },
   {
    "duration": 11,
    "start_time": "2023-05-28T21:40:21.663Z"
   },
   {
    "duration": 10,
    "start_time": "2023-05-28T21:40:44.896Z"
   },
   {
    "duration": 4,
    "start_time": "2023-05-28T21:41:33.542Z"
   },
   {
    "duration": 13,
    "start_time": "2023-05-28T21:41:42.563Z"
   },
   {
    "duration": 13,
    "start_time": "2023-05-28T21:41:52.116Z"
   },
   {
    "duration": 3,
    "start_time": "2023-05-28T21:42:23.817Z"
   },
   {
    "duration": 11,
    "start_time": "2023-05-28T21:42:24.351Z"
   },
   {
    "duration": 12,
    "start_time": "2023-05-28T21:42:26.055Z"
   },
   {
    "duration": 81,
    "start_time": "2023-05-28T21:42:41.107Z"
   },
   {
    "duration": 3,
    "start_time": "2023-05-28T21:42:48.651Z"
   },
   {
    "duration": 17,
    "start_time": "2023-05-28T21:42:49.807Z"
   },
   {
    "duration": 13,
    "start_time": "2023-05-28T21:42:51.689Z"
   },
   {
    "duration": 3,
    "start_time": "2023-05-28T21:44:07.004Z"
   },
   {
    "duration": 11,
    "start_time": "2023-05-28T21:44:08.000Z"
   },
   {
    "duration": 10,
    "start_time": "2023-05-28T21:44:08.968Z"
   },
   {
    "duration": 3,
    "start_time": "2023-05-28T21:44:28.667Z"
   },
   {
    "duration": 20,
    "start_time": "2023-05-28T21:44:28.943Z"
   },
   {
    "duration": 12,
    "start_time": "2023-05-28T21:44:29.566Z"
   },
   {
    "duration": 2,
    "start_time": "2023-05-28T21:45:19.989Z"
   },
   {
    "duration": 3,
    "start_time": "2023-05-28T21:45:29.416Z"
   },
   {
    "duration": 3,
    "start_time": "2023-05-28T21:45:38.318Z"
   },
   {
    "duration": 4,
    "start_time": "2023-05-28T21:45:43.266Z"
   },
   {
    "duration": 3,
    "start_time": "2023-05-28T21:49:17.165Z"
   },
   {
    "duration": 10,
    "start_time": "2023-05-28T21:50:11.293Z"
   },
   {
    "duration": 48,
    "start_time": "2023-05-28T21:50:21.295Z"
   },
   {
    "duration": 11,
    "start_time": "2023-05-28T21:50:56.798Z"
   },
   {
    "duration": 10,
    "start_time": "2023-05-28T21:51:03.228Z"
   },
   {
    "duration": 11,
    "start_time": "2023-05-28T21:51:40.802Z"
   },
   {
    "duration": 4,
    "start_time": "2023-05-28T21:55:28.084Z"
   },
   {
    "duration": 10,
    "start_time": "2023-05-28T21:55:33.788Z"
   },
   {
    "duration": 16,
    "start_time": "2023-05-28T21:55:37.681Z"
   },
   {
    "duration": 13,
    "start_time": "2023-05-28T21:55:43.418Z"
   },
   {
    "duration": 11,
    "start_time": "2023-05-28T21:55:45.580Z"
   },
   {
    "duration": 10,
    "start_time": "2023-05-28T21:55:47.861Z"
   },
   {
    "duration": 3,
    "start_time": "2023-05-28T22:00:09.157Z"
   },
   {
    "duration": 8,
    "start_time": "2023-05-28T22:00:12.172Z"
   },
   {
    "duration": 3,
    "start_time": "2023-05-28T22:00:47.179Z"
   },
   {
    "duration": 11,
    "start_time": "2023-05-28T22:00:48.165Z"
   },
   {
    "duration": 3,
    "start_time": "2023-05-28T22:00:59.001Z"
   },
   {
    "duration": 12,
    "start_time": "2023-05-28T22:01:00.480Z"
   },
   {
    "duration": 3,
    "start_time": "2023-05-28T22:01:14.881Z"
   },
   {
    "duration": 13,
    "start_time": "2023-05-28T22:01:15.665Z"
   },
   {
    "duration": 3,
    "start_time": "2023-05-28T22:01:22.881Z"
   },
   {
    "duration": 12,
    "start_time": "2023-05-28T22:01:23.757Z"
   },
   {
    "duration": 4,
    "start_time": "2023-05-28T22:01:30.792Z"
   },
   {
    "duration": 13,
    "start_time": "2023-05-28T22:01:32.385Z"
   },
   {
    "duration": 4,
    "start_time": "2023-05-28T22:01:54.896Z"
   },
   {
    "duration": 11,
    "start_time": "2023-05-28T22:01:55.353Z"
   },
   {
    "duration": 1030,
    "start_time": "2023-05-28T22:03:38.079Z"
   },
   {
    "duration": 54,
    "start_time": "2023-05-28T22:03:39.111Z"
   },
   {
    "duration": 10,
    "start_time": "2023-05-28T22:03:39.166Z"
   },
   {
    "duration": 6,
    "start_time": "2023-05-28T22:03:39.178Z"
   },
   {
    "duration": 5,
    "start_time": "2023-05-28T22:03:39.186Z"
   },
   {
    "duration": 11,
    "start_time": "2023-05-28T22:03:39.192Z"
   },
   {
    "duration": 7,
    "start_time": "2023-05-28T22:03:39.204Z"
   },
   {
    "duration": 18,
    "start_time": "2023-05-28T22:03:39.225Z"
   },
   {
    "duration": 95,
    "start_time": "2023-05-28T22:03:39.246Z"
   },
   {
    "duration": 18,
    "start_time": "2023-05-28T22:03:39.345Z"
   },
   {
    "duration": 14,
    "start_time": "2023-05-28T22:03:39.444Z"
   },
   {
    "duration": 70,
    "start_time": "2023-05-28T22:03:39.464Z"
   },
   {
    "duration": 4,
    "start_time": "2023-05-28T22:03:39.536Z"
   },
   {
    "duration": 26,
    "start_time": "2023-05-28T22:03:39.548Z"
   },
   {
    "duration": 30,
    "start_time": "2023-05-28T22:03:39.576Z"
   },
   {
    "duration": 46,
    "start_time": "2023-05-28T22:03:39.608Z"
   },
   {
    "duration": 199,
    "start_time": "2023-05-28T22:03:39.662Z"
   },
   {
    "duration": 0,
    "start_time": "2023-05-28T22:03:39.864Z"
   },
   {
    "duration": 0,
    "start_time": "2023-05-28T22:03:39.865Z"
   },
   {
    "duration": 0,
    "start_time": "2023-05-28T22:03:39.866Z"
   },
   {
    "duration": 0,
    "start_time": "2023-05-28T22:03:39.868Z"
   },
   {
    "duration": 0,
    "start_time": "2023-05-28T22:03:39.870Z"
   },
   {
    "duration": 0,
    "start_time": "2023-05-28T22:03:39.871Z"
   },
   {
    "duration": 0,
    "start_time": "2023-05-28T22:03:39.872Z"
   },
   {
    "duration": 0,
    "start_time": "2023-05-28T22:03:39.874Z"
   },
   {
    "duration": 5,
    "start_time": "2023-05-28T22:04:40.092Z"
   },
   {
    "duration": 13,
    "start_time": "2023-05-28T22:04:40.499Z"
   },
   {
    "duration": 10,
    "start_time": "2023-05-28T22:04:53.388Z"
   },
   {
    "duration": 3,
    "start_time": "2023-05-28T22:05:30.808Z"
   },
   {
    "duration": 104,
    "start_time": "2023-05-28T22:05:30.812Z"
   },
   {
    "duration": 44,
    "start_time": "2023-05-28T22:05:30.917Z"
   },
   {
    "duration": 38,
    "start_time": "2023-05-28T22:05:30.963Z"
   },
   {
    "duration": 70,
    "start_time": "2023-05-28T22:05:31.002Z"
   },
   {
    "duration": 92,
    "start_time": "2023-05-28T22:05:31.073Z"
   },
   {
    "duration": 67,
    "start_time": "2023-05-28T22:05:31.168Z"
   },
   {
    "duration": 29,
    "start_time": "2023-05-28T22:05:31.237Z"
   },
   {
    "duration": 82,
    "start_time": "2023-05-28T22:05:31.271Z"
   },
   {
    "duration": 106,
    "start_time": "2023-05-28T22:05:31.359Z"
   },
   {
    "duration": 58,
    "start_time": "2023-05-28T22:05:31.469Z"
   },
   {
    "duration": 101,
    "start_time": "2023-05-28T22:05:31.530Z"
   },
   {
    "duration": 29,
    "start_time": "2023-05-28T22:05:31.633Z"
   },
   {
    "duration": 24,
    "start_time": "2023-05-28T22:05:31.663Z"
   },
   {
    "duration": 45,
    "start_time": "2023-05-28T22:05:31.688Z"
   },
   {
    "duration": 22,
    "start_time": "2023-05-28T22:05:31.735Z"
   },
   {
    "duration": 31,
    "start_time": "2023-05-28T22:05:31.825Z"
   },
   {
    "duration": 76,
    "start_time": "2023-05-28T22:05:31.858Z"
   },
   {
    "duration": 110,
    "start_time": "2023-05-28T22:05:31.943Z"
   },
   {
    "duration": 76,
    "start_time": "2023-05-28T22:05:32.067Z"
   },
   {
    "duration": 196,
    "start_time": "2023-05-28T22:05:32.150Z"
   },
   {
    "duration": 76,
    "start_time": "2023-05-28T22:05:32.356Z"
   },
   {
    "duration": 19,
    "start_time": "2023-05-28T22:05:32.440Z"
   },
   {
    "duration": 174,
    "start_time": "2023-05-28T22:05:32.467Z"
   },
   {
    "duration": 25,
    "start_time": "2023-05-28T22:05:32.642Z"
   },
   {
    "duration": 4,
    "start_time": "2023-05-28T22:06:42.285Z"
   },
   {
    "duration": 9,
    "start_time": "2023-05-28T22:06:42.895Z"
   },
   {
    "duration": 4,
    "start_time": "2023-05-28T22:07:14.880Z"
   },
   {
    "duration": 9,
    "start_time": "2023-05-28T22:07:15.401Z"
   },
   {
    "duration": 4,
    "start_time": "2023-05-28T22:07:24.168Z"
   },
   {
    "duration": 10,
    "start_time": "2023-05-28T22:07:24.582Z"
   },
   {
    "duration": 7,
    "start_time": "2023-05-28T22:07:32.422Z"
   },
   {
    "duration": 8,
    "start_time": "2023-05-28T22:07:32.865Z"
   },
   {
    "duration": 4,
    "start_time": "2023-05-28T22:07:42.663Z"
   },
   {
    "duration": 8,
    "start_time": "2023-05-28T22:07:43.175Z"
   },
   {
    "duration": 5,
    "start_time": "2023-05-28T22:07:48.684Z"
   },
   {
    "duration": 8,
    "start_time": "2023-05-28T22:07:49.050Z"
   },
   {
    "duration": 4,
    "start_time": "2023-05-28T22:08:09.414Z"
   },
   {
    "duration": 8,
    "start_time": "2023-05-28T22:08:10.060Z"
   },
   {
    "duration": 5,
    "start_time": "2023-05-28T22:08:14.667Z"
   },
   {
    "duration": 11,
    "start_time": "2023-05-28T22:08:14.991Z"
   },
   {
    "duration": 4,
    "start_time": "2023-05-28T22:08:31.981Z"
   },
   {
    "duration": 10,
    "start_time": "2023-05-28T22:08:32.389Z"
   },
   {
    "duration": 5,
    "start_time": "2023-05-28T22:08:37.062Z"
   },
   {
    "duration": 8,
    "start_time": "2023-05-28T22:08:37.381Z"
   },
   {
    "duration": 4,
    "start_time": "2023-05-28T22:10:31.865Z"
   },
   {
    "duration": 12,
    "start_time": "2023-05-28T22:10:35.083Z"
   },
   {
    "duration": 5,
    "start_time": "2023-05-28T22:11:16.800Z"
   },
   {
    "duration": 13,
    "start_time": "2023-05-28T22:11:18.793Z"
   },
   {
    "duration": 4,
    "start_time": "2023-05-28T22:11:30.385Z"
   },
   {
    "duration": 5,
    "start_time": "2023-05-28T22:12:38.151Z"
   },
   {
    "duration": 4,
    "start_time": "2023-05-28T22:12:39.447Z"
   },
   {
    "duration": 62,
    "start_time": "2023-05-28T22:12:41.406Z"
   },
   {
    "duration": 5,
    "start_time": "2023-05-28T22:15:03.378Z"
   },
   {
    "duration": 12,
    "start_time": "2023-05-28T22:15:06.185Z"
   },
   {
    "duration": 5,
    "start_time": "2023-05-28T22:15:11.609Z"
   },
   {
    "duration": 17,
    "start_time": "2023-05-28T22:15:12.385Z"
   },
   {
    "duration": 61,
    "start_time": "2023-05-28T22:19:33.647Z"
   },
   {
    "duration": 6,
    "start_time": "2023-05-28T22:21:04.050Z"
   },
   {
    "duration": 21,
    "start_time": "2023-05-28T22:21:04.854Z"
   },
   {
    "duration": 22,
    "start_time": "2023-05-28T22:21:26.555Z"
   },
   {
    "duration": 4,
    "start_time": "2023-05-28T22:21:31.199Z"
   },
   {
    "duration": 6,
    "start_time": "2023-05-28T22:21:35.096Z"
   },
   {
    "duration": 11,
    "start_time": "2023-05-28T22:21:35.902Z"
   },
   {
    "duration": 4,
    "start_time": "2023-05-28T22:21:43.605Z"
   },
   {
    "duration": 8,
    "start_time": "2023-05-28T22:21:44.151Z"
   },
   {
    "duration": 5,
    "start_time": "2023-05-28T22:21:49.599Z"
   },
   {
    "duration": 10,
    "start_time": "2023-05-28T22:21:50.151Z"
   },
   {
    "duration": 4,
    "start_time": "2023-05-28T22:21:59.415Z"
   },
   {
    "duration": 52,
    "start_time": "2023-05-28T22:22:00.273Z"
   },
   {
    "duration": 6,
    "start_time": "2023-05-28T22:22:04.848Z"
   },
   {
    "duration": 8,
    "start_time": "2023-05-28T22:22:05.378Z"
   },
   {
    "duration": 6,
    "start_time": "2023-05-28T22:22:19.850Z"
   },
   {
    "duration": 11,
    "start_time": "2023-05-28T22:22:20.481Z"
   },
   {
    "duration": 1097,
    "start_time": "2023-05-28T22:23:10.952Z"
   },
   {
    "duration": 41,
    "start_time": "2023-05-28T22:23:12.052Z"
   },
   {
    "duration": 10,
    "start_time": "2023-05-28T22:23:12.094Z"
   },
   {
    "duration": 3,
    "start_time": "2023-05-28T22:23:12.106Z"
   },
   {
    "duration": 3,
    "start_time": "2023-05-28T22:23:12.111Z"
   },
   {
    "duration": 4,
    "start_time": "2023-05-28T22:23:12.115Z"
   },
   {
    "duration": 5,
    "start_time": "2023-05-28T22:23:12.125Z"
   },
   {
    "duration": 13,
    "start_time": "2023-05-28T22:23:12.131Z"
   },
   {
    "duration": 83,
    "start_time": "2023-05-28T22:23:12.145Z"
   },
   {
    "duration": 25,
    "start_time": "2023-05-28T22:23:12.230Z"
   },
   {
    "duration": 86,
    "start_time": "2023-05-28T22:23:12.258Z"
   },
   {
    "duration": 12,
    "start_time": "2023-05-28T22:23:12.349Z"
   },
   {
    "duration": 4,
    "start_time": "2023-05-28T22:23:12.425Z"
   },
   {
    "duration": 4,
    "start_time": "2023-05-28T22:23:12.432Z"
   },
   {
    "duration": 111,
    "start_time": "2023-05-28T22:23:12.440Z"
   },
   {
    "duration": 4,
    "start_time": "2023-05-28T22:23:12.625Z"
   },
   {
    "duration": 19,
    "start_time": "2023-05-28T22:23:12.633Z"
   },
   {
    "duration": 84,
    "start_time": "2023-05-28T22:23:12.654Z"
   },
   {
    "duration": 91,
    "start_time": "2023-05-28T22:23:12.740Z"
   },
   {
    "duration": 10,
    "start_time": "2023-05-28T22:23:12.833Z"
   },
   {
    "duration": 85,
    "start_time": "2023-05-28T22:23:12.847Z"
   },
   {
    "duration": 93,
    "start_time": "2023-05-28T22:23:12.946Z"
   },
   {
    "duration": 19,
    "start_time": "2023-05-28T22:23:13.046Z"
   },
   {
    "duration": 1344,
    "start_time": "2023-05-29T03:41:28.324Z"
   },
   {
    "duration": 39,
    "start_time": "2023-05-29T03:41:29.670Z"
   },
   {
    "duration": 11,
    "start_time": "2023-05-29T03:41:29.710Z"
   },
   {
    "duration": 3,
    "start_time": "2023-05-29T03:41:29.724Z"
   },
   {
    "duration": 12,
    "start_time": "2023-05-29T03:41:29.728Z"
   },
   {
    "duration": 5,
    "start_time": "2023-05-29T03:41:29.741Z"
   },
   {
    "duration": 6,
    "start_time": "2023-05-29T03:41:29.758Z"
   },
   {
    "duration": 6,
    "start_time": "2023-05-29T03:41:29.768Z"
   },
   {
    "duration": 183,
    "start_time": "2023-05-29T03:41:29.776Z"
   },
   {
    "duration": 97,
    "start_time": "2023-05-29T03:41:29.964Z"
   },
   {
    "duration": 8,
    "start_time": "2023-05-29T03:41:30.063Z"
   },
   {
    "duration": 7,
    "start_time": "2023-05-29T03:41:30.158Z"
   },
   {
    "duration": 93,
    "start_time": "2023-05-29T03:41:30.167Z"
   },
   {
    "duration": 14,
    "start_time": "2023-05-29T03:41:30.261Z"
   },
   {
    "duration": 17,
    "start_time": "2023-05-29T03:41:30.277Z"
   },
   {
    "duration": 61,
    "start_time": "2023-05-29T03:41:30.297Z"
   },
   {
    "duration": 99,
    "start_time": "2023-05-29T03:41:30.360Z"
   },
   {
    "duration": 97,
    "start_time": "2023-05-29T03:41:30.461Z"
   },
   {
    "duration": 104,
    "start_time": "2023-05-29T03:41:30.560Z"
   },
   {
    "duration": 103,
    "start_time": "2023-05-29T03:41:30.666Z"
   },
   {
    "duration": 112,
    "start_time": "2023-05-29T03:41:30.773Z"
   },
   {
    "duration": 174,
    "start_time": "2023-05-29T03:41:30.887Z"
   },
   {
    "duration": 42,
    "start_time": "2023-05-29T03:41:31.063Z"
   },
   {
    "duration": 1090,
    "start_time": "2023-05-29T19:43:46.246Z"
   },
   {
    "duration": 136,
    "start_time": "2023-05-29T19:43:47.338Z"
   },
   {
    "duration": 14,
    "start_time": "2023-05-29T19:43:47.476Z"
   },
   {
    "duration": 4,
    "start_time": "2023-05-29T19:43:47.493Z"
   },
   {
    "duration": 8,
    "start_time": "2023-05-29T19:43:47.498Z"
   },
   {
    "duration": 3,
    "start_time": "2023-05-29T19:43:47.508Z"
   },
   {
    "duration": 6,
    "start_time": "2023-05-29T19:43:47.513Z"
   },
   {
    "duration": 66,
    "start_time": "2023-05-29T19:43:47.521Z"
   },
   {
    "duration": 96,
    "start_time": "2023-05-29T19:43:47.588Z"
   },
   {
    "duration": 97,
    "start_time": "2023-05-29T19:43:47.686Z"
   },
   {
    "duration": 93,
    "start_time": "2023-05-29T19:43:47.787Z"
   },
   {
    "duration": 96,
    "start_time": "2023-05-29T19:43:47.885Z"
   },
   {
    "duration": 4,
    "start_time": "2023-05-29T19:43:47.983Z"
   },
   {
    "duration": 17,
    "start_time": "2023-05-29T19:43:47.989Z"
   },
   {
    "duration": 11,
    "start_time": "2023-05-29T19:43:48.007Z"
   },
   {
    "duration": 63,
    "start_time": "2023-05-29T19:43:48.020Z"
   },
   {
    "duration": 99,
    "start_time": "2023-05-29T19:43:48.085Z"
   },
   {
    "duration": 96,
    "start_time": "2023-05-29T19:43:48.187Z"
   },
   {
    "duration": 96,
    "start_time": "2023-05-29T19:43:48.285Z"
   },
   {
    "duration": 101,
    "start_time": "2023-05-29T19:43:48.385Z"
   },
   {
    "duration": 99,
    "start_time": "2023-05-29T19:43:48.488Z"
   },
   {
    "duration": 14,
    "start_time": "2023-05-29T19:43:48.678Z"
   },
   {
    "duration": 45,
    "start_time": "2023-05-29T19:46:15.958Z"
   },
   {
    "duration": 52,
    "start_time": "2023-05-29T19:46:25.028Z"
   },
   {
    "duration": 48,
    "start_time": "2023-05-29T19:46:35.187Z"
   },
   {
    "duration": 51,
    "start_time": "2023-05-29T19:47:37.398Z"
   },
   {
    "duration": 55,
    "start_time": "2023-05-29T19:47:44.807Z"
   },
   {
    "duration": 55,
    "start_time": "2023-05-29T19:47:54.186Z"
   },
   {
    "duration": 11,
    "start_time": "2023-05-29T19:51:59.435Z"
   },
   {
    "duration": 93,
    "start_time": "2023-05-29T20:10:08.189Z"
   },
   {
    "duration": 23,
    "start_time": "2023-05-29T20:10:13.611Z"
   },
   {
    "duration": 12,
    "start_time": "2023-05-29T20:10:31.716Z"
   },
   {
    "duration": 818,
    "start_time": "2023-05-29T20:11:22.002Z"
   },
   {
    "duration": 582,
    "start_time": "2023-05-29T20:11:36.010Z"
   },
   {
    "duration": 554,
    "start_time": "2023-05-29T20:11:47.610Z"
   },
   {
    "duration": 575,
    "start_time": "2023-05-29T20:11:51.611Z"
   },
   {
    "duration": 65,
    "start_time": "2023-05-29T20:12:54.835Z"
   },
   {
    "duration": 15,
    "start_time": "2023-05-29T20:13:08.537Z"
   },
   {
    "duration": 365,
    "start_time": "2023-05-29T20:13:17.650Z"
   },
   {
    "duration": 642,
    "start_time": "2023-05-29T20:13:32.331Z"
   },
   {
    "duration": 7,
    "start_time": "2023-05-29T20:19:10.801Z"
   },
   {
    "duration": 5,
    "start_time": "2023-05-29T20:19:39.221Z"
   },
   {
    "duration": 10,
    "start_time": "2023-05-29T20:19:48.305Z"
   },
   {
    "duration": 6,
    "start_time": "2023-05-29T20:19:56.106Z"
   },
   {
    "duration": 10,
    "start_time": "2023-05-29T20:19:56.777Z"
   },
   {
    "duration": 34,
    "start_time": "2023-05-29T20:20:02.550Z"
   },
   {
    "duration": 7,
    "start_time": "2023-05-29T20:20:10.685Z"
   },
   {
    "duration": 5,
    "start_time": "2023-05-29T20:20:13.190Z"
   },
   {
    "duration": 8,
    "start_time": "2023-05-29T20:20:13.834Z"
   },
   {
    "duration": 5,
    "start_time": "2023-05-29T20:20:23.942Z"
   },
   {
    "duration": 24,
    "start_time": "2023-05-29T20:20:26.133Z"
   },
   {
    "duration": 4,
    "start_time": "2023-05-29T20:20:32.354Z"
   },
   {
    "duration": 553,
    "start_time": "2023-05-29T20:21:48.546Z"
   },
   {
    "duration": 3,
    "start_time": "2023-05-29T20:31:03.195Z"
   },
   {
    "duration": 61,
    "start_time": "2023-05-29T20:31:03.200Z"
   },
   {
    "duration": 12,
    "start_time": "2023-05-29T20:31:03.262Z"
   },
   {
    "duration": 36,
    "start_time": "2023-05-29T20:31:03.275Z"
   },
   {
    "duration": 8,
    "start_time": "2023-05-29T20:31:03.314Z"
   },
   {
    "duration": 15,
    "start_time": "2023-05-29T20:31:03.323Z"
   },
   {
    "duration": 4,
    "start_time": "2023-05-29T20:31:03.340Z"
   },
   {
    "duration": 324,
    "start_time": "2023-05-29T20:31:03.346Z"
   },
   {
    "duration": 601,
    "start_time": "2023-05-29T20:31:03.672Z"
   },
   {
    "duration": 4,
    "start_time": "2023-05-29T20:31:04.277Z"
   },
   {
    "duration": 8,
    "start_time": "2023-05-29T20:31:04.283Z"
   },
   {
    "duration": 8,
    "start_time": "2023-05-29T20:31:04.293Z"
   },
   {
    "duration": 5,
    "start_time": "2023-05-29T20:31:04.303Z"
   },
   {
    "duration": 7,
    "start_time": "2023-05-29T20:31:04.377Z"
   },
   {
    "duration": 96,
    "start_time": "2023-05-29T20:31:04.386Z"
   },
   {
    "duration": 101,
    "start_time": "2023-05-29T20:31:04.485Z"
   },
   {
    "duration": 91,
    "start_time": "2023-05-29T20:31:04.589Z"
   },
   {
    "duration": 5,
    "start_time": "2023-05-29T20:31:04.682Z"
   },
   {
    "duration": 90,
    "start_time": "2023-05-29T20:31:04.689Z"
   },
   {
    "duration": 5,
    "start_time": "2023-05-29T20:31:04.781Z"
   },
   {
    "duration": 94,
    "start_time": "2023-05-29T20:31:04.787Z"
   },
   {
    "duration": 94,
    "start_time": "2023-05-29T20:31:04.884Z"
   },
   {
    "duration": 18,
    "start_time": "2023-05-29T20:31:04.980Z"
   },
   {
    "duration": 17,
    "start_time": "2023-05-29T20:31:05.002Z"
   },
   {
    "duration": 56,
    "start_time": "2023-05-29T20:31:05.022Z"
   },
   {
    "duration": 18,
    "start_time": "2023-05-29T20:31:05.080Z"
   },
   {
    "duration": 85,
    "start_time": "2023-05-29T20:31:05.100Z"
   },
   {
    "duration": 23,
    "start_time": "2023-05-29T20:31:05.187Z"
   },
   {
    "duration": 67,
    "start_time": "2023-05-29T20:31:05.212Z"
   },
   {
    "duration": 7,
    "start_time": "2023-05-29T20:31:05.281Z"
   },
   {
    "duration": 12,
    "start_time": "2023-05-29T20:31:05.378Z"
   },
   {
    "duration": 187,
    "start_time": "2023-05-29T20:31:05.392Z"
   },
   {
    "duration": 21,
    "start_time": "2023-05-29T20:31:05.582Z"
   },
   {
    "duration": 74,
    "start_time": "2023-05-29T20:31:05.605Z"
   },
   {
    "duration": 99,
    "start_time": "2023-05-29T20:31:05.682Z"
   },
   {
    "duration": 1603,
    "start_time": "2023-05-30T18:22:50.280Z"
   },
   {
    "duration": 101,
    "start_time": "2023-05-30T18:22:51.885Z"
   },
   {
    "duration": 11,
    "start_time": "2023-05-30T18:22:51.988Z"
   },
   {
    "duration": 29,
    "start_time": "2023-05-30T18:22:52.000Z"
   },
   {
    "duration": 5,
    "start_time": "2023-05-30T18:22:52.030Z"
   },
   {
    "duration": 7,
    "start_time": "2023-05-30T18:22:52.036Z"
   },
   {
    "duration": 3,
    "start_time": "2023-05-30T18:22:52.045Z"
   },
   {
    "duration": 358,
    "start_time": "2023-05-30T18:22:52.049Z"
   },
   {
    "duration": 533,
    "start_time": "2023-05-30T18:22:52.409Z"
   },
   {
    "duration": 4,
    "start_time": "2023-05-30T18:22:52.946Z"
   },
   {
    "duration": 13,
    "start_time": "2023-05-30T18:22:52.952Z"
   },
   {
    "duration": 19,
    "start_time": "2023-05-30T18:22:52.967Z"
   },
   {
    "duration": 33,
    "start_time": "2023-05-30T18:22:52.988Z"
   },
   {
    "duration": 98,
    "start_time": "2023-05-30T18:22:53.022Z"
   },
   {
    "duration": 15,
    "start_time": "2023-05-30T18:22:53.122Z"
   },
   {
    "duration": 186,
    "start_time": "2023-05-30T18:22:53.138Z"
   },
   {
    "duration": 95,
    "start_time": "2023-05-30T18:22:53.326Z"
   },
   {
    "duration": 177,
    "start_time": "2023-05-30T18:22:53.423Z"
   },
   {
    "duration": 13,
    "start_time": "2023-05-30T18:22:53.602Z"
   },
   {
    "duration": 14,
    "start_time": "2023-05-30T18:22:53.617Z"
   },
   {
    "duration": 13,
    "start_time": "2023-05-30T18:22:53.633Z"
   },
   {
    "duration": 175,
    "start_time": "2023-05-30T18:22:53.648Z"
   },
   {
    "duration": 115,
    "start_time": "2023-05-30T18:22:57.581Z"
   },
   {
    "duration": 8,
    "start_time": "2023-05-30T18:23:07.695Z"
   },
   {
    "duration": 9,
    "start_time": "2023-05-30T18:23:10.284Z"
   },
   {
    "duration": 17,
    "start_time": "2023-05-30T18:25:01.178Z"
   },
   {
    "duration": 4,
    "start_time": "2023-05-30T18:25:58.078Z"
   },
   {
    "duration": 10,
    "start_time": "2023-05-30T18:25:59.390Z"
   },
   {
    "duration": 3,
    "start_time": "2023-05-30T18:26:08.207Z"
   },
   {
    "duration": 10,
    "start_time": "2023-05-30T18:26:09.022Z"
   },
   {
    "duration": 16,
    "start_time": "2023-05-30T18:27:10.230Z"
   },
   {
    "duration": 18,
    "start_time": "2023-05-30T18:27:52.581Z"
   },
   {
    "duration": 99,
    "start_time": "2023-05-30T20:20:58.943Z"
   },
   {
    "duration": 1349,
    "start_time": "2023-05-30T20:23:17.822Z"
   },
   {
    "duration": 39,
    "start_time": "2023-05-30T20:23:19.172Z"
   },
   {
    "duration": 11,
    "start_time": "2023-05-30T20:23:19.213Z"
   },
   {
    "duration": 50,
    "start_time": "2023-05-30T20:23:19.226Z"
   },
   {
    "duration": 5,
    "start_time": "2023-05-30T20:23:19.277Z"
   },
   {
    "duration": 9,
    "start_time": "2023-05-30T20:23:19.283Z"
   },
   {
    "duration": 6,
    "start_time": "2023-05-30T20:23:19.294Z"
   },
   {
    "duration": 317,
    "start_time": "2023-05-30T20:23:19.302Z"
   },
   {
    "duration": 531,
    "start_time": "2023-05-30T20:23:19.620Z"
   },
   {
    "duration": 5,
    "start_time": "2023-05-30T20:23:20.155Z"
   },
   {
    "duration": 25,
    "start_time": "2023-05-30T20:23:20.162Z"
   },
   {
    "duration": 10,
    "start_time": "2023-05-30T20:23:20.188Z"
   },
   {
    "duration": 39,
    "start_time": "2023-05-30T20:23:20.199Z"
   },
   {
    "duration": 92,
    "start_time": "2023-05-30T20:23:20.240Z"
   },
   {
    "duration": 99,
    "start_time": "2023-05-30T20:23:20.334Z"
   },
   {
    "duration": 85,
    "start_time": "2023-05-30T20:23:20.435Z"
   },
   {
    "duration": 101,
    "start_time": "2023-05-30T20:23:20.522Z"
   },
   {
    "duration": 94,
    "start_time": "2023-05-30T20:23:20.624Z"
   },
   {
    "duration": 4,
    "start_time": "2023-05-30T20:23:20.720Z"
   },
   {
    "duration": 32,
    "start_time": "2023-05-30T20:23:20.725Z"
   },
   {
    "duration": 11,
    "start_time": "2023-05-30T20:23:20.758Z"
   },
   {
    "duration": 150,
    "start_time": "2023-05-30T20:23:20.771Z"
   },
   {
    "duration": 27,
    "start_time": "2023-05-30T20:23:20.923Z"
   },
   {
    "duration": 75,
    "start_time": "2023-05-30T20:23:20.952Z"
   },
   {
    "duration": 89,
    "start_time": "2023-05-30T20:23:21.029Z"
   },
   {
    "duration": 98,
    "start_time": "2023-05-30T20:23:21.120Z"
   },
   {
    "duration": 105,
    "start_time": "2023-05-30T20:23:21.220Z"
   },
   {
    "duration": 58,
    "start_time": "2023-05-30T20:23:21.329Z"
   },
   {
    "duration": 19,
    "start_time": "2023-05-30T20:23:21.389Z"
   },
   {
    "duration": 216,
    "start_time": "2023-05-30T20:23:21.409Z"
   },
   {
    "duration": 91,
    "start_time": "2023-05-30T20:23:21.627Z"
   },
   {
    "duration": 97,
    "start_time": "2023-05-30T20:23:21.722Z"
   },
   {
    "duration": 7,
    "start_time": "2023-05-30T20:23:21.821Z"
   },
   {
    "duration": 16,
    "start_time": "2023-05-30T20:23:21.829Z"
   },
   {
    "duration": 11,
    "start_time": "2023-05-30T20:23:21.847Z"
   },
   {
    "duration": 167,
    "start_time": "2023-05-30T20:23:21.859Z"
   },
   {
    "duration": 3,
    "start_time": "2023-05-30T20:23:45.514Z"
   },
   {
    "duration": 36,
    "start_time": "2023-05-30T20:23:45.521Z"
   },
   {
    "duration": 10,
    "start_time": "2023-05-30T20:23:45.558Z"
   },
   {
    "duration": 25,
    "start_time": "2023-05-30T20:23:45.569Z"
   },
   {
    "duration": 4,
    "start_time": "2023-05-30T20:23:45.596Z"
   },
   {
    "duration": 15,
    "start_time": "2023-05-30T20:23:45.602Z"
   },
   {
    "duration": 3,
    "start_time": "2023-05-30T20:23:45.619Z"
   },
   {
    "duration": 295,
    "start_time": "2023-05-30T20:23:45.624Z"
   },
   {
    "duration": 530,
    "start_time": "2023-05-30T20:23:45.921Z"
   },
   {
    "duration": 4,
    "start_time": "2023-05-30T20:23:46.453Z"
   },
   {
    "duration": 9,
    "start_time": "2023-05-30T20:23:46.459Z"
   },
   {
    "duration": 7,
    "start_time": "2023-05-30T20:23:46.470Z"
   },
   {
    "duration": 40,
    "start_time": "2023-05-30T20:23:46.479Z"
   },
   {
    "duration": 17,
    "start_time": "2023-05-30T20:23:46.520Z"
   },
   {
    "duration": 87,
    "start_time": "2023-05-30T20:23:46.539Z"
   },
   {
    "duration": 192,
    "start_time": "2023-05-30T20:23:46.627Z"
   },
   {
    "duration": 104,
    "start_time": "2023-05-30T20:23:46.821Z"
   },
   {
    "duration": 3,
    "start_time": "2023-05-30T20:23:46.927Z"
   },
   {
    "duration": 14,
    "start_time": "2023-05-30T20:23:46.932Z"
   },
   {
    "duration": 4,
    "start_time": "2023-05-30T20:23:46.948Z"
   },
   {
    "duration": 69,
    "start_time": "2023-05-30T20:23:46.953Z"
   },
   {
    "duration": 94,
    "start_time": "2023-05-30T20:23:47.024Z"
   },
   {
    "duration": 16,
    "start_time": "2023-05-30T20:23:47.119Z"
   },
   {
    "duration": 97,
    "start_time": "2023-05-30T20:23:47.137Z"
   },
   {
    "duration": 185,
    "start_time": "2023-05-30T20:23:47.236Z"
   },
   {
    "duration": 16,
    "start_time": "2023-05-30T20:23:47.423Z"
   },
   {
    "duration": 186,
    "start_time": "2023-05-30T20:23:47.440Z"
   },
   {
    "duration": 16,
    "start_time": "2023-05-30T20:23:47.628Z"
   },
   {
    "duration": 1838,
    "start_time": "2023-05-31T03:37:14.535Z"
   },
   {
    "duration": 121,
    "start_time": "2023-05-31T03:37:16.375Z"
   },
   {
    "duration": 10,
    "start_time": "2023-05-31T03:37:16.498Z"
   },
   {
    "duration": 38,
    "start_time": "2023-05-31T03:37:16.510Z"
   },
   {
    "duration": 4,
    "start_time": "2023-05-31T03:37:16.549Z"
   },
   {
    "duration": 5,
    "start_time": "2023-05-31T03:37:16.555Z"
   },
   {
    "duration": 13,
    "start_time": "2023-05-31T03:37:16.562Z"
   },
   {
    "duration": 347,
    "start_time": "2023-05-31T03:37:16.576Z"
   },
   {
    "duration": 515,
    "start_time": "2023-05-31T03:37:16.924Z"
   },
   {
    "duration": 4,
    "start_time": "2023-05-31T03:37:17.442Z"
   },
   {
    "duration": 57,
    "start_time": "2023-05-31T03:37:17.447Z"
   },
   {
    "duration": 51,
    "start_time": "2023-05-31T03:37:17.505Z"
   },
   {
    "duration": 22,
    "start_time": "2023-05-31T03:37:17.557Z"
   },
   {
    "duration": 7,
    "start_time": "2023-05-31T03:37:17.585Z"
   },
   {
    "duration": 196,
    "start_time": "2023-05-31T03:37:17.593Z"
   },
   {
    "duration": 100,
    "start_time": "2023-05-31T03:37:17.790Z"
   },
   {
    "duration": 194,
    "start_time": "2023-05-31T03:37:17.892Z"
   },
   {
    "duration": 5,
    "start_time": "2023-05-31T03:37:18.087Z"
   },
   {
    "duration": 11,
    "start_time": "2023-05-31T03:37:18.094Z"
   },
   {
    "duration": 11,
    "start_time": "2023-05-31T03:37:18.106Z"
   },
   {
    "duration": 68,
    "start_time": "2023-05-31T03:37:18.119Z"
   },
   {
    "duration": 101,
    "start_time": "2023-05-31T03:37:18.188Z"
   },
   {
    "duration": 11,
    "start_time": "2023-05-31T03:37:18.291Z"
   },
   {
    "duration": 183,
    "start_time": "2023-05-31T03:37:18.303Z"
   },
   {
    "duration": 100,
    "start_time": "2023-05-31T03:37:18.488Z"
   },
   {
    "duration": 7,
    "start_time": "2023-05-31T03:37:18.590Z"
   },
   {
    "duration": 200,
    "start_time": "2023-05-31T03:37:18.598Z"
   },
   {
    "duration": 43,
    "start_time": "2023-05-31T03:37:18.800Z"
   },
   {
    "duration": 11,
    "start_time": "2023-05-31T03:38:01.095Z"
   },
   {
    "duration": 4,
    "start_time": "2023-05-31T03:38:31.527Z"
   },
   {
    "duration": 10,
    "start_time": "2023-05-31T03:38:34.751Z"
   },
   {
    "duration": 10,
    "start_time": "2023-05-31T03:39:03.887Z"
   },
   {
    "duration": 115,
    "start_time": "2023-05-31T03:39:19.666Z"
   },
   {
    "duration": 11,
    "start_time": "2023-05-31T03:39:32.008Z"
   },
   {
    "duration": 11,
    "start_time": "2023-05-31T03:42:06.107Z"
   },
   {
    "duration": 3,
    "start_time": "2023-05-31T03:42:36.161Z"
   },
   {
    "duration": 11,
    "start_time": "2023-05-31T03:42:38.801Z"
   },
   {
    "duration": 14,
    "start_time": "2023-05-31T03:45:45.977Z"
   },
   {
    "duration": 3,
    "start_time": "2023-05-31T03:46:03.114Z"
   },
   {
    "duration": 12,
    "start_time": "2023-05-31T03:46:03.472Z"
   },
   {
    "duration": 4,
    "start_time": "2023-05-31T03:46:14.940Z"
   },
   {
    "duration": 9,
    "start_time": "2023-05-31T03:46:15.347Z"
   },
   {
    "duration": 3,
    "start_time": "2023-05-31T03:47:13.843Z"
   },
   {
    "duration": 11,
    "start_time": "2023-05-31T03:47:14.253Z"
   },
   {
    "duration": 3,
    "start_time": "2023-05-31T03:47:31.262Z"
   },
   {
    "duration": 10,
    "start_time": "2023-05-31T03:47:31.833Z"
   },
   {
    "duration": 3,
    "start_time": "2023-05-31T03:49:05.222Z"
   },
   {
    "duration": 9,
    "start_time": "2023-05-31T03:49:06.634Z"
   },
   {
    "duration": 4,
    "start_time": "2023-05-31T03:53:42.053Z"
   },
   {
    "duration": 10,
    "start_time": "2023-05-31T03:53:42.896Z"
   },
   {
    "duration": 4,
    "start_time": "2023-05-31T03:59:47.277Z"
   },
   {
    "duration": 9,
    "start_time": "2023-05-31T03:59:47.484Z"
   },
   {
    "duration": 3,
    "start_time": "2023-05-31T04:07:54.767Z"
   },
   {
    "duration": 10,
    "start_time": "2023-05-31T04:07:55.012Z"
   },
   {
    "duration": 4,
    "start_time": "2023-05-31T04:08:09.442Z"
   },
   {
    "duration": 9,
    "start_time": "2023-05-31T04:08:09.638Z"
   },
   {
    "duration": 3,
    "start_time": "2023-05-31T04:08:27.667Z"
   },
   {
    "duration": 8,
    "start_time": "2023-05-31T04:08:28.088Z"
   },
   {
    "duration": 3,
    "start_time": "2023-05-31T04:08:37.987Z"
   },
   {
    "duration": 8,
    "start_time": "2023-05-31T04:08:38.333Z"
   },
   {
    "duration": 3,
    "start_time": "2023-05-31T04:09:05.610Z"
   },
   {
    "duration": 12,
    "start_time": "2023-05-31T04:09:06.392Z"
   },
   {
    "duration": 3,
    "start_time": "2023-05-31T04:09:33.029Z"
   },
   {
    "duration": 9,
    "start_time": "2023-05-31T04:09:33.699Z"
   },
   {
    "duration": 3,
    "start_time": "2023-05-31T04:10:19.201Z"
   },
   {
    "duration": 9,
    "start_time": "2023-05-31T04:10:19.445Z"
   },
   {
    "duration": 5,
    "start_time": "2023-05-31T04:10:20.032Z"
   },
   {
    "duration": 10,
    "start_time": "2023-05-31T04:14:33.576Z"
   },
   {
    "duration": 3,
    "start_time": "2023-05-31T04:15:33.379Z"
   },
   {
    "duration": 9,
    "start_time": "2023-05-31T04:15:33.778Z"
   },
   {
    "duration": 3,
    "start_time": "2023-05-31T04:16:24.602Z"
   },
   {
    "duration": 12,
    "start_time": "2023-05-31T04:16:25.133Z"
   },
   {
    "duration": 19,
    "start_time": "2023-05-31T04:16:31.550Z"
   },
   {
    "duration": 4,
    "start_time": "2023-05-31T04:16:43.805Z"
   },
   {
    "duration": 14,
    "start_time": "2023-05-31T04:16:44.356Z"
   },
   {
    "duration": 7,
    "start_time": "2023-05-31T04:16:46.769Z"
   },
   {
    "duration": 3,
    "start_time": "2023-05-31T04:16:56.816Z"
   },
   {
    "duration": 15,
    "start_time": "2023-05-31T04:16:57.000Z"
   },
   {
    "duration": 3,
    "start_time": "2023-05-31T04:17:10.934Z"
   },
   {
    "duration": 16,
    "start_time": "2023-05-31T04:17:11.238Z"
   },
   {
    "duration": 4,
    "start_time": "2023-05-31T04:17:37.063Z"
   },
   {
    "duration": 16,
    "start_time": "2023-05-31T04:17:38.196Z"
   },
   {
    "duration": 3,
    "start_time": "2023-05-31T04:17:54.676Z"
   },
   {
    "duration": 14,
    "start_time": "2023-05-31T04:17:54.988Z"
   },
   {
    "duration": 4,
    "start_time": "2023-05-31T04:18:06.996Z"
   },
   {
    "duration": 16,
    "start_time": "2023-05-31T04:18:07.346Z"
   },
   {
    "duration": 4,
    "start_time": "2023-05-31T04:19:33.656Z"
   },
   {
    "duration": 10,
    "start_time": "2023-05-31T04:19:34.604Z"
   },
   {
    "duration": 16,
    "start_time": "2023-05-31T04:19:46.243Z"
   },
   {
    "duration": 3,
    "start_time": "2023-05-31T04:20:08.687Z"
   },
   {
    "duration": 9,
    "start_time": "2023-05-31T04:20:08.930Z"
   },
   {
    "duration": 14,
    "start_time": "2023-05-31T04:20:10.196Z"
   },
   {
    "duration": 1656,
    "start_time": "2023-05-31T18:32:44.244Z"
   },
   {
    "duration": 85,
    "start_time": "2023-05-31T18:32:45.902Z"
   },
   {
    "duration": 12,
    "start_time": "2023-05-31T18:32:45.988Z"
   },
   {
    "duration": 41,
    "start_time": "2023-05-31T18:32:46.002Z"
   },
   {
    "duration": 6,
    "start_time": "2023-05-31T18:32:46.044Z"
   },
   {
    "duration": 19,
    "start_time": "2023-05-31T18:32:46.051Z"
   },
   {
    "duration": 8,
    "start_time": "2023-05-31T18:32:46.071Z"
   },
   {
    "duration": 367,
    "start_time": "2023-05-31T18:32:49.905Z"
   },
   {
    "duration": 299,
    "start_time": "2023-05-31T18:33:01.867Z"
   },
   {
    "duration": 276,
    "start_time": "2023-05-31T18:33:08.736Z"
   },
   {
    "duration": 296,
    "start_time": "2023-05-31T18:33:12.109Z"
   },
   {
    "duration": 347,
    "start_time": "2023-05-31T18:33:14.279Z"
   },
   {
    "duration": 2370,
    "start_time": "2023-09-10T15:53:36.215Z"
   },
   {
    "duration": 120,
    "start_time": "2023-09-10T15:53:38.587Z"
   },
   {
    "duration": 18,
    "start_time": "2023-09-10T15:53:38.749Z"
   },
   {
    "duration": 88,
    "start_time": "2023-09-10T15:53:38.769Z"
   },
   {
    "duration": 8,
    "start_time": "2023-09-10T15:53:38.859Z"
   },
   {
    "duration": 18,
    "start_time": "2023-09-10T15:53:38.869Z"
   },
   {
    "duration": 4,
    "start_time": "2023-09-10T15:53:38.946Z"
   },
   {
    "duration": 640,
    "start_time": "2023-09-10T15:53:38.953Z"
   },
   {
    "duration": 1596,
    "start_time": "2023-09-10T15:53:39.595Z"
   },
   {
    "duration": 6,
    "start_time": "2023-09-10T15:53:41.251Z"
   },
   {
    "duration": 7,
    "start_time": "2023-09-10T15:53:41.259Z"
   },
   {
    "duration": 88,
    "start_time": "2023-09-10T15:53:41.268Z"
   },
   {
    "duration": 5,
    "start_time": "2023-09-10T15:53:41.362Z"
   },
   {
    "duration": 7,
    "start_time": "2023-09-10T15:53:41.448Z"
   },
   {
    "duration": 97,
    "start_time": "2023-09-10T15:53:41.458Z"
   },
   {
    "duration": 195,
    "start_time": "2023-09-10T15:53:41.559Z"
   },
   {
    "duration": 15,
    "start_time": "2023-09-10T15:53:41.756Z"
   },
   {
    "duration": 13,
    "start_time": "2023-09-10T15:53:41.849Z"
   },
   {
    "duration": 22,
    "start_time": "2023-09-10T15:53:41.865Z"
   },
   {
    "duration": 83,
    "start_time": "2023-09-10T15:53:41.891Z"
   },
   {
    "duration": 170,
    "start_time": "2023-09-10T15:53:41.978Z"
   },
   {
    "duration": 6,
    "start_time": "2023-09-10T15:53:42.158Z"
   },
   {
    "duration": 86,
    "start_time": "2023-09-10T15:53:42.167Z"
   },
   {
    "duration": 94,
    "start_time": "2023-09-10T15:53:42.255Z"
   },
   {
    "duration": 203,
    "start_time": "2023-09-10T15:53:42.351Z"
   },
   {
    "duration": 4,
    "start_time": "2023-09-10T15:53:42.557Z"
   },
   {
    "duration": 198,
    "start_time": "2023-09-10T15:53:42.564Z"
   },
   {
    "duration": 99,
    "start_time": "2023-09-10T15:53:42.767Z"
   },
   {
    "duration": 93,
    "start_time": "2023-09-10T15:53:42.868Z"
   },
   {
    "duration": 7,
    "start_time": "2023-09-10T15:55:26.943Z"
   },
   {
    "duration": 15,
    "start_time": "2023-09-10T15:55:29.767Z"
   },
   {
    "duration": 13,
    "start_time": "2023-09-10T15:57:12.763Z"
   }
  ],
  "kernelspec": {
   "display_name": "Python 3 (ipykernel)",
   "language": "python",
   "name": "python3"
  },
  "language_info": {
   "codemirror_mode": {
    "name": "ipython",
    "version": 3
   },
   "file_extension": ".py",
   "mimetype": "text/x-python",
   "name": "python",
   "nbconvert_exporter": "python",
   "pygments_lexer": "ipython3",
   "version": "3.9.5"
  },
  "toc": {
   "base_numbering": 1,
   "nav_menu": {},
   "number_sections": true,
   "sideBar": true,
   "skip_h1_title": true,
   "title_cell": "Содержание",
   "title_sidebar": "Contents",
   "toc_cell": true,
   "toc_position": {
    "height": "calc(100% - 180px)",
    "left": "10px",
    "top": "150px",
    "width": "241.594px"
   },
   "toc_section_display": true,
   "toc_window_display": true
  }
 },
 "nbformat": 4,
 "nbformat_minor": 2
}
