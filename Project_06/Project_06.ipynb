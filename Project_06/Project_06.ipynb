{
 "cells": [
  {
   "cell_type": "markdown",
   "metadata": {
    "toc": true
   },
   "source": [
    "<h1>Содержание<span class=\"tocSkip\"></span></h1>\n",
    "<div class=\"toc\"><ul class=\"toc-item\"><li><span><a href=\"#Подготовка-данных\" data-toc-modified-id=\"Подготовка-данных-1\"><span class=\"toc-item-num\">1&nbsp;&nbsp;</span>Подготовка данных</a></span></li><li><span><a href=\"#Обучение-моделей\" data-toc-modified-id=\"Обучение-моделей-2\"><span class=\"toc-item-num\">2&nbsp;&nbsp;</span>Обучение моделей</a></span></li><li><span><a href=\"#Борьба-с-дисбалансом\" data-toc-modified-id=\"Борьба-с-дисбалансом-3\"><span class=\"toc-item-num\">3&nbsp;&nbsp;</span>Борьба с дисбалансом</a></span><ul class=\"toc-item\"><li><span><a href=\"#Взвешивание-классов\" data-toc-modified-id=\"Взвешивание-классов-3.1\"><span class=\"toc-item-num\">3.1&nbsp;&nbsp;</span>Взвешивание классов</a></span></li><li><span><a href=\"#Увеличение-выборки\" data-toc-modified-id=\"Увеличение-выборки-3.2\"><span class=\"toc-item-num\">3.2&nbsp;&nbsp;</span>Увеличение выборки</a></span></li><li><span><a href=\"#Уменьшение-выборки\" data-toc-modified-id=\"Уменьшение-выборки-3.3\"><span class=\"toc-item-num\">3.3&nbsp;&nbsp;</span>Уменьшение выборки</a></span></li><li><span><a href=\"#Изменение-порога\" data-toc-modified-id=\"Изменение-порога-3.4\"><span class=\"toc-item-num\">3.4&nbsp;&nbsp;</span>Изменение порога</a></span></li></ul></li><li><span><a href=\"#Тестирование-модели\" data-toc-modified-id=\"Тестирование-модели-4\"><span class=\"toc-item-num\">4&nbsp;&nbsp;</span>Тестирование модели</a></span></li><li><span><a href=\"#Вывод\" data-toc-modified-id=\"Вывод-5\"><span class=\"toc-item-num\">5&nbsp;&nbsp;</span>Вывод</a></span></li></ul></div>"
   ]
  },
  {
   "cell_type": "markdown",
   "metadata": {},
   "source": [
    "# Отток клиентов"
   ]
  },
  {
   "cell_type": "markdown",
   "metadata": {},
   "source": [
    "Из «Бета-Банка» стали уходить клиенты. Каждый месяц. Немного, но заметно. Банковские маркетологи посчитали: сохранять текущих клиентов дешевле, чем привлекать новых.\n",
    "\n",
    "Нужно спрогнозировать, уйдёт клиент из банка в ближайшее время или нет. Вам предоставлены исторические данные о поведении клиентов и расторжении договоров с банком. \n",
    "\n",
    "Постройте модель с предельно большим значением *F1*-меры. Чтобы сдать проект успешно, нужно довести метрику до 0.59. Проверьте *F1*-меру на тестовой выборке самостоятельно.\n",
    "\n",
    "Дополнительно измеряйте *AUC-ROC*, сравнивайте её значение с *F1*-мерой.\n",
    "\n",
    "Источник данных: [https://www.kaggle.com/barelydedicated/bank-customer-churn-modeling](https://www.kaggle.com/barelydedicated/bank-customer-churn-modeling)"
   ]
  },
  {
   "cell_type": "markdown",
   "metadata": {},
   "source": [
    "**Цель проекта**  \n",
    "На основании исторических данных попробуем обучить модель прогнозировать возможный уход клиента из банка."
   ]
  },
  {
   "cell_type": "markdown",
   "metadata": {},
   "source": [
    "## Подготовка данных"
   ]
  },
  {
   "cell_type": "code",
   "execution_count": 64,
   "metadata": {},
   "outputs": [],
   "source": [
    "import warnings\n",
    "warnings.filterwarnings('ignore')\n",
    "\n",
    "import pandas as pd\n",
    "import matplotlib.pyplot as plt\n",
    "import numpy as np\n",
    "\n",
    "from sklearn.preprocessing import StandardScaler, OneHotEncoder\n",
    "\n",
    "from sklearn.tree import DecisionTreeClassifier\n",
    "from sklearn.ensemble import RandomForestClassifier\n",
    "from sklearn.linear_model import LogisticRegression\n",
    "\n",
    "from sklearn.model_selection import train_test_split\n",
    "from sklearn.utils import shuffle\n",
    "from sklearn.metrics import \(f1_score, roc_auc_score, recall_score,\n"
                                 accuracy_score, cohen_kappa_score\)\n",
    "\n",
    "from sklearn import tree\n",
    "from seaborn import heatmap, barplot"
   ]
  },
  {
   "cell_type": "code",
   "execution_count": 2,
   "metadata": {
    "scrolled": true
   },
   "outputs": [
    {
     "name": "stdout",
     "output_type": "stream",
     "text": [
      "<class 'pandas.core.frame.DataFrame'>\n",
      "RangeIndex: 10000 entries, 0 to 9999\n",
      "Data columns (total 14 columns):\n",
      " #   Column           Non-Null Count  Dtype  \n",
      "---  ------           --------------  -----  \n",
      " 0   RowNumber        10000 non-null  int64  \n",
      " 1   CustomerId       10000 non-null  int64  \n",
      " 2   Surname          10000 non-null  object \n",
      " 3   CreditScore      10000 non-null  int64  \n",
      " 4   Geography        10000 non-null  object \n",
      " 5   Gender           10000 non-null  object \n",
      " 6   Age              10000 non-null  int64  \n",
      " 7   Tenure           9091 non-null   float64\n",
      " 8   Balance          10000 non-null  float64\n",
      " 9   NumOfProducts    10000 non-null  int64  \n",
      " 10  HasCrCard        10000 non-null  int64  \n",
      " 11  IsActiveMember   10000 non-null  int64  \n",
      " 12  EstimatedSalary  10000 non-null  float64\n",
      " 13  Exited           10000 non-null  int64  \n",
      "dtypes: float64(3), int64(8), object(3)\n",
      "memory usage: 1.1+ MB\n",
      "None\n"
     ]
    },
    {
     "data": {
      "text/html": [
       "<div>\n",
       "<style scoped>\n",
       "    .dataframe tbody tr th:only-of-type {\n",
       "        vertical-align: middle;\n",
       "    }\n",
       "\n",
       "    .dataframe tbody tr th {\n",
       "        vertical-align: top;\n",
       "    }\n",
       "\n",
       "    .dataframe thead th {\n",
       "        text-align: right;\n",
       "    }\n",
       "</style>\n",
       "<table border=\"1\" class=\"dataframe\">\n",
       "  <thead>\n",
       "    <tr style=\"text-align: right;\">\n",
       "      <th></th>\n",
       "      <th>RowNumber</th>\n",
       "      <th>CustomerId</th>\n",
       "      <th>Surname</th>\n",
       "      <th>CreditScore</th>\n",
       "      <th>Geography</th>\n",
       "      <th>Gender</th>\n",
       "      <th>Age</th>\n",
       "      <th>Tenure</th>\n",
       "      <th>Balance</th>\n",
       "      <th>NumOfProducts</th>\n",
       "      <th>HasCrCard</th>\n",
       "      <th>IsActiveMember</th>\n",
       "      <th>EstimatedSalary</th>\n",
       "      <th>Exited</th>\n",
       "    </tr>\n",
       "  </thead>\n",
       "  <tbody>\n",
       "    <tr>\n",
       "      <th>0</th>\n",
       "      <td>1</td>\n",
       "      <td>15634602</td>\n",
       "      <td>Hargrave</td>\n",
       "      <td>619</td>\n",
       "      <td>France</td>\n",
       "      <td>Female</td>\n",
       "      <td>42</td>\n",
       "      <td>2.0</td>\n",
       "      <td>0.00</td>\n",
       "      <td>1</td>\n",
       "      <td>1</td>\n",
       "      <td>1</td>\n",
       "      <td>101348.88</td>\n",
       "      <td>1</td>\n",
       "    </tr>\n",
       "    <tr>\n",
       "      <th>1</th>\n",
       "      <td>2</td>\n",
       "      <td>15647311</td>\n",
       "      <td>Hill</td>\n",
       "      <td>608</td>\n",
       "      <td>Spain</td>\n",
       "      <td>Female</td>\n",
       "      <td>41</td>\n",
       "      <td>1.0</td>\n",
       "      <td>83807.86</td>\n",
       "      <td>1</td>\n",
       "      <td>0</td>\n",
       "      <td>1</td>\n",
       "      <td>112542.58</td>\n",
       "      <td>0</td>\n",
       "    </tr>\n",
       "    <tr>\n",
       "      <th>2</th>\n",
       "      <td>3</td>\n",
       "      <td>15619304</td>\n",
       "      <td>Onio</td>\n",
       "      <td>502</td>\n",
       "      <td>France</td>\n",
       "      <td>Female</td>\n",
       "      <td>42</td>\n",
       "      <td>8.0</td>\n",
       "      <td>159660.80</td>\n",
       "      <td>3</td>\n",
       "      <td>1</td>\n",
       "      <td>0</td>\n",
       "      <td>113931.57</td>\n",
       "      <td>1</td>\n",
       "    </tr>\n",
       "    <tr>\n",
       "      <th>3</th>\n",
       "      <td>4</td>\n",
       "      <td>15701354</td>\n",
       "      <td>Boni</td>\n",
       "      <td>699</td>\n",
       "      <td>France</td>\n",
       "      <td>Female</td>\n",
       "      <td>39</td>\n",
       "      <td>1.0</td>\n",
       "      <td>0.00</td>\n",
       "      <td>2</td>\n",
       "      <td>0</td>\n",
       "      <td>0</td>\n",
       "      <td>93826.63</td>\n",
       "      <td>0</td>\n",
       "    </tr>\n",
       "    <tr>\n",
       "      <th>4</th>\n",
       "      <td>5</td>\n",
       "      <td>15737888</td>\n",
       "      <td>Mitchell</td>\n",
       "      <td>850</td>\n",
       "      <td>Spain</td>\n",
       "      <td>Female</td>\n",
       "      <td>43</td>\n",
       "      <td>2.0</td>\n",
       "      <td>125510.82</td>\n",
       "      <td>1</td>\n",
       "      <td>1</td>\n",
       "      <td>1</td>\n",
       "      <td>79084.10</td>\n",
       "      <td>0</td>\n",
       "    </tr>\n",
       "    <tr>\n",
       "      <th>5</th>\n",
       "      <td>6</td>\n",
       "      <td>15574012</td>\n",
       "      <td>Chu</td>\n",
       "      <td>645</td>\n",
       "      <td>Spain</td>\n",
       "      <td>Male</td>\n",
       "      <td>44</td>\n",
       "      <td>8.0</td>\n",
       "      <td>113755.78</td>\n",
       "      <td>2</td>\n",
       "      <td>1</td>\n",
       "      <td>0</td>\n",
       "      <td>149756.71</td>\n",
       "      <td>1</td>\n",
       "    </tr>\n",
       "    <tr>\n",
       "      <th>6</th>\n",
       "      <td>7</td>\n",
       "      <td>15592531</td>\n",
       "      <td>Bartlett</td>\n",
       "      <td>822</td>\n",
       "      <td>France</td>\n",
       "      <td>Male</td>\n",
       "      <td>50</td>\n",
       "      <td>7.0</td>\n",
       "      <td>0.00</td>\n",
       "      <td>2</td>\n",
       "      <td>1</td>\n",
       "      <td>1</td>\n",
       "      <td>10062.80</td>\n",
       "      <td>0</td>\n",
       "    </tr>\n",
       "    <tr>\n",
       "      <th>7</th>\n",
       "      <td>8</td>\n",
       "      <td>15656148</td>\n",
       "      <td>Obinna</td>\n",
       "      <td>376</td>\n",
       "      <td>Germany</td>\n",
       "      <td>Female</td>\n",
       "      <td>29</td>\n",
       "      <td>4.0</td>\n",
       "      <td>115046.74</td>\n",
       "      <td>4</td>\n",
       "      <td>1</td>\n",
       "      <td>0</td>\n",
       "      <td>119346.88</td>\n",
       "      <td>1</td>\n",
       "    </tr>\n",
       "    <tr>\n",
       "      <th>8</th>\n",
       "      <td>9</td>\n",
       "      <td>15792365</td>\n",
       "      <td>He</td>\n",
       "      <td>501</td>\n",
       "      <td>France</td>\n",
       "      <td>Male</td>\n",
       "      <td>44</td>\n",
       "      <td>4.0</td>\n",
       "      <td>142051.07</td>\n",
       "      <td>2</td>\n",
       "      <td>0</td>\n",
       "      <td>1</td>\n",
       "      <td>74940.50</td>\n",
       "      <td>0</td>\n",
       "    </tr>\n",
       "    <tr>\n",
       "      <th>9</th>\n",
       "      <td>10</td>\n",
       "      <td>15592389</td>\n",
       "      <td>H?</td>\n",
       "      <td>684</td>\n",
       "      <td>France</td>\n",
       "      <td>Male</td>\n",
       "      <td>27</td>\n",
       "      <td>2.0</td>\n",
       "      <td>134603.88</td>\n",
       "      <td>1</td>\n",
       "      <td>1</td>\n",
       "      <td>1</td>\n",
       "      <td>71725.73</td>\n",
       "      <td>0</td>\n",
       "    </tr>\n",
       "    <tr>\n",
       "      <th>10</th>\n",
       "      <td>11</td>\n",
       "      <td>15767821</td>\n",
       "      <td>Bearce</td>\n",
       "      <td>528</td>\n",
       "      <td>France</td>\n",
       "      <td>Male</td>\n",
       "      <td>31</td>\n",
       "      <td>6.0</td>\n",
       "      <td>102016.72</td>\n",
       "      <td>2</td>\n",
       "      <td>0</td>\n",
       "      <td>0</td>\n",
       "      <td>80181.12</td>\n",
       "      <td>0</td>\n",
       "    </tr>\n",
       "    <tr>\n",
       "      <th>11</th>\n",
       "      <td>12</td>\n",
       "      <td>15737173</td>\n",
       "      <td>Andrews</td>\n",
       "      <td>497</td>\n",
       "      <td>Spain</td>\n",
       "      <td>Male</td>\n",
       "      <td>24</td>\n",
       "      <td>3.0</td>\n",
       "      <td>0.00</td>\n",
       "      <td>2</td>\n",
       "      <td>1</td>\n",
       "      <td>0</td>\n",
       "      <td>76390.01</td>\n",
       "      <td>0</td>\n",
       "    </tr>\n",
       "    <tr>\n",
       "      <th>12</th>\n",
       "      <td>13</td>\n",
       "      <td>15632264</td>\n",
       "      <td>Kay</td>\n",
       "      <td>476</td>\n",
       "      <td>France</td>\n",
       "      <td>Female</td>\n",
       "      <td>34</td>\n",
       "      <td>10.0</td>\n",
       "      <td>0.00</td>\n",
       "      <td>2</td>\n",
       "      <td>1</td>\n",
       "      <td>0</td>\n",
       "      <td>26260.98</td>\n",
       "      <td>0</td>\n",
       "    </tr>\n",
       "    <tr>\n",
       "      <th>13</th>\n",
       "      <td>14</td>\n",
       "      <td>15691483</td>\n",
       "      <td>Chin</td>\n",
       "      <td>549</td>\n",
       "      <td>France</td>\n",
       "      <td>Female</td>\n",
       "      <td>25</td>\n",
       "      <td>5.0</td>\n",
       "      <td>0.00</td>\n",
       "      <td>2</td>\n",
       "      <td>0</td>\n",
       "      <td>0</td>\n",
       "      <td>190857.79</td>\n",
       "      <td>0</td>\n",
       "    </tr>\n",
       "    <tr>\n",
       "      <th>14</th>\n",
       "      <td>15</td>\n",
       "      <td>15600882</td>\n",
       "      <td>Scott</td>\n",
       "      <td>635</td>\n",
       "      <td>Spain</td>\n",
       "      <td>Female</td>\n",
       "      <td>35</td>\n",
       "      <td>7.0</td>\n",
       "      <td>0.00</td>\n",
       "      <td>2</td>\n",
       "      <td>1</td>\n",
       "      <td>1</td>\n",
       "      <td>65951.65</td>\n",
       "      <td>0</td>\n",
       "    </tr>\n",
       "  </tbody>\n",
       "</table>\n",
       "</div>"
      ],
      "text/plain": [
       "    RowNumber  CustomerId   Surname  CreditScore Geography  Gender  Age  \\\n",
       "0           1    15634602  Hargrave          619    France  Female   42   \n",
       "1           2    15647311      Hill          608     Spain  Female   41   \n",
       "2           3    15619304      Onio          502    France  Female   42   \n",
       "3           4    15701354      Boni          699    France  Female   39   \n",
       "4           5    15737888  Mitchell          850     Spain  Female   43   \n",
       "5           6    15574012       Chu          645     Spain    Male   44   \n",
       "6           7    15592531  Bartlett          822    France    Male   50   \n",
       "7           8    15656148    Obinna          376   Germany  Female   29   \n",
       "8           9    15792365        He          501    France    Male   44   \n",
       "9          10    15592389        H?          684    France    Male   27   \n",
       "10         11    15767821    Bearce          528    France    Male   31   \n",
       "11         12    15737173   Andrews          497     Spain    Male   24   \n",
       "12         13    15632264       Kay          476    France  Female   34   \n",
       "13         14    15691483      Chin          549    France  Female   25   \n",
       "14         15    15600882     Scott          635     Spain  Female   35   \n",
       "\n",
       "    Tenure    Balance  NumOfProducts  HasCrCard  IsActiveMember  \\\n",
       "0      2.0       0.00              1          1               1   \n",
       "1      1.0   83807.86              1          0               1   \n",
       "2      8.0  159660.80              3          1               0   \n",
       "3      1.0       0.00              2          0               0   \n",
       "4      2.0  125510.82              1          1               1   \n",
       "5      8.0  113755.78              2          1               0   \n",
       "6      7.0       0.00              2          1               1   \n",
       "7      4.0  115046.74              4          1               0   \n",
       "8      4.0  142051.07              2          0               1   \n",
       "9      2.0  134603.88              1          1               1   \n",
       "10     6.0  102016.72              2          0               0   \n",
       "11     3.0       0.00              2          1               0   \n",
       "12    10.0       0.00              2          1               0   \n",
       "13     5.0       0.00              2          0               0   \n",
       "14     7.0       0.00              2          1               1   \n",
       "\n",
       "    EstimatedSalary  Exited  \n",
       "0         101348.88       1  \n",
       "1         112542.58       0  \n",
       "2         113931.57       1  \n",
       "3          93826.63       0  \n",
       "4          79084.10       0  \n",
       "5         149756.71       1  \n",
       "6          10062.80       0  \n",
       "7         119346.88       1  \n",
       "8          74940.50       0  \n",
       "9          71725.73       0  \n",
       "10         80181.12       0  \n",
       "11         76390.01       0  \n",
       "12         26260.98       0  \n",
       "13        190857.79       0  \n",
       "14         65951.65       0  "
      ]
     },
     "execution_count": 2,
     "metadata": {},
     "output_type": "execute_result"
    }
   ],
   "source": [
    "df = pd.read_csv('/datasets/Churn.csv')\n",
    "print(df.info())\n",
    "df.head(15)"
   ]
  },
  {
   "cell_type": "markdown",
   "metadata": {},
   "source": [
    "В целом данные чистые, понятные. Пропуски в одном столбце - \"Tenure\", заполним их медианой, чтобы можно было работать дальше и не исказить распределение данных.  "
   ]
  },
  {
   "cell_type": "code",
   "execution_count": 3,
   "metadata": {},
   "outputs": [
    {
     "data": {
      "text/plain": [
       "1.0     952\n",
       "2.0     950\n",
       "8.0     933\n",
       "3.0     928\n",
       "5.0     927\n",
       "7.0     925\n",
       "4.0     885\n",
       "9.0     882\n",
       "6.0     881\n",
       "10.0    446\n",
       "0.0     382\n",
       "Name: Tenure, dtype: int64"
      ]
     },
     "execution_count": 3,
     "metadata": {},
     "output_type": "execute_result"
    }
   ],
   "source": [
    "df.Tenure.value_counts()"
   ]
  },
  {
   "cell_type": "code",
   "execution_count": 4,
   "metadata": {},
   "outputs": [
    {
     "data": {
      "text/plain": [
       "5.0"
      ]
     },
     "execution_count": 4,
     "metadata": {},
     "output_type": "execute_result"
    }
   ],
   "source": [
    "df['Tenure'].median()"
   ]
  },
  {
   "cell_type": "code",
   "execution_count": 5,
   "metadata": {},
   "outputs": [],
   "source": [
    "df['Tenure'] = df['Tenure'].fillna(df['Tenure'].median())"
   ]
  },
  {
   "cell_type": "markdown",
   "metadata": {},
   "source": [
    "Заменим категориальные значения на числовые."
   ]
  },
  {
   "cell_type": "code",
   "execution_count": 6,
   "metadata": {},
   "outputs": [
    {
     "data": {
      "text/html": [
       "<div>\n",
       "<style scoped>\n",
       "    .dataframe tbody tr th:only-of-type {\n",
       "        vertical-align: middle;\n",
       "    }\n",
       "\n",
       "    .dataframe tbody tr th {\n",
       "        vertical-align: top;\n",
       "    }\n",
       "\n",
       "    .dataframe thead th {\n",
       "        text-align: right;\n",
       "    }\n",
       "</style>\n",
       "<table border=\"1\" class=\"dataframe\">\n",
       "  <thead>\n",
       "    <tr style=\"text-align: right;\">\n",
       "      <th></th>\n",
       "      <th>RowNumber</th>\n",
       "      <th>CustomerId</th>\n",
       "      <th>Surname</th>\n",
       "      <th>CreditScore</th>\n",
       "      <th>Geography</th>\n",
       "      <th>Gender</th>\n",
       "      <th>Age</th>\n",
       "      <th>Tenure</th>\n",
       "      <th>Balance</th>\n",
       "      <th>NumOfProducts</th>\n",
       "      <th>HasCrCard</th>\n",
       "      <th>IsActiveMember</th>\n",
       "      <th>EstimatedSalary</th>\n",
       "      <th>Exited</th>\n",
       "    </tr>\n",
       "  </thead>\n",
       "  <tbody>\n",
       "    <tr>\n",
       "      <th>0</th>\n",
       "      <td>1</td>\n",
       "      <td>15634602</td>\n",
       "      <td>Hargrave</td>\n",
       "      <td>619</td>\n",
       "      <td>France</td>\n",
       "      <td>Female</td>\n",
       "      <td>42</td>\n",
       "      <td>2.0</td>\n",
       "      <td>0.00</td>\n",
       "      <td>1</td>\n",
       "      <td>1</td>\n",
       "      <td>1</td>\n",
       "      <td>101348.88</td>\n",
       "      <td>1</td>\n",
       "    </tr>\n",
       "    <tr>\n",
       "      <th>1</th>\n",
       "      <td>2</td>\n",
       "      <td>15647311</td>\n",
       "      <td>Hill</td>\n",
       "      <td>608</td>\n",
       "      <td>Spain</td>\n",
       "      <td>Female</td>\n",
       "      <td>41</td>\n",
       "      <td>1.0</td>\n",
       "      <td>83807.86</td>\n",
       "      <td>1</td>\n",
       "      <td>0</td>\n",
       "      <td>1</td>\n",
       "      <td>112542.58</td>\n",
       "      <td>0</td>\n",
       "    </tr>\n",
       "    <tr>\n",
       "      <th>2</th>\n",
       "      <td>3</td>\n",
       "      <td>15619304</td>\n",
       "      <td>Onio</td>\n",
       "      <td>502</td>\n",
       "      <td>France</td>\n",
       "      <td>Female</td>\n",
       "      <td>42</td>\n",
       "      <td>8.0</td>\n",
       "      <td>159660.80</td>\n",
       "      <td>3</td>\n",
       "      <td>1</td>\n",
       "      <td>0</td>\n",
       "      <td>113931.57</td>\n",
       "      <td>1</td>\n",
       "    </tr>\n",
       "    <tr>\n",
       "      <th>3</th>\n",
       "      <td>4</td>\n",
       "      <td>15701354</td>\n",
       "      <td>Boni</td>\n",
       "      <td>699</td>\n",
       "      <td>France</td>\n",
       "      <td>Female</td>\n",
       "      <td>39</td>\n",
       "      <td>1.0</td>\n",
       "      <td>0.00</td>\n",
       "      <td>2</td>\n",
       "      <td>0</td>\n",
       "      <td>0</td>\n",
       "      <td>93826.63</td>\n",
       "      <td>0</td>\n",
       "    </tr>\n",
       "    <tr>\n",
       "      <th>4</th>\n",
       "      <td>5</td>\n",
       "      <td>15737888</td>\n",
       "      <td>Mitchell</td>\n",
       "      <td>850</td>\n",
       "      <td>Spain</td>\n",
       "      <td>Female</td>\n",
       "      <td>43</td>\n",
       "      <td>2.0</td>\n",
       "      <td>125510.82</td>\n",
       "      <td>1</td>\n",
       "      <td>1</td>\n",
       "      <td>1</td>\n",
       "      <td>79084.10</td>\n",
       "      <td>0</td>\n",
       "    </tr>\n",
       "  </tbody>\n",
       "</table>\n",
       "</div>"
      ],
      "text/plain": [
       "   RowNumber  CustomerId   Surname  CreditScore Geography  Gender  Age  \\\n",
       "0          1    15634602  Hargrave          619    France  Female   42   \n",
       "1          2    15647311      Hill          608     Spain  Female   41   \n",
       "2          3    15619304      Onio          502    France  Female   42   \n",
       "3          4    15701354      Boni          699    France  Female   39   \n",
       "4          5    15737888  Mitchell          850     Spain  Female   43   \n",
       "\n",
       "   Tenure    Balance  NumOfProducts  HasCrCard  IsActiveMember  \\\n",
       "0     2.0       0.00              1          1               1   \n",
       "1     1.0   83807.86              1          0               1   \n",
       "2     8.0  159660.80              3          1               0   \n",
       "3     1.0       0.00              2          0               0   \n",
       "4     2.0  125510.82              1          1               1   \n",
       "\n",
       "   EstimatedSalary  Exited  \n",
       "0        101348.88       1  \n",
       "1        112542.58       0  \n",
       "2        113931.57       1  \n",
       "3         93826.63       0  \n",
       "4         79084.10       0  "
      ]
     },
     "execution_count": 6,
     "metadata": {},
     "output_type": "execute_result"
    }
   ],
   "source": [
    "df.head()"
   ]
  },
  {
   "cell_type": "code",
   "execution_count": 7,
   "metadata": {},
   "outputs": [],
   "source": [
    "target = df['Exited']\n",
    "features = df.drop(['Exited', 'CustomerId', 'Surname', 'RowNumber'], axis=1)"
   ]
  },
  {
   "cell_type": "code",
   "execution_count": 55,
   "metadata": {},
   "outputs": [
    {
     "data": {
      "text/plain": [
       "((6000, 10), (6000,), (2000, 10), (2000,), (2000, 10), (2000,))"
      ]
     },
     "execution_count": 55,
     "metadata": {},
     "output_type": "execute_result"
    }
   ],
   "source": [
    "features_train, features_valid, target_train, target_valid = train_test_split(\n",
    "            features, target, test_size = 0.4, random_state=12345, stratify=target)\n",
    "features_valid, features_test, target_valid, target_test = train_test_split(\n",
    "            features_valid, target_valid, test_size=0.5, random_state=12345, stratify=target_valid)\n",
    "features_train.shape, target_train.shape, features_valid.shape, target_valid.shape, features_test.shape, target_test.shape"
   ]
  },
  {
   "cell_type": "markdown",
   "metadata": {},
   "source": [
    "Разделение на выборки прошло успешно - 60-20-20"
   ]
  },
  {
   "cell_type": "code",
   "execution_count": 56,
   "metadata": {},
   "outputs": [
    {
     "name": "stdout",
     "output_type": "stream",
     "text": [
      "['Geography', 'Gender']\n",
      "['CreditScore', 'Age', 'Tenure', 'Balance', 'NumOfProducts', 'HasCrCard', 'IsActiveMember', 'EstimatedSalary']\n"
     ]
    }
   ],
   "source": [
    "#категориальные признаки для OHE \n",
    "ohe_features = features_train.select_dtypes(include='object').columns.to_list()\n",
    "print(ohe_features)\n",
    "\n",
    "#численные признаки\n",
    "num_features = features_train.select_dtypes(exclude='object').columns.to_list()\n",
    "# num_features.remove('SeniorCitizen')\n",
    "print(num_features)"
   ]
  },
  {
   "cell_type": "code",
   "execution_count": 57,
   "metadata": {},
   "outputs": [],
   "source": [
    "encoder_ohe = OneHotEncoder(drop='first', sparse=False)\n",
    "encoder_ohe.fit(features_train[ohe_features])\n",
    "\n",
    "features_train[\n",
    "    encoder_ohe.get_feature_names()\n",
    "] = encoder_ohe.transform(features_train[ohe_features])\n",
    "\n",
    "features_train = features_train.drop(ohe_features, axis=1)"
   ]
  },
  {
   "cell_type": "code",
   "execution_count": 58,
   "metadata": {},
   "outputs": [],
   "source": [
    "features_valid[\n",
    "    encoder_ohe.get_feature_names()\n",
    "] = encoder_ohe.transform(features_valid[ohe_features])\n",
    "\n",
    "# удаляем незакодированные категориальные признаки (изначальные колонки)\n",
    "features_valid = features_valid.drop(ohe_features, axis=1)"
   ]
  },
  {
   "cell_type": "code",
   "execution_count": 59,
   "metadata": {},
   "outputs": [],
   "source": [
    "features_test[\n",
    "    encoder_ohe.get_feature_names()\n",
    "] = encoder_ohe.transform(features_test[ohe_features])\n",
    "\n",
    "# удаляем незакодированные категориальные признаки (изначальные колонки)\n",
    "features_test = features_test.drop(ohe_features, axis=1)"
   ]
  },
  {
   "cell_type": "markdown",
   "metadata": {},
   "source": [
    "Теперь масштабируем все данные"
   ]
  },
  {
   "cell_type": "code",
   "execution_count": 60,
   "metadata": {},
   "outputs": [],
   "source": [
    "pd.options.mode.chained_assignment = None\n",
    "scaler = StandardScaler()\n",
    "num_features = ['CreditScore', 'Age', 'NumOfProducts', 'Tenure', 'EstimatedSalary', 'Balance'] \n",
    "scaler.fit(features_train[num_features])\n",
    "features_train[num_features] = scaler.transform(features_train[num_features])\n",
    "features_valid[num_features] = scaler.transform(features_valid[num_features])\n",
    "features_test[num_features] = scaler.transform(features_test[num_features])"
   ]
  },
  {
   "cell_type": "code",
   "execution_count": 61,
   "metadata": {},
   "outputs": [
    {
     "data": {
      "text/plain": [
       "0    7963\n",
       "1    2037\n",
       "Name: Exited, dtype: int64"
      ]
     },
     "execution_count": 61,
     "metadata": {},
     "output_type": "execute_result"
    }
   ],
   "source": [
    "df.Exited.value_counts()"
   ]
  },
  {
   "cell_type": "markdown",
   "metadata": {},
   "source": [
    "Видим большой разброс в целевом признаке, явно без балансировки не обойтись, но чтобы убедиться, попробуем обучить модель без нее."
   ]
  },
  {
   "cell_type": "code",
   "execution_count": 15,
   "metadata": {},
   "outputs": [
    {
     "data": {
      "text/plain": [
       "<AxesSubplot:>"
      ]
     },
     "execution_count": 15,
     "metadata": {},
     "output_type": "execute_result"
    },
    {
     "data": {
      "image/png": "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\n",
      "text/plain": [
       "<Figure size 432x288 with 2 Axes>"
      ]
     },
     "metadata": {
      "needs_background": "light"
     },
     "output_type": "display_data"
    }
   ],
   "source": [
    "heatmap(df.corr())"
   ]
  },
  {
   "cell_type": "markdown",
   "metadata": {},
   "source": [
    "Корреляция между признаками стабильно низкая, значит она не помешает модели обучаться."
   ]
  },
  {
   "cell_type": "code",
   "execution_count": 16,
   "metadata": {},
   "outputs": [
    {
     "data": {
      "text/html": [
       "<div>\n",
       "<style scoped>\n",
       "    .dataframe tbody tr th:only-of-type {\n",
       "        vertical-align: middle;\n",
       "    }\n",
       "\n",
       "    .dataframe tbody tr th {\n",
       "        vertical-align: top;\n",
       "    }\n",
       "\n",
       "    .dataframe thead th {\n",
       "        text-align: right;\n",
       "    }\n",
       "</style>\n",
       "<table border=\"1\" class=\"dataframe\">\n",
       "  <thead>\n",
       "    <tr style=\"text-align: right;\">\n",
       "      <th></th>\n",
       "      <th>CreditScore</th>\n",
       "      <th>Age</th>\n",
       "      <th>Tenure</th>\n",
       "      <th>Balance</th>\n",
       "      <th>NumOfProducts</th>\n",
       "      <th>HasCrCard</th>\n",
       "      <th>IsActiveMember</th>\n",
       "      <th>EstimatedSalary</th>\n",
       "      <th>x0_Germany</th>\n",
       "      <th>x0_Spain</th>\n",
       "      <th>x1_Male</th>\n",
       "    </tr>\n",
       "  </thead>\n",
       "  <tbody>\n",
       "    <tr>\n",
       "      <th>2837</th>\n",
       "      <td>-1.040434</td>\n",
       "      <td>0.953312</td>\n",
       "      <td>0.360600</td>\n",
       "      <td>0.774657</td>\n",
       "      <td>-0.914708</td>\n",
       "      <td>0</td>\n",
       "      <td>1</td>\n",
       "      <td>-0.119110</td>\n",
       "      <td>1.0</td>\n",
       "      <td>0.0</td>\n",
       "      <td>0.0</td>\n",
       "    </tr>\n",
       "    <tr>\n",
       "      <th>9925</th>\n",
       "      <td>0.454006</td>\n",
       "      <td>-0.095244</td>\n",
       "      <td>-0.002786</td>\n",
       "      <td>1.910540</td>\n",
       "      <td>-0.914708</td>\n",
       "      <td>1</td>\n",
       "      <td>1</td>\n",
       "      <td>-0.258658</td>\n",
       "      <td>0.0</td>\n",
       "      <td>0.0</td>\n",
       "      <td>0.0</td>\n",
       "    </tr>\n",
       "    <tr>\n",
       "      <th>8746</th>\n",
       "      <td>0.103585</td>\n",
       "      <td>-0.476537</td>\n",
       "      <td>1.087371</td>\n",
       "      <td>0.481608</td>\n",
       "      <td>0.820981</td>\n",
       "      <td>0</td>\n",
       "      <td>1</td>\n",
       "      <td>1.422836</td>\n",
       "      <td>0.0</td>\n",
       "      <td>0.0</td>\n",
       "      <td>1.0</td>\n",
       "    </tr>\n",
       "    <tr>\n",
       "      <th>660</th>\n",
       "      <td>-0.184996</td>\n",
       "      <td>0.190726</td>\n",
       "      <td>-0.002786</td>\n",
       "      <td>0.088439</td>\n",
       "      <td>-0.914708</td>\n",
       "      <td>1</td>\n",
       "      <td>1</td>\n",
       "      <td>-1.160427</td>\n",
       "      <td>1.0</td>\n",
       "      <td>0.0</td>\n",
       "      <td>0.0</td>\n",
       "    </tr>\n",
       "    <tr>\n",
       "      <th>3610</th>\n",
       "      <td>-0.720933</td>\n",
       "      <td>1.620574</td>\n",
       "      <td>-1.456328</td>\n",
       "      <td>0.879129</td>\n",
       "      <td>-0.914708</td>\n",
       "      <td>1</td>\n",
       "      <td>0</td>\n",
       "      <td>0.113236</td>\n",
       "      <td>0.0</td>\n",
       "      <td>0.0</td>\n",
       "      <td>0.0</td>\n",
       "    </tr>\n",
       "  </tbody>\n",
       "</table>\n",
       "</div>"
      ],
      "text/plain": [
       "      CreditScore       Age    Tenure   Balance  NumOfProducts  HasCrCard  \\\n",
       "2837    -1.040434  0.953312  0.360600  0.774657      -0.914708          0   \n",
       "9925     0.454006 -0.095244 -0.002786  1.910540      -0.914708          1   \n",
       "8746     0.103585 -0.476537  1.087371  0.481608       0.820981          0   \n",
       "660     -0.184996  0.190726 -0.002786  0.088439      -0.914708          1   \n",
       "3610    -0.720933  1.620574 -1.456328  0.879129      -0.914708          1   \n",
       "\n",
       "      IsActiveMember  EstimatedSalary  x0_Germany  x0_Spain  x1_Male  \n",
       "2837               1        -0.119110         1.0       0.0      0.0  \n",
       "9925               1        -0.258658         0.0       0.0      0.0  \n",
       "8746               1         1.422836         0.0       0.0      1.0  \n",
       "660                1        -1.160427         1.0       0.0      0.0  \n",
       "3610               0         0.113236         0.0       0.0      0.0  "
      ]
     },
     "execution_count": 16,
     "metadata": {},
     "output_type": "execute_result"
    }
   ],
   "source": [
    "features_train.head()"
   ]
  },
  {
   "cell_type": "markdown",
   "metadata": {},
   "source": [
    "**Результат:**  \n",
    "При предобратке мы провели прямое кодирование, масштабировали все признаки, а так же удалили столбцы, которые не помогут модели учиться  \n",
    "Обнаружили несбалансированное распределение целевого признака  \n",
    "Низкая корреляция признаков между собой"
   ]
  },
  {
   "cell_type": "markdown",
   "metadata": {},
   "source": [
    "## Обучение моделей"
   ]
  },
  {
   "cell_type": "code",
   "execution_count": 17,
   "metadata": {},
   "outputs": [
    {
     "name": "stdout",
     "output_type": "stream",
     "text": [
      "Значение F1-меры: 0.3076923076923077\n"
     ]
    }
   ],
   "source": [
    "model_LR = LogisticRegression(random_state=12345, solver='liblinear')\n",
    "model_LR.fit(features_train, target_train)\n",
    "predictions_LR = model_LR.predict(features_valid)\n",
    "\n",
    "print('Значение F1-меры:', f1_score(predictions_LR, target_valid))"
   ]
  },
  {
   "cell_type": "code",
   "execution_count": 18,
   "metadata": {},
   "outputs": [
    {
     "name": "stdout",
     "output_type": "stream",
     "text": [
      "Значение F1-меры: 0.5924855491329479 DecisionTreeClassifier(max_depth=7, random_state=12345)\n"
     ]
    }
   ],
   "source": [
    "best_model_DT = None\n",
    "best_score_DT = 0\n",
    "learning_valid = []\n",
    "learning_train = []\n",
    "\n",
    "for depth in range(1, 15):\n",
    "    model_DT = DecisionTreeClassifier(random_state=12345, max_depth=depth)\n",
    "    model_DT.fit(features_train, target_train)\n",
    "    predictions_DT = model_DT.predict(features_valid)\n",
    "    score = f1_score(target_valid, predictions_DT)\n",
    "    learning_valid.append(score)\n",
    "    predictions_train = model_DT.predict(features_train)\n",
    "    score_train = f1_score(target_train, predictions_train)\n",
    "    learning_train.append(score_train)\n",
    "    if score > best_score_DT:\n",
    "        best_score_DT = score\n",
    "        best_model_DT = model_DT\n",
    "print('Значение F1-меры:', best_score_DT, best_model_DT)"
   ]
  },
  {
   "cell_type": "code",
   "execution_count": 19,
   "metadata": {},
   "outputs": [
    {
     "data": {
      "text/plain": [
       "<function matplotlib.pyplot.show(close=None, block=None)>"
      ]
     },
     "execution_count": 19,
     "metadata": {},
     "output_type": "execute_result"
    },
    {
     "data": {
      "image/png": "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\n",
      "text/plain": [
       "<Figure size 432x288 with 1 Axes>"
      ]
     },
     "metadata": {
      "needs_background": "light"
     },
     "output_type": "display_data"
    }
   ],
   "source": [
    "plt.plot(learning_valid)\n",
    "plt.plot(learning_train)\n",
    "plt.legend(['valid', 'train'])\n",
    "plt.show"
   ]
  },
  {
   "cell_type": "markdown",
   "metadata": {},
   "source": [
    "Модель начинает переобучаться после глубины в 7 условий. Это нам не нужно.  \n",
    "Посмотрим, на основании каких критериев дерево делает разделение."
   ]
  },
  {
   "cell_type": "code",
   "execution_count": 20,
   "metadata": {},
   "outputs": [
    {
     "data": {
      "text/plain": [
       "<function matplotlib.pyplot.show(close=None, block=None)>"
      ]
     },
     "execution_count": 20,
     "metadata": {},
     "output_type": "execute_result"
    },
    {
     "data": {
      "image/png": "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\n",
      "text/plain": [
       "<Figure size 1440x1080 with 1 Axes>"
      ]
     },
     "metadata": {
      "needs_background": "light"
     },
     "output_type": "display_data"
    }
   ],
   "source": [
    "fig, ax = plt.subplots(figsize=(20,15))\n",
    "tree.plot_tree(best_model_DT, fontsize=12, max_depth=3, filled=1, feature_names=features.columns)\n",
    "plt.show"
   ]
  },
  {
   "cell_type": "code",
   "execution_count": 21,
   "metadata": {},
   "outputs": [
    {
     "name": "stdout",
     "output_type": "stream",
     "text": [
      "Значение F1-меры: 0.6490384615384616 RandomForestClassifier(class_weight='balanced', max_depth=10,\n",
      "                       random_state=12345)\n",
      "CPU times: user 59.6 s, sys: 338 ms, total: 59.9 s\n",
      "Wall time: 1min\n"
     ]
    }
   ],
   "source": [
    "%%time\n",
    "\n",
    "best_model_RF = None\n",
    "best_score_RF = 0\n",
    "\n",
    "for depth in range(5, 15): \n",
    "    for num in range(100, 301, 50): \n",
    "        model = RandomForestClassifier(random_state=12345, max_depth=depth, \n",
    "                                       n_estimators=num, class_weight='balanced')\n",
    "        model.fit(features_train, target_train)\n",
    "        predictions_RF = model.predict(features_valid)\n",
    "        score = f1_score(target_valid, predictions_RF)\n",
    "        if score > best_score_RF:\n",
    "            best_score_RF = score\n",
    "            best_model_RF = model\n",
    "print('Значение F1-меры:', best_score_RF, best_model_RF)"
   ]
  },
  {
   "cell_type": "markdown",
   "metadata": {},
   "source": [
    "Случайный Лес показал около 65% по f1, уже неплохо.\n",
    "Но мы еще ничего не делали с тем, что число ушедших клиентов почти в 4 раза меньше, чем оставшихся - разберемся с дисбалансом! "
   ]
  },
  {
   "cell_type": "markdown",
   "metadata": {},
   "source": [
    "## Борьба с дисбалансом"
   ]
  },
  {
   "cell_type": "markdown",
   "metadata": {},
   "source": [
    "### Взвешивание классов"
   ]
  },
  {
   "cell_type": "code",
   "execution_count": 22,
   "metadata": {},
   "outputs": [
    {
     "name": "stdout",
     "output_type": "stream",
     "text": [
      "Значение F1-меры: 0.5289982425307558\n",
      "Показатель roc_auc: 0.7937004261503596\n"
     ]
    }
   ],
   "source": [
    "model_LR = LogisticRegression(random_state=12345, solver='liblinear', class_weight='balanced')\n",
    "model_LR.fit(features_train, target_train)\n",
    "predictions_LR = model_LR.predict(features_valid)\n",
    "f1_LR_balanced = f1_score(predictions_LR, target_valid)\n",
    "print('Значение F1-меры:', f1_LR_balanced)\n",
    "\n",
    "predict_proba_LR = model_LR.predict_proba(features_valid)\n",
    "predict1_LR = predict_proba_LR[:, 1]\n",
    "print(\"Показатель roc_auc:\", roc_auc_score(target_valid, predict1_LR))"
   ]
  },
  {
   "cell_type": "code",
   "execution_count": 23,
   "metadata": {},
   "outputs": [
    {
     "name": "stdout",
     "output_type": "stream",
     "text": [
      "Аккуратность модели на валидационной выборке: 0.575925925925926 DecisionTreeClassifier(class_weight='balanced', max_depth=6, random_state=12345)\n",
      "Показатель roc_auc: 0.8233269595526653\n"
     ]
    }
   ],
   "source": [
    "best_model_DT = None\n",
    "f1_DT_balanced = 0\n",
    "\n",
    "for depth in range(1, 15):\n",
    "    model_DT = DecisionTreeClassifier(random_state=12345, max_depth=depth, class_weight='balanced')\n",
    "    model_DT.fit(features_train, target_train)\n",
    "    predictions_DT = model_DT.predict(features_valid)\n",
    "    score = f1_score(target_valid, predictions_DT)\n",
    "    if score > f1_DT_balanced:\n",
    "        f1_DT_balanced = score\n",
    "        best_model_DT = model_DT\n",
    "        \n",
    "print(\"Аккуратность модели на валидационной выборке:\", f1_DT_balanced, best_model_DT)\n",
    "best_predictions_DT = best_model_DT.predict(features_valid)\n",
    "predict_DT_best = best_model_DT.predict_proba(features_valid)\n",
    "predict1_DT_best = predict_DT_best[:, 1]\n",
    "print(\"Показатель roc_auc:\", roc_auc_score(target_valid, predict1_DT_best))"
   ]
  },
  {
   "cell_type": "code",
   "execution_count": 24,
   "metadata": {},
   "outputs": [
    {
     "name": "stdout",
     "output_type": "stream",
     "text": [
      "Аккуратность модели на валидационной выборке: 0.6490384615384616 RandomForestClassifier(class_weight='balanced', max_depth=10,\n",
      "                       random_state=12345)\n",
      "Показатель roc_auc: 0.8711126096167112\n",
      "CPU times: user 1min 23s, sys: 239 ms, total: 1min 23s\n",
      "Wall time: 1min 23s\n"
     ]
    }
   ],
   "source": [
    "%%time\n",
    "\n",
    "best_model_RF = None\n",
    "f1_RF_balanced = 0\n",
    "#сузил рендж поиска для скорости\n",
    "for depth in range(10, 21): #был 0, 21\n",
    "    for num in range(50, 301, 50): \n",
    "        model = RandomForestClassifier(random_state=12345, max_depth=depth, n_estimators=num, class_weight='balanced')\n",
    "        model.fit(features_train, target_train)\n",
    "        predictions_RF = model.predict(features_valid)\n",
    "        score = f1_score(target_valid, predictions_RF)\n",
    "        if score > f1_RF_balanced:\n",
    "            f1_RF_balanced = score\n",
    "            best_model_RF = model\n",
    "print(\"Аккуратность модели на валидационной выборке:\", f1_RF_balanced, best_model_RF)\n",
    "\n",
    "best_predictions_RF = best_model_RF.predict(features_valid)\n",
    "predict_RF_best = best_model_RF.predict_proba(features_valid)\n",
    "predict1_RF_best = predict_RF_best[:, 1]\n",
    "print(\"Показатель roc_auc:\", roc_auc_score(target_valid, predict1_RF_best))"
   ]
  },
  {
   "cell_type": "markdown",
   "metadata": {},
   "source": [
    "С помощью взвешивания дорастили показатель до 65%"
   ]
  },
  {
   "cell_type": "markdown",
   "metadata": {},
   "source": [
    "### Увеличение выборки"
   ]
  },
  {
   "cell_type": "code",
   "execution_count": 25,
   "metadata": {},
   "outputs": [],
   "source": [
    "def upsample(features, target, repeat):\n",
    "    features_0 = features[target == 0]\n",
    "    features_1 = features[target == 1]\n",
    "    target_0 = target[target == 0]\n",
    "    target_1 = target[target == 1]\n",
    "    \n",
    "    features_upsampled = pd.concat([features_0] + [features_1]*repeat)\n",
    "    target_upsampled = pd.concat([target_0] + [target_1]*repeat)\n",
    "    \n",
    "    features_upsampled, target_upsampled = shuffle(features_upsampled, target_upsampled, random_state=12345)\n",
    "    return features_upsampled, target_upsampled"
   ]
  },
  {
   "cell_type": "code",
   "execution_count": 26,
   "metadata": {},
   "outputs": [],
   "source": [
    "features_upsampled, target_upsampled = upsample(features_train, target_train, 4)"
   ]
  },
  {
   "cell_type": "code",
   "execution_count": 50,
   "metadata": {},
   "outputs": [
    {
     "data": {
      "text/plain": [
       "((9666, 11), (9666,))"
      ]
     },
     "execution_count": 50,
     "metadata": {},
     "output_type": "execute_result"
    }
   ],
   "source": [
    "features_upsampled.shape, target_upsampled.shape"
   ]
  },
  {
   "cell_type": "code",
   "execution_count": 27,
   "metadata": {},
   "outputs": [
    {
     "name": "stdout",
     "output_type": "stream",
     "text": [
      "Значение F1-меры: 0.5246753246753246\n",
      "Показатель roc_auc: 0.7937774041777517\n"
     ]
    }
   ],
   "source": [
    "model_LR = LogisticRegression(random_state=12345, solver='liblinear')\n",
    "model_LR.fit(features_upsampled, target_upsampled)\n",
    "predictions_LR = model_LR.predict(features_valid)\n",
    "f1_LR_upsample = f1_score(predictions_LR, target_valid)\n",
    "print('Значение F1-меры:', f1_LR_upsample)\n",
    "\n",
    "predict_proba_LR = model_LR.predict_proba(features_valid)\n",
    "predict1_LR = predict_proba_LR[:, 1]\n",
    "print(\"Показатель roc_auc:\", roc_auc_score(target_valid, predict1_LR))"
   ]
  },
  {
   "cell_type": "code",
   "execution_count": 28,
   "metadata": {},
   "outputs": [
    {
     "name": "stdout",
     "output_type": "stream",
     "text": [
      "Значение F1-меры: 0.575925925925926 DecisionTreeClassifier(max_depth=6, random_state=12345)\n",
      "Показатель roc_auc: 0.8233423551581437\n"
     ]
    }
   ],
   "source": [
    "best_model_DT = None\n",
    "f1_DT_upsample = 0\n",
    "\n",
    "for depth in range(1, 15):\n",
    "    model_DT = DecisionTreeClassifier(random_state=12345, max_depth=depth)\n",
    "    model_DT.fit(features_upsampled, target_upsampled)\n",
    "    predictions_DT = model_DT.predict(features_valid)\n",
    "    score = f1_score(target_valid, predictions_DT)\n",
    "    if score > f1_DT_upsample:\n",
    "        f1_DT_upsample = score\n",
    "        best_model_DT = model_DT\n",
    "        \n",
    "print('Значение F1-меры:', f1_DT_upsample, best_model_DT)\n",
    "\n",
    "best_predictions_DT = best_model_DT.predict(features_valid)\n",
    "predict_DT_best = best_model_DT.predict_proba(features_valid)\n",
    "predict1_DT_best = predict_DT_best[:, 1]\n",
    "print(\"Показатель roc_auc:\", roc_auc_score(target_valid, predict1_DT_best))"
   ]
  },
  {
   "cell_type": "code",
   "execution_count": 29,
   "metadata": {},
   "outputs": [
    {
     "name": "stdout",
     "output_type": "stream",
     "text": [
      "Значение F1-меры: 0.6469194312796208 RandomForestClassifier(max_depth=12, n_estimators=250, random_state=12345)\n",
      "Показатель roc_auc: 0.8233423551581437\n",
      "CPU times: user 1min 54s, sys: 635 ms, total: 1min 55s\n",
      "Wall time: 1min 55s\n"
     ]
    }
   ],
   "source": [
    "%%time\n",
    "\n",
    "best_model_RF = None\n",
    "f1_RF_upsample = 0\n",
    "#сузил рендж поиска для скорости\n",
    "for depth in range(10, 21): #был 0, 21\n",
    "    for num in range(50, 301, 50): \n",
    "        model = RandomForestClassifier(random_state=12345, max_depth=depth, n_estimators=num)\n",
    "        model.fit(features_upsampled, target_upsampled)\n",
    "        predictions_RF = model.predict(features_valid)\n",
    "        score = f1_score(target_valid, predictions_RF)\n",
    "        if score > f1_RF_upsample:\n",
    "            f1_RF_upsample = score\n",
    "            best_model_RF = model\n",
    "\n",
    "print('Значение F1-меры:', f1_RF_upsample, best_model_RF)\n",
    "\n",
    "best_predictions_DT = best_model_DT.predict(features_valid)\n",
    "predict_DT_best = best_model_DT.predict_proba(features_valid)\n",
    "predict1_DT_best = predict_DT_best[:, 1]\n",
    "print(\"Показатель roc_auc:\", roc_auc_score(target_valid, predict1_DT_best))"
   ]
  },
  {
   "cell_type": "markdown",
   "metadata": {},
   "source": [
    "Увеличение выборки нам не помогло"
   ]
  },
  {
   "cell_type": "markdown",
   "metadata": {},
   "source": [
    "### Уменьшение выборки"
   ]
  },
  {
   "cell_type": "code",
   "execution_count": 30,
   "metadata": {},
   "outputs": [],
   "source": [
    "def downsample(features, target, fraction):\n",
    "    features_0 = features[target == 0]\n",
    "    features_1 = features[target == 1]\n",
    "    target_0 = target[target == 0]\n",
    "    target_1 = target[target == 1]\n",
    "    \n",
    "    features_downsampled = pd.concat([features_0.sample(frac=fraction, random_state=12345)] + [features_1])\n",
    "    target_downsampled = pd.concat([target_0.sample(frac=fraction, random_state=12345)] + [target_1])\n",
    "    \n",
    "    features_downsampled, target_downsampled = shuffle(features_downsampled, target_downsampled, random_state=12345)\n",
    "    return features_downsampled, target_downsampled    "
   ]
  },
  {
   "cell_type": "code",
   "execution_count": 31,
   "metadata": {},
   "outputs": [],
   "source": [
    "features_downsampled, target_downsampled = downsample(features_train, target_train, 0.25)"
   ]
  },
  {
   "cell_type": "code",
   "execution_count": 48,
   "metadata": {},
   "outputs": [
    {
     "data": {
      "text/plain": [
       "((2416, 11), (2416,))"
      ]
     },
     "execution_count": 48,
     "metadata": {},
     "output_type": "execute_result"
    }
   ],
   "source": [
    "features_downsampled.shape, target_downsampled.shape"
   ]
  },
  {
   "cell_type": "code",
   "execution_count": 32,
   "metadata": {},
   "outputs": [
    {
     "name": "stdout",
     "output_type": "stream",
     "text": [
      "Значение F1-меры: 0.5275862068965517\n",
      "Показатель roc_auc: 0.7926027194797518\n"
     ]
    }
   ],
   "source": [
    "model_LR = LogisticRegression(random_state=12345, solver='liblinear')\n",
    "model_LR.fit(features_downsampled, target_downsampled)\n",
    "predictions_LR = model_LR.predict(features_valid)\n",
    "f1_LR_downsample = f1_score(predictions_LR, target_valid)\n",
    "print('Значение F1-меры:', f1_LR_downsample)\n",
    "\n",
    "predict_proba_LR = model_LR.predict_proba(features_valid)\n",
    "predict1_LR = predict_proba_LR[:, 1]\n",
    "print(\"Показатель roc_auc:\", roc_auc_score(target_valid, predict1_LR))"
   ]
  },
  {
   "cell_type": "code",
   "execution_count": 33,
   "metadata": {},
   "outputs": [
    {
     "name": "stdout",
     "output_type": "stream",
     "text": [
      "Аккуратность модели на валидационной выборке: 0.5944919278252612 DecisionTreeClassifier(max_depth=6, random_state=12345)\n",
      "Показатель roc_auc: 0.8477767206128681\n"
     ]
    }
   ],
   "source": [
    "best_model_DT = None\n",
    "best_score_DT = 0\n",
    "\n",
    "for depth in range(1, 15):\n",
    "    model_DT = DecisionTreeClassifier(random_state=12345, max_depth=depth)\n",
    "    model_DT.fit(features_downsampled, target_downsampled)\n",
    "    predictions_DT = model_DT.predict(features_valid)\n",
    "    score = f1_score(target_valid, predictions_DT)\n",
    "    if score > best_score_DT:\n",
    "        best_score_DT = score\n",
    "        best_model_DT = model_DT\n",
    "            \n",
    "print(\"Аккуратность модели на валидационной выборке:\", best_score_DT, best_model_DT)\n",
    "\n",
    "best_predictions_DT = best_model_DT.predict(features_valid)\n",
    "predict_DT_best = best_model_DT.predict_proba(features_valid)\n",
    "predict1_DT_best = predict_DT_best[:, 1]\n",
    "print(\"Показатель roc_auc:\", roc_auc_score(target_valid, predict1_DT_best))\n",
    "\n",
    "f1_DT_downsample = best_score_DT"
   ]
  },
  {
   "cell_type": "code",
   "execution_count": 34,
   "metadata": {},
   "outputs": [
    {
     "name": "stdout",
     "output_type": "stream",
     "text": [
      "Аккуратность модели на валидационной выборке: 0.6206244087038788 RandomForestClassifier(max_depth=10, n_estimators=250, random_state=12345)\n",
      "Показатель roc_auc: 0.8640583431865207\n",
      "CPU times: user 44.2 s, sys: 243 ms, total: 44.5 s\n",
      "Wall time: 44.6 s\n"
     ]
    }
   ],
   "source": [
    "%%time\n",
    "\n",
    "best_model_RF = None\n",
    "best_score_RF = 0\n",
    "#сузил рендж поиска для скорости\n",
    "for depth in range(10, 21): #был 0, 21\n",
    "    for num in range(50, 301, 50): \n",
    "        model = RandomForestClassifier(random_state=12345, max_depth=depth, n_estimators=num)\n",
    "        model.fit(features_downsampled, target_downsampled)\n",
    "        predictions_RF = model.predict(features_valid)\n",
    "        score = f1_score(target_valid, predictions_RF)\n",
    "        if score > best_score_RF:\n",
    "            best_score_RF = score\n",
    "            best_model_RF = model\n",
    "            \n",
    "print(\"Аккуратность модели на валидационной выборке:\", best_score_RF, best_model_RF)\n",
    "\n",
    "best_predictions_RF = best_model_RF.predict(features_valid)\n",
    "predict_RF_best = best_model_RF.predict_proba(features_valid)\n",
    "predict1_RF_best = predict_RF_best[:, 1]\n",
    "print(\"Показатель roc_auc:\", roc_auc_score(target_valid, predict1_RF_best))\n",
    "\n",
    "f1_RF_downsample = best_score_RF"
   ]
  },
  {
   "cell_type": "markdown",
   "metadata": {},
   "source": [
    "Уменьшение выборки показало себя лучше чем увеличение.  \n",
    "Но посмотрим еще один способ борьбы с дисбалансом.  "
   ]
  },
  {
   "cell_type": "markdown",
   "metadata": {},
   "source": [
    "### Изменение порога"
   ]
  },
  {
   "cell_type": "code",
   "execution_count": 35,
   "metadata": {
    "scrolled": false
   },
   "outputs": [
    {
     "name": "stdout",
     "output_type": "stream",
     "text": [
      "0.0 0.3388704318936877\n",
      "0.1 0.4260820685778528\n",
      "0.2 0.506350550381033\n",
      "Показатель roc_auc: 0.7175522218937825\n"
     ]
    }
   ],
   "source": [
    "model_LR = LogisticRegression(random_state=12345, solver='liblinear')\n",
    "model_LR.fit(features_train, target_train)\n",
    "predict_proba_LR = model_LR.predict_proba(features_valid)\n",
    "predict1_LR = predict_proba_LR[:, 1]\n",
    "f1_LR_threshold = 0\n",
    "best_threshold = 0\n",
    "\n",
    "for threshold in np.arange(0, 1.1, 0.1):\n",
    "    prediction_LR = predict1_LR > threshold\n",
    "    if f1_score(prediction_LR, target_valid) > f1_LR_threshold:\n",
    "        f1_LR_threshold = f1_score(prediction_LR, target_valid)\n",
    "        best_threshold = threshold\n",
    "        print(threshold, f1_LR_threshold)\n",
    "        \n",
    "predict1_LR = predict1_LR > best_threshold\n",
    "print(\"Показатель roc_auc:\", roc_auc_score(target_valid, predict1_LR))        "
   ]
  },
  {
   "cell_type": "code",
   "execution_count": 36,
   "metadata": {},
   "outputs": [
    {
     "name": "stdout",
     "output_type": "stream",
     "text": [
      "Лучший показатель f1: 0.6019417475728156 с порогом 0.30000000000000004 DecisionTreeClassifier(max_depth=5, random_state=12345)\n",
      "Показатель roc_auc: 0.849793544930535\n"
     ]
    }
   ],
   "source": [
    "best_model_DT = None\n",
    "f1_DT_threshold = 0\n",
    "for depth in range(1, 15):\n",
    "    model_DT = DecisionTreeClassifier(random_state=12345, max_depth=depth)\n",
    "    model_DT.fit(features_train, target_train)\n",
    "    predict_proba_DT = model_DT.predict_proba(features_valid)\n",
    "    predict1_DT = predict_proba_DT[:, 1]\n",
    "    for threshold in np.arange(0, 1.1, 0.1):\n",
    "        prediction_DT = predict1_DT > threshold\n",
    "        if f1_score(prediction_DT, target_valid) > f1_DT_threshold:\n",
    "            f1_DT_threshold = f1_score(prediction_DT, target_valid)\n",
    "            best_model_DT = model_DT\n",
    "            best_threshold = threshold\n",
    "            \n",
    "print('Лучший показатель f1:', f1_DT_threshold , 'с порогом', best_threshold, best_model_DT)\n",
    "predict_DT_best = best_model_DT.predict_proba(features_valid)\n",
    "predict1_DT_best = predict_DT_best[:, 1]\n",
    "best_predictions_DT = predict1_DT > best_threshold\n",
    "print(\"Показатель roc_auc:\", roc_auc_score(target_valid, predict1_DT_best))"
   ]
  },
  {
   "cell_type": "code",
   "execution_count": 51,
   "metadata": {},
   "outputs": [
    {
     "name": "stdout",
     "output_type": "stream",
     "text": [
      "Лучший показатель f1: 0.6539509536784742 с порогом 0.4 RandomForestClassifier(max_depth=10, n_estimators=250, random_state=12345)\n",
      "Показатель roc_auc: 0.7671075968075672\n",
      "CPU times: user 3min 13s, sys: 535 ms, total: 3min 14s\n",
      "Wall time: 3min 14s\n"
     ]
    }
   ],
   "source": [
    "%%time\n",
    "f1_RF_threshold = 0\n",
    "best_model_RF = None\n",
    "#сузил рендж поиска для скорости\n",
    "for depth in range(4, 12): #был 1, 21\n",
    "    for num in range(50, 301, 10): \n",
    "        model_RF = RandomForestClassifier(random_state=12345, max_depth=depth, n_estimators=num)\n",
    "        model_RF.fit(features_train, target_train)\n",
    "        predict_proba_RF = model_RF.predict_proba(features_valid)\n",
    "        predict1_RF = predict_proba_RF[:, 1]\n",
    "        for threshold in np.arange(0.1, 1.1, 0.1):\n",
    "            prediction_RF = predict1_RF > threshold\n",
    "            if f1_score(prediction_RF, target_valid) > f1_RF_threshold:\n",
    "                f1_RF_threshold = f1_score(prediction_RF, target_valid)\n",
    "                best_model_RF = model_RF\n",
    "                best_threshold = threshold\n",
    "\n",
    "print('Лучший показатель f1:', f1_RF_threshold , 'с порогом', best_threshold, best_model_RF)  \n",
    "predict_proba_RF = best_model_RF.predict_proba(features_valid)\n",
    "predict1_RF = predict_proba_RF[:, 1]\n",
    "best_predictions_RF = predict1_RF > best_threshold\n",
    "print(\"Показатель roc_auc:\", roc_auc_score(target_valid, best_predictions_RF))"
   ]
  },
  {
   "cell_type": "markdown",
   "metadata": {},
   "source": [
    "СЛ показал 0.65 по f1 и 0,77 по auc-roc с порогом 0,4, глубиной 10 и числом деревьев 250.  \n"
   ]
  },
  {
   "cell_type": "code",
   "execution_count": 72,
   "metadata": {},
   "outputs": [],
   "source": [
    "name = ['LR', 'DT', 'RF']\n",
    "\n",
    "res_balanced = pd.DataFrame([f1_LR_balanced, f1_DT_balanced, f1_RF_balanced], index=name, columns=['balanced'])\n",
    "res_upsample = pd.DataFrame([f1_LR_upsample, f1_DT_upsample, f1_RF_upsample], index=name, columns=['upsample'])\n",
    "res_downsample = pd.DataFrame([f1_LR_downsample, f1_DT_downsample, f1_RF_downsample], index=name, columns=['downsample'])\n",
    "res_threshold = pd.DataFrame([f1_LR_threshold, f1_DT_threshold, f1_RF_threshold], index=name, columns=['threshold'])"
   ]
  },
  {
   "cell_type": "code",
   "execution_count": 73,
   "metadata": {},
   "outputs": [],
   "source": [
    "res = pd.DataFrame()\n",
    "res = pd.concat([res_balanced] + [res_upsample] + [res_downsample] + [res_threshold], axis=1)"
   ]
  },
  {
   "cell_type": "code",
   "execution_count": 74,
   "metadata": {},
   "outputs": [
    {
     "data": {
      "text/plain": [
       "<AxesSubplot:>"
      ]
     },
     "execution_count": 74,
     "metadata": {},
     "output_type": "execute_result"
    },
    {
     "data": {
      "image/png": "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\n",
      "text/plain": [
       "<Figure size 432x288 with 1 Axes>"
      ]
     },
     "metadata": {
      "needs_background": "light"
     },
     "output_type": "display_data"
    }
   ],
   "source": [
    "res.plot.barh()"
   ]
  },
  {
   "cell_type": "code",
   "execution_count": 75,
   "metadata": {},
   "outputs": [
    {
     "data": {
      "text/html": [
       "<div>\n",
       "<style scoped>\n",
       "    .dataframe tbody tr th:only-of-type {\n",
       "        vertical-align: middle;\n",
       "    }\n",
       "\n",
       "    .dataframe tbody tr th {\n",
       "        vertical-align: top;\n",
       "    }\n",
       "\n",
       "    .dataframe thead th {\n",
       "        text-align: right;\n",
       "    }\n",
       "</style>\n",
       "<table border=\"1\" class=\"dataframe\">\n",
       "  <thead>\n",
       "    <tr style=\"text-align: right;\">\n",
       "      <th></th>\n",
       "      <th>balanced</th>\n",
       "      <th>upsample</th>\n",
       "      <th>downsample</th>\n",
       "      <th>threshold</th>\n",
       "    </tr>\n",
       "  </thead>\n",
       "  <tbody>\n",
       "    <tr>\n",
       "      <th>LR</th>\n",
       "      <td>0.528998</td>\n",
       "      <td>0.524675</td>\n",
       "      <td>0.527586</td>\n",
       "      <td>0.506351</td>\n",
       "    </tr>\n",
       "    <tr>\n",
       "      <th>DT</th>\n",
       "      <td>0.575926</td>\n",
       "      <td>0.575926</td>\n",
       "      <td>0.594492</td>\n",
       "      <td>0.601942</td>\n",
       "    </tr>\n",
       "    <tr>\n",
       "      <th>RF</th>\n",
       "      <td>0.649038</td>\n",
       "      <td>0.646919</td>\n",
       "      <td>0.620624</td>\n",
       "      <td>0.653951</td>\n",
       "    </tr>\n",
       "  </tbody>\n",
       "</table>\n",
       "</div>"
      ],
      "text/plain": [
       "    balanced  upsample  downsample  threshold\n",
       "LR  0.528998  0.524675    0.527586   0.506351\n",
       "DT  0.575926  0.575926    0.594492   0.601942\n",
       "RF  0.649038  0.646919    0.620624   0.653951"
      ]
     },
     "execution_count": 75,
     "metadata": {},
     "output_type": "execute_result"
    }
   ],
   "source": [
    "res"
   ]
  },
  {
   "cell_type": "markdown",
   "metadata": {},
   "source": [
    "В таблице наглядно отображен успех разных способов борьбы с дисбалансом.  \n",
    "Остановимся на самой успешной модели - RF с порогом 0.4  \n",
    "RandomForestClassifier(max_depth=10, n_estimators=250, random_state=12345)"
   ]
  },
  {
   "cell_type": "markdown",
   "metadata": {},
   "source": [
    "## Тестирование модели"
   ]
  },
  {
   "cell_type": "code",
   "execution_count": 65,
   "metadata": {},
   "outputs": [
    {
     "name": "stdout",
     "output_type": "stream",
     "text": [
      "Показатель f1 на тестовой выборке: 0.6\n",
      "Показатель roc_auc: 0.75\n",
      "Полнота модели: 0.61\n",
      "Accuracy модели: 0.84\n",
      "Коэффициент каппы Коена модели: 0.5\n"
     ]
    }
   ],
   "source": [
    "predict_proba_RF = best_model_RF.predict_proba(features_test)\n",
    "predict1_RF = predict_proba_RF[:, 1]\n",
    "best_predictions_RF = predict1_RF > 0.3\n",
    "  \n",
    "print('Показатель f1 на тестовой выборке:', round(f1_score(best_predictions_RF, target_test), 2))                \n",
    "print(\"Показатель roc_auc:\", round(roc_auc_score(target_test, best_predictions_RF), 2))\n",
    "print(\"Полнота модели:\", round(recall_score(best_predictions_RF, target_test), 2))\n",
    "print(\"Accuracy модели:\", round(accuracy_score(best_predictions_RF, target_test), 2))\n",
    "print(\"Коэффициент каппы Коена модели:\", round(cohen_kappa_score(best_predictions_RF, target_test), 2))"
   ]
  },
  {
   "cell_type": "code",
   "execution_count": 47,
   "metadata": {},
   "outputs": [
    {
     "name": "stdout",
     "output_type": "stream",
     "text": [
      "Показатель f1 константной модели: 0.34\n",
      "Полнота модели: 0.2\n"
     ]
    }
   ],
   "source": [
    "constant_predictions = pd.Series(1, index=target_test.index)\n",
    "print('Показатель f1 константной модели:', round(f1_score(constant_predictions, target_test), 2)) \n",
    "print(\"Полнота модели:\", round(recall_score(constant_predictions, target_test), 2))"
   ]
  },
  {
   "cell_type": "markdown",
   "metadata": {},
   "source": [
    "## Вывод\n",
    "  \n",
    "  После предобработки данных и проверки нескольких способов борьбы с дисбалансом мы нашли наиболее успешную модель.  \n",
    "  RandomForestClassifier(max_depth=10, n_estimators=250, random_state=12345) с порогом 0.4  \n",
    "  Показатель f1 на тестовой выборке: 0.6  \n",
    "  Показатель roc_auc: 0.75  \n",
    "  Полнота модели: 0.61  \n",
    "  Accuracy модели: 0.84  \n",
    "  Коэффициент каппы Коена модели: 0.5  \n",
    "  **Модель верно распознает около 60% клиентов, готовых уйти.**"
   ]
  }
 ],
 "metadata": {
  "ExecuteTimeLog": [
   {
    "duration": 404,
    "start_time": "2023-04-18T18:28:57.213Z"
   },
   {
    "duration": 168,
    "start_time": "2023-04-18T18:28:58.515Z"
   },
   {
    "duration": 68,
    "start_time": "2023-04-18T18:29:24.233Z"
   },
   {
    "duration": 64,
    "start_time": "2023-04-18T18:31:23.132Z"
   },
   {
    "duration": 6,
    "start_time": "2023-04-18T19:32:52.010Z"
   },
   {
    "duration": 549,
    "start_time": "2023-04-18T19:34:11.712Z"
   },
   {
    "duration": 895,
    "start_time": "2023-04-18T20:12:46.706Z"
   },
   {
    "duration": 10,
    "start_time": "2023-04-18T20:13:03.626Z"
   },
   {
    "duration": 4,
    "start_time": "2023-04-18T20:13:13.687Z"
   },
   {
    "duration": 4,
    "start_time": "2023-04-18T20:18:48.582Z"
   },
   {
    "duration": 15,
    "start_time": "2023-04-18T20:21:16.850Z"
   },
   {
    "duration": 12,
    "start_time": "2023-04-18T20:21:33.634Z"
   },
   {
    "duration": 17,
    "start_time": "2023-04-18T20:21:46.149Z"
   },
   {
    "duration": 14,
    "start_time": "2023-04-18T20:21:51.180Z"
   },
   {
    "duration": 8,
    "start_time": "2023-04-18T20:22:18.103Z"
   },
   {
    "duration": 12,
    "start_time": "2023-04-18T20:22:22.825Z"
   },
   {
    "duration": 18,
    "start_time": "2023-04-18T20:22:30.631Z"
   },
   {
    "duration": 13,
    "start_time": "2023-04-18T20:22:43.616Z"
   },
   {
    "duration": 6,
    "start_time": "2023-04-18T20:22:59.179Z"
   },
   {
    "duration": 52,
    "start_time": "2023-04-18T20:28:19.742Z"
   },
   {
    "duration": 40,
    "start_time": "2023-04-18T20:30:51.275Z"
   },
   {
    "duration": 47,
    "start_time": "2023-04-18T20:30:57.975Z"
   },
   {
    "duration": 11,
    "start_time": "2023-04-18T20:33:03.285Z"
   },
   {
    "duration": 5,
    "start_time": "2023-04-18T20:33:11.475Z"
   },
   {
    "duration": 16,
    "start_time": "2023-04-18T20:34:15.812Z"
   },
   {
    "duration": 11,
    "start_time": "2023-04-18T20:34:52.201Z"
   },
   {
    "duration": 19,
    "start_time": "2023-04-18T20:38:23.811Z"
   },
   {
    "duration": 4,
    "start_time": "2023-04-18T20:38:35.962Z"
   },
   {
    "duration": 71,
    "start_time": "2023-04-18T20:38:35.967Z"
   },
   {
    "duration": 68,
    "start_time": "2023-04-18T20:38:36.040Z"
   },
   {
    "duration": 27,
    "start_time": "2023-04-18T20:38:36.110Z"
   },
   {
    "duration": 6,
    "start_time": "2023-04-18T20:38:36.139Z"
   },
   {
    "duration": 24,
    "start_time": "2023-04-18T20:38:36.147Z"
   },
   {
    "duration": 0,
    "start_time": "2023-04-18T20:38:36.172Z"
   },
   {
    "duration": 32,
    "start_time": "2023-04-18T20:38:51.960Z"
   },
   {
    "duration": 26,
    "start_time": "2023-04-18T20:42:45.243Z"
   },
   {
    "duration": 14,
    "start_time": "2023-04-18T20:43:12.780Z"
   },
   {
    "duration": 4,
    "start_time": "2023-04-18T21:08:38.119Z"
   },
   {
    "duration": 96,
    "start_time": "2023-04-18T21:08:38.126Z"
   },
   {
    "duration": 70,
    "start_time": "2023-04-18T21:08:38.224Z"
   },
   {
    "duration": 24,
    "start_time": "2023-04-18T21:08:38.296Z"
   },
   {
    "duration": 5,
    "start_time": "2023-04-18T21:08:38.322Z"
   },
   {
    "duration": 21,
    "start_time": "2023-04-18T21:08:38.329Z"
   },
   {
    "duration": 9,
    "start_time": "2023-04-18T21:08:38.351Z"
   },
   {
    "duration": 22,
    "start_time": "2023-04-18T21:14:25.526Z"
   },
   {
    "duration": 3,
    "start_time": "2023-04-18T21:14:49.732Z"
   },
   {
    "duration": 80,
    "start_time": "2023-04-18T21:14:49.737Z"
   },
   {
    "duration": 5,
    "start_time": "2023-04-18T21:14:49.820Z"
   },
   {
    "duration": 61,
    "start_time": "2023-04-18T21:14:49.826Z"
   },
   {
    "duration": 38,
    "start_time": "2023-04-18T21:14:49.892Z"
   },
   {
    "duration": 25,
    "start_time": "2023-04-18T21:14:49.932Z"
   },
   {
    "duration": 6,
    "start_time": "2023-04-18T21:14:49.959Z"
   },
   {
    "duration": 34,
    "start_time": "2023-04-18T21:14:49.967Z"
   },
   {
    "duration": 10,
    "start_time": "2023-04-18T21:14:50.003Z"
   },
   {
    "duration": 26,
    "start_time": "2023-04-18T21:16:27.967Z"
   },
   {
    "duration": 3,
    "start_time": "2023-04-18T21:17:05.993Z"
   },
   {
    "duration": 73,
    "start_time": "2023-04-18T21:17:05.998Z"
   },
   {
    "duration": 5,
    "start_time": "2023-04-18T21:17:06.072Z"
   },
   {
    "duration": 50,
    "start_time": "2023-04-18T21:17:06.079Z"
   },
   {
    "duration": 29,
    "start_time": "2023-04-18T21:17:06.130Z"
   },
   {
    "duration": 0,
    "start_time": "2023-04-18T21:17:06.160Z"
   },
   {
    "duration": 0,
    "start_time": "2023-04-18T21:17:06.162Z"
   },
   {
    "duration": 0,
    "start_time": "2023-04-18T21:17:06.163Z"
   },
   {
    "duration": 0,
    "start_time": "2023-04-18T21:17:06.164Z"
   },
   {
    "duration": 0,
    "start_time": "2023-04-18T21:17:06.165Z"
   },
   {
    "duration": 21,
    "start_time": "2023-04-18T21:17:27.623Z"
   },
   {
    "duration": 35,
    "start_time": "2023-04-18T21:17:31.702Z"
   },
   {
    "duration": 3,
    "start_time": "2023-04-18T21:17:47.063Z"
   },
   {
    "duration": 67,
    "start_time": "2023-04-18T21:17:47.068Z"
   },
   {
    "duration": 5,
    "start_time": "2023-04-18T21:17:47.137Z"
   },
   {
    "duration": 59,
    "start_time": "2023-04-18T21:17:47.144Z"
   },
   {
    "duration": 28,
    "start_time": "2023-04-18T21:17:47.205Z"
   },
   {
    "duration": 26,
    "start_time": "2023-04-18T21:17:49.013Z"
   },
   {
    "duration": 36,
    "start_time": "2023-04-18T21:17:49.042Z"
   },
   {
    "duration": 29,
    "start_time": "2023-04-18T21:17:49.080Z"
   },
   {
    "duration": 7,
    "start_time": "2023-04-18T21:17:49.112Z"
   },
   {
    "duration": 14,
    "start_time": "2023-04-18T21:17:49.121Z"
   },
   {
    "duration": 9,
    "start_time": "2023-04-18T21:17:49.137Z"
   },
   {
    "duration": 144,
    "start_time": "2023-04-18T21:47:54.128Z"
   },
   {
    "duration": 3,
    "start_time": "2023-04-18T21:48:08.371Z"
   },
   {
    "duration": 74,
    "start_time": "2023-04-18T21:48:08.376Z"
   },
   {
    "duration": 5,
    "start_time": "2023-04-18T21:48:08.452Z"
   },
   {
    "duration": 52,
    "start_time": "2023-04-18T21:48:08.459Z"
   },
   {
    "duration": 22,
    "start_time": "2023-04-18T21:48:08.513Z"
   },
   {
    "duration": 159,
    "start_time": "2023-04-18T21:48:08.536Z"
   },
   {
    "duration": 37,
    "start_time": "2023-04-18T21:48:08.696Z"
   },
   {
    "duration": 23,
    "start_time": "2023-04-18T21:48:08.735Z"
   },
   {
    "duration": 6,
    "start_time": "2023-04-18T21:48:08.760Z"
   },
   {
    "duration": 37,
    "start_time": "2023-04-18T21:48:08.767Z"
   },
   {
    "duration": 10,
    "start_time": "2023-04-18T21:48:08.806Z"
   },
   {
    "duration": 1112,
    "start_time": "2023-04-20T19:54:07.131Z"
   },
   {
    "duration": 403,
    "start_time": "2023-04-20T19:54:08.245Z"
   },
   {
    "duration": 6,
    "start_time": "2023-04-20T19:54:08.649Z"
   },
   {
    "duration": 48,
    "start_time": "2023-04-20T19:54:08.657Z"
   },
   {
    "duration": 23,
    "start_time": "2023-04-20T19:54:08.707Z"
   },
   {
    "duration": 567,
    "start_time": "2023-04-20T19:54:08.731Z"
   },
   {
    "duration": 37,
    "start_time": "2023-04-20T19:54:09.300Z"
   },
   {
    "duration": 23,
    "start_time": "2023-04-20T19:54:09.338Z"
   },
   {
    "duration": 30,
    "start_time": "2023-04-20T19:54:09.363Z"
   },
   {
    "duration": 14,
    "start_time": "2023-04-20T19:54:09.394Z"
   },
   {
    "duration": 119,
    "start_time": "2023-04-20T19:54:09.409Z"
   },
   {
    "duration": 4,
    "start_time": "2023-04-20T19:54:42.228Z"
   },
   {
    "duration": 19,
    "start_time": "2023-04-20T20:22:01.346Z"
   },
   {
    "duration": 26,
    "start_time": "2023-04-20T20:25:18.220Z"
   },
   {
    "duration": 5,
    "start_time": "2023-04-20T20:25:22.245Z"
   },
   {
    "duration": 4,
    "start_time": "2023-04-20T20:25:24.965Z"
   },
   {
    "duration": 72,
    "start_time": "2023-04-20T20:25:24.971Z"
   },
   {
    "duration": 7,
    "start_time": "2023-04-20T20:25:25.045Z"
   },
   {
    "duration": 72,
    "start_time": "2023-04-20T20:25:25.054Z"
   },
   {
    "duration": 27,
    "start_time": "2023-04-20T20:25:25.129Z"
   },
   {
    "duration": 191,
    "start_time": "2023-04-20T20:25:25.158Z"
   },
   {
    "duration": 69,
    "start_time": "2023-04-20T20:25:25.351Z"
   },
   {
    "duration": 6,
    "start_time": "2023-04-20T20:25:25.422Z"
   },
   {
    "duration": 20,
    "start_time": "2023-04-20T20:25:25.430Z"
   },
   {
    "duration": 0,
    "start_time": "2023-04-20T20:25:25.451Z"
   },
   {
    "duration": 0,
    "start_time": "2023-04-20T20:25:25.452Z"
   },
   {
    "duration": 0,
    "start_time": "2023-04-20T20:25:25.453Z"
   },
   {
    "duration": 32,
    "start_time": "2023-04-20T20:26:01.758Z"
   },
   {
    "duration": 7,
    "start_time": "2023-04-20T20:26:12.406Z"
   },
   {
    "duration": 17,
    "start_time": "2023-04-20T20:26:12.416Z"
   },
   {
    "duration": 66,
    "start_time": "2023-04-20T20:26:12.435Z"
   },
   {
    "duration": 4,
    "start_time": "2023-04-20T20:30:31.139Z"
   },
   {
    "duration": 94,
    "start_time": "2023-04-20T20:31:11.305Z"
   },
   {
    "duration": 281,
    "start_time": "2023-04-20T20:32:30.063Z"
   },
   {
    "duration": 336,
    "start_time": "2023-04-20T20:32:39.177Z"
   },
   {
    "duration": 278,
    "start_time": "2023-04-20T20:32:45.568Z"
   },
   {
    "duration": 454,
    "start_time": "2023-04-20T20:33:12.295Z"
   },
   {
    "duration": 263,
    "start_time": "2023-04-20T20:33:21.104Z"
   },
   {
    "duration": 459,
    "start_time": "2023-04-20T20:33:29.751Z"
   },
   {
    "duration": 442,
    "start_time": "2023-04-20T20:34:04.462Z"
   },
   {
    "duration": 453,
    "start_time": "2023-04-20T20:35:03.359Z"
   },
   {
    "duration": 455,
    "start_time": "2023-04-20T20:36:15.508Z"
   },
   {
    "duration": 46,
    "start_time": "2023-04-20T20:38:29.812Z"
   },
   {
    "duration": 1114,
    "start_time": "2023-04-20T20:38:35.319Z"
   },
   {
    "duration": 78,
    "start_time": "2023-04-20T20:38:36.435Z"
   },
   {
    "duration": 6,
    "start_time": "2023-04-20T20:38:36.515Z"
   },
   {
    "duration": 81,
    "start_time": "2023-04-20T20:38:36.523Z"
   },
   {
    "duration": 26,
    "start_time": "2023-04-20T20:38:36.606Z"
   },
   {
    "duration": 432,
    "start_time": "2023-04-20T20:38:36.634Z"
   },
   {
    "duration": 50,
    "start_time": "2023-04-20T20:38:37.067Z"
   },
   {
    "duration": 5,
    "start_time": "2023-04-20T20:38:37.119Z"
   },
   {
    "duration": 25,
    "start_time": "2023-04-20T20:38:37.125Z"
   },
   {
    "duration": 5,
    "start_time": "2023-04-20T20:38:37.152Z"
   },
   {
    "duration": 48,
    "start_time": "2023-04-20T20:38:37.159Z"
   },
   {
    "duration": 89,
    "start_time": "2023-04-20T20:38:37.209Z"
   },
   {
    "duration": 212,
    "start_time": "2023-04-20T20:38:37.300Z"
   },
   {
    "duration": 0,
    "start_time": "2023-04-20T20:38:37.514Z"
   },
   {
    "duration": 26,
    "start_time": "2023-04-20T20:38:49.110Z"
   },
   {
    "duration": 458,
    "start_time": "2023-04-20T20:39:08.908Z"
   },
   {
    "duration": 86,
    "start_time": "2023-04-20T20:40:12.259Z"
   },
   {
    "duration": 28,
    "start_time": "2023-04-20T20:40:18.642Z"
   },
   {
    "duration": 42409,
    "start_time": "2023-04-20T20:40:32.393Z"
   },
   {
    "duration": 98467,
    "start_time": "2023-04-20T20:41:48.214Z"
   },
   {
    "duration": 202289,
    "start_time": "2023-04-20T20:45:51.287Z"
   },
   {
    "duration": 215,
    "start_time": "2023-04-20T20:49:13.579Z"
   },
   {
    "duration": 121,
    "start_time": "2023-04-20T20:59:46.391Z"
   },
   {
    "duration": 33,
    "start_time": "2023-04-20T20:59:55.113Z"
   },
   {
    "duration": 15,
    "start_time": "2023-04-20T21:01:29.821Z"
   },
   {
    "duration": 12,
    "start_time": "2023-04-20T21:03:23.532Z"
   },
   {
    "duration": 4,
    "start_time": "2023-04-20T21:04:13.462Z"
   },
   {
    "duration": 18,
    "start_time": "2023-04-20T21:04:15.735Z"
   },
   {
    "duration": 580,
    "start_time": "2023-04-20T21:12:36.611Z"
   },
   {
    "duration": 13,
    "start_time": "2023-04-20T21:13:01.589Z"
   },
   {
    "duration": 10,
    "start_time": "2023-04-20T21:13:16.631Z"
   },
   {
    "duration": 159,
    "start_time": "2023-04-20T21:14:20.017Z"
   },
   {
    "duration": 175,
    "start_time": "2023-04-20T21:14:32.325Z"
   },
   {
    "duration": 182998,
    "start_time": "2023-04-20T21:18:18.006Z"
   },
   {
    "duration": 249,
    "start_time": "2023-04-20T21:23:08.280Z"
   },
   {
    "duration": 4,
    "start_time": "2023-04-20T21:23:14.630Z"
   },
   {
    "duration": 262,
    "start_time": "2023-04-20T21:23:19.879Z"
   },
   {
    "duration": 5,
    "start_time": "2023-04-20T21:24:26.018Z"
   },
   {
    "duration": 2288,
    "start_time": "2023-04-20T21:24:30.889Z"
   },
   {
    "duration": 10,
    "start_time": "2023-04-20T21:25:42.179Z"
   },
   {
    "duration": 9,
    "start_time": "2023-04-20T21:26:05.784Z"
   },
   {
    "duration": 62,
    "start_time": "2023-04-20T21:26:38.027Z"
   },
   {
    "duration": 465,
    "start_time": "2023-04-20T21:26:46.776Z"
   },
   {
    "duration": 4,
    "start_time": "2023-04-20T21:30:54.844Z"
   },
   {
    "duration": 66,
    "start_time": "2023-04-20T21:30:54.850Z"
   },
   {
    "duration": 402,
    "start_time": "2023-04-20T21:30:54.917Z"
   },
   {
    "duration": 6,
    "start_time": "2023-04-20T21:30:55.322Z"
   },
   {
    "duration": 66,
    "start_time": "2023-04-20T21:30:55.329Z"
   },
   {
    "duration": 27,
    "start_time": "2023-04-20T21:30:55.397Z"
   },
   {
    "duration": 248,
    "start_time": "2023-04-20T21:30:55.425Z"
   },
   {
    "duration": 56,
    "start_time": "2023-04-20T21:30:55.675Z"
   },
   {
    "duration": 5,
    "start_time": "2023-04-20T21:30:55.733Z"
   },
   {
    "duration": 25,
    "start_time": "2023-04-20T21:30:55.740Z"
   },
   {
    "duration": 6,
    "start_time": "2023-04-20T21:30:55.766Z"
   },
   {
    "duration": 450,
    "start_time": "2023-04-20T21:30:55.794Z"
   },
   {
    "duration": 13,
    "start_time": "2023-04-20T21:30:56.246Z"
   },
   {
    "duration": 36,
    "start_time": "2023-04-20T21:30:56.260Z"
   },
   {
    "duration": 647,
    "start_time": "2023-04-20T21:30:56.297Z"
   },
   {
    "duration": 292,
    "start_time": "2023-04-20T21:30:56.946Z"
   },
   {
    "duration": 3138,
    "start_time": "2023-04-20T21:30:57.240Z"
   },
   {
    "duration": 178656,
    "start_time": "2023-04-20T21:31:00.380Z"
   },
   {
    "duration": 226,
    "start_time": "2023-04-20T21:33:59.039Z"
   },
   {
    "duration": 209,
    "start_time": "2023-04-20T21:36:13.917Z"
   },
   {
    "duration": 208,
    "start_time": "2023-04-20T21:36:16.493Z"
   },
   {
    "duration": 205,
    "start_time": "2023-04-20T21:36:22.039Z"
   },
   {
    "duration": 2183,
    "start_time": "2023-04-20T21:36:28.149Z"
   },
   {
    "duration": 2196,
    "start_time": "2023-04-20T21:36:54.332Z"
   },
   {
    "duration": 1019,
    "start_time": "2023-04-20T21:37:19.162Z"
   },
   {
    "duration": 49,
    "start_time": "2023-04-21T19:53:48.447Z"
   },
   {
    "duration": 1775,
    "start_time": "2023-04-21T19:53:51.527Z"
   },
   {
    "duration": 264,
    "start_time": "2023-04-21T19:53:53.304Z"
   },
   {
    "duration": 6,
    "start_time": "2023-04-21T19:53:53.570Z"
   },
   {
    "duration": 178,
    "start_time": "2023-04-21T19:53:53.579Z"
   },
   {
    "duration": 23,
    "start_time": "2023-04-21T19:53:53.759Z"
   },
   {
    "duration": 393,
    "start_time": "2023-04-21T19:53:53.785Z"
   },
   {
    "duration": 104,
    "start_time": "2023-04-21T19:53:54.180Z"
   },
   {
    "duration": 7,
    "start_time": "2023-04-21T19:53:54.287Z"
   },
   {
    "duration": 86,
    "start_time": "2023-04-21T19:53:54.296Z"
   },
   {
    "duration": 8,
    "start_time": "2023-04-21T19:53:54.385Z"
   },
   {
    "duration": 970,
    "start_time": "2023-04-21T19:53:54.395Z"
   },
   {
    "duration": 19,
    "start_time": "2023-04-21T19:53:55.367Z"
   },
   {
    "duration": 183,
    "start_time": "2023-04-21T19:53:55.388Z"
   },
   {
    "duration": 684,
    "start_time": "2023-04-21T19:53:55.655Z"
   },
   {
    "duration": 161,
    "start_time": "2023-04-21T19:53:56.340Z"
   },
   {
    "duration": 911,
    "start_time": "2023-04-21T19:53:56.503Z"
   },
   {
    "duration": 52100,
    "start_time": "2023-04-21T19:53:57.416Z"
   },
   {
    "duration": 523,
    "start_time": "2023-04-21T19:58:49.718Z"
   },
   {
    "duration": 52647,
    "start_time": "2023-04-21T19:59:58.099Z"
   },
   {
    "duration": 491,
    "start_time": "2023-04-21T20:00:50.749Z"
   },
   {
    "duration": 23,
    "start_time": "2023-04-21T20:10:19.416Z"
   },
   {
    "duration": 53180,
    "start_time": "2023-04-21T20:10:38.335Z"
   },
   {
    "duration": 4,
    "start_time": "2023-04-21T20:18:43.673Z"
   },
   {
    "duration": 5,
    "start_time": "2023-04-21T20:19:47.042Z"
   },
   {
    "duration": 78,
    "start_time": "2023-04-21T20:20:39.424Z"
   },
   {
    "duration": 4,
    "start_time": "2023-04-21T20:21:45.834Z"
   },
   {
    "duration": 9,
    "start_time": "2023-04-21T20:21:46.577Z"
   },
   {
    "duration": 104,
    "start_time": "2023-04-21T20:24:12.552Z"
   },
   {
    "duration": 446,
    "start_time": "2023-04-21T20:26:39.618Z"
   },
   {
    "duration": 463,
    "start_time": "2023-04-21T20:28:09.770Z"
   },
   {
    "duration": 603,
    "start_time": "2023-04-21T20:29:03.912Z"
   },
   {
    "duration": 116,
    "start_time": "2023-04-21T20:29:08.410Z"
   },
   {
    "duration": 185,
    "start_time": "2023-04-21T20:30:22.827Z"
   },
   {
    "duration": 121,
    "start_time": "2023-04-21T20:30:34.578Z"
   },
   {
    "duration": 127,
    "start_time": "2023-04-21T20:30:37.951Z"
   },
   {
    "duration": 116,
    "start_time": "2023-04-21T20:32:32.482Z"
   },
   {
    "duration": 140,
    "start_time": "2023-04-21T20:32:39.544Z"
   },
   {
    "duration": 131,
    "start_time": "2023-04-21T20:32:54.535Z"
   },
   {
    "duration": 135,
    "start_time": "2023-04-21T20:33:04.944Z"
   },
   {
    "duration": 462,
    "start_time": "2023-04-21T20:35:06.837Z"
   },
   {
    "duration": 119,
    "start_time": "2023-04-21T20:35:08.628Z"
   },
   {
    "duration": 494,
    "start_time": "2023-04-21T20:36:22.713Z"
   },
   {
    "duration": 48,
    "start_time": "2023-04-21T20:37:42.583Z"
   },
   {
    "duration": 520,
    "start_time": "2023-04-21T20:37:48.313Z"
   },
   {
    "duration": 465,
    "start_time": "2023-04-21T20:48:04.485Z"
   },
   {
    "duration": 35,
    "start_time": "2023-04-21T20:48:29.140Z"
   },
   {
    "duration": 445,
    "start_time": "2023-04-21T20:48:34.395Z"
   },
   {
    "duration": 4,
    "start_time": "2023-04-21T20:48:37.483Z"
   },
   {
    "duration": 60,
    "start_time": "2023-04-21T20:48:37.489Z"
   },
   {
    "duration": 7,
    "start_time": "2023-04-21T20:48:37.550Z"
   },
   {
    "duration": 50,
    "start_time": "2023-04-21T20:48:37.560Z"
   },
   {
    "duration": 22,
    "start_time": "2023-04-21T20:48:37.611Z"
   },
   {
    "duration": 147,
    "start_time": "2023-04-21T20:48:37.635Z"
   },
   {
    "duration": 32,
    "start_time": "2023-04-21T20:48:37.784Z"
   },
   {
    "duration": 5,
    "start_time": "2023-04-21T20:48:37.818Z"
   },
   {
    "duration": 43,
    "start_time": "2023-04-21T20:48:37.825Z"
   },
   {
    "duration": 7,
    "start_time": "2023-04-21T20:48:37.871Z"
   },
   {
    "duration": 399,
    "start_time": "2023-04-21T20:48:37.880Z"
   },
   {
    "duration": 13,
    "start_time": "2023-04-21T20:48:38.280Z"
   },
   {
    "duration": 16,
    "start_time": "2023-04-21T20:48:38.295Z"
   },
   {
    "duration": 514,
    "start_time": "2023-04-21T20:48:38.356Z"
   },
   {
    "duration": 207,
    "start_time": "2023-04-21T20:48:38.872Z"
   },
   {
    "duration": 1420,
    "start_time": "2023-04-21T20:48:39.080Z"
   },
   {
    "duration": 52836,
    "start_time": "2023-04-21T20:48:40.501Z"
   },
   {
    "duration": 45,
    "start_time": "2023-04-21T20:49:33.339Z"
   },
   {
    "duration": 596,
    "start_time": "2023-04-21T20:49:33.387Z"
   },
   {
    "duration": 52389,
    "start_time": "2023-04-21T20:49:33.986Z"
   },
   {
    "duration": 3,
    "start_time": "2023-04-21T20:50:26.377Z"
   },
   {
    "duration": 17,
    "start_time": "2023-04-21T20:50:26.382Z"
   },
   {
    "duration": 78,
    "start_time": "2023-04-21T20:50:26.401Z"
   },
   {
    "duration": 102,
    "start_time": "2023-04-21T20:50:26.481Z"
   },
   {
    "duration": 0,
    "start_time": "2023-04-21T20:50:26.584Z"
   },
   {
    "duration": 0,
    "start_time": "2023-04-21T20:50:26.585Z"
   },
   {
    "duration": 51721,
    "start_time": "2023-04-21T20:50:38.871Z"
   },
   {
    "duration": 11495,
    "start_time": "2023-04-21T20:53:19.265Z"
   },
   {
    "duration": 52921,
    "start_time": "2023-04-21T20:53:34.332Z"
   },
   {
    "duration": 54,
    "start_time": "2023-04-21T20:58:09.005Z"
   },
   {
    "duration": 543,
    "start_time": "2023-04-21T20:58:12.157Z"
   },
   {
    "duration": 69326,
    "start_time": "2023-04-21T20:58:15.138Z"
   },
   {
    "duration": 4,
    "start_time": "2023-04-21T21:02:42.706Z"
   },
   {
    "duration": 16,
    "start_time": "2023-04-21T21:03:38.802Z"
   },
   {
    "duration": 5,
    "start_time": "2023-04-21T21:06:34.047Z"
   },
   {
    "duration": 8,
    "start_time": "2023-04-21T21:06:37.445Z"
   },
   {
    "duration": 14,
    "start_time": "2023-04-21T21:06:52.718Z"
   },
   {
    "duration": 177,
    "start_time": "2023-04-21T21:07:22.332Z"
   },
   {
    "duration": 24235,
    "start_time": "2023-04-21T21:08:08.195Z"
   },
   {
    "duration": 4,
    "start_time": "2023-04-21T21:17:29.751Z"
   },
   {
    "duration": 61,
    "start_time": "2023-04-21T21:17:29.757Z"
   },
   {
    "duration": 5,
    "start_time": "2023-04-21T21:17:29.819Z"
   },
   {
    "duration": 48,
    "start_time": "2023-04-21T21:17:29.826Z"
   },
   {
    "duration": 21,
    "start_time": "2023-04-21T21:17:29.876Z"
   },
   {
    "duration": 143,
    "start_time": "2023-04-21T21:17:29.898Z"
   },
   {
    "duration": 42,
    "start_time": "2023-04-21T21:17:30.043Z"
   },
   {
    "duration": 4,
    "start_time": "2023-04-21T21:17:30.087Z"
   },
   {
    "duration": 25,
    "start_time": "2023-04-21T21:17:30.093Z"
   },
   {
    "duration": 5,
    "start_time": "2023-04-21T21:17:30.120Z"
   },
   {
    "duration": 442,
    "start_time": "2023-04-21T21:17:30.127Z"
   },
   {
    "duration": 14,
    "start_time": "2023-04-21T21:17:30.571Z"
   },
   {
    "duration": 68,
    "start_time": "2023-04-21T21:17:30.587Z"
   },
   {
    "duration": 514,
    "start_time": "2023-04-21T21:17:30.658Z"
   },
   {
    "duration": 137,
    "start_time": "2023-04-21T21:17:31.173Z"
   },
   {
    "duration": 820,
    "start_time": "2023-04-21T21:17:31.311Z"
   },
   {
    "duration": 50155,
    "start_time": "2023-04-21T21:17:32.133Z"
   },
   {
    "duration": 71,
    "start_time": "2023-04-21T21:18:22.289Z"
   },
   {
    "duration": 534,
    "start_time": "2023-04-21T21:18:22.362Z"
   },
   {
    "duration": 48068,
    "start_time": "2023-04-21T21:18:22.898Z"
   },
   {
    "duration": 3,
    "start_time": "2023-04-21T21:19:10.968Z"
   },
   {
    "duration": 16,
    "start_time": "2023-04-21T21:19:10.973Z"
   },
   {
    "duration": 65,
    "start_time": "2023-04-21T21:19:10.990Z"
   },
   {
    "duration": 610,
    "start_time": "2023-04-21T21:19:11.059Z"
   },
   {
    "duration": 67342,
    "start_time": "2023-04-21T21:19:11.671Z"
   },
   {
    "duration": 4,
    "start_time": "2023-04-21T21:20:19.015Z"
   },
   {
    "duration": 12,
    "start_time": "2023-04-21T21:20:19.020Z"
   },
   {
    "duration": 25,
    "start_time": "2023-04-21T21:20:19.033Z"
   },
   {
    "duration": 348,
    "start_time": "2023-04-21T21:20:19.061Z"
   },
   {
    "duration": 23403,
    "start_time": "2023-04-21T21:20:19.410Z"
   },
   {
    "duration": 1546,
    "start_time": "2023-04-22T13:45:05.726Z"
   },
   {
    "duration": 195,
    "start_time": "2023-04-22T13:45:07.274Z"
   },
   {
    "duration": 5,
    "start_time": "2023-04-22T13:45:07.471Z"
   },
   {
    "duration": 57,
    "start_time": "2023-04-22T13:45:07.477Z"
   },
   {
    "duration": 25,
    "start_time": "2023-04-22T13:45:07.536Z"
   },
   {
    "duration": 160,
    "start_time": "2023-04-22T13:45:07.562Z"
   },
   {
    "duration": 34,
    "start_time": "2023-04-22T13:45:07.724Z"
   },
   {
    "duration": 5,
    "start_time": "2023-04-22T13:45:07.759Z"
   },
   {
    "duration": 37,
    "start_time": "2023-04-22T13:45:07.765Z"
   },
   {
    "duration": 5,
    "start_time": "2023-04-22T13:45:07.804Z"
   },
   {
    "duration": 469,
    "start_time": "2023-04-22T13:45:07.810Z"
   },
   {
    "duration": 18,
    "start_time": "2023-04-22T13:45:08.281Z"
   },
   {
    "duration": 18,
    "start_time": "2023-04-22T13:45:08.301Z"
   },
   {
    "duration": 635,
    "start_time": "2023-04-22T13:45:08.397Z"
   },
   {
    "duration": 135,
    "start_time": "2023-04-22T13:45:09.034Z"
   },
   {
    "duration": 971,
    "start_time": "2023-04-22T13:45:09.170Z"
   },
   {
    "duration": 55699,
    "start_time": "2023-04-22T13:45:10.142Z"
   },
   {
    "duration": 57,
    "start_time": "2023-04-22T13:46:05.843Z"
   },
   {
    "duration": 540,
    "start_time": "2023-04-22T13:46:05.902Z"
   },
   {
    "duration": 52979,
    "start_time": "2023-04-22T13:46:06.443Z"
   },
   {
    "duration": 4,
    "start_time": "2023-04-22T13:46:59.423Z"
   },
   {
    "duration": 29,
    "start_time": "2023-04-22T13:46:59.428Z"
   },
   {
    "duration": 35,
    "start_time": "2023-04-22T13:46:59.459Z"
   },
   {
    "duration": 752,
    "start_time": "2023-04-22T13:46:59.496Z"
   },
   {
    "duration": 73866,
    "start_time": "2023-04-22T13:47:00.250Z"
   },
   {
    "duration": 4,
    "start_time": "2023-04-22T13:48:14.118Z"
   },
   {
    "duration": 12,
    "start_time": "2023-04-22T13:48:14.123Z"
   },
   {
    "duration": 62,
    "start_time": "2023-04-22T13:48:14.137Z"
   },
   {
    "duration": 297,
    "start_time": "2023-04-22T13:48:14.200Z"
   },
   {
    "duration": 26088,
    "start_time": "2023-04-22T13:48:14.499Z"
   },
   {
    "duration": 4,
    "start_time": "2023-04-22T13:53:20.161Z"
   },
   {
    "duration": 251,
    "start_time": "2023-04-22T16:18:21.445Z"
   },
   {
    "duration": 169,
    "start_time": "2023-04-22T16:18:31.932Z"
   },
   {
    "duration": 149,
    "start_time": "2023-04-22T16:19:34.853Z"
   },
   {
    "duration": 758,
    "start_time": "2023-04-22T18:08:00.879Z"
   },
   {
    "duration": 727,
    "start_time": "2023-04-22T18:12:06.354Z"
   },
   {
    "duration": 721,
    "start_time": "2023-04-22T18:12:54.832Z"
   },
   {
    "duration": 815,
    "start_time": "2023-04-22T18:13:33.360Z"
   },
   {
    "duration": 747,
    "start_time": "2023-04-22T18:13:39.287Z"
   },
   {
    "duration": 659,
    "start_time": "2023-04-22T18:14:27.615Z"
   },
   {
    "duration": 655,
    "start_time": "2023-04-22T18:15:15.899Z"
   },
   {
    "duration": 176,
    "start_time": "2023-04-22T18:16:11.626Z"
   },
   {
    "duration": 131,
    "start_time": "2023-04-22T18:20:36.754Z"
   },
   {
    "duration": 55038,
    "start_time": "2023-04-22T18:20:58.713Z"
   },
   {
    "duration": 4,
    "start_time": "2023-04-22T18:25:13.737Z"
   },
   {
    "duration": 3,
    "start_time": "2023-04-22T18:34:25.817Z"
   },
   {
    "duration": 655,
    "start_time": "2023-04-22T18:37:02.526Z"
   },
   {
    "duration": 666,
    "start_time": "2023-04-22T18:38:07.027Z"
   },
   {
    "duration": 681,
    "start_time": "2023-04-22T18:39:01.522Z"
   },
   {
    "duration": 673,
    "start_time": "2023-04-22T18:39:41.056Z"
   },
   {
    "duration": 55346,
    "start_time": "2023-04-22T18:41:15.436Z"
   },
   {
    "duration": 9,
    "start_time": "2023-04-22T18:50:06.973Z"
   },
   {
    "duration": 6,
    "start_time": "2023-04-22T18:50:13.942Z"
   },
   {
    "duration": 37,
    "start_time": "2023-04-22T18:51:52.921Z"
   },
   {
    "duration": 6,
    "start_time": "2023-04-22T18:52:14.442Z"
   },
   {
    "duration": 662,
    "start_time": "2023-04-22T18:57:28.903Z"
   },
   {
    "duration": 660,
    "start_time": "2023-04-22T18:57:55.648Z"
   },
   {
    "duration": 669,
    "start_time": "2023-04-22T18:58:23.334Z"
   },
   {
    "duration": 652,
    "start_time": "2023-04-22T19:01:50.192Z"
   },
   {
    "duration": 55570,
    "start_time": "2023-04-22T19:04:12.796Z"
   },
   {
    "duration": 218,
    "start_time": "2023-04-22T19:05:08.370Z"
   },
   {
    "duration": 25848,
    "start_time": "2023-04-22T19:05:53.162Z"
   },
   {
    "duration": 84,
    "start_time": "2023-04-22T19:09:35.458Z"
   },
   {
    "duration": 299977,
    "start_time": "2023-04-22T19:09:51.971Z"
   },
   {
    "duration": 55020,
    "start_time": "2023-04-22T19:18:44.573Z"
   },
   {
    "duration": 37,
    "start_time": "2023-04-22T19:20:22.758Z"
   },
   {
    "duration": 25893,
    "start_time": "2023-04-22T19:21:50.510Z"
   },
   {
    "duration": 1388,
    "start_time": "2023-04-22T19:27:10.581Z"
   },
   {
    "duration": 69,
    "start_time": "2023-04-22T19:27:11.971Z"
   },
   {
    "duration": 5,
    "start_time": "2023-04-22T19:27:12.042Z"
   },
   {
    "duration": 53,
    "start_time": "2023-04-22T19:27:12.048Z"
   },
   {
    "duration": 22,
    "start_time": "2023-04-22T19:27:12.103Z"
   },
   {
    "duration": 167,
    "start_time": "2023-04-22T19:27:12.127Z"
   },
   {
    "duration": 46,
    "start_time": "2023-04-22T19:27:12.296Z"
   },
   {
    "duration": 6,
    "start_time": "2023-04-22T19:27:12.343Z"
   },
   {
    "duration": 43,
    "start_time": "2023-04-22T19:27:12.351Z"
   },
   {
    "duration": 5,
    "start_time": "2023-04-22T19:27:12.396Z"
   },
   {
    "duration": 422,
    "start_time": "2023-04-22T19:27:12.403Z"
   },
   {
    "duration": 12,
    "start_time": "2023-04-22T19:27:12.827Z"
   },
   {
    "duration": 57,
    "start_time": "2023-04-22T19:27:12.841Z"
   },
   {
    "duration": 643,
    "start_time": "2023-04-22T19:27:12.902Z"
   },
   {
    "duration": 139,
    "start_time": "2023-04-22T19:27:13.546Z"
   },
   {
    "duration": 931,
    "start_time": "2023-04-22T19:27:13.692Z"
   },
   {
    "duration": 54315,
    "start_time": "2023-04-22T19:27:14.624Z"
   },
   {
    "duration": 59,
    "start_time": "2023-04-22T19:28:08.941Z"
   },
   {
    "duration": 544,
    "start_time": "2023-04-22T19:28:09.002Z"
   },
   {
    "duration": 52373,
    "start_time": "2023-04-22T19:28:09.547Z"
   },
   {
    "duration": 5,
    "start_time": "2023-04-22T19:29:01.922Z"
   },
   {
    "duration": 60,
    "start_time": "2023-04-22T19:29:01.929Z"
   },
   {
    "duration": 41,
    "start_time": "2023-04-22T19:29:01.991Z"
   },
   {
    "duration": 723,
    "start_time": "2023-04-22T19:29:02.034Z"
   },
   {
    "duration": 273,
    "start_time": "2023-04-22T19:29:02.759Z"
   },
   {
    "duration": 4,
    "start_time": "2023-04-22T19:29:03.033Z"
   },
   {
    "duration": 20,
    "start_time": "2023-04-22T19:29:03.038Z"
   },
   {
    "duration": 13,
    "start_time": "2023-04-22T19:29:03.060Z"
   },
   {
    "duration": 352,
    "start_time": "2023-04-22T19:29:03.074Z"
   },
   {
    "duration": 0,
    "start_time": "2023-04-22T19:29:03.428Z"
   },
   {
    "duration": 0,
    "start_time": "2023-04-22T19:29:03.429Z"
   },
   {
    "duration": 0,
    "start_time": "2023-04-22T19:29:03.430Z"
   },
   {
    "duration": 0,
    "start_time": "2023-04-22T19:29:03.431Z"
   },
   {
    "duration": 0,
    "start_time": "2023-04-22T19:29:03.432Z"
   },
   {
    "duration": 73863,
    "start_time": "2023-04-22T19:34:30.909Z"
   },
   {
    "duration": 205,
    "start_time": "2023-04-22T19:35:44.774Z"
   },
   {
    "duration": 26503,
    "start_time": "2023-04-22T19:35:44.981Z"
   },
   {
    "duration": 211,
    "start_time": "2023-04-22T19:36:11.486Z"
   },
   {
    "duration": 699,
    "start_time": "2023-04-22T19:36:11.699Z"
   },
   {
    "duration": 55918,
    "start_time": "2023-04-22T19:36:12.399Z"
   },
   {
    "duration": 38,
    "start_time": "2023-04-22T19:37:08.319Z"
   },
   {
    "duration": 4,
    "start_time": "2023-04-22T19:39:03.925Z"
   },
   {
    "duration": 70,
    "start_time": "2023-04-22T19:39:03.931Z"
   },
   {
    "duration": 4,
    "start_time": "2023-04-22T19:39:04.003Z"
   },
   {
    "duration": 51,
    "start_time": "2023-04-22T19:39:04.009Z"
   },
   {
    "duration": 39,
    "start_time": "2023-04-22T19:39:04.062Z"
   },
   {
    "duration": 150,
    "start_time": "2023-04-22T19:39:04.103Z"
   },
   {
    "duration": 43,
    "start_time": "2023-04-22T19:39:04.255Z"
   },
   {
    "duration": 5,
    "start_time": "2023-04-22T19:39:04.300Z"
   },
   {
    "duration": 26,
    "start_time": "2023-04-22T19:39:04.306Z"
   },
   {
    "duration": 5,
    "start_time": "2023-04-22T19:39:04.334Z"
   },
   {
    "duration": 485,
    "start_time": "2023-04-22T19:39:04.341Z"
   },
   {
    "duration": 15,
    "start_time": "2023-04-22T19:39:04.827Z"
   },
   {
    "duration": 55,
    "start_time": "2023-04-22T19:39:04.843Z"
   },
   {
    "duration": 698,
    "start_time": "2023-04-22T19:39:04.900Z"
   },
   {
    "duration": 235,
    "start_time": "2023-04-22T19:39:05.600Z"
   },
   {
    "duration": 1658,
    "start_time": "2023-04-22T19:39:05.837Z"
   },
   {
    "duration": 53406,
    "start_time": "2023-04-22T19:39:07.496Z"
   },
   {
    "duration": 20,
    "start_time": "2023-04-22T19:40:00.904Z"
   },
   {
    "duration": 547,
    "start_time": "2023-04-22T19:40:00.997Z"
   },
   {
    "duration": 52734,
    "start_time": "2023-04-22T19:40:01.546Z"
   },
   {
    "duration": 4,
    "start_time": "2023-04-22T19:40:54.281Z"
   },
   {
    "duration": 16,
    "start_time": "2023-04-22T19:40:54.287Z"
   },
   {
    "duration": 98,
    "start_time": "2023-04-22T19:40:54.305Z"
   },
   {
    "duration": 688,
    "start_time": "2023-04-22T19:40:54.405Z"
   },
   {
    "duration": 73395,
    "start_time": "2023-04-22T19:40:55.095Z"
   },
   {
    "duration": 5,
    "start_time": "2023-04-22T19:42:08.491Z"
   },
   {
    "duration": 19,
    "start_time": "2023-04-22T19:42:08.497Z"
   },
   {
    "duration": 20,
    "start_time": "2023-04-22T19:42:08.519Z"
   },
   {
    "duration": 347,
    "start_time": "2023-04-22T19:42:08.541Z"
   },
   {
    "duration": 26345,
    "start_time": "2023-04-22T19:42:08.890Z"
   },
   {
    "duration": 159,
    "start_time": "2023-04-22T19:42:35.236Z"
   },
   {
    "duration": 662,
    "start_time": "2023-04-22T19:42:35.397Z"
   },
   {
    "duration": 55753,
    "start_time": "2023-04-22T19:42:36.060Z"
   },
   {
    "duration": 49,
    "start_time": "2023-04-22T19:43:31.815Z"
   },
   {
    "duration": 55140,
    "start_time": "2023-04-22T19:54:50.731Z"
   },
   {
    "duration": 45,
    "start_time": "2023-04-22T19:57:51.244Z"
   },
   {
    "duration": 40,
    "start_time": "2023-04-22T19:58:04.947Z"
   },
   {
    "duration": 40,
    "start_time": "2023-04-22T19:58:14.548Z"
   },
   {
    "duration": 40,
    "start_time": "2023-04-22T19:58:30.787Z"
   },
   {
    "duration": 7,
    "start_time": "2023-04-22T20:02:23.117Z"
   },
   {
    "duration": 42,
    "start_time": "2023-04-22T20:07:17.815Z"
   },
   {
    "duration": 43,
    "start_time": "2023-04-22T20:11:37.476Z"
   },
   {
    "duration": 39,
    "start_time": "2023-04-22T20:11:45.715Z"
   },
   {
    "duration": 39,
    "start_time": "2023-04-22T20:13:16.786Z"
   },
   {
    "duration": 41,
    "start_time": "2023-04-22T20:13:20.624Z"
   },
   {
    "duration": 41,
    "start_time": "2023-04-22T20:13:25.151Z"
   },
   {
    "duration": 43,
    "start_time": "2023-04-22T20:13:28.716Z"
   },
   {
    "duration": 40,
    "start_time": "2023-04-22T20:13:32.025Z"
   },
   {
    "duration": 42,
    "start_time": "2023-04-22T20:13:34.812Z"
   },
   {
    "duration": 41,
    "start_time": "2023-04-22T20:13:38.063Z"
   },
   {
    "duration": 43,
    "start_time": "2023-04-22T20:13:42.255Z"
   },
   {
    "duration": 41,
    "start_time": "2023-04-22T20:13:46.361Z"
   },
   {
    "duration": 40,
    "start_time": "2023-04-22T20:13:49.350Z"
   },
   {
    "duration": 1369,
    "start_time": "2023-04-22T20:16:49.123Z"
   },
   {
    "duration": 68,
    "start_time": "2023-04-22T20:16:50.494Z"
   },
   {
    "duration": 5,
    "start_time": "2023-04-22T20:16:50.564Z"
   },
   {
    "duration": 51,
    "start_time": "2023-04-22T20:16:50.571Z"
   },
   {
    "duration": 29,
    "start_time": "2023-04-22T20:16:50.623Z"
   },
   {
    "duration": 156,
    "start_time": "2023-04-22T20:16:50.654Z"
   },
   {
    "duration": 36,
    "start_time": "2023-04-22T20:16:50.812Z"
   },
   {
    "duration": 5,
    "start_time": "2023-04-22T20:16:50.849Z"
   },
   {
    "duration": 43,
    "start_time": "2023-04-22T20:16:50.856Z"
   },
   {
    "duration": 5,
    "start_time": "2023-04-22T20:16:50.901Z"
   },
   {
    "duration": 436,
    "start_time": "2023-04-22T20:16:50.908Z"
   },
   {
    "duration": 14,
    "start_time": "2023-04-22T20:16:51.346Z"
   },
   {
    "duration": 40,
    "start_time": "2023-04-22T20:16:51.362Z"
   },
   {
    "duration": 716,
    "start_time": "2023-04-22T20:16:51.404Z"
   },
   {
    "duration": 136,
    "start_time": "2023-04-22T20:16:52.121Z"
   },
   {
    "duration": 1002,
    "start_time": "2023-04-22T20:16:52.259Z"
   },
   {
    "duration": 22003,
    "start_time": "2023-04-22T20:16:53.263Z"
   },
   {
    "duration": 18,
    "start_time": "2023-04-22T20:17:15.268Z"
   },
   {
    "duration": 616,
    "start_time": "2023-04-22T20:17:15.294Z"
   },
   {
    "duration": 1399,
    "start_time": "2023-04-22T20:17:53.536Z"
   },
   {
    "duration": 76,
    "start_time": "2023-04-22T20:17:54.937Z"
   },
   {
    "duration": 5,
    "start_time": "2023-04-22T20:17:55.014Z"
   },
   {
    "duration": 53,
    "start_time": "2023-04-22T20:17:55.021Z"
   },
   {
    "duration": 32,
    "start_time": "2023-04-22T20:17:55.076Z"
   },
   {
    "duration": 161,
    "start_time": "2023-04-22T20:17:55.110Z"
   },
   {
    "duration": 37,
    "start_time": "2023-04-22T20:17:55.292Z"
   },
   {
    "duration": 5,
    "start_time": "2023-04-22T20:17:55.330Z"
   },
   {
    "duration": 23,
    "start_time": "2023-04-22T20:17:55.393Z"
   },
   {
    "duration": 5,
    "start_time": "2023-04-22T20:17:55.418Z"
   },
   {
    "duration": 785,
    "start_time": "2023-04-22T20:17:55.425Z"
   },
   {
    "duration": 13,
    "start_time": "2023-04-22T20:17:56.212Z"
   },
   {
    "duration": 167,
    "start_time": "2023-04-22T20:17:56.227Z"
   },
   {
    "duration": 1069,
    "start_time": "2023-04-22T20:17:56.399Z"
   },
   {
    "duration": 136,
    "start_time": "2023-04-22T20:17:57.470Z"
   },
   {
    "duration": 981,
    "start_time": "2023-04-22T20:17:57.608Z"
   },
   {
    "duration": 54517,
    "start_time": "2023-04-22T20:17:58.591Z"
   },
   {
    "duration": 84,
    "start_time": "2023-04-22T20:18:53.110Z"
   },
   {
    "duration": 561,
    "start_time": "2023-04-22T20:18:53.196Z"
   },
   {
    "duration": 54290,
    "start_time": "2023-04-22T20:18:53.759Z"
   },
   {
    "duration": 4,
    "start_time": "2023-04-22T20:19:48.051Z"
   },
   {
    "duration": 14,
    "start_time": "2023-04-22T20:19:48.056Z"
   },
   {
    "duration": 39,
    "start_time": "2023-04-22T20:19:48.072Z"
   },
   {
    "duration": 731,
    "start_time": "2023-04-22T20:19:48.113Z"
   },
   {
    "duration": 71985,
    "start_time": "2023-04-22T20:19:48.845Z"
   },
   {
    "duration": 4,
    "start_time": "2023-04-22T20:21:00.832Z"
   },
   {
    "duration": 40,
    "start_time": "2023-04-22T20:21:00.838Z"
   },
   {
    "duration": 26,
    "start_time": "2023-04-22T20:21:00.880Z"
   },
   {
    "duration": 390,
    "start_time": "2023-04-22T20:21:00.909Z"
   },
   {
    "duration": 26579,
    "start_time": "2023-04-22T20:21:01.301Z"
   },
   {
    "duration": 216,
    "start_time": "2023-04-22T20:21:27.881Z"
   },
   {
    "duration": 692,
    "start_time": "2023-04-22T20:21:28.099Z"
   },
   {
    "duration": 56624,
    "start_time": "2023-04-22T20:21:28.793Z"
   },
   {
    "duration": 2,
    "start_time": "2023-04-22T20:22:25.419Z"
   },
   {
    "duration": 46,
    "start_time": "2023-04-22T20:22:25.423Z"
   },
   {
    "duration": 1695,
    "start_time": "2023-04-23T20:28:37.369Z"
   },
   {
    "duration": 428,
    "start_time": "2023-04-23T20:28:39.066Z"
   },
   {
    "duration": 6,
    "start_time": "2023-04-23T20:30:19.090Z"
   },
   {
    "duration": 7,
    "start_time": "2023-04-23T20:30:45.298Z"
   },
   {
    "duration": 13,
    "start_time": "2023-04-23T20:31:06.505Z"
   },
   {
    "duration": 119,
    "start_time": "2023-04-23T20:32:17.367Z"
   },
   {
    "duration": 10,
    "start_time": "2023-04-23T20:32:28.808Z"
   },
   {
    "duration": 10,
    "start_time": "2023-04-23T20:32:56.356Z"
   },
   {
    "duration": 10,
    "start_time": "2023-04-23T20:33:33.108Z"
   },
   {
    "duration": 6,
    "start_time": "2023-04-23T20:33:53.194Z"
   },
   {
    "duration": 5,
    "start_time": "2023-04-23T20:34:38.901Z"
   },
   {
    "duration": 14,
    "start_time": "2023-04-23T21:30:59.857Z"
   },
   {
    "duration": 16,
    "start_time": "2023-04-23T21:31:39.495Z"
   },
   {
    "duration": 18,
    "start_time": "2023-04-23T21:31:57.632Z"
   },
   {
    "duration": 11,
    "start_time": "2023-04-23T21:39:03.298Z"
   },
   {
    "duration": 14,
    "start_time": "2023-04-23T21:39:14.641Z"
   },
   {
    "duration": 7,
    "start_time": "2023-04-23T21:39:53.257Z"
   },
   {
    "duration": 13,
    "start_time": "2023-04-23T21:40:48.943Z"
   },
   {
    "duration": 14,
    "start_time": "2023-04-23T21:41:08.246Z"
   },
   {
    "duration": 15,
    "start_time": "2023-04-23T21:41:46.974Z"
   },
   {
    "duration": 18,
    "start_time": "2023-04-23T21:41:59.494Z"
   },
   {
    "duration": 3,
    "start_time": "2023-04-23T21:42:16.962Z"
   },
   {
    "duration": 69,
    "start_time": "2023-04-23T21:42:16.967Z"
   },
   {
    "duration": 6,
    "start_time": "2023-04-23T21:42:17.038Z"
   },
   {
    "duration": 5,
    "start_time": "2023-04-23T21:42:17.045Z"
   },
   {
    "duration": 4,
    "start_time": "2023-04-23T21:42:17.052Z"
   },
   {
    "duration": 2,
    "start_time": "2023-04-23T21:42:17.057Z"
   },
   {
    "duration": 40,
    "start_time": "2023-04-23T21:42:17.061Z"
   },
   {
    "duration": 21,
    "start_time": "2023-04-23T21:42:17.103Z"
   },
   {
    "duration": 14,
    "start_time": "2023-04-23T21:42:37.036Z"
   },
   {
    "duration": 11,
    "start_time": "2023-04-23T21:43:08.996Z"
   },
   {
    "duration": 10,
    "start_time": "2023-04-23T21:43:15.587Z"
   },
   {
    "duration": 15,
    "start_time": "2023-04-23T21:43:23.202Z"
   },
   {
    "duration": 13,
    "start_time": "2023-04-23T21:43:54.614Z"
   },
   {
    "duration": 13,
    "start_time": "2023-04-23T21:43:58.209Z"
   },
   {
    "duration": 6,
    "start_time": "2023-04-23T21:45:19.927Z"
   },
   {
    "duration": 14,
    "start_time": "2023-04-23T21:45:28.093Z"
   },
   {
    "duration": 13,
    "start_time": "2023-04-23T21:46:07.442Z"
   },
   {
    "duration": 4,
    "start_time": "2023-04-23T21:46:40.856Z"
   },
   {
    "duration": 72,
    "start_time": "2023-04-23T21:46:40.862Z"
   },
   {
    "duration": 9,
    "start_time": "2023-04-23T21:46:40.936Z"
   },
   {
    "duration": 6,
    "start_time": "2023-04-23T21:46:40.948Z"
   },
   {
    "duration": 6,
    "start_time": "2023-04-23T21:46:40.955Z"
   },
   {
    "duration": 28,
    "start_time": "2023-04-23T21:46:40.962Z"
   },
   {
    "duration": 25,
    "start_time": "2023-04-23T21:46:40.992Z"
   },
   {
    "duration": 14,
    "start_time": "2023-04-23T21:46:41.019Z"
   },
   {
    "duration": 6,
    "start_time": "2023-04-23T21:46:41.035Z"
   },
   {
    "duration": 15,
    "start_time": "2023-04-23T21:46:41.044Z"
   },
   {
    "duration": 1632,
    "start_time": "2023-04-24T10:56:45.326Z"
   },
   {
    "duration": 119,
    "start_time": "2023-04-24T10:56:46.961Z"
   },
   {
    "duration": 6,
    "start_time": "2023-04-24T10:56:47.082Z"
   },
   {
    "duration": 13,
    "start_time": "2023-04-24T10:56:47.090Z"
   },
   {
    "duration": 38,
    "start_time": "2023-04-24T10:56:47.104Z"
   },
   {
    "duration": 20,
    "start_time": "2023-04-24T10:56:47.144Z"
   },
   {
    "duration": 30,
    "start_time": "2023-04-24T10:56:47.166Z"
   },
   {
    "duration": 35,
    "start_time": "2023-04-24T10:56:47.198Z"
   },
   {
    "duration": 10,
    "start_time": "2023-04-24T10:56:47.235Z"
   },
   {
    "duration": 49,
    "start_time": "2023-04-24T10:56:47.249Z"
   },
   {
    "duration": 138,
    "start_time": "2023-04-24T10:56:47.300Z"
   },
   {
    "duration": 0,
    "start_time": "2023-04-24T10:56:47.440Z"
   },
   {
    "duration": 0,
    "start_time": "2023-04-24T10:56:47.441Z"
   },
   {
    "duration": 0,
    "start_time": "2023-04-24T10:56:47.442Z"
   },
   {
    "duration": 0,
    "start_time": "2023-04-24T10:56:47.443Z"
   },
   {
    "duration": 0,
    "start_time": "2023-04-24T10:56:47.444Z"
   },
   {
    "duration": 0,
    "start_time": "2023-04-24T10:56:47.445Z"
   },
   {
    "duration": 0,
    "start_time": "2023-04-24T10:56:47.446Z"
   },
   {
    "duration": 9,
    "start_time": "2023-04-24T11:02:17.007Z"
   },
   {
    "duration": 7,
    "start_time": "2023-04-24T11:03:03.909Z"
   },
   {
    "duration": 18,
    "start_time": "2023-04-24T11:03:05.349Z"
   },
   {
    "duration": 27,
    "start_time": "2023-04-24T11:08:54.226Z"
   },
   {
    "duration": 21,
    "start_time": "2023-04-24T11:09:18.070Z"
   },
   {
    "duration": 19,
    "start_time": "2023-04-24T11:09:23.401Z"
   },
   {
    "duration": 16,
    "start_time": "2023-04-24T11:09:33.673Z"
   },
   {
    "duration": 14,
    "start_time": "2023-04-24T11:10:19.752Z"
   },
   {
    "duration": 3,
    "start_time": "2023-04-24T11:10:36.786Z"
   },
   {
    "duration": 64,
    "start_time": "2023-04-24T11:10:36.792Z"
   },
   {
    "duration": 5,
    "start_time": "2023-04-24T11:10:36.858Z"
   },
   {
    "duration": 47,
    "start_time": "2023-04-24T11:10:36.865Z"
   },
   {
    "duration": 14,
    "start_time": "2023-04-24T11:10:36.913Z"
   },
   {
    "duration": 13,
    "start_time": "2023-04-24T11:10:36.929Z"
   },
   {
    "duration": 14,
    "start_time": "2023-04-24T11:10:36.943Z"
   },
   {
    "duration": 11,
    "start_time": "2023-04-24T11:10:36.959Z"
   },
   {
    "duration": 5,
    "start_time": "2023-04-24T11:10:36.971Z"
   },
   {
    "duration": 14,
    "start_time": "2023-04-24T11:10:36.978Z"
   },
   {
    "duration": 15,
    "start_time": "2023-04-24T11:10:36.994Z"
   },
   {
    "duration": 26,
    "start_time": "2023-04-24T11:10:37.010Z"
   },
   {
    "duration": 26,
    "start_time": "2023-04-24T11:10:39.928Z"
   },
   {
    "duration": 24,
    "start_time": "2023-04-24T11:16:28.488Z"
   },
   {
    "duration": 3,
    "start_time": "2023-04-24T11:18:11.681Z"
   },
   {
    "duration": 84,
    "start_time": "2023-04-24T11:18:11.686Z"
   },
   {
    "duration": 7,
    "start_time": "2023-04-24T11:18:11.772Z"
   },
   {
    "duration": 15,
    "start_time": "2023-04-24T11:18:11.781Z"
   },
   {
    "duration": 31,
    "start_time": "2023-04-24T11:18:11.799Z"
   },
   {
    "duration": 52,
    "start_time": "2023-04-24T11:18:11.832Z"
   },
   {
    "duration": 17,
    "start_time": "2023-04-24T11:18:11.886Z"
   },
   {
    "duration": 36,
    "start_time": "2023-04-24T11:18:11.905Z"
   },
   {
    "duration": 27,
    "start_time": "2023-04-24T11:18:11.943Z"
   },
   {
    "duration": 28,
    "start_time": "2023-04-24T11:18:11.972Z"
   },
   {
    "duration": 24,
    "start_time": "2023-04-24T11:18:12.002Z"
   },
   {
    "duration": 33,
    "start_time": "2023-04-24T11:18:12.027Z"
   },
   {
    "duration": 47,
    "start_time": "2023-04-24T11:18:12.062Z"
   },
   {
    "duration": 11,
    "start_time": "2023-04-24T11:18:12.111Z"
   },
   {
    "duration": 14,
    "start_time": "2023-04-24T11:18:12.124Z"
   },
   {
    "duration": 25,
    "start_time": "2023-04-24T11:18:12.139Z"
   },
   {
    "duration": 13,
    "start_time": "2023-04-24T11:18:12.165Z"
   },
   {
    "duration": 16,
    "start_time": "2023-04-24T11:18:12.179Z"
   },
   {
    "duration": 500,
    "start_time": "2023-04-24T11:18:12.196Z"
   },
   {
    "duration": 2,
    "start_time": "2023-04-24T11:18:12.698Z"
   },
   {
    "duration": 45,
    "start_time": "2023-04-24T11:18:12.702Z"
   },
   {
    "duration": 495,
    "start_time": "2023-04-24T11:18:12.756Z"
   },
   {
    "duration": 147,
    "start_time": "2023-04-24T11:18:13.253Z"
   },
   {
    "duration": 990,
    "start_time": "2023-04-24T11:18:13.401Z"
   },
   {
    "duration": 39286,
    "start_time": "2023-04-24T11:18:14.394Z"
   },
   {
    "duration": 60,
    "start_time": "2023-04-24T11:18:53.682Z"
   },
   {
    "duration": 378,
    "start_time": "2023-04-24T11:18:53.744Z"
   },
   {
    "duration": 38161,
    "start_time": "2023-04-24T11:18:54.123Z"
   },
   {
    "duration": 3,
    "start_time": "2023-04-24T11:19:32.286Z"
   },
   {
    "duration": 56,
    "start_time": "2023-04-24T11:19:32.291Z"
   },
   {
    "duration": 89,
    "start_time": "2023-04-24T11:19:32.349Z"
   },
   {
    "duration": 421,
    "start_time": "2023-04-24T11:19:32.440Z"
   },
   {
    "duration": 51023,
    "start_time": "2023-04-24T11:19:32.862Z"
   },
   {
    "duration": 3,
    "start_time": "2023-04-24T11:20:23.887Z"
   },
   {
    "duration": 32,
    "start_time": "2023-04-24T11:20:23.892Z"
   },
   {
    "duration": 38,
    "start_time": "2023-04-24T11:20:23.926Z"
   },
   {
    "duration": 304,
    "start_time": "2023-04-24T11:20:23.968Z"
   },
   {
    "duration": 20690,
    "start_time": "2023-04-24T11:20:24.274Z"
   },
   {
    "duration": 181,
    "start_time": "2023-04-24T11:20:44.966Z"
   },
   {
    "duration": 475,
    "start_time": "2023-04-24T11:20:45.149Z"
   },
   {
    "duration": 26870,
    "start_time": "2023-04-24T11:20:45.625Z"
   },
   {
    "duration": 2,
    "start_time": "2023-04-24T11:21:12.497Z"
   },
   {
    "duration": 20,
    "start_time": "2023-04-24T11:21:12.501Z"
   },
   {
    "duration": 3,
    "start_time": "2023-04-24T11:21:12.982Z"
   },
   {
    "duration": 74,
    "start_time": "2023-04-24T11:21:12.987Z"
   },
   {
    "duration": 6,
    "start_time": "2023-04-24T11:21:13.062Z"
   },
   {
    "duration": 11,
    "start_time": "2023-04-24T11:21:13.070Z"
   },
   {
    "duration": 16,
    "start_time": "2023-04-24T11:21:13.083Z"
   },
   {
    "duration": 6,
    "start_time": "2023-04-24T11:21:13.100Z"
   },
   {
    "duration": 15,
    "start_time": "2023-04-24T11:21:13.107Z"
   },
   {
    "duration": 22,
    "start_time": "2023-04-24T11:21:13.124Z"
   },
   {
    "duration": 9,
    "start_time": "2023-04-24T11:21:13.147Z"
   },
   {
    "duration": 14,
    "start_time": "2023-04-24T11:21:13.157Z"
   },
   {
    "duration": 24,
    "start_time": "2023-04-24T11:21:13.172Z"
   },
   {
    "duration": 14,
    "start_time": "2023-04-24T11:21:13.198Z"
   },
   {
    "duration": 35,
    "start_time": "2023-04-24T11:21:13.214Z"
   },
   {
    "duration": 2,
    "start_time": "2023-04-24T11:21:13.251Z"
   },
   {
    "duration": 8,
    "start_time": "2023-04-24T11:21:13.255Z"
   },
   {
    "duration": 11,
    "start_time": "2023-04-24T11:21:13.265Z"
   },
   {
    "duration": 10,
    "start_time": "2023-04-24T11:21:13.278Z"
   },
   {
    "duration": 9,
    "start_time": "2023-04-24T11:21:13.290Z"
   },
   {
    "duration": 495,
    "start_time": "2023-04-24T11:21:13.300Z"
   },
   {
    "duration": 2,
    "start_time": "2023-04-24T11:21:13.797Z"
   },
   {
    "duration": 1556,
    "start_time": "2023-04-24T11:21:24.735Z"
   },
   {
    "duration": 64,
    "start_time": "2023-04-24T11:21:26.293Z"
   },
   {
    "duration": 5,
    "start_time": "2023-04-24T11:21:26.358Z"
   },
   {
    "duration": 7,
    "start_time": "2023-04-24T11:21:26.365Z"
   },
   {
    "duration": 14,
    "start_time": "2023-04-24T11:21:26.373Z"
   },
   {
    "duration": 13,
    "start_time": "2023-04-24T11:21:26.388Z"
   },
   {
    "duration": 25,
    "start_time": "2023-04-24T11:21:26.402Z"
   },
   {
    "duration": 24,
    "start_time": "2023-04-24T11:21:26.428Z"
   },
   {
    "duration": 14,
    "start_time": "2023-04-24T11:21:26.454Z"
   },
   {
    "duration": 16,
    "start_time": "2023-04-24T11:21:26.470Z"
   },
   {
    "duration": 8,
    "start_time": "2023-04-24T11:21:26.488Z"
   },
   {
    "duration": 30,
    "start_time": "2023-04-24T11:21:26.498Z"
   },
   {
    "duration": 24,
    "start_time": "2023-04-24T11:21:26.529Z"
   },
   {
    "duration": 2,
    "start_time": "2023-04-24T11:21:26.555Z"
   },
   {
    "duration": 13,
    "start_time": "2023-04-24T11:21:26.558Z"
   },
   {
    "duration": 14,
    "start_time": "2023-04-24T11:21:26.573Z"
   },
   {
    "duration": 18,
    "start_time": "2023-04-24T11:21:26.589Z"
   },
   {
    "duration": 76,
    "start_time": "2023-04-24T11:21:26.608Z"
   },
   {
    "duration": 456,
    "start_time": "2023-04-24T11:21:26.685Z"
   },
   {
    "duration": 2,
    "start_time": "2023-04-24T11:21:27.142Z"
   },
   {
    "duration": 202,
    "start_time": "2023-04-24T11:21:42.123Z"
   },
   {
    "duration": 122,
    "start_time": "2023-04-24T11:21:46.379Z"
   },
   {
    "duration": 187,
    "start_time": "2023-04-24T11:21:51.109Z"
   },
   {
    "duration": 416,
    "start_time": "2023-04-24T11:21:55.935Z"
   },
   {
    "duration": 18,
    "start_time": "2023-04-24T11:22:22.052Z"
   },
   {
    "duration": 393,
    "start_time": "2023-04-24T11:23:36.353Z"
   },
   {
    "duration": 9,
    "start_time": "2023-04-24T11:25:10.877Z"
   },
   {
    "duration": 15,
    "start_time": "2023-04-24T11:25:17.333Z"
   },
   {
    "duration": 308,
    "start_time": "2023-04-24T11:44:32.800Z"
   },
   {
    "duration": 317,
    "start_time": "2023-04-24T11:45:09.380Z"
   },
   {
    "duration": 22,
    "start_time": "2023-04-24T11:45:35.052Z"
   },
   {
    "duration": 21,
    "start_time": "2023-04-24T11:46:04.348Z"
   },
   {
    "duration": 20,
    "start_time": "2023-04-24T11:46:33.498Z"
   },
   {
    "duration": 339,
    "start_time": "2023-04-24T11:46:35.882Z"
   },
   {
    "duration": 124,
    "start_time": "2023-04-24T11:47:49.430Z"
   },
   {
    "duration": 835,
    "start_time": "2023-04-24T11:49:33.628Z"
   },
   {
    "duration": 37316,
    "start_time": "2023-04-24T11:50:18.899Z"
   },
   {
    "duration": 22,
    "start_time": "2023-04-24T11:52:34.062Z"
   },
   {
    "duration": 270,
    "start_time": "2023-04-24T11:53:07.520Z"
   },
   {
    "duration": 36963,
    "start_time": "2023-04-24T11:55:22.507Z"
   },
   {
    "duration": 11,
    "start_time": "2023-04-24T11:59:37.601Z"
   },
   {
    "duration": 179,
    "start_time": "2023-04-24T11:59:45.556Z"
   },
   {
    "duration": 3,
    "start_time": "2023-04-24T12:00:05.150Z"
   },
   {
    "duration": 9,
    "start_time": "2023-04-24T12:00:07.000Z"
   },
   {
    "duration": 24,
    "start_time": "2023-04-24T12:00:09.500Z"
   },
   {
    "duration": 326,
    "start_time": "2023-04-24T12:00:13.600Z"
   },
   {
    "duration": 49946,
    "start_time": "2023-04-24T12:02:59.868Z"
   },
   {
    "duration": 49828,
    "start_time": "2023-04-24T12:04:53.337Z"
   },
   {
    "duration": 4,
    "start_time": "2023-04-24T12:05:43.167Z"
   },
   {
    "duration": 32,
    "start_time": "2023-04-24T12:05:43.172Z"
   },
   {
    "duration": 32,
    "start_time": "2023-04-24T12:05:43.205Z"
   },
   {
    "duration": 334,
    "start_time": "2023-04-24T12:05:43.239Z"
   },
   {
    "duration": 20877,
    "start_time": "2023-04-24T12:05:43.575Z"
   },
   {
    "duration": 446,
    "start_time": "2023-04-24T12:09:02.858Z"
   },
   {
    "duration": 429,
    "start_time": "2023-04-24T12:10:37.393Z"
   },
   {
    "duration": 38425,
    "start_time": "2023-04-24T12:10:46.152Z"
   },
   {
    "duration": 10,
    "start_time": "2023-04-24T12:27:04.595Z"
   },
   {
    "duration": 4,
    "start_time": "2023-04-24T12:27:15.976Z"
   },
   {
    "duration": 20,
    "start_time": "2023-04-24T12:27:15.982Z"
   },
   {
    "duration": 22,
    "start_time": "2023-04-24T12:27:16.003Z"
   },
   {
    "duration": 311,
    "start_time": "2023-04-24T12:27:16.036Z"
   },
   {
    "duration": 19934,
    "start_time": "2023-04-24T12:27:16.349Z"
   },
   {
    "duration": 157,
    "start_time": "2023-04-24T12:27:36.284Z"
   },
   {
    "duration": 450,
    "start_time": "2023-04-24T12:27:36.443Z"
   },
   {
    "duration": 38446,
    "start_time": "2023-04-24T12:27:36.895Z"
   },
   {
    "duration": 3,
    "start_time": "2023-04-24T12:28:15.343Z"
   },
   {
    "duration": 30,
    "start_time": "2023-04-24T12:28:15.347Z"
   },
   {
    "duration": 10,
    "start_time": "2023-04-24T12:28:30.565Z"
   },
   {
    "duration": 11,
    "start_time": "2023-04-24T12:28:37.845Z"
   },
   {
    "duration": 30,
    "start_time": "2023-04-24T12:28:54.885Z"
   },
   {
    "duration": 191,
    "start_time": "2023-04-24T12:29:24.558Z"
   },
   {
    "duration": 164,
    "start_time": "2023-04-24T12:29:58.165Z"
   },
   {
    "duration": 4,
    "start_time": "2023-04-24T12:30:18.692Z"
   },
   {
    "duration": 196,
    "start_time": "2023-04-24T12:30:32.740Z"
   },
   {
    "duration": 171,
    "start_time": "2023-04-24T12:30:42.332Z"
   },
   {
    "duration": 167,
    "start_time": "2023-04-24T12:31:12.338Z"
   },
   {
    "duration": 265,
    "start_time": "2023-04-24T12:31:20.986Z"
   },
   {
    "duration": 160,
    "start_time": "2023-04-24T12:43:12.803Z"
   },
   {
    "duration": 184,
    "start_time": "2023-04-24T12:44:55.250Z"
   },
   {
    "duration": 157,
    "start_time": "2023-04-24T12:45:26.679Z"
   },
   {
    "duration": 168,
    "start_time": "2023-04-24T12:45:35.927Z"
   },
   {
    "duration": 174,
    "start_time": "2023-04-24T12:45:41.231Z"
   },
   {
    "duration": 179,
    "start_time": "2023-04-24T12:45:52.806Z"
   },
   {
    "duration": 194,
    "start_time": "2023-04-24T12:46:00.185Z"
   },
   {
    "duration": 184,
    "start_time": "2023-04-24T12:46:10.505Z"
   },
   {
    "duration": 178,
    "start_time": "2023-04-24T12:49:03.200Z"
   },
   {
    "duration": 16,
    "start_time": "2023-04-24T12:51:23.556Z"
   },
   {
    "duration": 20,
    "start_time": "2023-04-24T12:51:32.061Z"
   },
   {
    "duration": 13,
    "start_time": "2023-04-24T12:52:27.324Z"
   },
   {
    "duration": 3,
    "start_time": "2023-04-24T12:53:48.257Z"
   },
   {
    "duration": 4,
    "start_time": "2023-04-24T12:53:54.153Z"
   },
   {
    "duration": 5,
    "start_time": "2023-04-24T12:54:43.873Z"
   },
   {
    "duration": 6,
    "start_time": "2023-04-24T12:55:25.327Z"
   },
   {
    "duration": 6,
    "start_time": "2023-04-24T12:55:26.517Z"
   },
   {
    "duration": 11,
    "start_time": "2023-04-24T12:55:55.325Z"
   },
   {
    "duration": 11,
    "start_time": "2023-04-24T12:56:24.830Z"
   },
   {
    "duration": 12,
    "start_time": "2023-04-24T12:56:33.356Z"
   },
   {
    "duration": 13,
    "start_time": "2023-04-24T12:57:15.115Z"
   },
   {
    "duration": 7,
    "start_time": "2023-04-24T12:57:24.117Z"
   },
   {
    "duration": 7,
    "start_time": "2023-04-24T12:57:33.603Z"
   },
   {
    "duration": 7,
    "start_time": "2023-04-24T12:58:26.522Z"
   },
   {
    "duration": 15,
    "start_time": "2023-04-24T12:59:06.503Z"
   },
   {
    "duration": 8,
    "start_time": "2023-04-24T12:59:23.582Z"
   },
   {
    "duration": 9,
    "start_time": "2023-04-24T12:59:31.243Z"
   },
   {
    "duration": 9,
    "start_time": "2023-04-24T13:00:23.448Z"
   },
   {
    "duration": 9,
    "start_time": "2023-04-24T13:00:30.654Z"
   },
   {
    "duration": 9,
    "start_time": "2023-04-24T13:00:37.632Z"
   },
   {
    "duration": 1284,
    "start_time": "2023-04-24T13:06:10.485Z"
   },
   {
    "duration": 63,
    "start_time": "2023-04-24T13:06:11.770Z"
   },
   {
    "duration": 5,
    "start_time": "2023-04-24T13:06:11.835Z"
   },
   {
    "duration": 9,
    "start_time": "2023-04-24T13:06:11.842Z"
   },
   {
    "duration": 6,
    "start_time": "2023-04-24T13:06:11.852Z"
   },
   {
    "duration": 6,
    "start_time": "2023-04-24T13:06:11.859Z"
   },
   {
    "duration": 19,
    "start_time": "2023-04-24T13:06:11.866Z"
   },
   {
    "duration": 24,
    "start_time": "2023-04-24T13:06:11.887Z"
   },
   {
    "duration": 5,
    "start_time": "2023-04-24T13:06:11.913Z"
   },
   {
    "duration": 15,
    "start_time": "2023-04-24T13:06:11.921Z"
   },
   {
    "duration": 10,
    "start_time": "2023-04-24T13:06:11.938Z"
   },
   {
    "duration": 14,
    "start_time": "2023-04-24T13:06:11.950Z"
   },
   {
    "duration": 25,
    "start_time": "2023-04-24T13:06:11.966Z"
   },
   {
    "duration": 3,
    "start_time": "2023-04-24T13:06:11.992Z"
   },
   {
    "duration": 5,
    "start_time": "2023-04-24T13:06:11.996Z"
   },
   {
    "duration": 6,
    "start_time": "2023-04-24T13:06:12.003Z"
   },
   {
    "duration": 23,
    "start_time": "2023-04-24T13:06:12.011Z"
   },
   {
    "duration": 4,
    "start_time": "2023-04-24T13:06:12.036Z"
   },
   {
    "duration": 392,
    "start_time": "2023-04-24T13:06:12.042Z"
   },
   {
    "duration": 3,
    "start_time": "2023-04-24T13:06:12.435Z"
   },
   {
    "duration": 22,
    "start_time": "2023-04-24T13:06:12.439Z"
   },
   {
    "duration": 72,
    "start_time": "2023-04-24T13:06:12.463Z"
   },
   {
    "duration": 406,
    "start_time": "2023-04-24T13:06:12.539Z"
   },
   {
    "duration": 107,
    "start_time": "2023-04-24T13:06:12.947Z"
   },
   {
    "duration": 828,
    "start_time": "2023-04-24T13:06:13.055Z"
   },
   {
    "duration": 38384,
    "start_time": "2023-04-24T13:06:13.885Z"
   },
   {
    "duration": 64,
    "start_time": "2023-04-24T13:06:52.271Z"
   },
   {
    "duration": 415,
    "start_time": "2023-04-24T13:06:52.341Z"
   },
   {
    "duration": 36439,
    "start_time": "2023-04-24T13:06:52.758Z"
   },
   {
    "duration": 3,
    "start_time": "2023-04-24T13:07:29.199Z"
   },
   {
    "duration": 14,
    "start_time": "2023-04-24T13:07:29.204Z"
   },
   {
    "duration": 33,
    "start_time": "2023-04-24T13:07:29.219Z"
   },
   {
    "duration": 425,
    "start_time": "2023-04-24T13:07:29.334Z"
   },
   {
    "duration": 50883,
    "start_time": "2023-04-24T13:07:29.760Z"
   },
   {
    "duration": 4,
    "start_time": "2023-04-24T13:08:20.645Z"
   },
   {
    "duration": 19,
    "start_time": "2023-04-24T13:08:20.650Z"
   },
   {
    "duration": 15,
    "start_time": "2023-04-24T13:08:20.671Z"
   },
   {
    "duration": 259,
    "start_time": "2023-04-24T13:08:20.738Z"
   },
   {
    "duration": 20226,
    "start_time": "2023-04-24T13:08:20.999Z"
   },
   {
    "duration": 212,
    "start_time": "2023-04-24T13:08:41.227Z"
   },
   {
    "duration": 443,
    "start_time": "2023-04-24T13:08:41.441Z"
   },
   {
    "duration": 39336,
    "start_time": "2023-04-24T13:08:41.885Z"
   },
   {
    "duration": 11,
    "start_time": "2023-04-24T13:09:21.223Z"
   },
   {
    "duration": 12,
    "start_time": "2023-04-24T13:09:21.236Z"
   },
   {
    "duration": 289,
    "start_time": "2023-04-24T13:09:21.249Z"
   },
   {
    "duration": 0,
    "start_time": "2023-04-24T13:09:21.539Z"
   },
   {
    "duration": 9,
    "start_time": "2023-04-24T13:10:06.765Z"
   },
   {
    "duration": 12,
    "start_time": "2023-04-24T13:10:34.539Z"
   },
   {
    "duration": 144,
    "start_time": "2023-04-24T13:11:01.923Z"
   },
   {
    "duration": 106,
    "start_time": "2023-04-24T13:14:37.880Z"
   },
   {
    "duration": 181,
    "start_time": "2023-04-24T13:16:04.027Z"
   },
   {
    "duration": 173,
    "start_time": "2023-04-24T13:16:23.655Z"
   },
   {
    "duration": 186,
    "start_time": "2023-04-24T13:17:16.703Z"
   },
   {
    "duration": 174,
    "start_time": "2023-04-24T13:17:35.857Z"
   },
   {
    "duration": 255,
    "start_time": "2023-04-24T13:18:15.557Z"
   },
   {
    "duration": 236,
    "start_time": "2023-04-24T13:18:33.180Z"
   },
   {
    "duration": 232,
    "start_time": "2023-04-24T13:18:37.206Z"
   },
   {
    "duration": 167,
    "start_time": "2023-04-24T13:19:25.525Z"
   },
   {
    "duration": 166,
    "start_time": "2023-04-24T13:19:55.747Z"
   },
   {
    "duration": 170,
    "start_time": "2023-04-24T13:20:07.945Z"
   },
   {
    "duration": 283,
    "start_time": "2023-04-24T13:20:21.922Z"
   },
   {
    "duration": 8,
    "start_time": "2023-04-24T13:22:40.085Z"
   },
   {
    "duration": 168,
    "start_time": "2023-04-24T13:23:00.220Z"
   },
   {
    "duration": 179,
    "start_time": "2023-04-24T13:23:04.526Z"
   },
   {
    "duration": 169,
    "start_time": "2023-04-24T13:23:12.600Z"
   },
   {
    "duration": 200,
    "start_time": "2023-04-24T13:24:17.420Z"
   },
   {
    "duration": 170,
    "start_time": "2023-04-24T13:24:21.819Z"
   },
   {
    "duration": 165,
    "start_time": "2023-04-24T13:24:31.474Z"
   },
   {
    "duration": 176,
    "start_time": "2023-04-24T13:24:47.554Z"
   },
   {
    "duration": 170,
    "start_time": "2023-04-24T13:25:11.744Z"
   },
   {
    "duration": 169,
    "start_time": "2023-04-24T13:25:18.308Z"
   },
   {
    "duration": 198,
    "start_time": "2023-04-24T13:25:27.441Z"
   },
   {
    "duration": 1740,
    "start_time": "2023-04-24T13:25:51.417Z"
   },
   {
    "duration": 235,
    "start_time": "2023-04-24T13:27:20.621Z"
   },
   {
    "duration": 164,
    "start_time": "2023-04-24T13:27:37.501Z"
   },
   {
    "duration": 185,
    "start_time": "2023-04-24T13:28:16.593Z"
   },
   {
    "duration": 182,
    "start_time": "2023-04-24T13:29:11.183Z"
   },
   {
    "duration": 174,
    "start_time": "2023-04-24T13:29:22.506Z"
   },
   {
    "duration": 4,
    "start_time": "2023-04-24T13:29:57.100Z"
   },
   {
    "duration": 261,
    "start_time": "2023-04-24T13:30:06.649Z"
   },
   {
    "duration": 8,
    "start_time": "2023-04-24T13:30:56.290Z"
   },
   {
    "duration": 180,
    "start_time": "2023-04-24T13:32:21.900Z"
   },
   {
    "duration": 163,
    "start_time": "2023-04-24T13:32:27.549Z"
   },
   {
    "duration": 180,
    "start_time": "2023-04-24T13:32:30.700Z"
   },
   {
    "duration": 204,
    "start_time": "2023-04-24T13:32:34.539Z"
   },
   {
    "duration": 93,
    "start_time": "2023-04-24T13:33:32.091Z"
   },
   {
    "duration": 94,
    "start_time": "2023-04-24T13:33:38.402Z"
   },
   {
    "duration": 98,
    "start_time": "2023-04-24T13:33:52.938Z"
   },
   {
    "duration": 9,
    "start_time": "2023-04-24T13:34:01.043Z"
   },
   {
    "duration": 95,
    "start_time": "2023-04-24T13:34:06.389Z"
   },
   {
    "duration": 6,
    "start_time": "2023-04-24T13:35:08.988Z"
   },
   {
    "duration": 103,
    "start_time": "2023-04-24T13:35:11.384Z"
   },
   {
    "duration": 9,
    "start_time": "2023-04-24T13:35:13.503Z"
   },
   {
    "duration": 97,
    "start_time": "2023-04-24T13:35:38.199Z"
   },
   {
    "duration": 181,
    "start_time": "2023-04-24T13:36:29.786Z"
   },
   {
    "duration": 150,
    "start_time": "2023-04-24T13:37:47.890Z"
   },
   {
    "duration": 137,
    "start_time": "2023-04-24T13:37:54.947Z"
   },
   {
    "duration": 144,
    "start_time": "2023-04-24T13:37:59.286Z"
   },
   {
    "duration": 240,
    "start_time": "2023-04-24T13:38:02.386Z"
   },
   {
    "duration": 169,
    "start_time": "2023-04-24T13:38:16.120Z"
   },
   {
    "duration": 147,
    "start_time": "2023-04-24T13:39:43.321Z"
   },
   {
    "duration": 157,
    "start_time": "2023-04-24T13:40:20.014Z"
   },
   {
    "duration": 21,
    "start_time": "2023-04-24T13:44:27.911Z"
   },
   {
    "duration": 17,
    "start_time": "2023-04-24T13:44:37.927Z"
   },
   {
    "duration": 17,
    "start_time": "2023-04-24T13:46:07.799Z"
   },
   {
    "duration": 47,
    "start_time": "2023-04-24T13:52:02.590Z"
   },
   {
    "duration": 34,
    "start_time": "2023-04-24T13:52:24.000Z"
   },
   {
    "duration": 200,
    "start_time": "2023-04-24T13:54:23.841Z"
   },
   {
    "duration": 17,
    "start_time": "2023-04-24T13:55:17.549Z"
   },
   {
    "duration": 4,
    "start_time": "2023-04-24T13:55:40.980Z"
   },
   {
    "duration": 68,
    "start_time": "2023-04-24T13:55:40.986Z"
   },
   {
    "duration": 5,
    "start_time": "2023-04-24T13:55:41.055Z"
   },
   {
    "duration": 6,
    "start_time": "2023-04-24T13:55:41.063Z"
   },
   {
    "duration": 7,
    "start_time": "2023-04-24T13:55:41.070Z"
   },
   {
    "duration": 6,
    "start_time": "2023-04-24T13:55:41.078Z"
   },
   {
    "duration": 17,
    "start_time": "2023-04-24T13:55:41.085Z"
   },
   {
    "duration": 32,
    "start_time": "2023-04-24T13:55:41.104Z"
   },
   {
    "duration": 4,
    "start_time": "2023-04-24T13:55:41.137Z"
   },
   {
    "duration": 25,
    "start_time": "2023-04-24T13:55:41.143Z"
   },
   {
    "duration": 8,
    "start_time": "2023-04-24T13:55:41.169Z"
   },
   {
    "duration": 15,
    "start_time": "2023-04-24T13:55:41.179Z"
   },
   {
    "duration": 25,
    "start_time": "2023-04-24T13:55:41.195Z"
   },
   {
    "duration": 2,
    "start_time": "2023-04-24T13:55:41.223Z"
   },
   {
    "duration": 2,
    "start_time": "2023-04-24T13:55:41.236Z"
   },
   {
    "duration": 11,
    "start_time": "2023-04-24T13:55:41.240Z"
   },
   {
    "duration": 20,
    "start_time": "2023-04-24T13:55:41.253Z"
   },
   {
    "duration": 22,
    "start_time": "2023-04-24T13:55:41.275Z"
   },
   {
    "duration": 432,
    "start_time": "2023-04-24T13:55:41.298Z"
   },
   {
    "duration": 4,
    "start_time": "2023-04-24T13:55:41.731Z"
   },
   {
    "duration": 33,
    "start_time": "2023-04-24T13:55:41.736Z"
   },
   {
    "duration": 65,
    "start_time": "2023-04-24T13:55:41.771Z"
   },
   {
    "duration": 395,
    "start_time": "2023-04-24T13:55:41.839Z"
   },
   {
    "duration": 107,
    "start_time": "2023-04-24T13:55:42.236Z"
   },
   {
    "duration": 804,
    "start_time": "2023-04-24T13:55:42.345Z"
   },
   {
    "duration": 38641,
    "start_time": "2023-04-24T13:55:43.151Z"
   },
   {
    "duration": 47,
    "start_time": "2023-04-24T13:56:21.794Z"
   },
   {
    "duration": 418,
    "start_time": "2023-04-24T13:56:21.934Z"
   },
   {
    "duration": 37830,
    "start_time": "2023-04-24T13:56:22.353Z"
   },
   {
    "duration": 4,
    "start_time": "2023-04-24T13:57:00.185Z"
   },
   {
    "duration": 36,
    "start_time": "2023-04-24T13:57:00.190Z"
   },
   {
    "duration": 108,
    "start_time": "2023-04-24T13:57:00.228Z"
   },
   {
    "duration": 450,
    "start_time": "2023-04-24T13:57:00.338Z"
   },
   {
    "duration": 50427,
    "start_time": "2023-04-24T13:57:00.790Z"
   },
   {
    "duration": 4,
    "start_time": "2023-04-24T13:57:51.218Z"
   },
   {
    "duration": 19,
    "start_time": "2023-04-24T13:57:51.223Z"
   },
   {
    "duration": 93,
    "start_time": "2023-04-24T13:57:51.243Z"
   },
   {
    "duration": 265,
    "start_time": "2023-04-24T13:57:51.339Z"
   },
   {
    "duration": 19942,
    "start_time": "2023-04-24T13:57:51.606Z"
   },
   {
    "duration": 194,
    "start_time": "2023-04-24T13:58:11.550Z"
   },
   {
    "duration": 439,
    "start_time": "2023-04-24T13:58:11.748Z"
   },
   {
    "duration": 40203,
    "start_time": "2023-04-24T13:58:12.189Z"
   },
   {
    "duration": 4,
    "start_time": "2023-04-24T13:58:52.394Z"
   },
   {
    "duration": 156,
    "start_time": "2023-04-24T13:58:52.400Z"
   },
   {
    "duration": 8,
    "start_time": "2023-04-24T13:58:52.557Z"
   },
   {
    "duration": 20,
    "start_time": "2023-04-24T13:58:52.566Z"
   },
   {
    "duration": 3,
    "start_time": "2023-04-24T14:43:06.496Z"
   },
   {
    "duration": 5,
    "start_time": "2023-04-24T14:43:54.125Z"
   },
   {
    "duration": 23,
    "start_time": "2023-04-24T14:44:38.323Z"
   },
   {
    "duration": 10,
    "start_time": "2023-04-24T14:44:49.580Z"
   },
   {
    "duration": 3,
    "start_time": "2023-04-24T14:44:58.184Z"
   },
   {
    "duration": 20,
    "start_time": "2023-04-24T14:45:12.892Z"
   },
   {
    "duration": 8,
    "start_time": "2023-04-24T14:45:31.699Z"
   },
   {
    "duration": 45,
    "start_time": "2023-09-04T19:17:06.068Z"
   },
   {
    "duration": 1649,
    "start_time": "2023-09-04T19:17:09.376Z"
   },
   {
    "duration": 190,
    "start_time": "2023-09-04T19:17:11.027Z"
   },
   {
    "duration": 6,
    "start_time": "2023-09-04T19:17:11.219Z"
   },
   {
    "duration": 15,
    "start_time": "2023-09-04T19:17:11.226Z"
   },
   {
    "duration": 4,
    "start_time": "2023-09-04T19:17:11.242Z"
   },
   {
    "duration": 33,
    "start_time": "2023-09-04T19:17:11.248Z"
   },
   {
    "duration": 11,
    "start_time": "2023-09-04T19:17:11.283Z"
   },
   {
    "duration": 11,
    "start_time": "2023-09-04T19:17:11.296Z"
   },
   {
    "duration": 18,
    "start_time": "2023-09-04T19:17:11.308Z"
   },
   {
    "duration": 7,
    "start_time": "2023-09-04T19:17:11.328Z"
   },
   {
    "duration": 13,
    "start_time": "2023-09-04T19:17:11.337Z"
   },
   {
    "duration": 26,
    "start_time": "2023-09-04T19:17:11.352Z"
   },
   {
    "duration": 6,
    "start_time": "2023-09-04T19:17:11.379Z"
   },
   {
    "duration": 486,
    "start_time": "2023-09-04T19:17:11.386Z"
   },
   {
    "duration": 11,
    "start_time": "2023-09-04T19:17:11.874Z"
   },
   {
    "duration": 69,
    "start_time": "2023-09-04T19:17:11.887Z"
   },
   {
    "duration": 400,
    "start_time": "2023-09-04T19:17:11.958Z"
   },
   {
    "duration": 109,
    "start_time": "2023-09-04T19:17:14.201Z"
   },
   {
    "duration": 138,
    "start_time": "2023-09-04T19:17:37.932Z"
   },
   {
    "duration": 1605,
    "start_time": "2023-09-08T16:40:14.206Z"
   },
   {
    "duration": 115,
    "start_time": "2023-09-08T16:40:15.814Z"
   },
   {
    "duration": 6,
    "start_time": "2023-09-08T16:40:15.931Z"
   },
   {
    "duration": 9,
    "start_time": "2023-09-08T16:40:15.939Z"
   },
   {
    "duration": 14,
    "start_time": "2023-09-08T16:40:15.950Z"
   },
   {
    "duration": 32,
    "start_time": "2023-09-08T16:40:15.966Z"
   },
   {
    "duration": 24,
    "start_time": "2023-09-08T16:40:15.999Z"
   },
   {
    "duration": 11,
    "start_time": "2023-09-08T16:40:16.025Z"
   },
   {
    "duration": 30,
    "start_time": "2023-09-08T16:40:16.037Z"
   },
   {
    "duration": 43,
    "start_time": "2023-09-08T16:40:16.069Z"
   },
   {
    "duration": 25,
    "start_time": "2023-09-08T16:40:16.114Z"
   },
   {
    "duration": 47,
    "start_time": "2023-09-08T16:40:16.141Z"
   },
   {
    "duration": 6,
    "start_time": "2023-09-08T16:40:16.190Z"
   },
   {
    "duration": 451,
    "start_time": "2023-09-08T16:40:16.199Z"
   },
   {
    "duration": 13,
    "start_time": "2023-09-08T16:40:16.651Z"
   },
   {
    "duration": 49,
    "start_time": "2023-09-08T16:40:16.666Z"
   },
   {
    "duration": 517,
    "start_time": "2023-09-08T16:40:16.718Z"
   },
   {
    "duration": 151,
    "start_time": "2023-09-08T16:40:17.237Z"
   },
   {
    "duration": 1050,
    "start_time": "2023-09-08T16:40:17.390Z"
   },
   {
    "duration": 36589,
    "start_time": "2023-09-08T16:40:18.441Z"
   },
   {
    "duration": 79,
    "start_time": "2023-09-08T16:40:55.032Z"
   },
   {
    "duration": 500,
    "start_time": "2023-09-08T16:40:55.113Z"
   },
   {
    "duration": 45325,
    "start_time": "2023-09-08T16:40:55.615Z"
   },
   {
    "duration": 4,
    "start_time": "2023-09-08T16:41:40.942Z"
   },
   {
    "duration": 32,
    "start_time": "2023-09-08T16:41:40.948Z"
   },
   {
    "duration": 142,
    "start_time": "2023-09-08T16:41:40.982Z"
   },
   {
    "duration": 409,
    "start_time": "2023-09-08T16:41:41.213Z"
   },
   {
    "duration": 62987,
    "start_time": "2023-09-08T16:41:41.623Z"
   },
   {
    "duration": 9,
    "start_time": "2023-09-08T16:42:44.613Z"
   },
   {
    "duration": 21,
    "start_time": "2023-09-08T16:42:44.624Z"
   },
   {
    "duration": 68,
    "start_time": "2023-09-08T16:42:44.648Z"
   },
   {
    "duration": 352,
    "start_time": "2023-09-08T16:42:44.718Z"
   },
   {
    "duration": 24290,
    "start_time": "2023-09-08T16:42:45.072Z"
   },
   {
    "duration": 157,
    "start_time": "2023-09-08T16:43:09.363Z"
   },
   {
    "duration": 563,
    "start_time": "2023-09-08T16:43:09.523Z"
   },
   {
    "duration": 46881,
    "start_time": "2023-09-08T16:43:10.088Z"
   },
   {
    "duration": 8,
    "start_time": "2023-09-08T16:43:56.971Z"
   },
   {
    "duration": 288,
    "start_time": "2023-09-08T16:43:56.981Z"
   },
   {
    "duration": 8,
    "start_time": "2023-09-08T16:43:57.271Z"
   },
   {
    "duration": 81,
    "start_time": "2023-09-08T16:43:57.281Z"
   },
   {
    "duration": 26,
    "start_time": "2023-09-08T16:43:57.366Z"
   },
   {
    "duration": 87029,
    "start_time": "2023-09-08T16:43:57.396Z"
   },
   {
    "duration": 14,
    "start_time": "2023-09-08T16:45:24.427Z"
   },
   {
    "duration": 102,
    "start_time": "2023-09-08T16:46:42.176Z"
   },
   {
    "duration": 19034,
    "start_time": "2023-09-08T16:47:07.948Z"
   },
   {
    "duration": 13,
    "start_time": "2023-09-08T16:50:02.615Z"
   },
   {
    "duration": 14,
    "start_time": "2023-09-08T16:50:14.227Z"
   },
   {
    "duration": 157,
    "start_time": "2023-09-08T16:50:22.859Z"
   },
   {
    "duration": 13,
    "start_time": "2023-09-08T16:50:35.971Z"
   },
   {
    "duration": 135,
    "start_time": "2023-09-08T16:50:42.276Z"
   },
   {
    "duration": 21,
    "start_time": "2023-09-08T16:50:54.597Z"
   },
   {
    "duration": 109,
    "start_time": "2023-09-08T16:51:06.804Z"
   },
   {
    "duration": 14,
    "start_time": "2023-09-08T16:51:23.182Z"
   },
   {
    "duration": 179,
    "start_time": "2023-09-08T16:51:29.639Z"
   },
   {
    "duration": 5,
    "start_time": "2023-09-08T16:54:10.249Z"
   },
   {
    "duration": 11,
    "start_time": "2023-09-08T16:54:30.545Z"
   },
   {
    "duration": 10,
    "start_time": "2023-09-08T16:54:42.753Z"
   },
   {
    "duration": 297,
    "start_time": "2023-09-08T16:55:10.489Z"
   },
   {
    "duration": 296,
    "start_time": "2023-09-08T16:55:19.396Z"
   },
   {
    "duration": 235,
    "start_time": "2023-09-08T16:55:55.028Z"
   },
   {
    "duration": 124,
    "start_time": "2023-09-08T16:55:59.314Z"
   },
   {
    "duration": 120,
    "start_time": "2023-09-08T16:56:22.628Z"
   },
   {
    "duration": 123,
    "start_time": "2023-09-08T16:56:27.910Z"
   },
   {
    "duration": 177,
    "start_time": "2023-09-08T16:57:01.340Z"
   },
   {
    "duration": 179,
    "start_time": "2023-09-08T16:57:13.292Z"
   },
   {
    "duration": 10,
    "start_time": "2023-09-08T16:57:41.036Z"
   },
   {
    "duration": 10,
    "start_time": "2023-09-08T16:57:43.647Z"
   },
   {
    "duration": 12,
    "start_time": "2023-09-08T16:57:52.891Z"
   },
   {
    "duration": 11,
    "start_time": "2023-09-08T16:58:06.539Z"
   },
   {
    "duration": 8,
    "start_time": "2023-09-08T16:58:09.363Z"
   },
   {
    "duration": 6,
    "start_time": "2023-09-08T17:05:34.661Z"
   },
   {
    "duration": 4,
    "start_time": "2023-09-08T17:05:35.038Z"
   },
   {
    "duration": 12,
    "start_time": "2023-09-08T18:01:28.831Z"
   },
   {
    "duration": 5,
    "start_time": "2023-09-08T18:01:39.346Z"
   },
   {
    "duration": 4,
    "start_time": "2023-09-08T18:01:41.795Z"
   },
   {
    "duration": 14,
    "start_time": "2023-09-08T18:02:03.225Z"
   },
   {
    "duration": 21,
    "start_time": "2023-09-08T18:02:04.821Z"
   },
   {
    "duration": 32,
    "start_time": "2023-09-08T18:02:24.783Z"
   },
   {
    "duration": 6,
    "start_time": "2023-09-08T18:02:27.335Z"
   },
   {
    "duration": 456,
    "start_time": "2023-09-08T18:02:29.691Z"
   },
   {
    "duration": 11,
    "start_time": "2023-09-08T18:02:37.715Z"
   },
   {
    "duration": 25,
    "start_time": "2023-09-08T18:02:44.383Z"
   },
   {
    "duration": 318,
    "start_time": "2023-09-08T18:02:51.163Z"
   },
   {
    "duration": 33730,
    "start_time": "2023-09-08T18:03:18.300Z"
   },
   {
    "duration": 36087,
    "start_time": "2023-09-08T18:04:03.412Z"
   },
   {
    "duration": 4,
    "start_time": "2023-09-08T18:05:47.517Z"
   },
   {
    "duration": 14,
    "start_time": "2023-09-08T18:05:48.337Z"
   },
   {
    "duration": 29,
    "start_time": "2023-09-08T18:05:50.365Z"
   },
   {
    "duration": 9,
    "start_time": "2023-09-08T18:08:55.710Z"
   },
   {
    "duration": 4,
    "start_time": "2023-09-08T18:09:18.834Z"
   },
   {
    "duration": 15,
    "start_time": "2023-09-08T18:09:19.517Z"
   },
   {
    "duration": 8,
    "start_time": "2023-09-08T18:09:21.249Z"
   },
   {
    "duration": 63,
    "start_time": "2023-09-08T18:09:47.604Z"
   },
   {
    "duration": 6,
    "start_time": "2023-09-08T18:09:51.653Z"
   },
   {
    "duration": 5,
    "start_time": "2023-09-08T18:09:55.141Z"
   },
   {
    "duration": 16,
    "start_time": "2023-09-08T18:09:56.322Z"
   },
   {
    "duration": 8,
    "start_time": "2023-09-08T18:09:59.337Z"
   },
   {
    "duration": 5,
    "start_time": "2023-09-08T18:10:13.790Z"
   },
   {
    "duration": 9116,
    "start_time": "2023-09-08T18:10:19.760Z"
   },
   {
    "duration": 16,
    "start_time": "2023-09-08T18:11:12.222Z"
   },
   {
    "duration": 15,
    "start_time": "2023-09-08T18:12:22.370Z"
   },
   {
    "duration": 4,
    "start_time": "2023-09-08T18:12:55.451Z"
   },
   {
    "duration": 14,
    "start_time": "2023-09-08T18:12:56.342Z"
   },
   {
    "duration": 12,
    "start_time": "2023-09-08T18:13:01.816Z"
   },
   {
    "duration": 18,
    "start_time": "2023-09-08T18:13:11.866Z"
   },
   {
    "duration": 16,
    "start_time": "2023-09-08T18:13:13.694Z"
   },
   {
    "duration": 14,
    "start_time": "2023-09-08T18:13:14.647Z"
   },
   {
    "duration": 30,
    "start_time": "2023-09-08T18:13:17.406Z"
   },
   {
    "duration": 28,
    "start_time": "2023-09-08T18:13:47.734Z"
   },
   {
    "duration": 6,
    "start_time": "2023-09-08T18:13:56.316Z"
   },
   {
    "duration": 407,
    "start_time": "2023-09-08T18:13:59.051Z"
   },
   {
    "duration": 15,
    "start_time": "2023-09-08T18:14:10.131Z"
   },
   {
    "duration": 5,
    "start_time": "2023-09-08T18:14:42.511Z"
   },
   {
    "duration": 14,
    "start_time": "2023-09-08T18:14:42.747Z"
   },
   {
    "duration": 8,
    "start_time": "2023-09-08T18:14:43.158Z"
   },
   {
    "duration": 18,
    "start_time": "2023-09-08T18:14:43.359Z"
   },
   {
    "duration": 10,
    "start_time": "2023-09-08T18:14:43.527Z"
   },
   {
    "duration": 10,
    "start_time": "2023-09-08T18:14:43.715Z"
   },
   {
    "duration": 33,
    "start_time": "2023-09-08T18:14:44.482Z"
   },
   {
    "duration": 6,
    "start_time": "2023-09-08T18:14:45.318Z"
   },
   {
    "duration": 14,
    "start_time": "2023-09-08T18:14:47.647Z"
   },
   {
    "duration": 29,
    "start_time": "2023-09-08T18:14:55.502Z"
   },
   {
    "duration": 60058,
    "start_time": "2023-09-08T18:15:05.659Z"
   },
   {
    "duration": 13,
    "start_time": "2023-09-08T18:16:45.162Z"
   },
   {
    "duration": 13,
    "start_time": "2023-09-08T18:16:50.747Z"
   },
   {
    "duration": 375,
    "start_time": "2023-09-08T18:18:43.191Z"
   },
   {
    "duration": 1552,
    "start_time": "2023-09-08T18:19:00.855Z"
   },
   {
    "duration": 76,
    "start_time": "2023-09-08T18:19:02.416Z"
   },
   {
    "duration": 10,
    "start_time": "2023-09-08T18:19:02.494Z"
   },
   {
    "duration": 31,
    "start_time": "2023-09-08T18:19:02.508Z"
   },
   {
    "duration": 24,
    "start_time": "2023-09-08T18:19:02.542Z"
   },
   {
    "duration": 87,
    "start_time": "2023-09-08T18:19:02.568Z"
   },
   {
    "duration": 216,
    "start_time": "2023-09-08T18:19:02.657Z"
   },
   {
    "duration": 116,
    "start_time": "2023-09-08T18:19:02.874Z"
   },
   {
    "duration": 36,
    "start_time": "2023-09-08T18:19:02.992Z"
   },
   {
    "duration": 465,
    "start_time": "2023-09-08T18:19:03.030Z"
   },
   {
    "duration": 24,
    "start_time": "2023-09-08T18:19:03.497Z"
   },
   {
    "duration": 58,
    "start_time": "2023-09-08T18:19:03.523Z"
   },
   {
    "duration": 64,
    "start_time": "2023-09-08T18:19:03.583Z"
   },
   {
    "duration": 5,
    "start_time": "2023-09-08T18:19:03.651Z"
   },
   {
    "duration": 480,
    "start_time": "2023-09-08T18:19:03.658Z"
   },
   {
    "duration": 15,
    "start_time": "2023-09-08T18:19:04.139Z"
   },
   {
    "duration": 77,
    "start_time": "2023-09-08T18:19:04.156Z"
   },
   {
    "duration": 528,
    "start_time": "2023-09-08T18:19:04.304Z"
   },
   {
    "duration": 159,
    "start_time": "2023-09-08T18:19:04.834Z"
   },
   {
    "duration": 1017,
    "start_time": "2023-09-08T18:19:04.995Z"
   },
   {
    "duration": 60060,
    "start_time": "2023-09-08T18:19:06.016Z"
   },
   {
    "duration": 126,
    "start_time": "2023-09-08T18:20:06.078Z"
   },
   {
    "duration": 435,
    "start_time": "2023-09-08T18:20:06.208Z"
   },
   {
    "duration": 83705,
    "start_time": "2023-09-08T18:20:06.644Z"
   },
   {
    "duration": 5,
    "start_time": "2023-09-08T18:21:30.351Z"
   },
   {
    "duration": 163,
    "start_time": "2023-09-08T18:21:30.357Z"
   },
   {
    "duration": 176,
    "start_time": "2023-09-08T18:21:30.522Z"
   },
   {
    "duration": 561,
    "start_time": "2023-09-08T18:21:30.716Z"
   },
   {
    "duration": 115963,
    "start_time": "2023-09-08T18:21:31.278Z"
   },
   {
    "duration": 5,
    "start_time": "2023-09-08T18:23:27.242Z"
   },
   {
    "duration": 39,
    "start_time": "2023-09-08T18:23:27.248Z"
   },
   {
    "duration": 119,
    "start_time": "2023-09-08T18:23:27.289Z"
   },
   {
    "duration": 267,
    "start_time": "2023-09-08T18:23:27.411Z"
   },
   {
    "duration": 44595,
    "start_time": "2023-09-08T18:23:27.680Z"
   },
   {
    "duration": 234,
    "start_time": "2023-09-08T18:24:12.277Z"
   },
   {
    "duration": 620,
    "start_time": "2023-09-08T18:24:12.514Z"
   },
   {
    "duration": 86012,
    "start_time": "2023-09-08T18:24:13.137Z"
   },
   {
    "duration": 6,
    "start_time": "2023-09-08T18:25:39.151Z"
   },
   {
    "duration": 6,
    "start_time": "2023-09-08T18:25:39.158Z"
   },
   {
    "duration": 221,
    "start_time": "2023-09-08T18:25:39.166Z"
   },
   {
    "duration": 22,
    "start_time": "2023-09-08T18:25:39.391Z"
   },
   {
    "duration": 126,
    "start_time": "2023-09-08T18:25:39.414Z"
   },
   {
    "duration": 9,
    "start_time": "2023-09-08T18:25:39.542Z"
   },
   {
    "duration": 112,
    "start_time": "2023-09-08T18:30:25.012Z"
   },
   {
    "duration": 11,
    "start_time": "2023-09-08T18:30:46.596Z"
   },
   {
    "duration": 8,
    "start_time": "2023-09-08T18:30:53.940Z"
   },
   {
    "duration": 11,
    "start_time": "2023-09-08T18:30:57.033Z"
   },
   {
    "duration": 4,
    "start_time": "2023-09-08T18:33:08.023Z"
   },
   {
    "duration": 77,
    "start_time": "2023-09-08T18:33:25.663Z"
   },
   {
    "duration": 5,
    "start_time": "2023-09-08T18:33:32.055Z"
   },
   {
    "duration": 194662,
    "start_time": "2023-09-08T18:34:33.198Z"
   },
   {
    "duration": 115,
    "start_time": "2023-09-08T18:40:21.353Z"
   },
   {
    "duration": 5,
    "start_time": "2023-09-08T18:42:25.061Z"
   },
   {
    "duration": 132,
    "start_time": "2023-09-08T18:42:32.889Z"
   },
   {
    "duration": 15,
    "start_time": "2023-09-08T18:42:44.465Z"
   },
   {
    "duration": 7,
    "start_time": "2023-09-08T18:42:46.321Z"
   },
   {
    "duration": 17,
    "start_time": "2023-09-08T18:42:46.848Z"
   },
   {
    "duration": 10,
    "start_time": "2023-09-08T18:42:47.881Z"
   },
   {
    "duration": 10,
    "start_time": "2023-09-08T18:42:48.469Z"
   },
   {
    "duration": 29,
    "start_time": "2023-09-08T18:42:49.561Z"
   },
   {
    "duration": 5,
    "start_time": "2023-09-08T18:42:50.237Z"
   },
   {
    "duration": 126,
    "start_time": "2023-09-08T18:43:49.381Z"
   },
   {
    "duration": 12,
    "start_time": "2023-09-08T18:44:02.888Z"
   },
   {
    "duration": 4,
    "start_time": "2023-09-08T18:44:07.080Z"
   },
   {
    "duration": 113,
    "start_time": "2023-09-08T18:44:12.717Z"
   },
   {
    "duration": 6,
    "start_time": "2023-09-08T18:45:50.512Z"
   },
   {
    "duration": 10,
    "start_time": "2023-09-08T18:46:01.440Z"
   },
   {
    "duration": 6,
    "start_time": "2023-09-08T18:46:20.552Z"
   },
   {
    "duration": 11,
    "start_time": "2023-09-08T18:48:36.008Z"
   },
   {
    "duration": 9,
    "start_time": "2023-09-08T18:48:43.196Z"
   },
   {
    "duration": 6,
    "start_time": "2023-09-08T18:48:43.536Z"
   },
   {
    "duration": 6,
    "start_time": "2023-09-08T18:48:44.976Z"
   },
   {
    "duration": 5,
    "start_time": "2023-09-08T18:48:45.228Z"
   },
   {
    "duration": 184,
    "start_time": "2023-09-08T18:48:45.688Z"
   },
   {
    "duration": 9,
    "start_time": "2023-09-08T18:48:46.575Z"
   }
  ],
  "celltoolbar": "Raw Cell Format",
  "kernelspec": {
   "display_name": "Python 3 (ipykernel)",
   "language": "python",
   "name": "python3"
  },
  "language_info": {
   "codemirror_mode": {
    "name": "ipython",
    "version": 3
   },
   "file_extension": ".py",
   "mimetype": "text/x-python",
   "name": "python",
   "nbconvert_exporter": "python",
   "pygments_lexer": "ipython3",
   "version": "3.9.5"
  },
  "toc": {
   "base_numbering": 1,
   "nav_menu": {},
   "number_sections": true,
   "sideBar": true,
   "skip_h1_title": true,
   "title_cell": "Содержание",
   "title_sidebar": "Contents",
   "toc_cell": true,
   "toc_position": {
    "height": "calc(100% - 180px)",
    "left": "10px",
    "top": "150px",
    "width": "361.391px"
   },
   "toc_section_display": true,
   "toc_window_display": true
  }
 },
 "nbformat": 4,
 "nbformat_minor": 2
}
