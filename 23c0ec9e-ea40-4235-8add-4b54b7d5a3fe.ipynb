{
 "cells": [
  {
   "cell_type": "markdown",
   "metadata": {},
   "source": [
    "# Интернет-магазин комьютерных игр \"Стримчик\"\n",
    "# Выявить закономерности, определяющие успешность игры \n",
    "## Описание проекта:\n",
    "* Изучим факторы, влияющие на продажи в игровой индустрии.  \n",
    "* Составим топ-10 успешных платформ за всю историю.  \n",
    "* Оценим жизненный цикл платформы.  \n",
    "* Разберемся, какие показатели продаж считаются нормальными.  \n",
    "* Рассмотрим влияние на коммерческий успех оценок пользователей и критиков.  \n",
    "* Узнаем, какие жанры пользуются наибольшим спросом.  \n",
    "* Составим портрет пользователя из разных регионов.  \n",
    "* Проверим две гипотезы:  \n",
    "> \"Средние пользовательские рейтинги платформ Xbox One и PC одинаковые\"      \n",
    "> \"Средние пользовательские рейтинги жанров Action (англ. «действие», экшен-игры) и Sports (англ. «спортивные соревнования») разные.\"\n",
    "* Сделаем общий вывод.\n",
    "\n"
   ]
  },
  {
   "cell_type": "markdown",
   "metadata": {
    "id": "1EEylZU4HMwl"
   },
   "source": [
    "# Шаг 1. Открываем файл"
   ]
  },
  {
   "cell_type": "code",
   "execution_count": 1,
   "metadata": {
    "id": "EzzxV63wWSxZ"
   },
   "outputs": [],
   "source": [
    "import pandas as pd\n",
    "import numpy as np\n",
    "import seaborn as sns\n",
    "from matplotlib import pyplot as plt\n",
    "from scipy import stats as st\n",
    "pd.set_option('display.max_columns', 100)"
   ]
  },
  {
   "cell_type": "code",
   "execution_count": 2,
   "metadata": {
    "colab": {
     "base_uri": "https://localhost:8080/",
     "height": 197
    },
    "id": "V4i0RVtpU1jc",
    "outputId": "040b409f-b119-4538-8ae5-fea466c24aed"
   },
   "outputs": [
    {
     "data": {
      "text/html": [
       "<div>\n",
       "<style scoped>\n",
       "    .dataframe tbody tr th:only-of-type {\n",
       "        vertical-align: middle;\n",
       "    }\n",
       "\n",
       "    .dataframe tbody tr th {\n",
       "        vertical-align: top;\n",
       "    }\n",
       "\n",
       "    .dataframe thead th {\n",
       "        text-align: right;\n",
       "    }\n",
       "</style>\n",
       "<table border=\"1\" class=\"dataframe\">\n",
       "  <thead>\n",
       "    <tr style=\"text-align: right;\">\n",
       "      <th></th>\n",
       "      <th>Name</th>\n",
       "      <th>Platform</th>\n",
       "      <th>Year_of_Release</th>\n",
       "      <th>Genre</th>\n",
       "      <th>NA_sales</th>\n",
       "      <th>EU_sales</th>\n",
       "      <th>JP_sales</th>\n",
       "      <th>Other_sales</th>\n",
       "      <th>Critic_Score</th>\n",
       "      <th>User_Score</th>\n",
       "      <th>Rating</th>\n",
       "    </tr>\n",
       "  </thead>\n",
       "  <tbody>\n",
       "    <tr>\n",
       "      <th>0</th>\n",
       "      <td>Wii Sports</td>\n",
       "      <td>Wii</td>\n",
       "      <td>2006.0</td>\n",
       "      <td>Sports</td>\n",
       "      <td>41.36</td>\n",
       "      <td>28.96</td>\n",
       "      <td>3.77</td>\n",
       "      <td>8.45</td>\n",
       "      <td>76.0</td>\n",
       "      <td>8</td>\n",
       "      <td>E</td>\n",
       "    </tr>\n",
       "    <tr>\n",
       "      <th>1</th>\n",
       "      <td>Super Mario Bros.</td>\n",
       "      <td>NES</td>\n",
       "      <td>1985.0</td>\n",
       "      <td>Platform</td>\n",
       "      <td>29.08</td>\n",
       "      <td>3.58</td>\n",
       "      <td>6.81</td>\n",
       "      <td>0.77</td>\n",
       "      <td>NaN</td>\n",
       "      <td>NaN</td>\n",
       "      <td>NaN</td>\n",
       "    </tr>\n",
       "    <tr>\n",
       "      <th>2</th>\n",
       "      <td>Mario Kart Wii</td>\n",
       "      <td>Wii</td>\n",
       "      <td>2008.0</td>\n",
       "      <td>Racing</td>\n",
       "      <td>15.68</td>\n",
       "      <td>12.76</td>\n",
       "      <td>3.79</td>\n",
       "      <td>3.29</td>\n",
       "      <td>82.0</td>\n",
       "      <td>8.3</td>\n",
       "      <td>E</td>\n",
       "    </tr>\n",
       "    <tr>\n",
       "      <th>3</th>\n",
       "      <td>Wii Sports Resort</td>\n",
       "      <td>Wii</td>\n",
       "      <td>2009.0</td>\n",
       "      <td>Sports</td>\n",
       "      <td>15.61</td>\n",
       "      <td>10.93</td>\n",
       "      <td>3.28</td>\n",
       "      <td>2.95</td>\n",
       "      <td>80.0</td>\n",
       "      <td>8</td>\n",
       "      <td>E</td>\n",
       "    </tr>\n",
       "    <tr>\n",
       "      <th>4</th>\n",
       "      <td>Pokemon Red/Pokemon Blue</td>\n",
       "      <td>GB</td>\n",
       "      <td>1996.0</td>\n",
       "      <td>Role-Playing</td>\n",
       "      <td>11.27</td>\n",
       "      <td>8.89</td>\n",
       "      <td>10.22</td>\n",
       "      <td>1.00</td>\n",
       "      <td>NaN</td>\n",
       "      <td>NaN</td>\n",
       "      <td>NaN</td>\n",
       "    </tr>\n",
       "  </tbody>\n",
       "</table>\n",
       "</div>"
      ],
      "text/plain": [
       "                       Name Platform  Year_of_Release         Genre  NA_sales  \\\n",
       "0                Wii Sports      Wii           2006.0        Sports     41.36   \n",
       "1         Super Mario Bros.      NES           1985.0      Platform     29.08   \n",
       "2            Mario Kart Wii      Wii           2008.0        Racing     15.68   \n",
       "3         Wii Sports Resort      Wii           2009.0        Sports     15.61   \n",
       "4  Pokemon Red/Pokemon Blue       GB           1996.0  Role-Playing     11.27   \n",
       "\n",
       "   EU_sales  JP_sales  Other_sales  Critic_Score User_Score Rating  \n",
       "0     28.96      3.77         8.45          76.0          8      E  \n",
       "1      3.58      6.81         0.77           NaN        NaN    NaN  \n",
       "2     12.76      3.79         3.29          82.0        8.3      E  \n",
       "3     10.93      3.28         2.95          80.0          8      E  \n",
       "4      8.89     10.22         1.00           NaN        NaN    NaN  "
      ]
     },
     "execution_count": 2,
     "metadata": {},
     "output_type": "execute_result"
    }
   ],
   "source": [
    "df = pd.read_csv(\"/datasets/games.csv\")\n",
    "df.head()"
   ]
  },
  {
   "cell_type": "markdown",
   "metadata": {
    "id": "XU_D6nWuHNh9"
   },
   "source": [
    "# Шаг 2. Подготовка данных"
   ]
  },
  {
   "cell_type": "code",
   "execution_count": 3,
   "metadata": {
    "colab": {
     "base_uri": "https://localhost:8080/"
    },
    "id": "eCDakQFgXIEH",
    "outputId": "ac305f32-63a0-491c-e7d9-61f4ebbc2594"
   },
   "outputs": [
    {
     "name": "stdout",
     "output_type": "stream",
     "text": [
      "<class 'pandas.core.frame.DataFrame'>\n",
      "RangeIndex: 16715 entries, 0 to 16714\n",
      "Data columns (total 11 columns):\n",
      " #   Column           Non-Null Count  Dtype  \n",
      "---  ------           --------------  -----  \n",
      " 0   Name             16713 non-null  object \n",
      " 1   Platform         16715 non-null  object \n",
      " 2   Year_of_Release  16446 non-null  float64\n",
      " 3   Genre            16713 non-null  object \n",
      " 4   NA_sales         16715 non-null  float64\n",
      " 5   EU_sales         16715 non-null  float64\n",
      " 6   JP_sales         16715 non-null  float64\n",
      " 7   Other_sales      16715 non-null  float64\n",
      " 8   Critic_Score     8137 non-null   float64\n",
      " 9   User_Score       10014 non-null  object \n",
      " 10  Rating           9949 non-null   object \n",
      "dtypes: float64(6), object(5)\n",
      "memory usage: 1.4+ MB\n"
     ]
    }
   ],
   "source": [
    "df.info()"
   ]
  },
  {
   "cell_type": "code",
   "execution_count": 4,
   "metadata": {},
   "outputs": [
    {
     "data": {
      "text/plain": [
       "0"
      ]
     },
     "execution_count": 4,
     "metadata": {},
     "output_type": "execute_result"
    }
   ],
   "source": [
    "df.duplicated().sum()"
   ]
  },
  {
   "cell_type": "code",
   "execution_count": 5,
   "metadata": {
    "colab": {
     "base_uri": "https://localhost:8080/"
    },
    "id": "10N9dcWOXa2G",
    "outputId": "95dedbfe-ec8a-458c-c4ec-c9f5b16c23a9"
   },
   "outputs": [
    {
     "data": {
      "text/plain": [
       "Index(['name', 'platform', 'year_of_release', 'genre', 'na_sales', 'eu_sales',\n",
       "       'jp_sales', 'other_sales', 'critic_score', 'user_score', 'rating'],\n",
       "      dtype='object')"
      ]
     },
     "execution_count": 5,
     "metadata": {},
     "output_type": "execute_result"
    }
   ],
   "source": [
    "df.columns = df.columns.str.lower()\n",
    "df.columns"
   ]
  },
  {
   "cell_type": "code",
   "execution_count": 6,
   "metadata": {
    "id": "Vn2oS6uABC_T"
   },
   "outputs": [],
   "source": [
    "df['sales_total'] = df.loc[:,['na_sales','eu_sales', 'jp_sales', 'other_sales']].sum(axis=1)"
   ]
  },
  {
   "cell_type": "code",
   "execution_count": 7,
   "metadata": {
    "colab": {
     "base_uri": "https://localhost:8080/",
     "height": 197
    },
    "id": "s9OEexsYCbxL",
    "outputId": "3dea97fa-cf21-41c0-f283-dd6a9d78c91c"
   },
   "outputs": [
    {
     "data": {
      "text/html": [
       "<div>\n",
       "<style scoped>\n",
       "    .dataframe tbody tr th:only-of-type {\n",
       "        vertical-align: middle;\n",
       "    }\n",
       "\n",
       "    .dataframe tbody tr th {\n",
       "        vertical-align: top;\n",
       "    }\n",
       "\n",
       "    .dataframe thead th {\n",
       "        text-align: right;\n",
       "    }\n",
       "</style>\n",
       "<table border=\"1\" class=\"dataframe\">\n",
       "  <thead>\n",
       "    <tr style=\"text-align: right;\">\n",
       "      <th></th>\n",
       "      <th>name</th>\n",
       "      <th>platform</th>\n",
       "      <th>year_of_release</th>\n",
       "      <th>genre</th>\n",
       "      <th>na_sales</th>\n",
       "      <th>eu_sales</th>\n",
       "      <th>jp_sales</th>\n",
       "      <th>other_sales</th>\n",
       "      <th>critic_score</th>\n",
       "      <th>user_score</th>\n",
       "      <th>rating</th>\n",
       "      <th>sales_total</th>\n",
       "    </tr>\n",
       "  </thead>\n",
       "  <tbody>\n",
       "    <tr>\n",
       "      <th>0</th>\n",
       "      <td>Wii Sports</td>\n",
       "      <td>Wii</td>\n",
       "      <td>2006.0</td>\n",
       "      <td>Sports</td>\n",
       "      <td>41.36</td>\n",
       "      <td>28.96</td>\n",
       "      <td>3.77</td>\n",
       "      <td>8.45</td>\n",
       "      <td>76.0</td>\n",
       "      <td>8</td>\n",
       "      <td>E</td>\n",
       "      <td>82.54</td>\n",
       "    </tr>\n",
       "    <tr>\n",
       "      <th>1</th>\n",
       "      <td>Super Mario Bros.</td>\n",
       "      <td>NES</td>\n",
       "      <td>1985.0</td>\n",
       "      <td>Platform</td>\n",
       "      <td>29.08</td>\n",
       "      <td>3.58</td>\n",
       "      <td>6.81</td>\n",
       "      <td>0.77</td>\n",
       "      <td>NaN</td>\n",
       "      <td>NaN</td>\n",
       "      <td>NaN</td>\n",
       "      <td>40.24</td>\n",
       "    </tr>\n",
       "    <tr>\n",
       "      <th>2</th>\n",
       "      <td>Mario Kart Wii</td>\n",
       "      <td>Wii</td>\n",
       "      <td>2008.0</td>\n",
       "      <td>Racing</td>\n",
       "      <td>15.68</td>\n",
       "      <td>12.76</td>\n",
       "      <td>3.79</td>\n",
       "      <td>3.29</td>\n",
       "      <td>82.0</td>\n",
       "      <td>8.3</td>\n",
       "      <td>E</td>\n",
       "      <td>35.52</td>\n",
       "    </tr>\n",
       "    <tr>\n",
       "      <th>3</th>\n",
       "      <td>Wii Sports Resort</td>\n",
       "      <td>Wii</td>\n",
       "      <td>2009.0</td>\n",
       "      <td>Sports</td>\n",
       "      <td>15.61</td>\n",
       "      <td>10.93</td>\n",
       "      <td>3.28</td>\n",
       "      <td>2.95</td>\n",
       "      <td>80.0</td>\n",
       "      <td>8</td>\n",
       "      <td>E</td>\n",
       "      <td>32.77</td>\n",
       "    </tr>\n",
       "    <tr>\n",
       "      <th>4</th>\n",
       "      <td>Pokemon Red/Pokemon Blue</td>\n",
       "      <td>GB</td>\n",
       "      <td>1996.0</td>\n",
       "      <td>Role-Playing</td>\n",
       "      <td>11.27</td>\n",
       "      <td>8.89</td>\n",
       "      <td>10.22</td>\n",
       "      <td>1.00</td>\n",
       "      <td>NaN</td>\n",
       "      <td>NaN</td>\n",
       "      <td>NaN</td>\n",
       "      <td>31.38</td>\n",
       "    </tr>\n",
       "  </tbody>\n",
       "</table>\n",
       "</div>"
      ],
      "text/plain": [
       "                       name platform  year_of_release         genre  na_sales  \\\n",
       "0                Wii Sports      Wii           2006.0        Sports     41.36   \n",
       "1         Super Mario Bros.      NES           1985.0      Platform     29.08   \n",
       "2            Mario Kart Wii      Wii           2008.0        Racing     15.68   \n",
       "3         Wii Sports Resort      Wii           2009.0        Sports     15.61   \n",
       "4  Pokemon Red/Pokemon Blue       GB           1996.0  Role-Playing     11.27   \n",
       "\n",
       "   eu_sales  jp_sales  other_sales  critic_score user_score rating  \\\n",
       "0     28.96      3.77         8.45          76.0          8      E   \n",
       "1      3.58      6.81         0.77           NaN        NaN    NaN   \n",
       "2     12.76      3.79         3.29          82.0        8.3      E   \n",
       "3     10.93      3.28         2.95          80.0          8      E   \n",
       "4      8.89     10.22         1.00           NaN        NaN    NaN   \n",
       "\n",
       "   sales_total  \n",
       "0        82.54  \n",
       "1        40.24  \n",
       "2        35.52  \n",
       "3        32.77  \n",
       "4        31.38  "
      ]
     },
     "execution_count": 7,
     "metadata": {},
     "output_type": "execute_result"
    }
   ],
   "source": [
    "df.head()"
   ]
  },
  {
   "cell_type": "code",
   "execution_count": 8,
   "metadata": {
    "colab": {
     "base_uri": "https://localhost:8080/",
     "height": 197
    },
    "id": "tsNY-4mJEUsk",
    "outputId": "1f8f9bc7-5f08-4422-b990-83bfde8945e8"
   },
   "outputs": [
    {
     "data": {
      "text/html": [
       "<div>\n",
       "<style scoped>\n",
       "    .dataframe tbody tr th:only-of-type {\n",
       "        vertical-align: middle;\n",
       "    }\n",
       "\n",
       "    .dataframe tbody tr th {\n",
       "        vertical-align: top;\n",
       "    }\n",
       "\n",
       "    .dataframe thead th {\n",
       "        text-align: right;\n",
       "    }\n",
       "</style>\n",
       "<table border=\"1\" class=\"dataframe\">\n",
       "  <thead>\n",
       "    <tr style=\"text-align: right;\">\n",
       "      <th></th>\n",
       "      <th>name</th>\n",
       "      <th>platform</th>\n",
       "      <th>year_of_release</th>\n",
       "      <th>genre</th>\n",
       "      <th>na_sales</th>\n",
       "      <th>eu_sales</th>\n",
       "      <th>jp_sales</th>\n",
       "      <th>other_sales</th>\n",
       "      <th>critic_score</th>\n",
       "      <th>user_score</th>\n",
       "      <th>rating</th>\n",
       "      <th>sales_total</th>\n",
       "    </tr>\n",
       "  </thead>\n",
       "  <tbody>\n",
       "    <tr>\n",
       "      <th>119</th>\n",
       "      <td>Zumba Fitness</td>\n",
       "      <td>Wii</td>\n",
       "      <td>2010.0</td>\n",
       "      <td>Sports</td>\n",
       "      <td>3.45</td>\n",
       "      <td>2.59</td>\n",
       "      <td>0.0</td>\n",
       "      <td>0.66</td>\n",
       "      <td>NaN</td>\n",
       "      <td>tbd</td>\n",
       "      <td>E</td>\n",
       "      <td>6.70</td>\n",
       "    </tr>\n",
       "    <tr>\n",
       "      <th>301</th>\n",
       "      <td>Namco Museum: 50th Anniversary</td>\n",
       "      <td>PS2</td>\n",
       "      <td>2005.0</td>\n",
       "      <td>Misc</td>\n",
       "      <td>2.08</td>\n",
       "      <td>1.35</td>\n",
       "      <td>0.0</td>\n",
       "      <td>0.54</td>\n",
       "      <td>61.0</td>\n",
       "      <td>tbd</td>\n",
       "      <td>E10+</td>\n",
       "      <td>3.97</td>\n",
       "    </tr>\n",
       "    <tr>\n",
       "      <th>520</th>\n",
       "      <td>Zumba Fitness 2</td>\n",
       "      <td>Wii</td>\n",
       "      <td>2011.0</td>\n",
       "      <td>Sports</td>\n",
       "      <td>1.51</td>\n",
       "      <td>1.03</td>\n",
       "      <td>0.0</td>\n",
       "      <td>0.27</td>\n",
       "      <td>NaN</td>\n",
       "      <td>tbd</td>\n",
       "      <td>T</td>\n",
       "      <td>2.81</td>\n",
       "    </tr>\n",
       "    <tr>\n",
       "      <th>645</th>\n",
       "      <td>uDraw Studio</td>\n",
       "      <td>Wii</td>\n",
       "      <td>2010.0</td>\n",
       "      <td>Misc</td>\n",
       "      <td>1.65</td>\n",
       "      <td>0.57</td>\n",
       "      <td>0.0</td>\n",
       "      <td>0.20</td>\n",
       "      <td>71.0</td>\n",
       "      <td>tbd</td>\n",
       "      <td>E</td>\n",
       "      <td>2.42</td>\n",
       "    </tr>\n",
       "    <tr>\n",
       "      <th>657</th>\n",
       "      <td>Frogger's Adventures: Temple of the Frog</td>\n",
       "      <td>GBA</td>\n",
       "      <td>NaN</td>\n",
       "      <td>Adventure</td>\n",
       "      <td>2.15</td>\n",
       "      <td>0.18</td>\n",
       "      <td>0.0</td>\n",
       "      <td>0.07</td>\n",
       "      <td>73.0</td>\n",
       "      <td>tbd</td>\n",
       "      <td>E</td>\n",
       "      <td>2.40</td>\n",
       "    </tr>\n",
       "  </tbody>\n",
       "</table>\n",
       "</div>"
      ],
      "text/plain": [
       "                                         name platform  year_of_release  \\\n",
       "119                             Zumba Fitness      Wii           2010.0   \n",
       "301            Namco Museum: 50th Anniversary      PS2           2005.0   \n",
       "520                           Zumba Fitness 2      Wii           2011.0   \n",
       "645                              uDraw Studio      Wii           2010.0   \n",
       "657  Frogger's Adventures: Temple of the Frog      GBA              NaN   \n",
       "\n",
       "         genre  na_sales  eu_sales  jp_sales  other_sales  critic_score  \\\n",
       "119     Sports      3.45      2.59       0.0         0.66           NaN   \n",
       "301       Misc      2.08      1.35       0.0         0.54          61.0   \n",
       "520     Sports      1.51      1.03       0.0         0.27           NaN   \n",
       "645       Misc      1.65      0.57       0.0         0.20          71.0   \n",
       "657  Adventure      2.15      0.18       0.0         0.07          73.0   \n",
       "\n",
       "    user_score rating  sales_total  \n",
       "119        tbd      E         6.70  \n",
       "301        tbd   E10+         3.97  \n",
       "520        tbd      T         2.81  \n",
       "645        tbd      E         2.42  \n",
       "657        tbd      E         2.40  "
      ]
     },
     "execution_count": 8,
     "metadata": {},
     "output_type": "execute_result"
    }
   ],
   "source": [
    "df[df['user_score']=='tbd'].head()"
   ]
  },
  {
   "cell_type": "code",
   "execution_count": 9,
   "metadata": {
    "colab": {
     "base_uri": "https://localhost:8080/"
    },
    "id": "9o4_LLvCNSqE",
    "outputId": "6485496f-dac0-4da7-d342-50878a9beffb"
   },
   "outputs": [
    {
     "data": {
      "text/plain": [
       "tbd    2424\n",
       "7.8     324\n",
       "8       290\n",
       "8.2     282\n",
       "8.3     254\n",
       "       ... \n",
       "0.6       2\n",
       "1.5       2\n",
       "0.2       2\n",
       "0         1\n",
       "9.7       1\n",
       "Name: user_score, Length: 96, dtype: int64"
      ]
     },
     "execution_count": 9,
     "metadata": {},
     "output_type": "execute_result"
    }
   ],
   "source": [
    "df['user_score'].value_counts()"
   ]
  },
  {
   "cell_type": "code",
   "execution_count": 10,
   "metadata": {
    "id": "OA5A5ebwEziT"
   },
   "outputs": [],
   "source": [
    "df = df.replace('tbd', np.nan)\n",
    "df['user_score'] = df['user_score'].astype('float')"
   ]
  },
  {
   "cell_type": "markdown",
   "metadata": {
    "id": "_xE1PqrVFUr7"
   },
   "source": [
    "Преполагаю, что tbd означает to be done, в любом случае без понимания как это интерпретировать заменяю на None\n"
   ]
  },
  {
   "cell_type": "code",
   "execution_count": 11,
   "metadata": {},
   "outputs": [
    {
     "data": {
      "text/html": [
       "<div>\n",
       "<style scoped>\n",
       "    .dataframe tbody tr th:only-of-type {\n",
       "        vertical-align: middle;\n",
       "    }\n",
       "\n",
       "    .dataframe tbody tr th {\n",
       "        vertical-align: top;\n",
       "    }\n",
       "\n",
       "    .dataframe thead th {\n",
       "        text-align: right;\n",
       "    }\n",
       "</style>\n",
       "<table border=\"1\" class=\"dataframe\">\n",
       "  <thead>\n",
       "    <tr style=\"text-align: right;\">\n",
       "      <th></th>\n",
       "      <th>year_of_release</th>\n",
       "      <th>critic_score</th>\n",
       "      <th>user_score</th>\n",
       "      <th>rating</th>\n",
       "    </tr>\n",
       "  </thead>\n",
       "  <tbody>\n",
       "    <tr>\n",
       "      <th>year_of_release</th>\n",
       "      <td>1.000000</td>\n",
       "      <td>-0.021924</td>\n",
       "      <td>-0.004633</td>\n",
       "      <td>-0.020232</td>\n",
       "    </tr>\n",
       "    <tr>\n",
       "      <th>critic_score</th>\n",
       "      <td>-0.021924</td>\n",
       "      <td>1.000000</td>\n",
       "      <td>0.798656</td>\n",
       "      <td>0.782945</td>\n",
       "    </tr>\n",
       "    <tr>\n",
       "      <th>user_score</th>\n",
       "      <td>-0.004633</td>\n",
       "      <td>0.798656</td>\n",
       "      <td>1.000000</td>\n",
       "      <td>0.731056</td>\n",
       "    </tr>\n",
       "    <tr>\n",
       "      <th>rating</th>\n",
       "      <td>-0.020232</td>\n",
       "      <td>0.782945</td>\n",
       "      <td>0.731056</td>\n",
       "      <td>1.000000</td>\n",
       "    </tr>\n",
       "  </tbody>\n",
       "</table>\n",
       "</div>"
      ],
      "text/plain": [
       "                 year_of_release  critic_score  user_score    rating\n",
       "year_of_release         1.000000     -0.021924   -0.004633 -0.020232\n",
       "critic_score           -0.021924      1.000000    0.798656  0.782945\n",
       "user_score             -0.004633      0.798656    1.000000  0.731056\n",
       "rating                 -0.020232      0.782945    0.731056  1.000000"
      ]
     },
     "execution_count": 11,
     "metadata": {},
     "output_type": "execute_result"
    }
   ],
   "source": [
    "df[['year_of_release', 'critic_score', 'user_score', 'rating']].isna() .corr()"
   ]
  },
  {
   "cell_type": "markdown",
   "metadata": {},
   "source": [
    "Основная масса пропусков в `year_of_release` `critic_score` `user_score` `rating`.  \n",
    "Причем видно, что игры часто либо оценивались по всем параметрам, либо не оценивались вовсе, отсюда и пропуски.   \n",
    "Похоже, что пропуски в `year_of_release` не связаны с пропусками в оценках. Эти данные просто отсутствуют.  "
   ]
  },
  {
   "cell_type": "code",
   "execution_count": 12,
   "metadata": {},
   "outputs": [
    {
     "name": "stdout",
     "output_type": "stream",
     "text": [
      "<class 'pandas.core.frame.DataFrame'>\n",
      "RangeIndex: 16715 entries, 0 to 16714\n",
      "Data columns (total 12 columns):\n",
      " #   Column           Non-Null Count  Dtype  \n",
      "---  ------           --------------  -----  \n",
      " 0   name             16713 non-null  object \n",
      " 1   platform         16715 non-null  object \n",
      " 2   year_of_release  16446 non-null  float64\n",
      " 3   genre            16713 non-null  object \n",
      " 4   na_sales         16715 non-null  float64\n",
      " 5   eu_sales         16715 non-null  float64\n",
      " 6   jp_sales         16715 non-null  float64\n",
      " 7   other_sales      16715 non-null  float64\n",
      " 8   critic_score     8137 non-null   float64\n",
      " 9   user_score       7590 non-null   float64\n",
      " 10  rating           9949 non-null   object \n",
      " 11  sales_total      16715 non-null  float64\n",
      "dtypes: float64(8), object(4)\n",
      "memory usage: 1.5+ MB\n",
      "None\n",
      "-------------------------\n",
      "name [' Beyblade Burst' ' Fire Emblem Fates' \" Frozen: Olaf's Quest\" ...\n",
      " 'wwe Smackdown vs. Raw 2006' '¡Shin Chan Flipa en colores!' nan]\n",
      "name : кол-во NaN 2 , процент NaN 0.01 %\n",
      "-------------------------\n",
      "platform ['2600' '3DO' '3DS' 'DC' 'DS' 'GB' 'GBA' 'GC' 'GEN' 'GG' 'N64' 'NES' 'NG'\n",
      " 'PC' 'PCFX' 'PS' 'PS2' 'PS3' 'PS4' 'PSP' 'PSV' 'SAT' 'SCD' 'SNES' 'TG16'\n",
      " 'WS' 'Wii' 'WiiU' 'X360' 'XB' 'XOne']\n",
      "platform : кол-во NaN 0 , процент NaN 0.0 %\n",
      "-------------------------\n",
      "year_of_release [1980. 1981. 1982. 1983. 1984. 1985. 1986. 1987. 1988. 1989. 1990. 1991.\n",
      " 1992. 1993. 1994. 1995. 1996. 1997. 1998. 1999. 2000. 2001. 2002. 2003.\n",
      " 2004. 2005. 2006. 2007. 2008. 2009. 2010. 2011. 2012. 2013. 2014. 2015.\n",
      " 2016.   nan]\n",
      "year_of_release : кол-во NaN 269 , процент NaN 1.61 %\n",
      "-------------------------\n",
      "genre ['Action' 'Adventure' 'Fighting' 'Misc' 'Platform' 'Puzzle' 'Racing'\n",
      " 'Role-Playing' 'Shooter' 'Simulation' 'Sports' 'Strategy' nan]\n",
      "genre : кол-во NaN 2 , процент NaN 0.01 %\n",
      "-------------------------\n",
      "critic_score [13. 17. 19. 20. 21. 22. 23. 24. 25. 26. 27. 28. 29. 30. 31. 32. 33. 34.\n",
      " 35. 36. 37. 38. 39. 40. 41. 42. 43. 44. 45. 46. 47. 48. 49. 50. 51. 52.\n",
      " 53. 54. 55. 56. 57. 58. 59. 60. 61. 62. 63. 64. 65. 66. 67. 68. 69. 70.\n",
      " 71. 72. 73. 74. 75. 76. 77. 78. 79. 80. 81. 82. 83. 84. 85. 86. 87. 88.\n",
      " 89. 90. 91. 92. 93. 94. 95. 96. 97. 98. nan]\n",
      "critic_score : кол-во NaN 8578 , процент NaN 51.32 %\n",
      "-------------------------\n",
      "user_score [0.  0.2 0.3 0.5 0.6 0.7 0.9 1.  1.1 1.2 1.3 1.4 1.5 1.6 1.7 1.8 1.9 2.\n",
      " 2.1 2.2 2.3 2.4 2.5 2.6 2.7 2.8 2.9 3.  3.1 3.2 3.3 3.4 3.5 3.6 3.7 3.8\n",
      " 3.9 4.  4.1 4.2 4.3 4.4 4.5 4.6 4.7 4.8 4.9 5.  5.1 5.2 5.3 5.4 5.5 5.6\n",
      " 5.7 5.8 5.9 6.  6.1 6.2 6.3 6.4 6.5 6.6 6.7 6.8 6.9 7.  7.1 7.2 7.3 7.4\n",
      " 7.5 7.6 7.7 7.8 7.9 8.  8.1 8.2 8.3 8.4 8.5 8.6 8.7 8.8 8.9 9.  9.1 9.2\n",
      " 9.3 9.4 9.5 9.6 9.7 nan]\n",
      "user_score : кол-во NaN 9125 , процент NaN 54.59 %\n",
      "-------------------------\n",
      "rating ['AO' 'E' 'E10+' 'EC' 'K-A' 'M' 'RP' 'T' nan]\n",
      "rating : кол-во NaN 6766 , процент NaN 40.48 %\n"
     ]
    }
   ],
   "source": [
    "list_c = ['name', 'platform', 'year_of_release', 'genre', 'critic_score', 'user_score', 'rating']\n",
    "print(df.info())\n",
    "for col_l in list_c:\n",
    "  print('-'* 25)\n",
    "  print(col_l, df[col_l].sort_values().unique())\n",
    "  print(col_l,': кол-во NaN',df[col_l].isna().sum(),\n",
    "        ', процент NaN', round(df[col_l].isna().mean()*100,2),'%') "
   ]
  },
  {
   "cell_type": "code",
   "execution_count": 13,
   "metadata": {},
   "outputs": [
    {
     "data": {
      "text/html": [
       "<div>\n",
       "<style scoped>\n",
       "    .dataframe tbody tr th:only-of-type {\n",
       "        vertical-align: middle;\n",
       "    }\n",
       "\n",
       "    .dataframe tbody tr th {\n",
       "        vertical-align: top;\n",
       "    }\n",
       "\n",
       "    .dataframe thead th {\n",
       "        text-align: right;\n",
       "    }\n",
       "</style>\n",
       "<table border=\"1\" class=\"dataframe\">\n",
       "  <thead>\n",
       "    <tr style=\"text-align: right;\">\n",
       "      <th></th>\n",
       "      <th>name</th>\n",
       "      <th>platform</th>\n",
       "      <th>year_of_release</th>\n",
       "      <th>genre</th>\n",
       "      <th>na_sales</th>\n",
       "      <th>eu_sales</th>\n",
       "      <th>jp_sales</th>\n",
       "      <th>other_sales</th>\n",
       "      <th>critic_score</th>\n",
       "      <th>user_score</th>\n",
       "      <th>rating</th>\n",
       "      <th>sales_total</th>\n",
       "    </tr>\n",
       "  </thead>\n",
       "  <tbody>\n",
       "    <tr>\n",
       "      <th>1</th>\n",
       "      <td>Super Mario Bros.</td>\n",
       "      <td>NES</td>\n",
       "      <td>1985.0</td>\n",
       "      <td>Platform</td>\n",
       "      <td>29.08</td>\n",
       "      <td>3.58</td>\n",
       "      <td>6.81</td>\n",
       "      <td>0.77</td>\n",
       "      <td>NaN</td>\n",
       "      <td>NaN</td>\n",
       "      <td>NaN</td>\n",
       "      <td>40.24</td>\n",
       "    </tr>\n",
       "    <tr>\n",
       "      <th>4</th>\n",
       "      <td>Pokemon Red/Pokemon Blue</td>\n",
       "      <td>GB</td>\n",
       "      <td>1996.0</td>\n",
       "      <td>Role-Playing</td>\n",
       "      <td>11.27</td>\n",
       "      <td>8.89</td>\n",
       "      <td>10.22</td>\n",
       "      <td>1.00</td>\n",
       "      <td>NaN</td>\n",
       "      <td>NaN</td>\n",
       "      <td>NaN</td>\n",
       "      <td>31.38</td>\n",
       "    </tr>\n",
       "    <tr>\n",
       "      <th>5</th>\n",
       "      <td>Tetris</td>\n",
       "      <td>GB</td>\n",
       "      <td>1989.0</td>\n",
       "      <td>Puzzle</td>\n",
       "      <td>23.20</td>\n",
       "      <td>2.26</td>\n",
       "      <td>4.22</td>\n",
       "      <td>0.58</td>\n",
       "      <td>NaN</td>\n",
       "      <td>NaN</td>\n",
       "      <td>NaN</td>\n",
       "      <td>30.26</td>\n",
       "    </tr>\n",
       "    <tr>\n",
       "      <th>9</th>\n",
       "      <td>Duck Hunt</td>\n",
       "      <td>NES</td>\n",
       "      <td>1984.0</td>\n",
       "      <td>Shooter</td>\n",
       "      <td>26.93</td>\n",
       "      <td>0.63</td>\n",
       "      <td>0.28</td>\n",
       "      <td>0.47</td>\n",
       "      <td>NaN</td>\n",
       "      <td>NaN</td>\n",
       "      <td>NaN</td>\n",
       "      <td>28.31</td>\n",
       "    </tr>\n",
       "    <tr>\n",
       "      <th>10</th>\n",
       "      <td>Nintendogs</td>\n",
       "      <td>DS</td>\n",
       "      <td>2005.0</td>\n",
       "      <td>Simulation</td>\n",
       "      <td>9.05</td>\n",
       "      <td>10.95</td>\n",
       "      <td>1.93</td>\n",
       "      <td>2.74</td>\n",
       "      <td>NaN</td>\n",
       "      <td>NaN</td>\n",
       "      <td>NaN</td>\n",
       "      <td>24.67</td>\n",
       "    </tr>\n",
       "  </tbody>\n",
       "</table>\n",
       "</div>"
      ],
      "text/plain": [
       "                        name platform  year_of_release         genre  \\\n",
       "1          Super Mario Bros.      NES           1985.0      Platform   \n",
       "4   Pokemon Red/Pokemon Blue       GB           1996.0  Role-Playing   \n",
       "5                     Tetris       GB           1989.0        Puzzle   \n",
       "9                  Duck Hunt      NES           1984.0       Shooter   \n",
       "10                Nintendogs       DS           2005.0    Simulation   \n",
       "\n",
       "    na_sales  eu_sales  jp_sales  other_sales  critic_score  user_score  \\\n",
       "1      29.08      3.58      6.81         0.77           NaN         NaN   \n",
       "4      11.27      8.89     10.22         1.00           NaN         NaN   \n",
       "5      23.20      2.26      4.22         0.58           NaN         NaN   \n",
       "9      26.93      0.63      0.28         0.47           NaN         NaN   \n",
       "10      9.05     10.95      1.93         2.74           NaN         NaN   \n",
       "\n",
       "   rating  sales_total  \n",
       "1     NaN        40.24  \n",
       "4     NaN        31.38  \n",
       "5     NaN        30.26  \n",
       "9     NaN        28.31  \n",
       "10    NaN        24.67  "
      ]
     },
     "execution_count": 13,
     "metadata": {},
     "output_type": "execute_result"
    }
   ],
   "source": [
    "df[df['rating'].isna()].head()"
   ]
  },
  {
   "cell_type": "code",
   "execution_count": 14,
   "metadata": {},
   "outputs": [
    {
     "data": {
      "text/html": [
       "<div>\n",
       "<style scoped>\n",
       "    .dataframe tbody tr th:only-of-type {\n",
       "        vertical-align: middle;\n",
       "    }\n",
       "\n",
       "    .dataframe tbody tr th {\n",
       "        vertical-align: top;\n",
       "    }\n",
       "\n",
       "    .dataframe thead th {\n",
       "        text-align: right;\n",
       "    }\n",
       "</style>\n",
       "<table border=\"1\" class=\"dataframe\">\n",
       "  <thead>\n",
       "    <tr style=\"text-align: right;\">\n",
       "      <th></th>\n",
       "      <th>name</th>\n",
       "      <th>platform</th>\n",
       "      <th>year_of_release</th>\n",
       "      <th>genre</th>\n",
       "      <th>na_sales</th>\n",
       "      <th>eu_sales</th>\n",
       "      <th>jp_sales</th>\n",
       "      <th>other_sales</th>\n",
       "      <th>critic_score</th>\n",
       "      <th>user_score</th>\n",
       "      <th>rating</th>\n",
       "      <th>sales_total</th>\n",
       "    </tr>\n",
       "  </thead>\n",
       "  <tbody>\n",
       "    <tr>\n",
       "      <th>183</th>\n",
       "      <td>Madden NFL 2004</td>\n",
       "      <td>PS2</td>\n",
       "      <td>NaN</td>\n",
       "      <td>Sports</td>\n",
       "      <td>4.26</td>\n",
       "      <td>0.26</td>\n",
       "      <td>0.01</td>\n",
       "      <td>0.71</td>\n",
       "      <td>94.0</td>\n",
       "      <td>8.5</td>\n",
       "      <td>E</td>\n",
       "      <td>5.24</td>\n",
       "    </tr>\n",
       "    <tr>\n",
       "      <th>377</th>\n",
       "      <td>FIFA Soccer 2004</td>\n",
       "      <td>PS2</td>\n",
       "      <td>NaN</td>\n",
       "      <td>Sports</td>\n",
       "      <td>0.59</td>\n",
       "      <td>2.36</td>\n",
       "      <td>0.04</td>\n",
       "      <td>0.51</td>\n",
       "      <td>84.0</td>\n",
       "      <td>6.4</td>\n",
       "      <td>E</td>\n",
       "      <td>3.50</td>\n",
       "    </tr>\n",
       "    <tr>\n",
       "      <th>456</th>\n",
       "      <td>LEGO Batman: The Videogame</td>\n",
       "      <td>Wii</td>\n",
       "      <td>NaN</td>\n",
       "      <td>Action</td>\n",
       "      <td>1.80</td>\n",
       "      <td>0.97</td>\n",
       "      <td>0.00</td>\n",
       "      <td>0.29</td>\n",
       "      <td>74.0</td>\n",
       "      <td>7.9</td>\n",
       "      <td>E10+</td>\n",
       "      <td>3.06</td>\n",
       "    </tr>\n",
       "    <tr>\n",
       "      <th>475</th>\n",
       "      <td>wwe Smackdown vs. Raw 2006</td>\n",
       "      <td>PS2</td>\n",
       "      <td>NaN</td>\n",
       "      <td>Fighting</td>\n",
       "      <td>1.57</td>\n",
       "      <td>1.02</td>\n",
       "      <td>0.00</td>\n",
       "      <td>0.41</td>\n",
       "      <td>NaN</td>\n",
       "      <td>NaN</td>\n",
       "      <td>NaN</td>\n",
       "      <td>3.00</td>\n",
       "    </tr>\n",
       "    <tr>\n",
       "      <th>609</th>\n",
       "      <td>Space Invaders</td>\n",
       "      <td>2600</td>\n",
       "      <td>NaN</td>\n",
       "      <td>Shooter</td>\n",
       "      <td>2.36</td>\n",
       "      <td>0.14</td>\n",
       "      <td>0.00</td>\n",
       "      <td>0.03</td>\n",
       "      <td>NaN</td>\n",
       "      <td>NaN</td>\n",
       "      <td>NaN</td>\n",
       "      <td>2.53</td>\n",
       "    </tr>\n",
       "  </tbody>\n",
       "</table>\n",
       "</div>"
      ],
      "text/plain": [
       "                           name platform  year_of_release     genre  na_sales  \\\n",
       "183             Madden NFL 2004      PS2              NaN    Sports      4.26   \n",
       "377            FIFA Soccer 2004      PS2              NaN    Sports      0.59   \n",
       "456  LEGO Batman: The Videogame      Wii              NaN    Action      1.80   \n",
       "475  wwe Smackdown vs. Raw 2006      PS2              NaN  Fighting      1.57   \n",
       "609              Space Invaders     2600              NaN   Shooter      2.36   \n",
       "\n",
       "     eu_sales  jp_sales  other_sales  critic_score  user_score rating  \\\n",
       "183      0.26      0.01         0.71          94.0         8.5      E   \n",
       "377      2.36      0.04         0.51          84.0         6.4      E   \n",
       "456      0.97      0.00         0.29          74.0         7.9   E10+   \n",
       "475      1.02      0.00         0.41           NaN         NaN    NaN   \n",
       "609      0.14      0.00         0.03           NaN         NaN    NaN   \n",
       "\n",
       "     sales_total  \n",
       "183         5.24  \n",
       "377         3.50  \n",
       "456         3.06  \n",
       "475         3.00  \n",
       "609         2.53  "
      ]
     },
     "execution_count": 14,
     "metadata": {},
     "output_type": "execute_result"
    }
   ],
   "source": [
    "df[df['year_of_release'].isna()].head()"
   ]
  },
  {
   "cell_type": "code",
   "execution_count": 15,
   "metadata": {},
   "outputs": [
    {
     "data": {
      "text/plain": [
       "name               0.000120\n",
       "platform           0.000000\n",
       "year_of_release    0.016093\n",
       "genre              0.000120\n",
       "na_sales           0.000000\n",
       "eu_sales           0.000000\n",
       "jp_sales           0.000000\n",
       "other_sales        0.000000\n",
       "critic_score       0.513192\n",
       "user_score         0.545917\n",
       "rating             0.404786\n",
       "sales_total        0.000000\n",
       "dtype: float64"
      ]
     },
     "execution_count": 15,
     "metadata": {},
     "output_type": "execute_result"
    }
   ],
   "source": [
    "df.isna().mean()"
   ]
  },
  {
   "cell_type": "code",
   "execution_count": 16,
   "metadata": {},
   "outputs": [],
   "source": [
    "df = df.dropna(subset=['year_of_release', 'name'])"
   ]
  },
  {
   "cell_type": "code",
   "execution_count": 17,
   "metadata": {
    "colab": {
     "base_uri": "https://localhost:8080/"
    },
    "id": "p14Y7jXEeCKa",
    "outputId": "bfadf23c-0a80-433d-8967-5186d7b7ac9b"
   },
   "outputs": [
    {
     "name": "stdout",
     "output_type": "stream",
     "text": [
      "<class 'pandas.core.frame.DataFrame'>\n",
      "Int64Index: 16444 entries, 0 to 16714\n",
      "Data columns (total 12 columns):\n",
      " #   Column           Non-Null Count  Dtype  \n",
      "---  ------           --------------  -----  \n",
      " 0   name             16444 non-null  object \n",
      " 1   platform         16444 non-null  object \n",
      " 2   year_of_release  16444 non-null  float64\n",
      " 3   genre            16444 non-null  object \n",
      " 4   na_sales         16444 non-null  float64\n",
      " 5   eu_sales         16444 non-null  float64\n",
      " 6   jp_sales         16444 non-null  float64\n",
      " 7   other_sales      16444 non-null  float64\n",
      " 8   critic_score     7983 non-null   float64\n",
      " 9   user_score       7463 non-null   float64\n",
      " 10  rating           9768 non-null   object \n",
      " 11  sales_total      16444 non-null  float64\n",
      "dtypes: float64(8), object(4)\n",
      "memory usage: 1.6+ MB\n"
     ]
    }
   ],
   "source": [
    "df.info()"
   ]
  },
  {
   "cell_type": "markdown",
   "metadata": {
    "id": "Aqa5FwgiHDTn"
   },
   "source": [
    "# Шаг 3. Приступаем к анализу"
   ]
  },
  {
   "cell_type": "markdown",
   "metadata": {
    "id": "UlJ3_mvfHmof"
   },
   "source": [
    "## Посмотрим, сколько игр выпускалось в разные годы.  Важны ли данные за все периоды?"
   ]
  },
  {
   "cell_type": "code",
   "execution_count": 18,
   "metadata": {
    "colab": {
     "base_uri": "https://localhost:8080/"
    },
    "id": "_c9H5jkRFQrC",
    "outputId": "b5b300c3-9151-4f17-b8ba-be32f1936d52",
    "scrolled": true
   },
   "outputs": [
    {
     "data": {
      "text/plain": [
       "2008.0    1427\n",
       "2009.0    1426\n",
       "2010.0    1255\n",
       "2007.0    1197\n",
       "2011.0    1136\n",
       "2006.0    1006\n",
       "2005.0     939\n",
       "2002.0     829\n",
       "2003.0     775\n",
       "2004.0     762\n",
       "2012.0     653\n",
       "2015.0     606\n",
       "2014.0     581\n",
       "2013.0     544\n",
       "2016.0     502\n",
       "2001.0     482\n",
       "1998.0     379\n",
       "2000.0     350\n",
       "1999.0     338\n",
       "1997.0     289\n",
       "1996.0     263\n",
       "1995.0     219\n",
       "1994.0     121\n",
       "1993.0      60\n",
       "1981.0      46\n",
       "1992.0      43\n",
       "1991.0      41\n",
       "1982.0      36\n",
       "1986.0      21\n",
       "1989.0      17\n",
       "1983.0      17\n",
       "1987.0      16\n",
       "1990.0      16\n",
       "1988.0      15\n",
       "1984.0      14\n",
       "1985.0      14\n",
       "1980.0       9\n",
       "Name: year_of_release, dtype: int64"
      ]
     },
     "execution_count": 18,
     "metadata": {},
     "output_type": "execute_result"
    }
   ],
   "source": [
    "df['year_of_release'].value_counts()"
   ]
  },
  {
   "cell_type": "code",
   "execution_count": 19,
   "metadata": {
    "colab": {
     "base_uri": "https://localhost:8080/",
     "height": 325
    },
    "id": "y5pacHJ2TuwC",
    "outputId": "8f543c24-c686-44ad-b547-b596c3201542"
   },
   "outputs": [
    {
     "data": {
      "text/plain": [
       "<AxesSubplot:title={'center':'Продажи'}, xlabel='year_of_release', ylabel='Sales'>"
      ]
     },
     "execution_count": 19,
     "metadata": {},
     "output_type": "execute_result"
    },
    {
     "data": {
      "image/png": "[encoded data removed]",
      "text/plain": [
       "<Figure size 432x288 with 1 Axes>"
      ]
     },
     "metadata": {
      "needs_background": "light"
     },
     "output_type": "display_data"
    }
   ],
   "source": [
    "df[df['year_of_release'] > 1990] \\\n",
    "  .groupby('year_of_release')['sales_total'].agg(sum).reset_index()\\\n",
    "  .plot(kind='bar', x='year_of_release',  y='sales_total', grid=1, color='y', ylabel='Sales', title=\"Продажи\")"
   ]
  },
  {
   "cell_type": "markdown",
   "metadata": {},
   "source": [
    "Для целей прогнозирования продаж на следующий год даже в традиционных бизнесах редко берут данные более чем за 2-3 года. А в такой динамично меняющейся индустрии, как компьютерные игры и вовсе не стоит брать слишком большой временной интервал - иначе обязательно захватим уже отжившие тренды. Но и очень короткий период не подходит для прогнозирования, так что надо выбирать золотую середину (но не менее 2-х полных лет и не более 5 лет, включая 2016 год)"
   ]
  },
  {
   "cell_type": "code",
   "execution_count": 20,
   "metadata": {
    "id": "TCCYntPqW9sj"
   },
   "outputs": [
    {
     "name": "stdout",
     "output_type": "stream",
     "text": [
      "<class 'pandas.core.frame.DataFrame'>\n",
      "Int64Index: 2886 entries, 16 to 16714\n",
      "Data columns (total 12 columns):\n",
      " #   Column           Non-Null Count  Dtype  \n",
      "---  ------           --------------  -----  \n",
      " 0   name             2886 non-null   object \n",
      " 1   platform         2886 non-null   object \n",
      " 2   year_of_release  2886 non-null   int64  \n",
      " 3   genre            2886 non-null   object \n",
      " 4   na_sales         2886 non-null   float64\n",
      " 5   eu_sales         2886 non-null   float64\n",
      " 6   jp_sales         2886 non-null   float64\n",
      " 7   other_sales      2886 non-null   float64\n",
      " 8   critic_score     1312 non-null   float64\n",
      " 9   user_score       1531 non-null   float64\n",
      " 10  rating           1611 non-null   object \n",
      " 11  sales_total      2886 non-null   float64\n",
      "dtypes: float64(7), int64(1), object(4)\n",
      "memory usage: 293.1+ KB\n"
     ]
    }
   ],
   "source": [
    "df = df[df['year_of_release']>2011].copy()\n",
    "df['year_of_release'] = df['year_of_release'].astype('int')\n",
    "df.info()"
   ]
  },
  {
   "cell_type": "markdown",
   "metadata": {
    "id": "wh2WXiK_I7Vu"
   },
   "source": [
    "## Посмотрим, как менялись продажи по платформам. Выберем платформы с наибольшими суммарными продажами и построим распределение по годам. За какой характерный срок появляются новые и исчезают старые платформы?"
   ]
  },
  {
   "cell_type": "code",
   "execution_count": 21,
   "metadata": {
    "id": "TQgpX7s6lxwJ"
   },
   "outputs": [],
   "source": [
    "df['platform'] = df['platform'].str.lower()"
   ]
  },
  {
   "cell_type": "code",
   "execution_count": 22,
   "metadata": {
    "colab": {
     "base_uri": "https://localhost:8080/"
    },
    "id": "zNVsLx1TORvu",
    "outputId": "22012b5b-28b0-4dff-a961-ec9901ab09e5"
   },
   "outputs": [
    {
     "data": {
      "text/plain": [
       "['ps4', 'ps3', 'x360', '3ds', 'xone', 'wiiu', 'pc', 'psv', 'wii', 'ds']"
      ]
     },
     "execution_count": 22,
     "metadata": {},
     "output_type": "execute_result"
    }
   ],
   "source": [
    "top_sales = df.groupby(['platform'])['sales_total'].sum().sort_values(ascending=False).head(10).reset_index()\n",
    "t = top_sales['platform'].to_list()\n",
    "t\n",
    "#top_sales"
   ]
  },
  {
   "cell_type": "code",
   "execution_count": 23,
   "metadata": {
    "colab": {
     "base_uri": "https://localhost:8080/",
     "height": 197
    },
    "id": "7SSd97haN6y8",
    "outputId": "aaf243b9-a1fa-4cf2-cdac-376969fffc64"
   },
   "outputs": [
    {
     "data": {
      "text/html": [
       "<div>\n",
       "<style scoped>\n",
       "    .dataframe tbody tr th:only-of-type {\n",
       "        vertical-align: middle;\n",
       "    }\n",
       "\n",
       "    .dataframe tbody tr th {\n",
       "        vertical-align: top;\n",
       "    }\n",
       "\n",
       "    .dataframe thead th {\n",
       "        text-align: right;\n",
       "    }\n",
       "</style>\n",
       "<table border=\"1\" class=\"dataframe\">\n",
       "  <thead>\n",
       "    <tr style=\"text-align: right;\">\n",
       "      <th></th>\n",
       "      <th>name</th>\n",
       "      <th>platform</th>\n",
       "      <th>year_of_release</th>\n",
       "      <th>genre</th>\n",
       "      <th>na_sales</th>\n",
       "      <th>eu_sales</th>\n",
       "      <th>jp_sales</th>\n",
       "      <th>other_sales</th>\n",
       "      <th>critic_score</th>\n",
       "      <th>user_score</th>\n",
       "      <th>rating</th>\n",
       "      <th>sales_total</th>\n",
       "    </tr>\n",
       "  </thead>\n",
       "  <tbody>\n",
       "    <tr>\n",
       "      <th>0</th>\n",
       "      <td>Grand Theft Auto V</td>\n",
       "      <td>ps3</td>\n",
       "      <td>2013</td>\n",
       "      <td>Action</td>\n",
       "      <td>7.02</td>\n",
       "      <td>9.09</td>\n",
       "      <td>0.98</td>\n",
       "      <td>3.96</td>\n",
       "      <td>97.0</td>\n",
       "      <td>8.2</td>\n",
       "      <td>M</td>\n",
       "      <td>21.05</td>\n",
       "    </tr>\n",
       "    <tr>\n",
       "      <th>1</th>\n",
       "      <td>Grand Theft Auto V</td>\n",
       "      <td>x360</td>\n",
       "      <td>2013</td>\n",
       "      <td>Action</td>\n",
       "      <td>9.66</td>\n",
       "      <td>5.14</td>\n",
       "      <td>0.06</td>\n",
       "      <td>1.41</td>\n",
       "      <td>97.0</td>\n",
       "      <td>8.1</td>\n",
       "      <td>M</td>\n",
       "      <td>16.27</td>\n",
       "    </tr>\n",
       "    <tr>\n",
       "      <th>2</th>\n",
       "      <td>Call of Duty: Black Ops 3</td>\n",
       "      <td>ps4</td>\n",
       "      <td>2015</td>\n",
       "      <td>Shooter</td>\n",
       "      <td>6.03</td>\n",
       "      <td>5.86</td>\n",
       "      <td>0.36</td>\n",
       "      <td>2.38</td>\n",
       "      <td>NaN</td>\n",
       "      <td>NaN</td>\n",
       "      <td>NaN</td>\n",
       "      <td>14.63</td>\n",
       "    </tr>\n",
       "    <tr>\n",
       "      <th>3</th>\n",
       "      <td>Pokemon X/Pokemon Y</td>\n",
       "      <td>3ds</td>\n",
       "      <td>2013</td>\n",
       "      <td>Role-Playing</td>\n",
       "      <td>5.28</td>\n",
       "      <td>4.19</td>\n",
       "      <td>4.35</td>\n",
       "      <td>0.78</td>\n",
       "      <td>NaN</td>\n",
       "      <td>NaN</td>\n",
       "      <td>NaN</td>\n",
       "      <td>14.60</td>\n",
       "    </tr>\n",
       "    <tr>\n",
       "      <th>4</th>\n",
       "      <td>Call of Duty: Black Ops II</td>\n",
       "      <td>ps3</td>\n",
       "      <td>2012</td>\n",
       "      <td>Shooter</td>\n",
       "      <td>4.99</td>\n",
       "      <td>5.73</td>\n",
       "      <td>0.65</td>\n",
       "      <td>2.42</td>\n",
       "      <td>83.0</td>\n",
       "      <td>5.3</td>\n",
       "      <td>M</td>\n",
       "      <td>13.79</td>\n",
       "    </tr>\n",
       "  </tbody>\n",
       "</table>\n",
       "</div>"
      ],
      "text/plain": [
       "                         name platform  year_of_release         genre  \\\n",
       "0          Grand Theft Auto V      ps3             2013        Action   \n",
       "1          Grand Theft Auto V     x360             2013        Action   \n",
       "2   Call of Duty: Black Ops 3      ps4             2015       Shooter   \n",
       "3         Pokemon X/Pokemon Y      3ds             2013  Role-Playing   \n",
       "4  Call of Duty: Black Ops II      ps3             2012       Shooter   \n",
       "\n",
       "   na_sales  eu_sales  jp_sales  other_sales  critic_score  user_score rating  \\\n",
       "0      7.02      9.09      0.98         3.96          97.0         8.2      M   \n",
       "1      9.66      5.14      0.06         1.41          97.0         8.1      M   \n",
       "2      6.03      5.86      0.36         2.38           NaN         NaN    NaN   \n",
       "3      5.28      4.19      4.35         0.78           NaN         NaN    NaN   \n",
       "4      4.99      5.73      0.65         2.42          83.0         5.3      M   \n",
       "\n",
       "   sales_total  \n",
       "0        21.05  \n",
       "1        16.27  \n",
       "2        14.63  \n",
       "3        14.60  \n",
       "4        13.79  "
      ]
     },
     "execution_count": 23,
     "metadata": {},
     "output_type": "execute_result"
    }
   ],
   "source": [
    "df_top_sales = df[(df['platform'].isin(t))].reset_index(drop=1)\n",
    "df_top_sales.head()"
   ]
  },
  {
   "cell_type": "code",
   "execution_count": 24,
   "metadata": {
    "colab": {
     "base_uri": "https://localhost:8080/",
     "height": 1000
    },
    "id": "zgk7yGWRoMxP",
    "outputId": "624f6d80-0cb3-4095-b2f0-ea52f2840003",
    "scrolled": true
   },
   "outputs": [
    {
     "data": {
      "image/png": "[encoded data removed]",
      "text/plain": [
       "<Figure size 432x288 with 1 Axes>"
      ]
     },
     "metadata": {
      "needs_background": "light"
     },
     "output_type": "display_data"
    },
    {
     "data": {
      "image/png": "[encoded data removed]",
      "text/plain": [
       "<Figure size 432x288 with 1 Axes>"
      ]
     },
     "metadata": {
      "needs_background": "light"
     },
     "output_type": "display_data"
    },
    {
     "data": {
      "image/png": "[encoded data removed]",
      "text/plain": [
       "<Figure size 432x288 with 1 Axes>"
      ]
     },
     "metadata": {
      "needs_background": "light"
     },
     "output_type": "display_data"
    },
    {
     "data": {
      "image/png": "[encoded data removed]",
      "text/plain": [
       "<Figure size 432x288 with 1 Axes>"
      ]
     },
     "metadata": {
      "needs_background": "light"
     },
     "output_type": "display_data"
    },
    {
     "data": {
      "image/png": "[encoded data removed]",
      "text/plain": [
       "<Figure size 432x288 with 1 Axes>"
      ]
     },
     "metadata": {
      "needs_background": "light"
     },
     "output_type": "display_data"
    },
    {
     "data": {
      "image/png": "[encoded data removed]",
      "text/plain": [
       "<Figure size 432x288 with 1 Axes>"
      ]
     },
     "metadata": {
      "needs_background": "light"
     },
     "output_type": "display_data"
    },
    {
     "data": {
      "image/png": "[encoded data removed]",
      "text/plain": [
       "<Figure size 432x288 with 1 Axes>"
      ]
     },
     "metadata": {
      "needs_background": "light"
     },
     "output_type": "display_data"
    },
    {
     "data": {
      "image/png": "[encoded data removed]",
      "text/plain": [
       "<Figure size 432x288 with 1 Axes>"
      ]
     },
     "metadata": {
      "needs_background": "light"
     },
     "output_type": "display_data"
    },
    {
     "data": {
      "image/png": "[encoded data removed]",
      "text/plain": [
       "<Figure size 432x288 with 1 Axes>"
      ]
     },
     "metadata": {
      "needs_background": "light"
     },
     "output_type": "display_data"
    },
    {
     "data": {
      "image/png": "[encoded data removed]",
      "text/plain": [
       "<Figure size 432x288 with 1 Axes>"
      ]
     },
     "metadata": {
      "needs_background": "light"
     },
     "output_type": "display_data"
    }
   ],
   "source": [
    "for name in t:\n",
    "  df_top_sales[df_top_sales['platform'] == name]\\\n",
    "  .groupby('year_of_release')['sales_total'].agg(sum).reset_index()\\\n",
    "  .plot(kind='bar', x='year_of_release',  y='sales_total', grid=1, color='g', title=name)\n",
    "  "
   ]
  },
  {
   "cell_type": "markdown",
   "metadata": {
    "id": "Sbwbv6I7wpjW"
   },
   "source": [
    "По всем платформам-лидерам продаж наблюдается спад после 2011 года.   \n",
    "Наиболее переспективными представляются ps4, хone и 3ds по самым положительным показателям.\n",
    "Можно сказать, что век одной игровой платформы составляет 8-10 лет с пиком в начале или середине этого срока.  "
   ]
  },
  {
   "cell_type": "markdown",
   "metadata": {
    "id": "mHwvaiUvVrKX"
   },
   "source": [
    "## Возьмем данные за соответствующий актуальный период."
   ]
  },
  {
   "cell_type": "code",
   "execution_count": 25,
   "metadata": {},
   "outputs": [
    {
     "name": "stdout",
     "output_type": "stream",
     "text": [
      "<class 'pandas.core.frame.DataFrame'>\n",
      "Int64Index: 2886 entries, 16 to 16714\n",
      "Data columns (total 12 columns):\n",
      " #   Column           Non-Null Count  Dtype  \n",
      "---  ------           --------------  -----  \n",
      " 0   name             2886 non-null   object \n",
      " 1   platform         2886 non-null   object \n",
      " 2   year_of_release  2886 non-null   int64  \n",
      " 3   genre            2886 non-null   object \n",
      " 4   na_sales         2886 non-null   float64\n",
      " 5   eu_sales         2886 non-null   float64\n",
      " 6   jp_sales         2886 non-null   float64\n",
      " 7   other_sales      2886 non-null   float64\n",
      " 8   critic_score     1312 non-null   float64\n",
      " 9   user_score       1531 non-null   float64\n",
      " 10  rating           1611 non-null   object \n",
      " 11  sales_total      2886 non-null   float64\n",
      "dtypes: float64(7), int64(1), object(4)\n",
      "memory usage: 293.1+ KB\n"
     ]
    }
   ],
   "source": [
    "df = df[df['year_of_release']>2011].copy()\n",
    "df.info()"
   ]
  },
  {
   "cell_type": "markdown",
   "metadata": {
    "id": "zbeo23xLUQwL"
   },
   "source": [
    "## Построим график «ящик с усами» по глобальным продажам игр в разбивке по платформам. "
   ]
  },
  {
   "cell_type": "code",
   "execution_count": 26,
   "metadata": {
    "colab": {
     "base_uri": "https://localhost:8080/",
     "height": 296
    },
    "id": "jjt3P3BQjjDA",
    "outputId": "3d636636-ae02-4696-abf7-dffdf8152b85"
   },
   "outputs": [
    {
     "data": {
      "text/plain": [
       "<AxesSubplot:xlabel='platform', ylabel='sales_total'>"
      ]
     },
     "execution_count": 26,
     "metadata": {},
     "output_type": "execute_result"
    },
    {
     "data": {
      "image/png": "[encoded data removed]",
      "text/plain": [
       "<Figure size 432x288 with 1 Axes>"
      ]
     },
     "metadata": {
      "needs_background": "light"
     },
     "output_type": "display_data"
    }
   ],
   "source": [
    "sns.boxplot(data=df, x='platform', y='sales_total')"
   ]
  },
  {
   "cell_type": "code",
   "execution_count": 27,
   "metadata": {},
   "outputs": [
    {
     "data": {
      "text/plain": [
       "<AxesSubplot:xlabel='platform', ylabel='sales_total'>"
      ]
     },
     "execution_count": 27,
     "metadata": {},
     "output_type": "execute_result"
    },
    {
     "data": {
      "image/png": "[encoded data removed]",
      "text/plain": [
       "<Figure size 432x288 with 1 Axes>"
      ]
     },
     "metadata": {
      "needs_background": "light"
     },
     "output_type": "display_data"
    }
   ],
   "source": [
    "plt.ylim([0, 2])\n",
    "sns.boxplot(data=df, x='platform', y='sales_total')"
   ]
  },
  {
   "cell_type": "code",
   "execution_count": 28,
   "metadata": {
    "colab": {
     "base_uri": "https://localhost:8080/",
     "height": 520
    },
    "id": "UNB3nubo7vyT",
    "outputId": "515c7531-d4e8-4dd4-f269-9a4279b65290",
    "scrolled": true
   },
   "outputs": [
    {
     "data": {
      "text/html": [
       "<div>\n",
       "<style scoped>\n",
       "    .dataframe tbody tr th:only-of-type {\n",
       "        vertical-align: middle;\n",
       "    }\n",
       "\n",
       "    .dataframe tbody tr th {\n",
       "        vertical-align: top;\n",
       "    }\n",
       "\n",
       "    .dataframe thead th {\n",
       "        text-align: right;\n",
       "    }\n",
       "</style>\n",
       "<table border=\"1\" class=\"dataframe\">\n",
       "  <thead>\n",
       "    <tr style=\"text-align: right;\">\n",
       "      <th></th>\n",
       "      <th>sum</th>\n",
       "      <th>count</th>\n",
       "      <th>mean</th>\n",
       "      <th>median</th>\n",
       "      <th>max</th>\n",
       "    </tr>\n",
       "    <tr>\n",
       "      <th>platform</th>\n",
       "      <th></th>\n",
       "      <th></th>\n",
       "      <th></th>\n",
       "      <th></th>\n",
       "      <th></th>\n",
       "    </tr>\n",
       "  </thead>\n",
       "  <tbody>\n",
       "    <tr>\n",
       "      <th>ps4</th>\n",
       "      <td>314.14</td>\n",
       "      <td>392</td>\n",
       "      <td>0.801378</td>\n",
       "      <td>0.20</td>\n",
       "      <td>14.63</td>\n",
       "    </tr>\n",
       "    <tr>\n",
       "      <th>ps3</th>\n",
       "      <td>288.79</td>\n",
       "      <td>493</td>\n",
       "      <td>0.585781</td>\n",
       "      <td>0.20</td>\n",
       "      <td>21.05</td>\n",
       "    </tr>\n",
       "    <tr>\n",
       "      <th>x360</th>\n",
       "      <td>236.54</td>\n",
       "      <td>292</td>\n",
       "      <td>0.810068</td>\n",
       "      <td>0.31</td>\n",
       "      <td>16.27</td>\n",
       "    </tr>\n",
       "    <tr>\n",
       "      <th>3ds</th>\n",
       "      <td>194.61</td>\n",
       "      <td>396</td>\n",
       "      <td>0.491439</td>\n",
       "      <td>0.11</td>\n",
       "      <td>14.60</td>\n",
       "    </tr>\n",
       "    <tr>\n",
       "      <th>xone</th>\n",
       "      <td>159.32</td>\n",
       "      <td>247</td>\n",
       "      <td>0.645020</td>\n",
       "      <td>0.22</td>\n",
       "      <td>7.39</td>\n",
       "    </tr>\n",
       "    <tr>\n",
       "      <th>wiiu</th>\n",
       "      <td>82.19</td>\n",
       "      <td>147</td>\n",
       "      <td>0.559116</td>\n",
       "      <td>0.22</td>\n",
       "      <td>7.09</td>\n",
       "    </tr>\n",
       "    <tr>\n",
       "      <th>pc</th>\n",
       "      <td>62.65</td>\n",
       "      <td>250</td>\n",
       "      <td>0.250600</td>\n",
       "      <td>0.08</td>\n",
       "      <td>5.14</td>\n",
       "    </tr>\n",
       "    <tr>\n",
       "      <th>psv</th>\n",
       "      <td>49.18</td>\n",
       "      <td>411</td>\n",
       "      <td>0.119659</td>\n",
       "      <td>0.05</td>\n",
       "      <td>1.96</td>\n",
       "    </tr>\n",
       "    <tr>\n",
       "      <th>wii</th>\n",
       "      <td>35.37</td>\n",
       "      <td>54</td>\n",
       "      <td>0.655000</td>\n",
       "      <td>0.18</td>\n",
       "      <td>6.76</td>\n",
       "    </tr>\n",
       "    <tr>\n",
       "      <th>ds</th>\n",
       "      <td>12.55</td>\n",
       "      <td>31</td>\n",
       "      <td>0.404839</td>\n",
       "      <td>0.05</td>\n",
       "      <td>8.06</td>\n",
       "    </tr>\n",
       "    <tr>\n",
       "      <th>psp</th>\n",
       "      <td>11.19</td>\n",
       "      <td>173</td>\n",
       "      <td>0.064682</td>\n",
       "      <td>0.03</td>\n",
       "      <td>0.36</td>\n",
       "    </tr>\n",
       "  </tbody>\n",
       "</table>\n",
       "</div>"
      ],
      "text/plain": [
       "             sum  count      mean  median    max\n",
       "platform                                        \n",
       "ps4       314.14    392  0.801378    0.20  14.63\n",
       "ps3       288.79    493  0.585781    0.20  21.05\n",
       "x360      236.54    292  0.810068    0.31  16.27\n",
       "3ds       194.61    396  0.491439    0.11  14.60\n",
       "xone      159.32    247  0.645020    0.22   7.39\n",
       "wiiu       82.19    147  0.559116    0.22   7.09\n",
       "pc         62.65    250  0.250600    0.08   5.14\n",
       "psv        49.18    411  0.119659    0.05   1.96\n",
       "wii        35.37     54  0.655000    0.18   6.76\n",
       "ds         12.55     31  0.404839    0.05   8.06\n",
       "psp        11.19    173  0.064682    0.03   0.36"
      ]
     },
     "execution_count": 28,
     "metadata": {},
     "output_type": "execute_result"
    }
   ],
   "source": [
    "df.groupby('platform')['sales_total'].agg(['sum', 'count', 'mean', 'median', 'max']).sort_values('sum', ascending=0)"
   ]
  },
  {
   "cell_type": "markdown",
   "metadata": {
    "id": "Bj_GaKpnUfrA"
   },
   "source": [
    "## Посмотрим, как влияют на продажи внутри одной популярной платформы отзывы пользователей и критиков. Построим диаграмму рассеяния и посчитаем корреляцию между отзывами и продажами. "
   ]
  },
  {
   "cell_type": "code",
   "execution_count": 29,
   "metadata": {
    "scrolled": false
   },
   "outputs": [
    {
     "name": "stdout",
     "output_type": "stream",
     "text": [
      "Корреляция продаж и оценок для ps4\n"
     ]
    },
    {
     "data": {
      "image/png": "[encoded data removed]",
      "text/plain": [
       "<Figure size 432x288 with 1 Axes>"
      ]
     },
     "metadata": {
      "needs_background": "light"
     },
     "output_type": "display_data"
    },
    {
     "data": {
      "image/png": "[encoded data removed]",
      "text/plain": [
       "<Figure size 432x288 with 1 Axes>"
      ]
     },
     "metadata": {
      "needs_background": "light"
     },
     "output_type": "display_data"
    },
    {
     "name": "stdout",
     "output_type": "stream",
     "text": [
      "              user_score  critic_score  sales_total\n",
      "user_score      1.000000      0.557654    -0.031957\n",
      "critic_score    0.557654      1.000000     0.406568\n",
      "sales_total    -0.031957      0.406568     1.000000\n",
      "**************************************************\n",
      "Корреляция продаж и оценок для ps3\n"
     ]
    },
    {
     "data": {
      "image/png": "[encoded data removed]",
      "text/plain": [
       "<Figure size 432x288 with 1 Axes>"
      ]
     },
     "metadata": {
      "needs_background": "light"
     },
     "output_type": "display_data"
    },
    {
     "data": {
      "image/png": "[encoded data removed]",
      "text/plain": [
       "<Figure size 432x288 with 1 Axes>"
      ]
     },
     "metadata": {
      "needs_background": "light"
     },
     "output_type": "display_data"
    },
    {
     "name": "stdout",
     "output_type": "stream",
     "text": [
      "              user_score  critic_score  sales_total\n",
      "user_score      1.000000      0.539456    -0.005144\n",
      "critic_score    0.539456      1.000000     0.331497\n",
      "sales_total    -0.005144      0.331497     1.000000\n",
      "**************************************************\n",
      "Корреляция продаж и оценок для x360\n"
     ]
    },
    {
     "data": {
      "image/png": "[encoded data removed]",
      "text/plain": [
       "<Figure size 432x288 with 1 Axes>"
      ]
     },
     "metadata": {
      "needs_background": "light"
     },
     "output_type": "display_data"
    },
    {
     "data": {
      "image/png": "[encoded data removed]",
      "text/plain": [
       "<Figure size 432x288 with 1 Axes>"
      ]
     },
     "metadata": {
      "needs_background": "light"
     },
     "output_type": "display_data"
    },
    {
     "name": "stdout",
     "output_type": "stream",
     "text": [
      "              user_score  critic_score  sales_total\n",
      "user_score      1.000000      0.557352     0.006164\n",
      "critic_score    0.557352      1.000000     0.360573\n",
      "sales_total     0.006164      0.360573     1.000000\n",
      "**************************************************\n",
      "Корреляция продаж и оценок для 3ds\n"
     ]
    },
    {
     "data": {
      "image/png": "[encoded data removed]",
      "text/plain": [
       "<Figure size 432x288 with 1 Axes>"
      ]
     },
     "metadata": {
      "needs_background": "light"
     },
     "output_type": "display_data"
    },
    {
     "data": {
      "image/png": "[encoded data removed]",
      "text/plain": [
       "<Figure size 432x288 with 1 Axes>"
      ]
     },
     "metadata": {
      "needs_background": "light"
     },
     "output_type": "display_data"
    },
    {
     "name": "stdout",
     "output_type": "stream",
     "text": [
      "              user_score  critic_score  sales_total\n",
      "user_score      1.000000      0.722762     0.197583\n",
      "critic_score    0.722762      1.000000     0.320803\n",
      "sales_total     0.197583      0.320803     1.000000\n",
      "**************************************************\n",
      "Корреляция продаж и оценок для xone\n"
     ]
    },
    {
     "data": {
      "image/png": "[encoded data removed]",
      "text/plain": [
       "<Figure size 432x288 with 1 Axes>"
      ]
     },
     "metadata": {
      "needs_background": "light"
     },
     "output_type": "display_data"
    },
    {
     "data": {
      "image/png": "[encoded data removed]",
      "text/plain": [
       "<Figure size 432x288 with 1 Axes>"
      ]
     },
     "metadata": {
      "needs_background": "light"
     },
     "output_type": "display_data"
    },
    {
     "name": "stdout",
     "output_type": "stream",
     "text": [
      "              user_score  critic_score  sales_total\n",
      "user_score      1.000000      0.472462    -0.068925\n",
      "critic_score    0.472462      1.000000     0.416998\n",
      "sales_total    -0.068925      0.416998     1.000000\n",
      "**************************************************\n",
      "Корреляция продаж и оценок для wiiu\n"
     ]
    },
    {
     "data": {
      "image/png": "[encoded data removed]",
      "text/plain": [
       "<Figure size 432x288 with 1 Axes>"
      ]
     },
     "metadata": {
      "needs_background": "light"
     },
     "output_type": "display_data"
    },
    {
     "data": {
      "image/png": "[encoded data removed]",
      "text/plain": [
       "<Figure size 432x288 with 1 Axes>"
      ]
     },
     "metadata": {
      "needs_background": "light"
     },
     "output_type": "display_data"
    },
    {
     "name": "stdout",
     "output_type": "stream",
     "text": [
      "              user_score  critic_score  sales_total\n",
      "user_score      1.000000       0.77008     0.400219\n",
      "critic_score    0.770080       1.00000     0.348380\n",
      "sales_total     0.400219       0.34838     1.000000\n",
      "**************************************************\n",
      "Корреляция продаж и оценок для pc\n"
     ]
    },
    {
     "data": {
      "image/png": "[encoded data removed]",
      "text/plain": [
       "<Figure size 432x288 with 1 Axes>"
      ]
     },
     "metadata": {
      "needs_background": "light"
     },
     "output_type": "display_data"
    },
    {
     "data": {
      "image/png": "[encoded data removed]",
      "text/plain": [
       "<Figure size 432x288 with 1 Axes>"
      ]
     },
     "metadata": {
      "needs_background": "light"
     },
     "output_type": "display_data"
    },
    {
     "name": "stdout",
     "output_type": "stream",
     "text": [
      "              user_score  critic_score  sales_total\n",
      "user_score      1.000000      0.432587    -0.121867\n",
      "critic_score    0.432587      1.000000     0.237243\n",
      "sales_total    -0.121867      0.237243     1.000000\n",
      "**************************************************\n",
      "Корреляция продаж и оценок для psv\n"
     ]
    },
    {
     "data": {
      "image/png": "[encoded data removed]",
      "text/plain": [
       "<Figure size 432x288 with 1 Axes>"
      ]
     },
     "metadata": {
      "needs_background": "light"
     },
     "output_type": "display_data"
    },
    {
     "data": {
      "image/png": "[encoded data removed]",
      "text/plain": [
       "<Figure size 432x288 with 1 Axes>"
      ]
     },
     "metadata": {
      "needs_background": "light"
     },
     "output_type": "display_data"
    },
    {
     "name": "stdout",
     "output_type": "stream",
     "text": [
      "              user_score  critic_score  sales_total\n",
      "user_score      1.000000      0.699199    -0.004339\n",
      "critic_score    0.699199      1.000000     0.094488\n",
      "sales_total    -0.004339      0.094488     1.000000\n",
      "**************************************************\n"
     ]
    }
   ],
   "source": [
    "for name in t:\n",
    "    try:\n",
    "        temp = df[df['platform']==name]\n",
    "        if temp['sales_total'].count()>100:\n",
    "            print('Корреляция продаж и оценок для', name)\n",
    "            temp.plot(kind='scatter', x='user_score', y='sales_total')\n",
    "            temp.plot(kind='scatter', x='critic_score', y='sales_total')\n",
    "            plt.show()\n",
    "            print(temp[['user_score', 'critic_score', 'sales_total']].corr())\n",
    "            print('*'*50)\n",
    "    except:\n",
    "            print('-')"
   ]
  },
  {
   "cell_type": "markdown",
   "metadata": {
    "id": "Cx1fJQJ0aptt"
   },
   "source": [
    "Как правило продажи имеют практически нулевую корреляцию со зрительскими оценками. Возможное объяснение состоит в том, что у пользователей нет общей системы оценок и они по-разному могут оценивать похожие впечатления от игры. (Кто-то никогда не ставит выше 5, а кто-то наоборот 8-10). Из-за этого диаграмма рассеяния выглядит так разрозненно.  \n",
    "В то же время у критиков мнение более систематизировано, у них корреляция варьируется в диапозоне 35-40%."
   ]
  },
  {
   "cell_type": "markdown",
   "metadata": {
    "id": "H2XBWYtScIrq"
   },
   "source": [
    "## Посмотрим на общее распределение игр по жанрам. "
   ]
  },
  {
   "cell_type": "code",
   "execution_count": 30,
   "metadata": {
    "colab": {
     "base_uri": "https://localhost:8080/",
     "height": 348
    },
    "id": "nPHFotm1cb2p",
    "outputId": "a5c14a31-7ee9-457f-82f0-36f119f7c6e7"
   },
   "outputs": [
    {
     "data": {
      "text/html": [
       "<div>\n",
       "<style scoped>\n",
       "    .dataframe tbody tr th:only-of-type {\n",
       "        vertical-align: middle;\n",
       "    }\n",
       "\n",
       "    .dataframe tbody tr th {\n",
       "        vertical-align: top;\n",
       "    }\n",
       "\n",
       "    .dataframe thead th {\n",
       "        text-align: right;\n",
       "    }\n",
       "</style>\n",
       "<table border=\"1\" class=\"dataframe\">\n",
       "  <thead>\n",
       "    <tr style=\"text-align: right;\">\n",
       "      <th></th>\n",
       "      <th>genre</th>\n",
       "      <th>count</th>\n",
       "      <th>sum</th>\n",
       "      <th>mean</th>\n",
       "      <th>max</th>\n",
       "    </tr>\n",
       "  </thead>\n",
       "  <tbody>\n",
       "    <tr>\n",
       "      <th>0</th>\n",
       "      <td>Adventure</td>\n",
       "      <td>302</td>\n",
       "      <td>29.43</td>\n",
       "      <td>0.097450</td>\n",
       "      <td>1.66</td>\n",
       "    </tr>\n",
       "    <tr>\n",
       "      <th>1</th>\n",
       "      <td>Puzzle</td>\n",
       "      <td>28</td>\n",
       "      <td>4.89</td>\n",
       "      <td>0.174643</td>\n",
       "      <td>1.19</td>\n",
       "    </tr>\n",
       "    <tr>\n",
       "      <th>2</th>\n",
       "      <td>Strategy</td>\n",
       "      <td>71</td>\n",
       "      <td>13.34</td>\n",
       "      <td>0.187887</td>\n",
       "      <td>1.67</td>\n",
       "    </tr>\n",
       "    <tr>\n",
       "      <th>3</th>\n",
       "      <td>Fighting</td>\n",
       "      <td>109</td>\n",
       "      <td>44.49</td>\n",
       "      <td>0.408165</td>\n",
       "      <td>7.55</td>\n",
       "    </tr>\n",
       "    <tr>\n",
       "      <th>4</th>\n",
       "      <td>Action</td>\n",
       "      <td>1031</td>\n",
       "      <td>441.12</td>\n",
       "      <td>0.427856</td>\n",
       "      <td>21.05</td>\n",
       "    </tr>\n",
       "    <tr>\n",
       "      <th>5</th>\n",
       "      <td>Simulation</td>\n",
       "      <td>80</td>\n",
       "      <td>35.12</td>\n",
       "      <td>0.439000</td>\n",
       "      <td>9.17</td>\n",
       "    </tr>\n",
       "    <tr>\n",
       "      <th>6</th>\n",
       "      <td>Misc</td>\n",
       "      <td>192</td>\n",
       "      <td>85.04</td>\n",
       "      <td>0.442917</td>\n",
       "      <td>9.18</td>\n",
       "    </tr>\n",
       "    <tr>\n",
       "      <th>7</th>\n",
       "      <td>Racing</td>\n",
       "      <td>115</td>\n",
       "      <td>53.50</td>\n",
       "      <td>0.465217</td>\n",
       "      <td>7.09</td>\n",
       "    </tr>\n",
       "    <tr>\n",
       "      <th>8</th>\n",
       "      <td>Role-Playing</td>\n",
       "      <td>370</td>\n",
       "      <td>192.80</td>\n",
       "      <td>0.521081</td>\n",
       "      <td>14.60</td>\n",
       "    </tr>\n",
       "    <tr>\n",
       "      <th>9</th>\n",
       "      <td>Sports</td>\n",
       "      <td>268</td>\n",
       "      <td>181.07</td>\n",
       "      <td>0.675634</td>\n",
       "      <td>8.58</td>\n",
       "    </tr>\n",
       "    <tr>\n",
       "      <th>10</th>\n",
       "      <td>Platform</td>\n",
       "      <td>85</td>\n",
       "      <td>61.00</td>\n",
       "      <td>0.717647</td>\n",
       "      <td>9.90</td>\n",
       "    </tr>\n",
       "    <tr>\n",
       "      <th>11</th>\n",
       "      <td>Shooter</td>\n",
       "      <td>235</td>\n",
       "      <td>304.73</td>\n",
       "      <td>1.296723</td>\n",
       "      <td>14.63</td>\n",
       "    </tr>\n",
       "  </tbody>\n",
       "</table>\n",
       "</div>"
      ],
      "text/plain": [
       "           genre  count     sum      mean    max\n",
       "0      Adventure    302   29.43  0.097450   1.66\n",
       "1         Puzzle     28    4.89  0.174643   1.19\n",
       "2       Strategy     71   13.34  0.187887   1.67\n",
       "3       Fighting    109   44.49  0.408165   7.55\n",
       "4         Action   1031  441.12  0.427856  21.05\n",
       "5     Simulation     80   35.12  0.439000   9.17\n",
       "6           Misc    192   85.04  0.442917   9.18\n",
       "7         Racing    115   53.50  0.465217   7.09\n",
       "8   Role-Playing    370  192.80  0.521081  14.60\n",
       "9         Sports    268  181.07  0.675634   8.58\n",
       "10      Platform     85   61.00  0.717647   9.90\n",
       "11       Shooter    235  304.73  1.296723  14.63"
      ]
     },
     "execution_count": 30,
     "metadata": {},
     "output_type": "execute_result"
    },
    {
     "data": {
      "image/png": "[encoded data removed]",
      "text/plain": [
       "<Figure size 432x288 with 1 Axes>"
      ]
     },
     "metadata": {
      "needs_background": "light"
     },
     "output_type": "display_data"
    }
   ],
   "source": [
    "sns.boxplot(data = df, x='sales_total', y='genre', orient='h')\n",
    "df.groupby(by='genre', as_index=False)['sales_total'].agg(['count', 'sum', 'mean', 'max']).sort_values(by='mean').reset_index()"
   ]
  },
  {
   "cell_type": "code",
   "execution_count": 31,
   "metadata": {},
   "outputs": [
    {
     "data": {
      "text/plain": [
       "<AxesSubplot:xlabel='sales_total', ylabel='genre'>"
      ]
     },
     "execution_count": 31,
     "metadata": {},
     "output_type": "execute_result"
    },
    {
     "data": {
      "image/png": "[encoded data removed]",
      "text/plain": [
       "<Figure size 432x288 with 1 Axes>"
      ]
     },
     "metadata": {
      "needs_background": "light"
     },
     "output_type": "display_data"
    }
   ],
   "source": [
    "plt.xlim([0, 4])\n",
    "sns.boxplot(data = df, x='sales_total', y='genre')"
   ]
  },
  {
   "cell_type": "markdown",
   "metadata": {
    "id": "XcVBH2NRf_2b"
   },
   "source": [
    "Лучше всего продаются шутеры, спортивные игры и платформеры. Хуже всех - головоломки, стратегии и приключения.   "
   ]
  },
  {
   "cell_type": "markdown",
   "metadata": {
    "id": "fzKX0Io9gwaZ"
   },
   "source": [
    "# Шаг 4. Составим портрет пользователя каждого региона  \n",
    "## Самые популярные платформы (топ-5). Опишем различия в долях продаж."
   ]
  },
  {
   "cell_type": "code",
   "execution_count": 32,
   "metadata": {
    "colab": {
     "base_uri": "https://localhost:8080/"
    },
    "id": "uoAZPfXayQMu",
    "outputId": "b3188622-9b2f-4934-deb7-45ebc841316a"
   },
   "outputs": [
    {
     "name": "stdout",
     "output_type": "stream",
     "text": [
      "  platform  na_sales  share\n",
      "0     x360    140.05  23.70\n",
      "1      ps4    108.74  18.40\n",
      "2      ps3    103.38  17.49\n",
      "3     xone     93.12  15.76\n",
      "4      3ds     55.31   9.36 \n",
      "   platform  eu_sales  share\n",
      "0      ps4    141.09  27.84\n",
      "1      ps3    106.86  21.08\n",
      "2     x360     74.52  14.70\n",
      "3     xone     51.59  10.18\n",
      "4      3ds     42.64   8.41 \n",
      "   platform  jp_sales  share\n",
      "0      3ds     87.79  45.59\n",
      "1      ps3     35.29  18.32\n",
      "2      psv     21.04  10.93\n",
      "3      ps4     15.96   8.29\n",
      "4     wiiu     13.01   6.76\n"
     ]
    }
   ],
   "source": [
    "na_platform = df.groupby(by =['platform'], as_index=0)['na_sales']\\\n",
    "                .agg('sum').sort_values(by='na_sales', ascending=0).reset_index(drop=1)\n",
    "na_platform['share']=((na_platform['na_sales']/na_platform['na_sales'].sum())*100).round(2)\n",
    "eu_platform = df.groupby(by =['platform'], as_index=0)['eu_sales']\\\n",
    "                .agg('sum').sort_values(by='eu_sales', ascending=0).reset_index(drop=1)\n",
    "eu_platform['share']=((eu_platform['eu_sales']/eu_platform['eu_sales'].sum())*100).round(2)\n",
    "jp_platform = df.groupby(by =['platform'], as_index=0)['jp_sales']\\\n",
    "                .agg('sum').sort_values(by='jp_sales', ascending=0).reset_index(drop=1)\n",
    "jp_platform['share']=((jp_platform['jp_sales']/jp_platform['jp_sales'].sum())*100).round(2)\n",
    "print(na_platform.head(), '\\n', eu_platform.head(), '\\n', jp_platform.head())"
   ]
  },
  {
   "cell_type": "code",
   "execution_count": 33,
   "metadata": {},
   "outputs": [],
   "source": [
    "na_platform.loc[5] = na_platform.loc[5:].sum()\n",
    "na_platform.loc[5, 'platform'] = 'others'\n",
    "na_platform = na_platform.drop([6, 7, 8, 9,10])\n",
    "\n",
    "eu_platform.loc[5] = eu_platform.loc[5:].sum()\n",
    "eu_platform.loc[5, 'platform'] = 'others'\n",
    "eu_platform = eu_platform.drop([6, 7, 8, 9,10])\n",
    "\n",
    "jp_platform.loc[5] = jp_platform.loc[5:].sum()\n",
    "jp_platform.loc[5, 'platform'] = 'others'\n",
    "jp_platform = jp_platform.drop([6, 7, 8, 9,10])"
   ]
  },
  {
   "cell_type": "code",
   "execution_count": 34,
   "metadata": {},
   "outputs": [
    {
     "data": {
      "text/html": [
       "<div>\n",
       "<style scoped>\n",
       "    .dataframe tbody tr th:only-of-type {\n",
       "        vertical-align: middle;\n",
       "    }\n",
       "\n",
       "    .dataframe tbody tr th {\n",
       "        vertical-align: top;\n",
       "    }\n",
       "\n",
       "    .dataframe thead th {\n",
       "        text-align: right;\n",
       "    }\n",
       "</style>\n",
       "<table border=\"1\" class=\"dataframe\">\n",
       "  <thead>\n",
       "    <tr style=\"text-align: right;\">\n",
       "      <th></th>\n",
       "      <th>platform</th>\n",
       "      <th>na_sales</th>\n",
       "      <th>share</th>\n",
       "    </tr>\n",
       "  </thead>\n",
       "  <tbody>\n",
       "    <tr>\n",
       "      <th>0</th>\n",
       "      <td>x360</td>\n",
       "      <td>140.05</td>\n",
       "      <td>23.70</td>\n",
       "    </tr>\n",
       "    <tr>\n",
       "      <th>1</th>\n",
       "      <td>ps4</td>\n",
       "      <td>108.74</td>\n",
       "      <td>18.40</td>\n",
       "    </tr>\n",
       "    <tr>\n",
       "      <th>2</th>\n",
       "      <td>ps3</td>\n",
       "      <td>103.38</td>\n",
       "      <td>17.49</td>\n",
       "    </tr>\n",
       "    <tr>\n",
       "      <th>3</th>\n",
       "      <td>xone</td>\n",
       "      <td>93.12</td>\n",
       "      <td>15.76</td>\n",
       "    </tr>\n",
       "    <tr>\n",
       "      <th>4</th>\n",
       "      <td>3ds</td>\n",
       "      <td>55.31</td>\n",
       "      <td>9.36</td>\n",
       "    </tr>\n",
       "    <tr>\n",
       "      <th>5</th>\n",
       "      <td>others</td>\n",
       "      <td>90.37</td>\n",
       "      <td>15.30</td>\n",
       "    </tr>\n",
       "  </tbody>\n",
       "</table>\n",
       "</div>"
      ],
      "text/plain": [
       "  platform  na_sales  share\n",
       "0     x360    140.05  23.70\n",
       "1      ps4    108.74  18.40\n",
       "2      ps3    103.38  17.49\n",
       "3     xone     93.12  15.76\n",
       "4      3ds     55.31   9.36\n",
       "5   others     90.37  15.30"
      ]
     },
     "execution_count": 34,
     "metadata": {},
     "output_type": "execute_result"
    }
   ],
   "source": [
    "na_platform.head(8)"
   ]
  },
  {
   "cell_type": "code",
   "execution_count": 35,
   "metadata": {},
   "outputs": [
    {
     "data": {
      "image/png": "[encoded data removed]",
      "text/plain": [
       "<Figure size 1152x1152 with 3 Axes>"
      ]
     },
     "metadata": {},
     "output_type": "display_data"
    }
   ],
   "source": [
    "fig = plt.figure(figsize=(8,8),dpi=144)\n",
    "\n",
    "ax1 = fig.add_subplot(131)\n",
    "ax1.pie(na_platform.na_sales, labels=na_platform.platform, autopct='%1.0f%%')\n",
    "ax1.set_title('Северная Америка')\n",
    "\n",
    "ax2 = fig.add_subplot(132)\n",
    "ax2.pie(eu_platform.eu_sales, labels=eu_platform.platform, autopct='%1.0f%%')\n",
    "ax2.set_title('Европа')\n",
    "\n",
    "ax3 = fig.add_subplot(133)\n",
    "ax3.pie(jp_platform.jp_sales, labels=jp_platform.platform, autopct='%1.0f%%')\n",
    "ax3.set_title('Япония')\n",
    "\n",
    "plt.show()"
   ]
  },
  {
   "cell_type": "markdown",
   "metadata": {
    "id": "hpIG4luoOT5x"
   },
   "source": [
    "Американский рынок самый крупный.  \n",
    "Топ 5 платформ на американском и европейском рынке совпадают (3ds, ps3, xone, ps4, x360).  \n",
    "В Японии в список лидеров добавились psv и wiiu.  \n",
    "Лидеры американского рынка - xone и ps4  \n",
    "Европейского - ps4  \n",
    "Японского - 3ds  "
   ]
  },
  {
   "cell_type": "markdown",
   "metadata": {
    "id": "WWhjupabjCc-"
   },
   "source": [
    "## Самые популярные жанры (топ-5). "
   ]
  },
  {
   "cell_type": "code",
   "execution_count": 36,
   "metadata": {
    "colab": {
     "base_uri": "https://localhost:8080/"
    },
    "id": "eTJUpN1ijpGZ",
    "outputId": "91574f1f-ff5f-4a7d-b465-9d0cbeb0e784"
   },
   "outputs": [
    {
     "name": "stdout",
     "output_type": "stream",
     "text": [
      "           genre  na_sales\n",
      "0         Action    177.84\n",
      "1        Shooter    144.77\n",
      "2         Sports     81.53\n",
      "3   Role-Playing     64.00\n",
      "4           Misc     38.19\n",
      "5       Platform     25.38\n",
      "6       Fighting     19.79\n",
      "7         Racing     17.22\n",
      "8      Adventure      8.92\n",
      "9     Simulation      7.97\n",
      "10      Strategy      4.23\n",
      "11        Puzzle      1.13 \n",
      "           genre  eu_sales\n",
      "0        Action    159.34\n",
      "1       Shooter    113.47\n",
      "2        Sports     69.09\n",
      "3  Role-Playing     48.53\n",
      "4        Racing     27.29 \n",
      "           genre  jp_sales\n",
      "0  Role-Playing     65.44\n",
      "1        Action     52.80\n",
      "2          Misc     12.86\n",
      "3    Simulation     10.41\n",
      "4      Fighting      9.44\n"
     ]
    }
   ],
   "source": [
    "na_genre = df.groupby(by =['genre'], as_index=0)['na_sales']\\\n",
    "                .agg('sum').sort_values(by='na_sales', ascending=0).reset_index(drop=1)\n",
    "eu_genre = df.groupby(by =['genre'], as_index=0)['eu_sales']\\\n",
    "                .agg('sum').sort_values(by='eu_sales', ascending=0).reset_index(drop=1)\n",
    "jp_genre = df.groupby(by =['genre'], as_index=0)['jp_sales']\\\n",
    "                .agg('sum').sort_values(by='jp_sales', ascending=0).reset_index(drop=1)\n",
    "print(na_genre.head(12), '\\n', eu_genre.head(), '\\n', jp_genre.head())"
   ]
  },
  {
   "cell_type": "code",
   "execution_count": 37,
   "metadata": {},
   "outputs": [],
   "source": [
    "na_genre.loc[5] = na_genre.loc[5:].sum()\n",
    "na_genre.loc[5, 'genre'] = 'others'\n",
    "na_genre = na_genre.drop([6, 7, 8, 9,10,11])\n",
    "\n",
    "eu_genre.loc[5] = eu_genre.loc[5:].sum()\n",
    "eu_genre.loc[5, 'genre'] = 'others'\n",
    "eu_genre = eu_genre.drop([6, 7, 8, 9,10,11])\n",
    "\n",
    "jp_genre.loc[5] = jp_genre.loc[5:].sum()\n",
    "jp_genre.loc[5, 'genre'] = 'others'\n",
    "jp_genre = jp_genre.drop([6, 7, 8, 9,10,11])"
   ]
  },
  {
   "cell_type": "code",
   "execution_count": 38,
   "metadata": {},
   "outputs": [
    {
     "data": {
      "image/png": "[encoded data removed]",
      "text/plain": [
       "<Figure size 1008x1008 with 3 Axes>"
      ]
     },
     "metadata": {},
     "output_type": "display_data"
    }
   ],
   "source": [
    "fig = plt.figure(figsize=(7,7),dpi=144)\n",
    "\n",
    "ax1 = fig.add_subplot(131)\n",
    "ax1.pie(na_genre.na_sales, labels=na_genre.genre, autopct='%1.0f%%', textprops={'fontsize': 6})\n",
    "ax1.set_title('Северная Америка')\n",
    "\n",
    "ax2 = fig.add_subplot(132)\n",
    "ax2.pie(eu_genre.eu_sales, labels=eu_genre.genre, autopct='%1.0f%%', textprops={'fontsize': 6})\n",
    "ax2.set_title('Европа')\n",
    "\n",
    "ax3 = fig.add_subplot(133)\n",
    "ax3.pie(jp_genre.jp_sales, labels=jp_genre.genre, autopct='%1.0f%%', textprops={'fontsize': 6})\n",
    "ax3.set_title('Япония')\n",
    "\n",
    "plt.show()"
   ]
  },
  {
   "cell_type": "markdown",
   "metadata": {
    "id": "5B6EhLnu_t5M"
   },
   "source": [
    "Топ-3 для Американского и Европейского рынка - экшены, шутеры и спортивные игры   \n",
    "А лидеры в Японии - экшены и ролевые игры"
   ]
  },
  {
   "cell_type": "markdown",
   "metadata": {
    "id": "zc7i8SrTAam6"
   },
   "source": [
    "## Влияет ли рейтинг ESRB на продажи в отдельном регионе?"
   ]
  },
  {
   "cell_type": "code",
   "execution_count": 39,
   "metadata": {},
   "outputs": [],
   "source": [
    "df['rating'] = df['rating'].fillna(-1)"
   ]
  },
  {
   "cell_type": "code",
   "execution_count": 40,
   "metadata": {},
   "outputs": [
    {
     "name": "stdout",
     "output_type": "stream",
     "text": [
      "  rating  na_sales\n",
      "3      M  0.465000\n",
      "1      E  0.289544\n",
      "2   E10+  0.247386\n",
      "4      T  0.160243\n",
      "0     -1  0.081027 \n",
      "   rating  eu_sales\n",
      "3      M  0.389478\n",
      "1      E  0.286152\n",
      "2   E10+  0.180948\n",
      "4      T  0.128544\n",
      "0     -1  0.071765 \n",
      "   rating  jp_sales\n",
      "0     -1  0.085365\n",
      "1      E  0.071722\n",
      "4      T  0.063155\n",
      "3      M  0.042570\n",
      "2   E10+  0.026765\n"
     ]
    }
   ],
   "source": [
    "na_rating_1 = df.groupby('rating', as_index=0)['na_sales'].agg('mean').sort_values(by='na_sales', ascending=0)\n",
    "eu_rating_1 = df.groupby('rating', as_index=0)['eu_sales'].agg('mean').sort_values(by='eu_sales', ascending=0)\n",
    "jp_rating_1 = df.groupby('rating', as_index=0)['jp_sales'].agg('mean').sort_values(by='jp_sales', ascending=0)\n",
    "print(na_rating_1.head(), '\\n', eu_rating_1.head(), '\\n', jp_rating_1.head())"
   ]
  },
  {
   "cell_type": "markdown",
   "metadata": {},
   "source": [
    "Рейтинг ERSB предназначен для маркировки игр для США и Канады.  \n",
    "Однако он так же влияет и на европейский рынок.  \n",
    "А вот в Японии на него похоже совсем не обращают внимания."
   ]
  },
  {
   "cell_type": "markdown",
   "metadata": {
    "id": "wyIRUw0WDiqC"
   },
   "source": [
    "# Шаг 5. Проверим гипотезы  \n",
    "## Средние пользовательские рейтинги платформ Xbox One и PC одинаковые\n"
   ]
  },
  {
   "cell_type": "markdown",
   "metadata": {},
   "source": [
    "Н0 - Средние пользовательские рейтинги платформ Xbox One и PC одинаковые  \n",
    "Н1 - Средние пользовательские рейтинги платформ Xbox One и PC отличаются \n",
    "  \n",
    "*За Н0 берем событие, которое нужно проверить в формулировке, содержащей равенство,  \n",
    "Альтернативной гипотезой становится обратное утверждение*"
   ]
  },
  {
   "cell_type": "code",
   "execution_count": 41,
   "metadata": {
    "colab": {
     "base_uri": "https://localhost:8080/"
    },
    "id": "wHv7ocxyDhKK",
    "outputId": "647f23dc-7dfd-4832-d0e9-f2c48efd6c59"
   },
   "outputs": [
    {
     "name": "stdout",
     "output_type": "stream",
     "text": [
      "p-значение: 0.5489537965134912\n",
      "Не получилось отвергнуть нулевую гипотезу\n"
     ]
    }
   ],
   "source": [
    "alpha = 0.01 \n",
    "xbox = df[(df['platform']=='xone')&(df['user_score']>0)]['user_score']\n",
    "pc = df[(df['platform']=='pc')&(df['user_score']>0)]['user_score']\n",
    "results = st.ttest_ind(xbox, pc, equal_var=False) \n",
    "\n",
    "\n",
    "print('p-значение:', results.pvalue)\n",
    "\n",
    "if results.pvalue < alpha:\n",
    "    print('Отвергаем нулевую гипотезу')\n",
    "else:\n",
    "    print('Не получилось отвергнуть нулевую гипотезу')"
   ]
  },
  {
   "cell_type": "markdown",
   "metadata": {},
   "source": [
    "**Резуальтат исследования означает, что равенство пользовательских рейтингов Xbox One и PC не исключено, однако и не доказано.**"
   ]
  },
  {
   "cell_type": "code",
   "execution_count": 42,
   "metadata": {},
   "outputs": [
    {
     "data": {
      "text/html": [
       "<div>\n",
       "<style scoped>\n",
       "    .dataframe tbody tr th:only-of-type {\n",
       "        vertical-align: middle;\n",
       "    }\n",
       "\n",
       "    .dataframe tbody tr th {\n",
       "        vertical-align: top;\n",
       "    }\n",
       "\n",
       "    .dataframe thead th {\n",
       "        text-align: right;\n",
       "    }\n",
       "</style>\n",
       "<table border=\"1\" class=\"dataframe\">\n",
       "  <thead>\n",
       "    <tr style=\"text-align: right;\">\n",
       "      <th></th>\n",
       "      <th>count</th>\n",
       "      <th>mean</th>\n",
       "      <th>std</th>\n",
       "      <th>min</th>\n",
       "      <th>25%</th>\n",
       "      <th>50%</th>\n",
       "      <th>75%</th>\n",
       "      <th>max</th>\n",
       "    </tr>\n",
       "    <tr>\n",
       "      <th>platform</th>\n",
       "      <th></th>\n",
       "      <th></th>\n",
       "      <th></th>\n",
       "      <th></th>\n",
       "      <th></th>\n",
       "      <th></th>\n",
       "      <th></th>\n",
       "      <th></th>\n",
       "    </tr>\n",
       "  </thead>\n",
       "  <tbody>\n",
       "    <tr>\n",
       "      <th>pc</th>\n",
       "      <td>206.0</td>\n",
       "      <td>6.428641</td>\n",
       "      <td>1.664465</td>\n",
       "      <td>1.4</td>\n",
       "      <td>5.5</td>\n",
       "      <td>6.8</td>\n",
       "      <td>7.7</td>\n",
       "      <td>9.3</td>\n",
       "    </tr>\n",
       "    <tr>\n",
       "      <th>xone</th>\n",
       "      <td>182.0</td>\n",
       "      <td>6.521429</td>\n",
       "      <td>1.380941</td>\n",
       "      <td>1.6</td>\n",
       "      <td>5.8</td>\n",
       "      <td>6.8</td>\n",
       "      <td>7.5</td>\n",
       "      <td>9.2</td>\n",
       "    </tr>\n",
       "  </tbody>\n",
       "</table>\n",
       "</div>"
      ],
      "text/plain": [
       "          count      mean       std  min  25%  50%  75%  max\n",
       "platform                                                    \n",
       "pc        206.0  6.428641  1.664465  1.4  5.5  6.8  7.7  9.3\n",
       "xone      182.0  6.521429  1.380941  1.6  5.8  6.8  7.5  9.2"
      ]
     },
     "execution_count": 42,
     "metadata": {},
     "output_type": "execute_result"
    }
   ],
   "source": [
    "t = df.groupby('platform')['user_score'].describe()\n",
    "t[2::8]"
   ]
  },
  {
   "cell_type": "markdown",
   "metadata": {},
   "source": [
    "Видим, что значения действительно находятся довольно близко друг к другу."
   ]
  },
  {
   "cell_type": "markdown",
   "metadata": {
    "id": "uCEDSRRtGz_-"
   },
   "source": [
    "## Средние пользовательские рейтинги жанров Action (англ. «действие», экшен-игры) и Sports (англ. «спортивные соревнования») разные."
   ]
  },
  {
   "cell_type": "markdown",
   "metadata": {},
   "source": [
    "Н0 - Средние пользовательские рейтинги жанров Action и Sports одинаковые  \n",
    "Н1 - Средние пользовательские рейтинги жанров Action и Sports отличаются \n",
    "  \n",
    "*За Н0 берем событие, которое нужно проверить в формулировке, содержащей равенство,  \n",
    "Альтернативной гипотезой становится обратное утверждение*"
   ]
  },
  {
   "cell_type": "code",
   "execution_count": 43,
   "metadata": {
    "colab": {
     "base_uri": "https://localhost:8080/"
    },
    "id": "dwBhMrMlGzjX",
    "outputId": "05063daf-8e29-422c-cc02-d6f63dd7faf3"
   },
   "outputs": [
    {
     "name": "stdout",
     "output_type": "stream",
     "text": [
      "p-значение: 4.24307776572644e-20\n",
      "Отвергаем нулевую гипотезу\n"
     ]
    }
   ],
   "source": [
    "alpha = 0.01 \n",
    "action = df[(df['genre']=='Action')&(df['user_score']>0)]['user_score']\n",
    "sports = df[(df['genre']=='Sports')&(df['user_score']>0)]['user_score']\n",
    "results = st.ttest_ind(action, sports, equal_var=False) \n",
    "\n",
    "\n",
    "print('p-значение:', results.pvalue)\n",
    "\n",
    "if results.pvalue < alpha:\n",
    "    print('Отвергаем нулевую гипотезу')\n",
    "else:\n",
    "    print('Не получилось отвергнуть нулевую гипотезу')"
   ]
  },
  {
   "cell_type": "markdown",
   "metadata": {
    "id": "Mk-NTIiM0UhC"
   },
   "source": [
    "Сравниваем две возможно пересекающиеся, но независимые совокупности - оценки пользователей игр разных жанров. Поэтому пользуемся соответствующим t-тестом.  \n",
    "p-value оказалось очень маленьким, это значит, что на имеющихся данных, на уровне значимости 1% есть основания отвергнуть нулевую гипотезу о равенстве средних значений пользовательских рейтингов (отзывов) жанров Action и Sports в пользу альтернативной гипотезы."
   ]
  },
  {
   "cell_type": "code",
   "execution_count": 44,
   "metadata": {},
   "outputs": [
    {
     "data": {
      "text/html": [
       "<div>\n",
       "<style scoped>\n",
       "    .dataframe tbody tr th:only-of-type {\n",
       "        vertical-align: middle;\n",
       "    }\n",
       "\n",
       "    .dataframe tbody tr th {\n",
       "        vertical-align: top;\n",
       "    }\n",
       "\n",
       "    .dataframe thead th {\n",
       "        text-align: right;\n",
       "    }\n",
       "</style>\n",
       "<table border=\"1\" class=\"dataframe\">\n",
       "  <thead>\n",
       "    <tr style=\"text-align: right;\">\n",
       "      <th></th>\n",
       "      <th>count</th>\n",
       "      <th>mean</th>\n",
       "      <th>std</th>\n",
       "      <th>min</th>\n",
       "      <th>25%</th>\n",
       "      <th>50%</th>\n",
       "      <th>75%</th>\n",
       "      <th>max</th>\n",
       "    </tr>\n",
       "    <tr>\n",
       "      <th>genre</th>\n",
       "      <th></th>\n",
       "      <th></th>\n",
       "      <th></th>\n",
       "      <th></th>\n",
       "      <th></th>\n",
       "      <th></th>\n",
       "      <th></th>\n",
       "      <th></th>\n",
       "    </tr>\n",
       "  </thead>\n",
       "  <tbody>\n",
       "    <tr>\n",
       "      <th>Action</th>\n",
       "      <td>523.0</td>\n",
       "      <td>6.825048</td>\n",
       "      <td>1.374440</td>\n",
       "      <td>1.6</td>\n",
       "      <td>6.25</td>\n",
       "      <td>7.1</td>\n",
       "      <td>7.8</td>\n",
       "      <td>9.1</td>\n",
       "    </tr>\n",
       "    <tr>\n",
       "      <th>Sports</th>\n",
       "      <td>195.0</td>\n",
       "      <td>5.455897</td>\n",
       "      <td>1.738646</td>\n",
       "      <td>0.2</td>\n",
       "      <td>4.30</td>\n",
       "      <td>5.7</td>\n",
       "      <td>6.8</td>\n",
       "      <td>8.8</td>\n",
       "    </tr>\n",
       "  </tbody>\n",
       "</table>\n",
       "</div>"
      ],
      "text/plain": [
       "        count      mean       std  min   25%  50%  75%  max\n",
       "genre                                                      \n",
       "Action  523.0  6.825048  1.374440  1.6  6.25  7.1  7.8  9.1\n",
       "Sports  195.0  5.455897  1.738646  0.2  4.30  5.7  6.8  8.8"
      ]
     },
     "execution_count": 44,
     "metadata": {},
     "output_type": "execute_result"
    }
   ],
   "source": [
    "t=df.groupby('genre')['user_score'].describe()\n",
    "t[0::10]"
   ]
  },
  {
   "cell_type": "markdown",
   "metadata": {},
   "source": [
    "Здесь видим более весомый разброс между данными, отсюда такой результат t-теста."
   ]
  },
  {
   "cell_type": "markdown",
   "metadata": {
    "id": "whYz9gTX2kY1"
   },
   "source": [
    "\n",
    "\n",
    "---\n",
    "\n",
    "\n",
    "# Общий вывод\n",
    "\n",
    "\n",
    "---\n",
    "\n",
    "\n",
    "\n",
    "*   Наиболее перспективными представляются  *ps4, xone* по самым положительным показателям.\n",
    "* Большая часть почти продаж всех платформ ограничивается 0,8. Нормальные значения доходят до 1.25-1.75. Выше уже находятся выбросы.\n",
    "* Как правило продажи имеют практически нулевую корреляцию со зрительскими оценками. В то же время у критиков мнение более систематизировано, у них корреляция варьируется в диапозоне 35-40%.\n",
    "* Лучше всего по миру продаются *шутеры, спортивные игры* и платформеры. Хуже всех - головоломки, стратегии и приключения.\n",
    "* *Американский рынок самый крупный*.  \n",
    "* Лидеры американского рынка - xone и ps4, Европейского - ps4, Японского - 3ds  \n",
    "* Топ-3 жанра для Американского и Европейского рынка - *шутеры и спортивные игры*, а также менее стабильные экшен-игры. А лидеры в Японии - экшены и ролевые игры\n",
    "* Рейтинг ERSB предназначен для маркировки игр для США и Канады. А вот в Японии на него похоже совсем не обращают внимания.\n",
    "* Резуальтат исследования означает, что равенство пользовательских рейтингов Xbox One и PC не исключено, однако и не доказано.\n",
    "* Средние пользовательские рейтинги жанров Action и Sports действительно отличаются.\n",
    "\n"
   ]
  }
 ],
 "metadata": {
  "ExecuteTimeLog": [
   {
    "duration": 52,
    "start_time": "2023-03-17T00:16:41.350Z"
   },
   {
    "duration": 0,
    "start_time": "2023-03-17T00:16:41.405Z"
   },
   {
    "duration": 0,
    "start_time": "2023-03-17T00:16:41.406Z"
   },
   {
    "duration": 0,
    "start_time": "2023-03-17T00:16:41.407Z"
   },
   {
    "duration": 0,
    "start_time": "2023-03-17T00:16:41.408Z"
   },
   {
    "duration": 0,
    "start_time": "2023-03-17T00:16:41.409Z"
   },
   {
    "duration": 0,
    "start_time": "2023-03-17T00:16:41.410Z"
   },
   {
    "duration": 0,
    "start_time": "2023-03-17T00:16:41.411Z"
   },
   {
    "duration": 0,
    "start_time": "2023-03-17T00:16:41.412Z"
   },
   {
    "duration": 0,
    "start_time": "2023-03-17T00:16:41.413Z"
   },
   {
    "duration": 0,
    "start_time": "2023-03-17T00:16:41.414Z"
   },
   {
    "duration": 0,
    "start_time": "2023-03-17T00:16:41.415Z"
   },
   {
    "duration": 0,
    "start_time": "2023-03-17T00:16:41.415Z"
   },
   {
    "duration": 0,
    "start_time": "2023-03-17T00:16:41.417Z"
   },
   {
    "duration": 0,
    "start_time": "2023-03-17T00:16:41.418Z"
   },
   {
    "duration": 0,
    "start_time": "2023-03-17T00:16:41.419Z"
   },
   {
    "duration": 0,
    "start_time": "2023-03-17T00:16:41.420Z"
   },
   {
    "duration": 0,
    "start_time": "2023-03-17T00:16:41.421Z"
   },
   {
    "duration": 0,
    "start_time": "2023-03-17T00:16:41.422Z"
   },
   {
    "duration": 0,
    "start_time": "2023-03-17T00:16:41.423Z"
   },
   {
    "duration": 0,
    "start_time": "2023-03-17T00:16:41.424Z"
   },
   {
    "duration": 0,
    "start_time": "2023-03-17T00:16:41.425Z"
   },
   {
    "duration": 0,
    "start_time": "2023-03-17T00:16:41.465Z"
   },
   {
    "duration": 0,
    "start_time": "2023-03-17T00:16:41.466Z"
   },
   {
    "duration": 0,
    "start_time": "2023-03-17T00:16:41.467Z"
   },
   {
    "duration": 0,
    "start_time": "2023-03-17T00:16:41.468Z"
   },
   {
    "duration": 0,
    "start_time": "2023-03-17T00:16:41.469Z"
   },
   {
    "duration": 0,
    "start_time": "2023-03-17T00:16:41.470Z"
   },
   {
    "duration": 0,
    "start_time": "2023-03-17T00:16:41.471Z"
   },
   {
    "duration": 0,
    "start_time": "2023-03-17T00:16:41.472Z"
   },
   {
    "duration": 0,
    "start_time": "2023-03-17T00:16:41.473Z"
   },
   {
    "duration": 0,
    "start_time": "2023-03-17T00:16:41.474Z"
   },
   {
    "duration": 1476,
    "start_time": "2023-03-17T09:37:45.869Z"
   },
   {
    "duration": 1917,
    "start_time": "2023-03-17T09:37:49.649Z"
   },
   {
    "duration": 3,
    "start_time": "2023-03-17T09:38:02.020Z"
   },
   {
    "duration": 27,
    "start_time": "2023-03-17T09:38:02.030Z"
   },
   {
    "duration": 1205,
    "start_time": "2023-03-17T09:38:02.059Z"
   },
   {
    "duration": 20,
    "start_time": "2023-03-17T09:38:03.266Z"
   },
   {
    "duration": 21,
    "start_time": "2023-03-17T09:38:03.288Z"
   },
   {
    "duration": 23,
    "start_time": "2023-03-17T09:38:03.311Z"
   },
   {
    "duration": 26,
    "start_time": "2023-03-17T09:38:03.337Z"
   },
   {
    "duration": 27,
    "start_time": "2023-03-17T09:38:03.366Z"
   },
   {
    "duration": 30,
    "start_time": "2023-03-17T09:38:03.395Z"
   },
   {
    "duration": 36,
    "start_time": "2023-03-17T09:38:03.427Z"
   },
   {
    "duration": 32,
    "start_time": "2023-03-17T09:38:03.468Z"
   },
   {
    "duration": 23,
    "start_time": "2023-03-17T09:38:03.502Z"
   },
   {
    "duration": 46,
    "start_time": "2023-03-17T09:38:03.527Z"
   },
   {
    "duration": 419,
    "start_time": "2023-03-17T09:38:03.575Z"
   },
   {
    "duration": 7,
    "start_time": "2023-03-17T09:38:03.997Z"
   },
   {
    "duration": 13,
    "start_time": "2023-03-17T09:38:04.007Z"
   },
   {
    "duration": 166,
    "start_time": "2023-03-17T09:38:04.023Z"
   },
   {
    "duration": 0,
    "start_time": "2023-03-17T09:38:04.192Z"
   },
   {
    "duration": 0,
    "start_time": "2023-03-17T09:38:04.194Z"
   },
   {
    "duration": 0,
    "start_time": "2023-03-17T09:38:04.196Z"
   },
   {
    "duration": 0,
    "start_time": "2023-03-17T09:38:04.198Z"
   },
   {
    "duration": 0,
    "start_time": "2023-03-17T09:38:04.200Z"
   },
   {
    "duration": 0,
    "start_time": "2023-03-17T09:38:04.202Z"
   },
   {
    "duration": 0,
    "start_time": "2023-03-17T09:38:04.204Z"
   },
   {
    "duration": 0,
    "start_time": "2023-03-17T09:38:04.205Z"
   },
   {
    "duration": 0,
    "start_time": "2023-03-17T09:38:04.206Z"
   },
   {
    "duration": 0,
    "start_time": "2023-03-17T09:38:04.208Z"
   },
   {
    "duration": 0,
    "start_time": "2023-03-17T09:38:04.211Z"
   },
   {
    "duration": 0,
    "start_time": "2023-03-17T09:38:04.212Z"
   },
   {
    "duration": 0,
    "start_time": "2023-03-17T09:38:04.215Z"
   },
   {
    "duration": 0,
    "start_time": "2023-03-17T09:38:04.216Z"
   },
   {
    "duration": 0,
    "start_time": "2023-03-17T09:38:04.218Z"
   },
   {
    "duration": 12,
    "start_time": "2023-03-17T09:39:21.512Z"
   },
   {
    "duration": 20,
    "start_time": "2023-03-17T09:39:21.527Z"
   },
   {
    "duration": 1903,
    "start_time": "2023-03-17T09:39:21.549Z"
   },
   {
    "duration": 380,
    "start_time": "2023-03-17T09:39:23.456Z"
   },
   {
    "duration": 532,
    "start_time": "2023-03-17T09:39:23.838Z"
   },
   {
    "duration": 24,
    "start_time": "2023-03-17T09:39:24.373Z"
   },
   {
    "duration": 353,
    "start_time": "2023-03-17T09:39:24.399Z"
   },
   {
    "duration": 333,
    "start_time": "2023-03-17T09:39:24.754Z"
   },
   {
    "duration": 338,
    "start_time": "2023-03-17T09:39:25.089Z"
   },
   {
    "duration": 182,
    "start_time": "2023-03-17T09:39:25.430Z"
   },
   {
    "duration": 14,
    "start_time": "2023-03-17T09:39:25.613Z"
   },
   {
    "duration": 49,
    "start_time": "2023-03-17T09:39:25.629Z"
   },
   {
    "duration": 24,
    "start_time": "2023-03-17T09:39:25.680Z"
   },
   {
    "duration": 24,
    "start_time": "2023-03-17T09:39:25.706Z"
   },
   {
    "duration": 42,
    "start_time": "2023-03-17T09:39:25.732Z"
   },
   {
    "duration": 15,
    "start_time": "2023-03-17T09:39:25.777Z"
   },
   {
    "duration": 3,
    "start_time": "2023-03-17T09:52:46.017Z"
   },
   {
    "duration": 24,
    "start_time": "2023-03-17T09:52:46.023Z"
   },
   {
    "duration": 3085,
    "start_time": "2023-03-17T09:52:46.050Z"
   },
   {
    "duration": 36,
    "start_time": "2023-03-17T09:52:49.138Z"
   },
   {
    "duration": 7,
    "start_time": "2023-03-17T09:52:49.176Z"
   },
   {
    "duration": 19,
    "start_time": "2023-03-17T09:52:49.185Z"
   },
   {
    "duration": 46,
    "start_time": "2023-03-17T09:52:49.207Z"
   },
   {
    "duration": 23,
    "start_time": "2023-03-17T09:52:49.256Z"
   },
   {
    "duration": 29,
    "start_time": "2023-03-17T09:52:49.284Z"
   },
   {
    "duration": 9,
    "start_time": "2023-03-17T09:52:49.315Z"
   },
   {
    "duration": 50,
    "start_time": "2023-03-17T09:52:49.327Z"
   },
   {
    "duration": 23,
    "start_time": "2023-03-17T09:52:49.379Z"
   },
   {
    "duration": 12,
    "start_time": "2023-03-17T09:52:49.405Z"
   },
   {
    "duration": 350,
    "start_time": "2023-03-17T09:52:49.421Z"
   },
   {
    "duration": 7,
    "start_time": "2023-03-17T09:52:49.773Z"
   },
   {
    "duration": 10,
    "start_time": "2023-03-17T09:52:49.782Z"
   },
   {
    "duration": 15,
    "start_time": "2023-03-17T09:52:49.794Z"
   },
   {
    "duration": 42,
    "start_time": "2023-03-17T09:52:49.812Z"
   },
   {
    "duration": 2305,
    "start_time": "2023-03-17T09:52:49.863Z"
   },
   {
    "duration": 252,
    "start_time": "2023-03-17T09:52:52.171Z"
   },
   {
    "duration": 430,
    "start_time": "2023-03-17T09:52:52.425Z"
   },
   {
    "duration": 25,
    "start_time": "2023-03-17T09:52:52.857Z"
   },
   {
    "duration": 361,
    "start_time": "2023-03-17T09:52:52.884Z"
   },
   {
    "duration": 331,
    "start_time": "2023-03-17T09:52:53.249Z"
   },
   {
    "duration": 502,
    "start_time": "2023-03-17T09:52:53.583Z"
   },
   {
    "duration": 233,
    "start_time": "2023-03-17T09:52:54.088Z"
   },
   {
    "duration": 19,
    "start_time": "2023-03-17T09:52:54.324Z"
   },
   {
    "duration": 49,
    "start_time": "2023-03-17T09:52:54.346Z"
   },
   {
    "duration": 22,
    "start_time": "2023-03-17T09:52:54.397Z"
   },
   {
    "duration": 44,
    "start_time": "2023-03-17T09:52:54.421Z"
   },
   {
    "duration": 15,
    "start_time": "2023-03-17T09:52:54.467Z"
   },
   {
    "duration": 13,
    "start_time": "2023-03-17T09:52:54.484Z"
   },
   {
    "duration": 53,
    "start_time": "2023-03-17T09:55:21.729Z"
   },
   {
    "duration": 5,
    "start_time": "2023-03-17T09:55:29.566Z"
   },
   {
    "duration": 15,
    "start_time": "2023-03-17T09:55:36.544Z"
   },
   {
    "duration": 15,
    "start_time": "2023-03-17T09:55:59.369Z"
   },
   {
    "duration": 16,
    "start_time": "2023-03-17T09:56:02.184Z"
   },
   {
    "duration": 6,
    "start_time": "2023-03-17T09:56:36.193Z"
   },
   {
    "duration": 1281,
    "start_time": "2023-03-17T09:56:36.201Z"
   },
   {
    "duration": 1300,
    "start_time": "2023-03-17T09:56:37.484Z"
   },
   {
    "duration": 20,
    "start_time": "2023-03-17T09:56:38.786Z"
   },
   {
    "duration": 7,
    "start_time": "2023-03-17T09:56:38.809Z"
   },
   {
    "duration": 9,
    "start_time": "2023-03-17T09:56:38.819Z"
   },
   {
    "duration": 45,
    "start_time": "2023-03-17T09:56:38.830Z"
   },
   {
    "duration": 27,
    "start_time": "2023-03-17T09:56:38.877Z"
   },
   {
    "duration": 10,
    "start_time": "2023-03-17T09:56:38.907Z"
   },
   {
    "duration": 161,
    "start_time": "2023-03-17T09:56:38.919Z"
   },
   {
    "duration": 0,
    "start_time": "2023-03-17T09:56:39.083Z"
   },
   {
    "duration": 0,
    "start_time": "2023-03-17T09:56:39.085Z"
   },
   {
    "duration": 0,
    "start_time": "2023-03-17T09:56:39.087Z"
   },
   {
    "duration": 0,
    "start_time": "2023-03-17T09:56:39.089Z"
   },
   {
    "duration": 0,
    "start_time": "2023-03-17T09:56:39.091Z"
   },
   {
    "duration": 0,
    "start_time": "2023-03-17T09:56:39.093Z"
   },
   {
    "duration": 0,
    "start_time": "2023-03-17T09:56:39.094Z"
   },
   {
    "duration": 0,
    "start_time": "2023-03-17T09:56:39.097Z"
   },
   {
    "duration": 0,
    "start_time": "2023-03-17T09:56:39.098Z"
   },
   {
    "duration": 0,
    "start_time": "2023-03-17T09:56:39.100Z"
   },
   {
    "duration": 0,
    "start_time": "2023-03-17T09:56:39.101Z"
   },
   {
    "duration": 0,
    "start_time": "2023-03-17T09:56:39.102Z"
   },
   {
    "duration": 0,
    "start_time": "2023-03-17T09:56:39.104Z"
   },
   {
    "duration": 0,
    "start_time": "2023-03-17T09:56:39.105Z"
   },
   {
    "duration": 0,
    "start_time": "2023-03-17T09:56:39.106Z"
   },
   {
    "duration": 0,
    "start_time": "2023-03-17T09:56:39.108Z"
   },
   {
    "duration": 0,
    "start_time": "2023-03-17T09:56:39.110Z"
   },
   {
    "duration": 0,
    "start_time": "2023-03-17T09:56:39.112Z"
   },
   {
    "duration": 0,
    "start_time": "2023-03-17T09:56:39.113Z"
   },
   {
    "duration": 0,
    "start_time": "2023-03-17T09:56:39.162Z"
   },
   {
    "duration": 1,
    "start_time": "2023-03-17T09:56:39.163Z"
   },
   {
    "duration": 13,
    "start_time": "2023-03-17T09:59:02.539Z"
   },
   {
    "duration": 15,
    "start_time": "2023-03-17T09:59:06.764Z"
   },
   {
    "duration": 15,
    "start_time": "2023-03-17T09:59:06.782Z"
   },
   {
    "duration": 7,
    "start_time": "2023-03-17T09:59:06.800Z"
   },
   {
    "duration": 350,
    "start_time": "2023-03-17T09:59:06.809Z"
   },
   {
    "duration": 8,
    "start_time": "2023-03-17T09:59:07.161Z"
   },
   {
    "duration": 9,
    "start_time": "2023-03-17T09:59:07.171Z"
   },
   {
    "duration": 11,
    "start_time": "2023-03-17T09:59:07.182Z"
   },
   {
    "duration": 20,
    "start_time": "2023-03-17T09:59:07.195Z"
   },
   {
    "duration": 1805,
    "start_time": "2023-03-17T09:59:07.217Z"
   },
   {
    "duration": 399,
    "start_time": "2023-03-17T09:59:09.026Z"
   },
   {
    "duration": 377,
    "start_time": "2023-03-17T09:59:09.427Z"
   },
   {
    "duration": 19,
    "start_time": "2023-03-17T09:59:09.806Z"
   },
   {
    "duration": 325,
    "start_time": "2023-03-17T09:59:09.827Z"
   },
   {
    "duration": 329,
    "start_time": "2023-03-17T09:59:10.154Z"
   },
   {
    "duration": 331,
    "start_time": "2023-03-17T09:59:10.485Z"
   },
   {
    "duration": 139,
    "start_time": "2023-03-17T09:59:10.818Z"
   },
   {
    "duration": 15,
    "start_time": "2023-03-17T09:59:10.959Z"
   },
   {
    "duration": 33,
    "start_time": "2023-03-17T09:59:10.976Z"
   },
   {
    "duration": 22,
    "start_time": "2023-03-17T09:59:11.011Z"
   },
   {
    "duration": 28,
    "start_time": "2023-03-17T09:59:11.062Z"
   },
   {
    "duration": 14,
    "start_time": "2023-03-17T09:59:11.092Z"
   },
   {
    "duration": 15,
    "start_time": "2023-03-17T09:59:11.108Z"
   },
   {
    "duration": 151,
    "start_time": "2023-03-17T09:59:31.833Z"
   },
   {
    "duration": 5,
    "start_time": "2023-03-17T09:59:45.057Z"
   },
   {
    "duration": 20,
    "start_time": "2023-03-17T09:59:51.488Z"
   },
   {
    "duration": 4,
    "start_time": "2023-03-17T10:00:01.796Z"
   },
   {
    "duration": 1388,
    "start_time": "2023-03-17T10:00:01.803Z"
   },
   {
    "duration": 2849,
    "start_time": "2023-03-17T10:00:03.193Z"
   },
   {
    "duration": 16,
    "start_time": "2023-03-17T10:00:06.045Z"
   },
   {
    "duration": 31,
    "start_time": "2023-03-17T10:00:06.063Z"
   },
   {
    "duration": 19,
    "start_time": "2023-03-17T10:00:06.096Z"
   },
   {
    "duration": 24,
    "start_time": "2023-03-17T10:00:06.117Z"
   },
   {
    "duration": 80,
    "start_time": "2023-03-17T10:00:06.142Z"
   },
   {
    "duration": 19,
    "start_time": "2023-03-17T10:00:06.225Z"
   },
   {
    "duration": 29,
    "start_time": "2023-03-17T10:00:06.247Z"
   },
   {
    "duration": 20,
    "start_time": "2023-03-17T10:00:06.279Z"
   },
   {
    "duration": 8,
    "start_time": "2023-03-17T10:00:06.301Z"
   },
   {
    "duration": 340,
    "start_time": "2023-03-17T10:00:06.312Z"
   },
   {
    "duration": 11,
    "start_time": "2023-03-17T10:00:06.654Z"
   },
   {
    "duration": 12,
    "start_time": "2023-03-17T10:00:06.667Z"
   },
   {
    "duration": 14,
    "start_time": "2023-03-17T10:00:06.681Z"
   },
   {
    "duration": 21,
    "start_time": "2023-03-17T10:00:06.697Z"
   },
   {
    "duration": 1944,
    "start_time": "2023-03-17T10:00:06.720Z"
   },
   {
    "duration": 399,
    "start_time": "2023-03-17T10:00:08.666Z"
   },
   {
    "duration": 400,
    "start_time": "2023-03-17T10:00:09.066Z"
   },
   {
    "duration": 20,
    "start_time": "2023-03-17T10:00:09.467Z"
   },
   {
    "duration": 338,
    "start_time": "2023-03-17T10:00:09.490Z"
   },
   {
    "duration": 333,
    "start_time": "2023-03-17T10:00:09.830Z"
   },
   {
    "duration": 328,
    "start_time": "2023-03-17T10:00:10.166Z"
   },
   {
    "duration": 211,
    "start_time": "2023-03-17T10:00:10.496Z"
   },
   {
    "duration": 15,
    "start_time": "2023-03-17T10:00:10.708Z"
   },
   {
    "duration": 19,
    "start_time": "2023-03-17T10:00:22.758Z"
   },
   {
    "duration": 4,
    "start_time": "2023-03-17T10:01:05.855Z"
   },
   {
    "duration": 1245,
    "start_time": "2023-03-17T10:01:05.861Z"
   },
   {
    "duration": 1384,
    "start_time": "2023-03-17T10:01:07.108Z"
   },
   {
    "duration": 16,
    "start_time": "2023-03-17T10:01:08.493Z"
   },
   {
    "duration": 6,
    "start_time": "2023-03-17T10:01:08.511Z"
   },
   {
    "duration": 11,
    "start_time": "2023-03-17T10:01:08.519Z"
   },
   {
    "duration": 50,
    "start_time": "2023-03-17T10:01:08.532Z"
   },
   {
    "duration": 21,
    "start_time": "2023-03-17T10:01:08.585Z"
   },
   {
    "duration": 8,
    "start_time": "2023-03-17T10:01:08.608Z"
   },
   {
    "duration": 37,
    "start_time": "2023-03-17T10:01:08.619Z"
   },
   {
    "duration": 17,
    "start_time": "2023-03-17T10:01:08.658Z"
   },
   {
    "duration": 9,
    "start_time": "2023-03-17T10:01:08.676Z"
   },
   {
    "duration": 336,
    "start_time": "2023-03-17T10:01:08.687Z"
   },
   {
    "duration": 9,
    "start_time": "2023-03-17T10:01:09.026Z"
   },
   {
    "duration": 26,
    "start_time": "2023-03-17T10:01:09.038Z"
   },
   {
    "duration": 17,
    "start_time": "2023-03-17T10:01:09.067Z"
   },
   {
    "duration": 23,
    "start_time": "2023-03-17T10:01:09.086Z"
   },
   {
    "duration": 2109,
    "start_time": "2023-03-17T10:01:09.111Z"
   },
   {
    "duration": 349,
    "start_time": "2023-03-17T10:01:11.223Z"
   },
   {
    "duration": 17,
    "start_time": "2023-03-17T10:01:16.545Z"
   },
   {
    "duration": 17,
    "start_time": "2023-03-17T10:01:55.821Z"
   },
   {
    "duration": 5,
    "start_time": "2023-03-17T10:05:51.958Z"
   },
   {
    "duration": 1247,
    "start_time": "2023-03-17T10:05:51.969Z"
   },
   {
    "duration": 3992,
    "start_time": "2023-03-17T10:05:53.218Z"
   },
   {
    "duration": 20,
    "start_time": "2023-03-17T10:05:57.212Z"
   },
   {
    "duration": 5,
    "start_time": "2023-03-17T10:05:57.235Z"
   },
   {
    "duration": 26,
    "start_time": "2023-03-17T10:05:57.242Z"
   },
   {
    "duration": 22,
    "start_time": "2023-03-17T10:05:57.269Z"
   },
   {
    "duration": 20,
    "start_time": "2023-03-17T10:05:57.293Z"
   },
   {
    "duration": 8,
    "start_time": "2023-03-17T10:05:57.315Z"
   },
   {
    "duration": 39,
    "start_time": "2023-03-17T10:05:57.325Z"
   },
   {
    "duration": 22,
    "start_time": "2023-03-17T10:05:57.366Z"
   },
   {
    "duration": 13,
    "start_time": "2023-03-17T10:05:57.390Z"
   },
   {
    "duration": 341,
    "start_time": "2023-03-17T10:05:57.405Z"
   },
   {
    "duration": 28,
    "start_time": "2023-03-17T10:05:57.749Z"
   },
   {
    "duration": 11,
    "start_time": "2023-03-17T10:05:57.778Z"
   },
   {
    "duration": 12,
    "start_time": "2023-03-17T10:05:57.791Z"
   },
   {
    "duration": 21,
    "start_time": "2023-03-17T10:05:57.805Z"
   },
   {
    "duration": 2023,
    "start_time": "2023-03-17T10:05:57.828Z"
   },
   {
    "duration": 351,
    "start_time": "2023-03-17T10:05:59.854Z"
   },
   {
    "duration": 409,
    "start_time": "2023-03-17T10:06:00.207Z"
   },
   {
    "duration": 20,
    "start_time": "2023-03-17T10:06:00.618Z"
   },
   {
    "duration": 338,
    "start_time": "2023-03-17T10:06:00.640Z"
   },
   {
    "duration": 333,
    "start_time": "2023-03-17T10:06:00.980Z"
   },
   {
    "duration": 385,
    "start_time": "2023-03-17T10:06:01.315Z"
   },
   {
    "duration": 188,
    "start_time": "2023-03-17T10:06:01.702Z"
   },
   {
    "duration": 14,
    "start_time": "2023-03-17T10:06:01.893Z"
   },
   {
    "duration": 49,
    "start_time": "2023-03-17T10:06:01.909Z"
   },
   {
    "duration": 26,
    "start_time": "2023-03-17T10:06:01.974Z"
   },
   {
    "duration": 63,
    "start_time": "2023-03-17T10:06:02.002Z"
   },
   {
    "duration": 26,
    "start_time": "2023-03-17T10:06:02.067Z"
   },
   {
    "duration": 45,
    "start_time": "2023-03-17T10:06:02.095Z"
   },
   {
    "duration": 13,
    "start_time": "2023-03-17T10:07:04.442Z"
   },
   {
    "duration": 21,
    "start_time": "2023-03-17T10:08:14.472Z"
   },
   {
    "duration": 4,
    "start_time": "2023-03-17T10:08:23.316Z"
   },
   {
    "duration": 1257,
    "start_time": "2023-03-17T10:08:23.322Z"
   },
   {
    "duration": 1441,
    "start_time": "2023-03-17T10:08:24.581Z"
   },
   {
    "duration": 15,
    "start_time": "2023-03-17T10:08:26.025Z"
   },
   {
    "duration": 6,
    "start_time": "2023-03-17T10:08:26.042Z"
   },
   {
    "duration": 22,
    "start_time": "2023-03-17T10:08:26.050Z"
   },
   {
    "duration": 18,
    "start_time": "2023-03-17T10:08:26.073Z"
   },
   {
    "duration": 23,
    "start_time": "2023-03-17T10:08:26.093Z"
   },
   {
    "duration": 7,
    "start_time": "2023-03-17T10:08:26.119Z"
   },
   {
    "duration": 17,
    "start_time": "2023-03-17T10:08:26.128Z"
   },
   {
    "duration": 19,
    "start_time": "2023-03-17T10:08:26.162Z"
   },
   {
    "duration": 9,
    "start_time": "2023-03-17T10:08:26.183Z"
   },
   {
    "duration": 318,
    "start_time": "2023-03-17T10:08:26.194Z"
   },
   {
    "duration": 6,
    "start_time": "2023-03-17T10:08:41.211Z"
   },
   {
    "duration": 1189,
    "start_time": "2023-03-17T10:08:41.219Z"
   },
   {
    "duration": 3668,
    "start_time": "2023-03-17T10:08:42.410Z"
   },
   {
    "duration": 18,
    "start_time": "2023-03-17T10:08:46.080Z"
   },
   {
    "duration": 6,
    "start_time": "2023-03-17T10:08:46.100Z"
   },
   {
    "duration": 8,
    "start_time": "2023-03-17T10:08:46.108Z"
   },
   {
    "duration": 58,
    "start_time": "2023-03-17T10:08:46.118Z"
   },
   {
    "duration": 23,
    "start_time": "2023-03-17T10:08:46.177Z"
   },
   {
    "duration": 9,
    "start_time": "2023-03-17T10:08:46.202Z"
   },
   {
    "duration": 19,
    "start_time": "2023-03-17T10:08:46.214Z"
   },
   {
    "duration": 39,
    "start_time": "2023-03-17T10:08:46.235Z"
   },
   {
    "duration": 8,
    "start_time": "2023-03-17T10:08:46.281Z"
   },
   {
    "duration": 346,
    "start_time": "2023-03-17T10:08:46.291Z"
   },
   {
    "duration": 3,
    "start_time": "2023-03-17T10:09:30.498Z"
   },
   {
    "duration": 1290,
    "start_time": "2023-03-17T10:09:30.504Z"
   },
   {
    "duration": 1297,
    "start_time": "2023-03-17T10:09:31.796Z"
   },
   {
    "duration": 16,
    "start_time": "2023-03-17T10:09:33.095Z"
   },
   {
    "duration": 9,
    "start_time": "2023-03-17T10:09:33.113Z"
   },
   {
    "duration": 7,
    "start_time": "2023-03-17T10:09:33.125Z"
   },
   {
    "duration": 55,
    "start_time": "2023-03-17T10:09:33.134Z"
   },
   {
    "duration": 35,
    "start_time": "2023-03-17T10:09:33.191Z"
   },
   {
    "duration": 9,
    "start_time": "2023-03-17T10:09:33.229Z"
   },
   {
    "duration": 21,
    "start_time": "2023-03-17T10:09:33.240Z"
   },
   {
    "duration": 19,
    "start_time": "2023-03-17T10:09:33.267Z"
   },
   {
    "duration": 29,
    "start_time": "2023-03-17T10:09:33.289Z"
   },
   {
    "duration": 325,
    "start_time": "2023-03-17T10:09:33.319Z"
   },
   {
    "duration": 33,
    "start_time": "2023-03-17T10:09:33.646Z"
   },
   {
    "duration": 9,
    "start_time": "2023-03-17T10:09:33.681Z"
   },
   {
    "duration": 15,
    "start_time": "2023-03-17T10:09:33.691Z"
   },
   {
    "duration": 21,
    "start_time": "2023-03-17T10:09:33.707Z"
   },
   {
    "duration": 1980,
    "start_time": "2023-03-17T10:09:33.731Z"
   },
   {
    "duration": 350,
    "start_time": "2023-03-17T10:09:35.713Z"
   },
   {
    "duration": 401,
    "start_time": "2023-03-17T10:09:36.069Z"
   },
   {
    "duration": 18,
    "start_time": "2023-03-17T10:09:36.479Z"
   },
   {
    "duration": 305,
    "start_time": "2023-03-17T10:09:36.499Z"
   },
   {
    "duration": 340,
    "start_time": "2023-03-17T10:09:36.806Z"
   },
   {
    "duration": 322,
    "start_time": "2023-03-17T10:09:37.149Z"
   },
   {
    "duration": 162,
    "start_time": "2023-03-17T10:09:37.473Z"
   },
   {
    "duration": 14,
    "start_time": "2023-03-17T10:09:37.637Z"
   },
   {
    "duration": 39,
    "start_time": "2023-03-17T10:09:37.664Z"
   },
   {
    "duration": 21,
    "start_time": "2023-03-17T10:09:37.705Z"
   },
   {
    "duration": 46,
    "start_time": "2023-03-17T10:09:37.728Z"
   },
   {
    "duration": 14,
    "start_time": "2023-03-17T10:09:37.775Z"
   },
   {
    "duration": 12,
    "start_time": "2023-03-17T10:09:37.791Z"
   },
   {
    "duration": 255,
    "start_time": "2023-03-17T10:12:21.658Z"
   },
   {
    "duration": 445,
    "start_time": "2023-03-17T10:12:30.157Z"
   },
   {
    "duration": 4,
    "start_time": "2023-03-17T10:19:48.560Z"
   },
   {
    "duration": 1206,
    "start_time": "2023-03-17T10:19:48.567Z"
   },
   {
    "duration": 4323,
    "start_time": "2023-03-17T10:19:49.774Z"
   },
   {
    "duration": 18,
    "start_time": "2023-03-17T10:19:54.100Z"
   },
   {
    "duration": 15,
    "start_time": "2023-03-17T10:19:54.120Z"
   },
   {
    "duration": 14,
    "start_time": "2023-03-17T10:19:54.137Z"
   },
   {
    "duration": 19,
    "start_time": "2023-03-17T10:19:54.163Z"
   },
   {
    "duration": 30,
    "start_time": "2023-03-17T10:19:54.183Z"
   },
   {
    "duration": 16,
    "start_time": "2023-03-17T10:19:54.215Z"
   },
   {
    "duration": 28,
    "start_time": "2023-03-17T10:19:54.233Z"
   },
   {
    "duration": 14,
    "start_time": "2023-03-17T10:19:54.264Z"
   },
   {
    "duration": 28,
    "start_time": "2023-03-17T10:19:54.280Z"
   },
   {
    "duration": 345,
    "start_time": "2023-03-17T10:19:54.312Z"
   },
   {
    "duration": 20,
    "start_time": "2023-03-17T10:19:54.662Z"
   },
   {
    "duration": 15,
    "start_time": "2023-03-17T10:19:54.684Z"
   },
   {
    "duration": 28,
    "start_time": "2023-03-17T10:19:54.701Z"
   },
   {
    "duration": 33,
    "start_time": "2023-03-17T10:19:54.731Z"
   },
   {
    "duration": 1840,
    "start_time": "2023-03-17T10:19:54.766Z"
   },
   {
    "duration": 329,
    "start_time": "2023-03-17T10:19:56.608Z"
   },
   {
    "duration": 375,
    "start_time": "2023-03-17T10:19:56.938Z"
   },
   {
    "duration": 19,
    "start_time": "2023-03-17T10:19:57.315Z"
   },
   {
    "duration": 330,
    "start_time": "2023-03-17T10:19:57.335Z"
   },
   {
    "duration": 295,
    "start_time": "2023-03-17T10:19:57.667Z"
   },
   {
    "duration": 313,
    "start_time": "2023-03-17T10:19:57.964Z"
   },
   {
    "duration": 164,
    "start_time": "2023-03-17T10:19:58.279Z"
   },
   {
    "duration": 19,
    "start_time": "2023-03-17T10:19:58.445Z"
   },
   {
    "duration": 38,
    "start_time": "2023-03-17T10:19:58.466Z"
   },
   {
    "duration": 24,
    "start_time": "2023-03-17T10:19:58.506Z"
   },
   {
    "duration": 37,
    "start_time": "2023-03-17T10:19:58.533Z"
   },
   {
    "duration": 24,
    "start_time": "2023-03-17T10:19:58.572Z"
   },
   {
    "duration": 12,
    "start_time": "2023-03-17T10:19:58.598Z"
   },
   {
    "duration": 3,
    "start_time": "2023-03-17T23:56:07.003Z"
   },
   {
    "duration": 1081,
    "start_time": "2023-03-17T23:56:07.008Z"
   },
   {
    "duration": 2828,
    "start_time": "2023-03-17T23:56:08.091Z"
   },
   {
    "duration": 12,
    "start_time": "2023-03-17T23:56:10.920Z"
   },
   {
    "duration": 6,
    "start_time": "2023-03-17T23:56:10.933Z"
   },
   {
    "duration": 5,
    "start_time": "2023-03-17T23:56:10.941Z"
   },
   {
    "duration": 11,
    "start_time": "2023-03-17T23:56:10.948Z"
   },
   {
    "duration": 15,
    "start_time": "2023-03-17T23:56:10.960Z"
   },
   {
    "duration": 6,
    "start_time": "2023-03-17T23:56:10.976Z"
   },
   {
    "duration": 14,
    "start_time": "2023-03-17T23:56:10.984Z"
   },
   {
    "duration": 34,
    "start_time": "2023-03-17T23:56:10.999Z"
   },
   {
    "duration": 5,
    "start_time": "2023-03-17T23:56:11.034Z"
   },
   {
    "duration": 245,
    "start_time": "2023-03-17T23:56:11.041Z"
   },
   {
    "duration": 15,
    "start_time": "2023-03-17T23:56:11.288Z"
   },
   {
    "duration": 6,
    "start_time": "2023-03-17T23:56:11.304Z"
   },
   {
    "duration": 18,
    "start_time": "2023-03-17T23:56:11.311Z"
   },
   {
    "duration": 16,
    "start_time": "2023-03-17T23:56:11.330Z"
   },
   {
    "duration": 1353,
    "start_time": "2023-03-17T23:56:11.347Z"
   },
   {
    "duration": 241,
    "start_time": "2023-03-17T23:56:12.701Z"
   },
   {
    "duration": 290,
    "start_time": "2023-03-17T23:56:12.943Z"
   },
   {
    "duration": 15,
    "start_time": "2023-03-17T23:56:13.235Z"
   },
   {
    "duration": 243,
    "start_time": "2023-03-17T23:56:13.252Z"
   },
   {
    "duration": 235,
    "start_time": "2023-03-17T23:56:13.497Z"
   },
   {
    "duration": 225,
    "start_time": "2023-03-17T23:56:13.733Z"
   },
   {
    "duration": 112,
    "start_time": "2023-03-17T23:56:13.959Z"
   },
   {
    "duration": 10,
    "start_time": "2023-03-17T23:56:14.073Z"
   },
   {
    "duration": 20,
    "start_time": "2023-03-17T23:56:14.084Z"
   },
   {
    "duration": 31,
    "start_time": "2023-03-17T23:56:14.107Z"
   },
   {
    "duration": 16,
    "start_time": "2023-03-17T23:56:14.139Z"
   },
   {
    "duration": 8,
    "start_time": "2023-03-17T23:56:14.156Z"
   },
   {
    "duration": 8,
    "start_time": "2023-03-17T23:56:14.165Z"
   },
   {
    "duration": 3,
    "start_time": "2023-03-18T00:08:26.177Z"
   },
   {
    "duration": 993,
    "start_time": "2023-03-18T00:08:26.181Z"
   },
   {
    "duration": 5179,
    "start_time": "2023-03-18T00:08:27.176Z"
   },
   {
    "duration": 12,
    "start_time": "2023-03-18T00:08:32.356Z"
   },
   {
    "duration": 4,
    "start_time": "2023-03-18T00:08:32.370Z"
   },
   {
    "duration": 36,
    "start_time": "2023-03-18T00:08:32.375Z"
   },
   {
    "duration": 16,
    "start_time": "2023-03-18T00:08:32.413Z"
   },
   {
    "duration": 23,
    "start_time": "2023-03-18T00:08:32.431Z"
   },
   {
    "duration": 6,
    "start_time": "2023-03-18T00:08:32.456Z"
   },
   {
    "duration": 14,
    "start_time": "2023-03-18T00:08:32.464Z"
   },
   {
    "duration": 10,
    "start_time": "2023-03-18T00:08:32.480Z"
   },
   {
    "duration": 6,
    "start_time": "2023-03-18T00:08:32.491Z"
   },
   {
    "duration": 253,
    "start_time": "2023-03-18T00:08:32.499Z"
   },
   {
    "duration": 14,
    "start_time": "2023-03-18T00:08:32.755Z"
   },
   {
    "duration": 6,
    "start_time": "2023-03-18T00:08:32.770Z"
   },
   {
    "duration": 20,
    "start_time": "2023-03-18T00:08:32.778Z"
   },
   {
    "duration": 15,
    "start_time": "2023-03-18T00:08:32.799Z"
   },
   {
    "duration": 1317,
    "start_time": "2023-03-18T00:08:32.824Z"
   },
   {
    "duration": 244,
    "start_time": "2023-03-18T00:08:34.142Z"
   },
   {
    "duration": 286,
    "start_time": "2023-03-18T00:08:34.387Z"
   },
   {
    "duration": 15,
    "start_time": "2023-03-18T00:08:34.674Z"
   },
   {
    "duration": 237,
    "start_time": "2023-03-18T00:08:34.690Z"
   },
   {
    "duration": 230,
    "start_time": "2023-03-18T00:08:34.929Z"
   },
   {
    "duration": 224,
    "start_time": "2023-03-18T00:08:35.161Z"
   },
   {
    "duration": 116,
    "start_time": "2023-03-18T00:08:35.387Z"
   },
   {
    "duration": 20,
    "start_time": "2023-03-18T00:08:35.505Z"
   },
   {
    "duration": 21,
    "start_time": "2023-03-18T00:08:35.527Z"
   },
   {
    "duration": 15,
    "start_time": "2023-03-18T00:08:35.550Z"
   },
   {
    "duration": 16,
    "start_time": "2023-03-18T00:08:35.566Z"
   },
   {
    "duration": 9,
    "start_time": "2023-03-18T00:08:35.584Z"
   },
   {
    "duration": 36,
    "start_time": "2023-03-18T00:08:35.594Z"
   },
   {
    "duration": 55,
    "start_time": "2023-03-18T17:36:48.193Z"
   },
   {
    "duration": 1284,
    "start_time": "2023-03-18T17:36:55.704Z"
   },
   {
    "duration": 453,
    "start_time": "2023-03-18T17:36:58.767Z"
   },
   {
    "duration": 15,
    "start_time": "2023-03-18T17:37:52.542Z"
   },
   {
    "duration": 2,
    "start_time": "2023-03-18T17:37:58.099Z"
   },
   {
    "duration": 4,
    "start_time": "2023-03-18T17:37:58.103Z"
   },
   {
    "duration": 63,
    "start_time": "2023-03-18T17:37:58.108Z"
   },
   {
    "duration": 13,
    "start_time": "2023-03-18T17:37:58.172Z"
   },
   {
    "duration": 6,
    "start_time": "2023-03-18T17:37:58.187Z"
   },
   {
    "duration": 9,
    "start_time": "2023-03-18T17:37:58.194Z"
   },
   {
    "duration": 15,
    "start_time": "2023-03-18T17:37:58.205Z"
   },
   {
    "duration": 42,
    "start_time": "2023-03-18T17:37:58.221Z"
   },
   {
    "duration": 8,
    "start_time": "2023-03-18T17:37:58.266Z"
   },
   {
    "duration": 17,
    "start_time": "2023-03-18T17:37:58.276Z"
   },
   {
    "duration": 13,
    "start_time": "2023-03-18T17:37:58.295Z"
   },
   {
    "duration": 18,
    "start_time": "2023-03-18T17:37:58.309Z"
   },
   {
    "duration": 315,
    "start_time": "2023-03-18T17:37:58.328Z"
   },
   {
    "duration": 25,
    "start_time": "2023-03-18T17:37:58.645Z"
   },
   {
    "duration": 8,
    "start_time": "2023-03-18T17:37:58.671Z"
   },
   {
    "duration": 10,
    "start_time": "2023-03-18T17:37:58.680Z"
   },
   {
    "duration": 19,
    "start_time": "2023-03-18T17:37:58.692Z"
   },
   {
    "duration": 1649,
    "start_time": "2023-03-18T17:37:58.712Z"
   },
   {
    "duration": 224,
    "start_time": "2023-03-18T17:38:00.363Z"
   },
   {
    "duration": 444,
    "start_time": "2023-03-18T17:38:00.589Z"
   },
   {
    "duration": 33,
    "start_time": "2023-03-18T17:38:01.035Z"
   },
   {
    "duration": 298,
    "start_time": "2023-03-18T17:38:01.070Z"
   },
   {
    "duration": 282,
    "start_time": "2023-03-18T17:38:01.370Z"
   },
   {
    "duration": 267,
    "start_time": "2023-03-18T17:38:01.655Z"
   },
   {
    "duration": 137,
    "start_time": "2023-03-18T17:38:01.924Z"
   },
   {
    "duration": 12,
    "start_time": "2023-03-18T17:38:02.063Z"
   },
   {
    "duration": 61,
    "start_time": "2023-03-18T17:38:02.076Z"
   },
   {
    "duration": 19,
    "start_time": "2023-03-18T17:38:02.139Z"
   },
   {
    "duration": 25,
    "start_time": "2023-03-18T17:38:02.159Z"
   },
   {
    "duration": 10,
    "start_time": "2023-03-18T17:38:02.186Z"
   },
   {
    "duration": 60,
    "start_time": "2023-03-18T17:38:02.198Z"
   },
   {
    "duration": 4,
    "start_time": "2023-03-19T15:03:46.386Z"
   },
   {
    "duration": 1276,
    "start_time": "2023-03-19T15:03:46.393Z"
   },
   {
    "duration": 70,
    "start_time": "2023-03-19T15:03:47.676Z"
   },
   {
    "duration": 23,
    "start_time": "2023-03-19T15:03:47.749Z"
   },
   {
    "duration": 5,
    "start_time": "2023-03-19T15:03:47.775Z"
   },
   {
    "duration": 8,
    "start_time": "2023-03-19T15:03:47.781Z"
   },
   {
    "duration": 23,
    "start_time": "2023-03-19T15:03:47.792Z"
   },
   {
    "duration": 20,
    "start_time": "2023-03-19T15:03:47.816Z"
   },
   {
    "duration": 28,
    "start_time": "2023-03-19T15:03:47.837Z"
   },
   {
    "duration": 22,
    "start_time": "2023-03-19T15:03:47.871Z"
   },
   {
    "duration": 15,
    "start_time": "2023-03-19T15:03:47.895Z"
   },
   {
    "duration": 8,
    "start_time": "2023-03-19T15:03:47.912Z"
   },
   {
    "duration": 357,
    "start_time": "2023-03-19T15:03:47.922Z"
   },
   {
    "duration": 19,
    "start_time": "2023-03-19T15:03:48.283Z"
   },
   {
    "duration": 14,
    "start_time": "2023-03-19T15:03:48.304Z"
   },
   {
    "duration": 21,
    "start_time": "2023-03-19T15:03:48.320Z"
   },
   {
    "duration": 40,
    "start_time": "2023-03-19T15:03:48.345Z"
   },
   {
    "duration": 1967,
    "start_time": "2023-03-19T15:03:48.387Z"
   },
   {
    "duration": 233,
    "start_time": "2023-03-19T15:03:50.361Z"
   },
   {
    "duration": 459,
    "start_time": "2023-03-19T15:03:50.595Z"
   },
   {
    "duration": 34,
    "start_time": "2023-03-19T15:03:51.055Z"
   },
   {
    "duration": 317,
    "start_time": "2023-03-19T15:03:51.091Z"
   },
   {
    "duration": 316,
    "start_time": "2023-03-19T15:03:51.409Z"
   },
   {
    "duration": 299,
    "start_time": "2023-03-19T15:03:51.726Z"
   },
   {
    "duration": 153,
    "start_time": "2023-03-19T15:03:52.027Z"
   },
   {
    "duration": 12,
    "start_time": "2023-03-19T15:03:52.182Z"
   },
   {
    "duration": 27,
    "start_time": "2023-03-19T15:03:52.196Z"
   },
   {
    "duration": 44,
    "start_time": "2023-03-19T15:03:52.225Z"
   },
   {
    "duration": 23,
    "start_time": "2023-03-19T15:03:52.275Z"
   },
   {
    "duration": 11,
    "start_time": "2023-03-19T15:03:52.299Z"
   },
   {
    "duration": 13,
    "start_time": "2023-03-19T15:03:52.312Z"
   },
   {
    "duration": 14,
    "start_time": "2023-03-19T15:09:31.180Z"
   },
   {
    "duration": 3,
    "start_time": "2023-03-19T15:10:06.005Z"
   },
   {
    "duration": 1267,
    "start_time": "2023-03-19T15:10:06.012Z"
   },
   {
    "duration": 70,
    "start_time": "2023-03-19T15:10:07.282Z"
   },
   {
    "duration": 28,
    "start_time": "2023-03-19T15:10:07.354Z"
   },
   {
    "duration": 14,
    "start_time": "2023-03-19T15:10:07.384Z"
   },
   {
    "duration": 7,
    "start_time": "2023-03-19T15:10:07.401Z"
   },
   {
    "duration": 24,
    "start_time": "2023-03-19T15:10:07.410Z"
   },
   {
    "duration": 23,
    "start_time": "2023-03-19T15:10:07.436Z"
   },
   {
    "duration": 19,
    "start_time": "2023-03-19T15:10:07.461Z"
   },
   {
    "duration": 17,
    "start_time": "2023-03-19T15:10:07.481Z"
   },
   {
    "duration": 24,
    "start_time": "2023-03-19T15:10:07.500Z"
   },
   {
    "duration": 15,
    "start_time": "2023-03-19T15:10:07.526Z"
   },
   {
    "duration": 32,
    "start_time": "2023-03-19T15:10:07.543Z"
   },
   {
    "duration": 9,
    "start_time": "2023-03-19T15:10:07.577Z"
   },
   {
    "duration": 352,
    "start_time": "2023-03-19T15:10:07.589Z"
   },
   {
    "duration": 27,
    "start_time": "2023-03-19T15:10:07.943Z"
   },
   {
    "duration": 12,
    "start_time": "2023-03-19T15:10:07.974Z"
   },
   {
    "duration": 11,
    "start_time": "2023-03-19T15:10:07.988Z"
   },
   {
    "duration": 25,
    "start_time": "2023-03-19T15:10:08.001Z"
   },
   {
    "duration": 2156,
    "start_time": "2023-03-19T15:10:08.028Z"
   },
   {
    "duration": 513,
    "start_time": "2023-03-19T15:10:10.186Z"
   },
   {
    "duration": 1017,
    "start_time": "2023-03-19T15:10:10.701Z"
   },
   {
    "duration": 58,
    "start_time": "2023-03-19T15:10:11.720Z"
   },
   {
    "duration": 288,
    "start_time": "2023-03-19T15:10:11.779Z"
   },
   {
    "duration": 318,
    "start_time": "2023-03-19T15:10:12.068Z"
   },
   {
    "duration": 324,
    "start_time": "2023-03-19T15:10:12.388Z"
   },
   {
    "duration": 169,
    "start_time": "2023-03-19T15:10:12.713Z"
   },
   {
    "duration": 13,
    "start_time": "2023-03-19T15:10:12.884Z"
   },
   {
    "duration": 28,
    "start_time": "2023-03-19T15:10:12.899Z"
   },
   {
    "duration": 53,
    "start_time": "2023-03-19T15:10:12.929Z"
   },
   {
    "duration": 31,
    "start_time": "2023-03-19T15:10:12.984Z"
   },
   {
    "duration": 13,
    "start_time": "2023-03-19T15:10:13.017Z"
   },
   {
    "duration": 11,
    "start_time": "2023-03-19T15:10:13.031Z"
   },
   {
    "duration": 67,
    "start_time": "2023-03-19T15:18:57.908Z"
   },
   {
    "duration": 3,
    "start_time": "2023-03-19T15:19:08.709Z"
   },
   {
    "duration": 1167,
    "start_time": "2023-03-19T15:19:08.715Z"
   },
   {
    "duration": 73,
    "start_time": "2023-03-19T15:19:09.884Z"
   },
   {
    "duration": 27,
    "start_time": "2023-03-19T15:19:09.959Z"
   },
   {
    "duration": 5,
    "start_time": "2023-03-19T15:19:09.989Z"
   },
   {
    "duration": 11,
    "start_time": "2023-03-19T15:19:09.996Z"
   },
   {
    "duration": 21,
    "start_time": "2023-03-19T15:19:10.009Z"
   },
   {
    "duration": 48,
    "start_time": "2023-03-19T15:19:10.033Z"
   },
   {
    "duration": 10,
    "start_time": "2023-03-19T15:19:10.083Z"
   },
   {
    "duration": 24,
    "start_time": "2023-03-19T15:19:10.098Z"
   },
   {
    "duration": 45,
    "start_time": "2023-03-19T15:19:10.124Z"
   },
   {
    "duration": 17,
    "start_time": "2023-03-19T15:19:10.178Z"
   },
   {
    "duration": 17,
    "start_time": "2023-03-19T15:19:10.197Z"
   },
   {
    "duration": 114,
    "start_time": "2023-03-19T15:19:10.216Z"
   },
   {
    "duration": 9,
    "start_time": "2023-03-19T15:19:10.333Z"
   },
   {
    "duration": 367,
    "start_time": "2023-03-19T15:19:10.362Z"
   },
   {
    "duration": 32,
    "start_time": "2023-03-19T15:19:10.730Z"
   },
   {
    "duration": 12,
    "start_time": "2023-03-19T15:19:10.770Z"
   },
   {
    "duration": 10,
    "start_time": "2023-03-19T15:19:10.784Z"
   },
   {
    "duration": 22,
    "start_time": "2023-03-19T15:19:10.796Z"
   },
   {
    "duration": 1978,
    "start_time": "2023-03-19T15:19:10.820Z"
   },
   {
    "duration": 280,
    "start_time": "2023-03-19T15:19:12.800Z"
   },
   {
    "duration": 484,
    "start_time": "2023-03-19T15:19:13.083Z"
   },
   {
    "duration": 21,
    "start_time": "2023-03-19T15:19:13.569Z"
   },
   {
    "duration": 330,
    "start_time": "2023-03-19T15:19:13.591Z"
   },
   {
    "duration": 371,
    "start_time": "2023-03-19T15:19:13.926Z"
   },
   {
    "duration": 336,
    "start_time": "2023-03-19T15:19:14.299Z"
   },
   {
    "duration": 162,
    "start_time": "2023-03-19T15:19:14.638Z"
   },
   {
    "duration": 14,
    "start_time": "2023-03-19T15:19:14.802Z"
   },
   {
    "duration": 46,
    "start_time": "2023-03-19T15:19:14.818Z"
   },
   {
    "duration": 29,
    "start_time": "2023-03-19T15:19:14.866Z"
   },
   {
    "duration": 21,
    "start_time": "2023-03-19T15:19:14.896Z"
   },
   {
    "duration": 10,
    "start_time": "2023-03-19T15:19:14.919Z"
   },
   {
    "duration": 38,
    "start_time": "2023-03-19T15:19:14.931Z"
   },
   {
    "duration": 12,
    "start_time": "2023-03-19T15:35:21.504Z"
   },
   {
    "duration": 3,
    "start_time": "2023-03-19T17:42:11.092Z"
   },
   {
    "duration": 1327,
    "start_time": "2023-03-19T17:42:11.097Z"
   },
   {
    "duration": 203,
    "start_time": "2023-03-19T17:42:12.426Z"
   },
   {
    "duration": 15,
    "start_time": "2023-03-19T17:42:12.631Z"
   },
   {
    "duration": 4,
    "start_time": "2023-03-19T17:42:12.648Z"
   },
   {
    "duration": 5,
    "start_time": "2023-03-19T17:42:12.654Z"
   },
   {
    "duration": 30,
    "start_time": "2023-03-19T17:42:12.661Z"
   },
   {
    "duration": 27,
    "start_time": "2023-03-19T17:42:12.693Z"
   },
   {
    "duration": 8,
    "start_time": "2023-03-19T17:42:12.721Z"
   },
   {
    "duration": 16,
    "start_time": "2023-03-19T17:42:12.730Z"
   },
   {
    "duration": 48,
    "start_time": "2023-03-19T17:42:12.749Z"
   },
   {
    "duration": 13,
    "start_time": "2023-03-19T17:42:12.798Z"
   },
   {
    "duration": 13,
    "start_time": "2023-03-19T17:42:12.813Z"
   },
   {
    "duration": 105,
    "start_time": "2023-03-19T17:42:12.828Z"
   },
   {
    "duration": 7,
    "start_time": "2023-03-19T17:42:12.935Z"
   },
   {
    "duration": 319,
    "start_time": "2023-03-19T17:42:12.943Z"
   },
   {
    "duration": 25,
    "start_time": "2023-03-19T17:42:13.263Z"
   },
   {
    "duration": 9,
    "start_time": "2023-03-19T17:42:13.290Z"
   },
   {
    "duration": 10,
    "start_time": "2023-03-19T17:42:13.300Z"
   },
   {
    "duration": 17,
    "start_time": "2023-03-19T17:42:13.312Z"
   },
   {
    "duration": 1757,
    "start_time": "2023-03-19T17:42:13.331Z"
   },
   {
    "duration": 239,
    "start_time": "2023-03-19T17:42:15.091Z"
   },
   {
    "duration": 477,
    "start_time": "2023-03-19T17:42:15.332Z"
   },
   {
    "duration": 19,
    "start_time": "2023-03-19T17:42:15.811Z"
   },
   {
    "duration": 305,
    "start_time": "2023-03-19T17:42:15.831Z"
   },
   {
    "duration": 277,
    "start_time": "2023-03-19T17:42:16.138Z"
   },
   {
    "duration": 302,
    "start_time": "2023-03-19T17:42:16.417Z"
   },
   {
    "duration": 153,
    "start_time": "2023-03-19T17:42:16.721Z"
   },
   {
    "duration": 16,
    "start_time": "2023-03-19T17:42:16.877Z"
   },
   {
    "duration": 25,
    "start_time": "2023-03-19T17:42:16.894Z"
   },
   {
    "duration": 20,
    "start_time": "2023-03-19T17:42:16.921Z"
   },
   {
    "duration": 56,
    "start_time": "2023-03-19T17:42:16.942Z"
   },
   {
    "duration": 10,
    "start_time": "2023-03-19T17:42:17.000Z"
   },
   {
    "duration": 10,
    "start_time": "2023-03-19T17:42:17.012Z"
   },
   {
    "duration": 11,
    "start_time": "2023-03-19T17:42:17.023Z"
   },
   {
    "duration": 7,
    "start_time": "2023-03-19T17:45:45.162Z"
   },
   {
    "duration": 14,
    "start_time": "2023-03-19T17:45:48.531Z"
   },
   {
    "duration": 3,
    "start_time": "2023-03-19T17:46:09.056Z"
   },
   {
    "duration": 5,
    "start_time": "2023-03-19T17:46:09.061Z"
   },
   {
    "duration": 77,
    "start_time": "2023-03-19T17:46:09.067Z"
   },
   {
    "duration": 14,
    "start_time": "2023-03-19T17:46:09.146Z"
   },
   {
    "duration": 5,
    "start_time": "2023-03-19T17:46:09.162Z"
   },
   {
    "duration": 19,
    "start_time": "2023-03-19T17:46:09.169Z"
   },
   {
    "duration": 16,
    "start_time": "2023-03-19T17:46:09.190Z"
   },
   {
    "duration": 27,
    "start_time": "2023-03-19T17:46:09.208Z"
   },
   {
    "duration": 8,
    "start_time": "2023-03-19T17:46:09.237Z"
   },
   {
    "duration": 41,
    "start_time": "2023-03-19T17:46:09.247Z"
   },
   {
    "duration": 10,
    "start_time": "2023-03-19T17:46:09.290Z"
   },
   {
    "duration": 15,
    "start_time": "2023-03-19T17:46:15.508Z"
   },
   {
    "duration": 12,
    "start_time": "2023-03-19T18:29:39.541Z"
   },
   {
    "duration": 104,
    "start_time": "2023-03-19T18:29:51.038Z"
   },
   {
    "duration": 22,
    "start_time": "2023-03-19T18:29:59.930Z"
   },
   {
    "duration": 9,
    "start_time": "2023-03-19T18:43:38.555Z"
   },
   {
    "duration": 4,
    "start_time": "2023-03-19T18:45:40.730Z"
   },
   {
    "duration": 12,
    "start_time": "2023-03-19T18:45:53.966Z"
   },
   {
    "duration": 562,
    "start_time": "2023-03-19T18:46:03.938Z"
   },
   {
    "duration": 2,
    "start_time": "2023-03-19T18:46:11.166Z"
   },
   {
    "duration": 4,
    "start_time": "2023-03-19T18:46:11.171Z"
   },
   {
    "duration": 66,
    "start_time": "2023-03-19T18:46:11.177Z"
   },
   {
    "duration": 14,
    "start_time": "2023-03-19T18:46:11.245Z"
   },
   {
    "duration": 5,
    "start_time": "2023-03-19T18:46:11.261Z"
   },
   {
    "duration": 6,
    "start_time": "2023-03-19T18:46:11.268Z"
   },
   {
    "duration": 28,
    "start_time": "2023-03-19T18:46:11.276Z"
   },
   {
    "duration": 26,
    "start_time": "2023-03-19T18:46:11.306Z"
   },
   {
    "duration": 9,
    "start_time": "2023-03-19T18:46:11.335Z"
   },
   {
    "duration": 42,
    "start_time": "2023-03-19T18:46:11.346Z"
   },
   {
    "duration": 10,
    "start_time": "2023-03-19T18:46:11.390Z"
   },
   {
    "duration": 22,
    "start_time": "2023-03-19T18:46:11.402Z"
   },
   {
    "duration": 98,
    "start_time": "2023-03-19T18:46:11.425Z"
   },
   {
    "duration": 18,
    "start_time": "2023-03-19T18:46:11.525Z"
   },
   {
    "duration": 10,
    "start_time": "2023-03-19T18:46:11.546Z"
   },
   {
    "duration": 4,
    "start_time": "2023-03-19T18:46:15.724Z"
   },
   {
    "duration": 13,
    "start_time": "2023-03-19T18:46:17.806Z"
   },
   {
    "duration": 5,
    "start_time": "2023-03-19T18:47:05.558Z"
   },
   {
    "duration": 19,
    "start_time": "2023-03-19T18:47:06.805Z"
   },
   {
    "duration": 18,
    "start_time": "2023-03-19T18:49:24.311Z"
   },
   {
    "duration": 12,
    "start_time": "2023-03-19T18:49:29.893Z"
   },
   {
    "duration": 14,
    "start_time": "2023-03-19T18:49:36.559Z"
   },
   {
    "duration": 9,
    "start_time": "2023-03-19T18:52:23.687Z"
   },
   {
    "duration": 13,
    "start_time": "2023-03-19T18:52:26.267Z"
   },
   {
    "duration": 3,
    "start_time": "2023-03-19T18:53:45.699Z"
   },
   {
    "duration": 6,
    "start_time": "2023-03-19T18:53:45.704Z"
   },
   {
    "duration": 66,
    "start_time": "2023-03-19T18:53:45.711Z"
   },
   {
    "duration": 20,
    "start_time": "2023-03-19T18:53:45.779Z"
   },
   {
    "duration": 7,
    "start_time": "2023-03-19T18:53:45.803Z"
   },
   {
    "duration": 6,
    "start_time": "2023-03-19T18:53:45.812Z"
   },
   {
    "duration": 21,
    "start_time": "2023-03-19T18:53:45.820Z"
   },
   {
    "duration": 47,
    "start_time": "2023-03-19T18:53:45.844Z"
   },
   {
    "duration": 7,
    "start_time": "2023-03-19T18:53:45.893Z"
   },
   {
    "duration": 15,
    "start_time": "2023-03-19T18:53:45.901Z"
   },
   {
    "duration": 15,
    "start_time": "2023-03-19T18:53:45.917Z"
   },
   {
    "duration": 28,
    "start_time": "2023-03-19T18:53:45.934Z"
   },
   {
    "duration": 93,
    "start_time": "2023-03-19T18:53:45.963Z"
   },
   {
    "duration": 31,
    "start_time": "2023-03-19T18:53:46.059Z"
   },
   {
    "duration": 11,
    "start_time": "2023-03-19T18:53:46.091Z"
   },
   {
    "duration": 10,
    "start_time": "2023-03-19T18:53:49.304Z"
   },
   {
    "duration": 14,
    "start_time": "2023-03-19T18:53:54.403Z"
   },
   {
    "duration": 12,
    "start_time": "2023-03-19T18:54:29.655Z"
   },
   {
    "duration": 15,
    "start_time": "2023-03-19T18:54:30.752Z"
   },
   {
    "duration": 3,
    "start_time": "2023-03-19T18:55:11.486Z"
   },
   {
    "duration": 5,
    "start_time": "2023-03-19T18:55:11.491Z"
   },
   {
    "duration": 71,
    "start_time": "2023-03-19T18:55:11.497Z"
   },
   {
    "duration": 13,
    "start_time": "2023-03-19T18:55:11.570Z"
   },
   {
    "duration": 5,
    "start_time": "2023-03-19T18:55:11.585Z"
   },
   {
    "duration": 5,
    "start_time": "2023-03-19T18:55:11.592Z"
   },
   {
    "duration": 16,
    "start_time": "2023-03-19T18:55:11.599Z"
   },
   {
    "duration": 19,
    "start_time": "2023-03-19T18:55:11.617Z"
   },
   {
    "duration": 8,
    "start_time": "2023-03-19T18:55:11.637Z"
   },
   {
    "duration": 50,
    "start_time": "2023-03-19T18:55:11.646Z"
   },
   {
    "duration": 9,
    "start_time": "2023-03-19T18:55:11.698Z"
   },
   {
    "duration": 14,
    "start_time": "2023-03-19T18:55:11.709Z"
   },
   {
    "duration": 100,
    "start_time": "2023-03-19T18:55:11.726Z"
   },
   {
    "duration": 18,
    "start_time": "2023-03-19T18:55:11.828Z"
   },
   {
    "duration": 8,
    "start_time": "2023-03-19T18:55:11.848Z"
   },
   {
    "duration": 8,
    "start_time": "2023-03-19T18:55:15.097Z"
   },
   {
    "duration": 21,
    "start_time": "2023-03-19T18:55:16.749Z"
   },
   {
    "duration": 10,
    "start_time": "2023-03-19T18:56:06.957Z"
   },
   {
    "duration": 19,
    "start_time": "2023-03-19T18:56:09.748Z"
   },
   {
    "duration": 14,
    "start_time": "2023-03-19T19:26:29.525Z"
   },
   {
    "duration": 9,
    "start_time": "2023-03-19T19:27:33.437Z"
   },
   {
    "duration": 13,
    "start_time": "2023-03-19T19:27:42.645Z"
   },
   {
    "duration": 27,
    "start_time": "2023-03-19T19:28:14.797Z"
   },
   {
    "duration": 21,
    "start_time": "2023-03-19T19:28:37.378Z"
   },
   {
    "duration": 10,
    "start_time": "2023-03-19T19:29:36.048Z"
   },
   {
    "duration": 22,
    "start_time": "2023-03-19T19:30:19.447Z"
   },
   {
    "duration": 8,
    "start_time": "2023-03-19T19:32:10.180Z"
   },
   {
    "duration": 9,
    "start_time": "2023-03-19T19:32:38.075Z"
   },
   {
    "duration": 18,
    "start_time": "2023-03-19T19:33:05.996Z"
   },
   {
    "duration": 2,
    "start_time": "2023-03-19T19:34:08.581Z"
   },
   {
    "duration": 7,
    "start_time": "2023-03-19T19:34:08.585Z"
   },
   {
    "duration": 75,
    "start_time": "2023-03-19T19:34:08.594Z"
   },
   {
    "duration": 15,
    "start_time": "2023-03-19T19:34:08.671Z"
   },
   {
    "duration": 6,
    "start_time": "2023-03-19T19:34:08.689Z"
   },
   {
    "duration": 6,
    "start_time": "2023-03-19T19:34:08.697Z"
   },
   {
    "duration": 18,
    "start_time": "2023-03-19T19:34:08.706Z"
   },
   {
    "duration": 19,
    "start_time": "2023-03-19T19:34:08.726Z"
   },
   {
    "duration": 8,
    "start_time": "2023-03-19T19:34:08.748Z"
   },
   {
    "duration": 15,
    "start_time": "2023-03-19T19:34:08.788Z"
   },
   {
    "duration": 9,
    "start_time": "2023-03-19T19:34:08.805Z"
   },
   {
    "duration": 15,
    "start_time": "2023-03-19T19:34:08.816Z"
   },
   {
    "duration": 22,
    "start_time": "2023-03-19T19:34:10.240Z"
   },
   {
    "duration": 12,
    "start_time": "2023-03-19T19:35:16.438Z"
   },
   {
    "duration": 12,
    "start_time": "2023-03-19T19:35:30.249Z"
   },
   {
    "duration": 13,
    "start_time": "2023-03-19T19:36:08.978Z"
   },
   {
    "duration": 14,
    "start_time": "2023-03-19T19:40:58.104Z"
   },
   {
    "duration": 4,
    "start_time": "2023-03-20T14:06:40.813Z"
   },
   {
    "duration": 1359,
    "start_time": "2023-03-20T14:06:40.819Z"
   },
   {
    "duration": 220,
    "start_time": "2023-03-20T14:06:42.180Z"
   },
   {
    "duration": 21,
    "start_time": "2023-03-20T14:06:42.402Z"
   },
   {
    "duration": 4,
    "start_time": "2023-03-20T14:06:42.426Z"
   },
   {
    "duration": 11,
    "start_time": "2023-03-20T14:06:42.432Z"
   },
   {
    "duration": 23,
    "start_time": "2023-03-20T14:06:42.444Z"
   },
   {
    "duration": 22,
    "start_time": "2023-03-20T14:06:42.469Z"
   },
   {
    "duration": 10,
    "start_time": "2023-03-20T14:06:42.493Z"
   },
   {
    "duration": 16,
    "start_time": "2023-03-20T14:06:42.504Z"
   },
   {
    "duration": 12,
    "start_time": "2023-03-20T14:06:42.524Z"
   },
   {
    "duration": 34,
    "start_time": "2023-03-20T14:06:42.538Z"
   },
   {
    "duration": 75,
    "start_time": "2023-03-20T14:06:42.574Z"
   },
   {
    "duration": 86,
    "start_time": "2023-03-20T14:06:42.651Z"
   },
   {
    "duration": 17,
    "start_time": "2023-03-20T14:06:42.738Z"
   },
   {
    "duration": 17,
    "start_time": "2023-03-20T14:06:42.761Z"
   },
   {
    "duration": 12,
    "start_time": "2023-03-20T14:06:42.781Z"
   },
   {
    "duration": 22,
    "start_time": "2023-03-20T14:06:42.795Z"
   },
   {
    "duration": 41,
    "start_time": "2023-03-20T14:06:42.820Z"
   },
   {
    "duration": 322,
    "start_time": "2023-03-20T14:06:42.864Z"
   },
   {
    "duration": 19,
    "start_time": "2023-03-20T14:06:43.188Z"
   },
   {
    "duration": 8,
    "start_time": "2023-03-20T14:06:43.208Z"
   },
   {
    "duration": 10,
    "start_time": "2023-03-20T14:06:43.217Z"
   },
   {
    "duration": 41,
    "start_time": "2023-03-20T14:06:43.229Z"
   },
   {
    "duration": 1817,
    "start_time": "2023-03-20T14:06:43.271Z"
   },
   {
    "duration": 239,
    "start_time": "2023-03-20T14:06:45.090Z"
   },
   {
    "duration": 447,
    "start_time": "2023-03-20T14:06:45.331Z"
   },
   {
    "duration": 19,
    "start_time": "2023-03-20T14:06:45.780Z"
   },
   {
    "duration": 341,
    "start_time": "2023-03-20T14:06:45.803Z"
   },
   {
    "duration": 325,
    "start_time": "2023-03-20T14:06:46.146Z"
   },
   {
    "duration": 319,
    "start_time": "2023-03-20T14:06:46.473Z"
   },
   {
    "duration": 147,
    "start_time": "2023-03-20T14:06:46.795Z"
   },
   {
    "duration": 24,
    "start_time": "2023-03-20T14:06:46.943Z"
   },
   {
    "duration": 26,
    "start_time": "2023-03-20T14:06:46.969Z"
   },
   {
    "duration": 21,
    "start_time": "2023-03-20T14:06:46.997Z"
   },
   {
    "duration": 46,
    "start_time": "2023-03-20T14:06:47.020Z"
   },
   {
    "duration": 11,
    "start_time": "2023-03-20T14:06:47.068Z"
   },
   {
    "duration": 11,
    "start_time": "2023-03-20T14:06:47.080Z"
   },
   {
    "duration": 13,
    "start_time": "2023-03-20T14:06:47.092Z"
   },
   {
    "duration": 16,
    "start_time": "2023-03-20T14:08:41.665Z"
   },
   {
    "duration": 16,
    "start_time": "2023-03-20T14:08:53.865Z"
   },
   {
    "duration": 47,
    "start_time": "2023-03-20T14:09:48.680Z"
   },
   {
    "duration": 71,
    "start_time": "2023-03-20T14:09:51.595Z"
   },
   {
    "duration": 17,
    "start_time": "2023-03-20T14:09:54.073Z"
   },
   {
    "duration": 22,
    "start_time": "2023-03-20T14:17:25.026Z"
   },
   {
    "duration": 17,
    "start_time": "2023-03-20T14:19:17.108Z"
   },
   {
    "duration": 5,
    "start_time": "2023-03-20T14:21:55.627Z"
   },
   {
    "duration": 249,
    "start_time": "2023-03-20T14:24:50.399Z"
   },
   {
    "duration": 129,
    "start_time": "2023-03-20T14:25:07.150Z"
   },
   {
    "duration": 229,
    "start_time": "2023-03-20T14:26:25.028Z"
   },
   {
    "duration": 217,
    "start_time": "2023-03-20T14:26:37.692Z"
   },
   {
    "duration": 230,
    "start_time": "2023-03-20T14:27:48.768Z"
   },
   {
    "duration": 219,
    "start_time": "2023-03-20T14:27:58.073Z"
   },
   {
    "duration": 15,
    "start_time": "2023-03-20T14:31:19.186Z"
   },
   {
    "duration": 242,
    "start_time": "2023-03-20T14:32:02.267Z"
   },
   {
    "duration": 119,
    "start_time": "2023-03-20T14:32:20.714Z"
   },
   {
    "duration": 9,
    "start_time": "2023-03-20T14:34:05.287Z"
   },
   {
    "duration": 127,
    "start_time": "2023-03-20T14:35:31.260Z"
   },
   {
    "duration": 252,
    "start_time": "2023-03-20T14:35:40.995Z"
   },
   {
    "duration": 340,
    "start_time": "2023-03-20T14:35:59.538Z"
   },
   {
    "duration": 120,
    "start_time": "2023-03-20T14:36:19.569Z"
   },
   {
    "duration": 142,
    "start_time": "2023-03-20T14:36:30.955Z"
   },
   {
    "duration": 127,
    "start_time": "2023-03-20T14:36:38.881Z"
   },
   {
    "duration": 256,
    "start_time": "2023-03-20T14:37:36.289Z"
   },
   {
    "duration": 251,
    "start_time": "2023-03-20T14:38:30.087Z"
   },
   {
    "duration": 16,
    "start_time": "2023-03-20T14:39:30.957Z"
   },
   {
    "duration": 291,
    "start_time": "2023-03-20T14:41:32.481Z"
   },
   {
    "duration": 3,
    "start_time": "2023-03-20T15:21:34.174Z"
   },
   {
    "duration": 3,
    "start_time": "2023-03-20T15:21:34.181Z"
   },
   {
    "duration": 68,
    "start_time": "2023-03-20T15:21:34.186Z"
   },
   {
    "duration": 13,
    "start_time": "2023-03-20T15:21:34.256Z"
   },
   {
    "duration": 17,
    "start_time": "2023-03-20T15:21:34.272Z"
   },
   {
    "duration": 5,
    "start_time": "2023-03-20T15:21:34.290Z"
   },
   {
    "duration": 6,
    "start_time": "2023-03-20T15:21:34.296Z"
   },
   {
    "duration": 17,
    "start_time": "2023-03-20T15:21:34.303Z"
   },
   {
    "duration": 55,
    "start_time": "2023-03-20T15:21:34.322Z"
   },
   {
    "duration": 8,
    "start_time": "2023-03-20T15:21:34.379Z"
   },
   {
    "duration": 15,
    "start_time": "2023-03-20T15:21:34.388Z"
   },
   {
    "duration": 7,
    "start_time": "2023-03-20T15:21:34.405Z"
   },
   {
    "duration": 12,
    "start_time": "2023-03-20T15:21:34.414Z"
   },
   {
    "duration": 45,
    "start_time": "2023-03-20T15:21:34.428Z"
   },
   {
    "duration": 71,
    "start_time": "2023-03-20T15:21:34.474Z"
   },
   {
    "duration": 5,
    "start_time": "2023-03-20T15:21:34.561Z"
   },
   {
    "duration": 17,
    "start_time": "2023-03-20T15:21:34.568Z"
   },
   {
    "duration": 18,
    "start_time": "2023-03-20T15:21:34.587Z"
   },
   {
    "duration": 10,
    "start_time": "2023-03-20T15:21:34.606Z"
   },
   {
    "duration": 44,
    "start_time": "2023-03-20T15:21:34.619Z"
   },
   {
    "duration": 14,
    "start_time": "2023-03-20T15:21:34.665Z"
   },
   {
    "duration": 7,
    "start_time": "2023-03-20T15:21:34.681Z"
   },
   {
    "duration": 320,
    "start_time": "2023-03-20T15:21:34.689Z"
   },
   {
    "duration": 20,
    "start_time": "2023-03-20T15:21:35.010Z"
   },
   {
    "duration": 8,
    "start_time": "2023-03-20T15:21:35.034Z"
   },
   {
    "duration": 30,
    "start_time": "2023-03-20T15:21:35.044Z"
   },
   {
    "duration": 25,
    "start_time": "2023-03-20T15:21:35.076Z"
   },
   {
    "duration": 1867,
    "start_time": "2023-03-20T15:21:35.104Z"
   },
   {
    "duration": 242,
    "start_time": "2023-03-20T15:21:36.974Z"
   },
   {
    "duration": 13,
    "start_time": "2023-03-20T15:21:37.218Z"
   },
   {
    "duration": 289,
    "start_time": "2023-03-20T15:21:37.234Z"
   },
   {
    "duration": 288,
    "start_time": "2023-03-20T15:21:37.525Z"
   },
   {
    "duration": 17,
    "start_time": "2023-03-20T15:21:37.815Z"
   },
   {
    "duration": 341,
    "start_time": "2023-03-20T15:21:37.834Z"
   },
   {
    "duration": 2,
    "start_time": "2023-03-20T15:21:38.177Z"
   },
   {
    "duration": 19,
    "start_time": "2023-03-20T15:21:38.181Z"
   },
   {
    "duration": 5,
    "start_time": "2023-03-20T15:21:38.202Z"
   },
   {
    "duration": 12,
    "start_time": "2023-03-20T15:28:23.429Z"
   },
   {
    "duration": 47,
    "start_time": "2023-03-20T15:28:34.003Z"
   },
   {
    "duration": 12,
    "start_time": "2023-03-20T15:28:36.692Z"
   },
   {
    "duration": 55,
    "start_time": "2023-03-20T15:34:17.904Z"
   },
   {
    "duration": 48,
    "start_time": "2023-03-20T15:34:32.552Z"
   },
   {
    "duration": 55,
    "start_time": "2023-03-20T15:36:29.207Z"
   },
   {
    "duration": 46,
    "start_time": "2023-03-20T15:36:37.119Z"
   },
   {
    "duration": 1794,
    "start_time": "2023-03-20T15:36:40.894Z"
   },
   {
    "duration": 1656,
    "start_time": "2023-03-20T15:37:11.133Z"
   },
   {
    "duration": 1596,
    "start_time": "2023-03-20T15:38:11.354Z"
   },
   {
    "duration": 1932,
    "start_time": "2023-03-20T15:38:46.904Z"
   },
   {
    "duration": 14,
    "start_time": "2023-03-20T15:39:00.369Z"
   },
   {
    "duration": 755,
    "start_time": "2023-03-20T15:42:40.876Z"
   },
   {
    "duration": 21,
    "start_time": "2023-03-20T15:45:29.629Z"
   },
   {
    "duration": 22,
    "start_time": "2023-03-20T15:45:39.222Z"
   },
   {
    "duration": 26,
    "start_time": "2023-03-20T15:46:03.895Z"
   },
   {
    "duration": 22,
    "start_time": "2023-03-20T15:46:12.003Z"
   },
   {
    "duration": 1309,
    "start_time": "2023-03-20T15:46:29.838Z"
   },
   {
    "duration": 4,
    "start_time": "2023-03-20T15:48:02.356Z"
   },
   {
    "duration": 4,
    "start_time": "2023-03-20T15:48:20.649Z"
   },
   {
    "duration": 4,
    "start_time": "2023-03-20T15:48:38.040Z"
   },
   {
    "duration": 695,
    "start_time": "2023-03-20T15:49:54.382Z"
   },
   {
    "duration": 19,
    "start_time": "2023-03-20T15:50:37.135Z"
   },
   {
    "duration": 4,
    "start_time": "2023-03-20T15:50:56.269Z"
   },
   {
    "duration": 787,
    "start_time": "2023-03-20T15:52:13.059Z"
   },
   {
    "duration": 22,
    "start_time": "2023-03-20T15:52:45.232Z"
   },
   {
    "duration": 2455,
    "start_time": "2023-03-20T15:52:58.992Z"
   },
   {
    "duration": 23,
    "start_time": "2023-03-20T15:53:14.528Z"
   },
   {
    "duration": 1331,
    "start_time": "2023-03-20T15:53:30.344Z"
   },
   {
    "duration": 1943,
    "start_time": "2023-03-20T15:55:18.615Z"
   },
   {
    "duration": 163,
    "start_time": "2023-03-20T15:55:41.148Z"
   },
   {
    "duration": 158,
    "start_time": "2023-03-20T15:55:51.821Z"
   },
   {
    "duration": 296,
    "start_time": "2023-03-20T15:56:09.206Z"
   },
   {
    "duration": 49,
    "start_time": "2023-03-20T15:56:21.260Z"
   },
   {
    "duration": 45,
    "start_time": "2023-03-20T15:56:32.071Z"
   },
   {
    "duration": 45,
    "start_time": "2023-03-20T15:56:35.422Z"
   },
   {
    "duration": 135,
    "start_time": "2023-03-20T15:56:43.835Z"
   },
   {
    "duration": 140,
    "start_time": "2023-03-20T15:56:49.938Z"
   },
   {
    "duration": 1592,
    "start_time": "2023-03-20T15:56:54.369Z"
   },
   {
    "duration": 1913,
    "start_time": "2023-03-20T15:57:42.944Z"
   },
   {
    "duration": 1602,
    "start_time": "2023-03-20T15:57:55.091Z"
   },
   {
    "duration": 587,
    "start_time": "2023-03-20T15:59:11.214Z"
   },
   {
    "duration": 5,
    "start_time": "2023-03-20T16:00:51.453Z"
   },
   {
    "duration": 564,
    "start_time": "2023-03-20T16:05:55.121Z"
   },
   {
    "duration": 36,
    "start_time": "2023-03-20T16:08:45.596Z"
   },
   {
    "duration": 528,
    "start_time": "2023-03-20T16:09:31.450Z"
   },
   {
    "duration": 837,
    "start_time": "2023-03-20T16:09:44.445Z"
   },
   {
    "duration": 498,
    "start_time": "2023-03-20T16:10:09.299Z"
   },
   {
    "duration": 458,
    "start_time": "2023-03-20T16:10:38.944Z"
   },
   {
    "duration": 485,
    "start_time": "2023-03-20T16:10:49.378Z"
   },
   {
    "duration": 52,
    "start_time": "2023-03-20T16:10:56.778Z"
   },
   {
    "duration": 745,
    "start_time": "2023-03-20T16:14:34.145Z"
   },
   {
    "duration": 629,
    "start_time": "2023-03-20T16:14:42.099Z"
   },
   {
    "duration": 1378,
    "start_time": "2023-03-20T16:16:41.223Z"
   },
   {
    "duration": 51,
    "start_time": "2023-03-20T16:17:25.580Z"
   },
   {
    "duration": 1266,
    "start_time": "2023-03-20T16:17:34.787Z"
   },
   {
    "duration": 1390,
    "start_time": "2023-03-20T16:19:13.637Z"
   },
   {
    "duration": 1301,
    "start_time": "2023-03-20T16:21:53.870Z"
   },
   {
    "duration": 1672,
    "start_time": "2023-03-20T16:26:15.856Z"
   },
   {
    "duration": 1768,
    "start_time": "2023-03-20T16:26:52.008Z"
   },
   {
    "duration": 638,
    "start_time": "2023-03-20T16:27:23.749Z"
   },
   {
    "duration": 619,
    "start_time": "2023-03-20T16:27:33.523Z"
   },
   {
    "duration": 591,
    "start_time": "2023-03-20T16:27:42.950Z"
   },
   {
    "duration": 1332,
    "start_time": "2023-03-20T16:27:57.804Z"
   },
   {
    "duration": 1385,
    "start_time": "2023-03-20T16:28:16.457Z"
   },
   {
    "duration": 1374,
    "start_time": "2023-03-20T17:19:15.558Z"
   },
   {
    "duration": 1241,
    "start_time": "2023-03-20T17:23:38.853Z"
   },
   {
    "duration": 1268,
    "start_time": "2023-03-20T17:23:55.446Z"
   },
   {
    "duration": 87,
    "start_time": "2023-03-20T17:24:53.238Z"
   },
   {
    "duration": 5,
    "start_time": "2023-03-20T17:25:01.484Z"
   },
   {
    "duration": 3805,
    "start_time": "2023-03-20T17:25:07.404Z"
   },
   {
    "duration": 89,
    "start_time": "2023-03-20T17:25:45.335Z"
   },
   {
    "duration": 48,
    "start_time": "2023-03-20T17:25:54.787Z"
   },
   {
    "duration": 1380,
    "start_time": "2023-03-20T17:26:12.833Z"
   },
   {
    "duration": 20,
    "start_time": "2023-03-20T17:34:34.120Z"
   },
   {
    "duration": 19,
    "start_time": "2023-03-20T17:34:45.257Z"
   },
   {
    "duration": 177,
    "start_time": "2023-03-20T17:36:15.608Z"
   },
   {
    "duration": 145,
    "start_time": "2023-03-20T17:36:44.903Z"
   },
   {
    "duration": 133,
    "start_time": "2023-03-20T17:37:10.559Z"
   },
   {
    "duration": 390,
    "start_time": "2023-03-20T17:37:13.860Z"
   },
   {
    "duration": 160,
    "start_time": "2023-03-20T17:37:45.027Z"
   },
   {
    "duration": 126,
    "start_time": "2023-03-20T17:38:29.690Z"
   },
   {
    "duration": 18,
    "start_time": "2023-03-20T17:39:23.323Z"
   },
   {
    "duration": 24,
    "start_time": "2023-03-20T17:40:09.185Z"
   },
   {
    "duration": 17,
    "start_time": "2023-03-20T17:40:37.634Z"
   },
   {
    "duration": 23,
    "start_time": "2023-03-20T17:41:01.823Z"
   },
   {
    "duration": 19,
    "start_time": "2023-03-20T17:41:09.188Z"
   },
   {
    "duration": 13,
    "start_time": "2023-03-20T17:41:16.135Z"
   },
   {
    "duration": 14,
    "start_time": "2023-03-20T17:41:22.654Z"
   },
   {
    "duration": 13,
    "start_time": "2023-03-20T17:44:16.048Z"
   },
   {
    "duration": 15,
    "start_time": "2023-03-20T17:44:24.713Z"
   },
   {
    "duration": 309,
    "start_time": "2023-03-20T17:44:34.265Z"
   },
   {
    "duration": 286,
    "start_time": "2023-03-20T17:45:29.341Z"
   },
   {
    "duration": 60,
    "start_time": "2023-03-20T17:46:13.334Z"
   },
   {
    "duration": 472,
    "start_time": "2023-03-20T17:46:48.060Z"
   },
   {
    "duration": 137,
    "start_time": "2023-03-20T17:47:11.249Z"
   },
   {
    "duration": 123,
    "start_time": "2023-03-20T17:48:18.778Z"
   },
   {
    "duration": 25,
    "start_time": "2023-03-20T17:48:55.655Z"
   },
   {
    "duration": 22,
    "start_time": "2023-03-20T17:49:19.610Z"
   },
   {
    "duration": 465,
    "start_time": "2023-03-20T17:49:38.798Z"
   },
   {
    "duration": 457,
    "start_time": "2023-03-20T17:50:02.878Z"
   },
   {
    "duration": 409,
    "start_time": "2023-03-20T17:50:13.086Z"
   },
   {
    "duration": 435,
    "start_time": "2023-03-20T17:50:34.157Z"
   },
   {
    "duration": 291,
    "start_time": "2023-03-20T17:50:58.159Z"
   },
   {
    "duration": 320,
    "start_time": "2023-03-20T17:51:16.243Z"
   },
   {
    "duration": 292,
    "start_time": "2023-03-20T17:52:12.560Z"
   },
   {
    "duration": 15,
    "start_time": "2023-03-20T17:52:31.613Z"
   },
   {
    "duration": 19,
    "start_time": "2023-03-20T17:52:58.753Z"
   },
   {
    "duration": 15,
    "start_time": "2023-03-20T17:53:14.783Z"
   },
   {
    "duration": 15,
    "start_time": "2023-03-20T17:53:19.584Z"
   },
   {
    "duration": 16,
    "start_time": "2023-03-20T17:53:28.727Z"
   },
   {
    "duration": 16,
    "start_time": "2023-03-20T17:53:35.214Z"
   },
   {
    "duration": 9,
    "start_time": "2023-03-20T17:54:13.286Z"
   },
   {
    "duration": 459,
    "start_time": "2023-03-20T17:54:16.391Z"
   },
   {
    "duration": 10,
    "start_time": "2023-03-20T17:55:12.400Z"
   },
   {
    "duration": 9,
    "start_time": "2023-03-20T17:55:21.908Z"
   },
   {
    "duration": 69,
    "start_time": "2023-03-20T17:56:09.045Z"
   },
   {
    "duration": 276,
    "start_time": "2023-03-20T17:56:14.742Z"
   },
   {
    "duration": 283,
    "start_time": "2023-03-20T17:56:20.363Z"
   },
   {
    "duration": 332,
    "start_time": "2023-03-20T17:56:28.138Z"
   },
   {
    "duration": 4,
    "start_time": "2023-03-20T17:56:44.092Z"
   },
   {
    "duration": 1165,
    "start_time": "2023-03-20T17:56:44.099Z"
   },
   {
    "duration": 70,
    "start_time": "2023-03-20T17:56:45.266Z"
   },
   {
    "duration": 16,
    "start_time": "2023-03-20T17:56:45.337Z"
   },
   {
    "duration": 22,
    "start_time": "2023-03-20T17:56:45.355Z"
   },
   {
    "duration": 7,
    "start_time": "2023-03-20T17:56:45.380Z"
   },
   {
    "duration": 13,
    "start_time": "2023-03-20T17:56:45.389Z"
   },
   {
    "duration": 24,
    "start_time": "2023-03-20T17:56:45.404Z"
   },
   {
    "duration": 25,
    "start_time": "2023-03-20T17:56:45.430Z"
   },
   {
    "duration": 19,
    "start_time": "2023-03-20T17:56:45.457Z"
   },
   {
    "duration": 14,
    "start_time": "2023-03-20T17:56:45.479Z"
   },
   {
    "duration": 18,
    "start_time": "2023-03-20T17:56:45.495Z"
   },
   {
    "duration": 20,
    "start_time": "2023-03-20T17:56:45.515Z"
   },
   {
    "duration": 30,
    "start_time": "2023-03-20T17:56:45.538Z"
   },
   {
    "duration": 80,
    "start_time": "2023-03-20T17:56:45.572Z"
   },
   {
    "duration": 23,
    "start_time": "2023-03-20T17:56:45.655Z"
   },
   {
    "duration": 21,
    "start_time": "2023-03-20T17:56:45.680Z"
   },
   {
    "duration": 17,
    "start_time": "2023-03-20T17:56:45.703Z"
   },
   {
    "duration": 15,
    "start_time": "2023-03-20T17:56:45.722Z"
   },
   {
    "duration": 27,
    "start_time": "2023-03-20T17:56:45.739Z"
   },
   {
    "duration": 19,
    "start_time": "2023-03-20T17:56:45.767Z"
   },
   {
    "duration": 7,
    "start_time": "2023-03-20T17:56:45.788Z"
   },
   {
    "duration": 352,
    "start_time": "2023-03-20T17:56:45.796Z"
   },
   {
    "duration": 26,
    "start_time": "2023-03-20T17:56:46.150Z"
   },
   {
    "duration": 9,
    "start_time": "2023-03-20T17:56:46.179Z"
   },
   {
    "duration": 22,
    "start_time": "2023-03-20T17:56:46.189Z"
   },
   {
    "duration": 20,
    "start_time": "2023-03-20T17:56:46.213Z"
   },
   {
    "duration": 1845,
    "start_time": "2023-03-20T17:56:46.235Z"
   },
   {
    "duration": 265,
    "start_time": "2023-03-20T17:56:48.082Z"
   },
   {
    "duration": 25,
    "start_time": "2023-03-20T17:56:48.349Z"
   },
   {
    "duration": 381,
    "start_time": "2023-03-20T17:56:48.376Z"
   },
   {
    "duration": 295,
    "start_time": "2023-03-20T17:56:48.761Z"
   },
   {
    "duration": 22,
    "start_time": "2023-03-20T17:56:49.058Z"
   },
   {
    "duration": 9,
    "start_time": "2023-03-20T17:56:49.082Z"
   },
   {
    "duration": 1227,
    "start_time": "2023-03-20T17:56:49.092Z"
   },
   {
    "duration": 2,
    "start_time": "2023-03-20T17:56:50.321Z"
   },
   {
    "duration": 14,
    "start_time": "2023-03-20T17:56:50.325Z"
   },
   {
    "duration": 11,
    "start_time": "2023-03-20T17:56:50.341Z"
   },
   {
    "duration": 332,
    "start_time": "2023-03-20T17:56:50.354Z"
   },
   {
    "duration": 133,
    "start_time": "2023-03-20T17:56:50.688Z"
   },
   {
    "duration": 0,
    "start_time": "2023-03-20T17:56:50.824Z"
   },
   {
    "duration": 0,
    "start_time": "2023-03-20T17:56:50.830Z"
   },
   {
    "duration": 0,
    "start_time": "2023-03-20T17:56:50.832Z"
   },
   {
    "duration": 0,
    "start_time": "2023-03-20T17:56:50.834Z"
   },
   {
    "duration": 0,
    "start_time": "2023-03-20T17:56:50.835Z"
   },
   {
    "duration": 0,
    "start_time": "2023-03-20T17:56:50.836Z"
   },
   {
    "duration": 562,
    "start_time": "2023-03-20T17:58:27.902Z"
   },
   {
    "duration": 276,
    "start_time": "2023-03-20T17:58:33.039Z"
   },
   {
    "duration": 281,
    "start_time": "2023-03-20T17:58:45.311Z"
   },
   {
    "duration": 259,
    "start_time": "2023-03-20T17:58:53.032Z"
   },
   {
    "duration": 275,
    "start_time": "2023-03-20T17:58:56.837Z"
   },
   {
    "duration": 353,
    "start_time": "2023-03-20T17:59:01.397Z"
   },
   {
    "duration": 258,
    "start_time": "2023-03-20T18:00:21.199Z"
   },
   {
    "duration": 23,
    "start_time": "2023-03-20T18:05:59.609Z"
   },
   {
    "duration": 11,
    "start_time": "2023-03-20T18:09:35.625Z"
   },
   {
    "duration": 287,
    "start_time": "2023-03-20T18:10:08.090Z"
   },
   {
    "duration": 219,
    "start_time": "2023-03-20T18:10:22.620Z"
   },
   {
    "duration": 252,
    "start_time": "2023-03-20T18:11:05.080Z"
   },
   {
    "duration": 262,
    "start_time": "2023-03-20T18:11:16.184Z"
   },
   {
    "duration": 524,
    "start_time": "2023-03-20T18:12:31.550Z"
   },
   {
    "duration": 246,
    "start_time": "2023-03-20T18:12:44.310Z"
   },
   {
    "duration": 13962,
    "start_time": "2023-03-20T18:14:03.690Z"
   },
   {
    "duration": 197,
    "start_time": "2023-03-20T18:15:20.236Z"
   },
   {
    "duration": 258,
    "start_time": "2023-03-20T18:17:46.973Z"
   },
   {
    "duration": 257,
    "start_time": "2023-03-20T18:17:57.003Z"
   },
   {
    "duration": 11,
    "start_time": "2023-03-20T18:20:12.143Z"
   },
   {
    "duration": 9,
    "start_time": "2023-03-20T18:20:26.485Z"
   },
   {
    "duration": 137,
    "start_time": "2023-03-20T18:20:43.879Z"
   },
   {
    "duration": 102,
    "start_time": "2023-03-20T18:21:03.725Z"
   },
   {
    "duration": 119,
    "start_time": "2023-03-20T18:21:22.559Z"
   },
   {
    "duration": 100,
    "start_time": "2023-03-20T18:21:28.879Z"
   },
   {
    "duration": 83,
    "start_time": "2023-03-20T18:21:39.173Z"
   },
   {
    "duration": 122,
    "start_time": "2023-03-20T18:21:48.196Z"
   },
   {
    "duration": 140,
    "start_time": "2023-03-20T18:22:25.708Z"
   },
   {
    "duration": 137,
    "start_time": "2023-03-20T18:24:08.202Z"
   },
   {
    "duration": 144,
    "start_time": "2023-03-20T18:24:58.570Z"
   },
   {
    "duration": 136,
    "start_time": "2023-03-20T18:27:38.818Z"
   },
   {
    "duration": 11,
    "start_time": "2023-03-20T18:32:43.554Z"
   },
   {
    "duration": 10,
    "start_time": "2023-03-20T18:32:47.021Z"
   },
   {
    "duration": 119,
    "start_time": "2023-03-20T18:33:05.626Z"
   },
   {
    "duration": 43,
    "start_time": "2023-03-20T18:33:18.226Z"
   },
   {
    "duration": 122,
    "start_time": "2023-03-20T18:33:27.527Z"
   },
   {
    "duration": 199,
    "start_time": "2023-03-20T19:57:31.451Z"
   },
   {
    "duration": 166,
    "start_time": "2023-03-20T19:58:19.135Z"
   },
   {
    "duration": 350,
    "start_time": "2023-03-20T20:00:43.916Z"
   },
   {
    "duration": 26853,
    "start_time": "2023-03-20T20:04:49.282Z"
   },
   {
    "duration": 120,
    "start_time": "2023-03-20T20:06:04.556Z"
   },
   {
    "duration": 164,
    "start_time": "2023-03-20T20:06:18.856Z"
   },
   {
    "duration": 344,
    "start_time": "2023-03-20T20:18:11.724Z"
   },
   {
    "duration": 252,
    "start_time": "2023-03-20T20:19:01.724Z"
   },
   {
    "duration": 273,
    "start_time": "2023-03-20T20:19:31.564Z"
   },
   {
    "duration": 218,
    "start_time": "2023-03-20T20:20:30.529Z"
   },
   {
    "duration": 293,
    "start_time": "2023-03-20T20:21:47.798Z"
   },
   {
    "duration": 219,
    "start_time": "2023-03-20T20:21:55.859Z"
   },
   {
    "duration": 228,
    "start_time": "2023-03-20T20:22:07.093Z"
   },
   {
    "duration": 343,
    "start_time": "2023-03-20T20:22:25.626Z"
   },
   {
    "duration": 303,
    "start_time": "2023-03-20T20:23:21.175Z"
   },
   {
    "duration": 239,
    "start_time": "2023-03-20T20:23:55.696Z"
   },
   {
    "duration": 165,
    "start_time": "2023-03-20T20:24:20.088Z"
   },
   {
    "duration": 594,
    "start_time": "2023-03-20T20:25:51.330Z"
   },
   {
    "duration": 279,
    "start_time": "2023-03-20T20:26:45.818Z"
   },
   {
    "duration": 3,
    "start_time": "2023-03-21T10:42:10.788Z"
   },
   {
    "duration": 1350,
    "start_time": "2023-03-21T10:42:10.793Z"
   },
   {
    "duration": 223,
    "start_time": "2023-03-21T10:42:12.145Z"
   },
   {
    "duration": 15,
    "start_time": "2023-03-21T10:42:12.369Z"
   },
   {
    "duration": 19,
    "start_time": "2023-03-21T10:42:12.386Z"
   },
   {
    "duration": 4,
    "start_time": "2023-03-21T10:42:12.407Z"
   },
   {
    "duration": 6,
    "start_time": "2023-03-21T10:42:12.413Z"
   },
   {
    "duration": 14,
    "start_time": "2023-03-21T10:42:12.421Z"
   },
   {
    "duration": 19,
    "start_time": "2023-03-21T10:42:12.437Z"
   },
   {
    "duration": 41,
    "start_time": "2023-03-21T10:42:12.457Z"
   },
   {
    "duration": 14,
    "start_time": "2023-03-21T10:42:12.506Z"
   },
   {
    "duration": 11,
    "start_time": "2023-03-21T10:42:12.521Z"
   },
   {
    "duration": 12,
    "start_time": "2023-03-21T10:42:12.534Z"
   },
   {
    "duration": 18,
    "start_time": "2023-03-21T10:42:12.548Z"
   },
   {
    "duration": 99,
    "start_time": "2023-03-21T10:42:12.568Z"
   },
   {
    "duration": 25,
    "start_time": "2023-03-21T10:42:12.668Z"
   },
   {
    "duration": 21,
    "start_time": "2023-03-21T10:42:12.695Z"
   },
   {
    "duration": 16,
    "start_time": "2023-03-21T10:42:12.718Z"
   },
   {
    "duration": 22,
    "start_time": "2023-03-21T10:42:12.735Z"
   },
   {
    "duration": 9,
    "start_time": "2023-03-21T10:42:12.758Z"
   },
   {
    "duration": 33,
    "start_time": "2023-03-21T10:42:12.769Z"
   },
   {
    "duration": 7,
    "start_time": "2023-03-21T10:42:12.806Z"
   },
   {
    "duration": 308,
    "start_time": "2023-03-21T10:42:12.815Z"
   },
   {
    "duration": 17,
    "start_time": "2023-03-21T10:42:13.124Z"
   },
   {
    "duration": 7,
    "start_time": "2023-03-21T10:42:13.143Z"
   },
   {
    "duration": 9,
    "start_time": "2023-03-21T10:42:13.152Z"
   },
   {
    "duration": 45,
    "start_time": "2023-03-21T10:42:13.162Z"
   },
   {
    "duration": 1667,
    "start_time": "2023-03-21T10:42:13.208Z"
   },
   {
    "duration": 231,
    "start_time": "2023-03-21T10:42:14.878Z"
   },
   {
    "duration": 12,
    "start_time": "2023-03-21T10:42:15.111Z"
   },
   {
    "duration": 344,
    "start_time": "2023-03-21T10:42:15.125Z"
   },
   {
    "duration": 287,
    "start_time": "2023-03-21T10:42:15.471Z"
   },
   {
    "duration": 16,
    "start_time": "2023-03-21T10:42:15.759Z"
   },
   {
    "duration": 11,
    "start_time": "2023-03-21T10:42:15.788Z"
   },
   {
    "duration": 1103,
    "start_time": "2023-03-21T10:42:15.803Z"
   },
   {
    "duration": 2,
    "start_time": "2023-03-21T10:42:16.908Z"
   },
   {
    "duration": 9,
    "start_time": "2023-03-21T10:42:16.912Z"
   },
   {
    "duration": 6,
    "start_time": "2023-03-21T10:42:16.922Z"
   },
   {
    "duration": 282,
    "start_time": "2023-03-21T10:42:16.930Z"
   },
   {
    "duration": 366,
    "start_time": "2023-03-21T10:42:17.215Z"
   },
   {
    "duration": 31,
    "start_time": "2023-03-21T10:42:17.582Z"
   },
   {
    "duration": 310,
    "start_time": "2023-03-21T10:42:17.614Z"
   },
   {
    "duration": 0,
    "start_time": "2023-03-21T10:42:17.926Z"
   },
   {
    "duration": 0,
    "start_time": "2023-03-21T10:42:17.927Z"
   },
   {
    "duration": 0,
    "start_time": "2023-03-21T10:42:17.928Z"
   },
   {
    "duration": 0,
    "start_time": "2023-03-21T10:42:17.928Z"
   },
   {
    "duration": 0,
    "start_time": "2023-03-21T10:42:17.929Z"
   },
   {
    "duration": 145,
    "start_time": "2023-03-21T10:46:01.121Z"
   },
   {
    "duration": 180,
    "start_time": "2023-03-21T10:46:05.124Z"
   },
   {
    "duration": 10,
    "start_time": "2023-03-21T10:46:31.768Z"
   },
   {
    "duration": 9,
    "start_time": "2023-03-21T10:46:38.143Z"
   },
   {
    "duration": 136,
    "start_time": "2023-03-21T10:48:03.453Z"
   },
   {
    "duration": 130,
    "start_time": "2023-03-21T10:48:50.206Z"
   },
   {
    "duration": 9,
    "start_time": "2023-03-21T10:49:29.042Z"
   },
   {
    "duration": 10,
    "start_time": "2023-03-21T10:49:34.508Z"
   },
   {
    "duration": 10,
    "start_time": "2023-03-21T10:49:37.806Z"
   },
   {
    "duration": 166,
    "start_time": "2023-03-21T10:49:41.866Z"
   },
   {
    "duration": 142,
    "start_time": "2023-03-21T10:50:10.530Z"
   },
   {
    "duration": 9,
    "start_time": "2023-03-21T10:55:07.035Z"
   },
   {
    "duration": 10,
    "start_time": "2023-03-21T10:55:24.371Z"
   },
   {
    "duration": 14,
    "start_time": "2023-03-21T10:56:39.728Z"
   },
   {
    "duration": 6,
    "start_time": "2023-03-21T10:58:20.141Z"
   },
   {
    "duration": 4,
    "start_time": "2023-03-21T10:58:39.211Z"
   },
   {
    "duration": 2,
    "start_time": "2023-03-21T10:59:09.963Z"
   },
   {
    "duration": 137,
    "start_time": "2023-03-21T11:00:33.842Z"
   },
   {
    "duration": 165,
    "start_time": "2023-03-21T11:00:53.642Z"
   },
   {
    "duration": 143,
    "start_time": "2023-03-21T11:01:18.070Z"
   },
   {
    "duration": 51,
    "start_time": "2023-03-21T11:12:35.579Z"
   },
   {
    "duration": 154,
    "start_time": "2023-03-21T11:12:39.485Z"
   },
   {
    "duration": 14,
    "start_time": "2023-03-21T11:18:40.110Z"
   },
   {
    "duration": 12,
    "start_time": "2023-03-21T11:20:44.765Z"
   },
   {
    "duration": 110,
    "start_time": "2023-03-21T11:22:01.301Z"
   },
   {
    "duration": 8,
    "start_time": "2023-03-21T11:33:13.231Z"
   },
   {
    "duration": 28,
    "start_time": "2023-03-21T11:33:39.688Z"
   },
   {
    "duration": 12,
    "start_time": "2023-03-21T11:33:50.259Z"
   },
   {
    "duration": 4,
    "start_time": "2023-03-21T11:34:25.952Z"
   },
   {
    "duration": 5,
    "start_time": "2023-03-21T11:34:29.452Z"
   },
   {
    "duration": 15,
    "start_time": "2023-03-21T11:35:07.762Z"
   },
   {
    "duration": 14,
    "start_time": "2023-03-21T11:35:16.398Z"
   },
   {
    "duration": 146,
    "start_time": "2023-03-21T11:37:51.613Z"
   },
   {
    "duration": 10,
    "start_time": "2023-03-21T11:49:12.731Z"
   },
   {
    "duration": 137,
    "start_time": "2023-03-21T11:49:16.312Z"
   },
   {
    "duration": 125,
    "start_time": "2023-03-21T11:54:07.321Z"
   },
   {
    "duration": 9,
    "start_time": "2023-03-21T11:54:45.120Z"
   },
   {
    "duration": 12,
    "start_time": "2023-03-21T11:54:56.686Z"
   },
   {
    "duration": 8,
    "start_time": "2023-03-21T11:55:03.654Z"
   },
   {
    "duration": 6,
    "start_time": "2023-03-21T11:55:13.814Z"
   },
   {
    "duration": 64,
    "start_time": "2023-03-21T11:55:29.168Z"
   },
   {
    "duration": 6,
    "start_time": "2023-03-21T11:55:36.767Z"
   },
   {
    "duration": 8,
    "start_time": "2023-03-21T11:55:38.381Z"
   },
   {
    "duration": 5,
    "start_time": "2023-03-21T11:56:00.879Z"
   },
   {
    "duration": 8,
    "start_time": "2023-03-21T11:56:03.534Z"
   },
   {
    "duration": 22,
    "start_time": "2023-03-21T11:56:19.237Z"
   },
   {
    "duration": 8,
    "start_time": "2023-03-21T11:56:23.411Z"
   },
   {
    "duration": 8,
    "start_time": "2023-03-21T11:56:24.336Z"
   },
   {
    "duration": 7,
    "start_time": "2023-03-21T11:57:02.737Z"
   },
   {
    "duration": 9,
    "start_time": "2023-03-21T11:57:03.957Z"
   },
   {
    "duration": 11,
    "start_time": "2023-03-21T11:57:16.122Z"
   },
   {
    "duration": 11,
    "start_time": "2023-03-21T11:57:17.643Z"
   },
   {
    "duration": 9,
    "start_time": "2023-03-21T11:58:49.575Z"
   },
   {
    "duration": 9,
    "start_time": "2023-03-21T11:58:51.248Z"
   },
   {
    "duration": 149,
    "start_time": "2023-03-21T11:58:58.488Z"
   },
   {
    "duration": 24,
    "start_time": "2023-03-21T12:01:24.003Z"
   },
   {
    "duration": 23,
    "start_time": "2023-03-21T12:01:38.561Z"
   },
   {
    "duration": 10,
    "start_time": "2023-03-21T12:01:43.662Z"
   },
   {
    "duration": 5,
    "start_time": "2023-03-21T12:02:03.274Z"
   },
   {
    "duration": 5,
    "start_time": "2023-03-21T12:02:36.769Z"
   },
   {
    "duration": 7,
    "start_time": "2023-03-21T12:02:41.064Z"
   },
   {
    "duration": 22,
    "start_time": "2023-03-21T12:02:55.249Z"
   },
   {
    "duration": 34,
    "start_time": "2023-03-21T12:03:02.873Z"
   },
   {
    "duration": 26,
    "start_time": "2023-03-21T12:04:03.201Z"
   },
   {
    "duration": 6,
    "start_time": "2023-03-21T12:04:07.824Z"
   },
   {
    "duration": 5,
    "start_time": "2023-03-21T12:05:25.005Z"
   },
   {
    "duration": 5,
    "start_time": "2023-03-21T12:05:27.897Z"
   },
   {
    "duration": 8,
    "start_time": "2023-03-21T12:06:07.074Z"
   },
   {
    "duration": 6,
    "start_time": "2023-03-21T12:06:20.635Z"
   },
   {
    "duration": 11,
    "start_time": "2023-03-21T12:06:29.601Z"
   },
   {
    "duration": 13,
    "start_time": "2023-03-21T12:07:39.943Z"
   },
   {
    "duration": 6,
    "start_time": "2023-03-21T12:07:51.334Z"
   },
   {
    "duration": 8,
    "start_time": "2023-03-21T12:08:55.761Z"
   },
   {
    "duration": 8,
    "start_time": "2023-03-21T12:08:58.222Z"
   },
   {
    "duration": 6,
    "start_time": "2023-03-21T12:09:12.430Z"
   },
   {
    "duration": 10,
    "start_time": "2023-03-21T12:09:13.518Z"
   },
   {
    "duration": 65,
    "start_time": "2023-03-21T12:11:18.106Z"
   },
   {
    "duration": 55,
    "start_time": "2023-03-21T12:11:23.385Z"
   },
   {
    "duration": 50,
    "start_time": "2023-03-21T12:11:32.129Z"
   },
   {
    "duration": 52,
    "start_time": "2023-03-21T12:12:09.697Z"
   },
   {
    "duration": 14,
    "start_time": "2023-03-21T12:12:16.719Z"
   },
   {
    "duration": 46,
    "start_time": "2023-03-21T12:12:25.040Z"
   },
   {
    "duration": 15,
    "start_time": "2023-03-21T12:12:37.684Z"
   },
   {
    "duration": 14,
    "start_time": "2023-03-21T12:12:50.832Z"
   },
   {
    "duration": 26,
    "start_time": "2023-03-21T12:12:56.586Z"
   },
   {
    "duration": 15,
    "start_time": "2023-03-21T12:12:59.738Z"
   },
   {
    "duration": 10,
    "start_time": "2023-03-21T12:13:22.807Z"
   },
   {
    "duration": 24,
    "start_time": "2023-03-21T12:13:35.824Z"
   },
   {
    "duration": 6,
    "start_time": "2023-03-21T12:13:37.455Z"
   },
   {
    "duration": 9,
    "start_time": "2023-03-21T12:13:41.029Z"
   },
   {
    "duration": 111,
    "start_time": "2023-03-21T12:13:47.159Z"
   },
   {
    "duration": 9,
    "start_time": "2023-03-21T12:16:08.319Z"
   },
   {
    "duration": 91,
    "start_time": "2023-03-21T12:16:15.403Z"
   },
   {
    "duration": 98,
    "start_time": "2023-03-21T12:17:04.029Z"
   },
   {
    "duration": 8,
    "start_time": "2023-03-21T12:20:29.131Z"
   },
   {
    "duration": 202,
    "start_time": "2023-03-21T12:26:10.205Z"
   },
   {
    "duration": 99,
    "start_time": "2023-03-21T12:26:27.830Z"
   },
   {
    "duration": 99,
    "start_time": "2023-03-21T12:27:34.045Z"
   },
   {
    "duration": 288,
    "start_time": "2023-03-21T12:27:48.917Z"
   },
   {
    "duration": 275,
    "start_time": "2023-03-21T12:27:58.404Z"
   },
   {
    "duration": 308,
    "start_time": "2023-03-21T12:28:58.604Z"
   },
   {
    "duration": 546,
    "start_time": "2023-03-21T12:29:10.530Z"
   },
   {
    "duration": 215,
    "start_time": "2023-03-21T12:32:32.103Z"
   },
   {
    "duration": 228,
    "start_time": "2023-03-21T12:32:37.683Z"
   },
   {
    "duration": 203,
    "start_time": "2023-03-21T12:32:56.202Z"
   },
   {
    "duration": 229,
    "start_time": "2023-03-21T12:33:40.377Z"
   },
   {
    "duration": 209,
    "start_time": "2023-03-21T12:33:56.910Z"
   },
   {
    "duration": 253,
    "start_time": "2023-03-21T12:34:39.519Z"
   },
   {
    "duration": 243,
    "start_time": "2023-03-21T12:34:51.980Z"
   },
   {
    "duration": 242,
    "start_time": "2023-03-21T12:35:07.910Z"
   },
   {
    "duration": 335,
    "start_time": "2023-03-21T12:35:19.143Z"
   },
   {
    "duration": 230,
    "start_time": "2023-03-21T12:36:05.734Z"
   },
   {
    "duration": 231,
    "start_time": "2023-03-21T12:36:27.486Z"
   },
   {
    "duration": 223,
    "start_time": "2023-03-21T12:37:22.105Z"
   },
   {
    "duration": 294,
    "start_time": "2023-03-21T12:38:51.832Z"
   },
   {
    "duration": 355,
    "start_time": "2023-03-21T12:39:02.170Z"
   },
   {
    "duration": 14,
    "start_time": "2023-03-21T12:39:22.870Z"
   },
   {
    "duration": 283,
    "start_time": "2023-03-21T12:39:30.447Z"
   },
   {
    "duration": 561,
    "start_time": "2023-03-21T12:39:41.646Z"
   },
   {
    "duration": 17,
    "start_time": "2023-03-21T12:39:56.062Z"
   },
   {
    "duration": 426,
    "start_time": "2023-03-21T12:40:15.004Z"
   },
   {
    "duration": 168,
    "start_time": "2023-03-21T12:45:23.765Z"
   },
   {
    "duration": 187,
    "start_time": "2023-03-21T12:47:12.680Z"
   },
   {
    "duration": 221,
    "start_time": "2023-03-21T12:49:25.613Z"
   },
   {
    "duration": 213,
    "start_time": "2023-03-21T12:49:43.419Z"
   },
   {
    "duration": 229,
    "start_time": "2023-03-21T12:50:20.827Z"
   },
   {
    "duration": 254,
    "start_time": "2023-03-21T12:50:28.292Z"
   },
   {
    "duration": 364,
    "start_time": "2023-03-21T12:50:53.020Z"
   },
   {
    "duration": 333,
    "start_time": "2023-03-21T12:51:19.616Z"
   },
   {
    "duration": 284,
    "start_time": "2023-03-21T12:51:36.624Z"
   },
   {
    "duration": 370,
    "start_time": "2023-03-21T12:51:49.793Z"
   },
   {
    "duration": 293,
    "start_time": "2023-03-21T12:52:22.919Z"
   },
   {
    "duration": 533,
    "start_time": "2023-03-21T12:52:56.379Z"
   },
   {
    "duration": 28,
    "start_time": "2023-03-21T12:55:50.385Z"
   },
   {
    "duration": 156,
    "start_time": "2023-03-21T12:56:03.579Z"
   },
   {
    "duration": 24,
    "start_time": "2023-03-21T12:56:06.657Z"
   },
   {
    "duration": 25,
    "start_time": "2023-03-21T12:56:08.682Z"
   },
   {
    "duration": 336,
    "start_time": "2023-03-21T12:56:14.440Z"
   },
   {
    "duration": 14,
    "start_time": "2023-03-21T12:59:18.954Z"
   },
   {
    "duration": 16,
    "start_time": "2023-03-21T12:59:37.628Z"
   },
   {
    "duration": 464,
    "start_time": "2023-03-21T12:59:40.337Z"
   },
   {
    "duration": 275,
    "start_time": "2023-03-21T13:01:58.183Z"
   },
   {
    "duration": 340,
    "start_time": "2023-03-21T13:02:03.239Z"
   },
   {
    "duration": 295,
    "start_time": "2023-03-21T13:02:52.061Z"
   },
   {
    "duration": 34,
    "start_time": "2023-03-21T13:03:31.081Z"
   },
   {
    "duration": 158,
    "start_time": "2023-03-21T14:00:59.786Z"
   },
   {
    "duration": 138,
    "start_time": "2023-03-21T14:01:22.127Z"
   },
   {
    "duration": 743,
    "start_time": "2023-03-21T14:01:35.439Z"
   },
   {
    "duration": 35,
    "start_time": "2023-03-21T14:03:00.103Z"
   },
   {
    "duration": 20,
    "start_time": "2023-03-21T14:03:53.231Z"
   },
   {
    "duration": 27,
    "start_time": "2023-03-21T14:03:55.143Z"
   },
   {
    "duration": 21,
    "start_time": "2023-03-21T14:04:09.991Z"
   },
   {
    "duration": 21,
    "start_time": "2023-03-21T14:04:28.238Z"
   },
   {
    "duration": 24,
    "start_time": "2023-03-21T14:05:37.682Z"
   },
   {
    "duration": 21,
    "start_time": "2023-03-21T14:05:44.496Z"
   },
   {
    "duration": 24,
    "start_time": "2023-03-21T14:05:52.107Z"
   },
   {
    "duration": 11,
    "start_time": "2023-03-21T14:06:25.244Z"
   },
   {
    "duration": 18,
    "start_time": "2023-03-21T14:06:55.747Z"
   },
   {
    "duration": 19,
    "start_time": "2023-03-21T14:07:05.847Z"
   },
   {
    "duration": 15,
    "start_time": "2023-03-21T14:07:22.216Z"
   },
   {
    "duration": 325,
    "start_time": "2023-03-21T14:07:30.543Z"
   },
   {
    "duration": 324,
    "start_time": "2023-03-21T14:07:46.360Z"
   },
   {
    "duration": 341,
    "start_time": "2023-03-21T14:08:56.965Z"
   },
   {
    "duration": 329,
    "start_time": "2023-03-21T14:09:07.034Z"
   },
   {
    "duration": 351,
    "start_time": "2023-03-21T14:12:37.477Z"
   },
   {
    "duration": 326,
    "start_time": "2023-03-21T14:13:03.534Z"
   },
   {
    "duration": 474,
    "start_time": "2023-03-21T14:16:21.631Z"
   },
   {
    "duration": 313,
    "start_time": "2023-03-21T14:16:27.572Z"
   },
   {
    "duration": 313,
    "start_time": "2023-03-21T14:16:34.222Z"
   },
   {
    "duration": 315,
    "start_time": "2023-03-21T14:16:57.656Z"
   },
   {
    "duration": 27,
    "start_time": "2023-03-21T14:18:32.884Z"
   },
   {
    "duration": 9,
    "start_time": "2023-03-21T14:19:27.036Z"
   },
   {
    "duration": 21,
    "start_time": "2023-03-21T14:20:41.835Z"
   },
   {
    "duration": 6,
    "start_time": "2023-03-21T14:21:06.335Z"
   },
   {
    "duration": 1093,
    "start_time": "2023-03-21T14:21:34.070Z"
   },
   {
    "duration": 10,
    "start_time": "2023-03-21T14:21:38.451Z"
   },
   {
    "duration": 27,
    "start_time": "2023-03-21T14:21:50.795Z"
   },
   {
    "duration": 35,
    "start_time": "2023-03-21T14:22:35.683Z"
   },
   {
    "duration": 5,
    "start_time": "2023-03-21T14:28:31.492Z"
   },
   {
    "duration": 24,
    "start_time": "2023-03-21T14:29:07.459Z"
   },
   {
    "duration": 22,
    "start_time": "2023-03-21T14:29:25.236Z"
   },
   {
    "duration": 5,
    "start_time": "2023-03-21T14:30:08.794Z"
   },
   {
    "duration": 24,
    "start_time": "2023-03-21T14:30:13.325Z"
   },
   {
    "duration": 23,
    "start_time": "2023-03-21T14:30:40.951Z"
   },
   {
    "duration": 25,
    "start_time": "2023-03-21T14:30:45.353Z"
   },
   {
    "duration": 23,
    "start_time": "2023-03-21T14:31:04.529Z"
   },
   {
    "duration": 21,
    "start_time": "2023-03-21T14:34:18.279Z"
   },
   {
    "duration": 11,
    "start_time": "2023-03-21T14:40:55.683Z"
   },
   {
    "duration": 15,
    "start_time": "2023-03-21T14:41:40.651Z"
   },
   {
    "duration": 12,
    "start_time": "2023-03-21T15:32:04.423Z"
   },
   {
    "duration": 5,
    "start_time": "2023-03-21T15:32:22.321Z"
   },
   {
    "duration": 8,
    "start_time": "2023-03-21T15:33:19.252Z"
   },
   {
    "duration": 10,
    "start_time": "2023-03-21T15:45:56.772Z"
   },
   {
    "duration": 15,
    "start_time": "2023-03-21T15:46:37.981Z"
   },
   {
    "duration": 7,
    "start_time": "2023-03-21T15:46:47.618Z"
   },
   {
    "duration": 13,
    "start_time": "2023-03-21T15:47:53.146Z"
   },
   {
    "duration": 38,
    "start_time": "2023-03-21T15:47:58.032Z"
   },
   {
    "duration": 920,
    "start_time": "2023-03-21T15:49:03.617Z"
   },
   {
    "duration": 59,
    "start_time": "2023-03-21T15:49:10.682Z"
   },
   {
    "duration": 49,
    "start_time": "2023-03-21T15:52:32.578Z"
   },
   {
    "duration": 44,
    "start_time": "2023-03-21T15:52:37.250Z"
   },
   {
    "duration": 13,
    "start_time": "2023-03-21T15:56:03.339Z"
   },
   {
    "duration": 42,
    "start_time": "2023-03-21T15:57:30.718Z"
   },
   {
    "duration": 2,
    "start_time": "2023-03-21T16:39:41.620Z"
   },
   {
    "duration": 6,
    "start_time": "2023-03-21T16:39:41.624Z"
   },
   {
    "duration": 197,
    "start_time": "2023-03-21T16:39:41.632Z"
   },
   {
    "duration": 22,
    "start_time": "2023-03-21T16:39:41.832Z"
   },
   {
    "duration": 22,
    "start_time": "2023-03-21T16:39:41.857Z"
   },
   {
    "duration": 9,
    "start_time": "2023-03-21T16:39:41.881Z"
   },
   {
    "duration": 17,
    "start_time": "2023-03-21T16:39:41.901Z"
   },
   {
    "duration": 13,
    "start_time": "2023-03-21T16:39:41.922Z"
   },
   {
    "duration": 22,
    "start_time": "2023-03-21T16:39:41.937Z"
   },
   {
    "duration": 7,
    "start_time": "2023-03-21T16:39:41.961Z"
   },
   {
    "duration": 14,
    "start_time": "2023-03-21T16:39:41.969Z"
   },
   {
    "duration": 15,
    "start_time": "2023-03-21T16:39:41.984Z"
   },
   {
    "duration": 16,
    "start_time": "2023-03-21T16:39:42.003Z"
   },
   {
    "duration": 14,
    "start_time": "2023-03-21T16:39:42.022Z"
   },
   {
    "duration": 103,
    "start_time": "2023-03-21T16:39:42.038Z"
   },
   {
    "duration": 5,
    "start_time": "2023-03-21T16:39:42.142Z"
   },
   {
    "duration": 17,
    "start_time": "2023-03-21T16:39:42.149Z"
   },
   {
    "duration": 45,
    "start_time": "2023-03-21T16:39:42.167Z"
   },
   {
    "duration": 13,
    "start_time": "2023-03-21T16:39:42.213Z"
   },
   {
    "duration": 8,
    "start_time": "2023-03-21T16:39:42.228Z"
   },
   {
    "duration": 12,
    "start_time": "2023-03-21T16:39:42.238Z"
   },
   {
    "duration": 5,
    "start_time": "2023-03-21T16:39:42.252Z"
   },
   {
    "duration": 314,
    "start_time": "2023-03-21T16:39:42.259Z"
   },
   {
    "duration": 33,
    "start_time": "2023-03-21T16:39:42.575Z"
   },
   {
    "duration": 11,
    "start_time": "2023-03-21T16:39:42.611Z"
   },
   {
    "duration": 9,
    "start_time": "2023-03-21T16:39:42.624Z"
   },
   {
    "duration": 26,
    "start_time": "2023-03-21T16:39:42.635Z"
   },
   {
    "duration": 1855,
    "start_time": "2023-03-21T16:39:42.663Z"
   },
   {
    "duration": 223,
    "start_time": "2023-03-21T16:39:44.522Z"
   },
   {
    "duration": 13,
    "start_time": "2023-03-21T16:39:44.747Z"
   },
   {
    "duration": 275,
    "start_time": "2023-03-21T16:39:44.762Z"
   },
   {
    "duration": 295,
    "start_time": "2023-03-21T16:39:45.039Z"
   },
   {
    "duration": 16,
    "start_time": "2023-03-21T16:39:45.335Z"
   },
   {
    "duration": 8,
    "start_time": "2023-03-21T16:39:45.353Z"
   },
   {
    "duration": 1248,
    "start_time": "2023-03-21T16:39:45.363Z"
   },
   {
    "duration": 3,
    "start_time": "2023-03-21T16:39:46.613Z"
   },
   {
    "duration": 21,
    "start_time": "2023-03-21T16:39:46.623Z"
   },
   {
    "duration": 22,
    "start_time": "2023-03-21T16:39:46.646Z"
   },
   {
    "duration": 286,
    "start_time": "2023-03-21T16:39:46.670Z"
   },
   {
    "duration": 276,
    "start_time": "2023-03-21T16:39:46.958Z"
   },
   {
    "duration": 23,
    "start_time": "2023-03-21T16:39:47.236Z"
   },
   {
    "duration": 34,
    "start_time": "2023-03-21T16:39:47.260Z"
   },
   {
    "duration": 17,
    "start_time": "2023-03-21T16:39:47.302Z"
   },
   {
    "duration": 327,
    "start_time": "2023-03-21T16:39:47.324Z"
   },
   {
    "duration": 19,
    "start_time": "2023-03-21T16:39:47.653Z"
   },
   {
    "duration": 18,
    "start_time": "2023-03-21T16:39:47.688Z"
   },
   {
    "duration": 292,
    "start_time": "2023-03-21T16:39:47.708Z"
   },
   {
    "duration": 22,
    "start_time": "2023-03-21T16:39:48.001Z"
   },
   {
    "duration": 8,
    "start_time": "2023-03-21T16:39:48.025Z"
   },
   {
    "duration": 7,
    "start_time": "2023-03-21T16:39:48.035Z"
   },
   {
    "duration": 18,
    "start_time": "2023-03-21T16:39:48.043Z"
   },
   {
    "duration": 29,
    "start_time": "2023-03-21T16:39:48.063Z"
   },
   {
    "duration": 49,
    "start_time": "2023-03-21T16:39:48.093Z"
   },
   {
    "duration": 16,
    "start_time": "2023-03-21T16:39:48.144Z"
   },
   {
    "duration": 59,
    "start_time": "2023-03-21T16:39:48.162Z"
   },
   {
    "duration": 16,
    "start_time": "2023-03-21T16:47:14.851Z"
   },
   {
    "duration": 339,
    "start_time": "2023-03-21T16:47:14.869Z"
   },
   {
    "duration": 350,
    "start_time": "2023-03-21T16:47:15.214Z"
   },
   {
    "duration": 25,
    "start_time": "2023-03-21T16:47:15.567Z"
   },
   {
    "duration": 15,
    "start_time": "2023-03-21T16:47:15.600Z"
   },
   {
    "duration": 32,
    "start_time": "2023-03-21T16:47:15.616Z"
   },
   {
    "duration": 5,
    "start_time": "2023-03-21T16:47:15.660Z"
   },
   {
    "duration": 19,
    "start_time": "2023-03-21T16:47:15.667Z"
   },
   {
    "duration": 19,
    "start_time": "2023-03-21T16:47:15.694Z"
   },
   {
    "duration": 345,
    "start_time": "2023-03-21T16:47:15.724Z"
   },
   {
    "duration": 495,
    "start_time": "2023-03-21T16:47:16.071Z"
   },
   {
    "duration": 52,
    "start_time": "2023-03-21T16:47:16.568Z"
   },
   {
    "duration": 18,
    "start_time": "2023-03-21T16:47:16.623Z"
   },
   {
    "duration": 9,
    "start_time": "2023-03-21T16:47:16.643Z"
   },
   {
    "duration": 369,
    "start_time": "2023-03-21T16:47:16.653Z"
   },
   {
    "duration": 28,
    "start_time": "2023-03-21T16:47:17.027Z"
   },
   {
    "duration": 13,
    "start_time": "2023-03-21T16:47:17.056Z"
   },
   {
    "duration": 395,
    "start_time": "2023-03-21T16:47:17.071Z"
   },
   {
    "duration": 42,
    "start_time": "2023-03-21T16:47:17.468Z"
   },
   {
    "duration": 16,
    "start_time": "2023-03-21T16:47:17.516Z"
   },
   {
    "duration": 21,
    "start_time": "2023-03-21T16:47:17.538Z"
   },
   {
    "duration": 19,
    "start_time": "2023-03-21T16:47:17.561Z"
   },
   {
    "duration": 23,
    "start_time": "2023-03-21T16:47:17.582Z"
   },
   {
    "duration": 70,
    "start_time": "2023-03-21T16:47:17.606Z"
   },
   {
    "duration": 15,
    "start_time": "2023-03-21T16:47:17.678Z"
   },
   {
    "duration": 65,
    "start_time": "2023-03-21T16:47:17.695Z"
   },
   {
    "duration": 3,
    "start_time": "2023-03-21T16:48:31.365Z"
   },
   {
    "duration": 43,
    "start_time": "2023-03-21T16:48:31.370Z"
   },
   {
    "duration": 119,
    "start_time": "2023-03-21T16:48:31.415Z"
   },
   {
    "duration": 17,
    "start_time": "2023-03-21T16:48:31.536Z"
   },
   {
    "duration": 67,
    "start_time": "2023-03-21T16:48:31.555Z"
   },
   {
    "duration": 6,
    "start_time": "2023-03-21T16:48:31.624Z"
   },
   {
    "duration": 35,
    "start_time": "2023-03-21T16:48:31.631Z"
   },
   {
    "duration": 85,
    "start_time": "2023-03-21T16:48:31.668Z"
   },
   {
    "duration": 29,
    "start_time": "2023-03-21T16:48:31.754Z"
   },
   {
    "duration": 18,
    "start_time": "2023-03-21T16:48:31.785Z"
   },
   {
    "duration": 29,
    "start_time": "2023-03-21T16:48:31.805Z"
   },
   {
    "duration": 11,
    "start_time": "2023-03-21T16:48:31.840Z"
   },
   {
    "duration": 21,
    "start_time": "2023-03-21T16:48:31.853Z"
   },
   {
    "duration": 38,
    "start_time": "2023-03-21T16:48:31.876Z"
   },
   {
    "duration": 142,
    "start_time": "2023-03-21T16:48:31.916Z"
   },
   {
    "duration": 8,
    "start_time": "2023-03-21T16:48:32.060Z"
   },
   {
    "duration": 25,
    "start_time": "2023-03-21T16:48:32.069Z"
   },
   {
    "duration": 22,
    "start_time": "2023-03-21T16:48:32.098Z"
   },
   {
    "duration": 17,
    "start_time": "2023-03-21T16:48:32.122Z"
   },
   {
    "duration": 18,
    "start_time": "2023-03-21T16:48:32.144Z"
   },
   {
    "duration": 16,
    "start_time": "2023-03-21T16:48:32.165Z"
   },
   {
    "duration": 24,
    "start_time": "2023-03-21T16:48:32.183Z"
   },
   {
    "duration": 370,
    "start_time": "2023-03-21T16:48:32.210Z"
   },
   {
    "duration": 29,
    "start_time": "2023-03-21T16:48:32.583Z"
   },
   {
    "duration": 14,
    "start_time": "2023-03-21T16:48:32.617Z"
   },
   {
    "duration": 10,
    "start_time": "2023-03-21T16:48:32.636Z"
   },
   {
    "duration": 26,
    "start_time": "2023-03-21T16:48:32.650Z"
   },
   {
    "duration": 2328,
    "start_time": "2023-03-21T16:48:32.678Z"
   },
   {
    "duration": 326,
    "start_time": "2023-03-21T16:48:35.008Z"
   },
   {
    "duration": 18,
    "start_time": "2023-03-21T16:48:35.342Z"
   },
   {
    "duration": 304,
    "start_time": "2023-03-21T16:48:35.363Z"
   },
   {
    "duration": 311,
    "start_time": "2023-03-21T16:48:35.669Z"
   },
   {
    "duration": 27,
    "start_time": "2023-03-21T16:48:35.982Z"
   },
   {
    "duration": 2,
    "start_time": "2023-03-21T16:48:36.010Z"
   },
   {
    "duration": 1628,
    "start_time": "2023-03-21T16:48:36.014Z"
   },
   {
    "duration": 2,
    "start_time": "2023-03-21T16:48:37.644Z"
   },
   {
    "duration": 7,
    "start_time": "2023-03-21T16:48:37.650Z"
   },
   {
    "duration": 7,
    "start_time": "2023-03-21T16:48:37.658Z"
   },
   {
    "duration": 326,
    "start_time": "2023-03-21T16:48:37.666Z"
   },
   {
    "duration": 413,
    "start_time": "2023-03-21T16:48:37.994Z"
   },
   {
    "duration": 84,
    "start_time": "2023-03-21T16:48:38.415Z"
   },
   {
    "duration": 22,
    "start_time": "2023-03-21T16:48:38.509Z"
   },
   {
    "duration": 22,
    "start_time": "2023-03-21T16:48:38.534Z"
   },
   {
    "duration": 1413,
    "start_time": "2023-03-21T16:48:38.559Z"
   },
   {
    "duration": 39,
    "start_time": "2023-03-21T16:48:39.997Z"
   },
   {
    "duration": 53,
    "start_time": "2023-03-21T16:48:40.038Z"
   },
   {
    "duration": 819,
    "start_time": "2023-03-21T16:48:40.094Z"
   },
   {
    "duration": 26,
    "start_time": "2023-03-21T16:48:40.915Z"
   },
   {
    "duration": 69,
    "start_time": "2023-03-21T16:48:40.942Z"
   },
   {
    "duration": 5,
    "start_time": "2023-03-21T16:48:41.017Z"
   },
   {
    "duration": 30,
    "start_time": "2023-03-21T16:48:41.023Z"
   },
   {
    "duration": 27,
    "start_time": "2023-03-21T16:48:41.055Z"
   },
   {
    "duration": 69,
    "start_time": "2023-03-21T16:48:41.084Z"
   },
   {
    "duration": 31,
    "start_time": "2023-03-21T16:48:41.154Z"
   },
   {
    "duration": 67,
    "start_time": "2023-03-21T16:48:41.187Z"
   },
   {
    "duration": 239,
    "start_time": "2023-03-21T17:06:44.325Z"
   },
   {
    "duration": 100,
    "start_time": "2023-03-21T17:07:49.540Z"
   },
   {
    "duration": 1273,
    "start_time": "2023-03-21T17:08:00.712Z"
   },
   {
    "duration": 6,
    "start_time": "2023-03-21T17:08:11.732Z"
   },
   {
    "duration": 10,
    "start_time": "2023-03-21T17:08:11.741Z"
   },
   {
    "duration": 122,
    "start_time": "2023-03-21T17:08:11.753Z"
   },
   {
    "duration": 18,
    "start_time": "2023-03-21T17:08:11.877Z"
   },
   {
    "duration": 34,
    "start_time": "2023-03-21T17:08:11.897Z"
   },
   {
    "duration": 7,
    "start_time": "2023-03-21T17:08:11.933Z"
   },
   {
    "duration": 21,
    "start_time": "2023-03-21T17:08:11.941Z"
   },
   {
    "duration": 19,
    "start_time": "2023-03-21T17:08:11.964Z"
   },
   {
    "duration": 46,
    "start_time": "2023-03-21T17:08:11.985Z"
   },
   {
    "duration": 15,
    "start_time": "2023-03-21T17:08:12.033Z"
   },
   {
    "duration": 18,
    "start_time": "2023-03-21T17:08:12.061Z"
   },
   {
    "duration": 27,
    "start_time": "2023-03-21T17:08:12.081Z"
   },
   {
    "duration": 29,
    "start_time": "2023-03-21T17:08:12.109Z"
   },
   {
    "duration": 24,
    "start_time": "2023-03-21T17:08:12.143Z"
   },
   {
    "duration": 107,
    "start_time": "2023-03-21T17:08:12.170Z"
   },
   {
    "duration": 6,
    "start_time": "2023-03-21T17:08:12.279Z"
   },
   {
    "duration": 22,
    "start_time": "2023-03-21T17:08:12.288Z"
   },
   {
    "duration": 22,
    "start_time": "2023-03-21T17:08:12.311Z"
   },
   {
    "duration": 12,
    "start_time": "2023-03-21T17:08:12.335Z"
   },
   {
    "duration": 9,
    "start_time": "2023-03-21T17:08:12.355Z"
   },
   {
    "duration": 42,
    "start_time": "2023-03-21T17:08:12.366Z"
   },
   {
    "duration": 21,
    "start_time": "2023-03-21T17:08:12.410Z"
   },
   {
    "duration": 416,
    "start_time": "2023-03-21T17:08:12.433Z"
   },
   {
    "duration": 20,
    "start_time": "2023-03-21T17:08:12.853Z"
   },
   {
    "duration": 7,
    "start_time": "2023-03-21T17:08:12.875Z"
   },
   {
    "duration": 26,
    "start_time": "2023-03-21T17:08:12.884Z"
   },
   {
    "duration": 44,
    "start_time": "2023-03-21T17:08:12.919Z"
   },
   {
    "duration": 1721,
    "start_time": "2023-03-21T17:08:12.966Z"
   },
   {
    "duration": 224,
    "start_time": "2023-03-21T17:08:14.695Z"
   },
   {
    "duration": 182,
    "start_time": "2023-03-21T17:08:14.924Z"
   },
   {
    "duration": 17,
    "start_time": "2023-03-21T17:08:15.107Z"
   },
   {
    "duration": 292,
    "start_time": "2023-03-21T17:08:15.126Z"
   },
   {
    "duration": 504,
    "start_time": "2023-03-21T17:08:15.420Z"
   },
   {
    "duration": 22,
    "start_time": "2023-03-21T17:08:15.930Z"
   },
   {
    "duration": 2,
    "start_time": "2023-03-21T17:08:15.955Z"
   },
   {
    "duration": 2578,
    "start_time": "2023-03-21T17:08:15.959Z"
   },
   {
    "duration": 3,
    "start_time": "2023-03-21T17:08:18.539Z"
   },
   {
    "duration": 7,
    "start_time": "2023-03-21T17:08:18.544Z"
   },
   {
    "duration": 12,
    "start_time": "2023-03-21T17:08:18.553Z"
   },
   {
    "duration": 377,
    "start_time": "2023-03-21T17:08:18.567Z"
   },
   {
    "duration": 334,
    "start_time": "2023-03-21T17:08:18.949Z"
   },
   {
    "duration": 35,
    "start_time": "2023-03-21T17:08:19.294Z"
   },
   {
    "duration": 17,
    "start_time": "2023-03-21T17:08:19.333Z"
   },
   {
    "duration": 9,
    "start_time": "2023-03-21T17:08:19.351Z"
   },
   {
    "duration": 784,
    "start_time": "2023-03-21T17:08:19.362Z"
   },
   {
    "duration": 37,
    "start_time": "2023-03-21T17:08:20.189Z"
   },
   {
    "duration": 18,
    "start_time": "2023-03-21T17:08:20.229Z"
   },
   {
    "duration": 862,
    "start_time": "2023-03-21T17:08:20.249Z"
   },
   {
    "duration": 77,
    "start_time": "2023-03-21T17:08:21.114Z"
   },
   {
    "duration": 16,
    "start_time": "2023-03-21T17:08:21.193Z"
   },
   {
    "duration": 6,
    "start_time": "2023-03-21T17:08:21.212Z"
   },
   {
    "duration": 28,
    "start_time": "2023-03-21T17:08:21.220Z"
   },
   {
    "duration": 64,
    "start_time": "2023-03-21T17:08:21.251Z"
   },
   {
    "duration": 83,
    "start_time": "2023-03-21T17:08:21.317Z"
   },
   {
    "duration": 15,
    "start_time": "2023-03-21T17:08:21.402Z"
   },
   {
    "duration": 92,
    "start_time": "2023-03-21T17:08:21.419Z"
   },
   {
    "duration": 518,
    "start_time": "2023-03-21T17:35:05.825Z"
   },
   {
    "duration": 2,
    "start_time": "2023-03-21T17:39:24.649Z"
   },
   {
    "duration": 7,
    "start_time": "2023-03-21T17:39:24.653Z"
   },
   {
    "duration": 90,
    "start_time": "2023-03-21T17:39:24.662Z"
   },
   {
    "duration": 14,
    "start_time": "2023-03-21T17:39:24.753Z"
   },
   {
    "duration": 49,
    "start_time": "2023-03-21T17:39:24.768Z"
   },
   {
    "duration": 9,
    "start_time": "2023-03-21T17:39:24.826Z"
   },
   {
    "duration": 6,
    "start_time": "2023-03-21T17:39:24.838Z"
   },
   {
    "duration": 22,
    "start_time": "2023-03-21T17:39:24.845Z"
   },
   {
    "duration": 31,
    "start_time": "2023-03-21T17:39:24.869Z"
   },
   {
    "duration": 18,
    "start_time": "2023-03-21T17:39:24.910Z"
   },
   {
    "duration": 17,
    "start_time": "2023-03-21T17:39:24.931Z"
   },
   {
    "duration": 7,
    "start_time": "2023-03-21T17:39:24.950Z"
   },
   {
    "duration": 12,
    "start_time": "2023-03-21T17:39:24.959Z"
   },
   {
    "duration": 14,
    "start_time": "2023-03-21T17:39:24.973Z"
   },
   {
    "duration": 100,
    "start_time": "2023-03-21T17:39:24.989Z"
   },
   {
    "duration": 7,
    "start_time": "2023-03-21T17:39:25.091Z"
   },
   {
    "duration": 44,
    "start_time": "2023-03-21T17:39:25.099Z"
   },
   {
    "duration": 18,
    "start_time": "2023-03-21T17:39:25.144Z"
   },
   {
    "duration": 13,
    "start_time": "2023-03-21T17:39:25.164Z"
   },
   {
    "duration": 11,
    "start_time": "2023-03-21T17:39:25.179Z"
   },
   {
    "duration": 24,
    "start_time": "2023-03-21T17:39:25.194Z"
   },
   {
    "duration": 10,
    "start_time": "2023-03-21T17:39:25.220Z"
   },
   {
    "duration": 344,
    "start_time": "2023-03-21T17:39:25.231Z"
   },
   {
    "duration": 25,
    "start_time": "2023-03-21T17:39:25.577Z"
   },
   {
    "duration": 10,
    "start_time": "2023-03-21T17:39:25.604Z"
   },
   {
    "duration": 24,
    "start_time": "2023-03-21T17:39:25.616Z"
   },
   {
    "duration": 18,
    "start_time": "2023-03-21T17:39:25.642Z"
   },
   {
    "duration": 1546,
    "start_time": "2023-03-21T17:39:25.662Z"
   },
   {
    "duration": 18,
    "start_time": "2023-03-21T17:39:27.210Z"
   },
   {
    "duration": 284,
    "start_time": "2023-03-21T17:39:27.232Z"
   },
   {
    "duration": 289,
    "start_time": "2023-03-21T17:39:27.518Z"
   },
   {
    "duration": 25,
    "start_time": "2023-03-21T17:39:27.817Z"
   },
   {
    "duration": 3,
    "start_time": "2023-03-21T17:39:27.843Z"
   },
   {
    "duration": 2740,
    "start_time": "2023-03-21T17:39:27.848Z"
   },
   {
    "duration": 4,
    "start_time": "2023-03-21T17:39:30.590Z"
   },
   {
    "duration": 41,
    "start_time": "2023-03-21T17:39:30.595Z"
   },
   {
    "duration": 23,
    "start_time": "2023-03-21T17:39:30.639Z"
   },
   {
    "duration": 399,
    "start_time": "2023-03-21T17:39:30.668Z"
   },
   {
    "duration": 348,
    "start_time": "2023-03-21T17:39:31.070Z"
   },
   {
    "duration": 29,
    "start_time": "2023-03-21T17:39:31.423Z"
   },
   {
    "duration": 49,
    "start_time": "2023-03-21T17:39:31.454Z"
   },
   {
    "duration": 55,
    "start_time": "2023-03-21T17:39:31.509Z"
   },
   {
    "duration": 373,
    "start_time": "2023-03-21T17:39:31.566Z"
   },
   {
    "duration": 19,
    "start_time": "2023-03-21T17:39:31.941Z"
   },
   {
    "duration": 22,
    "start_time": "2023-03-21T17:39:31.962Z"
   },
   {
    "duration": 357,
    "start_time": "2023-03-21T17:39:31.986Z"
   },
   {
    "duration": 18,
    "start_time": "2023-03-21T17:39:32.344Z"
   },
   {
    "duration": 35,
    "start_time": "2023-03-21T17:39:32.364Z"
   },
   {
    "duration": 28,
    "start_time": "2023-03-21T17:39:32.401Z"
   },
   {
    "duration": 40,
    "start_time": "2023-03-21T17:39:32.430Z"
   },
   {
    "duration": 10,
    "start_time": "2023-03-21T17:39:32.471Z"
   },
   {
    "duration": 58,
    "start_time": "2023-03-21T17:39:32.482Z"
   },
   {
    "duration": 8,
    "start_time": "2023-03-21T17:39:32.542Z"
   },
   {
    "duration": 44,
    "start_time": "2023-03-21T17:39:32.552Z"
   },
   {
    "duration": 4,
    "start_time": "2023-03-22T13:29:18.312Z"
   },
   {
    "duration": 1300,
    "start_time": "2023-03-22T13:29:18.317Z"
   },
   {
    "duration": 73,
    "start_time": "2023-03-22T13:29:19.619Z"
   },
   {
    "duration": 16,
    "start_time": "2023-03-22T13:29:19.694Z"
   },
   {
    "duration": 20,
    "start_time": "2023-03-22T13:29:19.713Z"
   },
   {
    "duration": 7,
    "start_time": "2023-03-22T13:29:19.742Z"
   },
   {
    "duration": 7,
    "start_time": "2023-03-22T13:29:19.754Z"
   },
   {
    "duration": 18,
    "start_time": "2023-03-22T13:29:19.762Z"
   },
   {
    "duration": 20,
    "start_time": "2023-03-22T13:29:19.781Z"
   },
   {
    "duration": 8,
    "start_time": "2023-03-22T13:29:19.802Z"
   },
   {
    "duration": 50,
    "start_time": "2023-03-22T13:29:19.811Z"
   },
   {
    "duration": 19,
    "start_time": "2023-03-22T13:29:19.863Z"
   },
   {
    "duration": 20,
    "start_time": "2023-03-22T13:29:19.885Z"
   },
   {
    "duration": 25,
    "start_time": "2023-03-22T13:29:19.906Z"
   },
   {
    "duration": 86,
    "start_time": "2023-03-22T13:29:19.933Z"
   },
   {
    "duration": 21,
    "start_time": "2023-03-22T13:29:20.020Z"
   },
   {
    "duration": 26,
    "start_time": "2023-03-22T13:29:20.043Z"
   },
   {
    "duration": 15,
    "start_time": "2023-03-22T13:29:20.070Z"
   },
   {
    "duration": 10,
    "start_time": "2023-03-22T13:29:20.087Z"
   },
   {
    "duration": 10,
    "start_time": "2023-03-22T13:29:20.099Z"
   },
   {
    "duration": 40,
    "start_time": "2023-03-22T13:29:20.110Z"
   },
   {
    "duration": 9,
    "start_time": "2023-03-22T13:29:20.153Z"
   },
   {
    "duration": 329,
    "start_time": "2023-03-22T13:29:20.164Z"
   },
   {
    "duration": 13,
    "start_time": "2023-03-22T13:29:20.494Z"
   },
   {
    "duration": 4,
    "start_time": "2023-03-22T13:29:20.509Z"
   },
   {
    "duration": 26,
    "start_time": "2023-03-22T13:29:20.515Z"
   },
   {
    "duration": 27,
    "start_time": "2023-03-22T13:29:20.543Z"
   },
   {
    "duration": 1498,
    "start_time": "2023-03-22T13:29:20.571Z"
   },
   {
    "duration": 12,
    "start_time": "2023-03-22T13:29:22.072Z"
   },
   {
    "duration": 334,
    "start_time": "2023-03-22T13:29:22.086Z"
   },
   {
    "duration": 272,
    "start_time": "2023-03-22T13:29:22.422Z"
   },
   {
    "duration": 16,
    "start_time": "2023-03-22T13:29:22.696Z"
   },
   {
    "duration": 2,
    "start_time": "2023-03-22T13:29:22.714Z"
   },
   {
    "duration": 2290,
    "start_time": "2023-03-22T13:29:22.744Z"
   },
   {
    "duration": 8,
    "start_time": "2023-03-22T13:29:25.036Z"
   },
   {
    "duration": 6,
    "start_time": "2023-03-22T13:29:25.045Z"
   },
   {
    "duration": 2,
    "start_time": "2023-03-22T13:29:25.059Z"
   },
   {
    "duration": 420,
    "start_time": "2023-03-22T13:29:25.063Z"
   },
   {
    "duration": 292,
    "start_time": "2023-03-22T13:29:25.485Z"
   },
   {
    "duration": 23,
    "start_time": "2023-03-22T13:29:25.778Z"
   },
   {
    "duration": 14,
    "start_time": "2023-03-22T13:29:25.803Z"
   },
   {
    "duration": 31,
    "start_time": "2023-03-22T13:29:25.819Z"
   },
   {
    "duration": 339,
    "start_time": "2023-03-22T13:29:25.852Z"
   },
   {
    "duration": 20,
    "start_time": "2023-03-22T13:29:26.193Z"
   },
   {
    "duration": 31,
    "start_time": "2023-03-22T13:29:26.215Z"
   },
   {
    "duration": 317,
    "start_time": "2023-03-22T13:29:26.249Z"
   },
   {
    "duration": 18,
    "start_time": "2023-03-22T13:29:26.568Z"
   },
   {
    "duration": 8,
    "start_time": "2023-03-22T13:29:26.589Z"
   },
   {
    "duration": 5,
    "start_time": "2023-03-22T13:29:26.599Z"
   },
   {
    "duration": 56,
    "start_time": "2023-03-22T13:29:26.605Z"
   },
   {
    "duration": 9,
    "start_time": "2023-03-22T13:29:26.663Z"
   },
   {
    "duration": 38,
    "start_time": "2023-03-22T13:29:26.673Z"
   },
   {
    "duration": 29,
    "start_time": "2023-03-22T13:29:26.712Z"
   },
   {
    "duration": 42,
    "start_time": "2023-03-22T13:29:26.743Z"
   },
   {
    "duration": 11,
    "start_time": "2023-03-22T14:18:07.585Z"
   },
   {
    "duration": 15,
    "start_time": "2023-03-22T14:18:18.959Z"
   },
   {
    "duration": 14,
    "start_time": "2023-03-22T14:18:23.035Z"
   },
   {
    "duration": 11,
    "start_time": "2023-03-22T14:18:37.719Z"
   },
   {
    "duration": 12,
    "start_time": "2023-03-22T14:18:51.225Z"
   },
   {
    "duration": 3,
    "start_time": "2023-03-22T14:19:02.834Z"
   },
   {
    "duration": 1275,
    "start_time": "2023-03-22T14:19:02.839Z"
   },
   {
    "duration": 75,
    "start_time": "2023-03-22T14:19:04.116Z"
   },
   {
    "duration": 14,
    "start_time": "2023-03-22T14:19:04.192Z"
   },
   {
    "duration": 33,
    "start_time": "2023-03-22T14:19:04.208Z"
   },
   {
    "duration": 5,
    "start_time": "2023-03-22T14:19:04.243Z"
   },
   {
    "duration": 10,
    "start_time": "2023-03-22T14:19:04.250Z"
   },
   {
    "duration": 18,
    "start_time": "2023-03-22T14:19:04.264Z"
   },
   {
    "duration": 20,
    "start_time": "2023-03-22T14:19:04.283Z"
   },
   {
    "duration": 7,
    "start_time": "2023-03-22T14:19:04.304Z"
   },
   {
    "duration": 21,
    "start_time": "2023-03-22T14:19:04.341Z"
   },
   {
    "duration": 15,
    "start_time": "2023-03-22T14:19:04.363Z"
   },
   {
    "duration": 13,
    "start_time": "2023-03-22T14:19:04.380Z"
   },
   {
    "duration": 15,
    "start_time": "2023-03-22T14:19:04.396Z"
   },
   {
    "duration": 96,
    "start_time": "2023-03-22T14:19:04.412Z"
   },
   {
    "duration": 6,
    "start_time": "2023-03-22T14:19:04.509Z"
   },
   {
    "duration": 40,
    "start_time": "2023-03-22T14:19:04.517Z"
   },
   {
    "duration": 14,
    "start_time": "2023-03-22T14:19:04.559Z"
   },
   {
    "duration": 10,
    "start_time": "2023-03-22T14:19:04.575Z"
   },
   {
    "duration": 10,
    "start_time": "2023-03-22T14:19:04.587Z"
   },
   {
    "duration": 43,
    "start_time": "2023-03-22T14:19:04.598Z"
   },
   {
    "duration": 14,
    "start_time": "2023-03-22T14:19:04.643Z"
   },
   {
    "duration": 342,
    "start_time": "2023-03-22T14:19:04.658Z"
   },
   {
    "duration": 21,
    "start_time": "2023-03-22T14:19:05.002Z"
   },
   {
    "duration": 10,
    "start_time": "2023-03-22T14:19:05.040Z"
   },
   {
    "duration": 220,
    "start_time": "2023-03-22T14:19:05.051Z"
   },
   {
    "duration": 17,
    "start_time": "2023-03-22T14:19:05.273Z"
   },
   {
    "duration": 2643,
    "start_time": "2023-03-22T14:19:05.292Z"
   },
   {
    "duration": 17,
    "start_time": "2023-03-22T14:19:07.944Z"
   },
   {
    "duration": 332,
    "start_time": "2023-03-22T14:19:07.962Z"
   },
   {
    "duration": 277,
    "start_time": "2023-03-22T14:19:08.295Z"
   },
   {
    "duration": 16,
    "start_time": "2023-03-22T14:19:08.573Z"
   },
   {
    "duration": 4,
    "start_time": "2023-03-22T14:19:08.591Z"
   },
   {
    "duration": 2327,
    "start_time": "2023-03-22T14:19:08.597Z"
   },
   {
    "duration": 3,
    "start_time": "2023-03-22T14:19:10.925Z"
   },
   {
    "duration": 12,
    "start_time": "2023-03-22T14:19:10.929Z"
   },
   {
    "duration": 5,
    "start_time": "2023-03-22T14:19:10.943Z"
   },
   {
    "duration": 408,
    "start_time": "2023-03-22T14:19:10.949Z"
   },
   {
    "duration": 297,
    "start_time": "2023-03-22T14:19:11.358Z"
   },
   {
    "duration": 24,
    "start_time": "2023-03-22T14:19:11.657Z"
   },
   {
    "duration": 13,
    "start_time": "2023-03-22T14:19:11.685Z"
   },
   {
    "duration": 8,
    "start_time": "2023-03-22T14:19:11.699Z"
   },
   {
    "duration": 451,
    "start_time": "2023-03-22T14:19:11.709Z"
   },
   {
    "duration": 19,
    "start_time": "2023-03-22T14:19:12.161Z"
   },
   {
    "duration": 12,
    "start_time": "2023-03-22T14:19:12.181Z"
   },
   {
    "duration": 319,
    "start_time": "2023-03-22T14:19:12.247Z"
   },
   {
    "duration": 22,
    "start_time": "2023-03-22T14:19:12.568Z"
   },
   {
    "duration": 7,
    "start_time": "2023-03-22T14:19:12.592Z"
   },
   {
    "duration": 5,
    "start_time": "2023-03-22T14:19:12.601Z"
   },
   {
    "duration": 52,
    "start_time": "2023-03-22T14:19:12.607Z"
   },
   {
    "duration": 7,
    "start_time": "2023-03-22T14:19:12.661Z"
   },
   {
    "duration": 33,
    "start_time": "2023-03-22T14:19:12.670Z"
   },
   {
    "duration": 16,
    "start_time": "2023-03-22T14:19:12.704Z"
   },
   {
    "duration": 56,
    "start_time": "2023-03-22T14:19:12.722Z"
   },
   {
    "duration": 54,
    "start_time": "2023-08-31T17:04:07.532Z"
   },
   {
    "duration": 1343,
    "start_time": "2023-08-31T17:04:10.046Z"
   },
   {
    "duration": 198,
    "start_time": "2023-08-31T17:04:11.391Z"
   },
   {
    "duration": 17,
    "start_time": "2023-08-31T17:04:11.591Z"
   },
   {
    "duration": 17,
    "start_time": "2023-08-31T17:04:11.610Z"
   },
   {
    "duration": 4,
    "start_time": "2023-08-31T17:04:11.629Z"
   },
   {
    "duration": 30,
    "start_time": "2023-08-31T17:04:11.634Z"
   },
   {
    "duration": 21,
    "start_time": "2023-08-31T17:04:11.666Z"
   },
   {
    "duration": 19,
    "start_time": "2023-08-31T17:04:11.689Z"
   },
   {
    "duration": 8,
    "start_time": "2023-08-31T17:04:11.709Z"
   },
   {
    "duration": 42,
    "start_time": "2023-08-31T17:04:11.719Z"
   },
   {
    "duration": 12,
    "start_time": "2023-08-31T17:04:11.763Z"
   },
   {
    "duration": 20,
    "start_time": "2023-08-31T17:04:11.777Z"
   },
   {
    "duration": 23,
    "start_time": "2023-08-31T17:04:11.800Z"
   },
   {
    "duration": 151,
    "start_time": "2023-08-31T17:04:11.825Z"
   },
   {
    "duration": 7,
    "start_time": "2023-08-31T17:04:11.978Z"
   },
   {
    "duration": 20,
    "start_time": "2023-08-31T17:04:11.986Z"
   },
   {
    "duration": 19,
    "start_time": "2023-08-31T17:04:12.008Z"
   },
   {
    "duration": 42,
    "start_time": "2023-08-31T17:04:12.028Z"
   },
   {
    "duration": 15,
    "start_time": "2023-08-31T17:04:12.072Z"
   },
   {
    "duration": 19,
    "start_time": "2023-08-31T17:04:12.089Z"
   },
   {
    "duration": 8,
    "start_time": "2023-08-31T17:04:12.110Z"
   },
   {
    "duration": 368,
    "start_time": "2023-08-31T17:04:12.120Z"
   },
   {
    "duration": 15,
    "start_time": "2023-08-31T17:04:12.490Z"
   },
   {
    "duration": 16,
    "start_time": "2023-08-31T17:04:12.507Z"
   },
   {
    "duration": 13,
    "start_time": "2023-08-31T17:04:12.525Z"
   },
   {
    "duration": 29,
    "start_time": "2023-08-31T17:04:12.540Z"
   },
   {
    "duration": 1619,
    "start_time": "2023-08-31T17:04:12.572Z"
   },
   {
    "duration": 20,
    "start_time": "2023-08-31T17:04:14.196Z"
   },
   {
    "duration": 437,
    "start_time": "2023-08-31T17:04:14.219Z"
   },
   {
    "duration": 301,
    "start_time": "2023-08-31T17:04:14.660Z"
   },
   {
    "duration": 20,
    "start_time": "2023-08-31T17:04:14.963Z"
   },
   {
    "duration": 2,
    "start_time": "2023-08-31T17:04:14.985Z"
   },
   {
    "duration": 3520,
    "start_time": "2023-08-31T17:04:14.989Z"
   },
   {
    "duration": 3,
    "start_time": "2023-08-31T17:04:18.511Z"
   },
   {
    "duration": 11,
    "start_time": "2023-08-31T17:04:18.515Z"
   },
   {
    "duration": 11,
    "start_time": "2023-08-31T17:04:18.528Z"
   },
   {
    "duration": 411,
    "start_time": "2023-08-31T17:04:18.542Z"
   },
   {
    "duration": 290,
    "start_time": "2023-08-31T17:04:18.955Z"
   },
   {
    "duration": 34,
    "start_time": "2023-08-31T17:04:19.247Z"
   },
   {
    "duration": 15,
    "start_time": "2023-08-31T17:04:19.283Z"
   },
   {
    "duration": 15,
    "start_time": "2023-08-31T17:04:19.300Z"
   },
   {
    "duration": 389,
    "start_time": "2023-08-31T17:04:19.316Z"
   },
   {
    "duration": 29,
    "start_time": "2023-08-31T17:04:19.707Z"
   },
   {
    "duration": 18,
    "start_time": "2023-08-31T17:04:19.738Z"
   },
   {
    "duration": 322,
    "start_time": "2023-08-31T17:04:19.758Z"
   },
   {
    "duration": 24,
    "start_time": "2023-08-31T17:04:20.083Z"
   },
   {
    "duration": 9,
    "start_time": "2023-08-31T17:04:20.110Z"
   },
   {
    "duration": 8,
    "start_time": "2023-08-31T17:04:20.122Z"
   },
   {
    "duration": 47,
    "start_time": "2023-08-31T17:04:20.133Z"
   },
   {
    "duration": 9,
    "start_time": "2023-08-31T17:04:20.182Z"
   },
   {
    "duration": 75,
    "start_time": "2023-08-31T17:04:20.193Z"
   },
   {
    "duration": 14,
    "start_time": "2023-08-31T17:04:20.271Z"
   },
   {
    "duration": 44,
    "start_time": "2023-08-31T17:04:20.287Z"
   },
   {
    "duration": 66,
    "start_time": "2023-08-31T17:05:23.563Z"
   },
   {
    "duration": 6,
    "start_time": "2023-08-31T17:05:29.395Z"
   },
   {
    "duration": 6,
    "start_time": "2023-08-31T17:05:32.934Z"
   },
   {
    "duration": 21,
    "start_time": "2023-08-31T17:06:07.019Z"
   },
   {
    "duration": 10,
    "start_time": "2023-08-31T17:06:25.735Z"
   },
   {
    "duration": 43,
    "start_time": "2023-08-31T18:45:10.144Z"
   },
   {
    "duration": 3,
    "start_time": "2023-08-31T18:47:07.817Z"
   },
   {
    "duration": 88,
    "start_time": "2023-08-31T18:47:07.822Z"
   },
   {
    "duration": 14,
    "start_time": "2023-08-31T18:47:07.912Z"
   },
   {
    "duration": 20,
    "start_time": "2023-08-31T18:47:07.928Z"
   },
   {
    "duration": 20,
    "start_time": "2023-08-31T18:47:07.950Z"
   },
   {
    "duration": 9,
    "start_time": "2023-08-31T18:47:07.973Z"
   },
   {
    "duration": 18,
    "start_time": "2023-08-31T18:47:07.984Z"
   },
   {
    "duration": 25,
    "start_time": "2023-08-31T18:47:08.005Z"
   },
   {
    "duration": 10,
    "start_time": "2023-08-31T18:47:08.032Z"
   },
   {
    "duration": 15,
    "start_time": "2023-08-31T18:47:08.064Z"
   },
   {
    "duration": 18,
    "start_time": "2023-08-31T18:47:08.082Z"
   },
   {
    "duration": 108,
    "start_time": "2023-08-31T18:47:08.102Z"
   },
   {
    "duration": 19,
    "start_time": "2023-08-31T18:47:08.212Z"
   },
   {
    "duration": 48,
    "start_time": "2023-08-31T18:47:08.232Z"
   },
   {
    "duration": 12,
    "start_time": "2023-08-31T18:47:08.282Z"
   },
   {
    "duration": 12,
    "start_time": "2023-08-31T18:47:08.296Z"
   },
   {
    "duration": 16,
    "start_time": "2023-08-31T18:47:08.310Z"
   },
   {
    "duration": 191,
    "start_time": "2023-08-31T18:47:49.600Z"
   },
   {
    "duration": 230,
    "start_time": "2023-08-31T18:47:53.460Z"
   },
   {
    "duration": 215,
    "start_time": "2023-08-31T18:48:04.368Z"
   },
   {
    "duration": 8,
    "start_time": "2023-08-31T18:48:44.504Z"
   },
   {
    "duration": 21,
    "start_time": "2023-08-31T18:57:12.968Z"
   },
   {
    "duration": 18,
    "start_time": "2023-08-31T18:57:26.797Z"
   },
   {
    "duration": 102,
    "start_time": "2023-08-31T18:57:33.848Z"
   },
   {
    "duration": 123,
    "start_time": "2023-08-31T18:57:48.244Z"
   },
   {
    "duration": 31,
    "start_time": "2023-08-31T18:58:04.161Z"
   },
   {
    "duration": 4,
    "start_time": "2023-08-31T18:58:15.540Z"
   },
   {
    "duration": 79,
    "start_time": "2023-08-31T18:58:15.547Z"
   },
   {
    "duration": 18,
    "start_time": "2023-08-31T18:58:15.628Z"
   },
   {
    "duration": 33,
    "start_time": "2023-08-31T18:58:15.649Z"
   },
   {
    "duration": 6,
    "start_time": "2023-08-31T18:58:15.684Z"
   },
   {
    "duration": 15,
    "start_time": "2023-08-31T18:58:15.692Z"
   },
   {
    "duration": 25,
    "start_time": "2023-08-31T18:58:15.709Z"
   },
   {
    "duration": 42,
    "start_time": "2023-08-31T18:58:15.736Z"
   },
   {
    "duration": 9,
    "start_time": "2023-08-31T18:58:15.890Z"
   },
   {
    "duration": 16,
    "start_time": "2023-08-31T18:58:15.900Z"
   },
   {
    "duration": 15,
    "start_time": "2023-08-31T18:58:15.918Z"
   },
   {
    "duration": 108,
    "start_time": "2023-08-31T18:58:15.936Z"
   },
   {
    "duration": 29,
    "start_time": "2023-08-31T18:58:16.061Z"
   },
   {
    "duration": 22,
    "start_time": "2023-08-31T18:58:16.092Z"
   },
   {
    "duration": 20,
    "start_time": "2023-08-31T18:58:16.117Z"
   },
   {
    "duration": 14,
    "start_time": "2023-08-31T18:58:16.159Z"
   },
   {
    "duration": 16,
    "start_time": "2023-08-31T18:58:16.179Z"
   },
   {
    "duration": 7,
    "start_time": "2023-08-31T18:58:16.197Z"
   },
   {
    "duration": 345,
    "start_time": "2023-08-31T18:58:16.206Z"
   },
   {
    "duration": 22,
    "start_time": "2023-08-31T18:58:16.553Z"
   },
   {
    "duration": 31,
    "start_time": "2023-08-31T18:58:16.577Z"
   },
   {
    "duration": 23,
    "start_time": "2023-08-31T18:58:16.610Z"
   },
   {
    "duration": 30,
    "start_time": "2023-08-31T18:58:16.635Z"
   },
   {
    "duration": 1520,
    "start_time": "2023-08-31T18:58:16.669Z"
   },
   {
    "duration": 15,
    "start_time": "2023-08-31T18:58:18.190Z"
   },
   {
    "duration": 277,
    "start_time": "2023-08-31T18:58:18.207Z"
   },
   {
    "duration": 283,
    "start_time": "2023-08-31T18:58:18.486Z"
   },
   {
    "duration": 25,
    "start_time": "2023-08-31T18:58:18.771Z"
   },
   {
    "duration": 2596,
    "start_time": "2023-08-31T18:58:27.485Z"
   },
   {
    "duration": 2659,
    "start_time": "2023-08-31T19:00:13.904Z"
   },
   {
    "duration": 3011,
    "start_time": "2023-08-31T19:00:22.009Z"
   },
   {
    "duration": 1619,
    "start_time": "2023-08-31T19:11:55.311Z"
   },
   {
    "duration": 92,
    "start_time": "2023-08-31T19:11:56.933Z"
   },
   {
    "duration": 27,
    "start_time": "2023-08-31T19:11:57.028Z"
   },
   {
    "duration": 37,
    "start_time": "2023-08-31T19:11:57.057Z"
   },
   {
    "duration": 25,
    "start_time": "2023-08-31T19:11:57.103Z"
   },
   {
    "duration": 6,
    "start_time": "2023-08-31T19:11:57.135Z"
   },
   {
    "duration": 41,
    "start_time": "2023-08-31T19:11:57.143Z"
   },
   {
    "duration": 31,
    "start_time": "2023-08-31T19:11:57.187Z"
   },
   {
    "duration": 10,
    "start_time": "2023-08-31T19:11:57.224Z"
   },
   {
    "duration": 28,
    "start_time": "2023-08-31T19:11:57.237Z"
   },
   {
    "duration": 33,
    "start_time": "2023-08-31T19:11:57.270Z"
   },
   {
    "duration": 100,
    "start_time": "2023-08-31T19:11:57.306Z"
   },
   {
    "duration": 22,
    "start_time": "2023-08-31T19:11:57.408Z"
   },
   {
    "duration": 55,
    "start_time": "2023-08-31T19:11:57.434Z"
   },
   {
    "duration": 23,
    "start_time": "2023-08-31T19:11:57.492Z"
   },
   {
    "duration": 13,
    "start_time": "2023-08-31T19:11:57.520Z"
   },
   {
    "duration": 15,
    "start_time": "2023-08-31T19:11:57.535Z"
   },
   {
    "duration": 17,
    "start_time": "2023-08-31T19:11:57.572Z"
   },
   {
    "duration": 393,
    "start_time": "2023-08-31T19:11:57.599Z"
   },
   {
    "duration": 23,
    "start_time": "2023-08-31T19:11:58.003Z"
   },
   {
    "duration": 7,
    "start_time": "2023-08-31T19:11:58.029Z"
   },
   {
    "duration": 31,
    "start_time": "2023-08-31T19:11:58.039Z"
   },
   {
    "duration": 44,
    "start_time": "2023-08-31T19:11:58.072Z"
   },
   {
    "duration": 1825,
    "start_time": "2023-08-31T19:11:58.119Z"
   },
   {
    "duration": 30,
    "start_time": "2023-08-31T19:11:59.947Z"
   },
   {
    "duration": 391,
    "start_time": "2023-08-31T19:11:59.981Z"
   },
   {
    "duration": 525,
    "start_time": "2023-08-31T19:12:00.379Z"
   },
   {
    "duration": 25,
    "start_time": "2023-08-31T19:12:00.909Z"
   },
   {
    "duration": 4201,
    "start_time": "2023-08-31T19:12:00.939Z"
   },
   {
    "duration": 548,
    "start_time": "2023-08-31T19:12:05.144Z"
   },
   {
    "duration": 494,
    "start_time": "2023-08-31T19:12:05.699Z"
   },
   {
    "duration": 61,
    "start_time": "2023-08-31T19:12:06.195Z"
   },
   {
    "duration": 49,
    "start_time": "2023-08-31T19:12:06.264Z"
   },
   {
    "duration": 14,
    "start_time": "2023-08-31T19:12:06.322Z"
   },
   {
    "duration": 413,
    "start_time": "2023-08-31T19:12:06.338Z"
   },
   {
    "duration": 48,
    "start_time": "2023-08-31T19:12:06.753Z"
   },
   {
    "duration": 30,
    "start_time": "2023-08-31T19:12:06.803Z"
   },
   {
    "duration": 565,
    "start_time": "2023-08-31T19:12:06.836Z"
   },
   {
    "duration": 6,
    "start_time": "2023-08-31T19:12:07.404Z"
   },
   {
    "duration": 32,
    "start_time": "2023-08-31T19:12:07.414Z"
   },
   {
    "duration": 36,
    "start_time": "2023-08-31T19:12:07.450Z"
   },
   {
    "duration": 73,
    "start_time": "2023-08-31T19:12:07.493Z"
   },
   {
    "duration": 24,
    "start_time": "2023-08-31T19:12:07.574Z"
   },
   {
    "duration": 44,
    "start_time": "2023-08-31T19:12:07.610Z"
   }
  ],
  "colab": {
   "provenance": []
  },
  "kernelspec": {
   "display_name": "Python 3 (ipykernel)",
   "language": "python",
   "name": "python3"
  },
  "language_info": {
   "codemirror_mode": {
    "name": "ipython",
    "version": 3
   },
   "file_extension": ".py",
   "mimetype": "text/x-python",
   "name": "python",
   "nbconvert_exporter": "python",
   "pygments_lexer": "ipython3",
   "version": "3.9.5"
  },
  "toc": {
   "base_numbering": 1,
   "nav_menu": {},
   "number_sections": true,
   "sideBar": true,
   "skip_h1_title": true,
   "title_cell": "Table of Contents",
   "title_sidebar": "Contents",
   "toc_cell": false,
   "toc_position": {
    "height": "calc(100% - 180px)",
    "left": "10px",
    "top": "150px",
    "width": "293px"
   },
   "toc_section_display": true,
   "toc_window_display": true
  }
 },
 "nbformat": 4,
 "nbformat_minor": 1
}
