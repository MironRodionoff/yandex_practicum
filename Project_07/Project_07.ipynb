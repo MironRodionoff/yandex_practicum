{
 "cells": [
  {
   "cell_type": "markdown",
   "metadata": {},
   "source": [
    "# Выбор локации для скважины"
   ]
  },
  {
   "cell_type": "markdown",
   "metadata": {},
   "source": [
    "Для добывающей компании «ГлавРосГосНефть» нужно решить, где бурить новую скважину.\n",
    "\n",
    "Нам предоставлены пробы нефти в трёх регионах: в каждом 10 000 месторождений, где измерили качество нефти и объём её запасов. Построим модель машинного обучения, которая поможет определить регион, где добыча принесёт наибольшую прибыль.  \n",
    "Проанализируем возможную прибыль и риски техникой *Bootstrap.*\n",
    "\n",
    "Шаги для выбора локации:\n",
    "\n",
    "- В избранном регионе ищут месторождения, для каждого определяют значения признаков;\n",
    "- Строят модель и оценивают объём запасов;\n",
    "- Выбирают месторождения с самым высокими оценками значений. Количество месторождений зависит от бюджета компании и стоимости разработки одной скважины;\n",
    "- Прибыль равна суммарной прибыли отобранных месторождений."
   ]
  },
  {
   "cell_type": "markdown",
   "metadata": {},
   "source": [
    "## Загрузка и предобработка данных"
   ]
  },
  {
   "cell_type": "code",
   "execution_count": 1,
   "metadata": {},
   "outputs": [],
   "source": [
    "import warnings\n",
    "warnings.filterwarnings('ignore')\n",
    "\n",
    "import pandas as pd\n",
    "import matplotlib. pyplot as plt\n",
    "import numpy as np\n",
    "\n",
    "from sklearn.model_selection import (train_test_split, \n",
    "                                     GridSearchCV,\n",
    "                                     RandomizedSearchCV)\n",
    "from sklearn.linear_model import LinearRegression, Ridge\n",
    "from sklearn.metrics import mean_squared_error as mse\n",
    "from sklearn.preprocessing import StandardScaler\n",
    "from sklearn.model_selection import cross_val_score\n",
    "from sklearn.ensemble import RandomForestRegressor\n",
    "from sklearn.pipeline import Pipeline\n",
    "\n",
    "\n"
   ]
  },
  {
   "cell_type": "code",
   "execution_count": 2,
   "metadata": {},
   "outputs": [],
   "source": [
    "STATE = np.random.RandomState(123)"
   ]
  },
  {
   "cell_type": "code",
   "execution_count": 3,
   "metadata": {},
   "outputs": [],
   "source": [
    "df0 = pd.read_csv('/datasets/geo_data_0.csv')\n",
    "df1 = pd.read_csv('/datasets/geo_data_1.csv')\n",
    "df2 = pd.read_csv('/datasets/geo_data_2.csv')"
   ]
  },
  {
   "cell_type": "code",
   "execution_count": 4,
   "metadata": {},
   "outputs": [],
   "source": [
    "df_list = [df0, df1, df2]"
   ]
  },
  {
   "cell_type": "code",
   "execution_count": 5,
   "metadata": {},
   "outputs": [],
   "source": [
    "def get_info(data):\n",
    "    display(data.sample(5))\n",
    "    display(data.info())\n",
    "    display(data.describe(include='all'))\n",
    "    display(data.corr())"
   ]
  },
  {
   "cell_type": "code",
   "execution_count": 6,
   "metadata": {},
   "outputs": [
    {
     "name": "stdout",
     "output_type": "stream",
     "text": [
      "df 0\n"
     ]
    },
    {
     "data": {
      "text/html": [
       "<div>\n",
       "<style scoped>\n",
       "    .dataframe tbody tr th:only-of-type {\n",
       "        vertical-align: middle;\n",
       "    }\n",
       "\n",
       "    .dataframe tbody tr th {\n",
       "        vertical-align: top;\n",
       "    }\n",
       "\n",
       "    .dataframe thead th {\n",
       "        text-align: right;\n",
       "    }\n",
       "</style>\n",
       "<table border=\"1\" class=\"dataframe\">\n",
       "  <thead>\n",
       "    <tr style=\"text-align: right;\">\n",
       "      <th></th>\n",
       "      <th>id</th>\n",
       "      <th>f0</th>\n",
       "      <th>f1</th>\n",
       "      <th>f2</th>\n",
       "      <th>product</th>\n",
       "    </tr>\n",
       "  </thead>\n",
       "  <tbody>\n",
       "    <tr>\n",
       "      <th>23037</th>\n",
       "      <td>ryU4z</td>\n",
       "      <td>1.186625</td>\n",
       "      <td>-0.434937</td>\n",
       "      <td>3.988315</td>\n",
       "      <td>129.440182</td>\n",
       "    </tr>\n",
       "    <tr>\n",
       "      <th>12931</th>\n",
       "      <td>1aDwK</td>\n",
       "      <td>0.697142</td>\n",
       "      <td>-0.582148</td>\n",
       "      <td>4.161505</td>\n",
       "      <td>51.007396</td>\n",
       "    </tr>\n",
       "    <tr>\n",
       "      <th>40863</th>\n",
       "      <td>evvZe</td>\n",
       "      <td>0.899278</td>\n",
       "      <td>-0.491615</td>\n",
       "      <td>0.983043</td>\n",
       "      <td>151.582519</td>\n",
       "    </tr>\n",
       "    <tr>\n",
       "      <th>707</th>\n",
       "      <td>iu9Sq</td>\n",
       "      <td>1.788334</td>\n",
       "      <td>0.290992</td>\n",
       "      <td>7.615331</td>\n",
       "      <td>124.421488</td>\n",
       "    </tr>\n",
       "    <tr>\n",
       "      <th>12132</th>\n",
       "      <td>cr3z0</td>\n",
       "      <td>-0.073945</td>\n",
       "      <td>1.019798</td>\n",
       "      <td>3.755453</td>\n",
       "      <td>75.700668</td>\n",
       "    </tr>\n",
       "  </tbody>\n",
       "</table>\n",
       "</div>"
      ],
      "text/plain": [
       "          id        f0        f1        f2     product\n",
       "23037  ryU4z  1.186625 -0.434937  3.988315  129.440182\n",
       "12931  1aDwK  0.697142 -0.582148  4.161505   51.007396\n",
       "40863  evvZe  0.899278 -0.491615  0.983043  151.582519\n",
       "707    iu9Sq  1.788334  0.290992  7.615331  124.421488\n",
       "12132  cr3z0 -0.073945  1.019798  3.755453   75.700668"
      ]
     },
     "metadata": {},
     "output_type": "display_data"
    },
    {
     "name": "stdout",
     "output_type": "stream",
     "text": [
      "<class 'pandas.core.frame.DataFrame'>\n",
      "RangeIndex: 100000 entries, 0 to 99999\n",
      "Data columns (total 5 columns):\n",
      " #   Column   Non-Null Count   Dtype  \n",
      "---  ------   --------------   -----  \n",
      " 0   id       100000 non-null  object \n",
      " 1   f0       100000 non-null  float64\n",
      " 2   f1       100000 non-null  float64\n",
      " 3   f2       100000 non-null  float64\n",
      " 4   product  100000 non-null  float64\n",
      "dtypes: float64(4), object(1)\n",
      "memory usage: 3.8+ MB\n"
     ]
    },
    {
     "data": {
      "text/plain": [
       "None"
      ]
     },
     "metadata": {},
     "output_type": "display_data"
    },
    {
     "data": {
      "text/html": [
       "<div>\n",
       "<style scoped>\n",
       "    .dataframe tbody tr th:only-of-type {\n",
       "        vertical-align: middle;\n",
       "    }\n",
       "\n",
       "    .dataframe tbody tr th {\n",
       "        vertical-align: top;\n",
       "    }\n",
       "\n",
       "    .dataframe thead th {\n",
       "        text-align: right;\n",
       "    }\n",
       "</style>\n",
       "<table border=\"1\" class=\"dataframe\">\n",
       "  <thead>\n",
       "    <tr style=\"text-align: right;\">\n",
       "      <th></th>\n",
       "      <th>id</th>\n",
       "      <th>f0</th>\n",
       "      <th>f1</th>\n",
       "      <th>f2</th>\n",
       "      <th>product</th>\n",
       "    </tr>\n",
       "  </thead>\n",
       "  <tbody>\n",
       "    <tr>\n",
       "      <th>count</th>\n",
       "      <td>100000</td>\n",
       "      <td>100000.000000</td>\n",
       "      <td>100000.000000</td>\n",
       "      <td>100000.000000</td>\n",
       "      <td>100000.000000</td>\n",
       "    </tr>\n",
       "    <tr>\n",
       "      <th>unique</th>\n",
       "      <td>99990</td>\n",
       "      <td>NaN</td>\n",
       "      <td>NaN</td>\n",
       "      <td>NaN</td>\n",
       "      <td>NaN</td>\n",
       "    </tr>\n",
       "    <tr>\n",
       "      <th>top</th>\n",
       "      <td>HZww2</td>\n",
       "      <td>NaN</td>\n",
       "      <td>NaN</td>\n",
       "      <td>NaN</td>\n",
       "      <td>NaN</td>\n",
       "    </tr>\n",
       "    <tr>\n",
       "      <th>freq</th>\n",
       "      <td>2</td>\n",
       "      <td>NaN</td>\n",
       "      <td>NaN</td>\n",
       "      <td>NaN</td>\n",
       "      <td>NaN</td>\n",
       "    </tr>\n",
       "    <tr>\n",
       "      <th>mean</th>\n",
       "      <td>NaN</td>\n",
       "      <td>0.500419</td>\n",
       "      <td>0.250143</td>\n",
       "      <td>2.502647</td>\n",
       "      <td>92.500000</td>\n",
       "    </tr>\n",
       "    <tr>\n",
       "      <th>std</th>\n",
       "      <td>NaN</td>\n",
       "      <td>0.871832</td>\n",
       "      <td>0.504433</td>\n",
       "      <td>3.248248</td>\n",
       "      <td>44.288691</td>\n",
       "    </tr>\n",
       "    <tr>\n",
       "      <th>min</th>\n",
       "      <td>NaN</td>\n",
       "      <td>-1.408605</td>\n",
       "      <td>-0.848218</td>\n",
       "      <td>-12.088328</td>\n",
       "      <td>0.000000</td>\n",
       "    </tr>\n",
       "    <tr>\n",
       "      <th>25%</th>\n",
       "      <td>NaN</td>\n",
       "      <td>-0.072580</td>\n",
       "      <td>-0.200881</td>\n",
       "      <td>0.287748</td>\n",
       "      <td>56.497507</td>\n",
       "    </tr>\n",
       "    <tr>\n",
       "      <th>50%</th>\n",
       "      <td>NaN</td>\n",
       "      <td>0.502360</td>\n",
       "      <td>0.250252</td>\n",
       "      <td>2.515969</td>\n",
       "      <td>91.849972</td>\n",
       "    </tr>\n",
       "    <tr>\n",
       "      <th>75%</th>\n",
       "      <td>NaN</td>\n",
       "      <td>1.073581</td>\n",
       "      <td>0.700646</td>\n",
       "      <td>4.715088</td>\n",
       "      <td>128.564089</td>\n",
       "    </tr>\n",
       "    <tr>\n",
       "      <th>max</th>\n",
       "      <td>NaN</td>\n",
       "      <td>2.362331</td>\n",
       "      <td>1.343769</td>\n",
       "      <td>16.003790</td>\n",
       "      <td>185.364347</td>\n",
       "    </tr>\n",
       "  </tbody>\n",
       "</table>\n",
       "</div>"
      ],
      "text/plain": [
       "            id             f0             f1             f2        product\n",
       "count   100000  100000.000000  100000.000000  100000.000000  100000.000000\n",
       "unique   99990            NaN            NaN            NaN            NaN\n",
       "top      HZww2            NaN            NaN            NaN            NaN\n",
       "freq         2            NaN            NaN            NaN            NaN\n",
       "mean       NaN       0.500419       0.250143       2.502647      92.500000\n",
       "std        NaN       0.871832       0.504433       3.248248      44.288691\n",
       "min        NaN      -1.408605      -0.848218     -12.088328       0.000000\n",
       "25%        NaN      -0.072580      -0.200881       0.287748      56.497507\n",
       "50%        NaN       0.502360       0.250252       2.515969      91.849972\n",
       "75%        NaN       1.073581       0.700646       4.715088     128.564089\n",
       "max        NaN       2.362331       1.343769      16.003790     185.364347"
      ]
     },
     "metadata": {},
     "output_type": "display_data"
    },
    {
     "data": {
      "text/html": [
       "<div>\n",
       "<style scoped>\n",
       "    .dataframe tbody tr th:only-of-type {\n",
       "        vertical-align: middle;\n",
       "    }\n",
       "\n",
       "    .dataframe tbody tr th {\n",
       "        vertical-align: top;\n",
       "    }\n",
       "\n",
       "    .dataframe thead th {\n",
       "        text-align: right;\n",
       "    }\n",
       "</style>\n",
       "<table border=\"1\" class=\"dataframe\">\n",
       "  <thead>\n",
       "    <tr style=\"text-align: right;\">\n",
       "      <th></th>\n",
       "      <th>f0</th>\n",
       "      <th>f1</th>\n",
       "      <th>f2</th>\n",
       "      <th>product</th>\n",
       "    </tr>\n",
       "  </thead>\n",
       "  <tbody>\n",
       "    <tr>\n",
       "      <th>f0</th>\n",
       "      <td>1.000000</td>\n",
       "      <td>-0.440723</td>\n",
       "      <td>-0.003153</td>\n",
       "      <td>0.143536</td>\n",
       "    </tr>\n",
       "    <tr>\n",
       "      <th>f1</th>\n",
       "      <td>-0.440723</td>\n",
       "      <td>1.000000</td>\n",
       "      <td>0.001724</td>\n",
       "      <td>-0.192356</td>\n",
       "    </tr>\n",
       "    <tr>\n",
       "      <th>f2</th>\n",
       "      <td>-0.003153</td>\n",
       "      <td>0.001724</td>\n",
       "      <td>1.000000</td>\n",
       "      <td>0.483663</td>\n",
       "    </tr>\n",
       "    <tr>\n",
       "      <th>product</th>\n",
       "      <td>0.143536</td>\n",
       "      <td>-0.192356</td>\n",
       "      <td>0.483663</td>\n",
       "      <td>1.000000</td>\n",
       "    </tr>\n",
       "  </tbody>\n",
       "</table>\n",
       "</div>"
      ],
      "text/plain": [
       "               f0        f1        f2   product\n",
       "f0       1.000000 -0.440723 -0.003153  0.143536\n",
       "f1      -0.440723  1.000000  0.001724 -0.192356\n",
       "f2      -0.003153  0.001724  1.000000  0.483663\n",
       "product  0.143536 -0.192356  0.483663  1.000000"
      ]
     },
     "metadata": {},
     "output_type": "display_data"
    },
    {
     "name": "stdout",
     "output_type": "stream",
     "text": [
      "**************************************************\n",
      "df 1\n"
     ]
    },
    {
     "data": {
      "text/html": [
       "<div>\n",
       "<style scoped>\n",
       "    .dataframe tbody tr th:only-of-type {\n",
       "        vertical-align: middle;\n",
       "    }\n",
       "\n",
       "    .dataframe tbody tr th {\n",
       "        vertical-align: top;\n",
       "    }\n",
       "\n",
       "    .dataframe thead th {\n",
       "        text-align: right;\n",
       "    }\n",
       "</style>\n",
       "<table border=\"1\" class=\"dataframe\">\n",
       "  <thead>\n",
       "    <tr style=\"text-align: right;\">\n",
       "      <th></th>\n",
       "      <th>id</th>\n",
       "      <th>f0</th>\n",
       "      <th>f1</th>\n",
       "      <th>f2</th>\n",
       "      <th>product</th>\n",
       "    </tr>\n",
       "  </thead>\n",
       "  <tbody>\n",
       "    <tr>\n",
       "      <th>24542</th>\n",
       "      <td>4x5VA</td>\n",
       "      <td>-6.628218</td>\n",
       "      <td>-3.599478</td>\n",
       "      <td>1.992810</td>\n",
       "      <td>57.085625</td>\n",
       "    </tr>\n",
       "    <tr>\n",
       "      <th>12539</th>\n",
       "      <td>QNn1D</td>\n",
       "      <td>-8.096046</td>\n",
       "      <td>-10.485281</td>\n",
       "      <td>0.992764</td>\n",
       "      <td>30.132364</td>\n",
       "    </tr>\n",
       "    <tr>\n",
       "      <th>99645</th>\n",
       "      <td>OqUv4</td>\n",
       "      <td>5.455737</td>\n",
       "      <td>-3.511840</td>\n",
       "      <td>2.006199</td>\n",
       "      <td>53.906522</td>\n",
       "    </tr>\n",
       "    <tr>\n",
       "      <th>81086</th>\n",
       "      <td>1do3E</td>\n",
       "      <td>0.947710</td>\n",
       "      <td>6.309729</td>\n",
       "      <td>0.002091</td>\n",
       "      <td>0.000000</td>\n",
       "    </tr>\n",
       "    <tr>\n",
       "      <th>55889</th>\n",
       "      <td>FLHYx</td>\n",
       "      <td>19.515220</td>\n",
       "      <td>-11.757188</td>\n",
       "      <td>3.990579</td>\n",
       "      <td>107.813044</td>\n",
       "    </tr>\n",
       "  </tbody>\n",
       "</table>\n",
       "</div>"
      ],
      "text/plain": [
       "          id         f0         f1        f2     product\n",
       "24542  4x5VA  -6.628218  -3.599478  1.992810   57.085625\n",
       "12539  QNn1D  -8.096046 -10.485281  0.992764   30.132364\n",
       "99645  OqUv4   5.455737  -3.511840  2.006199   53.906522\n",
       "81086  1do3E   0.947710   6.309729  0.002091    0.000000\n",
       "55889  FLHYx  19.515220 -11.757188  3.990579  107.813044"
      ]
     },
     "metadata": {},
     "output_type": "display_data"
    },
    {
     "name": "stdout",
     "output_type": "stream",
     "text": [
      "<class 'pandas.core.frame.DataFrame'>\n",
      "RangeIndex: 100000 entries, 0 to 99999\n",
      "Data columns (total 5 columns):\n",
      " #   Column   Non-Null Count   Dtype  \n",
      "---  ------   --------------   -----  \n",
      " 0   id       100000 non-null  object \n",
      " 1   f0       100000 non-null  float64\n",
      " 2   f1       100000 non-null  float64\n",
      " 3   f2       100000 non-null  float64\n",
      " 4   product  100000 non-null  float64\n",
      "dtypes: float64(4), object(1)\n",
      "memory usage: 3.8+ MB\n"
     ]
    },
    {
     "data": {
      "text/plain": [
       "None"
      ]
     },
     "metadata": {},
     "output_type": "display_data"
    },
    {
     "data": {
      "text/html": [
       "<div>\n",
       "<style scoped>\n",
       "    .dataframe tbody tr th:only-of-type {\n",
       "        vertical-align: middle;\n",
       "    }\n",
       "\n",
       "    .dataframe tbody tr th {\n",
       "        vertical-align: top;\n",
       "    }\n",
       "\n",
       "    .dataframe thead th {\n",
       "        text-align: right;\n",
       "    }\n",
       "</style>\n",
       "<table border=\"1\" class=\"dataframe\">\n",
       "  <thead>\n",
       "    <tr style=\"text-align: right;\">\n",
       "      <th></th>\n",
       "      <th>id</th>\n",
       "      <th>f0</th>\n",
       "      <th>f1</th>\n",
       "      <th>f2</th>\n",
       "      <th>product</th>\n",
       "    </tr>\n",
       "  </thead>\n",
       "  <tbody>\n",
       "    <tr>\n",
       "      <th>count</th>\n",
       "      <td>100000</td>\n",
       "      <td>100000.000000</td>\n",
       "      <td>100000.000000</td>\n",
       "      <td>100000.000000</td>\n",
       "      <td>100000.000000</td>\n",
       "    </tr>\n",
       "    <tr>\n",
       "      <th>unique</th>\n",
       "      <td>99996</td>\n",
       "      <td>NaN</td>\n",
       "      <td>NaN</td>\n",
       "      <td>NaN</td>\n",
       "      <td>NaN</td>\n",
       "    </tr>\n",
       "    <tr>\n",
       "      <th>top</th>\n",
       "      <td>LHZR0</td>\n",
       "      <td>NaN</td>\n",
       "      <td>NaN</td>\n",
       "      <td>NaN</td>\n",
       "      <td>NaN</td>\n",
       "    </tr>\n",
       "    <tr>\n",
       "      <th>freq</th>\n",
       "      <td>2</td>\n",
       "      <td>NaN</td>\n",
       "      <td>NaN</td>\n",
       "      <td>NaN</td>\n",
       "      <td>NaN</td>\n",
       "    </tr>\n",
       "    <tr>\n",
       "      <th>mean</th>\n",
       "      <td>NaN</td>\n",
       "      <td>1.141296</td>\n",
       "      <td>-4.796579</td>\n",
       "      <td>2.494541</td>\n",
       "      <td>68.825000</td>\n",
       "    </tr>\n",
       "    <tr>\n",
       "      <th>std</th>\n",
       "      <td>NaN</td>\n",
       "      <td>8.965932</td>\n",
       "      <td>5.119872</td>\n",
       "      <td>1.703572</td>\n",
       "      <td>45.944423</td>\n",
       "    </tr>\n",
       "    <tr>\n",
       "      <th>min</th>\n",
       "      <td>NaN</td>\n",
       "      <td>-31.609576</td>\n",
       "      <td>-26.358598</td>\n",
       "      <td>-0.018144</td>\n",
       "      <td>0.000000</td>\n",
       "    </tr>\n",
       "    <tr>\n",
       "      <th>25%</th>\n",
       "      <td>NaN</td>\n",
       "      <td>-6.298551</td>\n",
       "      <td>-8.267985</td>\n",
       "      <td>1.000021</td>\n",
       "      <td>26.953261</td>\n",
       "    </tr>\n",
       "    <tr>\n",
       "      <th>50%</th>\n",
       "      <td>NaN</td>\n",
       "      <td>1.153055</td>\n",
       "      <td>-4.813172</td>\n",
       "      <td>2.011479</td>\n",
       "      <td>57.085625</td>\n",
       "    </tr>\n",
       "    <tr>\n",
       "      <th>75%</th>\n",
       "      <td>NaN</td>\n",
       "      <td>8.621015</td>\n",
       "      <td>-1.332816</td>\n",
       "      <td>3.999904</td>\n",
       "      <td>107.813044</td>\n",
       "    </tr>\n",
       "    <tr>\n",
       "      <th>max</th>\n",
       "      <td>NaN</td>\n",
       "      <td>29.421755</td>\n",
       "      <td>18.734063</td>\n",
       "      <td>5.019721</td>\n",
       "      <td>137.945408</td>\n",
       "    </tr>\n",
       "  </tbody>\n",
       "</table>\n",
       "</div>"
      ],
      "text/plain": [
       "            id             f0             f1             f2        product\n",
       "count   100000  100000.000000  100000.000000  100000.000000  100000.000000\n",
       "unique   99996            NaN            NaN            NaN            NaN\n",
       "top      LHZR0            NaN            NaN            NaN            NaN\n",
       "freq         2            NaN            NaN            NaN            NaN\n",
       "mean       NaN       1.141296      -4.796579       2.494541      68.825000\n",
       "std        NaN       8.965932       5.119872       1.703572      45.944423\n",
       "min        NaN     -31.609576     -26.358598      -0.018144       0.000000\n",
       "25%        NaN      -6.298551      -8.267985       1.000021      26.953261\n",
       "50%        NaN       1.153055      -4.813172       2.011479      57.085625\n",
       "75%        NaN       8.621015      -1.332816       3.999904     107.813044\n",
       "max        NaN      29.421755      18.734063       5.019721     137.945408"
      ]
     },
     "metadata": {},
     "output_type": "display_data"
    },
    {
     "data": {
      "text/html": [
       "<div>\n",
       "<style scoped>\n",
       "    .dataframe tbody tr th:only-of-type {\n",
       "        vertical-align: middle;\n",
       "    }\n",
       "\n",
       "    .dataframe tbody tr th {\n",
       "        vertical-align: top;\n",
       "    }\n",
       "\n",
       "    .dataframe thead th {\n",
       "        text-align: right;\n",
       "    }\n",
       "</style>\n",
       "<table border=\"1\" class=\"dataframe\">\n",
       "  <thead>\n",
       "    <tr style=\"text-align: right;\">\n",
       "      <th></th>\n",
       "      <th>f0</th>\n",
       "      <th>f1</th>\n",
       "      <th>f2</th>\n",
       "      <th>product</th>\n",
       "    </tr>\n",
       "  </thead>\n",
       "  <tbody>\n",
       "    <tr>\n",
       "      <th>f0</th>\n",
       "      <td>1.000000</td>\n",
       "      <td>0.182287</td>\n",
       "      <td>-0.001777</td>\n",
       "      <td>-0.030491</td>\n",
       "    </tr>\n",
       "    <tr>\n",
       "      <th>f1</th>\n",
       "      <td>0.182287</td>\n",
       "      <td>1.000000</td>\n",
       "      <td>-0.002595</td>\n",
       "      <td>-0.010155</td>\n",
       "    </tr>\n",
       "    <tr>\n",
       "      <th>f2</th>\n",
       "      <td>-0.001777</td>\n",
       "      <td>-0.002595</td>\n",
       "      <td>1.000000</td>\n",
       "      <td>0.999397</td>\n",
       "    </tr>\n",
       "    <tr>\n",
       "      <th>product</th>\n",
       "      <td>-0.030491</td>\n",
       "      <td>-0.010155</td>\n",
       "      <td>0.999397</td>\n",
       "      <td>1.000000</td>\n",
       "    </tr>\n",
       "  </tbody>\n",
       "</table>\n",
       "</div>"
      ],
      "text/plain": [
       "               f0        f1        f2   product\n",
       "f0       1.000000  0.182287 -0.001777 -0.030491\n",
       "f1       0.182287  1.000000 -0.002595 -0.010155\n",
       "f2      -0.001777 -0.002595  1.000000  0.999397\n",
       "product -0.030491 -0.010155  0.999397  1.000000"
      ]
     },
     "metadata": {},
     "output_type": "display_data"
    },
    {
     "name": "stdout",
     "output_type": "stream",
     "text": [
      "**************************************************\n",
      "df 2\n"
     ]
    },
    {
     "data": {
      "text/html": [
       "<div>\n",
       "<style scoped>\n",
       "    .dataframe tbody tr th:only-of-type {\n",
       "        vertical-align: middle;\n",
       "    }\n",
       "\n",
       "    .dataframe tbody tr th {\n",
       "        vertical-align: top;\n",
       "    }\n",
       "\n",
       "    .dataframe thead th {\n",
       "        text-align: right;\n",
       "    }\n",
       "</style>\n",
       "<table border=\"1\" class=\"dataframe\">\n",
       "  <thead>\n",
       "    <tr style=\"text-align: right;\">\n",
       "      <th></th>\n",
       "      <th>id</th>\n",
       "      <th>f0</th>\n",
       "      <th>f1</th>\n",
       "      <th>f2</th>\n",
       "      <th>product</th>\n",
       "    </tr>\n",
       "  </thead>\n",
       "  <tbody>\n",
       "    <tr>\n",
       "      <th>54076</th>\n",
       "      <td>0U0Pb</td>\n",
       "      <td>0.281279</td>\n",
       "      <td>-0.474021</td>\n",
       "      <td>9.903588</td>\n",
       "      <td>71.497327</td>\n",
       "    </tr>\n",
       "    <tr>\n",
       "      <th>48642</th>\n",
       "      <td>NO77v</td>\n",
       "      <td>-3.547806</td>\n",
       "      <td>-0.277068</td>\n",
       "      <td>1.474342</td>\n",
       "      <td>126.406297</td>\n",
       "    </tr>\n",
       "    <tr>\n",
       "      <th>64772</th>\n",
       "      <td>fhTkY</td>\n",
       "      <td>-1.048124</td>\n",
       "      <td>0.051298</td>\n",
       "      <td>1.441221</td>\n",
       "      <td>3.800283</td>\n",
       "    </tr>\n",
       "    <tr>\n",
       "      <th>66150</th>\n",
       "      <td>MopJX</td>\n",
       "      <td>2.774037</td>\n",
       "      <td>-0.595350</td>\n",
       "      <td>4.182750</td>\n",
       "      <td>64.595792</td>\n",
       "    </tr>\n",
       "    <tr>\n",
       "      <th>70406</th>\n",
       "      <td>NEOxf</td>\n",
       "      <td>0.882242</td>\n",
       "      <td>2.334016</td>\n",
       "      <td>0.338000</td>\n",
       "      <td>93.787014</td>\n",
       "    </tr>\n",
       "  </tbody>\n",
       "</table>\n",
       "</div>"
      ],
      "text/plain": [
       "          id        f0        f1        f2     product\n",
       "54076  0U0Pb  0.281279 -0.474021  9.903588   71.497327\n",
       "48642  NO77v -3.547806 -0.277068  1.474342  126.406297\n",
       "64772  fhTkY -1.048124  0.051298  1.441221    3.800283\n",
       "66150  MopJX  2.774037 -0.595350  4.182750   64.595792\n",
       "70406  NEOxf  0.882242  2.334016  0.338000   93.787014"
      ]
     },
     "metadata": {},
     "output_type": "display_data"
    },
    {
     "name": "stdout",
     "output_type": "stream",
     "text": [
      "<class 'pandas.core.frame.DataFrame'>\n",
      "RangeIndex: 100000 entries, 0 to 99999\n",
      "Data columns (total 5 columns):\n",
      " #   Column   Non-Null Count   Dtype  \n",
      "---  ------   --------------   -----  \n",
      " 0   id       100000 non-null  object \n",
      " 1   f0       100000 non-null  float64\n",
      " 2   f1       100000 non-null  float64\n",
      " 3   f2       100000 non-null  float64\n",
      " 4   product  100000 non-null  float64\n",
      "dtypes: float64(4), object(1)\n",
      "memory usage: 3.8+ MB\n"
     ]
    },
    {
     "data": {
      "text/plain": [
       "None"
      ]
     },
     "metadata": {},
     "output_type": "display_data"
    },
    {
     "data": {
      "text/html": [
       "<div>\n",
       "<style scoped>\n",
       "    .dataframe tbody tr th:only-of-type {\n",
       "        vertical-align: middle;\n",
       "    }\n",
       "\n",
       "    .dataframe tbody tr th {\n",
       "        vertical-align: top;\n",
       "    }\n",
       "\n",
       "    .dataframe thead th {\n",
       "        text-align: right;\n",
       "    }\n",
       "</style>\n",
       "<table border=\"1\" class=\"dataframe\">\n",
       "  <thead>\n",
       "    <tr style=\"text-align: right;\">\n",
       "      <th></th>\n",
       "      <th>id</th>\n",
       "      <th>f0</th>\n",
       "      <th>f1</th>\n",
       "      <th>f2</th>\n",
       "      <th>product</th>\n",
       "    </tr>\n",
       "  </thead>\n",
       "  <tbody>\n",
       "    <tr>\n",
       "      <th>count</th>\n",
       "      <td>100000</td>\n",
       "      <td>100000.000000</td>\n",
       "      <td>100000.000000</td>\n",
       "      <td>100000.000000</td>\n",
       "      <td>100000.000000</td>\n",
       "    </tr>\n",
       "    <tr>\n",
       "      <th>unique</th>\n",
       "      <td>99996</td>\n",
       "      <td>NaN</td>\n",
       "      <td>NaN</td>\n",
       "      <td>NaN</td>\n",
       "      <td>NaN</td>\n",
       "    </tr>\n",
       "    <tr>\n",
       "      <th>top</th>\n",
       "      <td>Vcm5J</td>\n",
       "      <td>NaN</td>\n",
       "      <td>NaN</td>\n",
       "      <td>NaN</td>\n",
       "      <td>NaN</td>\n",
       "    </tr>\n",
       "    <tr>\n",
       "      <th>freq</th>\n",
       "      <td>2</td>\n",
       "      <td>NaN</td>\n",
       "      <td>NaN</td>\n",
       "      <td>NaN</td>\n",
       "      <td>NaN</td>\n",
       "    </tr>\n",
       "    <tr>\n",
       "      <th>mean</th>\n",
       "      <td>NaN</td>\n",
       "      <td>0.002023</td>\n",
       "      <td>-0.002081</td>\n",
       "      <td>2.495128</td>\n",
       "      <td>95.000000</td>\n",
       "    </tr>\n",
       "    <tr>\n",
       "      <th>std</th>\n",
       "      <td>NaN</td>\n",
       "      <td>1.732045</td>\n",
       "      <td>1.730417</td>\n",
       "      <td>3.473445</td>\n",
       "      <td>44.749921</td>\n",
       "    </tr>\n",
       "    <tr>\n",
       "      <th>min</th>\n",
       "      <td>NaN</td>\n",
       "      <td>-8.760004</td>\n",
       "      <td>-7.084020</td>\n",
       "      <td>-11.970335</td>\n",
       "      <td>0.000000</td>\n",
       "    </tr>\n",
       "    <tr>\n",
       "      <th>25%</th>\n",
       "      <td>NaN</td>\n",
       "      <td>-1.162288</td>\n",
       "      <td>-1.174820</td>\n",
       "      <td>0.130359</td>\n",
       "      <td>59.450441</td>\n",
       "    </tr>\n",
       "    <tr>\n",
       "      <th>50%</th>\n",
       "      <td>NaN</td>\n",
       "      <td>0.009424</td>\n",
       "      <td>-0.009482</td>\n",
       "      <td>2.484236</td>\n",
       "      <td>94.925613</td>\n",
       "    </tr>\n",
       "    <tr>\n",
       "      <th>75%</th>\n",
       "      <td>NaN</td>\n",
       "      <td>1.158535</td>\n",
       "      <td>1.163678</td>\n",
       "      <td>4.858794</td>\n",
       "      <td>130.595027</td>\n",
       "    </tr>\n",
       "    <tr>\n",
       "      <th>max</th>\n",
       "      <td>NaN</td>\n",
       "      <td>7.238262</td>\n",
       "      <td>7.844801</td>\n",
       "      <td>16.739402</td>\n",
       "      <td>190.029838</td>\n",
       "    </tr>\n",
       "  </tbody>\n",
       "</table>\n",
       "</div>"
      ],
      "text/plain": [
       "            id             f0             f1             f2        product\n",
       "count   100000  100000.000000  100000.000000  100000.000000  100000.000000\n",
       "unique   99996            NaN            NaN            NaN            NaN\n",
       "top      Vcm5J            NaN            NaN            NaN            NaN\n",
       "freq         2            NaN            NaN            NaN            NaN\n",
       "mean       NaN       0.002023      -0.002081       2.495128      95.000000\n",
       "std        NaN       1.732045       1.730417       3.473445      44.749921\n",
       "min        NaN      -8.760004      -7.084020     -11.970335       0.000000\n",
       "25%        NaN      -1.162288      -1.174820       0.130359      59.450441\n",
       "50%        NaN       0.009424      -0.009482       2.484236      94.925613\n",
       "75%        NaN       1.158535       1.163678       4.858794     130.595027\n",
       "max        NaN       7.238262       7.844801      16.739402     190.029838"
      ]
     },
     "metadata": {},
     "output_type": "display_data"
    },
    {
     "data": {
      "text/html": [
       "<div>\n",
       "<style scoped>\n",
       "    .dataframe tbody tr th:only-of-type {\n",
       "        vertical-align: middle;\n",
       "    }\n",
       "\n",
       "    .dataframe tbody tr th {\n",
       "        vertical-align: top;\n",
       "    }\n",
       "\n",
       "    .dataframe thead th {\n",
       "        text-align: right;\n",
       "    }\n",
       "</style>\n",
       "<table border=\"1\" class=\"dataframe\">\n",
       "  <thead>\n",
       "    <tr style=\"text-align: right;\">\n",
       "      <th></th>\n",
       "      <th>f0</th>\n",
       "      <th>f1</th>\n",
       "      <th>f2</th>\n",
       "      <th>product</th>\n",
       "    </tr>\n",
       "  </thead>\n",
       "  <tbody>\n",
       "    <tr>\n",
       "      <th>f0</th>\n",
       "      <td>1.000000</td>\n",
       "      <td>0.000528</td>\n",
       "      <td>-0.000448</td>\n",
       "      <td>-0.001987</td>\n",
       "    </tr>\n",
       "    <tr>\n",
       "      <th>f1</th>\n",
       "      <td>0.000528</td>\n",
       "      <td>1.000000</td>\n",
       "      <td>0.000779</td>\n",
       "      <td>-0.001012</td>\n",
       "    </tr>\n",
       "    <tr>\n",
       "      <th>f2</th>\n",
       "      <td>-0.000448</td>\n",
       "      <td>0.000779</td>\n",
       "      <td>1.000000</td>\n",
       "      <td>0.445871</td>\n",
       "    </tr>\n",
       "    <tr>\n",
       "      <th>product</th>\n",
       "      <td>-0.001987</td>\n",
       "      <td>-0.001012</td>\n",
       "      <td>0.445871</td>\n",
       "      <td>1.000000</td>\n",
       "    </tr>\n",
       "  </tbody>\n",
       "</table>\n",
       "</div>"
      ],
      "text/plain": [
       "               f0        f1        f2   product\n",
       "f0       1.000000  0.000528 -0.000448 -0.001987\n",
       "f1       0.000528  1.000000  0.000779 -0.001012\n",
       "f2      -0.000448  0.000779  1.000000  0.445871\n",
       "product -0.001987 -0.001012  0.445871  1.000000"
      ]
     },
     "metadata": {},
     "output_type": "display_data"
    },
    {
     "name": "stdout",
     "output_type": "stream",
     "text": [
      "**************************************************\n"
     ]
    }
   ],
   "source": [
    "for i, df in enumerate(df_list):\n",
    "    print('df', i)\n",
    "    get_info(df)\n",
    "    print('*'*50)"
   ]
  },
  {
   "cell_type": "markdown",
   "metadata": {},
   "source": [
    "Мы наблюдаем неуникальные значения в столбце `id`, посмотрим что это такое  \n",
    "**Так же видим высокую корреляцию признака `f2` и `product` от 0,44 до 0,99. Советуем заказчику обратить на это внимание**"
   ]
  },
  {
   "cell_type": "code",
   "execution_count": 7,
   "metadata": {},
   "outputs": [
    {
     "data": {
      "text/html": [
       "<div>\n",
       "<style scoped>\n",
       "    .dataframe tbody tr th:only-of-type {\n",
       "        vertical-align: middle;\n",
       "    }\n",
       "\n",
       "    .dataframe tbody tr th {\n",
       "        vertical-align: top;\n",
       "    }\n",
       "\n",
       "    .dataframe thead th {\n",
       "        text-align: right;\n",
       "    }\n",
       "</style>\n",
       "<table border=\"1\" class=\"dataframe\">\n",
       "  <thead>\n",
       "    <tr style=\"text-align: right;\">\n",
       "      <th></th>\n",
       "      <th>id</th>\n",
       "      <th>f0</th>\n",
       "      <th>f1</th>\n",
       "      <th>f2</th>\n",
       "      <th>product</th>\n",
       "    </tr>\n",
       "  </thead>\n",
       "  <tbody>\n",
       "    <tr>\n",
       "      <th>5849</th>\n",
       "      <td>5ltQ6</td>\n",
       "      <td>-3.435401</td>\n",
       "      <td>-12.296043</td>\n",
       "      <td>1.999796</td>\n",
       "      <td>57.085625</td>\n",
       "    </tr>\n",
       "    <tr>\n",
       "      <th>84461</th>\n",
       "      <td>5ltQ6</td>\n",
       "      <td>18.213839</td>\n",
       "      <td>2.191999</td>\n",
       "      <td>3.993869</td>\n",
       "      <td>107.813044</td>\n",
       "    </tr>\n",
       "    <tr>\n",
       "      <th>1305</th>\n",
       "      <td>LHZR0</td>\n",
       "      <td>11.170835</td>\n",
       "      <td>-1.945066</td>\n",
       "      <td>3.002872</td>\n",
       "      <td>80.859783</td>\n",
       "    </tr>\n",
       "    <tr>\n",
       "      <th>41906</th>\n",
       "      <td>LHZR0</td>\n",
       "      <td>-8.989672</td>\n",
       "      <td>-4.286607</td>\n",
       "      <td>2.009139</td>\n",
       "      <td>57.085625</td>\n",
       "    </tr>\n",
       "    <tr>\n",
       "      <th>2721</th>\n",
       "      <td>bfPNe</td>\n",
       "      <td>-9.494442</td>\n",
       "      <td>-5.463692</td>\n",
       "      <td>4.006042</td>\n",
       "      <td>110.992147</td>\n",
       "    </tr>\n",
       "    <tr>\n",
       "      <th>82178</th>\n",
       "      <td>bfPNe</td>\n",
       "      <td>-6.202799</td>\n",
       "      <td>-4.820045</td>\n",
       "      <td>2.995107</td>\n",
       "      <td>84.038886</td>\n",
       "    </tr>\n",
       "    <tr>\n",
       "      <th>47591</th>\n",
       "      <td>wt4Uk</td>\n",
       "      <td>-9.091098</td>\n",
       "      <td>-8.109279</td>\n",
       "      <td>-0.002314</td>\n",
       "      <td>3.179103</td>\n",
       "    </tr>\n",
       "    <tr>\n",
       "      <th>82873</th>\n",
       "      <td>wt4Uk</td>\n",
       "      <td>10.259972</td>\n",
       "      <td>-9.376355</td>\n",
       "      <td>4.994297</td>\n",
       "      <td>134.766305</td>\n",
       "    </tr>\n",
       "  </tbody>\n",
       "</table>\n",
       "</div>"
      ],
      "text/plain": [
       "          id         f0         f1        f2     product\n",
       "5849   5ltQ6  -3.435401 -12.296043  1.999796   57.085625\n",
       "84461  5ltQ6  18.213839   2.191999  3.993869  107.813044\n",
       "1305   LHZR0  11.170835  -1.945066  3.002872   80.859783\n",
       "41906  LHZR0  -8.989672  -4.286607  2.009139   57.085625\n",
       "2721   bfPNe  -9.494442  -5.463692  4.006042  110.992147\n",
       "82178  bfPNe  -6.202799  -4.820045  2.995107   84.038886\n",
       "47591  wt4Uk  -9.091098  -8.109279 -0.002314    3.179103\n",
       "82873  wt4Uk  10.259972  -9.376355  4.994297  134.766305"
      ]
     },
     "execution_count": 7,
     "metadata": {},
     "output_type": "execute_result"
    }
   ],
   "source": [
    "df1[df1.duplicated(subset='id', keep=False)].sort_values('id')"
   ]
  },
  {
   "cell_type": "markdown",
   "metadata": {},
   "source": [
    "Похоже разные данные были записаны на один `id`. Не знаем, какие из них достоверные, удаляем и те, и другие."
   ]
  },
  {
   "cell_type": "code",
   "execution_count": 8,
   "metadata": {},
   "outputs": [],
   "source": [
    "df0, df1, df2 = (df.drop_duplicates(subset='id', keep=False).copy() for df in df_list)"
   ]
  },
  {
   "cell_type": "code",
   "execution_count": 9,
   "metadata": {},
   "outputs": [
    {
     "name": "stdout",
     "output_type": "stream",
     "text": [
      "<class 'pandas.core.frame.DataFrame'>\n",
      "Int64Index: 99980 entries, 0 to 99999\n",
      "Data columns (total 5 columns):\n",
      " #   Column   Non-Null Count  Dtype  \n",
      "---  ------   --------------  -----  \n",
      " 0   id       99980 non-null  object \n",
      " 1   f0       99980 non-null  float64\n",
      " 2   f1       99980 non-null  float64\n",
      " 3   f2       99980 non-null  float64\n",
      " 4   product  99980 non-null  float64\n",
      "dtypes: float64(4), object(1)\n",
      "memory usage: 4.6+ MB\n"
     ]
    }
   ],
   "source": [
    "df0.info()"
   ]
  },
  {
   "cell_type": "code",
   "execution_count": 10,
   "metadata": {},
   "outputs": [
    {
     "data": {
      "image/png": "[encoded data removed]",
      "text/plain": [
       "<Figure size 432x288 with 1 Axes>"
      ]
     },
     "metadata": {
      "needs_background": "light"
     },
     "output_type": "display_data"
    },
    {
     "data": {
      "image/png": "[encoded data removed]",
      "text/plain": [
       "<Figure size 432x288 with 1 Axes>"
      ]
     },
     "metadata": {
      "needs_background": "light"
     },
     "output_type": "display_data"
    },
    {
     "data": {
      "image/png": "[encoded data removed]",
      "text/plain": [
       "<Figure size 432x288 with 1 Axes>"
      ]
     },
     "metadata": {
      "needs_background": "light"
     },
     "output_type": "display_data"
    },
    {
     "data": {
      "image/png": "[encoded data removed]",
      "text/plain": [
       "<Figure size 432x288 with 1 Axes>"
      ]
     },
     "metadata": {
      "needs_background": "light"
     },
     "output_type": "display_data"
    },
    {
     "data": {
      "image/png": "[encoded data removed]",
      "text/plain": [
       "<Figure size 432x288 with 1 Axes>"
      ]
     },
     "metadata": {
      "needs_background": "light"
     },
     "output_type": "display_data"
    },
    {
     "data": {
      "image/png": "[encoded data removed]",
      "text/plain": [
       "<Figure size 432x288 with 1 Axes>"
      ]
     },
     "metadata": {
      "needs_background": "light"
     },
     "output_type": "display_data"
    },
    {
     "data": {
      "image/png": "[encoded data removed]",
      "text/plain": [
       "<Figure size 432x288 with 1 Axes>"
      ]
     },
     "metadata": {
      "needs_background": "light"
     },
     "output_type": "display_data"
    },
    {
     "data": {
      "image/png": "[encoded data removed]",
      "text/plain": [
       "<Figure size 432x288 with 1 Axes>"
      ]
     },
     "metadata": {
      "needs_background": "light"
     },
     "output_type": "display_data"
    },
    {
     "data": {
      "image/png": "[encoded data removed]",
      "text/plain": [
       "<Figure size 432x288 with 1 Axes>"
      ]
     },
     "metadata": {
      "needs_background": "light"
     },
     "output_type": "display_data"
    }
   ],
   "source": [
    "columns_list = ['f0', 'f1', 'f2']\n",
    "n = 0\n",
    "for x in df_list:\n",
    "    for y in columns_list:\n",
    "    \n",
    "        plt.figure()\n",
    "        plt.title([y, f'df {n}'])        \n",
    "        plt.hist(x[y], bins=30)\n",
    "        plt.show\n",
    "    n+=1\n",
    "             "
   ]
  },
  {
   "cell_type": "code",
   "execution_count": 11,
   "metadata": {},
   "outputs": [
    {
     "data": {
      "text/plain": [
       " 3.996243    1\n",
       "-0.001450    1\n",
       " 2.004278    1\n",
       " 1.996189    1\n",
       " 0.996936    1\n",
       "            ..\n",
       " 3.003466    1\n",
       " 0.001041    1\n",
       " 1.003135    1\n",
       " 4.004630    1\n",
       " 4.992682    1\n",
       "Name: f2, Length: 99992, dtype: int64"
      ]
     },
     "execution_count": 11,
     "metadata": {},
     "output_type": "execute_result"
    }
   ],
   "source": [
    "df1['f2'].value_counts()"
   ]
  },
  {
   "cell_type": "markdown",
   "metadata": {},
   "source": [
    "Такое ощущение, что `f2` в df1 заполнялся иначе, чем в других df. Похоже на категории, однако что-то здесь не так."
   ]
  },
  {
   "cell_type": "markdown",
   "metadata": {},
   "source": [
    "## Подготовка к обучению"
   ]
  },
  {
   "cell_type": "code",
   "execution_count": 12,
   "metadata": {},
   "outputs": [
    {
     "data": {
      "text/plain": [
       "((99992, 3), (99992, 1), (99992, 3), (99992, 1), (99980, 3), (99980, 1))"
      ]
     },
     "execution_count": 12,
     "metadata": {},
     "output_type": "execute_result"
    }
   ],
   "source": [
    "features0 = df0.drop(['product', 'id'], axis=1)\n",
    "target0 = df0['product'].to_frame()\n",
    "\n",
    "features1 = df1.drop(['product', 'id'], axis=1)\n",
    "target1 = df1['product'].to_frame()\n",
    "\n",
    "features2 = df2.drop(['product', 'id'], axis=1)\n",
    "target2 = df2['product'].to_frame()\n",
    "\n",
    "features1.shape, target1.shape, features2.shape, target2.shape, features0.shape, target0.shape"
   ]
  },
  {
   "cell_type": "code",
   "execution_count": 13,
   "metadata": {},
   "outputs": [
    {
     "data": {
      "text/plain": [
       "((74985, 3), (24995, 3), (74985, 1), (24995, 1))"
      ]
     },
     "execution_count": 13,
     "metadata": {},
     "output_type": "execute_result"
    }
   ],
   "source": [
    "features0_train, features0_valid, target0_train, target0_valid = train_test_split(features0, target0, \n",
    "                                                                                  test_size=0.25, random_state=STATE)\n",
    "features1_train, features1_valid, target1_train, target1_valid = train_test_split(features1, target1, \n",
    "                                                                                  test_size=0.25, random_state=STATE)\n",
    "features2_train, features2_valid, target2_train, target2_valid = train_test_split(features2, target2, \n",
    "                                                                                  test_size=0.25, random_state=STATE)\n",
    "features0_train.shape, features0_valid.shape, target0_train.shape, target0_valid.shape"
   ]
  },
  {
   "cell_type": "markdown",
   "metadata": {},
   "source": [
    "В кодировании и масштабировании данные не нуждаются.  \n",
    "Обучать по условию будем только Линейную Регрессию"
   ]
  },
  {
   "cell_type": "markdown",
   "metadata": {},
   "source": [
    "## Обучение и проверка модели"
   ]
  },
  {
   "cell_type": "code",
   "execution_count": 14,
   "metadata": {},
   "outputs": [
    {
     "data": {
      "text/plain": [
       "(37.695696252566854, 0.8904399351700024, 40.055257955396755)"
      ]
     },
     "execution_count": 14,
     "metadata": {},
     "output_type": "execute_result"
    }
   ],
   "source": [
    "model = LinearRegression()\n",
    "\n",
    "scores0 = cross_val_score(model, features0, target0, cv=5, scoring='neg_mean_squared_error')\n",
    "scores1 = cross_val_score(model, features1, target1, cv=5, scoring='neg_mean_squared_error')\n",
    "scores2 = cross_val_score(model, features2, target2, cv=5, scoring='neg_mean_squared_error')\n",
    "\n",
    "abs(scores0.mean())**0.5, abs(scores1.mean())**0.5, abs(scores2.mean())**0.5"
   ]
  },
  {
   "cell_type": "markdown",
   "metadata": {},
   "source": [
    "Такое различие в результатах мне кажется подозрительным. Явно со вторым регионом что-то не то.  \n",
    "Я бы обязательно подсветил это перед заказчиком"
   ]
  },
  {
   "cell_type": "markdown",
   "metadata": {},
   "source": [
    "## Подготовка к расчёту прибыли"
   ]
  },
  {
   "cell_type": "markdown",
   "metadata": {},
   "source": [
    "Для обучения модели подходит только линейная регрессия (остальные — недостаточно предсказуемые).\n",
    "При разведке региона исследуют 500 точек, из которых с помощью машинного обучения выбирают 200 лучших для разработки.\n",
    "Бюджет на разработку скважин в регионе — 10 млрд рублей.\n",
    "При нынешних ценах один баррель сырья приносит 450 рублей дохода. Доход с каждой единицы продукта составляет 450 тыс. рублей, поскольку объём указан в тысячах баррелей.\n",
    "После оценки рисков нужно оставить лишь те регионы, в которых вероятность убытков меньше 2.5%. Среди них выбирают регион с наибольшей средней прибылью."
   ]
  },
  {
   "cell_type": "markdown",
   "metadata": {},
   "source": [
    "* предсказать объемы в регионах\n",
    "* выделить 500 самых перспективных скважин для исследования\n",
    "* проверить бутстрепом вероятность того, что 200 рандомных скважин из этих 500 не принесут ожидаемой прибыли"
   ]
  },
  {
   "cell_type": "code",
   "execution_count": 15,
   "metadata": {},
   "outputs": [],
   "source": [
    "BUDGET = 10 ** 10\n",
    "PRICE = 450000\n",
    "MAX_RISK = 2.5"
   ]
  },
  {
   "cell_type": "code",
   "execution_count": 16,
   "metadata": {},
   "outputs": [
    {
     "name": "stdout",
     "output_type": "stream",
     "text": [
      "Минимальный средний объем на одной скважине равен 111\n"
     ]
    }
   ],
   "source": [
    "min_product = BUDGET/PRICE\n",
    "print(\"Минимальный средний объем на одной скважине равен\", int(min_product/200))"
   ]
  },
  {
   "cell_type": "code",
   "execution_count": 17,
   "metadata": {},
   "outputs": [
    {
     "name": "stdout",
     "output_type": "stream",
     "text": [
      "92.49916597893444\n",
      "68.82414772665173\n",
      "94.99876686768079\n"
     ]
    }
   ],
   "source": [
    "df_list = [df0, df1, df2]\n",
    "for df in df_list:\n",
    "    print(df['product'].mean())"
   ]
  },
  {
   "cell_type": "markdown",
   "metadata": {},
   "source": [
    "Ни один из регионов не дотягивает до минимальных средних показателей, если брать среднее значение по региону."
   ]
  },
  {
   "cell_type": "markdown",
   "metadata": {},
   "source": [
    "## Расчёт прибыли и рисков "
   ]
  },
  {
   "cell_type": "code",
   "execution_count": 18,
   "metadata": {},
   "outputs": [],
   "source": [
    "features_train_list = [features0_train, features1_train, features2_train]\n",
    "features_valid_list = [features0_valid, features1_valid, features2_valid]"
   ]
  },
  {
   "cell_type": "code",
   "execution_count": 19,
   "metadata": {},
   "outputs": [],
   "source": [
    "target_train_list = [target0_train, target1_train, target2_train]\n",
    "target_valid_list = [target0_valid, target1_valid, target2_valid]"
   ]
  },
  {
   "cell_type": "code",
   "execution_count": 21,
   "metadata": {},
   "outputs": [],
   "source": [
    "for w, x, y, z in zip(features_train_list, target_train_list, features_valid_list, target_valid_list):\n",
    "    model.fit(w, x)\n",
    "    z['predict'] = model.predict(y)"
   ]
  },
  {
   "cell_type": "code",
   "execution_count": 25,
   "metadata": {},
   "outputs": [],
   "source": [
    "profit_0 = []\n",
    "profit_1 = []\n",
    "profit_2 = []\n",
    "profit_list = [profit_0, profit_1, profit_2]\n",
    "\n",
    "\n",
    "for _ in range(1000):\n",
    "    for x, y in zip(profit_list, target_valid_list):\n",
    "        x.append((y.sample(n=500, random_state=STATE)).sort_values(by='predict', ascending=False). \\\n",
    "                 head(200)['product'].sum()*PRICE-BUDGET)   \n",
    "        "
   ]
  },
  {
   "cell_type": "code",
   "execution_count": 26,
   "metadata": {},
   "outputs": [
    {
     "name": "stdout",
     "output_type": "stream",
     "text": [
      "Средняя прибыль по Региону 0 равна 442812235\n",
      "С вероятностью 95% прибыль установится в промежутке -55776523 и 916859783\n",
      "Вероятность убытка 4.1%\n",
      "Регион не подходит под условия\n",
      "\n",
      "Средняя прибыль по Региону 1 равна 450524621\n",
      "С вероятностью 95% прибыль установится в промежутке 102114371 и 836596435\n",
      "Вероятность убытка 0.6%\n",
      "Регион удовлетворяет условиям\n",
      "\n",
      "Средняя прибыль по Региону 2 равна 354822558\n",
      "С вероятностью 95% прибыль установится в промежутке -199202052 и 900867330\n",
      "Вероятность убытка 9.5%\n",
      "Регион не подходит под условия\n",
      "\n"
     ]
    }
   ],
   "source": [
    "region_list = ['Региону 0', \"Региону 1\", \"Региону 2\"]\n",
    "\n",
    "for x, y in zip(profit_list, region_list):\n",
    "    x = pd.Series(x)\n",
    "    print(f'Средняя прибыль по {y} равна {int(x.mean())}')\n",
    "    print(f'С вероятностью 95% прибыль установится в промежутке {int(x.quantile(0.025))} и {int(x.quantile(0.975))}' )    \n",
    "    print(f'Вероятность убытка {round((x<0).mean()*100, 1)}%')\n",
    "    if (x<0).mean()*100 > MAX_RISK:\n",
    "        print('Регион не подходит под условия')\n",
    "    else: print('Регион удовлетворяет условиям')\n",
    "    print()"
   ]
  },
  {
   "cell_type": "markdown",
   "metadata": {},
   "source": [
    "## Вывод\n",
    "\n",
    "В ходе исследования мы обучили на предоставленных данных три модели (по одной для каждого региона).  \n",
    "На основании предсказаний моделей мы 1000 раз выбрали 500 случайных скважин и посчитали прибыль по 200 лучшим из них.  \n",
    "  \n",
    "**По результатам исследования наиболее подходящим регионом для разработки является Регион 1 по наименьшей вероятности убытка.**  "
   ]
  },
  {
   "cell_type": "code",
   "execution_count": null,
   "metadata": {},
   "outputs": [],
   "source": []
  }
 ],
 "metadata": {
  "ExecuteTimeLog": [
   {
    "duration": 77,
    "start_time": "2023-05-02T19:33:10.636Z"
   },
   {
    "duration": 412,
    "start_time": "2023-05-02T19:33:13.698Z"
   },
   {
    "duration": 569,
    "start_time": "2023-05-02T19:33:14.943Z"
   },
   {
    "duration": 1912,
    "start_time": "2023-05-02T19:33:51.312Z"
   },
   {
    "duration": 16,
    "start_time": "2023-05-02T19:34:00.999Z"
   },
   {
    "duration": 16,
    "start_time": "2023-05-02T19:34:23.524Z"
   },
   {
    "duration": 13,
    "start_time": "2023-05-02T19:36:16.772Z"
   },
   {
    "duration": 13,
    "start_time": "2023-05-02T19:36:24.273Z"
   },
   {
    "duration": 9,
    "start_time": "2023-05-02T19:36:31.595Z"
   },
   {
    "duration": 8,
    "start_time": "2023-05-02T19:36:46.497Z"
   },
   {
    "duration": 15,
    "start_time": "2023-05-02T19:36:56.474Z"
   },
   {
    "duration": 22,
    "start_time": "2023-05-02T19:37:33.945Z"
   },
   {
    "duration": 13,
    "start_time": "2023-05-02T19:37:35.224Z"
   },
   {
    "duration": 20,
    "start_time": "2023-05-02T19:37:46.936Z"
   },
   {
    "duration": 14,
    "start_time": "2023-05-02T19:38:02.192Z"
   },
   {
    "duration": 16,
    "start_time": "2023-05-02T19:38:07.571Z"
   },
   {
    "duration": 15,
    "start_time": "2023-05-02T19:39:03.020Z"
   },
   {
    "duration": 15,
    "start_time": "2023-05-02T19:39:06.488Z"
   },
   {
    "duration": 21,
    "start_time": "2023-05-02T19:39:10.734Z"
   },
   {
    "duration": 60,
    "start_time": "2023-05-02T19:59:16.544Z"
   },
   {
    "duration": 28,
    "start_time": "2023-05-02T19:59:27.639Z"
   },
   {
    "duration": 20,
    "start_time": "2023-05-02T19:59:39.744Z"
   },
   {
    "duration": 21,
    "start_time": "2023-05-02T20:00:00.178Z"
   },
   {
    "duration": 35,
    "start_time": "2023-05-02T20:00:18.248Z"
   },
   {
    "duration": 18,
    "start_time": "2023-05-02T20:00:24.596Z"
   },
   {
    "duration": 17,
    "start_time": "2023-05-02T20:00:46.399Z"
   },
   {
    "duration": 13,
    "start_time": "2023-05-02T20:01:04.497Z"
   },
   {
    "duration": 10,
    "start_time": "2023-05-02T20:01:50.933Z"
   },
   {
    "duration": 871,
    "start_time": "2023-05-02T20:05:00.597Z"
   },
   {
    "duration": 38,
    "start_time": "2023-05-02T20:05:06.941Z"
   },
   {
    "duration": 167,
    "start_time": "2023-05-02T20:06:49.739Z"
   },
   {
    "duration": 124,
    "start_time": "2023-05-02T20:06:59.892Z"
   },
   {
    "duration": 12,
    "start_time": "2023-05-02T20:07:15.893Z"
   },
   {
    "duration": 15,
    "start_time": "2023-05-02T20:07:47.180Z"
   },
   {
    "duration": 22,
    "start_time": "2023-05-02T20:08:39.418Z"
   },
   {
    "duration": 13,
    "start_time": "2023-05-02T20:09:24.497Z"
   },
   {
    "duration": 2,
    "start_time": "2023-05-02T20:09:40.628Z"
   },
   {
    "duration": 433,
    "start_time": "2023-05-02T20:09:40.634Z"
   },
   {
    "duration": 16,
    "start_time": "2023-05-02T20:09:41.080Z"
   },
   {
    "duration": 16,
    "start_time": "2023-05-02T20:09:41.097Z"
   },
   {
    "duration": 17,
    "start_time": "2023-05-02T20:09:41.115Z"
   },
   {
    "duration": 13,
    "start_time": "2023-05-02T20:09:41.134Z"
   },
   {
    "duration": 0,
    "start_time": "2023-05-02T20:09:41.163Z"
   },
   {
    "duration": 8,
    "start_time": "2023-05-02T20:10:15.422Z"
   },
   {
    "duration": 30,
    "start_time": "2023-05-02T20:10:20.082Z"
   },
   {
    "duration": 40,
    "start_time": "2023-05-02T20:13:06.025Z"
   },
   {
    "duration": 3,
    "start_time": "2023-05-02T20:13:12.689Z"
   },
   {
    "duration": 10,
    "start_time": "2023-05-02T20:19:40.978Z"
   },
   {
    "duration": 9,
    "start_time": "2023-05-02T20:21:02.577Z"
   },
   {
    "duration": 24,
    "start_time": "2023-05-02T20:23:44.677Z"
   },
   {
    "duration": 58,
    "start_time": "2023-05-02T20:23:54.608Z"
   },
   {
    "duration": 3,
    "start_time": "2023-05-02T20:24:03.205Z"
   },
   {
    "duration": 56,
    "start_time": "2023-05-02T20:24:06.244Z"
   },
   {
    "duration": 25,
    "start_time": "2023-05-02T20:24:24.933Z"
   },
   {
    "duration": 17,
    "start_time": "2023-05-02T20:24:34.602Z"
   },
   {
    "duration": 12,
    "start_time": "2023-05-02T20:24:42.716Z"
   },
   {
    "duration": 93,
    "start_time": "2023-05-02T20:31:59.695Z"
   },
   {
    "duration": 14,
    "start_time": "2023-05-02T20:32:15.289Z"
   },
   {
    "duration": 104,
    "start_time": "2023-05-02T20:42:11.406Z"
   },
   {
    "duration": 2,
    "start_time": "2023-05-02T20:42:20.742Z"
   },
   {
    "duration": 8,
    "start_time": "2023-05-02T20:43:19.003Z"
   },
   {
    "duration": 13,
    "start_time": "2023-05-02T20:44:31.411Z"
   },
   {
    "duration": 12,
    "start_time": "2023-05-02T20:44:39.891Z"
   },
   {
    "duration": 106,
    "start_time": "2023-05-02T20:45:45.395Z"
   },
   {
    "duration": 113,
    "start_time": "2023-05-02T20:46:07.326Z"
   },
   {
    "duration": 8,
    "start_time": "2023-05-02T20:46:20.638Z"
   },
   {
    "duration": 4,
    "start_time": "2023-05-02T20:47:56.202Z"
   },
   {
    "duration": 4,
    "start_time": "2023-05-02T20:48:15.013Z"
   },
   {
    "duration": 6,
    "start_time": "2023-05-02T20:48:23.506Z"
   },
   {
    "duration": 16,
    "start_time": "2023-05-02T20:50:24.843Z"
   },
   {
    "duration": 8,
    "start_time": "2023-05-02T20:50:34.715Z"
   },
   {
    "duration": 7,
    "start_time": "2023-05-02T20:50:53.076Z"
   },
   {
    "duration": 4,
    "start_time": "2023-05-02T20:50:54.396Z"
   },
   {
    "duration": 4,
    "start_time": "2023-05-02T20:51:53.341Z"
   },
   {
    "duration": 10,
    "start_time": "2023-05-02T20:54:04.300Z"
   },
   {
    "duration": 1119,
    "start_time": "2023-05-03T12:12:57.264Z"
   },
   {
    "duration": 862,
    "start_time": "2023-05-03T12:12:58.385Z"
   },
   {
    "duration": 15,
    "start_time": "2023-05-03T12:12:59.249Z"
   },
   {
    "duration": 19,
    "start_time": "2023-05-03T12:12:59.267Z"
   },
   {
    "duration": 30,
    "start_time": "2023-05-03T12:12:59.288Z"
   },
   {
    "duration": 10,
    "start_time": "2023-05-03T12:12:59.320Z"
   },
   {
    "duration": 30,
    "start_time": "2023-05-03T12:12:59.332Z"
   },
   {
    "duration": 14,
    "start_time": "2023-05-03T12:12:59.364Z"
   },
   {
    "duration": 38,
    "start_time": "2023-05-03T12:12:59.380Z"
   },
   {
    "duration": 9,
    "start_time": "2023-05-03T12:12:59.421Z"
   },
   {
    "duration": 94,
    "start_time": "2023-05-03T12:12:59.431Z"
   },
   {
    "duration": 4,
    "start_time": "2023-05-03T12:19:00.322Z"
   },
   {
    "duration": 14,
    "start_time": "2023-05-03T12:20:05.162Z"
   },
   {
    "duration": 12,
    "start_time": "2023-05-03T12:20:12.107Z"
   },
   {
    "duration": 12,
    "start_time": "2023-05-03T12:20:27.831Z"
   },
   {
    "duration": 13,
    "start_time": "2023-05-03T12:20:38.623Z"
   },
   {
    "duration": 12,
    "start_time": "2023-05-03T12:23:58.157Z"
   },
   {
    "duration": 14,
    "start_time": "2023-05-03T12:24:57.510Z"
   },
   {
    "duration": 101,
    "start_time": "2023-05-03T12:54:18.940Z"
   },
   {
    "duration": 3,
    "start_time": "2023-05-03T12:55:06.216Z"
   },
   {
    "duration": 9,
    "start_time": "2023-05-03T12:55:16.039Z"
   },
   {
    "duration": 10,
    "start_time": "2023-05-03T12:55:42.038Z"
   },
   {
    "duration": 20,
    "start_time": "2023-05-03T12:56:10.046Z"
   },
   {
    "duration": 15,
    "start_time": "2023-05-03T12:56:12.271Z"
   },
   {
    "duration": 12,
    "start_time": "2023-05-03T12:56:13.645Z"
   },
   {
    "duration": 18,
    "start_time": "2023-05-03T12:59:16.944Z"
   },
   {
    "duration": 553,
    "start_time": "2023-05-03T12:59:37.368Z"
   },
   {
    "duration": 10,
    "start_time": "2023-05-03T13:00:43.353Z"
   },
   {
    "duration": 1591,
    "start_time": "2023-05-03T13:03:33.625Z"
   },
   {
    "duration": 14,
    "start_time": "2023-05-03T13:04:17.777Z"
   },
   {
    "duration": 13,
    "start_time": "2023-05-03T13:08:14.567Z"
   },
   {
    "duration": 13,
    "start_time": "2023-05-03T13:08:42.996Z"
   },
   {
    "duration": 1894,
    "start_time": "2023-05-03T13:09:38.733Z"
   },
   {
    "duration": 1873,
    "start_time": "2023-05-03T13:10:03.250Z"
   },
   {
    "duration": 1850,
    "start_time": "2023-05-03T13:10:14.068Z"
   },
   {
    "duration": 1684,
    "start_time": "2023-05-03T13:10:31.734Z"
   },
   {
    "duration": 1606,
    "start_time": "2023-05-03T13:11:12.025Z"
   },
   {
    "duration": 1638,
    "start_time": "2023-05-03T13:11:30.180Z"
   },
   {
    "duration": 1570,
    "start_time": "2023-05-03T13:11:51.059Z"
   },
   {
    "duration": 1516,
    "start_time": "2023-05-03T13:12:19.401Z"
   },
   {
    "duration": 8,
    "start_time": "2023-05-03T13:26:23.117Z"
   },
   {
    "duration": 8,
    "start_time": "2023-05-03T13:26:31.824Z"
   },
   {
    "duration": 9,
    "start_time": "2023-05-03T13:26:46.633Z"
   },
   {
    "duration": 3,
    "start_time": "2023-05-03T13:26:53.058Z"
   },
   {
    "duration": 9,
    "start_time": "2023-05-03T13:26:55.339Z"
   },
   {
    "duration": 824,
    "start_time": "2023-05-03T13:27:04.329Z"
   },
   {
    "duration": 781,
    "start_time": "2023-05-03T13:27:12.019Z"
   },
   {
    "duration": 810,
    "start_time": "2023-05-03T13:27:41.025Z"
   },
   {
    "duration": 14,
    "start_time": "2023-05-03T13:27:42.520Z"
   },
   {
    "duration": 685,
    "start_time": "2023-05-03T13:28:06.136Z"
   },
   {
    "duration": 14,
    "start_time": "2023-05-03T13:28:07.602Z"
   },
   {
    "duration": 10,
    "start_time": "2023-05-03T13:29:35.625Z"
   },
   {
    "duration": 6,
    "start_time": "2023-05-03T13:29:46.533Z"
   },
   {
    "duration": 7,
    "start_time": "2023-05-03T13:31:33.092Z"
   },
   {
    "duration": 703,
    "start_time": "2023-05-03T13:31:37.369Z"
   },
   {
    "duration": 5,
    "start_time": "2023-05-03T13:31:38.074Z"
   },
   {
    "duration": 641,
    "start_time": "2023-05-03T13:31:38.202Z"
   },
   {
    "duration": 5,
    "start_time": "2023-05-03T13:31:38.845Z"
   },
   {
    "duration": 9,
    "start_time": "2023-05-03T13:38:25.540Z"
   },
   {
    "duration": 8,
    "start_time": "2023-05-03T13:38:58.875Z"
   },
   {
    "duration": 9,
    "start_time": "2023-05-03T13:39:17.243Z"
   },
   {
    "duration": 7,
    "start_time": "2023-05-03T13:39:19.171Z"
   },
   {
    "duration": 7,
    "start_time": "2023-05-03T13:39:20.236Z"
   },
   {
    "duration": 7,
    "start_time": "2023-05-03T13:39:21.138Z"
   },
   {
    "duration": 185,
    "start_time": "2023-05-03T13:42:09.053Z"
   },
   {
    "duration": 4,
    "start_time": "2023-05-03T13:42:11.477Z"
   },
   {
    "duration": 8,
    "start_time": "2023-05-03T13:42:12.286Z"
   },
   {
    "duration": 13,
    "start_time": "2023-05-03T13:42:17.134Z"
   },
   {
    "duration": 157,
    "start_time": "2023-05-03T13:42:18.509Z"
   },
   {
    "duration": 4,
    "start_time": "2023-05-03T13:42:18.911Z"
   },
   {
    "duration": 170,
    "start_time": "2023-05-03T13:42:19.306Z"
   },
   {
    "duration": 5,
    "start_time": "2023-05-03T13:42:19.637Z"
   },
   {
    "duration": 184,
    "start_time": "2023-05-03T13:42:20.022Z"
   },
   {
    "duration": 5,
    "start_time": "2023-05-03T13:42:20.389Z"
   },
   {
    "duration": 5,
    "start_time": "2023-05-03T13:50:37.621Z"
   },
   {
    "duration": 6,
    "start_time": "2023-05-03T13:52:55.817Z"
   },
   {
    "duration": 6,
    "start_time": "2023-05-03T13:54:35.096Z"
   },
   {
    "duration": 173,
    "start_time": "2023-05-03T13:56:17.851Z"
   },
   {
    "duration": 7,
    "start_time": "2023-05-03T13:56:18.626Z"
   },
   {
    "duration": 149,
    "start_time": "2023-05-03T13:56:23.770Z"
   },
   {
    "duration": 7,
    "start_time": "2023-05-03T13:56:24.357Z"
   },
   {
    "duration": 152,
    "start_time": "2023-05-03T13:57:09.627Z"
   },
   {
    "duration": 5,
    "start_time": "2023-05-03T13:57:10.333Z"
   },
   {
    "duration": 3,
    "start_time": "2023-05-03T13:57:15.852Z"
   },
   {
    "duration": 167,
    "start_time": "2023-05-03T13:57:21.091Z"
   },
   {
    "duration": 6,
    "start_time": "2023-05-03T13:57:21.691Z"
   },
   {
    "duration": 3,
    "start_time": "2023-05-03T13:58:22.825Z"
   },
   {
    "duration": 335,
    "start_time": "2023-05-03T13:58:22.830Z"
   },
   {
    "duration": 8,
    "start_time": "2023-05-03T13:58:23.167Z"
   },
   {
    "duration": 27,
    "start_time": "2023-05-03T13:58:23.176Z"
   },
   {
    "duration": 22,
    "start_time": "2023-05-03T13:58:23.205Z"
   },
   {
    "duration": 10,
    "start_time": "2023-05-03T13:58:23.229Z"
   },
   {
    "duration": 22,
    "start_time": "2023-05-03T13:58:23.240Z"
   },
   {
    "duration": 54,
    "start_time": "2023-05-03T13:58:23.264Z"
   },
   {
    "duration": 105,
    "start_time": "2023-05-03T13:58:23.320Z"
   },
   {
    "duration": 96,
    "start_time": "2023-05-03T13:58:23.426Z"
   },
   {
    "duration": 102,
    "start_time": "2023-05-03T13:58:23.524Z"
   },
   {
    "duration": 1404,
    "start_time": "2023-05-03T13:58:23.717Z"
   },
   {
    "duration": 3,
    "start_time": "2023-05-03T13:58:25.122Z"
   },
   {
    "duration": 96,
    "start_time": "2023-05-03T13:58:25.127Z"
   },
   {
    "duration": 100,
    "start_time": "2023-05-03T13:58:25.224Z"
   },
   {
    "duration": 155,
    "start_time": "2023-05-03T13:58:25.326Z"
   },
   {
    "duration": 5,
    "start_time": "2023-05-03T13:58:25.482Z"
   },
   {
    "duration": 188,
    "start_time": "2023-05-03T13:58:25.488Z"
   },
   {
    "duration": 6,
    "start_time": "2023-05-03T13:58:25.677Z"
   },
   {
    "duration": 179,
    "start_time": "2023-05-03T13:58:25.685Z"
   },
   {
    "duration": 6,
    "start_time": "2023-05-03T13:58:25.866Z"
   },
   {
    "duration": 704,
    "start_time": "2023-05-03T14:01:32.524Z"
   },
   {
    "duration": 6,
    "start_time": "2023-05-03T14:01:35.481Z"
   },
   {
    "duration": 6,
    "start_time": "2023-05-03T14:01:44.529Z"
   },
   {
    "duration": 728,
    "start_time": "2023-05-03T14:14:11.073Z"
   },
   {
    "duration": 5,
    "start_time": "2023-05-03T14:14:12.825Z"
   },
   {
    "duration": 6,
    "start_time": "2023-05-03T14:16:26.750Z"
   },
   {
    "duration": 6,
    "start_time": "2023-05-03T14:16:39.919Z"
   },
   {
    "duration": 80,
    "start_time": "2023-05-03T14:17:45.022Z"
   },
   {
    "duration": 7,
    "start_time": "2023-05-03T14:17:49.292Z"
   },
   {
    "duration": 52,
    "start_time": "2023-05-03T14:19:46.522Z"
   },
   {
    "duration": 698,
    "start_time": "2023-05-03T14:19:47.613Z"
   },
   {
    "duration": 45,
    "start_time": "2023-05-03T14:19:48.529Z"
   },
   {
    "duration": 63,
    "start_time": "2023-05-03T14:19:52.411Z"
   },
   {
    "duration": 7,
    "start_time": "2023-05-03T14:19:55.455Z"
   },
   {
    "duration": 63,
    "start_time": "2023-05-03T14:21:34.667Z"
   },
   {
    "duration": 7,
    "start_time": "2023-05-03T14:21:43.130Z"
   },
   {
    "duration": 9,
    "start_time": "2023-05-03T14:22:33.752Z"
   },
   {
    "duration": 181,
    "start_time": "2023-05-03T14:23:04.418Z"
   },
   {
    "duration": 8,
    "start_time": "2023-05-03T14:23:05.816Z"
   },
   {
    "duration": 149,
    "start_time": "2023-05-03T14:23:24.859Z"
   },
   {
    "duration": 8,
    "start_time": "2023-05-03T14:23:25.626Z"
   },
   {
    "duration": 5,
    "start_time": "2023-05-03T14:24:43.718Z"
   },
   {
    "duration": 5,
    "start_time": "2023-05-03T14:24:57.552Z"
   },
   {
    "duration": 149,
    "start_time": "2023-05-03T14:27:28.356Z"
   },
   {
    "duration": 10,
    "start_time": "2023-05-03T14:27:28.507Z"
   },
   {
    "duration": 0,
    "start_time": "2023-05-03T14:27:28.519Z"
   },
   {
    "duration": 0,
    "start_time": "2023-05-03T14:27:28.520Z"
   },
   {
    "duration": 0,
    "start_time": "2023-05-03T14:27:28.521Z"
   },
   {
    "duration": 0,
    "start_time": "2023-05-03T14:27:28.521Z"
   },
   {
    "duration": 0,
    "start_time": "2023-05-03T14:27:28.522Z"
   },
   {
    "duration": 0,
    "start_time": "2023-05-03T14:27:28.523Z"
   },
   {
    "duration": 6,
    "start_time": "2023-05-03T14:28:07.484Z"
   },
   {
    "duration": 194,
    "start_time": "2023-05-03T14:28:07.491Z"
   },
   {
    "duration": 5,
    "start_time": "2023-05-03T14:28:07.687Z"
   },
   {
    "duration": 168,
    "start_time": "2023-05-03T14:28:07.693Z"
   },
   {
    "duration": 7,
    "start_time": "2023-05-03T14:28:07.863Z"
   },
   {
    "duration": 731,
    "start_time": "2023-05-03T14:28:07.871Z"
   },
   {
    "duration": 7,
    "start_time": "2023-05-03T14:28:08.604Z"
   },
   {
    "duration": 182,
    "start_time": "2023-05-03T14:28:32.558Z"
   },
   {
    "duration": 6,
    "start_time": "2023-05-03T14:28:32.741Z"
   },
   {
    "duration": 167,
    "start_time": "2023-05-03T14:28:32.748Z"
   },
   {
    "duration": 6,
    "start_time": "2023-05-03T14:28:32.917Z"
   },
   {
    "duration": 179,
    "start_time": "2023-05-03T14:28:32.924Z"
   },
   {
    "duration": 15,
    "start_time": "2023-05-03T14:28:33.105Z"
   },
   {
    "duration": 720,
    "start_time": "2023-05-03T14:28:33.121Z"
   },
   {
    "duration": 5,
    "start_time": "2023-05-03T14:28:33.843Z"
   },
   {
    "duration": 159,
    "start_time": "2023-05-03T14:31:52.244Z"
   },
   {
    "duration": 6,
    "start_time": "2023-05-03T14:31:52.405Z"
   },
   {
    "duration": 199,
    "start_time": "2023-05-03T14:31:52.418Z"
   },
   {
    "duration": 6,
    "start_time": "2023-05-03T14:31:52.619Z"
   },
   {
    "duration": 190,
    "start_time": "2023-05-03T14:31:52.627Z"
   },
   {
    "duration": 6,
    "start_time": "2023-05-03T14:31:52.819Z"
   },
   {
    "duration": 739,
    "start_time": "2023-05-03T14:31:52.826Z"
   },
   {
    "duration": 5,
    "start_time": "2023-05-03T14:31:53.567Z"
   },
   {
    "duration": 737,
    "start_time": "2023-05-03T14:31:53.574Z"
   },
   {
    "duration": 7,
    "start_time": "2023-05-03T14:31:54.313Z"
   },
   {
    "duration": 724,
    "start_time": "2023-05-03T14:31:54.322Z"
   },
   {
    "duration": 6,
    "start_time": "2023-05-03T14:31:55.047Z"
   },
   {
    "duration": 3,
    "start_time": "2023-05-03T14:33:33.019Z"
   },
   {
    "duration": 331,
    "start_time": "2023-05-03T14:33:33.023Z"
   },
   {
    "duration": 8,
    "start_time": "2023-05-03T14:33:33.357Z"
   },
   {
    "duration": 14,
    "start_time": "2023-05-03T14:33:33.366Z"
   },
   {
    "duration": 16,
    "start_time": "2023-05-03T14:33:33.382Z"
   },
   {
    "duration": 24,
    "start_time": "2023-05-03T14:33:33.399Z"
   },
   {
    "duration": 22,
    "start_time": "2023-05-03T14:33:33.424Z"
   },
   {
    "duration": 70,
    "start_time": "2023-05-03T14:33:33.448Z"
   },
   {
    "duration": 102,
    "start_time": "2023-05-03T14:33:33.520Z"
   },
   {
    "duration": 104,
    "start_time": "2023-05-03T14:33:33.623Z"
   },
   {
    "duration": 5,
    "start_time": "2023-05-03T14:33:33.818Z"
   },
   {
    "duration": 1497,
    "start_time": "2023-05-03T14:33:33.824Z"
   },
   {
    "duration": 3,
    "start_time": "2023-05-03T14:33:35.324Z"
   },
   {
    "duration": 7,
    "start_time": "2023-05-03T14:33:35.418Z"
   },
   {
    "duration": 99,
    "start_time": "2023-05-03T14:33:35.427Z"
   },
   {
    "duration": 165,
    "start_time": "2023-05-03T14:33:35.528Z"
   },
   {
    "duration": 6,
    "start_time": "2023-05-03T14:33:35.694Z"
   },
   {
    "duration": 173,
    "start_time": "2023-05-03T14:33:35.701Z"
   },
   {
    "duration": 6,
    "start_time": "2023-05-03T14:33:35.876Z"
   },
   {
    "duration": 183,
    "start_time": "2023-05-03T14:33:35.883Z"
   },
   {
    "duration": 6,
    "start_time": "2023-05-03T14:33:36.067Z"
   },
   {
    "duration": 710,
    "start_time": "2023-05-03T14:33:36.075Z"
   },
   {
    "duration": 6,
    "start_time": "2023-05-03T14:33:36.786Z"
   },
   {
    "duration": 804,
    "start_time": "2023-05-03T14:33:36.793Z"
   },
   {
    "duration": 7,
    "start_time": "2023-05-03T14:33:37.598Z"
   },
   {
    "duration": 753,
    "start_time": "2023-05-03T14:33:37.616Z"
   },
   {
    "duration": 5,
    "start_time": "2023-05-03T14:33:38.371Z"
   },
   {
    "duration": 2314,
    "start_time": "2023-05-03T21:03:25.973Z"
   },
   {
    "duration": 499,
    "start_time": "2023-05-03T21:03:28.289Z"
   },
   {
    "duration": 26,
    "start_time": "2023-05-03T21:03:28.790Z"
   },
   {
    "duration": 30,
    "start_time": "2023-05-03T21:03:28.819Z"
   },
   {
    "duration": 34,
    "start_time": "2023-05-03T21:03:28.851Z"
   },
   {
    "duration": 48,
    "start_time": "2023-05-03T21:03:28.887Z"
   },
   {
    "duration": 43,
    "start_time": "2023-05-03T21:03:28.937Z"
   },
   {
    "duration": 112,
    "start_time": "2023-05-03T21:03:28.982Z"
   },
   {
    "duration": 106,
    "start_time": "2023-05-03T21:03:29.098Z"
   },
   {
    "duration": 113,
    "start_time": "2023-05-03T21:03:29.211Z"
   },
   {
    "duration": 87,
    "start_time": "2023-05-03T21:03:29.333Z"
   },
   {
    "duration": 1871,
    "start_time": "2023-05-03T21:03:29.428Z"
   },
   {
    "duration": 4,
    "start_time": "2023-05-03T21:03:31.302Z"
   },
   {
    "duration": 96,
    "start_time": "2023-05-03T21:03:31.312Z"
   },
   {
    "duration": 69,
    "start_time": "2023-05-03T21:03:31.411Z"
   },
   {
    "duration": 365,
    "start_time": "2023-05-03T21:03:31.482Z"
   },
   {
    "duration": 10,
    "start_time": "2023-05-03T21:03:31.849Z"
   },
   {
    "duration": 277,
    "start_time": "2023-05-03T21:03:31.861Z"
   },
   {
    "duration": 8,
    "start_time": "2023-05-03T21:03:32.141Z"
   },
   {
    "duration": 309,
    "start_time": "2023-05-03T21:03:32.150Z"
   },
   {
    "duration": 8,
    "start_time": "2023-05-03T21:03:32.462Z"
   },
   {
    "duration": 1198,
    "start_time": "2023-05-03T21:03:32.472Z"
   },
   {
    "duration": 7,
    "start_time": "2023-05-03T21:03:33.671Z"
   },
   {
    "duration": 1029,
    "start_time": "2023-05-03T21:03:33.692Z"
   },
   {
    "duration": 10,
    "start_time": "2023-05-03T21:03:34.731Z"
   },
   {
    "duration": 1026,
    "start_time": "2023-05-03T21:03:34.743Z"
   },
   {
    "duration": 7,
    "start_time": "2023-05-03T21:03:35.770Z"
   },
   {
    "duration": 1139,
    "start_time": "2023-05-04T18:01:51.928Z"
   },
   {
    "duration": 1430,
    "start_time": "2023-05-04T18:01:53.069Z"
   },
   {
    "duration": 14,
    "start_time": "2023-05-04T18:01:54.501Z"
   },
   {
    "duration": 18,
    "start_time": "2023-05-04T18:01:54.517Z"
   },
   {
    "duration": 19,
    "start_time": "2023-05-04T18:01:54.536Z"
   },
   {
    "duration": 10,
    "start_time": "2023-05-04T18:01:54.557Z"
   },
   {
    "duration": 41,
    "start_time": "2023-05-04T18:01:54.569Z"
   },
   {
    "duration": 48,
    "start_time": "2023-05-04T18:03:43.313Z"
   },
   {
    "duration": 66,
    "start_time": "2023-05-04T18:03:47.833Z"
   },
   {
    "duration": 39,
    "start_time": "2023-05-04T18:03:55.791Z"
   },
   {
    "duration": 41,
    "start_time": "2023-05-04T18:03:59.103Z"
   },
   {
    "duration": 18,
    "start_time": "2023-05-04T18:04:23.837Z"
   },
   {
    "duration": 17,
    "start_time": "2023-05-04T18:04:27.644Z"
   },
   {
    "duration": 19,
    "start_time": "2023-05-04T18:04:30.495Z"
   },
   {
    "duration": 87,
    "start_time": "2023-05-04T18:12:04.771Z"
   },
   {
    "duration": 132,
    "start_time": "2023-05-04T18:14:48.490Z"
   },
   {
    "duration": 38,
    "start_time": "2023-05-04T18:15:08.379Z"
   },
   {
    "duration": 276,
    "start_time": "2023-05-04T18:15:16.227Z"
   },
   {
    "duration": 15,
    "start_time": "2023-05-04T18:15:19.567Z"
   },
   {
    "duration": 15,
    "start_time": "2023-05-04T18:15:25.796Z"
   },
   {
    "duration": 9,
    "start_time": "2023-05-04T18:15:40.299Z"
   },
   {
    "duration": 7,
    "start_time": "2023-05-04T18:16:55.418Z"
   },
   {
    "duration": 9,
    "start_time": "2023-05-04T18:16:59.691Z"
   },
   {
    "duration": 34,
    "start_time": "2023-05-04T18:17:04.905Z"
   },
   {
    "duration": 23,
    "start_time": "2023-05-04T18:17:43.174Z"
   },
   {
    "duration": 54,
    "start_time": "2023-05-04T18:18:45.445Z"
   },
   {
    "duration": 10,
    "start_time": "2023-05-04T18:19:32.764Z"
   },
   {
    "duration": 2,
    "start_time": "2023-05-04T18:20:10.379Z"
   },
   {
    "duration": 395,
    "start_time": "2023-05-04T18:20:10.383Z"
   },
   {
    "duration": 11,
    "start_time": "2023-05-04T18:20:10.780Z"
   },
   {
    "duration": 13,
    "start_time": "2023-05-04T18:20:10.793Z"
   },
   {
    "duration": 17,
    "start_time": "2023-05-04T18:20:10.808Z"
   },
   {
    "duration": 28,
    "start_time": "2023-05-04T18:20:10.827Z"
   },
   {
    "duration": 31,
    "start_time": "2023-05-04T18:20:10.857Z"
   },
   {
    "duration": 22,
    "start_time": "2023-05-04T18:20:15.573Z"
   },
   {
    "duration": 23,
    "start_time": "2023-05-04T18:21:39.743Z"
   },
   {
    "duration": 733,
    "start_time": "2023-05-04T18:23:36.944Z"
   },
   {
    "duration": 25,
    "start_time": "2023-05-04T18:26:00.203Z"
   },
   {
    "duration": 113,
    "start_time": "2023-05-04T18:26:00.264Z"
   },
   {
    "duration": 196,
    "start_time": "2023-05-04T18:26:00.383Z"
   },
   {
    "duration": 176,
    "start_time": "2023-05-04T18:26:00.581Z"
   },
   {
    "duration": 1914,
    "start_time": "2023-05-04T18:26:00.758Z"
   },
   {
    "duration": 74,
    "start_time": "2023-05-04T18:26:02.675Z"
   },
   {
    "duration": 26,
    "start_time": "2023-05-04T18:26:02.751Z"
   },
   {
    "duration": 18,
    "start_time": "2023-05-04T18:26:02.780Z"
   },
   {
    "duration": 231,
    "start_time": "2023-05-04T18:26:02.800Z"
   },
   {
    "duration": 18,
    "start_time": "2023-05-04T18:26:03.035Z"
   },
   {
    "duration": 205,
    "start_time": "2023-05-04T18:26:03.057Z"
   },
   {
    "duration": 8,
    "start_time": "2023-05-04T18:26:03.264Z"
   },
   {
    "duration": 187,
    "start_time": "2023-05-04T18:26:03.274Z"
   },
   {
    "duration": 14,
    "start_time": "2023-05-04T18:26:03.463Z"
   },
   {
    "duration": 925,
    "start_time": "2023-05-04T18:26:03.479Z"
   },
   {
    "duration": 7,
    "start_time": "2023-05-04T18:26:04.406Z"
   },
   {
    "duration": 981,
    "start_time": "2023-05-04T18:26:04.415Z"
   },
   {
    "duration": 7,
    "start_time": "2023-05-04T18:26:05.398Z"
   },
   {
    "duration": 811,
    "start_time": "2023-05-04T18:26:05.407Z"
   },
   {
    "duration": 7,
    "start_time": "2023-05-04T18:26:06.220Z"
   },
   {
    "duration": 4,
    "start_time": "2023-05-04T18:26:25.184Z"
   },
   {
    "duration": 454,
    "start_time": "2023-05-04T18:26:25.190Z"
   },
   {
    "duration": 10,
    "start_time": "2023-05-04T18:26:25.646Z"
   },
   {
    "duration": 27,
    "start_time": "2023-05-04T18:26:25.658Z"
   },
   {
    "duration": 24,
    "start_time": "2023-05-04T18:26:25.689Z"
   },
   {
    "duration": 50,
    "start_time": "2023-05-04T18:26:25.715Z"
   },
   {
    "duration": 64,
    "start_time": "2023-05-04T18:26:25.767Z"
   },
   {
    "duration": 25,
    "start_time": "2023-05-04T18:26:25.833Z"
   },
   {
    "duration": 41,
    "start_time": "2023-05-04T18:26:25.860Z"
   },
   {
    "duration": 79,
    "start_time": "2023-05-04T18:26:25.903Z"
   },
   {
    "duration": 90,
    "start_time": "2023-05-04T18:28:09.903Z"
   },
   {
    "duration": 94,
    "start_time": "2023-05-04T18:28:14.900Z"
   },
   {
    "duration": 27,
    "start_time": "2023-05-04T18:28:41.981Z"
   },
   {
    "duration": 1392,
    "start_time": "2023-05-04T18:28:49.898Z"
   },
   {
    "duration": 158,
    "start_time": "2023-05-04T18:29:04.005Z"
   },
   {
    "duration": 195,
    "start_time": "2023-05-04T18:29:32.097Z"
   },
   {
    "duration": 796,
    "start_time": "2023-05-04T18:30:28.370Z"
   },
   {
    "duration": 778,
    "start_time": "2023-05-04T18:30:52.762Z"
   },
   {
    "duration": 15,
    "start_time": "2023-05-04T18:32:46.857Z"
   },
   {
    "duration": 14,
    "start_time": "2023-05-04T18:33:08.166Z"
   },
   {
    "duration": 1188,
    "start_time": "2023-05-04T18:33:41.227Z"
   },
   {
    "duration": 166,
    "start_time": "2023-05-04T18:33:51.674Z"
   },
   {
    "duration": 421,
    "start_time": "2023-05-04T18:34:09.091Z"
   },
   {
    "duration": 156,
    "start_time": "2023-05-04T18:34:44.204Z"
   },
   {
    "duration": 403,
    "start_time": "2023-05-04T18:34:48.891Z"
   },
   {
    "duration": 421,
    "start_time": "2023-05-04T18:35:49.055Z"
   },
   {
    "duration": 364,
    "start_time": "2023-05-04T18:36:03.071Z"
   },
   {
    "duration": 15,
    "start_time": "2023-05-04T18:37:00.871Z"
   },
   {
    "duration": 17,
    "start_time": "2023-05-04T18:37:12.725Z"
   },
   {
    "duration": 435,
    "start_time": "2023-05-04T18:37:20.476Z"
   },
   {
    "duration": 364,
    "start_time": "2023-05-04T18:37:27.715Z"
   },
   {
    "duration": 1604,
    "start_time": "2023-05-04T18:39:00.398Z"
   },
   {
    "duration": 192,
    "start_time": "2023-05-04T18:39:18.655Z"
   },
   {
    "duration": 1392,
    "start_time": "2023-05-04T18:39:36.904Z"
   },
   {
    "duration": 13,
    "start_time": "2023-05-04T18:41:24.988Z"
   },
   {
    "duration": 16,
    "start_time": "2023-05-04T18:41:32.845Z"
   },
   {
    "duration": 15,
    "start_time": "2023-05-04T18:42:02.964Z"
   },
   {
    "duration": 12,
    "start_time": "2023-05-04T18:42:09.987Z"
   },
   {
    "duration": 16,
    "start_time": "2023-05-04T18:42:38.682Z"
   },
   {
    "duration": 1266,
    "start_time": "2023-05-04T18:43:59.826Z"
   },
   {
    "duration": 1925,
    "start_time": "2023-05-04T18:45:19.015Z"
   },
   {
    "duration": 1098,
    "start_time": "2023-05-04T18:45:52.813Z"
   },
   {
    "duration": 161,
    "start_time": "2023-05-04T18:47:04.079Z"
   },
   {
    "duration": 116,
    "start_time": "2023-05-04T18:47:09.269Z"
   },
   {
    "duration": 159,
    "start_time": "2023-05-04T18:48:04.520Z"
   },
   {
    "duration": 109,
    "start_time": "2023-05-04T18:48:08.776Z"
   },
   {
    "duration": 1165,
    "start_time": "2023-05-04T18:48:19.441Z"
   },
   {
    "duration": 1385,
    "start_time": "2023-05-04T18:48:36.351Z"
   },
   {
    "duration": 1114,
    "start_time": "2023-05-04T18:49:17.870Z"
   },
   {
    "duration": 1078,
    "start_time": "2023-05-04T18:49:43.438Z"
   },
   {
    "duration": 6,
    "start_time": "2023-05-04T18:50:41.235Z"
   },
   {
    "duration": 5,
    "start_time": "2023-05-04T18:50:54.019Z"
   },
   {
    "duration": 7,
    "start_time": "2023-05-04T18:51:01.731Z"
   },
   {
    "duration": 7,
    "start_time": "2023-05-04T18:51:51.289Z"
   },
   {
    "duration": 146,
    "start_time": "2023-05-04T18:53:13.938Z"
   },
   {
    "duration": 1293,
    "start_time": "2023-05-04T18:54:01.388Z"
   },
   {
    "duration": 1098,
    "start_time": "2023-05-04T18:58:46.879Z"
   },
   {
    "duration": 1083,
    "start_time": "2023-05-04T18:58:56.069Z"
   },
   {
    "duration": 1376,
    "start_time": "2023-05-04T18:59:04.558Z"
   },
   {
    "duration": 1124,
    "start_time": "2023-05-04T19:01:40.689Z"
   },
   {
    "duration": 3,
    "start_time": "2023-05-04T19:06:29.728Z"
   },
   {
    "duration": 3,
    "start_time": "2023-05-04T19:08:52.244Z"
   },
   {
    "duration": 4,
    "start_time": "2023-05-04T19:10:55.721Z"
   },
   {
    "duration": 3,
    "start_time": "2023-05-04T19:11:43.536Z"
   },
   {
    "duration": 5,
    "start_time": "2023-05-04T19:11:47.540Z"
   },
   {
    "duration": 29,
    "start_time": "2023-05-04T21:11:06.926Z"
   },
   {
    "duration": 13,
    "start_time": "2023-05-04T21:13:09.292Z"
   },
   {
    "duration": 14,
    "start_time": "2023-05-04T21:13:27.170Z"
   },
   {
    "duration": 15,
    "start_time": "2023-05-04T21:13:53.945Z"
   },
   {
    "duration": 24,
    "start_time": "2023-05-04T21:13:55.281Z"
   },
   {
    "duration": 10,
    "start_time": "2023-05-04T21:14:14.272Z"
   },
   {
    "duration": 7,
    "start_time": "2023-05-04T21:14:34.875Z"
   },
   {
    "duration": 9,
    "start_time": "2023-05-04T21:16:26.615Z"
   },
   {
    "duration": 27,
    "start_time": "2023-05-04T21:16:28.006Z"
   },
   {
    "duration": 17,
    "start_time": "2023-05-04T21:16:29.244Z"
   },
   {
    "duration": 31,
    "start_time": "2023-05-04T21:16:39.629Z"
   },
   {
    "duration": 12,
    "start_time": "2023-05-04T21:16:50.155Z"
   },
   {
    "duration": 8,
    "start_time": "2023-05-04T21:16:52.485Z"
   },
   {
    "duration": 9,
    "start_time": "2023-05-04T21:34:19.341Z"
   },
   {
    "duration": 9,
    "start_time": "2023-05-04T21:34:25.684Z"
   },
   {
    "duration": 3,
    "start_time": "2023-05-04T21:34:37.273Z"
   },
   {
    "duration": 8,
    "start_time": "2023-05-04T21:34:37.277Z"
   },
   {
    "duration": 315,
    "start_time": "2023-05-04T21:34:37.286Z"
   },
   {
    "duration": 8,
    "start_time": "2023-05-04T21:34:37.603Z"
   },
   {
    "duration": 32,
    "start_time": "2023-05-04T21:34:37.612Z"
   },
   {
    "duration": 15,
    "start_time": "2023-05-04T21:34:37.645Z"
   },
   {
    "duration": 14,
    "start_time": "2023-05-04T21:34:37.661Z"
   },
   {
    "duration": 57,
    "start_time": "2023-05-04T21:34:37.676Z"
   },
   {
    "duration": 17,
    "start_time": "2023-05-04T21:34:37.735Z"
   },
   {
    "duration": 27,
    "start_time": "2023-05-04T21:34:37.755Z"
   },
   {
    "duration": 7,
    "start_time": "2023-05-04T21:34:37.784Z"
   },
   {
    "duration": 1261,
    "start_time": "2023-05-04T21:34:37.793Z"
   },
   {
    "duration": 13,
    "start_time": "2023-05-04T21:34:39.056Z"
   },
   {
    "duration": 186,
    "start_time": "2023-05-04T21:34:39.071Z"
   },
   {
    "duration": 12,
    "start_time": "2023-05-04T21:34:39.259Z"
   },
   {
    "duration": 6,
    "start_time": "2023-05-04T21:34:39.273Z"
   },
   {
    "duration": 69,
    "start_time": "2023-05-04T21:34:39.280Z"
   },
   {
    "duration": 103,
    "start_time": "2023-05-04T21:34:39.354Z"
   },
   {
    "duration": 193,
    "start_time": "2023-05-04T21:34:39.458Z"
   },
   {
    "duration": 98,
    "start_time": "2023-05-04T21:34:39.653Z"
   },
   {
    "duration": 1506,
    "start_time": "2023-05-04T21:34:39.752Z"
   },
   {
    "duration": 4,
    "start_time": "2023-05-04T21:34:41.350Z"
   },
   {
    "duration": 97,
    "start_time": "2023-05-04T21:34:41.358Z"
   },
   {
    "duration": 12,
    "start_time": "2023-05-04T21:34:41.456Z"
   },
   {
    "duration": 762,
    "start_time": "2023-05-04T21:35:39.469Z"
   },
   {
    "duration": 8,
    "start_time": "2023-05-04T21:35:51.473Z"
   },
   {
    "duration": 1056,
    "start_time": "2023-05-04T21:36:02.035Z"
   },
   {
    "duration": 8,
    "start_time": "2023-05-04T21:36:36.978Z"
   },
   {
    "duration": 1037,
    "start_time": "2023-05-04T21:36:52.506Z"
   },
   {
    "duration": 9,
    "start_time": "2023-05-04T21:37:00.447Z"
   },
   {
    "duration": 9,
    "start_time": "2023-05-04T21:37:20.279Z"
   },
   {
    "duration": 5,
    "start_time": "2023-05-04T21:37:31.918Z"
   },
   {
    "duration": 16,
    "start_time": "2023-05-04T21:38:07.599Z"
   },
   {
    "duration": 82,
    "start_time": "2023-05-04T21:39:10.965Z"
   },
   {
    "duration": 112,
    "start_time": "2023-05-04T21:39:21.675Z"
   },
   {
    "duration": 100,
    "start_time": "2023-05-04T21:39:27.595Z"
   },
   {
    "duration": 91,
    "start_time": "2023-05-04T21:39:37.339Z"
   },
   {
    "duration": 911,
    "start_time": "2023-05-04T21:40:14.691Z"
   },
   {
    "duration": 6,
    "start_time": "2023-05-04T21:40:16.730Z"
   },
   {
    "duration": 882,
    "start_time": "2023-05-04T21:40:46.545Z"
   },
   {
    "duration": 7,
    "start_time": "2023-05-04T21:40:48.161Z"
   },
   {
    "duration": 13,
    "start_time": "2023-05-04T21:47:25.438Z"
   },
   {
    "duration": 802,
    "start_time": "2023-05-04T21:49:24.574Z"
   },
   {
    "duration": 4,
    "start_time": "2023-05-04T21:49:39.754Z"
   },
   {
    "duration": 7,
    "start_time": "2023-05-04T21:50:07.297Z"
   },
   {
    "duration": 12,
    "start_time": "2023-05-04T21:50:44.916Z"
   },
   {
    "duration": 15,
    "start_time": "2023-05-04T21:52:29.525Z"
   },
   {
    "duration": 91,
    "start_time": "2023-05-04T21:54:34.330Z"
   },
   {
    "duration": 6,
    "start_time": "2023-05-04T21:54:57.752Z"
   },
   {
    "duration": 10,
    "start_time": "2023-05-04T21:55:21.855Z"
   },
   {
    "duration": 5,
    "start_time": "2023-05-04T21:55:34.111Z"
   },
   {
    "duration": 12,
    "start_time": "2023-05-04T21:56:11.004Z"
   },
   {
    "duration": 5,
    "start_time": "2023-05-04T21:56:13.974Z"
   },
   {
    "duration": 5,
    "start_time": "2023-05-04T21:56:16.589Z"
   },
   {
    "duration": 13,
    "start_time": "2023-05-04T21:56:17.645Z"
   },
   {
    "duration": 5,
    "start_time": "2023-05-04T21:56:18.433Z"
   },
   {
    "duration": 5,
    "start_time": "2023-05-04T21:56:54.716Z"
   },
   {
    "duration": 10,
    "start_time": "2023-05-04T21:57:05.379Z"
   },
   {
    "duration": 4,
    "start_time": "2023-05-04T21:57:11.811Z"
   },
   {
    "duration": 4,
    "start_time": "2023-05-04T21:57:22.452Z"
   },
   {
    "duration": 7,
    "start_time": "2023-05-04T21:57:39.841Z"
   },
   {
    "duration": 5,
    "start_time": "2023-05-04T21:57:51.442Z"
   },
   {
    "duration": 5,
    "start_time": "2023-05-04T21:59:01.729Z"
   },
   {
    "duration": 3,
    "start_time": "2023-05-04T21:59:11.735Z"
   },
   {
    "duration": 1366,
    "start_time": "2023-05-04T21:59:36.143Z"
   },
   {
    "duration": 3,
    "start_time": "2023-05-04T21:59:37.510Z"
   },
   {
    "duration": 1460,
    "start_time": "2023-05-04T21:59:37.515Z"
   },
   {
    "duration": 12,
    "start_time": "2023-05-04T21:59:38.977Z"
   },
   {
    "duration": 30,
    "start_time": "2023-05-04T21:59:38.990Z"
   },
   {
    "duration": 23,
    "start_time": "2023-05-04T21:59:39.021Z"
   },
   {
    "duration": 23,
    "start_time": "2023-05-04T21:59:39.046Z"
   },
   {
    "duration": 78,
    "start_time": "2023-05-04T21:59:39.071Z"
   },
   {
    "duration": 14,
    "start_time": "2023-05-04T21:59:39.151Z"
   },
   {
    "duration": 39,
    "start_time": "2023-05-04T21:59:39.168Z"
   },
   {
    "duration": 15,
    "start_time": "2023-05-04T21:59:39.209Z"
   },
   {
    "duration": 1111,
    "start_time": "2023-05-04T21:59:39.226Z"
   },
   {
    "duration": 110,
    "start_time": "2023-05-04T21:59:40.338Z"
   },
   {
    "duration": 112,
    "start_time": "2023-05-04T21:59:40.450Z"
   },
   {
    "duration": 12,
    "start_time": "2023-05-04T21:59:40.564Z"
   },
   {
    "duration": 7,
    "start_time": "2023-05-04T21:59:40.581Z"
   },
   {
    "duration": 62,
    "start_time": "2023-05-04T21:59:40.590Z"
   },
   {
    "duration": 108,
    "start_time": "2023-05-04T21:59:40.654Z"
   },
   {
    "duration": 106,
    "start_time": "2023-05-04T21:59:40.849Z"
   },
   {
    "duration": 194,
    "start_time": "2023-05-04T21:59:40.957Z"
   },
   {
    "duration": 2205,
    "start_time": "2023-05-04T21:59:41.153Z"
   },
   {
    "duration": 89,
    "start_time": "2023-05-04T21:59:43.361Z"
   },
   {
    "duration": 106,
    "start_time": "2023-05-04T21:59:43.451Z"
   },
   {
    "duration": 14,
    "start_time": "2023-05-04T21:59:43.559Z"
   },
   {
    "duration": 4,
    "start_time": "2023-05-04T21:59:43.574Z"
   },
   {
    "duration": 6,
    "start_time": "2023-05-04T21:59:43.580Z"
   },
   {
    "duration": 6,
    "start_time": "2023-05-04T21:59:43.588Z"
   },
   {
    "duration": 7,
    "start_time": "2023-05-04T21:59:43.597Z"
   },
   {
    "duration": 10,
    "start_time": "2023-05-04T21:59:43.605Z"
   },
   {
    "duration": 144,
    "start_time": "2023-05-04T21:59:43.616Z"
   },
   {
    "duration": 0,
    "start_time": "2023-05-04T21:59:43.761Z"
   },
   {
    "duration": 0,
    "start_time": "2023-05-04T21:59:43.762Z"
   },
   {
    "duration": 0,
    "start_time": "2023-05-04T21:59:43.763Z"
   },
   {
    "duration": 0,
    "start_time": "2023-05-04T21:59:43.764Z"
   },
   {
    "duration": 0,
    "start_time": "2023-05-04T21:59:43.765Z"
   },
   {
    "duration": 0,
    "start_time": "2023-05-04T21:59:43.766Z"
   },
   {
    "duration": 0,
    "start_time": "2023-05-04T21:59:43.766Z"
   },
   {
    "duration": 0,
    "start_time": "2023-05-04T21:59:43.767Z"
   },
   {
    "duration": 0,
    "start_time": "2023-05-04T21:59:43.768Z"
   },
   {
    "duration": 4,
    "start_time": "2023-05-04T22:00:29.677Z"
   },
   {
    "duration": 4,
    "start_time": "2023-05-04T22:00:36.948Z"
   },
   {
    "duration": 9,
    "start_time": "2023-05-04T22:01:00.396Z"
   },
   {
    "duration": 5,
    "start_time": "2023-05-04T22:01:14.199Z"
   },
   {
    "duration": 18,
    "start_time": "2023-05-04T22:15:48.145Z"
   },
   {
    "duration": 5,
    "start_time": "2023-05-04T22:16:10.265Z"
   },
   {
    "duration": 17,
    "start_time": "2023-05-04T22:16:20.570Z"
   },
   {
    "duration": 4,
    "start_time": "2023-05-04T22:16:23.178Z"
   },
   {
    "duration": 5,
    "start_time": "2023-05-04T22:16:36.321Z"
   },
   {
    "duration": 9,
    "start_time": "2023-05-04T22:18:03.534Z"
   },
   {
    "duration": 10,
    "start_time": "2023-05-04T22:18:42.761Z"
   },
   {
    "duration": 6,
    "start_time": "2023-05-04T22:19:25.084Z"
   },
   {
    "duration": 5,
    "start_time": "2023-05-04T22:19:46.331Z"
   },
   {
    "duration": 4,
    "start_time": "2023-05-04T22:21:03.081Z"
   },
   {
    "duration": 4,
    "start_time": "2023-05-04T22:21:23.799Z"
   },
   {
    "duration": 10,
    "start_time": "2023-05-04T22:22:03.347Z"
   },
   {
    "duration": 3,
    "start_time": "2023-05-04T22:23:11.013Z"
   },
   {
    "duration": 9,
    "start_time": "2023-05-04T22:23:11.018Z"
   },
   {
    "duration": 406,
    "start_time": "2023-05-04T22:23:11.029Z"
   },
   {
    "duration": 12,
    "start_time": "2023-05-04T22:23:11.438Z"
   },
   {
    "duration": 16,
    "start_time": "2023-05-04T22:23:11.451Z"
   },
   {
    "duration": 26,
    "start_time": "2023-05-04T22:23:11.468Z"
   },
   {
    "duration": 16,
    "start_time": "2023-05-04T22:23:11.496Z"
   },
   {
    "duration": 86,
    "start_time": "2023-05-04T22:23:11.514Z"
   },
   {
    "duration": 12,
    "start_time": "2023-05-04T22:23:11.602Z"
   },
   {
    "duration": 35,
    "start_time": "2023-05-04T22:23:11.616Z"
   },
   {
    "duration": 12,
    "start_time": "2023-05-04T22:23:11.653Z"
   },
   {
    "duration": 1168,
    "start_time": "2023-05-04T22:23:11.667Z"
   },
   {
    "duration": 31,
    "start_time": "2023-05-04T22:23:12.837Z"
   },
   {
    "duration": 199,
    "start_time": "2023-05-04T22:23:12.870Z"
   },
   {
    "duration": 11,
    "start_time": "2023-05-04T22:23:13.071Z"
   },
   {
    "duration": 20,
    "start_time": "2023-05-04T22:23:13.083Z"
   },
   {
    "duration": 52,
    "start_time": "2023-05-04T22:23:13.105Z"
   },
   {
    "duration": 111,
    "start_time": "2023-05-04T22:23:13.159Z"
   },
   {
    "duration": 190,
    "start_time": "2023-05-04T22:23:13.272Z"
   },
   {
    "duration": 87,
    "start_time": "2023-05-04T22:23:13.465Z"
   },
   {
    "duration": 1311,
    "start_time": "2023-05-04T22:23:13.554Z"
   },
   {
    "duration": 81,
    "start_time": "2023-05-04T22:23:14.871Z"
   },
   {
    "duration": 121,
    "start_time": "2023-05-04T22:23:14.956Z"
   },
   {
    "duration": 29,
    "start_time": "2023-05-04T22:23:15.081Z"
   },
   {
    "duration": 24,
    "start_time": "2023-05-04T22:23:15.113Z"
   },
   {
    "duration": 21,
    "start_time": "2023-05-04T22:23:15.138Z"
   },
   {
    "duration": 17,
    "start_time": "2023-05-04T22:23:15.161Z"
   },
   {
    "duration": 19,
    "start_time": "2023-05-04T22:23:15.180Z"
   },
   {
    "duration": 7,
    "start_time": "2023-05-04T22:23:15.201Z"
   },
   {
    "duration": 5,
    "start_time": "2023-05-04T22:23:15.209Z"
   },
   {
    "duration": 16,
    "start_time": "2023-05-04T22:23:15.216Z"
   },
   {
    "duration": 7,
    "start_time": "2023-05-04T22:27:21.341Z"
   },
   {
    "duration": 6,
    "start_time": "2023-05-04T22:28:28.579Z"
   },
   {
    "duration": 37,
    "start_time": "2023-05-04T22:41:13.339Z"
   },
   {
    "duration": 30,
    "start_time": "2023-05-04T22:41:28.989Z"
   },
   {
    "duration": 12,
    "start_time": "2023-05-04T22:42:44.144Z"
   },
   {
    "duration": 4,
    "start_time": "2023-05-04T22:42:59.888Z"
   },
   {
    "duration": 5,
    "start_time": "2023-05-04T22:43:47.847Z"
   },
   {
    "duration": 17,
    "start_time": "2023-05-04T22:44:40.454Z"
   },
   {
    "duration": 9,
    "start_time": "2023-05-04T22:45:17.870Z"
   },
   {
    "duration": 14,
    "start_time": "2023-05-04T22:45:33.148Z"
   },
   {
    "duration": 14,
    "start_time": "2023-05-04T22:45:43.127Z"
   },
   {
    "duration": 18,
    "start_time": "2023-05-04T22:45:58.700Z"
   },
   {
    "duration": 6,
    "start_time": "2023-05-04T22:46:10.122Z"
   },
   {
    "duration": 10,
    "start_time": "2023-05-04T22:46:50.721Z"
   },
   {
    "duration": 4,
    "start_time": "2023-05-04T22:47:00.015Z"
   },
   {
    "duration": 7,
    "start_time": "2023-05-04T22:47:04.050Z"
   },
   {
    "duration": 7,
    "start_time": "2023-05-04T22:47:15.424Z"
   },
   {
    "duration": 18,
    "start_time": "2023-05-04T22:47:34.408Z"
   },
   {
    "duration": 12,
    "start_time": "2023-05-04T22:47:46.705Z"
   },
   {
    "duration": 25,
    "start_time": "2023-05-04T22:47:48.281Z"
   },
   {
    "duration": 5,
    "start_time": "2023-05-04T22:48:06.865Z"
   },
   {
    "duration": 9,
    "start_time": "2023-05-04T22:48:17.346Z"
   },
   {
    "duration": 3,
    "start_time": "2023-05-04T22:48:40.965Z"
   },
   {
    "duration": 13,
    "start_time": "2023-05-04T22:49:01.157Z"
   },
   {
    "duration": 11,
    "start_time": "2023-05-04T22:49:15.958Z"
   },
   {
    "duration": 12,
    "start_time": "2023-05-04T22:50:11.429Z"
   },
   {
    "duration": 10,
    "start_time": "2023-05-04T22:50:29.451Z"
   },
   {
    "duration": 11,
    "start_time": "2023-05-04T22:50:35.418Z"
   },
   {
    "duration": 12,
    "start_time": "2023-05-04T22:50:42.157Z"
   },
   {
    "duration": 12,
    "start_time": "2023-05-04T22:51:15.845Z"
   },
   {
    "duration": 14,
    "start_time": "2023-05-04T22:52:13.391Z"
   },
   {
    "duration": 7,
    "start_time": "2023-05-04T22:52:23.953Z"
   },
   {
    "duration": 10,
    "start_time": "2023-05-04T22:52:47.127Z"
   },
   {
    "duration": 11,
    "start_time": "2023-05-04T22:52:50.544Z"
   },
   {
    "duration": 17,
    "start_time": "2023-05-04T22:52:59.064Z"
   },
   {
    "duration": 1638,
    "start_time": "2023-05-05T14:53:36.333Z"
   },
   {
    "duration": 4,
    "start_time": "2023-05-05T14:53:37.973Z"
   },
   {
    "duration": 1589,
    "start_time": "2023-05-05T14:53:37.979Z"
   },
   {
    "duration": 15,
    "start_time": "2023-05-05T14:53:39.570Z"
   },
   {
    "duration": 26,
    "start_time": "2023-05-05T14:53:39.590Z"
   },
   {
    "duration": 18,
    "start_time": "2023-05-05T14:53:39.618Z"
   },
   {
    "duration": 20,
    "start_time": "2023-05-05T14:53:39.637Z"
   },
   {
    "duration": 93,
    "start_time": "2023-05-05T14:53:39.658Z"
   },
   {
    "duration": 14,
    "start_time": "2023-05-05T14:53:39.752Z"
   },
   {
    "duration": 38,
    "start_time": "2023-05-05T14:53:39.768Z"
   },
   {
    "duration": 15,
    "start_time": "2023-05-05T14:53:39.808Z"
   },
   {
    "duration": 1257,
    "start_time": "2023-05-05T14:53:39.825Z"
   },
   {
    "duration": 37,
    "start_time": "2023-05-05T14:53:41.084Z"
   },
   {
    "duration": 119,
    "start_time": "2023-05-05T14:53:41.126Z"
   },
   {
    "duration": 74,
    "start_time": "2023-05-05T14:53:41.247Z"
   },
   {
    "duration": 20,
    "start_time": "2023-05-05T14:53:41.323Z"
   },
   {
    "duration": 24,
    "start_time": "2023-05-05T14:53:41.345Z"
   },
   {
    "duration": 156,
    "start_time": "2023-05-05T14:53:41.372Z"
   },
   {
    "duration": 203,
    "start_time": "2023-05-05T14:53:41.531Z"
   },
   {
    "duration": 191,
    "start_time": "2023-05-05T14:53:41.737Z"
   },
   {
    "duration": 2387,
    "start_time": "2023-05-05T14:53:41.930Z"
   },
   {
    "duration": 5,
    "start_time": "2023-05-05T14:53:44.320Z"
   },
   {
    "duration": 107,
    "start_time": "2023-05-05T14:53:44.327Z"
   },
   {
    "duration": 29,
    "start_time": "2023-05-05T14:53:44.436Z"
   },
   {
    "duration": 34,
    "start_time": "2023-05-05T14:53:44.467Z"
   },
   {
    "duration": 133,
    "start_time": "2023-05-05T14:53:44.503Z"
   },
   {
    "duration": 0,
    "start_time": "2023-05-05T14:53:44.638Z"
   },
   {
    "duration": 0,
    "start_time": "2023-05-05T14:53:44.639Z"
   },
   {
    "duration": 0,
    "start_time": "2023-05-05T14:53:44.641Z"
   },
   {
    "duration": 0,
    "start_time": "2023-05-05T14:53:44.643Z"
   },
   {
    "duration": 0,
    "start_time": "2023-05-05T14:53:44.644Z"
   },
   {
    "duration": 0,
    "start_time": "2023-05-05T14:53:44.646Z"
   },
   {
    "duration": 0,
    "start_time": "2023-05-05T14:53:44.647Z"
   },
   {
    "duration": 0,
    "start_time": "2023-05-05T14:53:44.649Z"
   },
   {
    "duration": 0,
    "start_time": "2023-05-05T14:53:44.651Z"
   },
   {
    "duration": 0,
    "start_time": "2023-05-05T14:53:44.652Z"
   },
   {
    "duration": 13,
    "start_time": "2023-05-05T14:55:50.154Z"
   },
   {
    "duration": 3,
    "start_time": "2023-05-05T14:56:03.089Z"
   },
   {
    "duration": 20,
    "start_time": "2023-05-05T14:56:03.095Z"
   },
   {
    "duration": 403,
    "start_time": "2023-05-05T14:56:03.117Z"
   },
   {
    "duration": 9,
    "start_time": "2023-05-05T14:56:03.521Z"
   },
   {
    "duration": 32,
    "start_time": "2023-05-05T14:56:03.532Z"
   },
   {
    "duration": 17,
    "start_time": "2023-05-05T14:56:03.565Z"
   },
   {
    "duration": 19,
    "start_time": "2023-05-05T14:56:03.583Z"
   },
   {
    "duration": 62,
    "start_time": "2023-05-05T14:56:03.618Z"
   },
   {
    "duration": 13,
    "start_time": "2023-05-05T14:56:03.682Z"
   },
   {
    "duration": 44,
    "start_time": "2023-05-05T14:56:03.697Z"
   },
   {
    "duration": 8,
    "start_time": "2023-05-05T14:56:03.742Z"
   },
   {
    "duration": 1233,
    "start_time": "2023-05-05T14:56:03.752Z"
   },
   {
    "duration": 33,
    "start_time": "2023-05-05T14:56:04.987Z"
   },
   {
    "duration": 130,
    "start_time": "2023-05-05T14:56:05.027Z"
   },
   {
    "duration": 60,
    "start_time": "2023-05-05T14:56:05.159Z"
   },
   {
    "duration": 11,
    "start_time": "2023-05-05T14:56:05.221Z"
   },
   {
    "duration": 86,
    "start_time": "2023-05-05T14:56:05.233Z"
   },
   {
    "duration": 115,
    "start_time": "2023-05-05T14:56:05.322Z"
   },
   {
    "duration": 202,
    "start_time": "2023-05-05T14:56:05.439Z"
   },
   {
    "duration": 176,
    "start_time": "2023-05-05T14:56:05.644Z"
   },
   {
    "duration": 1698,
    "start_time": "2023-05-05T14:56:05.822Z"
   },
   {
    "duration": 3,
    "start_time": "2023-05-05T14:56:07.523Z"
   },
   {
    "duration": 104,
    "start_time": "2023-05-05T14:56:07.528Z"
   },
   {
    "duration": 22,
    "start_time": "2023-05-05T14:56:07.634Z"
   },
   {
    "duration": 43,
    "start_time": "2023-05-05T14:56:07.658Z"
   },
   {
    "duration": 0,
    "start_time": "2023-05-05T14:56:07.704Z"
   },
   {
    "duration": 0,
    "start_time": "2023-05-05T14:56:07.705Z"
   },
   {
    "duration": 0,
    "start_time": "2023-05-05T14:56:07.706Z"
   },
   {
    "duration": 0,
    "start_time": "2023-05-05T14:56:07.708Z"
   },
   {
    "duration": 0,
    "start_time": "2023-05-05T14:56:07.709Z"
   },
   {
    "duration": 92,
    "start_time": "2023-05-05T14:59:29.473Z"
   },
   {
    "duration": 83,
    "start_time": "2023-05-05T14:59:35.245Z"
   },
   {
    "duration": 12,
    "start_time": "2023-05-05T14:59:40.373Z"
   },
   {
    "duration": 102,
    "start_time": "2023-05-05T15:01:05.943Z"
   },
   {
    "duration": 13,
    "start_time": "2023-05-05T15:02:10.343Z"
   },
   {
    "duration": 6,
    "start_time": "2023-05-05T15:02:16.903Z"
   },
   {
    "duration": 12,
    "start_time": "2023-05-05T15:02:18.958Z"
   },
   {
    "duration": 12,
    "start_time": "2023-05-05T15:02:45.789Z"
   },
   {
    "duration": 13,
    "start_time": "2023-05-05T15:02:58.085Z"
   },
   {
    "duration": 117,
    "start_time": "2023-05-05T15:04:26.036Z"
   },
   {
    "duration": 121,
    "start_time": "2023-05-05T15:04:31.923Z"
   },
   {
    "duration": 16,
    "start_time": "2023-05-05T15:04:35.764Z"
   },
   {
    "duration": 6,
    "start_time": "2023-05-05T15:05:04.074Z"
   },
   {
    "duration": 6,
    "start_time": "2023-05-05T15:05:13.229Z"
   },
   {
    "duration": 7,
    "start_time": "2023-05-05T15:05:14.062Z"
   },
   {
    "duration": 6,
    "start_time": "2023-05-05T15:05:24.296Z"
   },
   {
    "duration": 8,
    "start_time": "2023-05-05T15:05:50.041Z"
   },
   {
    "duration": 6,
    "start_time": "2023-05-05T15:06:05.370Z"
   },
   {
    "duration": 15,
    "start_time": "2023-05-05T15:06:12.249Z"
   },
   {
    "duration": 14,
    "start_time": "2023-05-05T15:06:14.825Z"
   },
   {
    "duration": 8,
    "start_time": "2023-05-05T15:06:20.975Z"
   },
   {
    "duration": 6,
    "start_time": "2023-05-05T15:06:25.598Z"
   },
   {
    "duration": 10,
    "start_time": "2023-05-05T15:06:34.718Z"
   },
   {
    "duration": 12,
    "start_time": "2023-05-05T15:06:47.967Z"
   },
   {
    "duration": 6,
    "start_time": "2023-05-05T15:07:37.473Z"
   },
   {
    "duration": 10,
    "start_time": "2023-05-05T15:07:40.092Z"
   },
   {
    "duration": 4,
    "start_time": "2023-05-05T15:08:41.132Z"
   },
   {
    "duration": 10,
    "start_time": "2023-05-05T15:08:42.208Z"
   },
   {
    "duration": 6,
    "start_time": "2023-05-05T15:08:59.414Z"
   },
   {
    "duration": 13,
    "start_time": "2023-05-05T15:09:00.265Z"
   },
   {
    "duration": 13,
    "start_time": "2023-05-05T15:09:38.309Z"
   },
   {
    "duration": 15,
    "start_time": "2023-05-05T15:09:55.834Z"
   },
   {
    "duration": 13,
    "start_time": "2023-05-05T15:10:39.137Z"
   },
   {
    "duration": 14,
    "start_time": "2023-05-05T15:12:25.252Z"
   },
   {
    "duration": 43,
    "start_time": "2023-05-05T15:12:36.481Z"
   },
   {
    "duration": 9,
    "start_time": "2023-05-05T15:12:58.435Z"
   },
   {
    "duration": 11,
    "start_time": "2023-05-05T15:14:09.357Z"
   },
   {
    "duration": 13,
    "start_time": "2023-05-05T15:14:22.434Z"
   },
   {
    "duration": 17,
    "start_time": "2023-05-05T15:14:34.410Z"
   },
   {
    "duration": 3,
    "start_time": "2023-05-05T15:15:10.302Z"
   },
   {
    "duration": 11,
    "start_time": "2023-05-05T15:15:10.308Z"
   },
   {
    "duration": 429,
    "start_time": "2023-05-05T15:15:10.321Z"
   },
   {
    "duration": 10,
    "start_time": "2023-05-05T15:15:10.752Z"
   },
   {
    "duration": 39,
    "start_time": "2023-05-05T15:15:10.765Z"
   },
   {
    "duration": 29,
    "start_time": "2023-05-05T15:15:10.806Z"
   },
   {
    "duration": 24,
    "start_time": "2023-05-05T15:15:10.837Z"
   },
   {
    "duration": 93,
    "start_time": "2023-05-05T15:15:10.863Z"
   },
   {
    "duration": 11,
    "start_time": "2023-05-05T15:15:10.959Z"
   },
   {
    "duration": 33,
    "start_time": "2023-05-05T15:15:10.972Z"
   },
   {
    "duration": 8,
    "start_time": "2023-05-05T15:15:11.017Z"
   },
   {
    "duration": 1326,
    "start_time": "2023-05-05T15:15:11.026Z"
   },
   {
    "duration": 19,
    "start_time": "2023-05-05T15:15:12.353Z"
   },
   {
    "duration": 117,
    "start_time": "2023-05-05T15:15:12.418Z"
   },
   {
    "duration": 15,
    "start_time": "2023-05-05T15:15:12.537Z"
   },
   {
    "duration": 19,
    "start_time": "2023-05-05T15:15:12.555Z"
   },
   {
    "duration": 47,
    "start_time": "2023-05-05T15:15:12.576Z"
   },
   {
    "duration": 191,
    "start_time": "2023-05-05T15:15:12.628Z"
   },
   {
    "duration": 198,
    "start_time": "2023-05-05T15:15:12.822Z"
   },
   {
    "duration": 92,
    "start_time": "2023-05-05T15:15:13.028Z"
   },
   {
    "duration": 1802,
    "start_time": "2023-05-05T15:15:13.122Z"
   },
   {
    "duration": 90,
    "start_time": "2023-05-05T15:15:14.926Z"
   },
   {
    "duration": 116,
    "start_time": "2023-05-05T15:15:15.019Z"
   },
   {
    "duration": 16,
    "start_time": "2023-05-05T15:15:15.137Z"
   },
   {
    "duration": 9,
    "start_time": "2023-05-05T15:15:24.239Z"
   },
   {
    "duration": 5,
    "start_time": "2023-05-05T15:15:29.191Z"
   },
   {
    "duration": 4,
    "start_time": "2023-05-05T15:15:35.703Z"
   },
   {
    "duration": 179,
    "start_time": "2023-05-05T15:15:40.573Z"
   },
   {
    "duration": 11,
    "start_time": "2023-05-05T15:15:49.952Z"
   },
   {
    "duration": 3451,
    "start_time": "2023-05-05T15:16:12.150Z"
   },
   {
    "duration": 4,
    "start_time": "2023-05-05T15:16:23.855Z"
   },
   {
    "duration": 3364,
    "start_time": "2023-05-05T15:16:39.214Z"
   },
   {
    "duration": 5,
    "start_time": "2023-05-05T15:16:43.846Z"
   },
   {
    "duration": 5,
    "start_time": "2023-05-05T15:16:52.014Z"
   },
   {
    "duration": 4,
    "start_time": "2023-05-05T15:16:58.644Z"
   },
   {
    "duration": 4,
    "start_time": "2023-05-05T15:17:02.068Z"
   },
   {
    "duration": 90,
    "start_time": "2023-05-05T15:17:59.877Z"
   },
   {
    "duration": 9,
    "start_time": "2023-05-05T15:18:10.947Z"
   },
   {
    "duration": 4,
    "start_time": "2023-05-05T15:18:12.348Z"
   },
   {
    "duration": 5,
    "start_time": "2023-05-05T15:18:29.867Z"
   },
   {
    "duration": 4,
    "start_time": "2023-05-05T15:18:33.833Z"
   },
   {
    "duration": 12,
    "start_time": "2023-05-05T15:19:04.423Z"
   },
   {
    "duration": 11,
    "start_time": "2023-05-05T15:19:43.543Z"
   },
   {
    "duration": 5,
    "start_time": "2023-05-05T15:19:50.136Z"
   },
   {
    "duration": 4,
    "start_time": "2023-05-05T15:19:54.665Z"
   },
   {
    "duration": 12,
    "start_time": "2023-05-05T15:20:06.915Z"
   },
   {
    "duration": 4,
    "start_time": "2023-05-05T15:20:07.768Z"
   },
   {
    "duration": 10,
    "start_time": "2023-05-05T15:22:17.739Z"
   },
   {
    "duration": 8,
    "start_time": "2023-05-05T15:22:34.371Z"
   },
   {
    "duration": 9,
    "start_time": "2023-05-05T15:23:10.824Z"
   },
   {
    "duration": 13,
    "start_time": "2023-05-05T15:24:45.514Z"
   },
   {
    "duration": 266,
    "start_time": "2023-05-05T15:24:55.606Z"
   },
   {
    "duration": 104,
    "start_time": "2023-05-05T15:25:05.845Z"
   },
   {
    "duration": 9,
    "start_time": "2023-05-05T15:25:09.916Z"
   },
   {
    "duration": 10,
    "start_time": "2023-05-05T15:25:15.461Z"
   },
   {
    "duration": 7,
    "start_time": "2023-05-05T15:25:26.070Z"
   },
   {
    "duration": 8,
    "start_time": "2023-05-05T15:25:32.948Z"
   },
   {
    "duration": 8,
    "start_time": "2023-05-05T15:25:42.781Z"
   },
   {
    "duration": 9,
    "start_time": "2023-05-05T15:25:43.470Z"
   },
   {
    "duration": 8,
    "start_time": "2023-05-05T15:25:46.539Z"
   },
   {
    "duration": 6,
    "start_time": "2023-05-05T15:25:54.318Z"
   },
   {
    "duration": 11,
    "start_time": "2023-05-05T15:26:10.699Z"
   },
   {
    "duration": 10,
    "start_time": "2023-05-05T15:26:18.415Z"
   },
   {
    "duration": 9,
    "start_time": "2023-05-05T15:26:21.019Z"
   },
   {
    "duration": 10,
    "start_time": "2023-05-05T15:28:51.403Z"
   },
   {
    "duration": 1444,
    "start_time": "2023-05-05T15:29:12.544Z"
   },
   {
    "duration": 4,
    "start_time": "2023-05-05T15:29:13.990Z"
   },
   {
    "duration": 427,
    "start_time": "2023-05-05T15:29:13.996Z"
   },
   {
    "duration": 15,
    "start_time": "2023-05-05T15:29:14.425Z"
   },
   {
    "duration": 47,
    "start_time": "2023-05-05T15:29:14.445Z"
   },
   {
    "duration": 41,
    "start_time": "2023-05-05T15:29:14.494Z"
   },
   {
    "duration": 40,
    "start_time": "2023-05-05T15:29:14.537Z"
   },
   {
    "duration": 92,
    "start_time": "2023-05-05T15:29:14.579Z"
   },
   {
    "duration": 13,
    "start_time": "2023-05-05T15:29:14.673Z"
   },
   {
    "duration": 50,
    "start_time": "2023-05-05T15:29:14.688Z"
   },
   {
    "duration": 8,
    "start_time": "2023-05-05T15:29:14.739Z"
   },
   {
    "duration": 1248,
    "start_time": "2023-05-05T15:29:14.749Z"
   },
   {
    "duration": 30,
    "start_time": "2023-05-05T15:29:15.999Z"
   },
   {
    "duration": 115,
    "start_time": "2023-05-05T15:29:16.117Z"
   },
   {
    "duration": 59,
    "start_time": "2023-05-05T15:29:16.234Z"
   },
   {
    "duration": 13,
    "start_time": "2023-05-05T15:29:16.296Z"
   },
   {
    "duration": 20,
    "start_time": "2023-05-05T15:29:16.311Z"
   },
   {
    "duration": 189,
    "start_time": "2023-05-05T15:29:16.334Z"
   },
   {
    "duration": 197,
    "start_time": "2023-05-05T15:29:16.526Z"
   },
   {
    "duration": 94,
    "start_time": "2023-05-05T15:29:16.726Z"
   },
   {
    "duration": 2602,
    "start_time": "2023-05-05T15:29:16.822Z"
   },
   {
    "duration": 92,
    "start_time": "2023-05-05T15:29:19.427Z"
   },
   {
    "duration": 102,
    "start_time": "2023-05-05T15:29:19.522Z"
   },
   {
    "duration": 12,
    "start_time": "2023-05-05T15:29:19.626Z"
   },
   {
    "duration": 114,
    "start_time": "2023-05-05T15:29:19.640Z"
   },
   {
    "duration": 0,
    "start_time": "2023-05-05T15:29:19.756Z"
   },
   {
    "duration": 0,
    "start_time": "2023-05-05T15:29:19.757Z"
   },
   {
    "duration": 0,
    "start_time": "2023-05-05T15:29:19.759Z"
   },
   {
    "duration": 0,
    "start_time": "2023-05-05T15:29:19.760Z"
   },
   {
    "duration": 0,
    "start_time": "2023-05-05T15:29:19.761Z"
   },
   {
    "duration": 0,
    "start_time": "2023-05-05T15:29:19.762Z"
   },
   {
    "duration": 0,
    "start_time": "2023-05-05T15:29:19.763Z"
   },
   {
    "duration": 0,
    "start_time": "2023-05-05T15:29:19.764Z"
   },
   {
    "duration": 12,
    "start_time": "2023-05-05T15:29:43.565Z"
   },
   {
    "duration": 11,
    "start_time": "2023-05-05T15:29:56.069Z"
   },
   {
    "duration": 16,
    "start_time": "2023-05-05T15:30:19.371Z"
   },
   {
    "duration": 13,
    "start_time": "2023-05-05T15:30:32.851Z"
   },
   {
    "duration": 5,
    "start_time": "2023-05-05T15:30:49.297Z"
   },
   {
    "duration": 4,
    "start_time": "2023-05-05T15:30:57.906Z"
   },
   {
    "duration": 4,
    "start_time": "2023-05-05T15:31:12.841Z"
   },
   {
    "duration": 4,
    "start_time": "2023-05-05T15:31:16.038Z"
   },
   {
    "duration": 3881,
    "start_time": "2023-05-05T15:31:26.996Z"
   },
   {
    "duration": 15,
    "start_time": "2023-05-05T15:31:33.595Z"
   },
   {
    "duration": 3836,
    "start_time": "2023-05-05T15:32:07.696Z"
   },
   {
    "duration": 15,
    "start_time": "2023-05-05T15:32:12.769Z"
   },
   {
    "duration": 4,
    "start_time": "2023-05-05T15:32:32.072Z"
   },
   {
    "duration": 9,
    "start_time": "2023-05-05T15:32:52.232Z"
   },
   {
    "duration": 4,
    "start_time": "2023-05-05T15:33:02.248Z"
   },
   {
    "duration": 3568,
    "start_time": "2023-05-05T15:38:04.809Z"
   },
   {
    "duration": 4,
    "start_time": "2023-05-05T15:38:11.054Z"
   },
   {
    "duration": 5,
    "start_time": "2023-05-05T15:38:13.236Z"
   },
   {
    "duration": 91,
    "start_time": "2023-05-05T15:39:31.892Z"
   },
   {
    "duration": 80,
    "start_time": "2023-05-05T15:39:42.012Z"
   },
   {
    "duration": 81,
    "start_time": "2023-05-05T15:39:50.971Z"
   },
   {
    "duration": 93,
    "start_time": "2023-05-05T15:40:45.852Z"
   },
   {
    "duration": 82,
    "start_time": "2023-05-05T15:40:51.960Z"
   },
   {
    "duration": 94,
    "start_time": "2023-05-05T15:40:59.130Z"
   },
   {
    "duration": 92,
    "start_time": "2023-05-05T15:41:09.674Z"
   },
   {
    "duration": 120,
    "start_time": "2023-05-05T15:41:15.402Z"
   },
   {
    "duration": 3586,
    "start_time": "2023-05-05T15:42:07.534Z"
   },
   {
    "duration": 3524,
    "start_time": "2023-05-05T15:44:43.436Z"
   },
   {
    "duration": 3,
    "start_time": "2023-05-05T15:44:48.493Z"
   },
   {
    "duration": 3616,
    "start_time": "2023-05-05T15:45:39.731Z"
   },
   {
    "duration": 5,
    "start_time": "2023-05-05T15:45:44.713Z"
   },
   {
    "duration": 405,
    "start_time": "2023-05-05T15:46:02.273Z"
   },
   {
    "duration": 6,
    "start_time": "2023-05-05T15:46:03.999Z"
   },
   {
    "duration": 364,
    "start_time": "2023-05-05T15:46:06.144Z"
   },
   {
    "duration": 4,
    "start_time": "2023-05-05T15:46:07.448Z"
   },
   {
    "duration": 347,
    "start_time": "2023-05-05T15:46:08.992Z"
   },
   {
    "duration": 4,
    "start_time": "2023-05-05T15:46:10.160Z"
   },
   {
    "duration": 3521,
    "start_time": "2023-05-05T15:46:47.774Z"
   },
   {
    "duration": 4,
    "start_time": "2023-05-05T15:46:52.102Z"
   },
   {
    "duration": 5,
    "start_time": "2023-05-05T15:48:36.537Z"
   },
   {
    "duration": 9,
    "start_time": "2023-05-05T15:51:58.789Z"
   },
   {
    "duration": 11,
    "start_time": "2023-05-05T15:52:07.227Z"
   },
   {
    "duration": 6,
    "start_time": "2023-05-05T15:52:10.811Z"
   },
   {
    "duration": 12,
    "start_time": "2023-05-05T15:54:25.343Z"
   },
   {
    "duration": 15,
    "start_time": "2023-05-05T15:55:33.549Z"
   },
   {
    "duration": 77,
    "start_time": "2023-05-05T15:59:51.145Z"
   },
   {
    "duration": 17,
    "start_time": "2023-05-05T15:59:56.416Z"
   },
   {
    "duration": 10,
    "start_time": "2023-05-05T16:00:38.128Z"
   },
   {
    "duration": 78,
    "start_time": "2023-05-05T16:01:04.306Z"
   },
   {
    "duration": 12,
    "start_time": "2023-05-05T16:01:54.935Z"
   },
   {
    "duration": 4,
    "start_time": "2023-05-05T16:04:21.005Z"
   },
   {
    "duration": 14,
    "start_time": "2023-05-05T16:04:45.747Z"
   },
   {
    "duration": 14,
    "start_time": "2023-05-05T16:05:47.251Z"
   },
   {
    "duration": 13,
    "start_time": "2023-05-05T16:06:15.988Z"
   },
   {
    "duration": 13,
    "start_time": "2023-05-05T16:08:35.384Z"
   },
   {
    "duration": 13,
    "start_time": "2023-05-05T16:08:49.115Z"
   },
   {
    "duration": 13,
    "start_time": "2023-05-05T16:10:33.978Z"
   },
   {
    "duration": 4,
    "start_time": "2023-05-05T16:11:09.228Z"
   },
   {
    "duration": 16,
    "start_time": "2023-05-05T16:11:30.718Z"
   },
   {
    "duration": 15,
    "start_time": "2023-05-05T17:41:36.173Z"
   },
   {
    "duration": 23,
    "start_time": "2023-05-05T17:42:21.631Z"
   },
   {
    "duration": 15,
    "start_time": "2023-05-05T17:42:56.313Z"
   },
   {
    "duration": 14,
    "start_time": "2023-05-05T17:44:55.072Z"
   },
   {
    "duration": 16,
    "start_time": "2023-05-05T17:45:02.438Z"
   },
   {
    "duration": 16,
    "start_time": "2023-05-05T17:45:06.854Z"
   },
   {
    "duration": 17,
    "start_time": "2023-05-05T17:45:30.719Z"
   },
   {
    "duration": 15,
    "start_time": "2023-05-05T17:45:41.047Z"
   },
   {
    "duration": 16,
    "start_time": "2023-05-05T17:45:46.726Z"
   },
   {
    "duration": 1399,
    "start_time": "2023-05-05T17:57:09.078Z"
   },
   {
    "duration": 3,
    "start_time": "2023-05-05T17:57:10.479Z"
   },
   {
    "duration": 460,
    "start_time": "2023-05-05T17:57:10.484Z"
   },
   {
    "duration": 14,
    "start_time": "2023-05-05T17:57:10.946Z"
   },
   {
    "duration": 32,
    "start_time": "2023-05-05T17:57:10.964Z"
   },
   {
    "duration": 22,
    "start_time": "2023-05-05T17:57:10.999Z"
   },
   {
    "duration": 21,
    "start_time": "2023-05-05T17:57:11.023Z"
   },
   {
    "duration": 90,
    "start_time": "2023-05-05T17:57:11.046Z"
   },
   {
    "duration": 15,
    "start_time": "2023-05-05T17:57:11.138Z"
   },
   {
    "duration": 65,
    "start_time": "2023-05-05T17:57:11.155Z"
   },
   {
    "duration": 8,
    "start_time": "2023-05-05T17:57:11.222Z"
   },
   {
    "duration": 1343,
    "start_time": "2023-05-05T17:57:11.232Z"
   },
   {
    "duration": 51,
    "start_time": "2023-05-05T17:57:12.576Z"
   },
   {
    "duration": 28,
    "start_time": "2023-05-05T17:57:12.717Z"
   },
   {
    "duration": 13,
    "start_time": "2023-05-05T17:57:12.747Z"
   },
   {
    "duration": 28,
    "start_time": "2023-05-05T17:57:12.761Z"
   },
   {
    "duration": 40,
    "start_time": "2023-05-05T17:57:12.791Z"
   },
   {
    "duration": 186,
    "start_time": "2023-05-05T17:57:12.833Z"
   },
   {
    "duration": 115,
    "start_time": "2023-05-05T17:57:13.022Z"
   },
   {
    "duration": 176,
    "start_time": "2023-05-05T17:57:13.143Z"
   },
   {
    "duration": 2399,
    "start_time": "2023-05-05T17:57:13.320Z"
   },
   {
    "duration": 3,
    "start_time": "2023-05-05T17:57:15.722Z"
   },
   {
    "duration": 93,
    "start_time": "2023-05-05T17:57:15.727Z"
   },
   {
    "duration": 38,
    "start_time": "2023-05-05T17:57:15.821Z"
   },
   {
    "duration": 158,
    "start_time": "2023-05-05T17:57:15.861Z"
   },
   {
    "duration": 0,
    "start_time": "2023-05-05T17:57:16.021Z"
   },
   {
    "duration": 0,
    "start_time": "2023-05-05T17:57:16.022Z"
   },
   {
    "duration": 0,
    "start_time": "2023-05-05T17:57:16.024Z"
   },
   {
    "duration": 5,
    "start_time": "2023-05-05T17:57:33.487Z"
   },
   {
    "duration": 37,
    "start_time": "2023-05-05T17:57:33.494Z"
   },
   {
    "duration": 0,
    "start_time": "2023-05-05T17:57:33.533Z"
   },
   {
    "duration": 0,
    "start_time": "2023-05-05T17:57:33.534Z"
   },
   {
    "duration": 0,
    "start_time": "2023-05-05T17:57:33.535Z"
   },
   {
    "duration": 3,
    "start_time": "2023-05-05T17:57:40.926Z"
   },
   {
    "duration": 7,
    "start_time": "2023-05-05T17:57:40.931Z"
   },
   {
    "duration": 415,
    "start_time": "2023-05-05T17:57:40.939Z"
   },
   {
    "duration": 10,
    "start_time": "2023-05-05T17:57:41.356Z"
   },
   {
    "duration": 77,
    "start_time": "2023-05-05T17:57:41.368Z"
   },
   {
    "duration": 36,
    "start_time": "2023-05-05T17:57:41.447Z"
   },
   {
    "duration": 56,
    "start_time": "2023-05-05T17:57:41.485Z"
   },
   {
    "duration": 88,
    "start_time": "2023-05-05T17:57:41.542Z"
   },
   {
    "duration": 12,
    "start_time": "2023-05-05T17:57:41.633Z"
   },
   {
    "duration": 37,
    "start_time": "2023-05-05T17:57:41.647Z"
   },
   {
    "duration": 8,
    "start_time": "2023-05-05T17:57:41.686Z"
   },
   {
    "duration": 1330,
    "start_time": "2023-05-05T17:57:41.695Z"
   },
   {
    "duration": 91,
    "start_time": "2023-05-05T17:57:43.026Z"
   },
   {
    "duration": 121,
    "start_time": "2023-05-05T17:57:43.120Z"
   },
   {
    "duration": 17,
    "start_time": "2023-05-05T17:57:43.243Z"
   },
   {
    "duration": 14,
    "start_time": "2023-05-05T17:57:43.263Z"
   },
   {
    "duration": 41,
    "start_time": "2023-05-05T17:57:43.280Z"
   },
   {
    "duration": 198,
    "start_time": "2023-05-05T17:57:43.323Z"
   },
   {
    "duration": 114,
    "start_time": "2023-05-05T17:57:43.524Z"
   },
   {
    "duration": 84,
    "start_time": "2023-05-05T17:57:43.640Z"
   },
   {
    "duration": 1698,
    "start_time": "2023-05-05T17:57:43.729Z"
   },
   {
    "duration": 90,
    "start_time": "2023-05-05T17:57:45.429Z"
   },
   {
    "duration": 104,
    "start_time": "2023-05-05T17:57:45.521Z"
   },
   {
    "duration": 13,
    "start_time": "2023-05-05T17:57:45.628Z"
   },
   {
    "duration": 3547,
    "start_time": "2023-05-05T17:57:45.643Z"
   },
   {
    "duration": 12,
    "start_time": "2023-05-05T17:57:49.192Z"
   },
   {
    "duration": 0,
    "start_time": "2023-05-05T17:57:49.206Z"
   },
   {
    "duration": 0,
    "start_time": "2023-05-05T17:57:49.218Z"
   },
   {
    "duration": 3590,
    "start_time": "2023-05-05T17:58:35.901Z"
   },
   {
    "duration": 5,
    "start_time": "2023-05-05T17:58:39.493Z"
   },
   {
    "duration": 29,
    "start_time": "2023-05-05T17:58:39.500Z"
   },
   {
    "duration": 50,
    "start_time": "2023-05-06T13:23:18.682Z"
   },
   {
    "duration": 1874,
    "start_time": "2023-05-06T13:23:23.142Z"
   },
   {
    "duration": 3,
    "start_time": "2023-05-06T13:23:25.018Z"
   },
   {
    "duration": 383,
    "start_time": "2023-05-06T13:23:25.023Z"
   },
   {
    "duration": 15,
    "start_time": "2023-05-06T13:23:25.408Z"
   },
   {
    "duration": 16,
    "start_time": "2023-05-06T13:23:25.426Z"
   },
   {
    "duration": 18,
    "start_time": "2023-05-06T13:23:25.444Z"
   },
   {
    "duration": 42,
    "start_time": "2023-05-06T13:23:25.464Z"
   },
   {
    "duration": 86,
    "start_time": "2023-05-06T13:23:25.508Z"
   },
   {
    "duration": 14,
    "start_time": "2023-05-06T13:23:25.596Z"
   },
   {
    "duration": 36,
    "start_time": "2023-05-06T13:23:25.613Z"
   },
   {
    "duration": 8,
    "start_time": "2023-05-06T13:23:25.651Z"
   },
   {
    "duration": 1341,
    "start_time": "2023-05-06T13:23:25.661Z"
   },
   {
    "duration": 17,
    "start_time": "2023-05-06T13:23:27.004Z"
   },
   {
    "duration": 188,
    "start_time": "2023-05-06T13:23:27.023Z"
   },
   {
    "duration": 13,
    "start_time": "2023-05-06T13:23:27.213Z"
   },
   {
    "duration": 8,
    "start_time": "2023-05-06T13:23:27.228Z"
   },
   {
    "duration": 52,
    "start_time": "2023-05-06T13:23:27.238Z"
   },
   {
    "duration": 105,
    "start_time": "2023-05-06T13:23:27.292Z"
   },
   {
    "duration": 193,
    "start_time": "2023-05-06T13:23:27.399Z"
   },
   {
    "duration": 93,
    "start_time": "2023-05-06T13:23:27.597Z"
   },
   {
    "duration": 2298,
    "start_time": "2023-05-06T13:23:27.692Z"
   },
   {
    "duration": 4,
    "start_time": "2023-05-06T13:23:29.992Z"
   },
   {
    "duration": 93,
    "start_time": "2023-05-06T13:23:29.998Z"
   },
   {
    "duration": 46,
    "start_time": "2023-05-06T13:23:30.092Z"
   },
   {
    "duration": 3729,
    "start_time": "2023-05-06T13:23:30.140Z"
   },
   {
    "duration": 20,
    "start_time": "2023-05-06T13:23:33.872Z"
   },
   {
    "duration": 22,
    "start_time": "2023-05-06T13:23:33.894Z"
   },
   {
    "duration": 10,
    "start_time": "2023-05-06T13:23:49.078Z"
   },
   {
    "duration": 17,
    "start_time": "2023-05-06T13:24:12.697Z"
   },
   {
    "duration": 17,
    "start_time": "2023-05-06T13:24:35.978Z"
   },
   {
    "duration": 39,
    "start_time": "2023-05-06T13:24:40.040Z"
   },
   {
    "duration": 4,
    "start_time": "2023-05-06T13:24:46.866Z"
   },
   {
    "duration": 13,
    "start_time": "2023-05-06T13:27:46.746Z"
   },
   {
    "duration": 11,
    "start_time": "2023-05-06T13:29:14.175Z"
   },
   {
    "duration": 8,
    "start_time": "2023-05-06T13:29:19.729Z"
   },
   {
    "duration": 6,
    "start_time": "2023-05-06T13:29:26.916Z"
   },
   {
    "duration": 1962,
    "start_time": "2023-05-06T13:31:08.032Z"
   },
   {
    "duration": 3,
    "start_time": "2023-05-06T13:31:09.996Z"
   },
   {
    "duration": 487,
    "start_time": "2023-05-06T13:31:10.000Z"
   },
   {
    "duration": 21,
    "start_time": "2023-05-06T13:31:10.490Z"
   },
   {
    "duration": 21,
    "start_time": "2023-05-06T13:31:10.513Z"
   },
   {
    "duration": 19,
    "start_time": "2023-05-06T13:31:10.535Z"
   },
   {
    "duration": 48,
    "start_time": "2023-05-06T13:31:10.556Z"
   },
   {
    "duration": 87,
    "start_time": "2023-05-06T13:31:10.606Z"
   },
   {
    "duration": 14,
    "start_time": "2023-05-06T13:31:10.695Z"
   },
   {
    "duration": 35,
    "start_time": "2023-05-06T13:31:10.712Z"
   },
   {
    "duration": 9,
    "start_time": "2023-05-06T13:31:10.749Z"
   },
   {
    "duration": 1404,
    "start_time": "2023-05-06T13:31:10.760Z"
   },
   {
    "duration": 29,
    "start_time": "2023-05-06T13:31:12.166Z"
   },
   {
    "duration": 95,
    "start_time": "2023-05-06T13:31:12.197Z"
   },
   {
    "duration": 120,
    "start_time": "2023-05-06T13:31:12.294Z"
   },
   {
    "duration": 13,
    "start_time": "2023-05-06T13:31:12.416Z"
   },
   {
    "duration": 20,
    "start_time": "2023-05-06T13:31:12.431Z"
   },
   {
    "duration": 38,
    "start_time": "2023-05-06T13:31:12.453Z"
   },
   {
    "duration": 196,
    "start_time": "2023-05-06T13:31:12.496Z"
   },
   {
    "duration": 105,
    "start_time": "2023-05-06T13:31:12.694Z"
   },
   {
    "duration": 93,
    "start_time": "2023-05-06T13:31:12.801Z"
   },
   {
    "duration": 2602,
    "start_time": "2023-05-06T13:31:12.896Z"
   },
   {
    "duration": 85,
    "start_time": "2023-05-06T13:31:15.505Z"
   },
   {
    "duration": 5,
    "start_time": "2023-05-06T13:31:15.593Z"
   },
   {
    "duration": 6,
    "start_time": "2023-05-06T13:31:15.600Z"
   },
   {
    "duration": 3772,
    "start_time": "2023-05-06T13:31:15.608Z"
   },
   {
    "duration": 13,
    "start_time": "2023-05-06T13:31:19.382Z"
   },
   {
    "duration": 16,
    "start_time": "2023-05-06T13:31:19.398Z"
   },
   {
    "duration": 1786,
    "start_time": "2023-05-06T18:56:00.802Z"
   },
   {
    "duration": 3,
    "start_time": "2023-05-06T18:56:02.590Z"
   },
   {
    "duration": 1749,
    "start_time": "2023-05-06T18:56:02.595Z"
   },
   {
    "duration": 14,
    "start_time": "2023-05-06T18:56:04.346Z"
   },
   {
    "duration": 44,
    "start_time": "2023-05-06T18:56:04.361Z"
   },
   {
    "duration": 21,
    "start_time": "2023-05-06T18:56:04.407Z"
   },
   {
    "duration": 20,
    "start_time": "2023-05-06T18:56:04.429Z"
   },
   {
    "duration": 123,
    "start_time": "2023-05-06T18:56:04.451Z"
   },
   {
    "duration": 16,
    "start_time": "2023-05-06T18:56:04.577Z"
   },
   {
    "duration": 49,
    "start_time": "2023-05-06T18:56:04.595Z"
   },
   {
    "duration": 9,
    "start_time": "2023-05-06T18:56:04.646Z"
   },
   {
    "duration": 1342,
    "start_time": "2023-05-06T18:56:04.657Z"
   },
   {
    "duration": 43,
    "start_time": "2023-05-06T18:56:06.001Z"
   },
   {
    "duration": 122,
    "start_time": "2023-05-06T18:56:06.119Z"
   },
   {
    "duration": 3,
    "start_time": "2023-05-06T18:56:06.242Z"
   },
   {
    "duration": 10,
    "start_time": "2023-05-06T18:56:06.247Z"
   },
   {
    "duration": 17,
    "start_time": "2023-05-06T18:56:06.259Z"
   },
   {
    "duration": 104,
    "start_time": "2023-05-06T18:56:06.321Z"
   },
   {
    "duration": 117,
    "start_time": "2023-05-06T18:56:06.431Z"
   },
   {
    "duration": 193,
    "start_time": "2023-05-06T18:56:06.550Z"
   },
   {
    "duration": 1876,
    "start_time": "2023-05-06T18:56:06.745Z"
   },
   {
    "duration": 4,
    "start_time": "2023-05-06T18:56:08.623Z"
   },
   {
    "duration": 112,
    "start_time": "2023-05-06T18:56:08.632Z"
   },
   {
    "duration": 22,
    "start_time": "2023-05-06T18:56:08.745Z"
   },
   {
    "duration": 3737,
    "start_time": "2023-05-06T18:56:08.769Z"
   },
   {
    "duration": 25,
    "start_time": "2023-05-06T18:56:12.509Z"
   },
   {
    "duration": 8795,
    "start_time": "2023-05-06T19:04:33.658Z"
   },
   {
    "duration": 163,
    "start_time": "2023-05-06T19:05:05.462Z"
   },
   {
    "duration": 10,
    "start_time": "2023-05-06T19:05:29.329Z"
   },
   {
    "duration": 6,
    "start_time": "2023-05-06T19:05:39.838Z"
   },
   {
    "duration": 16,
    "start_time": "2023-05-06T19:06:31.847Z"
   },
   {
    "duration": 16,
    "start_time": "2023-05-06T19:08:36.867Z"
   },
   {
    "duration": 5,
    "start_time": "2023-05-06T19:18:25.969Z"
   },
   {
    "duration": 8764,
    "start_time": "2023-05-06T19:27:40.958Z"
   },
   {
    "duration": 19,
    "start_time": "2023-05-06T19:27:57.183Z"
   },
   {
    "duration": 16,
    "start_time": "2023-05-06T19:28:21.958Z"
   },
   {
    "duration": 19,
    "start_time": "2023-05-06T19:28:33.919Z"
   },
   {
    "duration": 10,
    "start_time": "2023-05-06T19:29:44.473Z"
   },
   {
    "duration": 8,
    "start_time": "2023-05-06T19:29:57.481Z"
   },
   {
    "duration": 1456,
    "start_time": "2023-05-06T19:33:09.296Z"
   },
   {
    "duration": 4,
    "start_time": "2023-05-06T19:33:10.754Z"
   },
   {
    "duration": 447,
    "start_time": "2023-05-06T19:33:10.759Z"
   },
   {
    "duration": 28,
    "start_time": "2023-05-06T19:33:11.208Z"
   },
   {
    "duration": 22,
    "start_time": "2023-05-06T19:33:11.240Z"
   },
   {
    "duration": 17,
    "start_time": "2023-05-06T19:33:11.264Z"
   },
   {
    "duration": 19,
    "start_time": "2023-05-06T19:33:11.282Z"
   },
   {
    "duration": 100,
    "start_time": "2023-05-06T19:33:11.303Z"
   },
   {
    "duration": 30,
    "start_time": "2023-05-06T19:33:11.404Z"
   },
   {
    "duration": 48,
    "start_time": "2023-05-06T19:33:11.440Z"
   },
   {
    "duration": 9,
    "start_time": "2023-05-06T19:33:11.490Z"
   },
   {
    "duration": 1407,
    "start_time": "2023-05-06T19:33:11.500Z"
   },
   {
    "duration": 34,
    "start_time": "2023-05-06T19:33:12.909Z"
   },
   {
    "duration": 107,
    "start_time": "2023-05-06T19:33:13.023Z"
   },
   {
    "duration": 6,
    "start_time": "2023-05-06T19:33:13.133Z"
   },
   {
    "duration": 6,
    "start_time": "2023-05-06T19:33:13.141Z"
   },
   {
    "duration": 18,
    "start_time": "2023-05-06T19:33:13.148Z"
   },
   {
    "duration": 105,
    "start_time": "2023-05-06T19:33:13.222Z"
   },
   {
    "duration": 111,
    "start_time": "2023-05-06T19:33:13.329Z"
   },
   {
    "duration": 78,
    "start_time": "2023-05-06T19:33:13.445Z"
   },
   {
    "duration": 2118,
    "start_time": "2023-05-06T19:33:13.528Z"
   },
   {
    "duration": 8,
    "start_time": "2023-05-06T19:33:15.723Z"
   },
   {
    "duration": 97,
    "start_time": "2023-05-06T19:33:15.736Z"
   },
   {
    "duration": 11,
    "start_time": "2023-05-06T19:33:15.836Z"
   },
   {
    "duration": 8683,
    "start_time": "2023-05-06T19:33:15.849Z"
   },
   {
    "duration": 117,
    "start_time": "2023-05-06T19:33:24.534Z"
   },
   {
    "duration": 0,
    "start_time": "2023-05-06T19:33:24.653Z"
   },
   {
    "duration": 0,
    "start_time": "2023-05-06T19:33:24.654Z"
   },
   {
    "duration": 0,
    "start_time": "2023-05-06T19:33:24.656Z"
   },
   {
    "duration": 16,
    "start_time": "2023-05-06T19:33:58.192Z"
   },
   {
    "duration": 4,
    "start_time": "2023-05-06T19:33:58.210Z"
   },
   {
    "duration": 3761,
    "start_time": "2023-05-06T19:33:58.216Z"
   },
   {
    "duration": 16,
    "start_time": "2023-05-06T19:34:01.980Z"
   },
   {
    "duration": 15,
    "start_time": "2023-05-06T19:35:32.393Z"
   },
   {
    "duration": 21,
    "start_time": "2023-05-06T19:36:10.713Z"
   },
   {
    "duration": 3694,
    "start_time": "2023-05-06T19:37:37.940Z"
   },
   {
    "duration": 12,
    "start_time": "2023-05-06T19:37:41.636Z"
   },
   {
    "duration": 3754,
    "start_time": "2023-05-06T19:37:50.651Z"
   },
   {
    "duration": 32,
    "start_time": "2023-05-06T19:37:54.407Z"
   },
   {
    "duration": 16,
    "start_time": "2023-05-06T19:38:14.468Z"
   },
   {
    "duration": 27,
    "start_time": "2023-05-06T19:39:54.614Z"
   },
   {
    "duration": 1523,
    "start_time": "2023-05-06T19:41:19.071Z"
   },
   {
    "duration": 8662,
    "start_time": "2023-05-06T19:41:34.852Z"
   },
   {
    "duration": 21,
    "start_time": "2023-05-06T19:41:43.518Z"
   },
   {
    "duration": 19,
    "start_time": "2023-05-06T19:41:51.946Z"
   },
   {
    "duration": 1864,
    "start_time": "2023-09-06T15:27:07.793Z"
   },
   {
    "duration": 3,
    "start_time": "2023-09-06T15:27:09.659Z"
   },
   {
    "duration": 968,
    "start_time": "2023-09-06T15:27:09.664Z"
   },
   {
    "duration": 3,
    "start_time": "2023-09-06T15:27:10.741Z"
   },
   {
    "duration": 6,
    "start_time": "2023-09-06T15:28:14.421Z"
   },
   {
    "duration": 441,
    "start_time": "2023-09-06T15:28:58.641Z"
   },
   {
    "duration": 477,
    "start_time": "2023-09-06T15:29:58.401Z"
   },
   {
    "duration": 459,
    "start_time": "2023-09-06T15:30:09.769Z"
   },
   {
    "duration": 5,
    "start_time": "2023-09-06T15:33:13.406Z"
   },
   {
    "duration": 466,
    "start_time": "2023-09-06T15:33:16.429Z"
   },
   {
    "duration": 15,
    "start_time": "2023-09-06T15:34:55.664Z"
   },
   {
    "duration": 18,
    "start_time": "2023-09-06T15:34:58.923Z"
   },
   {
    "duration": 47,
    "start_time": "2023-09-06T15:36:27.436Z"
   },
   {
    "duration": 108,
    "start_time": "2023-09-06T15:36:35.349Z"
   },
   {
    "duration": 52,
    "start_time": "2023-09-06T15:36:48.236Z"
   },
   {
    "duration": 62,
    "start_time": "2023-09-06T15:36:56.564Z"
   },
   {
    "duration": 432,
    "start_time": "2023-09-06T15:37:03.532Z"
   },
   {
    "duration": 48,
    "start_time": "2023-09-06T15:37:18.956Z"
   },
   {
    "duration": 63,
    "start_time": "2023-09-06T15:37:23.756Z"
   },
   {
    "duration": 64,
    "start_time": "2023-09-06T15:37:27.084Z"
   },
   {
    "duration": 61,
    "start_time": "2023-09-06T15:37:31.380Z"
   },
   {
    "duration": 25,
    "start_time": "2023-09-06T15:37:48.740Z"
   },
   {
    "duration": 29,
    "start_time": "2023-09-06T15:37:55.624Z"
   },
   {
    "duration": 41,
    "start_time": "2023-09-06T15:39:10.704Z"
   },
   {
    "duration": 32,
    "start_time": "2023-09-06T15:39:39.639Z"
   },
   {
    "duration": 34,
    "start_time": "2023-09-06T16:19:11.126Z"
   },
   {
    "duration": 33,
    "start_time": "2023-09-06T16:19:20.190Z"
   },
   {
    "duration": 71,
    "start_time": "2023-09-06T16:22:20.386Z"
   },
   {
    "duration": 114,
    "start_time": "2023-09-06T16:25:01.633Z"
   },
   {
    "duration": 10,
    "start_time": "2023-09-06T16:25:36.620Z"
   },
   {
    "duration": 9,
    "start_time": "2023-09-06T16:25:49.022Z"
   },
   {
    "duration": 236,
    "start_time": "2023-09-06T16:26:08.688Z"
   },
   {
    "duration": 104,
    "start_time": "2023-09-06T16:26:41.297Z"
   },
   {
    "duration": 10,
    "start_time": "2023-09-06T16:26:59.258Z"
   },
   {
    "duration": 10,
    "start_time": "2023-09-06T16:27:06.192Z"
   },
   {
    "duration": 91,
    "start_time": "2023-09-06T16:27:24.016Z"
   },
   {
    "duration": 317,
    "start_time": "2023-09-06T16:27:31.745Z"
   },
   {
    "duration": 309,
    "start_time": "2023-09-06T16:27:45.817Z"
   },
   {
    "duration": 358,
    "start_time": "2023-09-06T16:27:51.100Z"
   },
   {
    "duration": 403,
    "start_time": "2023-09-06T16:27:55.085Z"
   },
   {
    "duration": 313,
    "start_time": "2023-09-06T16:27:59.693Z"
   },
   {
    "duration": 374,
    "start_time": "2023-09-06T16:28:24.609Z"
   },
   {
    "duration": 361,
    "start_time": "2023-09-06T16:28:34.476Z"
   },
   {
    "duration": 330,
    "start_time": "2023-09-06T16:28:37.884Z"
   },
   {
    "duration": 13,
    "start_time": "2023-09-06T16:29:01.780Z"
   },
   {
    "duration": 10,
    "start_time": "2023-09-06T16:29:34.020Z"
   },
   {
    "duration": 16,
    "start_time": "2023-09-06T16:29:37.036Z"
   },
   {
    "duration": 33,
    "start_time": "2023-09-06T16:31:26.272Z"
   },
   {
    "duration": 132,
    "start_time": "2023-09-06T16:31:30.311Z"
   },
   {
    "duration": 16,
    "start_time": "2023-09-06T16:31:35.920Z"
   },
   {
    "duration": 41,
    "start_time": "2023-09-06T16:33:51.035Z"
   },
   {
    "duration": 128,
    "start_time": "2023-09-06T16:34:14.763Z"
   },
   {
    "duration": 97,
    "start_time": "2023-09-06T16:34:20.219Z"
   },
   {
    "duration": 16,
    "start_time": "2023-09-06T16:34:26.899Z"
   },
   {
    "duration": 83,
    "start_time": "2023-09-06T16:34:46.051Z"
   },
   {
    "duration": 102,
    "start_time": "2023-09-06T16:35:35.239Z"
   },
   {
    "duration": 72,
    "start_time": "2023-09-06T16:35:53.111Z"
   },
   {
    "duration": 86,
    "start_time": "2023-09-06T16:36:02.262Z"
   },
   {
    "duration": 175,
    "start_time": "2023-09-06T16:36:33.775Z"
   },
   {
    "duration": 79,
    "start_time": "2023-09-06T16:36:53.686Z"
   },
   {
    "duration": 85,
    "start_time": "2023-09-06T16:36:57.190Z"
   },
   {
    "duration": 74,
    "start_time": "2023-09-06T16:37:40.868Z"
   },
   {
    "duration": 11,
    "start_time": "2023-09-06T16:38:13.199Z"
   },
   {
    "duration": 16,
    "start_time": "2023-09-06T16:38:22.178Z"
   },
   {
    "duration": 17,
    "start_time": "2023-09-06T16:38:26.986Z"
   },
   {
    "duration": 109,
    "start_time": "2023-09-06T16:39:03.931Z"
   },
   {
    "duration": 309,
    "start_time": "2023-09-06T16:39:12.210Z"
   },
   {
    "duration": 308,
    "start_time": "2023-09-06T16:39:17.571Z"
   },
   {
    "duration": 352,
    "start_time": "2023-09-06T16:39:28.642Z"
   },
   {
    "duration": 12,
    "start_time": "2023-09-06T16:45:45.865Z"
   },
   {
    "duration": 11,
    "start_time": "2023-09-06T16:46:33.005Z"
   },
   {
    "duration": 32,
    "start_time": "2023-09-06T16:46:33.385Z"
   },
   {
    "duration": 8,
    "start_time": "2023-09-06T16:46:33.957Z"
   },
   {
    "duration": 1451,
    "start_time": "2023-09-06T16:46:53.317Z"
   },
   {
    "duration": 1219,
    "start_time": "2023-09-06T16:47:29.750Z"
   },
   {
    "duration": 88120,
    "start_time": "2023-09-06T16:50:53.525Z"
   },
   {
    "duration": 26010,
    "start_time": "2023-09-06T16:52:43.529Z"
   },
   {
    "duration": 1239,
    "start_time": "2023-09-06T16:53:17.465Z"
   },
   {
    "duration": 1318,
    "start_time": "2023-09-06T16:54:33.709Z"
   },
   {
    "duration": 16,
    "start_time": "2023-09-06T16:55:47.420Z"
   },
   {
    "duration": 153,
    "start_time": "2023-09-06T16:56:20.752Z"
   },
   {
    "duration": 22,
    "start_time": "2023-09-06T16:56:29.168Z"
   },
   {
    "duration": 0,
    "start_time": "2023-09-06T16:56:42.064Z"
   },
   {
    "duration": 185,
    "start_time": "2023-09-06T16:56:44.136Z"
   },
   {
    "duration": 14,
    "start_time": "2023-09-06T16:57:22.689Z"
   },
   {
    "duration": 12,
    "start_time": "2023-09-06T16:58:00.540Z"
   },
   {
    "duration": 4,
    "start_time": "2023-09-06T16:59:04.956Z"
   },
   {
    "duration": 21,
    "start_time": "2023-09-06T16:59:51.564Z"
   },
   {
    "duration": 21,
    "start_time": "2023-09-06T16:59:53.716Z"
   },
   {
    "duration": 15,
    "start_time": "2023-09-06T16:59:57.200Z"
   },
   {
    "duration": 4,
    "start_time": "2023-09-06T17:03:37.677Z"
   },
   {
    "duration": 1911,
    "start_time": "2023-09-06T17:04:23.299Z"
   },
   {
    "duration": 11,
    "start_time": "2023-09-06T17:05:51.727Z"
   },
   {
    "duration": 4,
    "start_time": "2023-09-06T17:06:24.023Z"
   },
   {
    "duration": 3,
    "start_time": "2023-09-06T17:07:03.486Z"
   },
   {
    "duration": 11,
    "start_time": "2023-09-06T17:07:43.268Z"
   },
   {
    "duration": 12,
    "start_time": "2023-09-06T17:07:55.399Z"
   },
   {
    "duration": 9,
    "start_time": "2023-09-06T17:11:40.432Z"
   },
   {
    "duration": 16,
    "start_time": "2023-09-06T17:12:40.491Z"
   },
   {
    "duration": 8,
    "start_time": "2023-09-06T17:23:19.906Z"
   },
   {
    "duration": 6,
    "start_time": "2023-09-06T17:23:20.987Z"
   },
   {
    "duration": 1422,
    "start_time": "2023-09-06T17:23:41.334Z"
   },
   {
    "duration": 3,
    "start_time": "2023-09-06T17:23:42.759Z"
   },
   {
    "duration": 452,
    "start_time": "2023-09-06T17:23:42.764Z"
   },
   {
    "duration": 3,
    "start_time": "2023-09-06T17:23:43.218Z"
   },
   {
    "duration": 32,
    "start_time": "2023-09-06T17:23:43.223Z"
   },
   {
    "duration": 463,
    "start_time": "2023-09-06T17:23:43.257Z"
   },
   {
    "duration": 31,
    "start_time": "2023-09-06T17:23:43.723Z"
   },
   {
    "duration": 106,
    "start_time": "2023-09-06T17:23:43.755Z"
   },
   {
    "duration": 15,
    "start_time": "2023-09-06T17:23:43.863Z"
   },
   {
    "duration": 1385,
    "start_time": "2023-09-06T17:23:43.881Z"
   },
   {
    "duration": 16,
    "start_time": "2023-09-06T17:23:45.268Z"
   },
   {
    "duration": 30,
    "start_time": "2023-09-06T17:23:45.286Z"
   },
   {
    "duration": 122,
    "start_time": "2023-09-06T17:23:45.317Z"
   },
   {
    "duration": 26,
    "start_time": "2023-09-06T17:23:45.441Z"
   },
   {
    "duration": 45,
    "start_time": "2023-09-06T17:23:45.469Z"
   },
   {
    "duration": 36,
    "start_time": "2023-09-06T17:23:45.515Z"
   },
   {
    "duration": 9,
    "start_time": "2023-09-06T17:23:45.553Z"
   },
   {
    "duration": 32,
    "start_time": "2023-09-06T17:23:45.564Z"
   },
   {
    "duration": 2411,
    "start_time": "2023-09-06T17:23:45.598Z"
   },
   {
    "duration": 327,
    "start_time": "2023-09-06T17:23:48.011Z"
   },
   {
    "duration": 0,
    "start_time": "2023-09-06T17:23:48.340Z"
   },
   {
    "duration": 0,
    "start_time": "2023-09-06T17:23:48.342Z"
   },
   {
    "duration": 0,
    "start_time": "2023-09-06T17:23:48.343Z"
   },
   {
    "duration": 0,
    "start_time": "2023-09-06T17:23:48.345Z"
   },
   {
    "duration": 0,
    "start_time": "2023-09-06T17:23:48.345Z"
   },
   {
    "duration": 0,
    "start_time": "2023-09-06T17:23:48.347Z"
   },
   {
    "duration": 0,
    "start_time": "2023-09-06T17:23:48.402Z"
   },
   {
    "duration": 0,
    "start_time": "2023-09-06T17:23:48.403Z"
   },
   {
    "duration": 32,
    "start_time": "2023-09-06T17:24:50.018Z"
   },
   {
    "duration": 12,
    "start_time": "2023-09-06T17:25:10.790Z"
   },
   {
    "duration": 30,
    "start_time": "2023-09-06T17:25:12.458Z"
   },
   {
    "duration": 22,
    "start_time": "2023-09-06T17:25:26.934Z"
   },
   {
    "duration": 9,
    "start_time": "2023-09-06T17:25:28.094Z"
   },
   {
    "duration": 1628,
    "start_time": "2023-09-06T17:25:34.882Z"
   },
   {
    "duration": 9507,
    "start_time": "2023-09-06T20:03:13.096Z"
   },
   {
    "duration": 3912,
    "start_time": "2023-09-06T20:03:45.700Z"
   },
   {
    "duration": 11688,
    "start_time": "2023-09-06T20:03:58.420Z"
   },
   {
    "duration": 13,
    "start_time": "2023-09-06T20:08:02.887Z"
   },
   {
    "duration": 166,
    "start_time": "2023-09-06T20:15:52.696Z"
   },
   {
    "duration": 6,
    "start_time": "2023-09-06T20:16:13.640Z"
   },
   {
    "duration": 111,
    "start_time": "2023-09-06T20:16:18.618Z"
   },
   {
    "duration": 16,
    "start_time": "2023-09-06T20:16:46.355Z"
   },
   {
    "duration": 15,
    "start_time": "2023-09-06T20:16:53.895Z"
   },
   {
    "duration": 10,
    "start_time": "2023-09-06T20:17:44.559Z"
   },
   {
    "duration": 27,
    "start_time": "2023-09-06T20:17:49.234Z"
   },
   {
    "duration": 27,
    "start_time": "2023-09-06T20:18:06.792Z"
   },
   {
    "duration": 15,
    "start_time": "2023-09-06T20:18:13.661Z"
   },
   {
    "duration": 16,
    "start_time": "2023-09-06T20:18:17.631Z"
   },
   {
    "duration": 4,
    "start_time": "2023-09-06T20:18:47.535Z"
   },
   {
    "duration": 17,
    "start_time": "2023-09-06T20:19:01.625Z"
   },
   {
    "duration": 60,
    "start_time": "2023-09-06T20:19:06.493Z"
   },
   {
    "duration": 4,
    "start_time": "2023-09-06T20:19:57.180Z"
   },
   {
    "duration": 54,
    "start_time": "2023-09-06T20:21:28.287Z"
   },
   {
    "duration": 28,
    "start_time": "2023-09-06T20:23:01.840Z"
   },
   {
    "duration": 3,
    "start_time": "2023-09-06T20:23:41.059Z"
   },
   {
    "duration": 28,
    "start_time": "2023-09-06T20:23:42.218Z"
   },
   {
    "duration": 4,
    "start_time": "2023-09-06T20:24:20.059Z"
   },
   {
    "duration": 25,
    "start_time": "2023-09-06T20:24:20.847Z"
   },
   {
    "duration": 2302,
    "start_time": "2023-09-07T14:20:00.792Z"
   },
   {
    "duration": 11,
    "start_time": "2023-09-07T14:20:03.100Z"
   },
   {
    "duration": 2149,
    "start_time": "2023-09-07T14:20:03.114Z"
   },
   {
    "duration": 18,
    "start_time": "2023-09-07T14:20:05.265Z"
   },
   {
    "duration": 14,
    "start_time": "2023-09-07T14:20:05.288Z"
   },
   {
    "duration": 524,
    "start_time": "2023-09-07T14:20:05.304Z"
   },
   {
    "duration": 56,
    "start_time": "2023-09-07T14:20:05.829Z"
   },
   {
    "duration": 123,
    "start_time": "2023-09-07T14:20:05.888Z"
   },
   {
    "duration": 16,
    "start_time": "2023-09-07T14:20:06.013Z"
   },
   {
    "duration": 1608,
    "start_time": "2023-09-07T14:20:06.034Z"
   },
   {
    "duration": 37,
    "start_time": "2023-09-07T14:20:07.644Z"
   },
   {
    "duration": 17,
    "start_time": "2023-09-07T14:20:07.684Z"
   },
   {
    "duration": 60,
    "start_time": "2023-09-07T14:20:07.704Z"
   },
   {
    "duration": 35,
    "start_time": "2023-09-07T14:20:07.766Z"
   },
   {
    "duration": 12,
    "start_time": "2023-09-07T14:20:07.804Z"
   },
   {
    "duration": 2049,
    "start_time": "2023-09-07T14:20:07.818Z"
   },
   {
    "duration": 6,
    "start_time": "2023-09-07T14:20:09.874Z"
   },
   {
    "duration": 277,
    "start_time": "2023-09-07T14:20:09.887Z"
   },
   {
    "duration": 0,
    "start_time": "2023-09-07T14:20:10.171Z"
   },
   {
    "duration": 0,
    "start_time": "2023-09-07T14:20:10.172Z"
   },
   {
    "duration": 0,
    "start_time": "2023-09-07T14:20:10.173Z"
   },
   {
    "duration": 0,
    "start_time": "2023-09-07T14:20:10.176Z"
   },
   {
    "duration": 0,
    "start_time": "2023-09-07T14:20:10.178Z"
   },
   {
    "duration": 0,
    "start_time": "2023-09-07T14:20:10.179Z"
   },
   {
    "duration": 0,
    "start_time": "2023-09-07T14:20:10.185Z"
   },
   {
    "duration": 0,
    "start_time": "2023-09-07T14:20:10.190Z"
   },
   {
    "duration": 0,
    "start_time": "2023-09-07T14:20:10.192Z"
   },
   {
    "duration": 13,
    "start_time": "2023-09-07T14:23:12.989Z"
   },
   {
    "duration": 18,
    "start_time": "2023-09-07T14:23:52.904Z"
   },
   {
    "duration": 20,
    "start_time": "2023-09-07T14:24:15.261Z"
   },
   {
    "duration": 4,
    "start_time": "2023-09-07T14:24:50.253Z"
   },
   {
    "duration": 24,
    "start_time": "2023-09-07T14:25:04.557Z"
   },
   {
    "duration": 13,
    "start_time": "2023-09-07T14:25:21.917Z"
   },
   {
    "duration": 66,
    "start_time": "2023-09-07T14:25:29.517Z"
   },
   {
    "duration": 10,
    "start_time": "2023-09-07T14:26:00.724Z"
   },
   {
    "duration": 5,
    "start_time": "2023-09-07T14:26:22.756Z"
   },
   {
    "duration": 42,
    "start_time": "2023-09-07T14:26:53.451Z"
   },
   {
    "duration": 29,
    "start_time": "2023-09-07T14:26:58.585Z"
   },
   {
    "duration": 31,
    "start_time": "2023-09-07T14:27:08.378Z"
   },
   {
    "duration": 8,
    "start_time": "2023-09-07T14:27:21.193Z"
   },
   {
    "duration": 174,
    "start_time": "2023-09-07T14:27:29.890Z"
   },
   {
    "duration": 31,
    "start_time": "2023-09-07T14:27:37.682Z"
   },
   {
    "duration": 33,
    "start_time": "2023-09-07T14:27:53.232Z"
   },
   {
    "duration": 7,
    "start_time": "2023-09-07T14:28:00.264Z"
   },
   {
    "duration": 89086,
    "start_time": "2023-09-07T14:28:22.196Z"
   },
   {
    "duration": 0,
    "start_time": "2023-09-07T14:29:51.284Z"
   },
   {
    "duration": 40,
    "start_time": "2023-09-07T14:31:22.989Z"
   },
   {
    "duration": 39,
    "start_time": "2023-09-07T14:31:45.890Z"
   },
   {
    "duration": 12712,
    "start_time": "2023-09-07T14:32:04.570Z"
   },
   {
    "duration": 7,
    "start_time": "2023-09-07T14:33:43.863Z"
   },
   {
    "duration": 10,
    "start_time": "2023-09-07T14:33:44.228Z"
   },
   {
    "duration": 12,
    "start_time": "2023-09-07T14:33:58.167Z"
   },
   {
    "duration": 8335,
    "start_time": "2023-09-07T14:58:09.995Z"
   },
   {
    "duration": 15,
    "start_time": "2023-09-07T14:58:27.307Z"
   },
   {
    "duration": 4,
    "start_time": "2023-09-07T14:59:01.687Z"
   },
   {
    "duration": 12,
    "start_time": "2023-09-07T14:59:03.195Z"
   },
   {
    "duration": 13,
    "start_time": "2023-09-07T15:00:29.087Z"
   },
   {
    "duration": 17,
    "start_time": "2023-09-07T15:15:51.108Z"
   },
   {
    "duration": 17,
    "start_time": "2023-09-07T15:23:55.264Z"
   },
   {
    "duration": 26,
    "start_time": "2023-09-07T15:28:38.586Z"
   },
   {
    "duration": 16,
    "start_time": "2023-09-07T15:29:00.867Z"
   },
   {
    "duration": 41,
    "start_time": "2023-09-07T15:29:44.035Z"
   },
   {
    "duration": 15,
    "start_time": "2023-09-07T15:30:02.698Z"
   },
   {
    "duration": 87,
    "start_time": "2023-09-07T15:30:35.597Z"
   },
   {
    "duration": 17,
    "start_time": "2023-09-07T15:30:42.419Z"
   },
   {
    "duration": 3,
    "start_time": "2023-09-07T15:33:30.031Z"
   },
   {
    "duration": 4,
    "start_time": "2023-09-07T15:33:30.326Z"
   },
   {
    "duration": 103,
    "start_time": "2023-09-07T15:35:25.683Z"
   },
   {
    "duration": 124,
    "start_time": "2023-09-07T15:37:58.430Z"
   },
   {
    "duration": 3495,
    "start_time": "2023-09-07T15:38:05.258Z"
   },
   {
    "duration": 20,
    "start_time": "2023-09-07T15:38:44.060Z"
   },
   {
    "duration": 17,
    "start_time": "2023-09-07T15:40:08.850Z"
   },
   {
    "duration": 10,
    "start_time": "2023-09-07T15:40:43.843Z"
   },
   {
    "duration": 174,
    "start_time": "2023-09-07T15:40:54.410Z"
   },
   {
    "duration": 142,
    "start_time": "2023-09-07T15:45:06.094Z"
   },
   {
    "duration": 146,
    "start_time": "2023-09-07T15:45:11.618Z"
   },
   {
    "duration": 158,
    "start_time": "2023-09-07T15:45:17.154Z"
   },
   {
    "duration": 137,
    "start_time": "2023-09-07T15:45:26.225Z"
   },
   {
    "duration": 156,
    "start_time": "2023-09-07T15:45:30.354Z"
   },
   {
    "duration": 381,
    "start_time": "2023-09-07T15:46:30.741Z"
   },
   {
    "duration": 507,
    "start_time": "2023-09-07T15:46:45.654Z"
   },
   {
    "duration": 387,
    "start_time": "2023-09-07T15:47:28.198Z"
   },
   {
    "duration": 187,
    "start_time": "2023-09-07T15:47:42.805Z"
   },
   {
    "duration": 196,
    "start_time": "2023-09-07T15:48:46.561Z"
   },
   {
    "duration": 163,
    "start_time": "2023-09-07T15:48:56.684Z"
   },
   {
    "duration": 216,
    "start_time": "2023-09-07T15:49:00.049Z"
   },
   {
    "duration": 47,
    "start_time": "2023-09-07T16:32:12.162Z"
   },
   {
    "duration": 1616,
    "start_time": "2023-09-07T16:32:20.999Z"
   },
   {
    "duration": 3,
    "start_time": "2023-09-07T16:32:22.617Z"
   },
   {
    "duration": 521,
    "start_time": "2023-09-07T16:32:22.622Z"
   },
   {
    "duration": 2,
    "start_time": "2023-09-07T16:32:23.145Z"
   },
   {
    "duration": 17,
    "start_time": "2023-09-07T16:32:23.149Z"
   },
   {
    "duration": 504,
    "start_time": "2023-09-07T16:32:23.169Z"
   },
   {
    "duration": 42,
    "start_time": "2023-09-07T16:32:23.678Z"
   },
   {
    "duration": 112,
    "start_time": "2023-09-07T16:32:23.722Z"
   },
   {
    "duration": 16,
    "start_time": "2023-09-07T16:32:23.836Z"
   },
   {
    "duration": 1574,
    "start_time": "2023-09-07T16:32:23.854Z"
   },
   {
    "duration": 16,
    "start_time": "2023-09-07T16:32:25.430Z"
   },
   {
    "duration": 27,
    "start_time": "2023-09-07T16:32:25.448Z"
   },
   {
    "duration": 42,
    "start_time": "2023-09-07T16:32:25.482Z"
   },
   {
    "duration": 23,
    "start_time": "2023-09-07T16:32:25.526Z"
   },
   {
    "duration": 29,
    "start_time": "2023-09-07T16:32:25.550Z"
   },
   {
    "duration": 2315,
    "start_time": "2023-09-07T16:32:25.581Z"
   },
   {
    "duration": 75,
    "start_time": "2023-09-07T16:32:27.899Z"
   },
   {
    "duration": 10,
    "start_time": "2023-09-07T16:32:27.982Z"
   },
   {
    "duration": 89,
    "start_time": "2023-09-07T16:32:27.997Z"
   },
   {
    "duration": 6,
    "start_time": "2023-09-07T16:32:28.088Z"
   },
   {
    "duration": 10,
    "start_time": "2023-09-07T16:32:28.096Z"
   },
   {
    "duration": 495,
    "start_time": "2023-09-07T16:32:28.108Z"
   },
   {
    "duration": 368,
    "start_time": "2023-09-07T16:32:28.605Z"
   },
   {
    "duration": 1,
    "start_time": "2023-09-07T16:32:28.975Z"
   },
   {
    "duration": 1583,
    "start_time": "2023-09-07T16:33:25.213Z"
   },
   {
    "duration": 13,
    "start_time": "2023-09-07T16:35:03.945Z"
   },
   {
    "duration": 46,
    "start_time": "2023-09-07T16:37:05.665Z"
   },
   {
    "duration": 9,
    "start_time": "2023-09-07T16:37:09.153Z"
   },
   {
    "duration": 2086,
    "start_time": "2023-09-07T16:37:32.897Z"
   },
   {
    "duration": 4,
    "start_time": "2023-09-07T16:39:03.842Z"
   },
   {
    "duration": 13,
    "start_time": "2023-09-07T16:39:03.848Z"
   },
   {
    "duration": 519,
    "start_time": "2023-09-07T16:39:03.862Z"
   },
   {
    "duration": 7,
    "start_time": "2023-09-07T16:39:04.383Z"
   },
   {
    "duration": 6,
    "start_time": "2023-09-07T16:39:04.392Z"
   },
   {
    "duration": 446,
    "start_time": "2023-09-07T16:39:04.400Z"
   },
   {
    "duration": 46,
    "start_time": "2023-09-07T16:39:04.848Z"
   },
   {
    "duration": 96,
    "start_time": "2023-09-07T16:39:04.895Z"
   },
   {
    "duration": 16,
    "start_time": "2023-09-07T16:39:04.994Z"
   },
   {
    "duration": 2837,
    "start_time": "2023-09-07T16:39:05.012Z"
   },
   {
    "duration": 33,
    "start_time": "2023-09-07T16:39:07.850Z"
   },
   {
    "duration": 11,
    "start_time": "2023-09-07T16:39:07.885Z"
   },
   {
    "duration": 29,
    "start_time": "2023-09-07T16:39:07.898Z"
   },
   {
    "duration": 3,
    "start_time": "2023-09-07T16:39:07.928Z"
   },
   {
    "duration": 49,
    "start_time": "2023-09-07T16:39:07.932Z"
   },
   {
    "duration": 9,
    "start_time": "2023-09-07T16:39:07.982Z"
   },
   {
    "duration": 34,
    "start_time": "2023-09-07T16:39:07.993Z"
   },
   {
    "duration": 8,
    "start_time": "2023-09-07T16:39:08.029Z"
   },
   {
    "duration": 11,
    "start_time": "2023-09-07T16:39:08.038Z"
   },
   {
    "duration": 1429,
    "start_time": "2023-09-07T16:39:08.050Z"
   },
   {
    "duration": 81,
    "start_time": "2023-09-07T16:39:09.486Z"
   },
   {
    "duration": 96,
    "start_time": "2023-09-07T16:39:09.574Z"
   },
   {
    "duration": 14,
    "start_time": "2023-09-07T16:39:09.673Z"
   },
   {
    "duration": 18,
    "start_time": "2023-09-07T16:39:09.690Z"
   },
   {
    "duration": 364,
    "start_time": "2023-09-07T16:39:09.711Z"
   },
   {
    "duration": 104,
    "start_time": "2023-09-07T16:39:10.078Z"
   },
   {
    "duration": 0,
    "start_time": "2023-09-07T16:39:10.184Z"
   },
   {
    "duration": 9,
    "start_time": "2023-09-07T16:42:46.405Z"
   },
   {
    "duration": 48,
    "start_time": "2023-09-07T16:42:52.140Z"
   },
   {
    "duration": 7,
    "start_time": "2023-09-07T16:42:52.934Z"
   },
   {
    "duration": 24,
    "start_time": "2023-09-07T16:45:21.240Z"
   },
   {
    "duration": 9,
    "start_time": "2023-09-07T16:50:07.952Z"
   },
   {
    "duration": 38,
    "start_time": "2023-09-07T16:50:15.167Z"
   },
   {
    "duration": 10,
    "start_time": "2023-09-07T16:50:19.042Z"
   },
   {
    "duration": 4,
    "start_time": "2023-09-07T16:51:34.232Z"
   },
   {
    "duration": 1388,
    "start_time": "2023-09-07T16:52:07.189Z"
   },
   {
    "duration": 34,
    "start_time": "2023-09-07T16:54:42.958Z"
   },
   {
    "duration": 1469,
    "start_time": "2023-09-07T16:54:50.502Z"
   },
   {
    "duration": 13,
    "start_time": "2023-09-07T16:56:41.050Z"
   },
   {
    "duration": 3,
    "start_time": "2023-09-07T16:56:46.139Z"
   },
   {
    "duration": 3,
    "start_time": "2023-09-07T16:56:46.412Z"
   },
   {
    "duration": 35,
    "start_time": "2023-09-07T16:56:46.746Z"
   },
   {
    "duration": 10,
    "start_time": "2023-09-07T16:56:47.762Z"
   },
   {
    "duration": 10,
    "start_time": "2023-09-07T16:57:37.594Z"
   },
   {
    "duration": 6,
    "start_time": "2023-09-07T16:57:40.635Z"
   },
   {
    "duration": 1602,
    "start_time": "2023-09-07T16:58:17.749Z"
   },
   {
    "duration": 3,
    "start_time": "2023-09-07T16:58:19.354Z"
   },
   {
    "duration": 915,
    "start_time": "2023-09-07T16:58:19.368Z"
   },
   {
    "duration": 3,
    "start_time": "2023-09-07T16:58:20.290Z"
   },
   {
    "duration": 20,
    "start_time": "2023-09-07T16:58:20.297Z"
   },
   {
    "duration": 1360,
    "start_time": "2023-09-07T16:58:20.318Z"
   },
   {
    "duration": 88,
    "start_time": "2023-09-07T16:58:21.680Z"
   },
   {
    "duration": 172,
    "start_time": "2023-09-07T16:58:21.771Z"
   },
   {
    "duration": 31,
    "start_time": "2023-09-07T16:58:21.948Z"
   },
   {
    "duration": 1727,
    "start_time": "2023-09-07T16:58:21.982Z"
   },
   {
    "duration": 16,
    "start_time": "2023-09-07T16:58:23.710Z"
   },
   {
    "duration": 51,
    "start_time": "2023-09-07T16:58:23.729Z"
   },
   {
    "duration": 55,
    "start_time": "2023-09-07T16:58:23.786Z"
   },
   {
    "duration": 2025,
    "start_time": "2023-09-07T16:58:23.844Z"
   },
   {
    "duration": 6,
    "start_time": "2023-09-07T16:58:25.871Z"
   },
   {
    "duration": 18,
    "start_time": "2023-09-07T16:58:25.879Z"
   },
   {
    "duration": 23,
    "start_time": "2023-09-07T16:58:25.969Z"
   },
   {
    "duration": 4,
    "start_time": "2023-09-07T16:58:25.994Z"
   },
   {
    "duration": 14,
    "start_time": "2023-09-07T16:58:26.000Z"
   },
   {
    "duration": 364,
    "start_time": "2023-09-07T16:58:26.016Z"
   },
   {
    "duration": 97,
    "start_time": "2023-09-07T16:58:26.383Z"
   },
   {
    "duration": 130,
    "start_time": "2023-09-07T16:58:26.483Z"
   },
   {
    "duration": 0,
    "start_time": "2023-09-07T16:58:26.614Z"
   },
   {
    "duration": 8,
    "start_time": "2023-09-07T16:58:40.522Z"
   },
   {
    "duration": 103,
    "start_time": "2023-09-07T16:59:14.794Z"
   },
   {
    "duration": 6,
    "start_time": "2023-09-07T16:59:15.886Z"
   },
   {
    "duration": 151,
    "start_time": "2023-09-07T16:59:38.725Z"
   },
   {
    "duration": 6,
    "start_time": "2023-09-07T16:59:39.502Z"
   },
   {
    "duration": 8,
    "start_time": "2023-09-07T16:59:43.957Z"
   },
   {
    "duration": 6,
    "start_time": "2023-09-07T16:59:50.822Z"
   },
   {
    "duration": 166,
    "start_time": "2023-09-07T17:01:12.305Z"
   },
   {
    "duration": 9,
    "start_time": "2023-09-07T17:01:13.225Z"
   },
   {
    "duration": 40,
    "start_time": "2023-09-07T17:07:16.229Z"
   },
   {
    "duration": 34,
    "start_time": "2023-09-07T17:07:32.717Z"
   },
   {
    "duration": 6,
    "start_time": "2023-09-07T17:07:55.808Z"
   },
   {
    "duration": 151,
    "start_time": "2023-09-07T17:10:25.822Z"
   },
   {
    "duration": 9,
    "start_time": "2023-09-07T17:10:27.797Z"
   },
   {
    "duration": 12,
    "start_time": "2023-09-07T17:11:07.144Z"
   },
   {
    "duration": 7,
    "start_time": "2023-09-07T17:11:16.034Z"
   },
   {
    "duration": 13,
    "start_time": "2023-09-07T17:11:25.601Z"
   },
   {
    "duration": 190,
    "start_time": "2023-09-07T18:30:50.382Z"
   },
   {
    "duration": 11,
    "start_time": "2023-09-07T18:31:48.716Z"
   },
   {
    "duration": 11,
    "start_time": "2023-09-07T18:33:10.708Z"
   },
   {
    "duration": 32,
    "start_time": "2023-09-07T18:33:11.149Z"
   },
   {
    "duration": 17,
    "start_time": "2023-09-07T18:33:23.213Z"
   },
   {
    "duration": 8,
    "start_time": "2023-09-07T18:33:27.702Z"
   },
   {
    "duration": 1846,
    "start_time": "2023-09-08T11:23:30.038Z"
   },
   {
    "duration": 3,
    "start_time": "2023-09-08T11:23:31.887Z"
   },
   {
    "duration": 961,
    "start_time": "2023-09-08T11:23:31.891Z"
   },
   {
    "duration": 4,
    "start_time": "2023-09-08T11:23:32.854Z"
   },
   {
    "duration": 11,
    "start_time": "2023-09-08T11:23:32.859Z"
   },
   {
    "duration": 487,
    "start_time": "2023-09-08T11:23:32.872Z"
   },
   {
    "duration": 53,
    "start_time": "2023-09-08T11:23:33.361Z"
   },
   {
    "duration": 78,
    "start_time": "2023-09-08T11:23:33.416Z"
   },
   {
    "duration": 27,
    "start_time": "2023-09-08T11:23:33.496Z"
   },
   {
    "duration": 1662,
    "start_time": "2023-09-08T11:23:33.525Z"
   },
   {
    "duration": 27,
    "start_time": "2023-09-08T11:23:35.189Z"
   },
   {
    "duration": 60,
    "start_time": "2023-09-08T11:23:35.218Z"
   },
   {
    "duration": 126,
    "start_time": "2023-09-08T11:23:35.281Z"
   },
   {
    "duration": 2208,
    "start_time": "2023-09-08T11:23:35.408Z"
   },
   {
    "duration": 89,
    "start_time": "2023-09-08T11:23:37.619Z"
   },
   {
    "duration": 8,
    "start_time": "2023-09-08T11:23:37.711Z"
   },
   {
    "duration": 21,
    "start_time": "2023-09-08T11:23:37.723Z"
   },
   {
    "duration": 6,
    "start_time": "2023-09-08T11:23:53.430Z"
   },
   {
    "duration": 138,
    "start_time": "2023-09-08T11:24:19.582Z"
   },
   {
    "duration": 14,
    "start_time": "2023-09-08T11:24:33.969Z"
   },
   {
    "duration": 4,
    "start_time": "2023-09-08T11:24:39.266Z"
   },
   {
    "duration": 10,
    "start_time": "2023-09-08T11:25:11.882Z"
   },
   {
    "duration": 13,
    "start_time": "2023-09-08T11:25:39.122Z"
   },
   {
    "duration": 12,
    "start_time": "2023-09-08T11:25:45.770Z"
   },
   {
    "duration": 17,
    "start_time": "2023-09-08T11:26:22.959Z"
   },
   {
    "duration": 11,
    "start_time": "2023-09-08T11:26:27.333Z"
   },
   {
    "duration": 10,
    "start_time": "2023-09-08T11:26:37.442Z"
   },
   {
    "duration": 5,
    "start_time": "2023-09-08T11:26:43.319Z"
   },
   {
    "duration": 14,
    "start_time": "2023-09-08T11:26:52.326Z"
   },
   {
    "duration": 31,
    "start_time": "2023-09-08T11:26:52.958Z"
   },
   {
    "duration": 13,
    "start_time": "2023-09-08T11:26:59.894Z"
   },
   {
    "duration": 11,
    "start_time": "2023-09-08T11:27:51.713Z"
   },
   {
    "duration": 3,
    "start_time": "2023-09-08T11:27:54.982Z"
   },
   {
    "duration": 3,
    "start_time": "2023-09-08T11:27:55.221Z"
   },
   {
    "duration": 182,
    "start_time": "2023-09-08T11:27:56.430Z"
   },
   {
    "duration": 13,
    "start_time": "2023-09-08T11:28:03.086Z"
   },
   {
    "duration": 12,
    "start_time": "2023-09-08T11:28:09.269Z"
   },
   {
    "duration": 12,
    "start_time": "2023-09-08T11:28:27.622Z"
   },
   {
    "duration": 4,
    "start_time": "2023-09-08T11:28:56.882Z"
   },
   {
    "duration": 223,
    "start_time": "2023-09-08T11:29:01.178Z"
   },
   {
    "duration": 11,
    "start_time": "2023-09-08T11:29:03.960Z"
   },
   {
    "duration": 1568,
    "start_time": "2023-09-08T11:29:33.730Z"
   },
   {
    "duration": 8,
    "start_time": "2023-09-08T11:29:35.308Z"
   },
   {
    "duration": 469,
    "start_time": "2023-09-08T11:29:35.317Z"
   },
   {
    "duration": 3,
    "start_time": "2023-09-08T11:29:35.789Z"
   },
   {
    "duration": 21,
    "start_time": "2023-09-08T11:29:35.806Z"
   },
   {
    "duration": 505,
    "start_time": "2023-09-08T11:29:35.829Z"
   },
   {
    "duration": 30,
    "start_time": "2023-09-08T11:29:36.336Z"
   },
   {
    "duration": 111,
    "start_time": "2023-09-08T11:29:36.367Z"
   },
   {
    "duration": 35,
    "start_time": "2023-09-08T11:29:36.480Z"
   },
   {
    "duration": 1627,
    "start_time": "2023-09-08T11:29:36.519Z"
   },
   {
    "duration": 18,
    "start_time": "2023-09-08T11:29:38.148Z"
   },
   {
    "duration": 17,
    "start_time": "2023-09-08T11:29:38.168Z"
   },
   {
    "duration": 51,
    "start_time": "2023-09-08T11:29:38.202Z"
   },
   {
    "duration": 2057,
    "start_time": "2023-09-08T11:29:38.255Z"
   },
   {
    "duration": 6,
    "start_time": "2023-09-08T11:29:40.315Z"
   },
   {
    "duration": 85,
    "start_time": "2023-09-08T11:29:40.325Z"
   },
   {
    "duration": 105,
    "start_time": "2023-09-08T11:29:40.413Z"
   },
   {
    "duration": 19,
    "start_time": "2023-09-08T11:29:40.521Z"
   },
   {
    "duration": 27,
    "start_time": "2023-09-08T11:29:40.542Z"
   },
   {
    "duration": 17,
    "start_time": "2023-09-08T11:29:40.571Z"
   },
   {
    "duration": 319,
    "start_time": "2023-09-08T11:29:40.590Z"
   },
   {
    "duration": 94,
    "start_time": "2023-09-08T11:29:40.911Z"
   },
   {
    "duration": 97,
    "start_time": "2023-09-08T11:29:41.007Z"
   },
   {
    "duration": 13,
    "start_time": "2023-09-08T11:29:41.106Z"
   },
   {
    "duration": 3917,
    "start_time": "2023-09-08T11:29:41.121Z"
   },
   {
    "duration": 15,
    "start_time": "2023-09-08T11:29:45.040Z"
   }
  ],
  "kernelspec": {
   "display_name": "Python 3 (ipykernel)",
   "language": "python",
   "name": "python3"
  },
  "language_info": {
   "codemirror_mode": {
    "name": "ipython",
    "version": 3
   },
   "file_extension": ".py",
   "mimetype": "text/x-python",
   "name": "python",
   "nbconvert_exporter": "python",
   "pygments_lexer": "ipython3",
   "version": "3.9.5"
  },
  "toc": {
   "base_numbering": 1,
   "nav_menu": {},
   "number_sections": true,
   "sideBar": true,
   "skip_h1_title": true,
   "title_cell": "Table of Contents",
   "title_sidebar": "Contents",
   "toc_cell": false,
   "toc_position": {
    "height": "calc(100% - 180px)",
    "left": "10px",
    "top": "150px",
    "width": "361.391px"
   },
   "toc_section_display": true,
   "toc_window_display": true
  }
 },
 "nbformat": 4,
 "nbformat_minor": 2
}
