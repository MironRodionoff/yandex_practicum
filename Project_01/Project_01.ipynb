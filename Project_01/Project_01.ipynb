{
 "cells": [
  {
   "cell_type": "markdown",
   "id": "a356c6ff",
   "metadata": {
    "deletable": false,
    "editable": false,
    "id": "c81daeeb"
   },
   "source": [
    "# Исследование надежности заемщиков\n"
   ]
  },
  {
   "cell_type": "markdown",
   "id": "641546da",
   "metadata": {
    "deletable": false,
    "editable": false,
    "id": "827c20bf"
   },
   "source": [
    "Во второй части проекта вы выполните шаги 3 и 4. Их вручную проверит ревьюер.\n",
    "Чтобы вам не пришлось писать код заново для шагов 1 и 2, мы добавили авторские решения в ячейки с кодом. \n",
    "\n"
   ]
  },
  {
   "cell_type": "markdown",
   "id": "57181bd7",
   "metadata": {
    "deletable": false,
    "editable": false,
    "id": "744d7639"
   },
   "source": [
    "## Откройте таблицу и изучите общую информацию о данных"
   ]
  },
  {
   "cell_type": "markdown",
   "id": "d9ac3c41",
   "metadata": {
    "deletable": false,
    "editable": false,
    "id": "e7a14c31"
   },
   "source": [
    "**Задание 1. Импортируйте библиотеку pandas. Считайте данные из csv-файла в датафрейм и сохраните в переменную `data`. Путь к файлу:**\n",
    "\n",
    "`/datasets/data.csv`"
   ]
  },
  {
   "cell_type": "code",
   "execution_count": 34,
   "id": "c265f076",
   "metadata": {
    "deletable": false,
    "id": "7bcf75c9"
   },
   "outputs": [],
   "source": [
    "import pandas as pd\n",
    "\n",
    "try:\n",
    "    data = pd.read_csv('/datasets/data.csv')\n",
    "except:\n",
    "    data = pd.read_csv('https://code.s3.yandex.net/datasets/data.csv')"
   ]
  },
  {
   "cell_type": "markdown",
   "id": "fe6bedb2",
   "metadata": {
    "deletable": false,
    "editable": false,
    "id": "b8038fe3"
   },
   "source": [
    "**Задание 2. Выведите первые 20 строчек датафрейма `data` на экран.**"
   ]
  },
  {
   "cell_type": "code",
   "execution_count": 35,
   "id": "31512187",
   "metadata": {
    "deletable": false,
    "id": "2a7cab99",
    "outputId": "1a8f3ef2-d323-4ec2-ddf7-89670b5944c4"
   },
   "outputs": [
    {
     "data": {
      "text/html": [
       "<div>\n",
       "<style scoped>\n",
       "    .dataframe tbody tr th:only-of-type {\n",
       "        vertical-align: middle;\n",
       "    }\n",
       "\n",
       "    .dataframe tbody tr th {\n",
       "        vertical-align: top;\n",
       "    }\n",
       "\n",
       "    .dataframe thead th {\n",
       "        text-align: right;\n",
       "    }\n",
       "</style>\n",
       "<table border=\"1\" class=\"dataframe\">\n",
       "  <thead>\n",
       "    <tr style=\"text-align: right;\">\n",
       "      <th></th>\n",
       "      <th>children</th>\n",
       "      <th>days_employed</th>\n",
       "      <th>dob_years</th>\n",
       "      <th>education</th>\n",
       "      <th>education_id</th>\n",
       "      <th>family_status</th>\n",
       "      <th>family_status_id</th>\n",
       "      <th>gender</th>\n",
       "      <th>income_type</th>\n",
       "      <th>debt</th>\n",
       "      <th>total_income</th>\n",
       "      <th>purpose</th>\n",
       "    </tr>\n",
       "  </thead>\n",
       "  <tbody>\n",
       "    <tr>\n",
       "      <th>0</th>\n",
       "      <td>1</td>\n",
       "      <td>-8437.673028</td>\n",
       "      <td>42</td>\n",
       "      <td>высшее</td>\n",
       "      <td>0</td>\n",
       "      <td>женат / замужем</td>\n",
       "      <td>0</td>\n",
       "      <td>F</td>\n",
       "      <td>сотрудник</td>\n",
       "      <td>0</td>\n",
       "      <td>253875.639453</td>\n",
       "      <td>покупка жилья</td>\n",
       "    </tr>\n",
       "    <tr>\n",
       "      <th>1</th>\n",
       "      <td>1</td>\n",
       "      <td>-4024.803754</td>\n",
       "      <td>36</td>\n",
       "      <td>среднее</td>\n",
       "      <td>1</td>\n",
       "      <td>женат / замужем</td>\n",
       "      <td>0</td>\n",
       "      <td>F</td>\n",
       "      <td>сотрудник</td>\n",
       "      <td>0</td>\n",
       "      <td>112080.014102</td>\n",
       "      <td>приобретение автомобиля</td>\n",
       "    </tr>\n",
       "    <tr>\n",
       "      <th>2</th>\n",
       "      <td>0</td>\n",
       "      <td>-5623.422610</td>\n",
       "      <td>33</td>\n",
       "      <td>Среднее</td>\n",
       "      <td>1</td>\n",
       "      <td>женат / замужем</td>\n",
       "      <td>0</td>\n",
       "      <td>M</td>\n",
       "      <td>сотрудник</td>\n",
       "      <td>0</td>\n",
       "      <td>145885.952297</td>\n",
       "      <td>покупка жилья</td>\n",
       "    </tr>\n",
       "    <tr>\n",
       "      <th>3</th>\n",
       "      <td>3</td>\n",
       "      <td>-4124.747207</td>\n",
       "      <td>32</td>\n",
       "      <td>среднее</td>\n",
       "      <td>1</td>\n",
       "      <td>женат / замужем</td>\n",
       "      <td>0</td>\n",
       "      <td>M</td>\n",
       "      <td>сотрудник</td>\n",
       "      <td>0</td>\n",
       "      <td>267628.550329</td>\n",
       "      <td>дополнительное образование</td>\n",
       "    </tr>\n",
       "    <tr>\n",
       "      <th>4</th>\n",
       "      <td>0</td>\n",
       "      <td>340266.072047</td>\n",
       "      <td>53</td>\n",
       "      <td>среднее</td>\n",
       "      <td>1</td>\n",
       "      <td>гражданский брак</td>\n",
       "      <td>1</td>\n",
       "      <td>F</td>\n",
       "      <td>пенсионер</td>\n",
       "      <td>0</td>\n",
       "      <td>158616.077870</td>\n",
       "      <td>сыграть свадьбу</td>\n",
       "    </tr>\n",
       "    <tr>\n",
       "      <th>5</th>\n",
       "      <td>0</td>\n",
       "      <td>-926.185831</td>\n",
       "      <td>27</td>\n",
       "      <td>высшее</td>\n",
       "      <td>0</td>\n",
       "      <td>гражданский брак</td>\n",
       "      <td>1</td>\n",
       "      <td>M</td>\n",
       "      <td>компаньон</td>\n",
       "      <td>0</td>\n",
       "      <td>255763.565419</td>\n",
       "      <td>покупка жилья</td>\n",
       "    </tr>\n",
       "    <tr>\n",
       "      <th>6</th>\n",
       "      <td>0</td>\n",
       "      <td>-2879.202052</td>\n",
       "      <td>43</td>\n",
       "      <td>высшее</td>\n",
       "      <td>0</td>\n",
       "      <td>женат / замужем</td>\n",
       "      <td>0</td>\n",
       "      <td>F</td>\n",
       "      <td>компаньон</td>\n",
       "      <td>0</td>\n",
       "      <td>240525.971920</td>\n",
       "      <td>операции с жильем</td>\n",
       "    </tr>\n",
       "    <tr>\n",
       "      <th>7</th>\n",
       "      <td>0</td>\n",
       "      <td>-152.779569</td>\n",
       "      <td>50</td>\n",
       "      <td>СРЕДНЕЕ</td>\n",
       "      <td>1</td>\n",
       "      <td>женат / замужем</td>\n",
       "      <td>0</td>\n",
       "      <td>M</td>\n",
       "      <td>сотрудник</td>\n",
       "      <td>0</td>\n",
       "      <td>135823.934197</td>\n",
       "      <td>образование</td>\n",
       "    </tr>\n",
       "    <tr>\n",
       "      <th>8</th>\n",
       "      <td>2</td>\n",
       "      <td>-6929.865299</td>\n",
       "      <td>35</td>\n",
       "      <td>ВЫСШЕЕ</td>\n",
       "      <td>0</td>\n",
       "      <td>гражданский брак</td>\n",
       "      <td>1</td>\n",
       "      <td>F</td>\n",
       "      <td>сотрудник</td>\n",
       "      <td>0</td>\n",
       "      <td>95856.832424</td>\n",
       "      <td>на проведение свадьбы</td>\n",
       "    </tr>\n",
       "    <tr>\n",
       "      <th>9</th>\n",
       "      <td>0</td>\n",
       "      <td>-2188.756445</td>\n",
       "      <td>41</td>\n",
       "      <td>среднее</td>\n",
       "      <td>1</td>\n",
       "      <td>женат / замужем</td>\n",
       "      <td>0</td>\n",
       "      <td>M</td>\n",
       "      <td>сотрудник</td>\n",
       "      <td>0</td>\n",
       "      <td>144425.938277</td>\n",
       "      <td>покупка жилья для семьи</td>\n",
       "    </tr>\n",
       "    <tr>\n",
       "      <th>10</th>\n",
       "      <td>2</td>\n",
       "      <td>-4171.483647</td>\n",
       "      <td>36</td>\n",
       "      <td>высшее</td>\n",
       "      <td>0</td>\n",
       "      <td>женат / замужем</td>\n",
       "      <td>0</td>\n",
       "      <td>M</td>\n",
       "      <td>компаньон</td>\n",
       "      <td>0</td>\n",
       "      <td>113943.491460</td>\n",
       "      <td>покупка недвижимости</td>\n",
       "    </tr>\n",
       "    <tr>\n",
       "      <th>11</th>\n",
       "      <td>0</td>\n",
       "      <td>-792.701887</td>\n",
       "      <td>40</td>\n",
       "      <td>среднее</td>\n",
       "      <td>1</td>\n",
       "      <td>женат / замужем</td>\n",
       "      <td>0</td>\n",
       "      <td>F</td>\n",
       "      <td>сотрудник</td>\n",
       "      <td>0</td>\n",
       "      <td>77069.234271</td>\n",
       "      <td>покупка коммерческой недвижимости</td>\n",
       "    </tr>\n",
       "    <tr>\n",
       "      <th>12</th>\n",
       "      <td>0</td>\n",
       "      <td>NaN</td>\n",
       "      <td>65</td>\n",
       "      <td>среднее</td>\n",
       "      <td>1</td>\n",
       "      <td>гражданский брак</td>\n",
       "      <td>1</td>\n",
       "      <td>M</td>\n",
       "      <td>пенсионер</td>\n",
       "      <td>0</td>\n",
       "      <td>NaN</td>\n",
       "      <td>сыграть свадьбу</td>\n",
       "    </tr>\n",
       "    <tr>\n",
       "      <th>13</th>\n",
       "      <td>0</td>\n",
       "      <td>-1846.641941</td>\n",
       "      <td>54</td>\n",
       "      <td>неоконченное высшее</td>\n",
       "      <td>2</td>\n",
       "      <td>женат / замужем</td>\n",
       "      <td>0</td>\n",
       "      <td>F</td>\n",
       "      <td>сотрудник</td>\n",
       "      <td>0</td>\n",
       "      <td>130458.228857</td>\n",
       "      <td>приобретение автомобиля</td>\n",
       "    </tr>\n",
       "    <tr>\n",
       "      <th>14</th>\n",
       "      <td>0</td>\n",
       "      <td>-1844.956182</td>\n",
       "      <td>56</td>\n",
       "      <td>высшее</td>\n",
       "      <td>0</td>\n",
       "      <td>гражданский брак</td>\n",
       "      <td>1</td>\n",
       "      <td>F</td>\n",
       "      <td>компаньон</td>\n",
       "      <td>1</td>\n",
       "      <td>165127.911772</td>\n",
       "      <td>покупка жилой недвижимости</td>\n",
       "    </tr>\n",
       "    <tr>\n",
       "      <th>15</th>\n",
       "      <td>1</td>\n",
       "      <td>-972.364419</td>\n",
       "      <td>26</td>\n",
       "      <td>среднее</td>\n",
       "      <td>1</td>\n",
       "      <td>женат / замужем</td>\n",
       "      <td>0</td>\n",
       "      <td>F</td>\n",
       "      <td>сотрудник</td>\n",
       "      <td>0</td>\n",
       "      <td>116820.904450</td>\n",
       "      <td>строительство собственной недвижимости</td>\n",
       "    </tr>\n",
       "    <tr>\n",
       "      <th>16</th>\n",
       "      <td>0</td>\n",
       "      <td>-1719.934226</td>\n",
       "      <td>35</td>\n",
       "      <td>среднее</td>\n",
       "      <td>1</td>\n",
       "      <td>женат / замужем</td>\n",
       "      <td>0</td>\n",
       "      <td>F</td>\n",
       "      <td>сотрудник</td>\n",
       "      <td>0</td>\n",
       "      <td>289202.704229</td>\n",
       "      <td>недвижимость</td>\n",
       "    </tr>\n",
       "    <tr>\n",
       "      <th>17</th>\n",
       "      <td>0</td>\n",
       "      <td>-2369.999720</td>\n",
       "      <td>33</td>\n",
       "      <td>высшее</td>\n",
       "      <td>0</td>\n",
       "      <td>гражданский брак</td>\n",
       "      <td>1</td>\n",
       "      <td>M</td>\n",
       "      <td>сотрудник</td>\n",
       "      <td>0</td>\n",
       "      <td>90410.586745</td>\n",
       "      <td>строительство недвижимости</td>\n",
       "    </tr>\n",
       "    <tr>\n",
       "      <th>18</th>\n",
       "      <td>0</td>\n",
       "      <td>400281.136913</td>\n",
       "      <td>53</td>\n",
       "      <td>среднее</td>\n",
       "      <td>1</td>\n",
       "      <td>вдовец / вдова</td>\n",
       "      <td>2</td>\n",
       "      <td>F</td>\n",
       "      <td>пенсионер</td>\n",
       "      <td>0</td>\n",
       "      <td>56823.777243</td>\n",
       "      <td>на покупку подержанного автомобиля</td>\n",
       "    </tr>\n",
       "    <tr>\n",
       "      <th>19</th>\n",
       "      <td>0</td>\n",
       "      <td>-10038.818549</td>\n",
       "      <td>48</td>\n",
       "      <td>СРЕДНЕЕ</td>\n",
       "      <td>1</td>\n",
       "      <td>в разводе</td>\n",
       "      <td>3</td>\n",
       "      <td>F</td>\n",
       "      <td>сотрудник</td>\n",
       "      <td>0</td>\n",
       "      <td>242831.107982</td>\n",
       "      <td>на покупку своего автомобиля</td>\n",
       "    </tr>\n",
       "  </tbody>\n",
       "</table>\n",
       "</div>"
      ],
      "text/plain": [
       "    children  days_employed  dob_years            education  education_id  \\\n",
       "0          1   -8437.673028         42               высшее             0   \n",
       "1          1   -4024.803754         36              среднее             1   \n",
       "2          0   -5623.422610         33              Среднее             1   \n",
       "3          3   -4124.747207         32              среднее             1   \n",
       "4          0  340266.072047         53              среднее             1   \n",
       "5          0    -926.185831         27               высшее             0   \n",
       "6          0   -2879.202052         43               высшее             0   \n",
       "7          0    -152.779569         50              СРЕДНЕЕ             1   \n",
       "8          2   -6929.865299         35               ВЫСШЕЕ             0   \n",
       "9          0   -2188.756445         41              среднее             1   \n",
       "10         2   -4171.483647         36               высшее             0   \n",
       "11         0    -792.701887         40              среднее             1   \n",
       "12         0            NaN         65              среднее             1   \n",
       "13         0   -1846.641941         54  неоконченное высшее             2   \n",
       "14         0   -1844.956182         56               высшее             0   \n",
       "15         1    -972.364419         26              среднее             1   \n",
       "16         0   -1719.934226         35              среднее             1   \n",
       "17         0   -2369.999720         33               высшее             0   \n",
       "18         0  400281.136913         53              среднее             1   \n",
       "19         0  -10038.818549         48              СРЕДНЕЕ             1   \n",
       "\n",
       "       family_status  family_status_id gender income_type  debt  \\\n",
       "0    женат / замужем                 0      F   сотрудник     0   \n",
       "1    женат / замужем                 0      F   сотрудник     0   \n",
       "2    женат / замужем                 0      M   сотрудник     0   \n",
       "3    женат / замужем                 0      M   сотрудник     0   \n",
       "4   гражданский брак                 1      F   пенсионер     0   \n",
       "5   гражданский брак                 1      M   компаньон     0   \n",
       "6    женат / замужем                 0      F   компаньон     0   \n",
       "7    женат / замужем                 0      M   сотрудник     0   \n",
       "8   гражданский брак                 1      F   сотрудник     0   \n",
       "9    женат / замужем                 0      M   сотрудник     0   \n",
       "10   женат / замужем                 0      M   компаньон     0   \n",
       "11   женат / замужем                 0      F   сотрудник     0   \n",
       "12  гражданский брак                 1      M   пенсионер     0   \n",
       "13   женат / замужем                 0      F   сотрудник     0   \n",
       "14  гражданский брак                 1      F   компаньон     1   \n",
       "15   женат / замужем                 0      F   сотрудник     0   \n",
       "16   женат / замужем                 0      F   сотрудник     0   \n",
       "17  гражданский брак                 1      M   сотрудник     0   \n",
       "18    вдовец / вдова                 2      F   пенсионер     0   \n",
       "19         в разводе                 3      F   сотрудник     0   \n",
       "\n",
       "     total_income                                 purpose  \n",
       "0   253875.639453                           покупка жилья  \n",
       "1   112080.014102                 приобретение автомобиля  \n",
       "2   145885.952297                           покупка жилья  \n",
       "3   267628.550329              дополнительное образование  \n",
       "4   158616.077870                         сыграть свадьбу  \n",
       "5   255763.565419                           покупка жилья  \n",
       "6   240525.971920                       операции с жильем  \n",
       "7   135823.934197                             образование  \n",
       "8    95856.832424                   на проведение свадьбы  \n",
       "9   144425.938277                 покупка жилья для семьи  \n",
       "10  113943.491460                    покупка недвижимости  \n",
       "11   77069.234271       покупка коммерческой недвижимости  \n",
       "12            NaN                         сыграть свадьбу  \n",
       "13  130458.228857                 приобретение автомобиля  \n",
       "14  165127.911772              покупка жилой недвижимости  \n",
       "15  116820.904450  строительство собственной недвижимости  \n",
       "16  289202.704229                            недвижимость  \n",
       "17   90410.586745              строительство недвижимости  \n",
       "18   56823.777243      на покупку подержанного автомобиля  \n",
       "19  242831.107982            на покупку своего автомобиля  "
      ]
     },
     "execution_count": 35,
     "metadata": {},
     "output_type": "execute_result"
    }
   ],
   "source": [
    "data.head(20)"
   ]
  },
  {
   "cell_type": "markdown",
   "id": "22433638",
   "metadata": {
    "deletable": false,
    "editable": false,
    "id": "1c12e233"
   },
   "source": [
    "**Задание 3. Выведите основную информацию о датафрейме с помощью метода `info()`.**"
   ]
  },
  {
   "cell_type": "code",
   "execution_count": 36,
   "id": "14a3fd79",
   "metadata": {
    "deletable": false,
    "id": "2b757bca",
    "outputId": "15376089-8dad-46c9-b520-c05248d43158"
   },
   "outputs": [
    {
     "name": "stdout",
     "output_type": "stream",
     "text": [
      "<class 'pandas.core.frame.DataFrame'>\n",
      "RangeIndex: 21525 entries, 0 to 21524\n",
      "Data columns (total 12 columns):\n",
      " #   Column            Non-Null Count  Dtype  \n",
      "---  ------            --------------  -----  \n",
      " 0   children          21525 non-null  int64  \n",
      " 1   days_employed     19351 non-null  float64\n",
      " 2   dob_years         21525 non-null  int64  \n",
      " 3   education         21525 non-null  object \n",
      " 4   education_id      21525 non-null  int64  \n",
      " 5   family_status     21525 non-null  object \n",
      " 6   family_status_id  21525 non-null  int64  \n",
      " 7   gender            21525 non-null  object \n",
      " 8   income_type       21525 non-null  object \n",
      " 9   debt              21525 non-null  int64  \n",
      " 10  total_income      19351 non-null  float64\n",
      " 11  purpose           21525 non-null  object \n",
      "dtypes: float64(2), int64(5), object(5)\n",
      "memory usage: 2.0+ MB\n"
     ]
    }
   ],
   "source": [
    "data.info()"
   ]
  },
  {
   "cell_type": "markdown",
   "id": "47f2a8b5",
   "metadata": {
    "deletable": false,
    "editable": false,
    "id": "333ec665"
   },
   "source": [
    "## Предобработка данных"
   ]
  },
  {
   "cell_type": "markdown",
   "id": "f2fe603c",
   "metadata": {
    "deletable": false,
    "editable": false,
    "id": "02d92d53"
   },
   "source": [
    "### Удаление пропусков"
   ]
  },
  {
   "cell_type": "markdown",
   "id": "cbb45d75",
   "metadata": {
    "deletable": false,
    "editable": false,
    "id": "cd84967c"
   },
   "source": [
    "**Задание 4. Выведите количество пропущенных значений для каждого столбца. Используйте комбинацию двух методов.**"
   ]
  },
  {
   "cell_type": "code",
   "execution_count": 37,
   "id": "44323ea2",
   "metadata": {
    "deletable": false,
    "id": "7f9b2309",
    "outputId": "81f4d817-781c-465c-ed15-91ce4446810d"
   },
   "outputs": [
    {
     "data": {
      "text/plain": [
       "children               0\n",
       "days_employed       2174\n",
       "dob_years              0\n",
       "education              0\n",
       "education_id           0\n",
       "family_status          0\n",
       "family_status_id       0\n",
       "gender                 0\n",
       "income_type            0\n",
       "debt                   0\n",
       "total_income        2174\n",
       "purpose                0\n",
       "dtype: int64"
      ]
     },
     "execution_count": 37,
     "metadata": {},
     "output_type": "execute_result"
    }
   ],
   "source": [
    "data.isna().sum()"
   ]
  },
  {
   "cell_type": "markdown",
   "id": "560d4435",
   "metadata": {
    "deletable": false,
    "editable": false,
    "id": "db86e27b"
   },
   "source": [
    "**Задание 5. В двух столбцах есть пропущенные значения. Один из них — `days_employed`. Пропуски в этом столбце вы обработаете на следующем этапе. Другой столбец с пропущенными значениями — `total_income` — хранит данные о доходах. На сумму дохода сильнее всего влияет тип занятости, поэтому заполнить пропуски в этом столбце нужно медианным значением по каждому типу из столбца `income_type`. Например, у человека с типом занятости `сотрудник` пропуск в столбце `total_income` должен быть заполнен медианным доходом среди всех записей с тем же типом.**"
   ]
  },
  {
   "cell_type": "code",
   "execution_count": 38,
   "id": "fbf86551",
   "metadata": {
    "deletable": false,
    "id": "42006a93"
   },
   "outputs": [],
   "source": [
    "for t in data['income_type'].unique():\n",
    "    data.loc[(data['income_type'] == t) & (data['total_income'].isna()), 'total_income'] = \\\n",
    "    data.loc[(data['income_type'] == t), 'total_income'].median()"
   ]
  },
  {
   "cell_type": "markdown",
   "id": "ab4e5b6b",
   "metadata": {
    "deletable": false,
    "editable": false,
    "id": "89da5ece"
   },
   "source": [
    "### Обработка аномальных значений"
   ]
  },
  {
   "cell_type": "markdown",
   "id": "ed258879",
   "metadata": {
    "deletable": false,
    "editable": false,
    "id": "57964554"
   },
   "source": [
    "**Задание 6. В данных могут встречаться артефакты (аномалии) — значения, которые не отражают действительность и появились по какой-то ошибке. таким артефактом будет отрицательное количество дней трудового стажа в столбце `days_employed`. Для реальных данных это нормально. Обработайте значения в этом столбце: замените все отрицательные значения положительными с помощью метода `abs()`.**"
   ]
  },
  {
   "cell_type": "code",
   "execution_count": 39,
   "id": "742a4e87",
   "metadata": {
    "deletable": false,
    "id": "f6f055bf"
   },
   "outputs": [],
   "source": [
    "data['days_employed'] = data['days_employed'].abs()"
   ]
  },
  {
   "cell_type": "markdown",
   "id": "1963a634",
   "metadata": {
    "deletable": false,
    "editable": false,
    "id": "6107dd2f"
   },
   "source": [
    "**Задание 7. Для каждого типа занятости выведите медианное значение трудового стажа `days_employed` в днях.**"
   ]
  },
  {
   "cell_type": "code",
   "execution_count": 40,
   "id": "f5ea97fd",
   "metadata": {
    "deletable": false,
    "id": "85a5faf6",
    "outputId": "801ef80e-522b-4668-f34e-565af7432bcf"
   },
   "outputs": [
    {
     "data": {
      "text/plain": [
       "income_type\n",
       "безработный        366413.652744\n",
       "в декрете            3296.759962\n",
       "госслужащий          2689.368353\n",
       "компаньон            1547.382223\n",
       "пенсионер          365213.306266\n",
       "предприниматель       520.848083\n",
       "сотрудник            1574.202821\n",
       "студент               578.751554\n",
       "Name: days_employed, dtype: float64"
      ]
     },
     "execution_count": 40,
     "metadata": {},
     "output_type": "execute_result"
    }
   ],
   "source": [
    "data.groupby('income_type')['days_employed'].median()"
   ]
  },
  {
   "cell_type": "markdown",
   "id": "8fbe5544",
   "metadata": {
    "deletable": false,
    "editable": false,
    "id": "38d1a030"
   },
   "source": [
    "У двух типов (безработные и пенсионеры) получатся аномально большие значения. Исправить такие значения сложно, поэтому оставьте их как есть. Тем более этот столбец не понадобится вам для исследования."
   ]
  },
  {
   "cell_type": "markdown",
   "id": "cff7ff05",
   "metadata": {
    "deletable": false,
    "editable": false,
    "id": "d8a9f147"
   },
   "source": [
    "**Задание 8. Выведите перечень уникальных значений столбца `children`.**"
   ]
  },
  {
   "cell_type": "code",
   "execution_count": 41,
   "id": "b09ff528",
   "metadata": {
    "deletable": false,
    "id": "ef5056eb",
    "outputId": "6975b15c-7f95-4697-d16d-a0c79b657b03"
   },
   "outputs": [
    {
     "data": {
      "text/plain": [
       "array([ 1,  0,  3,  2, -1,  4, 20,  5])"
      ]
     },
     "execution_count": 41,
     "metadata": {},
     "output_type": "execute_result"
    }
   ],
   "source": [
    "data['children'].unique()"
   ]
  },
  {
   "cell_type": "markdown",
   "id": "aacfcbe9",
   "metadata": {
    "deletable": false,
    "editable": false,
    "id": "40b9ebf2"
   },
   "source": [
    "**Задание 9. В столбце `children` есть два аномальных значения. Удалите строки, в которых встречаются такие аномальные значения из датафрейма `data`.**"
   ]
  },
  {
   "cell_type": "code",
   "execution_count": 42,
   "id": "c64af419",
   "metadata": {
    "deletable": false,
    "id": "3ff9801d"
   },
   "outputs": [],
   "source": [
    "data = data[(data['children'] != -1) & (data['children'] != 20)]"
   ]
  },
  {
   "cell_type": "markdown",
   "id": "1c8cf23c",
   "metadata": {
    "deletable": false,
    "editable": false,
    "id": "bbc4d0ce"
   },
   "source": [
    "**Задание 10. Ещё раз выведите перечень уникальных значений столбца `children`, чтобы убедиться, что артефакты удалены.**"
   ]
  },
  {
   "cell_type": "code",
   "execution_count": 43,
   "id": "de033871",
   "metadata": {
    "deletable": false,
    "id": "ad4fa8b7",
    "outputId": "b2097101-d49d-44d9-901b-32a65c9463d1"
   },
   "outputs": [
    {
     "data": {
      "text/plain": [
       "array([1, 0, 3, 2, 4, 5])"
      ]
     },
     "execution_count": 43,
     "metadata": {},
     "output_type": "execute_result"
    }
   ],
   "source": [
    "data['children'].unique()"
   ]
  },
  {
   "cell_type": "markdown",
   "id": "a5f4924b",
   "metadata": {
    "deletable": false,
    "editable": false,
    "id": "75440b63"
   },
   "source": [
    "### Удаление пропусков (продолжение)"
   ]
  },
  {
   "cell_type": "markdown",
   "id": "1b729319",
   "metadata": {
    "deletable": false,
    "editable": false,
    "id": "f4ea573f"
   },
   "source": [
    "**Задание 11. Заполните пропуски в столбце `days_employed` медианными значениями по каждого типа занятости `income_type`.**"
   ]
  },
  {
   "cell_type": "code",
   "execution_count": 44,
   "id": "132974bf",
   "metadata": {
    "deletable": false,
    "id": "af6b1a7e"
   },
   "outputs": [],
   "source": [
    "for t in data['income_type'].unique():\n",
    "    data.loc[(data['income_type'] == t) & (data['days_employed'].isna()), 'days_employed'] = \\\n",
    "    data.loc[(data['income_type'] == t), 'days_employed'].median()"
   ]
  },
  {
   "cell_type": "markdown",
   "id": "db5398ff",
   "metadata": {
    "deletable": false,
    "editable": false,
    "id": "2753f40d"
   },
   "source": [
    "**Задание 12. Убедитесь, что все пропуски заполнены. Проверьте себя и ещё раз выведите количество пропущенных значений для каждого столбца с помощью двух методов.**"
   ]
  },
  {
   "cell_type": "code",
   "execution_count": 45,
   "id": "e703a451",
   "metadata": {
    "deletable": false,
    "id": "55f78bc2",
    "outputId": "8da1e4e1-358e-4e87-98c9-f261bce0a7b2"
   },
   "outputs": [
    {
     "data": {
      "text/plain": [
       "children            0\n",
       "days_employed       0\n",
       "dob_years           0\n",
       "education           0\n",
       "education_id        0\n",
       "family_status       0\n",
       "family_status_id    0\n",
       "gender              0\n",
       "income_type         0\n",
       "debt                0\n",
       "total_income        0\n",
       "purpose             0\n",
       "dtype: int64"
      ]
     },
     "execution_count": 45,
     "metadata": {},
     "output_type": "execute_result"
    }
   ],
   "source": [
    "data.isna().sum()"
   ]
  },
  {
   "cell_type": "markdown",
   "id": "9e849c4b",
   "metadata": {
    "deletable": false,
    "editable": false,
    "id": "ddc81e43"
   },
   "source": [
    "### Изменение типов данных"
   ]
  },
  {
   "cell_type": "markdown",
   "id": "74ea8cd9",
   "metadata": {
    "deletable": false,
    "editable": false,
    "id": "42d19d24"
   },
   "source": [
    "**Задание 13. Замените вещественный тип данных в столбце `total_income` на целочисленный с помощью метода `astype()`.**"
   ]
  },
  {
   "cell_type": "code",
   "execution_count": 46,
   "id": "94bd448e",
   "metadata": {
    "deletable": false,
    "id": "920b65ad"
   },
   "outputs": [],
   "source": [
    "data['total_income'] = data['total_income'].astype(int)"
   ]
  },
  {
   "cell_type": "markdown",
   "id": "87ba26db",
   "metadata": {
    "deletable": false,
    "editable": false,
    "id": "80c420ba"
   },
   "source": [
    "### Обработка дубликатов"
   ]
  },
  {
   "cell_type": "markdown",
   "id": "6d8ab59e",
   "metadata": {
    "deletable": false,
    "editable": false
   },
   "source": [
    "**Задание 14. Обработайте неявные дубликаты в столбце `education`. В этом столбце есть одни и те же значения, но записанные по-разному: с использованием заглавных и строчных букв. Приведите их к нижнему регистру. Проверьте остальные столбцы.**"
   ]
  },
  {
   "cell_type": "code",
   "execution_count": 47,
   "id": "e58da55a",
   "metadata": {
    "deletable": false
   },
   "outputs": [],
   "source": [
    "data['education'] = data['education'].str.lower()"
   ]
  },
  {
   "cell_type": "markdown",
   "id": "70d9d61b",
   "metadata": {
    "deletable": false,
    "editable": false,
    "id": "dc587695"
   },
   "source": [
    "**Задание 15. Выведите на экран количество строк-дубликатов в данных. Если такие строки присутствуют, удалите их.**"
   ]
  },
  {
   "cell_type": "code",
   "execution_count": 48,
   "id": "80a5566e",
   "metadata": {
    "deletable": false,
    "id": "3ee445e4",
    "outputId": "9684deba-1934-42d1-99e1-cda61740f822"
   },
   "outputs": [
    {
     "data": {
      "text/plain": [
       "71"
      ]
     },
     "execution_count": 48,
     "metadata": {},
     "output_type": "execute_result"
    }
   ],
   "source": [
    "data.duplicated().sum()"
   ]
  },
  {
   "cell_type": "code",
   "execution_count": 49,
   "id": "d176c591",
   "metadata": {
    "deletable": false,
    "id": "8575fe05"
   },
   "outputs": [],
   "source": [
    "data = data.drop_duplicates()"
   ]
  },
  {
   "cell_type": "markdown",
   "id": "bcadcd58",
   "metadata": {
    "deletable": false,
    "editable": false,
    "id": "9904cf55"
   },
   "source": [
    "### Категоризация данных"
   ]
  },
  {
   "cell_type": "markdown",
   "id": "dcef0efd",
   "metadata": {
    "deletable": false,
    "editable": false,
    "id": "72fcc8a2"
   },
   "source": [
    "**Задание 16. На основании диапазонов, указанных ниже, создайте в датафрейме `data` столбец `total_income_category` с категориями:**\n",
    "\n",
    "- 0–30000 — `'E'`;\n",
    "- 30001–50000 — `'D'`;\n",
    "- 50001–200000 — `'C'`;\n",
    "- 200001–1000000 — `'B'`;\n",
    "- 1000001 и выше — `'A'`.\n",
    "\n",
    "\n",
    "**Например, кредитополучателю с доходом 25000 нужно назначить категорию `'E'`, а клиенту, получающему 235000, — `'B'`. Используйте собственную функцию с именем `categorize_income()` и метод `apply()`.**"
   ]
  },
  {
   "cell_type": "code",
   "execution_count": 50,
   "id": "139be4e0",
   "metadata": {
    "deletable": false,
    "id": "e1771346"
   },
   "outputs": [],
   "source": [
    "def categorize_income(income):\n",
    "    try:\n",
    "        if 0 <= income <= 30000:\n",
    "            return 'E'\n",
    "        elif 30001 <= income <= 50000:\n",
    "            return 'D'\n",
    "        elif 50001 <= income <= 200000:\n",
    "            return 'C'\n",
    "        elif 200001 <= income <= 1000000:\n",
    "            return 'B'\n",
    "        elif income >= 1000001:\n",
    "            return 'A'\n",
    "    except:\n",
    "        pass"
   ]
  },
  {
   "cell_type": "code",
   "execution_count": 51,
   "id": "e4dd83b0",
   "metadata": {
    "deletable": false,
    "id": "d5f3586d"
   },
   "outputs": [],
   "source": [
    "data['total_income_category'] = data['total_income'].apply(categorize_income)"
   ]
  },
  {
   "cell_type": "markdown",
   "id": "c433afc7",
   "metadata": {
    "deletable": false,
    "editable": false,
    "id": "dde49b5c"
   },
   "source": [
    "**Задание 17. Выведите на экран перечень уникальных целей взятия кредита из столбца `purpose`.**"
   ]
  },
  {
   "cell_type": "code",
   "execution_count": 52,
   "id": "3effa243",
   "metadata": {
    "deletable": false,
    "id": "f67ce9b3",
    "outputId": "673c12d9-7d7e-4ae0-9812-c622c89dd244"
   },
   "outputs": [
    {
     "data": {
      "text/plain": [
       "array(['покупка жилья', 'приобретение автомобиля',\n",
       "       'дополнительное образование', 'сыграть свадьбу',\n",
       "       'операции с жильем', 'образование', 'на проведение свадьбы',\n",
       "       'покупка жилья для семьи', 'покупка недвижимости',\n",
       "       'покупка коммерческой недвижимости', 'покупка жилой недвижимости',\n",
       "       'строительство собственной недвижимости', 'недвижимость',\n",
       "       'строительство недвижимости', 'на покупку подержанного автомобиля',\n",
       "       'на покупку своего автомобиля',\n",
       "       'операции с коммерческой недвижимостью',\n",
       "       'строительство жилой недвижимости', 'жилье',\n",
       "       'операции со своей недвижимостью', 'автомобили',\n",
       "       'заняться образованием', 'сделка с подержанным автомобилем',\n",
       "       'получение образования', 'автомобиль', 'свадьба',\n",
       "       'получение дополнительного образования', 'покупка своего жилья',\n",
       "       'операции с недвижимостью', 'получение высшего образования',\n",
       "       'свой автомобиль', 'сделка с автомобилем',\n",
       "       'профильное образование', 'высшее образование',\n",
       "       'покупка жилья для сдачи', 'на покупку автомобиля', 'ремонт жилью',\n",
       "       'заняться высшим образованием'], dtype=object)"
      ]
     },
     "execution_count": 52,
     "metadata": {},
     "output_type": "execute_result"
    }
   ],
   "source": [
    "data['purpose'].unique()"
   ]
  },
  {
   "cell_type": "markdown",
   "id": "f7d4b7d6",
   "metadata": {
    "deletable": false,
    "editable": false,
    "id": "85d0aef0"
   },
   "source": [
    "**Задание 18. Создайте функцию, которая на основании данных из столбца `purpose` сформирует новый столбец `purpose_category`, в который войдут следующие категории:**\n",
    "\n",
    "- `'операции с автомобилем'`,\n",
    "- `'операции с недвижимостью'`,\n",
    "- `'проведение свадьбы'`,\n",
    "- `'получение образования'`.\n",
    "\n",
    "**Например, если в столбце `purpose` находится подстрока `'на покупку автомобиля'`, то в столбце `purpose_category` должна появиться строка `'операции с автомобилем'`.**\n",
    "\n",
    "**Используйте собственную функцию с именем `categorize_purpose()` и метод `apply()`. Изучите данные в столбце `purpose` и определите, какие подстроки помогут вам правильно определить категорию.**"
   ]
  },
  {
   "cell_type": "code",
   "execution_count": 53,
   "id": "43bf3a84",
   "metadata": {
    "deletable": false,
    "id": "e149fab4"
   },
   "outputs": [],
   "source": [
    "def categorize_purpose(row):\n",
    "    try:\n",
    "        if 'автом' in row:\n",
    "            return 'операции с автомобилем'\n",
    "        elif 'жил' in row or 'недвиж' in row:\n",
    "            return 'операции с недвижимостью'\n",
    "        elif 'свад' in row:\n",
    "            return 'проведение свадьбы'\n",
    "        elif 'образов' in row:\n",
    "            return 'получение образования'\n",
    "    except:\n",
    "        return 'нет категории'"
   ]
  },
  {
   "cell_type": "code",
   "execution_count": 54,
   "id": "ec03b10f",
   "metadata": {
    "deletable": false,
    "id": "bf36e69b"
   },
   "outputs": [],
   "source": [
    "data['purpose_category'] = data['purpose'].apply(categorize_purpose)"
   ]
  },
  {
   "cell_type": "markdown",
   "id": "f3014b7d",
   "metadata": {
    "deletable": false,
    "editable": false,
    "id": "09b242bf"
   },
   "source": [
    "### Шаг 3. Исследуйте данные и ответьте на вопросы"
   ]
  },
  {
   "cell_type": "markdown",
   "id": "9784e831",
   "metadata": {
    "deletable": false,
    "editable": false,
    "id": "c5d66278"
   },
   "source": [
    "#### 3.1 Есть ли зависимость между количеством детей и возвратом кредита в срок?"
   ]
  },
  {
   "cell_type": "code",
   "execution_count": 55,
   "id": "ccad5315",
   "metadata": {},
   "outputs": [
    {
     "data": {
      "text/html": [
       "<div>\n",
       "<style scoped>\n",
       "    .dataframe tbody tr th:only-of-type {\n",
       "        vertical-align: middle;\n",
       "    }\n",
       "\n",
       "    .dataframe tbody tr th {\n",
       "        vertical-align: top;\n",
       "    }\n",
       "\n",
       "    .dataframe thead th {\n",
       "        text-align: right;\n",
       "    }\n",
       "</style>\n",
       "<table border=\"1\" class=\"dataframe\">\n",
       "  <thead>\n",
       "    <tr style=\"text-align: right;\">\n",
       "      <th></th>\n",
       "      <th>children</th>\n",
       "      <th>days_employed</th>\n",
       "      <th>dob_years</th>\n",
       "      <th>education</th>\n",
       "      <th>education_id</th>\n",
       "      <th>family_status</th>\n",
       "      <th>family_status_id</th>\n",
       "      <th>gender</th>\n",
       "      <th>income_type</th>\n",
       "      <th>debt</th>\n",
       "      <th>total_income</th>\n",
       "      <th>purpose</th>\n",
       "      <th>total_income_category</th>\n",
       "      <th>purpose_category</th>\n",
       "    </tr>\n",
       "  </thead>\n",
       "  <tbody>\n",
       "    <tr>\n",
       "      <th>0</th>\n",
       "      <td>1</td>\n",
       "      <td>8437.673028</td>\n",
       "      <td>42</td>\n",
       "      <td>высшее</td>\n",
       "      <td>0</td>\n",
       "      <td>женат / замужем</td>\n",
       "      <td>0</td>\n",
       "      <td>F</td>\n",
       "      <td>сотрудник</td>\n",
       "      <td>0</td>\n",
       "      <td>253875</td>\n",
       "      <td>покупка жилья</td>\n",
       "      <td>B</td>\n",
       "      <td>операции с недвижимостью</td>\n",
       "    </tr>\n",
       "    <tr>\n",
       "      <th>1</th>\n",
       "      <td>1</td>\n",
       "      <td>4024.803754</td>\n",
       "      <td>36</td>\n",
       "      <td>среднее</td>\n",
       "      <td>1</td>\n",
       "      <td>женат / замужем</td>\n",
       "      <td>0</td>\n",
       "      <td>F</td>\n",
       "      <td>сотрудник</td>\n",
       "      <td>0</td>\n",
       "      <td>112080</td>\n",
       "      <td>приобретение автомобиля</td>\n",
       "      <td>C</td>\n",
       "      <td>операции с автомобилем</td>\n",
       "    </tr>\n",
       "    <tr>\n",
       "      <th>2</th>\n",
       "      <td>0</td>\n",
       "      <td>5623.422610</td>\n",
       "      <td>33</td>\n",
       "      <td>среднее</td>\n",
       "      <td>1</td>\n",
       "      <td>женат / замужем</td>\n",
       "      <td>0</td>\n",
       "      <td>M</td>\n",
       "      <td>сотрудник</td>\n",
       "      <td>0</td>\n",
       "      <td>145885</td>\n",
       "      <td>покупка жилья</td>\n",
       "      <td>C</td>\n",
       "      <td>операции с недвижимостью</td>\n",
       "    </tr>\n",
       "    <tr>\n",
       "      <th>3</th>\n",
       "      <td>3</td>\n",
       "      <td>4124.747207</td>\n",
       "      <td>32</td>\n",
       "      <td>среднее</td>\n",
       "      <td>1</td>\n",
       "      <td>женат / замужем</td>\n",
       "      <td>0</td>\n",
       "      <td>M</td>\n",
       "      <td>сотрудник</td>\n",
       "      <td>0</td>\n",
       "      <td>267628</td>\n",
       "      <td>дополнительное образование</td>\n",
       "      <td>B</td>\n",
       "      <td>получение образования</td>\n",
       "    </tr>\n",
       "    <tr>\n",
       "      <th>4</th>\n",
       "      <td>0</td>\n",
       "      <td>340266.072047</td>\n",
       "      <td>53</td>\n",
       "      <td>среднее</td>\n",
       "      <td>1</td>\n",
       "      <td>гражданский брак</td>\n",
       "      <td>1</td>\n",
       "      <td>F</td>\n",
       "      <td>пенсионер</td>\n",
       "      <td>0</td>\n",
       "      <td>158616</td>\n",
       "      <td>сыграть свадьбу</td>\n",
       "      <td>C</td>\n",
       "      <td>проведение свадьбы</td>\n",
       "    </tr>\n",
       "  </tbody>\n",
       "</table>\n",
       "</div>"
      ],
      "text/plain": [
       "   children  days_employed  dob_years education  education_id  \\\n",
       "0         1    8437.673028         42    высшее             0   \n",
       "1         1    4024.803754         36   среднее             1   \n",
       "2         0    5623.422610         33   среднее             1   \n",
       "3         3    4124.747207         32   среднее             1   \n",
       "4         0  340266.072047         53   среднее             1   \n",
       "\n",
       "      family_status  family_status_id gender income_type  debt  total_income  \\\n",
       "0   женат / замужем                 0      F   сотрудник     0        253875   \n",
       "1   женат / замужем                 0      F   сотрудник     0        112080   \n",
       "2   женат / замужем                 0      M   сотрудник     0        145885   \n",
       "3   женат / замужем                 0      M   сотрудник     0        267628   \n",
       "4  гражданский брак                 1      F   пенсионер     0        158616   \n",
       "\n",
       "                      purpose total_income_category          purpose_category  \n",
       "0               покупка жилья                     B  операции с недвижимостью  \n",
       "1     приобретение автомобиля                     C    операции с автомобилем  \n",
       "2               покупка жилья                     C  операции с недвижимостью  \n",
       "3  дополнительное образование                     B     получение образования  \n",
       "4             сыграть свадьбу                     C        проведение свадьбы  "
      ]
     },
     "execution_count": 55,
     "metadata": {},
     "output_type": "execute_result"
    }
   ],
   "source": [
    "data.head() "
   ]
  },
  {
   "cell_type": "code",
   "execution_count": 56,
   "id": "f62844e8",
   "metadata": {},
   "outputs": [
    {
     "data": {
      "text/plain": [
       "sum       1063.000000\n",
       "count    14091.000000\n",
       "mean         0.075438\n",
       "Name: debt, dtype: float64"
      ]
     },
     "execution_count": 56,
     "metadata": {},
     "output_type": "execute_result"
    }
   ],
   "source": [
    "data[data['children']==0]['debt'].agg(['sum', 'count', 'mean'])"
   ]
  },
  {
   "cell_type": "code",
   "execution_count": 57,
   "id": "5e89068b",
   "metadata": {},
   "outputs": [
    {
     "data": {
      "text/plain": [
       "sum       669.000000\n",
       "count    7240.000000\n",
       "mean        0.092403\n",
       "Name: debt, dtype: float64"
      ]
     },
     "execution_count": 57,
     "metadata": {},
     "output_type": "execute_result"
    }
   ],
   "source": [
    "data[data['children']>0]['debt'].agg(['sum', 'count', 'mean'])"
   ]
  },
  {
   "cell_type": "code",
   "execution_count": 58,
   "id": "9b43c8d0",
   "metadata": {
    "deletable": false,
    "id": "2cacfc4a",
    "scrolled": true
   },
   "outputs": [
    {
     "data": {
      "text/html": [
       "<div>\n",
       "<style scoped>\n",
       "    .dataframe tbody tr th:only-of-type {\n",
       "        vertical-align: middle;\n",
       "    }\n",
       "\n",
       "    .dataframe tbody tr th {\n",
       "        vertical-align: top;\n",
       "    }\n",
       "\n",
       "    .dataframe thead th {\n",
       "        text-align: right;\n",
       "    }\n",
       "</style>\n",
       "<table border=\"1\" class=\"dataframe\">\n",
       "  <thead>\n",
       "    <tr style=\"text-align: right;\">\n",
       "      <th></th>\n",
       "      <th>sum</th>\n",
       "      <th>count</th>\n",
       "      <th>mean</th>\n",
       "    </tr>\n",
       "    <tr>\n",
       "      <th>children</th>\n",
       "      <th></th>\n",
       "      <th></th>\n",
       "      <th></th>\n",
       "    </tr>\n",
       "  </thead>\n",
       "  <tbody>\n",
       "    <tr>\n",
       "      <th>0</th>\n",
       "      <td>1063</td>\n",
       "      <td>14091</td>\n",
       "      <td>0.075438</td>\n",
       "    </tr>\n",
       "    <tr>\n",
       "      <th>1</th>\n",
       "      <td>444</td>\n",
       "      <td>4808</td>\n",
       "      <td>0.092346</td>\n",
       "    </tr>\n",
       "    <tr>\n",
       "      <th>2</th>\n",
       "      <td>194</td>\n",
       "      <td>2052</td>\n",
       "      <td>0.094542</td>\n",
       "    </tr>\n",
       "    <tr>\n",
       "      <th>3</th>\n",
       "      <td>27</td>\n",
       "      <td>330</td>\n",
       "      <td>0.081818</td>\n",
       "    </tr>\n",
       "    <tr>\n",
       "      <th>4</th>\n",
       "      <td>4</td>\n",
       "      <td>41</td>\n",
       "      <td>0.097561</td>\n",
       "    </tr>\n",
       "    <tr>\n",
       "      <th>5</th>\n",
       "      <td>0</td>\n",
       "      <td>9</td>\n",
       "      <td>0.000000</td>\n",
       "    </tr>\n",
       "  </tbody>\n",
       "</table>\n",
       "</div>"
      ],
      "text/plain": [
       "           sum  count      mean\n",
       "children                       \n",
       "0         1063  14091  0.075438\n",
       "1          444   4808  0.092346\n",
       "2          194   2052  0.094542\n",
       "3           27    330  0.081818\n",
       "4            4     41  0.097561\n",
       "5            0      9  0.000000"
      ]
     },
     "execution_count": 58,
     "metadata": {},
     "output_type": "execute_result"
    }
   ],
   "source": [
    "data.groupby('children')['debt'].agg(['sum', 'count', 'mean'])"
   ]
  },
  {
   "cell_type": "markdown",
   "id": "e5daf56e",
   "metadata": {
    "deletable": false,
    "id": "3a6b99ec"
   },
   "source": [
    "**Вывод:**  \n",
    "Заемщики без детей чаще рассчитываются с долгами."
   ]
  },
  {
   "cell_type": "markdown",
   "id": "fb6b1247",
   "metadata": {
    "editable": false,
    "id": "97be82ca"
   },
   "source": [
    "#### 3.2 Есть ли зависимость между семейным положением и возвратом кредита в срок?"
   ]
  },
  {
   "cell_type": "code",
   "execution_count": 59,
   "id": "cef63768",
   "metadata": {
    "deletable": false,
    "id": "dc3f7ee8"
   },
   "outputs": [
    {
     "name": "stdout",
     "output_type": "stream",
     "text": [
      "family_status\n",
      "Не женат / не замужем    273\n",
      "в разводе                 84\n",
      "вдовец / вдова            63\n",
      "гражданский брак         385\n",
      "женат / замужем          927\n",
      "Name: debt, dtype: int64 \n",
      " family_status\n",
      "Не женат / не замужем     2796\n",
      "в разводе                 1189\n",
      "вдовец / вдова             951\n",
      "гражданский брак          4134\n",
      "женат / замужем          12261\n",
      "Name: debt, dtype: int64 \n",
      " family_status\n",
      "Не женат / не замужем    0.097639\n",
      "в разводе                0.070648\n",
      "вдовец / вдова           0.066246\n",
      "гражданский брак         0.093130\n",
      "женат / замужем          0.075606\n",
      "Name: debt, dtype: float64\n"
     ]
    }
   ],
   "source": [
    "#рассчитываем рейтинг каждой категории и их отношение между собой \n",
    "summer = data.groupby('family_status')['debt'].sum()\n",
    "counter = data.groupby('family_status')['debt'].count()\n",
    "raiting = summer/counter\n",
    "#raiting_differece = 100 - raiting[0]/raiting[1]*100\n",
    "print(summer, '\\n', counter, '\\n', raiting)\n"
   ]
  },
  {
   "cell_type": "markdown",
   "id": "452c5c7e",
   "metadata": {
    "deletable": false,
    "id": "1cef7837"
   },
   "source": [
    "**Вывод:** \n",
    "Хуже всех справляются с долгами кредиторы, находящиеся в гражданском браке и не женатые."
   ]
  },
  {
   "cell_type": "markdown",
   "id": "6fdb9818",
   "metadata": {
    "deletable": false,
    "editable": false,
    "id": "1e8b2fca"
   },
   "source": [
    "#### 3.3 Есть ли зависимость между уровнем дохода и возвратом кредита в срок?"
   ]
  },
  {
   "cell_type": "code",
   "execution_count": 60,
   "id": "dcd54269",
   "metadata": {
    "deletable": false,
    "id": "cd7e3720"
   },
   "outputs": [
    {
     "name": "stdout",
     "output_type": "stream",
     "text": [
      "total_income_category\n",
      "A       2\n",
      "B     354\n",
      "C    1353\n",
      "D      21\n",
      "E       2\n",
      "Name: debt, dtype: int64 \n",
      " total_income_category\n",
      "A       25\n",
      "B     5014\n",
      "C    15921\n",
      "D      349\n",
      "E       22\n",
      "Name: debt, dtype: int64 \n",
      " total_income_category\n",
      "A    0.080000\n",
      "B    0.070602\n",
      "C    0.084982\n",
      "D    0.060172\n",
      "E    0.090909\n",
      "Name: debt, dtype: float64\n"
     ]
    },
    {
     "data": {
      "text/html": [
       "<div>\n",
       "<style scoped>\n",
       "    .dataframe tbody tr th:only-of-type {\n",
       "        vertical-align: middle;\n",
       "    }\n",
       "\n",
       "    .dataframe tbody tr th {\n",
       "        vertical-align: top;\n",
       "    }\n",
       "\n",
       "    .dataframe thead th {\n",
       "        text-align: right;\n",
       "    }\n",
       "</style>\n",
       "<table border=\"1\" class=\"dataframe\">\n",
       "  <thead>\n",
       "    <tr style=\"text-align: right;\">\n",
       "      <th></th>\n",
       "      <th>sum</th>\n",
       "      <th>count</th>\n",
       "      <th>mean</th>\n",
       "    </tr>\n",
       "    <tr>\n",
       "      <th>total_income_category</th>\n",
       "      <th></th>\n",
       "      <th></th>\n",
       "      <th></th>\n",
       "    </tr>\n",
       "  </thead>\n",
       "  <tbody>\n",
       "    <tr>\n",
       "      <th>A</th>\n",
       "      <td>2</td>\n",
       "      <td>25</td>\n",
       "      <td>0.080000</td>\n",
       "    </tr>\n",
       "    <tr>\n",
       "      <th>B</th>\n",
       "      <td>354</td>\n",
       "      <td>5014</td>\n",
       "      <td>0.070602</td>\n",
       "    </tr>\n",
       "    <tr>\n",
       "      <th>C</th>\n",
       "      <td>1353</td>\n",
       "      <td>15921</td>\n",
       "      <td>0.084982</td>\n",
       "    </tr>\n",
       "    <tr>\n",
       "      <th>D</th>\n",
       "      <td>21</td>\n",
       "      <td>349</td>\n",
       "      <td>0.060172</td>\n",
       "    </tr>\n",
       "    <tr>\n",
       "      <th>E</th>\n",
       "      <td>2</td>\n",
       "      <td>22</td>\n",
       "      <td>0.090909</td>\n",
       "    </tr>\n",
       "  </tbody>\n",
       "</table>\n",
       "</div>"
      ],
      "text/plain": [
       "                        sum  count      mean\n",
       "total_income_category                       \n",
       "A                         2     25  0.080000\n",
       "B                       354   5014  0.070602\n",
       "C                      1353  15921  0.084982\n",
       "D                        21    349  0.060172\n",
       "E                         2     22  0.090909"
      ]
     },
     "execution_count": 60,
     "metadata": {},
     "output_type": "execute_result"
    }
   ],
   "source": [
    "summer = data.groupby('total_income_category')['debt'].sum()\n",
    "counter = data.groupby('total_income_category')['debt'].count()\n",
    "raiting = summer/counter\n",
    "print(summer, '\\n', counter, '\\n', raiting)\n",
    "data.groupby('total_income_category')['debt'].agg(['sum', 'count', 'mean'])"
   ]
  },
  {
   "cell_type": "markdown",
   "id": "5ecabda6",
   "metadata": {
    "deletable": false,
    "id": "e8593def"
   },
   "source": [
    "**Вывод:** \n",
    "Видим, что с долгами лучше всех справляются представители категорий **B (30001-50000) и D (200001-1000000)**."
   ]
  },
  {
   "cell_type": "markdown",
   "id": "76a8d4c2",
   "metadata": {
    "deletable": false,
    "editable": false,
    "id": "99ecbd1f"
   },
   "source": [
    "#### 3.4 Как разные цели кредита влияют на его возврат в срок?"
   ]
  },
  {
   "cell_type": "code",
   "execution_count": 61,
   "id": "49d41681",
   "metadata": {
    "deletable": false,
    "id": "2b687290"
   },
   "outputs": [
    {
     "name": "stdout",
     "output_type": "stream",
     "text": [
      "purpose_category\n",
      "операции с автомобилем      400\n",
      "операции с недвижимостью    780\n",
      "получение образования       369\n",
      "проведение свадьбы          183\n",
      "Name: debt, dtype: int64 \n",
      " purpose_category\n",
      "операции с автомобилем       4279\n",
      "операции с недвижимостью    10751\n",
      "получение образования        3988\n",
      "проведение свадьбы           2313\n",
      "Name: debt, dtype: int64 \n",
      " purpose_category\n",
      "операции с автомобилем      0.093480\n",
      "операции с недвижимостью    0.072551\n",
      "получение образования       0.092528\n",
      "проведение свадьбы          0.079118\n",
      "Name: debt, dtype: float64\n"
     ]
    },
    {
     "data": {
      "text/html": [
       "<div>\n",
       "<style scoped>\n",
       "    .dataframe tbody tr th:only-of-type {\n",
       "        vertical-align: middle;\n",
       "    }\n",
       "\n",
       "    .dataframe tbody tr th {\n",
       "        vertical-align: top;\n",
       "    }\n",
       "\n",
       "    .dataframe thead th {\n",
       "        text-align: right;\n",
       "    }\n",
       "</style>\n",
       "<table border=\"1\" class=\"dataframe\">\n",
       "  <thead>\n",
       "    <tr style=\"text-align: right;\">\n",
       "      <th></th>\n",
       "      <th>sum</th>\n",
       "      <th>count</th>\n",
       "      <th>mean</th>\n",
       "    </tr>\n",
       "    <tr>\n",
       "      <th>purpose_category</th>\n",
       "      <th></th>\n",
       "      <th></th>\n",
       "      <th></th>\n",
       "    </tr>\n",
       "  </thead>\n",
       "  <tbody>\n",
       "    <tr>\n",
       "      <th>операции с автомобилем</th>\n",
       "      <td>400</td>\n",
       "      <td>4279</td>\n",
       "      <td>0.093480</td>\n",
       "    </tr>\n",
       "    <tr>\n",
       "      <th>операции с недвижимостью</th>\n",
       "      <td>780</td>\n",
       "      <td>10751</td>\n",
       "      <td>0.072551</td>\n",
       "    </tr>\n",
       "    <tr>\n",
       "      <th>получение образования</th>\n",
       "      <td>369</td>\n",
       "      <td>3988</td>\n",
       "      <td>0.092528</td>\n",
       "    </tr>\n",
       "    <tr>\n",
       "      <th>проведение свадьбы</th>\n",
       "      <td>183</td>\n",
       "      <td>2313</td>\n",
       "      <td>0.079118</td>\n",
       "    </tr>\n",
       "  </tbody>\n",
       "</table>\n",
       "</div>"
      ],
      "text/plain": [
       "                          sum  count      mean\n",
       "purpose_category                              \n",
       "операции с автомобилем    400   4279  0.093480\n",
       "операции с недвижимостью  780  10751  0.072551\n",
       "получение образования     369   3988  0.092528\n",
       "проведение свадьбы        183   2313  0.079118"
      ]
     },
     "execution_count": 61,
     "metadata": {},
     "output_type": "execute_result"
    }
   ],
   "source": [
    "summer = data.groupby('purpose_category')['debt'].sum()\n",
    "counter = data.groupby('purpose_category')['debt'].count()\n",
    "raiting = summer/counter\n",
    "print(summer, '\\n', counter, '\\n', raiting)\n",
    "data.groupby('purpose_category')['debt'].agg(['sum', 'count', 'mean'])"
   ]
  },
  {
   "cell_type": "markdown",
   "id": "312822c2",
   "metadata": {
    "deletable": false,
    "id": "b4bb2ce6"
   },
   "source": [
    "**Вывод:** \n",
    "Аналогичное исследование показывает, что с большей вероятностью будет погашен долг, взятый на **опреации с недвижимостью или свадьбу**, нежели **на операции с автомобилем или образование**."
   ]
  },
  {
   "cell_type": "markdown",
   "id": "17629c79",
   "metadata": {
    "deletable": false,
    "editable": false,
    "id": "09c3ac4c"
   },
   "source": [
    "#### 3.5 Приведите возможные причины появления пропусков в исходных данных."
   ]
  },
  {
   "cell_type": "markdown",
   "id": "41836927",
   "metadata": {
    "deletable": false,
    "id": "9da2ceda"
   },
   "source": [
    "*Ответ:* \n",
    "В нашей таблице мы видим пропуски только в двух столбцах, причем всегда вместе - **\"стаж\" и \"доход\"**. Пропуски в этих столбцах составляют подозрительные почти **ровно 10% от данных**. Предположу, что в тестовом задании они были специально скрыты для отработки нами навыков работы с пропусками, так как в реальных условиях клиенты скорее всего не получили бы кредит, скрыв информацию о своих доходах.\n",
    "\n",
    "В реальных условиях такие **существенные** пропуски могли бы возникнуть по причине невнимательности сотрудника, вносившего данные, либо вследствие технической ошибки.\n"
   ]
  },
  {
   "cell_type": "code",
   "execution_count": 62,
   "id": "0ed907b8",
   "metadata": {},
   "outputs": [
    {
     "name": "stdout",
     "output_type": "stream",
     "text": [
      "<class 'pandas.core.frame.DataFrame'>\n",
      "RangeIndex: 21525 entries, 0 to 21524\n",
      "Data columns (total 12 columns):\n",
      " #   Column            Non-Null Count  Dtype  \n",
      "---  ------            --------------  -----  \n",
      " 0   children          21525 non-null  int64  \n",
      " 1   days_employed     19351 non-null  float64\n",
      " 2   dob_years         21525 non-null  int64  \n",
      " 3   education         21525 non-null  object \n",
      " 4   education_id      21525 non-null  int64  \n",
      " 5   family_status     21525 non-null  object \n",
      " 6   family_status_id  21525 non-null  int64  \n",
      " 7   gender            21525 non-null  object \n",
      " 8   income_type       21525 non-null  object \n",
      " 9   debt              21525 non-null  int64  \n",
      " 10  total_income      19351 non-null  float64\n",
      " 11  purpose           21525 non-null  object \n",
      "dtypes: float64(2), int64(5), object(5)\n",
      "memory usage: 2.0+ MB\n",
      "None\n"
     ]
    },
    {
     "data": {
      "text/html": [
       "<div>\n",
       "<style scoped>\n",
       "    .dataframe tbody tr th:only-of-type {\n",
       "        vertical-align: middle;\n",
       "    }\n",
       "\n",
       "    .dataframe tbody tr th {\n",
       "        vertical-align: top;\n",
       "    }\n",
       "\n",
       "    .dataframe thead th {\n",
       "        text-align: right;\n",
       "    }\n",
       "</style>\n",
       "<table border=\"1\" class=\"dataframe\">\n",
       "  <thead>\n",
       "    <tr style=\"text-align: right;\">\n",
       "      <th></th>\n",
       "      <th>children</th>\n",
       "      <th>days_employed</th>\n",
       "      <th>dob_years</th>\n",
       "      <th>education</th>\n",
       "      <th>education_id</th>\n",
       "      <th>family_status</th>\n",
       "      <th>family_status_id</th>\n",
       "      <th>gender</th>\n",
       "      <th>income_type</th>\n",
       "      <th>debt</th>\n",
       "      <th>total_income</th>\n",
       "      <th>purpose</th>\n",
       "    </tr>\n",
       "  </thead>\n",
       "  <tbody>\n",
       "    <tr>\n",
       "      <th>12</th>\n",
       "      <td>0</td>\n",
       "      <td>NaN</td>\n",
       "      <td>65</td>\n",
       "      <td>среднее</td>\n",
       "      <td>1</td>\n",
       "      <td>гражданский брак</td>\n",
       "      <td>1</td>\n",
       "      <td>M</td>\n",
       "      <td>пенсионер</td>\n",
       "      <td>0</td>\n",
       "      <td>NaN</td>\n",
       "      <td>сыграть свадьбу</td>\n",
       "    </tr>\n",
       "    <tr>\n",
       "      <th>26</th>\n",
       "      <td>0</td>\n",
       "      <td>NaN</td>\n",
       "      <td>41</td>\n",
       "      <td>среднее</td>\n",
       "      <td>1</td>\n",
       "      <td>женат / замужем</td>\n",
       "      <td>0</td>\n",
       "      <td>M</td>\n",
       "      <td>госслужащий</td>\n",
       "      <td>0</td>\n",
       "      <td>NaN</td>\n",
       "      <td>образование</td>\n",
       "    </tr>\n",
       "    <tr>\n",
       "      <th>29</th>\n",
       "      <td>0</td>\n",
       "      <td>NaN</td>\n",
       "      <td>63</td>\n",
       "      <td>среднее</td>\n",
       "      <td>1</td>\n",
       "      <td>Не женат / не замужем</td>\n",
       "      <td>4</td>\n",
       "      <td>F</td>\n",
       "      <td>пенсионер</td>\n",
       "      <td>0</td>\n",
       "      <td>NaN</td>\n",
       "      <td>строительство жилой недвижимости</td>\n",
       "    </tr>\n",
       "    <tr>\n",
       "      <th>41</th>\n",
       "      <td>0</td>\n",
       "      <td>NaN</td>\n",
       "      <td>50</td>\n",
       "      <td>среднее</td>\n",
       "      <td>1</td>\n",
       "      <td>женат / замужем</td>\n",
       "      <td>0</td>\n",
       "      <td>F</td>\n",
       "      <td>госслужащий</td>\n",
       "      <td>0</td>\n",
       "      <td>NaN</td>\n",
       "      <td>сделка с подержанным автомобилем</td>\n",
       "    </tr>\n",
       "    <tr>\n",
       "      <th>55</th>\n",
       "      <td>0</td>\n",
       "      <td>NaN</td>\n",
       "      <td>54</td>\n",
       "      <td>среднее</td>\n",
       "      <td>1</td>\n",
       "      <td>гражданский брак</td>\n",
       "      <td>1</td>\n",
       "      <td>F</td>\n",
       "      <td>пенсионер</td>\n",
       "      <td>1</td>\n",
       "      <td>NaN</td>\n",
       "      <td>сыграть свадьбу</td>\n",
       "    </tr>\n",
       "  </tbody>\n",
       "</table>\n",
       "</div>"
      ],
      "text/plain": [
       "    children  days_employed  dob_years education  education_id  \\\n",
       "12         0            NaN         65   среднее             1   \n",
       "26         0            NaN         41   среднее             1   \n",
       "29         0            NaN         63   среднее             1   \n",
       "41         0            NaN         50   среднее             1   \n",
       "55         0            NaN         54   среднее             1   \n",
       "\n",
       "            family_status  family_status_id gender  income_type  debt  \\\n",
       "12       гражданский брак                 1      M    пенсионер     0   \n",
       "26        женат / замужем                 0      M  госслужащий     0   \n",
       "29  Не женат / не замужем                 4      F    пенсионер     0   \n",
       "41        женат / замужем                 0      F  госслужащий     0   \n",
       "55       гражданский брак                 1      F    пенсионер     1   \n",
       "\n",
       "    total_income                           purpose  \n",
       "12           NaN                   сыграть свадьбу  \n",
       "26           NaN                       образование  \n",
       "29           NaN  строительство жилой недвижимости  \n",
       "41           NaN  сделка с подержанным автомобилем  \n",
       "55           NaN                   сыграть свадьбу  "
      ]
     },
     "execution_count": 62,
     "metadata": {},
     "output_type": "execute_result"
    }
   ],
   "source": [
    "df = pd.read_csv('/datasets/data.csv')\n",
    "print(df.info())\n",
    "df.loc[df['days_employed'].isna()].head()"
   ]
  },
  {
   "cell_type": "markdown",
   "id": "cdc6b7a4",
   "metadata": {
    "deletable": false,
    "editable": false,
    "id": "7b0487d6"
   },
   "source": [
    "#### 3.6 Объясните, почему заполнить пропуски медианным значением — лучшее решение для количественных переменных."
   ]
  },
  {
   "cell_type": "markdown",
   "id": "c2a34413",
   "metadata": {
    "deletable": false,
    "id": "7ecf2b8e"
   },
   "source": [
    "*Ответ:* \n",
    "В данных с большим разбросом предпочтительно медианное значение, так как сильно отклоняющиеся данные (аномалии) могут существенно повлиять на среднее арифметическое, в то время как не влияют на медиану."
   ]
  },
  {
   "cell_type": "markdown",
   "id": "5b167fc9",
   "metadata": {
    "deletable": false,
    "id": "bad65432"
   },
   "source": [
    "\n",
    "## Общий вывод\n",
    "\n",
    "В ходе исследования мы проверяли **4 гипотезы**:\n",
    "\n",
    "1. Влияет ли *количество детей* на вероятность возврата кредита?\n",
    "2. Влияет ли *семейное положение* на вероятность возврата кредита?\n",
    "3. Влияет ли *уровень дохода* на вероятность возврата кредита?\n",
    "4. Влияет ли *цель кредита* на вероятность его возврата?\n",
    "\n",
    "### Первая гипотеза (ДЕТИ)\n",
    "\n",
    "Анализ предоставленных данных показал, что действительно существует взаимосвязь между количеством детей клиента банка и кредитным риском (отношением невыплаченных долгов к взятым в его категории).  \n",
    "Так, клиенты с одним ребенком имеют риск 0,092, с двумя - 0,095, с 4 - 0,098. Средняя цифра для клиентов с детьми - 0,092.\n",
    "Клиенты же без детей имеют в среднем риск 0,075.  \n",
    "Таким образом можно сделать вывод о том, что **клиенты без детей имеют больше шансов на выплату кредита в срок.**\n",
    "\n",
    "### Вторая гипотеза (СЕМЕЙНОЕ ПОЛОЖЕНИЕ)\n",
    "\n",
    "Аналогичным образом посчитав риск в зависимости от семейного положения, мы получили следующие данные:\n",
    "\n",
    ">Не женат / не замужем    0.097639  \n",
    ">в разводе                0.070648  \n",
    ">вдовец / вдова           0.066246  \n",
    ">гражданский брак         0.093130  \n",
    ">женат / замужем          0.075606  \n",
    "\n",
    "Можно заметить, что **клиенты, находящиеся или бывшие когда-то в браке, более ответственно относятся к выплате долгов, чем неженатые**.\n",
    "\n",
    "### Третья гипотеза (ДОХОД)\n",
    "\n",
    "Проверим взаимосвязь между уровнем дохода клиента и вероятностью выплаты кредита в срок. Для этого разделим клиентов по уровню дохода на категории (название соответствует \"потолку\" дохода)  \n",
    "income=sum\t==count==mean  \n",
    ">*70  ---\t101\t---1474\t--0.068521  \n",
    ">100\t--- 253\t---2989--\t0.084644  \n",
    ">120\t---  197\t---2382\t--0.082704  \n",
    ">150\t --- 294\t---3322\t--0.088501  \n",
    ">180\t---  248\t---2762\t--0.089790  \n",
    ">210  ---\t163\t---1920\t--0.084896  \n",
    ">250\t --- 121\t---1690\t--0.071598  \n",
    ">max\t --- 194---\t2812--\t0.068990  \n",
    "\n",
    "Можно сказать, что существенно выделяются только две категории - с доходами до 70000 и более 210.   \n",
    "Поскольку не вижу очевидных причин для такого разделения, **не рекомендую пользоваться критерием дохода клиента**, по крайней мере безотносительно суммы запрошенного кредита.\n",
    "\n",
    "### Четвертая гипотеза (ЦЕЛЬ)\n",
    "\n",
    "Выяснить эту взаимосвязь было несложно. Перед вами таблица с данными о рисках в связи с целью кредита.\n",
    " \t\t\t\n",
    ">операции с автомобилем -\t0.093480  \n",
    ">операции с недвижимостью\t-\t0.072551  \n",
    ">получение образования\t-\t0.092528  \n",
    ">проведение свадьбы\t-\t0.079118  \n",
    "\n",
    "**Операции с недвижимостью** и **проведение свадьбы** оказались самыми безопасными для банка в данной выборке."
   ]
  }
 ],
 "metadata": {
  "ExecuteTimeLog": [
   {
    "duration": 50,
    "start_time": "2023-02-08T20:22:23.965Z"
   },
   {
    "duration": 480,
    "start_time": "2023-02-08T20:22:31.182Z"
   },
   {
    "duration": 23,
    "start_time": "2023-02-08T20:22:31.664Z"
   },
   {
    "duration": 13,
    "start_time": "2023-02-08T20:22:31.689Z"
   },
   {
    "duration": 8,
    "start_time": "2023-02-08T20:22:31.704Z"
   },
   {
    "duration": 32,
    "start_time": "2023-02-08T20:22:31.714Z"
   },
   {
    "duration": 3,
    "start_time": "2023-02-08T20:22:31.748Z"
   },
   {
    "duration": 11,
    "start_time": "2023-02-08T20:22:31.752Z"
   },
   {
    "duration": 4,
    "start_time": "2023-02-08T20:22:31.764Z"
   },
   {
    "duration": 25,
    "start_time": "2023-02-08T20:22:31.769Z"
   },
   {
    "duration": 13,
    "start_time": "2023-02-08T20:22:31.803Z"
   },
   {
    "duration": 35,
    "start_time": "2023-02-08T20:22:31.818Z"
   },
   {
    "duration": 9,
    "start_time": "2023-02-08T20:22:31.855Z"
   },
   {
    "duration": 4,
    "start_time": "2023-02-08T20:22:31.865Z"
   },
   {
    "duration": 14,
    "start_time": "2023-02-08T20:22:31.871Z"
   },
   {
    "duration": 28,
    "start_time": "2023-02-08T20:22:31.887Z"
   },
   {
    "duration": 16,
    "start_time": "2023-02-08T20:22:31.916Z"
   },
   {
    "duration": 3,
    "start_time": "2023-02-08T20:22:31.934Z"
   },
   {
    "duration": 12,
    "start_time": "2023-02-08T20:22:31.939Z"
   },
   {
    "duration": 5,
    "start_time": "2023-02-08T20:22:31.952Z"
   },
   {
    "duration": 4,
    "start_time": "2023-02-08T20:22:31.959Z"
   },
   {
    "duration": 40,
    "start_time": "2023-02-08T20:22:31.965Z"
   },
   {
    "duration": 2,
    "start_time": "2023-02-08T20:22:32.007Z"
   },
   {
    "duration": 5,
    "start_time": "2023-02-08T20:22:32.010Z"
   },
   {
    "duration": 5,
    "start_time": "2023-02-08T20:22:32.017Z"
   },
   {
    "duration": 5,
    "start_time": "2023-02-08T20:22:32.023Z"
   },
   {
    "duration": 795,
    "start_time": "2023-02-09T10:39:43.497Z"
   },
   {
    "duration": 24,
    "start_time": "2023-02-09T10:39:44.294Z"
   },
   {
    "duration": 17,
    "start_time": "2023-02-09T10:39:44.320Z"
   },
   {
    "duration": 12,
    "start_time": "2023-02-09T10:39:44.339Z"
   },
   {
    "duration": 68,
    "start_time": "2023-02-09T10:39:44.353Z"
   },
   {
    "duration": 7,
    "start_time": "2023-02-09T10:39:44.423Z"
   },
   {
    "duration": 15,
    "start_time": "2023-02-09T10:39:44.431Z"
   },
   {
    "duration": 9,
    "start_time": "2023-02-09T10:39:44.448Z"
   },
   {
    "duration": 15,
    "start_time": "2023-02-09T10:39:44.460Z"
   },
   {
    "duration": 6,
    "start_time": "2023-02-09T10:39:44.478Z"
   },
   {
    "duration": 77,
    "start_time": "2023-02-09T10:39:44.486Z"
   },
   {
    "duration": 15,
    "start_time": "2023-02-09T10:39:44.566Z"
   },
   {
    "duration": 12,
    "start_time": "2023-02-09T10:39:44.583Z"
   },
   {
    "duration": 37,
    "start_time": "2023-02-09T10:39:44.597Z"
   },
   {
    "duration": 34,
    "start_time": "2023-02-09T10:39:44.637Z"
   },
   {
    "duration": 21,
    "start_time": "2023-02-09T10:39:44.673Z"
   },
   {
    "duration": 3,
    "start_time": "2023-02-09T10:39:44.696Z"
   },
   {
    "duration": 28,
    "start_time": "2023-02-09T10:39:44.701Z"
   },
   {
    "duration": 6,
    "start_time": "2023-02-09T10:39:44.730Z"
   },
   {
    "duration": 5,
    "start_time": "2023-02-09T10:39:44.738Z"
   },
   {
    "duration": 15,
    "start_time": "2023-02-09T10:39:44.745Z"
   },
   {
    "duration": 5,
    "start_time": "2023-02-09T10:39:44.762Z"
   },
   {
    "duration": 5,
    "start_time": "2023-02-09T10:39:44.769Z"
   },
   {
    "duration": 6,
    "start_time": "2023-02-09T10:39:44.775Z"
   },
   {
    "duration": 6,
    "start_time": "2023-02-09T10:39:44.782Z"
   },
   {
    "duration": 8,
    "start_time": "2023-02-09T10:43:36.675Z"
   },
   {
    "duration": 75,
    "start_time": "2023-02-09T10:45:30.521Z"
   },
   {
    "duration": 11,
    "start_time": "2023-02-09T10:45:43.764Z"
   },
   {
    "duration": 5,
    "start_time": "2023-02-09T10:45:55.831Z"
   },
   {
    "duration": 8,
    "start_time": "2023-02-09T10:46:19.621Z"
   },
   {
    "duration": 13,
    "start_time": "2023-02-09T10:50:05.287Z"
   },
   {
    "duration": 5,
    "start_time": "2023-02-09T10:50:56.927Z"
   },
   {
    "duration": 10,
    "start_time": "2023-02-09T10:51:14.214Z"
   },
   {
    "duration": 10,
    "start_time": "2023-02-09T10:52:12.672Z"
   },
   {
    "duration": 7,
    "start_time": "2023-02-09T10:52:21.183Z"
   },
   {
    "duration": 9,
    "start_time": "2023-02-09T10:52:36.177Z"
   },
   {
    "duration": 8,
    "start_time": "2023-02-09T10:55:53.204Z"
   },
   {
    "duration": 6,
    "start_time": "2023-02-09T10:56:44.110Z"
   },
   {
    "duration": 89,
    "start_time": "2023-02-09T11:00:39.116Z"
   },
   {
    "duration": 93,
    "start_time": "2023-02-09T11:00:53.522Z"
   },
   {
    "duration": 93,
    "start_time": "2023-02-09T11:01:26.830Z"
   },
   {
    "duration": 89,
    "start_time": "2023-02-09T11:01:31.924Z"
   },
   {
    "duration": 3168,
    "start_time": "2023-02-09T11:03:30.044Z"
   },
   {
    "duration": 3335,
    "start_time": "2023-02-09T11:04:22.471Z"
   },
   {
    "duration": 78,
    "start_time": "2023-02-09T11:06:46.649Z"
   },
   {
    "duration": 3268,
    "start_time": "2023-02-09T11:06:51.445Z"
   },
   {
    "duration": 3175,
    "start_time": "2023-02-09T11:07:08.809Z"
   },
   {
    "duration": 3300,
    "start_time": "2023-02-09T11:08:04.448Z"
   },
   {
    "duration": 3299,
    "start_time": "2023-02-09T11:08:43.391Z"
   },
   {
    "duration": 298,
    "start_time": "2023-02-09T11:14:29.431Z"
   },
   {
    "duration": 20,
    "start_time": "2023-02-09T11:14:44.572Z"
   },
   {
    "duration": 13,
    "start_time": "2023-02-09T11:16:34.008Z"
   },
   {
    "duration": 14,
    "start_time": "2023-02-09T11:16:47.913Z"
   },
   {
    "duration": 17,
    "start_time": "2023-02-09T11:17:07.569Z"
   },
   {
    "duration": 17,
    "start_time": "2023-02-09T11:26:51.726Z"
   },
   {
    "duration": 1151,
    "start_time": "2023-02-09T11:27:14.019Z"
   },
   {
    "duration": 20,
    "start_time": "2023-02-09T11:29:27.206Z"
   },
   {
    "duration": 7,
    "start_time": "2023-02-09T11:33:28.271Z"
   },
   {
    "duration": 7,
    "start_time": "2023-02-09T12:22:36.969Z"
   },
   {
    "duration": 9,
    "start_time": "2023-02-09T12:22:55.391Z"
   },
   {
    "duration": 9,
    "start_time": "2023-02-09T12:23:59.089Z"
   },
   {
    "duration": 8,
    "start_time": "2023-02-09T12:24:44.197Z"
   },
   {
    "duration": 32,
    "start_time": "2023-02-09T12:32:48.681Z"
   },
   {
    "duration": 20,
    "start_time": "2023-02-09T12:34:42.519Z"
   },
   {
    "duration": 84,
    "start_time": "2023-02-09T12:35:12.465Z"
   },
   {
    "duration": 78,
    "start_time": "2023-02-09T12:35:29.873Z"
   },
   {
    "duration": 77,
    "start_time": "2023-02-09T12:35:45.264Z"
   },
   {
    "duration": 34,
    "start_time": "2023-02-09T12:36:00.770Z"
   },
   {
    "duration": 20,
    "start_time": "2023-02-09T12:36:08.882Z"
   },
   {
    "duration": 26,
    "start_time": "2023-02-09T12:36:48.204Z"
   },
   {
    "duration": 26,
    "start_time": "2023-02-09T12:37:19.795Z"
   },
   {
    "duration": 31,
    "start_time": "2023-02-09T12:39:01.291Z"
   },
   {
    "duration": 11,
    "start_time": "2023-02-09T12:44:49.975Z"
   },
   {
    "duration": 8,
    "start_time": "2023-02-09T12:45:00.472Z"
   },
   {
    "duration": 9,
    "start_time": "2023-02-09T12:45:10.803Z"
   },
   {
    "duration": 16,
    "start_time": "2023-02-09T12:46:43.615Z"
   },
   {
    "duration": 11,
    "start_time": "2023-02-09T12:47:35.212Z"
   },
   {
    "duration": 16,
    "start_time": "2023-02-09T12:48:10.199Z"
   },
   {
    "duration": 10,
    "start_time": "2023-02-09T12:53:33.508Z"
   },
   {
    "duration": 15,
    "start_time": "2023-02-09T12:54:12.257Z"
   },
   {
    "duration": 79,
    "start_time": "2023-02-09T13:04:29.357Z"
   },
   {
    "duration": 16,
    "start_time": "2023-02-09T13:04:29.438Z"
   },
   {
    "duration": 19,
    "start_time": "2023-02-09T13:04:29.456Z"
   },
   {
    "duration": 12,
    "start_time": "2023-02-09T13:04:29.477Z"
   },
   {
    "duration": 62,
    "start_time": "2023-02-09T13:04:29.491Z"
   },
   {
    "duration": 4,
    "start_time": "2023-02-09T13:04:29.554Z"
   },
   {
    "duration": 13,
    "start_time": "2023-02-09T13:04:29.560Z"
   },
   {
    "duration": 5,
    "start_time": "2023-02-09T13:04:29.575Z"
   },
   {
    "duration": 8,
    "start_time": "2023-02-09T13:04:29.581Z"
   },
   {
    "duration": 31,
    "start_time": "2023-02-09T13:04:29.591Z"
   },
   {
    "duration": 36,
    "start_time": "2023-02-09T13:04:29.624Z"
   },
   {
    "duration": 12,
    "start_time": "2023-02-09T13:04:29.662Z"
   },
   {
    "duration": 5,
    "start_time": "2023-02-09T13:04:29.676Z"
   },
   {
    "duration": 45,
    "start_time": "2023-02-09T13:04:29.685Z"
   },
   {
    "duration": 20,
    "start_time": "2023-02-09T13:04:29.732Z"
   },
   {
    "duration": 17,
    "start_time": "2023-02-09T13:04:29.754Z"
   },
   {
    "duration": 3,
    "start_time": "2023-02-09T13:04:29.773Z"
   },
   {
    "duration": 14,
    "start_time": "2023-02-09T13:04:29.778Z"
   },
   {
    "duration": 30,
    "start_time": "2023-02-09T13:04:29.794Z"
   },
   {
    "duration": 4,
    "start_time": "2023-02-09T13:04:29.826Z"
   },
   {
    "duration": 12,
    "start_time": "2023-02-09T13:04:29.831Z"
   },
   {
    "duration": 11,
    "start_time": "2023-02-09T13:04:29.844Z"
   },
   {
    "duration": 21,
    "start_time": "2023-02-09T13:04:29.857Z"
   },
   {
    "duration": 11,
    "start_time": "2023-02-09T13:04:29.880Z"
   },
   {
    "duration": 15,
    "start_time": "2023-02-09T13:04:29.921Z"
   },
   {
    "duration": 34,
    "start_time": "2023-02-09T13:10:22.604Z"
   },
   {
    "duration": 79,
    "start_time": "2023-02-09T13:11:33.276Z"
   },
   {
    "duration": 13,
    "start_time": "2023-02-09T13:13:37.905Z"
   },
   {
    "duration": 74,
    "start_time": "2023-02-09T13:18:07.051Z"
   },
   {
    "duration": 17,
    "start_time": "2023-02-09T13:18:07.127Z"
   },
   {
    "duration": 27,
    "start_time": "2023-02-09T13:18:07.146Z"
   },
   {
    "duration": 11,
    "start_time": "2023-02-09T13:18:07.176Z"
   },
   {
    "duration": 69,
    "start_time": "2023-02-09T13:18:07.189Z"
   },
   {
    "duration": 4,
    "start_time": "2023-02-09T13:18:07.260Z"
   },
   {
    "duration": 13,
    "start_time": "2023-02-09T13:18:07.265Z"
   },
   {
    "duration": 5,
    "start_time": "2023-02-09T13:18:07.280Z"
   },
   {
    "duration": 34,
    "start_time": "2023-02-09T13:18:07.287Z"
   },
   {
    "duration": 6,
    "start_time": "2023-02-09T13:18:07.324Z"
   },
   {
    "duration": 39,
    "start_time": "2023-02-09T13:18:07.332Z"
   },
   {
    "duration": 13,
    "start_time": "2023-02-09T13:18:07.373Z"
   },
   {
    "duration": 34,
    "start_time": "2023-02-09T13:18:07.388Z"
   },
   {
    "duration": 20,
    "start_time": "2023-02-09T13:18:07.424Z"
   },
   {
    "duration": 22,
    "start_time": "2023-02-09T13:18:07.446Z"
   },
   {
    "duration": 20,
    "start_time": "2023-02-09T13:18:07.469Z"
   },
   {
    "duration": 5,
    "start_time": "2023-02-09T13:18:07.490Z"
   },
   {
    "duration": 37,
    "start_time": "2023-02-09T13:18:07.497Z"
   },
   {
    "duration": 7,
    "start_time": "2023-02-09T13:18:07.536Z"
   },
   {
    "duration": 5,
    "start_time": "2023-02-09T13:18:07.545Z"
   },
   {
    "duration": 12,
    "start_time": "2023-02-09T13:18:07.552Z"
   },
   {
    "duration": 10,
    "start_time": "2023-02-09T13:18:07.566Z"
   },
   {
    "duration": 49,
    "start_time": "2023-02-09T13:18:07.578Z"
   },
   {
    "duration": 14,
    "start_time": "2023-02-09T13:18:07.629Z"
   },
   {
    "duration": 14,
    "start_time": "2023-02-09T13:18:07.644Z"
   },
   {
    "duration": 473,
    "start_time": "2023-02-10T07:46:05.598Z"
   },
   {
    "duration": 22,
    "start_time": "2023-02-10T07:46:06.072Z"
   },
   {
    "duration": 40,
    "start_time": "2023-02-10T07:46:06.096Z"
   },
   {
    "duration": 10,
    "start_time": "2023-02-10T07:46:06.138Z"
   },
   {
    "duration": 32,
    "start_time": "2023-02-10T07:46:06.149Z"
   },
   {
    "duration": 3,
    "start_time": "2023-02-10T07:46:06.182Z"
   },
   {
    "duration": 17,
    "start_time": "2023-02-10T07:46:06.187Z"
   },
   {
    "duration": 20,
    "start_time": "2023-02-10T07:46:06.205Z"
   },
   {
    "duration": 11,
    "start_time": "2023-02-10T07:46:06.227Z"
   },
   {
    "duration": 7,
    "start_time": "2023-02-10T07:46:06.240Z"
   },
   {
    "duration": 43,
    "start_time": "2023-02-10T07:46:06.249Z"
   },
   {
    "duration": 10,
    "start_time": "2023-02-10T07:46:06.293Z"
   },
   {
    "duration": 9,
    "start_time": "2023-02-10T07:46:06.305Z"
   },
   {
    "duration": 18,
    "start_time": "2023-02-10T07:46:06.316Z"
   },
   {
    "duration": 31,
    "start_time": "2023-02-10T07:46:06.337Z"
   },
   {
    "duration": 18,
    "start_time": "2023-02-10T07:46:06.370Z"
   },
   {
    "duration": 5,
    "start_time": "2023-02-10T07:46:06.390Z"
   },
   {
    "duration": 28,
    "start_time": "2023-02-10T07:46:06.404Z"
   },
   {
    "duration": 15,
    "start_time": "2023-02-10T07:46:06.434Z"
   },
   {
    "duration": 5,
    "start_time": "2023-02-10T07:46:06.451Z"
   },
   {
    "duration": 23,
    "start_time": "2023-02-10T07:46:06.458Z"
   },
   {
    "duration": 13,
    "start_time": "2023-02-10T07:46:06.482Z"
   },
   {
    "duration": 11,
    "start_time": "2023-02-10T07:46:06.497Z"
   },
   {
    "duration": 11,
    "start_time": "2023-02-10T07:46:06.510Z"
   },
   {
    "duration": 13,
    "start_time": "2023-02-10T07:46:06.522Z"
   },
   {
    "duration": 69,
    "start_time": "2023-02-10T15:26:53.367Z"
   },
   {
    "duration": 608,
    "start_time": "2023-02-10T15:27:01.011Z"
   },
   {
    "duration": 43,
    "start_time": "2023-02-10T15:27:01.621Z"
   },
   {
    "duration": 23,
    "start_time": "2023-02-10T15:27:01.667Z"
   },
   {
    "duration": 10,
    "start_time": "2023-02-10T15:27:01.693Z"
   },
   {
    "duration": 59,
    "start_time": "2023-02-10T15:27:01.705Z"
   },
   {
    "duration": 4,
    "start_time": "2023-02-10T15:27:01.767Z"
   },
   {
    "duration": 20,
    "start_time": "2023-02-10T15:27:01.773Z"
   },
   {
    "duration": 4,
    "start_time": "2023-02-10T15:27:01.795Z"
   },
   {
    "duration": 30,
    "start_time": "2023-02-10T15:27:01.801Z"
   },
   {
    "duration": 41,
    "start_time": "2023-02-10T15:27:01.837Z"
   },
   {
    "duration": 35,
    "start_time": "2023-02-10T15:27:01.879Z"
   },
   {
    "duration": 9,
    "start_time": "2023-02-10T15:27:01.916Z"
   },
   {
    "duration": 52,
    "start_time": "2023-02-10T15:27:01.926Z"
   },
   {
    "duration": 19,
    "start_time": "2023-02-10T15:27:01.979Z"
   },
   {
    "duration": 22,
    "start_time": "2023-02-10T15:27:02.000Z"
   },
   {
    "duration": 25,
    "start_time": "2023-02-10T15:27:02.024Z"
   },
   {
    "duration": 26,
    "start_time": "2023-02-10T15:27:02.050Z"
   },
   {
    "duration": 19,
    "start_time": "2023-02-10T15:27:02.077Z"
   },
   {
    "duration": 6,
    "start_time": "2023-02-10T15:27:02.097Z"
   },
   {
    "duration": 4,
    "start_time": "2023-02-10T15:27:02.105Z"
   },
   {
    "duration": 59,
    "start_time": "2023-02-10T15:27:02.111Z"
   },
   {
    "duration": 35,
    "start_time": "2023-02-10T15:27:02.172Z"
   },
   {
    "duration": 30,
    "start_time": "2023-02-10T15:27:02.209Z"
   },
   {
    "duration": 37,
    "start_time": "2023-02-10T15:27:02.243Z"
   },
   {
    "duration": 19,
    "start_time": "2023-02-10T15:27:02.281Z"
   },
   {
    "duration": 55,
    "start_time": "2023-02-10T15:27:52.651Z"
   },
   {
    "duration": 15,
    "start_time": "2023-02-10T15:28:07.720Z"
   },
   {
    "duration": 15,
    "start_time": "2023-02-10T15:28:24.826Z"
   },
   {
    "duration": 23,
    "start_time": "2023-02-10T15:34:00.661Z"
   },
   {
    "duration": 23,
    "start_time": "2023-02-10T15:43:43.642Z"
   },
   {
    "duration": 23,
    "start_time": "2023-02-10T18:26:22.796Z"
   },
   {
    "duration": 4,
    "start_time": "2023-02-10T18:28:12.961Z"
   },
   {
    "duration": 34,
    "start_time": "2023-02-10T18:28:24.697Z"
   },
   {
    "duration": 22,
    "start_time": "2023-02-10T18:29:31.904Z"
   },
   {
    "duration": 7,
    "start_time": "2023-02-10T18:29:42.159Z"
   },
   {
    "duration": 22,
    "start_time": "2023-02-10T18:30:36.557Z"
   },
   {
    "duration": 16,
    "start_time": "2023-02-10T18:31:45.079Z"
   },
   {
    "duration": 16,
    "start_time": "2023-02-10T18:31:54.202Z"
   },
   {
    "duration": 12,
    "start_time": "2023-02-10T18:33:05.830Z"
   },
   {
    "duration": 14,
    "start_time": "2023-02-10T18:33:11.248Z"
   },
   {
    "duration": 17,
    "start_time": "2023-02-10T18:33:16.296Z"
   },
   {
    "duration": 48,
    "start_time": "2023-02-10T18:34:44.596Z"
   },
   {
    "duration": 14,
    "start_time": "2023-02-10T18:38:26.048Z"
   },
   {
    "duration": 10,
    "start_time": "2023-02-10T18:39:56.802Z"
   },
   {
    "duration": 12,
    "start_time": "2023-02-10T18:40:18.092Z"
   },
   {
    "duration": 63,
    "start_time": "2023-02-10T18:41:54.493Z"
   },
   {
    "duration": 16,
    "start_time": "2023-02-10T18:41:54.558Z"
   },
   {
    "duration": 16,
    "start_time": "2023-02-10T18:41:54.576Z"
   },
   {
    "duration": 9,
    "start_time": "2023-02-10T18:41:54.594Z"
   },
   {
    "duration": 69,
    "start_time": "2023-02-10T18:41:54.605Z"
   },
   {
    "duration": 4,
    "start_time": "2023-02-10T18:41:54.676Z"
   },
   {
    "duration": 10,
    "start_time": "2023-02-10T18:41:54.681Z"
   },
   {
    "duration": 5,
    "start_time": "2023-02-10T18:41:54.693Z"
   },
   {
    "duration": 7,
    "start_time": "2023-02-10T18:41:54.727Z"
   },
   {
    "duration": 5,
    "start_time": "2023-02-10T18:41:54.738Z"
   },
   {
    "duration": 39,
    "start_time": "2023-02-10T18:41:54.745Z"
   },
   {
    "duration": 10,
    "start_time": "2023-02-10T18:41:54.786Z"
   },
   {
    "duration": 4,
    "start_time": "2023-02-10T18:41:54.798Z"
   },
   {
    "duration": 12,
    "start_time": "2023-02-10T18:41:54.827Z"
   },
   {
    "duration": 27,
    "start_time": "2023-02-10T18:41:54.841Z"
   },
   {
    "duration": 19,
    "start_time": "2023-02-10T18:41:54.871Z"
   },
   {
    "duration": 4,
    "start_time": "2023-02-10T18:41:54.891Z"
   },
   {
    "duration": 37,
    "start_time": "2023-02-10T18:41:54.896Z"
   },
   {
    "duration": 6,
    "start_time": "2023-02-10T18:41:54.935Z"
   },
   {
    "duration": 5,
    "start_time": "2023-02-10T18:41:54.943Z"
   },
   {
    "duration": 15,
    "start_time": "2023-02-10T18:41:54.949Z"
   },
   {
    "duration": 25,
    "start_time": "2023-02-10T18:41:54.966Z"
   },
   {
    "duration": 48,
    "start_time": "2023-02-10T18:41:54.993Z"
   },
   {
    "duration": 29,
    "start_time": "2023-02-10T18:41:55.043Z"
   },
   {
    "duration": 15,
    "start_time": "2023-02-10T18:41:55.074Z"
   },
   {
    "duration": 43,
    "start_time": "2023-02-10T18:41:55.091Z"
   },
   {
    "duration": 35,
    "start_time": "2023-02-10T18:42:34.653Z"
   },
   {
    "duration": 18,
    "start_time": "2023-02-10T18:42:56.476Z"
   },
   {
    "duration": 64,
    "start_time": "2023-02-10T18:44:28.186Z"
   },
   {
    "duration": 14,
    "start_time": "2023-02-10T18:44:28.253Z"
   },
   {
    "duration": 22,
    "start_time": "2023-02-10T18:44:28.269Z"
   },
   {
    "duration": 34,
    "start_time": "2023-02-10T18:44:28.293Z"
   },
   {
    "duration": 49,
    "start_time": "2023-02-10T18:44:28.330Z"
   },
   {
    "duration": 5,
    "start_time": "2023-02-10T18:44:28.381Z"
   },
   {
    "duration": 15,
    "start_time": "2023-02-10T18:44:28.387Z"
   },
   {
    "duration": 25,
    "start_time": "2023-02-10T18:44:28.403Z"
   },
   {
    "duration": 10,
    "start_time": "2023-02-10T18:44:28.429Z"
   },
   {
    "duration": 8,
    "start_time": "2023-02-10T18:44:28.440Z"
   },
   {
    "duration": 36,
    "start_time": "2023-02-10T18:44:28.449Z"
   },
   {
    "duration": 9,
    "start_time": "2023-02-10T18:44:28.487Z"
   },
   {
    "duration": 30,
    "start_time": "2023-02-10T18:44:28.498Z"
   },
   {
    "duration": 18,
    "start_time": "2023-02-10T18:44:28.531Z"
   },
   {
    "duration": 25,
    "start_time": "2023-02-10T18:44:28.551Z"
   },
   {
    "duration": 17,
    "start_time": "2023-02-10T18:44:28.578Z"
   },
   {
    "duration": 3,
    "start_time": "2023-02-10T18:44:28.597Z"
   },
   {
    "duration": 30,
    "start_time": "2023-02-10T18:44:28.602Z"
   },
   {
    "duration": 11,
    "start_time": "2023-02-10T18:44:28.634Z"
   },
   {
    "duration": 6,
    "start_time": "2023-02-10T18:44:28.647Z"
   },
   {
    "duration": 20,
    "start_time": "2023-02-10T18:44:28.655Z"
   },
   {
    "duration": 28,
    "start_time": "2023-02-10T18:44:28.677Z"
   },
   {
    "duration": 17,
    "start_time": "2023-02-10T18:44:28.728Z"
   },
   {
    "duration": 27,
    "start_time": "2023-02-10T18:44:28.747Z"
   },
   {
    "duration": 16,
    "start_time": "2023-02-10T18:44:28.776Z"
   },
   {
    "duration": 34,
    "start_time": "2023-02-10T18:44:28.828Z"
   },
   {
    "duration": 30,
    "start_time": "2023-02-10T18:44:45.752Z"
   },
   {
    "duration": 74,
    "start_time": "2023-02-10T18:44:52.167Z"
   },
   {
    "duration": 27,
    "start_time": "2023-02-10T18:44:52.244Z"
   },
   {
    "duration": 15,
    "start_time": "2023-02-10T18:44:52.272Z"
   },
   {
    "duration": 10,
    "start_time": "2023-02-10T18:44:52.289Z"
   },
   {
    "duration": 72,
    "start_time": "2023-02-10T18:44:52.301Z"
   },
   {
    "duration": 5,
    "start_time": "2023-02-10T18:44:52.375Z"
   },
   {
    "duration": 14,
    "start_time": "2023-02-10T18:44:52.381Z"
   },
   {
    "duration": 18,
    "start_time": "2023-02-10T18:44:52.397Z"
   },
   {
    "duration": 14,
    "start_time": "2023-02-10T18:44:52.417Z"
   },
   {
    "duration": 12,
    "start_time": "2023-02-10T18:44:52.435Z"
   },
   {
    "duration": 55,
    "start_time": "2023-02-10T18:44:52.449Z"
   },
   {
    "duration": 10,
    "start_time": "2023-02-10T18:44:52.506Z"
   },
   {
    "duration": 10,
    "start_time": "2023-02-10T18:44:52.527Z"
   },
   {
    "duration": 16,
    "start_time": "2023-02-10T18:44:52.539Z"
   },
   {
    "duration": 45,
    "start_time": "2023-02-10T18:44:52.557Z"
   },
   {
    "duration": 19,
    "start_time": "2023-02-10T18:44:52.604Z"
   },
   {
    "duration": 4,
    "start_time": "2023-02-10T18:44:52.625Z"
   },
   {
    "duration": 21,
    "start_time": "2023-02-10T18:44:52.631Z"
   },
   {
    "duration": 17,
    "start_time": "2023-02-10T18:44:52.655Z"
   },
   {
    "duration": 17,
    "start_time": "2023-02-10T18:44:52.674Z"
   },
   {
    "duration": 24,
    "start_time": "2023-02-10T18:44:52.693Z"
   },
   {
    "duration": 48,
    "start_time": "2023-02-10T18:44:52.719Z"
   },
   {
    "duration": 15,
    "start_time": "2023-02-10T18:44:52.769Z"
   },
   {
    "duration": 32,
    "start_time": "2023-02-10T18:44:52.786Z"
   },
   {
    "duration": 19,
    "start_time": "2023-02-10T18:44:52.820Z"
   },
   {
    "duration": 39,
    "start_time": "2023-02-10T18:44:52.841Z"
   },
   {
    "duration": 10,
    "start_time": "2023-02-10T18:45:39.287Z"
   },
   {
    "duration": 9,
    "start_time": "2023-02-10T18:45:45.150Z"
   },
   {
    "duration": 66,
    "start_time": "2023-02-10T18:45:47.720Z"
   },
   {
    "duration": 11,
    "start_time": "2023-02-10T18:45:49.136Z"
   },
   {
    "duration": 88,
    "start_time": "2023-02-10T18:46:35.035Z"
   },
   {
    "duration": 12,
    "start_time": "2023-02-10T18:46:35.125Z"
   },
   {
    "duration": 21,
    "start_time": "2023-02-10T18:46:35.139Z"
   },
   {
    "duration": 13,
    "start_time": "2023-02-10T18:46:35.163Z"
   },
   {
    "duration": 80,
    "start_time": "2023-02-10T18:46:35.178Z"
   },
   {
    "duration": 4,
    "start_time": "2023-02-10T18:46:35.261Z"
   },
   {
    "duration": 13,
    "start_time": "2023-02-10T18:46:35.267Z"
   },
   {
    "duration": 5,
    "start_time": "2023-02-10T18:46:35.282Z"
   },
   {
    "duration": 10,
    "start_time": "2023-02-10T18:46:35.289Z"
   },
   {
    "duration": 27,
    "start_time": "2023-02-10T18:46:35.301Z"
   },
   {
    "duration": 51,
    "start_time": "2023-02-10T18:46:35.330Z"
   },
   {
    "duration": 15,
    "start_time": "2023-02-10T18:46:35.383Z"
   },
   {
    "duration": 28,
    "start_time": "2023-02-10T18:46:35.400Z"
   },
   {
    "duration": 20,
    "start_time": "2023-02-10T18:46:35.430Z"
   },
   {
    "duration": 27,
    "start_time": "2023-02-10T18:46:35.453Z"
   },
   {
    "duration": 46,
    "start_time": "2023-02-10T18:46:35.483Z"
   },
   {
    "duration": 5,
    "start_time": "2023-02-10T18:46:35.531Z"
   },
   {
    "duration": 18,
    "start_time": "2023-02-10T18:46:35.537Z"
   },
   {
    "duration": 8,
    "start_time": "2023-02-10T18:46:35.556Z"
   },
   {
    "duration": 9,
    "start_time": "2023-02-10T18:46:35.566Z"
   },
   {
    "duration": 34,
    "start_time": "2023-02-10T18:46:35.577Z"
   },
   {
    "duration": 27,
    "start_time": "2023-02-10T18:46:35.613Z"
   },
   {
    "duration": 18,
    "start_time": "2023-02-10T18:46:35.641Z"
   },
   {
    "duration": 23,
    "start_time": "2023-02-10T18:46:35.663Z"
   },
   {
    "duration": 39,
    "start_time": "2023-02-10T18:46:35.688Z"
   },
   {
    "duration": 37,
    "start_time": "2023-02-10T18:46:35.729Z"
   },
   {
    "duration": 9,
    "start_time": "2023-02-10T18:46:55.590Z"
   },
   {
    "duration": 64,
    "start_time": "2023-02-10T18:46:59.901Z"
   },
   {
    "duration": 28,
    "start_time": "2023-02-10T18:47:00.989Z"
   },
   {
    "duration": 28,
    "start_time": "2023-02-10T18:47:48.449Z"
   },
   {
    "duration": 68,
    "start_time": "2023-02-10T18:48:52.249Z"
   },
   {
    "duration": 18,
    "start_time": "2023-02-10T18:48:52.318Z"
   },
   {
    "duration": 23,
    "start_time": "2023-02-10T18:48:52.337Z"
   },
   {
    "duration": 10,
    "start_time": "2023-02-10T18:48:52.363Z"
   },
   {
    "duration": 45,
    "start_time": "2023-02-10T18:48:52.374Z"
   },
   {
    "duration": 4,
    "start_time": "2023-02-10T18:48:52.420Z"
   },
   {
    "duration": 27,
    "start_time": "2023-02-10T18:48:52.428Z"
   },
   {
    "duration": 9,
    "start_time": "2023-02-10T18:48:52.457Z"
   },
   {
    "duration": 9,
    "start_time": "2023-02-10T18:48:52.468Z"
   },
   {
    "duration": 5,
    "start_time": "2023-02-10T18:48:52.480Z"
   },
   {
    "duration": 34,
    "start_time": "2023-02-10T18:48:52.486Z"
   },
   {
    "duration": 10,
    "start_time": "2023-02-10T18:48:52.522Z"
   },
   {
    "duration": 8,
    "start_time": "2023-02-10T18:48:52.534Z"
   },
   {
    "duration": 14,
    "start_time": "2023-02-10T18:48:52.544Z"
   },
   {
    "duration": 27,
    "start_time": "2023-02-10T18:48:52.559Z"
   },
   {
    "duration": 18,
    "start_time": "2023-02-10T18:48:52.588Z"
   },
   {
    "duration": 21,
    "start_time": "2023-02-10T18:48:52.608Z"
   },
   {
    "duration": 16,
    "start_time": "2023-02-10T18:48:52.631Z"
   },
   {
    "duration": 10,
    "start_time": "2023-02-10T18:48:52.649Z"
   },
   {
    "duration": 6,
    "start_time": "2023-02-10T18:48:52.660Z"
   },
   {
    "duration": 12,
    "start_time": "2023-02-10T18:48:52.668Z"
   },
   {
    "duration": 19,
    "start_time": "2023-02-10T18:48:52.682Z"
   },
   {
    "duration": 33,
    "start_time": "2023-02-10T18:48:52.703Z"
   },
   {
    "duration": 20,
    "start_time": "2023-02-10T18:48:52.738Z"
   },
   {
    "duration": 13,
    "start_time": "2023-02-10T18:48:52.759Z"
   },
   {
    "duration": 26,
    "start_time": "2023-02-10T18:48:52.773Z"
   },
   {
    "duration": 95,
    "start_time": "2023-02-10T18:49:42.140Z"
   },
   {
    "duration": 82,
    "start_time": "2023-02-10T19:36:41.755Z"
   },
   {
    "duration": 88,
    "start_time": "2023-02-10T19:54:56.262Z"
   },
   {
    "duration": 695,
    "start_time": "2023-02-10T20:48:58.961Z"
   },
   {
    "duration": 15,
    "start_time": "2023-02-10T20:49:39.923Z"
   },
   {
    "duration": 22,
    "start_time": "2023-02-10T20:50:41.403Z"
   },
   {
    "duration": 22,
    "start_time": "2023-02-10T20:51:13.432Z"
   },
   {
    "duration": 20,
    "start_time": "2023-02-10T20:51:21.984Z"
   },
   {
    "duration": 26,
    "start_time": "2023-02-10T20:51:37.263Z"
   },
   {
    "duration": 61,
    "start_time": "2023-02-10T20:52:19.605Z"
   },
   {
    "duration": 25,
    "start_time": "2023-02-10T20:53:42.506Z"
   },
   {
    "duration": 24,
    "start_time": "2023-02-10T20:54:24.394Z"
   },
   {
    "duration": 25,
    "start_time": "2023-02-10T21:06:48.459Z"
   },
   {
    "duration": 36,
    "start_time": "2023-02-10T21:07:30.752Z"
   },
   {
    "duration": 30,
    "start_time": "2023-02-10T21:11:28.194Z"
   },
   {
    "duration": 27,
    "start_time": "2023-02-10T21:12:01.865Z"
   },
   {
    "duration": 26,
    "start_time": "2023-02-10T21:12:31.523Z"
   },
   {
    "duration": 21,
    "start_time": "2023-02-10T21:27:37.932Z"
   },
   {
    "duration": 65,
    "start_time": "2023-02-10T21:33:23.591Z"
   },
   {
    "duration": 15,
    "start_time": "2023-02-10T21:33:23.658Z"
   },
   {
    "duration": 15,
    "start_time": "2023-02-10T21:33:23.675Z"
   },
   {
    "duration": 36,
    "start_time": "2023-02-10T21:33:23.692Z"
   },
   {
    "duration": 34,
    "start_time": "2023-02-10T21:33:23.729Z"
   },
   {
    "duration": 4,
    "start_time": "2023-02-10T21:33:23.764Z"
   },
   {
    "duration": 9,
    "start_time": "2023-02-10T21:33:23.769Z"
   },
   {
    "duration": 6,
    "start_time": "2023-02-10T21:33:23.780Z"
   },
   {
    "duration": 23,
    "start_time": "2023-02-10T21:33:23.788Z"
   },
   {
    "duration": 5,
    "start_time": "2023-02-10T21:33:23.826Z"
   },
   {
    "duration": 36,
    "start_time": "2023-02-10T21:33:23.833Z"
   },
   {
    "duration": 10,
    "start_time": "2023-02-10T21:33:23.871Z"
   },
   {
    "duration": 4,
    "start_time": "2023-02-10T21:33:23.883Z"
   },
   {
    "duration": 42,
    "start_time": "2023-02-10T21:33:23.889Z"
   },
   {
    "duration": 26,
    "start_time": "2023-02-10T21:33:23.934Z"
   },
   {
    "duration": 25,
    "start_time": "2023-02-10T21:33:23.962Z"
   },
   {
    "duration": 3,
    "start_time": "2023-02-10T21:33:23.989Z"
   },
   {
    "duration": 34,
    "start_time": "2023-02-10T21:33:23.994Z"
   },
   {
    "duration": 6,
    "start_time": "2023-02-10T21:33:24.030Z"
   },
   {
    "duration": 4,
    "start_time": "2023-02-10T21:33:24.038Z"
   },
   {
    "duration": 36,
    "start_time": "2023-02-10T21:33:24.044Z"
   },
   {
    "duration": 18,
    "start_time": "2023-02-10T21:33:24.082Z"
   },
   {
    "duration": 12,
    "start_time": "2023-02-10T21:33:24.102Z"
   },
   {
    "duration": 23,
    "start_time": "2023-02-10T21:33:24.115Z"
   },
   {
    "duration": 20,
    "start_time": "2023-02-10T21:33:24.140Z"
   },
   {
    "duration": 87,
    "start_time": "2023-02-10T21:33:24.161Z"
   },
   {
    "duration": 23,
    "start_time": "2023-02-10T21:33:24.250Z"
   },
   {
    "duration": 86,
    "start_time": "2023-02-10T21:40:04.977Z"
   },
   {
    "duration": 57,
    "start_time": "2023-08-26T18:07:10.796Z"
   },
   {
    "duration": 706,
    "start_time": "2023-08-26T18:07:14.746Z"
   },
   {
    "duration": 21,
    "start_time": "2023-08-26T18:07:15.454Z"
   },
   {
    "duration": 15,
    "start_time": "2023-08-26T18:07:15.477Z"
   },
   {
    "duration": 11,
    "start_time": "2023-08-26T18:07:15.493Z"
   },
   {
    "duration": 48,
    "start_time": "2023-08-26T18:07:15.506Z"
   },
   {
    "duration": 3,
    "start_time": "2023-08-26T18:07:15.556Z"
   },
   {
    "duration": 10,
    "start_time": "2023-08-26T18:07:15.560Z"
   },
   {
    "duration": 6,
    "start_time": "2023-08-26T18:07:15.572Z"
   },
   {
    "duration": 16,
    "start_time": "2023-08-26T18:07:15.580Z"
   },
   {
    "duration": 6,
    "start_time": "2023-08-26T18:07:15.598Z"
   },
   {
    "duration": 53,
    "start_time": "2023-08-26T18:07:15.605Z"
   },
   {
    "duration": 9,
    "start_time": "2023-08-26T18:07:15.659Z"
   },
   {
    "duration": 9,
    "start_time": "2023-08-26T18:07:15.669Z"
   },
   {
    "duration": 19,
    "start_time": "2023-08-26T18:07:15.682Z"
   },
   {
    "duration": 19,
    "start_time": "2023-08-26T18:07:15.703Z"
   },
   {
    "duration": 23,
    "start_time": "2023-08-26T18:07:15.724Z"
   },
   {
    "duration": 3,
    "start_time": "2023-08-26T18:07:15.749Z"
   },
   {
    "duration": 13,
    "start_time": "2023-08-26T18:07:15.755Z"
   },
   {
    "duration": 8,
    "start_time": "2023-08-26T18:07:15.771Z"
   },
   {
    "duration": 9,
    "start_time": "2023-08-26T18:07:15.782Z"
   },
   {
    "duration": 23,
    "start_time": "2023-08-26T18:07:15.794Z"
   },
   {
    "duration": 29,
    "start_time": "2023-08-26T18:07:15.833Z"
   },
   {
    "duration": 9,
    "start_time": "2023-08-26T18:07:15.865Z"
   },
   {
    "duration": 16,
    "start_time": "2023-08-26T18:07:15.876Z"
   },
   {
    "duration": 47,
    "start_time": "2023-08-26T18:07:15.893Z"
   },
   {
    "duration": 78,
    "start_time": "2023-08-26T18:07:15.943Z"
   },
   {
    "duration": 28,
    "start_time": "2023-08-26T18:07:16.035Z"
   },
   {
    "duration": 17,
    "start_time": "2023-08-26T18:07:48.768Z"
   },
   {
    "duration": 17,
    "start_time": "2023-08-26T18:08:28.409Z"
   },
   {
    "duration": 10,
    "start_time": "2023-08-26T18:09:54.950Z"
   },
   {
    "duration": 8,
    "start_time": "2023-08-26T18:10:27.829Z"
   },
   {
    "duration": 11,
    "start_time": "2023-08-26T18:10:35.989Z"
   },
   {
    "duration": 66,
    "start_time": "2023-08-26T18:18:57.734Z"
   },
   {
    "duration": 14,
    "start_time": "2023-08-26T18:18:57.802Z"
   },
   {
    "duration": 24,
    "start_time": "2023-08-26T18:18:57.818Z"
   },
   {
    "duration": 12,
    "start_time": "2023-08-26T18:18:57.844Z"
   },
   {
    "duration": 33,
    "start_time": "2023-08-26T18:18:57.858Z"
   },
   {
    "duration": 3,
    "start_time": "2023-08-26T18:18:57.892Z"
   },
   {
    "duration": 15,
    "start_time": "2023-08-26T18:18:57.897Z"
   },
   {
    "duration": 4,
    "start_time": "2023-08-26T18:18:57.914Z"
   },
   {
    "duration": 6,
    "start_time": "2023-08-26T18:18:57.933Z"
   },
   {
    "duration": 5,
    "start_time": "2023-08-26T18:18:57.941Z"
   },
   {
    "duration": 34,
    "start_time": "2023-08-26T18:18:57.947Z"
   },
   {
    "duration": 8,
    "start_time": "2023-08-26T18:18:57.983Z"
   },
   {
    "duration": 7,
    "start_time": "2023-08-26T18:18:57.992Z"
   },
   {
    "duration": 36,
    "start_time": "2023-08-26T18:18:58.001Z"
   },
   {
    "duration": 18,
    "start_time": "2023-08-26T18:18:58.038Z"
   },
   {
    "duration": 16,
    "start_time": "2023-08-26T18:18:58.057Z"
   },
   {
    "duration": 3,
    "start_time": "2023-08-26T18:18:58.074Z"
   },
   {
    "duration": 34,
    "start_time": "2023-08-26T18:18:58.079Z"
   },
   {
    "duration": 23,
    "start_time": "2023-08-26T18:18:58.114Z"
   },
   {
    "duration": 10,
    "start_time": "2023-08-26T18:18:58.139Z"
   },
   {
    "duration": 11,
    "start_time": "2023-08-26T18:18:58.151Z"
   },
   {
    "duration": 16,
    "start_time": "2023-08-26T18:18:58.163Z"
   },
   {
    "duration": 15,
    "start_time": "2023-08-26T18:18:58.181Z"
   },
   {
    "duration": 9,
    "start_time": "2023-08-26T18:18:58.198Z"
   },
   {
    "duration": 9,
    "start_time": "2023-08-26T18:18:58.209Z"
   },
   {
    "duration": 22,
    "start_time": "2023-08-26T18:18:58.219Z"
   },
   {
    "duration": 30,
    "start_time": "2023-08-26T18:18:58.243Z"
   },
   {
    "duration": 20,
    "start_time": "2023-08-26T18:18:58.274Z"
   },
   {
    "duration": 78,
    "start_time": "2023-08-26T18:18:58.295Z"
   },
   {
    "duration": 25,
    "start_time": "2023-08-26T18:18:58.375Z"
   }
  ],
  "colab": {
   "name": "dpp_template_part2.ipynb",
   "provenance": []
  },
  "kernelspec": {
   "display_name": "Python 3 (ipykernel)",
   "language": "python",
   "name": "python3"
  },
  "language_info": {
   "codemirror_mode": {
    "name": "ipython",
    "version": 3
   },
   "file_extension": ".py",
   "mimetype": "text/x-python",
   "name": "python",
   "nbconvert_exporter": "python",
   "pygments_lexer": "ipython3",
   "version": "3.9.5"
  },
  "toc": {
   "base_numbering": 1,
   "nav_menu": {},
   "number_sections": true,
   "sideBar": true,
   "skip_h1_title": true,
   "title_cell": "Table of Contents",
   "title_sidebar": "Contents",
   "toc_cell": false,
   "toc_position": {
    "height": "calc(100% - 180px)",
    "left": "10px",
    "top": "150px",
    "width": "401.75px"
   },
   "toc_section_display": true,
   "toc_window_display": true
  }
 },
 "nbformat": 4,
 "nbformat_minor": 5
}
