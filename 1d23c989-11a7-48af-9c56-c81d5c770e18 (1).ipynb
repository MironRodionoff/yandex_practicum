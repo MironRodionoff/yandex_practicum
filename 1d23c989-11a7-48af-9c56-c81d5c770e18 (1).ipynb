{
 "cells": [
  {
   "cell_type": "markdown",
   "metadata": {
    "id": "qiN0tQ1_1Sdw"
   },
   "source": [
    "# Телекоммуникации, отток клиентов"
   ]
  },
  {
   "cell_type": "markdown",
   "metadata": {
    "id": "OMkcpBY2v22O"
   },
   "source": [
    "\n",
    "### Цели проекта:\n",
    "\n",
    "- Научиться прогнозировать потенциальный уход клиента из компании\n",
    "- Построить подходящую модель\n",
    "\n",
    "### Критерии выполнения проекта:\n",
    "\n",
    "- Модель обучена и успешно предсказывает отток клиентов\n",
    "- AUC-ROC модели более 0,85\n",
    "\n",
    "### Этапы работы:\n",
    "\n",
    "- Предобработка данных (заполнение пропусков, объединение таблиц)\n",
    "- Исследовательский анализ (поиск взаимосвязей в признаках, изучение распределений)\n",
    "- Подготовка данных к обучению (удаление лишних стобцов, разделение на выборки, кодирование, масштабирование)\n",
    "- Обучение моделей (LogisticRegression, RandomForest), подбор гиперпараметров, кросс-валидация\n",
    "- Тестирование лучшей модели и изучение ее параметров\n",
    "- Вывод, включающий:\n",
    "    - Параметр ROC-AUC для выбранной модели\n",
    "    - Параметр accuracy\n",
    "    - Confusion matrix"
   ]
  },
  {
   "cell_type": "markdown",
   "metadata": {
    "id": "xEi2zHDu0t04"
   },
   "source": [
    "### Предобработка данных"
   ]
  },
  {
   "cell_type": "code",
   "execution_count": 2,
   "metadata": {
    "collapsed": true,
    "id": "R7AMKwQFv22S"
   },
   "outputs": [
    {
     "name": "stdout",
     "output_type": "stream",
     "text": [
      "Collecting phik\n",
      "  Downloading phik-0.12.3-cp39-cp39-manylinux_2_17_x86_64.manylinux2014_x86_64.whl (679 kB)\n",
      "\u001b[K     |████████████████████████████████| 679 kB 1.6 MB/s eta 0:00:01\n",
      "\u001b[?25hRequirement already satisfied: numpy>=1.18.0 in /opt/conda/lib/python3.9/site-packages (from phik) (1.21.1)\n",
      "Requirement already satisfied: matplotlib>=2.2.3 in /opt/conda/lib/python3.9/site-packages (from phik) (3.3.4)\n",
      "Requirement already satisfied: pandas>=0.25.1 in /opt/conda/lib/python3.9/site-packages (from phik) (1.2.4)\n",
      "Requirement already satisfied: joblib>=0.14.1 in /opt/conda/lib/python3.9/site-packages (from phik) (1.1.0)\n",
      "Requirement already satisfied: scipy>=1.5.2 in /opt/conda/lib/python3.9/site-packages (from phik) (1.9.1)\n",
      "Requirement already satisfied: python-dateutil>=2.1 in /opt/conda/lib/python3.9/site-packages (from matplotlib>=2.2.3->phik) (2.8.1)\n",
      "Requirement already satisfied: pillow>=6.2.0 in /opt/conda/lib/python3.9/site-packages (from matplotlib>=2.2.3->phik) (8.4.0)\n",
      "Requirement already satisfied: kiwisolver>=1.0.1 in /opt/conda/lib/python3.9/site-packages (from matplotlib>=2.2.3->phik) (1.4.4)\n",
      "Requirement already satisfied: pyparsing!=2.0.4,!=2.1.2,!=2.1.6,>=2.0.3 in /opt/conda/lib/python3.9/site-packages (from matplotlib>=2.2.3->phik) (2.4.7)\n",
      "Requirement already satisfied: cycler>=0.10 in /opt/conda/lib/python3.9/site-packages (from matplotlib>=2.2.3->phik) (0.11.0)\n",
      "Requirement already satisfied: pytz>=2017.3 in /opt/conda/lib/python3.9/site-packages (from pandas>=0.25.1->phik) (2021.1)\n",
      "Requirement already satisfied: six>=1.5 in /opt/conda/lib/python3.9/site-packages (from python-dateutil>=2.1->matplotlib>=2.2.3->phik) (1.16.0)\n",
      "Installing collected packages: phik\n",
      "Successfully installed phik-0.12.3\n",
      "Note: you may need to restart the kernel to use updated packages.\n"
     ]
    }
   ],
   "source": [
    "pip install phik"
   ]
  },
  {
   "cell_type": "code",
   "execution_count": 3,
   "metadata": {
    "collapsed": true,
    "id": "Aq3zKJhdzGyA"
   },
   "outputs": [
    {
     "name": "stdout",
     "output_type": "stream",
     "text": [
      "Requirement already satisfied: catboost in /opt/conda/lib/python3.9/site-packages (1.0.3)\n",
      "Requirement already satisfied: plotly in /opt/conda/lib/python3.9/site-packages (from catboost) (5.4.0)\n",
      "Requirement already satisfied: scipy in /opt/conda/lib/python3.9/site-packages (from catboost) (1.9.1)\n",
      "Requirement already satisfied: numpy>=1.16.0 in /opt/conda/lib/python3.9/site-packages (from catboost) (1.21.1)\n",
      "Requirement already satisfied: graphviz in /opt/conda/lib/python3.9/site-packages (from catboost) (0.20.1)\n",
      "Requirement already satisfied: matplotlib in /opt/conda/lib/python3.9/site-packages (from catboost) (3.3.4)\n",
      "Requirement already satisfied: six in /opt/conda/lib/python3.9/site-packages (from catboost) (1.16.0)\n",
      "Requirement already satisfied: pandas>=0.24.0 in /opt/conda/lib/python3.9/site-packages (from catboost) (1.2.4)\n",
      "Requirement already satisfied: python-dateutil>=2.7.3 in /opt/conda/lib/python3.9/site-packages (from pandas>=0.24.0->catboost) (2.8.1)\n",
      "Requirement already satisfied: pytz>=2017.3 in /opt/conda/lib/python3.9/site-packages (from pandas>=0.24.0->catboost) (2021.1)\n",
      "Requirement already satisfied: pyparsing!=2.0.4,!=2.1.2,!=2.1.6,>=2.0.3 in /opt/conda/lib/python3.9/site-packages (from matplotlib->catboost) (2.4.7)\n",
      "Requirement already satisfied: kiwisolver>=1.0.1 in /opt/conda/lib/python3.9/site-packages (from matplotlib->catboost) (1.4.4)\n",
      "Requirement already satisfied: cycler>=0.10 in /opt/conda/lib/python3.9/site-packages (from matplotlib->catboost) (0.11.0)\n",
      "Requirement already satisfied: pillow>=6.2.0 in /opt/conda/lib/python3.9/site-packages (from matplotlib->catboost) (8.4.0)\n",
      "Requirement already satisfied: tenacity>=6.2.0 in /opt/conda/lib/python3.9/site-packages (from plotly->catboost) (8.0.1)\n",
      "Note: you may need to restart the kernel to use updated packages.\n"
     ]
    }
   ],
   "source": [
    "pip install catboost"
   ]
  },
  {
   "cell_type": "code",
   "execution_count": 4,
   "metadata": {
    "id": "KqLdZgqUVClu"
   },
   "outputs": [],
   "source": [
    "import pandas as pd\n",
    "import matplotlib.pyplot as plt\n",
    "import seaborn as sns\n",
    "import numpy as np\n",
    "import phik\n",
    "\n",
    "from sklearn.preprocessing import StandardScaler, OneHotEncoder\n",
    "from sklearn.model_selection import train_test_split, cross_val_score, GridSearchCV\n",
    "from sklearn.utils import shuffle\n",
    "from sklearn.metrics import (roc_auc_score, accuracy_score,\n",
    "                confusion_matrix, ConfusionMatrixDisplay,\n",
    "                roc_curve)\n",
    "from sklearn.pipeline import Pipeline\n",
    "\n",
    "from sklearn.linear_model import LogisticRegression\n",
    "from sklearn.ensemble import RandomForestClassifier\n",
    "from catboost import CatBoostClassifier\n",
    "\n",
    "import datetime\n",
    "\n",
    "random_state = 280823"
   ]
  },
  {
   "cell_type": "code",
   "execution_count": 6,
   "metadata": {
    "id": "IwCvJaVgGoy8"
   },
   "outputs": [],
   "source": [
    "contract = pd.read_csv('/datasets/contract_new.csv', index_col='customerID')\n",
    "internet = pd.read_csv('/datasets/internet_new.csv', index_col='customerID')\n",
    "personal = pd.read_csv('/datasets/personal_new.csv', index_col='customerID')\n",
    "phone = pd.read_csv('/datasets/phone_new.csv', index_col='customerID')"
   ]
  },
  {
   "cell_type": "markdown",
   "metadata": {
    "id": "rPq6OzqHpSio"
   },
   "source": [
    "Рассмотрим первый файл - `contract_new`  с информацией о договорах."
   ]
  },
  {
   "cell_type": "code",
   "execution_count": 7,
   "metadata": {
    "colab": {
     "base_uri": "https://localhost:8080/"
    },
    "id": "4dI3pgkJV7jJ",
    "outputId": "334b8c63-841f-46ae-b976-2ef89101bd53"
   },
   "outputs": [
    {
     "name": "stdout",
     "output_type": "stream",
     "text": [
      "<class 'pandas.core.frame.DataFrame'>\n",
      "Index: 7043 entries, 7590-VHVEG to 3186-AJIEK\n",
      "Data columns (total 7 columns):\n",
      " #   Column            Non-Null Count  Dtype  \n",
      "---  ------            --------------  -----  \n",
      " 0   BeginDate         7043 non-null   object \n",
      " 1   EndDate           7043 non-null   object \n",
      " 2   Type              7043 non-null   object \n",
      " 3   PaperlessBilling  7043 non-null   object \n",
      " 4   PaymentMethod     7043 non-null   object \n",
      " 5   MonthlyCharges    7043 non-null   float64\n",
      " 6   TotalCharges      7043 non-null   object \n",
      "dtypes: float64(1), object(6)\n",
      "memory usage: 440.2+ KB\n"
     ]
    }
   ],
   "source": [
    "contract.info()"
   ]
  },
  {
   "cell_type": "code",
   "execution_count": 8,
   "metadata": {
    "colab": {
     "base_uri": "https://localhost:8080/",
     "height": 238
    },
    "id": "2E-0ihu9V5dh",
    "outputId": "5a210289-2020-4547-e048-da4d57c4b453"
   },
   "outputs": [
    {
     "data": {
      "text/html": [
       "<div>\n",
       "<style scoped>\n",
       "    .dataframe tbody tr th:only-of-type {\n",
       "        vertical-align: middle;\n",
       "    }\n",
       "\n",
       "    .dataframe tbody tr th {\n",
       "        vertical-align: top;\n",
       "    }\n",
       "\n",
       "    .dataframe thead th {\n",
       "        text-align: right;\n",
       "    }\n",
       "</style>\n",
       "<table border=\"1\" class=\"dataframe\">\n",
       "  <thead>\n",
       "    <tr style=\"text-align: right;\">\n",
       "      <th></th>\n",
       "      <th>BeginDate</th>\n",
       "      <th>EndDate</th>\n",
       "      <th>Type</th>\n",
       "      <th>PaperlessBilling</th>\n",
       "      <th>PaymentMethod</th>\n",
       "      <th>MonthlyCharges</th>\n",
       "      <th>TotalCharges</th>\n",
       "    </tr>\n",
       "    <tr>\n",
       "      <th>customerID</th>\n",
       "      <th></th>\n",
       "      <th></th>\n",
       "      <th></th>\n",
       "      <th></th>\n",
       "      <th></th>\n",
       "      <th></th>\n",
       "      <th></th>\n",
       "    </tr>\n",
       "  </thead>\n",
       "  <tbody>\n",
       "    <tr>\n",
       "      <th>7590-VHVEG</th>\n",
       "      <td>2020-01-01</td>\n",
       "      <td>No</td>\n",
       "      <td>Month-to-month</td>\n",
       "      <td>Yes</td>\n",
       "      <td>Electronic check</td>\n",
       "      <td>29.85</td>\n",
       "      <td>31.04</td>\n",
       "    </tr>\n",
       "    <tr>\n",
       "      <th>5575-GNVDE</th>\n",
       "      <td>2017-04-01</td>\n",
       "      <td>No</td>\n",
       "      <td>One year</td>\n",
       "      <td>No</td>\n",
       "      <td>Mailed check</td>\n",
       "      <td>56.95</td>\n",
       "      <td>2071.84</td>\n",
       "    </tr>\n",
       "    <tr>\n",
       "      <th>3668-QPYBK</th>\n",
       "      <td>2019-10-01</td>\n",
       "      <td>No</td>\n",
       "      <td>Month-to-month</td>\n",
       "      <td>Yes</td>\n",
       "      <td>Mailed check</td>\n",
       "      <td>53.85</td>\n",
       "      <td>226.17</td>\n",
       "    </tr>\n",
       "    <tr>\n",
       "      <th>7795-CFOCW</th>\n",
       "      <td>2016-05-01</td>\n",
       "      <td>No</td>\n",
       "      <td>One year</td>\n",
       "      <td>No</td>\n",
       "      <td>Bank transfer (automatic)</td>\n",
       "      <td>42.30</td>\n",
       "      <td>1960.6</td>\n",
       "    </tr>\n",
       "    <tr>\n",
       "      <th>9237-HQITU</th>\n",
       "      <td>2019-09-01</td>\n",
       "      <td>No</td>\n",
       "      <td>Month-to-month</td>\n",
       "      <td>Yes</td>\n",
       "      <td>Electronic check</td>\n",
       "      <td>70.70</td>\n",
       "      <td>353.5</td>\n",
       "    </tr>\n",
       "  </tbody>\n",
       "</table>\n",
       "</div>"
      ],
      "text/plain": [
       "             BeginDate EndDate            Type PaperlessBilling  \\\n",
       "customerID                                                        \n",
       "7590-VHVEG  2020-01-01      No  Month-to-month              Yes   \n",
       "5575-GNVDE  2017-04-01      No        One year               No   \n",
       "3668-QPYBK  2019-10-01      No  Month-to-month              Yes   \n",
       "7795-CFOCW  2016-05-01      No        One year               No   \n",
       "9237-HQITU  2019-09-01      No  Month-to-month              Yes   \n",
       "\n",
       "                        PaymentMethod  MonthlyCharges TotalCharges  \n",
       "customerID                                                          \n",
       "7590-VHVEG           Electronic check           29.85        31.04  \n",
       "5575-GNVDE               Mailed check           56.95      2071.84  \n",
       "3668-QPYBK               Mailed check           53.85       226.17  \n",
       "7795-CFOCW  Bank transfer (automatic)           42.30       1960.6  \n",
       "9237-HQITU           Electronic check           70.70        353.5  "
      ]
     },
     "execution_count": 8,
     "metadata": {},
     "output_type": "execute_result"
    }
   ],
   "source": [
    "contract.head()"
   ]
  },
  {
   "cell_type": "code",
   "execution_count": 9,
   "metadata": {
    "colab": {
     "base_uri": "https://localhost:8080/"
    },
    "id": "d3e_Frvb-NTM",
    "outputId": "e9420f42-cc34-413c-824a-97ef8eef0a27"
   },
   "outputs": [
    {
     "data": {
      "text/plain": [
       "No            5942\n",
       "2020-01-01      39\n",
       "2019-12-01      38\n",
       "2018-11-01      35\n",
       "2019-09-01      32\n",
       "              ... \n",
       "2014-09-01       2\n",
       "2014-12-01       2\n",
       "2014-06-01       1\n",
       "2014-10-01       1\n",
       "2014-11-01       1\n",
       "Name: EndDate, Length: 67, dtype: int64"
      ]
     },
     "execution_count": 9,
     "metadata": {},
     "output_type": "execute_result"
    }
   ],
   "source": [
    "contract.EndDate.value_counts()"
   ]
  },
  {
   "cell_type": "code",
   "execution_count": 10,
   "metadata": {
    "colab": {
     "base_uri": "https://localhost:8080/"
    },
    "id": "M0U_ZArSH7Kd",
    "outputId": "cbc545bd-10c2-4d6d-c61e-f7388c366b34"
   },
   "outputs": [
    {
     "data": {
      "text/plain": [
       "1101"
      ]
     },
     "execution_count": 10,
     "metadata": {},
     "output_type": "execute_result"
    }
   ],
   "source": [
    "contract[contract.EndDate!='No']['EndDate'].count()"
   ]
  },
  {
   "cell_type": "markdown",
   "metadata": {
    "id": "-xzwsxBBHjPK"
   },
   "source": [
    "Столбец `EndDate` показывает таргет, можно оценить соотношение оставшихся клиентов и ушедших: 5942 к 1101.  "
   ]
  },
  {
   "cell_type": "code",
   "execution_count": 11,
   "metadata": {
    "colab": {
     "base_uri": "https://localhost:8080/"
    },
    "id": "25irLzS1WGEC",
    "outputId": "2694ed23-f443-46d4-81b9-fdeaab23cc22"
   },
   "outputs": [
    {
     "name": "stdout",
     "output_type": "stream",
     "text": [
      "<class 'pandas.core.frame.DataFrame'>\n",
      "Index: 7043 entries, 7590-VHVEG to 3186-AJIEK\n",
      "Data columns (total 7 columns):\n",
      " #   Column            Non-Null Count  Dtype  \n",
      "---  ------            --------------  -----  \n",
      " 0   BeginDate         7043 non-null   object \n",
      " 1   EndDate           7043 non-null   object \n",
      " 2   Type              7043 non-null   object \n",
      " 3   PaperlessBilling  7043 non-null   object \n",
      " 4   PaymentMethod     7043 non-null   object \n",
      " 5   MonthlyCharges    7043 non-null   float64\n",
      " 6   TotalCharges      7032 non-null   float64\n",
      "dtypes: float64(2), object(5)\n",
      "memory usage: 440.2+ KB\n"
     ]
    }
   ],
   "source": [
    "contract['TotalCharges'] = pd.to_numeric(contract['TotalCharges'], errors='coerce')\n",
    "contract.info()"
   ]
  },
  {
   "cell_type": "code",
   "execution_count": 12,
   "metadata": {
    "colab": {
     "base_uri": "https://localhost:8080/",
     "height": 426
    },
    "id": "zPQ2-xM5Y6Ao",
    "outputId": "af0f6ea0-c47b-4da9-de12-5806d8c7d496"
   },
   "outputs": [
    {
     "data": {
      "text/html": [
       "<div>\n",
       "<style scoped>\n",
       "    .dataframe tbody tr th:only-of-type {\n",
       "        vertical-align: middle;\n",
       "    }\n",
       "\n",
       "    .dataframe tbody tr th {\n",
       "        vertical-align: top;\n",
       "    }\n",
       "\n",
       "    .dataframe thead th {\n",
       "        text-align: right;\n",
       "    }\n",
       "</style>\n",
       "<table border=\"1\" class=\"dataframe\">\n",
       "  <thead>\n",
       "    <tr style=\"text-align: right;\">\n",
       "      <th></th>\n",
       "      <th>BeginDate</th>\n",
       "      <th>EndDate</th>\n",
       "      <th>Type</th>\n",
       "      <th>PaperlessBilling</th>\n",
       "      <th>PaymentMethod</th>\n",
       "      <th>MonthlyCharges</th>\n",
       "      <th>TotalCharges</th>\n",
       "    </tr>\n",
       "    <tr>\n",
       "      <th>customerID</th>\n",
       "      <th></th>\n",
       "      <th></th>\n",
       "      <th></th>\n",
       "      <th></th>\n",
       "      <th></th>\n",
       "      <th></th>\n",
       "      <th></th>\n",
       "    </tr>\n",
       "  </thead>\n",
       "  <tbody>\n",
       "    <tr>\n",
       "      <th>4472-LVYGI</th>\n",
       "      <td>2020-02-01</td>\n",
       "      <td>No</td>\n",
       "      <td>Two year</td>\n",
       "      <td>Yes</td>\n",
       "      <td>Bank transfer (automatic)</td>\n",
       "      <td>52.55</td>\n",
       "      <td>NaN</td>\n",
       "    </tr>\n",
       "    <tr>\n",
       "      <th>3115-CZMZD</th>\n",
       "      <td>2020-02-01</td>\n",
       "      <td>No</td>\n",
       "      <td>Two year</td>\n",
       "      <td>No</td>\n",
       "      <td>Mailed check</td>\n",
       "      <td>20.25</td>\n",
       "      <td>NaN</td>\n",
       "    </tr>\n",
       "    <tr>\n",
       "      <th>5709-LVOEQ</th>\n",
       "      <td>2020-02-01</td>\n",
       "      <td>No</td>\n",
       "      <td>Two year</td>\n",
       "      <td>No</td>\n",
       "      <td>Mailed check</td>\n",
       "      <td>80.85</td>\n",
       "      <td>NaN</td>\n",
       "    </tr>\n",
       "    <tr>\n",
       "      <th>4367-NUYAO</th>\n",
       "      <td>2020-02-01</td>\n",
       "      <td>No</td>\n",
       "      <td>Two year</td>\n",
       "      <td>No</td>\n",
       "      <td>Mailed check</td>\n",
       "      <td>25.75</td>\n",
       "      <td>NaN</td>\n",
       "    </tr>\n",
       "    <tr>\n",
       "      <th>1371-DWPAZ</th>\n",
       "      <td>2020-02-01</td>\n",
       "      <td>No</td>\n",
       "      <td>Two year</td>\n",
       "      <td>No</td>\n",
       "      <td>Credit card (automatic)</td>\n",
       "      <td>56.05</td>\n",
       "      <td>NaN</td>\n",
       "    </tr>\n",
       "    <tr>\n",
       "      <th>7644-OMVMY</th>\n",
       "      <td>2020-02-01</td>\n",
       "      <td>No</td>\n",
       "      <td>Two year</td>\n",
       "      <td>No</td>\n",
       "      <td>Mailed check</td>\n",
       "      <td>19.85</td>\n",
       "      <td>NaN</td>\n",
       "    </tr>\n",
       "    <tr>\n",
       "      <th>3213-VVOLG</th>\n",
       "      <td>2020-02-01</td>\n",
       "      <td>No</td>\n",
       "      <td>Two year</td>\n",
       "      <td>No</td>\n",
       "      <td>Mailed check</td>\n",
       "      <td>25.35</td>\n",
       "      <td>NaN</td>\n",
       "    </tr>\n",
       "    <tr>\n",
       "      <th>2520-SGTTA</th>\n",
       "      <td>2020-02-01</td>\n",
       "      <td>No</td>\n",
       "      <td>Two year</td>\n",
       "      <td>No</td>\n",
       "      <td>Mailed check</td>\n",
       "      <td>20.00</td>\n",
       "      <td>NaN</td>\n",
       "    </tr>\n",
       "    <tr>\n",
       "      <th>2923-ARZLG</th>\n",
       "      <td>2020-02-01</td>\n",
       "      <td>No</td>\n",
       "      <td>One year</td>\n",
       "      <td>Yes</td>\n",
       "      <td>Mailed check</td>\n",
       "      <td>19.70</td>\n",
       "      <td>NaN</td>\n",
       "    </tr>\n",
       "    <tr>\n",
       "      <th>4075-WKNIU</th>\n",
       "      <td>2020-02-01</td>\n",
       "      <td>No</td>\n",
       "      <td>Two year</td>\n",
       "      <td>No</td>\n",
       "      <td>Mailed check</td>\n",
       "      <td>73.35</td>\n",
       "      <td>NaN</td>\n",
       "    </tr>\n",
       "    <tr>\n",
       "      <th>2775-SEFEE</th>\n",
       "      <td>2020-02-01</td>\n",
       "      <td>No</td>\n",
       "      <td>Two year</td>\n",
       "      <td>Yes</td>\n",
       "      <td>Bank transfer (automatic)</td>\n",
       "      <td>61.90</td>\n",
       "      <td>NaN</td>\n",
       "    </tr>\n",
       "  </tbody>\n",
       "</table>\n",
       "</div>"
      ],
      "text/plain": [
       "             BeginDate EndDate      Type PaperlessBilling  \\\n",
       "customerID                                                  \n",
       "4472-LVYGI  2020-02-01      No  Two year              Yes   \n",
       "3115-CZMZD  2020-02-01      No  Two year               No   \n",
       "5709-LVOEQ  2020-02-01      No  Two year               No   \n",
       "4367-NUYAO  2020-02-01      No  Two year               No   \n",
       "1371-DWPAZ  2020-02-01      No  Two year               No   \n",
       "7644-OMVMY  2020-02-01      No  Two year               No   \n",
       "3213-VVOLG  2020-02-01      No  Two year               No   \n",
       "2520-SGTTA  2020-02-01      No  Two year               No   \n",
       "2923-ARZLG  2020-02-01      No  One year              Yes   \n",
       "4075-WKNIU  2020-02-01      No  Two year               No   \n",
       "2775-SEFEE  2020-02-01      No  Two year              Yes   \n",
       "\n",
       "                        PaymentMethod  MonthlyCharges  TotalCharges  \n",
       "customerID                                                           \n",
       "4472-LVYGI  Bank transfer (automatic)           52.55           NaN  \n",
       "3115-CZMZD               Mailed check           20.25           NaN  \n",
       "5709-LVOEQ               Mailed check           80.85           NaN  \n",
       "4367-NUYAO               Mailed check           25.75           NaN  \n",
       "1371-DWPAZ    Credit card (automatic)           56.05           NaN  \n",
       "7644-OMVMY               Mailed check           19.85           NaN  \n",
       "3213-VVOLG               Mailed check           25.35           NaN  \n",
       "2520-SGTTA               Mailed check           20.00           NaN  \n",
       "2923-ARZLG               Mailed check           19.70           NaN  \n",
       "4075-WKNIU               Mailed check           73.35           NaN  \n",
       "2775-SEFEE  Bank transfer (automatic)           61.90           NaN  "
      ]
     },
     "execution_count": 12,
     "metadata": {},
     "output_type": "execute_result"
    }
   ],
   "source": [
    "contract[contract['TotalCharges'].isna()]"
   ]
  },
  {
   "cell_type": "code",
   "execution_count": 13,
   "metadata": {
    "colab": {
     "base_uri": "https://localhost:8080/",
     "height": 426
    },
    "id": "oLCYmivtWITR",
    "outputId": "0b49ebd7-8a47-4d64-aff2-bd6f162b2bcd"
   },
   "outputs": [
    {
     "data": {
      "text/html": [
       "<div>\n",
       "<style scoped>\n",
       "    .dataframe tbody tr th:only-of-type {\n",
       "        vertical-align: middle;\n",
       "    }\n",
       "\n",
       "    .dataframe tbody tr th {\n",
       "        vertical-align: top;\n",
       "    }\n",
       "\n",
       "    .dataframe thead th {\n",
       "        text-align: right;\n",
       "    }\n",
       "</style>\n",
       "<table border=\"1\" class=\"dataframe\">\n",
       "  <thead>\n",
       "    <tr style=\"text-align: right;\">\n",
       "      <th></th>\n",
       "      <th>BeginDate</th>\n",
       "      <th>EndDate</th>\n",
       "      <th>Type</th>\n",
       "      <th>PaperlessBilling</th>\n",
       "      <th>PaymentMethod</th>\n",
       "      <th>MonthlyCharges</th>\n",
       "      <th>TotalCharges</th>\n",
       "    </tr>\n",
       "    <tr>\n",
       "      <th>customerID</th>\n",
       "      <th></th>\n",
       "      <th></th>\n",
       "      <th></th>\n",
       "      <th></th>\n",
       "      <th></th>\n",
       "      <th></th>\n",
       "      <th></th>\n",
       "    </tr>\n",
       "  </thead>\n",
       "  <tbody>\n",
       "    <tr>\n",
       "      <th>4472-LVYGI</th>\n",
       "      <td>2020-02-01</td>\n",
       "      <td>No</td>\n",
       "      <td>Two year</td>\n",
       "      <td>Yes</td>\n",
       "      <td>Bank transfer (automatic)</td>\n",
       "      <td>52.55</td>\n",
       "      <td>NaN</td>\n",
       "    </tr>\n",
       "    <tr>\n",
       "      <th>3115-CZMZD</th>\n",
       "      <td>2020-02-01</td>\n",
       "      <td>No</td>\n",
       "      <td>Two year</td>\n",
       "      <td>No</td>\n",
       "      <td>Mailed check</td>\n",
       "      <td>20.25</td>\n",
       "      <td>NaN</td>\n",
       "    </tr>\n",
       "    <tr>\n",
       "      <th>5709-LVOEQ</th>\n",
       "      <td>2020-02-01</td>\n",
       "      <td>No</td>\n",
       "      <td>Two year</td>\n",
       "      <td>No</td>\n",
       "      <td>Mailed check</td>\n",
       "      <td>80.85</td>\n",
       "      <td>NaN</td>\n",
       "    </tr>\n",
       "    <tr>\n",
       "      <th>4367-NUYAO</th>\n",
       "      <td>2020-02-01</td>\n",
       "      <td>No</td>\n",
       "      <td>Two year</td>\n",
       "      <td>No</td>\n",
       "      <td>Mailed check</td>\n",
       "      <td>25.75</td>\n",
       "      <td>NaN</td>\n",
       "    </tr>\n",
       "    <tr>\n",
       "      <th>1371-DWPAZ</th>\n",
       "      <td>2020-02-01</td>\n",
       "      <td>No</td>\n",
       "      <td>Two year</td>\n",
       "      <td>No</td>\n",
       "      <td>Credit card (automatic)</td>\n",
       "      <td>56.05</td>\n",
       "      <td>NaN</td>\n",
       "    </tr>\n",
       "    <tr>\n",
       "      <th>7644-OMVMY</th>\n",
       "      <td>2020-02-01</td>\n",
       "      <td>No</td>\n",
       "      <td>Two year</td>\n",
       "      <td>No</td>\n",
       "      <td>Mailed check</td>\n",
       "      <td>19.85</td>\n",
       "      <td>NaN</td>\n",
       "    </tr>\n",
       "    <tr>\n",
       "      <th>3213-VVOLG</th>\n",
       "      <td>2020-02-01</td>\n",
       "      <td>No</td>\n",
       "      <td>Two year</td>\n",
       "      <td>No</td>\n",
       "      <td>Mailed check</td>\n",
       "      <td>25.35</td>\n",
       "      <td>NaN</td>\n",
       "    </tr>\n",
       "    <tr>\n",
       "      <th>2520-SGTTA</th>\n",
       "      <td>2020-02-01</td>\n",
       "      <td>No</td>\n",
       "      <td>Two year</td>\n",
       "      <td>No</td>\n",
       "      <td>Mailed check</td>\n",
       "      <td>20.00</td>\n",
       "      <td>NaN</td>\n",
       "    </tr>\n",
       "    <tr>\n",
       "      <th>2923-ARZLG</th>\n",
       "      <td>2020-02-01</td>\n",
       "      <td>No</td>\n",
       "      <td>One year</td>\n",
       "      <td>Yes</td>\n",
       "      <td>Mailed check</td>\n",
       "      <td>19.70</td>\n",
       "      <td>NaN</td>\n",
       "    </tr>\n",
       "    <tr>\n",
       "      <th>4075-WKNIU</th>\n",
       "      <td>2020-02-01</td>\n",
       "      <td>No</td>\n",
       "      <td>Two year</td>\n",
       "      <td>No</td>\n",
       "      <td>Mailed check</td>\n",
       "      <td>73.35</td>\n",
       "      <td>NaN</td>\n",
       "    </tr>\n",
       "    <tr>\n",
       "      <th>2775-SEFEE</th>\n",
       "      <td>2020-02-01</td>\n",
       "      <td>No</td>\n",
       "      <td>Two year</td>\n",
       "      <td>Yes</td>\n",
       "      <td>Bank transfer (automatic)</td>\n",
       "      <td>61.90</td>\n",
       "      <td>NaN</td>\n",
       "    </tr>\n",
       "  </tbody>\n",
       "</table>\n",
       "</div>"
      ],
      "text/plain": [
       "             BeginDate EndDate      Type PaperlessBilling  \\\n",
       "customerID                                                  \n",
       "4472-LVYGI  2020-02-01      No  Two year              Yes   \n",
       "3115-CZMZD  2020-02-01      No  Two year               No   \n",
       "5709-LVOEQ  2020-02-01      No  Two year               No   \n",
       "4367-NUYAO  2020-02-01      No  Two year               No   \n",
       "1371-DWPAZ  2020-02-01      No  Two year               No   \n",
       "7644-OMVMY  2020-02-01      No  Two year               No   \n",
       "3213-VVOLG  2020-02-01      No  Two year               No   \n",
       "2520-SGTTA  2020-02-01      No  Two year               No   \n",
       "2923-ARZLG  2020-02-01      No  One year              Yes   \n",
       "4075-WKNIU  2020-02-01      No  Two year               No   \n",
       "2775-SEFEE  2020-02-01      No  Two year              Yes   \n",
       "\n",
       "                        PaymentMethod  MonthlyCharges  TotalCharges  \n",
       "customerID                                                           \n",
       "4472-LVYGI  Bank transfer (automatic)           52.55           NaN  \n",
       "3115-CZMZD               Mailed check           20.25           NaN  \n",
       "5709-LVOEQ               Mailed check           80.85           NaN  \n",
       "4367-NUYAO               Mailed check           25.75           NaN  \n",
       "1371-DWPAZ    Credit card (automatic)           56.05           NaN  \n",
       "7644-OMVMY               Mailed check           19.85           NaN  \n",
       "3213-VVOLG               Mailed check           25.35           NaN  \n",
       "2520-SGTTA               Mailed check           20.00           NaN  \n",
       "2923-ARZLG               Mailed check           19.70           NaN  \n",
       "4075-WKNIU               Mailed check           73.35           NaN  \n",
       "2775-SEFEE  Bank transfer (automatic)           61.90           NaN  "
      ]
     },
     "execution_count": 13,
     "metadata": {},
     "output_type": "execute_result"
    }
   ],
   "source": [
    "contract[contract['BeginDate']=='2020-02-01']"
   ]
  },
  {
   "cell_type": "markdown",
   "metadata": {
    "id": "J4TK9KOzZps_"
   },
   "source": [
    "Похоже, что пропуски в `TotalCharges` появились у новых клиентов.  \n",
    "Поэтому заполним их данными из столбца `MonthlyCharges`"
   ]
  },
  {
   "cell_type": "code",
   "execution_count": 14,
   "metadata": {
    "id": "cJOjNzvjZxtz"
   },
   "outputs": [],
   "source": [
    "contract['TotalCharges'] = contract['TotalCharges'].fillna(contract['MonthlyCharges'])"
   ]
  },
  {
   "cell_type": "code",
   "execution_count": 15,
   "metadata": {
    "colab": {
     "base_uri": "https://localhost:8080/",
     "height": 426
    },
    "id": "PQMAeOKaasHI",
    "outputId": "e6e356fa-61bb-427a-e304-c032599e99ee"
   },
   "outputs": [
    {
     "data": {
      "text/html": [
       "<div>\n",
       "<style scoped>\n",
       "    .dataframe tbody tr th:only-of-type {\n",
       "        vertical-align: middle;\n",
       "    }\n",
       "\n",
       "    .dataframe tbody tr th {\n",
       "        vertical-align: top;\n",
       "    }\n",
       "\n",
       "    .dataframe thead th {\n",
       "        text-align: right;\n",
       "    }\n",
       "</style>\n",
       "<table border=\"1\" class=\"dataframe\">\n",
       "  <thead>\n",
       "    <tr style=\"text-align: right;\">\n",
       "      <th></th>\n",
       "      <th>BeginDate</th>\n",
       "      <th>EndDate</th>\n",
       "      <th>Type</th>\n",
       "      <th>PaperlessBilling</th>\n",
       "      <th>PaymentMethod</th>\n",
       "      <th>MonthlyCharges</th>\n",
       "      <th>TotalCharges</th>\n",
       "    </tr>\n",
       "    <tr>\n",
       "      <th>customerID</th>\n",
       "      <th></th>\n",
       "      <th></th>\n",
       "      <th></th>\n",
       "      <th></th>\n",
       "      <th></th>\n",
       "      <th></th>\n",
       "      <th></th>\n",
       "    </tr>\n",
       "  </thead>\n",
       "  <tbody>\n",
       "    <tr>\n",
       "      <th>4472-LVYGI</th>\n",
       "      <td>2020-02-01</td>\n",
       "      <td>No</td>\n",
       "      <td>Two year</td>\n",
       "      <td>Yes</td>\n",
       "      <td>Bank transfer (automatic)</td>\n",
       "      <td>52.55</td>\n",
       "      <td>52.55</td>\n",
       "    </tr>\n",
       "    <tr>\n",
       "      <th>3115-CZMZD</th>\n",
       "      <td>2020-02-01</td>\n",
       "      <td>No</td>\n",
       "      <td>Two year</td>\n",
       "      <td>No</td>\n",
       "      <td>Mailed check</td>\n",
       "      <td>20.25</td>\n",
       "      <td>20.25</td>\n",
       "    </tr>\n",
       "    <tr>\n",
       "      <th>5709-LVOEQ</th>\n",
       "      <td>2020-02-01</td>\n",
       "      <td>No</td>\n",
       "      <td>Two year</td>\n",
       "      <td>No</td>\n",
       "      <td>Mailed check</td>\n",
       "      <td>80.85</td>\n",
       "      <td>80.85</td>\n",
       "    </tr>\n",
       "    <tr>\n",
       "      <th>4367-NUYAO</th>\n",
       "      <td>2020-02-01</td>\n",
       "      <td>No</td>\n",
       "      <td>Two year</td>\n",
       "      <td>No</td>\n",
       "      <td>Mailed check</td>\n",
       "      <td>25.75</td>\n",
       "      <td>25.75</td>\n",
       "    </tr>\n",
       "    <tr>\n",
       "      <th>1371-DWPAZ</th>\n",
       "      <td>2020-02-01</td>\n",
       "      <td>No</td>\n",
       "      <td>Two year</td>\n",
       "      <td>No</td>\n",
       "      <td>Credit card (automatic)</td>\n",
       "      <td>56.05</td>\n",
       "      <td>56.05</td>\n",
       "    </tr>\n",
       "    <tr>\n",
       "      <th>7644-OMVMY</th>\n",
       "      <td>2020-02-01</td>\n",
       "      <td>No</td>\n",
       "      <td>Two year</td>\n",
       "      <td>No</td>\n",
       "      <td>Mailed check</td>\n",
       "      <td>19.85</td>\n",
       "      <td>19.85</td>\n",
       "    </tr>\n",
       "    <tr>\n",
       "      <th>3213-VVOLG</th>\n",
       "      <td>2020-02-01</td>\n",
       "      <td>No</td>\n",
       "      <td>Two year</td>\n",
       "      <td>No</td>\n",
       "      <td>Mailed check</td>\n",
       "      <td>25.35</td>\n",
       "      <td>25.35</td>\n",
       "    </tr>\n",
       "    <tr>\n",
       "      <th>2520-SGTTA</th>\n",
       "      <td>2020-02-01</td>\n",
       "      <td>No</td>\n",
       "      <td>Two year</td>\n",
       "      <td>No</td>\n",
       "      <td>Mailed check</td>\n",
       "      <td>20.00</td>\n",
       "      <td>20.00</td>\n",
       "    </tr>\n",
       "    <tr>\n",
       "      <th>2923-ARZLG</th>\n",
       "      <td>2020-02-01</td>\n",
       "      <td>No</td>\n",
       "      <td>One year</td>\n",
       "      <td>Yes</td>\n",
       "      <td>Mailed check</td>\n",
       "      <td>19.70</td>\n",
       "      <td>19.70</td>\n",
       "    </tr>\n",
       "    <tr>\n",
       "      <th>4075-WKNIU</th>\n",
       "      <td>2020-02-01</td>\n",
       "      <td>No</td>\n",
       "      <td>Two year</td>\n",
       "      <td>No</td>\n",
       "      <td>Mailed check</td>\n",
       "      <td>73.35</td>\n",
       "      <td>73.35</td>\n",
       "    </tr>\n",
       "    <tr>\n",
       "      <th>2775-SEFEE</th>\n",
       "      <td>2020-02-01</td>\n",
       "      <td>No</td>\n",
       "      <td>Two year</td>\n",
       "      <td>Yes</td>\n",
       "      <td>Bank transfer (automatic)</td>\n",
       "      <td>61.90</td>\n",
       "      <td>61.90</td>\n",
       "    </tr>\n",
       "  </tbody>\n",
       "</table>\n",
       "</div>"
      ],
      "text/plain": [
       "             BeginDate EndDate      Type PaperlessBilling  \\\n",
       "customerID                                                  \n",
       "4472-LVYGI  2020-02-01      No  Two year              Yes   \n",
       "3115-CZMZD  2020-02-01      No  Two year               No   \n",
       "5709-LVOEQ  2020-02-01      No  Two year               No   \n",
       "4367-NUYAO  2020-02-01      No  Two year               No   \n",
       "1371-DWPAZ  2020-02-01      No  Two year               No   \n",
       "7644-OMVMY  2020-02-01      No  Two year               No   \n",
       "3213-VVOLG  2020-02-01      No  Two year               No   \n",
       "2520-SGTTA  2020-02-01      No  Two year               No   \n",
       "2923-ARZLG  2020-02-01      No  One year              Yes   \n",
       "4075-WKNIU  2020-02-01      No  Two year               No   \n",
       "2775-SEFEE  2020-02-01      No  Two year              Yes   \n",
       "\n",
       "                        PaymentMethod  MonthlyCharges  TotalCharges  \n",
       "customerID                                                           \n",
       "4472-LVYGI  Bank transfer (automatic)           52.55         52.55  \n",
       "3115-CZMZD               Mailed check           20.25         20.25  \n",
       "5709-LVOEQ               Mailed check           80.85         80.85  \n",
       "4367-NUYAO               Mailed check           25.75         25.75  \n",
       "1371-DWPAZ    Credit card (automatic)           56.05         56.05  \n",
       "7644-OMVMY               Mailed check           19.85         19.85  \n",
       "3213-VVOLG               Mailed check           25.35         25.35  \n",
       "2520-SGTTA               Mailed check           20.00         20.00  \n",
       "2923-ARZLG               Mailed check           19.70         19.70  \n",
       "4075-WKNIU               Mailed check           73.35         73.35  \n",
       "2775-SEFEE  Bank transfer (automatic)           61.90         61.90  "
      ]
     },
     "execution_count": 15,
     "metadata": {},
     "output_type": "execute_result"
    }
   ],
   "source": [
    "contract[contract['BeginDate']=='2020-02-01']"
   ]
  },
  {
   "cell_type": "code",
   "execution_count": 16,
   "metadata": {
    "colab": {
     "base_uri": "https://localhost:8080/",
     "height": 300
    },
    "id": "M43RUX5qobG8",
    "outputId": "658f0a32-2eef-4674-aca5-25fa03f91cf8"
   },
   "outputs": [
    {
     "data": {
      "text/html": [
       "<div>\n",
       "<style scoped>\n",
       "    .dataframe tbody tr th:only-of-type {\n",
       "        vertical-align: middle;\n",
       "    }\n",
       "\n",
       "    .dataframe tbody tr th {\n",
       "        vertical-align: top;\n",
       "    }\n",
       "\n",
       "    .dataframe thead th {\n",
       "        text-align: right;\n",
       "    }\n",
       "</style>\n",
       "<table border=\"1\" class=\"dataframe\">\n",
       "  <thead>\n",
       "    <tr style=\"text-align: right;\">\n",
       "      <th></th>\n",
       "      <th>MonthlyCharges</th>\n",
       "      <th>TotalCharges</th>\n",
       "    </tr>\n",
       "  </thead>\n",
       "  <tbody>\n",
       "    <tr>\n",
       "      <th>count</th>\n",
       "      <td>7043.000000</td>\n",
       "      <td>7043.000000</td>\n",
       "    </tr>\n",
       "    <tr>\n",
       "      <th>mean</th>\n",
       "      <td>64.761692</td>\n",
       "      <td>2115.377573</td>\n",
       "    </tr>\n",
       "    <tr>\n",
       "      <th>std</th>\n",
       "      <td>30.090047</td>\n",
       "      <td>2112.678861</td>\n",
       "    </tr>\n",
       "    <tr>\n",
       "      <th>min</th>\n",
       "      <td>18.250000</td>\n",
       "      <td>19.050000</td>\n",
       "    </tr>\n",
       "    <tr>\n",
       "      <th>25%</th>\n",
       "      <td>35.500000</td>\n",
       "      <td>436.750000</td>\n",
       "    </tr>\n",
       "    <tr>\n",
       "      <th>50%</th>\n",
       "      <td>70.350000</td>\n",
       "      <td>1343.350000</td>\n",
       "    </tr>\n",
       "    <tr>\n",
       "      <th>75%</th>\n",
       "      <td>89.850000</td>\n",
       "      <td>3236.690000</td>\n",
       "    </tr>\n",
       "    <tr>\n",
       "      <th>max</th>\n",
       "      <td>118.750000</td>\n",
       "      <td>9221.380000</td>\n",
       "    </tr>\n",
       "  </tbody>\n",
       "</table>\n",
       "</div>"
      ],
      "text/plain": [
       "       MonthlyCharges  TotalCharges\n",
       "count     7043.000000   7043.000000\n",
       "mean        64.761692   2115.377573\n",
       "std         30.090047   2112.678861\n",
       "min         18.250000     19.050000\n",
       "25%         35.500000    436.750000\n",
       "50%         70.350000   1343.350000\n",
       "75%         89.850000   3236.690000\n",
       "max        118.750000   9221.380000"
      ]
     },
     "execution_count": 16,
     "metadata": {},
     "output_type": "execute_result"
    }
   ],
   "source": [
    "contract.describe()"
   ]
  },
  {
   "cell_type": "code",
   "execution_count": 17,
   "metadata": {
    "colab": {
     "base_uri": "https://localhost:8080/",
     "height": 410
    },
    "id": "aML-vxFqLbgD",
    "outputId": "679f172e-f642-433b-8cc4-8ae75e58d893"
   },
   "outputs": [
    {
     "data": {
      "image/png": "[encoded data removed]",
      "text/plain": [
       "<Figure size 720x288 with 1 Axes>"
      ]
     },
     "metadata": {
      "needs_background": "light"
     },
     "output_type": "display_data"
    }
   ],
   "source": [
    "plt.figure(figsize=(10,4))\n",
    "contract['MonthlyCharges'].plot(kind='hist', bins=50)\n",
    "plt.legend()\n",
    "plt.xlabel('Оплата за месяц')\n",
    "plt.ylabel('Количество клиентов')\n",
    "plt.title('Оплата за месяц')\n",
    "plt.grid()\n",
    "plt.show()"
   ]
  },
  {
   "cell_type": "code",
   "execution_count": 18,
   "metadata": {
    "colab": {
     "base_uri": "https://localhost:8080/",
     "height": 410
    },
    "id": "zrgBELh2JZBu",
    "outputId": "6b12bb3e-821e-4615-ea31-f044a3b9efc7"
   },
   "outputs": [
    {
     "data": {
      "image/png": "[encoded data removed]",
      "text/plain": [
       "<Figure size 720x288 with 1 Axes>"
      ]
     },
     "metadata": {
      "needs_background": "light"
     },
     "output_type": "display_data"
    }
   ],
   "source": [
    "plt.figure(figsize=(10,4))\n",
    "contract['TotalCharges'].plot(kind='hist', bins=50)\n",
    "plt.legend()\n",
    "plt.xlabel('Полная стоимость услуг')\n",
    "plt.ylabel('Количество клиентов')\n",
    "plt.title('Полная стоимость услуг')\n",
    "plt.grid()\n",
    "plt.show()"
   ]
  },
  {
   "cell_type": "markdown",
   "metadata": {
    "id": "7QAioAtjpkrU"
   },
   "source": [
    "Рассмотрим второй файл - `internet_new`  с информацией о подключении к интернету."
   ]
  },
  {
   "cell_type": "code",
   "execution_count": 19,
   "metadata": {
    "colab": {
     "base_uri": "https://localhost:8080/",
     "height": 238
    },
    "id": "_x9WTUZ6pGBy",
    "outputId": "7c895741-e81c-43dd-b0f7-b292e67955ca"
   },
   "outputs": [
    {
     "data": {
      "text/html": [
       "<div>\n",
       "<style scoped>\n",
       "    .dataframe tbody tr th:only-of-type {\n",
       "        vertical-align: middle;\n",
       "    }\n",
       "\n",
       "    .dataframe tbody tr th {\n",
       "        vertical-align: top;\n",
       "    }\n",
       "\n",
       "    .dataframe thead th {\n",
       "        text-align: right;\n",
       "    }\n",
       "</style>\n",
       "<table border=\"1\" class=\"dataframe\">\n",
       "  <thead>\n",
       "    <tr style=\"text-align: right;\">\n",
       "      <th></th>\n",
       "      <th>InternetService</th>\n",
       "      <th>OnlineSecurity</th>\n",
       "      <th>OnlineBackup</th>\n",
       "      <th>DeviceProtection</th>\n",
       "      <th>TechSupport</th>\n",
       "      <th>StreamingTV</th>\n",
       "      <th>StreamingMovies</th>\n",
       "    </tr>\n",
       "    <tr>\n",
       "      <th>customerID</th>\n",
       "      <th></th>\n",
       "      <th></th>\n",
       "      <th></th>\n",
       "      <th></th>\n",
       "      <th></th>\n",
       "      <th></th>\n",
       "      <th></th>\n",
       "    </tr>\n",
       "  </thead>\n",
       "  <tbody>\n",
       "    <tr>\n",
       "      <th>7590-VHVEG</th>\n",
       "      <td>DSL</td>\n",
       "      <td>No</td>\n",
       "      <td>Yes</td>\n",
       "      <td>No</td>\n",
       "      <td>No</td>\n",
       "      <td>No</td>\n",
       "      <td>No</td>\n",
       "    </tr>\n",
       "    <tr>\n",
       "      <th>5575-GNVDE</th>\n",
       "      <td>DSL</td>\n",
       "      <td>Yes</td>\n",
       "      <td>No</td>\n",
       "      <td>Yes</td>\n",
       "      <td>No</td>\n",
       "      <td>No</td>\n",
       "      <td>No</td>\n",
       "    </tr>\n",
       "    <tr>\n",
       "      <th>3668-QPYBK</th>\n",
       "      <td>DSL</td>\n",
       "      <td>Yes</td>\n",
       "      <td>Yes</td>\n",
       "      <td>No</td>\n",
       "      <td>No</td>\n",
       "      <td>No</td>\n",
       "      <td>No</td>\n",
       "    </tr>\n",
       "    <tr>\n",
       "      <th>7795-CFOCW</th>\n",
       "      <td>DSL</td>\n",
       "      <td>Yes</td>\n",
       "      <td>No</td>\n",
       "      <td>Yes</td>\n",
       "      <td>Yes</td>\n",
       "      <td>No</td>\n",
       "      <td>No</td>\n",
       "    </tr>\n",
       "    <tr>\n",
       "      <th>9237-HQITU</th>\n",
       "      <td>Fiber optic</td>\n",
       "      <td>No</td>\n",
       "      <td>No</td>\n",
       "      <td>No</td>\n",
       "      <td>No</td>\n",
       "      <td>No</td>\n",
       "      <td>No</td>\n",
       "    </tr>\n",
       "  </tbody>\n",
       "</table>\n",
       "</div>"
      ],
      "text/plain": [
       "           InternetService OnlineSecurity OnlineBackup DeviceProtection  \\\n",
       "customerID                                                                \n",
       "7590-VHVEG             DSL             No          Yes               No   \n",
       "5575-GNVDE             DSL            Yes           No              Yes   \n",
       "3668-QPYBK             DSL            Yes          Yes               No   \n",
       "7795-CFOCW             DSL            Yes           No              Yes   \n",
       "9237-HQITU     Fiber optic             No           No               No   \n",
       "\n",
       "           TechSupport StreamingTV StreamingMovies  \n",
       "customerID                                          \n",
       "7590-VHVEG          No          No              No  \n",
       "5575-GNVDE          No          No              No  \n",
       "3668-QPYBK          No          No              No  \n",
       "7795-CFOCW         Yes          No              No  \n",
       "9237-HQITU          No          No              No  "
      ]
     },
     "execution_count": 19,
     "metadata": {},
     "output_type": "execute_result"
    }
   ],
   "source": [
    "internet.head()"
   ]
  },
  {
   "cell_type": "code",
   "execution_count": 20,
   "metadata": {
    "colab": {
     "base_uri": "https://localhost:8080/"
    },
    "id": "v4mXjN98r5wK",
    "outputId": "ac8b8c22-c1ce-4c5d-f8d4-4b8e0f4a0386"
   },
   "outputs": [
    {
     "name": "stdout",
     "output_type": "stream",
     "text": [
      "<class 'pandas.core.frame.DataFrame'>\n",
      "Index: 5517 entries, 7590-VHVEG to 3186-AJIEK\n",
      "Data columns (total 7 columns):\n",
      " #   Column            Non-Null Count  Dtype \n",
      "---  ------            --------------  ----- \n",
      " 0   InternetService   5517 non-null   object\n",
      " 1   OnlineSecurity    5517 non-null   object\n",
      " 2   OnlineBackup      5517 non-null   object\n",
      " 3   DeviceProtection  5517 non-null   object\n",
      " 4   TechSupport       5517 non-null   object\n",
      " 5   StreamingTV       5517 non-null   object\n",
      " 6   StreamingMovies   5517 non-null   object\n",
      "dtypes: object(7)\n",
      "memory usage: 344.8+ KB\n"
     ]
    }
   ],
   "source": [
    "internet.info()"
   ]
  },
  {
   "cell_type": "markdown",
   "metadata": {
    "id": "KudZDBY4sajF"
   },
   "source": [
    "Рассмотрим третий файл - `personal_new`  с информацией о клиентах."
   ]
  },
  {
   "cell_type": "code",
   "execution_count": 21,
   "metadata": {
    "colab": {
     "base_uri": "https://localhost:8080/",
     "height": 238
    },
    "id": "IjZ4wXKArd6n",
    "outputId": "a3ec0cfe-98aa-40a5-9ee5-123f3c6b3b2b"
   },
   "outputs": [
    {
     "data": {
      "text/html": [
       "<div>\n",
       "<style scoped>\n",
       "    .dataframe tbody tr th:only-of-type {\n",
       "        vertical-align: middle;\n",
       "    }\n",
       "\n",
       "    .dataframe tbody tr th {\n",
       "        vertical-align: top;\n",
       "    }\n",
       "\n",
       "    .dataframe thead th {\n",
       "        text-align: right;\n",
       "    }\n",
       "</style>\n",
       "<table border=\"1\" class=\"dataframe\">\n",
       "  <thead>\n",
       "    <tr style=\"text-align: right;\">\n",
       "      <th></th>\n",
       "      <th>gender</th>\n",
       "      <th>SeniorCitizen</th>\n",
       "      <th>Partner</th>\n",
       "      <th>Dependents</th>\n",
       "    </tr>\n",
       "    <tr>\n",
       "      <th>customerID</th>\n",
       "      <th></th>\n",
       "      <th></th>\n",
       "      <th></th>\n",
       "      <th></th>\n",
       "    </tr>\n",
       "  </thead>\n",
       "  <tbody>\n",
       "    <tr>\n",
       "      <th>7590-VHVEG</th>\n",
       "      <td>Female</td>\n",
       "      <td>0</td>\n",
       "      <td>Yes</td>\n",
       "      <td>No</td>\n",
       "    </tr>\n",
       "    <tr>\n",
       "      <th>5575-GNVDE</th>\n",
       "      <td>Male</td>\n",
       "      <td>0</td>\n",
       "      <td>No</td>\n",
       "      <td>No</td>\n",
       "    </tr>\n",
       "    <tr>\n",
       "      <th>3668-QPYBK</th>\n",
       "      <td>Male</td>\n",
       "      <td>0</td>\n",
       "      <td>No</td>\n",
       "      <td>No</td>\n",
       "    </tr>\n",
       "    <tr>\n",
       "      <th>7795-CFOCW</th>\n",
       "      <td>Male</td>\n",
       "      <td>0</td>\n",
       "      <td>No</td>\n",
       "      <td>No</td>\n",
       "    </tr>\n",
       "    <tr>\n",
       "      <th>9237-HQITU</th>\n",
       "      <td>Female</td>\n",
       "      <td>0</td>\n",
       "      <td>No</td>\n",
       "      <td>No</td>\n",
       "    </tr>\n",
       "  </tbody>\n",
       "</table>\n",
       "</div>"
      ],
      "text/plain": [
       "            gender  SeniorCitizen Partner Dependents\n",
       "customerID                                          \n",
       "7590-VHVEG  Female              0     Yes         No\n",
       "5575-GNVDE    Male              0      No         No\n",
       "3668-QPYBK    Male              0      No         No\n",
       "7795-CFOCW    Male              0      No         No\n",
       "9237-HQITU  Female              0      No         No"
      ]
     },
     "execution_count": 21,
     "metadata": {},
     "output_type": "execute_result"
    }
   ],
   "source": [
    "personal.head()"
   ]
  },
  {
   "cell_type": "code",
   "execution_count": 22,
   "metadata": {
    "colab": {
     "base_uri": "https://localhost:8080/"
    },
    "id": "riiiRYFZsEC6",
    "outputId": "d66d71cd-93d1-4626-e753-244c0da4ace5"
   },
   "outputs": [
    {
     "name": "stdout",
     "output_type": "stream",
     "text": [
      "<class 'pandas.core.frame.DataFrame'>\n",
      "Index: 7043 entries, 7590-VHVEG to 3186-AJIEK\n",
      "Data columns (total 4 columns):\n",
      " #   Column         Non-Null Count  Dtype \n",
      "---  ------         --------------  ----- \n",
      " 0   gender         7043 non-null   object\n",
      " 1   SeniorCitizen  7043 non-null   int64 \n",
      " 2   Partner        7043 non-null   object\n",
      " 3   Dependents     7043 non-null   object\n",
      "dtypes: int64(1), object(3)\n",
      "memory usage: 275.1+ KB\n"
     ]
    }
   ],
   "source": [
    "personal.info()"
   ]
  },
  {
   "cell_type": "code",
   "execution_count": 23,
   "metadata": {
    "colab": {
     "base_uri": "https://localhost:8080/"
    },
    "id": "25iH4LF9sIZJ",
    "outputId": "1dd067a6-5038-45c3-b7bc-c788fe5b8a27"
   },
   "outputs": [
    {
     "data": {
      "text/plain": [
       "No     4933\n",
       "Yes    2110\n",
       "Name: Dependents, dtype: int64"
      ]
     },
     "execution_count": 23,
     "metadata": {},
     "output_type": "execute_result"
    }
   ],
   "source": [
    "personal.Dependents.value_counts()"
   ]
  },
  {
   "cell_type": "markdown",
   "metadata": {
    "id": "P8LCGmzRswp3"
   },
   "source": [
    "Рассмотрим четвертый файл - `phone_new`  с информацией о подключении к телефону."
   ]
  },
  {
   "cell_type": "code",
   "execution_count": 24,
   "metadata": {
    "colab": {
     "base_uri": "https://localhost:8080/",
     "height": 238
    },
    "id": "ODJi6ib9rrhd",
    "outputId": "6ae670eb-b24c-49c4-f39d-fb3d16483ef5"
   },
   "outputs": [
    {
     "data": {
      "text/html": [
       "<div>\n",
       "<style scoped>\n",
       "    .dataframe tbody tr th:only-of-type {\n",
       "        vertical-align: middle;\n",
       "    }\n",
       "\n",
       "    .dataframe tbody tr th {\n",
       "        vertical-align: top;\n",
       "    }\n",
       "\n",
       "    .dataframe thead th {\n",
       "        text-align: right;\n",
       "    }\n",
       "</style>\n",
       "<table border=\"1\" class=\"dataframe\">\n",
       "  <thead>\n",
       "    <tr style=\"text-align: right;\">\n",
       "      <th></th>\n",
       "      <th>MultipleLines</th>\n",
       "    </tr>\n",
       "    <tr>\n",
       "      <th>customerID</th>\n",
       "      <th></th>\n",
       "    </tr>\n",
       "  </thead>\n",
       "  <tbody>\n",
       "    <tr>\n",
       "      <th>5575-GNVDE</th>\n",
       "      <td>No</td>\n",
       "    </tr>\n",
       "    <tr>\n",
       "      <th>3668-QPYBK</th>\n",
       "      <td>No</td>\n",
       "    </tr>\n",
       "    <tr>\n",
       "      <th>9237-HQITU</th>\n",
       "      <td>No</td>\n",
       "    </tr>\n",
       "    <tr>\n",
       "      <th>9305-CDSKC</th>\n",
       "      <td>Yes</td>\n",
       "    </tr>\n",
       "    <tr>\n",
       "      <th>1452-KIOVK</th>\n",
       "      <td>Yes</td>\n",
       "    </tr>\n",
       "  </tbody>\n",
       "</table>\n",
       "</div>"
      ],
      "text/plain": [
       "           MultipleLines\n",
       "customerID              \n",
       "5575-GNVDE            No\n",
       "3668-QPYBK            No\n",
       "9237-HQITU            No\n",
       "9305-CDSKC           Yes\n",
       "1452-KIOVK           Yes"
      ]
     },
     "execution_count": 24,
     "metadata": {},
     "output_type": "execute_result"
    }
   ],
   "source": [
    "phone.head()"
   ]
  },
  {
   "cell_type": "code",
   "execution_count": 25,
   "metadata": {
    "colab": {
     "base_uri": "https://localhost:8080/"
    },
    "id": "2hyaKaGBr4UV",
    "outputId": "90ae875e-1d80-46ee-8f96-871d2f3903a4"
   },
   "outputs": [
    {
     "name": "stdout",
     "output_type": "stream",
     "text": [
      "<class 'pandas.core.frame.DataFrame'>\n",
      "Index: 6361 entries, 5575-GNVDE to 3186-AJIEK\n",
      "Data columns (total 1 columns):\n",
      " #   Column         Non-Null Count  Dtype \n",
      "---  ------         --------------  ----- \n",
      " 0   MultipleLines  6361 non-null   object\n",
      "dtypes: object(1)\n",
      "memory usage: 99.4+ KB\n"
     ]
    }
   ],
   "source": [
    "phone.info()"
   ]
  },
  {
   "cell_type": "markdown",
   "metadata": {},
   "source": [
    "Объединим все таблицы в общий датафрейм"
   ]
  },
  {
   "cell_type": "code",
   "execution_count": 26,
   "metadata": {
    "id": "6TIzxDcvtiMR"
   },
   "outputs": [],
   "source": [
    "df = contract.join([personal, phone, internet], how='left')"
   ]
  },
  {
   "cell_type": "code",
   "execution_count": 27,
   "metadata": {
    "colab": {
     "base_uri": "https://localhost:8080/"
    },
    "id": "01FwoKsk-zUP",
    "outputId": "f29f2e57-3a26-4401-fff8-c45d0aa043af"
   },
   "outputs": [
    {
     "name": "stdout",
     "output_type": "stream",
     "text": [
      "<class 'pandas.core.frame.DataFrame'>\n",
      "Index: 7043 entries, 7590-VHVEG to 3186-AJIEK\n",
      "Data columns (total 19 columns):\n",
      " #   Column            Non-Null Count  Dtype  \n",
      "---  ------            --------------  -----  \n",
      " 0   BeginDate         7043 non-null   object \n",
      " 1   EndDate           7043 non-null   object \n",
      " 2   Type              7043 non-null   object \n",
      " 3   PaperlessBilling  7043 non-null   object \n",
      " 4   PaymentMethod     7043 non-null   object \n",
      " 5   MonthlyCharges    7043 non-null   float64\n",
      " 6   TotalCharges      7043 non-null   float64\n",
      " 7   gender            7043 non-null   object \n",
      " 8   SeniorCitizen     7043 non-null   int64  \n",
      " 9   Partner           7043 non-null   object \n",
      " 10  Dependents        7043 non-null   object \n",
      " 11  MultipleLines     6361 non-null   object \n",
      " 12  InternetService   5517 non-null   object \n",
      " 13  OnlineSecurity    5517 non-null   object \n",
      " 14  OnlineBackup      5517 non-null   object \n",
      " 15  DeviceProtection  5517 non-null   object \n",
      " 16  TechSupport       5517 non-null   object \n",
      " 17  StreamingTV       5517 non-null   object \n",
      " 18  StreamingMovies   5517 non-null   object \n",
      "dtypes: float64(2), int64(1), object(16)\n",
      "memory usage: 1.1+ MB\n"
     ]
    }
   ],
   "source": [
    "df.info()"
   ]
  },
  {
   "cell_type": "code",
   "execution_count": 28,
   "metadata": {
    "colab": {
     "base_uri": "https://localhost:8080/",
     "height": 396
    },
    "id": "plZIe-Ml_PlG",
    "outputId": "28c690ff-c4e2-43ee-96a5-32de12505fcf",
    "scrolled": true
   },
   "outputs": [
    {
     "data": {
      "text/html": [
       "<div>\n",
       "<style scoped>\n",
       "    .dataframe tbody tr th:only-of-type {\n",
       "        vertical-align: middle;\n",
       "    }\n",
       "\n",
       "    .dataframe tbody tr th {\n",
       "        vertical-align: top;\n",
       "    }\n",
       "\n",
       "    .dataframe thead th {\n",
       "        text-align: right;\n",
       "    }\n",
       "</style>\n",
       "<table border=\"1\" class=\"dataframe\">\n",
       "  <thead>\n",
       "    <tr style=\"text-align: right;\">\n",
       "      <th></th>\n",
       "      <th>BeginDate</th>\n",
       "      <th>EndDate</th>\n",
       "      <th>Type</th>\n",
       "      <th>PaperlessBilling</th>\n",
       "      <th>PaymentMethod</th>\n",
       "      <th>MonthlyCharges</th>\n",
       "      <th>TotalCharges</th>\n",
       "      <th>gender</th>\n",
       "      <th>SeniorCitizen</th>\n",
       "      <th>Partner</th>\n",
       "      <th>Dependents</th>\n",
       "      <th>MultipleLines</th>\n",
       "      <th>InternetService</th>\n",
       "      <th>OnlineSecurity</th>\n",
       "      <th>OnlineBackup</th>\n",
       "      <th>DeviceProtection</th>\n",
       "      <th>TechSupport</th>\n",
       "      <th>StreamingTV</th>\n",
       "      <th>StreamingMovies</th>\n",
       "    </tr>\n",
       "    <tr>\n",
       "      <th>customerID</th>\n",
       "      <th></th>\n",
       "      <th></th>\n",
       "      <th></th>\n",
       "      <th></th>\n",
       "      <th></th>\n",
       "      <th></th>\n",
       "      <th></th>\n",
       "      <th></th>\n",
       "      <th></th>\n",
       "      <th></th>\n",
       "      <th></th>\n",
       "      <th></th>\n",
       "      <th></th>\n",
       "      <th></th>\n",
       "      <th></th>\n",
       "      <th></th>\n",
       "      <th></th>\n",
       "      <th></th>\n",
       "      <th></th>\n",
       "    </tr>\n",
       "  </thead>\n",
       "  <tbody>\n",
       "    <tr>\n",
       "      <th>7590-VHVEG</th>\n",
       "      <td>2020-01-01</td>\n",
       "      <td>No</td>\n",
       "      <td>Month-to-month</td>\n",
       "      <td>Yes</td>\n",
       "      <td>Electronic check</td>\n",
       "      <td>29.85</td>\n",
       "      <td>31.04</td>\n",
       "      <td>Female</td>\n",
       "      <td>0</td>\n",
       "      <td>Yes</td>\n",
       "      <td>No</td>\n",
       "      <td>NaN</td>\n",
       "      <td>DSL</td>\n",
       "      <td>No</td>\n",
       "      <td>Yes</td>\n",
       "      <td>No</td>\n",
       "      <td>No</td>\n",
       "      <td>No</td>\n",
       "      <td>No</td>\n",
       "    </tr>\n",
       "    <tr>\n",
       "      <th>5575-GNVDE</th>\n",
       "      <td>2017-04-01</td>\n",
       "      <td>No</td>\n",
       "      <td>One year</td>\n",
       "      <td>No</td>\n",
       "      <td>Mailed check</td>\n",
       "      <td>56.95</td>\n",
       "      <td>2071.84</td>\n",
       "      <td>Male</td>\n",
       "      <td>0</td>\n",
       "      <td>No</td>\n",
       "      <td>No</td>\n",
       "      <td>No</td>\n",
       "      <td>DSL</td>\n",
       "      <td>Yes</td>\n",
       "      <td>No</td>\n",
       "      <td>Yes</td>\n",
       "      <td>No</td>\n",
       "      <td>No</td>\n",
       "      <td>No</td>\n",
       "    </tr>\n",
       "    <tr>\n",
       "      <th>3668-QPYBK</th>\n",
       "      <td>2019-10-01</td>\n",
       "      <td>No</td>\n",
       "      <td>Month-to-month</td>\n",
       "      <td>Yes</td>\n",
       "      <td>Mailed check</td>\n",
       "      <td>53.85</td>\n",
       "      <td>226.17</td>\n",
       "      <td>Male</td>\n",
       "      <td>0</td>\n",
       "      <td>No</td>\n",
       "      <td>No</td>\n",
       "      <td>No</td>\n",
       "      <td>DSL</td>\n",
       "      <td>Yes</td>\n",
       "      <td>Yes</td>\n",
       "      <td>No</td>\n",
       "      <td>No</td>\n",
       "      <td>No</td>\n",
       "      <td>No</td>\n",
       "    </tr>\n",
       "    <tr>\n",
       "      <th>7795-CFOCW</th>\n",
       "      <td>2016-05-01</td>\n",
       "      <td>No</td>\n",
       "      <td>One year</td>\n",
       "      <td>No</td>\n",
       "      <td>Bank transfer (automatic)</td>\n",
       "      <td>42.30</td>\n",
       "      <td>1960.60</td>\n",
       "      <td>Male</td>\n",
       "      <td>0</td>\n",
       "      <td>No</td>\n",
       "      <td>No</td>\n",
       "      <td>NaN</td>\n",
       "      <td>DSL</td>\n",
       "      <td>Yes</td>\n",
       "      <td>No</td>\n",
       "      <td>Yes</td>\n",
       "      <td>Yes</td>\n",
       "      <td>No</td>\n",
       "      <td>No</td>\n",
       "    </tr>\n",
       "    <tr>\n",
       "      <th>9237-HQITU</th>\n",
       "      <td>2019-09-01</td>\n",
       "      <td>No</td>\n",
       "      <td>Month-to-month</td>\n",
       "      <td>Yes</td>\n",
       "      <td>Electronic check</td>\n",
       "      <td>70.70</td>\n",
       "      <td>353.50</td>\n",
       "      <td>Female</td>\n",
       "      <td>0</td>\n",
       "      <td>No</td>\n",
       "      <td>No</td>\n",
       "      <td>No</td>\n",
       "      <td>Fiber optic</td>\n",
       "      <td>No</td>\n",
       "      <td>No</td>\n",
       "      <td>No</td>\n",
       "      <td>No</td>\n",
       "      <td>No</td>\n",
       "      <td>No</td>\n",
       "    </tr>\n",
       "  </tbody>\n",
       "</table>\n",
       "</div>"
      ],
      "text/plain": [
       "             BeginDate EndDate            Type PaperlessBilling  \\\n",
       "customerID                                                        \n",
       "7590-VHVEG  2020-01-01      No  Month-to-month              Yes   \n",
       "5575-GNVDE  2017-04-01      No        One year               No   \n",
       "3668-QPYBK  2019-10-01      No  Month-to-month              Yes   \n",
       "7795-CFOCW  2016-05-01      No        One year               No   \n",
       "9237-HQITU  2019-09-01      No  Month-to-month              Yes   \n",
       "\n",
       "                        PaymentMethod  MonthlyCharges  TotalCharges  gender  \\\n",
       "customerID                                                                    \n",
       "7590-VHVEG           Electronic check           29.85         31.04  Female   \n",
       "5575-GNVDE               Mailed check           56.95       2071.84    Male   \n",
       "3668-QPYBK               Mailed check           53.85        226.17    Male   \n",
       "7795-CFOCW  Bank transfer (automatic)           42.30       1960.60    Male   \n",
       "9237-HQITU           Electronic check           70.70        353.50  Female   \n",
       "\n",
       "            SeniorCitizen Partner Dependents MultipleLines InternetService  \\\n",
       "customerID                                                                   \n",
       "7590-VHVEG              0     Yes         No           NaN             DSL   \n",
       "5575-GNVDE              0      No         No            No             DSL   \n",
       "3668-QPYBK              0      No         No            No             DSL   \n",
       "7795-CFOCW              0      No         No           NaN             DSL   \n",
       "9237-HQITU              0      No         No            No     Fiber optic   \n",
       "\n",
       "           OnlineSecurity OnlineBackup DeviceProtection TechSupport  \\\n",
       "customerID                                                            \n",
       "7590-VHVEG             No          Yes               No          No   \n",
       "5575-GNVDE            Yes           No              Yes          No   \n",
       "3668-QPYBK            Yes          Yes               No          No   \n",
       "7795-CFOCW            Yes           No              Yes         Yes   \n",
       "9237-HQITU             No           No               No          No   \n",
       "\n",
       "           StreamingTV StreamingMovies  \n",
       "customerID                              \n",
       "7590-VHVEG          No              No  \n",
       "5575-GNVDE          No              No  \n",
       "3668-QPYBK          No              No  \n",
       "7795-CFOCW          No              No  \n",
       "9237-HQITU          No              No  "
      ]
     },
     "execution_count": 28,
     "metadata": {},
     "output_type": "execute_result"
    }
   ],
   "source": [
    "df.head()"
   ]
  },
  {
   "cell_type": "code",
   "execution_count": 29,
   "metadata": {
    "id": "TQGpohRdv22c"
   },
   "outputs": [],
   "source": [
    "df = df.fillna('not_used')"
   ]
  },
  {
   "cell_type": "markdown",
   "metadata": {
    "id": "SvKHqCyPv22c"
   },
   "source": [
    "Переведем даты в соответствующий формат и посчитаем новый признак - длительность обслуживания.  \n",
    "Для этого у действующих клиентов из даты заключения контракта будем отнимать дату актуальности данных - 02/01/2020"
   ]
  },
  {
   "cell_type": "code",
   "execution_count": 30,
   "metadata": {
    "id": "UW_Cm02Vv22c"
   },
   "outputs": [],
   "source": [
    "df['BeginDate'] = pd.to_datetime(df['BeginDate'], format = '%Y-%m-%d')"
   ]
  },
  {
   "cell_type": "code",
   "execution_count": 31,
   "metadata": {
    "id": "sF-rIv5-v22c",
    "scrolled": true
   },
   "outputs": [],
   "source": [
    "df['Duration'] = (pd.to_datetime(df['EndDate'].replace('No', '2020-2-1'), format = '%Y-%m-%d') - df['BeginDate'])\n",
    "df['Duration'] = (df['Duration'] / np.timedelta64(1, 'D')).astype(int)"
   ]
  },
  {
   "cell_type": "markdown",
   "metadata": {
    "id": "rO9zrYfyv22c"
   },
   "source": [
    "Добавим новый признак `is_client`, не забудем убрать дублирующий его оригинал - он нам больше не понадобится  "
   ]
  },
  {
   "cell_type": "code",
   "execution_count": 32,
   "metadata": {
    "id": "WBMDPs2kv22g"
   },
   "outputs": [],
   "source": [
    "df['is_client'] = (df['EndDate'] == 'No')*1\n",
    "df = df.drop(columns='EndDate')"
   ]
  },
  {
   "cell_type": "code",
   "execution_count": 33,
   "metadata": {
    "colab": {
     "base_uri": "https://localhost:8080/"
    },
    "id": "iiSOPHzRv22g",
    "outputId": "f8dd241d-da71-421b-a4f3-363143b24a45"
   },
   "outputs": [
    {
     "data": {
      "text/plain": [
       "1    5942\n",
       "0    1101\n",
       "Name: is_client, dtype: int64"
      ]
     },
     "execution_count": 33,
     "metadata": {},
     "output_type": "execute_result"
    }
   ],
   "source": [
    "df['is_client'].value_counts()"
   ]
  },
  {
   "cell_type": "code",
   "execution_count": 34,
   "metadata": {
    "colab": {
     "base_uri": "https://localhost:8080/",
     "height": 216
    },
    "id": "8WWT_Ovdv22g",
    "outputId": "7f21933f-5870-4660-8cef-2d0b183b59de"
   },
   "outputs": [
    {
     "data": {
      "text/html": [
       "<div>\n",
       "<style scoped>\n",
       "    .dataframe tbody tr th:only-of-type {\n",
       "        vertical-align: middle;\n",
       "    }\n",
       "\n",
       "    .dataframe tbody tr th {\n",
       "        vertical-align: top;\n",
       "    }\n",
       "\n",
       "    .dataframe thead th {\n",
       "        text-align: right;\n",
       "    }\n",
       "</style>\n",
       "<table border=\"1\" class=\"dataframe\">\n",
       "  <thead>\n",
       "    <tr style=\"text-align: right;\">\n",
       "      <th></th>\n",
       "      <th>BeginDate</th>\n",
       "      <th>Type</th>\n",
       "      <th>PaperlessBilling</th>\n",
       "      <th>PaymentMethod</th>\n",
       "      <th>MonthlyCharges</th>\n",
       "      <th>TotalCharges</th>\n",
       "      <th>gender</th>\n",
       "      <th>SeniorCitizen</th>\n",
       "      <th>Partner</th>\n",
       "      <th>Dependents</th>\n",
       "      <th>MultipleLines</th>\n",
       "      <th>InternetService</th>\n",
       "      <th>OnlineSecurity</th>\n",
       "      <th>OnlineBackup</th>\n",
       "      <th>DeviceProtection</th>\n",
       "      <th>TechSupport</th>\n",
       "      <th>StreamingTV</th>\n",
       "      <th>StreamingMovies</th>\n",
       "      <th>Duration</th>\n",
       "      <th>is_client</th>\n",
       "    </tr>\n",
       "    <tr>\n",
       "      <th>customerID</th>\n",
       "      <th></th>\n",
       "      <th></th>\n",
       "      <th></th>\n",
       "      <th></th>\n",
       "      <th></th>\n",
       "      <th></th>\n",
       "      <th></th>\n",
       "      <th></th>\n",
       "      <th></th>\n",
       "      <th></th>\n",
       "      <th></th>\n",
       "      <th></th>\n",
       "      <th></th>\n",
       "      <th></th>\n",
       "      <th></th>\n",
       "      <th></th>\n",
       "      <th></th>\n",
       "      <th></th>\n",
       "      <th></th>\n",
       "      <th></th>\n",
       "    </tr>\n",
       "  </thead>\n",
       "  <tbody>\n",
       "    <tr>\n",
       "      <th>7590-VHVEG</th>\n",
       "      <td>2020-01-01</td>\n",
       "      <td>Month-to-month</td>\n",
       "      <td>Yes</td>\n",
       "      <td>Electronic check</td>\n",
       "      <td>29.85</td>\n",
       "      <td>31.04</td>\n",
       "      <td>Female</td>\n",
       "      <td>0</td>\n",
       "      <td>Yes</td>\n",
       "      <td>No</td>\n",
       "      <td>not_used</td>\n",
       "      <td>DSL</td>\n",
       "      <td>No</td>\n",
       "      <td>Yes</td>\n",
       "      <td>No</td>\n",
       "      <td>No</td>\n",
       "      <td>No</td>\n",
       "      <td>No</td>\n",
       "      <td>31</td>\n",
       "      <td>1</td>\n",
       "    </tr>\n",
       "    <tr>\n",
       "      <th>5575-GNVDE</th>\n",
       "      <td>2017-04-01</td>\n",
       "      <td>One year</td>\n",
       "      <td>No</td>\n",
       "      <td>Mailed check</td>\n",
       "      <td>56.95</td>\n",
       "      <td>2071.84</td>\n",
       "      <td>Male</td>\n",
       "      <td>0</td>\n",
       "      <td>No</td>\n",
       "      <td>No</td>\n",
       "      <td>No</td>\n",
       "      <td>DSL</td>\n",
       "      <td>Yes</td>\n",
       "      <td>No</td>\n",
       "      <td>Yes</td>\n",
       "      <td>No</td>\n",
       "      <td>No</td>\n",
       "      <td>No</td>\n",
       "      <td>1036</td>\n",
       "      <td>1</td>\n",
       "    </tr>\n",
       "  </tbody>\n",
       "</table>\n",
       "</div>"
      ],
      "text/plain": [
       "            BeginDate            Type PaperlessBilling     PaymentMethod  \\\n",
       "customerID                                                                 \n",
       "7590-VHVEG 2020-01-01  Month-to-month              Yes  Electronic check   \n",
       "5575-GNVDE 2017-04-01        One year               No      Mailed check   \n",
       "\n",
       "            MonthlyCharges  TotalCharges  gender  SeniorCitizen Partner  \\\n",
       "customerID                                                                \n",
       "7590-VHVEG           29.85         31.04  Female              0     Yes   \n",
       "5575-GNVDE           56.95       2071.84    Male              0      No   \n",
       "\n",
       "           Dependents MultipleLines InternetService OnlineSecurity  \\\n",
       "customerID                                                           \n",
       "7590-VHVEG         No      not_used             DSL             No   \n",
       "5575-GNVDE         No            No             DSL            Yes   \n",
       "\n",
       "           OnlineBackup DeviceProtection TechSupport StreamingTV  \\\n",
       "customerID                                                         \n",
       "7590-VHVEG          Yes               No          No          No   \n",
       "5575-GNVDE           No              Yes          No          No   \n",
       "\n",
       "           StreamingMovies  Duration  is_client  \n",
       "customerID                                       \n",
       "7590-VHVEG              No        31          1  \n",
       "5575-GNVDE              No      1036          1  "
      ]
     },
     "execution_count": 34,
     "metadata": {},
     "output_type": "execute_result"
    }
   ],
   "source": [
    "df.head(2)"
   ]
  },
  {
   "cell_type": "markdown",
   "metadata": {
    "id": "M01fi8kG1EsA"
   },
   "source": [
    "### Исследовательский анализ данных"
   ]
  },
  {
   "cell_type": "markdown",
   "metadata": {
    "id": "Yu5aDT5jv22h"
   },
   "source": [
    "Визуально ищем на одном графике одинаковые пары столбиков, чтобы заключить, что данный признак не влияет на целевой.  \n",
    "И находим такую ситуацию - в столбце `gender`  \n",
    "Значит и мужчины, и женщины разрывают контракты с одинаковой частотой, и сам по себе этот признак модели будет неинтересен.  \n",
    "Его и `customerID` при обучении можно будет опустить"
   ]
  },
  {
   "cell_type": "code",
   "execution_count": 35,
   "metadata": {
    "colab": {
     "base_uri": "https://localhost:8080/",
     "height": 1000
    },
    "id": "d2DnpMQdv22h",
    "outputId": "c9618084-5cd6-4fad-a54a-9b2d512f9076",
    "scrolled": true
   },
   "outputs": [
    {
     "data": {
      "image/png": "[encoded data removed]",
      "text/plain": [
       "<Figure size 864x216 with 1 Axes>"
      ]
     },
     "metadata": {
      "needs_background": "light"
     },
     "output_type": "display_data"
    },
    {
     "data": {
      "image/png": "[encoded data removed]",
      "text/plain": [
       "<Figure size 864x216 with 1 Axes>"
      ]
     },
     "metadata": {
      "needs_background": "light"
     },
     "output_type": "display_data"
    },
    {
     "data": {
      "image/png": "[encoded data removed]",
      "text/plain": [
       "<Figure size 864x216 with 1 Axes>"
      ]
     },
     "metadata": {
      "needs_background": "light"
     },
     "output_type": "display_data"
    },
    {
     "data": {
      "image/png": "[encoded data removed]",
      "text/plain": [
       "<Figure size 864x216 with 1 Axes>"
      ]
     },
     "metadata": {
      "needs_background": "light"
     },
     "output_type": "display_data"
    },
    {
     "data": {
      "image/png": "[encoded data removed]",
      "text/plain": [
       "<Figure size 864x216 with 1 Axes>"
      ]
     },
     "metadata": {
      "needs_background": "light"
     },
     "output_type": "display_data"
    },
    {
     "data": {
      "image/png": "[encoded data removed]",
      "text/plain": [
       "<Figure size 864x216 with 1 Axes>"
      ]
     },
     "metadata": {
      "needs_background": "light"
     },
     "output_type": "display_data"
    },
    {
     "data": {
      "image/png": "[encoded data removed]",
      "text/plain": [
       "<Figure size 864x216 with 1 Axes>"
      ]
     },
     "metadata": {
      "needs_background": "light"
     },
     "output_type": "display_data"
    },
    {
     "data": {
      "image/png": "[encoded data removed]",
      "text/plain": [
       "<Figure size 864x216 with 1 Axes>"
      ]
     },
     "metadata": {
      "needs_background": "light"
     },
     "output_type": "display_data"
    },
    {
     "data": {
      "image/png": "[encoded data removed]",
      "text/plain": [
       "<Figure size 864x216 with 1 Axes>"
      ]
     },
     "metadata": {
      "needs_background": "light"
     },
     "output_type": "display_data"
    },
    {
     "data": {
      "image/png": "[encoded data removed]",
      "text/plain": [
       "<Figure size 864x216 with 1 Axes>"
      ]
     },
     "metadata": {
      "needs_background": "light"
     },
     "output_type": "display_data"
    },
    {
     "data": {
      "image/png": "[encoded data removed]",
      "text/plain": [
       "<Figure size 864x216 with 1 Axes>"
      ]
     },
     "metadata": {
      "needs_background": "light"
     },
     "output_type": "display_data"
    },
    {
     "data": {
      "image/png": "[encoded data removed]",
      "text/plain": [
       "<Figure size 864x216 with 1 Axes>"
      ]
     },
     "metadata": {
      "needs_background": "light"
     },
     "output_type": "display_data"
    },
    {
     "data": {
      "image/png": "[encoded data removed]",
      "text/plain": [
       "<Figure size 864x216 with 1 Axes>"
      ]
     },
     "metadata": {
      "needs_background": "light"
     },
     "output_type": "display_data"
    },
    {
     "data": {
      "image/png": "[encoded data removed]",
      "text/plain": [
       "<Figure size 864x216 with 1 Axes>"
      ]
     },
     "metadata": {
      "needs_background": "light"
     },
     "output_type": "display_data"
    },
    {
     "data": {
      "image/png": "[encoded data removed]",
      "text/plain": [
       "<Figure size 864x216 with 1 Axes>"
      ]
     },
     "metadata": {
      "needs_background": "light"
     },
     "output_type": "display_data"
    }
   ],
   "source": [
    "for x in ['Type', 'PaperlessBilling', 'PaymentMethod', 'gender', 'SeniorCitizen', 'Partner',\n",
    "          'Dependents', 'MultipleLines','InternetService','OnlineSecurity','OnlineBackup',\n",
    "          'DeviceProtection','TechSupport','StreamingTV','StreamingMovies']:\n",
    "    plt.figure(figsize=(12,3))\n",
    "    plt.title(x)\n",
    "    plt.grid()\n",
    "    sns.histplot(data = df, x=x, hue=df['is_client'], multiple=\"dodge\", shrink=.8,\n",
    "                 palette='spring', discrete=True)"
   ]
  },
  {
   "cell_type": "markdown",
   "metadata": {
    "id": "t065KQEITGz3"
   },
   "source": [
    "Рассмотрим корреляцию признаков."
   ]
  },
  {
   "cell_type": "code",
   "execution_count": 36,
   "metadata": {
    "colab": {
     "base_uri": "https://localhost:8080/",
     "height": 697
    },
    "id": "EVsj9Pfjv22j",
    "outputId": "bf6d9b1f-ba97-41c7-f510-8b01527c10b6"
   },
   "outputs": [
    {
     "data": {
      "text/html": [
       "<div>\n",
       "<style scoped>\n",
       "    .dataframe tbody tr th:only-of-type {\n",
       "        vertical-align: middle;\n",
       "    }\n",
       "\n",
       "    .dataframe tbody tr th {\n",
       "        vertical-align: top;\n",
       "    }\n",
       "\n",
       "    .dataframe thead th {\n",
       "        text-align: right;\n",
       "    }\n",
       "</style>\n",
       "<table border=\"1\" class=\"dataframe\">\n",
       "  <thead>\n",
       "    <tr style=\"text-align: right;\">\n",
       "      <th></th>\n",
       "      <th>BeginDate</th>\n",
       "      <th>Type</th>\n",
       "      <th>PaperlessBilling</th>\n",
       "      <th>PaymentMethod</th>\n",
       "      <th>MonthlyCharges</th>\n",
       "      <th>TotalCharges</th>\n",
       "      <th>gender</th>\n",
       "      <th>SeniorCitizen</th>\n",
       "      <th>Partner</th>\n",
       "      <th>Dependents</th>\n",
       "      <th>MultipleLines</th>\n",
       "      <th>InternetService</th>\n",
       "      <th>OnlineSecurity</th>\n",
       "      <th>OnlineBackup</th>\n",
       "      <th>DeviceProtection</th>\n",
       "      <th>TechSupport</th>\n",
       "      <th>StreamingTV</th>\n",
       "      <th>StreamingMovies</th>\n",
       "      <th>Duration</th>\n",
       "      <th>is_client</th>\n",
       "    </tr>\n",
       "  </thead>\n",
       "  <tbody>\n",
       "    <tr>\n",
       "      <th>BeginDate</th>\n",
       "      <td>1.000000</td>\n",
       "      <td>0.766249</td>\n",
       "      <td>0.081447</td>\n",
       "      <td>0.456389</td>\n",
       "      <td>0.421886</td>\n",
       "      <td>0.773659</td>\n",
       "      <td>0.011268</td>\n",
       "      <td>0.050862</td>\n",
       "      <td>0.473514</td>\n",
       "      <td>0.208564</td>\n",
       "      <td>0.468035</td>\n",
       "      <td>0.192197</td>\n",
       "      <td>0.460712</td>\n",
       "      <td>0.496176</td>\n",
       "      <td>0.502422</td>\n",
       "      <td>0.455418</td>\n",
       "      <td>0.419599</td>\n",
       "      <td>0.431137</td>\n",
       "      <td>0.978521</td>\n",
       "      <td>0.450254</td>\n",
       "    </tr>\n",
       "    <tr>\n",
       "      <th>Type</th>\n",
       "      <td>0.766249</td>\n",
       "      <td>1.000000</td>\n",
       "      <td>0.106860</td>\n",
       "      <td>0.277462</td>\n",
       "      <td>0.388444</td>\n",
       "      <td>0.468471</td>\n",
       "      <td>0.000000</td>\n",
       "      <td>0.086231</td>\n",
       "      <td>0.179736</td>\n",
       "      <td>0.147680</td>\n",
       "      <td>0.244410</td>\n",
       "      <td>0.505187</td>\n",
       "      <td>0.636884</td>\n",
       "      <td>0.581660</td>\n",
       "      <td>0.631531</td>\n",
       "      <td>0.671629</td>\n",
       "      <td>0.549564</td>\n",
       "      <td>0.553556</td>\n",
       "      <td>0.634155</td>\n",
       "      <td>0.094015</td>\n",
       "    </tr>\n",
       "    <tr>\n",
       "      <th>PaperlessBilling</th>\n",
       "      <td>0.081447</td>\n",
       "      <td>0.106860</td>\n",
       "      <td>1.000000</td>\n",
       "      <td>0.370495</td>\n",
       "      <td>0.467812</td>\n",
       "      <td>0.203144</td>\n",
       "      <td>0.000000</td>\n",
       "      <td>0.242133</td>\n",
       "      <td>0.013218</td>\n",
       "      <td>0.172593</td>\n",
       "      <td>0.099953</td>\n",
       "      <td>0.231438</td>\n",
       "      <td>0.208320</td>\n",
       "      <td>0.195321</td>\n",
       "      <td>0.195687</td>\n",
       "      <td>0.200621</td>\n",
       "      <td>0.204717</td>\n",
       "      <td>0.202241</td>\n",
       "      <td>0.026799</td>\n",
       "      <td>0.083398</td>\n",
       "    </tr>\n",
       "    <tr>\n",
       "      <th>PaymentMethod</th>\n",
       "      <td>0.456389</td>\n",
       "      <td>0.277462</td>\n",
       "      <td>0.370495</td>\n",
       "      <td>1.000000</td>\n",
       "      <td>0.399526</td>\n",
       "      <td>0.335175</td>\n",
       "      <td>0.000000</td>\n",
       "      <td>0.292725</td>\n",
       "      <td>0.243008</td>\n",
       "      <td>0.224903</td>\n",
       "      <td>0.174849</td>\n",
       "      <td>0.323886</td>\n",
       "      <td>0.315799</td>\n",
       "      <td>0.293413</td>\n",
       "      <td>0.297923</td>\n",
       "      <td>0.317713</td>\n",
       "      <td>0.284531</td>\n",
       "      <td>0.285525</td>\n",
       "      <td>0.350964</td>\n",
       "      <td>0.214832</td>\n",
       "    </tr>\n",
       "    <tr>\n",
       "      <th>MonthlyCharges</th>\n",
       "      <td>0.421886</td>\n",
       "      <td>0.388444</td>\n",
       "      <td>0.467812</td>\n",
       "      <td>0.399526</td>\n",
       "      <td>1.000000</td>\n",
       "      <td>0.711029</td>\n",
       "      <td>0.008175</td>\n",
       "      <td>0.304985</td>\n",
       "      <td>0.203545</td>\n",
       "      <td>0.184366</td>\n",
       "      <td>0.709983</td>\n",
       "      <td>0.919002</td>\n",
       "      <td>0.812632</td>\n",
       "      <td>0.818851</td>\n",
       "      <td>0.827272</td>\n",
       "      <td>0.816660</td>\n",
       "      <td>0.864677</td>\n",
       "      <td>0.863616</td>\n",
       "      <td>0.387727</td>\n",
       "      <td>0.226280</td>\n",
       "    </tr>\n",
       "    <tr>\n",
       "      <th>TotalCharges</th>\n",
       "      <td>0.773659</td>\n",
       "      <td>0.468471</td>\n",
       "      <td>0.203144</td>\n",
       "      <td>0.335175</td>\n",
       "      <td>0.711029</td>\n",
       "      <td>1.000000</td>\n",
       "      <td>0.000000</td>\n",
       "      <td>0.137707</td>\n",
       "      <td>0.381042</td>\n",
       "      <td>0.082134</td>\n",
       "      <td>0.467339</td>\n",
       "      <td>0.489674</td>\n",
       "      <td>0.516119</td>\n",
       "      <td>0.550225</td>\n",
       "      <td>0.558342</td>\n",
       "      <td>0.527587</td>\n",
       "      <td>0.555337</td>\n",
       "      <td>0.554238</td>\n",
       "      <td>0.847414</td>\n",
       "      <td>0.304287</td>\n",
       "    </tr>\n",
       "    <tr>\n",
       "      <th>gender</th>\n",
       "      <td>0.011268</td>\n",
       "      <td>0.000000</td>\n",
       "      <td>0.000000</td>\n",
       "      <td>0.000000</td>\n",
       "      <td>0.008175</td>\n",
       "      <td>0.000000</td>\n",
       "      <td>1.000000</td>\n",
       "      <td>0.000000</td>\n",
       "      <td>0.000000</td>\n",
       "      <td>0.000000</td>\n",
       "      <td>0.000000</td>\n",
       "      <td>0.000000</td>\n",
       "      <td>0.001460</td>\n",
       "      <td>0.000000</td>\n",
       "      <td>0.000000</td>\n",
       "      <td>0.000000</td>\n",
       "      <td>0.000000</td>\n",
       "      <td>0.000000</td>\n",
       "      <td>0.000000</td>\n",
       "      <td>0.008581</td>\n",
       "    </tr>\n",
       "    <tr>\n",
       "      <th>SeniorCitizen</th>\n",
       "      <td>0.050862</td>\n",
       "      <td>0.086231</td>\n",
       "      <td>0.242133</td>\n",
       "      <td>0.292725</td>\n",
       "      <td>0.304985</td>\n",
       "      <td>0.137707</td>\n",
       "      <td>0.000000</td>\n",
       "      <td>1.000000</td>\n",
       "      <td>0.016992</td>\n",
       "      <td>0.324576</td>\n",
       "      <td>0.087925</td>\n",
       "      <td>0.160702</td>\n",
       "      <td>0.127319</td>\n",
       "      <td>0.109995</td>\n",
       "      <td>0.110177</td>\n",
       "      <td>0.135283</td>\n",
       "      <td>0.111714</td>\n",
       "      <td>0.113778</td>\n",
       "      <td>0.063315</td>\n",
       "      <td>0.086159</td>\n",
       "    </tr>\n",
       "    <tr>\n",
       "      <th>Partner</th>\n",
       "      <td>0.473514</td>\n",
       "      <td>0.179736</td>\n",
       "      <td>0.013218</td>\n",
       "      <td>0.243008</td>\n",
       "      <td>0.203545</td>\n",
       "      <td>0.381042</td>\n",
       "      <td>0.000000</td>\n",
       "      <td>0.016992</td>\n",
       "      <td>1.000000</td>\n",
       "      <td>0.652122</td>\n",
       "      <td>0.086249</td>\n",
       "      <td>0.000000</td>\n",
       "      <td>0.091202</td>\n",
       "      <td>0.092012</td>\n",
       "      <td>0.100092</td>\n",
       "      <td>0.076326</td>\n",
       "      <td>0.082251</td>\n",
       "      <td>0.077506</td>\n",
       "      <td>0.453688</td>\n",
       "      <td>0.226688</td>\n",
       "    </tr>\n",
       "    <tr>\n",
       "      <th>Dependents</th>\n",
       "      <td>0.208564</td>\n",
       "      <td>0.147680</td>\n",
       "      <td>0.172593</td>\n",
       "      <td>0.224903</td>\n",
       "      <td>0.184366</td>\n",
       "      <td>0.082134</td>\n",
       "      <td>0.000000</td>\n",
       "      <td>0.324576</td>\n",
       "      <td>0.652122</td>\n",
       "      <td>1.000000</td>\n",
       "      <td>0.011198</td>\n",
       "      <td>0.108463</td>\n",
       "      <td>0.117219</td>\n",
       "      <td>0.097766</td>\n",
       "      <td>0.094597</td>\n",
       "      <td>0.109753</td>\n",
       "      <td>0.088193</td>\n",
       "      <td>0.084684</td>\n",
       "      <td>0.198729</td>\n",
       "      <td>0.046871</td>\n",
       "    </tr>\n",
       "    <tr>\n",
       "      <th>MultipleLines</th>\n",
       "      <td>0.468035</td>\n",
       "      <td>0.244410</td>\n",
       "      <td>0.099953</td>\n",
       "      <td>0.174849</td>\n",
       "      <td>0.709983</td>\n",
       "      <td>0.467339</td>\n",
       "      <td>0.000000</td>\n",
       "      <td>0.087925</td>\n",
       "      <td>0.086249</td>\n",
       "      <td>0.011198</td>\n",
       "      <td>1.000000</td>\n",
       "      <td>0.739808</td>\n",
       "      <td>0.540261</td>\n",
       "      <td>0.562933</td>\n",
       "      <td>0.564610</td>\n",
       "      <td>0.541088</td>\n",
       "      <td>0.586049</td>\n",
       "      <td>0.586815</td>\n",
       "      <td>0.347289</td>\n",
       "      <td>0.105101</td>\n",
       "    </tr>\n",
       "    <tr>\n",
       "      <th>InternetService</th>\n",
       "      <td>0.192197</td>\n",
       "      <td>0.505187</td>\n",
       "      <td>0.231438</td>\n",
       "      <td>0.323886</td>\n",
       "      <td>0.919002</td>\n",
       "      <td>0.489674</td>\n",
       "      <td>0.000000</td>\n",
       "      <td>0.160702</td>\n",
       "      <td>0.000000</td>\n",
       "      <td>0.108463</td>\n",
       "      <td>0.739808</td>\n",
       "      <td>1.000000</td>\n",
       "      <td>0.949498</td>\n",
       "      <td>0.942842</td>\n",
       "      <td>0.942811</td>\n",
       "      <td>0.948914</td>\n",
       "      <td>0.946713</td>\n",
       "      <td>0.946294</td>\n",
       "      <td>0.060845</td>\n",
       "      <td>0.056621</td>\n",
       "    </tr>\n",
       "    <tr>\n",
       "      <th>OnlineSecurity</th>\n",
       "      <td>0.460712</td>\n",
       "      <td>0.636884</td>\n",
       "      <td>0.208320</td>\n",
       "      <td>0.315799</td>\n",
       "      <td>0.812632</td>\n",
       "      <td>0.516119</td>\n",
       "      <td>0.001460</td>\n",
       "      <td>0.127319</td>\n",
       "      <td>0.091202</td>\n",
       "      <td>0.117219</td>\n",
       "      <td>0.540261</td>\n",
       "      <td>0.949498</td>\n",
       "      <td>1.000000</td>\n",
       "      <td>0.947224</td>\n",
       "      <td>0.946787</td>\n",
       "      <td>0.952651</td>\n",
       "      <td>0.943082</td>\n",
       "      <td>0.943248</td>\n",
       "      <td>0.346398</td>\n",
       "      <td>0.058659</td>\n",
       "    </tr>\n",
       "    <tr>\n",
       "      <th>OnlineBackup</th>\n",
       "      <td>0.496176</td>\n",
       "      <td>0.581660</td>\n",
       "      <td>0.195321</td>\n",
       "      <td>0.293413</td>\n",
       "      <td>0.818851</td>\n",
       "      <td>0.550225</td>\n",
       "      <td>0.000000</td>\n",
       "      <td>0.109995</td>\n",
       "      <td>0.092012</td>\n",
       "      <td>0.097766</td>\n",
       "      <td>0.562933</td>\n",
       "      <td>0.942842</td>\n",
       "      <td>0.947224</td>\n",
       "      <td>1.000000</td>\n",
       "      <td>0.947487</td>\n",
       "      <td>0.947756</td>\n",
       "      <td>0.945789</td>\n",
       "      <td>0.945395</td>\n",
       "      <td>0.366170</td>\n",
       "      <td>0.089704</td>\n",
       "    </tr>\n",
       "    <tr>\n",
       "      <th>DeviceProtection</th>\n",
       "      <td>0.502422</td>\n",
       "      <td>0.631531</td>\n",
       "      <td>0.195687</td>\n",
       "      <td>0.297923</td>\n",
       "      <td>0.827272</td>\n",
       "      <td>0.558342</td>\n",
       "      <td>0.000000</td>\n",
       "      <td>0.110177</td>\n",
       "      <td>0.100092</td>\n",
       "      <td>0.094597</td>\n",
       "      <td>0.564610</td>\n",
       "      <td>0.942811</td>\n",
       "      <td>0.946787</td>\n",
       "      <td>0.947487</td>\n",
       "      <td>1.000000</td>\n",
       "      <td>0.950247</td>\n",
       "      <td>0.952863</td>\n",
       "      <td>0.953717</td>\n",
       "      <td>0.374702</td>\n",
       "      <td>0.085608</td>\n",
       "    </tr>\n",
       "    <tr>\n",
       "      <th>TechSupport</th>\n",
       "      <td>0.455418</td>\n",
       "      <td>0.671629</td>\n",
       "      <td>0.200621</td>\n",
       "      <td>0.317713</td>\n",
       "      <td>0.816660</td>\n",
       "      <td>0.527587</td>\n",
       "      <td>0.000000</td>\n",
       "      <td>0.135283</td>\n",
       "      <td>0.076326</td>\n",
       "      <td>0.109753</td>\n",
       "      <td>0.541088</td>\n",
       "      <td>0.948914</td>\n",
       "      <td>0.952651</td>\n",
       "      <td>0.947756</td>\n",
       "      <td>0.950247</td>\n",
       "      <td>1.000000</td>\n",
       "      <td>0.946393</td>\n",
       "      <td>0.946417</td>\n",
       "      <td>0.353438</td>\n",
       "      <td>0.051537</td>\n",
       "    </tr>\n",
       "    <tr>\n",
       "      <th>StreamingTV</th>\n",
       "      <td>0.419599</td>\n",
       "      <td>0.549564</td>\n",
       "      <td>0.204717</td>\n",
       "      <td>0.284531</td>\n",
       "      <td>0.864677</td>\n",
       "      <td>0.555337</td>\n",
       "      <td>0.000000</td>\n",
       "      <td>0.111714</td>\n",
       "      <td>0.082251</td>\n",
       "      <td>0.088193</td>\n",
       "      <td>0.586049</td>\n",
       "      <td>0.946713</td>\n",
       "      <td>0.943082</td>\n",
       "      <td>0.945789</td>\n",
       "      <td>0.952863</td>\n",
       "      <td>0.946393</td>\n",
       "      <td>1.000000</td>\n",
       "      <td>0.965306</td>\n",
       "      <td>0.306675</td>\n",
       "      <td>0.078545</td>\n",
       "    </tr>\n",
       "    <tr>\n",
       "      <th>StreamingMovies</th>\n",
       "      <td>0.431137</td>\n",
       "      <td>0.553556</td>\n",
       "      <td>0.202241</td>\n",
       "      <td>0.285525</td>\n",
       "      <td>0.863616</td>\n",
       "      <td>0.554238</td>\n",
       "      <td>0.000000</td>\n",
       "      <td>0.113778</td>\n",
       "      <td>0.077506</td>\n",
       "      <td>0.084684</td>\n",
       "      <td>0.586815</td>\n",
       "      <td>0.946294</td>\n",
       "      <td>0.943248</td>\n",
       "      <td>0.945395</td>\n",
       "      <td>0.953717</td>\n",
       "      <td>0.946417</td>\n",
       "      <td>0.965306</td>\n",
       "      <td>1.000000</td>\n",
       "      <td>0.307297</td>\n",
       "      <td>0.086577</td>\n",
       "    </tr>\n",
       "    <tr>\n",
       "      <th>Duration</th>\n",
       "      <td>0.978521</td>\n",
       "      <td>0.634155</td>\n",
       "      <td>0.026799</td>\n",
       "      <td>0.350964</td>\n",
       "      <td>0.387727</td>\n",
       "      <td>0.847414</td>\n",
       "      <td>0.000000</td>\n",
       "      <td>0.063315</td>\n",
       "      <td>0.453688</td>\n",
       "      <td>0.198729</td>\n",
       "      <td>0.347289</td>\n",
       "      <td>0.060845</td>\n",
       "      <td>0.346398</td>\n",
       "      <td>0.366170</td>\n",
       "      <td>0.374702</td>\n",
       "      <td>0.353438</td>\n",
       "      <td>0.306675</td>\n",
       "      <td>0.307297</td>\n",
       "      <td>1.000000</td>\n",
       "      <td>0.374569</td>\n",
       "    </tr>\n",
       "    <tr>\n",
       "      <th>is_client</th>\n",
       "      <td>0.450254</td>\n",
       "      <td>0.094015</td>\n",
       "      <td>0.083398</td>\n",
       "      <td>0.214832</td>\n",
       "      <td>0.226280</td>\n",
       "      <td>0.304287</td>\n",
       "      <td>0.008581</td>\n",
       "      <td>0.086159</td>\n",
       "      <td>0.226688</td>\n",
       "      <td>0.046871</td>\n",
       "      <td>0.105101</td>\n",
       "      <td>0.056621</td>\n",
       "      <td>0.058659</td>\n",
       "      <td>0.089704</td>\n",
       "      <td>0.085608</td>\n",
       "      <td>0.051537</td>\n",
       "      <td>0.078545</td>\n",
       "      <td>0.086577</td>\n",
       "      <td>0.374569</td>\n",
       "      <td>1.000000</td>\n",
       "    </tr>\n",
       "  </tbody>\n",
       "</table>\n",
       "</div>"
      ],
      "text/plain": [
       "                  BeginDate      Type  PaperlessBilling  PaymentMethod  \\\n",
       "BeginDate          1.000000  0.766249          0.081447       0.456389   \n",
       "Type               0.766249  1.000000          0.106860       0.277462   \n",
       "PaperlessBilling   0.081447  0.106860          1.000000       0.370495   \n",
       "PaymentMethod      0.456389  0.277462          0.370495       1.000000   \n",
       "MonthlyCharges     0.421886  0.388444          0.467812       0.399526   \n",
       "TotalCharges       0.773659  0.468471          0.203144       0.335175   \n",
       "gender             0.011268  0.000000          0.000000       0.000000   \n",
       "SeniorCitizen      0.050862  0.086231          0.242133       0.292725   \n",
       "Partner            0.473514  0.179736          0.013218       0.243008   \n",
       "Dependents         0.208564  0.147680          0.172593       0.224903   \n",
       "MultipleLines      0.468035  0.244410          0.099953       0.174849   \n",
       "InternetService    0.192197  0.505187          0.231438       0.323886   \n",
       "OnlineSecurity     0.460712  0.636884          0.208320       0.315799   \n",
       "OnlineBackup       0.496176  0.581660          0.195321       0.293413   \n",
       "DeviceProtection   0.502422  0.631531          0.195687       0.297923   \n",
       "TechSupport        0.455418  0.671629          0.200621       0.317713   \n",
       "StreamingTV        0.419599  0.549564          0.204717       0.284531   \n",
       "StreamingMovies    0.431137  0.553556          0.202241       0.285525   \n",
       "Duration           0.978521  0.634155          0.026799       0.350964   \n",
       "is_client          0.450254  0.094015          0.083398       0.214832   \n",
       "\n",
       "                  MonthlyCharges  TotalCharges    gender  SeniorCitizen  \\\n",
       "BeginDate               0.421886      0.773659  0.011268       0.050862   \n",
       "Type                    0.388444      0.468471  0.000000       0.086231   \n",
       "PaperlessBilling        0.467812      0.203144  0.000000       0.242133   \n",
       "PaymentMethod           0.399526      0.335175  0.000000       0.292725   \n",
       "MonthlyCharges          1.000000      0.711029  0.008175       0.304985   \n",
       "TotalCharges            0.711029      1.000000  0.000000       0.137707   \n",
       "gender                  0.008175      0.000000  1.000000       0.000000   \n",
       "SeniorCitizen           0.304985      0.137707  0.000000       1.000000   \n",
       "Partner                 0.203545      0.381042  0.000000       0.016992   \n",
       "Dependents              0.184366      0.082134  0.000000       0.324576   \n",
       "MultipleLines           0.709983      0.467339  0.000000       0.087925   \n",
       "InternetService         0.919002      0.489674  0.000000       0.160702   \n",
       "OnlineSecurity          0.812632      0.516119  0.001460       0.127319   \n",
       "OnlineBackup            0.818851      0.550225  0.000000       0.109995   \n",
       "DeviceProtection        0.827272      0.558342  0.000000       0.110177   \n",
       "TechSupport             0.816660      0.527587  0.000000       0.135283   \n",
       "StreamingTV             0.864677      0.555337  0.000000       0.111714   \n",
       "StreamingMovies         0.863616      0.554238  0.000000       0.113778   \n",
       "Duration                0.387727      0.847414  0.000000       0.063315   \n",
       "is_client               0.226280      0.304287  0.008581       0.086159   \n",
       "\n",
       "                   Partner  Dependents  MultipleLines  InternetService  \\\n",
       "BeginDate         0.473514    0.208564       0.468035         0.192197   \n",
       "Type              0.179736    0.147680       0.244410         0.505187   \n",
       "PaperlessBilling  0.013218    0.172593       0.099953         0.231438   \n",
       "PaymentMethod     0.243008    0.224903       0.174849         0.323886   \n",
       "MonthlyCharges    0.203545    0.184366       0.709983         0.919002   \n",
       "TotalCharges      0.381042    0.082134       0.467339         0.489674   \n",
       "gender            0.000000    0.000000       0.000000         0.000000   \n",
       "SeniorCitizen     0.016992    0.324576       0.087925         0.160702   \n",
       "Partner           1.000000    0.652122       0.086249         0.000000   \n",
       "Dependents        0.652122    1.000000       0.011198         0.108463   \n",
       "MultipleLines     0.086249    0.011198       1.000000         0.739808   \n",
       "InternetService   0.000000    0.108463       0.739808         1.000000   \n",
       "OnlineSecurity    0.091202    0.117219       0.540261         0.949498   \n",
       "OnlineBackup      0.092012    0.097766       0.562933         0.942842   \n",
       "DeviceProtection  0.100092    0.094597       0.564610         0.942811   \n",
       "TechSupport       0.076326    0.109753       0.541088         0.948914   \n",
       "StreamingTV       0.082251    0.088193       0.586049         0.946713   \n",
       "StreamingMovies   0.077506    0.084684       0.586815         0.946294   \n",
       "Duration          0.453688    0.198729       0.347289         0.060845   \n",
       "is_client         0.226688    0.046871       0.105101         0.056621   \n",
       "\n",
       "                  OnlineSecurity  OnlineBackup  DeviceProtection  TechSupport  \\\n",
       "BeginDate               0.460712      0.496176          0.502422     0.455418   \n",
       "Type                    0.636884      0.581660          0.631531     0.671629   \n",
       "PaperlessBilling        0.208320      0.195321          0.195687     0.200621   \n",
       "PaymentMethod           0.315799      0.293413          0.297923     0.317713   \n",
       "MonthlyCharges          0.812632      0.818851          0.827272     0.816660   \n",
       "TotalCharges            0.516119      0.550225          0.558342     0.527587   \n",
       "gender                  0.001460      0.000000          0.000000     0.000000   \n",
       "SeniorCitizen           0.127319      0.109995          0.110177     0.135283   \n",
       "Partner                 0.091202      0.092012          0.100092     0.076326   \n",
       "Dependents              0.117219      0.097766          0.094597     0.109753   \n",
       "MultipleLines           0.540261      0.562933          0.564610     0.541088   \n",
       "InternetService         0.949498      0.942842          0.942811     0.948914   \n",
       "OnlineSecurity          1.000000      0.947224          0.946787     0.952651   \n",
       "OnlineBackup            0.947224      1.000000          0.947487     0.947756   \n",
       "DeviceProtection        0.946787      0.947487          1.000000     0.950247   \n",
       "TechSupport             0.952651      0.947756          0.950247     1.000000   \n",
       "StreamingTV             0.943082      0.945789          0.952863     0.946393   \n",
       "StreamingMovies         0.943248      0.945395          0.953717     0.946417   \n",
       "Duration                0.346398      0.366170          0.374702     0.353438   \n",
       "is_client               0.058659      0.089704          0.085608     0.051537   \n",
       "\n",
       "                  StreamingTV  StreamingMovies  Duration  is_client  \n",
       "BeginDate            0.419599         0.431137  0.978521   0.450254  \n",
       "Type                 0.549564         0.553556  0.634155   0.094015  \n",
       "PaperlessBilling     0.204717         0.202241  0.026799   0.083398  \n",
       "PaymentMethod        0.284531         0.285525  0.350964   0.214832  \n",
       "MonthlyCharges       0.864677         0.863616  0.387727   0.226280  \n",
       "TotalCharges         0.555337         0.554238  0.847414   0.304287  \n",
       "gender               0.000000         0.000000  0.000000   0.008581  \n",
       "SeniorCitizen        0.111714         0.113778  0.063315   0.086159  \n",
       "Partner              0.082251         0.077506  0.453688   0.226688  \n",
       "Dependents           0.088193         0.084684  0.198729   0.046871  \n",
       "MultipleLines        0.586049         0.586815  0.347289   0.105101  \n",
       "InternetService      0.946713         0.946294  0.060845   0.056621  \n",
       "OnlineSecurity       0.943082         0.943248  0.346398   0.058659  \n",
       "OnlineBackup         0.945789         0.945395  0.366170   0.089704  \n",
       "DeviceProtection     0.952863         0.953717  0.374702   0.085608  \n",
       "TechSupport          0.946393         0.946417  0.353438   0.051537  \n",
       "StreamingTV          1.000000         0.965306  0.306675   0.078545  \n",
       "StreamingMovies      0.965306         1.000000  0.307297   0.086577  \n",
       "Duration             0.306675         0.307297  1.000000   0.374569  \n",
       "is_client            0.078545         0.086577  0.374569   1.000000  "
      ]
     },
     "execution_count": 36,
     "metadata": {},
     "output_type": "execute_result"
    }
   ],
   "source": [
    "df.phik_matrix(interval_cols=['MonthlyCharges', 'TotalCharges', 'Duration'])"
   ]
  },
  {
   "cell_type": "code",
   "execution_count": 37,
   "metadata": {
    "colab": {
     "base_uri": "https://localhost:8080/",
     "height": 1000
    },
    "id": "0Paft3Jhv22j",
    "outputId": "cb6046e1-aae4-459e-80ed-9536c7defd39",
    "scrolled": false
   },
   "outputs": [
    {
     "data": {
      "text/plain": [
       "<AxesSubplot:>"
      ]
     },
     "execution_count": 37,
     "metadata": {},
     "output_type": "execute_result"
    },
    {
     "data": {
      "image/png": "[encoded data removed]",
      "text/plain": [
       "<Figure size 1080x864 with 2 Axes>"
      ]
     },
     "metadata": {
      "needs_background": "light"
     },
     "output_type": "display_data"
    }
   ],
   "source": [
    "plt.figure(figsize=(15,12))\n",
    "sns.heatmap(df.phik_matrix(interval_cols=['MonthlyCharges', 'TotalCharges', 'Duration']))"
   ]
  },
  {
   "cell_type": "markdown",
   "metadata": {
    "id": "jK1hXa9Nv22j"
   },
   "source": [
    "Основные коррелирующие с таргетом признаки: `BeginDate`, `Duration`, `TotalCharges`  \n",
    "Похоже, что у клинта есть в компании своего рода \"жизненный цикл\", и по статистике спустя определенный промежуток времени клиент с какой-то долей вероятности захочет отказаться от услуг компании   \n",
    "`gender` подтвердил свою бесполезность \"черным крестом\""
   ]
  },
  {
   "cell_type": "code",
   "execution_count": 38,
   "metadata": {
    "colab": {
     "base_uri": "https://localhost:8080/",
     "height": 447
    },
    "id": "at2gfpxxv22k",
    "outputId": "d6b53657-b7b8-451c-b692-05889286e69f"
   },
   "outputs": [
    {
     "data": {
      "text/plain": [
       "<AxesSubplot:>"
      ]
     },
     "execution_count": 38,
     "metadata": {},
     "output_type": "execute_result"
    },
    {
     "data": {
      "image/png": "[encoded data removed]",
      "text/plain": [
       "<Figure size 432x288 with 1 Axes>"
      ]
     },
     "metadata": {
      "needs_background": "light"
     },
     "output_type": "display_data"
    }
   ],
   "source": [
    "df[df['is_client']==1]['BeginDate'].hist(bins=30)"
   ]
  },
  {
   "cell_type": "code",
   "execution_count": 39,
   "metadata": {
    "colab": {
     "base_uri": "https://localhost:8080/",
     "height": 908
    },
    "id": "7lCZm_wRv22k",
    "outputId": "d06447c5-3e68-46ea-9e94-60af1118ca9d"
   },
   "outputs": [
    {
     "data": {
      "image/png": "[encoded data removed]",
      "text/plain": [
       "<Figure size 864x216 with 1 Axes>"
      ]
     },
     "metadata": {
      "needs_background": "light"
     },
     "output_type": "display_data"
    },
    {
     "data": {
      "image/png": "[encoded data removed]",
      "text/plain": [
       "<Figure size 864x216 with 1 Axes>"
      ]
     },
     "metadata": {
      "needs_background": "light"
     },
     "output_type": "display_data"
    },
    {
     "data": {
      "image/png": "[encoded data removed]",
      "text/plain": [
       "<Figure size 864x216 with 1 Axes>"
      ]
     },
     "metadata": {
      "needs_background": "light"
     },
     "output_type": "display_data"
    }
   ],
   "source": [
    "for x in ['BeginDate', 'Duration', 'TotalCharges']:\n",
    "    plt.figure(figsize=(12,3))\n",
    "    plt.grid()\n",
    "    plt.title(x)\n",
    "    df.groupby('is_client')[x].hist(bins=50, alpha=0.4)\n",
    "    plt.legend(['0', '1'])\n",
    "    plt.show()"
   ]
  },
  {
   "cell_type": "markdown",
   "metadata": {
    "id": "_JEwB14Iv22k"
   },
   "source": [
    "Получается что большая часть клиентов компании - это старые (до 2015 года) и новые (после 2018). В середине же графиков все \"средне\"  \n",
    "Рассмотрим, почему нет второго пика на хвосте последнего графика `TotalCharges`"
   ]
  },
  {
   "cell_type": "code",
   "execution_count": 40,
   "metadata": {
    "colab": {
     "base_uri": "https://localhost:8080/",
     "height": 447
    },
    "id": "Li_Uvk8Jv22k",
    "outputId": "0995bea5-83e0-4c41-bc23-8dc3ac0c6845"
   },
   "outputs": [
    {
     "data": {
      "text/plain": [
       "<AxesSubplot:>"
      ]
     },
     "execution_count": 40,
     "metadata": {},
     "output_type": "execute_result"
    },
    {
     "data": {
      "image/png": "[encoded data removed]",
      "text/plain": [
       "<Figure size 432x288 with 1 Axes>"
      ]
     },
     "metadata": {
      "needs_background": "light"
     },
     "output_type": "display_data"
    }
   ],
   "source": [
    "df[(df['is_client']==1)&(df['Duration']>1500)]['TotalCharges'].hist(bins=15)"
   ]
  },
  {
   "cell_type": "markdown",
   "metadata": {
    "id": "KuyBsPtkv22k"
   },
   "source": [
    "Все в порядке, старые клиенты нашлись и, похоже, исправно платят."
   ]
  },
  {
   "cell_type": "markdown",
   "metadata": {
    "id": "mLxDSqtX1ZJe"
   },
   "source": [
    "### Подготовка к обучению"
   ]
  },
  {
   "cell_type": "markdown",
   "metadata": {},
   "source": [
    "После первого обучения была изучена важность признаков, по итогам решили оставить только самые важные"
   ]
  },
  {
   "cell_type": "code",
   "execution_count": 41,
   "metadata": {
    "id": "NdAG-suv3yAO"
   },
   "outputs": [],
   "source": [
    "target = df['is_client']\n",
    "features = df.drop(columns=['gender', 'is_client', 'BeginDate',\n",
    "                           'OnlineSecurity', 'OnlineBackup', 'DeviceProtection',\n",
    "                           'TechSupport', 'StreamingTV', 'StreamingMovies',\n",
    "                           'Type', 'PaperlessBilling', 'PaymentMethod',\n",
    "                           'Partner', 'Dependents', 'SeniorCitizen'],\n",
    "                   axis=1).reset_index(drop=True)"
   ]
  },
  {
   "cell_type": "markdown",
   "metadata": {
    "id": "B9vRxqShW-mK"
   },
   "source": [
    "Посмотрим на корреляцию признаков между собой"
   ]
  },
  {
   "cell_type": "code",
   "execution_count": 42,
   "metadata": {
    "colab": {
     "base_uri": "https://localhost:8080/",
     "height": 1000
    },
    "id": "cSAGakC5GzEs",
    "outputId": "95d70b54-f62c-41d6-dace-26e3b38a392a",
    "scrolled": false
   },
   "outputs": [
    {
     "data": {
      "text/plain": [
       "<AxesSubplot:>"
      ]
     },
     "execution_count": 42,
     "metadata": {},
     "output_type": "execute_result"
    },
    {
     "data": {
      "image/png": "[encoded data removed]",
      "text/plain": [
       "<Figure size 1080x864 with 2 Axes>"
      ]
     },
     "metadata": {
      "needs_background": "light"
     },
     "output_type": "display_data"
    }
   ],
   "source": [
    "plt.figure(figsize=(15,12))\n",
    "sns.heatmap(features.phik_matrix(interval_cols=['MonthlyCharges', 'TotalCharges', 'Duration']))"
   ]
  },
  {
   "cell_type": "code",
   "execution_count": 43,
   "metadata": {
    "colab": {
     "base_uri": "https://localhost:8080/"
    },
    "id": "PZsSABURA-ov",
    "outputId": "4f722b5c-2a78-45d2-90ac-c55734392776"
   },
   "outputs": [
    {
     "data": {
      "text/plain": [
       "1    5942\n",
       "0    1101\n",
       "Name: is_client, dtype: int64"
      ]
     },
     "execution_count": 43,
     "metadata": {},
     "output_type": "execute_result"
    }
   ],
   "source": [
    "target.value_counts()"
   ]
  },
  {
   "cell_type": "code",
   "execution_count": 44,
   "metadata": {
    "colab": {
     "base_uri": "https://localhost:8080/",
     "height": 360
    },
    "id": "2VlQui5N4qke",
    "outputId": "48557e60-7d0a-4f34-824c-56cf3713e60d",
    "scrolled": true
   },
   "outputs": [
    {
     "name": "stdout",
     "output_type": "stream",
     "text": [
      "<class 'pandas.core.frame.DataFrame'>\n",
      "RangeIndex: 7043 entries, 0 to 7042\n",
      "Data columns (total 5 columns):\n",
      " #   Column           Non-Null Count  Dtype  \n",
      "---  ------           --------------  -----  \n",
      " 0   MonthlyCharges   7043 non-null   float64\n",
      " 1   TotalCharges     7043 non-null   float64\n",
      " 2   MultipleLines    7043 non-null   object \n",
      " 3   InternetService  7043 non-null   object \n",
      " 4   Duration         7043 non-null   int64  \n",
      "dtypes: float64(2), int64(1), object(2)\n",
      "memory usage: 275.2+ KB\n"
     ]
    }
   ],
   "source": [
    "features.info()"
   ]
  },
  {
   "cell_type": "code",
   "execution_count": 45,
   "metadata": {
    "colab": {
     "base_uri": "https://localhost:8080/"
    },
    "id": "m7t8X0T54xsr",
    "outputId": "76014d8e-ecd0-4b52-fc96-be8087bd0142"
   },
   "outputs": [
    {
     "data": {
      "text/plain": [
       "((5282, 5), (5282,), (1761, 5), (1761,))"
      ]
     },
     "execution_count": 45,
     "metadata": {},
     "output_type": "execute_result"
    }
   ],
   "source": [
    "features_train, features_test, target_train, target_test = train_test_split(\n",
    "            features, target, test_size = 0.25, random_state=random_state, stratify=target,\n",
    "             shuffle=True)\n",
    "\n",
    "features_train.shape, target_train.shape, features_test.shape, target_test.shape"
   ]
  },
  {
   "cell_type": "code",
   "execution_count": 46,
   "metadata": {
    "id": "OFWybpt_YloG",
    "outputId": "44ba7e92-c401-43aa-df27-257af09c43cf"
   },
   "outputs": [
    {
     "name": "stdout",
     "output_type": "stream",
     "text": [
      "['MultipleLines', 'InternetService']\n",
      "['MonthlyCharges', 'TotalCharges', 'Duration']\n"
     ]
    }
   ],
   "source": [
    "#категориальные признаки для OHE\n",
    "ohe_features = features_train.select_dtypes(include='object').columns.to_list()\n",
    "print(ohe_features)\n",
    "\n",
    "#численные признаки\n",
    "num_features = features_train.select_dtypes(exclude='object').columns.to_list()\n",
    "# num_features.remove('SeniorCitizen')\n",
    "print(num_features)"
   ]
  },
  {
   "cell_type": "code",
   "execution_count": 47,
   "metadata": {
    "collapsed": true,
    "id": "Ftdv13A0YloG",
    "outputId": "f26e8d51-ca90-4651-c379-8c44db75cfb7"
   },
   "outputs": [
    {
     "name": "stderr",
     "output_type": "stream",
     "text": [
      "/tmp/ipykernel_264/36959420.py:12: SettingWithCopyWarning: \n",
      "A value is trying to be set on a copy of a slice from a DataFrame.\n",
      "Try using .loc[row_indexer,col_indexer] = value instead\n",
      "\n",
      "See the caveats in the documentation: https://pandas.pydata.org/pandas-docs/stable/user_guide/indexing.html#returning-a-view-versus-a-copy\n",
      "  features_train[\n",
      "/opt/conda/lib/python3.9/site-packages/pandas/core/indexing.py:1738: SettingWithCopyWarning: \n",
      "A value is trying to be set on a copy of a slice from a DataFrame.\n",
      "Try using .loc[row_indexer,col_indexer] = value instead\n",
      "\n",
      "See the caveats in the documentation: https://pandas.pydata.org/pandas-docs/stable/user_guide/indexing.html#returning-a-view-versus-a-copy\n",
      "  self._setitem_single_column(loc, value[:, i].tolist(), pi)\n"
     ]
    }
   ],
   "source": [
    "encoder_ohe = OneHotEncoder(drop='first', sparse=False)\n",
    "\n",
    "# обучаем энкодер на заданных категориальных признаках тренировочной выборки\n",
    "encoder_ohe.fit(features_train[ohe_features])\n",
    "\n",
    "# добавляем закодированные признаки в X_train_ohe\n",
    "# encoder_ohe.get_feature_names_out() позволяет получить названия колонок\n",
    "features_train[\n",
    "    encoder_ohe.get_feature_names()\n",
    "] = encoder_ohe.transform(features_train[ohe_features])\n",
    "\n",
    "# удаляем незакодированные категориальные признаки (изначальные колонки)\n",
    "features_train = features_train.drop(ohe_features, axis=1)"
   ]
  },
  {
   "cell_type": "code",
   "execution_count": 48,
   "metadata": {
    "collapsed": true,
    "id": "-O1OaEmzYloH",
    "outputId": "3baf31a7-8856-4145-bc3a-08d9847bab97"
   },
   "outputs": [
    {
     "name": "stderr",
     "output_type": "stream",
     "text": [
      "/tmp/ipykernel_264/4273399300.py:1: SettingWithCopyWarning: \n",
      "A value is trying to be set on a copy of a slice from a DataFrame.\n",
      "Try using .loc[row_indexer,col_indexer] = value instead\n",
      "\n",
      "See the caveats in the documentation: https://pandas.pydata.org/pandas-docs/stable/user_guide/indexing.html#returning-a-view-versus-a-copy\n",
      "  features_test[\n",
      "/opt/conda/lib/python3.9/site-packages/pandas/core/indexing.py:1738: SettingWithCopyWarning: \n",
      "A value is trying to be set on a copy of a slice from a DataFrame.\n",
      "Try using .loc[row_indexer,col_indexer] = value instead\n",
      "\n",
      "See the caveats in the documentation: https://pandas.pydata.org/pandas-docs/stable/user_guide/indexing.html#returning-a-view-versus-a-copy\n",
      "  self._setitem_single_column(loc, value[:, i].tolist(), pi)\n"
     ]
    }
   ],
   "source": [
    "features_test[\n",
    "    encoder_ohe.get_feature_names()\n",
    "] = encoder_ohe.transform(features_test[ohe_features])\n",
    "\n",
    "# удаляем незакодированные категориальные признаки (изначальные колонки)\n",
    "features_test = features_test.drop(ohe_features, axis=1)"
   ]
  },
  {
   "cell_type": "code",
   "execution_count": 49,
   "metadata": {
    "id": "4MTRYClWYloH",
    "outputId": "3457dc80-c76e-4fb4-a9a5-c74d352212c5"
   },
   "outputs": [
    {
     "data": {
      "text/html": [
       "<div>\n",
       "<style scoped>\n",
       "    .dataframe tbody tr th:only-of-type {\n",
       "        vertical-align: middle;\n",
       "    }\n",
       "\n",
       "    .dataframe tbody tr th {\n",
       "        vertical-align: top;\n",
       "    }\n",
       "\n",
       "    .dataframe thead th {\n",
       "        text-align: right;\n",
       "    }\n",
       "</style>\n",
       "<table border=\"1\" class=\"dataframe\">\n",
       "  <thead>\n",
       "    <tr style=\"text-align: right;\">\n",
       "      <th></th>\n",
       "      <th>MonthlyCharges</th>\n",
       "      <th>TotalCharges</th>\n",
       "      <th>Duration</th>\n",
       "      <th>x0_Yes</th>\n",
       "      <th>x0_not_used</th>\n",
       "      <th>x1_Fiber optic</th>\n",
       "      <th>x1_not_used</th>\n",
       "    </tr>\n",
       "  </thead>\n",
       "  <tbody>\n",
       "    <tr>\n",
       "      <th>5237</th>\n",
       "      <td>-0.324813</td>\n",
       "      <td>-0.319019</td>\n",
       "      <td>-0.143956</td>\n",
       "      <td>0.0</td>\n",
       "      <td>0.0</td>\n",
       "      <td>0.0</td>\n",
       "      <td>0.0</td>\n",
       "    </tr>\n",
       "    <tr>\n",
       "      <th>6425</th>\n",
       "      <td>-0.674145</td>\n",
       "      <td>-0.134022</td>\n",
       "      <td>0.524537</td>\n",
       "      <td>0.0</td>\n",
       "      <td>1.0</td>\n",
       "      <td>0.0</td>\n",
       "      <td>0.0</td>\n",
       "    </tr>\n",
       "    <tr>\n",
       "      <th>2928</th>\n",
       "      <td>1.017621</td>\n",
       "      <td>2.374846</td>\n",
       "      <td>1.735171</td>\n",
       "      <td>0.0</td>\n",
       "      <td>0.0</td>\n",
       "      <td>1.0</td>\n",
       "      <td>0.0</td>\n",
       "    </tr>\n",
       "    <tr>\n",
       "      <th>634</th>\n",
       "      <td>-0.331467</td>\n",
       "      <td>0.040085</td>\n",
       "      <td>0.481930</td>\n",
       "      <td>0.0</td>\n",
       "      <td>1.0</td>\n",
       "      <td>0.0</td>\n",
       "      <td>0.0</td>\n",
       "    </tr>\n",
       "    <tr>\n",
       "      <th>2378</th>\n",
       "      <td>0.192531</td>\n",
       "      <td>0.205221</td>\n",
       "      <td>0.301217</td>\n",
       "      <td>0.0</td>\n",
       "      <td>0.0</td>\n",
       "      <td>1.0</td>\n",
       "      <td>0.0</td>\n",
       "    </tr>\n",
       "  </tbody>\n",
       "</table>\n",
       "</div>"
      ],
      "text/plain": [
       "      MonthlyCharges  TotalCharges  Duration  x0_Yes  x0_not_used  \\\n",
       "5237       -0.324813     -0.319019 -0.143956     0.0          0.0   \n",
       "6425       -0.674145     -0.134022  0.524537     0.0          1.0   \n",
       "2928        1.017621      2.374846  1.735171     0.0          0.0   \n",
       "634        -0.331467      0.040085  0.481930     0.0          1.0   \n",
       "2378        0.192531      0.205221  0.301217     0.0          0.0   \n",
       "\n",
       "      x1_Fiber optic  x1_not_used  \n",
       "5237             0.0          0.0  \n",
       "6425             0.0          0.0  \n",
       "2928             1.0          0.0  \n",
       "634              0.0          0.0  \n",
       "2378             1.0          0.0  "
      ]
     },
     "execution_count": 49,
     "metadata": {},
     "output_type": "execute_result"
    }
   ],
   "source": [
    "# создаём скелер\n",
    "scaler = StandardScaler()\n",
    "\n",
    "# обучаем его на численных признаках тренировочной выборки, трансформируем её же\n",
    "features_train[num_features] = scaler.fit_transform(features_train[num_features])\n",
    "features_test[num_features] = scaler.transform(features_test[num_features])\n",
    "\n",
    "# смотрим на результат\n",
    "features_train.head()"
   ]
  },
  {
   "cell_type": "code",
   "execution_count": 50,
   "metadata": {
    "colab": {
     "base_uri": "https://localhost:8080/"
    },
    "id": "O5vdWWXo41Pf",
    "outputId": "f00cfeac-4ac4-4eb4-e782-2a273936f303"
   },
   "outputs": [
    {
     "data": {
      "text/plain": [
       "(5282, 7)"
      ]
     },
     "execution_count": 50,
     "metadata": {},
     "output_type": "execute_result"
    }
   ],
   "source": [
    "features_train.shape"
   ]
  },
  {
   "cell_type": "markdown",
   "metadata": {
    "id": "UcuWhpCwBNly"
   },
   "source": [
    "### Обучение моделей"
   ]
  },
  {
   "cell_type": "code",
   "execution_count": 52,
   "metadata": {
    "colab": {
     "base_uri": "https://localhost:8080/"
    },
    "id": "YKp2HiwzAOgM",
    "outputId": "cecadba8-8444-4f3a-d84f-148810d5c763"
   },
   "outputs": [
    {
     "name": "stdout",
     "output_type": "stream",
     "text": [
      "[0.69339584 0.67386042 0.70688705 0.7392579  0.70926096]\n"
     ]
    }
   ],
   "source": [
    "model_LR = LogisticRegression(random_state=random_state, solver='liblinear', class_weight='balanced')\n",
    "grid={\"C\":[0.1, 1, 10, 100], \"penalty\":[\"l1\",\"l2\"]}\n",
    "lr_cv=GridSearchCV(model_LR, grid, cv=10)\n",
    "lr_cv.fit(features_train,target_train)\n",
    "res_lr = cross_val_score(lr_cv, features_train, target_train, cv=5, scoring='roc_auc')\n",
    "print(res_lr)"
   ]
  },
  {
   "cell_type": "code",
   "execution_count": 53,
   "metadata": {
    "id": "dATCnWudYloI",
    "outputId": "559078eb-1dcc-4b7b-a87c-fe5d80602f04"
   },
   "outputs": [
    {
     "data": {
      "text/plain": [
       "{'C': 10, 'penalty': 'l1'}"
      ]
     },
     "execution_count": 53,
     "metadata": {},
     "output_type": "execute_result"
    }
   ],
   "source": [
    "lr_cv.best_params_"
   ]
  },
  {
   "cell_type": "code",
   "execution_count": 54,
   "metadata": {
    "id": "6VdSvq7FYloK",
    "outputId": "0d05c0bb-18b9-4f86-8918-3cebc4d40185"
   },
   "outputs": [
    {
     "name": "stdout",
     "output_type": "stream",
     "text": [
      "Fitting 5 folds for each of 12 candidates, totalling 60 fits\n"
     ]
    }
   ],
   "source": [
    "rf = RandomForestClassifier()\n",
    "\n",
    "param_grid = [\n",
    "    {\n",
    "     'class_weight' : ['balanced'],\n",
    "     'max_depth' : list(range(3,13,3)),\n",
    "    'n_estimators' : list(range(100,201,50)),\n",
    "    'random_state' : list([random_state])}\n",
    "]\n",
    "\n",
    "clf = GridSearchCV(rf, param_grid = param_grid, cv = 5, verbose=True,\n",
    "                   n_jobs=-1, scoring='roc_auc')\n",
    "\n",
    "best_clf = clf.fit(features_train, target_train)"
   ]
  },
  {
   "cell_type": "code",
   "execution_count": 55,
   "metadata": {
    "id": "1wu-dVJ4YloK",
    "outputId": "b708ae52-b0e2-4967-9136-bb763ba27816"
   },
   "outputs": [
    {
     "name": "stdout",
     "output_type": "stream",
     "text": [
      "best_score: 0.7818230269440217\n",
      "{'classifier': RandomForestClassifier(class_weight='balanced', max_depth=6,\n",
      "                       random_state=280823), 'classifier__class_weight': 'balanced', 'classifier__max_depth': 6, 'classifier__n_estimators': 100, 'classifier__random_state': 280823}\n"
     ]
    }
   ],
   "source": [
    "print(f'best_score: {best_clf.best_score_}')\n",
    "print(best_clf.best_params_)"
   ]
  },
  {
   "cell_type": "code",
   "execution_count": 57,
   "metadata": {
    "id": "m04HJPGeYloL",
    "outputId": "b04a4251-c976-43e1-fdcb-05230f74cab3",
    "scrolled": true
   },
   "outputs": [
    {
     "data": {
      "text/plain": [
       "GridSearchCV(cv=3,\n",
       "             estimator=<catboost.core.CatBoostClassifier object at 0x7f1adba9cd60>,\n",
       "             param_grid={'depth': [2, 3, 4], 'iterations': [200, 400, 600],\n",
       "                         'learning_rate': [0.2, 0.30000000000000004,\n",
       "                                           0.4000000000000001]},\n",
       "             scoring='roc_auc', verbose=False)"
      ]
     },
     "execution_count": 57,
     "metadata": {},
     "output_type": "execute_result"
    }
   ],
   "source": [
    "# Initialize CatBoostClassifier\n",
    "cb = CatBoostClassifier(  verbose=False,\n",
    "                        random_seed=random_state)\n",
    "\n",
    "param_grid = {'learning_rate': list(np.arange(0.2, 0.41, 0.1)),\n",
    "            'depth': list(range(2,5,1)),\n",
    "            'iterations' : list(range(200,601,200))}\n",
    "\n",
    "cb = GridSearchCV(cb, param_grid,\n",
    "                  scoring='roc_auc',\n",
    "                  cv=3,\n",
    "                  refit=True,\n",
    "                  verbose=False)\n",
    "\n",
    "cb.fit(features_train, target_train)"
   ]
  },
  {
   "cell_type": "code",
   "execution_count": 58,
   "metadata": {
    "id": "Q0C6rHb_YloL",
    "outputId": "5788f884-8370-4dd5-bc5c-1ed78d3af383"
   },
   "outputs": [
    {
     "data": {
      "text/plain": [
       "0.8967770496138016"
      ]
     },
     "execution_count": 58,
     "metadata": {},
     "output_type": "execute_result"
    }
   ],
   "source": [
    "cb.best_score_"
   ]
  },
  {
   "cell_type": "code",
   "execution_count": 59,
   "metadata": {
    "id": "57dACP0MYloM",
    "outputId": "9ae15342-f084-4901-e7bd-90990ab94034",
    "scrolled": true
   },
   "outputs": [
    {
     "data": {
      "text/plain": [
       "{'depth': 2, 'iterations': 600, 'learning_rate': 0.30000000000000004}"
      ]
     },
     "execution_count": 59,
     "metadata": {},
     "output_type": "execute_result"
    }
   ],
   "source": [
    "cb.best_params_"
   ]
  },
  {
   "cell_type": "markdown",
   "metadata": {
    "id": "vv9LhFleYloM"
   },
   "source": [
    "Лучшие параметры из рассмотренных моделей у Catboost - 0,89 на обучении"
   ]
  },
  {
   "cell_type": "markdown",
   "metadata": {
    "id": "KbNwIW5-MllI"
   },
   "source": [
    "### Тестирование лучшей модели. Catboost"
   ]
  },
  {
   "cell_type": "code",
   "execution_count": 60,
   "metadata": {
    "id": "0gPJBELcYloN",
    "outputId": "ed7afa44-d5c3-4d05-8509-f8e0ff780862",
    "scrolled": true
   },
   "outputs": [
    {
     "name": "stdout",
     "output_type": "stream",
     "text": [
      "Значение AUC-ROC модели: 0.9289783433255843\n"
     ]
    }
   ],
   "source": [
    "proba = cb.predict_proba(features_test)[:,1]\n",
    "print('Значение AUC-ROC модели:', roc_auc_score(target_test, proba))"
   ]
  },
  {
   "cell_type": "code",
   "execution_count": 61,
   "metadata": {
    "colab": {
     "base_uri": "https://localhost:8080/"
    },
    "id": "DnS_Qq8LF0hg",
    "outputId": "3abf3e86-54f8-4c3b-c2b4-6a41c502e996"
   },
   "outputs": [
    {
     "name": "stdout",
     "output_type": "stream",
     "text": [
      "Значение accuracy_score модели: 0.9477569562748438\n"
     ]
    }
   ],
   "source": [
    "preds = cb.predict(features_test)\n",
    "print('Значение accuracy_score модели:', accuracy_score(target_test, preds))"
   ]
  },
  {
   "cell_type": "code",
   "execution_count": 62,
   "metadata": {
    "colab": {
     "base_uri": "https://localhost:8080/",
     "height": 472
    },
    "id": "xgfWLPclNd3Y",
    "outputId": "16a647c5-20de-44fc-d446-5ce9427935fd"
   },
   "outputs": [
    {
     "data": {
      "image/png": "[encoded data removed]",
      "text/plain": [
       "<Figure size 432x288 with 2 Axes>"
      ]
     },
     "metadata": {
      "needs_background": "light"
     },
     "output_type": "display_data"
    }
   ],
   "source": [
    "conf_matrix = confusion_matrix(target_test, preds)\n",
    "vis = ConfusionMatrixDisplay(confusion_matrix=conf_matrix, display_labels=cb.classes_)\n",
    "vis.plot()\n",
    "plt.title('Сonfusion_matrix модели')\n",
    "plt.show()"
   ]
  },
  {
   "cell_type": "markdown",
   "metadata": {
    "id": "QWIdjmLdYloN"
   },
   "source": [
    "Матрица ошибок:  \n",
    "189 ушедших клиентов успешно обнаружены  \n",
    "86 не найдены  \n",
    "И только 6 действующих клиентов помечены как ушедшие  "
   ]
  },
  {
   "cell_type": "code",
   "execution_count": 63,
   "metadata": {
    "id": "tOEUYtOzYloO",
    "outputId": "a9a3bdbb-96d3-44d8-9776-0fee868bd378"
   },
   "outputs": [
    {
     "data": {
      "image/png": "[encoded data removed]",
      "text/plain": [
       "<Figure size 432x288 with 1 Axes>"
      ]
     },
     "metadata": {
      "needs_background": "light"
     },
     "output_type": "display_data"
    }
   ],
   "source": [
    "plt.barh(features_train.columns, cb.best_estimator_.feature_importances_)\n",
    "plt.title('Важность признаков')\n",
    "plt.xlabel('Importance')\n",
    "plt.ylabel('Features')\n",
    "plt.show;"
   ]
  },
  {
   "cell_type": "markdown",
   "metadata": {
    "id": "p3hiEtSKYloO"
   },
   "source": [
    "График важности признаков, показал, что самым важным для модели был признак `Duration`, посчитанный нами из даты заключения и расторжения контракта."
   ]
  },
  {
   "cell_type": "code",
   "execution_count": 64,
   "metadata": {
    "id": "u5zEAfHOYloP",
    "outputId": "7caabbd9-7e5b-4c83-cddb-bf08f427f2ad"
   },
   "outputs": [
    {
     "data": {
      "image/png": "[encoded data removed]",
      "text/plain": [
       "<Figure size 720x576 with 1 Axes>"
      ]
     },
     "metadata": {
      "needs_background": "light"
     },
     "output_type": "display_data"
    }
   ],
   "source": [
    "train_predicted = cb.predict_proba(features_train)[:, 1]\n",
    "test_predicted = cb.predict_proba(features_test)[:, 1]\n",
    "fig, ax = plt.subplots(figsize=(10, 8))\n",
    "ax.plot(*roc_curve(target_test, test_predicted)[:2], label='test')\n",
    "ax.plot(*roc_curve(target_train, train_predicted)[:2], label='train')\n",
    "ax.legend()\n",
    "ax.set(xlabel='False positive rate', ylabel='True positive rate',\n",
    "       title='ROC_AUC CatBoost with depth = 2, iterations = 600, learning_rate = 0.3')\n",
    "ax.grid()\n",
    "ax.set_yticks(np.linspace(0, 1, 11))\n",
    "ax.set_xticks(np.linspace(0, 1, 11));"
   ]
  },
  {
   "cell_type": "markdown",
   "metadata": {
    "id": "8hRPOWABMtK4"
   },
   "source": [
    "### Вывод"
   ]
  },
  {
   "cell_type": "markdown",
   "metadata": {
    "id": "1YAzo_TyO5Ab"
   },
   "source": [
    "В ходе исследования были проведены следующие этапы:\n",
    "- Предобработка данных (заполнение пропусков, объединение таблиц)\n",
    "- Исследовательский анализ (поиск взаимосвязей в признаках, изучение распределений)\n",
    "- Подготовка данных к обучению (удаление лишних стобцов, разделение на выборки, кодирование, масштабирование)\n",
    "- Обучение моделей (LogisticRegression, RandomForest, Catboost), подбор гиперпараметров, кросс-валидация\n",
    "- Тестирование лучшей модели и изучение ее параметров\n",
    "\n",
    "Лучшие характеристики показала модель **Catboost**:\n",
    "- Значение roc-auc модели: 0.93\n",
    "- Значение accuracy_score модели: 0.95\n",
    "\n",
    "Параметры модели:\n",
    "> iterations=600,  \n",
    "learning_rate=0.3,  \n",
    "depth=2,  \n",
    "random_seed=280823\n",
    "\n",
    "Матрица ошибок показала, что 189 ушедших клиентов успешно обнаружены  \n",
    "86 не найдены  \n",
    "И только 6 действующих клиентов помечены как ушедшие.  \n",
    "Можно с большой долей вероятности заключить, что практически каждый, кого модель пометит как \"уходящего\" клиента, в действительности окажется таковым\n"
   ]
  },
  {
   "cell_type": "markdown",
   "metadata": {
    "id": "qzyby35bZR2i"
   },
   "source": [
    "### Отчет"
   ]
  },
  {
   "attachments": {
    "image-2.png": {
     "image/png": "[encoded data removed]"
    },
    "image-3.png": {
     "image/png": "[encoded data removed]"
    },
    "image-4.png": {
     "image/png": "[encoded data removed]"
    }
   },
   "cell_type": "markdown",
   "metadata": {
    "id": "NH5kyomjZAgj"
   },
   "source": [
    "В ходе исследования были пройдены все этапы согласно плану:\n",
    "> 1. Предобработка данных (заполнение пропусков, объединение таблиц)  \n",
    "2. Исследовательский анализ (поиск взаимосвязей в признаках, изучение распределений)  \n",
    "3. Подготовка данных к обучению (удаление лишних стобцов, разделение на выборки, кодирование, масштабирование)  \n",
    "4. Обучение моделей (LogisticRegression, RandomForest, Catboost), подбор гиперпараметров, кросс-валидация  \n",
    "5. Тестирование лучшей модели и изучение ее параметров  \n",
    "6. Вывод, включающий:  \n",
    "  * Параметр ROC-AUC для выбранной модели  \n",
    "  * Параметр accuracy  \n",
    "  * Confusion matrix  \n",
    "\n",
    "\n",
    "Ключевые шаги выполнения проекта:\n",
    "* Изучение данных, предобработка\n",
    "* Отбор нужных признаков\n",
    "* Подбор гиперпараметров модели\n",
    "\n",
    "\n",
    "В итоге наилучшие результаты показала модель, обученная на признаках:\n",
    ">MonthlyCharges (масштабирование)  \n",
    "TotalCharges (масштабирование)      \n",
    "MultipleLines (кодирование)      \n",
    "InternetService (кодирование)   \n",
    "Duration (масштабирование)   \n",
    "\n",
    "\n",
    "Лучшие характеристики показала модель **Catboost**:\n",
    "- Значение roc-auc модели: 0.93\n",
    "- Значение accuracy_score модели: 0.95\n",
    "\n",
    "\n",
    "Параметры модели:\n",
    "> iterations=600,  \n",
    "learning_rate=0.3,  \n",
    "depth=2,  \n",
    "random_seed=280823\n",
    "\n",
    "![image-3.png](attachment:image-3.png)\n",
    "![image-4.png](attachment:image-4.png)\n",
    "![image-2.png](attachment:image-2.png)"
   ]
  }
 ],
 "metadata": {
  "ExecuteTimeLog": [
   {
    "duration": 555,
    "start_time": "2023-08-28T23:11:46.891Z"
   },
   {
    "duration": 2,
    "start_time": "2023-08-28T23:11:47.448Z"
   },
   {
    "duration": 107,
    "start_time": "2023-08-28T23:11:47.452Z"
   },
   {
    "duration": 11,
    "start_time": "2023-08-28T23:11:47.561Z"
   },
   {
    "duration": 11,
    "start_time": "2023-08-28T23:11:47.574Z"
   },
   {
    "duration": 5,
    "start_time": "2023-08-28T23:11:47.587Z"
   },
   {
    "duration": 10,
    "start_time": "2023-08-28T23:11:47.593Z"
   },
   {
    "duration": 12,
    "start_time": "2023-08-28T23:11:47.605Z"
   },
   {
    "duration": 22,
    "start_time": "2023-08-28T23:11:47.619Z"
   },
   {
    "duration": 11,
    "start_time": "2023-08-28T23:11:47.644Z"
   },
   {
    "duration": 4,
    "start_time": "2023-08-28T23:11:47.657Z"
   },
   {
    "duration": 12,
    "start_time": "2023-08-28T23:11:47.662Z"
   },
   {
    "duration": 18,
    "start_time": "2023-08-28T23:11:47.676Z"
   },
   {
    "duration": 226,
    "start_time": "2023-08-28T23:11:47.695Z"
   },
   {
    "duration": 197,
    "start_time": "2023-08-28T23:11:47.923Z"
   },
   {
    "duration": 16,
    "start_time": "2023-08-28T23:11:48.121Z"
   },
   {
    "duration": 17,
    "start_time": "2023-08-28T23:11:48.138Z"
   },
   {
    "duration": 10,
    "start_time": "2023-08-28T23:11:48.156Z"
   },
   {
    "duration": 11,
    "start_time": "2023-08-28T23:11:48.167Z"
   },
   {
    "duration": 10,
    "start_time": "2023-08-28T23:11:48.179Z"
   },
   {
    "duration": 9,
    "start_time": "2023-08-28T23:11:48.191Z"
   },
   {
    "duration": 14,
    "start_time": "2023-08-28T23:11:48.201Z"
   },
   {
    "duration": 1055,
    "start_time": "2023-08-28T23:11:48.234Z"
   },
   {
    "duration": 0,
    "start_time": "2023-08-28T23:11:49.290Z"
   },
   {
    "duration": 0,
    "start_time": "2023-08-28T23:11:49.291Z"
   },
   {
    "duration": 0,
    "start_time": "2023-08-28T23:11:49.293Z"
   },
   {
    "duration": 0,
    "start_time": "2023-08-28T23:11:49.294Z"
   },
   {
    "duration": 0,
    "start_time": "2023-08-28T23:11:49.295Z"
   },
   {
    "duration": 0,
    "start_time": "2023-08-28T23:11:49.296Z"
   },
   {
    "duration": 0,
    "start_time": "2023-08-28T23:11:49.297Z"
   },
   {
    "duration": 936,
    "start_time": "2023-08-29T11:03:48.557Z"
   },
   {
    "duration": 2,
    "start_time": "2023-08-29T11:03:49.496Z"
   },
   {
    "duration": 518,
    "start_time": "2023-08-29T11:03:49.500Z"
   },
   {
    "duration": 23,
    "start_time": "2023-08-29T11:03:50.022Z"
   },
   {
    "duration": 41,
    "start_time": "2023-08-29T11:03:50.047Z"
   },
   {
    "duration": 17,
    "start_time": "2023-08-29T11:03:50.090Z"
   },
   {
    "duration": 31,
    "start_time": "2023-08-29T11:03:50.109Z"
   },
   {
    "duration": 38,
    "start_time": "2023-08-29T11:03:50.142Z"
   },
   {
    "duration": 31,
    "start_time": "2023-08-29T11:03:50.181Z"
   },
   {
    "duration": 22,
    "start_time": "2023-08-29T11:03:50.217Z"
   },
   {
    "duration": 21,
    "start_time": "2023-08-29T11:03:50.241Z"
   },
   {
    "duration": 38,
    "start_time": "2023-08-29T11:03:50.264Z"
   },
   {
    "duration": 44,
    "start_time": "2023-08-29T11:03:50.304Z"
   },
   {
    "duration": 301,
    "start_time": "2023-08-29T11:03:50.349Z"
   },
   {
    "duration": 266,
    "start_time": "2023-08-29T11:03:50.652Z"
   },
   {
    "duration": 12,
    "start_time": "2023-08-29T11:03:50.920Z"
   },
   {
    "duration": 30,
    "start_time": "2023-08-29T11:03:50.934Z"
   },
   {
    "duration": 18,
    "start_time": "2023-08-29T11:03:50.969Z"
   },
   {
    "duration": 24,
    "start_time": "2023-08-29T11:03:50.989Z"
   },
   {
    "duration": 32,
    "start_time": "2023-08-29T11:03:51.014Z"
   },
   {
    "duration": 35,
    "start_time": "2023-08-29T11:03:51.048Z"
   },
   {
    "duration": 30,
    "start_time": "2023-08-29T11:03:51.085Z"
   },
   {
    "duration": 2031,
    "start_time": "2023-08-29T11:03:51.117Z"
   },
   {
    "duration": 0,
    "start_time": "2023-08-29T11:03:53.150Z"
   },
   {
    "duration": 0,
    "start_time": "2023-08-29T11:03:53.152Z"
   },
   {
    "duration": 0,
    "start_time": "2023-08-29T11:03:53.154Z"
   },
   {
    "duration": 0,
    "start_time": "2023-08-29T11:03:53.155Z"
   },
   {
    "duration": 0,
    "start_time": "2023-08-29T11:03:53.157Z"
   },
   {
    "duration": 0,
    "start_time": "2023-08-29T11:03:53.159Z"
   },
   {
    "duration": 0,
    "start_time": "2023-08-29T11:03:53.161Z"
   },
   {
    "duration": 2017,
    "start_time": "2023-08-29T11:04:23.430Z"
   },
   {
    "duration": 3,
    "start_time": "2023-08-29T11:04:46.942Z"
   },
   {
    "duration": 31,
    "start_time": "2023-08-29T11:04:46.948Z"
   },
   {
    "duration": 4,
    "start_time": "2023-08-29T11:04:46.986Z"
   },
   {
    "duration": 33,
    "start_time": "2023-08-29T11:04:46.991Z"
   },
   {
    "duration": 21,
    "start_time": "2023-08-29T11:04:47.026Z"
   },
   {
    "duration": 30,
    "start_time": "2023-08-29T11:04:47.049Z"
   },
   {
    "duration": 18,
    "start_time": "2023-08-29T11:04:47.087Z"
   },
   {
    "duration": 0,
    "start_time": "2023-08-29T11:04:47.107Z"
   },
   {
    "duration": 14,
    "start_time": "2023-08-29T11:05:10.838Z"
   },
   {
    "duration": 29,
    "start_time": "2023-08-29T11:07:03.481Z"
   },
   {
    "duration": 25,
    "start_time": "2023-08-29T11:07:06.537Z"
   },
   {
    "duration": 4,
    "start_time": "2023-08-29T13:55:13.842Z"
   },
   {
    "duration": 6,
    "start_time": "2023-08-29T13:55:33.946Z"
   },
   {
    "duration": 173,
    "start_time": "2023-08-29T13:55:48.114Z"
   },
   {
    "duration": 4,
    "start_time": "2023-08-29T13:56:04.742Z"
   },
   {
    "duration": 9,
    "start_time": "2023-08-29T13:56:14.218Z"
   },
   {
    "duration": 4,
    "start_time": "2023-08-29T13:56:24.866Z"
   },
   {
    "duration": 6,
    "start_time": "2023-08-29T13:56:34.290Z"
   },
   {
    "duration": 5,
    "start_time": "2023-08-29T13:56:47.465Z"
   },
   {
    "duration": 5,
    "start_time": "2023-08-29T13:57:01.134Z"
   },
   {
    "duration": 5,
    "start_time": "2023-08-29T13:57:05.510Z"
   },
   {
    "duration": 120,
    "start_time": "2023-08-29T13:57:12.950Z"
   },
   {
    "duration": 5,
    "start_time": "2023-08-29T13:57:24.917Z"
   },
   {
    "duration": 125,
    "start_time": "2023-08-29T13:57:37.390Z"
   },
   {
    "duration": 6,
    "start_time": "2023-08-29T14:02:10.526Z"
   },
   {
    "duration": 11,
    "start_time": "2023-08-29T14:02:40.430Z"
   },
   {
    "duration": 4,
    "start_time": "2023-08-29T14:03:37.614Z"
   },
   {
    "duration": 7,
    "start_time": "2023-08-29T14:03:48.390Z"
   },
   {
    "duration": 5,
    "start_time": "2023-08-29T14:03:55.078Z"
   },
   {
    "duration": 4,
    "start_time": "2023-08-29T14:04:18.338Z"
   },
   {
    "duration": 764,
    "start_time": "2023-08-29T14:09:56.769Z"
   },
   {
    "duration": 15,
    "start_time": "2023-08-29T14:10:12.801Z"
   },
   {
    "duration": 25,
    "start_time": "2023-08-29T14:10:53.409Z"
   },
   {
    "duration": 33,
    "start_time": "2023-08-29T14:11:00.897Z"
   },
   {
    "duration": 6,
    "start_time": "2023-08-29T16:10:31.853Z"
   },
   {
    "duration": 13,
    "start_time": "2023-08-29T16:10:37.796Z"
   },
   {
    "duration": 16,
    "start_time": "2023-08-29T16:10:47.489Z"
   },
   {
    "duration": 7,
    "start_time": "2023-08-29T16:11:11.897Z"
   },
   {
    "duration": 14,
    "start_time": "2023-08-29T16:12:58.794Z"
   },
   {
    "duration": 14,
    "start_time": "2023-08-29T16:13:01.897Z"
   },
   {
    "duration": 17,
    "start_time": "2023-08-29T16:13:03.529Z"
   },
   {
    "duration": 8,
    "start_time": "2023-08-29T16:13:36.380Z"
   },
   {
    "duration": 820,
    "start_time": "2023-08-29T16:13:37.729Z"
   },
   {
    "duration": 21,
    "start_time": "2023-08-29T16:13:44.378Z"
   },
   {
    "duration": 727,
    "start_time": "2023-08-29T16:14:16.892Z"
   },
   {
    "duration": 252,
    "start_time": "2023-08-29T20:58:33.625Z"
   },
   {
    "duration": 3,
    "start_time": "2023-08-29T20:58:50.985Z"
   },
   {
    "duration": 6,
    "start_time": "2023-08-29T20:58:50.990Z"
   },
   {
    "duration": 102,
    "start_time": "2023-08-29T20:58:50.999Z"
   },
   {
    "duration": 12,
    "start_time": "2023-08-29T20:58:51.103Z"
   },
   {
    "duration": 10,
    "start_time": "2023-08-29T20:58:51.117Z"
   },
   {
    "duration": 7,
    "start_time": "2023-08-29T20:58:51.129Z"
   },
   {
    "duration": 9,
    "start_time": "2023-08-29T20:58:51.137Z"
   },
   {
    "duration": 15,
    "start_time": "2023-08-29T20:58:51.147Z"
   },
   {
    "duration": 17,
    "start_time": "2023-08-29T20:58:51.166Z"
   },
   {
    "duration": 17,
    "start_time": "2023-08-29T20:58:51.185Z"
   },
   {
    "duration": 5,
    "start_time": "2023-08-29T20:58:51.204Z"
   },
   {
    "duration": 13,
    "start_time": "2023-08-29T20:58:51.211Z"
   },
   {
    "duration": 18,
    "start_time": "2023-08-29T20:58:51.226Z"
   },
   {
    "duration": 244,
    "start_time": "2023-08-29T20:58:51.246Z"
   },
   {
    "duration": 220,
    "start_time": "2023-08-29T20:58:51.492Z"
   },
   {
    "duration": 9,
    "start_time": "2023-08-29T20:58:51.714Z"
   },
   {
    "duration": 13,
    "start_time": "2023-08-29T20:58:51.725Z"
   },
   {
    "duration": 8,
    "start_time": "2023-08-29T20:58:51.739Z"
   },
   {
    "duration": 16,
    "start_time": "2023-08-29T20:58:51.767Z"
   },
   {
    "duration": 6,
    "start_time": "2023-08-29T20:58:51.786Z"
   },
   {
    "duration": 11,
    "start_time": "2023-08-29T20:58:51.793Z"
   },
   {
    "duration": 16,
    "start_time": "2023-08-29T20:58:51.806Z"
   },
   {
    "duration": 4,
    "start_time": "2023-08-29T20:58:51.824Z"
   },
   {
    "duration": 38,
    "start_time": "2023-08-29T20:58:51.829Z"
   },
   {
    "duration": 2,
    "start_time": "2023-08-29T20:58:51.869Z"
   },
   {
    "duration": 97,
    "start_time": "2023-08-29T20:58:51.872Z"
   },
   {
    "duration": 26,
    "start_time": "2023-08-29T20:58:51.971Z"
   },
   {
    "duration": 7,
    "start_time": "2023-08-29T20:58:51.998Z"
   },
   {
    "duration": 28,
    "start_time": "2023-08-29T20:58:52.006Z"
   },
   {
    "duration": 1946,
    "start_time": "2023-08-29T20:58:52.037Z"
   },
   {
    "duration": 0,
    "start_time": "2023-08-29T20:58:53.986Z"
   },
   {
    "duration": 0,
    "start_time": "2023-08-29T20:58:53.987Z"
   },
   {
    "duration": 0,
    "start_time": "2023-08-29T20:58:53.989Z"
   },
   {
    "duration": 0,
    "start_time": "2023-08-29T20:58:53.990Z"
   },
   {
    "duration": 0,
    "start_time": "2023-08-29T20:58:53.992Z"
   },
   {
    "duration": 0,
    "start_time": "2023-08-29T20:58:53.993Z"
   },
   {
    "duration": 0,
    "start_time": "2023-08-29T20:58:53.994Z"
   },
   {
    "duration": 0,
    "start_time": "2023-08-29T20:58:53.995Z"
   },
   {
    "duration": 0,
    "start_time": "2023-08-29T20:58:53.997Z"
   },
   {
    "duration": 0,
    "start_time": "2023-08-29T20:58:53.999Z"
   },
   {
    "duration": 16,
    "start_time": "2023-08-29T20:59:28.692Z"
   },
   {
    "duration": 16,
    "start_time": "2023-08-29T20:59:30.786Z"
   },
   {
    "duration": 22,
    "start_time": "2023-08-29T20:59:34.081Z"
   },
   {
    "duration": 7,
    "start_time": "2023-08-29T21:10:41.676Z"
   },
   {
    "duration": 15,
    "start_time": "2023-08-29T21:10:46.980Z"
   },
   {
    "duration": 19,
    "start_time": "2023-08-29T21:10:51.155Z"
   },
   {
    "duration": 22,
    "start_time": "2023-08-29T21:11:52.368Z"
   },
   {
    "duration": 22,
    "start_time": "2023-08-29T21:11:56.768Z"
   },
   {
    "duration": 13,
    "start_time": "2023-08-29T21:12:11.223Z"
   },
   {
    "duration": 14,
    "start_time": "2023-08-29T21:12:13.752Z"
   },
   {
    "duration": 8,
    "start_time": "2023-08-29T21:12:53.815Z"
   },
   {
    "duration": 18,
    "start_time": "2023-08-29T21:12:58.672Z"
   },
   {
    "duration": 9,
    "start_time": "2023-08-29T21:13:10.359Z"
   },
   {
    "duration": 17,
    "start_time": "2023-08-29T21:13:12.719Z"
   },
   {
    "duration": 16,
    "start_time": "2023-08-29T21:13:30.395Z"
   },
   {
    "duration": 28,
    "start_time": "2023-08-29T21:13:33.163Z"
   },
   {
    "duration": 6,
    "start_time": "2023-08-29T21:13:36.903Z"
   },
   {
    "duration": 8,
    "start_time": "2023-08-29T21:13:37.291Z"
   },
   {
    "duration": 19,
    "start_time": "2023-08-29T21:13:57.378Z"
   },
   {
    "duration": 4,
    "start_time": "2023-08-29T21:15:24.332Z"
   },
   {
    "duration": 24,
    "start_time": "2023-08-29T21:15:27.256Z"
   },
   {
    "duration": 19,
    "start_time": "2023-08-29T21:16:16.481Z"
   },
   {
    "duration": 17,
    "start_time": "2023-08-29T21:16:34.503Z"
   },
   {
    "duration": 21,
    "start_time": "2023-08-29T21:17:18.214Z"
   },
   {
    "duration": 21,
    "start_time": "2023-08-29T21:17:22.519Z"
   },
   {
    "duration": 22,
    "start_time": "2023-08-29T21:17:32.631Z"
   },
   {
    "duration": 14,
    "start_time": "2023-08-29T21:17:57.015Z"
   },
   {
    "duration": 6,
    "start_time": "2023-08-29T21:19:15.435Z"
   },
   {
    "duration": 21,
    "start_time": "2023-08-29T21:19:19.867Z"
   },
   {
    "duration": 18,
    "start_time": "2023-08-29T21:19:29.819Z"
   },
   {
    "duration": 15,
    "start_time": "2023-08-29T21:19:36.771Z"
   },
   {
    "duration": 5,
    "start_time": "2023-08-29T21:21:33.456Z"
   },
   {
    "duration": 18,
    "start_time": "2023-08-29T21:21:36.174Z"
   },
   {
    "duration": 5,
    "start_time": "2023-08-29T21:22:26.630Z"
   },
   {
    "duration": 19,
    "start_time": "2023-08-29T21:22:28.279Z"
   },
   {
    "duration": 14,
    "start_time": "2023-08-29T21:23:40.402Z"
   },
   {
    "duration": 16,
    "start_time": "2023-08-29T21:24:15.798Z"
   },
   {
    "duration": 14,
    "start_time": "2023-08-29T21:24:18.538Z"
   },
   {
    "duration": 18,
    "start_time": "2023-08-29T21:24:23.856Z"
   },
   {
    "duration": 6,
    "start_time": "2023-08-29T21:24:28.530Z"
   },
   {
    "duration": 1585,
    "start_time": "2023-08-29T21:24:29.179Z"
   },
   {
    "duration": 5,
    "start_time": "2023-08-29T21:25:18.010Z"
   },
   {
    "duration": 19,
    "start_time": "2023-08-29T21:25:24.214Z"
   },
   {
    "duration": 19,
    "start_time": "2023-08-29T21:25:43.766Z"
   },
   {
    "duration": 131,
    "start_time": "2023-08-29T21:26:29.622Z"
   },
   {
    "duration": 124,
    "start_time": "2023-08-29T21:26:36.814Z"
   },
   {
    "duration": 168,
    "start_time": "2023-08-29T21:26:41.662Z"
   },
   {
    "duration": 4,
    "start_time": "2023-08-29T21:27:51.790Z"
   },
   {
    "duration": 18,
    "start_time": "2023-08-29T21:27:57.714Z"
   },
   {
    "duration": 4,
    "start_time": "2023-08-29T21:31:32.302Z"
   },
   {
    "duration": 17,
    "start_time": "2023-08-29T21:31:39.257Z"
   },
   {
    "duration": 3,
    "start_time": "2023-08-29T21:33:45.658Z"
   },
   {
    "duration": 15,
    "start_time": "2023-08-29T21:33:54.826Z"
   },
   {
    "duration": 15,
    "start_time": "2023-08-29T21:34:06.146Z"
   },
   {
    "duration": 8,
    "start_time": "2023-08-29T21:34:52.034Z"
   },
   {
    "duration": 3,
    "start_time": "2023-08-29T21:35:19.832Z"
   },
   {
    "duration": 27,
    "start_time": "2023-08-29T21:35:30.434Z"
   },
   {
    "duration": 5,
    "start_time": "2023-08-29T21:37:03.213Z"
   },
   {
    "duration": 18,
    "start_time": "2023-08-29T21:37:06.157Z"
   },
   {
    "duration": 7,
    "start_time": "2023-08-29T21:37:12.781Z"
   },
   {
    "duration": 15,
    "start_time": "2023-08-29T21:37:28.378Z"
   },
   {
    "duration": 13,
    "start_time": "2023-08-29T21:37:31.504Z"
   },
   {
    "duration": 18,
    "start_time": "2023-08-29T21:37:40.993Z"
   },
   {
    "duration": 14,
    "start_time": "2023-08-29T21:37:55.925Z"
   },
   {
    "duration": 6,
    "start_time": "2023-08-29T21:37:58.993Z"
   },
   {
    "duration": 5,
    "start_time": "2023-08-29T21:38:00.297Z"
   },
   {
    "duration": 18,
    "start_time": "2023-08-29T21:38:03.193Z"
   },
   {
    "duration": 6,
    "start_time": "2023-08-29T21:38:11.033Z"
   },
   {
    "duration": 5,
    "start_time": "2023-08-29T21:38:14.481Z"
   },
   {
    "duration": 19,
    "start_time": "2023-08-29T21:38:16.641Z"
   },
   {
    "duration": 14,
    "start_time": "2023-08-29T21:40:33.533Z"
   },
   {
    "duration": 16,
    "start_time": "2023-08-29T21:40:34.701Z"
   },
   {
    "duration": 17,
    "start_time": "2023-08-29T21:40:36.181Z"
   },
   {
    "duration": 34,
    "start_time": "2023-08-29T21:40:48.022Z"
   },
   {
    "duration": 7,
    "start_time": "2023-08-29T21:41:02.809Z"
   },
   {
    "duration": 6,
    "start_time": "2023-08-29T21:41:04.470Z"
   },
   {
    "duration": 19,
    "start_time": "2023-08-29T21:41:07.165Z"
   },
   {
    "duration": 4,
    "start_time": "2023-08-29T21:43:41.825Z"
   },
   {
    "duration": 25,
    "start_time": "2023-08-29T21:43:45.249Z"
   },
   {
    "duration": 4,
    "start_time": "2023-08-29T21:43:58.609Z"
   },
   {
    "duration": 22,
    "start_time": "2023-08-29T21:44:01.273Z"
   },
   {
    "duration": 8,
    "start_time": "2023-08-29T21:49:02.232Z"
   },
   {
    "duration": 19,
    "start_time": "2023-08-29T21:49:05.137Z"
   },
   {
    "duration": 9,
    "start_time": "2023-08-29T21:51:01.229Z"
   },
   {
    "duration": 62,
    "start_time": "2023-08-29T21:51:13.916Z"
   },
   {
    "duration": 27,
    "start_time": "2023-08-29T21:51:15.229Z"
   },
   {
    "duration": 16,
    "start_time": "2023-08-29T21:51:32.848Z"
   },
   {
    "duration": 13,
    "start_time": "2023-08-29T21:51:51.752Z"
   },
   {
    "duration": 17,
    "start_time": "2023-08-29T21:52:03.920Z"
   },
   {
    "duration": 14,
    "start_time": "2023-08-29T21:53:36.360Z"
   },
   {
    "duration": 126,
    "start_time": "2023-08-29T21:53:44.112Z"
   },
   {
    "duration": 16,
    "start_time": "2023-08-29T21:53:47.513Z"
   },
   {
    "duration": 168,
    "start_time": "2023-08-29T21:53:50.968Z"
   },
   {
    "duration": 163,
    "start_time": "2023-08-29T21:54:56.980Z"
   },
   {
    "duration": 198,
    "start_time": "2023-08-29T21:55:53.492Z"
   },
   {
    "duration": 471,
    "start_time": "2023-08-29T21:59:04.380Z"
   },
   {
    "duration": 779,
    "start_time": "2023-08-29T22:06:00.847Z"
   },
   {
    "duration": 656,
    "start_time": "2023-08-29T22:06:14.323Z"
   },
   {
    "duration": 699,
    "start_time": "2023-08-29T22:06:20.103Z"
   },
   {
    "duration": 814,
    "start_time": "2023-08-29T22:07:47.727Z"
   },
   {
    "duration": 2091,
    "start_time": "2023-08-29T22:09:16.227Z"
   },
   {
    "duration": 1403,
    "start_time": "2023-08-29T22:10:00.483Z"
   },
   {
    "duration": 8,
    "start_time": "2023-08-29T22:11:54.455Z"
   },
   {
    "duration": 2420,
    "start_time": "2023-08-29T22:12:08.182Z"
   },
   {
    "duration": 27,
    "start_time": "2023-08-29T22:13:15.127Z"
   },
   {
    "duration": 28,
    "start_time": "2023-08-29T22:15:12.202Z"
   },
   {
    "duration": 2596,
    "start_time": "2023-08-29T22:15:32.990Z"
   },
   {
    "duration": 2505,
    "start_time": "2023-08-29T22:16:53.822Z"
   },
   {
    "duration": 150,
    "start_time": "2023-08-29T22:17:03.138Z"
   },
   {
    "duration": 2541,
    "start_time": "2023-08-29T22:17:16.570Z"
   },
   {
    "duration": 2407,
    "start_time": "2023-08-29T22:17:35.282Z"
   },
   {
    "duration": 2599,
    "start_time": "2023-08-29T22:17:38.818Z"
   },
   {
    "duration": 122,
    "start_time": "2023-08-29T22:17:44.346Z"
   },
   {
    "duration": 2658,
    "start_time": "2023-08-29T22:18:02.146Z"
   },
   {
    "duration": 2658,
    "start_time": "2023-08-29T22:18:07.634Z"
   },
   {
    "duration": 98,
    "start_time": "2023-08-29T22:20:17.622Z"
   },
   {
    "duration": 2410,
    "start_time": "2023-08-29T22:22:50.957Z"
   },
   {
    "duration": 2539,
    "start_time": "2023-08-29T22:24:19.917Z"
   },
   {
    "duration": 1299,
    "start_time": "2023-08-30T15:19:02.229Z"
   },
   {
    "duration": 3,
    "start_time": "2023-08-30T15:19:03.530Z"
   },
   {
    "duration": 445,
    "start_time": "2023-08-30T15:19:03.535Z"
   },
   {
    "duration": 14,
    "start_time": "2023-08-30T15:19:03.982Z"
   },
   {
    "duration": 29,
    "start_time": "2023-08-30T15:19:03.998Z"
   },
   {
    "duration": 14,
    "start_time": "2023-08-30T15:19:04.029Z"
   },
   {
    "duration": 9,
    "start_time": "2023-08-30T15:19:04.044Z"
   },
   {
    "duration": 25,
    "start_time": "2023-08-30T15:19:04.054Z"
   },
   {
    "duration": 13,
    "start_time": "2023-08-30T15:19:04.081Z"
   },
   {
    "duration": 12,
    "start_time": "2023-08-30T15:19:04.097Z"
   },
   {
    "duration": 7,
    "start_time": "2023-08-30T15:19:04.111Z"
   },
   {
    "duration": 18,
    "start_time": "2023-08-30T15:19:04.120Z"
   },
   {
    "duration": 20,
    "start_time": "2023-08-30T15:19:04.139Z"
   },
   {
    "duration": 276,
    "start_time": "2023-08-30T15:19:04.161Z"
   },
   {
    "duration": 250,
    "start_time": "2023-08-30T15:19:04.439Z"
   },
   {
    "duration": 11,
    "start_time": "2023-08-30T15:19:04.691Z"
   },
   {
    "duration": 25,
    "start_time": "2023-08-30T15:19:04.703Z"
   },
   {
    "duration": 53,
    "start_time": "2023-08-30T15:19:04.730Z"
   },
   {
    "duration": 73,
    "start_time": "2023-08-30T15:19:04.785Z"
   },
   {
    "duration": 13,
    "start_time": "2023-08-30T15:19:04.860Z"
   },
   {
    "duration": 10,
    "start_time": "2023-08-30T15:19:04.875Z"
   },
   {
    "duration": 15,
    "start_time": "2023-08-30T15:19:04.887Z"
   },
   {
    "duration": 4,
    "start_time": "2023-08-30T15:19:04.904Z"
   },
   {
    "duration": 20,
    "start_time": "2023-08-30T15:19:04.910Z"
   },
   {
    "duration": 2,
    "start_time": "2023-08-30T15:19:04.932Z"
   },
   {
    "duration": 45,
    "start_time": "2023-08-30T15:19:04.936Z"
   },
   {
    "duration": 18,
    "start_time": "2023-08-30T15:19:04.983Z"
   },
   {
    "duration": 11,
    "start_time": "2023-08-30T15:19:05.004Z"
   },
   {
    "duration": 11,
    "start_time": "2023-08-30T15:19:05.017Z"
   },
   {
    "duration": 18,
    "start_time": "2023-08-30T15:19:05.029Z"
   },
   {
    "duration": 16,
    "start_time": "2023-08-30T15:19:05.049Z"
   },
   {
    "duration": 2770,
    "start_time": "2023-08-30T15:19:05.067Z"
   },
   {
    "duration": 3,
    "start_time": "2023-08-30T15:19:07.839Z"
   },
   {
    "duration": 11,
    "start_time": "2023-08-30T15:19:07.844Z"
   },
   {
    "duration": 1507,
    "start_time": "2023-08-30T15:19:07.857Z"
   },
   {
    "duration": 0,
    "start_time": "2023-08-30T15:19:09.366Z"
   },
   {
    "duration": 0,
    "start_time": "2023-08-30T15:19:09.367Z"
   },
   {
    "duration": 0,
    "start_time": "2023-08-30T15:19:09.369Z"
   },
   {
    "duration": 0,
    "start_time": "2023-08-30T15:19:09.370Z"
   },
   {
    "duration": 0,
    "start_time": "2023-08-30T15:19:09.371Z"
   },
   {
    "duration": 0,
    "start_time": "2023-08-30T15:19:09.372Z"
   },
   {
    "duration": 0,
    "start_time": "2023-08-30T15:19:09.373Z"
   },
   {
    "duration": 0,
    "start_time": "2023-08-30T15:19:09.374Z"
   },
   {
    "duration": 0,
    "start_time": "2023-08-30T15:19:09.375Z"
   },
   {
    "duration": 0,
    "start_time": "2023-08-30T15:19:09.376Z"
   },
   {
    "duration": 8,
    "start_time": "2023-08-30T15:35:02.987Z"
   },
   {
    "duration": 3498,
    "start_time": "2023-08-30T15:36:16.641Z"
   },
   {
    "duration": 34,
    "start_time": "2023-08-30T15:36:29.418Z"
   },
   {
    "duration": 112,
    "start_time": "2023-08-30T15:36:47.172Z"
   },
   {
    "duration": 15,
    "start_time": "2023-08-30T15:38:02.715Z"
   },
   {
    "duration": 13,
    "start_time": "2023-08-30T15:38:13.587Z"
   },
   {
    "duration": 10,
    "start_time": "2023-08-30T15:39:34.803Z"
   },
   {
    "duration": 9,
    "start_time": "2023-08-30T15:39:43.452Z"
   },
   {
    "duration": 8,
    "start_time": "2023-08-30T15:39:58.935Z"
   },
   {
    "duration": 18,
    "start_time": "2023-08-30T15:40:11.462Z"
   },
   {
    "duration": 11,
    "start_time": "2023-08-30T15:43:49.151Z"
   },
   {
    "duration": 10,
    "start_time": "2023-08-30T15:43:52.742Z"
   },
   {
    "duration": 10,
    "start_time": "2023-08-30T15:45:31.931Z"
   },
   {
    "duration": 1544,
    "start_time": "2023-08-30T15:48:09.755Z"
   },
   {
    "duration": 10,
    "start_time": "2023-08-30T15:51:13.946Z"
   },
   {
    "duration": 3,
    "start_time": "2023-08-30T15:51:23.894Z"
   },
   {
    "duration": 4,
    "start_time": "2023-08-30T15:51:25.144Z"
   },
   {
    "duration": 18,
    "start_time": "2023-08-30T15:51:28.275Z"
   },
   {
    "duration": 2222,
    "start_time": "2023-08-30T15:52:15.574Z"
   },
   {
    "duration": 14,
    "start_time": "2023-08-30T15:52:38.054Z"
   },
   {
    "duration": 11,
    "start_time": "2023-08-30T15:52:42.334Z"
   },
   {
    "duration": 6,
    "start_time": "2023-08-30T15:52:45.654Z"
   },
   {
    "duration": 7,
    "start_time": "2023-08-30T15:52:54.335Z"
   },
   {
    "duration": 21,
    "start_time": "2023-08-30T15:53:08.893Z"
   },
   {
    "duration": 7,
    "start_time": "2023-08-30T15:53:29.830Z"
   },
   {
    "duration": 20,
    "start_time": "2023-08-30T15:53:32.444Z"
   },
   {
    "duration": 7,
    "start_time": "2023-08-30T15:55:15.796Z"
   },
   {
    "duration": 19,
    "start_time": "2023-08-30T15:55:18.297Z"
   },
   {
    "duration": 18,
    "start_time": "2023-08-30T15:56:07.787Z"
   },
   {
    "duration": 342,
    "start_time": "2023-08-30T15:56:47.788Z"
   },
   {
    "duration": 7,
    "start_time": "2023-08-30T15:56:59.077Z"
   },
   {
    "duration": 4,
    "start_time": "2023-08-30T15:57:02.808Z"
   },
   {
    "duration": 19,
    "start_time": "2023-08-30T15:57:04.417Z"
   },
   {
    "duration": 4,
    "start_time": "2023-08-30T15:57:49.837Z"
   },
   {
    "duration": 7,
    "start_time": "2023-08-30T15:59:06.437Z"
   },
   {
    "duration": 20,
    "start_time": "2023-08-30T15:59:09.747Z"
   },
   {
    "duration": 4,
    "start_time": "2023-08-30T15:59:28.320Z"
   },
   {
    "duration": 19,
    "start_time": "2023-08-30T15:59:31.588Z"
   },
   {
    "duration": 2101,
    "start_time": "2023-08-30T16:00:32.057Z"
   },
   {
    "duration": 11,
    "start_time": "2023-08-30T16:01:33.189Z"
   },
   {
    "duration": 9,
    "start_time": "2023-08-30T16:01:42.137Z"
   },
   {
    "duration": 9,
    "start_time": "2023-08-30T16:01:46.010Z"
   },
   {
    "duration": 1875,
    "start_time": "2023-08-30T16:02:08.417Z"
   },
   {
    "duration": 7,
    "start_time": "2023-08-30T16:02:40.766Z"
   },
   {
    "duration": 1503,
    "start_time": "2023-08-30T16:02:44.266Z"
   },
   {
    "duration": 19,
    "start_time": "2023-08-30T16:18:43.330Z"
   },
   {
    "duration": 2296,
    "start_time": "2023-08-30T16:19:07.118Z"
   },
   {
    "duration": 2237,
    "start_time": "2023-08-30T16:19:38.079Z"
   },
   {
    "duration": 2113,
    "start_time": "2023-08-30T16:19:49.651Z"
   },
   {
    "duration": 17,
    "start_time": "2023-08-30T16:21:57.928Z"
   },
   {
    "duration": 1473,
    "start_time": "2023-08-30T16:22:23.320Z"
   },
   {
    "duration": 128,
    "start_time": "2023-08-30T16:26:47.841Z"
   },
   {
    "duration": 166,
    "start_time": "2023-08-30T16:27:02.751Z"
   },
   {
    "duration": 57003,
    "start_time": "2023-08-30T16:29:42.361Z"
   },
   {
    "duration": 0,
    "start_time": "2023-08-30T16:31:57.621Z"
   },
   {
    "duration": 63436,
    "start_time": "2023-08-30T16:32:56.488Z"
   },
   {
    "duration": 182,
    "start_time": "2023-08-30T16:34:51.842Z"
   },
   {
    "duration": 775,
    "start_time": "2023-08-30T16:37:30.713Z"
   },
   {
    "duration": 543,
    "start_time": "2023-08-30T16:37:50.413Z"
   },
   {
    "duration": 913,
    "start_time": "2023-08-30T16:38:29.640Z"
   },
   {
    "duration": 6,
    "start_time": "2023-08-30T16:40:26.833Z"
   },
   {
    "duration": 903,
    "start_time": "2023-08-30T16:40:57.001Z"
   },
   {
    "duration": 952,
    "start_time": "2023-08-30T16:41:21.713Z"
   },
   {
    "duration": 889,
    "start_time": "2023-08-30T16:41:37.005Z"
   },
   {
    "duration": 176,
    "start_time": "2023-08-30T16:42:09.772Z"
   },
   {
    "duration": 217,
    "start_time": "2023-08-30T16:42:13.409Z"
   },
   {
    "duration": 214,
    "start_time": "2023-08-30T16:42:17.271Z"
   },
   {
    "duration": 165,
    "start_time": "2023-08-30T16:42:21.318Z"
   },
   {
    "duration": 942,
    "start_time": "2023-08-30T16:42:39.751Z"
   },
   {
    "duration": 918,
    "start_time": "2023-08-30T16:43:13.109Z"
   },
   {
    "duration": 159,
    "start_time": "2023-08-30T16:45:13.596Z"
   },
   {
    "duration": 157,
    "start_time": "2023-08-30T16:45:18.316Z"
   },
   {
    "duration": 159,
    "start_time": "2023-08-30T16:45:31.422Z"
   },
   {
    "duration": 904,
    "start_time": "2023-08-30T16:48:01.281Z"
   },
   {
    "duration": 136,
    "start_time": "2023-08-30T16:53:51.867Z"
   },
   {
    "duration": 45,
    "start_time": "2023-08-30T20:31:12.489Z"
   },
   {
    "duration": 3,
    "start_time": "2023-08-30T20:31:15.701Z"
   },
   {
    "duration": 1455,
    "start_time": "2023-08-30T20:31:15.708Z"
   },
   {
    "duration": 0,
    "start_time": "2023-08-30T20:31:17.175Z"
   },
   {
    "duration": 0,
    "start_time": "2023-08-30T20:31:17.179Z"
   },
   {
    "duration": 0,
    "start_time": "2023-08-30T20:31:17.180Z"
   },
   {
    "duration": 0,
    "start_time": "2023-08-30T20:31:17.182Z"
   },
   {
    "duration": 0,
    "start_time": "2023-08-30T20:31:17.183Z"
   },
   {
    "duration": 0,
    "start_time": "2023-08-30T20:31:17.184Z"
   },
   {
    "duration": 0,
    "start_time": "2023-08-30T20:31:17.185Z"
   },
   {
    "duration": 0,
    "start_time": "2023-08-30T20:31:17.186Z"
   },
   {
    "duration": 0,
    "start_time": "2023-08-30T20:31:17.187Z"
   },
   {
    "duration": 0,
    "start_time": "2023-08-30T20:31:17.188Z"
   },
   {
    "duration": 0,
    "start_time": "2023-08-30T20:31:17.189Z"
   },
   {
    "duration": 0,
    "start_time": "2023-08-30T20:31:17.190Z"
   },
   {
    "duration": 0,
    "start_time": "2023-08-30T20:31:17.191Z"
   },
   {
    "duration": 0,
    "start_time": "2023-08-30T20:31:17.192Z"
   },
   {
    "duration": 0,
    "start_time": "2023-08-30T20:31:17.193Z"
   },
   {
    "duration": 0,
    "start_time": "2023-08-30T20:31:17.194Z"
   },
   {
    "duration": 0,
    "start_time": "2023-08-30T20:31:17.195Z"
   },
   {
    "duration": 0,
    "start_time": "2023-08-30T20:31:17.196Z"
   },
   {
    "duration": 0,
    "start_time": "2023-08-30T20:31:17.197Z"
   },
   {
    "duration": 0,
    "start_time": "2023-08-30T20:31:17.198Z"
   },
   {
    "duration": 0,
    "start_time": "2023-08-30T20:31:17.199Z"
   },
   {
    "duration": 0,
    "start_time": "2023-08-30T20:31:17.200Z"
   },
   {
    "duration": 0,
    "start_time": "2023-08-30T20:31:17.201Z"
   },
   {
    "duration": 0,
    "start_time": "2023-08-30T20:31:17.202Z"
   },
   {
    "duration": 0,
    "start_time": "2023-08-30T20:31:17.203Z"
   },
   {
    "duration": 0,
    "start_time": "2023-08-30T20:31:17.204Z"
   },
   {
    "duration": 0,
    "start_time": "2023-08-30T20:31:17.205Z"
   },
   {
    "duration": 0,
    "start_time": "2023-08-30T20:31:17.206Z"
   },
   {
    "duration": 0,
    "start_time": "2023-08-30T20:31:17.207Z"
   },
   {
    "duration": 0,
    "start_time": "2023-08-30T20:31:17.209Z"
   },
   {
    "duration": 0,
    "start_time": "2023-08-30T20:31:17.209Z"
   },
   {
    "duration": 0,
    "start_time": "2023-08-30T20:31:17.210Z"
   },
   {
    "duration": 0,
    "start_time": "2023-08-30T20:31:17.212Z"
   },
   {
    "duration": 0,
    "start_time": "2023-08-30T20:31:17.212Z"
   },
   {
    "duration": 0,
    "start_time": "2023-08-30T20:31:17.213Z"
   },
   {
    "duration": 0,
    "start_time": "2023-08-30T20:31:17.214Z"
   },
   {
    "duration": 0,
    "start_time": "2023-08-30T20:31:17.215Z"
   },
   {
    "duration": 0,
    "start_time": "2023-08-30T20:31:17.216Z"
   },
   {
    "duration": 0,
    "start_time": "2023-08-30T20:31:17.271Z"
   },
   {
    "duration": 0,
    "start_time": "2023-08-30T20:31:17.272Z"
   },
   {
    "duration": 0,
    "start_time": "2023-08-30T20:31:17.272Z"
   },
   {
    "duration": 0,
    "start_time": "2023-08-30T20:31:17.273Z"
   },
   {
    "duration": 0,
    "start_time": "2023-08-30T20:31:17.273Z"
   },
   {
    "duration": 0,
    "start_time": "2023-08-30T20:31:17.274Z"
   },
   {
    "duration": 0,
    "start_time": "2023-08-30T20:31:17.275Z"
   },
   {
    "duration": 0,
    "start_time": "2023-08-30T20:31:17.275Z"
   },
   {
    "duration": 0,
    "start_time": "2023-08-30T20:31:17.276Z"
   },
   {
    "duration": 3384,
    "start_time": "2023-08-30T20:31:29.398Z"
   },
   {
    "duration": 56,
    "start_time": "2023-08-30T20:31:32.786Z"
   },
   {
    "duration": 11,
    "start_time": "2023-08-30T20:31:32.845Z"
   },
   {
    "duration": 423,
    "start_time": "2023-08-30T20:31:32.859Z"
   },
   {
    "duration": 15,
    "start_time": "2023-08-30T20:31:33.285Z"
   },
   {
    "duration": 24,
    "start_time": "2023-08-30T20:31:33.302Z"
   },
   {
    "duration": 20,
    "start_time": "2023-08-30T20:31:33.328Z"
   },
   {
    "duration": 12,
    "start_time": "2023-08-30T20:31:33.350Z"
   },
   {
    "duration": 29,
    "start_time": "2023-08-30T20:31:33.364Z"
   },
   {
    "duration": 17,
    "start_time": "2023-08-30T20:31:33.394Z"
   },
   {
    "duration": 17,
    "start_time": "2023-08-30T20:31:33.412Z"
   },
   {
    "duration": 6,
    "start_time": "2023-08-30T20:31:33.430Z"
   },
   {
    "duration": 22,
    "start_time": "2023-08-30T20:31:33.437Z"
   },
   {
    "duration": 20,
    "start_time": "2023-08-30T20:31:33.462Z"
   },
   {
    "duration": 259,
    "start_time": "2023-08-30T20:31:33.484Z"
   },
   {
    "duration": 263,
    "start_time": "2023-08-30T20:31:33.745Z"
   },
   {
    "duration": 12,
    "start_time": "2023-08-30T20:31:34.010Z"
   },
   {
    "duration": 13,
    "start_time": "2023-08-30T20:31:34.023Z"
   },
   {
    "duration": 43,
    "start_time": "2023-08-30T20:31:34.038Z"
   },
   {
    "duration": 14,
    "start_time": "2023-08-30T20:31:34.086Z"
   },
   {
    "duration": 37,
    "start_time": "2023-08-30T20:31:34.101Z"
   },
   {
    "duration": 16,
    "start_time": "2023-08-30T20:31:34.140Z"
   },
   {
    "duration": 34,
    "start_time": "2023-08-30T20:31:34.159Z"
   },
   {
    "duration": 17,
    "start_time": "2023-08-30T20:31:34.194Z"
   },
   {
    "duration": 27,
    "start_time": "2023-08-30T20:31:34.213Z"
   },
   {
    "duration": 6,
    "start_time": "2023-08-30T20:31:34.242Z"
   },
   {
    "duration": 16,
    "start_time": "2023-08-30T20:31:34.249Z"
   },
   {
    "duration": 27,
    "start_time": "2023-08-30T20:31:34.266Z"
   },
   {
    "duration": 22,
    "start_time": "2023-08-30T20:31:34.295Z"
   },
   {
    "duration": 7,
    "start_time": "2023-08-30T20:31:34.319Z"
   },
   {
    "duration": 9,
    "start_time": "2023-08-30T20:31:34.327Z"
   },
   {
    "duration": 10,
    "start_time": "2023-08-30T20:31:34.338Z"
   },
   {
    "duration": 20,
    "start_time": "2023-08-30T20:31:34.350Z"
   },
   {
    "duration": 24,
    "start_time": "2023-08-30T20:31:34.372Z"
   },
   {
    "duration": 2730,
    "start_time": "2023-08-30T20:31:34.398Z"
   },
   {
    "duration": 1458,
    "start_time": "2023-08-30T20:31:37.129Z"
   },
   {
    "duration": 2110,
    "start_time": "2023-08-30T20:31:38.589Z"
   },
   {
    "duration": 281,
    "start_time": "2023-08-30T20:31:40.701Z"
   },
   {
    "duration": 1039,
    "start_time": "2023-08-30T20:31:40.984Z"
   },
   {
    "duration": 157,
    "start_time": "2023-08-30T20:31:42.025Z"
   },
   {
    "duration": 15,
    "start_time": "2023-08-30T20:31:42.185Z"
   },
   {
    "duration": 5,
    "start_time": "2023-08-30T20:31:42.202Z"
   },
   {
    "duration": 5,
    "start_time": "2023-08-30T20:31:42.209Z"
   },
   {
    "duration": 263,
    "start_time": "2023-08-30T20:31:42.216Z"
   },
   {
    "duration": 21,
    "start_time": "2023-08-30T20:31:42.481Z"
   },
   {
    "duration": 48,
    "start_time": "2023-08-30T20:31:42.503Z"
   },
   {
    "duration": 34,
    "start_time": "2023-08-30T20:31:42.553Z"
   },
   {
    "duration": 6,
    "start_time": "2023-08-30T20:31:42.589Z"
   },
   {
    "duration": 656,
    "start_time": "2023-08-30T20:31:42.597Z"
   },
   {
    "duration": 5,
    "start_time": "2023-08-30T20:32:10.738Z"
   },
   {
    "duration": 6,
    "start_time": "2023-08-30T20:32:16.085Z"
   },
   {
    "duration": 32,
    "start_time": "2023-08-30T20:32:50.809Z"
   },
   {
    "duration": 26,
    "start_time": "2023-08-30T20:33:33.885Z"
   },
   {
    "duration": 12,
    "start_time": "2023-08-30T20:34:55.608Z"
   },
   {
    "duration": 3,
    "start_time": "2023-08-30T20:34:55.622Z"
   },
   {
    "duration": 18,
    "start_time": "2023-08-30T20:34:55.626Z"
   },
   {
    "duration": 34,
    "start_time": "2023-08-30T20:34:55.645Z"
   },
   {
    "duration": 20,
    "start_time": "2023-08-30T20:34:55.681Z"
   },
   {
    "duration": 12,
    "start_time": "2023-08-30T20:34:55.703Z"
   },
   {
    "duration": 10,
    "start_time": "2023-08-30T20:34:55.717Z"
   },
   {
    "duration": 8,
    "start_time": "2023-08-30T20:34:55.729Z"
   },
   {
    "duration": 5,
    "start_time": "2023-08-30T20:34:55.739Z"
   },
   {
    "duration": 16,
    "start_time": "2023-08-30T20:34:55.746Z"
   },
   {
    "duration": 2585,
    "start_time": "2023-08-30T20:34:55.771Z"
   },
   {
    "duration": 1382,
    "start_time": "2023-08-30T20:34:58.358Z"
   },
   {
    "duration": 2032,
    "start_time": "2023-08-30T20:34:59.741Z"
   },
   {
    "duration": 194,
    "start_time": "2023-08-30T20:35:01.775Z"
   },
   {
    "duration": 1126,
    "start_time": "2023-08-30T20:35:01.976Z"
   },
   {
    "duration": 159,
    "start_time": "2023-08-30T20:35:03.103Z"
   },
   {
    "duration": 23,
    "start_time": "2023-08-30T20:35:03.263Z"
   },
   {
    "duration": 15,
    "start_time": "2023-08-30T20:35:03.288Z"
   },
   {
    "duration": 49,
    "start_time": "2023-08-30T20:35:03.304Z"
   },
   {
    "duration": 13,
    "start_time": "2023-08-30T20:38:41.482Z"
   },
   {
    "duration": 31,
    "start_time": "2023-08-30T20:38:44.288Z"
   },
   {
    "duration": 22,
    "start_time": "2023-08-30T20:40:02.377Z"
   },
   {
    "duration": 100,
    "start_time": "2023-08-30T20:41:33.088Z"
   },
   {
    "duration": 20,
    "start_time": "2023-08-30T20:42:24.590Z"
   },
   {
    "duration": 24,
    "start_time": "2023-08-30T20:42:25.576Z"
   },
   {
    "duration": 21,
    "start_time": "2023-08-30T20:42:28.780Z"
   },
   {
    "duration": 9,
    "start_time": "2023-08-30T20:44:14.739Z"
   },
   {
    "duration": 25,
    "start_time": "2023-08-30T20:44:17.180Z"
   },
   {
    "duration": 18,
    "start_time": "2023-08-30T20:44:20.219Z"
   },
   {
    "duration": 21,
    "start_time": "2023-08-30T20:44:39.682Z"
   },
   {
    "duration": 27,
    "start_time": "2023-08-30T20:44:41.264Z"
   },
   {
    "duration": 21,
    "start_time": "2023-08-30T20:44:43.017Z"
   },
   {
    "duration": 17,
    "start_time": "2023-08-30T20:53:31.050Z"
   },
   {
    "duration": 13,
    "start_time": "2023-08-30T20:53:36.514Z"
   },
   {
    "duration": 16,
    "start_time": "2023-08-30T20:53:38.401Z"
   },
   {
    "duration": 18,
    "start_time": "2023-08-30T20:53:40.465Z"
   },
   {
    "duration": 10,
    "start_time": "2023-08-30T20:53:55.361Z"
   },
   {
    "duration": 6,
    "start_time": "2023-08-30T20:53:56.478Z"
   },
   {
    "duration": 10,
    "start_time": "2023-08-30T20:53:56.889Z"
   },
   {
    "duration": 9,
    "start_time": "2023-08-30T20:53:58.094Z"
   },
   {
    "duration": 6,
    "start_time": "2023-08-30T20:53:58.466Z"
   },
   {
    "duration": 18,
    "start_time": "2023-08-30T20:54:00.234Z"
   },
   {
    "duration": 14,
    "start_time": "2023-08-30T20:54:17.069Z"
   },
   {
    "duration": 139,
    "start_time": "2023-08-30T20:56:02.869Z"
   },
   {
    "duration": 121,
    "start_time": "2023-08-30T20:56:20.885Z"
   },
   {
    "duration": 2118,
    "start_time": "2023-08-30T21:05:45.334Z"
   },
   {
    "duration": 1262,
    "start_time": "2023-08-30T21:05:47.455Z"
   },
   {
    "duration": 3,
    "start_time": "2023-08-30T21:05:48.718Z"
   },
   {
    "duration": 111,
    "start_time": "2023-08-30T21:05:48.723Z"
   },
   {
    "duration": 12,
    "start_time": "2023-08-30T21:05:48.836Z"
   },
   {
    "duration": 23,
    "start_time": "2023-08-30T21:05:48.850Z"
   },
   {
    "duration": 11,
    "start_time": "2023-08-30T21:05:48.875Z"
   },
   {
    "duration": 7,
    "start_time": "2023-08-30T21:05:48.888Z"
   },
   {
    "duration": 16,
    "start_time": "2023-08-30T21:05:48.896Z"
   },
   {
    "duration": 13,
    "start_time": "2023-08-30T21:05:48.915Z"
   },
   {
    "duration": 11,
    "start_time": "2023-08-30T21:05:48.930Z"
   },
   {
    "duration": 30,
    "start_time": "2023-08-30T21:05:48.942Z"
   },
   {
    "duration": 22,
    "start_time": "2023-08-30T21:05:48.973Z"
   },
   {
    "duration": 17,
    "start_time": "2023-08-30T21:05:48.997Z"
   },
   {
    "duration": 233,
    "start_time": "2023-08-30T21:05:49.015Z"
   },
   {
    "duration": 220,
    "start_time": "2023-08-30T21:05:49.249Z"
   },
   {
    "duration": 10,
    "start_time": "2023-08-30T21:05:49.471Z"
   },
   {
    "duration": 19,
    "start_time": "2023-08-30T21:05:49.483Z"
   },
   {
    "duration": 23,
    "start_time": "2023-08-30T21:05:49.503Z"
   },
   {
    "duration": 12,
    "start_time": "2023-08-30T21:05:49.527Z"
   },
   {
    "duration": 8,
    "start_time": "2023-08-30T21:05:49.541Z"
   },
   {
    "duration": 16,
    "start_time": "2023-08-30T21:05:49.551Z"
   },
   {
    "duration": 10,
    "start_time": "2023-08-30T21:05:49.569Z"
   },
   {
    "duration": 19,
    "start_time": "2023-08-30T21:05:49.581Z"
   },
   {
    "duration": 13,
    "start_time": "2023-08-30T21:05:49.601Z"
   },
   {
    "duration": 15,
    "start_time": "2023-08-30T21:05:49.615Z"
   },
   {
    "duration": 16,
    "start_time": "2023-08-30T21:05:49.632Z"
   },
   {
    "duration": 31,
    "start_time": "2023-08-30T21:05:49.666Z"
   },
   {
    "duration": 140,
    "start_time": "2023-08-30T21:05:49.699Z"
   },
   {
    "duration": 10,
    "start_time": "2023-08-30T21:05:49.840Z"
   },
   {
    "duration": 18,
    "start_time": "2023-08-30T21:05:49.852Z"
   },
   {
    "duration": 13,
    "start_time": "2023-08-30T21:05:49.872Z"
   },
   {
    "duration": 10,
    "start_time": "2023-08-30T21:05:49.887Z"
   },
   {
    "duration": 5,
    "start_time": "2023-08-30T21:05:49.899Z"
   },
   {
    "duration": 22,
    "start_time": "2023-08-30T21:05:49.905Z"
   },
   {
    "duration": 2519,
    "start_time": "2023-08-30T21:05:49.929Z"
   },
   {
    "duration": 1349,
    "start_time": "2023-08-30T21:05:52.450Z"
   },
   {
    "duration": 1905,
    "start_time": "2023-08-30T21:05:53.801Z"
   },
   {
    "duration": 231,
    "start_time": "2023-08-30T21:05:55.707Z"
   },
   {
    "duration": 931,
    "start_time": "2023-08-30T21:05:55.939Z"
   },
   {
    "duration": 148,
    "start_time": "2023-08-30T21:05:56.872Z"
   },
   {
    "duration": 3787,
    "start_time": "2023-08-31T21:41:29.437Z"
   },
   {
    "duration": 1477,
    "start_time": "2023-08-31T21:41:33.228Z"
   },
   {
    "duration": 2,
    "start_time": "2023-08-31T21:41:34.707Z"
   },
   {
    "duration": 371,
    "start_time": "2023-08-31T21:41:34.711Z"
   },
   {
    "duration": 14,
    "start_time": "2023-08-31T21:41:35.084Z"
   },
   {
    "duration": 31,
    "start_time": "2023-08-31T21:41:35.099Z"
   },
   {
    "duration": 6,
    "start_time": "2023-08-31T21:41:35.132Z"
   },
   {
    "duration": 24,
    "start_time": "2023-08-31T21:41:35.139Z"
   },
   {
    "duration": 29,
    "start_time": "2023-08-31T21:41:35.165Z"
   },
   {
    "duration": 16,
    "start_time": "2023-08-31T21:41:35.198Z"
   },
   {
    "duration": 23,
    "start_time": "2023-08-31T21:41:35.216Z"
   },
   {
    "duration": 8,
    "start_time": "2023-08-31T21:41:35.241Z"
   },
   {
    "duration": 22,
    "start_time": "2023-08-31T21:41:35.251Z"
   },
   {
    "duration": 20,
    "start_time": "2023-08-31T21:41:35.275Z"
   },
   {
    "duration": 273,
    "start_time": "2023-08-31T21:41:35.297Z"
   },
   {
    "duration": 236,
    "start_time": "2023-08-31T21:41:35.572Z"
   },
   {
    "duration": 11,
    "start_time": "2023-08-31T21:41:35.810Z"
   },
   {
    "duration": 27,
    "start_time": "2023-08-31T21:41:35.823Z"
   },
   {
    "duration": 10,
    "start_time": "2023-08-31T21:41:35.852Z"
   },
   {
    "duration": 28,
    "start_time": "2023-08-31T21:41:35.864Z"
   },
   {
    "duration": 26,
    "start_time": "2023-08-31T21:41:35.894Z"
   },
   {
    "duration": 27,
    "start_time": "2023-08-31T21:41:35.923Z"
   },
   {
    "duration": 27,
    "start_time": "2023-08-31T21:41:35.952Z"
   },
   {
    "duration": 25,
    "start_time": "2023-08-31T21:41:35.980Z"
   },
   {
    "duration": 25,
    "start_time": "2023-08-31T21:41:36.007Z"
   },
   {
    "duration": 28,
    "start_time": "2023-08-31T21:41:36.034Z"
   },
   {
    "duration": 25,
    "start_time": "2023-08-31T21:41:36.064Z"
   },
   {
    "duration": 44,
    "start_time": "2023-08-31T21:41:36.092Z"
   },
   {
    "duration": 149,
    "start_time": "2023-08-31T21:41:36.138Z"
   },
   {
    "duration": 12,
    "start_time": "2023-08-31T21:41:36.289Z"
   },
   {
    "duration": 31,
    "start_time": "2023-08-31T21:41:36.302Z"
   },
   {
    "duration": 25,
    "start_time": "2023-08-31T21:41:36.335Z"
   },
   {
    "duration": 23,
    "start_time": "2023-08-31T21:41:36.362Z"
   },
   {
    "duration": 11,
    "start_time": "2023-08-31T21:41:36.387Z"
   },
   {
    "duration": 33,
    "start_time": "2023-08-31T21:41:36.400Z"
   },
   {
    "duration": 2738,
    "start_time": "2023-08-31T21:41:36.435Z"
   },
   {
    "duration": 1518,
    "start_time": "2023-08-31T21:41:39.174Z"
   },
   {
    "duration": 2117,
    "start_time": "2023-08-31T21:41:40.694Z"
   },
   {
    "duration": 262,
    "start_time": "2023-08-31T21:41:42.813Z"
   },
   {
    "duration": 1011,
    "start_time": "2023-08-31T21:41:43.078Z"
   },
   {
    "duration": 165,
    "start_time": "2023-08-31T21:41:44.091Z"
   },
   {
    "duration": 20,
    "start_time": "2023-08-31T21:45:28.862Z"
   },
   {
    "duration": 33,
    "start_time": "2023-08-31T21:45:29.660Z"
   },
   {
    "duration": 10,
    "start_time": "2023-08-31T21:47:42.161Z"
   },
   {
    "duration": 28,
    "start_time": "2023-08-31T21:47:42.972Z"
   },
   {
    "duration": 22,
    "start_time": "2023-08-31T21:54:34.590Z"
   },
   {
    "duration": 39,
    "start_time": "2023-08-31T21:54:35.221Z"
   },
   {
    "duration": 15,
    "start_time": "2023-08-31T21:55:20.963Z"
   },
   {
    "duration": 26,
    "start_time": "2023-08-31T21:55:21.606Z"
   },
   {
    "duration": 25,
    "start_time": "2023-08-31T21:56:09.506Z"
   },
   {
    "duration": 32,
    "start_time": "2023-08-31T21:56:10.199Z"
   },
   {
    "duration": 6,
    "start_time": "2023-08-31T22:02:09.727Z"
   },
   {
    "duration": 5,
    "start_time": "2023-08-31T22:02:26.710Z"
   },
   {
    "duration": 111,
    "start_time": "2023-08-31T22:02:44.681Z"
   },
   {
    "duration": 4,
    "start_time": "2023-08-31T22:02:50.032Z"
   },
   {
    "duration": 4,
    "start_time": "2023-08-31T22:02:56.562Z"
   },
   {
    "duration": 4,
    "start_time": "2023-08-31T22:03:03.162Z"
   },
   {
    "duration": 77,
    "start_time": "2023-08-31T22:03:08.213Z"
   },
   {
    "duration": 4,
    "start_time": "2023-08-31T22:03:13.948Z"
   },
   {
    "duration": 5,
    "start_time": "2023-08-31T22:03:19.971Z"
   },
   {
    "duration": 6,
    "start_time": "2023-08-31T22:03:31.343Z"
   },
   {
    "duration": 4,
    "start_time": "2023-08-31T22:05:53.929Z"
   },
   {
    "duration": 5,
    "start_time": "2023-08-31T22:05:58.460Z"
   },
   {
    "duration": 4,
    "start_time": "2023-08-31T22:06:02.758Z"
   },
   {
    "duration": 5,
    "start_time": "2023-08-31T22:06:06.449Z"
   },
   {
    "duration": 4,
    "start_time": "2023-08-31T22:06:12.672Z"
   },
   {
    "duration": 11,
    "start_time": "2023-08-31T22:06:23.844Z"
   },
   {
    "duration": 5,
    "start_time": "2023-08-31T22:06:30.520Z"
   },
   {
    "duration": 6,
    "start_time": "2023-08-31T22:06:44.991Z"
   },
   {
    "duration": 31,
    "start_time": "2023-08-31T22:07:27.283Z"
   },
   {
    "duration": 9,
    "start_time": "2023-08-31T22:09:21.563Z"
   },
   {
    "duration": 24,
    "start_time": "2023-08-31T22:09:32.866Z"
   },
   {
    "duration": 5,
    "start_time": "2023-08-31T22:09:33.550Z"
   },
   {
    "duration": 2656,
    "start_time": "2023-08-31T22:09:42.637Z"
   },
   {
    "duration": 1227,
    "start_time": "2023-08-31T22:09:45.296Z"
   },
   {
    "duration": 4,
    "start_time": "2023-08-31T22:09:46.525Z"
   },
   {
    "duration": 116,
    "start_time": "2023-08-31T22:09:46.531Z"
   },
   {
    "duration": 14,
    "start_time": "2023-08-31T22:09:46.648Z"
   },
   {
    "duration": 19,
    "start_time": "2023-08-31T22:09:46.663Z"
   },
   {
    "duration": 7,
    "start_time": "2023-08-31T22:09:46.684Z"
   },
   {
    "duration": 10,
    "start_time": "2023-08-31T22:09:46.692Z"
   },
   {
    "duration": 18,
    "start_time": "2023-08-31T22:09:46.704Z"
   },
   {
    "duration": 33,
    "start_time": "2023-08-31T22:09:46.725Z"
   },
   {
    "duration": 28,
    "start_time": "2023-08-31T22:09:46.760Z"
   },
   {
    "duration": 11,
    "start_time": "2023-08-31T22:09:46.789Z"
   },
   {
    "duration": 28,
    "start_time": "2023-08-31T22:09:46.802Z"
   },
   {
    "duration": 28,
    "start_time": "2023-08-31T22:09:46.831Z"
   },
   {
    "duration": 260,
    "start_time": "2023-08-31T22:09:46.861Z"
   },
   {
    "duration": 244,
    "start_time": "2023-08-31T22:09:47.123Z"
   },
   {
    "duration": 10,
    "start_time": "2023-08-31T22:09:47.369Z"
   },
   {
    "duration": 15,
    "start_time": "2023-08-31T22:09:47.381Z"
   },
   {
    "duration": 16,
    "start_time": "2023-08-31T22:09:47.398Z"
   },
   {
    "duration": 32,
    "start_time": "2023-08-31T22:09:47.416Z"
   },
   {
    "duration": 14,
    "start_time": "2023-08-31T22:09:47.450Z"
   },
   {
    "duration": 15,
    "start_time": "2023-08-31T22:09:47.466Z"
   },
   {
    "duration": 15,
    "start_time": "2023-08-31T22:09:47.483Z"
   },
   {
    "duration": 44,
    "start_time": "2023-08-31T22:09:47.499Z"
   },
   {
    "duration": 6,
    "start_time": "2023-08-31T22:09:47.545Z"
   },
   {
    "duration": 34,
    "start_time": "2023-08-31T22:09:47.553Z"
   },
   {
    "duration": 18,
    "start_time": "2023-08-31T22:09:47.589Z"
   },
   {
    "duration": 41,
    "start_time": "2023-08-31T22:09:47.611Z"
   },
   {
    "duration": 19,
    "start_time": "2023-08-31T22:09:47.654Z"
   },
   {
    "duration": 34,
    "start_time": "2023-08-31T22:09:47.675Z"
   },
   {
    "duration": 158,
    "start_time": "2023-08-31T22:09:47.710Z"
   },
   {
    "duration": 11,
    "start_time": "2023-08-31T22:09:47.870Z"
   },
   {
    "duration": 16,
    "start_time": "2023-08-31T22:09:47.883Z"
   },
   {
    "duration": 23,
    "start_time": "2023-08-31T22:09:47.901Z"
   },
   {
    "duration": 15,
    "start_time": "2023-08-31T22:09:47.926Z"
   },
   {
    "duration": 7,
    "start_time": "2023-08-31T22:09:47.942Z"
   },
   {
    "duration": 21,
    "start_time": "2023-08-31T22:09:47.952Z"
   },
   {
    "duration": 2787,
    "start_time": "2023-08-31T22:09:47.975Z"
   },
   {
    "duration": 1498,
    "start_time": "2023-08-31T22:09:50.764Z"
   },
   {
    "duration": 2096,
    "start_time": "2023-08-31T22:09:52.264Z"
   },
   {
    "duration": 263,
    "start_time": "2023-08-31T22:09:54.362Z"
   },
   {
    "duration": 1056,
    "start_time": "2023-08-31T22:09:54.627Z"
   },
   {
    "duration": 146,
    "start_time": "2023-08-31T22:09:55.685Z"
   },
   {
    "duration": 3580,
    "start_time": "2023-09-01T20:18:38.468Z"
   },
   {
    "duration": 2610,
    "start_time": "2023-09-01T20:18:42.051Z"
   },
   {
    "duration": 1917,
    "start_time": "2023-09-01T20:18:44.663Z"
   },
   {
    "duration": 143,
    "start_time": "2023-09-01T20:18:46.582Z"
   },
   {
    "duration": 0,
    "start_time": "2023-09-01T20:18:46.728Z"
   },
   {
    "duration": 0,
    "start_time": "2023-09-01T20:18:46.730Z"
   },
   {
    "duration": 0,
    "start_time": "2023-09-01T20:18:46.731Z"
   },
   {
    "duration": 0,
    "start_time": "2023-09-01T20:18:46.732Z"
   },
   {
    "duration": 0,
    "start_time": "2023-09-01T20:18:46.733Z"
   },
   {
    "duration": 0,
    "start_time": "2023-09-01T20:18:46.734Z"
   },
   {
    "duration": 0,
    "start_time": "2023-09-01T20:18:46.735Z"
   },
   {
    "duration": 0,
    "start_time": "2023-09-01T20:18:46.736Z"
   },
   {
    "duration": 0,
    "start_time": "2023-09-01T20:18:46.747Z"
   },
   {
    "duration": 0,
    "start_time": "2023-09-01T20:18:46.747Z"
   },
   {
    "duration": 0,
    "start_time": "2023-09-01T20:18:46.748Z"
   },
   {
    "duration": 0,
    "start_time": "2023-09-01T20:18:46.749Z"
   },
   {
    "duration": 0,
    "start_time": "2023-09-01T20:18:46.750Z"
   },
   {
    "duration": 0,
    "start_time": "2023-09-01T20:18:46.752Z"
   },
   {
    "duration": 0,
    "start_time": "2023-09-01T20:18:46.759Z"
   },
   {
    "duration": 0,
    "start_time": "2023-09-01T20:18:46.762Z"
   },
   {
    "duration": 0,
    "start_time": "2023-09-01T20:18:46.764Z"
   },
   {
    "duration": 0,
    "start_time": "2023-09-01T20:18:46.766Z"
   },
   {
    "duration": 0,
    "start_time": "2023-09-01T20:18:46.768Z"
   },
   {
    "duration": 0,
    "start_time": "2023-09-01T20:18:46.770Z"
   },
   {
    "duration": 0,
    "start_time": "2023-09-01T20:18:46.771Z"
   },
   {
    "duration": 0,
    "start_time": "2023-09-01T20:18:46.773Z"
   },
   {
    "duration": 0,
    "start_time": "2023-09-01T20:18:46.774Z"
   },
   {
    "duration": 0,
    "start_time": "2023-09-01T20:18:46.776Z"
   },
   {
    "duration": 0,
    "start_time": "2023-09-01T20:18:46.777Z"
   },
   {
    "duration": 0,
    "start_time": "2023-09-01T20:18:46.779Z"
   },
   {
    "duration": 0,
    "start_time": "2023-09-01T20:18:46.780Z"
   },
   {
    "duration": 0,
    "start_time": "2023-09-01T20:18:46.781Z"
   },
   {
    "duration": 0,
    "start_time": "2023-09-01T20:18:46.782Z"
   },
   {
    "duration": 1,
    "start_time": "2023-09-01T20:18:46.783Z"
   },
   {
    "duration": 0,
    "start_time": "2023-09-01T20:18:46.785Z"
   },
   {
    "duration": 0,
    "start_time": "2023-09-01T20:18:46.786Z"
   },
   {
    "duration": 0,
    "start_time": "2023-09-01T20:18:46.788Z"
   },
   {
    "duration": 0,
    "start_time": "2023-09-01T20:18:46.789Z"
   },
   {
    "duration": 0,
    "start_time": "2023-09-01T20:18:46.790Z"
   },
   {
    "duration": 0,
    "start_time": "2023-09-01T20:18:46.791Z"
   },
   {
    "duration": 0,
    "start_time": "2023-09-01T20:18:46.792Z"
   },
   {
    "duration": 0,
    "start_time": "2023-09-01T20:18:46.793Z"
   },
   {
    "duration": 0,
    "start_time": "2023-09-01T20:18:46.793Z"
   },
   {
    "duration": 0,
    "start_time": "2023-09-01T20:18:46.847Z"
   },
   {
    "duration": 0,
    "start_time": "2023-09-01T20:18:46.849Z"
   },
   {
    "duration": 0,
    "start_time": "2023-09-01T20:18:46.850Z"
   },
   {
    "duration": 0,
    "start_time": "2023-09-01T20:18:46.851Z"
   },
   {
    "duration": 0,
    "start_time": "2023-09-01T20:18:46.852Z"
   },
   {
    "duration": 0,
    "start_time": "2023-09-01T20:18:46.854Z"
   },
   {
    "duration": 0,
    "start_time": "2023-09-01T20:18:46.858Z"
   },
   {
    "duration": 0,
    "start_time": "2023-09-01T20:18:46.859Z"
   },
   {
    "duration": 0,
    "start_time": "2023-09-01T20:18:46.862Z"
   },
   {
    "duration": 0,
    "start_time": "2023-09-01T20:18:46.863Z"
   },
   {
    "duration": 0,
    "start_time": "2023-09-01T20:18:46.864Z"
   },
   {
    "duration": 0,
    "start_time": "2023-09-01T20:18:46.865Z"
   },
   {
    "duration": 0,
    "start_time": "2023-09-01T20:18:46.866Z"
   },
   {
    "duration": 445,
    "start_time": "2023-09-01T20:19:00.532Z"
   },
   {
    "duration": 14,
    "start_time": "2023-09-01T20:19:00.979Z"
   },
   {
    "duration": 84,
    "start_time": "2023-09-01T20:19:00.995Z"
   },
   {
    "duration": 34,
    "start_time": "2023-09-01T20:19:01.081Z"
   },
   {
    "duration": 82,
    "start_time": "2023-09-01T20:19:01.116Z"
   },
   {
    "duration": 182,
    "start_time": "2023-09-01T20:19:01.200Z"
   },
   {
    "duration": 149,
    "start_time": "2023-09-01T20:19:01.385Z"
   },
   {
    "duration": 58,
    "start_time": "2023-09-01T20:19:01.536Z"
   },
   {
    "duration": 68,
    "start_time": "2023-09-01T20:19:01.596Z"
   },
   {
    "duration": 33,
    "start_time": "2023-09-01T20:19:01.667Z"
   },
   {
    "duration": 59,
    "start_time": "2023-09-01T20:19:01.702Z"
   },
   {
    "duration": 313,
    "start_time": "2023-09-01T20:19:01.762Z"
   },
   {
    "duration": 272,
    "start_time": "2023-09-01T20:19:02.077Z"
   },
   {
    "duration": 15,
    "start_time": "2023-09-01T20:19:02.351Z"
   },
   {
    "duration": 71,
    "start_time": "2023-09-01T20:19:02.369Z"
   },
   {
    "duration": 35,
    "start_time": "2023-09-01T20:19:02.442Z"
   },
   {
    "duration": 16,
    "start_time": "2023-09-01T20:19:02.479Z"
   },
   {
    "duration": 28,
    "start_time": "2023-09-01T20:19:02.497Z"
   },
   {
    "duration": 29,
    "start_time": "2023-09-01T20:19:02.527Z"
   },
   {
    "duration": 37,
    "start_time": "2023-09-01T20:19:02.558Z"
   },
   {
    "duration": 28,
    "start_time": "2023-09-01T20:19:02.597Z"
   },
   {
    "duration": 121,
    "start_time": "2023-09-01T20:19:02.626Z"
   },
   {
    "duration": 30,
    "start_time": "2023-09-01T20:19:02.748Z"
   },
   {
    "duration": 28,
    "start_time": "2023-09-01T20:19:02.779Z"
   },
   {
    "duration": 22,
    "start_time": "2023-09-01T20:19:02.808Z"
   },
   {
    "duration": 15,
    "start_time": "2023-09-01T20:19:02.831Z"
   },
   {
    "duration": 24,
    "start_time": "2023-09-01T20:19:02.851Z"
   },
   {
    "duration": 33,
    "start_time": "2023-09-01T20:19:02.878Z"
   },
   {
    "duration": 59,
    "start_time": "2023-09-01T20:19:02.913Z"
   },
   {
    "duration": 3034,
    "start_time": "2023-09-01T20:19:02.974Z"
   },
   {
    "duration": 1715,
    "start_time": "2023-09-01T20:19:06.009Z"
   },
   {
    "duration": 2312,
    "start_time": "2023-09-01T20:19:07.725Z"
   },
   {
    "duration": 297,
    "start_time": "2023-09-01T20:19:10.038Z"
   },
   {
    "duration": 1138,
    "start_time": "2023-09-01T20:19:10.337Z"
   },
   {
    "duration": 159,
    "start_time": "2023-09-01T20:19:11.477Z"
   },
   {
    "duration": 30,
    "start_time": "2023-09-01T20:19:11.637Z"
   },
   {
    "duration": 31,
    "start_time": "2023-09-01T20:19:11.673Z"
   },
   {
    "duration": 18,
    "start_time": "2023-09-01T20:19:11.706Z"
   },
   {
    "duration": 25,
    "start_time": "2023-09-01T20:19:11.726Z"
   },
   {
    "duration": 14,
    "start_time": "2023-09-01T20:19:11.753Z"
   },
   {
    "duration": 8,
    "start_time": "2023-09-01T20:19:11.770Z"
   },
   {
    "duration": 22,
    "start_time": "2023-09-01T20:19:11.779Z"
   },
   {
    "duration": 12,
    "start_time": "2023-09-01T20:19:11.803Z"
   },
   {
    "duration": 11,
    "start_time": "2023-09-01T20:19:11.817Z"
   },
   {
    "duration": 51,
    "start_time": "2023-09-01T20:19:11.829Z"
   },
   {
    "duration": 16,
    "start_time": "2023-09-01T20:19:11.882Z"
   },
   {
    "duration": 3515,
    "start_time": "2023-09-01T20:19:11.900Z"
   },
   {
    "duration": 760,
    "start_time": "2023-09-01T20:19:15.418Z"
   },
   {
    "duration": 6434,
    "start_time": "2023-09-01T20:19:16.181Z"
   },
   {
    "duration": 63,
    "start_time": "2023-09-01T20:19:22.617Z"
   },
   {
    "duration": 12,
    "start_time": "2023-09-01T20:19:22.752Z"
   },
   {
    "duration": 262,
    "start_time": "2023-09-01T20:19:22.767Z"
   },
   {
    "duration": 4855,
    "start_time": "2023-09-02T20:05:31.543Z"
   },
   {
    "duration": 3268,
    "start_time": "2023-09-02T20:05:36.401Z"
   },
   {
    "duration": 3506,
    "start_time": "2023-09-02T20:05:39.672Z"
   },
   {
    "duration": 5,
    "start_time": "2023-09-02T20:05:43.181Z"
   },
   {
    "duration": 505,
    "start_time": "2023-09-02T20:05:43.188Z"
   },
   {
    "duration": 16,
    "start_time": "2023-09-02T20:05:43.694Z"
   },
   {
    "duration": 117,
    "start_time": "2023-09-02T20:05:43.713Z"
   },
   {
    "duration": 19,
    "start_time": "2023-09-02T20:05:43.833Z"
   },
   {
    "duration": 18,
    "start_time": "2023-09-02T20:05:43.854Z"
   },
   {
    "duration": 43,
    "start_time": "2023-09-02T20:05:43.877Z"
   },
   {
    "duration": 40,
    "start_time": "2023-09-02T20:05:43.922Z"
   },
   {
    "duration": 23,
    "start_time": "2023-09-02T20:05:43.964Z"
   },
   {
    "duration": 43,
    "start_time": "2023-09-02T20:05:43.989Z"
   },
   {
    "duration": 36,
    "start_time": "2023-09-02T20:05:44.039Z"
   },
   {
    "duration": 52,
    "start_time": "2023-09-02T20:05:44.076Z"
   },
   {
    "duration": 329,
    "start_time": "2023-09-02T20:05:44.129Z"
   },
   {
    "duration": 313,
    "start_time": "2023-09-02T20:05:44.459Z"
   },
   {
    "duration": 16,
    "start_time": "2023-09-02T20:05:44.774Z"
   },
   {
    "duration": 61,
    "start_time": "2023-09-02T20:05:44.792Z"
   },
   {
    "duration": 30,
    "start_time": "2023-09-02T20:05:44.855Z"
   },
   {
    "duration": 41,
    "start_time": "2023-09-02T20:05:44.887Z"
   },
   {
    "duration": 29,
    "start_time": "2023-09-02T20:05:44.930Z"
   },
   {
    "duration": 21,
    "start_time": "2023-09-02T20:05:44.961Z"
   },
   {
    "duration": 17,
    "start_time": "2023-09-02T20:05:44.984Z"
   },
   {
    "duration": 93,
    "start_time": "2023-09-02T20:05:45.003Z"
   },
   {
    "duration": 152,
    "start_time": "2023-09-02T20:05:45.099Z"
   },
   {
    "duration": 29,
    "start_time": "2023-09-02T20:05:45.254Z"
   },
   {
    "duration": 38,
    "start_time": "2023-09-02T20:05:45.291Z"
   },
   {
    "duration": 14,
    "start_time": "2023-09-02T20:05:45.339Z"
   },
   {
    "duration": 19,
    "start_time": "2023-09-02T20:05:45.355Z"
   },
   {
    "duration": 14,
    "start_time": "2023-09-02T20:05:45.378Z"
   },
   {
    "duration": 10,
    "start_time": "2023-09-02T20:05:45.398Z"
   },
   {
    "duration": 57,
    "start_time": "2023-09-02T20:05:45.422Z"
   },
   {
    "duration": 3305,
    "start_time": "2023-09-02T20:05:45.482Z"
   },
   {
    "duration": 2038,
    "start_time": "2023-09-02T20:05:48.789Z"
   },
   {
    "duration": 2621,
    "start_time": "2023-09-02T20:05:50.828Z"
   },
   {
    "duration": 323,
    "start_time": "2023-09-02T20:05:53.451Z"
   },
   {
    "duration": 1420,
    "start_time": "2023-09-02T20:05:53.776Z"
   },
   {
    "duration": 204,
    "start_time": "2023-09-02T20:05:55.198Z"
   },
   {
    "duration": 60,
    "start_time": "2023-09-02T20:05:55.404Z"
   },
   {
    "duration": 58,
    "start_time": "2023-09-02T20:05:55.467Z"
   },
   {
    "duration": 30,
    "start_time": "2023-09-02T20:05:55.531Z"
   },
   {
    "duration": 5,
    "start_time": "2023-09-02T20:05:55.566Z"
   },
   {
    "duration": 12,
    "start_time": "2023-09-02T20:05:55.573Z"
   },
   {
    "duration": 5,
    "start_time": "2023-09-02T20:05:55.588Z"
   },
   {
    "duration": 28,
    "start_time": "2023-09-02T20:05:55.595Z"
   },
   {
    "duration": 5,
    "start_time": "2023-09-02T20:05:55.625Z"
   },
   {
    "duration": 20,
    "start_time": "2023-09-02T20:05:55.632Z"
   },
   {
    "duration": 24,
    "start_time": "2023-09-02T20:05:55.654Z"
   },
   {
    "duration": 17,
    "start_time": "2023-09-02T20:05:55.680Z"
   },
   {
    "duration": 3742,
    "start_time": "2023-09-02T20:05:55.699Z"
   },
   {
    "duration": 622,
    "start_time": "2023-09-02T20:05:59.443Z"
   },
   {
    "duration": 7019,
    "start_time": "2023-09-02T20:06:00.122Z"
   },
   {
    "duration": 75,
    "start_time": "2023-09-02T20:06:07.148Z"
   },
   {
    "duration": 11,
    "start_time": "2023-09-02T20:06:07.230Z"
   },
   {
    "duration": 208,
    "start_time": "2023-09-02T20:06:07.318Z"
   },
   {
    "duration": 45,
    "start_time": "2023-09-02T21:10:57.881Z"
   },
   {
    "duration": 3202,
    "start_time": "2023-09-02T21:11:03.377Z"
   },
   {
    "duration": 2190,
    "start_time": "2023-09-02T21:11:06.581Z"
   },
   {
    "duration": 1571,
    "start_time": "2023-09-02T21:11:08.773Z"
   },
   {
    "duration": 4,
    "start_time": "2023-09-02T21:11:10.347Z"
   },
   {
    "duration": 425,
    "start_time": "2023-09-02T21:11:10.353Z"
   },
   {
    "duration": 14,
    "start_time": "2023-09-02T21:11:10.780Z"
   },
   {
    "duration": 20,
    "start_time": "2023-09-02T21:11:10.796Z"
   },
   {
    "duration": 6,
    "start_time": "2023-09-02T21:11:10.819Z"
   },
   {
    "duration": 11,
    "start_time": "2023-09-02T21:11:10.826Z"
   },
   {
    "duration": 31,
    "start_time": "2023-09-02T21:11:10.839Z"
   },
   {
    "duration": 21,
    "start_time": "2023-09-02T21:11:10.872Z"
   },
   {
    "duration": 14,
    "start_time": "2023-09-02T21:11:10.895Z"
   },
   {
    "duration": 29,
    "start_time": "2023-09-02T21:11:10.911Z"
   },
   {
    "duration": 32,
    "start_time": "2023-09-02T21:11:10.942Z"
   },
   {
    "duration": 33,
    "start_time": "2023-09-02T21:11:10.976Z"
   },
   {
    "duration": 220,
    "start_time": "2023-09-02T21:11:11.011Z"
   },
   {
    "duration": 238,
    "start_time": "2023-09-02T21:11:11.233Z"
   },
   {
    "duration": 10,
    "start_time": "2023-09-02T21:11:11.472Z"
   },
   {
    "duration": 18,
    "start_time": "2023-09-02T21:11:11.483Z"
   },
   {
    "duration": 14,
    "start_time": "2023-09-02T21:11:11.503Z"
   },
   {
    "duration": 11,
    "start_time": "2023-09-02T21:11:11.519Z"
   },
   {
    "duration": 6,
    "start_time": "2023-09-02T21:11:11.532Z"
   },
   {
    "duration": 8,
    "start_time": "2023-09-02T21:11:11.550Z"
   },
   {
    "duration": 12,
    "start_time": "2023-09-02T21:11:11.559Z"
   },
   {
    "duration": 15,
    "start_time": "2023-09-02T21:11:11.572Z"
   },
   {
    "duration": 104,
    "start_time": "2023-09-02T21:11:11.588Z"
   },
   {
    "duration": 16,
    "start_time": "2023-09-02T21:11:11.694Z"
   },
   {
    "duration": 15,
    "start_time": "2023-09-02T21:11:11.714Z"
   },
   {
    "duration": 11,
    "start_time": "2023-09-02T21:11:11.730Z"
   },
   {
    "duration": 11,
    "start_time": "2023-09-02T21:11:11.750Z"
   },
   {
    "duration": 14,
    "start_time": "2023-09-02T21:11:11.763Z"
   },
   {
    "duration": 19,
    "start_time": "2023-09-02T21:11:11.779Z"
   },
   {
    "duration": 36,
    "start_time": "2023-09-02T21:11:11.800Z"
   },
   {
    "duration": 2359,
    "start_time": "2023-09-02T21:11:11.838Z"
   },
   {
    "duration": 1374,
    "start_time": "2023-09-02T21:11:14.199Z"
   },
   {
    "duration": 2096,
    "start_time": "2023-09-02T21:11:15.574Z"
   },
   {
    "duration": 339,
    "start_time": "2023-09-02T21:11:17.675Z"
   },
   {
    "duration": 867,
    "start_time": "2023-09-02T21:11:18.015Z"
   },
   {
    "duration": 140,
    "start_time": "2023-09-02T21:11:18.885Z"
   },
   {
    "duration": 31,
    "start_time": "2023-09-02T21:11:19.027Z"
   },
   {
    "duration": 33,
    "start_time": "2023-09-02T21:11:19.063Z"
   },
   {
    "duration": 17,
    "start_time": "2023-09-02T21:11:19.100Z"
   },
   {
    "duration": 6,
    "start_time": "2023-09-02T21:11:19.120Z"
   },
   {
    "duration": 12,
    "start_time": "2023-09-02T21:11:19.128Z"
   },
   {
    "duration": 26,
    "start_time": "2023-09-02T21:11:19.142Z"
   },
   {
    "duration": 37,
    "start_time": "2023-09-02T21:11:19.171Z"
   },
   {
    "duration": 8,
    "start_time": "2023-09-02T21:11:19.209Z"
   },
   {
    "duration": 15,
    "start_time": "2023-09-02T21:11:19.219Z"
   },
   {
    "duration": 27,
    "start_time": "2023-09-02T21:11:19.236Z"
   },
   {
    "duration": 23,
    "start_time": "2023-09-02T21:11:19.265Z"
   },
   {
    "duration": 2726,
    "start_time": "2023-09-02T21:11:19.290Z"
   },
   {
    "duration": 647,
    "start_time": "2023-09-02T21:11:22.018Z"
   },
   {
    "duration": 5299,
    "start_time": "2023-09-02T21:11:22.666Z"
   },
   {
    "duration": 33,
    "start_time": "2023-09-02T21:11:27.966Z"
   },
   {
    "duration": 56,
    "start_time": "2023-09-02T21:11:28.002Z"
   },
   {
    "duration": 319,
    "start_time": "2023-09-02T21:11:28.064Z"
   },
   {
    "duration": 205,
    "start_time": "2023-09-02T21:12:42.429Z"
   },
   {
    "duration": 2314,
    "start_time": "2023-09-02T21:21:35.176Z"
   },
   {
    "duration": 2205,
    "start_time": "2023-09-02T21:21:37.492Z"
   },
   {
    "duration": 4,
    "start_time": "2023-09-02T21:21:39.699Z"
   },
   {
    "duration": 12,
    "start_time": "2023-09-02T21:21:39.705Z"
   },
   {
    "duration": 120,
    "start_time": "2023-09-02T21:21:39.718Z"
   },
   {
    "duration": 17,
    "start_time": "2023-09-02T21:21:39.840Z"
   },
   {
    "duration": 15,
    "start_time": "2023-09-02T21:21:39.858Z"
   },
   {
    "duration": 8,
    "start_time": "2023-09-02T21:21:39.874Z"
   },
   {
    "duration": 22,
    "start_time": "2023-09-02T21:21:39.884Z"
   },
   {
    "duration": 14,
    "start_time": "2023-09-02T21:21:39.907Z"
   },
   {
    "duration": 15,
    "start_time": "2023-09-02T21:21:39.922Z"
   },
   {
    "duration": 25,
    "start_time": "2023-09-02T21:21:39.938Z"
   },
   {
    "duration": 10,
    "start_time": "2023-09-02T21:21:39.965Z"
   },
   {
    "duration": 13,
    "start_time": "2023-09-02T21:21:39.978Z"
   },
   {
    "duration": 15,
    "start_time": "2023-09-02T21:21:39.992Z"
   },
   {
    "duration": 216,
    "start_time": "2023-09-02T21:21:40.008Z"
   },
   {
    "duration": 206,
    "start_time": "2023-09-02T21:21:40.225Z"
   },
   {
    "duration": 23,
    "start_time": "2023-09-02T21:21:40.433Z"
   },
   {
    "duration": 15,
    "start_time": "2023-09-02T21:21:40.458Z"
   },
   {
    "duration": 12,
    "start_time": "2023-09-02T21:21:40.481Z"
   },
   {
    "duration": 11,
    "start_time": "2023-09-02T21:21:40.495Z"
   },
   {
    "duration": 7,
    "start_time": "2023-09-02T21:21:40.507Z"
   },
   {
    "duration": 7,
    "start_time": "2023-09-02T21:21:40.515Z"
   },
   {
    "duration": 10,
    "start_time": "2023-09-02T21:21:40.523Z"
   },
   {
    "duration": 26,
    "start_time": "2023-09-02T21:21:40.549Z"
   },
   {
    "duration": 13,
    "start_time": "2023-09-02T21:21:40.576Z"
   },
   {
    "duration": 16,
    "start_time": "2023-09-02T21:21:40.590Z"
   },
   {
    "duration": 10,
    "start_time": "2023-09-02T21:21:40.608Z"
   },
   {
    "duration": 6,
    "start_time": "2023-09-02T21:21:40.619Z"
   },
   {
    "duration": 30,
    "start_time": "2023-09-02T21:21:40.627Z"
   },
   {
    "duration": 13,
    "start_time": "2023-09-02T21:21:40.661Z"
   },
   {
    "duration": 5,
    "start_time": "2023-09-02T21:21:40.676Z"
   },
   {
    "duration": 17,
    "start_time": "2023-09-02T21:21:40.682Z"
   },
   {
    "duration": 2500,
    "start_time": "2023-09-02T21:21:40.700Z"
   },
   {
    "duration": 1326,
    "start_time": "2023-09-02T21:21:43.202Z"
   },
   {
    "duration": 2051,
    "start_time": "2023-09-02T21:21:44.531Z"
   },
   {
    "duration": 190,
    "start_time": "2023-09-02T21:21:46.584Z"
   },
   {
    "duration": 827,
    "start_time": "2023-09-02T21:21:46.777Z"
   },
   {
    "duration": 139,
    "start_time": "2023-09-02T21:21:47.605Z"
   },
   {
    "duration": 32,
    "start_time": "2023-09-02T21:21:47.746Z"
   },
   {
    "duration": 4,
    "start_time": "2023-09-02T21:21:47.782Z"
   },
   {
    "duration": 8,
    "start_time": "2023-09-02T21:21:47.788Z"
   },
   {
    "duration": 15,
    "start_time": "2023-09-02T21:21:47.798Z"
   },
   {
    "duration": 12,
    "start_time": "2023-09-02T21:21:47.814Z"
   },
   {
    "duration": 8,
    "start_time": "2023-09-02T21:21:47.827Z"
   },
   {
    "duration": 162,
    "start_time": "2023-09-02T21:21:47.837Z"
   },
   {
    "duration": 15,
    "start_time": "2023-09-02T21:21:48.001Z"
   },
   {
    "duration": 4,
    "start_time": "2023-09-02T21:21:48.018Z"
   },
   {
    "duration": 43,
    "start_time": "2023-09-02T21:21:48.023Z"
   },
   {
    "duration": 18,
    "start_time": "2023-09-02T21:21:48.067Z"
   },
   {
    "duration": 1892,
    "start_time": "2023-09-02T21:21:48.087Z"
   },
   {
    "duration": 785,
    "start_time": "2023-09-02T21:21:49.982Z"
   },
   {
    "duration": 5926,
    "start_time": "2023-09-02T21:21:50.768Z"
   },
   {
    "duration": 45,
    "start_time": "2023-09-02T21:21:56.696Z"
   },
   {
    "duration": 0,
    "start_time": "2023-09-02T21:21:56.742Z"
   },
   {
    "duration": 0,
    "start_time": "2023-09-02T21:21:56.749Z"
   },
   {
    "duration": 3532,
    "start_time": "2023-09-03T15:36:42.842Z"
   },
   {
    "duration": 2348,
    "start_time": "2023-09-03T15:36:46.377Z"
   },
   {
    "duration": 1726,
    "start_time": "2023-09-03T15:36:48.727Z"
   },
   {
    "duration": 2,
    "start_time": "2023-09-03T15:36:50.456Z"
   },
   {
    "duration": 368,
    "start_time": "2023-09-03T15:36:50.460Z"
   },
   {
    "duration": 17,
    "start_time": "2023-09-03T15:36:50.829Z"
   },
   {
    "duration": 71,
    "start_time": "2023-09-03T15:36:50.848Z"
   },
   {
    "duration": 26,
    "start_time": "2023-09-03T15:36:50.920Z"
   },
   {
    "duration": 64,
    "start_time": "2023-09-03T15:36:50.947Z"
   },
   {
    "duration": 25,
    "start_time": "2023-09-03T15:36:51.014Z"
   },
   {
    "duration": 19,
    "start_time": "2023-09-03T15:36:51.041Z"
   },
   {
    "duration": 15,
    "start_time": "2023-09-03T15:36:51.062Z"
   },
   {
    "duration": 5,
    "start_time": "2023-09-03T15:36:51.079Z"
   },
   {
    "duration": 37,
    "start_time": "2023-09-03T15:36:51.086Z"
   },
   {
    "duration": 32,
    "start_time": "2023-09-03T15:36:51.125Z"
   },
   {
    "duration": 259,
    "start_time": "2023-09-03T15:36:51.159Z"
   },
   {
    "duration": 310,
    "start_time": "2023-09-03T15:36:51.420Z"
   },
   {
    "duration": 11,
    "start_time": "2023-09-03T15:36:51.732Z"
   },
   {
    "duration": 12,
    "start_time": "2023-09-03T15:36:51.745Z"
   },
   {
    "duration": 18,
    "start_time": "2023-09-03T15:36:51.759Z"
   },
   {
    "duration": 31,
    "start_time": "2023-09-03T15:36:51.779Z"
   },
   {
    "duration": 6,
    "start_time": "2023-09-03T15:36:51.812Z"
   },
   {
    "duration": 12,
    "start_time": "2023-09-03T15:36:51.820Z"
   },
   {
    "duration": 11,
    "start_time": "2023-09-03T15:36:51.834Z"
   },
   {
    "duration": 16,
    "start_time": "2023-09-03T15:36:51.847Z"
   },
   {
    "duration": 45,
    "start_time": "2023-09-03T15:36:51.866Z"
   },
   {
    "duration": 19,
    "start_time": "2023-09-03T15:36:51.913Z"
   },
   {
    "duration": 10,
    "start_time": "2023-09-03T15:36:51.936Z"
   },
   {
    "duration": 10,
    "start_time": "2023-09-03T15:36:51.947Z"
   },
   {
    "duration": 9,
    "start_time": "2023-09-03T15:36:51.959Z"
   },
   {
    "duration": 42,
    "start_time": "2023-09-03T15:36:51.970Z"
   },
   {
    "duration": 7,
    "start_time": "2023-09-03T15:36:52.014Z"
   },
   {
    "duration": 18,
    "start_time": "2023-09-03T15:36:52.023Z"
   },
   {
    "duration": 2898,
    "start_time": "2023-09-03T15:36:52.043Z"
   },
   {
    "duration": 1552,
    "start_time": "2023-09-03T15:36:54.943Z"
   },
   {
    "duration": 2163,
    "start_time": "2023-09-03T15:36:56.497Z"
   },
   {
    "duration": 375,
    "start_time": "2023-09-03T15:36:58.662Z"
   },
   {
    "duration": 938,
    "start_time": "2023-09-03T15:36:59.042Z"
   },
   {
    "duration": 184,
    "start_time": "2023-09-03T15:36:59.982Z"
   },
   {
    "duration": 6,
    "start_time": "2023-09-03T15:37:00.168Z"
   },
   {
    "duration": 18,
    "start_time": "2023-09-03T15:37:00.176Z"
   },
   {
    "duration": 32,
    "start_time": "2023-09-03T15:37:00.236Z"
   },
   {
    "duration": 207,
    "start_time": "2023-09-03T15:37:58.302Z"
   },
   {
    "duration": 10,
    "start_time": "2023-09-03T15:38:09.647Z"
   },
   {
    "duration": 8,
    "start_time": "2023-09-03T15:38:11.207Z"
   },
   {
    "duration": 5,
    "start_time": "2023-09-03T15:38:22.379Z"
   },
   {
    "duration": 18,
    "start_time": "2023-09-03T15:40:12.902Z"
   },
   {
    "duration": 6,
    "start_time": "2023-09-03T15:40:46.890Z"
   },
   {
    "duration": 18,
    "start_time": "2023-09-03T15:41:19.286Z"
   },
   {
    "duration": 127,
    "start_time": "2023-09-03T15:42:18.587Z"
   },
   {
    "duration": 18,
    "start_time": "2023-09-03T15:42:23.346Z"
   },
   {
    "duration": 31,
    "start_time": "2023-09-03T15:42:25.103Z"
   },
   {
    "duration": 2081,
    "start_time": "2023-09-03T15:42:56.966Z"
   },
   {
    "duration": 208,
    "start_time": "2023-09-03T15:43:12.006Z"
   },
   {
    "duration": 7,
    "start_time": "2023-09-03T15:43:57.822Z"
   },
   {
    "duration": 8,
    "start_time": "2023-09-03T15:44:02.443Z"
   },
   {
    "duration": 7,
    "start_time": "2023-09-03T15:44:02.453Z"
   },
   {
    "duration": 21,
    "start_time": "2023-09-03T15:44:02.463Z"
   },
   {
    "duration": 10,
    "start_time": "2023-09-03T15:44:02.488Z"
   },
   {
    "duration": 8,
    "start_time": "2023-09-03T15:44:02.508Z"
   },
   {
    "duration": 30,
    "start_time": "2023-09-03T15:44:02.519Z"
   },
   {
    "duration": 3,
    "start_time": "2023-09-03T15:44:02.552Z"
   },
   {
    "duration": 19,
    "start_time": "2023-09-03T15:44:02.558Z"
   },
   {
    "duration": 5,
    "start_time": "2023-09-03T15:44:02.611Z"
   },
   {
    "duration": 21,
    "start_time": "2023-09-03T15:44:02.619Z"
   },
   {
    "duration": 28,
    "start_time": "2023-09-03T15:44:02.642Z"
   },
   {
    "duration": 1624,
    "start_time": "2023-09-03T15:44:02.672Z"
   },
   {
    "duration": 831,
    "start_time": "2023-09-03T15:44:04.298Z"
   },
   {
    "duration": 6374,
    "start_time": "2023-09-03T15:44:05.132Z"
   },
   {
    "duration": 40,
    "start_time": "2023-09-03T15:44:11.515Z"
   },
   {
    "duration": 0,
    "start_time": "2023-09-03T15:44:11.557Z"
   },
   {
    "duration": 0,
    "start_time": "2023-09-03T15:44:11.560Z"
   },
   {
    "duration": 11,
    "start_time": "2023-09-03T15:55:19.378Z"
   },
   {
    "duration": 17,
    "start_time": "2023-09-03T15:55:43.067Z"
   },
   {
    "duration": 4,
    "start_time": "2023-09-03T15:56:03.321Z"
   },
   {
    "duration": 25,
    "start_time": "2023-09-03T15:56:08.122Z"
   },
   {
    "duration": 9,
    "start_time": "2023-09-03T15:56:38.434Z"
   },
   {
    "duration": 7,
    "start_time": "2023-09-03T15:56:40.977Z"
   },
   {
    "duration": 16,
    "start_time": "2023-09-03T15:56:49.666Z"
   },
   {
    "duration": 38,
    "start_time": "2023-09-03T15:57:24.258Z"
   },
   {
    "duration": 50,
    "start_time": "2023-09-03T15:58:42.578Z"
   },
   {
    "duration": 1524,
    "start_time": "2023-09-03T15:59:00.804Z"
   },
   {
    "duration": 86,
    "start_time": "2023-09-03T16:00:29.009Z"
   },
   {
    "duration": 57,
    "start_time": "2023-09-03T16:01:36.823Z"
   },
   {
    "duration": 47,
    "start_time": "2023-09-03T16:02:22.194Z"
   },
   {
    "duration": 11,
    "start_time": "2023-09-03T16:03:01.662Z"
   },
   {
    "duration": 11,
    "start_time": "2023-09-03T16:03:09.975Z"
   },
   {
    "duration": 10,
    "start_time": "2023-09-03T16:03:22.986Z"
   },
   {
    "duration": 9,
    "start_time": "2023-09-03T16:03:24.621Z"
   },
   {
    "duration": 28,
    "start_time": "2023-09-03T16:06:17.451Z"
   },
   {
    "duration": 31,
    "start_time": "2023-09-03T16:06:33.903Z"
   },
   {
    "duration": 66,
    "start_time": "2023-09-03T16:06:42.311Z"
   },
   {
    "duration": 13,
    "start_time": "2023-09-03T16:06:42.768Z"
   },
   {
    "duration": 10,
    "start_time": "2023-09-03T16:07:03.063Z"
   },
   {
    "duration": 10,
    "start_time": "2023-09-03T16:07:12.647Z"
   },
   {
    "duration": 63,
    "start_time": "2023-09-03T16:07:22.243Z"
   },
   {
    "duration": 25,
    "start_time": "2023-09-03T16:07:24.271Z"
   },
   {
    "duration": 44,
    "start_time": "2023-09-03T16:07:26.259Z"
   },
   {
    "duration": 4,
    "start_time": "2023-09-03T16:07:48.027Z"
   },
   {
    "duration": 1556,
    "start_time": "2023-09-03T16:08:19.182Z"
   },
   {
    "duration": 803,
    "start_time": "2023-09-03T16:08:45.313Z"
   },
   {
    "duration": 6008,
    "start_time": "2023-09-03T16:08:47.410Z"
   },
   {
    "duration": 28,
    "start_time": "2023-09-03T16:08:53.594Z"
   },
   {
    "duration": 131,
    "start_time": "2023-09-03T16:09:13.186Z"
   },
   {
    "duration": 186,
    "start_time": "2023-09-03T16:09:35.825Z"
   },
   {
    "duration": 213,
    "start_time": "2023-09-03T16:09:55.505Z"
   },
   {
    "duration": 154,
    "start_time": "2023-09-03T16:10:14.970Z"
   },
   {
    "duration": 14,
    "start_time": "2023-09-03T16:15:39.080Z"
   },
   {
    "duration": 6,
    "start_time": "2023-09-03T16:16:15.271Z"
   },
   {
    "duration": 12,
    "start_time": "2023-09-03T16:16:25.807Z"
   },
   {
    "duration": 12,
    "start_time": "2023-09-03T16:17:38.538Z"
   },
   {
    "duration": 14,
    "start_time": "2023-09-03T16:20:29.057Z"
   },
   {
    "duration": 15,
    "start_time": "2023-09-03T16:20:35.965Z"
   },
   {
    "duration": 15,
    "start_time": "2023-09-03T16:20:46.509Z"
   },
   {
    "duration": 14,
    "start_time": "2023-09-03T16:21:06.118Z"
   },
   {
    "duration": 244733,
    "start_time": "2023-09-03T16:21:18.577Z"
   },
   {
    "duration": 15,
    "start_time": "2023-09-03T18:50:50.130Z"
   },
   {
    "duration": 242731,
    "start_time": "2023-09-03T18:53:56.387Z"
   },
   {
    "duration": 84,
    "start_time": "2023-09-03T18:57:59.133Z"
   },
   {
    "duration": 5,
    "start_time": "2023-09-03T19:01:41.265Z"
   },
   {
    "duration": 13,
    "start_time": "2023-09-03T19:02:27.734Z"
   },
   {
    "duration": 13,
    "start_time": "2023-09-03T19:02:35.458Z"
   },
   {
    "duration": 12,
    "start_time": "2023-09-03T19:02:39.344Z"
   },
   {
    "duration": 18,
    "start_time": "2023-09-03T19:06:06.363Z"
   },
   {
    "duration": 17,
    "start_time": "2023-09-03T19:06:11.720Z"
   },
   {
    "duration": 5500,
    "start_time": "2023-09-03T19:07:39.828Z"
   },
   {
    "duration": 190351,
    "start_time": "2023-09-03T19:08:00.283Z"
   },
   {
    "duration": 7,
    "start_time": "2023-09-03T19:11:10.636Z"
   },
   {
    "duration": 120,
    "start_time": "2023-09-03T19:11:17.212Z"
   },
   {
    "duration": 32,
    "start_time": "2023-09-03T19:12:41.389Z"
   },
   {
    "duration": 46,
    "start_time": "2023-09-03T19:12:53.075Z"
   },
   {
    "duration": 182108,
    "start_time": "2023-09-03T19:16:15.448Z"
   },
   {
    "duration": 16,
    "start_time": "2023-09-03T19:22:33.279Z"
   },
   {
    "duration": 112,
    "start_time": "2023-09-03T19:23:52.691Z"
   },
   {
    "duration": 31,
    "start_time": "2023-09-03T19:23:57.317Z"
   },
   {
    "duration": 10,
    "start_time": "2023-09-03T19:24:13.958Z"
   },
   {
    "duration": 10,
    "start_time": "2023-09-03T19:24:56.328Z"
   },
   {
    "duration": 10,
    "start_time": "2023-09-03T19:25:08.567Z"
   },
   {
    "duration": 4,
    "start_time": "2023-09-03T19:25:27.060Z"
   },
   {
    "duration": 23,
    "start_time": "2023-09-03T19:26:47.436Z"
   },
   {
    "duration": 18,
    "start_time": "2023-09-03T19:27:30.159Z"
   },
   {
    "duration": 440874,
    "start_time": "2023-09-03T19:27:47.995Z"
   },
   {
    "duration": 57,
    "start_time": "2023-09-03T19:35:08.872Z"
   },
   {
    "duration": 452714,
    "start_time": "2023-09-03T19:47:54.355Z"
   },
   {
    "duration": 40,
    "start_time": "2023-09-03T19:55:27.071Z"
   },
   {
    "duration": 53,
    "start_time": "2023-09-03T20:01:39.380Z"
   },
   {
    "duration": 29,
    "start_time": "2023-09-03T20:02:07.372Z"
   },
   {
    "duration": 29,
    "start_time": "2023-09-03T20:02:30.874Z"
   },
   {
    "duration": 29,
    "start_time": "2023-09-03T20:02:35.976Z"
   },
   {
    "duration": 33,
    "start_time": "2023-09-03T20:02:41.783Z"
   },
   {
    "duration": 30,
    "start_time": "2023-09-03T20:02:51.040Z"
   },
   {
    "duration": 67,
    "start_time": "2023-09-03T20:03:25.500Z"
   },
   {
    "duration": 39,
    "start_time": "2023-09-03T20:03:34.983Z"
   },
   {
    "duration": 36,
    "start_time": "2023-09-03T20:03:45.704Z"
   },
   {
    "duration": 34,
    "start_time": "2023-09-03T20:03:49.436Z"
   },
   {
    "duration": 40,
    "start_time": "2023-09-03T20:03:52.640Z"
   },
   {
    "duration": 37,
    "start_time": "2023-09-03T20:03:57.696Z"
   },
   {
    "duration": 35,
    "start_time": "2023-09-03T20:04:02.031Z"
   },
   {
    "duration": 40,
    "start_time": "2023-09-03T20:04:06.640Z"
   },
   {
    "duration": 50,
    "start_time": "2023-09-03T20:04:17.976Z"
   },
   {
    "duration": 39,
    "start_time": "2023-09-03T20:04:21.000Z"
   },
   {
    "duration": 440715,
    "start_time": "2023-09-03T20:07:29.672Z"
   },
   {
    "duration": 37,
    "start_time": "2023-09-03T20:14:50.389Z"
   },
   {
    "duration": 52,
    "start_time": "2023-09-03T20:16:07.219Z"
   },
   {
    "duration": 125,
    "start_time": "2023-09-03T20:17:59.396Z"
   },
   {
    "duration": 29,
    "start_time": "2023-09-03T20:18:11.424Z"
   },
   {
    "duration": 29,
    "start_time": "2023-09-03T20:18:16.639Z"
   },
   {
    "duration": 36,
    "start_time": "2023-09-03T20:19:19.785Z"
   },
   {
    "duration": 28,
    "start_time": "2023-09-03T20:19:20.279Z"
   },
   {
    "duration": 6,
    "start_time": "2023-09-03T20:19:38.976Z"
   },
   {
    "duration": 200,
    "start_time": "2023-09-03T20:20:06.196Z"
   },
   {
    "duration": 10,
    "start_time": "2023-09-03T20:20:38.332Z"
   },
   {
    "duration": 13,
    "start_time": "2023-09-03T20:20:47.288Z"
   },
   {
    "duration": 16,
    "start_time": "2023-09-03T20:21:26.584Z"
   },
   {
    "duration": 5,
    "start_time": "2023-09-03T20:21:58.131Z"
   },
   {
    "duration": 14,
    "start_time": "2023-09-03T20:22:04.780Z"
   },
   {
    "duration": 14,
    "start_time": "2023-09-03T20:22:20.552Z"
   },
   {
    "duration": 12,
    "start_time": "2023-09-03T20:22:40.179Z"
   },
   {
    "duration": 196,
    "start_time": "2023-09-03T20:23:06.828Z"
   },
   {
    "duration": 10,
    "start_time": "2023-09-03T20:25:44.056Z"
   },
   {
    "duration": 4,
    "start_time": "2023-09-03T20:25:47.291Z"
   },
   {
    "duration": 7,
    "start_time": "2023-09-03T20:25:54.951Z"
   },
   {
    "duration": 4,
    "start_time": "2023-09-03T20:27:47.888Z"
   },
   {
    "duration": 154,
    "start_time": "2023-09-03T20:28:08.364Z"
   },
   {
    "duration": 59,
    "start_time": "2023-09-03T20:29:00.240Z"
   },
   {
    "duration": 52,
    "start_time": "2023-09-03T20:29:33.307Z"
   },
   {
    "duration": 61,
    "start_time": "2023-09-03T20:29:45.700Z"
   },
   {
    "duration": 5,
    "start_time": "2023-09-03T20:30:37.672Z"
   },
   {
    "duration": 61,
    "start_time": "2023-09-03T20:30:50.223Z"
   },
   {
    "duration": 53,
    "start_time": "2023-09-03T20:31:00.288Z"
   },
   {
    "duration": 32,
    "start_time": "2023-09-03T20:32:42.832Z"
   },
   {
    "duration": 32,
    "start_time": "2023-09-03T20:32:55.128Z"
   },
   {
    "duration": 53,
    "start_time": "2023-09-03T20:33:13.148Z"
   },
   {
    "duration": 46,
    "start_time": "2023-09-03T20:34:03.616Z"
   },
   {
    "duration": 43,
    "start_time": "2023-09-03T20:34:13.740Z"
   },
   {
    "duration": 32,
    "start_time": "2023-09-03T20:34:29.356Z"
   },
   {
    "duration": 88,
    "start_time": "2023-09-03T20:34:57.188Z"
   },
   {
    "duration": 40,
    "start_time": "2023-09-03T20:35:02.391Z"
   },
   {
    "duration": 14,
    "start_time": "2023-09-03T20:35:11.279Z"
   },
   {
    "duration": 13,
    "start_time": "2023-09-03T20:35:24.985Z"
   },
   {
    "duration": 6,
    "start_time": "2023-09-03T20:36:01.744Z"
   },
   {
    "duration": 6,
    "start_time": "2023-09-03T20:36:07.157Z"
   },
   {
    "duration": 33,
    "start_time": "2023-09-03T20:36:51.981Z"
   },
   {
    "duration": 4,
    "start_time": "2023-09-03T20:36:54.204Z"
   },
   {
    "duration": 32,
    "start_time": "2023-09-03T20:37:12.992Z"
   },
   {
    "duration": 160,
    "start_time": "2023-09-03T20:37:23.440Z"
   },
   {
    "duration": 165,
    "start_time": "2023-09-03T20:38:03.488Z"
   },
   {
    "duration": 26,
    "start_time": "2023-09-03T20:41:07.476Z"
   },
   {
    "duration": 11,
    "start_time": "2023-09-03T20:41:20.928Z"
   },
   {
    "duration": 7,
    "start_time": "2023-09-03T20:41:29.169Z"
   },
   {
    "duration": 112429,
    "start_time": "2023-09-03T20:41:44.069Z"
   },
   {
    "duration": 11,
    "start_time": "2023-09-03T20:43:36.500Z"
   },
   {
    "duration": 5,
    "start_time": "2023-09-03T20:43:44.976Z"
   },
   {
    "duration": 5,
    "start_time": "2023-09-03T20:44:11.403Z"
   },
   {
    "duration": 23,
    "start_time": "2023-09-03T20:44:34.820Z"
   },
   {
    "duration": 4,
    "start_time": "2023-09-03T20:46:14.260Z"
   },
   {
    "duration": 12627,
    "start_time": "2023-09-03T20:46:59.792Z"
   },
   {
    "duration": 10,
    "start_time": "2023-09-03T20:48:09.560Z"
   },
   {
    "duration": 11,
    "start_time": "2023-09-03T20:49:45.708Z"
   },
   {
    "duration": 1024,
    "start_time": "2023-09-03T20:50:11.958Z"
   },
   {
    "duration": 2592,
    "start_time": "2023-09-03T20:50:30.760Z"
   },
   {
    "duration": 950,
    "start_time": "2023-09-03T20:50:53.984Z"
   },
   {
    "duration": 603,
    "start_time": "2023-09-03T20:51:06.624Z"
   },
   {
    "duration": 21,
    "start_time": "2023-09-03T20:53:30.559Z"
   },
   {
    "duration": 41,
    "start_time": "2023-09-03T20:54:01.684Z"
   },
   {
    "duration": 582,
    "start_time": "2023-09-03T20:54:10.512Z"
   },
   {
    "duration": 96,
    "start_time": "2023-09-03T20:54:30.400Z"
   },
   {
    "duration": 813,
    "start_time": "2023-09-03T20:54:34.428Z"
   },
   {
    "duration": 14,
    "start_time": "2023-09-03T20:54:52.428Z"
   },
   {
    "duration": 14,
    "start_time": "2023-09-03T20:56:32.020Z"
   },
   {
    "duration": 12,
    "start_time": "2023-09-03T20:58:33.065Z"
   },
   {
    "duration": 667,
    "start_time": "2023-09-03T20:58:39.704Z"
   },
   {
    "duration": 1005,
    "start_time": "2023-09-03T20:58:56.976Z"
   },
   {
    "duration": 822,
    "start_time": "2023-09-03T20:59:03.984Z"
   },
   {
    "duration": 803,
    "start_time": "2023-09-03T20:59:08.992Z"
   },
   {
    "duration": 789,
    "start_time": "2023-09-03T20:59:12.816Z"
   },
   {
    "duration": 849,
    "start_time": "2023-09-03T20:59:19.768Z"
   },
   {
    "duration": 836,
    "start_time": "2023-09-03T20:59:24.024Z"
   },
   {
    "duration": 849,
    "start_time": "2023-09-03T20:59:27.932Z"
   },
   {
    "duration": 846,
    "start_time": "2023-09-03T20:59:31.812Z"
   },
   {
    "duration": 874,
    "start_time": "2023-09-03T20:59:36.484Z"
   },
   {
    "duration": 3599,
    "start_time": "2023-09-03T20:59:47.388Z"
   },
   {
    "duration": 6644,
    "start_time": "2023-09-03T20:59:56.932Z"
   },
   {
    "duration": 56375,
    "start_time": "2023-09-03T21:00:14.923Z"
   },
   {
    "duration": 12041,
    "start_time": "2023-09-03T21:01:22.068Z"
   },
   {
    "duration": 12029,
    "start_time": "2023-09-03T21:02:38.760Z"
   },
   {
    "duration": 17,
    "start_time": "2023-09-03T21:02:50.791Z"
   },
   {
    "duration": 12,
    "start_time": "2023-09-03T21:03:12.820Z"
   },
   {
    "duration": 8,
    "start_time": "2023-09-03T21:03:16.483Z"
   },
   {
    "duration": 9,
    "start_time": "2023-09-03T21:03:34.484Z"
   },
   {
    "duration": 6,
    "start_time": "2023-09-03T21:03:35.120Z"
   },
   {
    "duration": 11992,
    "start_time": "2023-09-03T21:04:03.564Z"
   },
   {
    "duration": 155154,
    "start_time": "2023-09-03T21:04:30.324Z"
   },
   {
    "duration": 13,
    "start_time": "2023-09-03T21:07:13.499Z"
   },
   {
    "duration": 7,
    "start_time": "2023-09-03T21:07:14.003Z"
   },
   {
    "duration": 4,
    "start_time": "2023-09-03T21:10:21.727Z"
   },
   {
    "duration": 6,
    "start_time": "2023-09-03T21:10:38.322Z"
   },
   {
    "duration": 1016,
    "start_time": "2023-09-03T21:10:40.911Z"
   },
   {
    "duration": 962,
    "start_time": "2023-09-03T21:12:45.066Z"
   },
   {
    "duration": 7,
    "start_time": "2023-09-03T21:12:46.032Z"
   },
   {
    "duration": 14,
    "start_time": "2023-09-03T21:12:46.041Z"
   },
   {
    "duration": 8,
    "start_time": "2023-09-03T21:12:46.057Z"
   },
   {
    "duration": 42,
    "start_time": "2023-09-03T21:12:46.068Z"
   },
   {
    "duration": 56,
    "start_time": "2023-09-03T21:12:46.113Z"
   },
   {
    "duration": 41,
    "start_time": "2023-09-03T21:12:46.172Z"
   },
   {
    "duration": 34,
    "start_time": "2023-09-03T21:12:46.215Z"
   },
   {
    "duration": 4,
    "start_time": "2023-09-03T21:12:46.251Z"
   },
   {
    "duration": 5,
    "start_time": "2023-09-03T21:12:46.258Z"
   },
   {
    "duration": 13746,
    "start_time": "2023-09-03T21:12:46.265Z"
   },
   {
    "duration": 6,
    "start_time": "2023-09-03T21:13:00.013Z"
   },
   {
    "duration": 95129,
    "start_time": "2023-09-03T21:13:00.021Z"
   },
   {
    "duration": 4,
    "start_time": "2023-09-03T21:14:35.154Z"
   },
   {
    "duration": 83,
    "start_time": "2023-09-03T21:14:35.160Z"
   },
   {
    "duration": 5,
    "start_time": "2023-09-03T21:14:35.245Z"
   },
   {
    "duration": 11259,
    "start_time": "2023-09-03T21:14:35.252Z"
   },
   {
    "duration": 89348,
    "start_time": "2023-09-03T21:14:46.519Z"
   },
   {
    "duration": 11,
    "start_time": "2023-09-03T21:16:15.870Z"
   },
   {
    "duration": 7,
    "start_time": "2023-09-03T21:16:15.883Z"
   },
   {
    "duration": 53,
    "start_time": "2023-09-03T21:16:15.892Z"
   },
   {
    "duration": 62,
    "start_time": "2023-09-03T21:16:15.948Z"
   },
   {
    "duration": 6,
    "start_time": "2023-09-03T21:16:16.012Z"
   },
   {
    "duration": 164,
    "start_time": "2023-09-03T21:16:16.019Z"
   },
   {
    "duration": 5,
    "start_time": "2023-09-03T21:16:16.185Z"
   },
   {
    "duration": 19,
    "start_time": "2023-09-03T21:16:16.192Z"
   },
   {
    "duration": 13,
    "start_time": "2023-09-03T21:16:16.213Z"
   },
   {
    "duration": 2309,
    "start_time": "2023-09-03T21:19:31.856Z"
   },
   {
    "duration": 2473,
    "start_time": "2023-09-03T21:19:41.156Z"
   },
   {
    "duration": 2347,
    "start_time": "2023-09-03T21:19:46.616Z"
   },
   {
    "duration": 2283,
    "start_time": "2023-09-03T21:19:52.424Z"
   },
   {
    "duration": 2303,
    "start_time": "2023-09-03T21:19:57.562Z"
   },
   {
    "duration": 2359,
    "start_time": "2023-09-03T21:20:04.213Z"
   },
   {
    "duration": 2270,
    "start_time": "2023-09-03T21:20:10.165Z"
   },
   {
    "duration": 1116,
    "start_time": "2023-09-03T21:20:18.109Z"
   },
   {
    "duration": 95305,
    "start_time": "2023-09-03T21:20:25.229Z"
   },
   {
    "duration": 13,
    "start_time": "2023-09-03T21:23:59.997Z"
   },
   {
    "duration": 6,
    "start_time": "2023-09-03T21:24:00.660Z"
   },
   {
    "duration": 754,
    "start_time": "2023-09-03T21:25:47.616Z"
   },
   {
    "duration": 640,
    "start_time": "2023-09-03T21:26:47.166Z"
   },
   {
    "duration": 11,
    "start_time": "2023-09-03T21:27:04.504Z"
   },
   {
    "duration": 14,
    "start_time": "2023-09-03T21:27:10.361Z"
   },
   {
    "duration": 9,
    "start_time": "2023-09-03T21:27:19.504Z"
   },
   {
    "duration": 11,
    "start_time": "2023-09-03T21:27:30.696Z"
   },
   {
    "duration": 9,
    "start_time": "2023-09-03T21:27:42.055Z"
   },
   {
    "duration": 665,
    "start_time": "2023-09-03T21:28:50.251Z"
   },
   {
    "duration": 13,
    "start_time": "2023-09-03T21:35:06.287Z"
   },
   {
    "duration": 723,
    "start_time": "2023-09-03T21:36:09.179Z"
   },
   {
    "duration": 94571,
    "start_time": "2023-09-03T21:36:20.055Z"
   },
   {
    "duration": 12,
    "start_time": "2023-09-03T21:38:00.500Z"
   },
   {
    "duration": 6,
    "start_time": "2023-09-03T21:38:01.073Z"
   },
   {
    "duration": 11,
    "start_time": "2023-09-03T21:38:21.879Z"
   },
   {
    "duration": 8,
    "start_time": "2023-09-03T21:38:25.848Z"
   },
   {
    "duration": 34,
    "start_time": "2023-09-03T21:38:28.700Z"
   },
   {
    "duration": 18,
    "start_time": "2023-09-03T21:38:30.211Z"
   },
   {
    "duration": 32,
    "start_time": "2023-09-03T21:38:32.995Z"
   },
   {
    "duration": 4,
    "start_time": "2023-09-03T21:38:37.859Z"
   },
   {
    "duration": 10111,
    "start_time": "2023-09-03T21:39:56.999Z"
   },
   {
    "duration": 4,
    "start_time": "2023-09-03T21:40:14.535Z"
   },
   {
    "duration": 68718,
    "start_time": "2023-09-03T21:40:17.711Z"
   },
   {
    "duration": 4,
    "start_time": "2023-09-03T21:41:26.431Z"
   },
   {
    "duration": 90,
    "start_time": "2023-09-03T21:41:26.437Z"
   },
   {
    "duration": 4,
    "start_time": "2023-09-03T21:41:26.529Z"
   },
   {
    "duration": 11276,
    "start_time": "2023-09-03T21:41:26.536Z"
   },
   {
    "duration": 95100,
    "start_time": "2023-09-03T21:41:37.817Z"
   },
   {
    "duration": 11,
    "start_time": "2023-09-03T21:43:12.919Z"
   },
   {
    "duration": 0,
    "start_time": "2023-09-03T21:43:12.932Z"
   },
   {
    "duration": 0,
    "start_time": "2023-09-03T21:43:12.933Z"
   },
   {
    "duration": 0,
    "start_time": "2023-09-03T21:43:12.935Z"
   },
   {
    "duration": 0,
    "start_time": "2023-09-03T21:43:12.936Z"
   },
   {
    "duration": 0,
    "start_time": "2023-09-03T21:43:12.938Z"
   },
   {
    "duration": 0,
    "start_time": "2023-09-03T21:43:12.940Z"
   },
   {
    "duration": 0,
    "start_time": "2023-09-03T21:43:12.941Z"
   },
   {
    "duration": 0,
    "start_time": "2023-09-03T21:43:12.943Z"
   },
   {
    "duration": 0,
    "start_time": "2023-09-03T21:43:12.944Z"
   },
   {
    "duration": 12,
    "start_time": "2023-09-03T21:43:59.916Z"
   },
   {
    "duration": 6,
    "start_time": "2023-09-03T21:44:00.443Z"
   },
   {
    "duration": 36,
    "start_time": "2023-09-03T21:44:39.088Z"
   },
   {
    "duration": 5,
    "start_time": "2023-09-03T21:48:21.780Z"
   },
   {
    "duration": 33,
    "start_time": "2023-09-03T21:48:43.188Z"
   },
   {
    "duration": 5,
    "start_time": "2023-09-03T21:49:46.552Z"
   },
   {
    "duration": 574,
    "start_time": "2023-09-03T21:49:52.148Z"
   },
   {
    "duration": 6,
    "start_time": "2023-09-03T21:50:21.672Z"
   },
   {
    "duration": 572,
    "start_time": "2023-09-03T21:50:22.391Z"
   },
   {
    "duration": 12,
    "start_time": "2023-09-03T21:50:34.592Z"
   },
   {
    "duration": 20,
    "start_time": "2023-09-03T21:50:36.712Z"
   },
   {
    "duration": 8,
    "start_time": "2023-09-03T21:50:44.005Z"
   },
   {
    "duration": 24,
    "start_time": "2023-09-03T21:50:49.256Z"
   },
   {
    "duration": 12,
    "start_time": "2023-09-03T21:50:54.240Z"
   },
   {
    "duration": 25,
    "start_time": "2023-09-03T21:50:55.600Z"
   },
   {
    "duration": 7459,
    "start_time": "2023-09-03T21:51:05.844Z"
   },
   {
    "duration": 1549,
    "start_time": "2023-09-03T21:51:30.085Z"
   },
   {
    "duration": 64765,
    "start_time": "2023-09-03T21:51:37.480Z"
   },
   {
    "duration": 11,
    "start_time": "2023-09-03T21:52:47.080Z"
   },
   {
    "duration": 7,
    "start_time": "2023-09-03T21:52:47.948Z"
   },
   {
    "duration": 1536,
    "start_time": "2023-09-03T21:53:19.865Z"
   },
   {
    "duration": 1541,
    "start_time": "2023-09-03T21:53:26.744Z"
   },
   {
    "duration": 1757,
    "start_time": "2023-09-03T21:53:31.689Z"
   },
   {
    "duration": 1492,
    "start_time": "2023-09-03T21:53:37.280Z"
   },
   {
    "duration": 1691,
    "start_time": "2023-09-03T21:53:44.589Z"
   },
   {
    "duration": 1581,
    "start_time": "2023-09-03T21:53:50.375Z"
   },
   {
    "duration": 1896,
    "start_time": "2023-09-03T21:53:54.785Z"
   },
   {
    "duration": 2121,
    "start_time": "2023-09-03T21:54:01.156Z"
   },
   {
    "duration": 974,
    "start_time": "2023-09-03T21:54:09.797Z"
   },
   {
    "duration": 4456,
    "start_time": "2023-09-03T21:54:19.893Z"
   },
   {
    "duration": 13822,
    "start_time": "2023-09-03T21:54:29.868Z"
   },
   {
    "duration": 133918,
    "start_time": "2023-09-03T21:54:48.405Z"
   },
   {
    "duration": 14,
    "start_time": "2023-09-03T21:57:48.700Z"
   },
   {
    "duration": 6,
    "start_time": "2023-09-03T21:57:49.493Z"
   },
   {
    "duration": 62902,
    "start_time": "2023-09-03T21:59:19.401Z"
   },
   {
    "duration": 9,
    "start_time": "2023-09-03T22:01:09.800Z"
   },
   {
    "duration": 8,
    "start_time": "2023-09-03T22:01:15.977Z"
   },
   {
    "duration": 31099,
    "start_time": "2023-09-03T22:02:48.668Z"
   },
   {
    "duration": 3,
    "start_time": "2023-09-03T22:03:19.770Z"
   },
   {
    "duration": 75,
    "start_time": "2023-09-03T22:03:24.552Z"
   },
   {
    "duration": 934,
    "start_time": "2023-09-03T22:04:16.535Z"
   },
   {
    "duration": 7,
    "start_time": "2023-09-03T22:04:20.470Z"
   },
   {
    "duration": 7,
    "start_time": "2023-09-03T22:04:25.896Z"
   },
   {
    "duration": 7,
    "start_time": "2023-09-03T22:04:26.552Z"
   },
   {
    "duration": 835,
    "start_time": "2023-09-03T22:04:32.845Z"
   },
   {
    "duration": 6,
    "start_time": "2023-09-03T22:04:48.424Z"
   },
   {
    "duration": 6,
    "start_time": "2023-09-03T22:04:49.001Z"
   },
   {
    "duration": 1543,
    "start_time": "2023-09-03T22:04:57.965Z"
   },
   {
    "duration": 9,
    "start_time": "2023-09-03T22:05:12.778Z"
   },
   {
    "duration": 7,
    "start_time": "2023-09-03T22:05:13.370Z"
   },
   {
    "duration": 1218,
    "start_time": "2023-09-03T22:05:23.072Z"
   },
   {
    "duration": 7,
    "start_time": "2023-09-03T22:05:25.588Z"
   },
   {
    "duration": 7,
    "start_time": "2023-09-03T22:05:26.392Z"
   },
   {
    "duration": 902,
    "start_time": "2023-09-03T22:05:30.948Z"
   },
   {
    "duration": 8,
    "start_time": "2023-09-03T22:05:34.017Z"
   },
   {
    "duration": 6,
    "start_time": "2023-09-03T22:05:35.501Z"
   },
   {
    "duration": 912,
    "start_time": "2023-09-03T22:05:42.669Z"
   },
   {
    "duration": 7,
    "start_time": "2023-09-03T22:05:46.012Z"
   },
   {
    "duration": 6,
    "start_time": "2023-09-03T22:05:46.810Z"
   },
   {
    "duration": 882,
    "start_time": "2023-09-03T22:05:55.845Z"
   },
   {
    "duration": 7,
    "start_time": "2023-09-03T22:05:58.148Z"
   },
   {
    "duration": 7,
    "start_time": "2023-09-03T22:05:58.856Z"
   },
   {
    "duration": 1600,
    "start_time": "2023-09-03T22:06:02.605Z"
   },
   {
    "duration": 7,
    "start_time": "2023-09-03T22:06:05.608Z"
   },
   {
    "duration": 6,
    "start_time": "2023-09-03T22:06:11.062Z"
   },
   {
    "duration": 1162,
    "start_time": "2023-09-03T22:06:24.901Z"
   },
   {
    "duration": 9,
    "start_time": "2023-09-03T22:06:26.066Z"
   },
   {
    "duration": 6,
    "start_time": "2023-09-03T22:06:26.697Z"
   },
   {
    "duration": 778,
    "start_time": "2023-09-03T22:06:33.606Z"
   },
   {
    "duration": 6,
    "start_time": "2023-09-03T22:06:35.009Z"
   },
   {
    "duration": 7,
    "start_time": "2023-09-03T22:06:35.528Z"
   },
   {
    "duration": 829,
    "start_time": "2023-09-03T22:06:40.293Z"
   },
   {
    "duration": 8,
    "start_time": "2023-09-03T22:06:41.741Z"
   },
   {
    "duration": 7,
    "start_time": "2023-09-03T22:06:42.252Z"
   },
   {
    "duration": 1032,
    "start_time": "2023-09-03T22:06:48.509Z"
   },
   {
    "duration": 6,
    "start_time": "2023-09-03T22:06:49.543Z"
   },
   {
    "duration": 21,
    "start_time": "2023-09-03T22:06:49.550Z"
   },
   {
    "duration": 1357,
    "start_time": "2023-09-03T22:06:57.336Z"
   },
   {
    "duration": 6,
    "start_time": "2023-09-03T22:06:58.695Z"
   },
   {
    "duration": 834,
    "start_time": "2023-09-03T22:07:02.361Z"
   },
   {
    "duration": 8,
    "start_time": "2023-09-03T22:07:03.197Z"
   },
   {
    "duration": 8,
    "start_time": "2023-09-03T22:07:03.804Z"
   },
   {
    "duration": 1360,
    "start_time": "2023-09-03T22:07:08.864Z"
   },
   {
    "duration": 9,
    "start_time": "2023-09-03T22:07:10.833Z"
   },
   {
    "duration": 8,
    "start_time": "2023-09-03T22:07:11.597Z"
   },
   {
    "duration": 1307,
    "start_time": "2023-09-03T22:07:15.153Z"
   },
   {
    "duration": 6,
    "start_time": "2023-09-03T22:07:17.037Z"
   },
   {
    "duration": 5,
    "start_time": "2023-09-03T22:07:17.485Z"
   },
   {
    "duration": 815,
    "start_time": "2023-09-03T22:07:23.880Z"
   },
   {
    "duration": 8,
    "start_time": "2023-09-03T22:07:24.697Z"
   },
   {
    "duration": 7,
    "start_time": "2023-09-03T22:07:24.876Z"
   },
   {
    "duration": 889,
    "start_time": "2023-09-03T22:07:28.472Z"
   },
   {
    "duration": 6,
    "start_time": "2023-09-03T22:07:29.362Z"
   },
   {
    "duration": 32,
    "start_time": "2023-09-03T22:07:29.370Z"
   },
   {
    "duration": 752,
    "start_time": "2023-09-03T22:07:32.297Z"
   },
   {
    "duration": 6,
    "start_time": "2023-09-03T22:07:33.051Z"
   },
   {
    "duration": 7,
    "start_time": "2023-09-03T22:07:33.060Z"
   },
   {
    "duration": 827,
    "start_time": "2023-09-03T22:07:37.532Z"
   },
   {
    "duration": 6,
    "start_time": "2023-09-03T22:07:38.361Z"
   },
   {
    "duration": 21,
    "start_time": "2023-09-03T22:07:38.368Z"
   },
   {
    "duration": 869,
    "start_time": "2023-09-03T22:08:00.400Z"
   },
   {
    "duration": 6,
    "start_time": "2023-09-03T22:08:02.112Z"
   },
   {
    "duration": 6,
    "start_time": "2023-09-03T22:08:02.804Z"
   },
   {
    "duration": 708,
    "start_time": "2023-09-03T22:08:08.977Z"
   },
   {
    "duration": 6,
    "start_time": "2023-09-03T22:08:09.687Z"
   },
   {
    "duration": 7,
    "start_time": "2023-09-03T22:08:09.780Z"
   },
   {
    "duration": 780,
    "start_time": "2023-09-03T22:08:18.904Z"
   },
   {
    "duration": 7,
    "start_time": "2023-09-03T22:08:19.687Z"
   },
   {
    "duration": 8,
    "start_time": "2023-09-03T22:08:22.068Z"
   },
   {
    "duration": 5,
    "start_time": "2023-09-03T22:08:43.512Z"
   },
   {
    "duration": 4,
    "start_time": "2023-09-03T22:08:50.561Z"
   },
   {
    "duration": 6,
    "start_time": "2023-09-03T22:09:21.256Z"
   },
   {
    "duration": 8,
    "start_time": "2023-09-03T22:09:26.848Z"
   },
   {
    "duration": 8,
    "start_time": "2023-09-03T22:10:17.388Z"
   },
   {
    "duration": 7,
    "start_time": "2023-09-03T22:10:22.126Z"
   },
   {
    "duration": 9,
    "start_time": "2023-09-03T22:10:26.353Z"
   },
   {
    "duration": 924,
    "start_time": "2023-09-03T22:11:18.865Z"
   },
   {
    "duration": 6,
    "start_time": "2023-09-03T22:11:21.156Z"
   },
   {
    "duration": 7,
    "start_time": "2023-09-03T22:11:27.577Z"
   },
   {
    "duration": 5,
    "start_time": "2023-09-03T22:11:42.242Z"
   },
   {
    "duration": 6,
    "start_time": "2023-09-03T22:11:42.821Z"
   },
   {
    "duration": 10,
    "start_time": "2023-09-03T22:13:52.892Z"
   },
   {
    "duration": 792,
    "start_time": "2023-09-03T22:13:57.508Z"
   },
   {
    "duration": 6,
    "start_time": "2023-09-03T22:13:58.796Z"
   },
   {
    "duration": 7,
    "start_time": "2023-09-03T22:13:59.412Z"
   },
   {
    "duration": 17,
    "start_time": "2023-09-03T22:14:14.913Z"
   },
   {
    "duration": 18,
    "start_time": "2023-09-03T22:15:04.864Z"
   },
   {
    "duration": 7,
    "start_time": "2023-09-03T22:15:32.693Z"
   },
   {
    "duration": 5,
    "start_time": "2023-09-03T22:15:34.241Z"
   },
   {
    "duration": 7,
    "start_time": "2023-09-03T22:15:56.181Z"
   },
   {
    "duration": 9,
    "start_time": "2023-09-03T22:16:02.602Z"
   },
   {
    "duration": 16,
    "start_time": "2023-09-03T22:17:02.118Z"
   },
   {
    "duration": 5,
    "start_time": "2023-09-03T22:18:11.474Z"
   },
   {
    "duration": 15,
    "start_time": "2023-09-03T22:18:37.402Z"
   },
   {
    "duration": 163,
    "start_time": "2023-09-03T22:18:47.403Z"
   },
   {
    "duration": 4,
    "start_time": "2023-09-03T22:20:39.594Z"
   },
   {
    "duration": 153,
    "start_time": "2023-09-03T22:21:22.868Z"
   },
   {
    "duration": 13,
    "start_time": "2023-09-03T22:22:03.386Z"
   },
   {
    "duration": 11,
    "start_time": "2023-09-03T22:22:17.766Z"
   },
   {
    "duration": 102,
    "start_time": "2023-09-03T22:22:30.567Z"
   },
   {
    "duration": 259,
    "start_time": "2023-09-03T22:22:33.432Z"
   },
   {
    "duration": 5,
    "start_time": "2023-09-03T22:23:08.618Z"
   },
   {
    "duration": 5,
    "start_time": "2023-09-03T22:23:25.906Z"
   },
   {
    "duration": 239,
    "start_time": "2023-09-03T22:24:14.706Z"
   },
   {
    "duration": 125,
    "start_time": "2023-09-03T22:24:31.595Z"
   },
   {
    "duration": 10,
    "start_time": "2023-09-03T22:25:02.774Z"
   },
   {
    "duration": 19,
    "start_time": "2023-09-03T22:25:37.311Z"
   },
   {
    "duration": 377,
    "start_time": "2023-09-03T22:25:46.691Z"
   },
   {
    "duration": 154,
    "start_time": "2023-09-03T22:25:55.607Z"
   },
   {
    "duration": 169,
    "start_time": "2023-09-03T22:26:44.179Z"
   },
   {
    "duration": 167,
    "start_time": "2023-09-03T22:27:08.543Z"
   },
   {
    "duration": 150,
    "start_time": "2023-09-03T22:28:50.843Z"
   },
   {
    "duration": 6,
    "start_time": "2023-09-03T22:29:21.822Z"
   },
   {
    "duration": 298,
    "start_time": "2023-09-03T22:29:31.499Z"
   },
   {
    "duration": 149,
    "start_time": "2023-09-03T22:29:39.243Z"
   },
   {
    "duration": 19,
    "start_time": "2023-09-03T22:30:48.807Z"
   },
   {
    "duration": 158,
    "start_time": "2023-09-03T22:31:14.179Z"
   },
   {
    "duration": 248,
    "start_time": "2023-09-03T22:31:27.123Z"
   },
   {
    "duration": 156,
    "start_time": "2023-09-03T22:31:37.027Z"
   },
   {
    "duration": 137,
    "start_time": "2023-09-03T22:32:28.224Z"
   },
   {
    "duration": 168,
    "start_time": "2023-09-03T22:32:45.222Z"
   },
   {
    "duration": 150,
    "start_time": "2023-09-03T22:32:58.088Z"
   },
   {
    "duration": 146,
    "start_time": "2023-09-03T22:33:57.787Z"
   },
   {
    "duration": 153,
    "start_time": "2023-09-03T22:34:04.687Z"
   },
   {
    "duration": 137,
    "start_time": "2023-09-03T22:34:17.459Z"
   },
   {
    "duration": 136,
    "start_time": "2023-09-03T22:34:34.644Z"
   },
   {
    "duration": 21,
    "start_time": "2023-09-03T22:35:51.728Z"
   },
   {
    "duration": 23,
    "start_time": "2023-09-03T22:35:57.900Z"
   },
   {
    "duration": 149,
    "start_time": "2023-09-03T22:36:36.280Z"
   },
   {
    "duration": 86,
    "start_time": "2023-09-03T22:36:50.968Z"
   },
   {
    "duration": 182,
    "start_time": "2023-09-03T22:36:54.160Z"
   },
   {
    "duration": 104,
    "start_time": "2023-09-03T22:37:09.592Z"
   },
   {
    "duration": 157,
    "start_time": "2023-09-03T22:37:22.495Z"
   },
   {
    "duration": 94,
    "start_time": "2023-09-03T22:37:26.643Z"
   },
   {
    "duration": 109,
    "start_time": "2023-09-03T22:37:44.036Z"
   },
   {
    "duration": 152,
    "start_time": "2023-09-03T22:38:05.000Z"
   },
   {
    "duration": 156,
    "start_time": "2023-09-03T22:38:34.588Z"
   },
   {
    "duration": 104,
    "start_time": "2023-09-03T22:38:49.821Z"
   },
   {
    "duration": 161,
    "start_time": "2023-09-03T22:40:40.508Z"
   },
   {
    "duration": 177,
    "start_time": "2023-09-03T22:41:04.145Z"
   },
   {
    "duration": 2649,
    "start_time": "2023-09-03T22:49:28.780Z"
   },
   {
    "duration": 2639,
    "start_time": "2023-09-03T22:49:31.432Z"
   },
   {
    "duration": 1568,
    "start_time": "2023-09-03T22:49:34.073Z"
   },
   {
    "duration": 3,
    "start_time": "2023-09-03T22:49:35.643Z"
   },
   {
    "duration": 122,
    "start_time": "2023-09-03T22:49:35.647Z"
   },
   {
    "duration": 14,
    "start_time": "2023-09-03T22:49:35.770Z"
   },
   {
    "duration": 16,
    "start_time": "2023-09-03T22:49:35.785Z"
   },
   {
    "duration": 7,
    "start_time": "2023-09-03T22:49:35.803Z"
   },
   {
    "duration": 11,
    "start_time": "2023-09-03T22:49:35.813Z"
   },
   {
    "duration": 16,
    "start_time": "2023-09-03T22:49:35.827Z"
   },
   {
    "duration": 13,
    "start_time": "2023-09-03T22:49:35.844Z"
   },
   {
    "duration": 15,
    "start_time": "2023-09-03T22:49:35.859Z"
   },
   {
    "duration": 36,
    "start_time": "2023-09-03T22:49:35.876Z"
   },
   {
    "duration": 28,
    "start_time": "2023-09-03T22:49:35.915Z"
   },
   {
    "duration": 30,
    "start_time": "2023-09-03T22:49:35.946Z"
   },
   {
    "duration": 302,
    "start_time": "2023-09-03T22:49:35.977Z"
   },
   {
    "duration": 273,
    "start_time": "2023-09-03T22:49:36.281Z"
   },
   {
    "duration": 12,
    "start_time": "2023-09-03T22:49:36.557Z"
   },
   {
    "duration": 13,
    "start_time": "2023-09-03T22:49:36.571Z"
   },
   {
    "duration": 34,
    "start_time": "2023-09-03T22:49:36.586Z"
   },
   {
    "duration": 20,
    "start_time": "2023-09-03T22:49:36.623Z"
   },
   {
    "duration": 6,
    "start_time": "2023-09-03T22:49:36.646Z"
   },
   {
    "duration": 16,
    "start_time": "2023-09-03T22:49:36.654Z"
   },
   {
    "duration": 47,
    "start_time": "2023-09-03T22:49:36.672Z"
   },
   {
    "duration": 25,
    "start_time": "2023-09-03T22:49:36.721Z"
   },
   {
    "duration": 123,
    "start_time": "2023-09-03T22:49:36.749Z"
   },
   {
    "duration": 19,
    "start_time": "2023-09-03T22:49:36.874Z"
   },
   {
    "duration": 18,
    "start_time": "2023-09-03T22:49:36.919Z"
   },
   {
    "duration": 9,
    "start_time": "2023-09-03T22:49:36.939Z"
   },
   {
    "duration": 12,
    "start_time": "2023-09-03T22:49:36.951Z"
   },
   {
    "duration": 14,
    "start_time": "2023-09-03T22:49:36.966Z"
   },
   {
    "duration": 29,
    "start_time": "2023-09-03T22:49:36.982Z"
   },
   {
    "duration": 29,
    "start_time": "2023-09-03T22:49:37.013Z"
   },
   {
    "duration": 2989,
    "start_time": "2023-09-03T22:49:37.044Z"
   },
   {
    "duration": 1730,
    "start_time": "2023-09-03T22:49:40.035Z"
   },
   {
    "duration": 2290,
    "start_time": "2023-09-03T22:49:41.767Z"
   },
   {
    "duration": 404,
    "start_time": "2023-09-03T22:49:44.059Z"
   },
   {
    "duration": 994,
    "start_time": "2023-09-03T22:49:44.465Z"
   },
   {
    "duration": 155,
    "start_time": "2023-09-03T22:49:45.461Z"
   },
   {
    "duration": 5,
    "start_time": "2023-09-03T22:49:45.617Z"
   },
   {
    "duration": 24,
    "start_time": "2023-09-03T22:49:45.624Z"
   },
   {
    "duration": 10,
    "start_time": "2023-09-03T22:49:45.649Z"
   },
   {
    "duration": 493,
    "start_time": "2023-09-03T22:49:45.661Z"
   },
   {
    "duration": 5,
    "start_time": "2023-09-03T22:49:46.156Z"
   },
   {
    "duration": 19,
    "start_time": "2023-09-03T22:49:46.163Z"
   },
   {
    "duration": 29,
    "start_time": "2023-09-03T22:49:46.184Z"
   },
   {
    "duration": 129,
    "start_time": "2023-09-03T22:49:46.215Z"
   },
   {
    "duration": 0,
    "start_time": "2023-09-03T22:49:46.345Z"
   },
   {
    "duration": 0,
    "start_time": "2023-09-03T22:49:46.347Z"
   },
   {
    "duration": 0,
    "start_time": "2023-09-03T22:49:46.348Z"
   },
   {
    "duration": 0,
    "start_time": "2023-09-03T22:49:46.349Z"
   },
   {
    "duration": 0,
    "start_time": "2023-09-03T22:49:46.350Z"
   },
   {
    "duration": 0,
    "start_time": "2023-09-03T22:49:46.351Z"
   },
   {
    "duration": 0,
    "start_time": "2023-09-03T22:49:46.353Z"
   },
   {
    "duration": 0,
    "start_time": "2023-09-03T22:49:46.353Z"
   },
   {
    "duration": 0,
    "start_time": "2023-09-03T22:49:46.354Z"
   },
   {
    "duration": 0,
    "start_time": "2023-09-03T22:49:46.355Z"
   },
   {
    "duration": 0,
    "start_time": "2023-09-03T22:49:46.356Z"
   },
   {
    "duration": 1,
    "start_time": "2023-09-03T22:49:46.357Z"
   },
   {
    "duration": 0,
    "start_time": "2023-09-03T22:49:46.359Z"
   },
   {
    "duration": 0,
    "start_time": "2023-09-03T22:49:46.359Z"
   },
   {
    "duration": 0,
    "start_time": "2023-09-03T22:49:46.360Z"
   },
   {
    "duration": 0,
    "start_time": "2023-09-03T22:49:46.361Z"
   },
   {
    "duration": 0,
    "start_time": "2023-09-03T22:49:46.363Z"
   },
   {
    "duration": 0,
    "start_time": "2023-09-03T22:49:46.364Z"
   },
   {
    "duration": 0,
    "start_time": "2023-09-03T22:49:46.365Z"
   },
   {
    "duration": 8,
    "start_time": "2023-09-03T23:05:03.166Z"
   },
   {
    "duration": 18,
    "start_time": "2023-09-03T23:05:09.038Z"
   },
   {
    "duration": 20,
    "start_time": "2023-09-03T23:05:44.567Z"
   },
   {
    "duration": 14,
    "start_time": "2023-09-03T23:05:59.890Z"
   },
   {
    "duration": 17,
    "start_time": "2023-09-03T23:06:53.354Z"
   },
   {
    "duration": 11,
    "start_time": "2023-09-03T23:06:55.430Z"
   },
   {
    "duration": 18,
    "start_time": "2023-09-03T23:07:25.650Z"
   },
   {
    "duration": 2434,
    "start_time": "2023-09-03T23:07:46.898Z"
   },
   {
    "duration": 2717,
    "start_time": "2023-09-03T23:07:49.334Z"
   },
   {
    "duration": 2389,
    "start_time": "2023-09-03T23:07:52.053Z"
   },
   {
    "duration": 2,
    "start_time": "2023-09-03T23:07:54.444Z"
   },
   {
    "duration": 123,
    "start_time": "2023-09-03T23:07:54.448Z"
   },
   {
    "duration": 15,
    "start_time": "2023-09-03T23:07:54.572Z"
   },
   {
    "duration": 20,
    "start_time": "2023-09-03T23:07:54.588Z"
   },
   {
    "duration": 8,
    "start_time": "2023-09-03T23:07:54.623Z"
   },
   {
    "duration": 22,
    "start_time": "2023-09-03T23:07:54.633Z"
   },
   {
    "duration": 14,
    "start_time": "2023-09-03T23:07:54.657Z"
   },
   {
    "duration": 13,
    "start_time": "2023-09-03T23:07:54.673Z"
   },
   {
    "duration": 25,
    "start_time": "2023-09-03T23:07:54.688Z"
   },
   {
    "duration": 7,
    "start_time": "2023-09-03T23:07:54.721Z"
   },
   {
    "duration": 15,
    "start_time": "2023-09-03T23:07:54.729Z"
   },
   {
    "duration": 20,
    "start_time": "2023-09-03T23:07:54.746Z"
   },
   {
    "duration": 277,
    "start_time": "2023-09-03T23:07:54.768Z"
   },
   {
    "duration": 280,
    "start_time": "2023-09-03T23:07:55.047Z"
   },
   {
    "duration": 17,
    "start_time": "2023-09-03T23:07:55.329Z"
   },
   {
    "duration": 21,
    "start_time": "2023-09-03T23:07:55.348Z"
   },
   {
    "duration": 16,
    "start_time": "2023-09-03T23:07:55.372Z"
   },
   {
    "duration": 30,
    "start_time": "2023-09-03T23:07:55.390Z"
   },
   {
    "duration": 8,
    "start_time": "2023-09-03T23:07:55.422Z"
   },
   {
    "duration": 12,
    "start_time": "2023-09-03T23:07:55.432Z"
   },
   {
    "duration": 26,
    "start_time": "2023-09-03T23:07:55.447Z"
   },
   {
    "duration": 19,
    "start_time": "2023-09-03T23:07:55.475Z"
   },
   {
    "duration": 101,
    "start_time": "2023-09-03T23:07:55.496Z"
   },
   {
    "duration": 33,
    "start_time": "2023-09-03T23:07:55.600Z"
   },
   {
    "duration": 25,
    "start_time": "2023-09-03T23:07:55.637Z"
   },
   {
    "duration": 35,
    "start_time": "2023-09-03T23:07:55.664Z"
   },
   {
    "duration": 24,
    "start_time": "2023-09-03T23:07:55.701Z"
   },
   {
    "duration": 11,
    "start_time": "2023-09-03T23:07:55.727Z"
   },
   {
    "duration": 5,
    "start_time": "2023-09-03T23:07:55.740Z"
   },
   {
    "duration": 17,
    "start_time": "2023-09-03T23:07:55.747Z"
   },
   {
    "duration": 2777,
    "start_time": "2023-09-03T23:07:55.765Z"
   },
   {
    "duration": 1555,
    "start_time": "2023-09-03T23:07:58.545Z"
   },
   {
    "duration": 2255,
    "start_time": "2023-09-03T23:08:00.102Z"
   },
   {
    "duration": 435,
    "start_time": "2023-09-03T23:08:02.359Z"
   },
   {
    "duration": 940,
    "start_time": "2023-09-03T23:08:02.796Z"
   },
   {
    "duration": 161,
    "start_time": "2023-09-03T23:08:03.738Z"
   },
   {
    "duration": 21,
    "start_time": "2023-09-03T23:08:03.901Z"
   },
   {
    "duration": 17,
    "start_time": "2023-09-03T23:08:03.924Z"
   },
   {
    "duration": 14,
    "start_time": "2023-09-03T23:08:03.943Z"
   },
   {
    "duration": 511,
    "start_time": "2023-09-03T23:08:03.958Z"
   },
   {
    "duration": 6,
    "start_time": "2023-09-03T23:08:04.470Z"
   },
   {
    "duration": 19,
    "start_time": "2023-09-03T23:08:04.478Z"
   },
   {
    "duration": 24,
    "start_time": "2023-09-03T23:08:04.499Z"
   },
   {
    "duration": 7,
    "start_time": "2023-09-03T23:08:04.525Z"
   },
   {
    "duration": 37,
    "start_time": "2023-09-03T23:08:04.535Z"
   },
   {
    "duration": 17,
    "start_time": "2023-09-03T23:08:04.574Z"
   },
   {
    "duration": 44,
    "start_time": "2023-09-03T23:08:04.593Z"
   },
   {
    "duration": 4,
    "start_time": "2023-09-03T23:08:04.638Z"
   },
   {
    "duration": 4,
    "start_time": "2023-09-03T23:08:04.644Z"
   },
   {
    "duration": 7331,
    "start_time": "2023-09-03T23:08:04.649Z"
   },
   {
    "duration": 13,
    "start_time": "2023-09-03T23:08:11.983Z"
   },
   {
    "duration": 31062,
    "start_time": "2023-09-03T23:08:11.998Z"
   },
   {
    "duration": 4,
    "start_time": "2023-09-03T23:08:43.062Z"
   },
   {
    "duration": 85,
    "start_time": "2023-09-03T23:08:43.068Z"
   },
   {
    "duration": 4,
    "start_time": "2023-09-03T23:08:43.155Z"
   },
   {
    "duration": 1470,
    "start_time": "2023-09-03T23:08:43.160Z"
   },
   {
    "duration": 1094,
    "start_time": "2023-09-03T23:08:44.632Z"
   },
   {
    "duration": 7,
    "start_time": "2023-09-03T23:08:45.728Z"
   },
   {
    "duration": 8,
    "start_time": "2023-09-03T23:08:45.737Z"
   },
   {
    "duration": 14,
    "start_time": "2023-09-03T23:08:45.746Z"
   },
   {
    "duration": 5,
    "start_time": "2023-09-03T23:08:45.762Z"
   },
   {
    "duration": 181,
    "start_time": "2023-09-03T23:08:45.769Z"
   },
   {
    "duration": 148,
    "start_time": "2023-09-03T23:08:45.952Z"
   },
   {
    "duration": 140,
    "start_time": "2023-09-03T23:10:43.494Z"
   },
   {
    "duration": 4,
    "start_time": "2023-09-03T23:23:27.245Z"
   },
   {
    "duration": 3332,
    "start_time": "2023-09-05T14:23:03.802Z"
   },
   {
    "duration": 2225,
    "start_time": "2023-09-05T14:23:07.136Z"
   },
   {
    "duration": 1627,
    "start_time": "2023-09-05T14:23:09.363Z"
   },
   {
    "duration": 2,
    "start_time": "2023-09-05T14:23:10.992Z"
   },
   {
    "duration": 462,
    "start_time": "2023-09-05T14:23:10.996Z"
   },
   {
    "duration": 15,
    "start_time": "2023-09-05T14:23:11.460Z"
   },
   {
    "duration": 13,
    "start_time": "2023-09-05T14:23:11.476Z"
   },
   {
    "duration": 5,
    "start_time": "2023-09-05T14:23:11.491Z"
   },
   {
    "duration": 6,
    "start_time": "2023-09-05T14:23:11.498Z"
   },
   {
    "duration": 16,
    "start_time": "2023-09-05T14:23:11.507Z"
   },
   {
    "duration": 12,
    "start_time": "2023-09-05T14:23:11.545Z"
   },
   {
    "duration": 17,
    "start_time": "2023-09-05T14:23:11.559Z"
   },
   {
    "duration": 10,
    "start_time": "2023-09-05T14:23:11.578Z"
   },
   {
    "duration": 16,
    "start_time": "2023-09-05T14:23:11.590Z"
   },
   {
    "duration": 30,
    "start_time": "2023-09-05T14:23:11.608Z"
   },
   {
    "duration": 244,
    "start_time": "2023-09-05T14:23:11.643Z"
   },
   {
    "duration": 213,
    "start_time": "2023-09-05T14:23:11.888Z"
   },
   {
    "duration": 11,
    "start_time": "2023-09-05T14:23:12.102Z"
   },
   {
    "duration": 29,
    "start_time": "2023-09-05T14:23:12.115Z"
   },
   {
    "duration": 7,
    "start_time": "2023-09-05T14:23:12.146Z"
   },
   {
    "duration": 18,
    "start_time": "2023-09-05T14:23:12.155Z"
   },
   {
    "duration": 7,
    "start_time": "2023-09-05T14:23:12.175Z"
   },
   {
    "duration": 11,
    "start_time": "2023-09-05T14:23:12.184Z"
   },
   {
    "duration": 16,
    "start_time": "2023-09-05T14:23:12.196Z"
   },
   {
    "duration": 32,
    "start_time": "2023-09-05T14:23:12.214Z"
   },
   {
    "duration": 97,
    "start_time": "2023-09-05T14:23:12.247Z"
   },
   {
    "duration": 18,
    "start_time": "2023-09-05T14:23:12.346Z"
   },
   {
    "duration": 13,
    "start_time": "2023-09-05T14:23:12.367Z"
   },
   {
    "duration": 21,
    "start_time": "2023-09-05T14:23:12.381Z"
   },
   {
    "duration": 10,
    "start_time": "2023-09-05T14:23:12.403Z"
   },
   {
    "duration": 11,
    "start_time": "2023-09-05T14:23:12.415Z"
   },
   {
    "duration": 22,
    "start_time": "2023-09-05T14:23:12.427Z"
   },
   {
    "duration": 21,
    "start_time": "2023-09-05T14:23:12.451Z"
   },
   {
    "duration": 2516,
    "start_time": "2023-09-05T14:23:12.474Z"
   },
   {
    "duration": 1382,
    "start_time": "2023-09-05T14:23:14.991Z"
   },
   {
    "duration": 1972,
    "start_time": "2023-09-05T14:23:16.375Z"
   },
   {
    "duration": 341,
    "start_time": "2023-09-05T14:23:18.350Z"
   },
   {
    "duration": 852,
    "start_time": "2023-09-05T14:23:18.692Z"
   },
   {
    "duration": 145,
    "start_time": "2023-09-05T14:23:19.547Z"
   },
   {
    "duration": 6,
    "start_time": "2023-09-05T14:23:19.693Z"
   },
   {
    "duration": 477,
    "start_time": "2023-09-05T14:23:19.701Z"
   },
   {
    "duration": 6,
    "start_time": "2023-09-05T14:23:20.180Z"
   },
   {
    "duration": 16,
    "start_time": "2023-09-05T14:23:20.188Z"
   },
   {
    "duration": 11,
    "start_time": "2023-09-05T14:23:20.206Z"
   },
   {
    "duration": 7,
    "start_time": "2023-09-05T14:23:20.218Z"
   },
   {
    "duration": 31,
    "start_time": "2023-09-05T14:23:20.226Z"
   },
   {
    "duration": 16,
    "start_time": "2023-09-05T14:23:20.259Z"
   },
   {
    "duration": 37,
    "start_time": "2023-09-05T14:23:20.276Z"
   },
   {
    "duration": 3,
    "start_time": "2023-09-05T14:23:20.315Z"
   },
   {
    "duration": 13,
    "start_time": "2023-09-05T14:23:20.319Z"
   },
   {
    "duration": 1053,
    "start_time": "2023-09-05T14:26:59.309Z"
   },
   {
    "duration": 4305,
    "start_time": "2023-09-05T14:27:04.158Z"
   },
   {
    "duration": 3,
    "start_time": "2023-09-05T14:45:39.962Z"
   },
   {
    "duration": 113,
    "start_time": "2023-09-05T14:45:41.202Z"
   },
   {
    "duration": 9,
    "start_time": "2023-09-05T14:46:01.235Z"
   },
   {
    "duration": 11,
    "start_time": "2023-09-05T14:46:13.115Z"
   },
   {
    "duration": 5,
    "start_time": "2023-09-05T14:46:17.818Z"
   },
   {
    "duration": 11,
    "start_time": "2023-09-05T14:46:33.706Z"
   },
   {
    "duration": 10,
    "start_time": "2023-09-05T14:46:50.627Z"
   },
   {
    "duration": 475700,
    "start_time": "2023-09-05T14:46:59.827Z"
   },
   {
    "duration": 16,
    "start_time": "2023-09-05T14:55:08.757Z"
   },
   {
    "duration": 10,
    "start_time": "2023-09-05T14:56:54.865Z"
   },
   {
    "duration": 9,
    "start_time": "2023-09-05T14:59:18.249Z"
   },
   {
    "duration": 9,
    "start_time": "2023-09-05T15:02:15.686Z"
   },
   {
    "duration": 9,
    "start_time": "2023-09-05T15:02:18.662Z"
   },
   {
    "duration": 3,
    "start_time": "2023-09-05T15:48:54.466Z"
   },
   {
    "duration": 4,
    "start_time": "2023-09-05T15:50:08.695Z"
   },
   {
    "duration": 36861,
    "start_time": "2023-09-05T15:50:09.795Z"
   },
   {
    "duration": 11,
    "start_time": "2023-09-05T15:51:09.103Z"
   },
   {
    "duration": 9,
    "start_time": "2023-09-05T15:51:19.823Z"
   },
   {
    "duration": 11,
    "start_time": "2023-09-05T15:51:26.047Z"
   },
   {
    "duration": 15,
    "start_time": "2023-09-05T15:51:28.551Z"
   },
   {
    "duration": 4,
    "start_time": "2023-09-05T15:51:37.655Z"
   },
   {
    "duration": 12,
    "start_time": "2023-09-05T15:51:50.055Z"
   },
   {
    "duration": 107,
    "start_time": "2023-09-05T15:52:56.866Z"
   },
   {
    "duration": 11,
    "start_time": "2023-09-05T15:53:02.854Z"
   },
   {
    "duration": 11,
    "start_time": "2023-09-05T15:53:08.695Z"
   },
   {
    "duration": 9,
    "start_time": "2023-09-05T15:53:33.483Z"
   },
   {
    "duration": 12,
    "start_time": "2023-09-05T15:53:44.023Z"
   },
   {
    "duration": 3,
    "start_time": "2023-09-05T15:53:51.666Z"
   },
   {
    "duration": 18,
    "start_time": "2023-09-05T15:54:14.810Z"
   },
   {
    "duration": 3,
    "start_time": "2023-09-05T15:54:46.179Z"
   },
   {
    "duration": 25,
    "start_time": "2023-09-05T15:54:46.818Z"
   },
   {
    "duration": 1001,
    "start_time": "2023-09-05T15:55:03.475Z"
   },
   {
    "duration": 4,
    "start_time": "2023-09-05T15:55:41.310Z"
   },
   {
    "duration": 114,
    "start_time": "2023-09-05T15:56:11.554Z"
   },
   {
    "duration": 4,
    "start_time": "2023-09-05T15:56:17.498Z"
   },
   {
    "duration": 838,
    "start_time": "2023-09-05T15:56:20.526Z"
   },
   {
    "duration": 7,
    "start_time": "2023-09-05T15:56:25.378Z"
   },
   {
    "duration": 6,
    "start_time": "2023-09-05T15:56:31.386Z"
   },
   {
    "duration": 7,
    "start_time": "2023-09-05T15:56:36.130Z"
   },
   {
    "duration": 13,
    "start_time": "2023-09-05T15:58:17.642Z"
   },
   {
    "duration": 4,
    "start_time": "2023-09-05T15:58:29.958Z"
   },
   {
    "duration": 98407,
    "start_time": "2023-09-05T15:58:30.962Z"
   },
   {
    "duration": 5,
    "start_time": "2023-09-05T16:00:21.046Z"
   },
   {
    "duration": 4639,
    "start_time": "2023-09-05T16:02:38.253Z"
   },
   {
    "duration": 6,
    "start_time": "2023-09-05T16:02:54.978Z"
   },
   {
    "duration": 3,
    "start_time": "2023-09-05T16:03:40.094Z"
   },
   {
    "duration": 10,
    "start_time": "2023-09-05T16:06:05.265Z"
   },
   {
    "duration": 12,
    "start_time": "2023-09-05T16:06:09.421Z"
   },
   {
    "duration": 1169,
    "start_time": "2023-09-05T16:06:17.909Z"
   },
   {
    "duration": 6,
    "start_time": "2023-09-05T16:06:20.945Z"
   },
   {
    "duration": 203,
    "start_time": "2023-09-05T16:06:28.601Z"
   },
   {
    "duration": 2,
    "start_time": "2023-09-05T16:09:38.949Z"
   },
   {
    "duration": 986,
    "start_time": "2023-09-05T16:09:41.197Z"
   },
   {
    "duration": 6,
    "start_time": "2023-09-05T16:10:06.129Z"
   },
   {
    "duration": 3,
    "start_time": "2023-09-05T16:10:46.949Z"
   },
   {
    "duration": 887,
    "start_time": "2023-09-05T16:10:47.309Z"
   },
   {
    "duration": 6,
    "start_time": "2023-09-05T16:10:48.197Z"
   },
   {
    "duration": 3,
    "start_time": "2023-09-05T16:10:54.435Z"
   },
   {
    "duration": 971,
    "start_time": "2023-09-05T16:10:54.612Z"
   },
   {
    "duration": 7,
    "start_time": "2023-09-05T16:10:55.584Z"
   },
   {
    "duration": 3,
    "start_time": "2023-09-05T16:11:03.296Z"
   },
   {
    "duration": 1119,
    "start_time": "2023-09-05T16:11:03.492Z"
   },
   {
    "duration": 7,
    "start_time": "2023-09-05T16:11:04.612Z"
   },
   {
    "duration": 3,
    "start_time": "2023-09-05T16:11:10.912Z"
   },
   {
    "duration": 932,
    "start_time": "2023-09-05T16:11:11.070Z"
   },
   {
    "duration": 6,
    "start_time": "2023-09-05T16:11:12.004Z"
   },
   {
    "duration": 3,
    "start_time": "2023-09-05T16:11:15.400Z"
   },
   {
    "duration": 903,
    "start_time": "2023-09-05T16:11:15.557Z"
   },
   {
    "duration": 6,
    "start_time": "2023-09-05T16:11:16.462Z"
   },
   {
    "duration": 3,
    "start_time": "2023-09-05T16:11:20.669Z"
   },
   {
    "duration": 954,
    "start_time": "2023-09-05T16:11:20.840Z"
   },
   {
    "duration": 7,
    "start_time": "2023-09-05T16:11:21.796Z"
   },
   {
    "duration": 4,
    "start_time": "2023-09-05T16:11:26.816Z"
   },
   {
    "duration": 952,
    "start_time": "2023-09-05T16:11:26.982Z"
   },
   {
    "duration": 7,
    "start_time": "2023-09-05T16:11:27.936Z"
   },
   {
    "duration": 3,
    "start_time": "2023-09-05T16:11:32.073Z"
   },
   {
    "duration": 1016,
    "start_time": "2023-09-05T16:11:32.236Z"
   },
   {
    "duration": 6,
    "start_time": "2023-09-05T16:11:33.254Z"
   },
   {
    "duration": 3,
    "start_time": "2023-09-05T16:11:37.865Z"
   },
   {
    "duration": 898,
    "start_time": "2023-09-05T16:11:38.020Z"
   },
   {
    "duration": 5,
    "start_time": "2023-09-05T16:11:38.920Z"
   },
   {
    "duration": 4,
    "start_time": "2023-09-05T16:11:44.836Z"
   },
   {
    "duration": 998,
    "start_time": "2023-09-05T16:11:44.972Z"
   },
   {
    "duration": 5,
    "start_time": "2023-09-05T16:11:46.637Z"
   },
   {
    "duration": 4,
    "start_time": "2023-09-05T16:11:58.540Z"
   },
   {
    "duration": 2418,
    "start_time": "2023-09-05T16:11:58.704Z"
   },
   {
    "duration": 6,
    "start_time": "2023-09-05T16:12:01.124Z"
   },
   {
    "duration": 4,
    "start_time": "2023-09-05T16:12:10.240Z"
   },
   {
    "duration": 1023,
    "start_time": "2023-09-05T16:12:10.400Z"
   },
   {
    "duration": 6,
    "start_time": "2023-09-05T16:12:11.425Z"
   },
   {
    "duration": 3,
    "start_time": "2023-09-05T16:12:32.804Z"
   },
   {
    "duration": 891,
    "start_time": "2023-09-05T16:12:33.096Z"
   },
   {
    "duration": 7,
    "start_time": "2023-09-05T16:12:33.989Z"
   },
   {
    "duration": 3,
    "start_time": "2023-09-05T16:12:48.616Z"
   },
   {
    "duration": 911,
    "start_time": "2023-09-05T16:12:48.784Z"
   },
   {
    "duration": 6,
    "start_time": "2023-09-05T16:12:49.697Z"
   },
   {
    "duration": 3,
    "start_time": "2023-09-05T16:13:14.676Z"
   },
   {
    "duration": 1093,
    "start_time": "2023-09-05T16:13:14.824Z"
   },
   {
    "duration": 6,
    "start_time": "2023-09-05T16:13:15.918Z"
   },
   {
    "duration": 134,
    "start_time": "2023-09-05T16:15:20.032Z"
   },
   {
    "duration": 4,
    "start_time": "2023-09-05T16:15:39.108Z"
   },
   {
    "duration": 3,
    "start_time": "2023-09-05T16:16:07.460Z"
   },
   {
    "duration": 956,
    "start_time": "2023-09-05T16:16:07.692Z"
   },
   {
    "duration": 6,
    "start_time": "2023-09-05T16:16:08.651Z"
   },
   {
    "duration": 7,
    "start_time": "2023-09-05T16:16:14.136Z"
   },
   {
    "duration": 130,
    "start_time": "2023-09-05T16:16:21.776Z"
   },
   {
    "duration": 13,
    "start_time": "2023-09-05T16:16:42.132Z"
   },
   {
    "duration": 3,
    "start_time": "2023-09-05T16:16:56.980Z"
   },
   {
    "duration": 34279,
    "start_time": "2023-09-05T16:16:57.507Z"
   },
   {
    "duration": 12,
    "start_time": "2023-09-05T16:18:19.635Z"
   },
   {
    "duration": 3,
    "start_time": "2023-09-05T16:18:26.803Z"
   },
   {
    "duration": 25831,
    "start_time": "2023-09-05T16:18:27.123Z"
   },
   {
    "duration": 3,
    "start_time": "2023-09-05T16:19:13.828Z"
   },
   {
    "duration": 916,
    "start_time": "2023-09-05T16:19:34.915Z"
   },
   {
    "duration": 7,
    "start_time": "2023-09-05T16:19:39.007Z"
   },
   {
    "duration": 3,
    "start_time": "2023-09-05T16:20:18.059Z"
   },
   {
    "duration": 11159,
    "start_time": "2023-09-05T16:20:18.399Z"
   },
   {
    "duration": 4,
    "start_time": "2023-09-05T16:20:39.243Z"
   },
   {
    "duration": 6,
    "start_time": "2023-09-05T16:20:53.144Z"
   },
   {
    "duration": 11,
    "start_time": "2023-09-05T16:22:17.979Z"
   },
   {
    "duration": 11,
    "start_time": "2023-09-05T16:23:02.571Z"
   },
   {
    "duration": 4,
    "start_time": "2023-09-05T16:23:40.623Z"
   },
   {
    "duration": 14,
    "start_time": "2023-09-05T16:24:23.446Z"
   },
   {
    "duration": 4,
    "start_time": "2023-09-05T16:24:26.263Z"
   },
   {
    "duration": 24832,
    "start_time": "2023-09-05T16:24:27.071Z"
   },
   {
    "duration": 12,
    "start_time": "2023-09-05T16:25:23.847Z"
   },
   {
    "duration": 3,
    "start_time": "2023-09-05T16:25:26.887Z"
   },
   {
    "duration": 170067,
    "start_time": "2023-09-05T16:25:27.795Z"
   },
   {
    "duration": 3,
    "start_time": "2023-09-05T16:29:24.414Z"
   },
   {
    "duration": 168472,
    "start_time": "2023-09-05T16:29:25.202Z"
   },
   {
    "duration": 1497,
    "start_time": "2023-09-05T16:32:36.278Z"
   },
   {
    "duration": 8,
    "start_time": "2023-09-05T16:32:40.050Z"
   },
   {
    "duration": 4,
    "start_time": "2023-09-05T16:32:45.982Z"
   },
   {
    "duration": 13,
    "start_time": "2023-09-05T16:34:35.694Z"
   },
   {
    "duration": 3,
    "start_time": "2023-09-05T16:34:38.566Z"
   },
   {
    "duration": 36646,
    "start_time": "2023-09-05T16:34:40.142Z"
   },
   {
    "duration": 4,
    "start_time": "2023-09-05T16:35:52.886Z"
   },
   {
    "duration": 7,
    "start_time": "2023-09-05T16:35:56.618Z"
   },
   {
    "duration": 13,
    "start_time": "2023-09-05T16:36:36.146Z"
   },
   {
    "duration": 3,
    "start_time": "2023-09-05T16:36:39.061Z"
   },
   {
    "duration": 19477,
    "start_time": "2023-09-05T16:36:39.930Z"
   },
   {
    "duration": 4,
    "start_time": "2023-09-05T16:37:07.926Z"
   },
   {
    "duration": 8,
    "start_time": "2023-09-05T16:37:11.978Z"
   },
   {
    "duration": 142,
    "start_time": "2023-09-05T16:38:14.866Z"
   },
   {
    "duration": 5,
    "start_time": "2023-09-05T16:38:17.634Z"
   },
   {
    "duration": 140,
    "start_time": "2023-09-05T16:38:18.506Z"
   },
   {
    "duration": 12,
    "start_time": "2023-09-05T16:39:29.318Z"
   },
   {
    "duration": 3,
    "start_time": "2023-09-05T16:39:31.373Z"
   },
   {
    "duration": 16455,
    "start_time": "2023-09-05T16:39:31.927Z"
   },
   {
    "duration": 5,
    "start_time": "2023-09-05T16:39:48.384Z"
   },
   {
    "duration": 9,
    "start_time": "2023-09-05T16:39:48.391Z"
   },
   {
    "duration": 6,
    "start_time": "2023-09-05T16:39:48.402Z"
   },
   {
    "duration": 141,
    "start_time": "2023-09-05T16:39:56.981Z"
   },
   {
    "duration": 2136,
    "start_time": "2023-09-05T16:43:36.850Z"
   },
   {
    "duration": 2158,
    "start_time": "2023-09-05T16:43:38.989Z"
   },
   {
    "duration": 1447,
    "start_time": "2023-09-05T16:43:41.149Z"
   },
   {
    "duration": 2,
    "start_time": "2023-09-05T16:43:42.598Z"
   },
   {
    "duration": 108,
    "start_time": "2023-09-05T16:43:42.601Z"
   },
   {
    "duration": 12,
    "start_time": "2023-09-05T16:43:42.710Z"
   },
   {
    "duration": 22,
    "start_time": "2023-09-05T16:43:42.724Z"
   },
   {
    "duration": 27,
    "start_time": "2023-09-05T16:43:42.748Z"
   },
   {
    "duration": 9,
    "start_time": "2023-09-05T16:43:42.776Z"
   },
   {
    "duration": 20,
    "start_time": "2023-09-05T16:43:42.787Z"
   },
   {
    "duration": 11,
    "start_time": "2023-09-05T16:43:42.809Z"
   },
   {
    "duration": 22,
    "start_time": "2023-09-05T16:43:42.822Z"
   },
   {
    "duration": 13,
    "start_time": "2023-09-05T16:43:42.846Z"
   },
   {
    "duration": 20,
    "start_time": "2023-09-05T16:43:42.861Z"
   },
   {
    "duration": 16,
    "start_time": "2023-09-05T16:43:42.882Z"
   },
   {
    "duration": 216,
    "start_time": "2023-09-05T16:43:42.900Z"
   },
   {
    "duration": 206,
    "start_time": "2023-09-05T16:43:43.118Z"
   },
   {
    "duration": 10,
    "start_time": "2023-09-05T16:43:43.325Z"
   },
   {
    "duration": 18,
    "start_time": "2023-09-05T16:43:43.337Z"
   },
   {
    "duration": 8,
    "start_time": "2023-09-05T16:43:43.356Z"
   },
   {
    "duration": 14,
    "start_time": "2023-09-05T16:43:43.365Z"
   },
   {
    "duration": 6,
    "start_time": "2023-09-05T16:43:43.381Z"
   },
   {
    "duration": 7,
    "start_time": "2023-09-05T16:43:43.389Z"
   },
   {
    "duration": 10,
    "start_time": "2023-09-05T16:43:43.398Z"
   },
   {
    "duration": 51,
    "start_time": "2023-09-05T16:43:43.409Z"
   },
   {
    "duration": 104,
    "start_time": "2023-09-05T16:43:43.461Z"
   },
   {
    "duration": 18,
    "start_time": "2023-09-05T16:43:43.567Z"
   },
   {
    "duration": 10,
    "start_time": "2023-09-05T16:43:43.588Z"
   },
   {
    "duration": 5,
    "start_time": "2023-09-05T16:43:43.600Z"
   },
   {
    "duration": 38,
    "start_time": "2023-09-05T16:43:43.606Z"
   },
   {
    "duration": 11,
    "start_time": "2023-09-05T16:43:43.645Z"
   },
   {
    "duration": 6,
    "start_time": "2023-09-05T16:43:43.657Z"
   },
   {
    "duration": 16,
    "start_time": "2023-09-05T16:43:43.665Z"
   },
   {
    "duration": 2553,
    "start_time": "2023-09-05T16:43:43.683Z"
   },
   {
    "duration": 1390,
    "start_time": "2023-09-05T16:43:46.238Z"
   },
   {
    "duration": 2068,
    "start_time": "2023-09-05T16:43:47.630Z"
   },
   {
    "duration": 350,
    "start_time": "2023-09-05T16:43:49.700Z"
   },
   {
    "duration": 914,
    "start_time": "2023-09-05T16:43:50.052Z"
   },
   {
    "duration": 150,
    "start_time": "2023-09-05T16:43:50.968Z"
   },
   {
    "duration": 6,
    "start_time": "2023-09-05T16:43:51.120Z"
   },
   {
    "duration": 451,
    "start_time": "2023-09-05T16:43:51.127Z"
   },
   {
    "duration": 5,
    "start_time": "2023-09-05T16:43:51.580Z"
   },
   {
    "duration": 12,
    "start_time": "2023-09-05T16:43:51.586Z"
   },
   {
    "duration": 10,
    "start_time": "2023-09-05T16:43:51.599Z"
   },
   {
    "duration": 35,
    "start_time": "2023-09-05T16:43:51.610Z"
   },
   {
    "duration": 16,
    "start_time": "2023-09-05T16:43:51.647Z"
   },
   {
    "duration": 10,
    "start_time": "2023-09-05T16:43:51.665Z"
   },
   {
    "duration": 28,
    "start_time": "2023-09-05T16:43:51.677Z"
   },
   {
    "duration": 20,
    "start_time": "2023-09-05T16:43:51.707Z"
   },
   {
    "duration": 17,
    "start_time": "2023-09-05T16:43:51.728Z"
   },
   {
    "duration": 6340,
    "start_time": "2023-09-05T16:43:51.747Z"
   },
   {
    "duration": 4,
    "start_time": "2023-09-05T16:43:58.089Z"
   },
   {
    "duration": 28262,
    "start_time": "2023-09-05T16:43:58.094Z"
   },
   {
    "duration": 5,
    "start_time": "2023-09-05T16:44:26.358Z"
   },
   {
    "duration": 10,
    "start_time": "2023-09-05T16:44:26.365Z"
   },
   {
    "duration": 1203,
    "start_time": "2023-09-05T16:44:26.378Z"
   },
   {
    "duration": 4,
    "start_time": "2023-09-05T16:44:27.582Z"
   },
   {
    "duration": 16686,
    "start_time": "2023-09-05T16:44:27.587Z"
   },
   {
    "duration": 4,
    "start_time": "2023-09-05T16:44:44.275Z"
   },
   {
    "duration": 11,
    "start_time": "2023-09-05T16:44:44.281Z"
   },
   {
    "duration": 13,
    "start_time": "2023-09-05T16:44:44.294Z"
   },
   {
    "duration": 11,
    "start_time": "2023-09-05T16:44:44.308Z"
   },
   {
    "duration": 141,
    "start_time": "2023-09-05T16:44:44.321Z"
   },
   {
    "duration": 134,
    "start_time": "2023-09-05T16:44:44.464Z"
   },
   {
    "duration": 11,
    "start_time": "2023-09-05T16:51:07.872Z"
   },
   {
    "duration": 1812,
    "start_time": "2023-09-05T16:53:16.372Z"
   },
   {
    "duration": 4,
    "start_time": "2023-09-05T16:53:20.980Z"
   },
   {
    "duration": 1986,
    "start_time": "2023-09-05T16:53:21.669Z"
   },
   {
    "duration": 14438,
    "start_time": "2023-09-05T16:53:39.647Z"
   },
   {
    "duration": 4,
    "start_time": "2023-09-05T16:54:09.816Z"
   },
   {
    "duration": 6,
    "start_time": "2023-09-05T16:54:18.129Z"
   },
   {
    "duration": 5,
    "start_time": "2023-09-05T16:54:28.184Z"
   },
   {
    "duration": 151,
    "start_time": "2023-09-05T16:54:32.444Z"
   },
   {
    "duration": 15,
    "start_time": "2023-09-05T17:00:24.762Z"
   },
   {
    "duration": 4,
    "start_time": "2023-09-05T17:00:28.204Z"
   },
   {
    "duration": 3,
    "start_time": "2023-09-05T17:00:30.476Z"
   },
   {
    "duration": 190770,
    "start_time": "2023-09-05T17:00:30.777Z"
   },
   {
    "duration": 5,
    "start_time": "2023-09-05T17:04:13.023Z"
   },
   {
    "duration": 7,
    "start_time": "2023-09-05T17:04:25.867Z"
   },
   {
    "duration": 5,
    "start_time": "2023-09-05T17:04:50.296Z"
   },
   {
    "duration": 14,
    "start_time": "2023-09-05T17:05:19.063Z"
   },
   {
    "duration": 3,
    "start_time": "2023-09-05T17:05:20.999Z"
   },
   {
    "duration": 21838,
    "start_time": "2023-09-05T17:05:21.296Z"
   },
   {
    "duration": 4,
    "start_time": "2023-09-05T17:06:22.331Z"
   },
   {
    "duration": 8,
    "start_time": "2023-09-05T17:06:26.090Z"
   },
   {
    "duration": 7,
    "start_time": "2023-09-05T17:07:06.767Z"
   },
   {
    "duration": 5,
    "start_time": "2023-09-05T17:07:07.879Z"
   },
   {
    "duration": 142,
    "start_time": "2023-09-05T17:07:13.620Z"
   },
   {
    "duration": 14,
    "start_time": "2023-09-05T17:07:45.639Z"
   },
   {
    "duration": 3,
    "start_time": "2023-09-05T17:07:47.335Z"
   },
   {
    "duration": 25036,
    "start_time": "2023-09-05T17:07:47.603Z"
   },
   {
    "duration": 4,
    "start_time": "2023-09-05T17:08:12.641Z"
   },
   {
    "duration": 15,
    "start_time": "2023-09-05T17:08:12.647Z"
   },
   {
    "duration": 6,
    "start_time": "2023-09-05T17:08:12.664Z"
   },
   {
    "duration": 12,
    "start_time": "2023-09-05T17:12:15.153Z"
   },
   {
    "duration": 3,
    "start_time": "2023-09-05T17:12:17.023Z"
   },
   {
    "duration": 21341,
    "start_time": "2023-09-05T17:12:17.267Z"
   },
   {
    "duration": 4,
    "start_time": "2023-09-05T17:13:12.686Z"
   },
   {
    "duration": 46219,
    "start_time": "2023-09-05T17:13:13.023Z"
   },
   {
    "duration": 13,
    "start_time": "2023-09-05T17:14:06.107Z"
   },
   {
    "duration": 3,
    "start_time": "2023-09-05T17:14:07.844Z"
   },
   {
    "duration": 48767,
    "start_time": "2023-09-05T17:14:08.047Z"
   },
   {
    "duration": 4,
    "start_time": "2023-09-05T17:15:00.979Z"
   },
   {
    "duration": 7,
    "start_time": "2023-09-05T17:15:05.390Z"
   },
   {
    "duration": 6,
    "start_time": "2023-09-05T17:15:08.833Z"
   },
   {
    "duration": 21686,
    "start_time": "2023-09-05T17:15:30.500Z"
   },
   {
    "duration": 4,
    "start_time": "2023-09-05T17:15:54.410Z"
   },
   {
    "duration": 7,
    "start_time": "2023-09-05T17:15:56.790Z"
   },
   {
    "duration": 18766,
    "start_time": "2023-09-05T17:16:15.763Z"
   },
   {
    "duration": 6,
    "start_time": "2023-09-05T17:16:34.935Z"
   },
   {
    "duration": 4,
    "start_time": "2023-09-05T17:16:40.130Z"
   },
   {
    "duration": 6,
    "start_time": "2023-09-05T17:16:47.583Z"
   },
   {
    "duration": 147,
    "start_time": "2023-09-05T17:16:50.559Z"
   },
   {
    "duration": 137,
    "start_time": "2023-09-05T17:17:49.746Z"
   },
   {
    "duration": 1799,
    "start_time": "2023-09-05T17:18:43.626Z"
   },
   {
    "duration": 19951,
    "start_time": "2023-09-05T17:19:00.362Z"
   },
   {
    "duration": 4,
    "start_time": "2023-09-05T17:19:25.970Z"
   },
   {
    "duration": 6,
    "start_time": "2023-09-05T17:19:29.394Z"
   },
   {
    "duration": 10,
    "start_time": "2023-09-05T17:19:43.190Z"
   },
   {
    "duration": 7,
    "start_time": "2023-09-05T17:19:45.326Z"
   },
   {
    "duration": 21082,
    "start_time": "2023-09-05T17:20:24.034Z"
   },
   {
    "duration": 4,
    "start_time": "2023-09-05T17:25:01.802Z"
   },
   {
    "duration": 8,
    "start_time": "2023-09-05T17:25:06.638Z"
   },
   {
    "duration": 19539,
    "start_time": "2023-09-05T17:26:31.142Z"
   },
   {
    "duration": 6,
    "start_time": "2023-09-05T17:29:39.261Z"
   },
   {
    "duration": 929,
    "start_time": "2023-09-05T17:29:44.478Z"
   },
   {
    "duration": 8,
    "start_time": "2023-09-05T17:30:11.134Z"
   },
   {
    "duration": 21323,
    "start_time": "2023-09-05T17:31:03.867Z"
   },
   {
    "duration": 4,
    "start_time": "2023-09-05T17:33:35.890Z"
   },
   {
    "duration": 10,
    "start_time": "2023-09-05T17:33:39.889Z"
   },
   {
    "duration": 20141,
    "start_time": "2023-09-05T17:33:47.741Z"
   },
   {
    "duration": 4,
    "start_time": "2023-09-05T17:34:07.885Z"
   },
   {
    "duration": 12,
    "start_time": "2023-09-05T17:34:07.890Z"
   },
   {
    "duration": 834,
    "start_time": "2023-09-05T17:34:07.904Z"
   },
   {
    "duration": 0,
    "start_time": "2023-09-05T17:34:08.740Z"
   },
   {
    "duration": 7,
    "start_time": "2023-09-05T17:34:15.845Z"
   },
   {
    "duration": 152,
    "start_time": "2023-09-05T17:34:29.213Z"
   },
   {
    "duration": 23729,
    "start_time": "2023-09-05T17:35:14.426Z"
   },
   {
    "duration": 32950,
    "start_time": "2023-09-05T17:35:59.006Z"
   },
   {
    "duration": 7,
    "start_time": "2023-09-05T17:36:38.667Z"
   },
   {
    "duration": 4,
    "start_time": "2023-09-05T17:36:44.901Z"
   },
   {
    "duration": 34654,
    "start_time": "2023-09-05T17:37:17.376Z"
   },
   {
    "duration": 3,
    "start_time": "2023-09-05T17:37:58.346Z"
   },
   {
    "duration": 6,
    "start_time": "2023-09-05T17:38:03.805Z"
   },
   {
    "duration": 8053,
    "start_time": "2023-09-05T17:38:21.006Z"
   },
   {
    "duration": 4,
    "start_time": "2023-09-05T17:38:32.673Z"
   },
   {
    "duration": 7,
    "start_time": "2023-09-05T17:38:35.117Z"
   },
   {
    "duration": 19554,
    "start_time": "2023-09-05T17:39:02.745Z"
   },
   {
    "duration": 4,
    "start_time": "2023-09-05T17:39:26.833Z"
   },
   {
    "duration": 6,
    "start_time": "2023-09-05T17:39:28.805Z"
   },
   {
    "duration": 5,
    "start_time": "2023-09-05T17:39:54.933Z"
   },
   {
    "duration": 130,
    "start_time": "2023-09-05T17:39:57.469Z"
   },
   {
    "duration": 15,
    "start_time": "2023-09-05T17:41:48.633Z"
   },
   {
    "duration": 1034,
    "start_time": "2023-09-05T17:43:07.546Z"
   },
   {
    "duration": 1064,
    "start_time": "2023-09-05T17:43:51.142Z"
   },
   {
    "duration": 1085,
    "start_time": "2023-09-05T17:44:47.433Z"
   },
   {
    "duration": 1143,
    "start_time": "2023-09-05T17:44:52.421Z"
   },
   {
    "duration": 1107,
    "start_time": "2023-09-05T17:45:21.361Z"
   },
   {
    "duration": 1123,
    "start_time": "2023-09-05T17:45:44.657Z"
   },
   {
    "duration": 26024,
    "start_time": "2023-09-05T17:46:01.877Z"
   },
   {
    "duration": 0,
    "start_time": "2023-09-05T17:46:27.903Z"
   },
   {
    "duration": 1130,
    "start_time": "2023-09-05T17:46:47.305Z"
   },
   {
    "duration": 1045,
    "start_time": "2023-09-05T17:46:57.062Z"
   },
   {
    "duration": 1032,
    "start_time": "2023-09-05T17:47:16.461Z"
   },
   {
    "duration": 1311,
    "start_time": "2023-09-05T17:47:30.005Z"
   },
   {
    "duration": 107778,
    "start_time": "2023-09-05T17:47:57.229Z"
   },
   {
    "duration": 4,
    "start_time": "2023-09-05T17:52:05.677Z"
   },
   {
    "duration": 12,
    "start_time": "2023-09-05T17:53:10.241Z"
   },
   {
    "duration": 11,
    "start_time": "2023-09-05T17:55:35.348Z"
   },
   {
    "duration": 1313,
    "start_time": "2023-09-05T17:55:56.092Z"
   },
   {
    "duration": 1357,
    "start_time": "2023-09-05T17:56:22.028Z"
   },
   {
    "duration": 106030,
    "start_time": "2023-09-05T17:57:13.376Z"
   },
   {
    "duration": 4,
    "start_time": "2023-09-05T17:59:15.161Z"
   },
   {
    "duration": 12,
    "start_time": "2023-09-05T17:59:20.164Z"
   },
   {
    "duration": 46905,
    "start_time": "2023-09-05T18:00:09.080Z"
   },
   {
    "duration": 4,
    "start_time": "2023-09-05T18:00:55.987Z"
   },
   {
    "duration": 26,
    "start_time": "2023-09-05T18:01:16.475Z"
   },
   {
    "duration": 86575,
    "start_time": "2023-09-05T18:01:59.464Z"
   },
   {
    "duration": 3,
    "start_time": "2023-09-05T18:03:29.183Z"
   },
   {
    "duration": 9,
    "start_time": "2023-09-05T18:03:31.899Z"
   },
   {
    "duration": 1075628,
    "start_time": "2023-09-05T18:05:14.099Z"
   },
   {
    "duration": 4,
    "start_time": "2023-09-05T19:14:08.615Z"
   },
   {
    "duration": 8,
    "start_time": "2023-09-05T19:14:15.423Z"
   },
   {
    "duration": 6,
    "start_time": "2023-09-05T19:14:29.199Z"
   },
   {
    "duration": 17850,
    "start_time": "2023-09-05T19:15:33.743Z"
   },
   {
    "duration": 4,
    "start_time": "2023-09-05T19:15:58.366Z"
   },
   {
    "duration": 11,
    "start_time": "2023-09-05T19:16:01.153Z"
   },
   {
    "duration": 15204,
    "start_time": "2023-09-05T19:16:14.019Z"
   },
   {
    "duration": 6,
    "start_time": "2023-09-05T19:16:32.322Z"
   },
   {
    "duration": 6,
    "start_time": "2023-09-05T19:16:34.769Z"
   },
   {
    "duration": 13601,
    "start_time": "2023-09-05T19:16:45.883Z"
   },
   {
    "duration": 5,
    "start_time": "2023-09-05T19:17:04.131Z"
   },
   {
    "duration": 6,
    "start_time": "2023-09-05T19:17:06.469Z"
   },
   {
    "duration": 2361,
    "start_time": "2023-09-05T19:17:13.826Z"
   },
   {
    "duration": 2225,
    "start_time": "2023-09-05T19:17:16.189Z"
   },
   {
    "duration": 1523,
    "start_time": "2023-09-05T19:17:18.416Z"
   },
   {
    "duration": 2,
    "start_time": "2023-09-05T19:17:19.942Z"
   },
   {
    "duration": 104,
    "start_time": "2023-09-05T19:17:19.946Z"
   },
   {
    "duration": 15,
    "start_time": "2023-09-05T19:17:20.052Z"
   },
   {
    "duration": 37,
    "start_time": "2023-09-05T19:17:20.068Z"
   },
   {
    "duration": 22,
    "start_time": "2023-09-05T19:17:20.107Z"
   },
   {
    "duration": 15,
    "start_time": "2023-09-05T19:17:20.131Z"
   },
   {
    "duration": 15,
    "start_time": "2023-09-05T19:17:20.149Z"
   },
   {
    "duration": 19,
    "start_time": "2023-09-05T19:17:20.166Z"
   },
   {
    "duration": 14,
    "start_time": "2023-09-05T19:17:20.187Z"
   },
   {
    "duration": 7,
    "start_time": "2023-09-05T19:17:20.202Z"
   },
   {
    "duration": 36,
    "start_time": "2023-09-05T19:17:20.210Z"
   },
   {
    "duration": 25,
    "start_time": "2023-09-05T19:17:20.248Z"
   },
   {
    "duration": 238,
    "start_time": "2023-09-05T19:17:20.274Z"
   },
   {
    "duration": 217,
    "start_time": "2023-09-05T19:17:20.514Z"
   },
   {
    "duration": 14,
    "start_time": "2023-09-05T19:17:20.732Z"
   },
   {
    "duration": 34,
    "start_time": "2023-09-05T19:17:20.747Z"
   },
   {
    "duration": 32,
    "start_time": "2023-09-05T19:17:20.782Z"
   },
   {
    "duration": 19,
    "start_time": "2023-09-05T19:17:20.816Z"
   },
   {
    "duration": 18,
    "start_time": "2023-09-05T19:17:20.837Z"
   },
   {
    "duration": 16,
    "start_time": "2023-09-05T19:17:20.857Z"
   },
   {
    "duration": 16,
    "start_time": "2023-09-05T19:17:20.874Z"
   },
   {
    "duration": 26,
    "start_time": "2023-09-05T19:17:20.892Z"
   },
   {
    "duration": 90,
    "start_time": "2023-09-05T19:17:20.920Z"
   },
   {
    "duration": 29,
    "start_time": "2023-09-05T19:17:21.011Z"
   },
   {
    "duration": 21,
    "start_time": "2023-09-05T19:17:21.046Z"
   },
   {
    "duration": 15,
    "start_time": "2023-09-05T19:17:21.068Z"
   },
   {
    "duration": 15,
    "start_time": "2023-09-05T19:17:21.084Z"
   },
   {
    "duration": 15,
    "start_time": "2023-09-05T19:17:21.100Z"
   },
   {
    "duration": 5,
    "start_time": "2023-09-05T19:17:21.117Z"
   },
   {
    "duration": 25,
    "start_time": "2023-09-05T19:17:21.123Z"
   },
   {
    "duration": 2735,
    "start_time": "2023-09-05T19:17:21.150Z"
   },
   {
    "duration": 1498,
    "start_time": "2023-09-05T19:17:23.887Z"
   },
   {
    "duration": 1921,
    "start_time": "2023-09-05T19:17:25.387Z"
   },
   {
    "duration": 370,
    "start_time": "2023-09-05T19:17:27.310Z"
   },
   {
    "duration": 924,
    "start_time": "2023-09-05T19:17:27.682Z"
   },
   {
    "duration": 156,
    "start_time": "2023-09-05T19:17:28.608Z"
   },
   {
    "duration": 5,
    "start_time": "2023-09-05T19:17:28.766Z"
   },
   {
    "duration": 439,
    "start_time": "2023-09-05T19:17:28.773Z"
   },
   {
    "duration": 6,
    "start_time": "2023-09-05T19:17:29.213Z"
   },
   {
    "duration": 30,
    "start_time": "2023-09-05T19:17:29.221Z"
   },
   {
    "duration": 14,
    "start_time": "2023-09-05T19:17:29.253Z"
   },
   {
    "duration": 9,
    "start_time": "2023-09-05T19:17:29.269Z"
   },
   {
    "duration": 16,
    "start_time": "2023-09-05T19:17:29.280Z"
   },
   {
    "duration": 10,
    "start_time": "2023-09-05T19:17:29.298Z"
   },
   {
    "duration": 53,
    "start_time": "2023-09-05T19:17:29.310Z"
   },
   {
    "duration": 4,
    "start_time": "2023-09-05T19:17:29.364Z"
   },
   {
    "duration": 5,
    "start_time": "2023-09-05T19:17:29.370Z"
   },
   {
    "duration": 6797,
    "start_time": "2023-09-05T19:17:29.376Z"
   },
   {
    "duration": 4,
    "start_time": "2023-09-05T19:17:36.175Z"
   },
   {
    "duration": 28459,
    "start_time": "2023-09-05T19:17:36.180Z"
   },
   {
    "duration": 5,
    "start_time": "2023-09-05T19:18:04.641Z"
   },
   {
    "duration": 8,
    "start_time": "2023-09-05T19:18:04.648Z"
   },
   {
    "duration": 1126,
    "start_time": "2023-09-05T19:18:04.657Z"
   },
   {
    "duration": 13566,
    "start_time": "2023-09-05T19:18:05.785Z"
   },
   {
    "duration": 4,
    "start_time": "2023-09-05T19:18:19.352Z"
   },
   {
    "duration": 8,
    "start_time": "2023-09-05T19:18:19.357Z"
   },
   {
    "duration": 4,
    "start_time": "2023-09-05T19:18:19.367Z"
   },
   {
    "duration": 124,
    "start_time": "2023-09-05T19:18:19.373Z"
   },
   {
    "duration": 0,
    "start_time": "2023-09-05T19:18:19.499Z"
   },
   {
    "duration": 0,
    "start_time": "2023-09-05T19:18:19.500Z"
   },
   {
    "duration": 12,
    "start_time": "2023-09-05T19:18:29.360Z"
   },
   {
    "duration": 4,
    "start_time": "2023-09-05T19:21:14.470Z"
   },
   {
    "duration": 137,
    "start_time": "2023-09-05T19:21:20.798Z"
   },
   {
    "duration": 141,
    "start_time": "2023-09-05T19:21:39.951Z"
   },
   {
    "duration": 4328,
    "start_time": "2023-09-06T19:40:11.407Z"
   },
   {
    "duration": 3134,
    "start_time": "2023-09-06T19:40:15.738Z"
   },
   {
    "duration": 1560,
    "start_time": "2023-09-06T19:40:18.875Z"
   },
   {
    "duration": 2,
    "start_time": "2023-09-06T19:40:20.437Z"
   },
   {
    "duration": 472,
    "start_time": "2023-09-06T19:40:20.442Z"
   },
   {
    "duration": 14,
    "start_time": "2023-09-06T19:40:20.916Z"
   },
   {
    "duration": 38,
    "start_time": "2023-09-06T19:40:20.932Z"
   },
   {
    "duration": 21,
    "start_time": "2023-09-06T19:40:20.971Z"
   },
   {
    "duration": 25,
    "start_time": "2023-09-06T19:40:20.994Z"
   },
   {
    "duration": 21,
    "start_time": "2023-09-06T19:40:21.021Z"
   },
   {
    "duration": 18,
    "start_time": "2023-09-06T19:40:21.044Z"
   },
   {
    "duration": 27,
    "start_time": "2023-09-06T19:40:21.064Z"
   },
   {
    "duration": 23,
    "start_time": "2023-09-06T19:40:21.093Z"
   },
   {
    "duration": 16,
    "start_time": "2023-09-06T19:40:21.119Z"
   },
   {
    "duration": 17,
    "start_time": "2023-09-06T19:40:21.136Z"
   },
   {
    "duration": 260,
    "start_time": "2023-09-06T19:40:21.155Z"
   },
   {
    "duration": 236,
    "start_time": "2023-09-06T19:40:21.416Z"
   },
   {
    "duration": 10,
    "start_time": "2023-09-06T19:40:21.654Z"
   },
   {
    "duration": 16,
    "start_time": "2023-09-06T19:40:21.666Z"
   },
   {
    "duration": 35,
    "start_time": "2023-09-06T19:40:21.683Z"
   },
   {
    "duration": 12,
    "start_time": "2023-09-06T19:40:21.719Z"
   },
   {
    "duration": 7,
    "start_time": "2023-09-06T19:40:21.733Z"
   },
   {
    "duration": 10,
    "start_time": "2023-09-06T19:40:21.742Z"
   },
   {
    "duration": 17,
    "start_time": "2023-09-06T19:40:21.753Z"
   },
   {
    "duration": 18,
    "start_time": "2023-09-06T19:40:21.771Z"
   },
   {
    "duration": 90,
    "start_time": "2023-09-06T19:40:21.804Z"
   },
   {
    "duration": 29,
    "start_time": "2023-09-06T19:40:21.902Z"
   },
   {
    "duration": 12,
    "start_time": "2023-09-06T19:40:21.932Z"
   },
   {
    "duration": 11,
    "start_time": "2023-09-06T19:40:21.945Z"
   },
   {
    "duration": 13,
    "start_time": "2023-09-06T19:40:21.957Z"
   },
   {
    "duration": 10,
    "start_time": "2023-09-06T19:40:21.972Z"
   },
   {
    "duration": 21,
    "start_time": "2023-09-06T19:40:21.983Z"
   },
   {
    "duration": 24,
    "start_time": "2023-09-06T19:40:22.007Z"
   },
   {
    "duration": 2950,
    "start_time": "2023-09-06T19:40:22.034Z"
   },
   {
    "duration": 1582,
    "start_time": "2023-09-06T19:40:24.986Z"
   },
   {
    "duration": 2176,
    "start_time": "2023-09-06T19:40:26.570Z"
   },
   {
    "duration": 371,
    "start_time": "2023-09-06T19:40:28.748Z"
   },
   {
    "duration": 957,
    "start_time": "2023-09-06T19:40:29.121Z"
   },
   {
    "duration": 163,
    "start_time": "2023-09-06T19:40:30.079Z"
   },
   {
    "duration": 4,
    "start_time": "2023-09-06T19:40:30.244Z"
   },
   {
    "duration": 495,
    "start_time": "2023-09-06T19:40:30.251Z"
   },
   {
    "duration": 5,
    "start_time": "2023-09-06T19:40:30.748Z"
   },
   {
    "duration": 81,
    "start_time": "2023-09-06T19:40:30.754Z"
   },
   {
    "duration": 133,
    "start_time": "2023-09-06T19:40:30.837Z"
   },
   {
    "duration": 33,
    "start_time": "2023-09-06T19:40:30.972Z"
   },
   {
    "duration": 45,
    "start_time": "2023-09-06T19:40:31.013Z"
   },
   {
    "duration": 175,
    "start_time": "2023-09-06T19:40:31.060Z"
   },
   {
    "duration": 59,
    "start_time": "2023-09-06T19:40:31.236Z"
   },
   {
    "duration": 14996,
    "start_time": "2023-09-06T19:41:51.094Z"
   },
   {
    "duration": 41,
    "start_time": "2023-09-06T19:42:41.493Z"
   },
   {
    "duration": 122,
    "start_time": "2023-09-06T19:42:55.427Z"
   },
   {
    "duration": 9,
    "start_time": "2023-09-06T19:42:58.132Z"
   },
   {
    "duration": 11,
    "start_time": "2023-09-06T19:43:00.391Z"
   },
   {
    "duration": 9,
    "start_time": "2023-09-06T19:43:05.227Z"
   },
   {
    "duration": 18,
    "start_time": "2023-09-06T19:43:07.000Z"
   },
   {
    "duration": 4,
    "start_time": "2023-09-06T19:45:33.132Z"
   },
   {
    "duration": 143,
    "start_time": "2023-09-06T19:51:00.844Z"
   },
   {
    "duration": 101,
    "start_time": "2023-09-06T19:51:57.735Z"
   },
   {
    "duration": 5,
    "start_time": "2023-09-06T19:52:10.492Z"
   },
   {
    "duration": 136,
    "start_time": "2023-09-06T19:52:16.215Z"
   },
   {
    "duration": 288,
    "start_time": "2023-09-06T19:52:53.624Z"
   },
   {
    "duration": 105,
    "start_time": "2023-09-06T19:54:46.140Z"
   },
   {
    "duration": 224,
    "start_time": "2023-09-06T19:55:01.836Z"
   },
   {
    "duration": 87,
    "start_time": "2023-09-06T19:55:15.595Z"
   },
   {
    "duration": 247,
    "start_time": "2023-09-06T19:55:27.987Z"
   },
   {
    "duration": 223,
    "start_time": "2023-09-06T19:55:57.539Z"
   },
   {
    "duration": 17614,
    "start_time": "2023-09-06T19:58:10.480Z"
   },
   {
    "duration": 231,
    "start_time": "2023-09-06T19:58:57.535Z"
   },
   {
    "duration": 3557,
    "start_time": "2023-09-07T18:46:24.002Z"
   },
   {
    "duration": 2620,
    "start_time": "2023-09-07T18:46:27.562Z"
   },
   {
    "duration": 3362,
    "start_time": "2023-09-07T18:46:30.184Z"
   },
   {
    "duration": 3,
    "start_time": "2023-09-07T18:46:33.548Z"
   },
   {
    "duration": 461,
    "start_time": "2023-09-07T18:46:33.553Z"
   },
   {
    "duration": 21,
    "start_time": "2023-09-07T18:46:34.016Z"
   },
   {
    "duration": 18,
    "start_time": "2023-09-07T18:46:34.039Z"
   },
   {
    "duration": 6,
    "start_time": "2023-09-07T18:46:34.059Z"
   },
   {
    "duration": 9,
    "start_time": "2023-09-07T18:46:34.067Z"
   },
   {
    "duration": 19,
    "start_time": "2023-09-07T18:46:34.078Z"
   },
   {
    "duration": 12,
    "start_time": "2023-09-07T18:46:34.098Z"
   },
   {
    "duration": 31,
    "start_time": "2023-09-07T18:46:34.111Z"
   },
   {
    "duration": 4,
    "start_time": "2023-09-07T18:46:34.143Z"
   },
   {
    "duration": 28,
    "start_time": "2023-09-07T18:46:34.148Z"
   },
   {
    "duration": 15,
    "start_time": "2023-09-07T18:46:34.179Z"
   },
   {
    "duration": 255,
    "start_time": "2023-09-07T18:46:34.195Z"
   },
   {
    "duration": 228,
    "start_time": "2023-09-07T18:46:34.452Z"
   },
   {
    "duration": 11,
    "start_time": "2023-09-07T18:46:34.681Z"
   },
   {
    "duration": 14,
    "start_time": "2023-09-07T18:46:34.694Z"
   },
   {
    "duration": 12,
    "start_time": "2023-09-07T18:46:34.724Z"
   },
   {
    "duration": 10,
    "start_time": "2023-09-07T18:46:34.738Z"
   },
   {
    "duration": 5,
    "start_time": "2023-09-07T18:46:34.749Z"
   },
   {
    "duration": 7,
    "start_time": "2023-09-07T18:46:34.756Z"
   },
   {
    "duration": 10,
    "start_time": "2023-09-07T18:46:34.765Z"
   },
   {
    "duration": 55,
    "start_time": "2023-09-07T18:46:34.777Z"
   },
   {
    "duration": 103,
    "start_time": "2023-09-07T18:46:34.834Z"
   },
   {
    "duration": 16,
    "start_time": "2023-09-07T18:46:34.940Z"
   },
   {
    "duration": 10,
    "start_time": "2023-09-07T18:46:34.962Z"
   },
   {
    "duration": 7,
    "start_time": "2023-09-07T18:46:34.974Z"
   },
   {
    "duration": 9,
    "start_time": "2023-09-07T18:46:34.982Z"
   },
   {
    "duration": 40,
    "start_time": "2023-09-07T18:46:34.993Z"
   },
   {
    "duration": 8,
    "start_time": "2023-09-07T18:46:35.035Z"
   },
   {
    "duration": 27,
    "start_time": "2023-09-07T18:46:35.044Z"
   },
   {
    "duration": 2607,
    "start_time": "2023-09-07T18:46:35.072Z"
   },
   {
    "duration": 1470,
    "start_time": "2023-09-07T18:46:37.681Z"
   },
   {
    "duration": 2048,
    "start_time": "2023-09-07T18:46:39.153Z"
   },
   {
    "duration": 365,
    "start_time": "2023-09-07T18:46:41.203Z"
   },
   {
    "duration": 902,
    "start_time": "2023-09-07T18:46:41.570Z"
   },
   {
    "duration": 136,
    "start_time": "2023-09-07T18:46:42.474Z"
   },
   {
    "duration": 21,
    "start_time": "2023-09-07T18:46:42.611Z"
   },
   {
    "duration": 540,
    "start_time": "2023-09-07T18:46:42.636Z"
   },
   {
    "duration": 5,
    "start_time": "2023-09-07T18:46:43.178Z"
   },
   {
    "duration": 11,
    "start_time": "2023-09-07T18:46:43.185Z"
   },
   {
    "duration": 8,
    "start_time": "2023-09-07T18:46:43.197Z"
   },
   {
    "duration": 31,
    "start_time": "2023-09-07T18:46:43.206Z"
   },
   {
    "duration": 16,
    "start_time": "2023-09-07T18:46:43.238Z"
   },
   {
    "duration": 19,
    "start_time": "2023-09-07T18:46:43.255Z"
   },
   {
    "duration": 22,
    "start_time": "2023-09-07T18:46:43.276Z"
   },
   {
    "duration": 4,
    "start_time": "2023-09-07T18:46:43.300Z"
   },
   {
    "duration": 27,
    "start_time": "2023-09-07T18:46:43.305Z"
   },
   {
    "duration": 6579,
    "start_time": "2023-09-07T18:46:43.334Z"
   },
   {
    "duration": 22,
    "start_time": "2023-09-07T18:46:49.915Z"
   },
   {
    "duration": 28553,
    "start_time": "2023-09-07T18:46:49.938Z"
   },
   {
    "duration": 5,
    "start_time": "2023-09-07T18:47:18.493Z"
   },
   {
    "duration": 13082,
    "start_time": "2023-09-07T18:47:18.500Z"
   },
   {
    "duration": 4,
    "start_time": "2023-09-07T18:47:31.584Z"
   },
   {
    "duration": 159,
    "start_time": "2023-09-07T18:47:31.590Z"
   },
   {
    "duration": 0,
    "start_time": "2023-09-07T18:47:31.751Z"
   },
   {
    "duration": 0,
    "start_time": "2023-09-07T18:47:31.752Z"
   },
   {
    "duration": 0,
    "start_time": "2023-09-07T18:47:31.753Z"
   },
   {
    "duration": 0,
    "start_time": "2023-09-07T18:47:31.754Z"
   },
   {
    "duration": 0,
    "start_time": "2023-09-07T18:47:31.755Z"
   },
   {
    "duration": 10,
    "start_time": "2023-09-07T18:48:42.894Z"
   },
   {
    "duration": 15,
    "start_time": "2023-09-07T18:49:07.221Z"
   },
   {
    "duration": 30,
    "start_time": "2023-09-07T19:05:49.380Z"
   },
   {
    "duration": 10,
    "start_time": "2023-09-07T19:15:11.854Z"
   },
   {
    "duration": 10,
    "start_time": "2023-09-07T19:15:23.887Z"
   },
   {
    "duration": 14889,
    "start_time": "2023-09-07T19:24:16.719Z"
   },
   {
    "duration": 3,
    "start_time": "2023-09-07T19:24:31.610Z"
   },
   {
    "duration": 34,
    "start_time": "2023-09-07T19:24:31.614Z"
   },
   {
    "duration": 11,
    "start_time": "2023-09-07T19:34:49.387Z"
   },
   {
    "duration": 15,
    "start_time": "2023-09-07T19:35:38.797Z"
   },
   {
    "duration": 12,
    "start_time": "2023-09-07T19:36:09.147Z"
   },
   {
    "duration": 11,
    "start_time": "2023-09-07T19:36:32.134Z"
   },
   {
    "duration": 13,
    "start_time": "2023-09-07T19:36:55.106Z"
   },
   {
    "duration": 80824,
    "start_time": "2023-09-07T19:37:29.181Z"
   },
   {
    "duration": 9,
    "start_time": "2023-09-07T19:38:50.008Z"
   },
   {
    "duration": 4,
    "start_time": "2023-09-07T19:47:32.416Z"
   },
   {
    "duration": 7,
    "start_time": "2023-09-07T19:48:39.995Z"
   },
   {
    "duration": 5,
    "start_time": "2023-09-07T19:48:49.797Z"
   },
   {
    "duration": 166,
    "start_time": "2023-09-07T19:48:50.875Z"
   },
   {
    "duration": 4746,
    "start_time": "2023-09-07T20:01:52.337Z"
   },
   {
    "duration": 3152,
    "start_time": "2023-09-07T20:01:57.086Z"
   },
   {
    "duration": 1897,
    "start_time": "2023-09-07T20:02:00.240Z"
   },
   {
    "duration": 3,
    "start_time": "2023-09-07T20:02:02.139Z"
   },
   {
    "duration": 617,
    "start_time": "2023-09-07T20:02:02.144Z"
   },
   {
    "duration": 25,
    "start_time": "2023-09-07T20:02:02.763Z"
   },
   {
    "duration": 25,
    "start_time": "2023-09-07T20:02:02.792Z"
   },
   {
    "duration": 14,
    "start_time": "2023-09-07T20:02:02.819Z"
   },
   {
    "duration": 10,
    "start_time": "2023-09-07T20:02:02.834Z"
   },
   {
    "duration": 42,
    "start_time": "2023-09-07T20:02:02.848Z"
   },
   {
    "duration": 38,
    "start_time": "2023-09-07T20:02:02.897Z"
   },
   {
    "duration": 17,
    "start_time": "2023-09-07T20:02:02.937Z"
   },
   {
    "duration": 6,
    "start_time": "2023-09-07T20:02:02.956Z"
   },
   {
    "duration": 31,
    "start_time": "2023-09-07T20:02:02.963Z"
   },
   {
    "duration": 22,
    "start_time": "2023-09-07T20:02:02.996Z"
   },
   {
    "duration": 344,
    "start_time": "2023-09-07T20:02:03.020Z"
   },
   {
    "duration": 279,
    "start_time": "2023-09-07T20:02:03.368Z"
   },
   {
    "duration": 25,
    "start_time": "2023-09-07T20:02:03.649Z"
   },
   {
    "duration": 26,
    "start_time": "2023-09-07T20:02:03.680Z"
   },
   {
    "duration": 14,
    "start_time": "2023-09-07T20:02:03.708Z"
   },
   {
    "duration": 17,
    "start_time": "2023-09-07T20:02:03.723Z"
   },
   {
    "duration": 44,
    "start_time": "2023-09-07T20:02:03.742Z"
   },
   {
    "duration": 20,
    "start_time": "2023-09-07T20:02:03.795Z"
   },
   {
    "duration": 12,
    "start_time": "2023-09-07T20:02:03.817Z"
   },
   {
    "duration": 28,
    "start_time": "2023-09-07T20:02:03.831Z"
   },
   {
    "duration": 162,
    "start_time": "2023-09-07T20:02:03.861Z"
   },
   {
    "duration": 30,
    "start_time": "2023-09-07T20:02:04.025Z"
   },
   {
    "duration": 22,
    "start_time": "2023-09-07T20:02:04.061Z"
   },
   {
    "duration": 12,
    "start_time": "2023-09-07T20:02:04.085Z"
   },
   {
    "duration": 13,
    "start_time": "2023-09-07T20:02:04.102Z"
   },
   {
    "duration": 14,
    "start_time": "2023-09-07T20:02:04.121Z"
   },
   {
    "duration": 9,
    "start_time": "2023-09-07T20:02:04.140Z"
   },
   {
    "duration": 30,
    "start_time": "2023-09-07T20:02:04.151Z"
   },
   {
    "duration": 3705,
    "start_time": "2023-09-07T20:02:04.191Z"
   },
   {
    "duration": 1942,
    "start_time": "2023-09-07T20:02:07.905Z"
   },
   {
    "duration": 2557,
    "start_time": "2023-09-07T20:02:09.849Z"
   },
   {
    "duration": 578,
    "start_time": "2023-09-07T20:02:12.408Z"
   },
   {
    "duration": 1180,
    "start_time": "2023-09-07T20:02:12.991Z"
   },
   {
    "duration": 208,
    "start_time": "2023-09-07T20:02:14.173Z"
   },
   {
    "duration": 7,
    "start_time": "2023-09-07T20:02:14.386Z"
   },
   {
    "duration": 627,
    "start_time": "2023-09-07T20:02:14.399Z"
   },
   {
    "duration": 9,
    "start_time": "2023-09-07T20:02:15.032Z"
   },
   {
    "duration": 68,
    "start_time": "2023-09-07T20:02:15.043Z"
   },
   {
    "duration": 21,
    "start_time": "2023-09-07T20:02:15.113Z"
   },
   {
    "duration": 15,
    "start_time": "2023-09-07T20:02:15.136Z"
   },
   {
    "duration": 77,
    "start_time": "2023-09-07T20:02:15.153Z"
   },
   {
    "duration": 50,
    "start_time": "2023-09-07T20:02:15.232Z"
   },
   {
    "duration": 55,
    "start_time": "2023-09-07T20:02:15.292Z"
   },
   {
    "duration": 5,
    "start_time": "2023-09-07T20:02:15.349Z"
   },
   {
    "duration": 11,
    "start_time": "2023-09-07T20:02:15.355Z"
   },
   {
    "duration": 8500,
    "start_time": "2023-09-07T20:02:15.380Z"
   },
   {
    "duration": 5,
    "start_time": "2023-09-07T20:02:23.882Z"
   },
   {
    "duration": 37402,
    "start_time": "2023-09-07T20:02:23.889Z"
   },
   {
    "duration": 4,
    "start_time": "2023-09-07T20:03:01.293Z"
   },
   {
    "duration": 144836,
    "start_time": "2023-09-07T20:03:01.299Z"
   },
   {
    "duration": 4,
    "start_time": "2023-09-07T20:05:36.257Z"
   },
   {
    "duration": 6,
    "start_time": "2023-09-07T20:05:50.045Z"
   },
   {
    "duration": 11,
    "start_time": "2023-09-07T20:06:50.115Z"
   },
   {
    "duration": 7,
    "start_time": "2023-09-07T20:06:58.016Z"
   },
   {
    "duration": 161,
    "start_time": "2023-09-07T20:12:35.353Z"
   },
   {
    "duration": 19,
    "start_time": "2023-09-07T20:12:43.925Z"
   },
   {
    "duration": 15,
    "start_time": "2023-09-07T20:13:26.408Z"
   },
   {
    "duration": 14,
    "start_time": "2023-09-07T20:13:42.511Z"
   },
   {
    "duration": 15,
    "start_time": "2023-09-07T20:13:49.016Z"
   },
   {
    "duration": 12,
    "start_time": "2023-09-07T20:13:55.936Z"
   },
   {
    "duration": 15,
    "start_time": "2023-09-07T20:13:59.820Z"
   },
   {
    "duration": 12,
    "start_time": "2023-09-07T20:14:03.740Z"
   },
   {
    "duration": 14,
    "start_time": "2023-09-07T20:14:08.428Z"
   },
   {
    "duration": 20,
    "start_time": "2023-09-07T20:14:10.759Z"
   },
   {
    "duration": 21,
    "start_time": "2023-09-07T20:14:12.865Z"
   },
   {
    "duration": 1237,
    "start_time": "2023-09-07T20:14:23.517Z"
   },
   {
    "duration": 3834,
    "start_time": "2023-09-07T20:14:36.521Z"
   },
   {
    "duration": 11,
    "start_time": "2023-09-07T20:14:47.417Z"
   },
   {
    "duration": 90588,
    "start_time": "2023-09-07T20:15:12.951Z"
   },
   {
    "duration": 4,
    "start_time": "2023-09-07T20:16:57.062Z"
   },
   {
    "duration": 12,
    "start_time": "2023-09-07T20:16:59.617Z"
   },
   {
    "duration": 8,
    "start_time": "2023-09-07T20:18:09.146Z"
   },
   {
    "duration": 5,
    "start_time": "2023-09-07T20:18:37.320Z"
   },
   {
    "duration": 187,
    "start_time": "2023-09-07T20:18:38.522Z"
   },
   {
    "duration": 15,
    "start_time": "2023-09-07T20:25:10.344Z"
   },
   {
    "duration": 174,
    "start_time": "2023-09-07T20:26:31.035Z"
   },
   {
    "duration": 258,
    "start_time": "2023-09-07T20:26:45.816Z"
   },
   {
    "duration": 274,
    "start_time": "2023-09-07T20:27:15.851Z"
   },
   {
    "duration": 2751,
    "start_time": "2023-09-07T20:29:56.801Z"
   },
   {
    "duration": 2993,
    "start_time": "2023-09-07T20:29:59.555Z"
   },
   {
    "duration": 1924,
    "start_time": "2023-09-07T20:30:02.551Z"
   },
   {
    "duration": 18,
    "start_time": "2023-09-07T20:30:04.485Z"
   },
   {
    "duration": 124,
    "start_time": "2023-09-07T20:30:04.516Z"
   },
   {
    "duration": 15,
    "start_time": "2023-09-07T20:30:04.642Z"
   },
   {
    "duration": 88,
    "start_time": "2023-09-07T20:30:04.658Z"
   },
   {
    "duration": 12,
    "start_time": "2023-09-07T20:30:04.748Z"
   },
   {
    "duration": 16,
    "start_time": "2023-09-07T20:30:04.761Z"
   },
   {
    "duration": 29,
    "start_time": "2023-09-07T20:30:04.781Z"
   },
   {
    "duration": 15,
    "start_time": "2023-09-07T20:30:04.816Z"
   },
   {
    "duration": 29,
    "start_time": "2023-09-07T20:30:04.833Z"
   },
   {
    "duration": 21,
    "start_time": "2023-09-07T20:30:04.867Z"
   },
   {
    "duration": 25,
    "start_time": "2023-09-07T20:30:04.890Z"
   },
   {
    "duration": 29,
    "start_time": "2023-09-07T20:30:04.917Z"
   },
   {
    "duration": 295,
    "start_time": "2023-09-07T20:30:04.947Z"
   },
   {
    "duration": 281,
    "start_time": "2023-09-07T20:30:05.244Z"
   },
   {
    "duration": 11,
    "start_time": "2023-09-07T20:30:05.526Z"
   },
   {
    "duration": 33,
    "start_time": "2023-09-07T20:30:05.538Z"
   },
   {
    "duration": 34,
    "start_time": "2023-09-07T20:30:05.573Z"
   },
   {
    "duration": 12,
    "start_time": "2023-09-07T20:30:05.614Z"
   },
   {
    "duration": 20,
    "start_time": "2023-09-07T20:30:05.627Z"
   },
   {
    "duration": 33,
    "start_time": "2023-09-07T20:30:05.649Z"
   },
   {
    "duration": 21,
    "start_time": "2023-09-07T20:30:05.684Z"
   },
   {
    "duration": 28,
    "start_time": "2023-09-07T20:30:05.708Z"
   },
   {
    "duration": 142,
    "start_time": "2023-09-07T20:30:05.738Z"
   },
   {
    "duration": 28,
    "start_time": "2023-09-07T20:30:05.882Z"
   },
   {
    "duration": 18,
    "start_time": "2023-09-07T20:30:05.914Z"
   },
   {
    "duration": 8,
    "start_time": "2023-09-07T20:30:05.934Z"
   },
   {
    "duration": 18,
    "start_time": "2023-09-07T20:30:05.944Z"
   },
   {
    "duration": 20,
    "start_time": "2023-09-07T20:30:05.964Z"
   },
   {
    "duration": 8,
    "start_time": "2023-09-07T20:30:05.989Z"
   },
   {
    "duration": 26,
    "start_time": "2023-09-07T20:30:05.999Z"
   },
   {
    "duration": 3074,
    "start_time": "2023-09-07T20:30:06.027Z"
   },
   {
    "duration": 1725,
    "start_time": "2023-09-07T20:30:09.103Z"
   },
   {
    "duration": 2458,
    "start_time": "2023-09-07T20:30:10.830Z"
   },
   {
    "duration": 446,
    "start_time": "2023-09-07T20:30:13.292Z"
   },
   {
    "duration": 1176,
    "start_time": "2023-09-07T20:30:13.739Z"
   },
   {
    "duration": 183,
    "start_time": "2023-09-07T20:30:14.916Z"
   },
   {
    "duration": 7,
    "start_time": "2023-09-07T20:30:15.101Z"
   },
   {
    "duration": 526,
    "start_time": "2023-09-07T20:30:15.112Z"
   },
   {
    "duration": 7,
    "start_time": "2023-09-07T20:30:15.639Z"
   },
   {
    "duration": 25,
    "start_time": "2023-09-07T20:30:15.648Z"
   },
   {
    "duration": 28,
    "start_time": "2023-09-07T20:30:15.675Z"
   },
   {
    "duration": 7,
    "start_time": "2023-09-07T20:30:15.706Z"
   },
   {
    "duration": 24,
    "start_time": "2023-09-07T20:30:15.714Z"
   },
   {
    "duration": 22,
    "start_time": "2023-09-07T20:30:15.739Z"
   },
   {
    "duration": 50,
    "start_time": "2023-09-07T20:30:15.763Z"
   },
   {
    "duration": 4,
    "start_time": "2023-09-07T20:30:15.815Z"
   },
   {
    "duration": 11,
    "start_time": "2023-09-07T20:30:15.821Z"
   },
   {
    "duration": 8080,
    "start_time": "2023-09-07T20:30:15.834Z"
   },
   {
    "duration": 6,
    "start_time": "2023-09-07T20:30:23.923Z"
   },
   {
    "duration": 34429,
    "start_time": "2023-09-07T20:30:23.931Z"
   },
   {
    "duration": 17,
    "start_time": "2023-09-07T20:30:58.362Z"
   },
   {
    "duration": 112744,
    "start_time": "2023-09-07T20:30:58.382Z"
   },
   {
    "duration": 78836,
    "start_time": "2023-09-07T20:32:51.128Z"
   },
   {
    "duration": 7,
    "start_time": "2023-09-07T20:34:09.966Z"
   },
   {
    "duration": 13,
    "start_time": "2023-09-07T20:34:09.978Z"
   },
   {
    "duration": 19,
    "start_time": "2023-09-07T20:34:09.993Z"
   },
   {
    "duration": 21,
    "start_time": "2023-09-07T20:34:10.014Z"
   },
   {
    "duration": 181,
    "start_time": "2023-09-07T20:34:10.037Z"
   },
   {
    "duration": 163,
    "start_time": "2023-09-07T20:34:10.220Z"
   },
   {
    "duration": 238,
    "start_time": "2023-09-07T20:34:10.390Z"
   },
   {
    "duration": 8,
    "start_time": "2023-09-07T20:38:17.392Z"
   },
   {
    "duration": 17,
    "start_time": "2023-09-07T20:38:30.399Z"
   },
   {
    "duration": 12,
    "start_time": "2023-09-07T20:38:39.340Z"
   },
   {
    "duration": 12,
    "start_time": "2023-09-07T20:38:42.420Z"
   },
   {
    "duration": 8,
    "start_time": "2023-09-07T20:38:44.326Z"
   },
   {
    "duration": 7,
    "start_time": "2023-09-07T20:38:48.116Z"
   },
   {
    "duration": 14,
    "start_time": "2023-09-07T20:38:51.169Z"
   },
   {
    "duration": 30,
    "start_time": "2023-09-07T20:38:53.252Z"
   },
   {
    "duration": 4,
    "start_time": "2023-09-07T20:39:00.114Z"
   },
   {
    "duration": 91160,
    "start_time": "2023-09-07T20:39:08.928Z"
   },
   {
    "duration": 7,
    "start_time": "2023-09-07T20:41:37.268Z"
   },
   {
    "duration": 361098,
    "start_time": "2023-09-07T20:42:08.513Z"
   },
   {
    "duration": 4,
    "start_time": "2023-09-07T20:52:01.336Z"
   },
   {
    "duration": 7,
    "start_time": "2023-09-07T20:54:07.848Z"
   },
   {
    "duration": 15,
    "start_time": "2023-09-07T20:54:09.112Z"
   },
   {
    "duration": 659,
    "start_time": "2023-09-07T20:54:13.307Z"
   },
   {
    "duration": 17,
    "start_time": "2023-09-07T20:54:23.798Z"
   },
   {
    "duration": 8,
    "start_time": "2023-09-07T20:54:25.313Z"
   },
   {
    "duration": 38,
    "start_time": "2023-09-07T20:54:27.052Z"
   },
   {
    "duration": 18,
    "start_time": "2023-09-07T20:54:29.156Z"
   },
   {
    "duration": 30,
    "start_time": "2023-09-07T20:54:31.010Z"
   },
   {
    "duration": 138198,
    "start_time": "2023-09-07T20:54:51.456Z"
   },
   {
    "duration": 16,
    "start_time": "2023-09-07T21:07:02.865Z"
   },
   {
    "duration": 10,
    "start_time": "2023-09-07T21:07:09.009Z"
   },
   {
    "duration": 21,
    "start_time": "2023-09-07T21:07:38.964Z"
   },
   {
    "duration": 7,
    "start_time": "2023-09-07T21:07:41.309Z"
   },
   {
    "duration": 17,
    "start_time": "2023-09-07T21:07:41.495Z"
   },
   {
    "duration": 38,
    "start_time": "2023-09-07T21:07:41.668Z"
   },
   {
    "duration": 8,
    "start_time": "2023-09-07T21:07:42.020Z"
   },
   {
    "duration": 19,
    "start_time": "2023-09-07T21:07:42.512Z"
   },
   {
    "duration": 15,
    "start_time": "2023-09-07T21:07:42.714Z"
   },
   {
    "duration": 26,
    "start_time": "2023-09-07T21:07:43.220Z"
   },
   {
    "duration": 5,
    "start_time": "2023-09-07T21:07:43.635Z"
   },
   {
    "duration": 552,
    "start_time": "2023-09-07T21:08:06.716Z"
   },
   {
    "duration": 8403,
    "start_time": "2023-09-07T21:08:15.997Z"
   },
   {
    "duration": 2989,
    "start_time": "2023-09-07T21:08:39.716Z"
   },
   {
    "duration": 3034,
    "start_time": "2023-09-07T21:08:42.708Z"
   },
   {
    "duration": 1979,
    "start_time": "2023-09-07T21:08:45.745Z"
   },
   {
    "duration": 3,
    "start_time": "2023-09-07T21:08:47.727Z"
   },
   {
    "duration": 147,
    "start_time": "2023-09-07T21:08:47.732Z"
   },
   {
    "duration": 26,
    "start_time": "2023-09-07T21:08:47.885Z"
   },
   {
    "duration": 22,
    "start_time": "2023-09-07T21:08:47.915Z"
   },
   {
    "duration": 10,
    "start_time": "2023-09-07T21:08:47.939Z"
   },
   {
    "duration": 18,
    "start_time": "2023-09-07T21:08:47.952Z"
   },
   {
    "duration": 28,
    "start_time": "2023-09-07T21:08:47.978Z"
   },
   {
    "duration": 17,
    "start_time": "2023-09-07T21:08:48.009Z"
   },
   {
    "duration": 14,
    "start_time": "2023-09-07T21:08:48.028Z"
   },
   {
    "duration": 31,
    "start_time": "2023-09-07T21:08:48.044Z"
   },
   {
    "duration": 19,
    "start_time": "2023-09-07T21:08:48.084Z"
   },
   {
    "duration": 19,
    "start_time": "2023-09-07T21:08:48.111Z"
   },
   {
    "duration": 379,
    "start_time": "2023-09-07T21:08:48.132Z"
   },
   {
    "duration": 346,
    "start_time": "2023-09-07T21:08:48.516Z"
   },
   {
    "duration": 26,
    "start_time": "2023-09-07T21:08:48.864Z"
   },
   {
    "duration": 36,
    "start_time": "2023-09-07T21:08:48.893Z"
   },
   {
    "duration": 16,
    "start_time": "2023-09-07T21:08:48.931Z"
   },
   {
    "duration": 13,
    "start_time": "2023-09-07T21:08:48.949Z"
   },
   {
    "duration": 33,
    "start_time": "2023-09-07T21:08:48.964Z"
   },
   {
    "duration": 10,
    "start_time": "2023-09-07T21:08:49.007Z"
   },
   {
    "duration": 44,
    "start_time": "2023-09-07T21:08:49.018Z"
   },
   {
    "duration": 28,
    "start_time": "2023-09-07T21:08:49.065Z"
   },
   {
    "duration": 150,
    "start_time": "2023-09-07T21:08:49.095Z"
   },
   {
    "duration": 41,
    "start_time": "2023-09-07T21:08:49.247Z"
   },
   {
    "duration": 20,
    "start_time": "2023-09-07T21:08:49.300Z"
   },
   {
    "duration": 9,
    "start_time": "2023-09-07T21:08:49.322Z"
   },
   {
    "duration": 13,
    "start_time": "2023-09-07T21:08:49.333Z"
   },
   {
    "duration": 49,
    "start_time": "2023-09-07T21:08:49.348Z"
   },
   {
    "duration": 10,
    "start_time": "2023-09-07T21:08:49.405Z"
   },
   {
    "duration": 23,
    "start_time": "2023-09-07T21:08:49.417Z"
   },
   {
    "duration": 3680,
    "start_time": "2023-09-07T21:08:49.442Z"
   },
   {
    "duration": 2011,
    "start_time": "2023-09-07T21:08:53.124Z"
   },
   {
    "duration": 2595,
    "start_time": "2023-09-07T21:08:55.138Z"
   },
   {
    "duration": 455,
    "start_time": "2023-09-07T21:08:57.736Z"
   },
   {
    "duration": 1058,
    "start_time": "2023-09-07T21:08:58.193Z"
   },
   {
    "duration": 230,
    "start_time": "2023-09-07T21:08:59.253Z"
   },
   {
    "duration": 11,
    "start_time": "2023-09-07T21:08:59.489Z"
   },
   {
    "duration": 522,
    "start_time": "2023-09-07T21:08:59.502Z"
   },
   {
    "duration": 9,
    "start_time": "2023-09-07T21:09:00.027Z"
   },
   {
    "duration": 56,
    "start_time": "2023-09-07T21:09:00.039Z"
   },
   {
    "duration": 24,
    "start_time": "2023-09-07T21:09:00.102Z"
   },
   {
    "duration": 64,
    "start_time": "2023-09-07T21:09:00.129Z"
   },
   {
    "duration": 61,
    "start_time": "2023-09-07T21:09:00.195Z"
   },
   {
    "duration": 27,
    "start_time": "2023-09-07T21:09:00.258Z"
   },
   {
    "duration": 53,
    "start_time": "2023-09-07T21:09:00.287Z"
   },
   {
    "duration": 10,
    "start_time": "2023-09-07T21:09:00.343Z"
   },
   {
    "duration": 35,
    "start_time": "2023-09-07T21:09:00.356Z"
   },
   {
    "duration": 8169,
    "start_time": "2023-09-07T21:09:00.397Z"
   },
   {
    "duration": 13,
    "start_time": "2023-09-07T21:09:08.568Z"
   },
   {
    "duration": 35729,
    "start_time": "2023-09-07T21:09:08.583Z"
   },
   {
    "duration": 8,
    "start_time": "2023-09-07T21:09:44.314Z"
   },
   {
    "duration": 128610,
    "start_time": "2023-09-07T21:09:44.324Z"
   },
   {
    "duration": 141397,
    "start_time": "2023-09-07T21:11:52.936Z"
   },
   {
    "duration": 5,
    "start_time": "2023-09-07T21:14:14.334Z"
   },
   {
    "duration": 21,
    "start_time": "2023-09-07T21:14:14.341Z"
   },
   {
    "duration": 21,
    "start_time": "2023-09-07T21:14:14.364Z"
   },
   {
    "duration": 31,
    "start_time": "2023-09-07T21:14:14.387Z"
   },
   {
    "duration": 30,
    "start_time": "2023-09-07T21:14:14.420Z"
   },
   {
    "duration": 185,
    "start_time": "2023-09-07T21:14:14.452Z"
   },
   {
    "duration": 171,
    "start_time": "2023-09-07T21:14:14.639Z"
   },
   {
    "duration": 281,
    "start_time": "2023-09-07T21:14:14.812Z"
   },
   {
    "duration": 71,
    "start_time": "2023-09-08T13:09:22.898Z"
   },
   {
    "duration": 4265,
    "start_time": "2023-09-08T13:09:30.338Z"
   },
   {
    "duration": 2726,
    "start_time": "2023-09-08T13:09:34.605Z"
   },
   {
    "duration": 1736,
    "start_time": "2023-09-08T13:09:37.333Z"
   },
   {
    "duration": 2,
    "start_time": "2023-09-08T13:09:39.072Z"
   },
   {
    "duration": 393,
    "start_time": "2023-09-08T13:09:39.076Z"
   },
   {
    "duration": 15,
    "start_time": "2023-09-08T13:09:39.470Z"
   },
   {
    "duration": 38,
    "start_time": "2023-09-08T13:09:39.486Z"
   },
   {
    "duration": 17,
    "start_time": "2023-09-08T13:09:39.526Z"
   },
   {
    "duration": 12,
    "start_time": "2023-09-08T13:09:39.545Z"
   },
   {
    "duration": 23,
    "start_time": "2023-09-08T13:09:39.560Z"
   },
   {
    "duration": 13,
    "start_time": "2023-09-08T13:09:39.585Z"
   },
   {
    "duration": 49,
    "start_time": "2023-09-08T13:09:39.601Z"
   },
   {
    "duration": 48,
    "start_time": "2023-09-08T13:09:39.651Z"
   },
   {
    "duration": 54,
    "start_time": "2023-09-08T13:09:39.701Z"
   },
   {
    "duration": 54,
    "start_time": "2023-09-08T13:09:39.758Z"
   },
   {
    "duration": 274,
    "start_time": "2023-09-08T13:09:39.817Z"
   },
   {
    "duration": 280,
    "start_time": "2023-09-08T13:09:40.093Z"
   },
   {
    "duration": 11,
    "start_time": "2023-09-08T13:09:40.375Z"
   },
   {
    "duration": 45,
    "start_time": "2023-09-08T13:09:40.388Z"
   },
   {
    "duration": 44,
    "start_time": "2023-09-08T13:09:40.435Z"
   },
   {
    "duration": 49,
    "start_time": "2023-09-08T13:09:40.480Z"
   },
   {
    "duration": 36,
    "start_time": "2023-09-08T13:09:40.531Z"
   },
   {
    "duration": 27,
    "start_time": "2023-09-08T13:09:40.569Z"
   },
   {
    "duration": 41,
    "start_time": "2023-09-08T13:09:40.598Z"
   },
   {
    "duration": 38,
    "start_time": "2023-09-08T13:09:40.641Z"
   },
   {
    "duration": 114,
    "start_time": "2023-09-08T13:09:40.681Z"
   },
   {
    "duration": 35,
    "start_time": "2023-09-08T13:09:40.805Z"
   },
   {
    "duration": 15,
    "start_time": "2023-09-08T13:09:40.844Z"
   },
   {
    "duration": 26,
    "start_time": "2023-09-08T13:09:40.861Z"
   },
   {
    "duration": 48,
    "start_time": "2023-09-08T13:09:40.889Z"
   },
   {
    "duration": 23,
    "start_time": "2023-09-08T13:09:40.940Z"
   },
   {
    "duration": 50,
    "start_time": "2023-09-08T13:09:40.965Z"
   },
   {
    "duration": 50,
    "start_time": "2023-09-08T13:09:41.018Z"
   },
   {
    "duration": 3058,
    "start_time": "2023-09-08T13:09:41.070Z"
   },
   {
    "duration": 1776,
    "start_time": "2023-09-08T13:09:44.131Z"
   },
   {
    "duration": 2352,
    "start_time": "2023-09-08T13:09:45.909Z"
   },
   {
    "duration": 423,
    "start_time": "2023-09-08T13:09:48.262Z"
   },
   {
    "duration": 1046,
    "start_time": "2023-09-08T13:09:48.687Z"
   },
   {
    "duration": 163,
    "start_time": "2023-09-08T13:09:49.735Z"
   },
   {
    "duration": 19,
    "start_time": "2023-09-08T13:09:49.900Z"
   },
   {
    "duration": 503,
    "start_time": "2023-09-08T13:09:49.926Z"
   },
   {
    "duration": 5,
    "start_time": "2023-09-08T13:09:50.431Z"
   },
   {
    "duration": 36,
    "start_time": "2023-09-08T13:09:50.438Z"
   },
   {
    "duration": 11,
    "start_time": "2023-09-08T13:09:50.475Z"
   },
   {
    "duration": 16,
    "start_time": "2023-09-08T13:09:50.487Z"
   },
   {
    "duration": 34,
    "start_time": "2023-09-08T13:09:50.507Z"
   },
   {
    "duration": 17,
    "start_time": "2023-09-08T13:09:50.543Z"
   },
   {
    "duration": 27,
    "start_time": "2023-09-08T13:09:50.562Z"
   },
   {
    "duration": 27,
    "start_time": "2023-09-08T13:09:50.591Z"
   },
   {
    "duration": 12,
    "start_time": "2023-09-08T13:09:50.622Z"
   },
   {
    "duration": 7918,
    "start_time": "2023-09-08T13:09:50.636Z"
   },
   {
    "duration": 5,
    "start_time": "2023-09-08T13:09:58.556Z"
   },
   {
    "duration": 33712,
    "start_time": "2023-09-08T13:09:58.563Z"
   },
   {
    "duration": 6,
    "start_time": "2023-09-08T13:10:32.277Z"
   },
   {
    "duration": 116044,
    "start_time": "2023-09-08T13:10:32.284Z"
   },
   {
    "duration": 128263,
    "start_time": "2023-09-08T13:12:28.330Z"
   },
   {
    "duration": 4,
    "start_time": "2023-09-08T13:14:36.595Z"
   },
   {
    "duration": 87,
    "start_time": "2023-09-08T13:14:36.605Z"
   },
   {
    "duration": 45,
    "start_time": "2023-09-08T13:14:36.694Z"
   },
   {
    "duration": 35,
    "start_time": "2023-09-08T13:14:36.741Z"
   },
   {
    "duration": 210,
    "start_time": "2023-09-08T13:14:36.778Z"
   },
   {
    "duration": 172,
    "start_time": "2023-09-08T13:14:36.990Z"
   },
   {
    "duration": 269,
    "start_time": "2023-09-08T13:14:37.164Z"
   }
  ],
  "colab": {
   "provenance": [],
   "toc_visible": true
  },
  "kernelspec": {
   "display_name": "Python 3 (ipykernel)",
   "language": "python",
   "name": "python3"
  },
  "language_info": {
   "codemirror_mode": {
    "name": "ipython",
    "version": 3
   },
   "file_extension": ".py",
   "mimetype": "text/x-python",
   "name": "python",
   "nbconvert_exporter": "python",
   "pygments_lexer": "ipython3",
   "version": "3.9.5"
  },
  "toc": {
   "base_numbering": 1,
   "nav_menu": {},
   "number_sections": true,
   "sideBar": true,
   "skip_h1_title": true,
   "title_cell": "Table of Contents",
   "title_sidebar": "Contents",
   "toc_cell": false,
   "toc_position": {
    "height": "calc(100% - 180px)",
    "left": "10px",
    "top": "150px",
    "width": "289px"
   },
   "toc_section_display": true,
   "toc_window_display": true
  }
 },
 "nbformat": 4,
 "nbformat_minor": 1
}
