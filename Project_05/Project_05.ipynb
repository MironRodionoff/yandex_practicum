{
 "cells": [
  {
   "cell_type": "markdown",
   "metadata": {},
   "source": [
    "# Рекомендация тарифов"
   ]
  },
  {
   "cell_type": "markdown",
   "metadata": {},
   "source": [
    "В нашем распоряжении данные о поведении клиентов, которые уже перешли на эти тарифы (из проекта курса «Статистический анализ данных»). Нужно построить модель для задачи классификации, которая выберет подходящий тариф. Предобработка данных не понадобится — мы её уже сделали.\n",
    "\n",
    "Построим модель с максимально большим значением *accuracy*. "
   ]
  },
  {
   "cell_type": "markdown",
   "metadata": {},
   "source": [
    "## Откройте и изучите файл"
   ]
  },
  {
   "cell_type": "code",
   "execution_count": 138,
   "metadata": {},
   "outputs": [],
   "source": [
    "import pandas as pd\n",
    "from seaborn import heatmap\n",
    "import matplotlib.pyplot as plt\n",
    "import numpy as np\n",
    "\n",
    "from sklearn.tree import DecisionTreeClassifier\n",
    "from sklearn.ensemble import RandomForestClassifier\n",
    "from sklearn.linear_model import LogisticRegression\n",
    "from sklearn import tree\n",
    "from sklearn.dummy import DummyClassifier\n",
    "from sklearn.metrics import accuracy_score\n",
    "from sklearn.model_selection import train_test_split, GridSearchCV\n",
    "from sklearn.metrics import confusion_matrix, ConfusionMatrixDisplay\n",
    "from catboost import CatBoostClassifier"
   ]
  },
  {
   "cell_type": "code",
   "execution_count": 2,
   "metadata": {},
   "outputs": [
    {
     "data": {
      "text/html": [
       "<div>\n",
       "<style scoped>\n",
       "    .dataframe tbody tr th:only-of-type {\n",
       "        vertical-align: middle;\n",
       "    }\n",
       "\n",
       "    .dataframe tbody tr th {\n",
       "        vertical-align: top;\n",
       "    }\n",
       "\n",
       "    .dataframe thead th {\n",
       "        text-align: right;\n",
       "    }\n",
       "</style>\n",
       "<table border=\"1\" class=\"dataframe\">\n",
       "  <thead>\n",
       "    <tr style=\"text-align: right;\">\n",
       "      <th></th>\n",
       "      <th>calls</th>\n",
       "      <th>minutes</th>\n",
       "      <th>messages</th>\n",
       "      <th>mb_used</th>\n",
       "      <th>is_ultra</th>\n",
       "    </tr>\n",
       "  </thead>\n",
       "  <tbody>\n",
       "    <tr>\n",
       "      <th>0</th>\n",
       "      <td>40.0</td>\n",
       "      <td>311.90</td>\n",
       "      <td>83.0</td>\n",
       "      <td>19915.42</td>\n",
       "      <td>0</td>\n",
       "    </tr>\n",
       "    <tr>\n",
       "      <th>1</th>\n",
       "      <td>85.0</td>\n",
       "      <td>516.75</td>\n",
       "      <td>56.0</td>\n",
       "      <td>22696.96</td>\n",
       "      <td>0</td>\n",
       "    </tr>\n",
       "    <tr>\n",
       "      <th>2</th>\n",
       "      <td>77.0</td>\n",
       "      <td>467.66</td>\n",
       "      <td>86.0</td>\n",
       "      <td>21060.45</td>\n",
       "      <td>0</td>\n",
       "    </tr>\n",
       "    <tr>\n",
       "      <th>3</th>\n",
       "      <td>106.0</td>\n",
       "      <td>745.53</td>\n",
       "      <td>81.0</td>\n",
       "      <td>8437.39</td>\n",
       "      <td>1</td>\n",
       "    </tr>\n",
       "    <tr>\n",
       "      <th>4</th>\n",
       "      <td>66.0</td>\n",
       "      <td>418.74</td>\n",
       "      <td>1.0</td>\n",
       "      <td>14502.75</td>\n",
       "      <td>0</td>\n",
       "    </tr>\n",
       "  </tbody>\n",
       "</table>\n",
       "</div>"
      ],
      "text/plain": [
       "   calls  minutes  messages   mb_used  is_ultra\n",
       "0   40.0   311.90      83.0  19915.42         0\n",
       "1   85.0   516.75      56.0  22696.96         0\n",
       "2   77.0   467.66      86.0  21060.45         0\n",
       "3  106.0   745.53      81.0   8437.39         1\n",
       "4   66.0   418.74       1.0  14502.75         0"
      ]
     },
     "execution_count": 2,
     "metadata": {},
     "output_type": "execute_result"
    }
   ],
   "source": [
    "df = pd.read_csv('/datasets/users_behavior.csv')\n",
    "df.head()"
   ]
  },
  {
   "cell_type": "code",
   "execution_count": 3,
   "metadata": {},
   "outputs": [
    {
     "name": "stdout",
     "output_type": "stream",
     "text": [
      "<class 'pandas.core.frame.DataFrame'>\n",
      "RangeIndex: 3214 entries, 0 to 3213\n",
      "Data columns (total 5 columns):\n",
      " #   Column    Non-Null Count  Dtype  \n",
      "---  ------    --------------  -----  \n",
      " 0   calls     3214 non-null   float64\n",
      " 1   minutes   3214 non-null   float64\n",
      " 2   messages  3214 non-null   float64\n",
      " 3   mb_used   3214 non-null   float64\n",
      " 4   is_ultra  3214 non-null   int64  \n",
      "dtypes: float64(4), int64(1)\n",
      "memory usage: 125.7 KB\n"
     ]
    }
   ],
   "source": [
    "df.info()"
   ]
  },
  {
   "cell_type": "code",
   "execution_count": 4,
   "metadata": {},
   "outputs": [
    {
     "data": {
      "text/plain": [
       "0    2229\n",
       "1     985\n",
       "Name: is_ultra, dtype: int64"
      ]
     },
     "execution_count": 4,
     "metadata": {},
     "output_type": "execute_result"
    }
   ],
   "source": [
    "df['is_ultra'].value_counts()"
   ]
  },
  {
   "cell_type": "code",
   "execution_count": 5,
   "metadata": {},
   "outputs": [
    {
     "data": {
      "text/html": [
       "<div>\n",
       "<style scoped>\n",
       "    .dataframe tbody tr th:only-of-type {\n",
       "        vertical-align: middle;\n",
       "    }\n",
       "\n",
       "    .dataframe tbody tr th {\n",
       "        vertical-align: top;\n",
       "    }\n",
       "\n",
       "    .dataframe thead th {\n",
       "        text-align: right;\n",
       "    }\n",
       "</style>\n",
       "<table border=\"1\" class=\"dataframe\">\n",
       "  <thead>\n",
       "    <tr style=\"text-align: right;\">\n",
       "      <th></th>\n",
       "      <th>calls</th>\n",
       "      <th>minutes</th>\n",
       "      <th>messages</th>\n",
       "      <th>mb_used</th>\n",
       "      <th>is_ultra</th>\n",
       "    </tr>\n",
       "  </thead>\n",
       "  <tbody>\n",
       "    <tr>\n",
       "      <th>calls</th>\n",
       "      <td>1.000000</td>\n",
       "      <td>0.982083</td>\n",
       "      <td>0.177385</td>\n",
       "      <td>0.286442</td>\n",
       "      <td>0.207122</td>\n",
       "    </tr>\n",
       "    <tr>\n",
       "      <th>minutes</th>\n",
       "      <td>0.982083</td>\n",
       "      <td>1.000000</td>\n",
       "      <td>0.173110</td>\n",
       "      <td>0.280967</td>\n",
       "      <td>0.206955</td>\n",
       "    </tr>\n",
       "    <tr>\n",
       "      <th>messages</th>\n",
       "      <td>0.177385</td>\n",
       "      <td>0.173110</td>\n",
       "      <td>1.000000</td>\n",
       "      <td>0.195721</td>\n",
       "      <td>0.203830</td>\n",
       "    </tr>\n",
       "    <tr>\n",
       "      <th>mb_used</th>\n",
       "      <td>0.286442</td>\n",
       "      <td>0.280967</td>\n",
       "      <td>0.195721</td>\n",
       "      <td>1.000000</td>\n",
       "      <td>0.198568</td>\n",
       "    </tr>\n",
       "    <tr>\n",
       "      <th>is_ultra</th>\n",
       "      <td>0.207122</td>\n",
       "      <td>0.206955</td>\n",
       "      <td>0.203830</td>\n",
       "      <td>0.198568</td>\n",
       "      <td>1.000000</td>\n",
       "    </tr>\n",
       "  </tbody>\n",
       "</table>\n",
       "</div>"
      ],
      "text/plain": [
       "             calls   minutes  messages   mb_used  is_ultra\n",
       "calls     1.000000  0.982083  0.177385  0.286442  0.207122\n",
       "minutes   0.982083  1.000000  0.173110  0.280967  0.206955\n",
       "messages  0.177385  0.173110  1.000000  0.195721  0.203830\n",
       "mb_used   0.286442  0.280967  0.195721  1.000000  0.198568\n",
       "is_ultra  0.207122  0.206955  0.203830  0.198568  1.000000"
      ]
     },
     "execution_count": 5,
     "metadata": {},
     "output_type": "execute_result"
    }
   ],
   "source": [
    "df.corr()"
   ]
  },
  {
   "cell_type": "code",
   "execution_count": 6,
   "metadata": {},
   "outputs": [
    {
     "data": {
      "text/plain": [
       "<AxesSubplot:>"
      ]
     },
     "execution_count": 6,
     "metadata": {},
     "output_type": "execute_result"
    },
    {
     "data": {
      "image/png": "[encoded data removed]",
      "text/plain": [
       "<Figure size 432x288 with 2 Axes>"
      ]
     },
     "metadata": {
      "needs_background": "light"
     },
     "output_type": "display_data"
    }
   ],
   "source": [
    "heatmap(df.corr())"
   ]
  },
  {
   "cell_type": "markdown",
   "metadata": {},
   "source": [
    "*Данные чистые, без пропусков.  \n",
    "Распределение по тарифам примерно 2:1 (Смарт - 2, Ультра - 1). Значит данные нужно стратифицировать при разделении.    \n",
    "Корреляция тарифа со всеми критериями одинаково слабая - порядка 20%. Это хорошо*"
   ]
  },
  {
   "cell_type": "code",
   "execution_count": 7,
   "metadata": {},
   "outputs": [],
   "source": [
    "features = df.drop('is_ultra', axis=1)\n",
    "target = df['is_ultra']"
   ]
  },
  {
   "cell_type": "markdown",
   "metadata": {},
   "source": [
    "## Разбейте данные на выборки"
   ]
  },
  {
   "cell_type": "code",
   "execution_count": 8,
   "metadata": {},
   "outputs": [],
   "source": [
    "train_features, temp_features, train_target, temp_target = train_test_split(features, target, test_size=0.4,\n",
    "                                                                            random_state=12345, stratify=target)\n",
    "valid_features, test_features, valid_target, test_target = train_test_split(temp_features, temp_target, test_size=0.5, \n",
    "                                                                            random_state=12345, stratify=temp_target)"
   ]
  },
  {
   "cell_type": "code",
   "execution_count": 9,
   "metadata": {},
   "outputs": [
    {
     "name": "stdout",
     "output_type": "stream",
     "text": [
      "(1928, 4) (1928,)\n",
      "(643, 4) (643,)\n",
      "(643, 4) (643,)\n"
     ]
    }
   ],
   "source": [
    "print(train_features.shape, train_target.shape)\n",
    "print(valid_features.shape, valid_target.shape)\n",
    "print(test_features.shape, test_target.shape)"
   ]
  },
  {
   "cell_type": "markdown",
   "metadata": {},
   "source": [
    "## Исследуйте модели"
   ]
  },
  {
   "cell_type": "markdown",
   "metadata": {},
   "source": [
    "Поскольку имеем дело с задачей не регрессии, а классификации (выбор есть только между двумя тарифами) применим три модели - Дерево решений, Случайный лес и Логистическую регрессию."
   ]
  },
  {
   "cell_type": "markdown",
   "metadata": {},
   "source": [
    "### Дерево решений"
   ]
  },
  {
   "cell_type": "code",
   "execution_count": 37,
   "metadata": {},
   "outputs": [
    {
     "name": "stdout",
     "output_type": "stream",
     "text": [
      "Точность модели на валидационной выборке: 0.80248833592535\n"
     ]
    },
    {
     "data": {
      "text/plain": [
       "DecisionTreeClassifier(max_depth=8, random_state=12345)"
      ]
     },
     "execution_count": 37,
     "metadata": {},
     "output_type": "execute_result"
    }
   ],
   "source": [
    "best_result_dt = 0\n",
    "best_model_dt = None\n",
    "res_list_dt = []\n",
    "res_train_list = []\n",
    "for i in range(1, 21):\n",
    "    model_dt = DecisionTreeClassifier(max_depth=i, random_state=12345)\n",
    "    model_dt.fit(train_features, train_target)\n",
    "    predictions = model_dt.predict(valid_features)\n",
    "    predictions_train = model_dt.predict(train_features)\n",
    "    res = accuracy_score(predictions, valid_target)\n",
    "    res_list_dt.append(res)\n",
    "    res_train = accuracy_score(predictions_train, train_target)\n",
    "    res_train_list.append(res_train)\n",
    "    if res > best_result_dt:\n",
    "        best_result_dt = res\n",
    "        best_model_dt = model_dt\n",
    "print('Точность модели на валидационной выборке:', best_result_dt)\n",
    "best_model_dt"
   ]
  },
  {
   "cell_type": "code",
   "execution_count": 38,
   "metadata": {},
   "outputs": [
    {
     "data": {
      "image/png": "[encoded data removed]",
      "text/plain": [
       "<Figure size 432x288 with 1 Axes>"
      ]
     },
     "metadata": {
      "needs_background": "light"
     },
     "output_type": "display_data"
    }
   ],
   "source": [
    "plt.plot(res_list_dt, label='validation')\n",
    "plt.plot(res_train_list, label='train')\n",
    "plt.legend();"
   ]
  },
  {
   "cell_type": "code",
   "execution_count": 12,
   "metadata": {},
   "outputs": [
    {
     "data": {
      "text/plain": [
       "<function matplotlib.pyplot.show(close=None, block=None)>"
      ]
     },
     "execution_count": 12,
     "metadata": {},
     "output_type": "execute_result"
    },
    {
     "data": {
      "image/png": "[encoded data removed]",
      "text/plain": [
       "<Figure size 1440x1080 with 1 Axes>"
      ]
     },
     "metadata": {
      "needs_background": "light"
     },
     "output_type": "display_data"
    }
   ],
   "source": [
    "fig, ax = plt.subplots(figsize=(20,15))\n",
    "tree.plot_tree(best_model_dt, max_depth=3, filled=1, fontsize=12, feature_names=features.columns)\n",
    "plt.show"
   ]
  },
  {
   "cell_type": "markdown",
   "metadata": {},
   "source": [
    "### Случайный лес"
   ]
  },
  {
   "cell_type": "code",
   "execution_count": 41,
   "metadata": {},
   "outputs": [
    {
     "name": "stdout",
     "output_type": "stream",
     "text": [
      "Точность модели на валидационной выборке: 0.8195956454121306\n",
      "CPU times: user 35.2 s, sys: 203 ms, total: 35.5 s\n",
      "Wall time: 35.6 s\n"
     ]
    },
    {
     "data": {
      "text/plain": [
       "RandomForestClassifier(max_depth=9, n_estimators=150, random_state=12345)"
      ]
     },
     "execution_count": 41,
     "metadata": {},
     "output_type": "execute_result"
    }
   ],
   "source": [
    "%%time\n",
    "best_result_rf = 0\n",
    "best_model_rf = None\n",
    "res_list_rf = []\n",
    "for depth in range(5, 15):\n",
    "    for est in range(50, 301, 50):\n",
    "        model_rf = RandomForestClassifier(max_depth=depth, n_estimators=est, random_state=12345)\n",
    "        model_rf.fit(train_features, train_target)\n",
    "        predictions = model_rf.predict(valid_features)\n",
    "        res = accuracy_score(predictions, valid_target)\n",
    "        res_list_rf.append(res)\n",
    "        if res > best_result_rf:\n",
    "            best_result_rf = res\n",
    "            best_model_rf = model_rf\n",
    "            \n",
    "print('Точность модели на валидационной выборке:', best_result_rf)\n",
    "best_model_rf"
   ]
  },
  {
   "cell_type": "code",
   "execution_count": 42,
   "metadata": {},
   "outputs": [
    {
     "data": {
      "text/plain": [
       "<AxesSubplot:>"
      ]
     },
     "execution_count": 42,
     "metadata": {},
     "output_type": "execute_result"
    },
    {
     "data": {
      "image/png": "[encoded data removed]",
      "text/plain": [
       "<Figure size 432x288 with 1 Axes>"
      ]
     },
     "metadata": {
      "needs_background": "light"
     },
     "output_type": "display_data"
    }
   ],
   "source": [
    "res_list_rf = pd.Series(res_list_rf)\n",
    "res_list_rf.plot()"
   ]
  },
  {
   "cell_type": "markdown",
   "metadata": {},
   "source": [
    "### Логистическая регрессия"
   ]
  },
  {
   "cell_type": "code",
   "execution_count": 16,
   "metadata": {},
   "outputs": [
    {
     "name": "stdout",
     "output_type": "stream",
     "text": [
      "Точность модели на валидационной выборке: 0.7387247278382582\n"
     ]
    },
    {
     "data": {
      "text/plain": [
       "LogisticRegression(max_iter=1000, random_state=12345)"
      ]
     },
     "execution_count": 16,
     "metadata": {},
     "output_type": "execute_result"
    }
   ],
   "source": [
    "model_lr = LogisticRegression(random_state=12345, solver='lbfgs', max_iter=1000)\n",
    "model_lr.fit(train_features, train_target)\n",
    "res = model_lr.score(valid_features, valid_target)\n",
    "print('Точность модели на валидационной выборке:', res)\n",
    "model_lr"
   ]
  },
  {
   "cell_type": "markdown",
   "metadata": {},
   "source": [
    "### Catboost"
   ]
  },
  {
   "cell_type": "code",
   "execution_count": 147,
   "metadata": {},
   "outputs": [
    {
     "data": {
      "text/plain": [
       "GridSearchCV(cv=3,\n",
       "             estimator=<catboost.core.CatBoostClassifier object at 0x7f944bd33d30>,\n",
       "             param_grid={'depth': [2, 3], 'iterations': [200, 400, 600],\n",
       "                         'learning_rate': [0.2, 0.30000000000000004,\n",
       "                                           0.4000000000000001]},\n",
       "             scoring='accuracy', verbose=False)"
      ]
     },
     "execution_count": 147,
     "metadata": {},
     "output_type": "execute_result"
    }
   ],
   "source": [
    "# Initialize CatBoostClassifier\n",
    "cb = CatBoostClassifier(verbose=False,\n",
    "                        random_seed=12345)\n",
    "\n",
    "param_grid = {'learning_rate': list(np.arange(0.2, 0.41, 0.1)),\n",
    "            'depth': list(range(2,4,1)),\n",
    "            'iterations' : list(range(200,601,200))}\n",
    "\n",
    "cb = GridSearchCV(cb, param_grid,\n",
    "                  scoring='accuracy',\n",
    "                  cv=3,\n",
    "                  refit=True,\n",
    "                  verbose=False)\n",
    "\n",
    "cb.fit(train_features, train_target)"
   ]
  },
  {
   "cell_type": "code",
   "execution_count": 148,
   "metadata": {},
   "outputs": [
    {
     "data": {
      "text/plain": [
       "0.7925337002530649"
      ]
     },
     "execution_count": 148,
     "metadata": {},
     "output_type": "execute_result"
    }
   ],
   "source": [
    "cb.best_score_"
   ]
  },
  {
   "cell_type": "code",
   "execution_count": 149,
   "metadata": {},
   "outputs": [
    {
     "data": {
      "text/plain": [
       "{'depth': 2, 'iterations': 200, 'learning_rate': 0.2}"
      ]
     },
     "execution_count": 149,
     "metadata": {},
     "output_type": "execute_result"
    }
   ],
   "source": [
    "cb.best_params_"
   ]
  },
  {
   "cell_type": "markdown",
   "metadata": {},
   "source": [
    "*Лучшие результаты - точность в 82% показала модель Случайного леса.  \n",
    "Теперь нужно проверить её на тестовой выборке*"
   ]
  },
  {
   "cell_type": "markdown",
   "metadata": {},
   "source": [
    "## Проверьте модель на тестовой выборке"
   ]
  },
  {
   "cell_type": "code",
   "execution_count": 150,
   "metadata": {},
   "outputs": [
    {
     "name": "stdout",
     "output_type": "stream",
     "text": [
      "Точность модели на тестовой выборке: 0.8040435458786936\n"
     ]
    }
   ],
   "source": [
    "predictions = best_model_rf.predict(test_features)\n",
    "res = accuracy_score(predictions, test_target)\n",
    "\n",
    "print('Точность модели на тестовой выборке:', res)"
   ]
  },
  {
   "cell_type": "code",
   "execution_count": 151,
   "metadata": {},
   "outputs": [
    {
     "data": {
      "image/png": "[encoded data removed]",
      "text/plain": [
       "<Figure size 432x288 with 2 Axes>"
      ]
     },
     "metadata": {
      "needs_background": "light"
     },
     "output_type": "display_data"
    }
   ],
   "source": [
    "ConfusionMatrixDisplay(confusion_matrix=confusion_matrix(predictions, test_target),\n",
    "                               display_labels=best_model_rf.classes_).plot();\n",
    "\n",
    "# plt.show()"
   ]
  },
  {
   "cell_type": "markdown",
   "metadata": {},
   "source": [
    "\n",
    "Поскольку в нашем случае категории равнозначные, т.е. мы либо угадаем \"предрасположенность\" клиента к тарифу, либо нет, accuracy (точность) - важный показатель успешности модели. Стоимость любой ошибки для нас - только возможная упущенная прибыль.  \n",
    "Матрица ошибок показывает, что они распределены примерно одинаково для обоих тарифов, значит модель можно считать успешной.\n",
    "  "
   ]
  },
  {
   "cell_type": "markdown",
   "metadata": {},
   "source": [
    "## (бонус) Проверьте модели на адекватность"
   ]
  },
  {
   "cell_type": "code",
   "execution_count": 19,
   "metadata": {},
   "outputs": [
    {
     "name": "stdout",
     "output_type": "stream",
     "text": [
      "Accuracy DummyClassifier: 0.6936236391912908\n"
     ]
    }
   ],
   "source": [
    "model_dummy = DummyClassifier(strategy='most_frequent', random_state=12345)\n",
    "model_dummy.fit(train_features, train_target)\n",
    "res_dummy = model_dummy.score(test_features, test_target)\n",
    "print('Accuracy DummyClassifier:', res_dummy)"
   ]
  },
  {
   "cell_type": "markdown",
   "metadata": {},
   "source": [
    "Поскольку точность \"подставной\" модели ниже нашей, можно считать, что она адекватна и пригодна для работы."
   ]
  },
  {
   "cell_type": "markdown",
   "metadata": {},
   "source": [
    "## Общий вывод:"
   ]
  },
  {
   "cell_type": "markdown",
   "metadata": {},
   "source": [
    "С целью создать эффективную модель для рекомендации тарифа клиентам были проанализированы данные и проверены следующие модели:  \n",
    "* Дерево решений (78,5% точности на валидационной выборке)\n",
    "* Случайный лес (82%)\n",
    "* Логическая регрессия (71%) \n",
    "* Catboost (79%)\n",
    "\n",
    "**Случайный лес с параметрами (max_depth=8, n_estimators=8)** был проверен на тестовой выборке и показал точность **80%**.  \n",
    "\n",
    "Так же данной моделью был пройден тест на адекватность.  \n",
    "Модель признана самой эффективной из доступных."
   ]
  }
 ],
 "metadata": {
  "ExecuteTimeLog": [
   {
    "duration": 1261,
    "start_time": "2023-04-03T14:19:32.449Z"
   },
   {
    "duration": 125,
    "start_time": "2023-04-03T14:20:08.403Z"
   },
   {
    "duration": 42,
    "start_time": "2023-04-03T14:21:00.850Z"
   },
   {
    "duration": 3,
    "start_time": "2023-04-03T14:24:38.515Z"
   },
   {
    "duration": 113,
    "start_time": "2023-04-03T14:37:30.180Z"
   },
   {
    "duration": 6,
    "start_time": "2023-04-03T14:37:45.127Z"
   },
   {
    "duration": 3,
    "start_time": "2023-04-03T17:51:54.477Z"
   },
   {
    "duration": 50,
    "start_time": "2023-04-03T17:51:54.482Z"
   },
   {
    "duration": 4,
    "start_time": "2023-04-03T17:51:54.534Z"
   },
   {
    "duration": 85,
    "start_time": "2023-04-03T17:51:54.540Z"
   },
   {
    "duration": 0,
    "start_time": "2023-04-03T17:51:54.627Z"
   },
   {
    "duration": 84,
    "start_time": "2023-04-03T17:52:34.928Z"
   },
   {
    "duration": 171,
    "start_time": "2023-04-03T17:53:32.602Z"
   },
   {
    "duration": 6,
    "start_time": "2023-04-03T17:53:52.504Z"
   },
   {
    "duration": 17,
    "start_time": "2023-04-03T17:53:55.308Z"
   },
   {
    "duration": 14,
    "start_time": "2023-04-03T17:54:59.165Z"
   },
   {
    "duration": 18,
    "start_time": "2023-04-03T17:55:04.703Z"
   },
   {
    "duration": 69,
    "start_time": "2023-04-03T18:02:19.893Z"
   },
   {
    "duration": 53,
    "start_time": "2023-04-03T18:02:25.839Z"
   },
   {
    "duration": 56,
    "start_time": "2023-04-03T18:02:37.399Z"
   },
   {
    "duration": 55,
    "start_time": "2023-04-03T18:02:56.567Z"
   },
   {
    "duration": 61,
    "start_time": "2023-04-03T18:04:46.323Z"
   },
   {
    "duration": 10,
    "start_time": "2023-04-03T18:07:17.402Z"
   },
   {
    "duration": 4,
    "start_time": "2023-04-03T18:07:22.007Z"
   },
   {
    "duration": 45,
    "start_time": "2023-04-03T18:07:22.013Z"
   },
   {
    "duration": 4,
    "start_time": "2023-04-03T18:07:22.061Z"
   },
   {
    "duration": 10,
    "start_time": "2023-04-03T18:07:22.067Z"
   },
   {
    "duration": 71,
    "start_time": "2023-04-03T18:07:22.079Z"
   },
   {
    "duration": 2278,
    "start_time": "2023-04-03T18:07:22.151Z"
   },
   {
    "duration": 3979,
    "start_time": "2023-04-03T18:07:57.419Z"
   },
   {
    "duration": 95,
    "start_time": "2023-04-03T18:09:20.386Z"
   },
   {
    "duration": 298,
    "start_time": "2023-04-03T18:09:27.363Z"
   },
   {
    "duration": 1081,
    "start_time": "2023-04-03T18:09:46.104Z"
   },
   {
    "duration": 98654,
    "start_time": "2023-04-03T18:10:54.318Z"
   },
   {
    "duration": 9,
    "start_time": "2023-04-03T18:16:41.997Z"
   },
   {
    "duration": 3,
    "start_time": "2023-04-03T18:16:46.805Z"
   },
   {
    "duration": 37,
    "start_time": "2023-04-03T18:16:46.810Z"
   },
   {
    "duration": 3,
    "start_time": "2023-04-03T18:16:46.849Z"
   },
   {
    "duration": 5,
    "start_time": "2023-04-03T18:16:46.854Z"
   },
   {
    "duration": 66,
    "start_time": "2023-04-03T18:16:46.861Z"
   },
   {
    "duration": 1122,
    "start_time": "2023-04-03T18:16:46.928Z"
   },
   {
    "duration": 19,
    "start_time": "2023-04-03T18:16:48.051Z"
   },
   {
    "duration": 22,
    "start_time": "2023-04-03T18:17:03.964Z"
   },
   {
    "duration": 19,
    "start_time": "2023-04-03T18:17:13.677Z"
   },
   {
    "duration": 27,
    "start_time": "2023-04-03T18:18:01.555Z"
   },
   {
    "duration": 19,
    "start_time": "2023-04-03T18:18:51.961Z"
   },
   {
    "duration": 1109,
    "start_time": "2023-04-03T18:22:07.187Z"
   },
   {
    "duration": 9444,
    "start_time": "2023-04-03T18:25:36.126Z"
   },
   {
    "duration": 15,
    "start_time": "2023-04-03T18:26:58.564Z"
   },
   {
    "duration": 21,
    "start_time": "2023-04-03T18:27:20.889Z"
   },
   {
    "duration": 11265,
    "start_time": "2023-04-03T18:27:47.874Z"
   },
   {
    "duration": 11524,
    "start_time": "2023-04-03T18:29:16.613Z"
   },
   {
    "duration": 1170,
    "start_time": "2023-04-03T18:29:49.156Z"
   },
   {
    "duration": 1122,
    "start_time": "2023-04-03T18:30:13.639Z"
   },
   {
    "duration": 3,
    "start_time": "2023-04-03T18:34:16.364Z"
   },
   {
    "duration": 1171,
    "start_time": "2023-04-03T18:34:54.229Z"
   },
   {
    "duration": 3,
    "start_time": "2023-04-03T18:36:11.698Z"
   },
   {
    "duration": 1131,
    "start_time": "2023-04-03T18:36:15.593Z"
   },
   {
    "duration": 1271,
    "start_time": "2023-04-03T18:59:26.424Z"
   },
   {
    "duration": 3,
    "start_time": "2023-04-03T18:59:55.511Z"
   },
   {
    "duration": 1303,
    "start_time": "2023-04-03T19:00:10.299Z"
   },
   {
    "duration": 5,
    "start_time": "2023-04-03T19:48:51.848Z"
   },
   {
    "duration": 5,
    "start_time": "2023-04-03T19:49:09.719Z"
   },
   {
    "duration": 4,
    "start_time": "2023-04-03T19:50:13.318Z"
   },
   {
    "duration": 85,
    "start_time": "2023-04-03T20:03:32.981Z"
   },
   {
    "duration": 6,
    "start_time": "2023-04-03T20:03:39.029Z"
   },
   {
    "duration": 11,
    "start_time": "2023-04-03T20:08:24.789Z"
   },
   {
    "duration": 4,
    "start_time": "2023-04-03T20:09:56.613Z"
   },
   {
    "duration": 46,
    "start_time": "2023-04-03T20:09:56.619Z"
   },
   {
    "duration": 4,
    "start_time": "2023-04-03T20:09:56.667Z"
   },
   {
    "duration": 15,
    "start_time": "2023-04-03T20:09:56.672Z"
   },
   {
    "duration": 63,
    "start_time": "2023-04-03T20:09:56.689Z"
   },
   {
    "duration": 1247,
    "start_time": "2023-04-03T20:09:56.753Z"
   },
   {
    "duration": 22,
    "start_time": "2023-04-03T20:09:58.001Z"
   },
   {
    "duration": 1262,
    "start_time": "2023-04-03T20:09:58.025Z"
   },
   {
    "duration": 6,
    "start_time": "2023-04-03T20:10:02.954Z"
   },
   {
    "duration": 4,
    "start_time": "2023-04-03T20:19:52.997Z"
   },
   {
    "duration": 43,
    "start_time": "2023-04-03T20:19:53.003Z"
   },
   {
    "duration": 10,
    "start_time": "2023-04-03T20:19:53.047Z"
   },
   {
    "duration": 17,
    "start_time": "2023-04-03T20:19:53.059Z"
   },
   {
    "duration": 64,
    "start_time": "2023-04-03T20:19:53.078Z"
   },
   {
    "duration": 1251,
    "start_time": "2023-04-03T20:19:53.144Z"
   },
   {
    "duration": 21,
    "start_time": "2023-04-03T20:19:54.397Z"
   },
   {
    "duration": 1312,
    "start_time": "2023-04-03T20:19:54.420Z"
   },
   {
    "duration": 5,
    "start_time": "2023-04-03T20:19:55.734Z"
   },
   {
    "duration": 1133,
    "start_time": "2023-04-03T20:22:13.761Z"
   },
   {
    "duration": 40,
    "start_time": "2023-04-03T20:22:14.896Z"
   },
   {
    "duration": 3,
    "start_time": "2023-04-03T20:22:14.938Z"
   },
   {
    "duration": 17,
    "start_time": "2023-04-03T20:22:14.942Z"
   },
   {
    "duration": 64,
    "start_time": "2023-04-03T20:22:14.961Z"
   },
   {
    "duration": 1182,
    "start_time": "2023-04-03T20:22:15.027Z"
   },
   {
    "duration": 18,
    "start_time": "2023-04-03T20:22:16.210Z"
   },
   {
    "duration": 1197,
    "start_time": "2023-04-03T20:22:16.230Z"
   },
   {
    "duration": 5,
    "start_time": "2023-04-03T20:22:17.428Z"
   },
   {
    "duration": 2339,
    "start_time": "2023-04-04T05:02:02.371Z"
   },
   {
    "duration": 53,
    "start_time": "2023-04-04T05:02:04.712Z"
   },
   {
    "duration": 4,
    "start_time": "2023-04-04T05:02:04.767Z"
   },
   {
    "duration": 7,
    "start_time": "2023-04-04T05:02:04.774Z"
   },
   {
    "duration": 79,
    "start_time": "2023-04-04T05:02:04.783Z"
   },
   {
    "duration": 1416,
    "start_time": "2023-04-04T05:02:04.864Z"
   },
   {
    "duration": 26,
    "start_time": "2023-04-04T05:02:06.282Z"
   },
   {
    "duration": 1446,
    "start_time": "2023-04-04T05:02:06.310Z"
   },
   {
    "duration": 7,
    "start_time": "2023-04-04T05:02:07.758Z"
   },
   {
    "duration": 1107,
    "start_time": "2023-04-05T15:17:10.114Z"
   },
   {
    "duration": 161,
    "start_time": "2023-04-05T15:17:11.222Z"
   },
   {
    "duration": 3,
    "start_time": "2023-04-05T15:17:11.385Z"
   },
   {
    "duration": 24,
    "start_time": "2023-04-05T15:17:11.390Z"
   },
   {
    "duration": 57,
    "start_time": "2023-04-05T15:17:11.416Z"
   },
   {
    "duration": 1072,
    "start_time": "2023-04-05T15:17:11.475Z"
   },
   {
    "duration": 19,
    "start_time": "2023-04-05T15:17:12.549Z"
   },
   {
    "duration": 1117,
    "start_time": "2023-04-05T15:17:12.569Z"
   },
   {
    "duration": 5,
    "start_time": "2023-04-05T15:17:13.687Z"
   },
   {
    "duration": 14,
    "start_time": "2023-04-05T15:17:44.570Z"
   },
   {
    "duration": 6,
    "start_time": "2023-04-05T15:18:16.676Z"
   },
   {
    "duration": 9,
    "start_time": "2023-04-05T15:21:03.982Z"
   },
   {
    "duration": 541,
    "start_time": "2023-04-05T15:23:03.548Z"
   },
   {
    "duration": 364,
    "start_time": "2023-04-05T15:23:08.803Z"
   },
   {
    "duration": 102,
    "start_time": "2023-04-05T15:24:42.552Z"
   },
   {
    "duration": 3,
    "start_time": "2023-04-05T15:25:08.328Z"
   },
   {
    "duration": 324,
    "start_time": "2023-04-05T15:25:18.057Z"
   },
   {
    "duration": 245,
    "start_time": "2023-04-05T15:25:24.983Z"
   },
   {
    "duration": 1317,
    "start_time": "2023-04-05T15:25:39.884Z"
   },
   {
    "duration": 38,
    "start_time": "2023-04-05T15:25:41.202Z"
   },
   {
    "duration": 21,
    "start_time": "2023-04-05T15:25:41.242Z"
   },
   {
    "duration": 7,
    "start_time": "2023-04-05T15:25:41.266Z"
   },
   {
    "duration": 11,
    "start_time": "2023-04-05T15:25:41.274Z"
   },
   {
    "duration": 252,
    "start_time": "2023-04-05T15:25:41.286Z"
   },
   {
    "duration": 5,
    "start_time": "2023-04-05T15:25:41.548Z"
   },
   {
    "duration": 27,
    "start_time": "2023-04-05T15:25:41.554Z"
   },
   {
    "duration": 56,
    "start_time": "2023-04-05T15:25:41.582Z"
   },
   {
    "duration": 1157,
    "start_time": "2023-04-05T15:25:41.640Z"
   },
   {
    "duration": 19,
    "start_time": "2023-04-05T15:25:42.798Z"
   },
   {
    "duration": 1165,
    "start_time": "2023-04-05T15:25:42.818Z"
   },
   {
    "duration": 4,
    "start_time": "2023-04-05T15:25:43.985Z"
   },
   {
    "duration": 90,
    "start_time": "2023-04-05T15:35:53.561Z"
   },
   {
    "duration": 107,
    "start_time": "2023-04-05T15:36:04.595Z"
   },
   {
    "duration": 103,
    "start_time": "2023-04-05T15:36:25.309Z"
   },
   {
    "duration": 97,
    "start_time": "2023-04-05T15:36:37.067Z"
   },
   {
    "duration": 190,
    "start_time": "2023-04-05T15:37:57.571Z"
   },
   {
    "duration": 109,
    "start_time": "2023-04-05T15:38:22.631Z"
   },
   {
    "duration": 110,
    "start_time": "2023-04-05T15:38:39.834Z"
   },
   {
    "duration": 7,
    "start_time": "2023-04-05T15:39:01.087Z"
   },
   {
    "duration": 9,
    "start_time": "2023-04-05T15:40:05.493Z"
   },
   {
    "duration": 8,
    "start_time": "2023-04-05T15:40:23.739Z"
   },
   {
    "duration": 8,
    "start_time": "2023-04-05T15:40:42.115Z"
   },
   {
    "duration": 3,
    "start_time": "2023-04-05T15:40:51.235Z"
   },
   {
    "duration": 4,
    "start_time": "2023-04-05T15:41:05.356Z"
   },
   {
    "duration": 4,
    "start_time": "2023-04-05T15:42:10.552Z"
   },
   {
    "duration": 3,
    "start_time": "2023-04-05T15:45:31.181Z"
   },
   {
    "duration": 58,
    "start_time": "2023-04-05T15:45:31.186Z"
   },
   {
    "duration": 13,
    "start_time": "2023-04-05T15:45:31.246Z"
   },
   {
    "duration": 27,
    "start_time": "2023-04-05T15:45:31.261Z"
   },
   {
    "duration": 27,
    "start_time": "2023-04-05T15:45:31.291Z"
   },
   {
    "duration": 313,
    "start_time": "2023-04-05T15:45:31.320Z"
   },
   {
    "duration": 4,
    "start_time": "2023-04-05T15:45:31.635Z"
   },
   {
    "duration": 39,
    "start_time": "2023-04-05T15:45:31.640Z"
   },
   {
    "duration": 24,
    "start_time": "2023-04-05T15:45:31.680Z"
   },
   {
    "duration": 89,
    "start_time": "2023-04-05T15:45:31.706Z"
   },
   {
    "duration": 1232,
    "start_time": "2023-04-05T15:45:31.798Z"
   },
   {
    "duration": 40,
    "start_time": "2023-04-05T15:45:33.032Z"
   },
   {
    "duration": 1323,
    "start_time": "2023-04-05T15:45:33.074Z"
   },
   {
    "duration": 7,
    "start_time": "2023-04-05T15:45:34.400Z"
   },
   {
    "duration": 76,
    "start_time": "2023-04-05T17:12:27.709Z"
   },
   {
    "duration": 1665,
    "start_time": "2023-04-05T17:13:31.130Z"
   },
   {
    "duration": 1669,
    "start_time": "2023-04-05T17:13:53.411Z"
   },
   {
    "duration": 62,
    "start_time": "2023-04-05T17:14:48.296Z"
   },
   {
    "duration": 1574,
    "start_time": "2023-04-05T17:15:12.583Z"
   },
   {
    "duration": 1572,
    "start_time": "2023-04-05T17:15:45.705Z"
   },
   {
    "duration": 1222,
    "start_time": "2023-04-05T17:16:21.247Z"
   },
   {
    "duration": 1255,
    "start_time": "2023-04-05T18:33:43.677Z"
   },
   {
    "duration": 75,
    "start_time": "2023-04-05T18:33:49.547Z"
   },
   {
    "duration": 1349,
    "start_time": "2023-04-05T18:35:09.105Z"
   },
   {
    "duration": 11,
    "start_time": "2023-04-05T18:35:25.471Z"
   },
   {
    "duration": 95,
    "start_time": "2023-04-05T18:36:15.880Z"
   },
   {
    "duration": 100,
    "start_time": "2023-04-05T18:36:34.552Z"
   },
   {
    "duration": 1221,
    "start_time": "2023-04-05T18:36:43.116Z"
   },
   {
    "duration": 10,
    "start_time": "2023-04-05T18:37:08.052Z"
   },
   {
    "duration": 9,
    "start_time": "2023-04-05T18:37:31.078Z"
   },
   {
    "duration": 9,
    "start_time": "2023-04-05T18:37:37.924Z"
   },
   {
    "duration": 8,
    "start_time": "2023-04-05T18:37:57.110Z"
   },
   {
    "duration": 9,
    "start_time": "2023-04-05T18:38:37.326Z"
   },
   {
    "duration": 10,
    "start_time": "2023-04-05T18:39:02.537Z"
   },
   {
    "duration": 9,
    "start_time": "2023-04-05T18:39:11.522Z"
   },
   {
    "duration": 22,
    "start_time": "2023-04-05T18:39:19.936Z"
   },
   {
    "duration": 146,
    "start_time": "2023-04-05T18:40:21.929Z"
   },
   {
    "duration": 151,
    "start_time": "2023-04-05T18:40:52.280Z"
   },
   {
    "duration": 112,
    "start_time": "2023-04-05T18:42:02.795Z"
   },
   {
    "duration": 1269,
    "start_time": "2023-04-05T18:42:58.366Z"
   },
   {
    "duration": 140,
    "start_time": "2023-04-05T18:43:03.050Z"
   },
   {
    "duration": 21557,
    "start_time": "2023-04-05T18:44:41.792Z"
   },
   {
    "duration": 111,
    "start_time": "2023-04-05T18:45:15.871Z"
   },
   {
    "duration": 38664,
    "start_time": "2023-04-05T18:47:22.724Z"
   },
   {
    "duration": 167525,
    "start_time": "2023-04-05T18:48:21.434Z"
   },
   {
    "duration": 118,
    "start_time": "2023-04-05T18:52:01.468Z"
   },
   {
    "duration": 11,
    "start_time": "2023-04-05T18:53:21.622Z"
   },
   {
    "duration": 10,
    "start_time": "2023-04-05T18:53:37.998Z"
   },
   {
    "duration": 202,
    "start_time": "2023-04-05T18:53:49.384Z"
   },
   {
    "duration": 105,
    "start_time": "2023-04-05T19:40:58.803Z"
   },
   {
    "duration": 64,
    "start_time": "2023-04-05T19:44:56.652Z"
   },
   {
    "duration": 107,
    "start_time": "2023-04-05T19:44:58.186Z"
   },
   {
    "duration": 84,
    "start_time": "2023-04-05T19:45:26.660Z"
   },
   {
    "duration": 75,
    "start_time": "2023-04-05T19:45:30.755Z"
   },
   {
    "duration": 120,
    "start_time": "2023-04-05T19:45:32.731Z"
   },
   {
    "duration": 96,
    "start_time": "2023-04-05T19:46:32.712Z"
   },
   {
    "duration": 10,
    "start_time": "2023-04-05T19:47:32.528Z"
   },
   {
    "duration": 4651,
    "start_time": "2023-04-05T19:47:48.484Z"
   },
   {
    "duration": 796,
    "start_time": "2023-04-05T19:48:12.501Z"
   },
   {
    "duration": 196,
    "start_time": "2023-04-05T19:52:12.101Z"
   },
   {
    "duration": 379,
    "start_time": "2023-04-05T19:52:29.302Z"
   },
   {
    "duration": 370,
    "start_time": "2023-04-05T19:54:47.339Z"
   },
   {
    "duration": 420,
    "start_time": "2023-04-05T19:56:18.815Z"
   },
   {
    "duration": 474,
    "start_time": "2023-04-05T19:56:32.334Z"
   },
   {
    "duration": 447,
    "start_time": "2023-04-05T19:56:39.624Z"
   },
   {
    "duration": 779,
    "start_time": "2023-04-05T19:56:46.850Z"
   },
   {
    "duration": 907,
    "start_time": "2023-04-05T19:57:01.517Z"
   },
   {
    "duration": 753,
    "start_time": "2023-04-05T19:57:07.940Z"
   },
   {
    "duration": 132,
    "start_time": "2023-04-05T19:58:47.562Z"
   },
   {
    "duration": 126,
    "start_time": "2023-04-05T19:59:01.705Z"
   },
   {
    "duration": 129,
    "start_time": "2023-04-05T19:59:04.859Z"
   },
   {
    "duration": 11,
    "start_time": "2023-04-05T19:59:27.079Z"
   },
   {
    "duration": 743,
    "start_time": "2023-04-05T20:00:43.510Z"
   },
   {
    "duration": 801,
    "start_time": "2023-04-05T20:01:48.077Z"
   },
   {
    "duration": 781,
    "start_time": "2023-04-05T20:01:58.101Z"
   },
   {
    "duration": 892,
    "start_time": "2023-04-05T20:02:03.487Z"
   },
   {
    "duration": 739,
    "start_time": "2023-04-05T20:02:13.157Z"
   },
   {
    "duration": 890,
    "start_time": "2023-04-05T20:02:49.051Z"
   },
   {
    "duration": 861,
    "start_time": "2023-04-05T20:02:58.617Z"
   },
   {
    "duration": 1135,
    "start_time": "2023-04-05T20:03:07.490Z"
   },
   {
    "duration": 1390,
    "start_time": "2023-04-05T20:03:24.258Z"
   },
   {
    "duration": 1303,
    "start_time": "2023-04-05T20:05:31.717Z"
   },
   {
    "duration": 1117,
    "start_time": "2023-04-05T20:06:26.752Z"
   },
   {
    "duration": 432,
    "start_time": "2023-04-05T20:06:59.758Z"
   },
   {
    "duration": 416,
    "start_time": "2023-04-05T20:07:05.503Z"
   },
   {
    "duration": 513,
    "start_time": "2023-04-05T20:07:08.893Z"
   },
   {
    "duration": 490,
    "start_time": "2023-04-05T20:08:00.413Z"
   },
   {
    "duration": 83,
    "start_time": "2023-04-05T20:08:46.099Z"
   },
   {
    "duration": 1058,
    "start_time": "2023-04-05T20:09:17.511Z"
   },
   {
    "duration": 727,
    "start_time": "2023-04-05T20:11:17.099Z"
   },
   {
    "duration": 890,
    "start_time": "2023-04-05T20:11:28.581Z"
   },
   {
    "duration": 723,
    "start_time": "2023-04-05T20:11:42.059Z"
   },
   {
    "duration": 930,
    "start_time": "2023-04-05T20:11:46.355Z"
   },
   {
    "duration": 776,
    "start_time": "2023-04-05T20:11:51.678Z"
   },
   {
    "duration": 772,
    "start_time": "2023-04-05T20:12:09.962Z"
   },
   {
    "duration": 10,
    "start_time": "2023-04-05T20:13:48.631Z"
   },
   {
    "duration": 9,
    "start_time": "2023-04-05T20:13:53.287Z"
   },
   {
    "duration": 8,
    "start_time": "2023-04-05T20:14:05.490Z"
   },
   {
    "duration": 4,
    "start_time": "2023-04-05T20:14:13.189Z"
   },
   {
    "duration": 3,
    "start_time": "2023-04-05T20:14:32.318Z"
   },
   {
    "duration": 791,
    "start_time": "2023-04-05T20:15:14.821Z"
   },
   {
    "duration": 183,
    "start_time": "2023-04-05T20:16:24.811Z"
   },
   {
    "duration": 797,
    "start_time": "2023-04-05T20:16:35.693Z"
   },
   {
    "duration": 14,
    "start_time": "2023-04-05T20:17:05.546Z"
   },
   {
    "duration": 154,
    "start_time": "2023-04-05T20:17:31.088Z"
   },
   {
    "duration": 780,
    "start_time": "2023-04-05T20:18:07.201Z"
   },
   {
    "duration": 803,
    "start_time": "2023-04-05T20:18:17.255Z"
   },
   {
    "duration": 769,
    "start_time": "2023-04-05T20:18:40.135Z"
   },
   {
    "duration": 795,
    "start_time": "2023-04-05T20:34:28.767Z"
   },
   {
    "duration": 1576,
    "start_time": "2023-04-10T16:56:26.788Z"
   },
   {
    "duration": 83,
    "start_time": "2023-04-10T16:56:28.366Z"
   },
   {
    "duration": 16,
    "start_time": "2023-04-10T16:56:28.451Z"
   },
   {
    "duration": 6,
    "start_time": "2023-04-10T16:56:28.469Z"
   },
   {
    "duration": 18,
    "start_time": "2023-04-10T16:56:28.476Z"
   },
   {
    "duration": 337,
    "start_time": "2023-04-10T16:56:28.495Z"
   },
   {
    "duration": 4,
    "start_time": "2023-04-10T16:56:28.836Z"
   },
   {
    "duration": 24,
    "start_time": "2023-04-10T16:56:28.841Z"
   },
   {
    "duration": 6,
    "start_time": "2023-04-10T16:56:28.869Z"
   },
   {
    "duration": 124,
    "start_time": "2023-04-10T16:56:28.878Z"
   },
   {
    "duration": 0,
    "start_time": "2023-04-10T16:56:29.003Z"
   },
   {
    "duration": 0,
    "start_time": "2023-04-10T16:56:29.005Z"
   },
   {
    "duration": 0,
    "start_time": "2023-04-10T16:56:29.006Z"
   },
   {
    "duration": 0,
    "start_time": "2023-04-10T16:56:29.007Z"
   },
   {
    "duration": 0,
    "start_time": "2023-04-10T16:56:29.009Z"
   },
   {
    "duration": 0,
    "start_time": "2023-04-10T16:56:29.010Z"
   },
   {
    "duration": 0,
    "start_time": "2023-04-10T16:56:29.012Z"
   },
   {
    "duration": 0,
    "start_time": "2023-04-10T16:56:29.013Z"
   },
   {
    "duration": 0,
    "start_time": "2023-04-10T16:56:29.015Z"
   },
   {
    "duration": 4,
    "start_time": "2023-04-10T16:57:14.026Z"
   },
   {
    "duration": 56,
    "start_time": "2023-04-10T16:57:14.032Z"
   },
   {
    "duration": 10,
    "start_time": "2023-04-10T16:57:14.090Z"
   },
   {
    "duration": 6,
    "start_time": "2023-04-10T16:57:14.102Z"
   },
   {
    "duration": 8,
    "start_time": "2023-04-10T16:57:14.111Z"
   },
   {
    "duration": 335,
    "start_time": "2023-04-10T16:57:14.120Z"
   },
   {
    "duration": 5,
    "start_time": "2023-04-10T16:57:14.458Z"
   },
   {
    "duration": 12,
    "start_time": "2023-04-10T16:57:14.465Z"
   },
   {
    "duration": 5,
    "start_time": "2023-04-10T16:57:14.479Z"
   },
   {
    "duration": 73,
    "start_time": "2023-04-10T16:57:14.485Z"
   },
   {
    "duration": 132,
    "start_time": "2023-04-10T16:57:14.562Z"
   },
   {
    "duration": 927,
    "start_time": "2023-04-10T16:57:14.696Z"
   },
   {
    "duration": 7317,
    "start_time": "2023-04-10T16:57:15.624Z"
   },
   {
    "duration": 5,
    "start_time": "2023-04-10T16:57:22.944Z"
   },
   {
    "duration": 14,
    "start_time": "2023-04-10T16:57:22.956Z"
   },
   {
    "duration": 0,
    "start_time": "2023-04-10T16:57:22.971Z"
   },
   {
    "duration": 0,
    "start_time": "2023-04-10T16:57:22.972Z"
   },
   {
    "duration": 0,
    "start_time": "2023-04-10T16:57:22.974Z"
   },
   {
    "duration": 0,
    "start_time": "2023-04-10T16:57:22.975Z"
   },
   {
    "duration": 116,
    "start_time": "2023-04-10T16:58:08.697Z"
   },
   {
    "duration": 37,
    "start_time": "2023-04-10T16:58:12.068Z"
   },
   {
    "duration": 2,
    "start_time": "2023-04-10T16:58:12.107Z"
   },
   {
    "duration": 11,
    "start_time": "2023-04-10T16:58:12.110Z"
   },
   {
    "duration": 0,
    "start_time": "2023-04-10T16:58:12.122Z"
   },
   {
    "duration": 29,
    "start_time": "2023-04-10T16:58:51.546Z"
   },
   {
    "duration": 23,
    "start_time": "2023-04-10T16:58:58.600Z"
   },
   {
    "duration": 1767,
    "start_time": "2023-04-12T19:00:46.793Z"
   },
   {
    "duration": 109,
    "start_time": "2023-04-12T19:00:48.564Z"
   },
   {
    "duration": 22,
    "start_time": "2023-04-12T19:00:48.675Z"
   },
   {
    "duration": 19,
    "start_time": "2023-04-12T19:00:48.699Z"
   },
   {
    "duration": 31,
    "start_time": "2023-04-12T19:00:48.721Z"
   },
   {
    "duration": 470,
    "start_time": "2023-04-12T19:00:48.754Z"
   },
   {
    "duration": 6,
    "start_time": "2023-04-12T19:00:49.226Z"
   },
   {
    "duration": 24,
    "start_time": "2023-04-12T19:00:49.234Z"
   },
   {
    "duration": 8,
    "start_time": "2023-04-12T19:00:49.260Z"
   },
   {
    "duration": 114,
    "start_time": "2023-04-12T19:00:49.270Z"
   },
   {
    "duration": 155,
    "start_time": "2023-04-12T19:00:49.386Z"
   },
   {
    "duration": 1075,
    "start_time": "2023-04-12T19:00:49.543Z"
   },
   {
    "duration": 8364,
    "start_time": "2023-04-12T19:00:50.619Z"
   },
   {
    "duration": 3,
    "start_time": "2023-04-12T19:00:58.985Z"
   },
   {
    "duration": 160,
    "start_time": "2023-04-12T19:00:58.989Z"
   },
   {
    "duration": 41,
    "start_time": "2023-04-12T19:00:59.152Z"
   },
   {
    "duration": 20,
    "start_time": "2023-04-12T19:00:59.194Z"
   },
   {
    "duration": 35,
    "start_time": "2023-04-12T19:00:59.225Z"
   },
   {
    "duration": 5,
    "start_time": "2023-04-12T19:00:59.262Z"
   },
   {
    "duration": 1884,
    "start_time": "2023-04-13T15:30:28.375Z"
   },
   {
    "duration": 132,
    "start_time": "2023-04-13T15:30:30.262Z"
   },
   {
    "duration": 13,
    "start_time": "2023-04-13T15:30:30.395Z"
   },
   {
    "duration": 45,
    "start_time": "2023-04-13T15:30:30.409Z"
   },
   {
    "duration": 34,
    "start_time": "2023-04-13T15:30:30.457Z"
   },
   {
    "duration": 411,
    "start_time": "2023-04-13T15:30:30.494Z"
   },
   {
    "duration": 4,
    "start_time": "2023-04-13T15:30:30.906Z"
   },
   {
    "duration": 68,
    "start_time": "2023-04-13T15:30:30.912Z"
   },
   {
    "duration": 46,
    "start_time": "2023-04-13T15:30:30.981Z"
   },
   {
    "duration": 122,
    "start_time": "2023-04-13T15:30:31.029Z"
   },
   {
    "duration": 137,
    "start_time": "2023-04-13T15:30:31.153Z"
   },
   {
    "duration": 928,
    "start_time": "2023-04-13T15:30:31.291Z"
   },
   {
    "duration": 7915,
    "start_time": "2023-04-13T15:30:32.221Z"
   },
   {
    "duration": 3,
    "start_time": "2023-04-13T15:30:40.139Z"
   },
   {
    "duration": 141,
    "start_time": "2023-04-13T15:30:40.144Z"
   },
   {
    "duration": 48,
    "start_time": "2023-04-13T15:30:40.287Z"
   },
   {
    "duration": 5,
    "start_time": "2023-04-13T15:30:40.337Z"
   },
   {
    "duration": 25,
    "start_time": "2023-04-13T15:30:40.344Z"
   },
   {
    "duration": 4,
    "start_time": "2023-04-13T15:30:40.371Z"
   },
   {
    "duration": 158,
    "start_time": "2023-04-13T15:36:55.212Z"
   },
   {
    "duration": 188,
    "start_time": "2023-04-13T15:36:57.937Z"
   },
   {
    "duration": 182,
    "start_time": "2023-04-13T15:39:25.704Z"
   },
   {
    "duration": 150,
    "start_time": "2023-04-13T15:40:00.299Z"
   },
   {
    "duration": 120,
    "start_time": "2023-04-13T15:40:11.093Z"
   },
   {
    "duration": 120,
    "start_time": "2023-04-13T15:40:52.120Z"
   },
   {
    "duration": 182,
    "start_time": "2023-04-13T15:41:03.345Z"
   },
   {
    "duration": 157,
    "start_time": "2023-04-13T15:41:07.577Z"
   },
   {
    "duration": 125,
    "start_time": "2023-04-13T15:41:31.259Z"
   },
   {
    "duration": 144,
    "start_time": "2023-04-13T15:41:32.160Z"
   },
   {
    "duration": 15,
    "start_time": "2023-04-13T15:46:06.900Z"
   },
   {
    "duration": 20,
    "start_time": "2023-04-13T15:47:25.229Z"
   },
   {
    "duration": 8,
    "start_time": "2023-04-13T15:47:28.096Z"
   },
   {
    "duration": 12,
    "start_time": "2023-04-13T15:48:31.124Z"
   },
   {
    "duration": 1658,
    "start_time": "2023-09-08T12:26:57.485Z"
   },
   {
    "duration": 126,
    "start_time": "2023-09-08T12:26:59.146Z"
   },
   {
    "duration": 12,
    "start_time": "2023-09-08T12:26:59.274Z"
   },
   {
    "duration": 8,
    "start_time": "2023-09-08T12:26:59.288Z"
   },
   {
    "duration": 23,
    "start_time": "2023-09-08T12:26:59.298Z"
   },
   {
    "duration": 344,
    "start_time": "2023-09-08T12:26:59.323Z"
   },
   {
    "duration": 4,
    "start_time": "2023-09-08T12:26:59.669Z"
   },
   {
    "duration": 15,
    "start_time": "2023-09-08T12:26:59.675Z"
   },
   {
    "duration": 4,
    "start_time": "2023-09-08T12:27:00.420Z"
   },
   {
    "duration": 218,
    "start_time": "2023-09-08T12:27:28.744Z"
   },
   {
    "duration": 153,
    "start_time": "2023-09-08T12:27:32.524Z"
   },
   {
    "duration": 259,
    "start_time": "2023-09-08T12:30:31.113Z"
   },
   {
    "duration": 160,
    "start_time": "2023-09-08T12:30:50.365Z"
   },
   {
    "duration": 239,
    "start_time": "2023-09-08T12:31:00.857Z"
   },
   {
    "duration": 148,
    "start_time": "2023-09-08T12:33:05.065Z"
   },
   {
    "duration": 134,
    "start_time": "2023-09-08T12:33:17.017Z"
   },
   {
    "duration": 161,
    "start_time": "2023-09-08T12:33:27.372Z"
   },
   {
    "duration": 156,
    "start_time": "2023-09-08T12:33:45.576Z"
   },
   {
    "duration": 205,
    "start_time": "2023-09-08T12:35:10.024Z"
   },
   {
    "duration": 211,
    "start_time": "2023-09-08T12:35:50.069Z"
   },
   {
    "duration": 196,
    "start_time": "2023-09-08T12:36:08.932Z"
   },
   {
    "duration": 225,
    "start_time": "2023-09-08T12:36:39.300Z"
   },
   {
    "duration": 164,
    "start_time": "2023-09-08T12:36:53.468Z"
   },
   {
    "duration": 227,
    "start_time": "2023-09-08T12:37:09.815Z"
   },
   {
    "duration": 210,
    "start_time": "2023-09-08T12:37:20.053Z"
   },
   {
    "duration": 298,
    "start_time": "2023-09-08T12:37:34.372Z"
   },
   {
    "duration": 175,
    "start_time": "2023-09-08T12:37:41.577Z"
   },
   {
    "duration": 169,
    "start_time": "2023-09-08T12:39:04.991Z"
   },
   {
    "duration": 231,
    "start_time": "2023-09-08T12:39:12.988Z"
   },
   {
    "duration": 168,
    "start_time": "2023-09-08T12:39:15.100Z"
   },
   {
    "duration": 135,
    "start_time": "2023-09-08T12:40:17.220Z"
   },
   {
    "duration": 179,
    "start_time": "2023-09-08T12:40:49.500Z"
   },
   {
    "duration": 148,
    "start_time": "2023-09-08T12:40:57.953Z"
   },
   {
    "duration": 146,
    "start_time": "2023-09-08T12:40:58.784Z"
   },
   {
    "duration": 151,
    "start_time": "2023-09-08T12:41:01.232Z"
   },
   {
    "duration": 167,
    "start_time": "2023-09-08T12:41:01.817Z"
   },
   {
    "duration": 239,
    "start_time": "2023-09-08T12:41:10.696Z"
   },
   {
    "duration": 179,
    "start_time": "2023-09-08T12:41:12.260Z"
   },
   {
    "duration": 8662,
    "start_time": "2023-09-08T12:41:56.213Z"
   },
   {
    "duration": 131,
    "start_time": "2023-09-08T12:42:53.440Z"
   },
   {
    "duration": 35613,
    "start_time": "2023-09-08T12:43:33.923Z"
   },
   {
    "duration": 150,
    "start_time": "2023-09-08T12:44:09.539Z"
   },
   {
    "duration": 17,
    "start_time": "2023-09-08T12:57:01.044Z"
   },
   {
    "duration": 6,
    "start_time": "2023-09-08T12:57:19.476Z"
   },
   {
    "duration": 276,
    "start_time": "2023-09-08T13:00:29.675Z"
   },
   {
    "duration": 38342,
    "start_time": "2023-09-08T13:01:23.092Z"
   },
   {
    "duration": 5,
    "start_time": "2023-09-08T13:02:05.068Z"
   },
   {
    "duration": 5,
    "start_time": "2023-09-08T13:02:15.780Z"
   },
   {
    "duration": 16,
    "start_time": "2023-09-08T13:02:23.466Z"
   },
   {
    "duration": 122,
    "start_time": "2023-09-08T13:02:31.491Z"
   },
   {
    "duration": 6,
    "start_time": "2023-09-08T13:03:12.243Z"
   },
   {
    "duration": 14,
    "start_time": "2023-09-08T13:03:24.124Z"
   },
   {
    "duration": 17,
    "start_time": "2023-09-08T13:03:31.303Z"
   },
   {
    "duration": 6,
    "start_time": "2023-09-08T13:03:45.367Z"
   },
   {
    "duration": 7,
    "start_time": "2023-09-08T13:04:10.047Z"
   },
   {
    "duration": 10,
    "start_time": "2023-09-08T13:04:14.320Z"
   },
   {
    "duration": 4,
    "start_time": "2023-09-08T13:04:25.159Z"
   },
   {
    "duration": 14,
    "start_time": "2023-09-08T13:04:28.999Z"
   },
   {
    "duration": 4,
    "start_time": "2023-09-08T13:04:35.735Z"
   },
   {
    "duration": 8,
    "start_time": "2023-09-08T13:04:37.991Z"
   },
   {
    "duration": 45378,
    "start_time": "2023-09-08T13:04:50.963Z"
   },
   {
    "duration": 9,
    "start_time": "2023-09-08T13:13:00.946Z"
   },
   {
    "duration": 3811,
    "start_time": "2023-09-08T13:13:42.241Z"
   },
   {
    "duration": 13,
    "start_time": "2023-09-08T13:13:48.445Z"
   },
   {
    "duration": 1529,
    "start_time": "2023-09-08T13:14:55.045Z"
   },
   {
    "duration": 1841,
    "start_time": "2023-09-08T13:15:10.957Z"
   },
   {
    "duration": 322,
    "start_time": "2023-09-08T13:15:51.931Z"
   },
   {
    "duration": 3037,
    "start_time": "2023-09-08T13:16:14.197Z"
   },
   {
    "duration": 7,
    "start_time": "2023-09-08T13:16:18.364Z"
   },
   {
    "duration": 364,
    "start_time": "2023-09-08T13:16:21.685Z"
   },
   {
    "duration": 2879,
    "start_time": "2023-09-08T13:16:57.940Z"
   },
   {
    "duration": 8,
    "start_time": "2023-09-08T13:17:02.489Z"
   },
   {
    "duration": 2912,
    "start_time": "2023-09-08T13:17:07.269Z"
   },
   {
    "duration": 10,
    "start_time": "2023-09-08T13:17:12.358Z"
   },
   {
    "duration": 254,
    "start_time": "2023-09-08T13:19:25.829Z"
   },
   {
    "duration": 2945,
    "start_time": "2023-09-08T13:19:38.984Z"
   },
   {
    "duration": 11,
    "start_time": "2023-09-08T13:19:44.057Z"
   },
   {
    "duration": 15,
    "start_time": "2023-09-08T13:20:00.132Z"
   },
   {
    "duration": 2859,
    "start_time": "2023-09-08T13:20:09.960Z"
   },
   {
    "duration": 21,
    "start_time": "2023-09-08T13:20:13.196Z"
   },
   {
    "duration": 333,
    "start_time": "2023-09-08T13:20:29.901Z"
   },
   {
    "duration": 145,
    "start_time": "2023-09-08T13:20:52.034Z"
   },
   {
    "duration": 2902,
    "start_time": "2023-09-08T13:21:26.293Z"
   },
   {
    "duration": 16,
    "start_time": "2023-09-08T13:21:29.200Z"
   },
   {
    "duration": 318,
    "start_time": "2023-09-08T13:21:37.600Z"
   },
   {
    "duration": 20,
    "start_time": "2023-09-08T13:23:49.331Z"
   },
   {
    "duration": 18,
    "start_time": "2023-09-08T13:24:36.148Z"
   },
   {
    "duration": 18,
    "start_time": "2023-09-08T13:24:42.629Z"
   },
   {
    "duration": 20,
    "start_time": "2023-09-08T13:24:52.215Z"
   },
   {
    "duration": 21,
    "start_time": "2023-09-08T13:25:02.655Z"
   },
   {
    "duration": 8077,
    "start_time": "2023-09-08T13:26:03.861Z"
   },
   {
    "duration": 11,
    "start_time": "2023-09-08T13:26:12.961Z"
   },
   {
    "duration": 1859,
    "start_time": "2023-09-08T13:26:24.961Z"
   },
   {
    "duration": 526,
    "start_time": "2023-09-08T13:26:38.672Z"
   },
   {
    "duration": 10,
    "start_time": "2023-09-08T13:27:37.082Z"
   },
   {
    "duration": 17,
    "start_time": "2023-09-08T13:28:14.397Z"
   },
   {
    "duration": 11,
    "start_time": "2023-09-08T13:28:20.477Z"
   },
   {
    "duration": 2464,
    "start_time": "2023-09-08T13:29:16.624Z"
   },
   {
    "duration": 11,
    "start_time": "2023-09-08T13:29:25.924Z"
   },
   {
    "duration": 2509,
    "start_time": "2023-09-08T13:30:15.486Z"
   },
   {
    "duration": 10,
    "start_time": "2023-09-08T13:30:21.162Z"
   },
   {
    "duration": 10,
    "start_time": "2023-09-08T15:09:20.922Z"
   },
   {
    "duration": 294,
    "start_time": "2023-09-08T15:09:22.485Z"
   },
   {
    "duration": 14,
    "start_time": "2023-09-08T15:10:06.493Z"
   },
   {
    "duration": 4,
    "start_time": "2023-09-08T15:10:13.990Z"
   },
   {
    "duration": 17,
    "start_time": "2023-09-08T15:10:24.190Z"
   },
   {
    "duration": 9,
    "start_time": "2023-09-08T15:10:33.175Z"
   },
   {
    "duration": 88,
    "start_time": "2023-09-08T15:11:26.290Z"
   },
   {
    "duration": 10,
    "start_time": "2023-09-08T15:11:33.018Z"
   },
   {
    "duration": 10,
    "start_time": "2023-09-08T15:11:40.977Z"
   },
   {
    "duration": 10,
    "start_time": "2023-09-08T15:11:46.382Z"
   },
   {
    "duration": 10,
    "start_time": "2023-09-08T15:11:50.082Z"
   },
   {
    "duration": 15,
    "start_time": "2023-09-08T15:12:13.627Z"
   },
   {
    "duration": 12,
    "start_time": "2023-09-08T15:12:23.897Z"
   },
   {
    "duration": 10,
    "start_time": "2023-09-08T15:12:25.932Z"
   },
   {
    "duration": 2735,
    "start_time": "2023-09-08T15:12:39.526Z"
   },
   {
    "duration": 4,
    "start_time": "2023-09-08T15:12:44.945Z"
   },
   {
    "duration": 11,
    "start_time": "2023-09-08T15:12:47.919Z"
   },
   {
    "duration": 2679,
    "start_time": "2023-09-08T15:13:23.559Z"
   },
   {
    "duration": 10,
    "start_time": "2023-09-08T15:13:27.881Z"
   },
   {
    "duration": 2558,
    "start_time": "2023-09-08T15:13:53.725Z"
   },
   {
    "duration": 10,
    "start_time": "2023-09-08T15:13:59.283Z"
   },
   {
    "duration": 37,
    "start_time": "2023-09-08T15:21:02.577Z"
   },
   {
    "duration": 5,
    "start_time": "2023-09-08T15:22:35.231Z"
   },
   {
    "duration": 14,
    "start_time": "2023-09-08T15:23:25.869Z"
   },
   {
    "duration": 196,
    "start_time": "2023-09-08T15:23:37.837Z"
   },
   {
    "duration": 203,
    "start_time": "2023-09-08T15:24:13.765Z"
   },
   {
    "duration": 177,
    "start_time": "2023-09-08T15:24:16.870Z"
   },
   {
    "duration": 100,
    "start_time": "2023-09-08T15:25:51.869Z"
   },
   {
    "duration": 85,
    "start_time": "2023-09-08T15:25:56.395Z"
   },
   {
    "duration": 50,
    "start_time": "2023-09-08T15:26:03.797Z"
   },
   {
    "duration": 16,
    "start_time": "2023-09-08T15:26:12.551Z"
   },
   {
    "duration": 17,
    "start_time": "2023-09-08T15:26:16.501Z"
   },
   {
    "duration": 5,
    "start_time": "2023-09-08T15:26:44.325Z"
   },
   {
    "duration": 4,
    "start_time": "2023-09-08T15:27:35.768Z"
   },
   {
    "duration": 12,
    "start_time": "2023-09-08T15:27:42.972Z"
   },
   {
    "duration": 13,
    "start_time": "2023-09-08T15:27:48.673Z"
   },
   {
    "duration": 4,
    "start_time": "2023-09-08T15:28:22.177Z"
   },
   {
    "duration": 24,
    "start_time": "2023-09-08T15:28:24.635Z"
   },
   {
    "duration": 65751,
    "start_time": "2023-09-08T15:28:46.576Z"
   },
   {
    "duration": 3,
    "start_time": "2023-09-08T15:29:59.945Z"
   },
   {
    "duration": 11,
    "start_time": "2023-09-08T15:30:02.371Z"
   },
   {
    "duration": 4,
    "start_time": "2023-09-08T15:30:05.792Z"
   },
   {
    "duration": 2274993,
    "start_time": "2023-09-08T15:30:37.492Z"
   },
   {
    "duration": 4,
    "start_time": "2023-09-08T16:12:06.163Z"
   },
   {
    "duration": 8,
    "start_time": "2023-09-08T16:12:15.099Z"
   },
   {
    "duration": 63191,
    "start_time": "2023-09-08T16:12:56.823Z"
   },
   {
    "duration": 7,
    "start_time": "2023-09-08T16:14:13.909Z"
   },
   {
    "duration": 4,
    "start_time": "2023-09-08T16:14:22.791Z"
   },
   {
    "duration": 21,
    "start_time": "2023-09-08T16:16:17.051Z"
   },
   {
    "duration": 155,
    "start_time": "2023-09-08T16:16:20.028Z"
   }
  ],
  "kernelspec": {
   "display_name": "Python 3 (ipykernel)",
   "language": "python",
   "name": "python3"
  },
  "language_info": {
   "codemirror_mode": {
    "name": "ipython",
    "version": 3
   },
   "file_extension": ".py",
   "mimetype": "text/x-python",
   "name": "python",
   "nbconvert_exporter": "python",
   "pygments_lexer": "ipython3",
   "version": "3.9.5"
  },
  "toc": {
   "base_numbering": 1,
   "nav_menu": {},
   "number_sections": true,
   "sideBar": true,
   "skip_h1_title": true,
   "title_cell": "Table of Contents",
   "title_sidebar": "Contents",
   "toc_cell": false,
   "toc_position": {},
   "toc_section_display": true,
   "toc_window_display": true
  }
 },
 "nbformat": 4,
 "nbformat_minor": 2
}
