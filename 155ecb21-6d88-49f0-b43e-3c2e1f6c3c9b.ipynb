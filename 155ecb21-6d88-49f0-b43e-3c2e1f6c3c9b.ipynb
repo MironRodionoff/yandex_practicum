{
 "cells": [
  {
   "cell_type": "markdown",
   "metadata": {
    "toc": true
   },
   "source": [
    "<h1>Содержание<span class=\"tocSkip\"></span></h1>\n",
    "<div class=\"toc\"><ul class=\"toc-item\"><li><span><a href=\"#Подготовка-данных\" data-toc-modified-id=\"Подготовка-данных-1\"><span class=\"toc-item-num\">1&nbsp;&nbsp;</span>Подготовка данных</a></span></li><li><span><a href=\"#Анализ-данных\" data-toc-modified-id=\"Анализ-данных-2\"><span class=\"toc-item-num\">2&nbsp;&nbsp;</span>Анализ данных</a></span><ul class=\"toc-item\"><li><span><a href=\"#Исследуем-суммарную-концентрацию-металлов-на-разных-стадиях:-в-сырье,-в-черновом-концентрате,-в-концентрате-после-первой-очистки-и-в-финальном-концентрате.\" data-toc-modified-id=\"Исследуем-суммарную-концентрацию-металлов-на-разных-стадиях:-в-сырье,-в-черновом-концентрате,-в-концентрате-после-первой-очистки-и-в-финальном-концентрате.-2.1\"><span class=\"toc-item-num\">2.1&nbsp;&nbsp;</span>Исследуем суммарную концентрацию металлов на разных стадиях: в сырье, в черновом концентрате, в концентрате после первой очистки и в финальном концентрате.</a></span></li></ul></li><li><span><a href=\"#Подготовка-к-обучению\" data-toc-modified-id=\"Подготовка-к-обучению-3\"><span class=\"toc-item-num\">3&nbsp;&nbsp;</span>Подготовка к обучению</a></span></li><li><span><a href=\"#Модель\" data-toc-modified-id=\"Модель-4\"><span class=\"toc-item-num\">4&nbsp;&nbsp;</span>Модель</a></span></li><li><span><a href=\"#Итоговые-выводы\" data-toc-modified-id=\"Итоговые-выводы-5\"><span class=\"toc-item-num\">5&nbsp;&nbsp;</span>Итоговые выводы</a></span></li></ul></div>"
   ]
  },
  {
   "cell_type": "markdown",
   "metadata": {},
   "source": [
    "# Восстановление золота из руды"
   ]
  },
  {
   "cell_type": "markdown",
   "metadata": {},
   "source": [
    "Подготовим прототип модели машинного обучения для «Цифры». Компания разрабатывает решения для эффективной работы промышленных предприятий.\n",
    "\n",
    "Модель должна предсказать коэффициент восстановления золота из золотосодержащей руды. Используем данные с параметрами добычи и очистки. \n",
    "\n",
    "Модель поможет оптимизировать производство, чтобы не запускать предприятие с убыточными характеристиками.\n",
    "\n",
    "Нам нужно:\n",
    "\n",
    "1. Подготовить данные;\n",
    "2. Провести исследовательский анализ данных;\n",
    "3. Построить и обучить модель.\n",
    "\n"
   ]
  },
  {
   "cell_type": "markdown",
   "metadata": {},
   "source": [
    "**Описание данных**\n",
    "* Технологический процесс\n",
    "> Rougher feed — исходное сырье  \n",
    "Rougher additions (или reagent additions) — флотационные реагенты: Xanthate, Sulphate, Depressant  \n",
    "Xanthate — ксантогенат (промотер, или активатор флотации);  \n",
    "Sulphate — сульфат (на данном производстве сульфид натрия);  \n",
    "Depressant — депрессант (силикат натрия).  \n",
    "Rougher process (англ. «грубый процесс») — флотация  \n",
    "Rougher tails — отвальные хвосты  \n",
    "Float banks — флотационная установка  \n",
    "Cleaner process — очистка  \n",
    "Rougher Au — черновой концентрат золота  \n",
    "Final Au — финальный концентрат золота  \n",
    "* Параметры этапов\n",
    "> air amount — объём воздуха  \n",
    "fluid levels — уровень жидкости  \n",
    "feed size — размер гранул сырья  \n",
    "feed rate — скорость подачи  "
   ]
  },
  {
   "cell_type": "markdown",
   "metadata": {},
   "source": [
    "## Подготовка данных"
   ]
  },
  {
   "cell_type": "code",
   "execution_count": 62,
   "metadata": {},
   "outputs": [],
   "source": [
    "import pandas as pd\n",
    "pd.set_option('display.max_columns', 100)\n",
    "\n",
    "import numpy as np\n",
    "state = np.random.RandomState(123)\n",
    "\n",
    "import matplotlib.pyplot as plt\n",
    "\n",
    "from sklearn.metrics import mean_absolute_error\n",
    "from sklearn.preprocessing import StandardScaler\n",
    "from sklearn.model_selection import train_test_split\n",
    "from sklearn.tree import DecisionTreeRegressor\n",
    "from sklearn.ensemble import RandomForestRegressor\n",
    "from sklearn.linear_model import LinearRegression\n",
    "from sklearn.metrics import make_scorer\n",
    "from sklearn.model_selection import cross_val_score\n",
    "from sklearn.dummy import DummyRegressor\n",
    "\n",
    "from tqdm.notebook import tqdm"
   ]
  },
  {
   "cell_type": "code",
   "execution_count": 60,
   "metadata": {},
   "outputs": [
    {
     "name": "stdout",
     "output_type": "stream",
     "text": [
      "Requirement already satisfied: tqdm in /opt/conda/lib/python3.9/site-packages (4.61.2)\n",
      "Note: you may need to restart the kernel to use updated packages.\n"
     ]
    }
   ],
   "source": [
    "pip install tqdm"
   ]
  },
  {
   "cell_type": "code",
   "execution_count": 2,
   "metadata": {},
   "outputs": [],
   "source": [
    "df_train = pd.read_csv('/datasets/gold_industry_train.csv')"
   ]
  },
  {
   "cell_type": "code",
   "execution_count": 3,
   "metadata": {
    "scrolled": true
   },
   "outputs": [
    {
     "name": "stdout",
     "output_type": "stream",
     "text": [
      "<class 'pandas.core.frame.DataFrame'>\n",
      "RangeIndex: 14579 entries, 0 to 14578\n",
      "Data columns (total 87 columns):\n",
      " #   Column                                              Non-Null Count  Dtype  \n",
      "---  ------                                              --------------  -----  \n",
      " 0   date                                                14579 non-null  object \n",
      " 1   rougher.input.feed_au                               14579 non-null  float64\n",
      " 2   rougher.input.feed_ag                               14579 non-null  float64\n",
      " 3   rougher.input.feed_pb                               14507 non-null  float64\n",
      " 4   rougher.input.feed_sol                              14502 non-null  float64\n",
      " 5   rougher.input.feed_rate                             14572 non-null  float64\n",
      " 6   rougher.input.feed_size                             14478 non-null  float64\n",
      " 7   rougher.input.floatbank10_sulfate                   14548 non-null  float64\n",
      " 8   rougher.input.floatbank10_xanthate                  14572 non-null  float64\n",
      " 9   rougher.state.floatbank10_a_air                     14579 non-null  float64\n",
      " 10  rougher.state.floatbank10_a_level                   14579 non-null  float64\n",
      " 11  rougher.state.floatbank10_b_air                     14579 non-null  float64\n",
      " 12  rougher.state.floatbank10_b_level                   14579 non-null  float64\n",
      " 13  rougher.state.floatbank10_c_air                     14579 non-null  float64\n",
      " 14  rougher.state.floatbank10_c_level                   14579 non-null  float64\n",
      " 15  rougher.state.floatbank10_d_air                     14579 non-null  float64\n",
      " 16  rougher.state.floatbank10_d_level                   14579 non-null  float64\n",
      " 17  rougher.state.floatbank10_e_air                     14150 non-null  float64\n",
      " 18  rougher.state.floatbank10_e_level                   14579 non-null  float64\n",
      " 19  rougher.state.floatbank10_f_air                     14579 non-null  float64\n",
      " 20  rougher.state.floatbank10_f_level                   14579 non-null  float64\n",
      " 21  rougher.input.floatbank11_sulfate                   14543 non-null  float64\n",
      " 22  rougher.input.floatbank11_xanthate                  14172 non-null  float64\n",
      " 23  rougher.calculation.sulfate_to_au_concentrate       14578 non-null  float64\n",
      " 24  rougher.calculation.floatbank10_sulfate_to_au_feed  14578 non-null  float64\n",
      " 25  rougher.calculation.floatbank11_sulfate_to_au_feed  14578 non-null  float64\n",
      " 26  rougher.calculation.au_pb_ratio                     14579 non-null  float64\n",
      " 27  rougher.output.concentrate_au                       14579 non-null  float64\n",
      " 28  rougher.output.concentrate_ag                       14579 non-null  float64\n",
      " 29  rougher.output.concentrate_pb                       14579 non-null  float64\n",
      " 30  rougher.output.concentrate_sol                      14561 non-null  float64\n",
      " 31  rougher.output.recovery                             14579 non-null  float64\n",
      " 32  rougher.output.tail_au                              14579 non-null  float64\n",
      " 33  rougher.output.tail_ag                              14578 non-null  float64\n",
      " 34  rougher.output.tail_pb                              14579 non-null  float64\n",
      " 35  rougher.output.tail_sol                             14579 non-null  float64\n",
      " 36  primary_cleaner.input.sulfate                       14556 non-null  float64\n",
      " 37  primary_cleaner.input.depressant                    14551 non-null  float64\n",
      " 38  primary_cleaner.input.feed_size                     14579 non-null  float64\n",
      " 39  primary_cleaner.input.xanthate                      14518 non-null  float64\n",
      " 40  primary_cleaner.state.floatbank8_a_air              14576 non-null  float64\n",
      " 41  primary_cleaner.state.floatbank8_a_level            14579 non-null  float64\n",
      " 42  primary_cleaner.state.floatbank8_b_air              14576 non-null  float64\n",
      " 43  primary_cleaner.state.floatbank8_b_level            14579 non-null  float64\n",
      " 44  primary_cleaner.state.floatbank8_c_air              14579 non-null  float64\n",
      " 45  primary_cleaner.state.floatbank8_c_level            14579 non-null  float64\n",
      " 46  primary_cleaner.state.floatbank8_d_air              14578 non-null  float64\n",
      " 47  primary_cleaner.state.floatbank8_d_level            14579 non-null  float64\n",
      " 48  primary_cleaner.output.concentrate_au               14579 non-null  float64\n",
      " 49  primary_cleaner.output.concentrate_ag               14579 non-null  float64\n",
      " 50  primary_cleaner.output.concentrate_pb               14491 non-null  float64\n",
      " 51  primary_cleaner.output.concentrate_sol              14314 non-null  float64\n",
      " 52  primary_cleaner.output.tail_au                      14579 non-null  float64\n",
      " 53  primary_cleaner.output.tail_ag                      14575 non-null  float64\n",
      " 54  primary_cleaner.output.tail_pb                      14573 non-null  float64\n",
      " 55  primary_cleaner.output.tail_sol                     14534 non-null  float64\n",
      " 56  secondary_cleaner.state.floatbank2_a_air            14485 non-null  float64\n",
      " 57  secondary_cleaner.state.floatbank2_a_level          14579 non-null  float64\n",
      " 58  secondary_cleaner.state.floatbank2_b_air            14557 non-null  float64\n",
      " 59  secondary_cleaner.state.floatbank2_b_level          14579 non-null  float64\n",
      " 60  secondary_cleaner.state.floatbank3_a_air            14567 non-null  float64\n",
      " 61  secondary_cleaner.state.floatbank3_a_level          14579 non-null  float64\n",
      " 62  secondary_cleaner.state.floatbank3_b_air            14579 non-null  float64\n",
      " 63  secondary_cleaner.state.floatbank3_b_level          14579 non-null  float64\n",
      " 64  secondary_cleaner.state.floatbank4_a_air            14574 non-null  float64\n",
      " 65  secondary_cleaner.state.floatbank4_a_level          14579 non-null  float64\n",
      " 66  secondary_cleaner.state.floatbank4_b_air            14579 non-null  float64\n",
      " 67  secondary_cleaner.state.floatbank4_b_level          14579 non-null  float64\n",
      " 68  secondary_cleaner.state.floatbank5_a_air            14579 non-null  float64\n",
      " 69  secondary_cleaner.state.floatbank5_a_level          14579 non-null  float64\n",
      " 70  secondary_cleaner.state.floatbank5_b_air            14579 non-null  float64\n",
      " 71  secondary_cleaner.state.floatbank5_b_level          14579 non-null  float64\n",
      " 72  secondary_cleaner.state.floatbank6_a_air            14578 non-null  float64\n",
      " 73  secondary_cleaner.state.floatbank6_a_level          14579 non-null  float64\n",
      " 74  secondary_cleaner.output.tail_au                    14579 non-null  float64\n",
      " 75  secondary_cleaner.output.tail_ag                    14578 non-null  float64\n",
      " 76  secondary_cleaner.output.tail_pb                    14575 non-null  float64\n",
      " 77  secondary_cleaner.output.tail_sol                   13659 non-null  float64\n",
      " 78  final.output.concentrate_au                         14579 non-null  float64\n",
      " 79  final.output.concentrate_ag                         14578 non-null  float64\n",
      " 80  final.output.concentrate_pb                         14578 non-null  float64\n",
      " 81  final.output.concentrate_sol                        14387 non-null  float64\n",
      " 82  final.output.recovery                               14579 non-null  float64\n",
      " 83  final.output.tail_au                                14579 non-null  float64\n",
      " 84  final.output.tail_ag                                14578 non-null  float64\n",
      " 85  final.output.tail_pb                                14504 non-null  float64\n",
      " 86  final.output.tail_sol                               14574 non-null  float64\n",
      "dtypes: float64(86), object(1)\n",
      "memory usage: 9.7+ MB\n"
     ]
    }
   ],
   "source": [
    "df_train.info()"
   ]
  },
  {
   "cell_type": "code",
   "execution_count": 4,
   "metadata": {},
   "outputs": [],
   "source": [
    "df_train = df_train.fillna(method='ffill')"
   ]
  },
  {
   "cell_type": "code",
   "execution_count": 5,
   "metadata": {
    "scrolled": true
   },
   "outputs": [
    {
     "name": "stdout",
     "output_type": "stream",
     "text": [
      "<class 'pandas.core.frame.DataFrame'>\n",
      "RangeIndex: 14579 entries, 0 to 14578\n",
      "Data columns (total 87 columns):\n",
      " #   Column                                              Non-Null Count  Dtype  \n",
      "---  ------                                              --------------  -----  \n",
      " 0   date                                                14579 non-null  object \n",
      " 1   rougher.input.feed_au                               14579 non-null  float64\n",
      " 2   rougher.input.feed_ag                               14579 non-null  float64\n",
      " 3   rougher.input.feed_pb                               14579 non-null  float64\n",
      " 4   rougher.input.feed_sol                              14579 non-null  float64\n",
      " 5   rougher.input.feed_rate                             14579 non-null  float64\n",
      " 6   rougher.input.feed_size                             14579 non-null  float64\n",
      " 7   rougher.input.floatbank10_sulfate                   14579 non-null  float64\n",
      " 8   rougher.input.floatbank10_xanthate                  14579 non-null  float64\n",
      " 9   rougher.state.floatbank10_a_air                     14579 non-null  float64\n",
      " 10  rougher.state.floatbank10_a_level                   14579 non-null  float64\n",
      " 11  rougher.state.floatbank10_b_air                     14579 non-null  float64\n",
      " 12  rougher.state.floatbank10_b_level                   14579 non-null  float64\n",
      " 13  rougher.state.floatbank10_c_air                     14579 non-null  float64\n",
      " 14  rougher.state.floatbank10_c_level                   14579 non-null  float64\n",
      " 15  rougher.state.floatbank10_d_air                     14579 non-null  float64\n",
      " 16  rougher.state.floatbank10_d_level                   14579 non-null  float64\n",
      " 17  rougher.state.floatbank10_e_air                     14579 non-null  float64\n",
      " 18  rougher.state.floatbank10_e_level                   14579 non-null  float64\n",
      " 19  rougher.state.floatbank10_f_air                     14579 non-null  float64\n",
      " 20  rougher.state.floatbank10_f_level                   14579 non-null  float64\n",
      " 21  rougher.input.floatbank11_sulfate                   14579 non-null  float64\n",
      " 22  rougher.input.floatbank11_xanthate                  14579 non-null  float64\n",
      " 23  rougher.calculation.sulfate_to_au_concentrate       14579 non-null  float64\n",
      " 24  rougher.calculation.floatbank10_sulfate_to_au_feed  14579 non-null  float64\n",
      " 25  rougher.calculation.floatbank11_sulfate_to_au_feed  14579 non-null  float64\n",
      " 26  rougher.calculation.au_pb_ratio                     14579 non-null  float64\n",
      " 27  rougher.output.concentrate_au                       14579 non-null  float64\n",
      " 28  rougher.output.concentrate_ag                       14579 non-null  float64\n",
      " 29  rougher.output.concentrate_pb                       14579 non-null  float64\n",
      " 30  rougher.output.concentrate_sol                      14579 non-null  float64\n",
      " 31  rougher.output.recovery                             14579 non-null  float64\n",
      " 32  rougher.output.tail_au                              14579 non-null  float64\n",
      " 33  rougher.output.tail_ag                              14579 non-null  float64\n",
      " 34  rougher.output.tail_pb                              14579 non-null  float64\n",
      " 35  rougher.output.tail_sol                             14579 non-null  float64\n",
      " 36  primary_cleaner.input.sulfate                       14579 non-null  float64\n",
      " 37  primary_cleaner.input.depressant                    14579 non-null  float64\n",
      " 38  primary_cleaner.input.feed_size                     14579 non-null  float64\n",
      " 39  primary_cleaner.input.xanthate                      14579 non-null  float64\n",
      " 40  primary_cleaner.state.floatbank8_a_air              14579 non-null  float64\n",
      " 41  primary_cleaner.state.floatbank8_a_level            14579 non-null  float64\n",
      " 42  primary_cleaner.state.floatbank8_b_air              14579 non-null  float64\n",
      " 43  primary_cleaner.state.floatbank8_b_level            14579 non-null  float64\n",
      " 44  primary_cleaner.state.floatbank8_c_air              14579 non-null  float64\n",
      " 45  primary_cleaner.state.floatbank8_c_level            14579 non-null  float64\n",
      " 46  primary_cleaner.state.floatbank8_d_air              14579 non-null  float64\n",
      " 47  primary_cleaner.state.floatbank8_d_level            14579 non-null  float64\n",
      " 48  primary_cleaner.output.concentrate_au               14579 non-null  float64\n",
      " 49  primary_cleaner.output.concentrate_ag               14579 non-null  float64\n",
      " 50  primary_cleaner.output.concentrate_pb               14579 non-null  float64\n",
      " 51  primary_cleaner.output.concentrate_sol              14579 non-null  float64\n",
      " 52  primary_cleaner.output.tail_au                      14579 non-null  float64\n",
      " 53  primary_cleaner.output.tail_ag                      14579 non-null  float64\n",
      " 54  primary_cleaner.output.tail_pb                      14579 non-null  float64\n",
      " 55  primary_cleaner.output.tail_sol                     14579 non-null  float64\n",
      " 56  secondary_cleaner.state.floatbank2_a_air            14579 non-null  float64\n",
      " 57  secondary_cleaner.state.floatbank2_a_level          14579 non-null  float64\n",
      " 58  secondary_cleaner.state.floatbank2_b_air            14579 non-null  float64\n",
      " 59  secondary_cleaner.state.floatbank2_b_level          14579 non-null  float64\n",
      " 60  secondary_cleaner.state.floatbank3_a_air            14579 non-null  float64\n",
      " 61  secondary_cleaner.state.floatbank3_a_level          14579 non-null  float64\n",
      " 62  secondary_cleaner.state.floatbank3_b_air            14579 non-null  float64\n",
      " 63  secondary_cleaner.state.floatbank3_b_level          14579 non-null  float64\n",
      " 64  secondary_cleaner.state.floatbank4_a_air            14579 non-null  float64\n",
      " 65  secondary_cleaner.state.floatbank4_a_level          14579 non-null  float64\n",
      " 66  secondary_cleaner.state.floatbank4_b_air            14579 non-null  float64\n",
      " 67  secondary_cleaner.state.floatbank4_b_level          14579 non-null  float64\n",
      " 68  secondary_cleaner.state.floatbank5_a_air            14579 non-null  float64\n",
      " 69  secondary_cleaner.state.floatbank5_a_level          14579 non-null  float64\n",
      " 70  secondary_cleaner.state.floatbank5_b_air            14579 non-null  float64\n",
      " 71  secondary_cleaner.state.floatbank5_b_level          14579 non-null  float64\n",
      " 72  secondary_cleaner.state.floatbank6_a_air            14579 non-null  float64\n",
      " 73  secondary_cleaner.state.floatbank6_a_level          14579 non-null  float64\n",
      " 74  secondary_cleaner.output.tail_au                    14579 non-null  float64\n",
      " 75  secondary_cleaner.output.tail_ag                    14579 non-null  float64\n",
      " 76  secondary_cleaner.output.tail_pb                    14579 non-null  float64\n",
      " 77  secondary_cleaner.output.tail_sol                   14579 non-null  float64\n",
      " 78  final.output.concentrate_au                         14579 non-null  float64\n",
      " 79  final.output.concentrate_ag                         14579 non-null  float64\n",
      " 80  final.output.concentrate_pb                         14579 non-null  float64\n",
      " 81  final.output.concentrate_sol                        14579 non-null  float64\n",
      " 82  final.output.recovery                               14579 non-null  float64\n",
      " 83  final.output.tail_au                                14579 non-null  float64\n",
      " 84  final.output.tail_ag                                14579 non-null  float64\n",
      " 85  final.output.tail_pb                                14579 non-null  float64\n",
      " 86  final.output.tail_sol                               14579 non-null  float64\n",
      "dtypes: float64(86), object(1)\n",
      "memory usage: 9.7+ MB\n"
     ]
    }
   ],
   "source": [
    "df_train.info()"
   ]
  },
  {
   "cell_type": "code",
   "execution_count": 6,
   "metadata": {},
   "outputs": [
    {
     "data": {
      "text/html": [
       "<div>\n",
       "<style scoped>\n",
       "    .dataframe tbody tr th:only-of-type {\n",
       "        vertical-align: middle;\n",
       "    }\n",
       "\n",
       "    .dataframe tbody tr th {\n",
       "        vertical-align: top;\n",
       "    }\n",
       "\n",
       "    .dataframe thead th {\n",
       "        text-align: right;\n",
       "    }\n",
       "</style>\n",
       "<table border=\"1\" class=\"dataframe\">\n",
       "  <thead>\n",
       "    <tr style=\"text-align: right;\">\n",
       "      <th></th>\n",
       "      <th>date</th>\n",
       "      <th>rougher.input.feed_au</th>\n",
       "      <th>rougher.input.feed_ag</th>\n",
       "      <th>rougher.input.feed_pb</th>\n",
       "      <th>rougher.input.feed_sol</th>\n",
       "      <th>rougher.input.feed_rate</th>\n",
       "      <th>rougher.input.feed_size</th>\n",
       "      <th>rougher.input.floatbank10_sulfate</th>\n",
       "      <th>rougher.input.floatbank10_xanthate</th>\n",
       "      <th>rougher.state.floatbank10_a_air</th>\n",
       "      <th>rougher.state.floatbank10_a_level</th>\n",
       "      <th>rougher.state.floatbank10_b_air</th>\n",
       "      <th>rougher.state.floatbank10_b_level</th>\n",
       "      <th>rougher.state.floatbank10_c_air</th>\n",
       "      <th>rougher.state.floatbank10_c_level</th>\n",
       "      <th>rougher.state.floatbank10_d_air</th>\n",
       "      <th>rougher.state.floatbank10_d_level</th>\n",
       "      <th>rougher.state.floatbank10_e_air</th>\n",
       "      <th>rougher.state.floatbank10_e_level</th>\n",
       "      <th>rougher.state.floatbank10_f_air</th>\n",
       "      <th>rougher.state.floatbank10_f_level</th>\n",
       "      <th>rougher.input.floatbank11_sulfate</th>\n",
       "      <th>rougher.input.floatbank11_xanthate</th>\n",
       "      <th>rougher.calculation.sulfate_to_au_concentrate</th>\n",
       "      <th>rougher.calculation.floatbank10_sulfate_to_au_feed</th>\n",
       "      <th>rougher.calculation.floatbank11_sulfate_to_au_feed</th>\n",
       "      <th>rougher.calculation.au_pb_ratio</th>\n",
       "      <th>rougher.output.concentrate_au</th>\n",
       "      <th>rougher.output.concentrate_ag</th>\n",
       "      <th>rougher.output.concentrate_pb</th>\n",
       "      <th>rougher.output.concentrate_sol</th>\n",
       "      <th>rougher.output.recovery</th>\n",
       "      <th>rougher.output.tail_au</th>\n",
       "      <th>rougher.output.tail_ag</th>\n",
       "      <th>rougher.output.tail_pb</th>\n",
       "      <th>rougher.output.tail_sol</th>\n",
       "      <th>primary_cleaner.input.sulfate</th>\n",
       "      <th>primary_cleaner.input.depressant</th>\n",
       "      <th>primary_cleaner.input.feed_size</th>\n",
       "      <th>primary_cleaner.input.xanthate</th>\n",
       "      <th>primary_cleaner.state.floatbank8_a_air</th>\n",
       "      <th>primary_cleaner.state.floatbank8_a_level</th>\n",
       "      <th>primary_cleaner.state.floatbank8_b_air</th>\n",
       "      <th>primary_cleaner.state.floatbank8_b_level</th>\n",
       "      <th>primary_cleaner.state.floatbank8_c_air</th>\n",
       "      <th>primary_cleaner.state.floatbank8_c_level</th>\n",
       "      <th>primary_cleaner.state.floatbank8_d_air</th>\n",
       "      <th>primary_cleaner.state.floatbank8_d_level</th>\n",
       "      <th>primary_cleaner.output.concentrate_au</th>\n",
       "      <th>primary_cleaner.output.concentrate_ag</th>\n",
       "      <th>primary_cleaner.output.concentrate_pb</th>\n",
       "      <th>primary_cleaner.output.concentrate_sol</th>\n",
       "      <th>primary_cleaner.output.tail_au</th>\n",
       "      <th>primary_cleaner.output.tail_ag</th>\n",
       "      <th>primary_cleaner.output.tail_pb</th>\n",
       "      <th>primary_cleaner.output.tail_sol</th>\n",
       "      <th>secondary_cleaner.state.floatbank2_a_air</th>\n",
       "      <th>secondary_cleaner.state.floatbank2_a_level</th>\n",
       "      <th>secondary_cleaner.state.floatbank2_b_air</th>\n",
       "      <th>secondary_cleaner.state.floatbank2_b_level</th>\n",
       "      <th>secondary_cleaner.state.floatbank3_a_air</th>\n",
       "      <th>secondary_cleaner.state.floatbank3_a_level</th>\n",
       "      <th>secondary_cleaner.state.floatbank3_b_air</th>\n",
       "      <th>secondary_cleaner.state.floatbank3_b_level</th>\n",
       "      <th>secondary_cleaner.state.floatbank4_a_air</th>\n",
       "      <th>secondary_cleaner.state.floatbank4_a_level</th>\n",
       "      <th>secondary_cleaner.state.floatbank4_b_air</th>\n",
       "      <th>secondary_cleaner.state.floatbank4_b_level</th>\n",
       "      <th>secondary_cleaner.state.floatbank5_a_air</th>\n",
       "      <th>secondary_cleaner.state.floatbank5_a_level</th>\n",
       "      <th>secondary_cleaner.state.floatbank5_b_air</th>\n",
       "      <th>secondary_cleaner.state.floatbank5_b_level</th>\n",
       "      <th>secondary_cleaner.state.floatbank6_a_air</th>\n",
       "      <th>secondary_cleaner.state.floatbank6_a_level</th>\n",
       "      <th>secondary_cleaner.output.tail_au</th>\n",
       "      <th>secondary_cleaner.output.tail_ag</th>\n",
       "      <th>secondary_cleaner.output.tail_pb</th>\n",
       "      <th>secondary_cleaner.output.tail_sol</th>\n",
       "      <th>final.output.concentrate_au</th>\n",
       "      <th>final.output.concentrate_ag</th>\n",
       "      <th>final.output.concentrate_pb</th>\n",
       "      <th>final.output.concentrate_sol</th>\n",
       "      <th>final.output.recovery</th>\n",
       "      <th>final.output.tail_au</th>\n",
       "      <th>final.output.tail_ag</th>\n",
       "      <th>final.output.tail_pb</th>\n",
       "      <th>final.output.tail_sol</th>\n",
       "    </tr>\n",
       "  </thead>\n",
       "  <tbody>\n",
       "    <tr>\n",
       "      <th>0</th>\n",
       "      <td>2016-01-15 00:00:00</td>\n",
       "      <td>6.486150</td>\n",
       "      <td>6.100378</td>\n",
       "      <td>2.284912</td>\n",
       "      <td>36.808594</td>\n",
       "      <td>523.546326</td>\n",
       "      <td>55.486599</td>\n",
       "      <td>11.986616</td>\n",
       "      <td>6.007990</td>\n",
       "      <td>999.706909</td>\n",
       "      <td>-404.066986</td>\n",
       "      <td>1603.011353</td>\n",
       "      <td>-434.715027</td>\n",
       "      <td>1602.375000</td>\n",
       "      <td>-442.204468</td>\n",
       "      <td>1598.937256</td>\n",
       "      <td>-451.294128</td>\n",
       "      <td>1404.472046</td>\n",
       "      <td>-455.462982</td>\n",
       "      <td>1416.354980</td>\n",
       "      <td>-451.939636</td>\n",
       "      <td>11.836743</td>\n",
       "      <td>6.005818</td>\n",
       "      <td>41885.707031</td>\n",
       "      <td>3481.779053</td>\n",
       "      <td>3520.337158</td>\n",
       "      <td>2.838687</td>\n",
       "      <td>19.793808</td>\n",
       "      <td>11.500771</td>\n",
       "      <td>7.101074</td>\n",
       "      <td>28.029297</td>\n",
       "      <td>87.107763</td>\n",
       "      <td>1.170244</td>\n",
       "      <td>5.008018</td>\n",
       "      <td>0.508728</td>\n",
       "      <td>19.154297</td>\n",
       "      <td>127.092003</td>\n",
       "      <td>10.128295</td>\n",
       "      <td>7.25</td>\n",
       "      <td>0.988759</td>\n",
       "      <td>1549.775757</td>\n",
       "      <td>-498.912140</td>\n",
       "      <td>1551.434204</td>\n",
       "      <td>-516.403442</td>\n",
       "      <td>1549.873901</td>\n",
       "      <td>-498.666595</td>\n",
       "      <td>1554.367432</td>\n",
       "      <td>-493.428131</td>\n",
       "      <td>34.174427</td>\n",
       "      <td>8.547551</td>\n",
       "      <td>10.389648</td>\n",
       "      <td>19.529297</td>\n",
       "      <td>2.106679</td>\n",
       "      <td>14.936526</td>\n",
       "      <td>2.534912</td>\n",
       "      <td>7.476074</td>\n",
       "      <td>25.853109</td>\n",
       "      <td>-498.526489</td>\n",
       "      <td>23.893660</td>\n",
       "      <td>-501.406281</td>\n",
       "      <td>23.961798</td>\n",
       "      <td>-495.262817</td>\n",
       "      <td>21.940409</td>\n",
       "      <td>-499.340973</td>\n",
       "      <td>14.016835</td>\n",
       "      <td>-502.488007</td>\n",
       "      <td>12.099931</td>\n",
       "      <td>-504.715942</td>\n",
       "      <td>9.925633</td>\n",
       "      <td>-498.310211</td>\n",
       "      <td>8.079666</td>\n",
       "      <td>-500.470978</td>\n",
       "      <td>14.151341</td>\n",
       "      <td>-605.841980</td>\n",
       "      <td>2.606185</td>\n",
       "      <td>14.500184</td>\n",
       "      <td>4.694824</td>\n",
       "      <td>8.764648</td>\n",
       "      <td>42.192020</td>\n",
       "      <td>6.055403</td>\n",
       "      <td>9.889648</td>\n",
       "      <td>5.507324</td>\n",
       "      <td>70.541216</td>\n",
       "      <td>2.143149</td>\n",
       "      <td>10.411962</td>\n",
       "      <td>0.895447</td>\n",
       "      <td>16.904297</td>\n",
       "    </tr>\n",
       "    <tr>\n",
       "      <th>1</th>\n",
       "      <td>2016-01-15 01:00:00</td>\n",
       "      <td>6.478583</td>\n",
       "      <td>6.161113</td>\n",
       "      <td>2.266033</td>\n",
       "      <td>35.753385</td>\n",
       "      <td>525.290581</td>\n",
       "      <td>57.278666</td>\n",
       "      <td>11.971193</td>\n",
       "      <td>6.005766</td>\n",
       "      <td>1000.286398</td>\n",
       "      <td>-400.065196</td>\n",
       "      <td>1600.754587</td>\n",
       "      <td>-449.953435</td>\n",
       "      <td>1600.479580</td>\n",
       "      <td>-449.830646</td>\n",
       "      <td>1600.527589</td>\n",
       "      <td>-449.953649</td>\n",
       "      <td>1399.227084</td>\n",
       "      <td>-450.869848</td>\n",
       "      <td>1399.719514</td>\n",
       "      <td>-450.119001</td>\n",
       "      <td>11.996163</td>\n",
       "      <td>6.012594</td>\n",
       "      <td>42050.861809</td>\n",
       "      <td>3498.370979</td>\n",
       "      <td>3489.981857</td>\n",
       "      <td>2.858998</td>\n",
       "      <td>20.050975</td>\n",
       "      <td>11.615865</td>\n",
       "      <td>7.278807</td>\n",
       "      <td>28.067063</td>\n",
       "      <td>86.843261</td>\n",
       "      <td>1.184827</td>\n",
       "      <td>4.955378</td>\n",
       "      <td>0.536689</td>\n",
       "      <td>18.965234</td>\n",
       "      <td>125.629232</td>\n",
       "      <td>10.296251</td>\n",
       "      <td>7.25</td>\n",
       "      <td>1.002663</td>\n",
       "      <td>1576.166671</td>\n",
       "      <td>-500.904965</td>\n",
       "      <td>1575.950626</td>\n",
       "      <td>-499.865889</td>\n",
       "      <td>1575.994189</td>\n",
       "      <td>-499.315107</td>\n",
       "      <td>1574.479259</td>\n",
       "      <td>-498.931665</td>\n",
       "      <td>34.118526</td>\n",
       "      <td>8.558743</td>\n",
       "      <td>10.497069</td>\n",
       "      <td>19.369147</td>\n",
       "      <td>2.353017</td>\n",
       "      <td>16.250511</td>\n",
       "      <td>3.049646</td>\n",
       "      <td>6.733907</td>\n",
       "      <td>25.880539</td>\n",
       "      <td>-499.989656</td>\n",
       "      <td>23.889530</td>\n",
       "      <td>-500.372428</td>\n",
       "      <td>23.970550</td>\n",
       "      <td>-500.085473</td>\n",
       "      <td>22.085714</td>\n",
       "      <td>-499.446897</td>\n",
       "      <td>13.992281</td>\n",
       "      <td>-505.503262</td>\n",
       "      <td>11.950531</td>\n",
       "      <td>-501.331529</td>\n",
       "      <td>10.039245</td>\n",
       "      <td>-500.169983</td>\n",
       "      <td>7.984757</td>\n",
       "      <td>-500.582168</td>\n",
       "      <td>13.998353</td>\n",
       "      <td>-599.787184</td>\n",
       "      <td>2.488248</td>\n",
       "      <td>14.265474</td>\n",
       "      <td>4.592547</td>\n",
       "      <td>9.001494</td>\n",
       "      <td>42.701629</td>\n",
       "      <td>6.029369</td>\n",
       "      <td>9.968944</td>\n",
       "      <td>5.257781</td>\n",
       "      <td>69.266198</td>\n",
       "      <td>2.224930</td>\n",
       "      <td>10.462676</td>\n",
       "      <td>0.927452</td>\n",
       "      <td>16.634514</td>\n",
       "    </tr>\n",
       "    <tr>\n",
       "      <th>2</th>\n",
       "      <td>2016-01-15 02:00:00</td>\n",
       "      <td>6.362222</td>\n",
       "      <td>6.116455</td>\n",
       "      <td>2.159622</td>\n",
       "      <td>35.971630</td>\n",
       "      <td>530.026610</td>\n",
       "      <td>57.510649</td>\n",
       "      <td>11.920603</td>\n",
       "      <td>6.197377</td>\n",
       "      <td>999.719565</td>\n",
       "      <td>-400.074028</td>\n",
       "      <td>1599.337330</td>\n",
       "      <td>-450.008530</td>\n",
       "      <td>1599.672797</td>\n",
       "      <td>-449.954491</td>\n",
       "      <td>1599.849325</td>\n",
       "      <td>-449.954185</td>\n",
       "      <td>1399.180945</td>\n",
       "      <td>-449.937588</td>\n",
       "      <td>1400.316682</td>\n",
       "      <td>-450.527147</td>\n",
       "      <td>11.920305</td>\n",
       "      <td>6.204633</td>\n",
       "      <td>42018.101184</td>\n",
       "      <td>3495.348910</td>\n",
       "      <td>3502.359819</td>\n",
       "      <td>2.945989</td>\n",
       "      <td>19.737170</td>\n",
       "      <td>11.695753</td>\n",
       "      <td>7.216833</td>\n",
       "      <td>27.454037</td>\n",
       "      <td>86.842308</td>\n",
       "      <td>1.162562</td>\n",
       "      <td>4.843460</td>\n",
       "      <td>0.546416</td>\n",
       "      <td>18.808533</td>\n",
       "      <td>123.819808</td>\n",
       "      <td>11.316280</td>\n",
       "      <td>7.25</td>\n",
       "      <td>0.991265</td>\n",
       "      <td>1601.556163</td>\n",
       "      <td>-499.997791</td>\n",
       "      <td>1600.386685</td>\n",
       "      <td>-500.607762</td>\n",
       "      <td>1602.003542</td>\n",
       "      <td>-500.870069</td>\n",
       "      <td>1599.541515</td>\n",
       "      <td>-499.827444</td>\n",
       "      <td>33.969464</td>\n",
       "      <td>8.603505</td>\n",
       "      <td>10.354494</td>\n",
       "      <td>19.167579</td>\n",
       "      <td>2.416800</td>\n",
       "      <td>16.491823</td>\n",
       "      <td>3.124664</td>\n",
       "      <td>6.471768</td>\n",
       "      <td>26.005245</td>\n",
       "      <td>-499.929616</td>\n",
       "      <td>23.886657</td>\n",
       "      <td>-499.951928</td>\n",
       "      <td>23.913535</td>\n",
       "      <td>-499.442343</td>\n",
       "      <td>23.957717</td>\n",
       "      <td>-499.901982</td>\n",
       "      <td>14.015015</td>\n",
       "      <td>-502.520901</td>\n",
       "      <td>11.912783</td>\n",
       "      <td>-501.133383</td>\n",
       "      <td>10.070913</td>\n",
       "      <td>-500.129135</td>\n",
       "      <td>8.013877</td>\n",
       "      <td>-500.517572</td>\n",
       "      <td>14.028663</td>\n",
       "      <td>-601.427363</td>\n",
       "      <td>2.458187</td>\n",
       "      <td>14.115662</td>\n",
       "      <td>4.624775</td>\n",
       "      <td>8.842896</td>\n",
       "      <td>42.657501</td>\n",
       "      <td>6.055926</td>\n",
       "      <td>10.213995</td>\n",
       "      <td>5.383759</td>\n",
       "      <td>68.116445</td>\n",
       "      <td>2.257889</td>\n",
       "      <td>10.507046</td>\n",
       "      <td>0.953716</td>\n",
       "      <td>16.208849</td>\n",
       "    </tr>\n",
       "    <tr>\n",
       "      <th>3</th>\n",
       "      <td>2016-01-15 03:00:00</td>\n",
       "      <td>6.118189</td>\n",
       "      <td>6.043309</td>\n",
       "      <td>2.037807</td>\n",
       "      <td>36.862241</td>\n",
       "      <td>542.590390</td>\n",
       "      <td>57.792734</td>\n",
       "      <td>11.630094</td>\n",
       "      <td>6.203177</td>\n",
       "      <td>999.814770</td>\n",
       "      <td>-400.200179</td>\n",
       "      <td>1600.059442</td>\n",
       "      <td>-450.619948</td>\n",
       "      <td>1600.012842</td>\n",
       "      <td>-449.910497</td>\n",
       "      <td>1597.725177</td>\n",
       "      <td>-450.130127</td>\n",
       "      <td>1400.943157</td>\n",
       "      <td>-450.030142</td>\n",
       "      <td>1400.234743</td>\n",
       "      <td>-449.790835</td>\n",
       "      <td>11.692450</td>\n",
       "      <td>6.196578</td>\n",
       "      <td>42029.447991</td>\n",
       "      <td>3498.578313</td>\n",
       "      <td>3499.162912</td>\n",
       "      <td>3.002340</td>\n",
       "      <td>19.320810</td>\n",
       "      <td>11.915047</td>\n",
       "      <td>7.175616</td>\n",
       "      <td>27.341277</td>\n",
       "      <td>87.226430</td>\n",
       "      <td>1.079755</td>\n",
       "      <td>4.655288</td>\n",
       "      <td>0.542525</td>\n",
       "      <td>19.330200</td>\n",
       "      <td>122.270188</td>\n",
       "      <td>11.322140</td>\n",
       "      <td>7.25</td>\n",
       "      <td>0.996739</td>\n",
       "      <td>1599.968720</td>\n",
       "      <td>-500.951778</td>\n",
       "      <td>1600.659236</td>\n",
       "      <td>-499.677094</td>\n",
       "      <td>1600.304144</td>\n",
       "      <td>-500.727997</td>\n",
       "      <td>1600.449520</td>\n",
       "      <td>-500.052575</td>\n",
       "      <td>28.260743</td>\n",
       "      <td>7.221879</td>\n",
       "      <td>8.496563</td>\n",
       "      <td>15.978538</td>\n",
       "      <td>2.262051</td>\n",
       "      <td>16.024359</td>\n",
       "      <td>2.960362</td>\n",
       "      <td>6.843791</td>\n",
       "      <td>25.942508</td>\n",
       "      <td>-499.176749</td>\n",
       "      <td>23.955516</td>\n",
       "      <td>-499.848796</td>\n",
       "      <td>23.966838</td>\n",
       "      <td>-500.008812</td>\n",
       "      <td>23.954443</td>\n",
       "      <td>-499.944710</td>\n",
       "      <td>14.036510</td>\n",
       "      <td>-500.857308</td>\n",
       "      <td>11.999550</td>\n",
       "      <td>-501.193686</td>\n",
       "      <td>9.970366</td>\n",
       "      <td>-499.201640</td>\n",
       "      <td>7.977324</td>\n",
       "      <td>-500.255908</td>\n",
       "      <td>14.005551</td>\n",
       "      <td>-599.996129</td>\n",
       "      <td>2.322062</td>\n",
       "      <td>13.732071</td>\n",
       "      <td>4.482453</td>\n",
       "      <td>9.122857</td>\n",
       "      <td>42.689819</td>\n",
       "      <td>6.047977</td>\n",
       "      <td>9.977019</td>\n",
       "      <td>4.858634</td>\n",
       "      <td>68.347543</td>\n",
       "      <td>2.146849</td>\n",
       "      <td>10.422762</td>\n",
       "      <td>0.883763</td>\n",
       "      <td>16.532835</td>\n",
       "    </tr>\n",
       "    <tr>\n",
       "      <th>4</th>\n",
       "      <td>2016-01-15 04:00:00</td>\n",
       "      <td>5.663707</td>\n",
       "      <td>6.060915</td>\n",
       "      <td>1.786875</td>\n",
       "      <td>34.347666</td>\n",
       "      <td>540.531893</td>\n",
       "      <td>56.047189</td>\n",
       "      <td>10.957755</td>\n",
       "      <td>6.198826</td>\n",
       "      <td>999.678690</td>\n",
       "      <td>-399.752729</td>\n",
       "      <td>1600.208824</td>\n",
       "      <td>-449.599614</td>\n",
       "      <td>1600.357732</td>\n",
       "      <td>-450.034364</td>\n",
       "      <td>1599.759049</td>\n",
       "      <td>-449.909799</td>\n",
       "      <td>1401.560902</td>\n",
       "      <td>-448.877187</td>\n",
       "      <td>1401.160227</td>\n",
       "      <td>-450.407128</td>\n",
       "      <td>10.960521</td>\n",
       "      <td>6.194897</td>\n",
       "      <td>42125.354245</td>\n",
       "      <td>3494.800771</td>\n",
       "      <td>3506.679315</td>\n",
       "      <td>3.169615</td>\n",
       "      <td>19.216101</td>\n",
       "      <td>12.411054</td>\n",
       "      <td>7.240205</td>\n",
       "      <td>27.041023</td>\n",
       "      <td>86.688794</td>\n",
       "      <td>1.012642</td>\n",
       "      <td>4.552800</td>\n",
       "      <td>0.515438</td>\n",
       "      <td>19.267422</td>\n",
       "      <td>117.988169</td>\n",
       "      <td>11.913613</td>\n",
       "      <td>7.25</td>\n",
       "      <td>1.009869</td>\n",
       "      <td>1601.339707</td>\n",
       "      <td>-498.975456</td>\n",
       "      <td>1601.437854</td>\n",
       "      <td>-500.323246</td>\n",
       "      <td>1599.581894</td>\n",
       "      <td>-500.888152</td>\n",
       "      <td>1602.649541</td>\n",
       "      <td>-500.593010</td>\n",
       "      <td>33.044932</td>\n",
       "      <td>9.089428</td>\n",
       "      <td>9.986786</td>\n",
       "      <td>19.199864</td>\n",
       "      <td>2.277073</td>\n",
       "      <td>16.480185</td>\n",
       "      <td>3.112100</td>\n",
       "      <td>6.550154</td>\n",
       "      <td>26.024787</td>\n",
       "      <td>-500.279091</td>\n",
       "      <td>23.955345</td>\n",
       "      <td>-500.593614</td>\n",
       "      <td>23.985703</td>\n",
       "      <td>-500.083811</td>\n",
       "      <td>23.958945</td>\n",
       "      <td>-499.990309</td>\n",
       "      <td>14.027298</td>\n",
       "      <td>-499.838632</td>\n",
       "      <td>11.953070</td>\n",
       "      <td>-501.053894</td>\n",
       "      <td>9.925709</td>\n",
       "      <td>-501.686727</td>\n",
       "      <td>7.894242</td>\n",
       "      <td>-500.356035</td>\n",
       "      <td>13.996647</td>\n",
       "      <td>-601.496691</td>\n",
       "      <td>2.330448</td>\n",
       "      <td>14.079996</td>\n",
       "      <td>4.470737</td>\n",
       "      <td>8.871028</td>\n",
       "      <td>42.774141</td>\n",
       "      <td>6.148599</td>\n",
       "      <td>10.142511</td>\n",
       "      <td>4.939416</td>\n",
       "      <td>66.927016</td>\n",
       "      <td>2.055292</td>\n",
       "      <td>10.360302</td>\n",
       "      <td>0.792826</td>\n",
       "      <td>16.525686</td>\n",
       "    </tr>\n",
       "  </tbody>\n",
       "</table>\n",
       "</div>"
      ],
      "text/plain": [
       "                  date  rougher.input.feed_au  rougher.input.feed_ag  \\\n",
       "0  2016-01-15 00:00:00               6.486150               6.100378   \n",
       "1  2016-01-15 01:00:00               6.478583               6.161113   \n",
       "2  2016-01-15 02:00:00               6.362222               6.116455   \n",
       "3  2016-01-15 03:00:00               6.118189               6.043309   \n",
       "4  2016-01-15 04:00:00               5.663707               6.060915   \n",
       "\n",
       "   rougher.input.feed_pb  rougher.input.feed_sol  rougher.input.feed_rate  \\\n",
       "0               2.284912               36.808594               523.546326   \n",
       "1               2.266033               35.753385               525.290581   \n",
       "2               2.159622               35.971630               530.026610   \n",
       "3               2.037807               36.862241               542.590390   \n",
       "4               1.786875               34.347666               540.531893   \n",
       "\n",
       "   rougher.input.feed_size  rougher.input.floatbank10_sulfate  \\\n",
       "0                55.486599                          11.986616   \n",
       "1                57.278666                          11.971193   \n",
       "2                57.510649                          11.920603   \n",
       "3                57.792734                          11.630094   \n",
       "4                56.047189                          10.957755   \n",
       "\n",
       "   rougher.input.floatbank10_xanthate  rougher.state.floatbank10_a_air  \\\n",
       "0                            6.007990                       999.706909   \n",
       "1                            6.005766                      1000.286398   \n",
       "2                            6.197377                       999.719565   \n",
       "3                            6.203177                       999.814770   \n",
       "4                            6.198826                       999.678690   \n",
       "\n",
       "   rougher.state.floatbank10_a_level  rougher.state.floatbank10_b_air  \\\n",
       "0                        -404.066986                      1603.011353   \n",
       "1                        -400.065196                      1600.754587   \n",
       "2                        -400.074028                      1599.337330   \n",
       "3                        -400.200179                      1600.059442   \n",
       "4                        -399.752729                      1600.208824   \n",
       "\n",
       "   rougher.state.floatbank10_b_level  rougher.state.floatbank10_c_air  \\\n",
       "0                        -434.715027                      1602.375000   \n",
       "1                        -449.953435                      1600.479580   \n",
       "2                        -450.008530                      1599.672797   \n",
       "3                        -450.619948                      1600.012842   \n",
       "4                        -449.599614                      1600.357732   \n",
       "\n",
       "   rougher.state.floatbank10_c_level  rougher.state.floatbank10_d_air  \\\n",
       "0                        -442.204468                      1598.937256   \n",
       "1                        -449.830646                      1600.527589   \n",
       "2                        -449.954491                      1599.849325   \n",
       "3                        -449.910497                      1597.725177   \n",
       "4                        -450.034364                      1599.759049   \n",
       "\n",
       "   rougher.state.floatbank10_d_level  rougher.state.floatbank10_e_air  \\\n",
       "0                        -451.294128                      1404.472046   \n",
       "1                        -449.953649                      1399.227084   \n",
       "2                        -449.954185                      1399.180945   \n",
       "3                        -450.130127                      1400.943157   \n",
       "4                        -449.909799                      1401.560902   \n",
       "\n",
       "   rougher.state.floatbank10_e_level  rougher.state.floatbank10_f_air  \\\n",
       "0                        -455.462982                      1416.354980   \n",
       "1                        -450.869848                      1399.719514   \n",
       "2                        -449.937588                      1400.316682   \n",
       "3                        -450.030142                      1400.234743   \n",
       "4                        -448.877187                      1401.160227   \n",
       "\n",
       "   rougher.state.floatbank10_f_level  rougher.input.floatbank11_sulfate  \\\n",
       "0                        -451.939636                          11.836743   \n",
       "1                        -450.119001                          11.996163   \n",
       "2                        -450.527147                          11.920305   \n",
       "3                        -449.790835                          11.692450   \n",
       "4                        -450.407128                          10.960521   \n",
       "\n",
       "   rougher.input.floatbank11_xanthate  \\\n",
       "0                            6.005818   \n",
       "1                            6.012594   \n",
       "2                            6.204633   \n",
       "3                            6.196578   \n",
       "4                            6.194897   \n",
       "\n",
       "   rougher.calculation.sulfate_to_au_concentrate  \\\n",
       "0                                   41885.707031   \n",
       "1                                   42050.861809   \n",
       "2                                   42018.101184   \n",
       "3                                   42029.447991   \n",
       "4                                   42125.354245   \n",
       "\n",
       "   rougher.calculation.floatbank10_sulfate_to_au_feed  \\\n",
       "0                                        3481.779053    \n",
       "1                                        3498.370979    \n",
       "2                                        3495.348910    \n",
       "3                                        3498.578313    \n",
       "4                                        3494.800771    \n",
       "\n",
       "   rougher.calculation.floatbank11_sulfate_to_au_feed  \\\n",
       "0                                        3520.337158    \n",
       "1                                        3489.981857    \n",
       "2                                        3502.359819    \n",
       "3                                        3499.162912    \n",
       "4                                        3506.679315    \n",
       "\n",
       "   rougher.calculation.au_pb_ratio  rougher.output.concentrate_au  \\\n",
       "0                         2.838687                      19.793808   \n",
       "1                         2.858998                      20.050975   \n",
       "2                         2.945989                      19.737170   \n",
       "3                         3.002340                      19.320810   \n",
       "4                         3.169615                      19.216101   \n",
       "\n",
       "   rougher.output.concentrate_ag  rougher.output.concentrate_pb  \\\n",
       "0                      11.500771                       7.101074   \n",
       "1                      11.615865                       7.278807   \n",
       "2                      11.695753                       7.216833   \n",
       "3                      11.915047                       7.175616   \n",
       "4                      12.411054                       7.240205   \n",
       "\n",
       "   rougher.output.concentrate_sol  rougher.output.recovery  \\\n",
       "0                       28.029297                87.107763   \n",
       "1                       28.067063                86.843261   \n",
       "2                       27.454037                86.842308   \n",
       "3                       27.341277                87.226430   \n",
       "4                       27.041023                86.688794   \n",
       "\n",
       "   rougher.output.tail_au  rougher.output.tail_ag  rougher.output.tail_pb  \\\n",
       "0                1.170244                5.008018                0.508728   \n",
       "1                1.184827                4.955378                0.536689   \n",
       "2                1.162562                4.843460                0.546416   \n",
       "3                1.079755                4.655288                0.542525   \n",
       "4                1.012642                4.552800                0.515438   \n",
       "\n",
       "   rougher.output.tail_sol  primary_cleaner.input.sulfate  \\\n",
       "0                19.154297                     127.092003   \n",
       "1                18.965234                     125.629232   \n",
       "2                18.808533                     123.819808   \n",
       "3                19.330200                     122.270188   \n",
       "4                19.267422                     117.988169   \n",
       "\n",
       "   primary_cleaner.input.depressant  primary_cleaner.input.feed_size  \\\n",
       "0                         10.128295                             7.25   \n",
       "1                         10.296251                             7.25   \n",
       "2                         11.316280                             7.25   \n",
       "3                         11.322140                             7.25   \n",
       "4                         11.913613                             7.25   \n",
       "\n",
       "   primary_cleaner.input.xanthate  primary_cleaner.state.floatbank8_a_air  \\\n",
       "0                        0.988759                             1549.775757   \n",
       "1                        1.002663                             1576.166671   \n",
       "2                        0.991265                             1601.556163   \n",
       "3                        0.996739                             1599.968720   \n",
       "4                        1.009869                             1601.339707   \n",
       "\n",
       "   primary_cleaner.state.floatbank8_a_level  \\\n",
       "0                               -498.912140   \n",
       "1                               -500.904965   \n",
       "2                               -499.997791   \n",
       "3                               -500.951778   \n",
       "4                               -498.975456   \n",
       "\n",
       "   primary_cleaner.state.floatbank8_b_air  \\\n",
       "0                             1551.434204   \n",
       "1                             1575.950626   \n",
       "2                             1600.386685   \n",
       "3                             1600.659236   \n",
       "4                             1601.437854   \n",
       "\n",
       "   primary_cleaner.state.floatbank8_b_level  \\\n",
       "0                               -516.403442   \n",
       "1                               -499.865889   \n",
       "2                               -500.607762   \n",
       "3                               -499.677094   \n",
       "4                               -500.323246   \n",
       "\n",
       "   primary_cleaner.state.floatbank8_c_air  \\\n",
       "0                             1549.873901   \n",
       "1                             1575.994189   \n",
       "2                             1602.003542   \n",
       "3                             1600.304144   \n",
       "4                             1599.581894   \n",
       "\n",
       "   primary_cleaner.state.floatbank8_c_level  \\\n",
       "0                               -498.666595   \n",
       "1                               -499.315107   \n",
       "2                               -500.870069   \n",
       "3                               -500.727997   \n",
       "4                               -500.888152   \n",
       "\n",
       "   primary_cleaner.state.floatbank8_d_air  \\\n",
       "0                             1554.367432   \n",
       "1                             1574.479259   \n",
       "2                             1599.541515   \n",
       "3                             1600.449520   \n",
       "4                             1602.649541   \n",
       "\n",
       "   primary_cleaner.state.floatbank8_d_level  \\\n",
       "0                               -493.428131   \n",
       "1                               -498.931665   \n",
       "2                               -499.827444   \n",
       "3                               -500.052575   \n",
       "4                               -500.593010   \n",
       "\n",
       "   primary_cleaner.output.concentrate_au  \\\n",
       "0                              34.174427   \n",
       "1                              34.118526   \n",
       "2                              33.969464   \n",
       "3                              28.260743   \n",
       "4                              33.044932   \n",
       "\n",
       "   primary_cleaner.output.concentrate_ag  \\\n",
       "0                               8.547551   \n",
       "1                               8.558743   \n",
       "2                               8.603505   \n",
       "3                               7.221879   \n",
       "4                               9.089428   \n",
       "\n",
       "   primary_cleaner.output.concentrate_pb  \\\n",
       "0                              10.389648   \n",
       "1                              10.497069   \n",
       "2                              10.354494   \n",
       "3                               8.496563   \n",
       "4                               9.986786   \n",
       "\n",
       "   primary_cleaner.output.concentrate_sol  primary_cleaner.output.tail_au  \\\n",
       "0                               19.529297                        2.106679   \n",
       "1                               19.369147                        2.353017   \n",
       "2                               19.167579                        2.416800   \n",
       "3                               15.978538                        2.262051   \n",
       "4                               19.199864                        2.277073   \n",
       "\n",
       "   primary_cleaner.output.tail_ag  primary_cleaner.output.tail_pb  \\\n",
       "0                       14.936526                        2.534912   \n",
       "1                       16.250511                        3.049646   \n",
       "2                       16.491823                        3.124664   \n",
       "3                       16.024359                        2.960362   \n",
       "4                       16.480185                        3.112100   \n",
       "\n",
       "   primary_cleaner.output.tail_sol  secondary_cleaner.state.floatbank2_a_air  \\\n",
       "0                         7.476074                                 25.853109   \n",
       "1                         6.733907                                 25.880539   \n",
       "2                         6.471768                                 26.005245   \n",
       "3                         6.843791                                 25.942508   \n",
       "4                         6.550154                                 26.024787   \n",
       "\n",
       "   secondary_cleaner.state.floatbank2_a_level  \\\n",
       "0                                 -498.526489   \n",
       "1                                 -499.989656   \n",
       "2                                 -499.929616   \n",
       "3                                 -499.176749   \n",
       "4                                 -500.279091   \n",
       "\n",
       "   secondary_cleaner.state.floatbank2_b_air  \\\n",
       "0                                 23.893660   \n",
       "1                                 23.889530   \n",
       "2                                 23.886657   \n",
       "3                                 23.955516   \n",
       "4                                 23.955345   \n",
       "\n",
       "   secondary_cleaner.state.floatbank2_b_level  \\\n",
       "0                                 -501.406281   \n",
       "1                                 -500.372428   \n",
       "2                                 -499.951928   \n",
       "3                                 -499.848796   \n",
       "4                                 -500.593614   \n",
       "\n",
       "   secondary_cleaner.state.floatbank3_a_air  \\\n",
       "0                                 23.961798   \n",
       "1                                 23.970550   \n",
       "2                                 23.913535   \n",
       "3                                 23.966838   \n",
       "4                                 23.985703   \n",
       "\n",
       "   secondary_cleaner.state.floatbank3_a_level  \\\n",
       "0                                 -495.262817   \n",
       "1                                 -500.085473   \n",
       "2                                 -499.442343   \n",
       "3                                 -500.008812   \n",
       "4                                 -500.083811   \n",
       "\n",
       "   secondary_cleaner.state.floatbank3_b_air  \\\n",
       "0                                 21.940409   \n",
       "1                                 22.085714   \n",
       "2                                 23.957717   \n",
       "3                                 23.954443   \n",
       "4                                 23.958945   \n",
       "\n",
       "   secondary_cleaner.state.floatbank3_b_level  \\\n",
       "0                                 -499.340973   \n",
       "1                                 -499.446897   \n",
       "2                                 -499.901982   \n",
       "3                                 -499.944710   \n",
       "4                                 -499.990309   \n",
       "\n",
       "   secondary_cleaner.state.floatbank4_a_air  \\\n",
       "0                                 14.016835   \n",
       "1                                 13.992281   \n",
       "2                                 14.015015   \n",
       "3                                 14.036510   \n",
       "4                                 14.027298   \n",
       "\n",
       "   secondary_cleaner.state.floatbank4_a_level  \\\n",
       "0                                 -502.488007   \n",
       "1                                 -505.503262   \n",
       "2                                 -502.520901   \n",
       "3                                 -500.857308   \n",
       "4                                 -499.838632   \n",
       "\n",
       "   secondary_cleaner.state.floatbank4_b_air  \\\n",
       "0                                 12.099931   \n",
       "1                                 11.950531   \n",
       "2                                 11.912783   \n",
       "3                                 11.999550   \n",
       "4                                 11.953070   \n",
       "\n",
       "   secondary_cleaner.state.floatbank4_b_level  \\\n",
       "0                                 -504.715942   \n",
       "1                                 -501.331529   \n",
       "2                                 -501.133383   \n",
       "3                                 -501.193686   \n",
       "4                                 -501.053894   \n",
       "\n",
       "   secondary_cleaner.state.floatbank5_a_air  \\\n",
       "0                                  9.925633   \n",
       "1                                 10.039245   \n",
       "2                                 10.070913   \n",
       "3                                  9.970366   \n",
       "4                                  9.925709   \n",
       "\n",
       "   secondary_cleaner.state.floatbank5_a_level  \\\n",
       "0                                 -498.310211   \n",
       "1                                 -500.169983   \n",
       "2                                 -500.129135   \n",
       "3                                 -499.201640   \n",
       "4                                 -501.686727   \n",
       "\n",
       "   secondary_cleaner.state.floatbank5_b_air  \\\n",
       "0                                  8.079666   \n",
       "1                                  7.984757   \n",
       "2                                  8.013877   \n",
       "3                                  7.977324   \n",
       "4                                  7.894242   \n",
       "\n",
       "   secondary_cleaner.state.floatbank5_b_level  \\\n",
       "0                                 -500.470978   \n",
       "1                                 -500.582168   \n",
       "2                                 -500.517572   \n",
       "3                                 -500.255908   \n",
       "4                                 -500.356035   \n",
       "\n",
       "   secondary_cleaner.state.floatbank6_a_air  \\\n",
       "0                                 14.151341   \n",
       "1                                 13.998353   \n",
       "2                                 14.028663   \n",
       "3                                 14.005551   \n",
       "4                                 13.996647   \n",
       "\n",
       "   secondary_cleaner.state.floatbank6_a_level  \\\n",
       "0                                 -605.841980   \n",
       "1                                 -599.787184   \n",
       "2                                 -601.427363   \n",
       "3                                 -599.996129   \n",
       "4                                 -601.496691   \n",
       "\n",
       "   secondary_cleaner.output.tail_au  secondary_cleaner.output.tail_ag  \\\n",
       "0                          2.606185                         14.500184   \n",
       "1                          2.488248                         14.265474   \n",
       "2                          2.458187                         14.115662   \n",
       "3                          2.322062                         13.732071   \n",
       "4                          2.330448                         14.079996   \n",
       "\n",
       "   secondary_cleaner.output.tail_pb  secondary_cleaner.output.tail_sol  \\\n",
       "0                          4.694824                           8.764648   \n",
       "1                          4.592547                           9.001494   \n",
       "2                          4.624775                           8.842896   \n",
       "3                          4.482453                           9.122857   \n",
       "4                          4.470737                           8.871028   \n",
       "\n",
       "   final.output.concentrate_au  final.output.concentrate_ag  \\\n",
       "0                    42.192020                     6.055403   \n",
       "1                    42.701629                     6.029369   \n",
       "2                    42.657501                     6.055926   \n",
       "3                    42.689819                     6.047977   \n",
       "4                    42.774141                     6.148599   \n",
       "\n",
       "   final.output.concentrate_pb  final.output.concentrate_sol  \\\n",
       "0                     9.889648                      5.507324   \n",
       "1                     9.968944                      5.257781   \n",
       "2                    10.213995                      5.383759   \n",
       "3                     9.977019                      4.858634   \n",
       "4                    10.142511                      4.939416   \n",
       "\n",
       "   final.output.recovery  final.output.tail_au  final.output.tail_ag  \\\n",
       "0              70.541216              2.143149             10.411962   \n",
       "1              69.266198              2.224930             10.462676   \n",
       "2              68.116445              2.257889             10.507046   \n",
       "3              68.347543              2.146849             10.422762   \n",
       "4              66.927016              2.055292             10.360302   \n",
       "\n",
       "   final.output.tail_pb  final.output.tail_sol  \n",
       "0              0.895447              16.904297  \n",
       "1              0.927452              16.634514  \n",
       "2              0.953716              16.208849  \n",
       "3              0.883763              16.532835  \n",
       "4              0.792826              16.525686  "
      ]
     },
     "execution_count": 6,
     "metadata": {},
     "output_type": "execute_result"
    }
   ],
   "source": [
    "df_train.head()"
   ]
  },
  {
   "cell_type": "code",
   "execution_count": 7,
   "metadata": {},
   "outputs": [],
   "source": [
    "c = df_train['rougher.output.concentrate_au']\n",
    "f = df_train['rougher.input.feed_au']\n",
    "t = df_train['rougher.output.tail_au']\n",
    "\n",
    "recovery = (c*(f-t))/(f*(c-t))*100"
   ]
  },
  {
   "cell_type": "code",
   "execution_count": 8,
   "metadata": {},
   "outputs": [
    {
     "data": {
      "text/plain": [
       "9.83758577644259e-15"
      ]
     },
     "execution_count": 8,
     "metadata": {},
     "output_type": "execute_result"
    }
   ],
   "source": [
    "MAE = mean_absolute_error(recovery, df_train['rougher.output.recovery'])\n",
    "MAE"
   ]
  },
  {
   "cell_type": "markdown",
   "metadata": {},
   "source": [
    "Ошибка очень маленькая, значит в данных эффективность посчитана верно"
   ]
  },
  {
   "cell_type": "code",
   "execution_count": 9,
   "metadata": {},
   "outputs": [],
   "source": [
    "df_test = pd.read_csv('/datasets/gold_industry_test.csv')"
   ]
  },
  {
   "cell_type": "code",
   "execution_count": 10,
   "metadata": {
    "scrolled": true
   },
   "outputs": [
    {
     "name": "stdout",
     "output_type": "stream",
     "text": [
      "<class 'pandas.core.frame.DataFrame'>\n",
      "RangeIndex: 4860 entries, 0 to 4859\n",
      "Data columns (total 53 columns):\n",
      " #   Column                                      Non-Null Count  Dtype  \n",
      "---  ------                                      --------------  -----  \n",
      " 0   date                                        4860 non-null   object \n",
      " 1   rougher.input.feed_au                       4860 non-null   float64\n",
      " 2   rougher.input.feed_ag                       4860 non-null   float64\n",
      " 3   rougher.input.feed_pb                       4832 non-null   float64\n",
      " 4   rougher.input.feed_sol                      4838 non-null   float64\n",
      " 5   rougher.input.feed_rate                     4856 non-null   float64\n",
      " 6   rougher.input.feed_size                     4816 non-null   float64\n",
      " 7   rougher.input.floatbank10_sulfate           4857 non-null   float64\n",
      " 8   rougher.input.floatbank10_xanthate          4859 non-null   float64\n",
      " 9   rougher.state.floatbank10_a_air             4859 non-null   float64\n",
      " 10  rougher.state.floatbank10_a_level           4859 non-null   float64\n",
      " 11  rougher.state.floatbank10_b_air             4859 non-null   float64\n",
      " 12  rougher.state.floatbank10_b_level           4859 non-null   float64\n",
      " 13  rougher.state.floatbank10_c_air             4859 non-null   float64\n",
      " 14  rougher.state.floatbank10_c_level           4859 non-null   float64\n",
      " 15  rougher.state.floatbank10_d_air             4860 non-null   float64\n",
      " 16  rougher.state.floatbank10_d_level           4860 non-null   float64\n",
      " 17  rougher.state.floatbank10_e_air             4853 non-null   float64\n",
      " 18  rougher.state.floatbank10_e_level           4860 non-null   float64\n",
      " 19  rougher.state.floatbank10_f_air             4860 non-null   float64\n",
      " 20  rougher.state.floatbank10_f_level           4860 non-null   float64\n",
      " 21  rougher.input.floatbank11_sulfate           4852 non-null   float64\n",
      " 22  rougher.input.floatbank11_xanthate          4814 non-null   float64\n",
      " 23  primary_cleaner.input.sulfate               4859 non-null   float64\n",
      " 24  primary_cleaner.input.depressant            4851 non-null   float64\n",
      " 25  primary_cleaner.input.feed_size             4860 non-null   float64\n",
      " 26  primary_cleaner.input.xanthate              4817 non-null   float64\n",
      " 27  primary_cleaner.state.floatbank8_a_air      4859 non-null   float64\n",
      " 28  primary_cleaner.state.floatbank8_a_level    4859 non-null   float64\n",
      " 29  primary_cleaner.state.floatbank8_b_air      4859 non-null   float64\n",
      " 30  primary_cleaner.state.floatbank8_b_level    4859 non-null   float64\n",
      " 31  primary_cleaner.state.floatbank8_c_air      4858 non-null   float64\n",
      " 32  primary_cleaner.state.floatbank8_c_level    4859 non-null   float64\n",
      " 33  primary_cleaner.state.floatbank8_d_air      4858 non-null   float64\n",
      " 34  primary_cleaner.state.floatbank8_d_level    4859 non-null   float64\n",
      " 35  secondary_cleaner.state.floatbank2_a_air    4734 non-null   float64\n",
      " 36  secondary_cleaner.state.floatbank2_a_level  4859 non-null   float64\n",
      " 37  secondary_cleaner.state.floatbank2_b_air    4859 non-null   float64\n",
      " 38  secondary_cleaner.state.floatbank2_b_level  4859 non-null   float64\n",
      " 39  secondary_cleaner.state.floatbank3_a_air    4859 non-null   float64\n",
      " 40  secondary_cleaner.state.floatbank3_a_level  4859 non-null   float64\n",
      " 41  secondary_cleaner.state.floatbank3_b_air    4859 non-null   float64\n",
      " 42  secondary_cleaner.state.floatbank3_b_level  4859 non-null   float64\n",
      " 43  secondary_cleaner.state.floatbank4_a_air    4859 non-null   float64\n",
      " 44  secondary_cleaner.state.floatbank4_a_level  4859 non-null   float64\n",
      " 45  secondary_cleaner.state.floatbank4_b_air    4859 non-null   float64\n",
      " 46  secondary_cleaner.state.floatbank4_b_level  4859 non-null   float64\n",
      " 47  secondary_cleaner.state.floatbank5_a_air    4859 non-null   float64\n",
      " 48  secondary_cleaner.state.floatbank5_a_level  4859 non-null   float64\n",
      " 49  secondary_cleaner.state.floatbank5_b_air    4859 non-null   float64\n",
      " 50  secondary_cleaner.state.floatbank5_b_level  4859 non-null   float64\n",
      " 51  secondary_cleaner.state.floatbank6_a_air    4859 non-null   float64\n",
      " 52  secondary_cleaner.state.floatbank6_a_level  4859 non-null   float64\n",
      "dtypes: float64(52), object(1)\n",
      "memory usage: 2.0+ MB\n"
     ]
    }
   ],
   "source": [
    "df_test.info()"
   ]
  },
  {
   "cell_type": "code",
   "execution_count": 11,
   "metadata": {},
   "outputs": [],
   "source": [
    "df_test = df_test.fillna(method='ffill')"
   ]
  },
  {
   "cell_type": "code",
   "execution_count": 12,
   "metadata": {
    "scrolled": true
   },
   "outputs": [
    {
     "name": "stdout",
     "output_type": "stream",
     "text": [
      "<class 'pandas.core.frame.DataFrame'>\n",
      "RangeIndex: 4860 entries, 0 to 4859\n",
      "Data columns (total 53 columns):\n",
      " #   Column                                      Non-Null Count  Dtype  \n",
      "---  ------                                      --------------  -----  \n",
      " 0   date                                        4860 non-null   object \n",
      " 1   rougher.input.feed_au                       4860 non-null   float64\n",
      " 2   rougher.input.feed_ag                       4860 non-null   float64\n",
      " 3   rougher.input.feed_pb                       4860 non-null   float64\n",
      " 4   rougher.input.feed_sol                      4860 non-null   float64\n",
      " 5   rougher.input.feed_rate                     4860 non-null   float64\n",
      " 6   rougher.input.feed_size                     4860 non-null   float64\n",
      " 7   rougher.input.floatbank10_sulfate           4860 non-null   float64\n",
      " 8   rougher.input.floatbank10_xanthate          4860 non-null   float64\n",
      " 9   rougher.state.floatbank10_a_air             4860 non-null   float64\n",
      " 10  rougher.state.floatbank10_a_level           4860 non-null   float64\n",
      " 11  rougher.state.floatbank10_b_air             4860 non-null   float64\n",
      " 12  rougher.state.floatbank10_b_level           4860 non-null   float64\n",
      " 13  rougher.state.floatbank10_c_air             4860 non-null   float64\n",
      " 14  rougher.state.floatbank10_c_level           4860 non-null   float64\n",
      " 15  rougher.state.floatbank10_d_air             4860 non-null   float64\n",
      " 16  rougher.state.floatbank10_d_level           4860 non-null   float64\n",
      " 17  rougher.state.floatbank10_e_air             4860 non-null   float64\n",
      " 18  rougher.state.floatbank10_e_level           4860 non-null   float64\n",
      " 19  rougher.state.floatbank10_f_air             4860 non-null   float64\n",
      " 20  rougher.state.floatbank10_f_level           4860 non-null   float64\n",
      " 21  rougher.input.floatbank11_sulfate           4860 non-null   float64\n",
      " 22  rougher.input.floatbank11_xanthate          4860 non-null   float64\n",
      " 23  primary_cleaner.input.sulfate               4860 non-null   float64\n",
      " 24  primary_cleaner.input.depressant            4860 non-null   float64\n",
      " 25  primary_cleaner.input.feed_size             4860 non-null   float64\n",
      " 26  primary_cleaner.input.xanthate              4860 non-null   float64\n",
      " 27  primary_cleaner.state.floatbank8_a_air      4860 non-null   float64\n",
      " 28  primary_cleaner.state.floatbank8_a_level    4860 non-null   float64\n",
      " 29  primary_cleaner.state.floatbank8_b_air      4860 non-null   float64\n",
      " 30  primary_cleaner.state.floatbank8_b_level    4860 non-null   float64\n",
      " 31  primary_cleaner.state.floatbank8_c_air      4860 non-null   float64\n",
      " 32  primary_cleaner.state.floatbank8_c_level    4860 non-null   float64\n",
      " 33  primary_cleaner.state.floatbank8_d_air      4860 non-null   float64\n",
      " 34  primary_cleaner.state.floatbank8_d_level    4860 non-null   float64\n",
      " 35  secondary_cleaner.state.floatbank2_a_air    4860 non-null   float64\n",
      " 36  secondary_cleaner.state.floatbank2_a_level  4860 non-null   float64\n",
      " 37  secondary_cleaner.state.floatbank2_b_air    4860 non-null   float64\n",
      " 38  secondary_cleaner.state.floatbank2_b_level  4860 non-null   float64\n",
      " 39  secondary_cleaner.state.floatbank3_a_air    4860 non-null   float64\n",
      " 40  secondary_cleaner.state.floatbank3_a_level  4860 non-null   float64\n",
      " 41  secondary_cleaner.state.floatbank3_b_air    4860 non-null   float64\n",
      " 42  secondary_cleaner.state.floatbank3_b_level  4860 non-null   float64\n",
      " 43  secondary_cleaner.state.floatbank4_a_air    4860 non-null   float64\n",
      " 44  secondary_cleaner.state.floatbank4_a_level  4860 non-null   float64\n",
      " 45  secondary_cleaner.state.floatbank4_b_air    4860 non-null   float64\n",
      " 46  secondary_cleaner.state.floatbank4_b_level  4860 non-null   float64\n",
      " 47  secondary_cleaner.state.floatbank5_a_air    4860 non-null   float64\n",
      " 48  secondary_cleaner.state.floatbank5_a_level  4860 non-null   float64\n",
      " 49  secondary_cleaner.state.floatbank5_b_air    4860 non-null   float64\n",
      " 50  secondary_cleaner.state.floatbank5_b_level  4860 non-null   float64\n",
      " 51  secondary_cleaner.state.floatbank6_a_air    4860 non-null   float64\n",
      " 52  secondary_cleaner.state.floatbank6_a_level  4860 non-null   float64\n",
      "dtypes: float64(52), object(1)\n",
      "memory usage: 2.0+ MB\n"
     ]
    }
   ],
   "source": [
    "df_test.info()"
   ]
  },
  {
   "cell_type": "code",
   "execution_count": 13,
   "metadata": {
    "scrolled": true
   },
   "outputs": [
    {
     "data": {
      "text/html": [
       "<div>\n",
       "<style scoped>\n",
       "    .dataframe tbody tr th:only-of-type {\n",
       "        vertical-align: middle;\n",
       "    }\n",
       "\n",
       "    .dataframe tbody tr th {\n",
       "        vertical-align: top;\n",
       "    }\n",
       "\n",
       "    .dataframe thead th {\n",
       "        text-align: right;\n",
       "    }\n",
       "</style>\n",
       "<table border=\"1\" class=\"dataframe\">\n",
       "  <thead>\n",
       "    <tr style=\"text-align: right;\">\n",
       "      <th></th>\n",
       "      <th>date</th>\n",
       "      <th>rougher.input.feed_au</th>\n",
       "      <th>rougher.input.feed_ag</th>\n",
       "      <th>rougher.input.feed_pb</th>\n",
       "      <th>rougher.input.feed_sol</th>\n",
       "      <th>rougher.input.feed_rate</th>\n",
       "      <th>rougher.input.feed_size</th>\n",
       "      <th>rougher.input.floatbank10_sulfate</th>\n",
       "      <th>rougher.input.floatbank10_xanthate</th>\n",
       "      <th>rougher.state.floatbank10_a_air</th>\n",
       "      <th>rougher.state.floatbank10_a_level</th>\n",
       "      <th>rougher.state.floatbank10_b_air</th>\n",
       "      <th>rougher.state.floatbank10_b_level</th>\n",
       "      <th>rougher.state.floatbank10_c_air</th>\n",
       "      <th>rougher.state.floatbank10_c_level</th>\n",
       "      <th>rougher.state.floatbank10_d_air</th>\n",
       "      <th>rougher.state.floatbank10_d_level</th>\n",
       "      <th>rougher.state.floatbank10_e_air</th>\n",
       "      <th>rougher.state.floatbank10_e_level</th>\n",
       "      <th>rougher.state.floatbank10_f_air</th>\n",
       "      <th>rougher.state.floatbank10_f_level</th>\n",
       "      <th>rougher.input.floatbank11_sulfate</th>\n",
       "      <th>rougher.input.floatbank11_xanthate</th>\n",
       "      <th>primary_cleaner.input.sulfate</th>\n",
       "      <th>primary_cleaner.input.depressant</th>\n",
       "      <th>primary_cleaner.input.feed_size</th>\n",
       "      <th>primary_cleaner.input.xanthate</th>\n",
       "      <th>primary_cleaner.state.floatbank8_a_air</th>\n",
       "      <th>primary_cleaner.state.floatbank8_a_level</th>\n",
       "      <th>primary_cleaner.state.floatbank8_b_air</th>\n",
       "      <th>primary_cleaner.state.floatbank8_b_level</th>\n",
       "      <th>primary_cleaner.state.floatbank8_c_air</th>\n",
       "      <th>primary_cleaner.state.floatbank8_c_level</th>\n",
       "      <th>primary_cleaner.state.floatbank8_d_air</th>\n",
       "      <th>primary_cleaner.state.floatbank8_d_level</th>\n",
       "      <th>secondary_cleaner.state.floatbank2_a_air</th>\n",
       "      <th>secondary_cleaner.state.floatbank2_a_level</th>\n",
       "      <th>secondary_cleaner.state.floatbank2_b_air</th>\n",
       "      <th>secondary_cleaner.state.floatbank2_b_level</th>\n",
       "      <th>secondary_cleaner.state.floatbank3_a_air</th>\n",
       "      <th>secondary_cleaner.state.floatbank3_a_level</th>\n",
       "      <th>secondary_cleaner.state.floatbank3_b_air</th>\n",
       "      <th>secondary_cleaner.state.floatbank3_b_level</th>\n",
       "      <th>secondary_cleaner.state.floatbank4_a_air</th>\n",
       "      <th>secondary_cleaner.state.floatbank4_a_level</th>\n",
       "      <th>secondary_cleaner.state.floatbank4_b_air</th>\n",
       "      <th>secondary_cleaner.state.floatbank4_b_level</th>\n",
       "      <th>secondary_cleaner.state.floatbank5_a_air</th>\n",
       "      <th>secondary_cleaner.state.floatbank5_a_level</th>\n",
       "      <th>secondary_cleaner.state.floatbank5_b_air</th>\n",
       "      <th>secondary_cleaner.state.floatbank5_b_level</th>\n",
       "      <th>secondary_cleaner.state.floatbank6_a_air</th>\n",
       "      <th>secondary_cleaner.state.floatbank6_a_level</th>\n",
       "    </tr>\n",
       "  </thead>\n",
       "  <tbody>\n",
       "    <tr>\n",
       "      <th>0</th>\n",
       "      <td>2017-12-09 14:59:59</td>\n",
       "      <td>4.365491</td>\n",
       "      <td>6.158718</td>\n",
       "      <td>3.875727</td>\n",
       "      <td>39.135119</td>\n",
       "      <td>555.820208</td>\n",
       "      <td>94.544358</td>\n",
       "      <td>6.146982</td>\n",
       "      <td>9.308612</td>\n",
       "      <td>1196.238112</td>\n",
       "      <td>-299.862743</td>\n",
       "      <td>1147.248241</td>\n",
       "      <td>-500.363165</td>\n",
       "      <td>1047.279065</td>\n",
       "      <td>-500.354091</td>\n",
       "      <td>948.756608</td>\n",
       "      <td>-498.439416</td>\n",
       "      <td>849.441918</td>\n",
       "      <td>-499.255503</td>\n",
       "      <td>850.112246</td>\n",
       "      <td>-499.407112</td>\n",
       "      <td>6.168939</td>\n",
       "      <td>9.309852</td>\n",
       "      <td>95.248427</td>\n",
       "      <td>8.078957</td>\n",
       "      <td>6.500000</td>\n",
       "      <td>1.283045</td>\n",
       "      <td>1648.759906</td>\n",
       "      <td>-399.862053</td>\n",
       "      <td>1650.135395</td>\n",
       "      <td>-399.957321</td>\n",
       "      <td>1648.831890</td>\n",
       "      <td>-400.586116</td>\n",
       "      <td>1649.464582</td>\n",
       "      <td>-400.673303</td>\n",
       "      <td>34.940919</td>\n",
       "      <td>-500.150510</td>\n",
       "      <td>30.031867</td>\n",
       "      <td>-500.328335</td>\n",
       "      <td>26.033990</td>\n",
       "      <td>-500.147792</td>\n",
       "      <td>22.952306</td>\n",
       "      <td>-500.037678</td>\n",
       "      <td>23.018622</td>\n",
       "      <td>-500.492702</td>\n",
       "      <td>20.020205</td>\n",
       "      <td>-500.220296</td>\n",
       "      <td>17.963512</td>\n",
       "      <td>-499.939490</td>\n",
       "      <td>12.990306</td>\n",
       "      <td>-500.080993</td>\n",
       "      <td>19.990336</td>\n",
       "      <td>-499.191575</td>\n",
       "    </tr>\n",
       "    <tr>\n",
       "      <th>1</th>\n",
       "      <td>2017-12-09 15:59:59</td>\n",
       "      <td>4.362781</td>\n",
       "      <td>6.048130</td>\n",
       "      <td>3.902537</td>\n",
       "      <td>39.713906</td>\n",
       "      <td>544.731687</td>\n",
       "      <td>123.742430</td>\n",
       "      <td>6.210119</td>\n",
       "      <td>9.297709</td>\n",
       "      <td>1201.904177</td>\n",
       "      <td>-299.907308</td>\n",
       "      <td>1154.087804</td>\n",
       "      <td>-500.036580</td>\n",
       "      <td>1054.009756</td>\n",
       "      <td>-500.237335</td>\n",
       "      <td>944.138793</td>\n",
       "      <td>-496.866953</td>\n",
       "      <td>851.589767</td>\n",
       "      <td>-499.040466</td>\n",
       "      <td>851.345606</td>\n",
       "      <td>-499.122561</td>\n",
       "      <td>6.209517</td>\n",
       "      <td>9.297194</td>\n",
       "      <td>98.880538</td>\n",
       "      <td>7.984164</td>\n",
       "      <td>6.500000</td>\n",
       "      <td>1.241969</td>\n",
       "      <td>1646.547763</td>\n",
       "      <td>-398.977083</td>\n",
       "      <td>1648.212240</td>\n",
       "      <td>-400.383265</td>\n",
       "      <td>1648.917387</td>\n",
       "      <td>-399.521344</td>\n",
       "      <td>1651.498591</td>\n",
       "      <td>-399.745329</td>\n",
       "      <td>34.980742</td>\n",
       "      <td>-498.131002</td>\n",
       "      <td>29.968453</td>\n",
       "      <td>-586.013330</td>\n",
       "      <td>25.971737</td>\n",
       "      <td>-499.608392</td>\n",
       "      <td>22.958448</td>\n",
       "      <td>-499.821308</td>\n",
       "      <td>23.024963</td>\n",
       "      <td>-501.153409</td>\n",
       "      <td>20.054122</td>\n",
       "      <td>-500.314711</td>\n",
       "      <td>17.979515</td>\n",
       "      <td>-499.272871</td>\n",
       "      <td>12.992404</td>\n",
       "      <td>-499.976268</td>\n",
       "      <td>20.013986</td>\n",
       "      <td>-500.625471</td>\n",
       "    </tr>\n",
       "    <tr>\n",
       "      <th>2</th>\n",
       "      <td>2017-12-09 16:59:59</td>\n",
       "      <td>5.081681</td>\n",
       "      <td>6.082745</td>\n",
       "      <td>4.564078</td>\n",
       "      <td>37.208683</td>\n",
       "      <td>558.155110</td>\n",
       "      <td>82.610855</td>\n",
       "      <td>7.363824</td>\n",
       "      <td>9.003562</td>\n",
       "      <td>1200.826926</td>\n",
       "      <td>-300.124116</td>\n",
       "      <td>1150.754676</td>\n",
       "      <td>-499.986009</td>\n",
       "      <td>1049.182824</td>\n",
       "      <td>-500.014696</td>\n",
       "      <td>948.085464</td>\n",
       "      <td>-499.997003</td>\n",
       "      <td>850.170086</td>\n",
       "      <td>-500.270334</td>\n",
       "      <td>849.557905</td>\n",
       "      <td>-500.198702</td>\n",
       "      <td>7.358308</td>\n",
       "      <td>9.000624</td>\n",
       "      <td>119.497545</td>\n",
       "      <td>8.003752</td>\n",
       "      <td>6.500000</td>\n",
       "      <td>1.259741</td>\n",
       "      <td>1647.368779</td>\n",
       "      <td>-399.788506</td>\n",
       "      <td>1648.395206</td>\n",
       "      <td>-400.166490</td>\n",
       "      <td>1648.953828</td>\n",
       "      <td>-400.468641</td>\n",
       "      <td>1649.821569</td>\n",
       "      <td>-400.071884</td>\n",
       "      <td>34.952967</td>\n",
       "      <td>-501.204647</td>\n",
       "      <td>29.927025</td>\n",
       "      <td>-500.106628</td>\n",
       "      <td>25.978253</td>\n",
       "      <td>-499.890060</td>\n",
       "      <td>23.004376</td>\n",
       "      <td>-500.014529</td>\n",
       "      <td>22.993827</td>\n",
       "      <td>-501.559663</td>\n",
       "      <td>20.029144</td>\n",
       "      <td>-500.000662</td>\n",
       "      <td>18.012723</td>\n",
       "      <td>-500.024764</td>\n",
       "      <td>13.016445</td>\n",
       "      <td>-500.058432</td>\n",
       "      <td>19.973767</td>\n",
       "      <td>-501.394155</td>\n",
       "    </tr>\n",
       "    <tr>\n",
       "      <th>3</th>\n",
       "      <td>2017-12-09 17:59:59</td>\n",
       "      <td>5.145949</td>\n",
       "      <td>6.084374</td>\n",
       "      <td>4.768124</td>\n",
       "      <td>36.808874</td>\n",
       "      <td>539.713765</td>\n",
       "      <td>77.984784</td>\n",
       "      <td>6.927072</td>\n",
       "      <td>8.955597</td>\n",
       "      <td>1199.292489</td>\n",
       "      <td>-299.778385</td>\n",
       "      <td>1152.512559</td>\n",
       "      <td>-500.338106</td>\n",
       "      <td>1052.601592</td>\n",
       "      <td>-499.695075</td>\n",
       "      <td>955.171539</td>\n",
       "      <td>-500.294989</td>\n",
       "      <td>851.957342</td>\n",
       "      <td>-499.779541</td>\n",
       "      <td>850.765662</td>\n",
       "      <td>-501.030559</td>\n",
       "      <td>6.929364</td>\n",
       "      <td>8.920717</td>\n",
       "      <td>108.080163</td>\n",
       "      <td>7.970121</td>\n",
       "      <td>6.660000</td>\n",
       "      <td>0.774909</td>\n",
       "      <td>1652.660845</td>\n",
       "      <td>-399.702218</td>\n",
       "      <td>1651.203128</td>\n",
       "      <td>-400.291472</td>\n",
       "      <td>1651.924848</td>\n",
       "      <td>-398.058033</td>\n",
       "      <td>1650.782696</td>\n",
       "      <td>-399.597977</td>\n",
       "      <td>35.038256</td>\n",
       "      <td>-500.102649</td>\n",
       "      <td>30.066959</td>\n",
       "      <td>-500.211499</td>\n",
       "      <td>26.013515</td>\n",
       "      <td>-500.054597</td>\n",
       "      <td>22.988928</td>\n",
       "      <td>-499.981410</td>\n",
       "      <td>23.032807</td>\n",
       "      <td>-501.287889</td>\n",
       "      <td>19.977466</td>\n",
       "      <td>-500.159903</td>\n",
       "      <td>17.980463</td>\n",
       "      <td>-500.504602</td>\n",
       "      <td>12.949071</td>\n",
       "      <td>-500.009937</td>\n",
       "      <td>20.010332</td>\n",
       "      <td>-508.337973</td>\n",
       "    </tr>\n",
       "    <tr>\n",
       "      <th>4</th>\n",
       "      <td>2017-12-09 18:59:59</td>\n",
       "      <td>5.735249</td>\n",
       "      <td>6.165220</td>\n",
       "      <td>4.512346</td>\n",
       "      <td>37.810642</td>\n",
       "      <td>558.713584</td>\n",
       "      <td>86.434874</td>\n",
       "      <td>7.823471</td>\n",
       "      <td>7.490356</td>\n",
       "      <td>1198.005449</td>\n",
       "      <td>-300.283401</td>\n",
       "      <td>1099.481500</td>\n",
       "      <td>-499.702465</td>\n",
       "      <td>999.539264</td>\n",
       "      <td>-499.306051</td>\n",
       "      <td>889.445596</td>\n",
       "      <td>-498.118617</td>\n",
       "      <td>800.533525</td>\n",
       "      <td>-499.765068</td>\n",
       "      <td>800.510356</td>\n",
       "      <td>-497.289533</td>\n",
       "      <td>7.824875</td>\n",
       "      <td>7.500678</td>\n",
       "      <td>117.750648</td>\n",
       "      <td>6.954311</td>\n",
       "      <td>6.426667</td>\n",
       "      <td>0.731271</td>\n",
       "      <td>1649.411497</td>\n",
       "      <td>-399.853156</td>\n",
       "      <td>1648.917211</td>\n",
       "      <td>-400.321866</td>\n",
       "      <td>1649.117753</td>\n",
       "      <td>-399.645348</td>\n",
       "      <td>1650.398209</td>\n",
       "      <td>-400.654533</td>\n",
       "      <td>34.894598</td>\n",
       "      <td>-498.444587</td>\n",
       "      <td>30.020745</td>\n",
       "      <td>-533.831343</td>\n",
       "      <td>26.022094</td>\n",
       "      <td>-499.725484</td>\n",
       "      <td>22.992992</td>\n",
       "      <td>-499.891405</td>\n",
       "      <td>23.001911</td>\n",
       "      <td>-499.947838</td>\n",
       "      <td>20.023735</td>\n",
       "      <td>-499.713680</td>\n",
       "      <td>17.990955</td>\n",
       "      <td>-500.334769</td>\n",
       "      <td>13.007523</td>\n",
       "      <td>-499.968459</td>\n",
       "      <td>19.995999</td>\n",
       "      <td>-499.788805</td>\n",
       "    </tr>\n",
       "  </tbody>\n",
       "</table>\n",
       "</div>"
      ],
      "text/plain": [
       "                  date  rougher.input.feed_au  rougher.input.feed_ag  \\\n",
       "0  2017-12-09 14:59:59               4.365491               6.158718   \n",
       "1  2017-12-09 15:59:59               4.362781               6.048130   \n",
       "2  2017-12-09 16:59:59               5.081681               6.082745   \n",
       "3  2017-12-09 17:59:59               5.145949               6.084374   \n",
       "4  2017-12-09 18:59:59               5.735249               6.165220   \n",
       "\n",
       "   rougher.input.feed_pb  rougher.input.feed_sol  rougher.input.feed_rate  \\\n",
       "0               3.875727               39.135119               555.820208   \n",
       "1               3.902537               39.713906               544.731687   \n",
       "2               4.564078               37.208683               558.155110   \n",
       "3               4.768124               36.808874               539.713765   \n",
       "4               4.512346               37.810642               558.713584   \n",
       "\n",
       "   rougher.input.feed_size  rougher.input.floatbank10_sulfate  \\\n",
       "0                94.544358                           6.146982   \n",
       "1               123.742430                           6.210119   \n",
       "2                82.610855                           7.363824   \n",
       "3                77.984784                           6.927072   \n",
       "4                86.434874                           7.823471   \n",
       "\n",
       "   rougher.input.floatbank10_xanthate  rougher.state.floatbank10_a_air  \\\n",
       "0                            9.308612                      1196.238112   \n",
       "1                            9.297709                      1201.904177   \n",
       "2                            9.003562                      1200.826926   \n",
       "3                            8.955597                      1199.292489   \n",
       "4                            7.490356                      1198.005449   \n",
       "\n",
       "   rougher.state.floatbank10_a_level  rougher.state.floatbank10_b_air  \\\n",
       "0                        -299.862743                      1147.248241   \n",
       "1                        -299.907308                      1154.087804   \n",
       "2                        -300.124116                      1150.754676   \n",
       "3                        -299.778385                      1152.512559   \n",
       "4                        -300.283401                      1099.481500   \n",
       "\n",
       "   rougher.state.floatbank10_b_level  rougher.state.floatbank10_c_air  \\\n",
       "0                        -500.363165                      1047.279065   \n",
       "1                        -500.036580                      1054.009756   \n",
       "2                        -499.986009                      1049.182824   \n",
       "3                        -500.338106                      1052.601592   \n",
       "4                        -499.702465                       999.539264   \n",
       "\n",
       "   rougher.state.floatbank10_c_level  rougher.state.floatbank10_d_air  \\\n",
       "0                        -500.354091                       948.756608   \n",
       "1                        -500.237335                       944.138793   \n",
       "2                        -500.014696                       948.085464   \n",
       "3                        -499.695075                       955.171539   \n",
       "4                        -499.306051                       889.445596   \n",
       "\n",
       "   rougher.state.floatbank10_d_level  rougher.state.floatbank10_e_air  \\\n",
       "0                        -498.439416                       849.441918   \n",
       "1                        -496.866953                       851.589767   \n",
       "2                        -499.997003                       850.170086   \n",
       "3                        -500.294989                       851.957342   \n",
       "4                        -498.118617                       800.533525   \n",
       "\n",
       "   rougher.state.floatbank10_e_level  rougher.state.floatbank10_f_air  \\\n",
       "0                        -499.255503                       850.112246   \n",
       "1                        -499.040466                       851.345606   \n",
       "2                        -500.270334                       849.557905   \n",
       "3                        -499.779541                       850.765662   \n",
       "4                        -499.765068                       800.510356   \n",
       "\n",
       "   rougher.state.floatbank10_f_level  rougher.input.floatbank11_sulfate  \\\n",
       "0                        -499.407112                           6.168939   \n",
       "1                        -499.122561                           6.209517   \n",
       "2                        -500.198702                           7.358308   \n",
       "3                        -501.030559                           6.929364   \n",
       "4                        -497.289533                           7.824875   \n",
       "\n",
       "   rougher.input.floatbank11_xanthate  primary_cleaner.input.sulfate  \\\n",
       "0                            9.309852                      95.248427   \n",
       "1                            9.297194                      98.880538   \n",
       "2                            9.000624                     119.497545   \n",
       "3                            8.920717                     108.080163   \n",
       "4                            7.500678                     117.750648   \n",
       "\n",
       "   primary_cleaner.input.depressant  primary_cleaner.input.feed_size  \\\n",
       "0                          8.078957                         6.500000   \n",
       "1                          7.984164                         6.500000   \n",
       "2                          8.003752                         6.500000   \n",
       "3                          7.970121                         6.660000   \n",
       "4                          6.954311                         6.426667   \n",
       "\n",
       "   primary_cleaner.input.xanthate  primary_cleaner.state.floatbank8_a_air  \\\n",
       "0                        1.283045                             1648.759906   \n",
       "1                        1.241969                             1646.547763   \n",
       "2                        1.259741                             1647.368779   \n",
       "3                        0.774909                             1652.660845   \n",
       "4                        0.731271                             1649.411497   \n",
       "\n",
       "   primary_cleaner.state.floatbank8_a_level  \\\n",
       "0                               -399.862053   \n",
       "1                               -398.977083   \n",
       "2                               -399.788506   \n",
       "3                               -399.702218   \n",
       "4                               -399.853156   \n",
       "\n",
       "   primary_cleaner.state.floatbank8_b_air  \\\n",
       "0                             1650.135395   \n",
       "1                             1648.212240   \n",
       "2                             1648.395206   \n",
       "3                             1651.203128   \n",
       "4                             1648.917211   \n",
       "\n",
       "   primary_cleaner.state.floatbank8_b_level  \\\n",
       "0                               -399.957321   \n",
       "1                               -400.383265   \n",
       "2                               -400.166490   \n",
       "3                               -400.291472   \n",
       "4                               -400.321866   \n",
       "\n",
       "   primary_cleaner.state.floatbank8_c_air  \\\n",
       "0                             1648.831890   \n",
       "1                             1648.917387   \n",
       "2                             1648.953828   \n",
       "3                             1651.924848   \n",
       "4                             1649.117753   \n",
       "\n",
       "   primary_cleaner.state.floatbank8_c_level  \\\n",
       "0                               -400.586116   \n",
       "1                               -399.521344   \n",
       "2                               -400.468641   \n",
       "3                               -398.058033   \n",
       "4                               -399.645348   \n",
       "\n",
       "   primary_cleaner.state.floatbank8_d_air  \\\n",
       "0                             1649.464582   \n",
       "1                             1651.498591   \n",
       "2                             1649.821569   \n",
       "3                             1650.782696   \n",
       "4                             1650.398209   \n",
       "\n",
       "   primary_cleaner.state.floatbank8_d_level  \\\n",
       "0                               -400.673303   \n",
       "1                               -399.745329   \n",
       "2                               -400.071884   \n",
       "3                               -399.597977   \n",
       "4                               -400.654533   \n",
       "\n",
       "   secondary_cleaner.state.floatbank2_a_air  \\\n",
       "0                                 34.940919   \n",
       "1                                 34.980742   \n",
       "2                                 34.952967   \n",
       "3                                 35.038256   \n",
       "4                                 34.894598   \n",
       "\n",
       "   secondary_cleaner.state.floatbank2_a_level  \\\n",
       "0                                 -500.150510   \n",
       "1                                 -498.131002   \n",
       "2                                 -501.204647   \n",
       "3                                 -500.102649   \n",
       "4                                 -498.444587   \n",
       "\n",
       "   secondary_cleaner.state.floatbank2_b_air  \\\n",
       "0                                 30.031867   \n",
       "1                                 29.968453   \n",
       "2                                 29.927025   \n",
       "3                                 30.066959   \n",
       "4                                 30.020745   \n",
       "\n",
       "   secondary_cleaner.state.floatbank2_b_level  \\\n",
       "0                                 -500.328335   \n",
       "1                                 -586.013330   \n",
       "2                                 -500.106628   \n",
       "3                                 -500.211499   \n",
       "4                                 -533.831343   \n",
       "\n",
       "   secondary_cleaner.state.floatbank3_a_air  \\\n",
       "0                                 26.033990   \n",
       "1                                 25.971737   \n",
       "2                                 25.978253   \n",
       "3                                 26.013515   \n",
       "4                                 26.022094   \n",
       "\n",
       "   secondary_cleaner.state.floatbank3_a_level  \\\n",
       "0                                 -500.147792   \n",
       "1                                 -499.608392   \n",
       "2                                 -499.890060   \n",
       "3                                 -500.054597   \n",
       "4                                 -499.725484   \n",
       "\n",
       "   secondary_cleaner.state.floatbank3_b_air  \\\n",
       "0                                 22.952306   \n",
       "1                                 22.958448   \n",
       "2                                 23.004376   \n",
       "3                                 22.988928   \n",
       "4                                 22.992992   \n",
       "\n",
       "   secondary_cleaner.state.floatbank3_b_level  \\\n",
       "0                                 -500.037678   \n",
       "1                                 -499.821308   \n",
       "2                                 -500.014529   \n",
       "3                                 -499.981410   \n",
       "4                                 -499.891405   \n",
       "\n",
       "   secondary_cleaner.state.floatbank4_a_air  \\\n",
       "0                                 23.018622   \n",
       "1                                 23.024963   \n",
       "2                                 22.993827   \n",
       "3                                 23.032807   \n",
       "4                                 23.001911   \n",
       "\n",
       "   secondary_cleaner.state.floatbank4_a_level  \\\n",
       "0                                 -500.492702   \n",
       "1                                 -501.153409   \n",
       "2                                 -501.559663   \n",
       "3                                 -501.287889   \n",
       "4                                 -499.947838   \n",
       "\n",
       "   secondary_cleaner.state.floatbank4_b_air  \\\n",
       "0                                 20.020205   \n",
       "1                                 20.054122   \n",
       "2                                 20.029144   \n",
       "3                                 19.977466   \n",
       "4                                 20.023735   \n",
       "\n",
       "   secondary_cleaner.state.floatbank4_b_level  \\\n",
       "0                                 -500.220296   \n",
       "1                                 -500.314711   \n",
       "2                                 -500.000662   \n",
       "3                                 -500.159903   \n",
       "4                                 -499.713680   \n",
       "\n",
       "   secondary_cleaner.state.floatbank5_a_air  \\\n",
       "0                                 17.963512   \n",
       "1                                 17.979515   \n",
       "2                                 18.012723   \n",
       "3                                 17.980463   \n",
       "4                                 17.990955   \n",
       "\n",
       "   secondary_cleaner.state.floatbank5_a_level  \\\n",
       "0                                 -499.939490   \n",
       "1                                 -499.272871   \n",
       "2                                 -500.024764   \n",
       "3                                 -500.504602   \n",
       "4                                 -500.334769   \n",
       "\n",
       "   secondary_cleaner.state.floatbank5_b_air  \\\n",
       "0                                 12.990306   \n",
       "1                                 12.992404   \n",
       "2                                 13.016445   \n",
       "3                                 12.949071   \n",
       "4                                 13.007523   \n",
       "\n",
       "   secondary_cleaner.state.floatbank5_b_level  \\\n",
       "0                                 -500.080993   \n",
       "1                                 -499.976268   \n",
       "2                                 -500.058432   \n",
       "3                                 -500.009937   \n",
       "4                                 -499.968459   \n",
       "\n",
       "   secondary_cleaner.state.floatbank6_a_air  \\\n",
       "0                                 19.990336   \n",
       "1                                 20.013986   \n",
       "2                                 19.973767   \n",
       "3                                 20.010332   \n",
       "4                                 19.995999   \n",
       "\n",
       "   secondary_cleaner.state.floatbank6_a_level  \n",
       "0                                 -499.191575  \n",
       "1                                 -500.625471  \n",
       "2                                 -501.394155  \n",
       "3                                 -508.337973  \n",
       "4                                 -499.788805  "
      ]
     },
     "execution_count": 13,
     "metadata": {},
     "output_type": "execute_result"
    }
   ],
   "source": [
    "df_test.head()"
   ]
  },
  {
   "cell_type": "code",
   "execution_count": 14,
   "metadata": {
    "scrolled": true
   },
   "outputs": [
    {
     "data": {
      "text/plain": [
       "{'final.output.concentrate_ag',\n",
       " 'final.output.concentrate_au',\n",
       " 'final.output.concentrate_pb',\n",
       " 'final.output.concentrate_sol',\n",
       " 'final.output.recovery',\n",
       " 'final.output.tail_ag',\n",
       " 'final.output.tail_au',\n",
       " 'final.output.tail_pb',\n",
       " 'final.output.tail_sol',\n",
       " 'primary_cleaner.output.concentrate_ag',\n",
       " 'primary_cleaner.output.concentrate_au',\n",
       " 'primary_cleaner.output.concentrate_pb',\n",
       " 'primary_cleaner.output.concentrate_sol',\n",
       " 'primary_cleaner.output.tail_ag',\n",
       " 'primary_cleaner.output.tail_au',\n",
       " 'primary_cleaner.output.tail_pb',\n",
       " 'primary_cleaner.output.tail_sol',\n",
       " 'rougher.calculation.au_pb_ratio',\n",
       " 'rougher.calculation.floatbank10_sulfate_to_au_feed',\n",
       " 'rougher.calculation.floatbank11_sulfate_to_au_feed',\n",
       " 'rougher.calculation.sulfate_to_au_concentrate',\n",
       " 'rougher.output.concentrate_ag',\n",
       " 'rougher.output.concentrate_au',\n",
       " 'rougher.output.concentrate_pb',\n",
       " 'rougher.output.concentrate_sol',\n",
       " 'rougher.output.recovery',\n",
       " 'rougher.output.tail_ag',\n",
       " 'rougher.output.tail_au',\n",
       " 'rougher.output.tail_pb',\n",
       " 'rougher.output.tail_sol',\n",
       " 'secondary_cleaner.output.tail_ag',\n",
       " 'secondary_cleaner.output.tail_au',\n",
       " 'secondary_cleaner.output.tail_pb',\n",
       " 'secondary_cleaner.output.tail_sol'}"
      ]
     },
     "execution_count": 14,
     "metadata": {},
     "output_type": "execute_result"
    }
   ],
   "source": [
    "set(df_train.columns) - set(df_test.columns)"
   ]
  },
  {
   "cell_type": "markdown",
   "metadata": {},
   "source": [
    "В тестовой выборке отсутствуют данные по \"выходу\", т.е. output.  \n",
    "Также, хронологически тестовая выборка почему-то позднее чем учебная."
   ]
  },
  {
   "cell_type": "code",
   "execution_count": 15,
   "metadata": {},
   "outputs": [],
   "source": [
    "df = pd.read_csv('/datasets/gold_industry_full.csv')"
   ]
  },
  {
   "cell_type": "code",
   "execution_count": 16,
   "metadata": {
    "scrolled": true
   },
   "outputs": [
    {
     "name": "stdout",
     "output_type": "stream",
     "text": [
      "<class 'pandas.core.frame.DataFrame'>\n",
      "RangeIndex: 19439 entries, 0 to 19438\n",
      "Data columns (total 87 columns):\n",
      " #   Column                                              Non-Null Count  Dtype  \n",
      "---  ------                                              --------------  -----  \n",
      " 0   date                                                19439 non-null  object \n",
      " 1   rougher.input.feed_au                               19439 non-null  float64\n",
      " 2   rougher.input.feed_ag                               19439 non-null  float64\n",
      " 3   rougher.input.feed_pb                               19339 non-null  float64\n",
      " 4   rougher.input.feed_sol                              19340 non-null  float64\n",
      " 5   rougher.input.feed_rate                             19428 non-null  float64\n",
      " 6   rougher.input.feed_size                             19294 non-null  float64\n",
      " 7   rougher.input.floatbank10_sulfate                   19405 non-null  float64\n",
      " 8   rougher.input.floatbank10_xanthate                  19431 non-null  float64\n",
      " 9   rougher.state.floatbank10_a_air                     19438 non-null  float64\n",
      " 10  rougher.state.floatbank10_a_level                   19438 non-null  float64\n",
      " 11  rougher.state.floatbank10_b_air                     19438 non-null  float64\n",
      " 12  rougher.state.floatbank10_b_level                   19438 non-null  float64\n",
      " 13  rougher.state.floatbank10_c_air                     19438 non-null  float64\n",
      " 14  rougher.state.floatbank10_c_level                   19438 non-null  float64\n",
      " 15  rougher.state.floatbank10_d_air                     19439 non-null  float64\n",
      " 16  rougher.state.floatbank10_d_level                   19439 non-null  float64\n",
      " 17  rougher.state.floatbank10_e_air                     19003 non-null  float64\n",
      " 18  rougher.state.floatbank10_e_level                   19439 non-null  float64\n",
      " 19  rougher.state.floatbank10_f_air                     19439 non-null  float64\n",
      " 20  rougher.state.floatbank10_f_level                   19439 non-null  float64\n",
      " 21  rougher.input.floatbank11_sulfate                   19395 non-null  float64\n",
      " 22  rougher.input.floatbank11_xanthate                  18986 non-null  float64\n",
      " 23  rougher.calculation.sulfate_to_au_concentrate       19437 non-null  float64\n",
      " 24  rougher.calculation.floatbank10_sulfate_to_au_feed  19437 non-null  float64\n",
      " 25  rougher.calculation.floatbank11_sulfate_to_au_feed  19437 non-null  float64\n",
      " 26  rougher.calculation.au_pb_ratio                     19439 non-null  float64\n",
      " 27  rougher.output.concentrate_au                       19439 non-null  float64\n",
      " 28  rougher.output.concentrate_ag                       19439 non-null  float64\n",
      " 29  rougher.output.concentrate_pb                       19439 non-null  float64\n",
      " 30  rougher.output.concentrate_sol                      19416 non-null  float64\n",
      " 31  rougher.output.recovery                             19439 non-null  float64\n",
      " 32  rougher.output.tail_au                              19439 non-null  float64\n",
      " 33  rougher.output.tail_ag                              19438 non-null  float64\n",
      " 34  rougher.output.tail_pb                              19439 non-null  float64\n",
      " 35  rougher.output.tail_sol                             19439 non-null  float64\n",
      " 36  primary_cleaner.input.sulfate                       19415 non-null  float64\n",
      " 37  primary_cleaner.input.depressant                    19402 non-null  float64\n",
      " 38  primary_cleaner.input.feed_size                     19439 non-null  float64\n",
      " 39  primary_cleaner.input.xanthate                      19335 non-null  float64\n",
      " 40  primary_cleaner.state.floatbank8_a_air              19435 non-null  float64\n",
      " 41  primary_cleaner.state.floatbank8_a_level            19438 non-null  float64\n",
      " 42  primary_cleaner.state.floatbank8_b_air              19435 non-null  float64\n",
      " 43  primary_cleaner.state.floatbank8_b_level            19438 non-null  float64\n",
      " 44  primary_cleaner.state.floatbank8_c_air              19437 non-null  float64\n",
      " 45  primary_cleaner.state.floatbank8_c_level            19438 non-null  float64\n",
      " 46  primary_cleaner.state.floatbank8_d_air              19436 non-null  float64\n",
      " 47  primary_cleaner.state.floatbank8_d_level            19438 non-null  float64\n",
      " 48  primary_cleaner.output.concentrate_au               19439 non-null  float64\n",
      " 49  primary_cleaner.output.concentrate_ag               19439 non-null  float64\n",
      " 50  primary_cleaner.output.concentrate_pb               19323 non-null  float64\n",
      " 51  primary_cleaner.output.concentrate_sol              19069 non-null  float64\n",
      " 52  primary_cleaner.output.tail_au                      19439 non-null  float64\n",
      " 53  primary_cleaner.output.tail_ag                      19435 non-null  float64\n",
      " 54  primary_cleaner.output.tail_pb                      19418 non-null  float64\n",
      " 55  primary_cleaner.output.tail_sol                     19377 non-null  float64\n",
      " 56  secondary_cleaner.state.floatbank2_a_air            19219 non-null  float64\n",
      " 57  secondary_cleaner.state.floatbank2_a_level          19438 non-null  float64\n",
      " 58  secondary_cleaner.state.floatbank2_b_air            19416 non-null  float64\n",
      " 59  secondary_cleaner.state.floatbank2_b_level          19438 non-null  float64\n",
      " 60  secondary_cleaner.state.floatbank3_a_air            19426 non-null  float64\n",
      " 61  secondary_cleaner.state.floatbank3_a_level          19438 non-null  float64\n",
      " 62  secondary_cleaner.state.floatbank3_b_air            19438 non-null  float64\n",
      " 63  secondary_cleaner.state.floatbank3_b_level          19438 non-null  float64\n",
      " 64  secondary_cleaner.state.floatbank4_a_air            19433 non-null  float64\n",
      " 65  secondary_cleaner.state.floatbank4_a_level          19438 non-null  float64\n",
      " 66  secondary_cleaner.state.floatbank4_b_air            19438 non-null  float64\n",
      " 67  secondary_cleaner.state.floatbank4_b_level          19438 non-null  float64\n",
      " 68  secondary_cleaner.state.floatbank5_a_air            19438 non-null  float64\n",
      " 69  secondary_cleaner.state.floatbank5_a_level          19438 non-null  float64\n",
      " 70  secondary_cleaner.state.floatbank5_b_air            19438 non-null  float64\n",
      " 71  secondary_cleaner.state.floatbank5_b_level          19438 non-null  float64\n",
      " 72  secondary_cleaner.state.floatbank6_a_air            19437 non-null  float64\n",
      " 73  secondary_cleaner.state.floatbank6_a_level          19438 non-null  float64\n",
      " 74  secondary_cleaner.output.tail_au                    19439 non-null  float64\n",
      " 75  secondary_cleaner.output.tail_ag                    19437 non-null  float64\n",
      " 76  secondary_cleaner.output.tail_pb                    19427 non-null  float64\n",
      " 77  secondary_cleaner.output.tail_sol                   17691 non-null  float64\n",
      " 78  final.output.concentrate_au                         19439 non-null  float64\n",
      " 79  final.output.concentrate_ag                         19438 non-null  float64\n",
      " 80  final.output.concentrate_pb                         19438 non-null  float64\n",
      " 81  final.output.concentrate_sol                        19228 non-null  float64\n",
      " 82  final.output.recovery                               19439 non-null  float64\n",
      " 83  final.output.tail_au                                19439 non-null  float64\n",
      " 84  final.output.tail_ag                                19438 non-null  float64\n",
      " 85  final.output.tail_pb                                19338 non-null  float64\n",
      " 86  final.output.tail_sol                               19433 non-null  float64\n",
      "dtypes: float64(86), object(1)\n",
      "memory usage: 12.9+ MB\n"
     ]
    }
   ],
   "source": [
    "df.info()"
   ]
  },
  {
   "cell_type": "code",
   "execution_count": 17,
   "metadata": {},
   "outputs": [],
   "source": [
    "df = df.fillna(method='ffill')"
   ]
  },
  {
   "cell_type": "code",
   "execution_count": 18,
   "metadata": {
    "scrolled": true
   },
   "outputs": [
    {
     "name": "stdout",
     "output_type": "stream",
     "text": [
      "<class 'pandas.core.frame.DataFrame'>\n",
      "RangeIndex: 19439 entries, 0 to 19438\n",
      "Data columns (total 87 columns):\n",
      " #   Column                                              Non-Null Count  Dtype  \n",
      "---  ------                                              --------------  -----  \n",
      " 0   date                                                19439 non-null  object \n",
      " 1   rougher.input.feed_au                               19439 non-null  float64\n",
      " 2   rougher.input.feed_ag                               19439 non-null  float64\n",
      " 3   rougher.input.feed_pb                               19439 non-null  float64\n",
      " 4   rougher.input.feed_sol                              19439 non-null  float64\n",
      " 5   rougher.input.feed_rate                             19439 non-null  float64\n",
      " 6   rougher.input.feed_size                             19439 non-null  float64\n",
      " 7   rougher.input.floatbank10_sulfate                   19439 non-null  float64\n",
      " 8   rougher.input.floatbank10_xanthate                  19439 non-null  float64\n",
      " 9   rougher.state.floatbank10_a_air                     19439 non-null  float64\n",
      " 10  rougher.state.floatbank10_a_level                   19439 non-null  float64\n",
      " 11  rougher.state.floatbank10_b_air                     19439 non-null  float64\n",
      " 12  rougher.state.floatbank10_b_level                   19439 non-null  float64\n",
      " 13  rougher.state.floatbank10_c_air                     19439 non-null  float64\n",
      " 14  rougher.state.floatbank10_c_level                   19439 non-null  float64\n",
      " 15  rougher.state.floatbank10_d_air                     19439 non-null  float64\n",
      " 16  rougher.state.floatbank10_d_level                   19439 non-null  float64\n",
      " 17  rougher.state.floatbank10_e_air                     19439 non-null  float64\n",
      " 18  rougher.state.floatbank10_e_level                   19439 non-null  float64\n",
      " 19  rougher.state.floatbank10_f_air                     19439 non-null  float64\n",
      " 20  rougher.state.floatbank10_f_level                   19439 non-null  float64\n",
      " 21  rougher.input.floatbank11_sulfate                   19439 non-null  float64\n",
      " 22  rougher.input.floatbank11_xanthate                  19439 non-null  float64\n",
      " 23  rougher.calculation.sulfate_to_au_concentrate       19439 non-null  float64\n",
      " 24  rougher.calculation.floatbank10_sulfate_to_au_feed  19439 non-null  float64\n",
      " 25  rougher.calculation.floatbank11_sulfate_to_au_feed  19439 non-null  float64\n",
      " 26  rougher.calculation.au_pb_ratio                     19439 non-null  float64\n",
      " 27  rougher.output.concentrate_au                       19439 non-null  float64\n",
      " 28  rougher.output.concentrate_ag                       19439 non-null  float64\n",
      " 29  rougher.output.concentrate_pb                       19439 non-null  float64\n",
      " 30  rougher.output.concentrate_sol                      19439 non-null  float64\n",
      " 31  rougher.output.recovery                             19439 non-null  float64\n",
      " 32  rougher.output.tail_au                              19439 non-null  float64\n",
      " 33  rougher.output.tail_ag                              19439 non-null  float64\n",
      " 34  rougher.output.tail_pb                              19439 non-null  float64\n",
      " 35  rougher.output.tail_sol                             19439 non-null  float64\n",
      " 36  primary_cleaner.input.sulfate                       19439 non-null  float64\n",
      " 37  primary_cleaner.input.depressant                    19439 non-null  float64\n",
      " 38  primary_cleaner.input.feed_size                     19439 non-null  float64\n",
      " 39  primary_cleaner.input.xanthate                      19439 non-null  float64\n",
      " 40  primary_cleaner.state.floatbank8_a_air              19439 non-null  float64\n",
      " 41  primary_cleaner.state.floatbank8_a_level            19439 non-null  float64\n",
      " 42  primary_cleaner.state.floatbank8_b_air              19439 non-null  float64\n",
      " 43  primary_cleaner.state.floatbank8_b_level            19439 non-null  float64\n",
      " 44  primary_cleaner.state.floatbank8_c_air              19439 non-null  float64\n",
      " 45  primary_cleaner.state.floatbank8_c_level            19439 non-null  float64\n",
      " 46  primary_cleaner.state.floatbank8_d_air              19439 non-null  float64\n",
      " 47  primary_cleaner.state.floatbank8_d_level            19439 non-null  float64\n",
      " 48  primary_cleaner.output.concentrate_au               19439 non-null  float64\n",
      " 49  primary_cleaner.output.concentrate_ag               19439 non-null  float64\n",
      " 50  primary_cleaner.output.concentrate_pb               19439 non-null  float64\n",
      " 51  primary_cleaner.output.concentrate_sol              19439 non-null  float64\n",
      " 52  primary_cleaner.output.tail_au                      19439 non-null  float64\n",
      " 53  primary_cleaner.output.tail_ag                      19439 non-null  float64\n",
      " 54  primary_cleaner.output.tail_pb                      19439 non-null  float64\n",
      " 55  primary_cleaner.output.tail_sol                     19439 non-null  float64\n",
      " 56  secondary_cleaner.state.floatbank2_a_air            19439 non-null  float64\n",
      " 57  secondary_cleaner.state.floatbank2_a_level          19439 non-null  float64\n",
      " 58  secondary_cleaner.state.floatbank2_b_air            19439 non-null  float64\n",
      " 59  secondary_cleaner.state.floatbank2_b_level          19439 non-null  float64\n",
      " 60  secondary_cleaner.state.floatbank3_a_air            19439 non-null  float64\n",
      " 61  secondary_cleaner.state.floatbank3_a_level          19439 non-null  float64\n",
      " 62  secondary_cleaner.state.floatbank3_b_air            19439 non-null  float64\n",
      " 63  secondary_cleaner.state.floatbank3_b_level          19439 non-null  float64\n",
      " 64  secondary_cleaner.state.floatbank4_a_air            19439 non-null  float64\n",
      " 65  secondary_cleaner.state.floatbank4_a_level          19439 non-null  float64\n",
      " 66  secondary_cleaner.state.floatbank4_b_air            19439 non-null  float64\n",
      " 67  secondary_cleaner.state.floatbank4_b_level          19439 non-null  float64\n",
      " 68  secondary_cleaner.state.floatbank5_a_air            19439 non-null  float64\n",
      " 69  secondary_cleaner.state.floatbank5_a_level          19439 non-null  float64\n",
      " 70  secondary_cleaner.state.floatbank5_b_air            19439 non-null  float64\n",
      " 71  secondary_cleaner.state.floatbank5_b_level          19439 non-null  float64\n",
      " 72  secondary_cleaner.state.floatbank6_a_air            19439 non-null  float64\n",
      " 73  secondary_cleaner.state.floatbank6_a_level          19439 non-null  float64\n",
      " 74  secondary_cleaner.output.tail_au                    19439 non-null  float64\n",
      " 75  secondary_cleaner.output.tail_ag                    19439 non-null  float64\n",
      " 76  secondary_cleaner.output.tail_pb                    19439 non-null  float64\n",
      " 77  secondary_cleaner.output.tail_sol                   19439 non-null  float64\n",
      " 78  final.output.concentrate_au                         19439 non-null  float64\n",
      " 79  final.output.concentrate_ag                         19439 non-null  float64\n",
      " 80  final.output.concentrate_pb                         19439 non-null  float64\n",
      " 81  final.output.concentrate_sol                        19439 non-null  float64\n",
      " 82  final.output.recovery                               19439 non-null  float64\n",
      " 83  final.output.tail_au                                19439 non-null  float64\n",
      " 84  final.output.tail_ag                                19439 non-null  float64\n",
      " 85  final.output.tail_pb                                19439 non-null  float64\n",
      " 86  final.output.tail_sol                               19439 non-null  float64\n",
      "dtypes: float64(86), object(1)\n",
      "memory usage: 12.9+ MB\n"
     ]
    }
   ],
   "source": [
    "df.info()"
   ]
  },
  {
   "cell_type": "code",
   "execution_count": 19,
   "metadata": {},
   "outputs": [
    {
     "data": {
      "text/html": [
       "<div>\n",
       "<style scoped>\n",
       "    .dataframe tbody tr th:only-of-type {\n",
       "        vertical-align: middle;\n",
       "    }\n",
       "\n",
       "    .dataframe tbody tr th {\n",
       "        vertical-align: top;\n",
       "    }\n",
       "\n",
       "    .dataframe thead th {\n",
       "        text-align: right;\n",
       "    }\n",
       "</style>\n",
       "<table border=\"1\" class=\"dataframe\">\n",
       "  <thead>\n",
       "    <tr style=\"text-align: right;\">\n",
       "      <th></th>\n",
       "      <th>date</th>\n",
       "      <th>rougher.input.feed_au</th>\n",
       "      <th>rougher.input.feed_ag</th>\n",
       "      <th>rougher.input.feed_pb</th>\n",
       "      <th>rougher.input.feed_sol</th>\n",
       "      <th>rougher.input.feed_rate</th>\n",
       "      <th>rougher.input.feed_size</th>\n",
       "      <th>rougher.input.floatbank10_sulfate</th>\n",
       "      <th>rougher.input.floatbank10_xanthate</th>\n",
       "      <th>rougher.state.floatbank10_a_air</th>\n",
       "      <th>rougher.state.floatbank10_a_level</th>\n",
       "      <th>rougher.state.floatbank10_b_air</th>\n",
       "      <th>rougher.state.floatbank10_b_level</th>\n",
       "      <th>rougher.state.floatbank10_c_air</th>\n",
       "      <th>rougher.state.floatbank10_c_level</th>\n",
       "      <th>rougher.state.floatbank10_d_air</th>\n",
       "      <th>rougher.state.floatbank10_d_level</th>\n",
       "      <th>rougher.state.floatbank10_e_air</th>\n",
       "      <th>rougher.state.floatbank10_e_level</th>\n",
       "      <th>rougher.state.floatbank10_f_air</th>\n",
       "      <th>rougher.state.floatbank10_f_level</th>\n",
       "      <th>rougher.input.floatbank11_sulfate</th>\n",
       "      <th>rougher.input.floatbank11_xanthate</th>\n",
       "      <th>rougher.calculation.sulfate_to_au_concentrate</th>\n",
       "      <th>rougher.calculation.floatbank10_sulfate_to_au_feed</th>\n",
       "      <th>rougher.calculation.floatbank11_sulfate_to_au_feed</th>\n",
       "      <th>rougher.calculation.au_pb_ratio</th>\n",
       "      <th>rougher.output.concentrate_au</th>\n",
       "      <th>rougher.output.concentrate_ag</th>\n",
       "      <th>rougher.output.concentrate_pb</th>\n",
       "      <th>rougher.output.concentrate_sol</th>\n",
       "      <th>rougher.output.recovery</th>\n",
       "      <th>rougher.output.tail_au</th>\n",
       "      <th>rougher.output.tail_ag</th>\n",
       "      <th>rougher.output.tail_pb</th>\n",
       "      <th>rougher.output.tail_sol</th>\n",
       "      <th>primary_cleaner.input.sulfate</th>\n",
       "      <th>primary_cleaner.input.depressant</th>\n",
       "      <th>primary_cleaner.input.feed_size</th>\n",
       "      <th>primary_cleaner.input.xanthate</th>\n",
       "      <th>primary_cleaner.state.floatbank8_a_air</th>\n",
       "      <th>primary_cleaner.state.floatbank8_a_level</th>\n",
       "      <th>primary_cleaner.state.floatbank8_b_air</th>\n",
       "      <th>primary_cleaner.state.floatbank8_b_level</th>\n",
       "      <th>primary_cleaner.state.floatbank8_c_air</th>\n",
       "      <th>primary_cleaner.state.floatbank8_c_level</th>\n",
       "      <th>primary_cleaner.state.floatbank8_d_air</th>\n",
       "      <th>primary_cleaner.state.floatbank8_d_level</th>\n",
       "      <th>primary_cleaner.output.concentrate_au</th>\n",
       "      <th>primary_cleaner.output.concentrate_ag</th>\n",
       "      <th>primary_cleaner.output.concentrate_pb</th>\n",
       "      <th>primary_cleaner.output.concentrate_sol</th>\n",
       "      <th>primary_cleaner.output.tail_au</th>\n",
       "      <th>primary_cleaner.output.tail_ag</th>\n",
       "      <th>primary_cleaner.output.tail_pb</th>\n",
       "      <th>primary_cleaner.output.tail_sol</th>\n",
       "      <th>secondary_cleaner.state.floatbank2_a_air</th>\n",
       "      <th>secondary_cleaner.state.floatbank2_a_level</th>\n",
       "      <th>secondary_cleaner.state.floatbank2_b_air</th>\n",
       "      <th>secondary_cleaner.state.floatbank2_b_level</th>\n",
       "      <th>secondary_cleaner.state.floatbank3_a_air</th>\n",
       "      <th>secondary_cleaner.state.floatbank3_a_level</th>\n",
       "      <th>secondary_cleaner.state.floatbank3_b_air</th>\n",
       "      <th>secondary_cleaner.state.floatbank3_b_level</th>\n",
       "      <th>secondary_cleaner.state.floatbank4_a_air</th>\n",
       "      <th>secondary_cleaner.state.floatbank4_a_level</th>\n",
       "      <th>secondary_cleaner.state.floatbank4_b_air</th>\n",
       "      <th>secondary_cleaner.state.floatbank4_b_level</th>\n",
       "      <th>secondary_cleaner.state.floatbank5_a_air</th>\n",
       "      <th>secondary_cleaner.state.floatbank5_a_level</th>\n",
       "      <th>secondary_cleaner.state.floatbank5_b_air</th>\n",
       "      <th>secondary_cleaner.state.floatbank5_b_level</th>\n",
       "      <th>secondary_cleaner.state.floatbank6_a_air</th>\n",
       "      <th>secondary_cleaner.state.floatbank6_a_level</th>\n",
       "      <th>secondary_cleaner.output.tail_au</th>\n",
       "      <th>secondary_cleaner.output.tail_ag</th>\n",
       "      <th>secondary_cleaner.output.tail_pb</th>\n",
       "      <th>secondary_cleaner.output.tail_sol</th>\n",
       "      <th>final.output.concentrate_au</th>\n",
       "      <th>final.output.concentrate_ag</th>\n",
       "      <th>final.output.concentrate_pb</th>\n",
       "      <th>final.output.concentrate_sol</th>\n",
       "      <th>final.output.recovery</th>\n",
       "      <th>final.output.tail_au</th>\n",
       "      <th>final.output.tail_ag</th>\n",
       "      <th>final.output.tail_pb</th>\n",
       "      <th>final.output.tail_sol</th>\n",
       "    </tr>\n",
       "  </thead>\n",
       "  <tbody>\n",
       "    <tr>\n",
       "      <th>0</th>\n",
       "      <td>2016-01-15 00:00:00</td>\n",
       "      <td>6.486150</td>\n",
       "      <td>6.100378</td>\n",
       "      <td>2.284912</td>\n",
       "      <td>36.808594</td>\n",
       "      <td>523.546326</td>\n",
       "      <td>55.486599</td>\n",
       "      <td>11.986616</td>\n",
       "      <td>6.007990</td>\n",
       "      <td>999.706909</td>\n",
       "      <td>-404.066986</td>\n",
       "      <td>1603.011353</td>\n",
       "      <td>-434.715027</td>\n",
       "      <td>1602.375000</td>\n",
       "      <td>-442.204468</td>\n",
       "      <td>1598.937256</td>\n",
       "      <td>-451.294128</td>\n",
       "      <td>1404.472046</td>\n",
       "      <td>-455.462982</td>\n",
       "      <td>1416.354980</td>\n",
       "      <td>-451.939636</td>\n",
       "      <td>11.836743</td>\n",
       "      <td>6.005818</td>\n",
       "      <td>41885.707031</td>\n",
       "      <td>3481.779053</td>\n",
       "      <td>3520.337158</td>\n",
       "      <td>2.838687</td>\n",
       "      <td>19.793808</td>\n",
       "      <td>11.500771</td>\n",
       "      <td>7.101074</td>\n",
       "      <td>28.029297</td>\n",
       "      <td>87.107763</td>\n",
       "      <td>1.170244</td>\n",
       "      <td>5.008018</td>\n",
       "      <td>0.508728</td>\n",
       "      <td>19.154297</td>\n",
       "      <td>127.092003</td>\n",
       "      <td>10.128295</td>\n",
       "      <td>7.25</td>\n",
       "      <td>0.988759</td>\n",
       "      <td>1549.775757</td>\n",
       "      <td>-498.912140</td>\n",
       "      <td>1551.434204</td>\n",
       "      <td>-516.403442</td>\n",
       "      <td>1549.873901</td>\n",
       "      <td>-498.666595</td>\n",
       "      <td>1554.367432</td>\n",
       "      <td>-493.428131</td>\n",
       "      <td>34.174427</td>\n",
       "      <td>8.547551</td>\n",
       "      <td>10.389648</td>\n",
       "      <td>19.529297</td>\n",
       "      <td>2.106679</td>\n",
       "      <td>14.936526</td>\n",
       "      <td>2.534912</td>\n",
       "      <td>7.476074</td>\n",
       "      <td>25.853109</td>\n",
       "      <td>-498.526489</td>\n",
       "      <td>23.893660</td>\n",
       "      <td>-501.406281</td>\n",
       "      <td>23.961798</td>\n",
       "      <td>-495.262817</td>\n",
       "      <td>21.940409</td>\n",
       "      <td>-499.340973</td>\n",
       "      <td>14.016835</td>\n",
       "      <td>-502.488007</td>\n",
       "      <td>12.099931</td>\n",
       "      <td>-504.715942</td>\n",
       "      <td>9.925633</td>\n",
       "      <td>-498.310211</td>\n",
       "      <td>8.079666</td>\n",
       "      <td>-500.470978</td>\n",
       "      <td>14.151341</td>\n",
       "      <td>-605.841980</td>\n",
       "      <td>2.606185</td>\n",
       "      <td>14.500184</td>\n",
       "      <td>4.694824</td>\n",
       "      <td>8.764648</td>\n",
       "      <td>42.192020</td>\n",
       "      <td>6.055403</td>\n",
       "      <td>9.889648</td>\n",
       "      <td>5.507324</td>\n",
       "      <td>70.541216</td>\n",
       "      <td>2.143149</td>\n",
       "      <td>10.411962</td>\n",
       "      <td>0.895447</td>\n",
       "      <td>16.904297</td>\n",
       "    </tr>\n",
       "    <tr>\n",
       "      <th>1</th>\n",
       "      <td>2016-01-15 01:00:00</td>\n",
       "      <td>6.478583</td>\n",
       "      <td>6.161113</td>\n",
       "      <td>2.266033</td>\n",
       "      <td>35.753385</td>\n",
       "      <td>525.290581</td>\n",
       "      <td>57.278666</td>\n",
       "      <td>11.971193</td>\n",
       "      <td>6.005766</td>\n",
       "      <td>1000.286398</td>\n",
       "      <td>-400.065196</td>\n",
       "      <td>1600.754587</td>\n",
       "      <td>-449.953435</td>\n",
       "      <td>1600.479580</td>\n",
       "      <td>-449.830646</td>\n",
       "      <td>1600.527589</td>\n",
       "      <td>-449.953649</td>\n",
       "      <td>1399.227084</td>\n",
       "      <td>-450.869848</td>\n",
       "      <td>1399.719514</td>\n",
       "      <td>-450.119001</td>\n",
       "      <td>11.996163</td>\n",
       "      <td>6.012594</td>\n",
       "      <td>42050.861809</td>\n",
       "      <td>3498.370979</td>\n",
       "      <td>3489.981857</td>\n",
       "      <td>2.858998</td>\n",
       "      <td>20.050975</td>\n",
       "      <td>11.615865</td>\n",
       "      <td>7.278807</td>\n",
       "      <td>28.067063</td>\n",
       "      <td>86.843261</td>\n",
       "      <td>1.184827</td>\n",
       "      <td>4.955378</td>\n",
       "      <td>0.536689</td>\n",
       "      <td>18.965234</td>\n",
       "      <td>125.629232</td>\n",
       "      <td>10.296251</td>\n",
       "      <td>7.25</td>\n",
       "      <td>1.002663</td>\n",
       "      <td>1576.166671</td>\n",
       "      <td>-500.904965</td>\n",
       "      <td>1575.950626</td>\n",
       "      <td>-499.865889</td>\n",
       "      <td>1575.994189</td>\n",
       "      <td>-499.315107</td>\n",
       "      <td>1574.479259</td>\n",
       "      <td>-498.931665</td>\n",
       "      <td>34.118526</td>\n",
       "      <td>8.558743</td>\n",
       "      <td>10.497069</td>\n",
       "      <td>19.369147</td>\n",
       "      <td>2.353017</td>\n",
       "      <td>16.250511</td>\n",
       "      <td>3.049646</td>\n",
       "      <td>6.733907</td>\n",
       "      <td>25.880539</td>\n",
       "      <td>-499.989656</td>\n",
       "      <td>23.889530</td>\n",
       "      <td>-500.372428</td>\n",
       "      <td>23.970550</td>\n",
       "      <td>-500.085473</td>\n",
       "      <td>22.085714</td>\n",
       "      <td>-499.446897</td>\n",
       "      <td>13.992281</td>\n",
       "      <td>-505.503262</td>\n",
       "      <td>11.950531</td>\n",
       "      <td>-501.331529</td>\n",
       "      <td>10.039245</td>\n",
       "      <td>-500.169983</td>\n",
       "      <td>7.984757</td>\n",
       "      <td>-500.582168</td>\n",
       "      <td>13.998353</td>\n",
       "      <td>-599.787184</td>\n",
       "      <td>2.488248</td>\n",
       "      <td>14.265474</td>\n",
       "      <td>4.592547</td>\n",
       "      <td>9.001494</td>\n",
       "      <td>42.701629</td>\n",
       "      <td>6.029369</td>\n",
       "      <td>9.968944</td>\n",
       "      <td>5.257781</td>\n",
       "      <td>69.266198</td>\n",
       "      <td>2.224930</td>\n",
       "      <td>10.462676</td>\n",
       "      <td>0.927452</td>\n",
       "      <td>16.634514</td>\n",
       "    </tr>\n",
       "    <tr>\n",
       "      <th>2</th>\n",
       "      <td>2016-01-15 02:00:00</td>\n",
       "      <td>6.362222</td>\n",
       "      <td>6.116455</td>\n",
       "      <td>2.159622</td>\n",
       "      <td>35.971630</td>\n",
       "      <td>530.026610</td>\n",
       "      <td>57.510649</td>\n",
       "      <td>11.920603</td>\n",
       "      <td>6.197377</td>\n",
       "      <td>999.719565</td>\n",
       "      <td>-400.074028</td>\n",
       "      <td>1599.337330</td>\n",
       "      <td>-450.008530</td>\n",
       "      <td>1599.672797</td>\n",
       "      <td>-449.954491</td>\n",
       "      <td>1599.849325</td>\n",
       "      <td>-449.954185</td>\n",
       "      <td>1399.180945</td>\n",
       "      <td>-449.937588</td>\n",
       "      <td>1400.316682</td>\n",
       "      <td>-450.527147</td>\n",
       "      <td>11.920305</td>\n",
       "      <td>6.204633</td>\n",
       "      <td>42018.101184</td>\n",
       "      <td>3495.348910</td>\n",
       "      <td>3502.359819</td>\n",
       "      <td>2.945989</td>\n",
       "      <td>19.737170</td>\n",
       "      <td>11.695753</td>\n",
       "      <td>7.216833</td>\n",
       "      <td>27.454037</td>\n",
       "      <td>86.842308</td>\n",
       "      <td>1.162562</td>\n",
       "      <td>4.843460</td>\n",
       "      <td>0.546416</td>\n",
       "      <td>18.808533</td>\n",
       "      <td>123.819808</td>\n",
       "      <td>11.316280</td>\n",
       "      <td>7.25</td>\n",
       "      <td>0.991265</td>\n",
       "      <td>1601.556163</td>\n",
       "      <td>-499.997791</td>\n",
       "      <td>1600.386685</td>\n",
       "      <td>-500.607762</td>\n",
       "      <td>1602.003542</td>\n",
       "      <td>-500.870069</td>\n",
       "      <td>1599.541515</td>\n",
       "      <td>-499.827444</td>\n",
       "      <td>33.969464</td>\n",
       "      <td>8.603505</td>\n",
       "      <td>10.354494</td>\n",
       "      <td>19.167579</td>\n",
       "      <td>2.416800</td>\n",
       "      <td>16.491823</td>\n",
       "      <td>3.124664</td>\n",
       "      <td>6.471768</td>\n",
       "      <td>26.005245</td>\n",
       "      <td>-499.929616</td>\n",
       "      <td>23.886657</td>\n",
       "      <td>-499.951928</td>\n",
       "      <td>23.913535</td>\n",
       "      <td>-499.442343</td>\n",
       "      <td>23.957717</td>\n",
       "      <td>-499.901982</td>\n",
       "      <td>14.015015</td>\n",
       "      <td>-502.520901</td>\n",
       "      <td>11.912783</td>\n",
       "      <td>-501.133383</td>\n",
       "      <td>10.070913</td>\n",
       "      <td>-500.129135</td>\n",
       "      <td>8.013877</td>\n",
       "      <td>-500.517572</td>\n",
       "      <td>14.028663</td>\n",
       "      <td>-601.427363</td>\n",
       "      <td>2.458187</td>\n",
       "      <td>14.115662</td>\n",
       "      <td>4.624775</td>\n",
       "      <td>8.842896</td>\n",
       "      <td>42.657501</td>\n",
       "      <td>6.055926</td>\n",
       "      <td>10.213995</td>\n",
       "      <td>5.383759</td>\n",
       "      <td>68.116445</td>\n",
       "      <td>2.257889</td>\n",
       "      <td>10.507046</td>\n",
       "      <td>0.953716</td>\n",
       "      <td>16.208849</td>\n",
       "    </tr>\n",
       "    <tr>\n",
       "      <th>3</th>\n",
       "      <td>2016-01-15 03:00:00</td>\n",
       "      <td>6.118189</td>\n",
       "      <td>6.043309</td>\n",
       "      <td>2.037807</td>\n",
       "      <td>36.862241</td>\n",
       "      <td>542.590390</td>\n",
       "      <td>57.792734</td>\n",
       "      <td>11.630094</td>\n",
       "      <td>6.203177</td>\n",
       "      <td>999.814770</td>\n",
       "      <td>-400.200179</td>\n",
       "      <td>1600.059442</td>\n",
       "      <td>-450.619948</td>\n",
       "      <td>1600.012842</td>\n",
       "      <td>-449.910497</td>\n",
       "      <td>1597.725177</td>\n",
       "      <td>-450.130127</td>\n",
       "      <td>1400.943157</td>\n",
       "      <td>-450.030142</td>\n",
       "      <td>1400.234743</td>\n",
       "      <td>-449.790835</td>\n",
       "      <td>11.692450</td>\n",
       "      <td>6.196578</td>\n",
       "      <td>42029.447991</td>\n",
       "      <td>3498.578313</td>\n",
       "      <td>3499.162912</td>\n",
       "      <td>3.002340</td>\n",
       "      <td>19.320810</td>\n",
       "      <td>11.915047</td>\n",
       "      <td>7.175616</td>\n",
       "      <td>27.341277</td>\n",
       "      <td>87.226430</td>\n",
       "      <td>1.079755</td>\n",
       "      <td>4.655288</td>\n",
       "      <td>0.542525</td>\n",
       "      <td>19.330200</td>\n",
       "      <td>122.270188</td>\n",
       "      <td>11.322140</td>\n",
       "      <td>7.25</td>\n",
       "      <td>0.996739</td>\n",
       "      <td>1599.968720</td>\n",
       "      <td>-500.951778</td>\n",
       "      <td>1600.659236</td>\n",
       "      <td>-499.677094</td>\n",
       "      <td>1600.304144</td>\n",
       "      <td>-500.727997</td>\n",
       "      <td>1600.449520</td>\n",
       "      <td>-500.052575</td>\n",
       "      <td>28.260743</td>\n",
       "      <td>7.221879</td>\n",
       "      <td>8.496563</td>\n",
       "      <td>15.978538</td>\n",
       "      <td>2.262051</td>\n",
       "      <td>16.024359</td>\n",
       "      <td>2.960362</td>\n",
       "      <td>6.843791</td>\n",
       "      <td>25.942508</td>\n",
       "      <td>-499.176749</td>\n",
       "      <td>23.955516</td>\n",
       "      <td>-499.848796</td>\n",
       "      <td>23.966838</td>\n",
       "      <td>-500.008812</td>\n",
       "      <td>23.954443</td>\n",
       "      <td>-499.944710</td>\n",
       "      <td>14.036510</td>\n",
       "      <td>-500.857308</td>\n",
       "      <td>11.999550</td>\n",
       "      <td>-501.193686</td>\n",
       "      <td>9.970366</td>\n",
       "      <td>-499.201640</td>\n",
       "      <td>7.977324</td>\n",
       "      <td>-500.255908</td>\n",
       "      <td>14.005551</td>\n",
       "      <td>-599.996129</td>\n",
       "      <td>2.322062</td>\n",
       "      <td>13.732071</td>\n",
       "      <td>4.482453</td>\n",
       "      <td>9.122857</td>\n",
       "      <td>42.689819</td>\n",
       "      <td>6.047977</td>\n",
       "      <td>9.977019</td>\n",
       "      <td>4.858634</td>\n",
       "      <td>68.347543</td>\n",
       "      <td>2.146849</td>\n",
       "      <td>10.422762</td>\n",
       "      <td>0.883763</td>\n",
       "      <td>16.532835</td>\n",
       "    </tr>\n",
       "    <tr>\n",
       "      <th>4</th>\n",
       "      <td>2016-01-15 04:00:00</td>\n",
       "      <td>5.663707</td>\n",
       "      <td>6.060915</td>\n",
       "      <td>1.786875</td>\n",
       "      <td>34.347666</td>\n",
       "      <td>540.531893</td>\n",
       "      <td>56.047189</td>\n",
       "      <td>10.957755</td>\n",
       "      <td>6.198826</td>\n",
       "      <td>999.678690</td>\n",
       "      <td>-399.752729</td>\n",
       "      <td>1600.208824</td>\n",
       "      <td>-449.599614</td>\n",
       "      <td>1600.357732</td>\n",
       "      <td>-450.034364</td>\n",
       "      <td>1599.759049</td>\n",
       "      <td>-449.909799</td>\n",
       "      <td>1401.560902</td>\n",
       "      <td>-448.877187</td>\n",
       "      <td>1401.160227</td>\n",
       "      <td>-450.407128</td>\n",
       "      <td>10.960521</td>\n",
       "      <td>6.194897</td>\n",
       "      <td>42125.354245</td>\n",
       "      <td>3494.800771</td>\n",
       "      <td>3506.679315</td>\n",
       "      <td>3.169615</td>\n",
       "      <td>19.216101</td>\n",
       "      <td>12.411054</td>\n",
       "      <td>7.240205</td>\n",
       "      <td>27.041023</td>\n",
       "      <td>86.688794</td>\n",
       "      <td>1.012642</td>\n",
       "      <td>4.552800</td>\n",
       "      <td>0.515438</td>\n",
       "      <td>19.267422</td>\n",
       "      <td>117.988169</td>\n",
       "      <td>11.913613</td>\n",
       "      <td>7.25</td>\n",
       "      <td>1.009869</td>\n",
       "      <td>1601.339707</td>\n",
       "      <td>-498.975456</td>\n",
       "      <td>1601.437854</td>\n",
       "      <td>-500.323246</td>\n",
       "      <td>1599.581894</td>\n",
       "      <td>-500.888152</td>\n",
       "      <td>1602.649541</td>\n",
       "      <td>-500.593010</td>\n",
       "      <td>33.044932</td>\n",
       "      <td>9.089428</td>\n",
       "      <td>9.986786</td>\n",
       "      <td>19.199864</td>\n",
       "      <td>2.277073</td>\n",
       "      <td>16.480185</td>\n",
       "      <td>3.112100</td>\n",
       "      <td>6.550154</td>\n",
       "      <td>26.024787</td>\n",
       "      <td>-500.279091</td>\n",
       "      <td>23.955345</td>\n",
       "      <td>-500.593614</td>\n",
       "      <td>23.985703</td>\n",
       "      <td>-500.083811</td>\n",
       "      <td>23.958945</td>\n",
       "      <td>-499.990309</td>\n",
       "      <td>14.027298</td>\n",
       "      <td>-499.838632</td>\n",
       "      <td>11.953070</td>\n",
       "      <td>-501.053894</td>\n",
       "      <td>9.925709</td>\n",
       "      <td>-501.686727</td>\n",
       "      <td>7.894242</td>\n",
       "      <td>-500.356035</td>\n",
       "      <td>13.996647</td>\n",
       "      <td>-601.496691</td>\n",
       "      <td>2.330448</td>\n",
       "      <td>14.079996</td>\n",
       "      <td>4.470737</td>\n",
       "      <td>8.871028</td>\n",
       "      <td>42.774141</td>\n",
       "      <td>6.148599</td>\n",
       "      <td>10.142511</td>\n",
       "      <td>4.939416</td>\n",
       "      <td>66.927016</td>\n",
       "      <td>2.055292</td>\n",
       "      <td>10.360302</td>\n",
       "      <td>0.792826</td>\n",
       "      <td>16.525686</td>\n",
       "    </tr>\n",
       "  </tbody>\n",
       "</table>\n",
       "</div>"
      ],
      "text/plain": [
       "                  date  rougher.input.feed_au  rougher.input.feed_ag  \\\n",
       "0  2016-01-15 00:00:00               6.486150               6.100378   \n",
       "1  2016-01-15 01:00:00               6.478583               6.161113   \n",
       "2  2016-01-15 02:00:00               6.362222               6.116455   \n",
       "3  2016-01-15 03:00:00               6.118189               6.043309   \n",
       "4  2016-01-15 04:00:00               5.663707               6.060915   \n",
       "\n",
       "   rougher.input.feed_pb  rougher.input.feed_sol  rougher.input.feed_rate  \\\n",
       "0               2.284912               36.808594               523.546326   \n",
       "1               2.266033               35.753385               525.290581   \n",
       "2               2.159622               35.971630               530.026610   \n",
       "3               2.037807               36.862241               542.590390   \n",
       "4               1.786875               34.347666               540.531893   \n",
       "\n",
       "   rougher.input.feed_size  rougher.input.floatbank10_sulfate  \\\n",
       "0                55.486599                          11.986616   \n",
       "1                57.278666                          11.971193   \n",
       "2                57.510649                          11.920603   \n",
       "3                57.792734                          11.630094   \n",
       "4                56.047189                          10.957755   \n",
       "\n",
       "   rougher.input.floatbank10_xanthate  rougher.state.floatbank10_a_air  \\\n",
       "0                            6.007990                       999.706909   \n",
       "1                            6.005766                      1000.286398   \n",
       "2                            6.197377                       999.719565   \n",
       "3                            6.203177                       999.814770   \n",
       "4                            6.198826                       999.678690   \n",
       "\n",
       "   rougher.state.floatbank10_a_level  rougher.state.floatbank10_b_air  \\\n",
       "0                        -404.066986                      1603.011353   \n",
       "1                        -400.065196                      1600.754587   \n",
       "2                        -400.074028                      1599.337330   \n",
       "3                        -400.200179                      1600.059442   \n",
       "4                        -399.752729                      1600.208824   \n",
       "\n",
       "   rougher.state.floatbank10_b_level  rougher.state.floatbank10_c_air  \\\n",
       "0                        -434.715027                      1602.375000   \n",
       "1                        -449.953435                      1600.479580   \n",
       "2                        -450.008530                      1599.672797   \n",
       "3                        -450.619948                      1600.012842   \n",
       "4                        -449.599614                      1600.357732   \n",
       "\n",
       "   rougher.state.floatbank10_c_level  rougher.state.floatbank10_d_air  \\\n",
       "0                        -442.204468                      1598.937256   \n",
       "1                        -449.830646                      1600.527589   \n",
       "2                        -449.954491                      1599.849325   \n",
       "3                        -449.910497                      1597.725177   \n",
       "4                        -450.034364                      1599.759049   \n",
       "\n",
       "   rougher.state.floatbank10_d_level  rougher.state.floatbank10_e_air  \\\n",
       "0                        -451.294128                      1404.472046   \n",
       "1                        -449.953649                      1399.227084   \n",
       "2                        -449.954185                      1399.180945   \n",
       "3                        -450.130127                      1400.943157   \n",
       "4                        -449.909799                      1401.560902   \n",
       "\n",
       "   rougher.state.floatbank10_e_level  rougher.state.floatbank10_f_air  \\\n",
       "0                        -455.462982                      1416.354980   \n",
       "1                        -450.869848                      1399.719514   \n",
       "2                        -449.937588                      1400.316682   \n",
       "3                        -450.030142                      1400.234743   \n",
       "4                        -448.877187                      1401.160227   \n",
       "\n",
       "   rougher.state.floatbank10_f_level  rougher.input.floatbank11_sulfate  \\\n",
       "0                        -451.939636                          11.836743   \n",
       "1                        -450.119001                          11.996163   \n",
       "2                        -450.527147                          11.920305   \n",
       "3                        -449.790835                          11.692450   \n",
       "4                        -450.407128                          10.960521   \n",
       "\n",
       "   rougher.input.floatbank11_xanthate  \\\n",
       "0                            6.005818   \n",
       "1                            6.012594   \n",
       "2                            6.204633   \n",
       "3                            6.196578   \n",
       "4                            6.194897   \n",
       "\n",
       "   rougher.calculation.sulfate_to_au_concentrate  \\\n",
       "0                                   41885.707031   \n",
       "1                                   42050.861809   \n",
       "2                                   42018.101184   \n",
       "3                                   42029.447991   \n",
       "4                                   42125.354245   \n",
       "\n",
       "   rougher.calculation.floatbank10_sulfate_to_au_feed  \\\n",
       "0                                        3481.779053    \n",
       "1                                        3498.370979    \n",
       "2                                        3495.348910    \n",
       "3                                        3498.578313    \n",
       "4                                        3494.800771    \n",
       "\n",
       "   rougher.calculation.floatbank11_sulfate_to_au_feed  \\\n",
       "0                                        3520.337158    \n",
       "1                                        3489.981857    \n",
       "2                                        3502.359819    \n",
       "3                                        3499.162912    \n",
       "4                                        3506.679315    \n",
       "\n",
       "   rougher.calculation.au_pb_ratio  rougher.output.concentrate_au  \\\n",
       "0                         2.838687                      19.793808   \n",
       "1                         2.858998                      20.050975   \n",
       "2                         2.945989                      19.737170   \n",
       "3                         3.002340                      19.320810   \n",
       "4                         3.169615                      19.216101   \n",
       "\n",
       "   rougher.output.concentrate_ag  rougher.output.concentrate_pb  \\\n",
       "0                      11.500771                       7.101074   \n",
       "1                      11.615865                       7.278807   \n",
       "2                      11.695753                       7.216833   \n",
       "3                      11.915047                       7.175616   \n",
       "4                      12.411054                       7.240205   \n",
       "\n",
       "   rougher.output.concentrate_sol  rougher.output.recovery  \\\n",
       "0                       28.029297                87.107763   \n",
       "1                       28.067063                86.843261   \n",
       "2                       27.454037                86.842308   \n",
       "3                       27.341277                87.226430   \n",
       "4                       27.041023                86.688794   \n",
       "\n",
       "   rougher.output.tail_au  rougher.output.tail_ag  rougher.output.tail_pb  \\\n",
       "0                1.170244                5.008018                0.508728   \n",
       "1                1.184827                4.955378                0.536689   \n",
       "2                1.162562                4.843460                0.546416   \n",
       "3                1.079755                4.655288                0.542525   \n",
       "4                1.012642                4.552800                0.515438   \n",
       "\n",
       "   rougher.output.tail_sol  primary_cleaner.input.sulfate  \\\n",
       "0                19.154297                     127.092003   \n",
       "1                18.965234                     125.629232   \n",
       "2                18.808533                     123.819808   \n",
       "3                19.330200                     122.270188   \n",
       "4                19.267422                     117.988169   \n",
       "\n",
       "   primary_cleaner.input.depressant  primary_cleaner.input.feed_size  \\\n",
       "0                         10.128295                             7.25   \n",
       "1                         10.296251                             7.25   \n",
       "2                         11.316280                             7.25   \n",
       "3                         11.322140                             7.25   \n",
       "4                         11.913613                             7.25   \n",
       "\n",
       "   primary_cleaner.input.xanthate  primary_cleaner.state.floatbank8_a_air  \\\n",
       "0                        0.988759                             1549.775757   \n",
       "1                        1.002663                             1576.166671   \n",
       "2                        0.991265                             1601.556163   \n",
       "3                        0.996739                             1599.968720   \n",
       "4                        1.009869                             1601.339707   \n",
       "\n",
       "   primary_cleaner.state.floatbank8_a_level  \\\n",
       "0                               -498.912140   \n",
       "1                               -500.904965   \n",
       "2                               -499.997791   \n",
       "3                               -500.951778   \n",
       "4                               -498.975456   \n",
       "\n",
       "   primary_cleaner.state.floatbank8_b_air  \\\n",
       "0                             1551.434204   \n",
       "1                             1575.950626   \n",
       "2                             1600.386685   \n",
       "3                             1600.659236   \n",
       "4                             1601.437854   \n",
       "\n",
       "   primary_cleaner.state.floatbank8_b_level  \\\n",
       "0                               -516.403442   \n",
       "1                               -499.865889   \n",
       "2                               -500.607762   \n",
       "3                               -499.677094   \n",
       "4                               -500.323246   \n",
       "\n",
       "   primary_cleaner.state.floatbank8_c_air  \\\n",
       "0                             1549.873901   \n",
       "1                             1575.994189   \n",
       "2                             1602.003542   \n",
       "3                             1600.304144   \n",
       "4                             1599.581894   \n",
       "\n",
       "   primary_cleaner.state.floatbank8_c_level  \\\n",
       "0                               -498.666595   \n",
       "1                               -499.315107   \n",
       "2                               -500.870069   \n",
       "3                               -500.727997   \n",
       "4                               -500.888152   \n",
       "\n",
       "   primary_cleaner.state.floatbank8_d_air  \\\n",
       "0                             1554.367432   \n",
       "1                             1574.479259   \n",
       "2                             1599.541515   \n",
       "3                             1600.449520   \n",
       "4                             1602.649541   \n",
       "\n",
       "   primary_cleaner.state.floatbank8_d_level  \\\n",
       "0                               -493.428131   \n",
       "1                               -498.931665   \n",
       "2                               -499.827444   \n",
       "3                               -500.052575   \n",
       "4                               -500.593010   \n",
       "\n",
       "   primary_cleaner.output.concentrate_au  \\\n",
       "0                              34.174427   \n",
       "1                              34.118526   \n",
       "2                              33.969464   \n",
       "3                              28.260743   \n",
       "4                              33.044932   \n",
       "\n",
       "   primary_cleaner.output.concentrate_ag  \\\n",
       "0                               8.547551   \n",
       "1                               8.558743   \n",
       "2                               8.603505   \n",
       "3                               7.221879   \n",
       "4                               9.089428   \n",
       "\n",
       "   primary_cleaner.output.concentrate_pb  \\\n",
       "0                              10.389648   \n",
       "1                              10.497069   \n",
       "2                              10.354494   \n",
       "3                               8.496563   \n",
       "4                               9.986786   \n",
       "\n",
       "   primary_cleaner.output.concentrate_sol  primary_cleaner.output.tail_au  \\\n",
       "0                               19.529297                        2.106679   \n",
       "1                               19.369147                        2.353017   \n",
       "2                               19.167579                        2.416800   \n",
       "3                               15.978538                        2.262051   \n",
       "4                               19.199864                        2.277073   \n",
       "\n",
       "   primary_cleaner.output.tail_ag  primary_cleaner.output.tail_pb  \\\n",
       "0                       14.936526                        2.534912   \n",
       "1                       16.250511                        3.049646   \n",
       "2                       16.491823                        3.124664   \n",
       "3                       16.024359                        2.960362   \n",
       "4                       16.480185                        3.112100   \n",
       "\n",
       "   primary_cleaner.output.tail_sol  secondary_cleaner.state.floatbank2_a_air  \\\n",
       "0                         7.476074                                 25.853109   \n",
       "1                         6.733907                                 25.880539   \n",
       "2                         6.471768                                 26.005245   \n",
       "3                         6.843791                                 25.942508   \n",
       "4                         6.550154                                 26.024787   \n",
       "\n",
       "   secondary_cleaner.state.floatbank2_a_level  \\\n",
       "0                                 -498.526489   \n",
       "1                                 -499.989656   \n",
       "2                                 -499.929616   \n",
       "3                                 -499.176749   \n",
       "4                                 -500.279091   \n",
       "\n",
       "   secondary_cleaner.state.floatbank2_b_air  \\\n",
       "0                                 23.893660   \n",
       "1                                 23.889530   \n",
       "2                                 23.886657   \n",
       "3                                 23.955516   \n",
       "4                                 23.955345   \n",
       "\n",
       "   secondary_cleaner.state.floatbank2_b_level  \\\n",
       "0                                 -501.406281   \n",
       "1                                 -500.372428   \n",
       "2                                 -499.951928   \n",
       "3                                 -499.848796   \n",
       "4                                 -500.593614   \n",
       "\n",
       "   secondary_cleaner.state.floatbank3_a_air  \\\n",
       "0                                 23.961798   \n",
       "1                                 23.970550   \n",
       "2                                 23.913535   \n",
       "3                                 23.966838   \n",
       "4                                 23.985703   \n",
       "\n",
       "   secondary_cleaner.state.floatbank3_a_level  \\\n",
       "0                                 -495.262817   \n",
       "1                                 -500.085473   \n",
       "2                                 -499.442343   \n",
       "3                                 -500.008812   \n",
       "4                                 -500.083811   \n",
       "\n",
       "   secondary_cleaner.state.floatbank3_b_air  \\\n",
       "0                                 21.940409   \n",
       "1                                 22.085714   \n",
       "2                                 23.957717   \n",
       "3                                 23.954443   \n",
       "4                                 23.958945   \n",
       "\n",
       "   secondary_cleaner.state.floatbank3_b_level  \\\n",
       "0                                 -499.340973   \n",
       "1                                 -499.446897   \n",
       "2                                 -499.901982   \n",
       "3                                 -499.944710   \n",
       "4                                 -499.990309   \n",
       "\n",
       "   secondary_cleaner.state.floatbank4_a_air  \\\n",
       "0                                 14.016835   \n",
       "1                                 13.992281   \n",
       "2                                 14.015015   \n",
       "3                                 14.036510   \n",
       "4                                 14.027298   \n",
       "\n",
       "   secondary_cleaner.state.floatbank4_a_level  \\\n",
       "0                                 -502.488007   \n",
       "1                                 -505.503262   \n",
       "2                                 -502.520901   \n",
       "3                                 -500.857308   \n",
       "4                                 -499.838632   \n",
       "\n",
       "   secondary_cleaner.state.floatbank4_b_air  \\\n",
       "0                                 12.099931   \n",
       "1                                 11.950531   \n",
       "2                                 11.912783   \n",
       "3                                 11.999550   \n",
       "4                                 11.953070   \n",
       "\n",
       "   secondary_cleaner.state.floatbank4_b_level  \\\n",
       "0                                 -504.715942   \n",
       "1                                 -501.331529   \n",
       "2                                 -501.133383   \n",
       "3                                 -501.193686   \n",
       "4                                 -501.053894   \n",
       "\n",
       "   secondary_cleaner.state.floatbank5_a_air  \\\n",
       "0                                  9.925633   \n",
       "1                                 10.039245   \n",
       "2                                 10.070913   \n",
       "3                                  9.970366   \n",
       "4                                  9.925709   \n",
       "\n",
       "   secondary_cleaner.state.floatbank5_a_level  \\\n",
       "0                                 -498.310211   \n",
       "1                                 -500.169983   \n",
       "2                                 -500.129135   \n",
       "3                                 -499.201640   \n",
       "4                                 -501.686727   \n",
       "\n",
       "   secondary_cleaner.state.floatbank5_b_air  \\\n",
       "0                                  8.079666   \n",
       "1                                  7.984757   \n",
       "2                                  8.013877   \n",
       "3                                  7.977324   \n",
       "4                                  7.894242   \n",
       "\n",
       "   secondary_cleaner.state.floatbank5_b_level  \\\n",
       "0                                 -500.470978   \n",
       "1                                 -500.582168   \n",
       "2                                 -500.517572   \n",
       "3                                 -500.255908   \n",
       "4                                 -500.356035   \n",
       "\n",
       "   secondary_cleaner.state.floatbank6_a_air  \\\n",
       "0                                 14.151341   \n",
       "1                                 13.998353   \n",
       "2                                 14.028663   \n",
       "3                                 14.005551   \n",
       "4                                 13.996647   \n",
       "\n",
       "   secondary_cleaner.state.floatbank6_a_level  \\\n",
       "0                                 -605.841980   \n",
       "1                                 -599.787184   \n",
       "2                                 -601.427363   \n",
       "3                                 -599.996129   \n",
       "4                                 -601.496691   \n",
       "\n",
       "   secondary_cleaner.output.tail_au  secondary_cleaner.output.tail_ag  \\\n",
       "0                          2.606185                         14.500184   \n",
       "1                          2.488248                         14.265474   \n",
       "2                          2.458187                         14.115662   \n",
       "3                          2.322062                         13.732071   \n",
       "4                          2.330448                         14.079996   \n",
       "\n",
       "   secondary_cleaner.output.tail_pb  secondary_cleaner.output.tail_sol  \\\n",
       "0                          4.694824                           8.764648   \n",
       "1                          4.592547                           9.001494   \n",
       "2                          4.624775                           8.842896   \n",
       "3                          4.482453                           9.122857   \n",
       "4                          4.470737                           8.871028   \n",
       "\n",
       "   final.output.concentrate_au  final.output.concentrate_ag  \\\n",
       "0                    42.192020                     6.055403   \n",
       "1                    42.701629                     6.029369   \n",
       "2                    42.657501                     6.055926   \n",
       "3                    42.689819                     6.047977   \n",
       "4                    42.774141                     6.148599   \n",
       "\n",
       "   final.output.concentrate_pb  final.output.concentrate_sol  \\\n",
       "0                     9.889648                      5.507324   \n",
       "1                     9.968944                      5.257781   \n",
       "2                    10.213995                      5.383759   \n",
       "3                     9.977019                      4.858634   \n",
       "4                    10.142511                      4.939416   \n",
       "\n",
       "   final.output.recovery  final.output.tail_au  final.output.tail_ag  \\\n",
       "0              70.541216              2.143149             10.411962   \n",
       "1              69.266198              2.224930             10.462676   \n",
       "2              68.116445              2.257889             10.507046   \n",
       "3              68.347543              2.146849             10.422762   \n",
       "4              66.927016              2.055292             10.360302   \n",
       "\n",
       "   final.output.tail_pb  final.output.tail_sol  \n",
       "0              0.895447              16.904297  \n",
       "1              0.927452              16.634514  \n",
       "2              0.953716              16.208849  \n",
       "3              0.883763              16.532835  \n",
       "4              0.792826              16.525686  "
      ]
     },
     "execution_count": 19,
     "metadata": {},
     "output_type": "execute_result"
    }
   ],
   "source": [
    "df.head()"
   ]
  },
  {
   "cell_type": "code",
   "execution_count": 20,
   "metadata": {},
   "outputs": [
    {
     "data": {
      "text/html": [
       "<div>\n",
       "<style scoped>\n",
       "    .dataframe tbody tr th:only-of-type {\n",
       "        vertical-align: middle;\n",
       "    }\n",
       "\n",
       "    .dataframe tbody tr th {\n",
       "        vertical-align: top;\n",
       "    }\n",
       "\n",
       "    .dataframe thead th {\n",
       "        text-align: right;\n",
       "    }\n",
       "</style>\n",
       "<table border=\"1\" class=\"dataframe\">\n",
       "  <thead>\n",
       "    <tr style=\"text-align: right;\">\n",
       "      <th></th>\n",
       "      <th>date</th>\n",
       "      <th>rougher.input.feed_au</th>\n",
       "      <th>rougher.input.feed_ag</th>\n",
       "      <th>rougher.input.feed_pb</th>\n",
       "      <th>rougher.input.feed_sol</th>\n",
       "      <th>rougher.input.feed_rate</th>\n",
       "      <th>rougher.input.feed_size</th>\n",
       "      <th>rougher.input.floatbank10_sulfate</th>\n",
       "      <th>rougher.input.floatbank10_xanthate</th>\n",
       "      <th>rougher.state.floatbank10_a_air</th>\n",
       "      <th>rougher.state.floatbank10_a_level</th>\n",
       "      <th>rougher.state.floatbank10_b_air</th>\n",
       "      <th>rougher.state.floatbank10_b_level</th>\n",
       "      <th>rougher.state.floatbank10_c_air</th>\n",
       "      <th>rougher.state.floatbank10_c_level</th>\n",
       "      <th>rougher.state.floatbank10_d_air</th>\n",
       "      <th>rougher.state.floatbank10_d_level</th>\n",
       "      <th>rougher.state.floatbank10_e_air</th>\n",
       "      <th>rougher.state.floatbank10_e_level</th>\n",
       "      <th>rougher.state.floatbank10_f_air</th>\n",
       "      <th>rougher.state.floatbank10_f_level</th>\n",
       "      <th>rougher.input.floatbank11_sulfate</th>\n",
       "      <th>rougher.input.floatbank11_xanthate</th>\n",
       "      <th>rougher.calculation.sulfate_to_au_concentrate</th>\n",
       "      <th>rougher.calculation.floatbank10_sulfate_to_au_feed</th>\n",
       "      <th>rougher.calculation.floatbank11_sulfate_to_au_feed</th>\n",
       "      <th>rougher.calculation.au_pb_ratio</th>\n",
       "      <th>rougher.output.concentrate_au</th>\n",
       "      <th>rougher.output.concentrate_ag</th>\n",
       "      <th>rougher.output.concentrate_pb</th>\n",
       "      <th>rougher.output.concentrate_sol</th>\n",
       "      <th>rougher.output.recovery</th>\n",
       "      <th>rougher.output.tail_au</th>\n",
       "      <th>rougher.output.tail_ag</th>\n",
       "      <th>rougher.output.tail_pb</th>\n",
       "      <th>rougher.output.tail_sol</th>\n",
       "      <th>primary_cleaner.input.sulfate</th>\n",
       "      <th>primary_cleaner.input.depressant</th>\n",
       "      <th>primary_cleaner.input.feed_size</th>\n",
       "      <th>primary_cleaner.input.xanthate</th>\n",
       "      <th>primary_cleaner.state.floatbank8_a_air</th>\n",
       "      <th>primary_cleaner.state.floatbank8_a_level</th>\n",
       "      <th>primary_cleaner.state.floatbank8_b_air</th>\n",
       "      <th>primary_cleaner.state.floatbank8_b_level</th>\n",
       "      <th>primary_cleaner.state.floatbank8_c_air</th>\n",
       "      <th>primary_cleaner.state.floatbank8_c_level</th>\n",
       "      <th>primary_cleaner.state.floatbank8_d_air</th>\n",
       "      <th>primary_cleaner.state.floatbank8_d_level</th>\n",
       "      <th>primary_cleaner.output.concentrate_au</th>\n",
       "      <th>primary_cleaner.output.concentrate_ag</th>\n",
       "      <th>primary_cleaner.output.concentrate_pb</th>\n",
       "      <th>primary_cleaner.output.concentrate_sol</th>\n",
       "      <th>primary_cleaner.output.tail_au</th>\n",
       "      <th>primary_cleaner.output.tail_ag</th>\n",
       "      <th>primary_cleaner.output.tail_pb</th>\n",
       "      <th>primary_cleaner.output.tail_sol</th>\n",
       "      <th>secondary_cleaner.state.floatbank2_a_air</th>\n",
       "      <th>secondary_cleaner.state.floatbank2_a_level</th>\n",
       "      <th>secondary_cleaner.state.floatbank2_b_air</th>\n",
       "      <th>secondary_cleaner.state.floatbank2_b_level</th>\n",
       "      <th>secondary_cleaner.state.floatbank3_a_air</th>\n",
       "      <th>secondary_cleaner.state.floatbank3_a_level</th>\n",
       "      <th>secondary_cleaner.state.floatbank3_b_air</th>\n",
       "      <th>secondary_cleaner.state.floatbank3_b_level</th>\n",
       "      <th>secondary_cleaner.state.floatbank4_a_air</th>\n",
       "      <th>secondary_cleaner.state.floatbank4_a_level</th>\n",
       "      <th>secondary_cleaner.state.floatbank4_b_air</th>\n",
       "      <th>secondary_cleaner.state.floatbank4_b_level</th>\n",
       "      <th>secondary_cleaner.state.floatbank5_a_air</th>\n",
       "      <th>secondary_cleaner.state.floatbank5_a_level</th>\n",
       "      <th>secondary_cleaner.state.floatbank5_b_air</th>\n",
       "      <th>secondary_cleaner.state.floatbank5_b_level</th>\n",
       "      <th>secondary_cleaner.state.floatbank6_a_air</th>\n",
       "      <th>secondary_cleaner.state.floatbank6_a_level</th>\n",
       "      <th>secondary_cleaner.output.tail_au</th>\n",
       "      <th>secondary_cleaner.output.tail_ag</th>\n",
       "      <th>secondary_cleaner.output.tail_pb</th>\n",
       "      <th>secondary_cleaner.output.tail_sol</th>\n",
       "      <th>final.output.concentrate_au</th>\n",
       "      <th>final.output.concentrate_ag</th>\n",
       "      <th>final.output.concentrate_pb</th>\n",
       "      <th>final.output.concentrate_sol</th>\n",
       "      <th>final.output.recovery</th>\n",
       "      <th>final.output.tail_au</th>\n",
       "      <th>final.output.tail_ag</th>\n",
       "      <th>final.output.tail_pb</th>\n",
       "      <th>final.output.tail_sol</th>\n",
       "    </tr>\n",
       "  </thead>\n",
       "  <tbody>\n",
       "    <tr>\n",
       "      <th>min</th>\n",
       "      <td>2016-01-15 00:00:00</td>\n",
       "      <td>0.010000</td>\n",
       "      <td>0.010000</td>\n",
       "      <td>0.010000</td>\n",
       "      <td>0.010000</td>\n",
       "      <td>0.002986</td>\n",
       "      <td>0.046369</td>\n",
       "      <td>0.001083</td>\n",
       "      <td>0.000568</td>\n",
       "      <td>-0.042069</td>\n",
       "      <td>-657.949759</td>\n",
       "      <td>-0.721806</td>\n",
       "      <td>-650.260008</td>\n",
       "      <td>-0.056636</td>\n",
       "      <td>-647.544439</td>\n",
       "      <td>-0.992219</td>\n",
       "      <td>-648.390665</td>\n",
       "      <td>-1.982295</td>\n",
       "      <td>-649.443911</td>\n",
       "      <td>-2.593390</td>\n",
       "      <td>-649.949283</td>\n",
       "      <td>0.000077</td>\n",
       "      <td>0.000290</td>\n",
       "      <td>-4.223520e+07</td>\n",
       "      <td>-486.598675</td>\n",
       "      <td>-264.982785</td>\n",
       "      <td>-0.010548</td>\n",
       "      <td>0.000000</td>\n",
       "      <td>0.000000</td>\n",
       "      <td>0.000000</td>\n",
       "      <td>0.000000</td>\n",
       "      <td>0.000000</td>\n",
       "      <td>0.020676</td>\n",
       "      <td>0.594562</td>\n",
       "      <td>0.007566</td>\n",
       "      <td>10.014648</td>\n",
       "      <td>0.003112</td>\n",
       "      <td>0.000000</td>\n",
       "      <td>1.080000</td>\n",
       "      <td>0.000005</td>\n",
       "      <td>5.445860e-32</td>\n",
       "      <td>-798.641662</td>\n",
       "      <td>6.647490e-32</td>\n",
       "      <td>-799.997015</td>\n",
       "      <td>4.033736e-32</td>\n",
       "      <td>-799.960571</td>\n",
       "      <td>4.039220e-32</td>\n",
       "      <td>-799.794250</td>\n",
       "      <td>0.000000</td>\n",
       "      <td>0.000000</td>\n",
       "      <td>0.000000</td>\n",
       "      <td>0.000000</td>\n",
       "      <td>0.000000</td>\n",
       "      <td>0.000000</td>\n",
       "      <td>0.000000</td>\n",
       "      <td>0.000000</td>\n",
       "      <td>0.077503</td>\n",
       "      <td>-799.606441</td>\n",
       "      <td>0.000000</td>\n",
       "      <td>-799.873878</td>\n",
       "      <td>0.000000</td>\n",
       "      <td>-799.755798</td>\n",
       "      <td>0.000000</td>\n",
       "      <td>-809.333008</td>\n",
       "      <td>0.000000</td>\n",
       "      <td>-799.798523</td>\n",
       "      <td>0.000000</td>\n",
       "      <td>-800.836914</td>\n",
       "      <td>-0.372054</td>\n",
       "      <td>-797.323986</td>\n",
       "      <td>0.528083</td>\n",
       "      <td>-800.220337</td>\n",
       "      <td>-0.079426</td>\n",
       "      <td>-809.741464</td>\n",
       "      <td>0.000000</td>\n",
       "      <td>0.000000</td>\n",
       "      <td>0.000000</td>\n",
       "      <td>0.000000</td>\n",
       "      <td>0.000000</td>\n",
       "      <td>0.000000</td>\n",
       "      <td>0.000000</td>\n",
       "      <td>0.000000</td>\n",
       "      <td>0.000000</td>\n",
       "      <td>0.000000</td>\n",
       "      <td>0.000000</td>\n",
       "      <td>0.000000</td>\n",
       "      <td>0.000000</td>\n",
       "    </tr>\n",
       "    <tr>\n",
       "      <th>max</th>\n",
       "      <td>2018-08-18 10:59:59</td>\n",
       "      <td>13.731330</td>\n",
       "      <td>14.596026</td>\n",
       "      <td>7.142594</td>\n",
       "      <td>53.477742</td>\n",
       "      <td>717.508837</td>\n",
       "      <td>484.967466</td>\n",
       "      <td>36.118275</td>\n",
       "      <td>9.703448</td>\n",
       "      <td>1521.980372</td>\n",
       "      <td>-273.776101</td>\n",
       "      <td>1809.194008</td>\n",
       "      <td>-296.383080</td>\n",
       "      <td>2499.129174</td>\n",
       "      <td>-292.155509</td>\n",
       "      <td>1817.199290</td>\n",
       "      <td>-76.397327</td>\n",
       "      <td>1922.636637</td>\n",
       "      <td>-139.753025</td>\n",
       "      <td>1706.307502</td>\n",
       "      <td>-191.718480</td>\n",
       "      <td>37.980648</td>\n",
       "      <td>9.698407</td>\n",
       "      <td>3.428099e+06</td>\n",
       "      <td>629638.977914</td>\n",
       "      <td>718684.955855</td>\n",
       "      <td>39.379272</td>\n",
       "      <td>28.824507</td>\n",
       "      <td>24.480271</td>\n",
       "      <td>13.617072</td>\n",
       "      <td>38.351193</td>\n",
       "      <td>100.000000</td>\n",
       "      <td>9.688980</td>\n",
       "      <td>12.719177</td>\n",
       "      <td>3.778064</td>\n",
       "      <td>66.117188</td>\n",
       "      <td>265.983123</td>\n",
       "      <td>40.000000</td>\n",
       "      <td>15.500000</td>\n",
       "      <td>4.102454</td>\n",
       "      <td>2.103104e+03</td>\n",
       "      <td>-57.195404</td>\n",
       "      <td>2.114907e+03</td>\n",
       "      <td>-142.527229</td>\n",
       "      <td>2.013156e+03</td>\n",
       "      <td>-150.937035</td>\n",
       "      <td>2.398904e+03</td>\n",
       "      <td>-30.601828</td>\n",
       "      <td>45.933934</td>\n",
       "      <td>16.081632</td>\n",
       "      <td>17.081278</td>\n",
       "      <td>22.458114</td>\n",
       "      <td>17.788925</td>\n",
       "      <td>29.459575</td>\n",
       "      <td>9.634565</td>\n",
       "      <td>22.276364</td>\n",
       "      <td>52.651399</td>\n",
       "      <td>-127.875565</td>\n",
       "      <td>35.152122</td>\n",
       "      <td>-211.999273</td>\n",
       "      <td>44.260464</td>\n",
       "      <td>-191.678810</td>\n",
       "      <td>35.072841</td>\n",
       "      <td>-159.742331</td>\n",
       "      <td>30.115735</td>\n",
       "      <td>-245.239184</td>\n",
       "      <td>31.269706</td>\n",
       "      <td>-6.506986</td>\n",
       "      <td>43.709931</td>\n",
       "      <td>-244.483566</td>\n",
       "      <td>27.926001</td>\n",
       "      <td>-137.740004</td>\n",
       "      <td>32.188906</td>\n",
       "      <td>-104.427459</td>\n",
       "      <td>26.811643</td>\n",
       "      <td>23.264738</td>\n",
       "      <td>17.042505</td>\n",
       "      <td>26.000772</td>\n",
       "      <td>52.756638</td>\n",
       "      <td>16.001945</td>\n",
       "      <td>17.031899</td>\n",
       "      <td>19.615720</td>\n",
       "      <td>100.000000</td>\n",
       "      <td>8.245022</td>\n",
       "      <td>19.552149</td>\n",
       "      <td>5.804178</td>\n",
       "      <td>22.317730</td>\n",
       "    </tr>\n",
       "    <tr>\n",
       "      <th>mean</th>\n",
       "      <td>NaN</td>\n",
       "      <td>8.266097</td>\n",
       "      <td>8.794927</td>\n",
       "      <td>3.584516</td>\n",
       "      <td>36.676689</td>\n",
       "      <td>478.290904</td>\n",
       "      <td>59.087187</td>\n",
       "      <td>12.319310</td>\n",
       "      <td>6.020352</td>\n",
       "      <td>1105.309747</td>\n",
       "      <td>-376.617037</td>\n",
       "      <td>1320.235627</td>\n",
       "      <td>-467.249440</td>\n",
       "      <td>1299.984242</td>\n",
       "      <td>-467.718458</td>\n",
       "      <td>1211.563299</td>\n",
       "      <td>-468.239912</td>\n",
       "      <td>1076.834876</td>\n",
       "      <td>-466.037742</td>\n",
       "      <td>1025.274256</td>\n",
       "      <td>-466.265327</td>\n",
       "      <td>12.058945</td>\n",
       "      <td>5.989052</td>\n",
       "      <td>4.217152e+04</td>\n",
       "      <td>3393.006450</td>\n",
       "      <td>3256.821622</td>\n",
       "      <td>2.420119</td>\n",
       "      <td>19.772000</td>\n",
       "      <td>11.994759</td>\n",
       "      <td>7.606272</td>\n",
       "      <td>28.798343</td>\n",
       "      <td>83.328587</td>\n",
       "      <td>1.816391</td>\n",
       "      <td>5.589064</td>\n",
       "      <td>0.645782</td>\n",
       "      <td>18.057106</td>\n",
       "      <td>144.544731</td>\n",
       "      <td>8.809349</td>\n",
       "      <td>7.307078</td>\n",
       "      <td>1.017856</td>\n",
       "      <td>1.589365e+03</td>\n",
       "      <td>-491.195480</td>\n",
       "      <td>1.591358e+03</td>\n",
       "      <td>-492.193400</td>\n",
       "      <td>1.586673e+03</td>\n",
       "      <td>-491.980539</td>\n",
       "      <td>1.542965e+03</td>\n",
       "      <td>-488.017908</td>\n",
       "      <td>32.119400</td>\n",
       "      <td>8.442408</td>\n",
       "      <td>9.809276</td>\n",
       "      <td>10.387398</td>\n",
       "      <td>3.914179</td>\n",
       "      <td>16.145888</td>\n",
       "      <td>3.434147</td>\n",
       "      <td>7.961920</td>\n",
       "      <td>28.774267</td>\n",
       "      <td>-502.367237</td>\n",
       "      <td>24.095291</td>\n",
       "      <td>-503.230503</td>\n",
       "      <td>28.186223</td>\n",
       "      <td>-486.203871</td>\n",
       "      <td>22.200684</td>\n",
       "      <td>-493.742468</td>\n",
       "      <td>18.983864</td>\n",
       "      <td>-485.897735</td>\n",
       "      <td>15.010210</td>\n",
       "      <td>-461.083174</td>\n",
       "      <td>15.694166</td>\n",
       "      <td>-488.684070</td>\n",
       "      <td>12.198006</td>\n",
       "      <td>-487.150492</td>\n",
       "      <td>18.958462</td>\n",
       "      <td>-505.441087</td>\n",
       "      <td>4.339625</td>\n",
       "      <td>14.586694</td>\n",
       "      <td>5.776537</td>\n",
       "      <td>6.626149</td>\n",
       "      <td>44.076513</td>\n",
       "      <td>5.168387</td>\n",
       "      <td>9.978821</td>\n",
       "      <td>9.430391</td>\n",
       "      <td>67.050208</td>\n",
       "      <td>3.042467</td>\n",
       "      <td>9.688487</td>\n",
       "      <td>2.694773</td>\n",
       "      <td>10.582834</td>\n",
       "    </tr>\n",
       "    <tr>\n",
       "      <th>median</th>\n",
       "      <td>NaN</td>\n",
       "      <td>8.125839</td>\n",
       "      <td>8.593574</td>\n",
       "      <td>3.528235</td>\n",
       "      <td>37.189485</td>\n",
       "      <td>499.412752</td>\n",
       "      <td>54.734792</td>\n",
       "      <td>12.001088</td>\n",
       "      <td>6.007716</td>\n",
       "      <td>1001.073862</td>\n",
       "      <td>-300.263997</td>\n",
       "      <td>1301.581573</td>\n",
       "      <td>-499.784035</td>\n",
       "      <td>1300.212670</td>\n",
       "      <td>-499.713331</td>\n",
       "      <td>1201.569141</td>\n",
       "      <td>-499.532412</td>\n",
       "      <td>1049.808940</td>\n",
       "      <td>-499.663089</td>\n",
       "      <td>999.924821</td>\n",
       "      <td>-499.471777</td>\n",
       "      <td>12.000191</td>\n",
       "      <td>6.036099</td>\n",
       "      <td>4.469648e+04</td>\n",
       "      <td>3018.353876</td>\n",
       "      <td>2997.218088</td>\n",
       "      <td>2.309665</td>\n",
       "      <td>20.280214</td>\n",
       "      <td>12.098115</td>\n",
       "      <td>7.742580</td>\n",
       "      <td>29.833546</td>\n",
       "      <td>86.188892</td>\n",
       "      <td>1.808170</td>\n",
       "      <td>5.765829</td>\n",
       "      <td>0.617465</td>\n",
       "      <td>18.106867</td>\n",
       "      <td>143.205708</td>\n",
       "      <td>8.037738</td>\n",
       "      <td>7.280000</td>\n",
       "      <td>0.932579</td>\n",
       "      <td>1.600599e+03</td>\n",
       "      <td>-499.926197</td>\n",
       "      <td>1.600523e+03</td>\n",
       "      <td>-499.956924</td>\n",
       "      <td>1.600254e+03</td>\n",
       "      <td>-499.909674</td>\n",
       "      <td>1.599448e+03</td>\n",
       "      <td>-499.905945</td>\n",
       "      <td>32.841295</td>\n",
       "      <td>8.507298</td>\n",
       "      <td>10.142270</td>\n",
       "      <td>10.236530</td>\n",
       "      <td>3.623234</td>\n",
       "      <td>15.842836</td>\n",
       "      <td>3.269958</td>\n",
       "      <td>8.179447</td>\n",
       "      <td>29.337681</td>\n",
       "      <td>-499.973262</td>\n",
       "      <td>25.042097</td>\n",
       "      <td>-500.015402</td>\n",
       "      <td>27.981859</td>\n",
       "      <td>-499.930641</td>\n",
       "      <td>22.011361</td>\n",
       "      <td>-499.981932</td>\n",
       "      <td>18.017317</td>\n",
       "      <td>-499.837795</td>\n",
       "      <td>14.970988</td>\n",
       "      <td>-499.459790</td>\n",
       "      <td>14.999920</td>\n",
       "      <td>-499.802570</td>\n",
       "      <td>11.019389</td>\n",
       "      <td>-499.935338</td>\n",
       "      <td>19.960511</td>\n",
       "      <td>-500.048424</td>\n",
       "      <td>4.072412</td>\n",
       "      <td>15.640668</td>\n",
       "      <td>5.344073</td>\n",
       "      <td>7.085314</td>\n",
       "      <td>45.011244</td>\n",
       "      <td>5.066039</td>\n",
       "      <td>10.102264</td>\n",
       "      <td>9.185078</td>\n",
       "      <td>68.172738</td>\n",
       "      <td>2.984909</td>\n",
       "      <td>9.743106</td>\n",
       "      <td>2.743965</td>\n",
       "      <td>10.622340</td>\n",
       "    </tr>\n",
       "    <tr>\n",
       "      <th>std</th>\n",
       "      <td>NaN</td>\n",
       "      <td>1.955092</td>\n",
       "      <td>1.936847</td>\n",
       "      <td>1.064760</td>\n",
       "      <td>5.160229</td>\n",
       "      <td>105.407509</td>\n",
       "      <td>22.104305</td>\n",
       "      <td>3.450590</td>\n",
       "      <td>1.129018</td>\n",
       "      <td>160.824372</td>\n",
       "      <td>93.911420</td>\n",
       "      <td>176.294133</td>\n",
       "      <td>54.672198</td>\n",
       "      <td>202.810537</td>\n",
       "      <td>53.533862</td>\n",
       "      <td>204.019326</td>\n",
       "      <td>53.921458</td>\n",
       "      <td>173.505010</td>\n",
       "      <td>57.384424</td>\n",
       "      <td>164.487837</td>\n",
       "      <td>57.850263</td>\n",
       "      <td>3.828328</td>\n",
       "      <td>1.213631</td>\n",
       "      <td>3.243454e+05</td>\n",
       "      <td>4943.594432</td>\n",
       "      <td>5781.127729</td>\n",
       "      <td>0.814935</td>\n",
       "      <td>3.753600</td>\n",
       "      <td>2.733862</td>\n",
       "      <td>1.796757</td>\n",
       "      <td>5.956711</td>\n",
       "      <td>14.148086</td>\n",
       "      <td>0.680046</td>\n",
       "      <td>1.111318</td>\n",
       "      <td>0.251526</td>\n",
       "      <td>3.449218</td>\n",
       "      <td>44.596760</td>\n",
       "      <td>3.295873</td>\n",
       "      <td>0.613509</td>\n",
       "      <td>0.515384</td>\n",
       "      <td>1.289886e+02</td>\n",
       "      <td>32.431073</td>\n",
       "      <td>1.318037e+02</td>\n",
       "      <td>33.794003</td>\n",
       "      <td>1.361074e+02</td>\n",
       "      <td>32.710679</td>\n",
       "      <td>2.462599e+02</td>\n",
       "      <td>43.958711</td>\n",
       "      <td>5.627611</td>\n",
       "      <td>2.054465</td>\n",
       "      <td>2.574759</td>\n",
       "      <td>3.977131</td>\n",
       "      <td>1.593034</td>\n",
       "      <td>3.548485</td>\n",
       "      <td>1.392826</td>\n",
       "      <td>2.225752</td>\n",
       "      <td>5.490931</td>\n",
       "      <td>53.570574</td>\n",
       "      <td>5.769528</td>\n",
       "      <td>56.566276</td>\n",
       "      <td>6.162020</td>\n",
       "      <td>54.410998</td>\n",
       "      <td>5.573861</td>\n",
       "      <td>43.371072</td>\n",
       "      <td>5.414881</td>\n",
       "      <td>47.759450</td>\n",
       "      <td>4.890150</td>\n",
       "      <td>67.406760</td>\n",
       "      <td>5.510977</td>\n",
       "      <td>34.532507</td>\n",
       "      <td>5.332973</td>\n",
       "      <td>38.346438</td>\n",
       "      <td>5.550508</td>\n",
       "      <td>37.693984</td>\n",
       "      <td>2.326751</td>\n",
       "      <td>4.265007</td>\n",
       "      <td>2.774989</td>\n",
       "      <td>4.141658</td>\n",
       "      <td>5.129784</td>\n",
       "      <td>1.372362</td>\n",
       "      <td>1.669228</td>\n",
       "      <td>2.864990</td>\n",
       "      <td>10.125840</td>\n",
       "      <td>0.922808</td>\n",
       "      <td>2.328624</td>\n",
       "      <td>0.959134</td>\n",
       "      <td>2.869043</td>\n",
       "    </tr>\n",
       "  </tbody>\n",
       "</table>\n",
       "</div>"
      ],
      "text/plain": [
       "                       date  rougher.input.feed_au  rougher.input.feed_ag  \\\n",
       "min     2016-01-15 00:00:00               0.010000               0.010000   \n",
       "max     2018-08-18 10:59:59              13.731330              14.596026   \n",
       "mean                    NaN               8.266097               8.794927   \n",
       "median                  NaN               8.125839               8.593574   \n",
       "std                     NaN               1.955092               1.936847   \n",
       "\n",
       "        rougher.input.feed_pb  rougher.input.feed_sol  \\\n",
       "min                  0.010000                0.010000   \n",
       "max                  7.142594               53.477742   \n",
       "mean                 3.584516               36.676689   \n",
       "median               3.528235               37.189485   \n",
       "std                  1.064760                5.160229   \n",
       "\n",
       "        rougher.input.feed_rate  rougher.input.feed_size  \\\n",
       "min                    0.002986                 0.046369   \n",
       "max                  717.508837               484.967466   \n",
       "mean                 478.290904                59.087187   \n",
       "median               499.412752                54.734792   \n",
       "std                  105.407509                22.104305   \n",
       "\n",
       "        rougher.input.floatbank10_sulfate  rougher.input.floatbank10_xanthate  \\\n",
       "min                              0.001083                            0.000568   \n",
       "max                             36.118275                            9.703448   \n",
       "mean                            12.319310                            6.020352   \n",
       "median                          12.001088                            6.007716   \n",
       "std                              3.450590                            1.129018   \n",
       "\n",
       "        rougher.state.floatbank10_a_air  rougher.state.floatbank10_a_level  \\\n",
       "min                           -0.042069                        -657.949759   \n",
       "max                         1521.980372                        -273.776101   \n",
       "mean                        1105.309747                        -376.617037   \n",
       "median                      1001.073862                        -300.263997   \n",
       "std                          160.824372                          93.911420   \n",
       "\n",
       "        rougher.state.floatbank10_b_air  rougher.state.floatbank10_b_level  \\\n",
       "min                           -0.721806                        -650.260008   \n",
       "max                         1809.194008                        -296.383080   \n",
       "mean                        1320.235627                        -467.249440   \n",
       "median                      1301.581573                        -499.784035   \n",
       "std                          176.294133                          54.672198   \n",
       "\n",
       "        rougher.state.floatbank10_c_air  rougher.state.floatbank10_c_level  \\\n",
       "min                           -0.056636                        -647.544439   \n",
       "max                         2499.129174                        -292.155509   \n",
       "mean                        1299.984242                        -467.718458   \n",
       "median                      1300.212670                        -499.713331   \n",
       "std                          202.810537                          53.533862   \n",
       "\n",
       "        rougher.state.floatbank10_d_air  rougher.state.floatbank10_d_level  \\\n",
       "min                           -0.992219                        -648.390665   \n",
       "max                         1817.199290                         -76.397327   \n",
       "mean                        1211.563299                        -468.239912   \n",
       "median                      1201.569141                        -499.532412   \n",
       "std                          204.019326                          53.921458   \n",
       "\n",
       "        rougher.state.floatbank10_e_air  rougher.state.floatbank10_e_level  \\\n",
       "min                           -1.982295                        -649.443911   \n",
       "max                         1922.636637                        -139.753025   \n",
       "mean                        1076.834876                        -466.037742   \n",
       "median                      1049.808940                        -499.663089   \n",
       "std                          173.505010                          57.384424   \n",
       "\n",
       "        rougher.state.floatbank10_f_air  rougher.state.floatbank10_f_level  \\\n",
       "min                           -2.593390                        -649.949283   \n",
       "max                         1706.307502                        -191.718480   \n",
       "mean                        1025.274256                        -466.265327   \n",
       "median                       999.924821                        -499.471777   \n",
       "std                          164.487837                          57.850263   \n",
       "\n",
       "        rougher.input.floatbank11_sulfate  rougher.input.floatbank11_xanthate  \\\n",
       "min                              0.000077                            0.000290   \n",
       "max                             37.980648                            9.698407   \n",
       "mean                            12.058945                            5.989052   \n",
       "median                          12.000191                            6.036099   \n",
       "std                              3.828328                            1.213631   \n",
       "\n",
       "        rougher.calculation.sulfate_to_au_concentrate  \\\n",
       "min                                     -4.223520e+07   \n",
       "max                                      3.428099e+06   \n",
       "mean                                     4.217152e+04   \n",
       "median                                   4.469648e+04   \n",
       "std                                      3.243454e+05   \n",
       "\n",
       "        rougher.calculation.floatbank10_sulfate_to_au_feed  \\\n",
       "min                                           -486.598675    \n",
       "max                                         629638.977914    \n",
       "mean                                          3393.006450    \n",
       "median                                        3018.353876    \n",
       "std                                           4943.594432    \n",
       "\n",
       "        rougher.calculation.floatbank11_sulfate_to_au_feed  \\\n",
       "min                                           -264.982785    \n",
       "max                                         718684.955855    \n",
       "mean                                          3256.821622    \n",
       "median                                        2997.218088    \n",
       "std                                           5781.127729    \n",
       "\n",
       "        rougher.calculation.au_pb_ratio  rougher.output.concentrate_au  \\\n",
       "min                           -0.010548                       0.000000   \n",
       "max                           39.379272                      28.824507   \n",
       "mean                           2.420119                      19.772000   \n",
       "median                         2.309665                      20.280214   \n",
       "std                            0.814935                       3.753600   \n",
       "\n",
       "        rougher.output.concentrate_ag  rougher.output.concentrate_pb  \\\n",
       "min                          0.000000                       0.000000   \n",
       "max                         24.480271                      13.617072   \n",
       "mean                        11.994759                       7.606272   \n",
       "median                      12.098115                       7.742580   \n",
       "std                          2.733862                       1.796757   \n",
       "\n",
       "        rougher.output.concentrate_sol  rougher.output.recovery  \\\n",
       "min                           0.000000                 0.000000   \n",
       "max                          38.351193               100.000000   \n",
       "mean                         28.798343                83.328587   \n",
       "median                       29.833546                86.188892   \n",
       "std                           5.956711                14.148086   \n",
       "\n",
       "        rougher.output.tail_au  rougher.output.tail_ag  \\\n",
       "min                   0.020676                0.594562   \n",
       "max                   9.688980               12.719177   \n",
       "mean                  1.816391                5.589064   \n",
       "median                1.808170                5.765829   \n",
       "std                   0.680046                1.111318   \n",
       "\n",
       "        rougher.output.tail_pb  rougher.output.tail_sol  \\\n",
       "min                   0.007566                10.014648   \n",
       "max                   3.778064                66.117188   \n",
       "mean                  0.645782                18.057106   \n",
       "median                0.617465                18.106867   \n",
       "std                   0.251526                 3.449218   \n",
       "\n",
       "        primary_cleaner.input.sulfate  primary_cleaner.input.depressant  \\\n",
       "min                          0.003112                          0.000000   \n",
       "max                        265.983123                         40.000000   \n",
       "mean                       144.544731                          8.809349   \n",
       "median                     143.205708                          8.037738   \n",
       "std                         44.596760                          3.295873   \n",
       "\n",
       "        primary_cleaner.input.feed_size  primary_cleaner.input.xanthate  \\\n",
       "min                            1.080000                        0.000005   \n",
       "max                           15.500000                        4.102454   \n",
       "mean                           7.307078                        1.017856   \n",
       "median                         7.280000                        0.932579   \n",
       "std                            0.613509                        0.515384   \n",
       "\n",
       "        primary_cleaner.state.floatbank8_a_air  \\\n",
       "min                               5.445860e-32   \n",
       "max                               2.103104e+03   \n",
       "mean                              1.589365e+03   \n",
       "median                            1.600599e+03   \n",
       "std                               1.289886e+02   \n",
       "\n",
       "        primary_cleaner.state.floatbank8_a_level  \\\n",
       "min                                  -798.641662   \n",
       "max                                   -57.195404   \n",
       "mean                                 -491.195480   \n",
       "median                               -499.926197   \n",
       "std                                    32.431073   \n",
       "\n",
       "        primary_cleaner.state.floatbank8_b_air  \\\n",
       "min                               6.647490e-32   \n",
       "max                               2.114907e+03   \n",
       "mean                              1.591358e+03   \n",
       "median                            1.600523e+03   \n",
       "std                               1.318037e+02   \n",
       "\n",
       "        primary_cleaner.state.floatbank8_b_level  \\\n",
       "min                                  -799.997015   \n",
       "max                                  -142.527229   \n",
       "mean                                 -492.193400   \n",
       "median                               -499.956924   \n",
       "std                                    33.794003   \n",
       "\n",
       "        primary_cleaner.state.floatbank8_c_air  \\\n",
       "min                               4.033736e-32   \n",
       "max                               2.013156e+03   \n",
       "mean                              1.586673e+03   \n",
       "median                            1.600254e+03   \n",
       "std                               1.361074e+02   \n",
       "\n",
       "        primary_cleaner.state.floatbank8_c_level  \\\n",
       "min                                  -799.960571   \n",
       "max                                  -150.937035   \n",
       "mean                                 -491.980539   \n",
       "median                               -499.909674   \n",
       "std                                    32.710679   \n",
       "\n",
       "        primary_cleaner.state.floatbank8_d_air  \\\n",
       "min                               4.039220e-32   \n",
       "max                               2.398904e+03   \n",
       "mean                              1.542965e+03   \n",
       "median                            1.599448e+03   \n",
       "std                               2.462599e+02   \n",
       "\n",
       "        primary_cleaner.state.floatbank8_d_level  \\\n",
       "min                                  -799.794250   \n",
       "max                                   -30.601828   \n",
       "mean                                 -488.017908   \n",
       "median                               -499.905945   \n",
       "std                                    43.958711   \n",
       "\n",
       "        primary_cleaner.output.concentrate_au  \\\n",
       "min                                  0.000000   \n",
       "max                                 45.933934   \n",
       "mean                                32.119400   \n",
       "median                              32.841295   \n",
       "std                                  5.627611   \n",
       "\n",
       "        primary_cleaner.output.concentrate_ag  \\\n",
       "min                                  0.000000   \n",
       "max                                 16.081632   \n",
       "mean                                 8.442408   \n",
       "median                               8.507298   \n",
       "std                                  2.054465   \n",
       "\n",
       "        primary_cleaner.output.concentrate_pb  \\\n",
       "min                                  0.000000   \n",
       "max                                 17.081278   \n",
       "mean                                 9.809276   \n",
       "median                              10.142270   \n",
       "std                                  2.574759   \n",
       "\n",
       "        primary_cleaner.output.concentrate_sol  \\\n",
       "min                                   0.000000   \n",
       "max                                  22.458114   \n",
       "mean                                 10.387398   \n",
       "median                               10.236530   \n",
       "std                                   3.977131   \n",
       "\n",
       "        primary_cleaner.output.tail_au  primary_cleaner.output.tail_ag  \\\n",
       "min                           0.000000                        0.000000   \n",
       "max                          17.788925                       29.459575   \n",
       "mean                          3.914179                       16.145888   \n",
       "median                        3.623234                       15.842836   \n",
       "std                           1.593034                        3.548485   \n",
       "\n",
       "        primary_cleaner.output.tail_pb  primary_cleaner.output.tail_sol  \\\n",
       "min                           0.000000                         0.000000   \n",
       "max                           9.634565                        22.276364   \n",
       "mean                          3.434147                         7.961920   \n",
       "median                        3.269958                         8.179447   \n",
       "std                           1.392826                         2.225752   \n",
       "\n",
       "        secondary_cleaner.state.floatbank2_a_air  \\\n",
       "min                                     0.077503   \n",
       "max                                    52.651399   \n",
       "mean                                   28.774267   \n",
       "median                                 29.337681   \n",
       "std                                     5.490931   \n",
       "\n",
       "        secondary_cleaner.state.floatbank2_a_level  \\\n",
       "min                                    -799.606441   \n",
       "max                                    -127.875565   \n",
       "mean                                   -502.367237   \n",
       "median                                 -499.973262   \n",
       "std                                      53.570574   \n",
       "\n",
       "        secondary_cleaner.state.floatbank2_b_air  \\\n",
       "min                                     0.000000   \n",
       "max                                    35.152122   \n",
       "mean                                   24.095291   \n",
       "median                                 25.042097   \n",
       "std                                     5.769528   \n",
       "\n",
       "        secondary_cleaner.state.floatbank2_b_level  \\\n",
       "min                                    -799.873878   \n",
       "max                                    -211.999273   \n",
       "mean                                   -503.230503   \n",
       "median                                 -500.015402   \n",
       "std                                      56.566276   \n",
       "\n",
       "        secondary_cleaner.state.floatbank3_a_air  \\\n",
       "min                                     0.000000   \n",
       "max                                    44.260464   \n",
       "mean                                   28.186223   \n",
       "median                                 27.981859   \n",
       "std                                     6.162020   \n",
       "\n",
       "        secondary_cleaner.state.floatbank3_a_level  \\\n",
       "min                                    -799.755798   \n",
       "max                                    -191.678810   \n",
       "mean                                   -486.203871   \n",
       "median                                 -499.930641   \n",
       "std                                      54.410998   \n",
       "\n",
       "        secondary_cleaner.state.floatbank3_b_air  \\\n",
       "min                                     0.000000   \n",
       "max                                    35.072841   \n",
       "mean                                   22.200684   \n",
       "median                                 22.011361   \n",
       "std                                     5.573861   \n",
       "\n",
       "        secondary_cleaner.state.floatbank3_b_level  \\\n",
       "min                                    -809.333008   \n",
       "max                                    -159.742331   \n",
       "mean                                   -493.742468   \n",
       "median                                 -499.981932   \n",
       "std                                      43.371072   \n",
       "\n",
       "        secondary_cleaner.state.floatbank4_a_air  \\\n",
       "min                                     0.000000   \n",
       "max                                    30.115735   \n",
       "mean                                   18.983864   \n",
       "median                                 18.017317   \n",
       "std                                     5.414881   \n",
       "\n",
       "        secondary_cleaner.state.floatbank4_a_level  \\\n",
       "min                                    -799.798523   \n",
       "max                                    -245.239184   \n",
       "mean                                   -485.897735   \n",
       "median                                 -499.837795   \n",
       "std                                      47.759450   \n",
       "\n",
       "        secondary_cleaner.state.floatbank4_b_air  \\\n",
       "min                                     0.000000   \n",
       "max                                    31.269706   \n",
       "mean                                   15.010210   \n",
       "median                                 14.970988   \n",
       "std                                     4.890150   \n",
       "\n",
       "        secondary_cleaner.state.floatbank4_b_level  \\\n",
       "min                                    -800.836914   \n",
       "max                                      -6.506986   \n",
       "mean                                   -461.083174   \n",
       "median                                 -499.459790   \n",
       "std                                      67.406760   \n",
       "\n",
       "        secondary_cleaner.state.floatbank5_a_air  \\\n",
       "min                                    -0.372054   \n",
       "max                                    43.709931   \n",
       "mean                                   15.694166   \n",
       "median                                 14.999920   \n",
       "std                                     5.510977   \n",
       "\n",
       "        secondary_cleaner.state.floatbank5_a_level  \\\n",
       "min                                    -797.323986   \n",
       "max                                    -244.483566   \n",
       "mean                                   -488.684070   \n",
       "median                                 -499.802570   \n",
       "std                                      34.532507   \n",
       "\n",
       "        secondary_cleaner.state.floatbank5_b_air  \\\n",
       "min                                     0.528083   \n",
       "max                                    27.926001   \n",
       "mean                                   12.198006   \n",
       "median                                 11.019389   \n",
       "std                                     5.332973   \n",
       "\n",
       "        secondary_cleaner.state.floatbank5_b_level  \\\n",
       "min                                    -800.220337   \n",
       "max                                    -137.740004   \n",
       "mean                                   -487.150492   \n",
       "median                                 -499.935338   \n",
       "std                                      38.346438   \n",
       "\n",
       "        secondary_cleaner.state.floatbank6_a_air  \\\n",
       "min                                    -0.079426   \n",
       "max                                    32.188906   \n",
       "mean                                   18.958462   \n",
       "median                                 19.960511   \n",
       "std                                     5.550508   \n",
       "\n",
       "        secondary_cleaner.state.floatbank6_a_level  \\\n",
       "min                                    -809.741464   \n",
       "max                                    -104.427459   \n",
       "mean                                   -505.441087   \n",
       "median                                 -500.048424   \n",
       "std                                      37.693984   \n",
       "\n",
       "        secondary_cleaner.output.tail_au  secondary_cleaner.output.tail_ag  \\\n",
       "min                             0.000000                          0.000000   \n",
       "max                            26.811643                         23.264738   \n",
       "mean                            4.339625                         14.586694   \n",
       "median                          4.072412                         15.640668   \n",
       "std                             2.326751                          4.265007   \n",
       "\n",
       "        secondary_cleaner.output.tail_pb  secondary_cleaner.output.tail_sol  \\\n",
       "min                             0.000000                           0.000000   \n",
       "max                            17.042505                          26.000772   \n",
       "mean                            5.776537                           6.626149   \n",
       "median                          5.344073                           7.085314   \n",
       "std                             2.774989                           4.141658   \n",
       "\n",
       "        final.output.concentrate_au  final.output.concentrate_ag  \\\n",
       "min                        0.000000                     0.000000   \n",
       "max                       52.756638                    16.001945   \n",
       "mean                      44.076513                     5.168387   \n",
       "median                    45.011244                     5.066039   \n",
       "std                        5.129784                     1.372362   \n",
       "\n",
       "        final.output.concentrate_pb  final.output.concentrate_sol  \\\n",
       "min                        0.000000                      0.000000   \n",
       "max                       17.031899                     19.615720   \n",
       "mean                       9.978821                      9.430391   \n",
       "median                    10.102264                      9.185078   \n",
       "std                        1.669228                      2.864990   \n",
       "\n",
       "        final.output.recovery  final.output.tail_au  final.output.tail_ag  \\\n",
       "min                  0.000000              0.000000              0.000000   \n",
       "max                100.000000              8.245022             19.552149   \n",
       "mean                67.050208              3.042467              9.688487   \n",
       "median              68.172738              2.984909              9.743106   \n",
       "std                 10.125840              0.922808              2.328624   \n",
       "\n",
       "        final.output.tail_pb  final.output.tail_sol  \n",
       "min                 0.000000               0.000000  \n",
       "max                 5.804178              22.317730  \n",
       "mean                2.694773              10.582834  \n",
       "median              2.743965              10.622340  \n",
       "std                 0.959134               2.869043  "
      ]
     },
     "execution_count": 20,
     "metadata": {},
     "output_type": "execute_result"
    }
   ],
   "source": [
    "df.agg(['mean','median', 'std', 'min', 'max'])"
   ]
  },
  {
   "cell_type": "markdown",
   "metadata": {},
   "source": [
    "Чтобы не рисовать много графиков, придумал такую функцию для отделения столбцов с подозрительной разницей между медианой и средним, чтобы попытаться отловить аномальные значения"
   ]
  },
  {
   "cell_type": "code",
   "execution_count": 21,
   "metadata": {
    "scrolled": true
   },
   "outputs": [
    {
     "name": "stdout",
     "output_type": "stream",
     "text": [
      "rougher.state.floatbank10_a_air\n",
      "rougher.state.floatbank10_a_level\n",
      "rougher.calculation.floatbank10_sulfate_to_au_feed\n",
      "rougher.calculation.floatbank11_sulfate_to_au_feed\n",
      "primary_cleaner.input.depressant\n",
      "secondary_cleaner.state.floatbank4_b_level\n"
     ]
    },
    {
     "data": {
      "image/png": "[encoded data removed]",
      "text/plain": [
       "<Figure size 432x288 with 1 Axes>"
      ]
     },
     "metadata": {
      "needs_background": "light"
     },
     "output_type": "display_data"
    },
    {
     "data": {
      "image/png": "[encoded data removed]",
      "text/plain": [
       "<Figure size 432x288 with 1 Axes>"
      ]
     },
     "metadata": {
      "needs_background": "light"
     },
     "output_type": "display_data"
    },
    {
     "data": {
      "image/png": "[encoded data removed]",
      "text/plain": [
       "<Figure size 432x288 with 1 Axes>"
      ]
     },
     "metadata": {
      "needs_background": "light"
     },
     "output_type": "display_data"
    },
    {
     "data": {
      "image/png": "[encoded data removed]",
      "text/plain": [
       "<Figure size 432x288 with 1 Axes>"
      ]
     },
     "metadata": {
      "needs_background": "light"
     },
     "output_type": "display_data"
    },
    {
     "data": {
      "image/png": "[encoded data removed]",
      "text/plain": [
       "<Figure size 432x288 with 1 Axes>"
      ]
     },
     "metadata": {
      "needs_background": "light"
     },
     "output_type": "display_data"
    },
    {
     "data": {
      "image/png": "[encoded data removed]",
      "text/plain": [
       "<Figure size 432x288 with 1 Axes>"
      ]
     },
     "metadata": {
      "needs_background": "light"
     },
     "output_type": "display_data"
    }
   ],
   "source": [
    "for column in df_train.columns[1:] :\n",
    "    if abs(df_train[column].mean() - df_train[column].median()) > abs(df_train[column].mean()/12.5):\n",
    "        print(column)\n",
    "        fig, axs = plt.subplots() \n",
    "        plt.hist(df_train[column], label=column)\n",
    "        plt.show\n"
   ]
  },
  {
   "cell_type": "code",
   "execution_count": 22,
   "metadata": {
    "scrolled": true
   },
   "outputs": [],
   "source": [
    "df_train = df_train.loc[(df_train['rougher.calculation.floatbank10_sulfate_to_au_feed']<100000) &\n",
    "                        (df_train['rougher.calculation.floatbank11_sulfate_to_au_feed']<100000)]"
   ]
  },
  {
   "cell_type": "code",
   "execution_count": 23,
   "metadata": {
    "scrolled": true
   },
   "outputs": [
    {
     "name": "stdout",
     "output_type": "stream",
     "text": [
      "<class 'pandas.core.frame.DataFrame'>\n",
      "Int64Index: 14577 entries, 0 to 14578\n",
      "Data columns (total 87 columns):\n",
      " #   Column                                              Non-Null Count  Dtype  \n",
      "---  ------                                              --------------  -----  \n",
      " 0   date                                                14577 non-null  object \n",
      " 1   rougher.input.feed_au                               14577 non-null  float64\n",
      " 2   rougher.input.feed_ag                               14577 non-null  float64\n",
      " 3   rougher.input.feed_pb                               14577 non-null  float64\n",
      " 4   rougher.input.feed_sol                              14577 non-null  float64\n",
      " 5   rougher.input.feed_rate                             14577 non-null  float64\n",
      " 6   rougher.input.feed_size                             14577 non-null  float64\n",
      " 7   rougher.input.floatbank10_sulfate                   14577 non-null  float64\n",
      " 8   rougher.input.floatbank10_xanthate                  14577 non-null  float64\n",
      " 9   rougher.state.floatbank10_a_air                     14577 non-null  float64\n",
      " 10  rougher.state.floatbank10_a_level                   14577 non-null  float64\n",
      " 11  rougher.state.floatbank10_b_air                     14577 non-null  float64\n",
      " 12  rougher.state.floatbank10_b_level                   14577 non-null  float64\n",
      " 13  rougher.state.floatbank10_c_air                     14577 non-null  float64\n",
      " 14  rougher.state.floatbank10_c_level                   14577 non-null  float64\n",
      " 15  rougher.state.floatbank10_d_air                     14577 non-null  float64\n",
      " 16  rougher.state.floatbank10_d_level                   14577 non-null  float64\n",
      " 17  rougher.state.floatbank10_e_air                     14577 non-null  float64\n",
      " 18  rougher.state.floatbank10_e_level                   14577 non-null  float64\n",
      " 19  rougher.state.floatbank10_f_air                     14577 non-null  float64\n",
      " 20  rougher.state.floatbank10_f_level                   14577 non-null  float64\n",
      " 21  rougher.input.floatbank11_sulfate                   14577 non-null  float64\n",
      " 22  rougher.input.floatbank11_xanthate                  14577 non-null  float64\n",
      " 23  rougher.calculation.sulfate_to_au_concentrate       14577 non-null  float64\n",
      " 24  rougher.calculation.floatbank10_sulfate_to_au_feed  14577 non-null  float64\n",
      " 25  rougher.calculation.floatbank11_sulfate_to_au_feed  14577 non-null  float64\n",
      " 26  rougher.calculation.au_pb_ratio                     14577 non-null  float64\n",
      " 27  rougher.output.concentrate_au                       14577 non-null  float64\n",
      " 28  rougher.output.concentrate_ag                       14577 non-null  float64\n",
      " 29  rougher.output.concentrate_pb                       14577 non-null  float64\n",
      " 30  rougher.output.concentrate_sol                      14577 non-null  float64\n",
      " 31  rougher.output.recovery                             14577 non-null  float64\n",
      " 32  rougher.output.tail_au                              14577 non-null  float64\n",
      " 33  rougher.output.tail_ag                              14577 non-null  float64\n",
      " 34  rougher.output.tail_pb                              14577 non-null  float64\n",
      " 35  rougher.output.tail_sol                             14577 non-null  float64\n",
      " 36  primary_cleaner.input.sulfate                       14577 non-null  float64\n",
      " 37  primary_cleaner.input.depressant                    14577 non-null  float64\n",
      " 38  primary_cleaner.input.feed_size                     14577 non-null  float64\n",
      " 39  primary_cleaner.input.xanthate                      14577 non-null  float64\n",
      " 40  primary_cleaner.state.floatbank8_a_air              14577 non-null  float64\n",
      " 41  primary_cleaner.state.floatbank8_a_level            14577 non-null  float64\n",
      " 42  primary_cleaner.state.floatbank8_b_air              14577 non-null  float64\n",
      " 43  primary_cleaner.state.floatbank8_b_level            14577 non-null  float64\n",
      " 44  primary_cleaner.state.floatbank8_c_air              14577 non-null  float64\n",
      " 45  primary_cleaner.state.floatbank8_c_level            14577 non-null  float64\n",
      " 46  primary_cleaner.state.floatbank8_d_air              14577 non-null  float64\n",
      " 47  primary_cleaner.state.floatbank8_d_level            14577 non-null  float64\n",
      " 48  primary_cleaner.output.concentrate_au               14577 non-null  float64\n",
      " 49  primary_cleaner.output.concentrate_ag               14577 non-null  float64\n",
      " 50  primary_cleaner.output.concentrate_pb               14577 non-null  float64\n",
      " 51  primary_cleaner.output.concentrate_sol              14577 non-null  float64\n",
      " 52  primary_cleaner.output.tail_au                      14577 non-null  float64\n",
      " 53  primary_cleaner.output.tail_ag                      14577 non-null  float64\n",
      " 54  primary_cleaner.output.tail_pb                      14577 non-null  float64\n",
      " 55  primary_cleaner.output.tail_sol                     14577 non-null  float64\n",
      " 56  secondary_cleaner.state.floatbank2_a_air            14577 non-null  float64\n",
      " 57  secondary_cleaner.state.floatbank2_a_level          14577 non-null  float64\n",
      " 58  secondary_cleaner.state.floatbank2_b_air            14577 non-null  float64\n",
      " 59  secondary_cleaner.state.floatbank2_b_level          14577 non-null  float64\n",
      " 60  secondary_cleaner.state.floatbank3_a_air            14577 non-null  float64\n",
      " 61  secondary_cleaner.state.floatbank3_a_level          14577 non-null  float64\n",
      " 62  secondary_cleaner.state.floatbank3_b_air            14577 non-null  float64\n",
      " 63  secondary_cleaner.state.floatbank3_b_level          14577 non-null  float64\n",
      " 64  secondary_cleaner.state.floatbank4_a_air            14577 non-null  float64\n",
      " 65  secondary_cleaner.state.floatbank4_a_level          14577 non-null  float64\n",
      " 66  secondary_cleaner.state.floatbank4_b_air            14577 non-null  float64\n",
      " 67  secondary_cleaner.state.floatbank4_b_level          14577 non-null  float64\n",
      " 68  secondary_cleaner.state.floatbank5_a_air            14577 non-null  float64\n",
      " 69  secondary_cleaner.state.floatbank5_a_level          14577 non-null  float64\n",
      " 70  secondary_cleaner.state.floatbank5_b_air            14577 non-null  float64\n",
      " 71  secondary_cleaner.state.floatbank5_b_level          14577 non-null  float64\n",
      " 72  secondary_cleaner.state.floatbank6_a_air            14577 non-null  float64\n",
      " 73  secondary_cleaner.state.floatbank6_a_level          14577 non-null  float64\n",
      " 74  secondary_cleaner.output.tail_au                    14577 non-null  float64\n",
      " 75  secondary_cleaner.output.tail_ag                    14577 non-null  float64\n",
      " 76  secondary_cleaner.output.tail_pb                    14577 non-null  float64\n",
      " 77  secondary_cleaner.output.tail_sol                   14577 non-null  float64\n",
      " 78  final.output.concentrate_au                         14577 non-null  float64\n",
      " 79  final.output.concentrate_ag                         14577 non-null  float64\n",
      " 80  final.output.concentrate_pb                         14577 non-null  float64\n",
      " 81  final.output.concentrate_sol                        14577 non-null  float64\n",
      " 82  final.output.recovery                               14577 non-null  float64\n",
      " 83  final.output.tail_au                                14577 non-null  float64\n",
      " 84  final.output.tail_ag                                14577 non-null  float64\n",
      " 85  final.output.tail_pb                                14577 non-null  float64\n",
      " 86  final.output.tail_sol                               14577 non-null  float64\n",
      "dtypes: float64(86), object(1)\n",
      "memory usage: 9.8+ MB\n"
     ]
    }
   ],
   "source": [
    "df_train.info()"
   ]
  },
  {
   "cell_type": "code",
   "execution_count": 24,
   "metadata": {},
   "outputs": [
    {
     "data": {
      "text/plain": [
       "0"
      ]
     },
     "execution_count": 24,
     "metadata": {},
     "output_type": "execute_result"
    }
   ],
   "source": [
    "df.duplicated().sum()"
   ]
  },
  {
   "cell_type": "markdown",
   "metadata": {},
   "source": [
    "Убрали 2 подозрительных значения. Можно делить на признаки, а потом и на выборки."
   ]
  },
  {
   "cell_type": "markdown",
   "metadata": {},
   "source": [
    "## Анализ данных"
   ]
  },
  {
   "cell_type": "code",
   "execution_count": 25,
   "metadata": {},
   "outputs": [],
   "source": [
    "concentration_list = ['rougher.input.feed_au', 'rougher.input.feed_ag', 'rougher.input.feed_pb',\n",
    "                      'rougher.output.concentrate_au', 'rougher.output.concentrate_ag', 'rougher.output.concentrate_pb', \n",
    "                     'primary_cleaner.output.concentrate_au', 'primary_cleaner.output.concentrate_ag', 'primary_cleaner.output.concentrate_pb',\n",
    "                     'final.output.concentrate_au', 'final.output.concentrate_ag', 'final.output.concentrate_pb']\n",
    "au_conc = ['rougher.input.feed_au', 'rougher.output.concentrate_au', \n",
    "           'primary_cleaner.output.concentrate_au', 'final.output.concentrate_au']\n",
    "ag_conc = ['rougher.input.feed_ag', 'rougher.output.concentrate_ag', \n",
    "           'primary_cleaner.output.concentrate_ag', 'final.output.concentrate_ag']\n",
    "pb_conc = ['rougher.input.feed_pb', 'rougher.output.concentrate_pb', \n",
    "           'primary_cleaner.output.concentrate_pb', 'final.output.concentrate_pb']"
   ]
  },
  {
   "cell_type": "code",
   "execution_count": 26,
   "metadata": {
    "scrolled": true
   },
   "outputs": [
    {
     "data": {
      "image/png": "[encoded data removed]",
      "text/plain": [
       "<Figure size 720x720 with 4 Axes>"
      ]
     },
     "metadata": {
      "needs_background": "light"
     },
     "output_type": "display_data"
    }
   ],
   "source": [
    "df[au_conc].hist(figsize=(10,10))\n",
    "plt.show()"
   ]
  },
  {
   "cell_type": "code",
   "execution_count": 27,
   "metadata": {
    "scrolled": true
   },
   "outputs": [
    {
     "data": {
      "image/png": "[encoded data removed]",
      "text/plain": [
       "<Figure size 720x720 with 4 Axes>"
      ]
     },
     "metadata": {
      "needs_background": "light"
     },
     "output_type": "display_data"
    }
   ],
   "source": [
    "df[ag_conc].hist(figsize=(10,10))\n",
    "plt.show()"
   ]
  },
  {
   "cell_type": "code",
   "execution_count": 28,
   "metadata": {
    "scrolled": true
   },
   "outputs": [
    {
     "data": {
      "image/png": "[encoded data removed]",
      "text/plain": [
       "<Figure size 720x720 with 4 Axes>"
      ]
     },
     "metadata": {
      "needs_background": "light"
     },
     "output_type": "display_data"
    }
   ],
   "source": [
    "df[pb_conc].hist(figsize=(10,10))\n",
    "plt.show()"
   ]
  },
  {
   "cell_type": "markdown",
   "metadata": {},
   "source": [
    "В процессе намывания золота концентрация его в руде должна расти, так и происходит на первых 4 графиках.  \n",
    "На вторых рассмотрели серебро - его концентрация сначала немного увеличилась (возможно за счет того, что другие примеси вымываются более активно, процентное соотношение серебра немного подросло), а затем и серебро так же вымывается из смеси.  \n",
    "А вот со свинцом ситуация сложнее - он скорее накапливается с руде. Могу лишь предположить, что такая особенность связана с его химическими свойствами, возможно схожими с золотом."
   ]
  },
  {
   "cell_type": "code",
   "execution_count": 29,
   "metadata": {
    "scrolled": true
   },
   "outputs": [
    {
     "data": {
      "text/plain": [
       "<AxesSubplot:>"
      ]
     },
     "execution_count": 29,
     "metadata": {},
     "output_type": "execute_result"
    },
    {
     "data": {
      "image/png": "[encoded data removed]",
      "text/plain": [
       "<Figure size 432x288 with 1 Axes>"
      ]
     },
     "metadata": {
      "needs_background": "light"
     },
     "output_type": "display_data"
    }
   ],
   "source": [
    "df_train['rougher.input.feed_size'].hist(density=True, bins=30, range=(0,350))"
   ]
  },
  {
   "cell_type": "code",
   "execution_count": 30,
   "metadata": {
    "scrolled": true
   },
   "outputs": [
    {
     "data": {
      "text/plain": [
       "<AxesSubplot:>"
      ]
     },
     "execution_count": 30,
     "metadata": {},
     "output_type": "execute_result"
    },
    {
     "data": {
      "image/png": "[encoded data removed]",
      "text/plain": [
       "<Figure size 432x288 with 1 Axes>"
      ]
     },
     "metadata": {
      "needs_background": "light"
     },
     "output_type": "display_data"
    }
   ],
   "source": [
    "df_test['rougher.input.feed_size'].hist(density=True, bins=30)"
   ]
  },
  {
   "cell_type": "markdown",
   "metadata": {},
   "source": [
    "Распределения выглядят аналогично, значит размеры гранул в выборки попали равномерно  "
   ]
  },
  {
   "cell_type": "markdown",
   "metadata": {},
   "source": [
    "### Исследуем суммарную концентрацию металлов на разных стадиях: в сырье, в черновом концентрате, в концентрате после первой очистки и в финальном концентрате.\n"
   ]
  },
  {
   "cell_type": "code",
   "execution_count": 31,
   "metadata": {
    "scrolled": true
   },
   "outputs": [
    {
     "data": {
      "text/plain": [
       "Index(['date', 'rougher.input.feed_au', 'rougher.input.feed_ag',\n",
       "       'rougher.input.feed_pb', 'rougher.input.feed_sol',\n",
       "       'rougher.input.feed_rate', 'rougher.input.feed_size',\n",
       "       'rougher.input.floatbank10_sulfate',\n",
       "       'rougher.input.floatbank10_xanthate', 'rougher.state.floatbank10_a_air',\n",
       "       'rougher.state.floatbank10_a_level', 'rougher.state.floatbank10_b_air',\n",
       "       'rougher.state.floatbank10_b_level', 'rougher.state.floatbank10_c_air',\n",
       "       'rougher.state.floatbank10_c_level', 'rougher.state.floatbank10_d_air',\n",
       "       'rougher.state.floatbank10_d_level', 'rougher.state.floatbank10_e_air',\n",
       "       'rougher.state.floatbank10_e_level', 'rougher.state.floatbank10_f_air',\n",
       "       'rougher.state.floatbank10_f_level',\n",
       "       'rougher.input.floatbank11_sulfate',\n",
       "       'rougher.input.floatbank11_xanthate',\n",
       "       'rougher.calculation.sulfate_to_au_concentrate',\n",
       "       'rougher.calculation.floatbank10_sulfate_to_au_feed',\n",
       "       'rougher.calculation.floatbank11_sulfate_to_au_feed',\n",
       "       'rougher.calculation.au_pb_ratio', 'rougher.output.concentrate_au',\n",
       "       'rougher.output.concentrate_ag', 'rougher.output.concentrate_pb',\n",
       "       'rougher.output.concentrate_sol', 'rougher.output.recovery',\n",
       "       'rougher.output.tail_au', 'rougher.output.tail_ag',\n",
       "       'rougher.output.tail_pb', 'rougher.output.tail_sol',\n",
       "       'primary_cleaner.input.sulfate', 'primary_cleaner.input.depressant',\n",
       "       'primary_cleaner.input.feed_size', 'primary_cleaner.input.xanthate',\n",
       "       'primary_cleaner.state.floatbank8_a_air',\n",
       "       'primary_cleaner.state.floatbank8_a_level',\n",
       "       'primary_cleaner.state.floatbank8_b_air',\n",
       "       'primary_cleaner.state.floatbank8_b_level',\n",
       "       'primary_cleaner.state.floatbank8_c_air',\n",
       "       'primary_cleaner.state.floatbank8_c_level',\n",
       "       'primary_cleaner.state.floatbank8_d_air',\n",
       "       'primary_cleaner.state.floatbank8_d_level',\n",
       "       'primary_cleaner.output.concentrate_au',\n",
       "       'primary_cleaner.output.concentrate_ag',\n",
       "       'primary_cleaner.output.concentrate_pb',\n",
       "       'primary_cleaner.output.concentrate_sol',\n",
       "       'primary_cleaner.output.tail_au', 'primary_cleaner.output.tail_ag',\n",
       "       'primary_cleaner.output.tail_pb', 'primary_cleaner.output.tail_sol',\n",
       "       'secondary_cleaner.state.floatbank2_a_air',\n",
       "       'secondary_cleaner.state.floatbank2_a_level',\n",
       "       'secondary_cleaner.state.floatbank2_b_air',\n",
       "       'secondary_cleaner.state.floatbank2_b_level',\n",
       "       'secondary_cleaner.state.floatbank3_a_air',\n",
       "       'secondary_cleaner.state.floatbank3_a_level',\n",
       "       'secondary_cleaner.state.floatbank3_b_air',\n",
       "       'secondary_cleaner.state.floatbank3_b_level',\n",
       "       'secondary_cleaner.state.floatbank4_a_air',\n",
       "       'secondary_cleaner.state.floatbank4_a_level',\n",
       "       'secondary_cleaner.state.floatbank4_b_air',\n",
       "       'secondary_cleaner.state.floatbank4_b_level',\n",
       "       'secondary_cleaner.state.floatbank5_a_air',\n",
       "       'secondary_cleaner.state.floatbank5_a_level',\n",
       "       'secondary_cleaner.state.floatbank5_b_air',\n",
       "       'secondary_cleaner.state.floatbank5_b_level',\n",
       "       'secondary_cleaner.state.floatbank6_a_air',\n",
       "       'secondary_cleaner.state.floatbank6_a_level',\n",
       "       'secondary_cleaner.output.tail_au', 'secondary_cleaner.output.tail_ag',\n",
       "       'secondary_cleaner.output.tail_pb', 'secondary_cleaner.output.tail_sol',\n",
       "       'final.output.concentrate_au', 'final.output.concentrate_ag',\n",
       "       'final.output.concentrate_pb', 'final.output.concentrate_sol',\n",
       "       'final.output.recovery', 'final.output.tail_au', 'final.output.tail_ag',\n",
       "       'final.output.tail_pb', 'final.output.tail_sol'],\n",
       "      dtype='object')"
      ]
     },
     "execution_count": 31,
     "metadata": {},
     "output_type": "execute_result"
    }
   ],
   "source": [
    "df_train.columns"
   ]
  },
  {
   "cell_type": "code",
   "execution_count": 32,
   "metadata": {
    "scrolled": false
   },
   "outputs": [
    {
     "data": {
      "text/html": [
       "<div>\n",
       "<style scoped>\n",
       "    .dataframe tbody tr th:only-of-type {\n",
       "        vertical-align: middle;\n",
       "    }\n",
       "\n",
       "    .dataframe tbody tr th {\n",
       "        vertical-align: top;\n",
       "    }\n",
       "\n",
       "    .dataframe thead th {\n",
       "        text-align: right;\n",
       "    }\n",
       "</style>\n",
       "<table border=\"1\" class=\"dataframe\">\n",
       "  <thead>\n",
       "    <tr style=\"text-align: right;\">\n",
       "      <th></th>\n",
       "      <th>date</th>\n",
       "      <th>rougher.input.feed_au</th>\n",
       "      <th>rougher.input.feed_ag</th>\n",
       "      <th>rougher.input.feed_pb</th>\n",
       "      <th>rougher.input.feed_sol</th>\n",
       "      <th>rougher.input.feed_rate</th>\n",
       "      <th>rougher.input.feed_size</th>\n",
       "      <th>rougher.input.floatbank10_sulfate</th>\n",
       "      <th>rougher.input.floatbank10_xanthate</th>\n",
       "      <th>rougher.state.floatbank10_a_air</th>\n",
       "      <th>rougher.state.floatbank10_a_level</th>\n",
       "      <th>rougher.state.floatbank10_b_air</th>\n",
       "      <th>rougher.state.floatbank10_b_level</th>\n",
       "      <th>rougher.state.floatbank10_c_air</th>\n",
       "      <th>rougher.state.floatbank10_c_level</th>\n",
       "      <th>rougher.state.floatbank10_d_air</th>\n",
       "      <th>rougher.state.floatbank10_d_level</th>\n",
       "      <th>rougher.state.floatbank10_e_air</th>\n",
       "      <th>rougher.state.floatbank10_e_level</th>\n",
       "      <th>rougher.state.floatbank10_f_air</th>\n",
       "      <th>rougher.state.floatbank10_f_level</th>\n",
       "      <th>rougher.input.floatbank11_sulfate</th>\n",
       "      <th>rougher.input.floatbank11_xanthate</th>\n",
       "      <th>rougher.calculation.sulfate_to_au_concentrate</th>\n",
       "      <th>rougher.calculation.floatbank10_sulfate_to_au_feed</th>\n",
       "      <th>rougher.calculation.floatbank11_sulfate_to_au_feed</th>\n",
       "      <th>rougher.calculation.au_pb_ratio</th>\n",
       "      <th>rougher.output.concentrate_au</th>\n",
       "      <th>rougher.output.concentrate_ag</th>\n",
       "      <th>rougher.output.concentrate_pb</th>\n",
       "      <th>rougher.output.concentrate_sol</th>\n",
       "      <th>rougher.output.recovery</th>\n",
       "      <th>rougher.output.tail_au</th>\n",
       "      <th>rougher.output.tail_ag</th>\n",
       "      <th>rougher.output.tail_pb</th>\n",
       "      <th>rougher.output.tail_sol</th>\n",
       "      <th>primary_cleaner.input.sulfate</th>\n",
       "      <th>primary_cleaner.input.depressant</th>\n",
       "      <th>primary_cleaner.input.feed_size</th>\n",
       "      <th>primary_cleaner.input.xanthate</th>\n",
       "      <th>primary_cleaner.state.floatbank8_a_air</th>\n",
       "      <th>primary_cleaner.state.floatbank8_a_level</th>\n",
       "      <th>primary_cleaner.state.floatbank8_b_air</th>\n",
       "      <th>primary_cleaner.state.floatbank8_b_level</th>\n",
       "      <th>primary_cleaner.state.floatbank8_c_air</th>\n",
       "      <th>primary_cleaner.state.floatbank8_c_level</th>\n",
       "      <th>primary_cleaner.state.floatbank8_d_air</th>\n",
       "      <th>primary_cleaner.state.floatbank8_d_level</th>\n",
       "      <th>primary_cleaner.output.concentrate_au</th>\n",
       "      <th>primary_cleaner.output.concentrate_ag</th>\n",
       "      <th>primary_cleaner.output.concentrate_pb</th>\n",
       "      <th>primary_cleaner.output.concentrate_sol</th>\n",
       "      <th>primary_cleaner.output.tail_au</th>\n",
       "      <th>primary_cleaner.output.tail_ag</th>\n",
       "      <th>primary_cleaner.output.tail_pb</th>\n",
       "      <th>primary_cleaner.output.tail_sol</th>\n",
       "      <th>secondary_cleaner.state.floatbank2_a_air</th>\n",
       "      <th>secondary_cleaner.state.floatbank2_a_level</th>\n",
       "      <th>secondary_cleaner.state.floatbank2_b_air</th>\n",
       "      <th>secondary_cleaner.state.floatbank2_b_level</th>\n",
       "      <th>secondary_cleaner.state.floatbank3_a_air</th>\n",
       "      <th>secondary_cleaner.state.floatbank3_a_level</th>\n",
       "      <th>secondary_cleaner.state.floatbank3_b_air</th>\n",
       "      <th>secondary_cleaner.state.floatbank3_b_level</th>\n",
       "      <th>secondary_cleaner.state.floatbank4_a_air</th>\n",
       "      <th>secondary_cleaner.state.floatbank4_a_level</th>\n",
       "      <th>secondary_cleaner.state.floatbank4_b_air</th>\n",
       "      <th>secondary_cleaner.state.floatbank4_b_level</th>\n",
       "      <th>secondary_cleaner.state.floatbank5_a_air</th>\n",
       "      <th>secondary_cleaner.state.floatbank5_a_level</th>\n",
       "      <th>secondary_cleaner.state.floatbank5_b_air</th>\n",
       "      <th>secondary_cleaner.state.floatbank5_b_level</th>\n",
       "      <th>secondary_cleaner.state.floatbank6_a_air</th>\n",
       "      <th>secondary_cleaner.state.floatbank6_a_level</th>\n",
       "      <th>secondary_cleaner.output.tail_au</th>\n",
       "      <th>secondary_cleaner.output.tail_ag</th>\n",
       "      <th>secondary_cleaner.output.tail_pb</th>\n",
       "      <th>secondary_cleaner.output.tail_sol</th>\n",
       "      <th>final.output.concentrate_au</th>\n",
       "      <th>final.output.concentrate_ag</th>\n",
       "      <th>final.output.concentrate_pb</th>\n",
       "      <th>final.output.concentrate_sol</th>\n",
       "      <th>final.output.recovery</th>\n",
       "      <th>final.output.tail_au</th>\n",
       "      <th>final.output.tail_ag</th>\n",
       "      <th>final.output.tail_pb</th>\n",
       "      <th>final.output.tail_sol</th>\n",
       "    </tr>\n",
       "  </thead>\n",
       "  <tbody>\n",
       "    <tr>\n",
       "      <th>0</th>\n",
       "      <td>2016-01-15 00:00:00</td>\n",
       "      <td>6.486150</td>\n",
       "      <td>6.100378</td>\n",
       "      <td>2.284912</td>\n",
       "      <td>36.808594</td>\n",
       "      <td>523.546326</td>\n",
       "      <td>55.486599</td>\n",
       "      <td>11.986616</td>\n",
       "      <td>6.007990</td>\n",
       "      <td>999.706909</td>\n",
       "      <td>-404.066986</td>\n",
       "      <td>1603.011353</td>\n",
       "      <td>-434.715027</td>\n",
       "      <td>1602.375000</td>\n",
       "      <td>-442.204468</td>\n",
       "      <td>1598.937256</td>\n",
       "      <td>-451.294128</td>\n",
       "      <td>1404.472046</td>\n",
       "      <td>-455.462982</td>\n",
       "      <td>1416.354980</td>\n",
       "      <td>-451.939636</td>\n",
       "      <td>11.836743</td>\n",
       "      <td>6.005818</td>\n",
       "      <td>41885.707031</td>\n",
       "      <td>3481.779053</td>\n",
       "      <td>3520.337158</td>\n",
       "      <td>2.838687</td>\n",
       "      <td>19.793808</td>\n",
       "      <td>11.500771</td>\n",
       "      <td>7.101074</td>\n",
       "      <td>28.029297</td>\n",
       "      <td>87.107763</td>\n",
       "      <td>1.170244</td>\n",
       "      <td>5.008018</td>\n",
       "      <td>0.508728</td>\n",
       "      <td>19.154297</td>\n",
       "      <td>127.092003</td>\n",
       "      <td>10.128295</td>\n",
       "      <td>7.25</td>\n",
       "      <td>0.988759</td>\n",
       "      <td>1549.775757</td>\n",
       "      <td>-498.912140</td>\n",
       "      <td>1551.434204</td>\n",
       "      <td>-516.403442</td>\n",
       "      <td>1549.873901</td>\n",
       "      <td>-498.666595</td>\n",
       "      <td>1554.367432</td>\n",
       "      <td>-493.428131</td>\n",
       "      <td>34.174427</td>\n",
       "      <td>8.547551</td>\n",
       "      <td>10.389648</td>\n",
       "      <td>19.529297</td>\n",
       "      <td>2.106679</td>\n",
       "      <td>14.936526</td>\n",
       "      <td>2.534912</td>\n",
       "      <td>7.476074</td>\n",
       "      <td>25.853109</td>\n",
       "      <td>-498.526489</td>\n",
       "      <td>23.893660</td>\n",
       "      <td>-501.406281</td>\n",
       "      <td>23.961798</td>\n",
       "      <td>-495.262817</td>\n",
       "      <td>21.940409</td>\n",
       "      <td>-499.340973</td>\n",
       "      <td>14.016835</td>\n",
       "      <td>-502.488007</td>\n",
       "      <td>12.099931</td>\n",
       "      <td>-504.715942</td>\n",
       "      <td>9.925633</td>\n",
       "      <td>-498.310211</td>\n",
       "      <td>8.079666</td>\n",
       "      <td>-500.470978</td>\n",
       "      <td>14.151341</td>\n",
       "      <td>-605.841980</td>\n",
       "      <td>2.606185</td>\n",
       "      <td>14.500184</td>\n",
       "      <td>4.694824</td>\n",
       "      <td>8.764648</td>\n",
       "      <td>42.192020</td>\n",
       "      <td>6.055403</td>\n",
       "      <td>9.889648</td>\n",
       "      <td>5.507324</td>\n",
       "      <td>70.541216</td>\n",
       "      <td>2.143149</td>\n",
       "      <td>10.411962</td>\n",
       "      <td>0.895447</td>\n",
       "      <td>16.904297</td>\n",
       "    </tr>\n",
       "    <tr>\n",
       "      <th>1</th>\n",
       "      <td>2016-01-15 01:00:00</td>\n",
       "      <td>6.478583</td>\n",
       "      <td>6.161113</td>\n",
       "      <td>2.266033</td>\n",
       "      <td>35.753385</td>\n",
       "      <td>525.290581</td>\n",
       "      <td>57.278666</td>\n",
       "      <td>11.971193</td>\n",
       "      <td>6.005766</td>\n",
       "      <td>1000.286398</td>\n",
       "      <td>-400.065196</td>\n",
       "      <td>1600.754587</td>\n",
       "      <td>-449.953435</td>\n",
       "      <td>1600.479580</td>\n",
       "      <td>-449.830646</td>\n",
       "      <td>1600.527589</td>\n",
       "      <td>-449.953649</td>\n",
       "      <td>1399.227084</td>\n",
       "      <td>-450.869848</td>\n",
       "      <td>1399.719514</td>\n",
       "      <td>-450.119001</td>\n",
       "      <td>11.996163</td>\n",
       "      <td>6.012594</td>\n",
       "      <td>42050.861809</td>\n",
       "      <td>3498.370979</td>\n",
       "      <td>3489.981857</td>\n",
       "      <td>2.858998</td>\n",
       "      <td>20.050975</td>\n",
       "      <td>11.615865</td>\n",
       "      <td>7.278807</td>\n",
       "      <td>28.067063</td>\n",
       "      <td>86.843261</td>\n",
       "      <td>1.184827</td>\n",
       "      <td>4.955378</td>\n",
       "      <td>0.536689</td>\n",
       "      <td>18.965234</td>\n",
       "      <td>125.629232</td>\n",
       "      <td>10.296251</td>\n",
       "      <td>7.25</td>\n",
       "      <td>1.002663</td>\n",
       "      <td>1576.166671</td>\n",
       "      <td>-500.904965</td>\n",
       "      <td>1575.950626</td>\n",
       "      <td>-499.865889</td>\n",
       "      <td>1575.994189</td>\n",
       "      <td>-499.315107</td>\n",
       "      <td>1574.479259</td>\n",
       "      <td>-498.931665</td>\n",
       "      <td>34.118526</td>\n",
       "      <td>8.558743</td>\n",
       "      <td>10.497069</td>\n",
       "      <td>19.369147</td>\n",
       "      <td>2.353017</td>\n",
       "      <td>16.250511</td>\n",
       "      <td>3.049646</td>\n",
       "      <td>6.733907</td>\n",
       "      <td>25.880539</td>\n",
       "      <td>-499.989656</td>\n",
       "      <td>23.889530</td>\n",
       "      <td>-500.372428</td>\n",
       "      <td>23.970550</td>\n",
       "      <td>-500.085473</td>\n",
       "      <td>22.085714</td>\n",
       "      <td>-499.446897</td>\n",
       "      <td>13.992281</td>\n",
       "      <td>-505.503262</td>\n",
       "      <td>11.950531</td>\n",
       "      <td>-501.331529</td>\n",
       "      <td>10.039245</td>\n",
       "      <td>-500.169983</td>\n",
       "      <td>7.984757</td>\n",
       "      <td>-500.582168</td>\n",
       "      <td>13.998353</td>\n",
       "      <td>-599.787184</td>\n",
       "      <td>2.488248</td>\n",
       "      <td>14.265474</td>\n",
       "      <td>4.592547</td>\n",
       "      <td>9.001494</td>\n",
       "      <td>42.701629</td>\n",
       "      <td>6.029369</td>\n",
       "      <td>9.968944</td>\n",
       "      <td>5.257781</td>\n",
       "      <td>69.266198</td>\n",
       "      <td>2.224930</td>\n",
       "      <td>10.462676</td>\n",
       "      <td>0.927452</td>\n",
       "      <td>16.634514</td>\n",
       "    </tr>\n",
       "    <tr>\n",
       "      <th>2</th>\n",
       "      <td>2016-01-15 02:00:00</td>\n",
       "      <td>6.362222</td>\n",
       "      <td>6.116455</td>\n",
       "      <td>2.159622</td>\n",
       "      <td>35.971630</td>\n",
       "      <td>530.026610</td>\n",
       "      <td>57.510649</td>\n",
       "      <td>11.920603</td>\n",
       "      <td>6.197377</td>\n",
       "      <td>999.719565</td>\n",
       "      <td>-400.074028</td>\n",
       "      <td>1599.337330</td>\n",
       "      <td>-450.008530</td>\n",
       "      <td>1599.672797</td>\n",
       "      <td>-449.954491</td>\n",
       "      <td>1599.849325</td>\n",
       "      <td>-449.954185</td>\n",
       "      <td>1399.180945</td>\n",
       "      <td>-449.937588</td>\n",
       "      <td>1400.316682</td>\n",
       "      <td>-450.527147</td>\n",
       "      <td>11.920305</td>\n",
       "      <td>6.204633</td>\n",
       "      <td>42018.101184</td>\n",
       "      <td>3495.348910</td>\n",
       "      <td>3502.359819</td>\n",
       "      <td>2.945989</td>\n",
       "      <td>19.737170</td>\n",
       "      <td>11.695753</td>\n",
       "      <td>7.216833</td>\n",
       "      <td>27.454037</td>\n",
       "      <td>86.842308</td>\n",
       "      <td>1.162562</td>\n",
       "      <td>4.843460</td>\n",
       "      <td>0.546416</td>\n",
       "      <td>18.808533</td>\n",
       "      <td>123.819808</td>\n",
       "      <td>11.316280</td>\n",
       "      <td>7.25</td>\n",
       "      <td>0.991265</td>\n",
       "      <td>1601.556163</td>\n",
       "      <td>-499.997791</td>\n",
       "      <td>1600.386685</td>\n",
       "      <td>-500.607762</td>\n",
       "      <td>1602.003542</td>\n",
       "      <td>-500.870069</td>\n",
       "      <td>1599.541515</td>\n",
       "      <td>-499.827444</td>\n",
       "      <td>33.969464</td>\n",
       "      <td>8.603505</td>\n",
       "      <td>10.354494</td>\n",
       "      <td>19.167579</td>\n",
       "      <td>2.416800</td>\n",
       "      <td>16.491823</td>\n",
       "      <td>3.124664</td>\n",
       "      <td>6.471768</td>\n",
       "      <td>26.005245</td>\n",
       "      <td>-499.929616</td>\n",
       "      <td>23.886657</td>\n",
       "      <td>-499.951928</td>\n",
       "      <td>23.913535</td>\n",
       "      <td>-499.442343</td>\n",
       "      <td>23.957717</td>\n",
       "      <td>-499.901982</td>\n",
       "      <td>14.015015</td>\n",
       "      <td>-502.520901</td>\n",
       "      <td>11.912783</td>\n",
       "      <td>-501.133383</td>\n",
       "      <td>10.070913</td>\n",
       "      <td>-500.129135</td>\n",
       "      <td>8.013877</td>\n",
       "      <td>-500.517572</td>\n",
       "      <td>14.028663</td>\n",
       "      <td>-601.427363</td>\n",
       "      <td>2.458187</td>\n",
       "      <td>14.115662</td>\n",
       "      <td>4.624775</td>\n",
       "      <td>8.842896</td>\n",
       "      <td>42.657501</td>\n",
       "      <td>6.055926</td>\n",
       "      <td>10.213995</td>\n",
       "      <td>5.383759</td>\n",
       "      <td>68.116445</td>\n",
       "      <td>2.257889</td>\n",
       "      <td>10.507046</td>\n",
       "      <td>0.953716</td>\n",
       "      <td>16.208849</td>\n",
       "    </tr>\n",
       "    <tr>\n",
       "      <th>3</th>\n",
       "      <td>2016-01-15 03:00:00</td>\n",
       "      <td>6.118189</td>\n",
       "      <td>6.043309</td>\n",
       "      <td>2.037807</td>\n",
       "      <td>36.862241</td>\n",
       "      <td>542.590390</td>\n",
       "      <td>57.792734</td>\n",
       "      <td>11.630094</td>\n",
       "      <td>6.203177</td>\n",
       "      <td>999.814770</td>\n",
       "      <td>-400.200179</td>\n",
       "      <td>1600.059442</td>\n",
       "      <td>-450.619948</td>\n",
       "      <td>1600.012842</td>\n",
       "      <td>-449.910497</td>\n",
       "      <td>1597.725177</td>\n",
       "      <td>-450.130127</td>\n",
       "      <td>1400.943157</td>\n",
       "      <td>-450.030142</td>\n",
       "      <td>1400.234743</td>\n",
       "      <td>-449.790835</td>\n",
       "      <td>11.692450</td>\n",
       "      <td>6.196578</td>\n",
       "      <td>42029.447991</td>\n",
       "      <td>3498.578313</td>\n",
       "      <td>3499.162912</td>\n",
       "      <td>3.002340</td>\n",
       "      <td>19.320810</td>\n",
       "      <td>11.915047</td>\n",
       "      <td>7.175616</td>\n",
       "      <td>27.341277</td>\n",
       "      <td>87.226430</td>\n",
       "      <td>1.079755</td>\n",
       "      <td>4.655288</td>\n",
       "      <td>0.542525</td>\n",
       "      <td>19.330200</td>\n",
       "      <td>122.270188</td>\n",
       "      <td>11.322140</td>\n",
       "      <td>7.25</td>\n",
       "      <td>0.996739</td>\n",
       "      <td>1599.968720</td>\n",
       "      <td>-500.951778</td>\n",
       "      <td>1600.659236</td>\n",
       "      <td>-499.677094</td>\n",
       "      <td>1600.304144</td>\n",
       "      <td>-500.727997</td>\n",
       "      <td>1600.449520</td>\n",
       "      <td>-500.052575</td>\n",
       "      <td>28.260743</td>\n",
       "      <td>7.221879</td>\n",
       "      <td>8.496563</td>\n",
       "      <td>15.978538</td>\n",
       "      <td>2.262051</td>\n",
       "      <td>16.024359</td>\n",
       "      <td>2.960362</td>\n",
       "      <td>6.843791</td>\n",
       "      <td>25.942508</td>\n",
       "      <td>-499.176749</td>\n",
       "      <td>23.955516</td>\n",
       "      <td>-499.848796</td>\n",
       "      <td>23.966838</td>\n",
       "      <td>-500.008812</td>\n",
       "      <td>23.954443</td>\n",
       "      <td>-499.944710</td>\n",
       "      <td>14.036510</td>\n",
       "      <td>-500.857308</td>\n",
       "      <td>11.999550</td>\n",
       "      <td>-501.193686</td>\n",
       "      <td>9.970366</td>\n",
       "      <td>-499.201640</td>\n",
       "      <td>7.977324</td>\n",
       "      <td>-500.255908</td>\n",
       "      <td>14.005551</td>\n",
       "      <td>-599.996129</td>\n",
       "      <td>2.322062</td>\n",
       "      <td>13.732071</td>\n",
       "      <td>4.482453</td>\n",
       "      <td>9.122857</td>\n",
       "      <td>42.689819</td>\n",
       "      <td>6.047977</td>\n",
       "      <td>9.977019</td>\n",
       "      <td>4.858634</td>\n",
       "      <td>68.347543</td>\n",
       "      <td>2.146849</td>\n",
       "      <td>10.422762</td>\n",
       "      <td>0.883763</td>\n",
       "      <td>16.532835</td>\n",
       "    </tr>\n",
       "    <tr>\n",
       "      <th>4</th>\n",
       "      <td>2016-01-15 04:00:00</td>\n",
       "      <td>5.663707</td>\n",
       "      <td>6.060915</td>\n",
       "      <td>1.786875</td>\n",
       "      <td>34.347666</td>\n",
       "      <td>540.531893</td>\n",
       "      <td>56.047189</td>\n",
       "      <td>10.957755</td>\n",
       "      <td>6.198826</td>\n",
       "      <td>999.678690</td>\n",
       "      <td>-399.752729</td>\n",
       "      <td>1600.208824</td>\n",
       "      <td>-449.599614</td>\n",
       "      <td>1600.357732</td>\n",
       "      <td>-450.034364</td>\n",
       "      <td>1599.759049</td>\n",
       "      <td>-449.909799</td>\n",
       "      <td>1401.560902</td>\n",
       "      <td>-448.877187</td>\n",
       "      <td>1401.160227</td>\n",
       "      <td>-450.407128</td>\n",
       "      <td>10.960521</td>\n",
       "      <td>6.194897</td>\n",
       "      <td>42125.354245</td>\n",
       "      <td>3494.800771</td>\n",
       "      <td>3506.679315</td>\n",
       "      <td>3.169615</td>\n",
       "      <td>19.216101</td>\n",
       "      <td>12.411054</td>\n",
       "      <td>7.240205</td>\n",
       "      <td>27.041023</td>\n",
       "      <td>86.688794</td>\n",
       "      <td>1.012642</td>\n",
       "      <td>4.552800</td>\n",
       "      <td>0.515438</td>\n",
       "      <td>19.267422</td>\n",
       "      <td>117.988169</td>\n",
       "      <td>11.913613</td>\n",
       "      <td>7.25</td>\n",
       "      <td>1.009869</td>\n",
       "      <td>1601.339707</td>\n",
       "      <td>-498.975456</td>\n",
       "      <td>1601.437854</td>\n",
       "      <td>-500.323246</td>\n",
       "      <td>1599.581894</td>\n",
       "      <td>-500.888152</td>\n",
       "      <td>1602.649541</td>\n",
       "      <td>-500.593010</td>\n",
       "      <td>33.044932</td>\n",
       "      <td>9.089428</td>\n",
       "      <td>9.986786</td>\n",
       "      <td>19.199864</td>\n",
       "      <td>2.277073</td>\n",
       "      <td>16.480185</td>\n",
       "      <td>3.112100</td>\n",
       "      <td>6.550154</td>\n",
       "      <td>26.024787</td>\n",
       "      <td>-500.279091</td>\n",
       "      <td>23.955345</td>\n",
       "      <td>-500.593614</td>\n",
       "      <td>23.985703</td>\n",
       "      <td>-500.083811</td>\n",
       "      <td>23.958945</td>\n",
       "      <td>-499.990309</td>\n",
       "      <td>14.027298</td>\n",
       "      <td>-499.838632</td>\n",
       "      <td>11.953070</td>\n",
       "      <td>-501.053894</td>\n",
       "      <td>9.925709</td>\n",
       "      <td>-501.686727</td>\n",
       "      <td>7.894242</td>\n",
       "      <td>-500.356035</td>\n",
       "      <td>13.996647</td>\n",
       "      <td>-601.496691</td>\n",
       "      <td>2.330448</td>\n",
       "      <td>14.079996</td>\n",
       "      <td>4.470737</td>\n",
       "      <td>8.871028</td>\n",
       "      <td>42.774141</td>\n",
       "      <td>6.148599</td>\n",
       "      <td>10.142511</td>\n",
       "      <td>4.939416</td>\n",
       "      <td>66.927016</td>\n",
       "      <td>2.055292</td>\n",
       "      <td>10.360302</td>\n",
       "      <td>0.792826</td>\n",
       "      <td>16.525686</td>\n",
       "    </tr>\n",
       "  </tbody>\n",
       "</table>\n",
       "</div>"
      ],
      "text/plain": [
       "                  date  rougher.input.feed_au  rougher.input.feed_ag  \\\n",
       "0  2016-01-15 00:00:00               6.486150               6.100378   \n",
       "1  2016-01-15 01:00:00               6.478583               6.161113   \n",
       "2  2016-01-15 02:00:00               6.362222               6.116455   \n",
       "3  2016-01-15 03:00:00               6.118189               6.043309   \n",
       "4  2016-01-15 04:00:00               5.663707               6.060915   \n",
       "\n",
       "   rougher.input.feed_pb  rougher.input.feed_sol  rougher.input.feed_rate  \\\n",
       "0               2.284912               36.808594               523.546326   \n",
       "1               2.266033               35.753385               525.290581   \n",
       "2               2.159622               35.971630               530.026610   \n",
       "3               2.037807               36.862241               542.590390   \n",
       "4               1.786875               34.347666               540.531893   \n",
       "\n",
       "   rougher.input.feed_size  rougher.input.floatbank10_sulfate  \\\n",
       "0                55.486599                          11.986616   \n",
       "1                57.278666                          11.971193   \n",
       "2                57.510649                          11.920603   \n",
       "3                57.792734                          11.630094   \n",
       "4                56.047189                          10.957755   \n",
       "\n",
       "   rougher.input.floatbank10_xanthate  rougher.state.floatbank10_a_air  \\\n",
       "0                            6.007990                       999.706909   \n",
       "1                            6.005766                      1000.286398   \n",
       "2                            6.197377                       999.719565   \n",
       "3                            6.203177                       999.814770   \n",
       "4                            6.198826                       999.678690   \n",
       "\n",
       "   rougher.state.floatbank10_a_level  rougher.state.floatbank10_b_air  \\\n",
       "0                        -404.066986                      1603.011353   \n",
       "1                        -400.065196                      1600.754587   \n",
       "2                        -400.074028                      1599.337330   \n",
       "3                        -400.200179                      1600.059442   \n",
       "4                        -399.752729                      1600.208824   \n",
       "\n",
       "   rougher.state.floatbank10_b_level  rougher.state.floatbank10_c_air  \\\n",
       "0                        -434.715027                      1602.375000   \n",
       "1                        -449.953435                      1600.479580   \n",
       "2                        -450.008530                      1599.672797   \n",
       "3                        -450.619948                      1600.012842   \n",
       "4                        -449.599614                      1600.357732   \n",
       "\n",
       "   rougher.state.floatbank10_c_level  rougher.state.floatbank10_d_air  \\\n",
       "0                        -442.204468                      1598.937256   \n",
       "1                        -449.830646                      1600.527589   \n",
       "2                        -449.954491                      1599.849325   \n",
       "3                        -449.910497                      1597.725177   \n",
       "4                        -450.034364                      1599.759049   \n",
       "\n",
       "   rougher.state.floatbank10_d_level  rougher.state.floatbank10_e_air  \\\n",
       "0                        -451.294128                      1404.472046   \n",
       "1                        -449.953649                      1399.227084   \n",
       "2                        -449.954185                      1399.180945   \n",
       "3                        -450.130127                      1400.943157   \n",
       "4                        -449.909799                      1401.560902   \n",
       "\n",
       "   rougher.state.floatbank10_e_level  rougher.state.floatbank10_f_air  \\\n",
       "0                        -455.462982                      1416.354980   \n",
       "1                        -450.869848                      1399.719514   \n",
       "2                        -449.937588                      1400.316682   \n",
       "3                        -450.030142                      1400.234743   \n",
       "4                        -448.877187                      1401.160227   \n",
       "\n",
       "   rougher.state.floatbank10_f_level  rougher.input.floatbank11_sulfate  \\\n",
       "0                        -451.939636                          11.836743   \n",
       "1                        -450.119001                          11.996163   \n",
       "2                        -450.527147                          11.920305   \n",
       "3                        -449.790835                          11.692450   \n",
       "4                        -450.407128                          10.960521   \n",
       "\n",
       "   rougher.input.floatbank11_xanthate  \\\n",
       "0                            6.005818   \n",
       "1                            6.012594   \n",
       "2                            6.204633   \n",
       "3                            6.196578   \n",
       "4                            6.194897   \n",
       "\n",
       "   rougher.calculation.sulfate_to_au_concentrate  \\\n",
       "0                                   41885.707031   \n",
       "1                                   42050.861809   \n",
       "2                                   42018.101184   \n",
       "3                                   42029.447991   \n",
       "4                                   42125.354245   \n",
       "\n",
       "   rougher.calculation.floatbank10_sulfate_to_au_feed  \\\n",
       "0                                        3481.779053    \n",
       "1                                        3498.370979    \n",
       "2                                        3495.348910    \n",
       "3                                        3498.578313    \n",
       "4                                        3494.800771    \n",
       "\n",
       "   rougher.calculation.floatbank11_sulfate_to_au_feed  \\\n",
       "0                                        3520.337158    \n",
       "1                                        3489.981857    \n",
       "2                                        3502.359819    \n",
       "3                                        3499.162912    \n",
       "4                                        3506.679315    \n",
       "\n",
       "   rougher.calculation.au_pb_ratio  rougher.output.concentrate_au  \\\n",
       "0                         2.838687                      19.793808   \n",
       "1                         2.858998                      20.050975   \n",
       "2                         2.945989                      19.737170   \n",
       "3                         3.002340                      19.320810   \n",
       "4                         3.169615                      19.216101   \n",
       "\n",
       "   rougher.output.concentrate_ag  rougher.output.concentrate_pb  \\\n",
       "0                      11.500771                       7.101074   \n",
       "1                      11.615865                       7.278807   \n",
       "2                      11.695753                       7.216833   \n",
       "3                      11.915047                       7.175616   \n",
       "4                      12.411054                       7.240205   \n",
       "\n",
       "   rougher.output.concentrate_sol  rougher.output.recovery  \\\n",
       "0                       28.029297                87.107763   \n",
       "1                       28.067063                86.843261   \n",
       "2                       27.454037                86.842308   \n",
       "3                       27.341277                87.226430   \n",
       "4                       27.041023                86.688794   \n",
       "\n",
       "   rougher.output.tail_au  rougher.output.tail_ag  rougher.output.tail_pb  \\\n",
       "0                1.170244                5.008018                0.508728   \n",
       "1                1.184827                4.955378                0.536689   \n",
       "2                1.162562                4.843460                0.546416   \n",
       "3                1.079755                4.655288                0.542525   \n",
       "4                1.012642                4.552800                0.515438   \n",
       "\n",
       "   rougher.output.tail_sol  primary_cleaner.input.sulfate  \\\n",
       "0                19.154297                     127.092003   \n",
       "1                18.965234                     125.629232   \n",
       "2                18.808533                     123.819808   \n",
       "3                19.330200                     122.270188   \n",
       "4                19.267422                     117.988169   \n",
       "\n",
       "   primary_cleaner.input.depressant  primary_cleaner.input.feed_size  \\\n",
       "0                         10.128295                             7.25   \n",
       "1                         10.296251                             7.25   \n",
       "2                         11.316280                             7.25   \n",
       "3                         11.322140                             7.25   \n",
       "4                         11.913613                             7.25   \n",
       "\n",
       "   primary_cleaner.input.xanthate  primary_cleaner.state.floatbank8_a_air  \\\n",
       "0                        0.988759                             1549.775757   \n",
       "1                        1.002663                             1576.166671   \n",
       "2                        0.991265                             1601.556163   \n",
       "3                        0.996739                             1599.968720   \n",
       "4                        1.009869                             1601.339707   \n",
       "\n",
       "   primary_cleaner.state.floatbank8_a_level  \\\n",
       "0                               -498.912140   \n",
       "1                               -500.904965   \n",
       "2                               -499.997791   \n",
       "3                               -500.951778   \n",
       "4                               -498.975456   \n",
       "\n",
       "   primary_cleaner.state.floatbank8_b_air  \\\n",
       "0                             1551.434204   \n",
       "1                             1575.950626   \n",
       "2                             1600.386685   \n",
       "3                             1600.659236   \n",
       "4                             1601.437854   \n",
       "\n",
       "   primary_cleaner.state.floatbank8_b_level  \\\n",
       "0                               -516.403442   \n",
       "1                               -499.865889   \n",
       "2                               -500.607762   \n",
       "3                               -499.677094   \n",
       "4                               -500.323246   \n",
       "\n",
       "   primary_cleaner.state.floatbank8_c_air  \\\n",
       "0                             1549.873901   \n",
       "1                             1575.994189   \n",
       "2                             1602.003542   \n",
       "3                             1600.304144   \n",
       "4                             1599.581894   \n",
       "\n",
       "   primary_cleaner.state.floatbank8_c_level  \\\n",
       "0                               -498.666595   \n",
       "1                               -499.315107   \n",
       "2                               -500.870069   \n",
       "3                               -500.727997   \n",
       "4                               -500.888152   \n",
       "\n",
       "   primary_cleaner.state.floatbank8_d_air  \\\n",
       "0                             1554.367432   \n",
       "1                             1574.479259   \n",
       "2                             1599.541515   \n",
       "3                             1600.449520   \n",
       "4                             1602.649541   \n",
       "\n",
       "   primary_cleaner.state.floatbank8_d_level  \\\n",
       "0                               -493.428131   \n",
       "1                               -498.931665   \n",
       "2                               -499.827444   \n",
       "3                               -500.052575   \n",
       "4                               -500.593010   \n",
       "\n",
       "   primary_cleaner.output.concentrate_au  \\\n",
       "0                              34.174427   \n",
       "1                              34.118526   \n",
       "2                              33.969464   \n",
       "3                              28.260743   \n",
       "4                              33.044932   \n",
       "\n",
       "   primary_cleaner.output.concentrate_ag  \\\n",
       "0                               8.547551   \n",
       "1                               8.558743   \n",
       "2                               8.603505   \n",
       "3                               7.221879   \n",
       "4                               9.089428   \n",
       "\n",
       "   primary_cleaner.output.concentrate_pb  \\\n",
       "0                              10.389648   \n",
       "1                              10.497069   \n",
       "2                              10.354494   \n",
       "3                               8.496563   \n",
       "4                               9.986786   \n",
       "\n",
       "   primary_cleaner.output.concentrate_sol  primary_cleaner.output.tail_au  \\\n",
       "0                               19.529297                        2.106679   \n",
       "1                               19.369147                        2.353017   \n",
       "2                               19.167579                        2.416800   \n",
       "3                               15.978538                        2.262051   \n",
       "4                               19.199864                        2.277073   \n",
       "\n",
       "   primary_cleaner.output.tail_ag  primary_cleaner.output.tail_pb  \\\n",
       "0                       14.936526                        2.534912   \n",
       "1                       16.250511                        3.049646   \n",
       "2                       16.491823                        3.124664   \n",
       "3                       16.024359                        2.960362   \n",
       "4                       16.480185                        3.112100   \n",
       "\n",
       "   primary_cleaner.output.tail_sol  secondary_cleaner.state.floatbank2_a_air  \\\n",
       "0                         7.476074                                 25.853109   \n",
       "1                         6.733907                                 25.880539   \n",
       "2                         6.471768                                 26.005245   \n",
       "3                         6.843791                                 25.942508   \n",
       "4                         6.550154                                 26.024787   \n",
       "\n",
       "   secondary_cleaner.state.floatbank2_a_level  \\\n",
       "0                                 -498.526489   \n",
       "1                                 -499.989656   \n",
       "2                                 -499.929616   \n",
       "3                                 -499.176749   \n",
       "4                                 -500.279091   \n",
       "\n",
       "   secondary_cleaner.state.floatbank2_b_air  \\\n",
       "0                                 23.893660   \n",
       "1                                 23.889530   \n",
       "2                                 23.886657   \n",
       "3                                 23.955516   \n",
       "4                                 23.955345   \n",
       "\n",
       "   secondary_cleaner.state.floatbank2_b_level  \\\n",
       "0                                 -501.406281   \n",
       "1                                 -500.372428   \n",
       "2                                 -499.951928   \n",
       "3                                 -499.848796   \n",
       "4                                 -500.593614   \n",
       "\n",
       "   secondary_cleaner.state.floatbank3_a_air  \\\n",
       "0                                 23.961798   \n",
       "1                                 23.970550   \n",
       "2                                 23.913535   \n",
       "3                                 23.966838   \n",
       "4                                 23.985703   \n",
       "\n",
       "   secondary_cleaner.state.floatbank3_a_level  \\\n",
       "0                                 -495.262817   \n",
       "1                                 -500.085473   \n",
       "2                                 -499.442343   \n",
       "3                                 -500.008812   \n",
       "4                                 -500.083811   \n",
       "\n",
       "   secondary_cleaner.state.floatbank3_b_air  \\\n",
       "0                                 21.940409   \n",
       "1                                 22.085714   \n",
       "2                                 23.957717   \n",
       "3                                 23.954443   \n",
       "4                                 23.958945   \n",
       "\n",
       "   secondary_cleaner.state.floatbank3_b_level  \\\n",
       "0                                 -499.340973   \n",
       "1                                 -499.446897   \n",
       "2                                 -499.901982   \n",
       "3                                 -499.944710   \n",
       "4                                 -499.990309   \n",
       "\n",
       "   secondary_cleaner.state.floatbank4_a_air  \\\n",
       "0                                 14.016835   \n",
       "1                                 13.992281   \n",
       "2                                 14.015015   \n",
       "3                                 14.036510   \n",
       "4                                 14.027298   \n",
       "\n",
       "   secondary_cleaner.state.floatbank4_a_level  \\\n",
       "0                                 -502.488007   \n",
       "1                                 -505.503262   \n",
       "2                                 -502.520901   \n",
       "3                                 -500.857308   \n",
       "4                                 -499.838632   \n",
       "\n",
       "   secondary_cleaner.state.floatbank4_b_air  \\\n",
       "0                                 12.099931   \n",
       "1                                 11.950531   \n",
       "2                                 11.912783   \n",
       "3                                 11.999550   \n",
       "4                                 11.953070   \n",
       "\n",
       "   secondary_cleaner.state.floatbank4_b_level  \\\n",
       "0                                 -504.715942   \n",
       "1                                 -501.331529   \n",
       "2                                 -501.133383   \n",
       "3                                 -501.193686   \n",
       "4                                 -501.053894   \n",
       "\n",
       "   secondary_cleaner.state.floatbank5_a_air  \\\n",
       "0                                  9.925633   \n",
       "1                                 10.039245   \n",
       "2                                 10.070913   \n",
       "3                                  9.970366   \n",
       "4                                  9.925709   \n",
       "\n",
       "   secondary_cleaner.state.floatbank5_a_level  \\\n",
       "0                                 -498.310211   \n",
       "1                                 -500.169983   \n",
       "2                                 -500.129135   \n",
       "3                                 -499.201640   \n",
       "4                                 -501.686727   \n",
       "\n",
       "   secondary_cleaner.state.floatbank5_b_air  \\\n",
       "0                                  8.079666   \n",
       "1                                  7.984757   \n",
       "2                                  8.013877   \n",
       "3                                  7.977324   \n",
       "4                                  7.894242   \n",
       "\n",
       "   secondary_cleaner.state.floatbank5_b_level  \\\n",
       "0                                 -500.470978   \n",
       "1                                 -500.582168   \n",
       "2                                 -500.517572   \n",
       "3                                 -500.255908   \n",
       "4                                 -500.356035   \n",
       "\n",
       "   secondary_cleaner.state.floatbank6_a_air  \\\n",
       "0                                 14.151341   \n",
       "1                                 13.998353   \n",
       "2                                 14.028663   \n",
       "3                                 14.005551   \n",
       "4                                 13.996647   \n",
       "\n",
       "   secondary_cleaner.state.floatbank6_a_level  \\\n",
       "0                                 -605.841980   \n",
       "1                                 -599.787184   \n",
       "2                                 -601.427363   \n",
       "3                                 -599.996129   \n",
       "4                                 -601.496691   \n",
       "\n",
       "   secondary_cleaner.output.tail_au  secondary_cleaner.output.tail_ag  \\\n",
       "0                          2.606185                         14.500184   \n",
       "1                          2.488248                         14.265474   \n",
       "2                          2.458187                         14.115662   \n",
       "3                          2.322062                         13.732071   \n",
       "4                          2.330448                         14.079996   \n",
       "\n",
       "   secondary_cleaner.output.tail_pb  secondary_cleaner.output.tail_sol  \\\n",
       "0                          4.694824                           8.764648   \n",
       "1                          4.592547                           9.001494   \n",
       "2                          4.624775                           8.842896   \n",
       "3                          4.482453                           9.122857   \n",
       "4                          4.470737                           8.871028   \n",
       "\n",
       "   final.output.concentrate_au  final.output.concentrate_ag  \\\n",
       "0                    42.192020                     6.055403   \n",
       "1                    42.701629                     6.029369   \n",
       "2                    42.657501                     6.055926   \n",
       "3                    42.689819                     6.047977   \n",
       "4                    42.774141                     6.148599   \n",
       "\n",
       "   final.output.concentrate_pb  final.output.concentrate_sol  \\\n",
       "0                     9.889648                      5.507324   \n",
       "1                     9.968944                      5.257781   \n",
       "2                    10.213995                      5.383759   \n",
       "3                     9.977019                      4.858634   \n",
       "4                    10.142511                      4.939416   \n",
       "\n",
       "   final.output.recovery  final.output.tail_au  final.output.tail_ag  \\\n",
       "0              70.541216              2.143149             10.411962   \n",
       "1              69.266198              2.224930             10.462676   \n",
       "2              68.116445              2.257889             10.507046   \n",
       "3              68.347543              2.146849             10.422762   \n",
       "4              66.927016              2.055292             10.360302   \n",
       "\n",
       "   final.output.tail_pb  final.output.tail_sol  \n",
       "0              0.895447              16.904297  \n",
       "1              0.927452              16.634514  \n",
       "2              0.953716              16.208849  \n",
       "3              0.883763              16.532835  \n",
       "4              0.792826              16.525686  "
      ]
     },
     "execution_count": 32,
     "metadata": {},
     "output_type": "execute_result"
    }
   ],
   "source": [
    "df_train.head()"
   ]
  },
  {
   "cell_type": "code",
   "execution_count": 35,
   "metadata": {
    "scrolled": true
   },
   "outputs": [
    {
     "data": {
      "image/png": "[encoded data removed]",
      "text/plain": [
       "<Figure size 432x288 with 1 Axes>"
      ]
     },
     "metadata": {
      "needs_background": "light"
     },
     "output_type": "display_data"
    },
    {
     "data": {
      "image/png": "[encoded data removed]",
      "text/plain": [
       "<Figure size 432x288 with 1 Axes>"
      ]
     },
     "metadata": {
      "needs_background": "light"
     },
     "output_type": "display_data"
    },
    {
     "data": {
      "image/png": "[encoded data removed]",
      "text/plain": [
       "<Figure size 432x288 with 1 Axes>"
      ]
     },
     "metadata": {
      "needs_background": "light"
     },
     "output_type": "display_data"
    },
    {
     "data": {
      "image/png": "[encoded data removed]",
      "text/plain": [
       "<Figure size 432x288 with 1 Axes>"
      ]
     },
     "metadata": {
      "needs_background": "light"
     },
     "output_type": "display_data"
    }
   ],
   "source": [
    "metal_list = [['rougher.input.feed_au', 'rougher.input.feed_ag', \n",
    "               'rougher.input.feed_pb', 'rougher.input.feed_sol'],\n",
    "             ['rougher.output.concentrate_au',\n",
    "       'rougher.output.concentrate_ag', 'rougher.output.concentrate_pb',\n",
    "       'rougher.output.concentrate_sol'],\n",
    "             ['primary_cleaner.output.concentrate_au',\n",
    "       'primary_cleaner.output.concentrate_ag',\n",
    "       'primary_cleaner.output.concentrate_pb',\n",
    "       'primary_cleaner.output.concentrate_sol'],\n",
    "             ['final.output.concentrate_au', 'final.output.concentrate_ag',\n",
    "       'final.output.concentrate_pb', 'final.output.concentrate_sol']]\n",
    "\n",
    "titles = ['rougher.input', 'rougher.output', 'primary_cleaner.output', 'final.output']\n",
    "\n",
    "for metals, title in zip(metal_list, titles):\n",
    "    fig, axs = plt.subplots()\n",
    "    plt.title(title)\n",
    "    df_train[metals].agg('sum', axis=1).hist(bins=30)"
   ]
  },
  {
   "cell_type": "markdown",
   "metadata": {},
   "source": [
    "Интересный столбик в районе нуля - он говорит нам, что в некоторых партиях после определенных этапов мы якобы получаем на выходе полное или почти полное отсутствие каких-либо металлов. Которые тем не менее потом появляются в той же партии.  \n",
    "Скорее всего ошибка ввода данных. Посчитаем сколько таких ошибок"
   ]
  },
  {
   "cell_type": "code",
   "execution_count": 37,
   "metadata": {
    "scrolled": true
   },
   "outputs": [
    {
     "data": {
      "text/html": [
       "<div>\n",
       "<style scoped>\n",
       "    .dataframe tbody tr th:only-of-type {\n",
       "        vertical-align: middle;\n",
       "    }\n",
       "\n",
       "    .dataframe tbody tr th {\n",
       "        vertical-align: top;\n",
       "    }\n",
       "\n",
       "    .dataframe thead th {\n",
       "        text-align: right;\n",
       "    }\n",
       "</style>\n",
       "<table border=\"1\" class=\"dataframe\">\n",
       "  <thead>\n",
       "    <tr style=\"text-align: right;\">\n",
       "      <th></th>\n",
       "      <th>rougher.input.metal</th>\n",
       "      <th>rougher.output.metal</th>\n",
       "      <th>primary_cleaner.output.metal</th>\n",
       "      <th>final.output.metal</th>\n",
       "    </tr>\n",
       "  </thead>\n",
       "  <tbody>\n",
       "    <tr>\n",
       "      <th>984</th>\n",
       "      <td>8.219283</td>\n",
       "      <td>0.000000</td>\n",
       "      <td>1.652472</td>\n",
       "      <td>4.759584</td>\n",
       "    </tr>\n",
       "    <tr>\n",
       "      <th>1482</th>\n",
       "      <td>8.429133</td>\n",
       "      <td>2.016647</td>\n",
       "      <td>1.278167</td>\n",
       "      <td>12.791077</td>\n",
       "    </tr>\n",
       "    <tr>\n",
       "      <th>3668</th>\n",
       "      <td>4.501868</td>\n",
       "      <td>0.000000</td>\n",
       "      <td>0.000000</td>\n",
       "      <td>0.000000</td>\n",
       "    </tr>\n",
       "    <tr>\n",
       "      <th>9278</th>\n",
       "      <td>9.468028</td>\n",
       "      <td>0.000000</td>\n",
       "      <td>22.019680</td>\n",
       "      <td>17.067616</td>\n",
       "    </tr>\n",
       "    <tr>\n",
       "      <th>10645</th>\n",
       "      <td>8.072476</td>\n",
       "      <td>18.856160</td>\n",
       "      <td>9.390157</td>\n",
       "      <td>5.945843</td>\n",
       "    </tr>\n",
       "  </tbody>\n",
       "</table>\n",
       "</div>"
      ],
      "text/plain": [
       "       rougher.input.metal  rougher.output.metal  \\\n",
       "984               8.219283              0.000000   \n",
       "1482              8.429133              2.016647   \n",
       "3668              4.501868              0.000000   \n",
       "9278              9.468028              0.000000   \n",
       "10645             8.072476             18.856160   \n",
       "\n",
       "       primary_cleaner.output.metal  final.output.metal  \n",
       "984                        1.652472            4.759584  \n",
       "1482                       1.278167           12.791077  \n",
       "3668                       0.000000            0.000000  \n",
       "9278                      22.019680           17.067616  \n",
       "10645                      9.390157            5.945843  "
      ]
     },
     "metadata": {},
     "output_type": "display_data"
    },
    {
     "name": "stdout",
     "output_type": "stream",
     "text": [
      "-------------------------------------------------------\n"
     ]
    },
    {
     "data": {
      "text/html": [
       "<div>\n",
       "<style scoped>\n",
       "    .dataframe tbody tr th:only-of-type {\n",
       "        vertical-align: middle;\n",
       "    }\n",
       "\n",
       "    .dataframe tbody tr th {\n",
       "        vertical-align: top;\n",
       "    }\n",
       "\n",
       "    .dataframe thead th {\n",
       "        text-align: right;\n",
       "    }\n",
       "</style>\n",
       "<table border=\"1\" class=\"dataframe\">\n",
       "  <thead>\n",
       "    <tr style=\"text-align: right;\">\n",
       "      <th></th>\n",
       "      <th>rougher.input.metal</th>\n",
       "      <th>rougher.output.metal</th>\n",
       "      <th>primary_cleaner.output.metal</th>\n",
       "      <th>final.output.metal</th>\n",
       "    </tr>\n",
       "  </thead>\n",
       "  <tbody>\n",
       "    <tr>\n",
       "      <th>36</th>\n",
       "      <td>58.602038</td>\n",
       "      <td>0.0</td>\n",
       "      <td>74.992510</td>\n",
       "      <td>66.175996</td>\n",
       "    </tr>\n",
       "    <tr>\n",
       "      <th>37</th>\n",
       "      <td>59.921613</td>\n",
       "      <td>0.0</td>\n",
       "      <td>75.187102</td>\n",
       "      <td>66.794250</td>\n",
       "    </tr>\n",
       "    <tr>\n",
       "      <th>38</th>\n",
       "      <td>57.269041</td>\n",
       "      <td>0.0</td>\n",
       "      <td>75.513787</td>\n",
       "      <td>67.572604</td>\n",
       "    </tr>\n",
       "    <tr>\n",
       "      <th>39</th>\n",
       "      <td>25.352358</td>\n",
       "      <td>0.0</td>\n",
       "      <td>75.491415</td>\n",
       "      <td>65.598903</td>\n",
       "    </tr>\n",
       "    <tr>\n",
       "      <th>40</th>\n",
       "      <td>40.721375</td>\n",
       "      <td>0.0</td>\n",
       "      <td>71.837866</td>\n",
       "      <td>63.445359</td>\n",
       "    </tr>\n",
       "  </tbody>\n",
       "</table>\n",
       "</div>"
      ],
      "text/plain": [
       "    rougher.input.metal  rougher.output.metal  primary_cleaner.output.metal  \\\n",
       "36            58.602038                   0.0                     74.992510   \n",
       "37            59.921613                   0.0                     75.187102   \n",
       "38            57.269041                   0.0                     75.513787   \n",
       "39            25.352358                   0.0                     75.491415   \n",
       "40            40.721375                   0.0                     71.837866   \n",
       "\n",
       "    final.output.metal  \n",
       "36           66.175996  \n",
       "37           66.794250  \n",
       "38           67.572604  \n",
       "39           65.598903  \n",
       "40           63.445359  "
      ]
     },
     "metadata": {},
     "output_type": "display_data"
    },
    {
     "name": "stdout",
     "output_type": "stream",
     "text": [
      "-------------------------------------------------------\n"
     ]
    },
    {
     "data": {
      "text/html": [
       "<div>\n",
       "<style scoped>\n",
       "    .dataframe tbody tr th:only-of-type {\n",
       "        vertical-align: middle;\n",
       "    }\n",
       "\n",
       "    .dataframe tbody tr th {\n",
       "        vertical-align: top;\n",
       "    }\n",
       "\n",
       "    .dataframe thead th {\n",
       "        text-align: right;\n",
       "    }\n",
       "</style>\n",
       "<table border=\"1\" class=\"dataframe\">\n",
       "  <thead>\n",
       "    <tr style=\"text-align: right;\">\n",
       "      <th></th>\n",
       "      <th>rougher.input.metal</th>\n",
       "      <th>rougher.output.metal</th>\n",
       "      <th>primary_cleaner.output.metal</th>\n",
       "      <th>final.output.metal</th>\n",
       "    </tr>\n",
       "  </thead>\n",
       "  <tbody>\n",
       "    <tr>\n",
       "      <th>14</th>\n",
       "      <td>56.005644</td>\n",
       "      <td>62.930764</td>\n",
       "      <td>0.000000</td>\n",
       "      <td>64.546766</td>\n",
       "    </tr>\n",
       "    <tr>\n",
       "      <th>16</th>\n",
       "      <td>57.481679</td>\n",
       "      <td>63.039013</td>\n",
       "      <td>7.488378</td>\n",
       "      <td>64.941935</td>\n",
       "    </tr>\n",
       "    <tr>\n",
       "      <th>17</th>\n",
       "      <td>56.038252</td>\n",
       "      <td>62.225893</td>\n",
       "      <td>0.000000</td>\n",
       "      <td>64.554911</td>\n",
       "    </tr>\n",
       "    <tr>\n",
       "      <th>25</th>\n",
       "      <td>57.764677</td>\n",
       "      <td>62.283147</td>\n",
       "      <td>0.000000</td>\n",
       "      <td>63.765751</td>\n",
       "    </tr>\n",
       "    <tr>\n",
       "      <th>58</th>\n",
       "      <td>56.626743</td>\n",
       "      <td>61.183102</td>\n",
       "      <td>0.000000</td>\n",
       "      <td>65.773298</td>\n",
       "    </tr>\n",
       "  </tbody>\n",
       "</table>\n",
       "</div>"
      ],
      "text/plain": [
       "    rougher.input.metal  rougher.output.metal  primary_cleaner.output.metal  \\\n",
       "14            56.005644             62.930764                      0.000000   \n",
       "16            57.481679             63.039013                      7.488378   \n",
       "17            56.038252             62.225893                      0.000000   \n",
       "25            57.764677             62.283147                      0.000000   \n",
       "58            56.626743             61.183102                      0.000000   \n",
       "\n",
       "    final.output.metal  \n",
       "14           64.546766  \n",
       "16           64.941935  \n",
       "17           64.554911  \n",
       "25           63.765751  \n",
       "58           65.773298  "
      ]
     },
     "metadata": {},
     "output_type": "display_data"
    },
    {
     "name": "stdout",
     "output_type": "stream",
     "text": [
      "-------------------------------------------------------\n"
     ]
    },
    {
     "data": {
      "text/html": [
       "<div>\n",
       "<style scoped>\n",
       "    .dataframe tbody tr th:only-of-type {\n",
       "        vertical-align: middle;\n",
       "    }\n",
       "\n",
       "    .dataframe tbody tr th {\n",
       "        vertical-align: top;\n",
       "    }\n",
       "\n",
       "    .dataframe thead th {\n",
       "        text-align: right;\n",
       "    }\n",
       "</style>\n",
       "<table border=\"1\" class=\"dataframe\">\n",
       "  <thead>\n",
       "    <tr style=\"text-align: right;\">\n",
       "      <th></th>\n",
       "      <th>rougher.input.metal</th>\n",
       "      <th>rougher.output.metal</th>\n",
       "      <th>primary_cleaner.output.metal</th>\n",
       "      <th>final.output.metal</th>\n",
       "    </tr>\n",
       "  </thead>\n",
       "  <tbody>\n",
       "    <tr>\n",
       "      <th>516</th>\n",
       "      <td>46.703740</td>\n",
       "      <td>56.574778</td>\n",
       "      <td>53.725613</td>\n",
       "      <td>0.0</td>\n",
       "    </tr>\n",
       "    <tr>\n",
       "      <th>943</th>\n",
       "      <td>53.368945</td>\n",
       "      <td>61.681632</td>\n",
       "      <td>61.254172</td>\n",
       "      <td>0.0</td>\n",
       "    </tr>\n",
       "    <tr>\n",
       "      <th>944</th>\n",
       "      <td>51.963364</td>\n",
       "      <td>60.214950</td>\n",
       "      <td>60.410868</td>\n",
       "      <td>0.0</td>\n",
       "    </tr>\n",
       "    <tr>\n",
       "      <th>945</th>\n",
       "      <td>48.892687</td>\n",
       "      <td>58.592426</td>\n",
       "      <td>60.154484</td>\n",
       "      <td>0.0</td>\n",
       "    </tr>\n",
       "    <tr>\n",
       "      <th>946</th>\n",
       "      <td>49.265736</td>\n",
       "      <td>58.363177</td>\n",
       "      <td>59.909714</td>\n",
       "      <td>0.0</td>\n",
       "    </tr>\n",
       "  </tbody>\n",
       "</table>\n",
       "</div>"
      ],
      "text/plain": [
       "     rougher.input.metal  rougher.output.metal  primary_cleaner.output.metal  \\\n",
       "516            46.703740             56.574778                     53.725613   \n",
       "943            53.368945             61.681632                     61.254172   \n",
       "944            51.963364             60.214950                     60.410868   \n",
       "945            48.892687             58.592426                     60.154484   \n",
       "946            49.265736             58.363177                     59.909714   \n",
       "\n",
       "     final.output.metal  \n",
       "516                 0.0  \n",
       "943                 0.0  \n",
       "944                 0.0  \n",
       "945                 0.0  \n",
       "946                 0.0  "
      ]
     },
     "metadata": {},
     "output_type": "display_data"
    },
    {
     "name": "stdout",
     "output_type": "stream",
     "text": [
      "-------------------------------------------------------\n"
     ]
    }
   ],
   "source": [
    "titles = ['rougher.input.metal', 'rougher.output.metal', 'primary_cleaner.output.metal', 'final.output.metal']\n",
    "\n",
    "for name, metals in zip(titles, metal_list): \n",
    "    df_train[name] = df_train[metals].agg('sum', axis=1)\n",
    "\n",
    "for name in titles:\n",
    "    display(df_train[df_train[name] < 10][titles].head())\n",
    "    print('-----------'*5)"
   ]
  },
  {
   "cell_type": "code",
   "execution_count": 42,
   "metadata": {
    "scrolled": true
   },
   "outputs": [
    {
     "name": "stdout",
     "output_type": "stream",
     "text": [
      "<class 'pandas.core.frame.DataFrame'>\n",
      "Int64Index: 14577 entries, 0 to 14578\n",
      "Data columns (total 91 columns):\n",
      " #   Column                                              Non-Null Count  Dtype  \n",
      "---  ------                                              --------------  -----  \n",
      " 0   date                                                14577 non-null  object \n",
      " 1   rougher.input.feed_au                               14577 non-null  float64\n",
      " 2   rougher.input.feed_ag                               14577 non-null  float64\n",
      " 3   rougher.input.feed_pb                               14577 non-null  float64\n",
      " 4   rougher.input.feed_sol                              14577 non-null  float64\n",
      " 5   rougher.input.feed_rate                             14577 non-null  float64\n",
      " 6   rougher.input.feed_size                             14577 non-null  float64\n",
      " 7   rougher.input.floatbank10_sulfate                   14577 non-null  float64\n",
      " 8   rougher.input.floatbank10_xanthate                  14577 non-null  float64\n",
      " 9   rougher.state.floatbank10_a_air                     14577 non-null  float64\n",
      " 10  rougher.state.floatbank10_a_level                   14577 non-null  float64\n",
      " 11  rougher.state.floatbank10_b_air                     14577 non-null  float64\n",
      " 12  rougher.state.floatbank10_b_level                   14577 non-null  float64\n",
      " 13  rougher.state.floatbank10_c_air                     14577 non-null  float64\n",
      " 14  rougher.state.floatbank10_c_level                   14577 non-null  float64\n",
      " 15  rougher.state.floatbank10_d_air                     14577 non-null  float64\n",
      " 16  rougher.state.floatbank10_d_level                   14577 non-null  float64\n",
      " 17  rougher.state.floatbank10_e_air                     14577 non-null  float64\n",
      " 18  rougher.state.floatbank10_e_level                   14577 non-null  float64\n",
      " 19  rougher.state.floatbank10_f_air                     14577 non-null  float64\n",
      " 20  rougher.state.floatbank10_f_level                   14577 non-null  float64\n",
      " 21  rougher.input.floatbank11_sulfate                   14577 non-null  float64\n",
      " 22  rougher.input.floatbank11_xanthate                  14577 non-null  float64\n",
      " 23  rougher.calculation.sulfate_to_au_concentrate       14577 non-null  float64\n",
      " 24  rougher.calculation.floatbank10_sulfate_to_au_feed  14577 non-null  float64\n",
      " 25  rougher.calculation.floatbank11_sulfate_to_au_feed  14577 non-null  float64\n",
      " 26  rougher.calculation.au_pb_ratio                     14577 non-null  float64\n",
      " 27  rougher.output.concentrate_au                       14577 non-null  float64\n",
      " 28  rougher.output.concentrate_ag                       14577 non-null  float64\n",
      " 29  rougher.output.concentrate_pb                       14577 non-null  float64\n",
      " 30  rougher.output.concentrate_sol                      14577 non-null  float64\n",
      " 31  rougher.output.recovery                             14577 non-null  float64\n",
      " 32  rougher.output.tail_au                              14577 non-null  float64\n",
      " 33  rougher.output.tail_ag                              14577 non-null  float64\n",
      " 34  rougher.output.tail_pb                              14577 non-null  float64\n",
      " 35  rougher.output.tail_sol                             14577 non-null  float64\n",
      " 36  primary_cleaner.input.sulfate                       14577 non-null  float64\n",
      " 37  primary_cleaner.input.depressant                    14577 non-null  float64\n",
      " 38  primary_cleaner.input.feed_size                     14577 non-null  float64\n",
      " 39  primary_cleaner.input.xanthate                      14577 non-null  float64\n",
      " 40  primary_cleaner.state.floatbank8_a_air              14577 non-null  float64\n",
      " 41  primary_cleaner.state.floatbank8_a_level            14577 non-null  float64\n",
      " 42  primary_cleaner.state.floatbank8_b_air              14577 non-null  float64\n",
      " 43  primary_cleaner.state.floatbank8_b_level            14577 non-null  float64\n",
      " 44  primary_cleaner.state.floatbank8_c_air              14577 non-null  float64\n",
      " 45  primary_cleaner.state.floatbank8_c_level            14577 non-null  float64\n",
      " 46  primary_cleaner.state.floatbank8_d_air              14577 non-null  float64\n",
      " 47  primary_cleaner.state.floatbank8_d_level            14577 non-null  float64\n",
      " 48  primary_cleaner.output.concentrate_au               14577 non-null  float64\n",
      " 49  primary_cleaner.output.concentrate_ag               14577 non-null  float64\n",
      " 50  primary_cleaner.output.concentrate_pb               14577 non-null  float64\n",
      " 51  primary_cleaner.output.concentrate_sol              14577 non-null  float64\n",
      " 52  primary_cleaner.output.tail_au                      14577 non-null  float64\n",
      " 53  primary_cleaner.output.tail_ag                      14577 non-null  float64\n",
      " 54  primary_cleaner.output.tail_pb                      14577 non-null  float64\n",
      " 55  primary_cleaner.output.tail_sol                     14577 non-null  float64\n",
      " 56  secondary_cleaner.state.floatbank2_a_air            14577 non-null  float64\n",
      " 57  secondary_cleaner.state.floatbank2_a_level          14577 non-null  float64\n",
      " 58  secondary_cleaner.state.floatbank2_b_air            14577 non-null  float64\n",
      " 59  secondary_cleaner.state.floatbank2_b_level          14577 non-null  float64\n",
      " 60  secondary_cleaner.state.floatbank3_a_air            14577 non-null  float64\n",
      " 61  secondary_cleaner.state.floatbank3_a_level          14577 non-null  float64\n",
      " 62  secondary_cleaner.state.floatbank3_b_air            14577 non-null  float64\n",
      " 63  secondary_cleaner.state.floatbank3_b_level          14577 non-null  float64\n",
      " 64  secondary_cleaner.state.floatbank4_a_air            14577 non-null  float64\n",
      " 65  secondary_cleaner.state.floatbank4_a_level          14577 non-null  float64\n",
      " 66  secondary_cleaner.state.floatbank4_b_air            14577 non-null  float64\n",
      " 67  secondary_cleaner.state.floatbank4_b_level          14577 non-null  float64\n",
      " 68  secondary_cleaner.state.floatbank5_a_air            14577 non-null  float64\n",
      " 69  secondary_cleaner.state.floatbank5_a_level          14577 non-null  float64\n",
      " 70  secondary_cleaner.state.floatbank5_b_air            14577 non-null  float64\n",
      " 71  secondary_cleaner.state.floatbank5_b_level          14577 non-null  float64\n",
      " 72  secondary_cleaner.state.floatbank6_a_air            14577 non-null  float64\n",
      " 73  secondary_cleaner.state.floatbank6_a_level          14577 non-null  float64\n",
      " 74  secondary_cleaner.output.tail_au                    14577 non-null  float64\n",
      " 75  secondary_cleaner.output.tail_ag                    14577 non-null  float64\n",
      " 76  secondary_cleaner.output.tail_pb                    14577 non-null  float64\n",
      " 77  secondary_cleaner.output.tail_sol                   14577 non-null  float64\n",
      " 78  final.output.concentrate_au                         14577 non-null  float64\n",
      " 79  final.output.concentrate_ag                         14577 non-null  float64\n",
      " 80  final.output.concentrate_pb                         14577 non-null  float64\n",
      " 81  final.output.concentrate_sol                        14577 non-null  float64\n",
      " 82  final.output.recovery                               14577 non-null  float64\n",
      " 83  final.output.tail_au                                14577 non-null  float64\n",
      " 84  final.output.tail_ag                                14577 non-null  float64\n",
      " 85  final.output.tail_pb                                14577 non-null  float64\n",
      " 86  final.output.tail_sol                               14577 non-null  float64\n",
      " 87  rougher.input.metal                                 14577 non-null  float64\n",
      " 88  rougher.output.metal                                14577 non-null  float64\n",
      " 89  primary_cleaner.output.metal                        14577 non-null  float64\n",
      " 90  final.output.metal                                  14577 non-null  float64\n",
      "dtypes: float64(90), object(1)\n",
      "memory usage: 10.2+ MB\n"
     ]
    }
   ],
   "source": [
    "df_train.info()"
   ]
  },
  {
   "cell_type": "code",
   "execution_count": 39,
   "metadata": {},
   "outputs": [],
   "source": [
    "for name in titles:\n",
    "    df_train[name] = df_train[df_train[name] > 10][name]"
   ]
  },
  {
   "cell_type": "code",
   "execution_count": 40,
   "metadata": {},
   "outputs": [],
   "source": [
    "df_train = df_train.dropna()"
   ]
  },
  {
   "cell_type": "code",
   "execution_count": 41,
   "metadata": {
    "scrolled": true
   },
   "outputs": [
    {
     "name": "stdout",
     "output_type": "stream",
     "text": [
      "<class 'pandas.core.frame.DataFrame'>\n",
      "Int64Index: 13849 entries, 0 to 14578\n",
      "Data columns (total 95 columns):\n",
      " #   Column                                              Non-Null Count  Dtype  \n",
      "---  ------                                              --------------  -----  \n",
      " 0   date                                                13849 non-null  object \n",
      " 1   rougher.input.feed_au                               13849 non-null  float64\n",
      " 2   rougher.input.feed_ag                               13849 non-null  float64\n",
      " 3   rougher.input.feed_pb                               13849 non-null  float64\n",
      " 4   rougher.input.feed_sol                              13849 non-null  float64\n",
      " 5   rougher.input.feed_rate                             13849 non-null  float64\n",
      " 6   rougher.input.feed_size                             13849 non-null  float64\n",
      " 7   rougher.input.floatbank10_sulfate                   13849 non-null  float64\n",
      " 8   rougher.input.floatbank10_xanthate                  13849 non-null  float64\n",
      " 9   rougher.state.floatbank10_a_air                     13849 non-null  float64\n",
      " 10  rougher.state.floatbank10_a_level                   13849 non-null  float64\n",
      " 11  rougher.state.floatbank10_b_air                     13849 non-null  float64\n",
      " 12  rougher.state.floatbank10_b_level                   13849 non-null  float64\n",
      " 13  rougher.state.floatbank10_c_air                     13849 non-null  float64\n",
      " 14  rougher.state.floatbank10_c_level                   13849 non-null  float64\n",
      " 15  rougher.state.floatbank10_d_air                     13849 non-null  float64\n",
      " 16  rougher.state.floatbank10_d_level                   13849 non-null  float64\n",
      " 17  rougher.state.floatbank10_e_air                     13849 non-null  float64\n",
      " 18  rougher.state.floatbank10_e_level                   13849 non-null  float64\n",
      " 19  rougher.state.floatbank10_f_air                     13849 non-null  float64\n",
      " 20  rougher.state.floatbank10_f_level                   13849 non-null  float64\n",
      " 21  rougher.input.floatbank11_sulfate                   13849 non-null  float64\n",
      " 22  rougher.input.floatbank11_xanthate                  13849 non-null  float64\n",
      " 23  rougher.calculation.sulfate_to_au_concentrate       13849 non-null  float64\n",
      " 24  rougher.calculation.floatbank10_sulfate_to_au_feed  13849 non-null  float64\n",
      " 25  rougher.calculation.floatbank11_sulfate_to_au_feed  13849 non-null  float64\n",
      " 26  rougher.calculation.au_pb_ratio                     13849 non-null  float64\n",
      " 27  rougher.output.concentrate_au                       13849 non-null  float64\n",
      " 28  rougher.output.concentrate_ag                       13849 non-null  float64\n",
      " 29  rougher.output.concentrate_pb                       13849 non-null  float64\n",
      " 30  rougher.output.concentrate_sol                      13849 non-null  float64\n",
      " 31  rougher.output.recovery                             13849 non-null  float64\n",
      " 32  rougher.output.tail_au                              13849 non-null  float64\n",
      " 33  rougher.output.tail_ag                              13849 non-null  float64\n",
      " 34  rougher.output.tail_pb                              13849 non-null  float64\n",
      " 35  rougher.output.tail_sol                             13849 non-null  float64\n",
      " 36  primary_cleaner.input.sulfate                       13849 non-null  float64\n",
      " 37  primary_cleaner.input.depressant                    13849 non-null  float64\n",
      " 38  primary_cleaner.input.feed_size                     13849 non-null  float64\n",
      " 39  primary_cleaner.input.xanthate                      13849 non-null  float64\n",
      " 40  primary_cleaner.state.floatbank8_a_air              13849 non-null  float64\n",
      " 41  primary_cleaner.state.floatbank8_a_level            13849 non-null  float64\n",
      " 42  primary_cleaner.state.floatbank8_b_air              13849 non-null  float64\n",
      " 43  primary_cleaner.state.floatbank8_b_level            13849 non-null  float64\n",
      " 44  primary_cleaner.state.floatbank8_c_air              13849 non-null  float64\n",
      " 45  primary_cleaner.state.floatbank8_c_level            13849 non-null  float64\n",
      " 46  primary_cleaner.state.floatbank8_d_air              13849 non-null  float64\n",
      " 47  primary_cleaner.state.floatbank8_d_level            13849 non-null  float64\n",
      " 48  primary_cleaner.output.concentrate_au               13849 non-null  float64\n",
      " 49  primary_cleaner.output.concentrate_ag               13849 non-null  float64\n",
      " 50  primary_cleaner.output.concentrate_pb               13849 non-null  float64\n",
      " 51  primary_cleaner.output.concentrate_sol              13849 non-null  float64\n",
      " 52  primary_cleaner.output.tail_au                      13849 non-null  float64\n",
      " 53  primary_cleaner.output.tail_ag                      13849 non-null  float64\n",
      " 54  primary_cleaner.output.tail_pb                      13849 non-null  float64\n",
      " 55  primary_cleaner.output.tail_sol                     13849 non-null  float64\n",
      " 56  secondary_cleaner.state.floatbank2_a_air            13849 non-null  float64\n",
      " 57  secondary_cleaner.state.floatbank2_a_level          13849 non-null  float64\n",
      " 58  secondary_cleaner.state.floatbank2_b_air            13849 non-null  float64\n",
      " 59  secondary_cleaner.state.floatbank2_b_level          13849 non-null  float64\n",
      " 60  secondary_cleaner.state.floatbank3_a_air            13849 non-null  float64\n",
      " 61  secondary_cleaner.state.floatbank3_a_level          13849 non-null  float64\n",
      " 62  secondary_cleaner.state.floatbank3_b_air            13849 non-null  float64\n",
      " 63  secondary_cleaner.state.floatbank3_b_level          13849 non-null  float64\n",
      " 64  secondary_cleaner.state.floatbank4_a_air            13849 non-null  float64\n",
      " 65  secondary_cleaner.state.floatbank4_a_level          13849 non-null  float64\n",
      " 66  secondary_cleaner.state.floatbank4_b_air            13849 non-null  float64\n",
      " 67  secondary_cleaner.state.floatbank4_b_level          13849 non-null  float64\n",
      " 68  secondary_cleaner.state.floatbank5_a_air            13849 non-null  float64\n",
      " 69  secondary_cleaner.state.floatbank5_a_level          13849 non-null  float64\n",
      " 70  secondary_cleaner.state.floatbank5_b_air            13849 non-null  float64\n",
      " 71  secondary_cleaner.state.floatbank5_b_level          13849 non-null  float64\n",
      " 72  secondary_cleaner.state.floatbank6_a_air            13849 non-null  float64\n",
      " 73  secondary_cleaner.state.floatbank6_a_level          13849 non-null  float64\n",
      " 74  secondary_cleaner.output.tail_au                    13849 non-null  float64\n",
      " 75  secondary_cleaner.output.tail_ag                    13849 non-null  float64\n",
      " 76  secondary_cleaner.output.tail_pb                    13849 non-null  float64\n",
      " 77  secondary_cleaner.output.tail_sol                   13849 non-null  float64\n",
      " 78  final.output.concentrate_au                         13849 non-null  float64\n",
      " 79  final.output.concentrate_ag                         13849 non-null  float64\n",
      " 80  final.output.concentrate_pb                         13849 non-null  float64\n",
      " 81  final.output.concentrate_sol                        13849 non-null  float64\n",
      " 82  final.output.recovery                               13849 non-null  float64\n",
      " 83  final.output.tail_au                                13849 non-null  float64\n",
      " 84  final.output.tail_ag                                13849 non-null  float64\n",
      " 85  final.output.tail_pb                                13849 non-null  float64\n",
      " 86  final.output.tail_sol                               13849 non-null  float64\n",
      " 87  rougher.input                                       13849 non-null  float64\n",
      " 88  rougher.output                                      13849 non-null  float64\n",
      " 89  primary_cleaner.output                              13849 non-null  float64\n",
      " 90  final.output                                        13849 non-null  float64\n",
      " 91  rougher.input.metal                                 13849 non-null  float64\n",
      " 92  rougher.output.metal                                13849 non-null  float64\n",
      " 93  primary_cleaner.output.metal                        13849 non-null  float64\n",
      " 94  final.output.metal                                  13849 non-null  float64\n",
      "dtypes: float64(94), object(1)\n",
      "memory usage: 10.1+ MB\n"
     ]
    }
   ],
   "source": [
    "df_train.info()"
   ]
  },
  {
   "cell_type": "markdown",
   "metadata": {},
   "source": [
    "## Подготовка к обучению"
   ]
  },
  {
   "cell_type": "code",
   "execution_count": 42,
   "metadata": {},
   "outputs": [],
   "source": [
    "features_train = df_train[df_test.columns].drop('date', axis=1)\n",
    "target_train = df_train[['rougher.output.recovery', 'final.output.recovery']]"
   ]
  },
  {
   "cell_type": "code",
   "execution_count": 43,
   "metadata": {},
   "outputs": [],
   "source": [
    "features_test = df_test.drop('date', axis=1)\n",
    "target_test = df_test.set_index('date').join(df.set_index('date'), how='left', rsuffix='_')\\\n",
    "[['rougher.output.recovery', 'final.output.recovery']]"
   ]
  },
  {
   "cell_type": "code",
   "execution_count": 44,
   "metadata": {
    "scrolled": true
   },
   "outputs": [
    {
     "name": "stdout",
     "output_type": "stream",
     "text": [
      "<class 'pandas.core.frame.DataFrame'>\n",
      "Index: 4860 entries, 2017-12-09 14:59:59 to 2018-08-18 10:59:59\n",
      "Data columns (total 2 columns):\n",
      " #   Column                   Non-Null Count  Dtype  \n",
      "---  ------                   --------------  -----  \n",
      " 0   rougher.output.recovery  4860 non-null   float64\n",
      " 1   final.output.recovery    4860 non-null   float64\n",
      "dtypes: float64(2)\n",
      "memory usage: 242.9+ KB\n"
     ]
    }
   ],
   "source": [
    "target_test.info()"
   ]
  },
  {
   "cell_type": "code",
   "execution_count": 45,
   "metadata": {},
   "outputs": [
    {
     "data": {
      "text/plain": [
       "((13849, 52), (13849, 2), (4860, 52), (4860, 2))"
      ]
     },
     "execution_count": 45,
     "metadata": {},
     "output_type": "execute_result"
    }
   ],
   "source": [
    "features_train.shape, target_train.shape, features_test.shape, target_test.shape"
   ]
  },
  {
   "cell_type": "code",
   "execution_count": 46,
   "metadata": {},
   "outputs": [],
   "source": [
    "scaler = StandardScaler()\n",
    "scaler.fit(features_train)\n",
    "features_train_scaled = scaler.transform(features_train)\n",
    "features_test_scaled = scaler.transform(features_test)"
   ]
  },
  {
   "cell_type": "markdown",
   "metadata": {},
   "source": [
    "## Модель"
   ]
  },
  {
   "cell_type": "code",
   "execution_count": 47,
   "metadata": {},
   "outputs": [],
   "source": [
    "def smape( target , prediction ):\n",
    "    smape_score = 1/ len (target) * np.sum (2 * np.abs(prediction-target) / (np.abs (target) + np.abs (prediction))*100)\n",
    "    score = 0.25*smape_score[0] + 0.75*smape_score[1]\n",
    "    return score"
   ]
  },
  {
   "cell_type": "markdown",
   "metadata": {},
   "source": [
    "Идеальный показатель для нас - 0"
   ]
  },
  {
   "cell_type": "code",
   "execution_count": 49,
   "metadata": {
    "collapsed": true
   },
   "outputs": [
    {
     "name": "stderr",
     "output_type": "stream",
     "text": [
      "/opt/conda/lib/python3.9/site-packages/sklearn/utils/_param_validation.py:591: FutureWarning: Passing an int for a boolean parameter is deprecated in version 1.2 and won't be supported anymore in version 1.4.\n",
      "  warnings.warn(\n"
     ]
    }
   ],
   "source": [
    "smape_scorer = make_scorer(smape, greater_is_better = 1)"
   ]
  },
  {
   "cell_type": "code",
   "execution_count": 69,
   "metadata": {},
   "outputs": [
    {
     "data": {
      "application/vnd.jupyter.widget-view+json": {
       "model_id": "fc07d04762834cd3bb6e3b9d34d2a577",
       "version_major": 2,
       "version_minor": 0
      },
      "text/plain": [
       "  0%|          | 0/24 [00:00<?, ?it/s]"
      ]
     },
     "metadata": {},
     "output_type": "display_data"
    },
    {
     "name": "stdout",
     "output_type": "stream",
     "text": [
      "CPU times: user 1min 36s, sys: 180 ms, total: 1min 37s\n",
      "Wall time: 1min 38s\n"
     ]
    }
   ],
   "source": [
    "%%time\n",
    "best_model_DT = None\n",
    "best_score_DT = 100\n",
    "smape_score = None\n",
    "for depth in tqdm(range(1,25)):\n",
    "    model = DecisionTreeRegressor(max_depth=depth, random_state=state)\n",
    "    score = cross_val_score(model, features_train_scaled, target_train, scoring = smape_scorer, cv=5).mean()    \n",
    "    if score < best_score_DT:\n",
    "        best_score_DT = score\n",
    "        best_model_DT = model"
   ]
  },
  {
   "cell_type": "code",
   "execution_count": 70,
   "metadata": {
    "scrolled": true
   },
   "outputs": [
    {
     "data": {
      "text/plain": [
       "(8.741141014909957,\n",
       " DecisionTreeRegressor(max_depth=1,\n",
       "                       random_state=RandomState(MT19937) at 0x7FE65FEBEA40))"
      ]
     },
     "execution_count": 70,
     "metadata": {},
     "output_type": "execute_result"
    }
   ],
   "source": [
    "best_score_DT, best_model_DT"
   ]
  },
  {
   "cell_type": "markdown",
   "metadata": {},
   "source": [
    "Перебор параметров идет довольно долго, выбрал по нему параметры"
   ]
  },
  {
   "cell_type": "code",
   "execution_count": 81,
   "metadata": {},
   "outputs": [
    {
     "data": {
      "application/vnd.jupyter.widget-view+json": {
       "model_id": "93f7d964acb5429b85e8d1c4123ca961",
       "version_major": 2,
       "version_minor": 0
      },
      "text/plain": [
       "  0%|          | 0/8 [00:00<?, ?it/s]"
      ]
     },
     "metadata": {},
     "output_type": "display_data"
    },
    {
     "name": "stdout",
     "output_type": "stream",
     "text": [
      "CPU times: user 22min 6s, sys: 1.96 s, total: 22min 8s\n",
      "Wall time: 22min 9s\n"
     ]
    }
   ],
   "source": [
    "%%time\n",
    "best_model_RF = None\n",
    "best_score_RF = 100\n",
    "smape_score = None\n",
    "\n",
    "for depth in tqdm(range(1,5,1)):\n",
    "    for num in range(50,251,50):\n",
    "        model = RandomForestRegressor(max_depth=depth, random_state=state, n_estimators=num)\n",
    "        score = cross_val_score(model, features_train_scaled, target_train, scoring = smape_scorer, cv=5).mean()    \n",
    "        if score < best_score_RF:\n",
    "            best_score_RF = score\n",
    "            best_model_RF = model"
   ]
  },
  {
   "cell_type": "code",
   "execution_count": 72,
   "metadata": {},
   "outputs": [
    {
     "data": {
      "text/plain": [
       "(8.455173608021955,\n",
       " RandomForestRegressor(max_depth=3, n_estimators=50,\n",
       "                       random_state=RandomState(MT19937) at 0x7FE65FEBEA40))"
      ]
     },
     "execution_count": 72,
     "metadata": {},
     "output_type": "execute_result"
    }
   ],
   "source": [
    "best_score_RF, best_model_RF"
   ]
  },
  {
   "cell_type": "markdown",
   "metadata": {},
   "source": [
    "Получили ошибку около 8.45"
   ]
  },
  {
   "cell_type": "code",
   "execution_count": 83,
   "metadata": {},
   "outputs": [],
   "source": [
    "model_LR = LinearRegression()\n",
    "score_LR = cross_val_score(model_LR, features_train, target_train, scoring = smape_scorer, cv=5).mean()"
   ]
  },
  {
   "cell_type": "code",
   "execution_count": 84,
   "metadata": {},
   "outputs": [
    {
     "data": {
      "text/plain": [
       "(8.872101220885325, LinearRegression())"
      ]
     },
     "execution_count": 84,
     "metadata": {},
     "output_type": "execute_result"
    }
   ],
   "source": [
    "score_LR, model_LR"
   ]
  },
  {
   "cell_type": "markdown",
   "metadata": {},
   "source": [
    "Остановимся на модели RandomForestRegressor"
   ]
  },
  {
   "cell_type": "code",
   "execution_count": 86,
   "metadata": {},
   "outputs": [
    {
     "data": {
      "text/plain": [
       "5.4384473280713355"
      ]
     },
     "execution_count": 86,
     "metadata": {},
     "output_type": "execute_result"
    }
   ],
   "source": [
    "best_model_RF.fit(features_train_scaled, target_train)\n",
    "prediction = best_model_RF.predict(features_test_scaled)\n",
    "score_test = smape(target_test, prediction)\n",
    "score_test"
   ]
  },
  {
   "cell_type": "code",
   "execution_count": 87,
   "metadata": {},
   "outputs": [
    {
     "data": {
      "text/plain": [
       "9.413882947561463"
      ]
     },
     "execution_count": 87,
     "metadata": {},
     "output_type": "execute_result"
    }
   ],
   "source": [
    "dummy_model = DummyRegressor()\n",
    "score_dummy = cross_val_score(best_model_RF, features_train, target_train, scoring = smape_scorer, cv=5).mean()\n",
    "score_dummy"
   ]
  },
  {
   "cell_type": "markdown",
   "metadata": {},
   "source": [
    "Модель прошла проверку на адекватность\n",
    "Показатель на тестовых данных score_test"
   ]
  },
  {
   "cell_type": "markdown",
   "metadata": {},
   "source": [
    "## Итоговые выводы"
   ]
  },
  {
   "cell_type": "markdown",
   "metadata": {},
   "source": [
    "В ходе исследования мы очистили сделали следующее:  \n",
    "* очистили данные от аномалий, масштабировали их\n",
    "* посмотрели, как меняется содержание маталлов в руде на разных этапах производства\n",
    "* проследили, чтобы размер гранул совпадал в выборках для обучении\n",
    "* подготовили несколько моделей и выбрали для них наилучшие параметры \n",
    "\n",
    "**Лучшая модель - RandomForestRegressor(max_depth=3, n_estimators=50,\n",
    "                       random_state=RandomState(MT19937) at 0x7F88DC70B540))\n",
    "Симметричное среднее абсолютное процентное отклонение около 5,44**                     "
   ]
  }
 ],
 "metadata": {
  "ExecuteTimeLog": [
   {
    "duration": 522,
    "start_time": "2023-05-09T16:13:30.044Z"
   },
   {
    "duration": 1278,
    "start_time": "2023-05-09T16:13:58.483Z"
   },
   {
    "duration": 302,
    "start_time": "2023-05-09T16:14:04.340Z"
   },
   {
    "duration": 30,
    "start_time": "2023-05-09T16:14:16.938Z"
   },
   {
    "duration": 48,
    "start_time": "2023-05-09T16:15:01.598Z"
   },
   {
    "duration": 1170,
    "start_time": "2023-05-09T16:15:25.889Z"
   },
   {
    "duration": 3,
    "start_time": "2023-05-09T16:29:23.279Z"
   },
   {
    "duration": 23,
    "start_time": "2023-05-09T16:29:25.947Z"
   },
   {
    "duration": 4,
    "start_time": "2023-05-09T16:30:08.544Z"
   },
   {
    "duration": 326,
    "start_time": "2023-05-09T16:30:10.194Z"
   },
   {
    "duration": 67,
    "start_time": "2023-05-09T16:30:10.992Z"
   },
   {
    "duration": 60,
    "start_time": "2023-05-09T16:37:22.005Z"
   },
   {
    "duration": 12,
    "start_time": "2023-05-09T16:37:46.259Z"
   },
   {
    "duration": 5,
    "start_time": "2023-05-09T16:37:57.665Z"
   },
   {
    "duration": 44,
    "start_time": "2023-05-09T16:38:24.344Z"
   },
   {
    "duration": 5,
    "start_time": "2023-05-09T16:39:26.095Z"
   },
   {
    "duration": 722,
    "start_time": "2023-05-09T16:41:11.420Z"
   },
   {
    "duration": 49,
    "start_time": "2023-05-09T16:42:08.868Z"
   },
   {
    "duration": 29,
    "start_time": "2023-05-09T16:42:41.258Z"
   },
   {
    "duration": 12,
    "start_time": "2023-05-09T16:43:31.113Z"
   },
   {
    "duration": 17,
    "start_time": "2023-05-09T16:43:41.055Z"
   },
   {
    "duration": 55,
    "start_time": "2023-05-09T16:44:05.870Z"
   },
   {
    "duration": 74,
    "start_time": "2023-05-09T16:44:53.205Z"
   },
   {
    "duration": 57,
    "start_time": "2023-05-09T16:45:19.874Z"
   },
   {
    "duration": 5,
    "start_time": "2023-05-09T16:45:27.508Z"
   },
   {
    "duration": 20,
    "start_time": "2023-05-09T16:45:30.415Z"
   },
   {
    "duration": 5,
    "start_time": "2023-05-09T16:45:41.018Z"
   },
   {
    "duration": 13,
    "start_time": "2023-05-09T16:45:42.419Z"
   },
   {
    "duration": 4,
    "start_time": "2023-05-09T16:46:14.602Z"
   },
   {
    "duration": 3,
    "start_time": "2023-05-09T16:46:24.815Z"
   },
   {
    "duration": 365,
    "start_time": "2023-05-09T16:46:24.819Z"
   },
   {
    "duration": 25,
    "start_time": "2023-05-09T16:46:25.186Z"
   },
   {
    "duration": 16,
    "start_time": "2023-05-09T16:46:25.214Z"
   },
   {
    "duration": 22,
    "start_time": "2023-05-09T16:46:25.232Z"
   },
   {
    "duration": 97,
    "start_time": "2023-05-09T16:46:25.257Z"
   },
   {
    "duration": 5,
    "start_time": "2023-05-09T16:46:25.355Z"
   },
   {
    "duration": 6,
    "start_time": "2023-05-09T16:46:25.361Z"
   },
   {
    "duration": 36,
    "start_time": "2023-05-09T16:46:25.368Z"
   },
   {
    "duration": 7,
    "start_time": "2023-05-09T16:47:06.274Z"
   },
   {
    "duration": 622,
    "start_time": "2023-05-09T16:47:35.545Z"
   },
   {
    "duration": 161,
    "start_time": "2023-05-09T16:47:51.473Z"
   },
   {
    "duration": 7,
    "start_time": "2023-05-09T16:48:47.360Z"
   },
   {
    "duration": 62,
    "start_time": "2023-05-09T17:00:36.074Z"
   },
   {
    "duration": 6,
    "start_time": "2023-05-09T17:01:21.594Z"
   },
   {
    "duration": 155,
    "start_time": "2023-05-09T17:01:22.557Z"
   },
   {
    "duration": 5,
    "start_time": "2023-05-09T17:01:31.615Z"
   },
   {
    "duration": 149,
    "start_time": "2023-05-09T17:01:32.472Z"
   },
   {
    "duration": 6,
    "start_time": "2023-05-09T17:01:37.525Z"
   },
   {
    "duration": 4,
    "start_time": "2023-05-09T17:05:51.175Z"
   },
   {
    "duration": 147,
    "start_time": "2023-05-09T17:05:53.733Z"
   },
   {
    "duration": 6,
    "start_time": "2023-05-09T17:05:58.055Z"
   },
   {
    "duration": 69,
    "start_time": "2023-05-09T17:06:19.273Z"
   },
   {
    "duration": 5,
    "start_time": "2023-05-09T17:06:23.134Z"
   },
   {
    "duration": 149,
    "start_time": "2023-05-09T17:06:25.310Z"
   },
   {
    "duration": 6,
    "start_time": "2023-05-09T17:12:31.997Z"
   },
   {
    "duration": 221,
    "start_time": "2023-05-09T17:12:33.058Z"
   },
   {
    "duration": 6,
    "start_time": "2023-05-09T17:14:35.308Z"
   },
   {
    "duration": 153,
    "start_time": "2023-05-09T17:14:35.895Z"
   },
   {
    "duration": 147,
    "start_time": "2023-05-09T17:14:37.044Z"
   },
   {
    "duration": 5,
    "start_time": "2023-05-09T17:14:41.495Z"
   },
   {
    "duration": 13,
    "start_time": "2023-05-09T17:55:21.554Z"
   },
   {
    "duration": 20,
    "start_time": "2023-05-09T17:55:22.610Z"
   },
   {
    "duration": 3,
    "start_time": "2023-05-09T17:55:26.263Z"
   },
   {
    "duration": 333,
    "start_time": "2023-05-09T17:55:26.268Z"
   },
   {
    "duration": 21,
    "start_time": "2023-05-09T17:55:26.603Z"
   },
   {
    "duration": 12,
    "start_time": "2023-05-09T17:55:26.626Z"
   },
   {
    "duration": 20,
    "start_time": "2023-05-09T17:55:26.641Z"
   },
   {
    "duration": 94,
    "start_time": "2023-05-09T17:55:26.663Z"
   },
   {
    "duration": 5,
    "start_time": "2023-05-09T17:55:26.759Z"
   },
   {
    "duration": 26,
    "start_time": "2023-05-09T17:55:26.765Z"
   },
   {
    "duration": 143,
    "start_time": "2023-05-09T18:02:03.310Z"
   },
   {
    "duration": 16,
    "start_time": "2023-05-09T18:02:13.927Z"
   },
   {
    "duration": 5,
    "start_time": "2023-05-09T18:02:53.634Z"
   },
   {
    "duration": 16,
    "start_time": "2023-05-09T18:03:03.454Z"
   },
   {
    "duration": 22,
    "start_time": "2023-05-09T18:04:12.002Z"
   },
   {
    "duration": 16,
    "start_time": "2023-05-09T18:04:20.255Z"
   },
   {
    "duration": 7,
    "start_time": "2023-05-09T18:04:33.147Z"
   },
   {
    "duration": 3,
    "start_time": "2023-05-09T18:08:55.378Z"
   },
   {
    "duration": 3,
    "start_time": "2023-05-09T18:09:22.831Z"
   },
   {
    "duration": 8,
    "start_time": "2023-05-09T18:09:40.404Z"
   },
   {
    "duration": 11,
    "start_time": "2023-05-09T19:12:59.876Z"
   },
   {
    "duration": 12,
    "start_time": "2023-05-09T19:14:41.217Z"
   },
   {
    "duration": 10,
    "start_time": "2023-05-09T19:14:58.351Z"
   },
   {
    "duration": 4,
    "start_time": "2023-05-09T19:15:24.205Z"
   },
   {
    "duration": 9,
    "start_time": "2023-05-09T19:18:41.625Z"
   },
   {
    "duration": 42,
    "start_time": "2023-05-09T19:18:45.849Z"
   },
   {
    "duration": 10,
    "start_time": "2023-05-09T19:20:02.328Z"
   },
   {
    "duration": 39,
    "start_time": "2023-05-09T19:25:12.397Z"
   },
   {
    "duration": 1647,
    "start_time": "2023-05-09T19:25:20.075Z"
   },
   {
    "duration": 13,
    "start_time": "2023-05-09T19:26:11.540Z"
   },
   {
    "duration": 13,
    "start_time": "2023-05-09T19:26:17.775Z"
   },
   {
    "duration": 21,
    "start_time": "2023-05-09T19:31:43.467Z"
   },
   {
    "duration": 485,
    "start_time": "2023-05-09T19:33:41.776Z"
   },
   {
    "duration": 9,
    "start_time": "2023-05-09T19:34:09.527Z"
   },
   {
    "duration": 1252,
    "start_time": "2023-05-09T19:34:24.901Z"
   },
   {
    "duration": 67,
    "start_time": "2023-05-09T19:38:42.256Z"
   },
   {
    "duration": 3,
    "start_time": "2023-05-09T19:38:46.319Z"
   },
   {
    "duration": 3,
    "start_time": "2023-05-09T19:39:07.601Z"
   },
   {
    "duration": 58,
    "start_time": "2023-05-09T19:40:27.575Z"
   },
   {
    "duration": 11,
    "start_time": "2023-05-09T19:40:32.742Z"
   },
   {
    "duration": 69,
    "start_time": "2023-05-09T20:10:15.198Z"
   },
   {
    "duration": 728,
    "start_time": "2023-05-09T20:13:49.182Z"
   },
   {
    "duration": 360,
    "start_time": "2023-05-09T20:14:13.341Z"
   },
   {
    "duration": 746,
    "start_time": "2023-05-09T20:15:39.105Z"
   },
   {
    "duration": 16,
    "start_time": "2023-05-09T20:41:57.772Z"
   },
   {
    "duration": 12,
    "start_time": "2023-05-09T20:42:42.530Z"
   },
   {
    "duration": 8,
    "start_time": "2023-05-09T20:42:55.560Z"
   },
   {
    "duration": 9,
    "start_time": "2023-05-09T20:43:13.238Z"
   },
   {
    "duration": 60,
    "start_time": "2023-05-09T20:43:33.432Z"
   },
   {
    "duration": 17,
    "start_time": "2023-05-09T20:44:53.041Z"
   },
   {
    "duration": 817,
    "start_time": "2023-05-09T21:00:06.425Z"
   },
   {
    "duration": 819,
    "start_time": "2023-05-09T21:00:18.782Z"
   },
   {
    "duration": 242149,
    "start_time": "2023-05-09T21:00:26.479Z"
   },
   {
    "duration": 13,
    "start_time": "2023-05-09T21:04:58.699Z"
   },
   {
    "duration": 157,
    "start_time": "2023-05-09T21:09:13.415Z"
   },
   {
    "duration": 154,
    "start_time": "2023-05-09T21:09:29.055Z"
   },
   {
    "duration": 1127,
    "start_time": "2023-05-10T18:45:52.191Z"
   },
   {
    "duration": 1229,
    "start_time": "2023-05-10T18:45:53.320Z"
   },
   {
    "duration": 18,
    "start_time": "2023-05-10T18:45:54.551Z"
   },
   {
    "duration": 12,
    "start_time": "2023-05-10T18:45:54.571Z"
   },
   {
    "duration": 31,
    "start_time": "2023-05-10T18:45:54.585Z"
   },
   {
    "duration": 75,
    "start_time": "2023-05-10T18:45:54.619Z"
   },
   {
    "duration": 21,
    "start_time": "2023-05-10T18:45:54.695Z"
   },
   {
    "duration": 6,
    "start_time": "2023-05-10T18:45:54.718Z"
   },
   {
    "duration": 168,
    "start_time": "2023-05-10T18:45:54.727Z"
   },
   {
    "duration": 13,
    "start_time": "2023-05-10T18:45:54.896Z"
   },
   {
    "duration": 4,
    "start_time": "2023-05-10T18:45:54.911Z"
   },
   {
    "duration": 12,
    "start_time": "2023-05-10T18:45:54.917Z"
   },
   {
    "duration": 41,
    "start_time": "2023-05-10T18:45:54.931Z"
   },
   {
    "duration": 3,
    "start_time": "2023-05-10T18:45:54.974Z"
   },
   {
    "duration": 37,
    "start_time": "2023-05-10T18:45:54.978Z"
   },
   {
    "duration": 1529,
    "start_time": "2023-05-10T18:45:55.017Z"
   },
   {
    "duration": 18,
    "start_time": "2023-05-10T18:45:56.548Z"
   },
   {
    "duration": 15,
    "start_time": "2023-05-10T18:45:56.567Z"
   },
   {
    "duration": 17,
    "start_time": "2023-05-10T18:45:56.584Z"
   },
   {
    "duration": 72,
    "start_time": "2023-05-10T18:45:56.602Z"
   },
   {
    "duration": 11,
    "start_time": "2023-05-10T18:45:56.676Z"
   },
   {
    "duration": 41,
    "start_time": "2023-05-10T18:45:56.689Z"
   },
   {
    "duration": 194,
    "start_time": "2023-05-10T18:45:56.732Z"
   },
   {
    "duration": 0,
    "start_time": "2023-05-10T18:45:56.928Z"
   },
   {
    "duration": 11,
    "start_time": "2023-05-10T18:46:50.679Z"
   },
   {
    "duration": 5,
    "start_time": "2023-05-10T18:47:35.606Z"
   },
   {
    "duration": 4,
    "start_time": "2023-05-10T18:47:43.355Z"
   },
   {
    "duration": 4,
    "start_time": "2023-05-10T18:47:47.576Z"
   },
   {
    "duration": 312,
    "start_time": "2023-05-10T18:47:48.358Z"
   },
   {
    "duration": 4,
    "start_time": "2023-05-10T18:47:51.037Z"
   },
   {
    "duration": 87,
    "start_time": "2023-05-10T18:50:31.210Z"
   },
   {
    "duration": 14,
    "start_time": "2023-05-10T18:50:43.568Z"
   },
   {
    "duration": 34,
    "start_time": "2023-05-10T18:50:45.220Z"
   },
   {
    "duration": 33,
    "start_time": "2023-05-10T18:52:07.869Z"
   },
   {
    "duration": 624,
    "start_time": "2023-05-10T18:52:39.478Z"
   },
   {
    "duration": 27,
    "start_time": "2023-05-10T18:53:34.212Z"
   },
   {
    "duration": 11,
    "start_time": "2023-05-10T18:53:40.067Z"
   },
   {
    "duration": 185,
    "start_time": "2023-05-10T18:54:21.147Z"
   },
   {
    "duration": 215,
    "start_time": "2023-05-10T19:07:03.588Z"
   },
   {
    "duration": 78,
    "start_time": "2023-05-10T19:08:33.340Z"
   },
   {
    "duration": 89,
    "start_time": "2023-05-10T19:08:50.939Z"
   },
   {
    "duration": 84,
    "start_time": "2023-05-10T19:08:54.978Z"
   },
   {
    "duration": 70,
    "start_time": "2023-05-10T19:09:04.695Z"
   },
   {
    "duration": 63,
    "start_time": "2023-05-10T19:09:38.799Z"
   },
   {
    "duration": 254,
    "start_time": "2023-05-10T19:12:11.019Z"
   },
   {
    "duration": 187,
    "start_time": "2023-05-10T19:13:18.873Z"
   },
   {
    "duration": 202,
    "start_time": "2023-05-10T19:14:07.455Z"
   },
   {
    "duration": 157,
    "start_time": "2023-05-10T19:14:25.094Z"
   },
   {
    "duration": 190,
    "start_time": "2023-05-10T19:14:39.472Z"
   },
   {
    "duration": 266,
    "start_time": "2023-05-10T19:15:49.751Z"
   },
   {
    "duration": 21,
    "start_time": "2023-05-10T19:16:24.428Z"
   },
   {
    "duration": 76,
    "start_time": "2023-05-10T19:16:38.205Z"
   },
   {
    "duration": 169,
    "start_time": "2023-05-10T19:16:56.372Z"
   },
   {
    "duration": 317,
    "start_time": "2023-05-10T19:17:32.155Z"
   },
   {
    "duration": 199,
    "start_time": "2023-05-10T19:18:13.495Z"
   },
   {
    "duration": 7795,
    "start_time": "2023-05-10T19:18:31.033Z"
   },
   {
    "duration": 8049,
    "start_time": "2023-05-10T19:19:01.416Z"
   },
   {
    "duration": 15,
    "start_time": "2023-05-10T19:20:13.478Z"
   },
   {
    "duration": 9,
    "start_time": "2023-05-10T19:20:29.563Z"
   },
   {
    "duration": 207,
    "start_time": "2023-05-10T19:20:33.763Z"
   },
   {
    "duration": 172,
    "start_time": "2023-05-10T19:21:21.995Z"
   },
   {
    "duration": 4,
    "start_time": "2023-05-10T19:22:19.751Z"
   },
   {
    "duration": 30,
    "start_time": "2023-05-10T19:22:24.322Z"
   },
   {
    "duration": 16,
    "start_time": "2023-05-10T19:22:40.104Z"
   },
   {
    "duration": 4,
    "start_time": "2023-05-10T19:22:48.229Z"
   },
   {
    "duration": 301,
    "start_time": "2023-05-10T19:22:48.235Z"
   },
   {
    "duration": 19,
    "start_time": "2023-05-10T19:22:48.537Z"
   },
   {
    "duration": 12,
    "start_time": "2023-05-10T19:22:48.558Z"
   },
   {
    "duration": 42,
    "start_time": "2023-05-10T19:22:48.571Z"
   },
   {
    "duration": 71,
    "start_time": "2023-05-10T19:22:48.615Z"
   },
   {
    "duration": 28,
    "start_time": "2023-05-10T19:22:48.689Z"
   },
   {
    "duration": 12,
    "start_time": "2023-05-10T19:22:48.719Z"
   },
   {
    "duration": 84,
    "start_time": "2023-05-10T19:22:48.733Z"
   },
   {
    "duration": 14,
    "start_time": "2023-05-10T19:22:48.820Z"
   },
   {
    "duration": 15,
    "start_time": "2023-05-10T19:22:48.835Z"
   },
   {
    "duration": 14,
    "start_time": "2023-05-10T19:22:48.851Z"
   },
   {
    "duration": 50,
    "start_time": "2023-05-10T19:22:48.867Z"
   },
   {
    "duration": 3,
    "start_time": "2023-05-10T19:22:48.919Z"
   },
   {
    "duration": 12,
    "start_time": "2023-05-10T19:22:48.923Z"
   },
   {
    "duration": 377,
    "start_time": "2023-05-10T19:22:48.937Z"
   },
   {
    "duration": 20,
    "start_time": "2023-05-10T19:22:49.315Z"
   },
   {
    "duration": 11,
    "start_time": "2023-05-10T19:22:49.337Z"
   },
   {
    "duration": 17,
    "start_time": "2023-05-10T19:22:49.350Z"
   },
   {
    "duration": 85,
    "start_time": "2023-05-10T19:22:49.369Z"
   },
   {
    "duration": 376,
    "start_time": "2023-05-10T19:22:49.456Z"
   },
   {
    "duration": 91,
    "start_time": "2023-05-10T19:22:49.833Z"
   },
   {
    "duration": 161,
    "start_time": "2023-05-10T19:22:49.926Z"
   },
   {
    "duration": 173,
    "start_time": "2023-05-10T19:22:50.089Z"
   },
   {
    "duration": 198,
    "start_time": "2023-05-10T19:22:50.265Z"
   },
   {
    "duration": 8,
    "start_time": "2023-05-10T19:22:50.465Z"
   },
   {
    "duration": 33,
    "start_time": "2023-05-10T19:22:50.478Z"
   },
   {
    "duration": 1,
    "start_time": "2023-05-10T19:22:50.513Z"
   },
   {
    "duration": 0,
    "start_time": "2023-05-10T19:22:50.515Z"
   },
   {
    "duration": 11,
    "start_time": "2023-05-10T19:23:19.679Z"
   },
   {
    "duration": 67,
    "start_time": "2023-05-10T19:23:23.703Z"
   },
   {
    "duration": 8,
    "start_time": "2023-05-10T19:23:40.959Z"
   },
   {
    "duration": 4,
    "start_time": "2023-05-10T19:24:05.127Z"
   },
   {
    "duration": 299,
    "start_time": "2023-05-10T19:24:30.998Z"
   },
   {
    "duration": 14,
    "start_time": "2023-05-10T19:25:33.944Z"
   },
   {
    "duration": 19,
    "start_time": "2023-05-10T19:25:35.885Z"
   },
   {
    "duration": 4,
    "start_time": "2023-05-10T19:25:44.245Z"
   },
   {
    "duration": 287,
    "start_time": "2023-05-10T19:25:44.251Z"
   },
   {
    "duration": 18,
    "start_time": "2023-05-10T19:25:44.540Z"
   },
   {
    "duration": 12,
    "start_time": "2023-05-10T19:25:44.560Z"
   },
   {
    "duration": 46,
    "start_time": "2023-05-10T19:25:44.575Z"
   },
   {
    "duration": 70,
    "start_time": "2023-05-10T19:25:44.623Z"
   },
   {
    "duration": 20,
    "start_time": "2023-05-10T19:25:44.695Z"
   },
   {
    "duration": 6,
    "start_time": "2023-05-10T19:25:44.717Z"
   },
   {
    "duration": 86,
    "start_time": "2023-05-10T19:25:44.724Z"
   },
   {
    "duration": 13,
    "start_time": "2023-05-10T19:25:44.812Z"
   },
   {
    "duration": 12,
    "start_time": "2023-05-10T19:25:44.826Z"
   },
   {
    "duration": 13,
    "start_time": "2023-05-10T19:25:44.840Z"
   },
   {
    "duration": 59,
    "start_time": "2023-05-10T19:25:44.855Z"
   },
   {
    "duration": 3,
    "start_time": "2023-05-10T19:25:44.917Z"
   },
   {
    "duration": 9,
    "start_time": "2023-05-10T19:25:44.922Z"
   },
   {
    "duration": 373,
    "start_time": "2023-05-10T19:25:44.932Z"
   },
   {
    "duration": 18,
    "start_time": "2023-05-10T19:25:45.307Z"
   },
   {
    "duration": 15,
    "start_time": "2023-05-10T19:25:45.327Z"
   },
   {
    "duration": 24,
    "start_time": "2023-05-10T19:25:45.344Z"
   },
   {
    "duration": 85,
    "start_time": "2023-05-10T19:25:45.370Z"
   },
   {
    "duration": 385,
    "start_time": "2023-05-10T19:25:45.457Z"
   },
   {
    "duration": 90,
    "start_time": "2023-05-10T19:25:45.844Z"
   },
   {
    "duration": 155,
    "start_time": "2023-05-10T19:25:45.936Z"
   },
   {
    "duration": 159,
    "start_time": "2023-05-10T19:25:46.093Z"
   },
   {
    "duration": 141,
    "start_time": "2023-05-10T19:25:46.253Z"
   },
   {
    "duration": 7,
    "start_time": "2023-05-10T19:25:46.396Z"
   },
   {
    "duration": 11,
    "start_time": "2023-05-10T19:25:46.404Z"
   },
   {
    "duration": 16,
    "start_time": "2023-05-10T19:25:46.417Z"
   },
   {
    "duration": 7,
    "start_time": "2023-05-10T19:25:46.435Z"
   },
   {
    "duration": 17,
    "start_time": "2023-05-10T19:25:46.443Z"
   },
   {
    "duration": 368,
    "start_time": "2023-05-10T19:25:46.462Z"
   },
   {
    "duration": 4,
    "start_time": "2023-05-10T19:26:06.245Z"
   },
   {
    "duration": 300,
    "start_time": "2023-05-10T19:26:06.251Z"
   },
   {
    "duration": 17,
    "start_time": "2023-05-10T19:26:06.553Z"
   },
   {
    "duration": 8,
    "start_time": "2023-05-10T19:26:06.572Z"
   },
   {
    "duration": 37,
    "start_time": "2023-05-10T19:26:06.583Z"
   },
   {
    "duration": 65,
    "start_time": "2023-05-10T19:26:06.622Z"
   },
   {
    "duration": 25,
    "start_time": "2023-05-10T19:26:06.689Z"
   },
   {
    "duration": 6,
    "start_time": "2023-05-10T19:26:06.716Z"
   },
   {
    "duration": 68,
    "start_time": "2023-05-10T19:26:06.724Z"
   },
   {
    "duration": 25,
    "start_time": "2023-05-10T19:26:06.793Z"
   },
   {
    "duration": 5,
    "start_time": "2023-05-10T19:26:06.821Z"
   },
   {
    "duration": 16,
    "start_time": "2023-05-10T19:26:06.828Z"
   },
   {
    "duration": 41,
    "start_time": "2023-05-10T19:26:06.846Z"
   },
   {
    "duration": 3,
    "start_time": "2023-05-10T19:26:06.912Z"
   },
   {
    "duration": 7,
    "start_time": "2023-05-10T19:26:06.918Z"
   },
   {
    "duration": 374,
    "start_time": "2023-05-10T19:26:06.926Z"
   },
   {
    "duration": 23,
    "start_time": "2023-05-10T19:26:07.302Z"
   },
   {
    "duration": 15,
    "start_time": "2023-05-10T19:26:07.327Z"
   },
   {
    "duration": 19,
    "start_time": "2023-05-10T19:26:07.344Z"
   },
   {
    "duration": 113,
    "start_time": "2023-05-10T19:26:07.365Z"
   },
   {
    "duration": 406,
    "start_time": "2023-05-10T19:26:07.480Z"
   },
   {
    "duration": 97,
    "start_time": "2023-05-10T19:26:07.888Z"
   },
   {
    "duration": 146,
    "start_time": "2023-05-10T19:26:07.987Z"
   },
   {
    "duration": 156,
    "start_time": "2023-05-10T19:26:08.135Z"
   },
   {
    "duration": 148,
    "start_time": "2023-05-10T19:26:08.293Z"
   },
   {
    "duration": 2,
    "start_time": "2023-05-10T19:26:08.444Z"
   },
   {
    "duration": 9,
    "start_time": "2023-05-10T19:26:08.447Z"
   },
   {
    "duration": 16,
    "start_time": "2023-05-10T19:26:08.458Z"
   },
   {
    "duration": 7,
    "start_time": "2023-05-10T19:26:08.477Z"
   },
   {
    "duration": 41,
    "start_time": "2023-05-10T19:26:08.486Z"
   },
   {
    "duration": 44,
    "start_time": "2023-05-10T19:26:08.529Z"
   },
   {
    "duration": 16,
    "start_time": "2023-05-10T19:29:56.921Z"
   },
   {
    "duration": 66,
    "start_time": "2023-05-10T19:30:21.557Z"
   },
   {
    "duration": 261,
    "start_time": "2023-05-10T19:31:33.997Z"
   },
   {
    "duration": 18,
    "start_time": "2023-05-10T19:31:56.550Z"
   },
   {
    "duration": 264,
    "start_time": "2023-05-10T19:32:04.471Z"
   },
   {
    "duration": 776,
    "start_time": "2023-05-10T19:34:13.827Z"
   },
   {
    "duration": 225,
    "start_time": "2023-05-10T19:34:29.404Z"
   },
   {
    "duration": 893,
    "start_time": "2023-05-10T19:34:44.190Z"
   },
   {
    "duration": 121,
    "start_time": "2023-05-10T19:35:41.745Z"
   },
   {
    "duration": 129,
    "start_time": "2023-05-10T19:35:54.904Z"
   },
   {
    "duration": 120,
    "start_time": "2023-05-10T19:36:19.832Z"
   },
   {
    "duration": 118,
    "start_time": "2023-05-10T19:36:43.480Z"
   },
   {
    "duration": 735,
    "start_time": "2023-05-10T19:38:03.363Z"
   },
   {
    "duration": 151,
    "start_time": "2023-05-10T19:39:29.800Z"
   },
   {
    "duration": 47,
    "start_time": "2023-05-10T19:40:23.103Z"
   },
   {
    "duration": 991,
    "start_time": "2023-05-10T19:40:39.813Z"
   },
   {
    "duration": 1030,
    "start_time": "2023-05-10T19:41:26.255Z"
   },
   {
    "duration": 229,
    "start_time": "2023-05-10T19:41:41.455Z"
   },
   {
    "duration": 2339,
    "start_time": "2023-05-10T19:42:25.483Z"
   },
   {
    "duration": 1047,
    "start_time": "2023-05-10T19:43:21.838Z"
   },
   {
    "duration": 743,
    "start_time": "2023-05-10T19:47:40.547Z"
   },
   {
    "duration": 4,
    "start_time": "2023-05-10T19:48:26.297Z"
   },
   {
    "duration": 325,
    "start_time": "2023-05-10T19:48:26.303Z"
   },
   {
    "duration": 19,
    "start_time": "2023-05-10T19:48:26.630Z"
   },
   {
    "duration": 16,
    "start_time": "2023-05-10T19:48:26.650Z"
   },
   {
    "duration": 47,
    "start_time": "2023-05-10T19:48:26.669Z"
   },
   {
    "duration": 67,
    "start_time": "2023-05-10T19:48:26.718Z"
   },
   {
    "duration": 28,
    "start_time": "2023-05-10T19:48:26.787Z"
   },
   {
    "duration": 9,
    "start_time": "2023-05-10T19:48:26.816Z"
   },
   {
    "duration": 107,
    "start_time": "2023-05-10T19:48:26.828Z"
   },
   {
    "duration": 16,
    "start_time": "2023-05-10T19:48:26.937Z"
   },
   {
    "duration": 6,
    "start_time": "2023-05-10T19:48:26.957Z"
   },
   {
    "duration": 15,
    "start_time": "2023-05-10T19:48:26.965Z"
   },
   {
    "duration": 85,
    "start_time": "2023-05-10T19:48:26.982Z"
   },
   {
    "duration": 4,
    "start_time": "2023-05-10T19:48:27.069Z"
   },
   {
    "duration": 9,
    "start_time": "2023-05-10T19:48:27.075Z"
   },
   {
    "duration": 439,
    "start_time": "2023-05-10T19:48:27.087Z"
   },
   {
    "duration": 27,
    "start_time": "2023-05-10T19:48:27.529Z"
   },
   {
    "duration": 16,
    "start_time": "2023-05-10T19:48:27.558Z"
   },
   {
    "duration": 49,
    "start_time": "2023-05-10T19:48:27.577Z"
   },
   {
    "duration": 67,
    "start_time": "2023-05-10T19:48:27.629Z"
   },
   {
    "duration": 400,
    "start_time": "2023-05-10T19:48:27.698Z"
   },
   {
    "duration": 17,
    "start_time": "2023-05-10T19:48:28.100Z"
   },
   {
    "duration": 1095,
    "start_time": "2023-05-10T19:48:28.119Z"
   },
   {
    "duration": 794,
    "start_time": "2023-05-10T19:48:29.216Z"
   },
   {
    "duration": 0,
    "start_time": "2023-05-10T19:48:30.013Z"
   },
   {
    "duration": 0,
    "start_time": "2023-05-10T19:48:30.015Z"
   },
   {
    "duration": 0,
    "start_time": "2023-05-10T19:48:30.017Z"
   },
   {
    "duration": 0,
    "start_time": "2023-05-10T19:48:30.018Z"
   },
   {
    "duration": 810,
    "start_time": "2023-05-10T19:50:07.092Z"
   },
   {
    "duration": 57,
    "start_time": "2023-05-10T19:52:00.499Z"
   },
   {
    "duration": 60,
    "start_time": "2023-05-10T19:53:00.816Z"
   },
   {
    "duration": 38,
    "start_time": "2023-05-10T19:53:12.118Z"
   },
   {
    "duration": 40,
    "start_time": "2023-05-10T19:53:34.605Z"
   },
   {
    "duration": 39,
    "start_time": "2023-05-10T19:53:46.686Z"
   },
   {
    "duration": 52,
    "start_time": "2023-05-10T19:54:22.171Z"
   },
   {
    "duration": 698,
    "start_time": "2023-05-10T19:55:43.901Z"
   },
   {
    "duration": 664,
    "start_time": "2023-05-10T19:55:57.772Z"
   },
   {
    "duration": 20,
    "start_time": "2023-05-10T19:56:38.272Z"
   },
   {
    "duration": 6985,
    "start_time": "2023-05-10T19:57:48.361Z"
   },
   {
    "duration": 6,
    "start_time": "2023-05-10T19:58:00.445Z"
   },
   {
    "duration": 367,
    "start_time": "2023-05-10T19:58:00.454Z"
   },
   {
    "duration": 18,
    "start_time": "2023-05-10T19:58:00.823Z"
   },
   {
    "duration": 30,
    "start_time": "2023-05-10T19:58:00.843Z"
   },
   {
    "duration": 40,
    "start_time": "2023-05-10T19:58:00.875Z"
   },
   {
    "duration": 68,
    "start_time": "2023-05-10T19:58:00.917Z"
   },
   {
    "duration": 6,
    "start_time": "2023-05-10T19:58:00.987Z"
   },
   {
    "duration": 20,
    "start_time": "2023-05-10T19:58:00.995Z"
   },
   {
    "duration": 102,
    "start_time": "2023-05-10T19:58:01.017Z"
   },
   {
    "duration": 15,
    "start_time": "2023-05-10T19:58:01.122Z"
   },
   {
    "duration": 14,
    "start_time": "2023-05-10T19:58:01.139Z"
   },
   {
    "duration": 34,
    "start_time": "2023-05-10T19:58:01.155Z"
   },
   {
    "duration": 41,
    "start_time": "2023-05-10T19:58:01.191Z"
   },
   {
    "duration": 27,
    "start_time": "2023-05-10T19:58:01.234Z"
   },
   {
    "duration": 22,
    "start_time": "2023-05-10T19:58:01.263Z"
   },
   {
    "duration": 398,
    "start_time": "2023-05-10T19:58:01.287Z"
   },
   {
    "duration": 28,
    "start_time": "2023-05-10T19:58:01.687Z"
   },
   {
    "duration": 59,
    "start_time": "2023-05-10T19:58:01.717Z"
   },
   {
    "duration": 44,
    "start_time": "2023-05-10T19:58:01.778Z"
   },
   {
    "duration": 82,
    "start_time": "2023-05-10T19:58:01.824Z"
   },
   {
    "duration": 365,
    "start_time": "2023-05-10T19:58:01.907Z"
   },
   {
    "duration": 7,
    "start_time": "2023-05-10T19:58:02.274Z"
   },
   {
    "duration": 1098,
    "start_time": "2023-05-10T19:58:02.282Z"
   },
   {
    "duration": 36,
    "start_time": "2023-05-10T19:58:03.382Z"
   },
   {
    "duration": 15,
    "start_time": "2023-05-10T19:58:03.420Z"
   },
   {
    "duration": 8,
    "start_time": "2023-05-10T19:58:03.436Z"
   },
   {
    "duration": 35,
    "start_time": "2023-05-10T19:58:03.445Z"
   },
   {
    "duration": 39,
    "start_time": "2023-05-10T19:58:03.483Z"
   },
   {
    "duration": 9,
    "start_time": "2023-05-10T20:00:06.173Z"
   },
   {
    "duration": 1106,
    "start_time": "2023-05-10T20:00:15.741Z"
   },
   {
    "duration": 323,
    "start_time": "2023-05-10T20:00:16.849Z"
   },
   {
    "duration": 20,
    "start_time": "2023-05-10T20:00:17.174Z"
   },
   {
    "duration": 25,
    "start_time": "2023-05-10T20:00:17.196Z"
   },
   {
    "duration": 20,
    "start_time": "2023-05-10T20:00:17.223Z"
   },
   {
    "duration": 97,
    "start_time": "2023-05-10T20:00:17.245Z"
   },
   {
    "duration": 8,
    "start_time": "2023-05-10T20:00:17.344Z"
   },
   {
    "duration": 7,
    "start_time": "2023-05-10T20:00:17.354Z"
   },
   {
    "duration": 102,
    "start_time": "2023-05-10T20:00:17.363Z"
   },
   {
    "duration": 15,
    "start_time": "2023-05-10T20:00:17.467Z"
   },
   {
    "duration": 4,
    "start_time": "2023-05-10T20:00:17.484Z"
   },
   {
    "duration": 14,
    "start_time": "2023-05-10T20:00:17.511Z"
   },
   {
    "duration": 42,
    "start_time": "2023-05-10T20:00:17.527Z"
   },
   {
    "duration": 3,
    "start_time": "2023-05-10T20:00:17.570Z"
   },
   {
    "duration": 37,
    "start_time": "2023-05-10T20:00:17.574Z"
   },
   {
    "duration": 413,
    "start_time": "2023-05-10T20:00:17.613Z"
   },
   {
    "duration": 24,
    "start_time": "2023-05-10T20:00:18.028Z"
   },
   {
    "duration": 18,
    "start_time": "2023-05-10T20:00:18.054Z"
   },
   {
    "duration": 49,
    "start_time": "2023-05-10T20:00:18.074Z"
   },
   {
    "duration": 101,
    "start_time": "2023-05-10T20:00:18.125Z"
   },
   {
    "duration": 395,
    "start_time": "2023-05-10T20:00:18.228Z"
   },
   {
    "duration": 10,
    "start_time": "2023-05-10T20:00:18.625Z"
   },
   {
    "duration": 1334,
    "start_time": "2023-05-10T20:00:18.636Z"
   },
   {
    "duration": 8,
    "start_time": "2023-05-10T20:00:19.972Z"
   },
   {
    "duration": 31,
    "start_time": "2023-05-10T20:00:19.982Z"
   },
   {
    "duration": 8,
    "start_time": "2023-05-10T20:00:20.015Z"
   },
   {
    "duration": 43,
    "start_time": "2023-05-10T20:00:20.025Z"
   },
   {
    "duration": 43,
    "start_time": "2023-05-10T20:00:20.072Z"
   },
   {
    "duration": 72,
    "start_time": "2023-05-10T20:09:15.090Z"
   },
   {
    "duration": 164,
    "start_time": "2023-05-10T20:09:40.254Z"
   },
   {
    "duration": 3,
    "start_time": "2023-05-10T20:09:49.674Z"
   },
   {
    "duration": 4,
    "start_time": "2023-05-10T20:09:53.821Z"
   },
   {
    "duration": 3,
    "start_time": "2023-05-10T20:09:59.969Z"
   },
   {
    "duration": 4,
    "start_time": "2023-05-10T20:10:01.125Z"
   },
   {
    "duration": 4,
    "start_time": "2023-05-10T20:10:02.928Z"
   },
   {
    "duration": 4,
    "start_time": "2023-05-10T20:10:07.659Z"
   },
   {
    "duration": 11,
    "start_time": "2023-05-10T20:15:34.961Z"
   },
   {
    "duration": 4,
    "start_time": "2023-05-10T20:17:29.477Z"
   },
   {
    "duration": 5,
    "start_time": "2023-05-10T20:17:30.044Z"
   },
   {
    "duration": 4,
    "start_time": "2023-05-10T20:58:29.652Z"
   },
   {
    "duration": 17,
    "start_time": "2023-05-10T21:01:02.645Z"
   },
   {
    "duration": 21,
    "start_time": "2023-05-10T21:01:27.967Z"
   },
   {
    "duration": 5,
    "start_time": "2023-05-10T21:05:16.070Z"
   },
   {
    "duration": 16,
    "start_time": "2023-05-10T21:05:20.803Z"
   },
   {
    "duration": 501,
    "start_time": "2023-05-10T21:05:32.842Z"
   },
   {
    "duration": 148,
    "start_time": "2023-05-10T21:06:23.747Z"
   },
   {
    "duration": 120,
    "start_time": "2023-05-10T21:06:50.148Z"
   },
   {
    "duration": 1010,
    "start_time": "2023-05-10T21:08:03.281Z"
   },
   {
    "duration": 362,
    "start_time": "2023-05-10T21:09:57.468Z"
   },
   {
    "duration": 410,
    "start_time": "2023-05-10T21:10:01.312Z"
   },
   {
    "duration": 600,
    "start_time": "2023-05-10T21:10:08.711Z"
   },
   {
    "duration": 514,
    "start_time": "2023-05-10T21:10:27.376Z"
   },
   {
    "duration": 1060,
    "start_time": "2023-05-10T21:17:40.308Z"
   },
   {
    "duration": 74,
    "start_time": "2023-05-10T21:18:43.517Z"
   },
   {
    "duration": 46,
    "start_time": "2023-05-10T21:18:51.964Z"
   },
   {
    "duration": 47,
    "start_time": "2023-05-10T21:18:56.193Z"
   },
   {
    "duration": 240,
    "start_time": "2023-05-10T21:19:30.357Z"
   },
   {
    "duration": 591,
    "start_time": "2023-05-10T21:19:44.554Z"
   },
   {
    "duration": 790,
    "start_time": "2023-05-10T21:21:55.768Z"
   },
   {
    "duration": 414,
    "start_time": "2023-05-10T21:28:41.149Z"
   },
   {
    "duration": 420,
    "start_time": "2023-05-10T21:29:08.259Z"
   },
   {
    "duration": 497,
    "start_time": "2023-05-10T21:29:27.364Z"
   },
   {
    "duration": 12,
    "start_time": "2023-05-10T21:29:30.771Z"
   },
   {
    "duration": 435,
    "start_time": "2023-05-10T21:29:36.875Z"
   },
   {
    "duration": 542,
    "start_time": "2023-05-10T21:30:16.841Z"
   },
   {
    "duration": 513,
    "start_time": "2023-05-10T21:30:27.585Z"
   },
   {
    "duration": 18,
    "start_time": "2023-05-10T21:31:22.710Z"
   },
   {
    "duration": 445,
    "start_time": "2023-05-10T21:31:35.807Z"
   },
   {
    "duration": 652,
    "start_time": "2023-05-10T21:31:58.661Z"
   },
   {
    "duration": 683,
    "start_time": "2023-05-10T21:32:17.876Z"
   },
   {
    "duration": 607,
    "start_time": "2023-05-10T21:33:00.692Z"
   },
   {
    "duration": 1028,
    "start_time": "2023-05-11T16:46:22.234Z"
   },
   {
    "duration": 815,
    "start_time": "2023-05-11T16:46:23.263Z"
   },
   {
    "duration": 18,
    "start_time": "2023-05-11T16:46:24.079Z"
   },
   {
    "duration": 9,
    "start_time": "2023-05-11T16:46:24.099Z"
   },
   {
    "duration": 20,
    "start_time": "2023-05-11T16:46:24.109Z"
   },
   {
    "duration": 53,
    "start_time": "2023-05-11T16:46:24.131Z"
   },
   {
    "duration": 4,
    "start_time": "2023-05-11T16:46:24.186Z"
   },
   {
    "duration": 4,
    "start_time": "2023-05-11T16:46:24.192Z"
   },
   {
    "duration": 354,
    "start_time": "2023-05-11T16:46:24.217Z"
   },
   {
    "duration": 14,
    "start_time": "2023-05-11T16:46:24.574Z"
   },
   {
    "duration": 5,
    "start_time": "2023-05-11T16:46:24.590Z"
   },
   {
    "duration": 18,
    "start_time": "2023-05-11T16:46:24.596Z"
   },
   {
    "duration": 36,
    "start_time": "2023-05-11T16:46:24.616Z"
   },
   {
    "duration": 6,
    "start_time": "2023-05-11T16:46:24.653Z"
   },
   {
    "duration": 13,
    "start_time": "2023-05-11T16:46:24.661Z"
   },
   {
    "duration": 1129,
    "start_time": "2023-05-11T16:46:24.675Z"
   },
   {
    "duration": 16,
    "start_time": "2023-05-11T16:46:25.805Z"
   },
   {
    "duration": 12,
    "start_time": "2023-05-11T16:46:25.823Z"
   },
   {
    "duration": 16,
    "start_time": "2023-05-11T16:46:25.836Z"
   },
   {
    "duration": 49,
    "start_time": "2023-05-11T16:46:25.853Z"
   },
   {
    "duration": 322,
    "start_time": "2023-05-11T16:46:25.904Z"
   },
   {
    "duration": 8,
    "start_time": "2023-05-11T16:46:26.227Z"
   },
   {
    "duration": 1333,
    "start_time": "2023-05-11T16:46:26.236Z"
   },
   {
    "duration": 11,
    "start_time": "2023-05-11T16:46:27.571Z"
   },
   {
    "duration": 93,
    "start_time": "2023-05-11T16:46:27.584Z"
   },
   {
    "duration": 9,
    "start_time": "2023-05-11T16:46:27.679Z"
   },
   {
    "duration": 16,
    "start_time": "2023-05-11T16:46:27.690Z"
   },
   {
    "duration": 35,
    "start_time": "2023-05-11T16:46:27.708Z"
   },
   {
    "duration": 4,
    "start_time": "2023-05-11T16:46:27.744Z"
   },
   {
    "duration": 12,
    "start_time": "2023-05-11T16:46:27.749Z"
   },
   {
    "duration": 5,
    "start_time": "2023-05-11T16:46:27.763Z"
   },
   {
    "duration": 430,
    "start_time": "2023-05-11T16:46:27.770Z"
   },
   {
    "duration": 428,
    "start_time": "2023-05-11T16:46:28.202Z"
   },
   {
    "duration": 444,
    "start_time": "2023-05-11T16:46:28.632Z"
   },
   {
    "duration": 105,
    "start_time": "2023-05-11T16:48:50.387Z"
   },
   {
    "duration": 8,
    "start_time": "2023-05-11T16:48:53.637Z"
   },
   {
    "duration": 17,
    "start_time": "2023-05-11T16:49:21.700Z"
   },
   {
    "duration": 8,
    "start_time": "2023-05-11T16:49:28.236Z"
   },
   {
    "duration": 7,
    "start_time": "2023-05-11T16:49:57.023Z"
   },
   {
    "duration": 9,
    "start_time": "2023-05-11T16:50:50.593Z"
   },
   {
    "duration": 9,
    "start_time": "2023-05-11T16:51:00.547Z"
   },
   {
    "duration": 14,
    "start_time": "2023-05-11T16:51:12.903Z"
   },
   {
    "duration": 15,
    "start_time": "2023-05-11T16:51:25.095Z"
   },
   {
    "duration": 5,
    "start_time": "2023-05-11T16:51:45.934Z"
   },
   {
    "duration": 5,
    "start_time": "2023-05-11T16:51:53.398Z"
   },
   {
    "duration": 293,
    "start_time": "2023-05-11T16:51:53.405Z"
   },
   {
    "duration": 20,
    "start_time": "2023-05-11T16:51:53.700Z"
   },
   {
    "duration": 9,
    "start_time": "2023-05-11T16:51:53.722Z"
   },
   {
    "duration": 16,
    "start_time": "2023-05-11T16:51:53.733Z"
   },
   {
    "duration": 73,
    "start_time": "2023-05-11T16:51:53.751Z"
   },
   {
    "duration": 4,
    "start_time": "2023-05-11T16:51:53.826Z"
   },
   {
    "duration": 6,
    "start_time": "2023-05-11T16:51:53.832Z"
   },
   {
    "duration": 80,
    "start_time": "2023-05-11T16:51:53.839Z"
   },
   {
    "duration": 11,
    "start_time": "2023-05-11T16:51:53.920Z"
   },
   {
    "duration": 22,
    "start_time": "2023-05-11T16:51:53.933Z"
   },
   {
    "duration": 21,
    "start_time": "2023-05-11T16:51:53.957Z"
   },
   {
    "duration": 32,
    "start_time": "2023-05-11T16:51:53.980Z"
   },
   {
    "duration": 5,
    "start_time": "2023-05-11T16:51:54.015Z"
   },
   {
    "duration": 10,
    "start_time": "2023-05-11T16:51:54.021Z"
   },
   {
    "duration": 377,
    "start_time": "2023-05-11T16:51:54.033Z"
   },
   {
    "duration": 19,
    "start_time": "2023-05-11T16:51:54.412Z"
   },
   {
    "duration": 14,
    "start_time": "2023-05-11T16:51:54.432Z"
   },
   {
    "duration": 25,
    "start_time": "2023-05-11T16:51:54.448Z"
   },
   {
    "duration": 93,
    "start_time": "2023-05-11T16:51:54.475Z"
   },
   {
    "duration": 334,
    "start_time": "2023-05-11T16:51:54.570Z"
   },
   {
    "duration": 13,
    "start_time": "2023-05-11T16:51:54.906Z"
   },
   {
    "duration": 936,
    "start_time": "2023-05-11T16:51:54.921Z"
   },
   {
    "duration": 8,
    "start_time": "2023-05-11T16:51:55.859Z"
   },
   {
    "duration": 17,
    "start_time": "2023-05-11T16:51:55.868Z"
   },
   {
    "duration": 9,
    "start_time": "2023-05-11T16:51:55.887Z"
   },
   {
    "duration": 12,
    "start_time": "2023-05-11T16:51:55.918Z"
   },
   {
    "duration": 25,
    "start_time": "2023-05-11T16:51:55.932Z"
   },
   {
    "duration": 8,
    "start_time": "2023-05-11T16:51:55.959Z"
   },
   {
    "duration": 0,
    "start_time": "2023-05-11T16:51:55.969Z"
   },
   {
    "duration": 0,
    "start_time": "2023-05-11T16:51:55.970Z"
   },
   {
    "duration": 0,
    "start_time": "2023-05-11T16:51:55.971Z"
   },
   {
    "duration": 0,
    "start_time": "2023-05-11T16:51:55.973Z"
   },
   {
    "duration": 0,
    "start_time": "2023-05-11T16:51:55.974Z"
   },
   {
    "duration": 0,
    "start_time": "2023-05-11T16:51:55.975Z"
   },
   {
    "duration": 0,
    "start_time": "2023-05-11T16:51:55.976Z"
   },
   {
    "duration": 22,
    "start_time": "2023-05-11T16:52:37.231Z"
   },
   {
    "duration": 19,
    "start_time": "2023-05-11T16:53:51.180Z"
   },
   {
    "duration": 8,
    "start_time": "2023-05-11T16:53:54.386Z"
   },
   {
    "duration": 26,
    "start_time": "2023-05-11T16:54:06.106Z"
   },
   {
    "duration": 9,
    "start_time": "2023-05-11T16:54:07.314Z"
   },
   {
    "duration": 11,
    "start_time": "2023-05-11T16:54:36.869Z"
   },
   {
    "duration": 24,
    "start_time": "2023-05-11T16:54:36.882Z"
   },
   {
    "duration": 3,
    "start_time": "2023-05-11T16:54:36.907Z"
   },
   {
    "duration": 7,
    "start_time": "2023-05-11T16:54:36.911Z"
   },
   {
    "duration": 5,
    "start_time": "2023-05-11T16:54:36.920Z"
   },
   {
    "duration": 421,
    "start_time": "2023-05-11T16:54:36.927Z"
   },
   {
    "duration": 429,
    "start_time": "2023-05-11T16:54:37.349Z"
   },
   {
    "duration": 458,
    "start_time": "2023-05-11T16:54:37.779Z"
   },
   {
    "duration": 8,
    "start_time": "2023-05-11T16:54:38.239Z"
   },
   {
    "duration": 4,
    "start_time": "2023-05-11T16:54:49.835Z"
   },
   {
    "duration": 8,
    "start_time": "2023-05-11T16:55:10.261Z"
   },
   {
    "duration": 85,
    "start_time": "2023-05-11T16:55:15.784Z"
   },
   {
    "duration": 11,
    "start_time": "2023-05-11T16:56:12.185Z"
   },
   {
    "duration": 25,
    "start_time": "2023-05-11T16:56:34.863Z"
   },
   {
    "duration": 4,
    "start_time": "2023-05-11T16:56:42.087Z"
   },
   {
    "duration": 8,
    "start_time": "2023-05-11T16:56:48.239Z"
   },
   {
    "duration": 4,
    "start_time": "2023-05-11T16:56:56.334Z"
   },
   {
    "duration": 1017,
    "start_time": "2023-05-11T16:59:35.448Z"
   },
   {
    "duration": 285,
    "start_time": "2023-05-11T16:59:36.467Z"
   },
   {
    "duration": 16,
    "start_time": "2023-05-11T16:59:36.754Z"
   },
   {
    "duration": 13,
    "start_time": "2023-05-11T16:59:36.772Z"
   },
   {
    "duration": 31,
    "start_time": "2023-05-11T16:59:36.787Z"
   },
   {
    "duration": 53,
    "start_time": "2023-05-11T16:59:36.819Z"
   },
   {
    "duration": 4,
    "start_time": "2023-05-11T16:59:36.874Z"
   },
   {
    "duration": 10,
    "start_time": "2023-05-11T16:59:36.880Z"
   },
   {
    "duration": 83,
    "start_time": "2023-05-11T16:59:36.892Z"
   },
   {
    "duration": 12,
    "start_time": "2023-05-11T16:59:36.977Z"
   },
   {
    "duration": 4,
    "start_time": "2023-05-11T16:59:36.991Z"
   },
   {
    "duration": 21,
    "start_time": "2023-05-11T16:59:36.996Z"
   },
   {
    "duration": 34,
    "start_time": "2023-05-11T16:59:37.019Z"
   },
   {
    "duration": 7,
    "start_time": "2023-05-11T16:59:37.054Z"
   },
   {
    "duration": 13,
    "start_time": "2023-05-11T16:59:37.063Z"
   },
   {
    "duration": 345,
    "start_time": "2023-05-11T16:59:37.078Z"
   },
   {
    "duration": 16,
    "start_time": "2023-05-11T16:59:37.425Z"
   },
   {
    "duration": 12,
    "start_time": "2023-05-11T16:59:37.442Z"
   },
   {
    "duration": 16,
    "start_time": "2023-05-11T16:59:37.455Z"
   },
   {
    "duration": 78,
    "start_time": "2023-05-11T16:59:37.473Z"
   },
   {
    "duration": 307,
    "start_time": "2023-05-11T16:59:37.552Z"
   },
   {
    "duration": 7,
    "start_time": "2023-05-11T16:59:37.861Z"
   },
   {
    "duration": 1130,
    "start_time": "2023-05-11T16:59:37.870Z"
   },
   {
    "duration": 21,
    "start_time": "2023-05-11T16:59:39.002Z"
   },
   {
    "duration": 27,
    "start_time": "2023-05-11T16:59:39.025Z"
   },
   {
    "duration": 19,
    "start_time": "2023-05-11T16:59:39.054Z"
   },
   {
    "duration": 28,
    "start_time": "2023-05-11T16:59:39.075Z"
   },
   {
    "duration": 27,
    "start_time": "2023-05-11T16:59:39.107Z"
   },
   {
    "duration": 81,
    "start_time": "2023-05-11T16:59:39.136Z"
   },
   {
    "duration": 3,
    "start_time": "2023-05-11T16:59:39.218Z"
   },
   {
    "duration": 37,
    "start_time": "2023-05-11T16:59:39.222Z"
   },
   {
    "duration": 10,
    "start_time": "2023-05-11T16:59:39.261Z"
   },
   {
    "duration": 496,
    "start_time": "2023-05-11T16:59:39.272Z"
   },
   {
    "duration": 432,
    "start_time": "2023-05-11T16:59:39.769Z"
   },
   {
    "duration": 440,
    "start_time": "2023-05-11T16:59:40.202Z"
   },
   {
    "duration": 14,
    "start_time": "2023-05-11T16:59:40.644Z"
   },
   {
    "duration": 116,
    "start_time": "2023-05-11T17:01:19.950Z"
   },
   {
    "duration": 115,
    "start_time": "2023-05-11T17:01:36.949Z"
   },
   {
    "duration": 128,
    "start_time": "2023-05-11T17:02:31.278Z"
   },
   {
    "duration": 217,
    "start_time": "2023-05-11T17:02:44.039Z"
   },
   {
    "duration": 134,
    "start_time": "2023-05-11T17:03:33.779Z"
   },
   {
    "duration": 183,
    "start_time": "2023-05-11T17:03:58.350Z"
   },
   {
    "duration": 191,
    "start_time": "2023-05-11T17:04:16.817Z"
   },
   {
    "duration": 136,
    "start_time": "2023-05-11T17:04:50.763Z"
   },
   {
    "duration": 68,
    "start_time": "2023-05-11T17:06:24.405Z"
   },
   {
    "duration": 123,
    "start_time": "2023-05-11T17:06:39.132Z"
   },
   {
    "duration": 114,
    "start_time": "2023-05-11T17:07:05.307Z"
   },
   {
    "duration": 12,
    "start_time": "2023-05-11T17:07:38.867Z"
   },
   {
    "duration": 12,
    "start_time": "2023-05-11T17:08:40.419Z"
   },
   {
    "duration": 4,
    "start_time": "2023-05-11T17:09:09.573Z"
   },
   {
    "duration": 321,
    "start_time": "2023-05-11T17:09:09.580Z"
   },
   {
    "duration": 21,
    "start_time": "2023-05-11T17:09:09.903Z"
   },
   {
    "duration": 11,
    "start_time": "2023-05-11T17:09:09.926Z"
   },
   {
    "duration": 24,
    "start_time": "2023-05-11T17:09:09.939Z"
   },
   {
    "duration": 78,
    "start_time": "2023-05-11T17:09:09.965Z"
   },
   {
    "duration": 4,
    "start_time": "2023-05-11T17:09:10.045Z"
   },
   {
    "duration": 12,
    "start_time": "2023-05-11T17:09:10.051Z"
   },
   {
    "duration": 80,
    "start_time": "2023-05-11T17:09:10.065Z"
   },
   {
    "duration": 15,
    "start_time": "2023-05-11T17:09:10.147Z"
   },
   {
    "duration": 4,
    "start_time": "2023-05-11T17:09:10.165Z"
   },
   {
    "duration": 15,
    "start_time": "2023-05-11T17:09:10.170Z"
   },
   {
    "duration": 51,
    "start_time": "2023-05-11T17:09:10.187Z"
   },
   {
    "duration": 3,
    "start_time": "2023-05-11T17:09:10.240Z"
   },
   {
    "duration": 8,
    "start_time": "2023-05-11T17:09:10.244Z"
   },
   {
    "duration": 370,
    "start_time": "2023-05-11T17:09:10.254Z"
   },
   {
    "duration": 17,
    "start_time": "2023-05-11T17:09:10.625Z"
   },
   {
    "duration": 13,
    "start_time": "2023-05-11T17:09:10.643Z"
   },
   {
    "duration": 23,
    "start_time": "2023-05-11T17:09:10.658Z"
   },
   {
    "duration": 87,
    "start_time": "2023-05-11T17:09:10.684Z"
   },
   {
    "duration": 346,
    "start_time": "2023-05-11T17:09:10.772Z"
   },
   {
    "duration": 6,
    "start_time": "2023-05-11T17:09:11.120Z"
   },
   {
    "duration": 873,
    "start_time": "2023-05-11T17:09:11.128Z"
   },
   {
    "duration": 15,
    "start_time": "2023-05-11T17:09:12.002Z"
   },
   {
    "duration": 16,
    "start_time": "2023-05-11T17:09:12.019Z"
   },
   {
    "duration": 6,
    "start_time": "2023-05-11T17:09:12.037Z"
   },
   {
    "duration": 94,
    "start_time": "2023-05-11T17:09:12.044Z"
   },
   {
    "duration": 0,
    "start_time": "2023-05-11T17:09:12.140Z"
   },
   {
    "duration": 0,
    "start_time": "2023-05-11T17:09:12.141Z"
   },
   {
    "duration": 0,
    "start_time": "2023-05-11T17:09:12.142Z"
   },
   {
    "duration": 0,
    "start_time": "2023-05-11T17:09:12.144Z"
   },
   {
    "duration": 0,
    "start_time": "2023-05-11T17:09:12.145Z"
   },
   {
    "duration": 0,
    "start_time": "2023-05-11T17:09:12.146Z"
   },
   {
    "duration": 0,
    "start_time": "2023-05-11T17:09:12.148Z"
   },
   {
    "duration": 0,
    "start_time": "2023-05-11T17:09:12.149Z"
   },
   {
    "duration": 0,
    "start_time": "2023-05-11T17:09:12.150Z"
   },
   {
    "duration": 0,
    "start_time": "2023-05-11T17:09:12.151Z"
   },
   {
    "duration": 16,
    "start_time": "2023-05-11T17:11:27.331Z"
   },
   {
    "duration": 21,
    "start_time": "2023-05-11T17:11:31.024Z"
   },
   {
    "duration": 73,
    "start_time": "2023-05-11T17:11:31.048Z"
   },
   {
    "duration": 23,
    "start_time": "2023-05-11T17:11:31.123Z"
   },
   {
    "duration": 35,
    "start_time": "2023-05-11T17:11:31.148Z"
   },
   {
    "duration": 36,
    "start_time": "2023-05-11T17:11:31.185Z"
   },
   {
    "duration": 588,
    "start_time": "2023-05-11T17:11:31.222Z"
   },
   {
    "duration": 460,
    "start_time": "2023-05-11T17:11:31.817Z"
   },
   {
    "duration": 455,
    "start_time": "2023-05-11T17:11:32.279Z"
   },
   {
    "duration": 14,
    "start_time": "2023-05-11T17:11:32.736Z"
   },
   {
    "duration": 157,
    "start_time": "2023-05-11T17:11:32.752Z"
   },
   {
    "duration": 152,
    "start_time": "2023-05-11T17:11:32.910Z"
   },
   {
    "duration": 12,
    "start_time": "2023-05-11T17:13:29.735Z"
   },
   {
    "duration": 118,
    "start_time": "2023-05-11T17:13:35.739Z"
   },
   {
    "duration": 230,
    "start_time": "2023-05-11T17:13:37.551Z"
   },
   {
    "duration": 12,
    "start_time": "2023-05-11T17:13:48.990Z"
   },
   {
    "duration": 114,
    "start_time": "2023-05-11T17:13:53.207Z"
   },
   {
    "duration": 133,
    "start_time": "2023-05-11T17:13:54.881Z"
   },
   {
    "duration": 12,
    "start_time": "2023-05-11T17:14:26.681Z"
   },
   {
    "duration": 113,
    "start_time": "2023-05-11T17:14:31.566Z"
   },
   {
    "duration": 120,
    "start_time": "2023-05-11T17:14:32.981Z"
   },
   {
    "duration": 49,
    "start_time": "2023-05-11T17:21:33.563Z"
   },
   {
    "duration": 66,
    "start_time": "2023-05-11T17:37:35.828Z"
   },
   {
    "duration": 3,
    "start_time": "2023-05-11T17:38:17.797Z"
   },
   {
    "duration": 17,
    "start_time": "2023-05-11T17:38:56.552Z"
   },
   {
    "duration": 8,
    "start_time": "2023-05-11T17:39:21.515Z"
   },
   {
    "duration": 24,
    "start_time": "2023-05-11T17:39:22.914Z"
   },
   {
    "duration": 5,
    "start_time": "2023-05-11T17:40:36.587Z"
   },
   {
    "duration": 5,
    "start_time": "2023-05-11T17:40:43.392Z"
   },
   {
    "duration": 5,
    "start_time": "2023-05-11T17:41:09.944Z"
   },
   {
    "duration": 47,
    "start_time": "2023-05-11T17:44:25.143Z"
   },
   {
    "duration": 7,
    "start_time": "2023-05-11T17:44:53.234Z"
   },
   {
    "duration": 223,
    "start_time": "2023-05-11T17:50:23.358Z"
   },
   {
    "duration": 17092,
    "start_time": "2023-05-11T17:51:04.703Z"
   },
   {
    "duration": 517,
    "start_time": "2023-05-11T17:53:03.334Z"
   },
   {
    "duration": 186,
    "start_time": "2023-05-11T17:53:16.697Z"
   },
   {
    "duration": 3,
    "start_time": "2023-05-11T17:53:42.826Z"
   },
   {
    "duration": 184,
    "start_time": "2023-05-11T17:53:43.442Z"
   },
   {
    "duration": 16747,
    "start_time": "2023-05-11T17:53:57.593Z"
   },
   {
    "duration": 6,
    "start_time": "2023-05-11T17:54:15.974Z"
   },
   {
    "duration": 84,
    "start_time": "2023-05-11T18:27:58.721Z"
   },
   {
    "duration": 16,
    "start_time": "2023-05-11T18:28:05.105Z"
   },
   {
    "duration": 70,
    "start_time": "2023-05-11T18:30:18.125Z"
   },
   {
    "duration": 13,
    "start_time": "2023-05-11T18:30:32.897Z"
   },
   {
    "duration": 14,
    "start_time": "2023-05-11T18:30:51.753Z"
   },
   {
    "duration": 11,
    "start_time": "2023-05-11T18:31:27.331Z"
   },
   {
    "duration": 491779,
    "start_time": "2023-05-11T18:31:54.180Z"
   },
   {
    "duration": 761399,
    "start_time": "2023-05-11T18:40:21.803Z"
   },
   {
    "duration": 85939,
    "start_time": "2023-05-11T18:53:19.191Z"
   },
   {
    "duration": 976,
    "start_time": "2023-05-11T18:54:58.635Z"
   },
   {
    "duration": 16352,
    "start_time": "2023-05-11T18:55:04.026Z"
   },
   {
    "duration": 2094,
    "start_time": "2023-05-11T18:55:23.485Z"
   },
   {
    "duration": 680,
    "start_time": "2023-05-11T18:55:25.581Z"
   },
   {
    "duration": 17,
    "start_time": "2023-05-11T18:55:26.263Z"
   },
   {
    "duration": 11,
    "start_time": "2023-05-11T18:55:26.282Z"
   },
   {
    "duration": 17,
    "start_time": "2023-05-11T18:55:26.294Z"
   },
   {
    "duration": 56,
    "start_time": "2023-05-11T18:55:26.317Z"
   },
   {
    "duration": 5,
    "start_time": "2023-05-11T18:55:26.375Z"
   },
   {
    "duration": 5,
    "start_time": "2023-05-11T18:55:26.382Z"
   },
   {
    "duration": 81,
    "start_time": "2023-05-11T18:55:26.388Z"
   },
   {
    "duration": 11,
    "start_time": "2023-05-11T18:55:26.472Z"
   },
   {
    "duration": 3,
    "start_time": "2023-05-11T18:55:26.485Z"
   },
   {
    "duration": 30,
    "start_time": "2023-05-11T18:55:26.489Z"
   },
   {
    "duration": 40,
    "start_time": "2023-05-11T18:55:26.523Z"
   },
   {
    "duration": 4,
    "start_time": "2023-05-11T18:55:26.565Z"
   },
   {
    "duration": 9,
    "start_time": "2023-05-11T18:55:26.570Z"
   },
   {
    "duration": 384,
    "start_time": "2023-05-11T18:55:26.582Z"
   },
   {
    "duration": 19,
    "start_time": "2023-05-11T18:55:26.968Z"
   },
   {
    "duration": 12,
    "start_time": "2023-05-11T18:55:26.989Z"
   },
   {
    "duration": 31,
    "start_time": "2023-05-11T18:55:27.002Z"
   },
   {
    "duration": 53,
    "start_time": "2023-05-11T18:55:27.035Z"
   },
   {
    "duration": 341,
    "start_time": "2023-05-11T18:55:27.090Z"
   },
   {
    "duration": 9,
    "start_time": "2023-05-11T18:55:27.433Z"
   },
   {
    "duration": 1242,
    "start_time": "2023-05-11T18:55:27.444Z"
   },
   {
    "duration": 11,
    "start_time": "2023-05-11T18:55:28.688Z"
   },
   {
    "duration": 30,
    "start_time": "2023-05-11T18:55:28.701Z"
   },
   {
    "duration": 8,
    "start_time": "2023-05-11T18:55:28.733Z"
   },
   {
    "duration": 17,
    "start_time": "2023-05-11T18:55:28.743Z"
   },
   {
    "duration": 28,
    "start_time": "2023-05-11T18:55:28.764Z"
   },
   {
    "duration": 24,
    "start_time": "2023-05-11T18:55:28.794Z"
   },
   {
    "duration": 10,
    "start_time": "2023-05-11T18:55:28.821Z"
   },
   {
    "duration": 9,
    "start_time": "2023-05-11T18:55:28.833Z"
   },
   {
    "duration": 442,
    "start_time": "2023-05-11T18:55:28.844Z"
   },
   {
    "duration": 442,
    "start_time": "2023-05-11T18:55:29.288Z"
   },
   {
    "duration": 458,
    "start_time": "2023-05-11T18:55:29.731Z"
   },
   {
    "duration": 57,
    "start_time": "2023-05-11T18:55:30.190Z"
   },
   {
    "duration": 142,
    "start_time": "2023-05-11T18:55:30.249Z"
   },
   {
    "duration": 213,
    "start_time": "2023-05-11T18:55:30.393Z"
   },
   {
    "duration": 10,
    "start_time": "2023-05-11T18:55:30.608Z"
   },
   {
    "duration": 351,
    "start_time": "2023-05-11T18:55:30.619Z"
   },
   {
    "duration": 0,
    "start_time": "2023-05-11T18:55:30.972Z"
   },
   {
    "duration": 0,
    "start_time": "2023-05-11T18:55:30.972Z"
   },
   {
    "duration": 0,
    "start_time": "2023-05-11T18:55:30.974Z"
   },
   {
    "duration": 0,
    "start_time": "2023-05-11T18:55:30.975Z"
   },
   {
    "duration": 0,
    "start_time": "2023-05-11T18:55:30.976Z"
   },
   {
    "duration": 15139,
    "start_time": "2023-05-11T18:57:20.582Z"
   },
   {
    "duration": 6,
    "start_time": "2023-05-11T18:57:39.411Z"
   },
   {
    "duration": 145031,
    "start_time": "2023-05-11T18:57:51.563Z"
   },
   {
    "duration": 5,
    "start_time": "2023-05-11T19:00:16.596Z"
   },
   {
    "duration": 217,
    "start_time": "2023-05-11T19:00:16.602Z"
   },
   {
    "duration": 0,
    "start_time": "2023-05-11T19:00:16.821Z"
   },
   {
    "duration": 496,
    "start_time": "2023-05-11T19:23:56.541Z"
   },
   {
    "duration": 11,
    "start_time": "2023-05-11T19:23:58.517Z"
   },
   {
    "duration": 2391288,
    "start_time": "2023-05-11T19:25:19.201Z"
   },
   {
    "duration": 5,
    "start_time": "2023-05-11T20:05:10.491Z"
   },
   {
    "duration": 46397,
    "start_time": "2023-05-11T20:09:07.602Z"
   },
   {
    "duration": 5,
    "start_time": "2023-05-11T20:10:21.298Z"
   },
   {
    "duration": 193,
    "start_time": "2023-05-11T20:11:13.668Z"
   },
   {
    "duration": 46769,
    "start_time": "2023-05-11T20:12:39.598Z"
   },
   {
    "duration": 4,
    "start_time": "2023-05-11T20:13:26.369Z"
   },
   {
    "duration": 93,
    "start_time": "2023-05-11T20:13:29.851Z"
   },
   {
    "duration": 14933,
    "start_time": "2023-05-11T20:20:59.238Z"
   },
   {
    "duration": 4,
    "start_time": "2023-05-11T20:21:14.173Z"
   },
   {
    "duration": 14979,
    "start_time": "2023-05-11T20:21:33.156Z"
   },
   {
    "duration": 5,
    "start_time": "2023-05-11T20:21:52.756Z"
   },
   {
    "duration": 99988,
    "start_time": "2023-05-11T20:22:48.378Z"
   },
   {
    "duration": 4,
    "start_time": "2023-05-11T20:24:28.368Z"
   },
   {
    "duration": 8,
    "start_time": "2023-05-11T20:24:28.373Z"
   },
   {
    "duration": 4,
    "start_time": "2023-05-11T20:24:35.502Z"
   },
   {
    "duration": 4,
    "start_time": "2023-05-11T20:24:40.743Z"
   },
   {
    "duration": 4,
    "start_time": "2023-05-11T20:24:48.935Z"
   },
   {
    "duration": 6,
    "start_time": "2023-05-11T20:24:53.244Z"
   },
   {
    "duration": 5,
    "start_time": "2023-05-11T20:25:12.507Z"
   },
   {
    "duration": 35368,
    "start_time": "2023-05-11T20:26:41.517Z"
   },
   {
    "duration": 4,
    "start_time": "2023-05-11T20:27:16.887Z"
   },
   {
    "duration": 1242891,
    "start_time": "2023-05-11T20:27:16.893Z"
   },
   {
    "duration": 4,
    "start_time": "2023-05-11T20:47:59.785Z"
   },
   {
    "duration": 721543,
    "start_time": "2023-05-11T22:10:24.995Z"
   },
   {
    "duration": 4,
    "start_time": "2023-05-11T22:22:26.540Z"
   },
   {
    "duration": 62279,
    "start_time": "2023-05-11T22:25:02.932Z"
   },
   {
    "duration": 5,
    "start_time": "2023-05-11T22:26:05.213Z"
   },
   {
    "duration": 59890,
    "start_time": "2023-05-11T22:29:01.866Z"
   },
   {
    "duration": 4,
    "start_time": "2023-05-11T22:30:01.759Z"
   },
   {
    "duration": 4,
    "start_time": "2023-05-11T22:30:44.775Z"
   },
   {
    "duration": 86,
    "start_time": "2023-05-12T18:41:01.020Z"
   },
   {
    "duration": 2077,
    "start_time": "2023-05-12T18:41:05.081Z"
   },
   {
    "duration": 1492,
    "start_time": "2023-05-12T18:41:07.160Z"
   },
   {
    "duration": 37,
    "start_time": "2023-05-12T18:41:08.661Z"
   },
   {
    "duration": 18,
    "start_time": "2023-05-12T18:41:08.701Z"
   },
   {
    "duration": 42,
    "start_time": "2023-05-12T18:41:08.722Z"
   },
   {
    "duration": 138,
    "start_time": "2023-05-12T18:41:08.766Z"
   },
   {
    "duration": 31,
    "start_time": "2023-05-12T18:41:08.906Z"
   },
   {
    "duration": 44,
    "start_time": "2023-05-12T18:41:08.938Z"
   },
   {
    "duration": 1182,
    "start_time": "2023-05-12T18:41:08.985Z"
   },
   {
    "duration": 34,
    "start_time": "2023-05-12T18:41:10.172Z"
   },
   {
    "duration": 12,
    "start_time": "2023-05-12T18:41:10.209Z"
   },
   {
    "duration": 80,
    "start_time": "2023-05-12T18:41:10.224Z"
   },
   {
    "duration": 76,
    "start_time": "2023-05-12T18:41:10.306Z"
   },
   {
    "duration": 18,
    "start_time": "2023-05-12T18:41:10.386Z"
   },
   {
    "duration": 72,
    "start_time": "2023-05-12T18:41:10.408Z"
   },
   {
    "duration": 1808,
    "start_time": "2023-05-12T18:41:10.482Z"
   },
   {
    "duration": 27,
    "start_time": "2023-05-12T18:41:12.292Z"
   },
   {
    "duration": 54,
    "start_time": "2023-05-12T18:41:12.321Z"
   },
   {
    "duration": 33,
    "start_time": "2023-05-12T18:41:12.377Z"
   },
   {
    "duration": 121,
    "start_time": "2023-05-12T18:41:12.412Z"
   },
   {
    "duration": 539,
    "start_time": "2023-05-12T18:41:12.535Z"
   },
   {
    "duration": 30,
    "start_time": "2023-05-12T18:41:13.079Z"
   },
   {
    "duration": 116,
    "start_time": "2023-05-12T18:41:26.069Z"
   },
   {
    "duration": 192,
    "start_time": "2023-05-12T18:41:33.010Z"
   },
   {
    "duration": 1281,
    "start_time": "2023-05-12T18:42:06.915Z"
   },
   {
    "duration": 14,
    "start_time": "2023-05-12T18:45:44.208Z"
   },
   {
    "duration": 39,
    "start_time": "2023-05-12T18:45:46.309Z"
   },
   {
    "duration": 15,
    "start_time": "2023-05-12T18:48:43.179Z"
   },
   {
    "duration": 14,
    "start_time": "2023-05-12T18:48:49.653Z"
   },
   {
    "duration": 236,
    "start_time": "2023-05-12T18:49:59.385Z"
   },
   {
    "duration": 254,
    "start_time": "2023-05-12T18:50:07.845Z"
   },
   {
    "duration": 15,
    "start_time": "2023-05-12T18:50:27.189Z"
   },
   {
    "duration": 261,
    "start_time": "2023-05-12T18:50:44.426Z"
   },
   {
    "duration": 263,
    "start_time": "2023-05-12T18:50:57.486Z"
   },
   {
    "duration": 269,
    "start_time": "2023-05-12T18:51:05.014Z"
   },
   {
    "duration": 253,
    "start_time": "2023-05-12T18:51:22.136Z"
   },
   {
    "duration": 98,
    "start_time": "2023-05-12T18:51:41.222Z"
   },
   {
    "duration": 206,
    "start_time": "2023-05-12T18:51:44.309Z"
   },
   {
    "duration": 248,
    "start_time": "2023-05-12T18:51:50.630Z"
   },
   {
    "duration": 12,
    "start_time": "2023-05-12T19:08:16.946Z"
   },
   {
    "duration": 16,
    "start_time": "2023-05-12T19:09:06.074Z"
   },
   {
    "duration": 16,
    "start_time": "2023-05-12T19:10:21.023Z"
   },
   {
    "duration": 4,
    "start_time": "2023-05-12T19:11:39.316Z"
   },
   {
    "duration": 981,
    "start_time": "2023-05-12T19:11:39.322Z"
   },
   {
    "duration": 21,
    "start_time": "2023-05-12T19:11:40.305Z"
   },
   {
    "duration": 26,
    "start_time": "2023-05-12T19:11:40.339Z"
   },
   {
    "duration": 27,
    "start_time": "2023-05-12T19:11:40.366Z"
   },
   {
    "duration": 77,
    "start_time": "2023-05-12T19:11:40.394Z"
   },
   {
    "duration": 6,
    "start_time": "2023-05-12T19:11:40.472Z"
   },
   {
    "duration": 22,
    "start_time": "2023-05-12T19:11:40.480Z"
   },
   {
    "duration": 118,
    "start_time": "2023-05-12T19:11:40.505Z"
   },
   {
    "duration": 18,
    "start_time": "2023-05-12T19:11:40.628Z"
   },
   {
    "duration": 23,
    "start_time": "2023-05-12T19:11:40.648Z"
   },
   {
    "duration": 32,
    "start_time": "2023-05-12T19:11:40.673Z"
   },
   {
    "duration": 85,
    "start_time": "2023-05-12T19:11:40.707Z"
   },
   {
    "duration": 8,
    "start_time": "2023-05-12T19:11:40.794Z"
   },
   {
    "duration": 50,
    "start_time": "2023-05-12T19:11:40.803Z"
   },
   {
    "duration": 533,
    "start_time": "2023-05-12T19:11:40.856Z"
   },
   {
    "duration": 18,
    "start_time": "2023-05-12T19:11:41.391Z"
   },
   {
    "duration": 21,
    "start_time": "2023-05-12T19:11:41.411Z"
   },
   {
    "duration": 41,
    "start_time": "2023-05-12T19:11:41.434Z"
   },
   {
    "duration": 86,
    "start_time": "2023-05-12T19:11:41.477Z"
   },
   {
    "duration": 409,
    "start_time": "2023-05-12T19:11:41.565Z"
   },
   {
    "duration": 3,
    "start_time": "2023-05-12T19:11:41.976Z"
   },
   {
    "duration": 1124,
    "start_time": "2023-05-12T19:11:41.981Z"
   },
   {
    "duration": 7,
    "start_time": "2023-05-12T19:11:43.110Z"
   },
   {
    "duration": 51,
    "start_time": "2023-05-12T19:11:43.118Z"
   },
   {
    "duration": 108,
    "start_time": "2023-05-12T19:11:43.171Z"
   },
   {
    "duration": 3,
    "start_time": "2023-05-12T19:11:43.280Z"
   },
   {
    "duration": 13,
    "start_time": "2023-05-12T19:11:43.285Z"
   },
   {
    "duration": 8,
    "start_time": "2023-05-12T19:11:43.300Z"
   },
   {
    "duration": 10,
    "start_time": "2023-05-12T19:11:43.309Z"
   },
   {
    "duration": 41,
    "start_time": "2023-05-12T19:11:43.321Z"
   },
   {
    "duration": 525,
    "start_time": "2023-05-12T19:11:43.364Z"
   },
   {
    "duration": 536,
    "start_time": "2023-05-12T19:11:43.891Z"
   },
   {
    "duration": 732,
    "start_time": "2023-05-12T19:11:44.429Z"
   },
   {
    "duration": 87,
    "start_time": "2023-05-12T19:11:45.163Z"
   },
   {
    "duration": 212,
    "start_time": "2023-05-12T19:11:45.252Z"
   },
   {
    "duration": 199,
    "start_time": "2023-05-12T19:11:45.465Z"
   },
   {
    "duration": 10,
    "start_time": "2023-05-12T19:11:45.666Z"
   },
   {
    "duration": 29,
    "start_time": "2023-05-12T19:11:45.678Z"
   },
   {
    "duration": 0,
    "start_time": "2023-05-12T19:11:45.709Z"
   },
   {
    "duration": 0,
    "start_time": "2023-05-12T19:11:45.710Z"
   },
   {
    "duration": 0,
    "start_time": "2023-05-12T19:11:45.712Z"
   },
   {
    "duration": 0,
    "start_time": "2023-05-12T19:11:45.713Z"
   },
   {
    "duration": 0,
    "start_time": "2023-05-12T19:11:45.714Z"
   },
   {
    "duration": 0,
    "start_time": "2023-05-12T19:11:45.716Z"
   },
   {
    "duration": 0,
    "start_time": "2023-05-12T19:11:45.717Z"
   },
   {
    "duration": 0,
    "start_time": "2023-05-12T19:11:45.718Z"
   },
   {
    "duration": 0,
    "start_time": "2023-05-12T19:11:45.725Z"
   },
   {
    "duration": 0,
    "start_time": "2023-05-12T19:11:45.726Z"
   },
   {
    "duration": 0,
    "start_time": "2023-05-12T19:11:45.727Z"
   },
   {
    "duration": 0,
    "start_time": "2023-05-12T19:11:45.728Z"
   },
   {
    "duration": 0,
    "start_time": "2023-05-12T19:11:45.730Z"
   },
   {
    "duration": 5,
    "start_time": "2023-05-12T19:12:28.207Z"
   },
   {
    "duration": 35,
    "start_time": "2023-05-12T19:14:28.789Z"
   },
   {
    "duration": 9,
    "start_time": "2023-05-12T19:14:39.986Z"
   },
   {
    "duration": 12,
    "start_time": "2023-05-12T19:14:45.047Z"
   },
   {
    "duration": 7,
    "start_time": "2023-05-12T19:15:03.553Z"
   },
   {
    "duration": 115,
    "start_time": "2023-05-12T19:17:48.450Z"
   },
   {
    "duration": 90,
    "start_time": "2023-05-12T19:19:02.183Z"
   },
   {
    "duration": 10,
    "start_time": "2023-05-12T19:20:43.086Z"
   },
   {
    "duration": 4,
    "start_time": "2023-05-12T19:20:43.998Z"
   },
   {
    "duration": 54,
    "start_time": "2023-05-12T19:20:47.908Z"
   },
   {
    "duration": 42,
    "start_time": "2023-05-12T19:22:54.647Z"
   },
   {
    "duration": 10,
    "start_time": "2023-05-12T19:23:47.909Z"
   },
   {
    "duration": 11,
    "start_time": "2023-05-12T19:24:05.491Z"
   },
   {
    "duration": 11,
    "start_time": "2023-05-12T19:24:25.884Z"
   },
   {
    "duration": 11,
    "start_time": "2023-05-12T19:24:32.355Z"
   },
   {
    "duration": 14,
    "start_time": "2023-05-12T19:25:59.566Z"
   },
   {
    "duration": 1477,
    "start_time": "2023-05-12T19:26:07.926Z"
   },
   {
    "duration": 797,
    "start_time": "2023-05-12T19:26:26.692Z"
   },
   {
    "duration": 1127,
    "start_time": "2023-05-12T19:26:44.700Z"
   },
   {
    "duration": 681,
    "start_time": "2023-05-12T19:26:59.688Z"
   },
   {
    "duration": 7,
    "start_time": "2023-05-12T19:28:18.399Z"
   },
   {
    "duration": 6,
    "start_time": "2023-05-12T19:28:56.154Z"
   },
   {
    "duration": 129,
    "start_time": "2023-05-12T19:28:58.783Z"
   },
   {
    "duration": 187,
    "start_time": "2023-05-12T19:31:22.495Z"
   },
   {
    "duration": 58,
    "start_time": "2023-05-12T19:31:51.008Z"
   },
   {
    "duration": 48,
    "start_time": "2023-05-12T19:32:25.888Z"
   },
   {
    "duration": 791,
    "start_time": "2023-05-12T19:32:36.078Z"
   },
   {
    "duration": 42,
    "start_time": "2023-05-12T19:32:47.377Z"
   },
   {
    "duration": 138,
    "start_time": "2023-05-12T19:33:25.442Z"
   },
   {
    "duration": 793,
    "start_time": "2023-05-12T19:33:37.664Z"
   },
   {
    "duration": 114,
    "start_time": "2023-05-12T19:34:09.941Z"
   },
   {
    "duration": 4,
    "start_time": "2023-05-12T19:36:20.680Z"
   },
   {
    "duration": 35,
    "start_time": "2023-05-12T19:36:35.057Z"
   },
   {
    "duration": 45,
    "start_time": "2023-05-12T19:36:43.686Z"
   },
   {
    "duration": 1530,
    "start_time": "2023-05-13T16:54:29.462Z"
   },
   {
    "duration": 883,
    "start_time": "2023-05-13T16:54:30.995Z"
   },
   {
    "duration": 19,
    "start_time": "2023-05-13T16:54:31.880Z"
   },
   {
    "duration": 12,
    "start_time": "2023-05-13T16:54:31.901Z"
   },
   {
    "duration": 22,
    "start_time": "2023-05-13T16:54:31.914Z"
   },
   {
    "duration": 65,
    "start_time": "2023-05-13T16:54:31.937Z"
   },
   {
    "duration": 24,
    "start_time": "2023-05-13T16:54:32.003Z"
   },
   {
    "duration": 6,
    "start_time": "2023-05-13T16:54:32.028Z"
   },
   {
    "duration": 430,
    "start_time": "2023-05-13T16:54:32.035Z"
   },
   {
    "duration": 12,
    "start_time": "2023-05-13T16:54:32.468Z"
   },
   {
    "duration": 12,
    "start_time": "2023-05-13T16:54:32.482Z"
   },
   {
    "duration": 21,
    "start_time": "2023-05-13T16:54:32.497Z"
   },
   {
    "duration": 45,
    "start_time": "2023-05-13T16:54:32.519Z"
   },
   {
    "duration": 34,
    "start_time": "2023-05-13T16:54:32.566Z"
   },
   {
    "duration": 23,
    "start_time": "2023-05-13T16:54:32.602Z"
   },
   {
    "duration": 1113,
    "start_time": "2023-05-13T16:54:32.627Z"
   },
   {
    "duration": 19,
    "start_time": "2023-05-13T16:54:33.741Z"
   },
   {
    "duration": 23,
    "start_time": "2023-05-13T16:54:33.761Z"
   },
   {
    "duration": 34,
    "start_time": "2023-05-13T16:54:33.785Z"
   },
   {
    "duration": 78,
    "start_time": "2023-05-13T16:54:33.821Z"
   },
   {
    "duration": 360,
    "start_time": "2023-05-13T16:54:33.902Z"
   },
   {
    "duration": 3,
    "start_time": "2023-05-13T16:54:34.263Z"
   },
   {
    "duration": 933,
    "start_time": "2023-05-13T16:54:34.267Z"
   },
   {
    "duration": 11,
    "start_time": "2023-05-13T16:54:35.201Z"
   },
   {
    "duration": 17,
    "start_time": "2023-05-13T16:54:35.225Z"
   },
   {
    "duration": 106,
    "start_time": "2023-05-13T16:54:35.244Z"
   },
   {
    "duration": 3,
    "start_time": "2023-05-13T16:54:35.352Z"
   },
   {
    "duration": 18,
    "start_time": "2023-05-13T16:54:35.359Z"
   },
   {
    "duration": 13,
    "start_time": "2023-05-13T16:54:35.379Z"
   },
   {
    "duration": 20,
    "start_time": "2023-05-13T16:54:35.393Z"
   },
   {
    "duration": 9,
    "start_time": "2023-05-13T16:54:35.415Z"
   },
   {
    "duration": 475,
    "start_time": "2023-05-13T16:54:35.426Z"
   },
   {
    "duration": 486,
    "start_time": "2023-05-13T16:54:35.903Z"
   },
   {
    "duration": 510,
    "start_time": "2023-05-13T16:54:36.391Z"
   },
   {
    "duration": 131,
    "start_time": "2023-05-13T16:54:36.903Z"
   },
   {
    "duration": 0,
    "start_time": "2023-05-13T16:54:37.035Z"
   },
   {
    "duration": 0,
    "start_time": "2023-05-13T16:54:37.036Z"
   },
   {
    "duration": 0,
    "start_time": "2023-05-13T16:54:37.038Z"
   },
   {
    "duration": 0,
    "start_time": "2023-05-13T16:54:37.039Z"
   },
   {
    "duration": 0,
    "start_time": "2023-05-13T16:54:37.040Z"
   },
   {
    "duration": 177,
    "start_time": "2023-05-13T16:55:08.462Z"
   },
   {
    "duration": 299,
    "start_time": "2023-05-13T16:55:09.629Z"
   },
   {
    "duration": 8,
    "start_time": "2023-05-13T16:55:15.051Z"
   },
   {
    "duration": 2,
    "start_time": "2023-05-13T16:55:16.124Z"
   },
   {
    "duration": 3,
    "start_time": "2023-05-13T16:55:16.619Z"
   },
   {
    "duration": 26,
    "start_time": "2023-05-13T16:55:17.948Z"
   },
   {
    "duration": 4,
    "start_time": "2023-05-13T16:57:32.086Z"
   },
   {
    "duration": 138,
    "start_time": "2023-05-13T16:59:33.324Z"
   },
   {
    "duration": 165,
    "start_time": "2023-05-13T16:59:52.706Z"
   },
   {
    "duration": 72,
    "start_time": "2023-05-13T17:00:15.224Z"
   },
   {
    "duration": 187,
    "start_time": "2023-05-13T17:00:38.874Z"
   },
   {
    "duration": 405,
    "start_time": "2023-05-13T17:04:48.973Z"
   },
   {
    "duration": 720,
    "start_time": "2023-05-13T17:05:13.947Z"
   },
   {
    "duration": 1363,
    "start_time": "2023-05-13T17:09:25.946Z"
   },
   {
    "duration": 1291,
    "start_time": "2023-05-13T17:09:41.729Z"
   },
   {
    "duration": 26,
    "start_time": "2023-05-13T17:10:06.616Z"
   },
   {
    "duration": 9,
    "start_time": "2023-05-13T17:10:27.274Z"
   },
   {
    "duration": 38,
    "start_time": "2023-05-13T17:10:42.177Z"
   },
   {
    "duration": 40,
    "start_time": "2023-05-13T17:11:59.772Z"
   },
   {
    "duration": 156,
    "start_time": "2023-05-13T17:12:16.189Z"
   },
   {
    "duration": 273,
    "start_time": "2023-05-13T17:18:56.882Z"
   },
   {
    "duration": 234,
    "start_time": "2023-05-13T17:19:13.962Z"
   },
   {
    "duration": 259,
    "start_time": "2023-05-13T17:19:50.767Z"
   },
   {
    "duration": 7405,
    "start_time": "2023-05-13T17:20:30.287Z"
   },
   {
    "duration": 265,
    "start_time": "2023-05-13T17:22:24.684Z"
   },
   {
    "duration": 132,
    "start_time": "2023-05-13T17:23:34.015Z"
   },
   {
    "duration": 147,
    "start_time": "2023-05-13T17:23:43.136Z"
   },
   {
    "duration": 125,
    "start_time": "2023-05-13T17:23:52.106Z"
   },
   {
    "duration": 136,
    "start_time": "2023-05-13T17:24:02.512Z"
   },
   {
    "duration": 17,
    "start_time": "2023-05-13T17:29:00.846Z"
   },
   {
    "duration": 7842,
    "start_time": "2023-05-13T17:29:05.639Z"
   },
   {
    "duration": 19,
    "start_time": "2023-05-13T17:29:33.564Z"
   },
   {
    "duration": 7787,
    "start_time": "2023-05-13T17:31:15.063Z"
   },
   {
    "duration": 7472,
    "start_time": "2023-05-13T17:31:40.744Z"
   },
   {
    "duration": 440,
    "start_time": "2023-05-13T18:52:22.587Z"
   },
   {
    "duration": 19,
    "start_time": "2023-05-13T18:52:25.904Z"
   },
   {
    "duration": 337,
    "start_time": "2023-05-13T18:53:58.086Z"
   },
   {
    "duration": 325,
    "start_time": "2023-05-13T18:54:39.850Z"
   },
   {
    "duration": 54,
    "start_time": "2023-05-13T18:54:52.866Z"
   },
   {
    "duration": 5,
    "start_time": "2023-05-13T18:55:58.381Z"
   },
   {
    "duration": 303,
    "start_time": "2023-05-13T18:55:58.388Z"
   },
   {
    "duration": 15,
    "start_time": "2023-05-13T18:55:58.693Z"
   },
   {
    "duration": 16,
    "start_time": "2023-05-13T18:55:58.710Z"
   },
   {
    "duration": 18,
    "start_time": "2023-05-13T18:55:58.728Z"
   },
   {
    "duration": 152,
    "start_time": "2023-05-13T18:55:58.748Z"
   },
   {
    "duration": 5,
    "start_time": "2023-05-13T18:55:58.901Z"
   },
   {
    "duration": 18,
    "start_time": "2023-05-13T18:55:58.907Z"
   },
   {
    "duration": 82,
    "start_time": "2023-05-13T18:55:58.926Z"
   },
   {
    "duration": 12,
    "start_time": "2023-05-13T18:55:59.010Z"
   },
   {
    "duration": 5,
    "start_time": "2023-05-13T18:55:59.025Z"
   },
   {
    "duration": 19,
    "start_time": "2023-05-13T18:55:59.031Z"
   },
   {
    "duration": 47,
    "start_time": "2023-05-13T18:55:59.052Z"
   },
   {
    "duration": 2,
    "start_time": "2023-05-13T18:55:59.101Z"
   },
   {
    "duration": 6,
    "start_time": "2023-05-13T18:55:59.124Z"
   },
   {
    "duration": 346,
    "start_time": "2023-05-13T18:55:59.132Z"
   },
   {
    "duration": 17,
    "start_time": "2023-05-13T18:55:59.480Z"
   },
   {
    "duration": 31,
    "start_time": "2023-05-13T18:55:59.498Z"
   },
   {
    "duration": 17,
    "start_time": "2023-05-13T18:55:59.530Z"
   },
   {
    "duration": 52,
    "start_time": "2023-05-13T18:55:59.549Z"
   },
   {
    "duration": 355,
    "start_time": "2023-05-13T18:55:59.603Z"
   },
   {
    "duration": 2,
    "start_time": "2023-05-13T18:55:59.959Z"
   },
   {
    "duration": 798,
    "start_time": "2023-05-13T18:55:59.963Z"
   },
   {
    "duration": 7,
    "start_time": "2023-05-13T18:56:00.762Z"
   },
   {
    "duration": 61,
    "start_time": "2023-05-13T18:56:00.770Z"
   },
   {
    "duration": 90,
    "start_time": "2023-05-13T18:56:00.833Z"
   },
   {
    "duration": 2,
    "start_time": "2023-05-13T18:56:00.925Z"
   },
   {
    "duration": 31,
    "start_time": "2023-05-13T18:56:00.928Z"
   },
   {
    "duration": 35,
    "start_time": "2023-05-13T18:56:00.963Z"
   },
   {
    "duration": 46,
    "start_time": "2023-05-13T18:56:01.000Z"
   },
   {
    "duration": 62,
    "start_time": "2023-05-13T18:56:01.048Z"
   },
   {
    "duration": 554,
    "start_time": "2023-05-13T18:56:01.112Z"
   },
   {
    "duration": 501,
    "start_time": "2023-05-13T18:56:01.668Z"
   },
   {
    "duration": 648,
    "start_time": "2023-05-13T18:56:02.170Z"
   },
   {
    "duration": 166,
    "start_time": "2023-05-13T18:56:02.820Z"
   },
   {
    "duration": 154,
    "start_time": "2023-05-13T18:56:02.987Z"
   },
   {
    "duration": 7,
    "start_time": "2023-05-13T18:56:03.143Z"
   },
   {
    "duration": 72,
    "start_time": "2023-05-13T18:56:03.151Z"
   },
   {
    "duration": 760,
    "start_time": "2023-05-13T18:56:03.225Z"
   },
   {
    "duration": 55,
    "start_time": "2023-05-13T18:56:03.986Z"
   },
   {
    "duration": 0,
    "start_time": "2023-05-13T18:56:04.043Z"
   },
   {
    "duration": 144,
    "start_time": "2023-05-13T18:56:49.674Z"
   },
   {
    "duration": 133,
    "start_time": "2023-05-13T18:57:14.137Z"
   },
   {
    "duration": 19,
    "start_time": "2023-05-13T18:57:23.676Z"
   },
   {
    "duration": 23,
    "start_time": "2023-05-13T18:57:30.447Z"
   },
   {
    "duration": 16,
    "start_time": "2023-05-13T18:57:37.503Z"
   },
   {
    "duration": 1187,
    "start_time": "2023-05-13T18:58:01.991Z"
   },
   {
    "duration": 1006,
    "start_time": "2023-05-13T18:58:26.397Z"
   },
   {
    "duration": 18,
    "start_time": "2023-05-13T18:58:41.756Z"
   },
   {
    "duration": 4,
    "start_time": "2023-05-13T18:58:50.840Z"
   },
   {
    "duration": 353,
    "start_time": "2023-05-13T18:58:50.846Z"
   },
   {
    "duration": 16,
    "start_time": "2023-05-13T18:58:51.201Z"
   },
   {
    "duration": 16,
    "start_time": "2023-05-13T18:58:51.219Z"
   },
   {
    "duration": 16,
    "start_time": "2023-05-13T18:58:51.238Z"
   },
   {
    "duration": 84,
    "start_time": "2023-05-13T18:58:51.255Z"
   },
   {
    "duration": 7,
    "start_time": "2023-05-13T18:58:51.340Z"
   },
   {
    "duration": 17,
    "start_time": "2023-05-13T18:58:51.349Z"
   },
   {
    "duration": 98,
    "start_time": "2023-05-13T18:58:51.368Z"
   },
   {
    "duration": 15,
    "start_time": "2023-05-13T18:58:51.468Z"
   },
   {
    "duration": 5,
    "start_time": "2023-05-13T18:58:51.486Z"
   },
   {
    "duration": 24,
    "start_time": "2023-05-13T18:58:51.493Z"
   },
   {
    "duration": 45,
    "start_time": "2023-05-13T18:58:51.518Z"
   },
   {
    "duration": 3,
    "start_time": "2023-05-13T18:58:51.564Z"
   },
   {
    "duration": 9,
    "start_time": "2023-05-13T18:58:51.569Z"
   },
   {
    "duration": 405,
    "start_time": "2023-05-13T18:58:51.579Z"
   },
   {
    "duration": 16,
    "start_time": "2023-05-13T18:58:51.987Z"
   },
   {
    "duration": 23,
    "start_time": "2023-05-13T18:58:52.005Z"
   },
   {
    "duration": 16,
    "start_time": "2023-05-13T18:58:52.030Z"
   },
   {
    "duration": 87,
    "start_time": "2023-05-13T18:58:52.048Z"
   },
   {
    "duration": 350,
    "start_time": "2023-05-13T18:58:52.137Z"
   },
   {
    "duration": 2,
    "start_time": "2023-05-13T18:58:52.489Z"
   },
   {
    "duration": 934,
    "start_time": "2023-05-13T18:58:52.492Z"
   },
   {
    "duration": 8,
    "start_time": "2023-05-13T18:58:53.427Z"
   },
   {
    "duration": 16,
    "start_time": "2023-05-13T18:58:53.437Z"
   },
   {
    "duration": 105,
    "start_time": "2023-05-13T18:58:53.455Z"
   },
   {
    "duration": 3,
    "start_time": "2023-05-13T18:58:53.562Z"
   },
   {
    "duration": 19,
    "start_time": "2023-05-13T18:58:53.566Z"
   },
   {
    "duration": 9,
    "start_time": "2023-05-13T18:58:53.589Z"
   },
   {
    "duration": 15,
    "start_time": "2023-05-13T18:58:53.600Z"
   },
   {
    "duration": 13,
    "start_time": "2023-05-13T18:58:53.617Z"
   },
   {
    "duration": 462,
    "start_time": "2023-05-13T18:58:53.631Z"
   },
   {
    "duration": 446,
    "start_time": "2023-05-13T18:58:54.094Z"
   },
   {
    "duration": 470,
    "start_time": "2023-05-13T18:58:54.543Z"
   },
   {
    "duration": 311,
    "start_time": "2023-05-13T18:58:55.015Z"
   },
   {
    "duration": 166,
    "start_time": "2023-05-13T18:58:55.328Z"
   },
   {
    "duration": 5,
    "start_time": "2023-05-13T18:58:55.496Z"
   },
   {
    "duration": 82,
    "start_time": "2023-05-13T18:58:55.503Z"
   },
   {
    "duration": 680,
    "start_time": "2023-05-13T18:58:55.587Z"
   },
   {
    "duration": 75,
    "start_time": "2023-05-13T18:58:56.269Z"
   },
   {
    "duration": 0,
    "start_time": "2023-05-13T18:58:56.345Z"
   },
   {
    "duration": 48,
    "start_time": "2023-05-13T18:59:03.637Z"
   },
   {
    "duration": 7453,
    "start_time": "2023-05-13T18:59:46.090Z"
   },
   {
    "duration": 120,
    "start_time": "2023-05-13T19:00:37.387Z"
   },
   {
    "duration": 136,
    "start_time": "2023-05-13T19:00:46.193Z"
   },
   {
    "duration": 17,
    "start_time": "2023-05-13T19:02:03.007Z"
   },
   {
    "duration": 22,
    "start_time": "2023-05-13T19:02:33.513Z"
   },
   {
    "duration": 17,
    "start_time": "2023-05-13T19:02:39.636Z"
   },
   {
    "duration": 14,
    "start_time": "2023-05-13T19:02:45.887Z"
   },
   {
    "duration": 18,
    "start_time": "2023-05-13T19:02:51.581Z"
   },
   {
    "duration": 5,
    "start_time": "2023-05-13T19:04:12.757Z"
   },
   {
    "duration": 359,
    "start_time": "2023-05-13T19:04:12.763Z"
   },
   {
    "duration": 17,
    "start_time": "2023-05-13T19:04:13.123Z"
   },
   {
    "duration": 10,
    "start_time": "2023-05-13T19:04:13.142Z"
   },
   {
    "duration": 16,
    "start_time": "2023-05-13T19:04:13.154Z"
   },
   {
    "duration": 85,
    "start_time": "2023-05-13T19:04:13.171Z"
   },
   {
    "duration": 6,
    "start_time": "2023-05-13T19:04:13.258Z"
   },
   {
    "duration": 6,
    "start_time": "2023-05-13T19:04:13.266Z"
   },
   {
    "duration": 91,
    "start_time": "2023-05-13T19:04:13.276Z"
   },
   {
    "duration": 14,
    "start_time": "2023-05-13T19:04:13.369Z"
   },
   {
    "duration": 5,
    "start_time": "2023-05-13T19:04:13.385Z"
   },
   {
    "duration": 13,
    "start_time": "2023-05-13T19:04:13.391Z"
   },
   {
    "duration": 37,
    "start_time": "2023-05-13T19:04:13.424Z"
   },
   {
    "duration": 4,
    "start_time": "2023-05-13T19:04:13.463Z"
   },
   {
    "duration": 7,
    "start_time": "2023-05-13T19:04:13.468Z"
   },
   {
    "duration": 415,
    "start_time": "2023-05-13T19:04:13.476Z"
   },
   {
    "duration": 17,
    "start_time": "2023-05-13T19:04:13.893Z"
   },
   {
    "duration": 20,
    "start_time": "2023-05-13T19:04:13.911Z"
   },
   {
    "duration": 24,
    "start_time": "2023-05-13T19:04:13.932Z"
   },
   {
    "duration": 85,
    "start_time": "2023-05-13T19:04:13.957Z"
   },
   {
    "duration": 340,
    "start_time": "2023-05-13T19:04:14.044Z"
   },
   {
    "duration": 2,
    "start_time": "2023-05-13T19:04:14.386Z"
   },
   {
    "duration": 914,
    "start_time": "2023-05-13T19:04:14.390Z"
   },
   {
    "duration": 17,
    "start_time": "2023-05-13T19:04:15.308Z"
   },
   {
    "duration": 140,
    "start_time": "2023-05-13T19:04:15.326Z"
   },
   {
    "duration": 89,
    "start_time": "2023-05-13T19:04:15.468Z"
   },
   {
    "duration": 2,
    "start_time": "2023-05-13T19:04:15.559Z"
   },
   {
    "duration": 12,
    "start_time": "2023-05-13T19:04:15.562Z"
   },
   {
    "duration": 15,
    "start_time": "2023-05-13T19:04:15.576Z"
   },
   {
    "duration": 21,
    "start_time": "2023-05-13T19:04:15.593Z"
   },
   {
    "duration": 18,
    "start_time": "2023-05-13T19:04:15.616Z"
   },
   {
    "duration": 485,
    "start_time": "2023-05-13T19:04:15.635Z"
   },
   {
    "duration": 432,
    "start_time": "2023-05-13T19:04:16.123Z"
   },
   {
    "duration": 471,
    "start_time": "2023-05-13T19:04:16.556Z"
   },
   {
    "duration": 170,
    "start_time": "2023-05-13T19:04:17.029Z"
   },
   {
    "duration": 179,
    "start_time": "2023-05-13T19:04:17.201Z"
   },
   {
    "duration": 4,
    "start_time": "2023-05-13T19:04:17.382Z"
   },
   {
    "duration": 86,
    "start_time": "2023-05-13T19:04:17.388Z"
   },
   {
    "duration": 775,
    "start_time": "2023-05-13T19:04:17.475Z"
   },
   {
    "duration": 128,
    "start_time": "2023-05-13T19:04:18.252Z"
   },
   {
    "duration": 15,
    "start_time": "2023-05-13T19:04:18.381Z"
   },
   {
    "duration": 31,
    "start_time": "2023-05-13T19:04:18.397Z"
   },
   {
    "duration": 10,
    "start_time": "2023-05-13T19:04:18.430Z"
   },
   {
    "duration": 33,
    "start_time": "2023-05-13T19:04:18.441Z"
   },
   {
    "duration": 7,
    "start_time": "2023-05-13T19:14:29.835Z"
   },
   {
    "duration": 3,
    "start_time": "2023-05-13T19:14:39.857Z"
   },
   {
    "duration": 2,
    "start_time": "2023-05-13T19:14:40.383Z"
   },
   {
    "duration": 22,
    "start_time": "2023-05-13T19:14:41.361Z"
   },
   {
    "duration": 3,
    "start_time": "2023-05-13T19:15:06.978Z"
   },
   {
    "duration": 4,
    "start_time": "2023-05-13T19:15:07.944Z"
   },
   {
    "duration": 3,
    "start_time": "2023-05-13T19:16:42.997Z"
   },
   {
    "duration": 15,
    "start_time": "2023-05-13T19:16:44.556Z"
   },
   {
    "duration": 4,
    "start_time": "2023-05-13T19:17:44.875Z"
   },
   {
    "duration": 4,
    "start_time": "2023-05-13T19:17:47.233Z"
   },
   {
    "duration": 90,
    "start_time": "2023-05-13T19:21:39.963Z"
   },
   {
    "duration": 3,
    "start_time": "2023-05-13T19:21:43.762Z"
   },
   {
    "duration": 3,
    "start_time": "2023-05-13T19:23:09.931Z"
   },
   {
    "duration": 240,
    "start_time": "2023-05-13T19:23:42.826Z"
   },
   {
    "duration": 3,
    "start_time": "2023-05-13T19:24:40.038Z"
   },
   {
    "duration": 103,
    "start_time": "2023-05-13T19:28:24.440Z"
   },
   {
    "duration": 72,
    "start_time": "2023-05-13T19:29:06.364Z"
   },
   {
    "duration": 103,
    "start_time": "2023-05-13T19:29:14.275Z"
   },
   {
    "duration": 230,
    "start_time": "2023-05-13T19:29:25.149Z"
   },
   {
    "duration": 3,
    "start_time": "2023-05-13T19:30:09.220Z"
   },
   {
    "duration": 254,
    "start_time": "2023-05-13T19:30:25.350Z"
   },
   {
    "duration": 3,
    "start_time": "2023-05-13T19:30:38.462Z"
   },
   {
    "duration": 254,
    "start_time": "2023-05-13T19:30:40.396Z"
   },
   {
    "duration": 13,
    "start_time": "2023-05-13T19:31:48.251Z"
   },
   {
    "duration": 4,
    "start_time": "2023-05-13T19:32:58.291Z"
   },
   {
    "duration": 17,
    "start_time": "2023-05-13T19:32:59.834Z"
   },
   {
    "duration": 4,
    "start_time": "2023-05-13T19:33:03.585Z"
   },
   {
    "duration": 19,
    "start_time": "2023-05-13T19:33:04.823Z"
   },
   {
    "duration": 4,
    "start_time": "2023-05-13T19:33:21.727Z"
   },
   {
    "duration": 5,
    "start_time": "2023-05-13T19:33:22.503Z"
   },
   {
    "duration": 4,
    "start_time": "2023-05-13T19:33:38.879Z"
   },
   {
    "duration": 588,
    "start_time": "2023-05-13T19:33:40.378Z"
   },
   {
    "duration": 3,
    "start_time": "2023-05-13T19:36:50.176Z"
   },
   {
    "duration": 732,
    "start_time": "2023-05-13T19:36:50.953Z"
   },
   {
    "duration": 633,
    "start_time": "2023-05-13T19:38:10.815Z"
   },
   {
    "duration": 308,
    "start_time": "2023-05-13T19:38:30.704Z"
   },
   {
    "duration": 640,
    "start_time": "2023-05-13T19:39:02.799Z"
   },
   {
    "duration": 3,
    "start_time": "2023-05-13T19:40:04.958Z"
   },
   {
    "duration": 616,
    "start_time": "2023-05-13T19:40:05.439Z"
   },
   {
    "duration": 1877,
    "start_time": "2023-05-13T19:41:26.201Z"
   },
   {
    "duration": 2048,
    "start_time": "2023-05-13T19:42:00.938Z"
   },
   {
    "duration": 5,
    "start_time": "2023-05-13T19:42:13.874Z"
   },
   {
    "duration": 103595,
    "start_time": "2023-05-13T19:42:36.830Z"
   },
   {
    "duration": 4,
    "start_time": "2023-05-13T19:44:20.427Z"
   },
   {
    "duration": 9095107,
    "start_time": "2023-05-13T19:46:33.406Z"
   },
   {
    "duration": 10,
    "start_time": "2023-05-13T22:18:08.516Z"
   },
   {
    "duration": 44,
    "start_time": "2023-05-13T22:18:08.531Z"
   },
   {
    "duration": 10,
    "start_time": "2023-05-13T22:27:20.356Z"
   },
   {
    "duration": 14500,
    "start_time": "2023-05-13T22:28:28.042Z"
   },
   {
    "duration": 0,
    "start_time": "2023-05-13T22:28:42.545Z"
   },
   {
    "duration": 50688,
    "start_time": "2023-05-13T22:29:47.919Z"
   },
   {
    "duration": 156,
    "start_time": "2023-05-13T22:30:56.477Z"
   },
   {
    "duration": 0,
    "start_time": "2023-05-13T22:31:53.176Z"
   },
   {
    "duration": 110707,
    "start_time": "2023-05-13T22:31:55.595Z"
   },
   {
    "duration": 0,
    "start_time": "2023-05-13T22:33:46.304Z"
   },
   {
    "duration": 136,
    "start_time": "2023-05-13T22:33:47.822Z"
   },
   {
    "duration": 659222,
    "start_time": "2023-05-13T22:34:46.533Z"
   },
   {
    "duration": 4,
    "start_time": "2023-05-13T22:45:45.757Z"
   },
   {
    "duration": 661314,
    "start_time": "2023-05-13T22:45:45.762Z"
   },
   {
    "duration": 9,
    "start_time": "2023-05-13T22:56:47.077Z"
   },
   {
    "duration": 0,
    "start_time": "2023-05-13T22:56:47.087Z"
   },
   {
    "duration": 4,
    "start_time": "2023-05-13T23:01:17.899Z"
   },
   {
    "duration": 9,
    "start_time": "2023-05-13T23:01:39.109Z"
   },
   {
    "duration": 1378,
    "start_time": "2023-05-13T23:02:24.394Z"
   },
   {
    "duration": 363,
    "start_time": "2023-05-13T23:02:25.774Z"
   },
   {
    "duration": 29,
    "start_time": "2023-05-13T23:02:26.140Z"
   },
   {
    "duration": 14,
    "start_time": "2023-05-13T23:02:26.171Z"
   },
   {
    "duration": 26,
    "start_time": "2023-05-13T23:02:26.187Z"
   },
   {
    "duration": 79,
    "start_time": "2023-05-13T23:02:26.224Z"
   },
   {
    "duration": 6,
    "start_time": "2023-05-13T23:02:26.304Z"
   },
   {
    "duration": 9,
    "start_time": "2023-05-13T23:02:26.311Z"
   },
   {
    "duration": 103,
    "start_time": "2023-05-13T23:02:26.324Z"
   },
   {
    "duration": 18,
    "start_time": "2023-05-13T23:02:26.430Z"
   },
   {
    "duration": 15,
    "start_time": "2023-05-13T23:02:26.449Z"
   },
   {
    "duration": 13,
    "start_time": "2023-05-13T23:02:26.466Z"
   },
   {
    "duration": 50,
    "start_time": "2023-05-13T23:02:26.481Z"
   },
   {
    "duration": 3,
    "start_time": "2023-05-13T23:02:26.535Z"
   },
   {
    "duration": 13,
    "start_time": "2023-05-13T23:02:26.540Z"
   },
   {
    "duration": 449,
    "start_time": "2023-05-13T23:02:26.554Z"
   },
   {
    "duration": 23,
    "start_time": "2023-05-13T23:02:27.005Z"
   },
   {
    "duration": 25,
    "start_time": "2023-05-13T23:02:27.030Z"
   },
   {
    "duration": 19,
    "start_time": "2023-05-13T23:02:27.057Z"
   },
   {
    "duration": 82,
    "start_time": "2023-05-13T23:02:27.078Z"
   },
   {
    "duration": 387,
    "start_time": "2023-05-13T23:02:27.161Z"
   },
   {
    "duration": 3,
    "start_time": "2023-05-13T23:02:27.549Z"
   },
   {
    "duration": 848,
    "start_time": "2023-05-13T23:02:27.553Z"
   },
   {
    "duration": 10,
    "start_time": "2023-05-13T23:02:28.403Z"
   },
   {
    "duration": 104,
    "start_time": "2023-05-13T23:02:28.414Z"
   },
   {
    "duration": 111,
    "start_time": "2023-05-13T23:02:28.524Z"
   },
   {
    "duration": 4,
    "start_time": "2023-05-13T23:02:28.637Z"
   },
   {
    "duration": 9,
    "start_time": "2023-05-13T23:02:28.643Z"
   },
   {
    "duration": 7,
    "start_time": "2023-05-13T23:02:28.653Z"
   },
   {
    "duration": 23,
    "start_time": "2023-05-13T23:02:28.661Z"
   },
   {
    "duration": 11,
    "start_time": "2023-05-13T23:02:28.686Z"
   },
   {
    "duration": 490,
    "start_time": "2023-05-13T23:02:28.698Z"
   },
   {
    "duration": 481,
    "start_time": "2023-05-13T23:02:29.190Z"
   },
   {
    "duration": 482,
    "start_time": "2023-05-13T23:02:29.673Z"
   },
   {
    "duration": 192,
    "start_time": "2023-05-13T23:02:30.156Z"
   },
   {
    "duration": 181,
    "start_time": "2023-05-13T23:02:30.350Z"
   },
   {
    "duration": 7,
    "start_time": "2023-05-13T23:02:30.533Z"
   },
   {
    "duration": 106,
    "start_time": "2023-05-13T23:02:30.543Z"
   },
   {
    "duration": 867,
    "start_time": "2023-05-13T23:02:30.651Z"
   },
   {
    "duration": 160,
    "start_time": "2023-05-13T23:02:31.519Z"
   },
   {
    "duration": 15,
    "start_time": "2023-05-13T23:02:31.684Z"
   },
   {
    "duration": 35,
    "start_time": "2023-05-13T23:02:31.701Z"
   },
   {
    "duration": 12,
    "start_time": "2023-05-13T23:02:31.739Z"
   },
   {
    "duration": 18,
    "start_time": "2023-05-13T23:02:31.753Z"
   },
   {
    "duration": 10,
    "start_time": "2023-05-13T23:02:31.773Z"
   },
   {
    "duration": 9,
    "start_time": "2023-05-13T23:02:31.785Z"
   },
   {
    "duration": 20,
    "start_time": "2023-05-13T23:02:31.796Z"
   },
   {
    "duration": 32,
    "start_time": "2023-05-13T23:02:31.827Z"
   },
   {
    "duration": 3,
    "start_time": "2023-05-13T23:02:31.861Z"
   },
   {
    "duration": 128,
    "start_time": "2023-05-13T23:02:31.866Z"
   },
   {
    "duration": 0,
    "start_time": "2023-05-13T23:02:31.996Z"
   },
   {
    "duration": 0,
    "start_time": "2023-05-13T23:02:31.997Z"
   },
   {
    "duration": 0,
    "start_time": "2023-05-13T23:02:31.999Z"
   },
   {
    "duration": 0,
    "start_time": "2023-05-13T23:02:32.000Z"
   },
   {
    "duration": 0,
    "start_time": "2023-05-13T23:02:32.001Z"
   },
   {
    "duration": 0,
    "start_time": "2023-05-13T23:02:32.003Z"
   },
   {
    "duration": 0,
    "start_time": "2023-05-13T23:02:32.004Z"
   },
   {
    "duration": 0,
    "start_time": "2023-05-13T23:02:32.025Z"
   },
   {
    "duration": 0,
    "start_time": "2023-05-13T23:02:32.026Z"
   },
   {
    "duration": 0,
    "start_time": "2023-05-13T23:02:32.028Z"
   },
   {
    "duration": 0,
    "start_time": "2023-05-13T23:02:32.029Z"
   },
   {
    "duration": 3,
    "start_time": "2023-05-13T23:02:52.386Z"
   },
   {
    "duration": 24,
    "start_time": "2023-05-13T23:02:52.391Z"
   },
   {
    "duration": 15989,
    "start_time": "2023-05-13T23:02:52.416Z"
   },
   {
    "duration": 5,
    "start_time": "2023-05-13T23:03:08.406Z"
   },
   {
    "duration": 37,
    "start_time": "2023-05-13T23:03:08.413Z"
   },
   {
    "duration": 3581,
    "start_time": "2023-05-14T14:59:58.522Z"
   },
   {
    "duration": 1654,
    "start_time": "2023-05-14T15:00:02.106Z"
   },
   {
    "duration": 32,
    "start_time": "2023-05-14T15:00:03.763Z"
   },
   {
    "duration": 146,
    "start_time": "2023-05-14T15:00:03.797Z"
   },
   {
    "duration": 116,
    "start_time": "2023-05-14T15:00:03.953Z"
   },
   {
    "duration": 167,
    "start_time": "2023-05-14T15:00:04.071Z"
   },
   {
    "duration": 109,
    "start_time": "2023-05-14T15:00:04.241Z"
   },
   {
    "duration": 82,
    "start_time": "2023-05-14T15:00:04.351Z"
   },
   {
    "duration": 719,
    "start_time": "2023-05-14T15:00:04.435Z"
   },
   {
    "duration": 26,
    "start_time": "2023-05-14T15:00:05.156Z"
   },
   {
    "duration": 77,
    "start_time": "2023-05-14T15:00:05.191Z"
   },
   {
    "duration": 164,
    "start_time": "2023-05-14T15:00:05.270Z"
   },
   {
    "duration": 162,
    "start_time": "2023-05-14T15:00:05.436Z"
   },
   {
    "duration": 56,
    "start_time": "2023-05-14T15:00:05.606Z"
   },
   {
    "duration": 90,
    "start_time": "2023-05-14T15:00:05.664Z"
   },
   {
    "duration": 2111,
    "start_time": "2023-05-14T15:00:05.756Z"
   },
   {
    "duration": 37,
    "start_time": "2023-05-14T15:00:07.869Z"
   },
   {
    "duration": 75,
    "start_time": "2023-05-14T15:00:07.908Z"
   },
   {
    "duration": 65,
    "start_time": "2023-05-14T15:00:07.986Z"
   },
   {
    "duration": 141,
    "start_time": "2023-05-14T15:00:08.053Z"
   },
   {
    "duration": 444,
    "start_time": "2023-05-14T15:00:08.202Z"
   },
   {
    "duration": 3,
    "start_time": "2023-05-14T15:00:08.648Z"
   },
   {
    "duration": 1169,
    "start_time": "2023-05-14T15:00:08.653Z"
   },
   {
    "duration": 12,
    "start_time": "2023-05-14T15:00:09.824Z"
   },
   {
    "duration": 239,
    "start_time": "2023-05-14T15:00:09.838Z"
   },
   {
    "duration": 123,
    "start_time": "2023-05-14T15:00:10.087Z"
   },
   {
    "duration": 2,
    "start_time": "2023-05-14T15:00:10.213Z"
   },
   {
    "duration": 241,
    "start_time": "2023-05-14T15:00:10.217Z"
   },
   {
    "duration": 91,
    "start_time": "2023-05-14T15:00:10.460Z"
   },
   {
    "duration": 86,
    "start_time": "2023-05-14T15:00:10.553Z"
   },
   {
    "duration": 23,
    "start_time": "2023-05-14T15:00:10.641Z"
   },
   {
    "duration": 879,
    "start_time": "2023-05-14T15:00:10.666Z"
   },
   {
    "duration": 762,
    "start_time": "2023-05-14T15:00:11.573Z"
   },
   {
    "duration": 709,
    "start_time": "2023-05-14T15:00:12.339Z"
   },
   {
    "duration": 292,
    "start_time": "2023-05-14T15:00:13.055Z"
   },
   {
    "duration": 242,
    "start_time": "2023-05-14T15:00:13.350Z"
   },
   {
    "duration": 7,
    "start_time": "2023-05-14T15:00:13.594Z"
   },
   {
    "duration": 256,
    "start_time": "2023-05-14T15:00:13.603Z"
   },
   {
    "duration": 1145,
    "start_time": "2023-05-14T15:00:13.861Z"
   },
   {
    "duration": 249,
    "start_time": "2023-05-14T15:00:15.012Z"
   },
   {
    "duration": 3395,
    "start_time": "2023-05-14T15:06:04.356Z"
   },
   {
    "duration": 457,
    "start_time": "2023-05-14T15:06:07.754Z"
   },
   {
    "duration": 33,
    "start_time": "2023-05-14T15:06:08.220Z"
   },
   {
    "duration": 87,
    "start_time": "2023-05-14T15:06:08.255Z"
   },
   {
    "duration": 56,
    "start_time": "2023-05-14T15:06:08.347Z"
   },
   {
    "duration": 116,
    "start_time": "2023-05-14T15:06:08.417Z"
   },
   {
    "duration": 14,
    "start_time": "2023-05-14T15:06:08.536Z"
   },
   {
    "duration": 24,
    "start_time": "2023-05-14T15:06:08.562Z"
   },
   {
    "duration": 249,
    "start_time": "2023-05-14T15:06:08.588Z"
   },
   {
    "duration": 17,
    "start_time": "2023-05-14T15:06:08.852Z"
   },
   {
    "duration": 7,
    "start_time": "2023-05-14T15:06:08.872Z"
   },
   {
    "duration": 76,
    "start_time": "2023-05-14T15:06:08.883Z"
   },
   {
    "duration": 70,
    "start_time": "2023-05-14T15:06:08.961Z"
   },
   {
    "duration": 19,
    "start_time": "2023-05-14T15:06:09.033Z"
   },
   {
    "duration": 10,
    "start_time": "2023-05-14T15:06:09.055Z"
   },
   {
    "duration": 608,
    "start_time": "2023-05-14T15:06:09.067Z"
   },
   {
    "duration": 37,
    "start_time": "2023-05-14T15:06:09.677Z"
   },
   {
    "duration": 178,
    "start_time": "2023-05-14T15:06:09.717Z"
   },
   {
    "duration": 68,
    "start_time": "2023-05-14T15:06:09.898Z"
   },
   {
    "duration": 88,
    "start_time": "2023-05-14T15:06:09.968Z"
   },
   {
    "duration": 600,
    "start_time": "2023-05-14T15:06:10.058Z"
   },
   {
    "duration": 10,
    "start_time": "2023-05-14T15:06:10.671Z"
   },
   {
    "duration": 1495,
    "start_time": "2023-05-14T15:06:10.688Z"
   },
   {
    "duration": 13,
    "start_time": "2023-05-14T15:06:12.189Z"
   },
   {
    "duration": 189,
    "start_time": "2023-05-14T15:06:12.208Z"
   },
   {
    "duration": 149,
    "start_time": "2023-05-14T15:06:12.414Z"
   },
   {
    "duration": 2,
    "start_time": "2023-05-14T15:06:12.565Z"
   },
   {
    "duration": 76,
    "start_time": "2023-05-14T15:06:12.570Z"
   },
   {
    "duration": 23,
    "start_time": "2023-05-14T15:06:12.648Z"
   },
   {
    "duration": 68,
    "start_time": "2023-05-14T15:06:12.677Z"
   },
   {
    "duration": 17,
    "start_time": "2023-05-14T15:06:12.747Z"
   },
   {
    "duration": 788,
    "start_time": "2023-05-14T15:06:12.767Z"
   },
   {
    "duration": 661,
    "start_time": "2023-05-14T15:06:13.557Z"
   },
   {
    "duration": 701,
    "start_time": "2023-05-14T15:06:14.220Z"
   },
   {
    "duration": 233,
    "start_time": "2023-05-14T15:06:14.926Z"
   },
   {
    "duration": 228,
    "start_time": "2023-05-14T15:06:15.161Z"
   },
   {
    "duration": 8,
    "start_time": "2023-05-14T15:06:15.395Z"
   },
   {
    "duration": 149,
    "start_time": "2023-05-14T15:06:15.408Z"
   },
   {
    "duration": 1195,
    "start_time": "2023-05-14T15:06:15.559Z"
   },
   {
    "duration": 270,
    "start_time": "2023-05-14T15:06:16.761Z"
   },
   {
    "duration": 37,
    "start_time": "2023-05-14T15:06:17.045Z"
   },
   {
    "duration": 73,
    "start_time": "2023-05-14T15:06:17.086Z"
   },
   {
    "duration": 36,
    "start_time": "2023-05-14T15:06:17.162Z"
   },
   {
    "duration": 82,
    "start_time": "2023-05-14T15:06:17.209Z"
   },
   {
    "duration": 70,
    "start_time": "2023-05-14T15:06:17.295Z"
   },
   {
    "duration": 89,
    "start_time": "2023-05-14T15:06:17.374Z"
   },
   {
    "duration": 75,
    "start_time": "2023-05-14T15:06:17.466Z"
   },
   {
    "duration": 70,
    "start_time": "2023-05-14T15:06:17.543Z"
   },
   {
    "duration": 9,
    "start_time": "2023-05-14T15:06:17.615Z"
   },
   {
    "duration": 2,
    "start_time": "2023-05-14T15:06:17.626Z"
   },
   {
    "duration": 36,
    "start_time": "2023-05-14T15:06:17.630Z"
   },
   {
    "duration": 33562,
    "start_time": "2023-05-14T15:06:17.668Z"
   },
   {
    "duration": 9,
    "start_time": "2023-05-14T15:08:42.798Z"
   },
   {
    "duration": 423,
    "start_time": "2023-05-14T15:08:42.816Z"
   },
   {
    "duration": 17,
    "start_time": "2023-05-14T15:08:43.242Z"
   },
   {
    "duration": 28,
    "start_time": "2023-05-14T15:08:43.261Z"
   },
   {
    "duration": 43,
    "start_time": "2023-05-14T15:08:43.296Z"
   },
   {
    "duration": 96,
    "start_time": "2023-05-14T15:08:43.342Z"
   },
   {
    "duration": 9,
    "start_time": "2023-05-14T15:08:43.440Z"
   },
   {
    "duration": 7,
    "start_time": "2023-05-14T15:08:43.451Z"
   },
   {
    "duration": 148,
    "start_time": "2023-05-14T15:08:43.460Z"
   },
   {
    "duration": 32,
    "start_time": "2023-05-14T15:08:43.610Z"
   },
   {
    "duration": 13,
    "start_time": "2023-05-14T15:08:43.645Z"
   },
   {
    "duration": 18,
    "start_time": "2023-05-14T15:08:43.659Z"
   },
   {
    "duration": 82,
    "start_time": "2023-05-14T15:08:43.682Z"
   },
   {
    "duration": 3,
    "start_time": "2023-05-14T15:08:43.766Z"
   },
   {
    "duration": 69,
    "start_time": "2023-05-14T15:08:43.777Z"
   },
   {
    "duration": 568,
    "start_time": "2023-05-14T15:08:43.848Z"
   },
   {
    "duration": 29,
    "start_time": "2023-05-14T15:08:44.426Z"
   },
   {
    "duration": 69,
    "start_time": "2023-05-14T15:08:44.460Z"
   },
   {
    "duration": 40,
    "start_time": "2023-05-14T15:08:44.535Z"
   },
   {
    "duration": 121,
    "start_time": "2023-05-14T15:08:44.577Z"
   },
   {
    "duration": 451,
    "start_time": "2023-05-14T15:08:44.700Z"
   },
   {
    "duration": 3,
    "start_time": "2023-05-14T15:08:45.153Z"
   },
   {
    "duration": 1158,
    "start_time": "2023-05-14T15:08:45.157Z"
   },
   {
    "duration": 18,
    "start_time": "2023-05-14T15:08:46.326Z"
   },
   {
    "duration": 49,
    "start_time": "2023-05-14T15:08:46.346Z"
   },
   {
    "duration": 154,
    "start_time": "2023-05-14T15:08:46.400Z"
   },
   {
    "duration": 3,
    "start_time": "2023-05-14T15:08:46.556Z"
   },
   {
    "duration": 30,
    "start_time": "2023-05-14T15:08:46.561Z"
   },
   {
    "duration": 76,
    "start_time": "2023-05-14T15:08:46.593Z"
   },
   {
    "duration": 62,
    "start_time": "2023-05-14T15:08:46.683Z"
   },
   {
    "duration": 7,
    "start_time": "2023-05-14T15:08:46.747Z"
   },
   {
    "duration": 675,
    "start_time": "2023-05-14T15:08:46.755Z"
   },
   {
    "duration": 821,
    "start_time": "2023-05-14T15:08:47.432Z"
   },
   {
    "duration": 670,
    "start_time": "2023-05-14T15:08:48.255Z"
   },
   {
    "duration": 211,
    "start_time": "2023-05-14T15:08:48.936Z"
   },
   {
    "duration": 258,
    "start_time": "2023-05-14T15:08:49.149Z"
   },
   {
    "duration": 22,
    "start_time": "2023-05-14T15:08:49.413Z"
   },
   {
    "duration": 101,
    "start_time": "2023-05-14T15:08:49.437Z"
   },
   {
    "duration": 910,
    "start_time": "2023-05-14T15:08:49.540Z"
   },
   {
    "duration": 202,
    "start_time": "2023-05-14T15:08:50.452Z"
   },
   {
    "duration": 174,
    "start_time": "2023-05-14T15:08:50.657Z"
   },
   {
    "duration": 24,
    "start_time": "2023-05-14T15:08:50.842Z"
   },
   {
    "duration": 19,
    "start_time": "2023-05-14T15:08:50.868Z"
   },
   {
    "duration": 69,
    "start_time": "2023-05-14T15:08:50.895Z"
   },
   {
    "duration": 24,
    "start_time": "2023-05-14T15:08:50.967Z"
   },
   {
    "duration": 67,
    "start_time": "2023-05-14T15:08:50.994Z"
   },
   {
    "duration": 9,
    "start_time": "2023-05-14T15:09:07.723Z"
   },
   {
    "duration": 1544,
    "start_time": "2023-05-14T19:01:21.372Z"
   },
   {
    "duration": 1194,
    "start_time": "2023-05-14T19:01:22.918Z"
   },
   {
    "duration": 21,
    "start_time": "2023-05-14T19:01:24.113Z"
   },
   {
    "duration": 12,
    "start_time": "2023-05-14T19:01:24.136Z"
   },
   {
    "duration": 18,
    "start_time": "2023-05-14T19:01:24.149Z"
   },
   {
    "duration": 67,
    "start_time": "2023-05-14T19:01:24.179Z"
   },
   {
    "duration": 6,
    "start_time": "2023-05-14T19:01:24.247Z"
   },
   {
    "duration": 24,
    "start_time": "2023-05-14T19:01:24.255Z"
   },
   {
    "duration": 145,
    "start_time": "2023-05-14T19:01:24.280Z"
   },
   {
    "duration": 13,
    "start_time": "2023-05-14T19:01:24.428Z"
   },
   {
    "duration": 4,
    "start_time": "2023-05-14T19:01:24.443Z"
   },
   {
    "duration": 15,
    "start_time": "2023-05-14T19:01:24.449Z"
   },
   {
    "duration": 42,
    "start_time": "2023-05-14T19:01:24.465Z"
   },
   {
    "duration": 2,
    "start_time": "2023-05-14T19:01:24.510Z"
   },
   {
    "duration": 116,
    "start_time": "2023-05-14T19:02:21.330Z"
   },
   {
    "duration": 5,
    "start_time": "2023-05-14T19:02:54.537Z"
   },
   {
    "duration": 10,
    "start_time": "2023-05-14T19:03:08.742Z"
   },
   {
    "duration": 10,
    "start_time": "2023-05-14T19:03:25.934Z"
   },
   {
    "duration": 5,
    "start_time": "2023-05-14T19:05:09.853Z"
   },
   {
    "duration": 13,
    "start_time": "2023-05-14T19:09:27.140Z"
   },
   {
    "duration": 4,
    "start_time": "2023-05-14T19:09:32.316Z"
   },
   {
    "duration": 342,
    "start_time": "2023-05-14T19:09:32.322Z"
   },
   {
    "duration": 21,
    "start_time": "2023-05-14T19:09:32.666Z"
   },
   {
    "duration": 11,
    "start_time": "2023-05-14T19:09:32.690Z"
   },
   {
    "duration": 18,
    "start_time": "2023-05-14T19:09:32.703Z"
   },
   {
    "duration": 87,
    "start_time": "2023-05-14T19:09:32.723Z"
   },
   {
    "duration": 6,
    "start_time": "2023-05-14T19:09:32.812Z"
   },
   {
    "duration": 7,
    "start_time": "2023-05-14T19:09:32.819Z"
   },
   {
    "duration": 84,
    "start_time": "2023-05-14T19:09:32.827Z"
   },
   {
    "duration": 12,
    "start_time": "2023-05-14T19:09:32.915Z"
   },
   {
    "duration": 5,
    "start_time": "2023-05-14T19:09:32.929Z"
   },
   {
    "duration": 14,
    "start_time": "2023-05-14T19:09:32.935Z"
   },
   {
    "duration": 60,
    "start_time": "2023-05-14T19:09:32.951Z"
   },
   {
    "duration": 9,
    "start_time": "2023-05-14T19:09:33.013Z"
   },
   {
    "duration": 13,
    "start_time": "2023-05-14T19:09:33.023Z"
   },
   {
    "duration": 5,
    "start_time": "2023-05-14T19:09:33.038Z"
   },
   {
    "duration": 1558,
    "start_time": "2023-05-14T19:09:33.044Z"
   },
   {
    "duration": 19,
    "start_time": "2023-05-14T19:09:34.604Z"
   },
   {
    "duration": 21,
    "start_time": "2023-05-14T19:09:34.625Z"
   },
   {
    "duration": 41,
    "start_time": "2023-05-14T19:09:34.648Z"
   },
   {
    "duration": 69,
    "start_time": "2023-05-14T19:09:34.691Z"
   },
   {
    "duration": 409,
    "start_time": "2023-05-14T19:09:34.762Z"
   },
   {
    "duration": 3,
    "start_time": "2023-05-14T19:09:35.177Z"
   },
   {
    "duration": 965,
    "start_time": "2023-05-14T19:09:35.182Z"
   },
   {
    "duration": 8,
    "start_time": "2023-05-14T19:09:36.148Z"
   },
   {
    "duration": 109,
    "start_time": "2023-05-14T19:09:36.157Z"
   },
   {
    "duration": 95,
    "start_time": "2023-05-14T19:09:36.268Z"
   },
   {
    "duration": 2,
    "start_time": "2023-05-14T19:09:36.366Z"
   },
   {
    "duration": 3,
    "start_time": "2023-05-14T19:09:36.377Z"
   },
   {
    "duration": 8,
    "start_time": "2023-05-14T19:09:36.381Z"
   },
   {
    "duration": 28,
    "start_time": "2023-05-14T19:09:36.391Z"
   },
   {
    "duration": 11,
    "start_time": "2023-05-14T19:09:36.421Z"
   },
   {
    "duration": 489,
    "start_time": "2023-05-14T19:09:36.434Z"
   },
   {
    "duration": 517,
    "start_time": "2023-05-14T19:09:36.924Z"
   },
   {
    "duration": 573,
    "start_time": "2023-05-14T19:09:37.443Z"
   },
   {
    "duration": 174,
    "start_time": "2023-05-14T19:09:38.018Z"
   },
   {
    "duration": 172,
    "start_time": "2023-05-14T19:09:38.194Z"
   },
   {
    "duration": 11,
    "start_time": "2023-05-14T19:09:38.368Z"
   },
   {
    "duration": 65,
    "start_time": "2023-05-14T19:09:38.380Z"
   },
   {
    "duration": 802,
    "start_time": "2023-05-14T19:09:38.447Z"
   },
   {
    "duration": 172,
    "start_time": "2023-05-14T19:09:54.555Z"
   },
   {
    "duration": 7,
    "start_time": "2023-05-14T19:15:26.540Z"
   },
   {
    "duration": 4,
    "start_time": "2023-05-14T19:15:55.488Z"
   },
   {
    "duration": 10,
    "start_time": "2023-05-14T19:35:44.510Z"
   },
   {
    "duration": 10,
    "start_time": "2023-05-14T19:35:52.982Z"
   },
   {
    "duration": 53,
    "start_time": "2023-05-14T19:38:09.866Z"
   },
   {
    "duration": 63,
    "start_time": "2023-05-14T19:38:30.456Z"
   },
   {
    "duration": 51,
    "start_time": "2023-05-14T19:39:20.296Z"
   },
   {
    "duration": 66,
    "start_time": "2023-05-14T19:39:46.758Z"
   },
   {
    "duration": 8,
    "start_time": "2023-05-14T19:40:50.058Z"
   },
   {
    "duration": 62,
    "start_time": "2023-05-14T19:42:17.585Z"
   },
   {
    "duration": 4,
    "start_time": "2023-05-14T19:45:18.781Z"
   },
   {
    "duration": 95,
    "start_time": "2023-05-14T19:45:25.604Z"
   },
   {
    "duration": 47,
    "start_time": "2023-05-14T19:46:03.556Z"
   },
   {
    "duration": 40,
    "start_time": "2023-05-14T19:46:55.882Z"
   },
   {
    "duration": 51,
    "start_time": "2023-05-14T19:47:22.778Z"
   },
   {
    "duration": 13,
    "start_time": "2023-05-14T19:47:28.947Z"
   },
   {
    "duration": 11,
    "start_time": "2023-05-14T19:47:59.250Z"
   },
   {
    "duration": 14,
    "start_time": "2023-05-14T19:49:35.439Z"
   },
   {
    "duration": 20,
    "start_time": "2023-05-14T19:54:35.492Z"
   },
   {
    "duration": 17,
    "start_time": "2023-05-14T19:55:42.988Z"
   },
   {
    "duration": 42,
    "start_time": "2023-05-14T19:57:20.225Z"
   },
   {
    "duration": 29,
    "start_time": "2023-05-14T19:57:37.315Z"
   },
   {
    "duration": 745,
    "start_time": "2023-05-14T19:58:57.997Z"
   },
   {
    "duration": 13,
    "start_time": "2023-05-14T19:59:45.105Z"
   },
   {
    "duration": 88,
    "start_time": "2023-05-14T20:00:36.009Z"
   },
   {
    "duration": 15,
    "start_time": "2023-05-14T20:00:36.755Z"
   },
   {
    "duration": 6,
    "start_time": "2023-05-14T20:00:37.498Z"
   },
   {
    "duration": 35,
    "start_time": "2023-05-14T20:00:47.678Z"
   },
   {
    "duration": 5,
    "start_time": "2023-05-14T20:00:57.271Z"
   },
   {
    "duration": 417,
    "start_time": "2023-05-14T20:00:57.278Z"
   },
   {
    "duration": 22,
    "start_time": "2023-05-14T20:00:57.698Z"
   },
   {
    "duration": 14,
    "start_time": "2023-05-14T20:00:57.722Z"
   },
   {
    "duration": 43,
    "start_time": "2023-05-14T20:00:57.739Z"
   },
   {
    "duration": 102,
    "start_time": "2023-05-14T20:00:57.784Z"
   },
   {
    "duration": 7,
    "start_time": "2023-05-14T20:00:57.888Z"
   },
   {
    "duration": 14,
    "start_time": "2023-05-14T20:00:57.896Z"
   },
   {
    "duration": 91,
    "start_time": "2023-05-14T20:00:57.912Z"
   },
   {
    "duration": 14,
    "start_time": "2023-05-14T20:00:58.004Z"
   },
   {
    "duration": 5,
    "start_time": "2023-05-14T20:00:58.021Z"
   },
   {
    "duration": 30,
    "start_time": "2023-05-14T20:00:58.028Z"
   },
   {
    "duration": 68,
    "start_time": "2023-05-14T20:00:58.060Z"
   },
   {
    "duration": 3,
    "start_time": "2023-05-14T20:00:58.130Z"
   },
   {
    "duration": 6,
    "start_time": "2023-05-14T20:00:58.135Z"
   },
   {
    "duration": 5,
    "start_time": "2023-05-14T20:00:58.143Z"
   },
   {
    "duration": 411,
    "start_time": "2023-05-14T20:00:58.150Z"
   },
   {
    "duration": 23,
    "start_time": "2023-05-14T20:00:58.563Z"
   },
   {
    "duration": 15,
    "start_time": "2023-05-14T20:00:58.588Z"
   },
   {
    "duration": 18,
    "start_time": "2023-05-14T20:00:58.605Z"
   },
   {
    "duration": 81,
    "start_time": "2023-05-14T20:00:58.625Z"
   },
   {
    "duration": 431,
    "start_time": "2023-05-14T20:00:58.708Z"
   },
   {
    "duration": 3,
    "start_time": "2023-05-14T20:00:59.141Z"
   },
   {
    "duration": 955,
    "start_time": "2023-05-14T20:00:59.146Z"
   },
   {
    "duration": 9,
    "start_time": "2023-05-14T20:01:00.102Z"
   },
   {
    "duration": 31,
    "start_time": "2023-05-14T20:01:00.113Z"
   },
   {
    "duration": 94,
    "start_time": "2023-05-14T20:01:00.146Z"
   },
   {
    "duration": 2,
    "start_time": "2023-05-14T20:01:00.242Z"
   },
   {
    "duration": 11,
    "start_time": "2023-05-14T20:01:00.249Z"
   },
   {
    "duration": 21,
    "start_time": "2023-05-14T20:01:00.262Z"
   },
   {
    "duration": 25,
    "start_time": "2023-05-14T20:01:00.284Z"
   },
   {
    "duration": 9,
    "start_time": "2023-05-14T20:01:00.311Z"
   },
   {
    "duration": 488,
    "start_time": "2023-05-14T20:01:00.322Z"
   },
   {
    "duration": 606,
    "start_time": "2023-05-14T20:01:00.812Z"
   },
   {
    "duration": 520,
    "start_time": "2023-05-14T20:01:01.420Z"
   },
   {
    "duration": 205,
    "start_time": "2023-05-14T20:01:01.942Z"
   },
   {
    "duration": 172,
    "start_time": "2023-05-14T20:01:02.149Z"
   },
   {
    "duration": 5,
    "start_time": "2023-05-14T20:01:02.323Z"
   },
   {
    "duration": 77,
    "start_time": "2023-05-14T20:01:02.330Z"
   },
   {
    "duration": 722,
    "start_time": "2023-05-14T20:01:02.409Z"
   },
   {
    "duration": 165,
    "start_time": "2023-05-14T20:01:03.133Z"
   },
   {
    "duration": 142,
    "start_time": "2023-05-14T20:01:03.299Z"
   },
   {
    "duration": 21,
    "start_time": "2023-05-14T20:01:03.443Z"
   },
   {
    "duration": 11,
    "start_time": "2023-05-14T20:01:03.479Z"
   },
   {
    "duration": 25,
    "start_time": "2023-05-14T20:01:03.492Z"
   },
   {
    "duration": 9,
    "start_time": "2023-05-14T20:01:03.519Z"
   },
   {
    "duration": 56,
    "start_time": "2023-05-14T20:01:03.530Z"
   },
   {
    "duration": 14,
    "start_time": "2023-05-14T20:01:08.680Z"
   },
   {
    "duration": 11,
    "start_time": "2023-05-14T20:27:50.907Z"
   },
   {
    "duration": 13,
    "start_time": "2023-05-14T20:27:59.232Z"
   },
   {
    "duration": 5,
    "start_time": "2023-05-14T20:28:05.662Z"
   },
   {
    "duration": 355,
    "start_time": "2023-05-14T20:28:05.669Z"
   },
   {
    "duration": 17,
    "start_time": "2023-05-14T20:28:06.026Z"
   },
   {
    "duration": 13,
    "start_time": "2023-05-14T20:28:06.044Z"
   },
   {
    "duration": 34,
    "start_time": "2023-05-14T20:28:06.059Z"
   },
   {
    "duration": 59,
    "start_time": "2023-05-14T20:28:06.095Z"
   },
   {
    "duration": 25,
    "start_time": "2023-05-14T20:28:06.156Z"
   },
   {
    "duration": 11,
    "start_time": "2023-05-14T20:28:06.183Z"
   },
   {
    "duration": 78,
    "start_time": "2023-05-14T20:28:06.196Z"
   },
   {
    "duration": 13,
    "start_time": "2023-05-14T20:28:06.276Z"
   },
   {
    "duration": 9,
    "start_time": "2023-05-14T20:28:06.291Z"
   },
   {
    "duration": 20,
    "start_time": "2023-05-14T20:28:06.302Z"
   },
   {
    "duration": 55,
    "start_time": "2023-05-14T20:28:06.324Z"
   },
   {
    "duration": 3,
    "start_time": "2023-05-14T20:28:06.383Z"
   },
   {
    "duration": 16,
    "start_time": "2023-05-14T20:28:06.387Z"
   },
   {
    "duration": 21,
    "start_time": "2023-05-14T20:28:06.405Z"
   },
   {
    "duration": 397,
    "start_time": "2023-05-14T20:28:06.428Z"
   },
   {
    "duration": 18,
    "start_time": "2023-05-14T20:28:06.827Z"
   },
   {
    "duration": 31,
    "start_time": "2023-05-14T20:28:06.847Z"
   },
   {
    "duration": 17,
    "start_time": "2023-05-14T20:28:06.880Z"
   },
   {
    "duration": 58,
    "start_time": "2023-05-14T20:28:06.899Z"
   },
   {
    "duration": 360,
    "start_time": "2023-05-14T20:28:06.959Z"
   },
   {
    "duration": 2,
    "start_time": "2023-05-14T20:28:07.321Z"
   },
   {
    "duration": 944,
    "start_time": "2023-05-14T20:28:07.325Z"
   },
   {
    "duration": 8,
    "start_time": "2023-05-14T20:28:08.279Z"
   },
   {
    "duration": 27,
    "start_time": "2023-05-14T20:28:08.289Z"
   },
   {
    "duration": 102,
    "start_time": "2023-05-14T20:28:08.319Z"
   },
   {
    "duration": 3,
    "start_time": "2023-05-14T20:28:08.423Z"
   },
   {
    "duration": 19,
    "start_time": "2023-05-14T20:28:08.428Z"
   },
   {
    "duration": 5,
    "start_time": "2023-05-14T20:28:08.449Z"
   },
   {
    "duration": 14,
    "start_time": "2023-05-14T20:28:08.456Z"
   },
   {
    "duration": 12,
    "start_time": "2023-05-14T20:28:08.472Z"
   },
   {
    "duration": 475,
    "start_time": "2023-05-14T20:28:08.486Z"
   },
   {
    "duration": 504,
    "start_time": "2023-05-14T20:28:08.963Z"
   },
   {
    "duration": 645,
    "start_time": "2023-05-14T20:28:09.469Z"
   },
   {
    "duration": 195,
    "start_time": "2023-05-14T20:28:10.116Z"
   },
   {
    "duration": 185,
    "start_time": "2023-05-14T20:28:10.313Z"
   },
   {
    "duration": 4,
    "start_time": "2023-05-14T20:28:10.500Z"
   },
   {
    "duration": 77,
    "start_time": "2023-05-14T20:28:10.506Z"
   },
   {
    "duration": 766,
    "start_time": "2023-05-14T20:28:10.584Z"
   },
   {
    "duration": 175,
    "start_time": "2023-05-14T20:28:11.354Z"
   },
   {
    "duration": 20,
    "start_time": "2023-05-14T20:28:11.531Z"
   },
   {
    "duration": 47,
    "start_time": "2023-05-14T20:28:11.553Z"
   },
   {
    "duration": 13,
    "start_time": "2023-05-14T20:28:11.602Z"
   },
   {
    "duration": 22,
    "start_time": "2023-05-14T20:28:11.617Z"
   },
   {
    "duration": 9,
    "start_time": "2023-05-14T20:28:11.641Z"
   },
   {
    "duration": 21,
    "start_time": "2023-05-14T20:28:11.679Z"
   },
   {
    "duration": 23,
    "start_time": "2023-05-14T20:28:11.702Z"
   },
   {
    "duration": 71,
    "start_time": "2023-05-14T20:28:31.765Z"
   },
   {
    "duration": 15,
    "start_time": "2023-05-14T20:29:18.559Z"
   },
   {
    "duration": 4,
    "start_time": "2023-05-14T20:29:38.541Z"
   },
   {
    "duration": 73,
    "start_time": "2023-05-14T20:30:20.986Z"
   },
   {
    "duration": 14,
    "start_time": "2023-05-14T20:30:59.426Z"
   },
   {
    "duration": 15,
    "start_time": "2023-05-14T20:33:19.517Z"
   },
   {
    "duration": 4,
    "start_time": "2023-05-14T20:33:36.346Z"
   },
   {
    "duration": 315,
    "start_time": "2023-05-14T20:33:36.352Z"
   },
   {
    "duration": 22,
    "start_time": "2023-05-14T20:33:36.669Z"
   },
   {
    "duration": 11,
    "start_time": "2023-05-14T20:33:36.694Z"
   },
   {
    "duration": 20,
    "start_time": "2023-05-14T20:33:36.707Z"
   },
   {
    "duration": 88,
    "start_time": "2023-05-14T20:33:36.729Z"
   },
   {
    "duration": 6,
    "start_time": "2023-05-14T20:33:36.819Z"
   },
   {
    "duration": 6,
    "start_time": "2023-05-14T20:33:36.826Z"
   },
   {
    "duration": 86,
    "start_time": "2023-05-14T20:33:36.835Z"
   },
   {
    "duration": 14,
    "start_time": "2023-05-14T20:33:36.923Z"
   },
   {
    "duration": 4,
    "start_time": "2023-05-14T20:33:36.939Z"
   },
   {
    "duration": 12,
    "start_time": "2023-05-14T20:33:36.945Z"
   },
   {
    "duration": 39,
    "start_time": "2023-05-14T20:33:36.979Z"
   },
   {
    "duration": 3,
    "start_time": "2023-05-14T20:33:37.020Z"
   },
   {
    "duration": 6,
    "start_time": "2023-05-14T20:33:37.025Z"
   },
   {
    "duration": 3,
    "start_time": "2023-05-14T20:33:37.033Z"
   },
   {
    "duration": 394,
    "start_time": "2023-05-14T20:33:37.038Z"
   },
   {
    "duration": 21,
    "start_time": "2023-05-14T20:33:37.434Z"
   },
   {
    "duration": 31,
    "start_time": "2023-05-14T20:33:37.457Z"
   },
   {
    "duration": 20,
    "start_time": "2023-05-14T20:33:37.491Z"
   },
   {
    "duration": 102,
    "start_time": "2023-05-14T20:33:37.513Z"
   },
   {
    "duration": 351,
    "start_time": "2023-05-14T20:33:37.617Z"
   },
   {
    "duration": 10,
    "start_time": "2023-05-14T20:33:37.969Z"
   },
   {
    "duration": 943,
    "start_time": "2023-05-14T20:33:37.982Z"
   },
   {
    "duration": 7,
    "start_time": "2023-05-14T20:33:38.927Z"
   },
   {
    "duration": 35,
    "start_time": "2023-05-14T20:33:38.936Z"
   },
   {
    "duration": 82,
    "start_time": "2023-05-14T20:33:38.973Z"
   },
   {
    "duration": 2,
    "start_time": "2023-05-14T20:33:39.057Z"
   },
   {
    "duration": 17,
    "start_time": "2023-05-14T20:33:39.061Z"
   },
   {
    "duration": 13,
    "start_time": "2023-05-14T20:33:39.080Z"
   },
   {
    "duration": 19,
    "start_time": "2023-05-14T20:33:39.095Z"
   },
   {
    "duration": 6,
    "start_time": "2023-05-14T20:33:39.116Z"
   },
   {
    "duration": 500,
    "start_time": "2023-05-14T20:33:39.124Z"
   },
   {
    "duration": 487,
    "start_time": "2023-05-14T20:33:39.626Z"
   },
   {
    "duration": 534,
    "start_time": "2023-05-14T20:33:40.115Z"
   },
   {
    "duration": 323,
    "start_time": "2023-05-14T20:33:40.651Z"
   },
   {
    "duration": 186,
    "start_time": "2023-05-14T20:33:40.978Z"
   },
   {
    "duration": 12,
    "start_time": "2023-05-14T20:33:41.167Z"
   },
   {
    "duration": 66,
    "start_time": "2023-05-14T20:33:41.181Z"
   },
   {
    "duration": 798,
    "start_time": "2023-05-14T20:33:41.249Z"
   },
   {
    "duration": 167,
    "start_time": "2023-05-14T20:33:42.049Z"
   },
   {
    "duration": 19,
    "start_time": "2023-05-14T20:33:42.217Z"
   },
   {
    "duration": 51,
    "start_time": "2023-05-14T20:33:42.238Z"
   },
   {
    "duration": 12,
    "start_time": "2023-05-14T20:33:42.291Z"
   },
   {
    "duration": 17,
    "start_time": "2023-05-14T20:33:42.305Z"
   },
   {
    "duration": 7,
    "start_time": "2023-05-14T20:33:42.324Z"
   },
   {
    "duration": 45,
    "start_time": "2023-05-14T20:33:42.333Z"
   },
   {
    "duration": 81,
    "start_time": "2023-05-14T20:33:45.724Z"
   },
   {
    "duration": 15,
    "start_time": "2023-05-14T20:33:57.134Z"
   },
   {
    "duration": 6,
    "start_time": "2023-05-14T20:34:19.391Z"
   },
   {
    "duration": 14,
    "start_time": "2023-05-14T20:34:33.660Z"
   },
   {
    "duration": 13,
    "start_time": "2023-05-14T20:36:09.345Z"
   },
   {
    "duration": 9,
    "start_time": "2023-05-14T20:36:45.999Z"
   },
   {
    "duration": 8,
    "start_time": "2023-05-14T20:37:15.328Z"
   },
   {
    "duration": 73,
    "start_time": "2023-05-14T20:37:21.142Z"
   },
   {
    "duration": 82,
    "start_time": "2023-05-14T20:38:29.092Z"
   },
   {
    "duration": 25,
    "start_time": "2023-05-14T20:39:50.148Z"
   },
   {
    "duration": 9,
    "start_time": "2023-05-14T20:39:58.395Z"
   },
   {
    "duration": 12,
    "start_time": "2023-05-14T20:40:48.857Z"
   },
   {
    "duration": 80,
    "start_time": "2023-05-14T20:41:00.795Z"
   },
   {
    "duration": 23,
    "start_time": "2023-05-14T20:41:01.466Z"
   },
   {
    "duration": 43,
    "start_time": "2023-05-14T20:41:04.135Z"
   },
   {
    "duration": 79,
    "start_time": "2023-05-14T20:41:53.549Z"
   },
   {
    "duration": 22,
    "start_time": "2023-05-14T20:41:54.054Z"
   },
   {
    "duration": 43,
    "start_time": "2023-05-14T20:41:56.199Z"
   },
   {
    "duration": 42,
    "start_time": "2023-05-14T20:42:11.995Z"
   },
   {
    "duration": 14,
    "start_time": "2023-05-14T20:42:20.519Z"
   },
   {
    "duration": 4,
    "start_time": "2023-05-14T20:43:41.923Z"
   },
   {
    "duration": 323,
    "start_time": "2023-05-14T20:43:41.929Z"
   },
   {
    "duration": 16,
    "start_time": "2023-05-14T20:43:42.254Z"
   },
   {
    "duration": 13,
    "start_time": "2023-05-14T20:43:42.279Z"
   },
   {
    "duration": 16,
    "start_time": "2023-05-14T20:43:42.293Z"
   },
   {
    "duration": 72,
    "start_time": "2023-05-14T20:43:42.310Z"
   },
   {
    "duration": 4,
    "start_time": "2023-05-14T20:43:42.384Z"
   },
   {
    "duration": 10,
    "start_time": "2023-05-14T20:43:42.389Z"
   },
   {
    "duration": 79,
    "start_time": "2023-05-14T20:43:42.401Z"
   },
   {
    "duration": 13,
    "start_time": "2023-05-14T20:43:42.482Z"
   },
   {
    "duration": 4,
    "start_time": "2023-05-14T20:43:42.496Z"
   },
   {
    "duration": 13,
    "start_time": "2023-05-14T20:43:42.502Z"
   },
   {
    "duration": 62,
    "start_time": "2023-05-14T20:43:42.516Z"
   },
   {
    "duration": 2,
    "start_time": "2023-05-14T20:43:42.580Z"
   },
   {
    "duration": 11,
    "start_time": "2023-05-14T20:43:42.584Z"
   },
   {
    "duration": 7,
    "start_time": "2023-05-14T20:43:42.596Z"
   },
   {
    "duration": 378,
    "start_time": "2023-05-14T20:43:42.605Z"
   },
   {
    "duration": 17,
    "start_time": "2023-05-14T20:43:42.985Z"
   },
   {
    "duration": 14,
    "start_time": "2023-05-14T20:43:43.003Z"
   },
   {
    "duration": 18,
    "start_time": "2023-05-14T20:43:43.018Z"
   },
   {
    "duration": 83,
    "start_time": "2023-05-14T20:43:43.038Z"
   },
   {
    "duration": 331,
    "start_time": "2023-05-14T20:43:43.123Z"
   },
   {
    "duration": 3,
    "start_time": "2023-05-14T20:43:43.456Z"
   },
   {
    "duration": 858,
    "start_time": "2023-05-14T20:43:43.461Z"
   },
   {
    "duration": 7,
    "start_time": "2023-05-14T20:43:44.320Z"
   },
   {
    "duration": 155,
    "start_time": "2023-05-14T20:43:44.329Z"
   },
   {
    "duration": 94,
    "start_time": "2023-05-14T20:43:44.486Z"
   },
   {
    "duration": 3,
    "start_time": "2023-05-14T20:43:44.583Z"
   },
   {
    "duration": 3,
    "start_time": "2023-05-14T20:43:44.588Z"
   },
   {
    "duration": 5,
    "start_time": "2023-05-14T20:43:44.593Z"
   },
   {
    "duration": 11,
    "start_time": "2023-05-14T20:43:44.599Z"
   },
   {
    "duration": 21,
    "start_time": "2023-05-14T20:43:44.611Z"
   },
   {
    "duration": 498,
    "start_time": "2023-05-14T20:43:44.633Z"
   },
   {
    "duration": 652,
    "start_time": "2023-05-14T20:43:45.133Z"
   },
   {
    "duration": 583,
    "start_time": "2023-05-14T20:43:45.788Z"
   },
   {
    "duration": 188,
    "start_time": "2023-05-14T20:43:46.377Z"
   },
   {
    "duration": 192,
    "start_time": "2023-05-14T20:43:46.567Z"
   },
   {
    "duration": 5,
    "start_time": "2023-05-14T20:43:46.761Z"
   },
   {
    "duration": 71,
    "start_time": "2023-05-14T20:43:46.767Z"
   },
   {
    "duration": 868,
    "start_time": "2023-05-14T20:43:46.840Z"
   },
   {
    "duration": 176,
    "start_time": "2023-05-14T20:43:47.711Z"
   },
   {
    "duration": 16,
    "start_time": "2023-05-14T20:43:47.889Z"
   },
   {
    "duration": 20,
    "start_time": "2023-05-14T20:43:47.906Z"
   },
   {
    "duration": 11,
    "start_time": "2023-05-14T20:43:47.928Z"
   },
   {
    "duration": 48,
    "start_time": "2023-05-14T20:43:47.941Z"
   },
   {
    "duration": 8,
    "start_time": "2023-05-14T20:43:47.991Z"
   },
   {
    "duration": 26,
    "start_time": "2023-05-14T20:43:48.000Z"
   },
   {
    "duration": 14,
    "start_time": "2023-05-14T20:43:50.992Z"
   },
   {
    "duration": 11,
    "start_time": "2023-05-14T20:44:16.924Z"
   },
   {
    "duration": 5,
    "start_time": "2023-05-14T20:45:27.697Z"
   },
   {
    "duration": 8,
    "start_time": "2023-05-14T20:49:22.056Z"
   },
   {
    "duration": 35,
    "start_time": "2023-05-14T20:49:55.103Z"
   },
   {
    "duration": 78,
    "start_time": "2023-05-14T20:50:37.514Z"
   },
   {
    "duration": 5,
    "start_time": "2023-05-14T20:50:54.080Z"
   },
   {
    "duration": 316,
    "start_time": "2023-05-14T20:50:54.135Z"
   },
   {
    "duration": 26,
    "start_time": "2023-05-14T20:50:54.453Z"
   },
   {
    "duration": 24,
    "start_time": "2023-05-14T20:50:54.481Z"
   },
   {
    "duration": 17,
    "start_time": "2023-05-14T20:50:54.507Z"
   },
   {
    "duration": 70,
    "start_time": "2023-05-14T20:50:54.526Z"
   },
   {
    "duration": 4,
    "start_time": "2023-05-14T20:50:54.598Z"
   },
   {
    "duration": 15,
    "start_time": "2023-05-14T20:50:54.604Z"
   },
   {
    "duration": 81,
    "start_time": "2023-05-14T20:50:54.621Z"
   },
   {
    "duration": 12,
    "start_time": "2023-05-14T20:50:54.704Z"
   },
   {
    "duration": 11,
    "start_time": "2023-05-14T20:50:54.718Z"
   },
   {
    "duration": 18,
    "start_time": "2023-05-14T20:50:54.731Z"
   },
   {
    "duration": 48,
    "start_time": "2023-05-14T20:50:54.751Z"
   },
   {
    "duration": 31,
    "start_time": "2023-05-14T20:50:54.801Z"
   },
   {
    "duration": 22,
    "start_time": "2023-05-14T20:50:54.834Z"
   },
   {
    "duration": 20,
    "start_time": "2023-05-14T20:50:54.858Z"
   },
   {
    "duration": 398,
    "start_time": "2023-05-14T20:50:54.880Z"
   },
   {
    "duration": 25,
    "start_time": "2023-05-14T20:50:55.281Z"
   },
   {
    "duration": 18,
    "start_time": "2023-05-14T20:50:55.308Z"
   },
   {
    "duration": 22,
    "start_time": "2023-05-14T20:50:55.328Z"
   },
   {
    "duration": 89,
    "start_time": "2023-05-14T20:50:55.352Z"
   },
   {
    "duration": 374,
    "start_time": "2023-05-14T20:50:55.443Z"
   },
   {
    "duration": 2,
    "start_time": "2023-05-14T20:50:55.819Z"
   },
   {
    "duration": 857,
    "start_time": "2023-05-14T20:50:55.823Z"
   },
   {
    "duration": 9,
    "start_time": "2023-05-14T20:50:56.682Z"
   },
   {
    "duration": 23,
    "start_time": "2023-05-14T20:50:56.693Z"
   },
   {
    "duration": 110,
    "start_time": "2023-05-14T20:50:56.718Z"
   },
   {
    "duration": 3,
    "start_time": "2023-05-14T20:50:56.830Z"
   },
   {
    "duration": 2,
    "start_time": "2023-05-14T20:50:56.836Z"
   },
   {
    "duration": 4,
    "start_time": "2023-05-14T20:50:56.840Z"
   },
   {
    "duration": 4,
    "start_time": "2023-05-14T20:50:56.845Z"
   },
   {
    "duration": 3,
    "start_time": "2023-05-14T20:50:56.851Z"
   },
   {
    "duration": 501,
    "start_time": "2023-05-14T20:50:56.879Z"
   },
   {
    "duration": 627,
    "start_time": "2023-05-14T20:50:57.383Z"
   },
   {
    "duration": 477,
    "start_time": "2023-05-14T20:50:58.011Z"
   },
   {
    "duration": 174,
    "start_time": "2023-05-14T20:50:58.490Z"
   },
   {
    "duration": 163,
    "start_time": "2023-05-14T20:50:58.667Z"
   },
   {
    "duration": 5,
    "start_time": "2023-05-14T20:50:58.831Z"
   },
   {
    "duration": 68,
    "start_time": "2023-05-14T20:50:58.838Z"
   },
   {
    "duration": 728,
    "start_time": "2023-05-14T20:50:58.908Z"
   },
   {
    "duration": 156,
    "start_time": "2023-05-14T20:50:59.638Z"
   },
   {
    "duration": 163,
    "start_time": "2023-05-14T20:50:59.796Z"
   },
   {
    "duration": 29,
    "start_time": "2023-05-14T20:50:59.961Z"
   },
   {
    "duration": 11,
    "start_time": "2023-05-14T20:50:59.992Z"
   },
   {
    "duration": 16,
    "start_time": "2023-05-14T20:51:00.005Z"
   },
   {
    "duration": 41,
    "start_time": "2023-05-14T20:51:00.023Z"
   },
   {
    "duration": 34,
    "start_time": "2023-05-14T20:51:00.066Z"
   },
   {
    "duration": 9,
    "start_time": "2023-05-14T20:51:00.102Z"
   },
   {
    "duration": 31,
    "start_time": "2023-05-14T20:51:00.112Z"
   },
   {
    "duration": 59,
    "start_time": "2023-05-14T20:51:00.145Z"
   },
   {
    "duration": 0,
    "start_time": "2023-05-14T20:51:00.206Z"
   },
   {
    "duration": 8,
    "start_time": "2023-05-14T20:52:03.927Z"
   },
   {
    "duration": 22,
    "start_time": "2023-05-14T20:52:19.740Z"
   },
   {
    "duration": 10,
    "start_time": "2023-05-14T20:52:20.707Z"
   },
   {
    "duration": 4,
    "start_time": "2023-05-14T20:52:22.526Z"
   },
   {
    "duration": 20,
    "start_time": "2023-05-14T20:52:24.677Z"
   },
   {
    "duration": 3,
    "start_time": "2023-05-14T20:52:32.314Z"
   },
   {
    "duration": 3,
    "start_time": "2023-05-14T20:52:34.405Z"
   },
   {
    "duration": 3,
    "start_time": "2023-05-14T20:52:35.286Z"
   },
   {
    "duration": 1465842,
    "start_time": "2023-05-14T20:52:43.414Z"
   },
   {
    "duration": 4,
    "start_time": "2023-05-14T21:17:09.258Z"
   },
   {
    "duration": 272962,
    "start_time": "2023-05-14T21:17:09.264Z"
   },
   {
    "duration": 4,
    "start_time": "2023-05-14T21:21:42.229Z"
   },
   {
    "duration": 95428,
    "start_time": "2023-05-14T21:22:30.248Z"
   },
   {
    "duration": 454369,
    "start_time": "2023-05-14T21:24:22.421Z"
   },
   {
    "duration": 0,
    "start_time": "2023-05-14T21:31:56.792Z"
   },
   {
    "duration": 2,
    "start_time": "2023-05-14T21:32:06.074Z"
   },
   {
    "duration": 3,
    "start_time": "2023-05-14T21:32:06.517Z"
   },
   {
    "duration": 67448,
    "start_time": "2023-05-14T21:32:39.717Z"
   },
   {
    "duration": 0,
    "start_time": "2023-05-14T21:33:47.167Z"
   },
   {
    "duration": 26,
    "start_time": "2023-05-14T21:34:05.265Z"
   },
   {
    "duration": 17976,
    "start_time": "2023-05-14T21:34:30.426Z"
   },
   {
    "duration": 2,
    "start_time": "2023-05-14T21:34:57.020Z"
   },
   {
    "duration": 33,
    "start_time": "2023-05-14T21:35:24.278Z"
   },
   {
    "duration": 4,
    "start_time": "2023-05-14T21:38:31.924Z"
   },
   {
    "duration": 158166,
    "start_time": "2023-05-14T21:40:35.055Z"
   },
   {
    "duration": 0,
    "start_time": "2023-05-14T21:43:13.224Z"
   },
   {
    "duration": 1403,
    "start_time": "2023-05-14T21:43:18.692Z"
   },
   {
    "duration": 297,
    "start_time": "2023-05-14T21:43:20.097Z"
   },
   {
    "duration": 19,
    "start_time": "2023-05-14T21:43:20.395Z"
   },
   {
    "duration": 12,
    "start_time": "2023-05-14T21:43:20.416Z"
   },
   {
    "duration": 19,
    "start_time": "2023-05-14T21:43:20.429Z"
   },
   {
    "duration": 85,
    "start_time": "2023-05-14T21:43:20.450Z"
   },
   {
    "duration": 5,
    "start_time": "2023-05-14T21:43:20.537Z"
   },
   {
    "duration": 6,
    "start_time": "2023-05-14T21:43:20.544Z"
   },
   {
    "duration": 91,
    "start_time": "2023-05-14T21:43:20.551Z"
   },
   {
    "duration": 12,
    "start_time": "2023-05-14T21:43:20.645Z"
   },
   {
    "duration": 4,
    "start_time": "2023-05-14T21:43:20.659Z"
   },
   {
    "duration": 21,
    "start_time": "2023-05-14T21:43:20.664Z"
   },
   {
    "duration": 38,
    "start_time": "2023-05-14T21:43:20.687Z"
   },
   {
    "duration": 3,
    "start_time": "2023-05-14T21:43:20.726Z"
   },
   {
    "duration": 19,
    "start_time": "2023-05-14T21:43:20.730Z"
   },
   {
    "duration": 4,
    "start_time": "2023-05-14T21:43:20.750Z"
   },
   {
    "duration": 398,
    "start_time": "2023-05-14T21:43:20.756Z"
   },
   {
    "duration": 24,
    "start_time": "2023-05-14T21:43:21.156Z"
   },
   {
    "duration": 15,
    "start_time": "2023-05-14T21:43:21.182Z"
   },
   {
    "duration": 17,
    "start_time": "2023-05-14T21:43:21.199Z"
   },
   {
    "duration": 83,
    "start_time": "2023-05-14T21:43:21.218Z"
   },
   {
    "duration": 362,
    "start_time": "2023-05-14T21:43:21.303Z"
   },
   {
    "duration": 3,
    "start_time": "2023-05-14T21:43:21.667Z"
   },
   {
    "duration": 830,
    "start_time": "2023-05-14T21:43:21.678Z"
   },
   {
    "duration": 9,
    "start_time": "2023-05-14T21:43:22.509Z"
   },
   {
    "duration": 113,
    "start_time": "2023-05-14T21:43:22.520Z"
   },
   {
    "duration": 90,
    "start_time": "2023-05-14T21:43:22.635Z"
   },
   {
    "duration": 2,
    "start_time": "2023-05-14T21:43:22.728Z"
   },
   {
    "duration": 13,
    "start_time": "2023-05-14T21:43:22.732Z"
   },
   {
    "duration": 22,
    "start_time": "2023-05-14T21:43:22.747Z"
   },
   {
    "duration": 15,
    "start_time": "2023-05-14T21:43:22.771Z"
   },
   {
    "duration": 4,
    "start_time": "2023-05-14T21:43:22.788Z"
   },
   {
    "duration": 456,
    "start_time": "2023-05-14T21:43:22.794Z"
   },
   {
    "duration": 481,
    "start_time": "2023-05-14T21:43:23.252Z"
   },
   {
    "duration": 518,
    "start_time": "2023-05-14T21:43:23.735Z"
   },
   {
    "duration": 187,
    "start_time": "2023-05-14T21:43:24.255Z"
   },
   {
    "duration": 186,
    "start_time": "2023-05-14T21:43:24.444Z"
   },
   {
    "duration": 4,
    "start_time": "2023-05-14T21:43:24.632Z"
   },
   {
    "duration": 76,
    "start_time": "2023-05-14T21:43:24.638Z"
   },
   {
    "duration": 811,
    "start_time": "2023-05-14T21:43:24.716Z"
   },
   {
    "duration": 187,
    "start_time": "2023-05-14T21:43:25.529Z"
   },
   {
    "duration": 18,
    "start_time": "2023-05-14T21:43:25.718Z"
   },
   {
    "duration": 50,
    "start_time": "2023-05-14T21:43:25.737Z"
   },
   {
    "duration": 13,
    "start_time": "2023-05-14T21:43:25.788Z"
   },
   {
    "duration": 21,
    "start_time": "2023-05-14T21:43:25.802Z"
   },
   {
    "duration": 13,
    "start_time": "2023-05-14T21:43:25.824Z"
   },
   {
    "duration": 54,
    "start_time": "2023-05-14T21:43:25.839Z"
   },
   {
    "duration": 10,
    "start_time": "2023-05-14T21:43:25.895Z"
   },
   {
    "duration": 6,
    "start_time": "2023-05-14T21:43:25.907Z"
   },
   {
    "duration": 20,
    "start_time": "2023-05-14T21:43:25.915Z"
   },
   {
    "duration": 3,
    "start_time": "2023-05-14T21:43:25.937Z"
   },
   {
    "duration": 6,
    "start_time": "2023-05-14T21:43:25.942Z"
   },
   {
    "duration": 4,
    "start_time": "2023-05-14T21:43:25.950Z"
   },
   {
    "duration": 1348,
    "start_time": "2023-09-10T14:45:06.684Z"
   },
   {
    "duration": 926,
    "start_time": "2023-09-10T14:45:08.034Z"
   },
   {
    "duration": 21,
    "start_time": "2023-09-10T14:45:08.962Z"
   },
   {
    "duration": 12,
    "start_time": "2023-09-10T14:45:08.985Z"
   },
   {
    "duration": 29,
    "start_time": "2023-09-10T14:45:08.999Z"
   },
   {
    "duration": 99,
    "start_time": "2023-09-10T14:45:09.031Z"
   },
   {
    "duration": 14,
    "start_time": "2023-09-10T14:45:09.133Z"
   },
   {
    "duration": 8,
    "start_time": "2023-09-10T14:45:09.149Z"
   },
   {
    "duration": 175,
    "start_time": "2023-09-10T14:45:09.159Z"
   },
   {
    "duration": 14,
    "start_time": "2023-09-10T14:45:09.336Z"
   },
   {
    "duration": 9,
    "start_time": "2023-09-10T14:45:09.352Z"
   },
   {
    "duration": 15,
    "start_time": "2023-09-10T14:45:09.362Z"
   },
   {
    "duration": 41,
    "start_time": "2023-09-10T14:45:09.379Z"
   },
   {
    "duration": 26,
    "start_time": "2023-09-10T14:45:09.422Z"
   },
   {
    "duration": 1232,
    "start_time": "2023-09-10T14:45:09.449Z"
   },
   {
    "duration": 19,
    "start_time": "2023-09-10T14:45:10.682Z"
   },
   {
    "duration": 20,
    "start_time": "2023-09-10T14:45:10.702Z"
   },
   {
    "duration": 60,
    "start_time": "2023-09-10T14:45:10.724Z"
   },
   {
    "duration": 63,
    "start_time": "2023-09-10T14:45:10.786Z"
   },
   {
    "duration": 379,
    "start_time": "2023-09-10T14:45:10.852Z"
   },
   {
    "duration": 947,
    "start_time": "2023-09-10T14:45:11.233Z"
   },
   {
    "duration": 8,
    "start_time": "2023-09-10T14:45:12.183Z"
   },
   {
    "duration": 116,
    "start_time": "2023-09-10T14:45:12.193Z"
   },
   {
    "duration": 114,
    "start_time": "2023-09-10T14:45:12.310Z"
   },
   {
    "duration": 3,
    "start_time": "2023-09-10T14:45:12.426Z"
   },
   {
    "duration": 525,
    "start_time": "2023-09-10T14:45:12.431Z"
   },
   {
    "duration": 519,
    "start_time": "2023-09-10T14:45:12.957Z"
   },
   {
    "duration": 537,
    "start_time": "2023-09-10T14:45:13.479Z"
   },
   {
    "duration": 220,
    "start_time": "2023-09-10T14:45:14.019Z"
   },
   {
    "duration": 190,
    "start_time": "2023-09-10T14:45:14.247Z"
   },
   {
    "duration": 9,
    "start_time": "2023-09-10T14:45:14.439Z"
   },
   {
    "duration": 73,
    "start_time": "2023-09-10T14:45:14.449Z"
   },
   {
    "duration": 1008,
    "start_time": "2023-09-10T14:45:25.244Z"
   },
   {
    "duration": 856,
    "start_time": "2023-09-10T14:47:28.001Z"
   },
   {
    "duration": 764,
    "start_time": "2023-09-10T14:47:36.633Z"
   },
   {
    "duration": 178,
    "start_time": "2023-09-10T14:49:27.377Z"
   },
   {
    "duration": 186,
    "start_time": "2023-09-10T15:06:52.170Z"
   },
   {
    "duration": 164,
    "start_time": "2023-09-10T15:13:04.077Z"
   },
   {
    "duration": 27,
    "start_time": "2023-09-10T15:13:18.084Z"
   },
   {
    "duration": 13,
    "start_time": "2023-09-10T15:13:18.113Z"
   },
   {
    "duration": 31,
    "start_time": "2023-09-10T15:13:18.129Z"
   },
   {
    "duration": 17,
    "start_time": "2023-09-10T15:13:18.163Z"
   },
   {
    "duration": 47,
    "start_time": "2023-09-10T15:13:18.182Z"
   },
   {
    "duration": 30,
    "start_time": "2023-09-10T15:13:18.231Z"
   },
   {
    "duration": 7,
    "start_time": "2023-09-10T15:13:18.264Z"
   },
   {
    "duration": 24,
    "start_time": "2023-09-10T15:13:18.273Z"
   },
   {
    "duration": 4,
    "start_time": "2023-09-10T15:13:18.300Z"
   },
   {
    "duration": 4,
    "start_time": "2023-09-10T15:13:18.308Z"
   },
   {
    "duration": 35,
    "start_time": "2023-09-10T15:13:18.314Z"
   },
   {
    "duration": 46032,
    "start_time": "2023-09-10T15:13:18.351Z"
   },
   {
    "duration": 7,
    "start_time": "2023-09-10T15:14:04.386Z"
   },
   {
    "duration": 24807,
    "start_time": "2023-09-10T15:14:04.396Z"
   },
   {
    "duration": 4,
    "start_time": "2023-09-10T15:14:29.206Z"
   },
   {
    "duration": 37,
    "start_time": "2023-09-10T15:14:29.211Z"
   },
   {
    "duration": 0,
    "start_time": "2023-09-10T15:14:29.250Z"
   },
   {
    "duration": 0,
    "start_time": "2023-09-10T15:14:29.251Z"
   },
   {
    "duration": 0,
    "start_time": "2023-09-10T15:14:29.252Z"
   },
   {
    "duration": 0,
    "start_time": "2023-09-10T15:14:29.256Z"
   },
   {
    "duration": 105,
    "start_time": "2023-09-10T15:14:31.788Z"
   },
   {
    "duration": 3,
    "start_time": "2023-09-10T15:15:44.676Z"
   },
   {
    "duration": 23229,
    "start_time": "2023-09-10T15:16:06.992Z"
   },
   {
    "duration": 9,
    "start_time": "2023-09-10T15:16:33.328Z"
   },
   {
    "duration": 38,
    "start_time": "2023-09-10T15:16:43.216Z"
   },
   {
    "duration": 2688,
    "start_time": "2023-09-10T15:17:18.720Z"
   },
   {
    "duration": 215,
    "start_time": "2023-09-10T15:17:27.418Z"
   },
   {
    "duration": 5,
    "start_time": "2023-09-10T15:17:41.468Z"
   },
   {
    "duration": 3,
    "start_time": "2023-09-10T15:17:44.527Z"
   },
   {
    "duration": 22371,
    "start_time": "2023-09-10T15:18:23.464Z"
   },
   {
    "duration": 285086,
    "start_time": "2023-09-10T15:19:41.936Z"
   },
   {
    "duration": 6,
    "start_time": "2023-09-10T15:24:27.025Z"
   },
   {
    "duration": 137190,
    "start_time": "2023-09-10T15:24:27.032Z"
   },
   {
    "duration": 5,
    "start_time": "2023-09-10T15:26:44.224Z"
   },
   {
    "duration": 98709,
    "start_time": "2023-09-10T15:26:44.249Z"
   },
   {
    "duration": 5,
    "start_time": "2023-09-10T15:29:21.012Z"
   },
   {
    "duration": 2912245,
    "start_time": "2023-09-10T15:29:55.307Z"
   },
   {
    "duration": 5,
    "start_time": "2023-09-10T16:49:01.168Z"
   },
   {
    "duration": 40660,
    "start_time": "2023-09-10T16:49:52.775Z"
   },
   {
    "duration": 5,
    "start_time": "2023-09-10T16:50:33.437Z"
   },
   {
    "duration": 20,
    "start_time": "2023-09-10T16:50:33.447Z"
   },
   {
    "duration": 0,
    "start_time": "2023-09-10T16:50:33.469Z"
   },
   {
    "duration": 10,
    "start_time": "2023-09-10T16:51:53.484Z"
   },
   {
    "duration": 1942,
    "start_time": "2023-09-10T16:52:04.627Z"
   },
   {
    "duration": 4,
    "start_time": "2023-09-10T16:52:08.740Z"
   },
   {
    "duration": 755722,
    "start_time": "2023-09-10T16:54:58.888Z"
   },
   {
    "duration": 16,
    "start_time": "2023-09-10T17:19:22.942Z"
   },
   {
    "duration": 1329107,
    "start_time": "2023-09-10T17:19:57.123Z"
   },
   {
    "duration": 4,
    "start_time": "2023-09-10T18:03:08.135Z"
   },
   {
    "duration": 1902,
    "start_time": "2023-09-10T18:09:00.375Z"
   },
   {
    "duration": 8,
    "start_time": "2023-09-10T18:09:02.348Z"
   },
   {
    "duration": 13,
    "start_time": "2023-09-10T18:09:17.423Z"
   },
   {
    "duration": 42995,
    "start_time": "2023-09-10T18:10:24.558Z"
   },
   {
    "duration": 170365,
    "start_time": "2023-09-10T18:11:07.559Z"
   }
  ],
  "kernelspec": {
   "display_name": "Python 3 (ipykernel)",
   "language": "python",
   "name": "python3"
  },
  "language_info": {
   "codemirror_mode": {
    "name": "ipython",
    "version": 3
   },
   "file_extension": ".py",
   "mimetype": "text/x-python",
   "name": "python",
   "nbconvert_exporter": "python",
   "pygments_lexer": "ipython3",
   "version": "3.9.5"
  },
  "toc": {
   "base_numbering": 1,
   "nav_menu": {},
   "number_sections": true,
   "sideBar": true,
   "skip_h1_title": true,
   "title_cell": "Содержание",
   "title_sidebar": "Contents",
   "toc_cell": true,
   "toc_position": {
    "height": "calc(100% - 180px)",
    "left": "10px",
    "top": "150px",
    "width": "230.391px"
   },
   "toc_section_display": true,
   "toc_window_display": true
  }
 },
 "nbformat": 4,
 "nbformat_minor": 2
}
