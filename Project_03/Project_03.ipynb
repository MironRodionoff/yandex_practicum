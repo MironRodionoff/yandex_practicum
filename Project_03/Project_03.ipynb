{
 "cells": [
  {
   "cell_type": "code",
   "execution_count": 110,
   "metadata": {
    "deletable": false,
    "id": "RrVHWePG_oCV"
   },
   "outputs": [],
   "source": [
    "import pandas as pd\n",
    "import matplotlib.pyplot as plt\n",
    "import seaborn as sns\n",
    "from scipy import stats as st"
   ]
  },
  {
   "cell_type": "markdown",
   "metadata": {
    "deletable": false,
    "editable": false,
    "id": "NzOeQM6C_oCY"
   },
   "source": [
    "### Откройте файл с данными и изучите общую информацию"
   ]
  },
  {
   "cell_type": "markdown",
   "metadata": {
    "deletable": false,
    "editable": false,
    "id": "jC2O2Xp9_oCZ",
    "tags": [
     "start_task"
    ]
   },
   "source": [
    "**Задание 1.** Откройте файл `/datasets/calls.csv`, сохраните датафрейм в переменную `calls`."
   ]
  },
  {
   "cell_type": "code",
   "execution_count": 111,
   "metadata": {
    "deletable": false,
    "id": "lPo8_mWg_oCZ"
   },
   "outputs": [],
   "source": [
    "calls = pd.read_csv('/datasets/calls.csv')"
   ]
  },
  {
   "cell_type": "markdown",
   "metadata": {
    "deletable": false,
    "editable": false,
    "id": "3TyWmQAR_oCZ",
    "tags": [
     "start_task"
    ]
   },
   "source": [
    "**Задание 2.** Выведите первые 5 строк датафрейма `calls`."
   ]
  },
  {
   "cell_type": "code",
   "execution_count": 112,
   "metadata": {
    "deletable": false,
    "id": "mdxHj-qz_oCZ"
   },
   "outputs": [
    {
     "data": {
      "text/html": [
       "<div>\n",
       "<style scoped>\n",
       "    .dataframe tbody tr th:only-of-type {\n",
       "        vertical-align: middle;\n",
       "    }\n",
       "\n",
       "    .dataframe tbody tr th {\n",
       "        vertical-align: top;\n",
       "    }\n",
       "\n",
       "    .dataframe thead th {\n",
       "        text-align: right;\n",
       "    }\n",
       "</style>\n",
       "<table border=\"1\" class=\"dataframe\">\n",
       "  <thead>\n",
       "    <tr style=\"text-align: right;\">\n",
       "      <th></th>\n",
       "      <th>id</th>\n",
       "      <th>call_date</th>\n",
       "      <th>duration</th>\n",
       "      <th>user_id</th>\n",
       "    </tr>\n",
       "  </thead>\n",
       "  <tbody>\n",
       "    <tr>\n",
       "      <th>0</th>\n",
       "      <td>1000_0</td>\n",
       "      <td>2018-07-25</td>\n",
       "      <td>0.00</td>\n",
       "      <td>1000</td>\n",
       "    </tr>\n",
       "    <tr>\n",
       "      <th>1</th>\n",
       "      <td>1000_1</td>\n",
       "      <td>2018-08-17</td>\n",
       "      <td>0.00</td>\n",
       "      <td>1000</td>\n",
       "    </tr>\n",
       "    <tr>\n",
       "      <th>2</th>\n",
       "      <td>1000_2</td>\n",
       "      <td>2018-06-11</td>\n",
       "      <td>2.85</td>\n",
       "      <td>1000</td>\n",
       "    </tr>\n",
       "    <tr>\n",
       "      <th>3</th>\n",
       "      <td>1000_3</td>\n",
       "      <td>2018-09-21</td>\n",
       "      <td>13.80</td>\n",
       "      <td>1000</td>\n",
       "    </tr>\n",
       "    <tr>\n",
       "      <th>4</th>\n",
       "      <td>1000_4</td>\n",
       "      <td>2018-12-15</td>\n",
       "      <td>5.18</td>\n",
       "      <td>1000</td>\n",
       "    </tr>\n",
       "  </tbody>\n",
       "</table>\n",
       "</div>"
      ],
      "text/plain": [
       "       id   call_date  duration  user_id\n",
       "0  1000_0  2018-07-25      0.00     1000\n",
       "1  1000_1  2018-08-17      0.00     1000\n",
       "2  1000_2  2018-06-11      2.85     1000\n",
       "3  1000_3  2018-09-21     13.80     1000\n",
       "4  1000_4  2018-12-15      5.18     1000"
      ]
     },
     "execution_count": 112,
     "metadata": {},
     "output_type": "execute_result"
    }
   ],
   "source": [
    "calls.head()"
   ]
  },
  {
   "cell_type": "markdown",
   "metadata": {
    "deletable": false,
    "editable": false,
    "id": "7pmWVJ8J_oCa",
    "tags": [
     "start_task"
    ]
   },
   "source": [
    "**Задание 3.** Выведите основную информацию для датафрейма `calls` с помощью метода `info()`."
   ]
  },
  {
   "cell_type": "code",
   "execution_count": 113,
   "metadata": {
    "deletable": false,
    "id": "wiDgaGnA_oCa"
   },
   "outputs": [
    {
     "name": "stdout",
     "output_type": "stream",
     "text": [
      "<class 'pandas.core.frame.DataFrame'>\n",
      "RangeIndex: 202607 entries, 0 to 202606\n",
      "Data columns (total 4 columns):\n",
      " #   Column     Non-Null Count   Dtype  \n",
      "---  ------     --------------   -----  \n",
      " 0   id         202607 non-null  object \n",
      " 1   call_date  202607 non-null  object \n",
      " 2   duration   202607 non-null  float64\n",
      " 3   user_id    202607 non-null  int64  \n",
      "dtypes: float64(1), int64(1), object(2)\n",
      "memory usage: 6.2+ MB\n"
     ]
    }
   ],
   "source": [
    "calls.info()"
   ]
  },
  {
   "cell_type": "markdown",
   "metadata": {
    "deletable": false,
    "editable": false,
    "id": "IVqIQLOq_oCa",
    "tags": [
     "start_task"
    ]
   },
   "source": [
    "**Задание 4.** С помощью метода `hist()` выведите гистограмму для столбца с продолжительностью звонков. Подумайте о том, как распределены данные."
   ]
  },
  {
   "cell_type": "code",
   "execution_count": 114,
   "metadata": {
    "deletable": false,
    "id": "sKOklkAe_oCa"
   },
   "outputs": [
    {
     "data": {
      "text/plain": [
       "<AxesSubplot:>"
      ]
     },
     "execution_count": 114,
     "metadata": {},
     "output_type": "execute_result"
    },
    {
     "data": {
      "image/png": "[encoded data removed]",
      "text/plain": [
       "<Figure size 432x288 with 1 Axes>"
      ]
     },
     "metadata": {
      "needs_background": "light"
     },
     "output_type": "display_data"
    }
   ],
   "source": [
    "calls['duration'].hist(bins=20)"
   ]
  },
  {
   "cell_type": "markdown",
   "metadata": {
    "deletable": false,
    "editable": false,
    "id": "NAXd4x_4_oCa",
    "tags": [
     "start_task"
    ]
   },
   "source": [
    "**Задание 5.** Откройте файл `/datasets/internet.csv`, сохраните датафрейм в переменную `sessions`."
   ]
  },
  {
   "cell_type": "code",
   "execution_count": 115,
   "metadata": {
    "deletable": false,
    "id": "Wf_f3Vkc_oCa"
   },
   "outputs": [],
   "source": [
    "sessions = pd.read_csv('/datasets/internet.csv')"
   ]
  },
  {
   "cell_type": "markdown",
   "metadata": {
    "deletable": false,
    "editable": false,
    "id": "StL-wNRI_oCb",
    "tags": [
     "start_task"
    ]
   },
   "source": [
    "**Задание 6.** Выведите первые 5 строк датафрейма `sessions`."
   ]
  },
  {
   "cell_type": "code",
   "execution_count": 116,
   "metadata": {
    "deletable": false,
    "id": "LsRkGeG7_oCb"
   },
   "outputs": [
    {
     "data": {
      "text/html": [
       "<div>\n",
       "<style scoped>\n",
       "    .dataframe tbody tr th:only-of-type {\n",
       "        vertical-align: middle;\n",
       "    }\n",
       "\n",
       "    .dataframe tbody tr th {\n",
       "        vertical-align: top;\n",
       "    }\n",
       "\n",
       "    .dataframe thead th {\n",
       "        text-align: right;\n",
       "    }\n",
       "</style>\n",
       "<table border=\"1\" class=\"dataframe\">\n",
       "  <thead>\n",
       "    <tr style=\"text-align: right;\">\n",
       "      <th></th>\n",
       "      <th>Unnamed: 0</th>\n",
       "      <th>id</th>\n",
       "      <th>mb_used</th>\n",
       "      <th>session_date</th>\n",
       "      <th>user_id</th>\n",
       "    </tr>\n",
       "  </thead>\n",
       "  <tbody>\n",
       "    <tr>\n",
       "      <th>0</th>\n",
       "      <td>0</td>\n",
       "      <td>1000_0</td>\n",
       "      <td>112.95</td>\n",
       "      <td>2018-11-25</td>\n",
       "      <td>1000</td>\n",
       "    </tr>\n",
       "    <tr>\n",
       "      <th>1</th>\n",
       "      <td>1</td>\n",
       "      <td>1000_1</td>\n",
       "      <td>1052.81</td>\n",
       "      <td>2018-09-07</td>\n",
       "      <td>1000</td>\n",
       "    </tr>\n",
       "    <tr>\n",
       "      <th>2</th>\n",
       "      <td>2</td>\n",
       "      <td>1000_2</td>\n",
       "      <td>1197.26</td>\n",
       "      <td>2018-06-25</td>\n",
       "      <td>1000</td>\n",
       "    </tr>\n",
       "    <tr>\n",
       "      <th>3</th>\n",
       "      <td>3</td>\n",
       "      <td>1000_3</td>\n",
       "      <td>550.27</td>\n",
       "      <td>2018-08-22</td>\n",
       "      <td>1000</td>\n",
       "    </tr>\n",
       "    <tr>\n",
       "      <th>4</th>\n",
       "      <td>4</td>\n",
       "      <td>1000_4</td>\n",
       "      <td>302.56</td>\n",
       "      <td>2018-09-24</td>\n",
       "      <td>1000</td>\n",
       "    </tr>\n",
       "  </tbody>\n",
       "</table>\n",
       "</div>"
      ],
      "text/plain": [
       "   Unnamed: 0      id  mb_used session_date  user_id\n",
       "0           0  1000_0   112.95   2018-11-25     1000\n",
       "1           1  1000_1  1052.81   2018-09-07     1000\n",
       "2           2  1000_2  1197.26   2018-06-25     1000\n",
       "3           3  1000_3   550.27   2018-08-22     1000\n",
       "4           4  1000_4   302.56   2018-09-24     1000"
      ]
     },
     "execution_count": 116,
     "metadata": {},
     "output_type": "execute_result"
    }
   ],
   "source": [
    "sessions.head()"
   ]
  },
  {
   "cell_type": "markdown",
   "metadata": {
    "deletable": false,
    "editable": false,
    "id": "WyUFK2C6_oCb",
    "tags": [
     "start_task"
    ]
   },
   "source": [
    "**Задание 7.** Выведите основную информацию для датафрейма `sessions` с помощью метода `info()`. "
   ]
  },
  {
   "cell_type": "code",
   "execution_count": 117,
   "metadata": {
    "deletable": false,
    "id": "0fLAUTTQ_oCb"
   },
   "outputs": [
    {
     "name": "stdout",
     "output_type": "stream",
     "text": [
      "<class 'pandas.core.frame.DataFrame'>\n",
      "RangeIndex: 149396 entries, 0 to 149395\n",
      "Data columns (total 5 columns):\n",
      " #   Column        Non-Null Count   Dtype  \n",
      "---  ------        --------------   -----  \n",
      " 0   Unnamed: 0    149396 non-null  int64  \n",
      " 1   id            149396 non-null  object \n",
      " 2   mb_used       149396 non-null  float64\n",
      " 3   session_date  149396 non-null  object \n",
      " 4   user_id       149396 non-null  int64  \n",
      "dtypes: float64(1), int64(2), object(2)\n",
      "memory usage: 5.7+ MB\n"
     ]
    }
   ],
   "source": [
    "sessions.info()"
   ]
  },
  {
   "cell_type": "markdown",
   "metadata": {
    "deletable": false,
    "editable": false,
    "id": "DpvGfws5_oCb",
    "tags": [
     "start_task"
    ]
   },
   "source": [
    "**Задание 8.** С помощью метода `hist()` выведите гистограмму для столбца с количеством потраченных мегабайт."
   ]
  },
  {
   "cell_type": "code",
   "execution_count": 118,
   "metadata": {
    "deletable": false,
    "id": "_uke6m2-_oCb"
   },
   "outputs": [
    {
     "data": {
      "text/plain": [
       "<AxesSubplot:>"
      ]
     },
     "execution_count": 118,
     "metadata": {},
     "output_type": "execute_result"
    },
    {
     "data": {
      "image/png": "[encoded data removed]",
      "text/plain": [
       "<Figure size 432x288 with 1 Axes>"
      ]
     },
     "metadata": {
      "needs_background": "light"
     },
     "output_type": "display_data"
    }
   ],
   "source": [
    "sessions['mb_used'].hist(bins=20)"
   ]
  },
  {
   "cell_type": "markdown",
   "metadata": {
    "deletable": false,
    "editable": false,
    "id": "OhXx4G1f_oCb",
    "tags": [
     "start_task"
    ]
   },
   "source": [
    "**Задание 9.** Откройте файл `/datasets/messages.csv`, сохраните датафрейм в переменную `messages`."
   ]
  },
  {
   "cell_type": "code",
   "execution_count": 119,
   "metadata": {
    "deletable": false,
    "id": "UKrQhgvV_oCc"
   },
   "outputs": [],
   "source": [
    "messages = pd.read_csv('/datasets/messages.csv')"
   ]
  },
  {
   "cell_type": "markdown",
   "metadata": {
    "deletable": false,
    "editable": false,
    "id": "SyaWBm9T_oCc",
    "tags": [
     "start_task"
    ]
   },
   "source": [
    "**Задание 10.** Выведите первые 5 строк датафрейма `messages`."
   ]
  },
  {
   "cell_type": "code",
   "execution_count": 120,
   "metadata": {
    "deletable": false,
    "id": "1_zOkvJO_oCc"
   },
   "outputs": [
    {
     "data": {
      "text/html": [
       "<div>\n",
       "<style scoped>\n",
       "    .dataframe tbody tr th:only-of-type {\n",
       "        vertical-align: middle;\n",
       "    }\n",
       "\n",
       "    .dataframe tbody tr th {\n",
       "        vertical-align: top;\n",
       "    }\n",
       "\n",
       "    .dataframe thead th {\n",
       "        text-align: right;\n",
       "    }\n",
       "</style>\n",
       "<table border=\"1\" class=\"dataframe\">\n",
       "  <thead>\n",
       "    <tr style=\"text-align: right;\">\n",
       "      <th></th>\n",
       "      <th>id</th>\n",
       "      <th>message_date</th>\n",
       "      <th>user_id</th>\n",
       "    </tr>\n",
       "  </thead>\n",
       "  <tbody>\n",
       "    <tr>\n",
       "      <th>0</th>\n",
       "      <td>1000_0</td>\n",
       "      <td>2018-06-27</td>\n",
       "      <td>1000</td>\n",
       "    </tr>\n",
       "    <tr>\n",
       "      <th>1</th>\n",
       "      <td>1000_1</td>\n",
       "      <td>2018-10-08</td>\n",
       "      <td>1000</td>\n",
       "    </tr>\n",
       "    <tr>\n",
       "      <th>2</th>\n",
       "      <td>1000_2</td>\n",
       "      <td>2018-08-04</td>\n",
       "      <td>1000</td>\n",
       "    </tr>\n",
       "    <tr>\n",
       "      <th>3</th>\n",
       "      <td>1000_3</td>\n",
       "      <td>2018-06-16</td>\n",
       "      <td>1000</td>\n",
       "    </tr>\n",
       "    <tr>\n",
       "      <th>4</th>\n",
       "      <td>1000_4</td>\n",
       "      <td>2018-12-05</td>\n",
       "      <td>1000</td>\n",
       "    </tr>\n",
       "  </tbody>\n",
       "</table>\n",
       "</div>"
      ],
      "text/plain": [
       "       id message_date  user_id\n",
       "0  1000_0   2018-06-27     1000\n",
       "1  1000_1   2018-10-08     1000\n",
       "2  1000_2   2018-08-04     1000\n",
       "3  1000_3   2018-06-16     1000\n",
       "4  1000_4   2018-12-05     1000"
      ]
     },
     "execution_count": 120,
     "metadata": {},
     "output_type": "execute_result"
    }
   ],
   "source": [
    "messages.head()"
   ]
  },
  {
   "cell_type": "markdown",
   "metadata": {
    "deletable": false,
    "editable": false,
    "id": "0VBJNN-T_oCc",
    "tags": [
     "start_task"
    ]
   },
   "source": [
    "**Задание 11.** Выведите основную информацию для датафрейма `messages` с помощью метода `info()`. "
   ]
  },
  {
   "cell_type": "code",
   "execution_count": 121,
   "metadata": {
    "deletable": false,
    "id": "wrgl0LdX_oCc"
   },
   "outputs": [
    {
     "name": "stdout",
     "output_type": "stream",
     "text": [
      "<class 'pandas.core.frame.DataFrame'>\n",
      "RangeIndex: 123036 entries, 0 to 123035\n",
      "Data columns (total 3 columns):\n",
      " #   Column        Non-Null Count   Dtype \n",
      "---  ------        --------------   ----- \n",
      " 0   id            123036 non-null  object\n",
      " 1   message_date  123036 non-null  object\n",
      " 2   user_id       123036 non-null  int64 \n",
      "dtypes: int64(1), object(2)\n",
      "memory usage: 2.8+ MB\n"
     ]
    }
   ],
   "source": [
    "messages.info()"
   ]
  },
  {
   "cell_type": "markdown",
   "metadata": {
    "deletable": false,
    "editable": false,
    "id": "KhSrBR96_oCc",
    "tags": [
     "start_task"
    ]
   },
   "source": [
    "**Задание 12.** Откройте файл `/datasets/tariffs.csv`, сохраните датафрейм в переменную `tariffs`."
   ]
  },
  {
   "cell_type": "code",
   "execution_count": 122,
   "metadata": {
    "deletable": false,
    "id": "3V2mBbx5_oCc"
   },
   "outputs": [],
   "source": [
    "tariffs = pd.read_csv('/datasets/tariffs.csv')"
   ]
  },
  {
   "cell_type": "markdown",
   "metadata": {
    "deletable": false,
    "editable": false,
    "id": "oGNMcS4U_oCc",
    "tags": [
     "start_task"
    ]
   },
   "source": [
    "**Задание 13.** Выведите весь датафрейм `tariffs`."
   ]
  },
  {
   "cell_type": "code",
   "execution_count": 123,
   "metadata": {
    "deletable": false,
    "id": "aa6cdOI9_oCd"
   },
   "outputs": [
    {
     "data": {
      "text/html": [
       "<div>\n",
       "<style scoped>\n",
       "    .dataframe tbody tr th:only-of-type {\n",
       "        vertical-align: middle;\n",
       "    }\n",
       "\n",
       "    .dataframe tbody tr th {\n",
       "        vertical-align: top;\n",
       "    }\n",
       "\n",
       "    .dataframe thead th {\n",
       "        text-align: right;\n",
       "    }\n",
       "</style>\n",
       "<table border=\"1\" class=\"dataframe\">\n",
       "  <thead>\n",
       "    <tr style=\"text-align: right;\">\n",
       "      <th></th>\n",
       "      <th>messages_included</th>\n",
       "      <th>mb_per_month_included</th>\n",
       "      <th>minutes_included</th>\n",
       "      <th>rub_monthly_fee</th>\n",
       "      <th>rub_per_gb</th>\n",
       "      <th>rub_per_message</th>\n",
       "      <th>rub_per_minute</th>\n",
       "      <th>tariff_name</th>\n",
       "    </tr>\n",
       "  </thead>\n",
       "  <tbody>\n",
       "    <tr>\n",
       "      <th>0</th>\n",
       "      <td>50</td>\n",
       "      <td>15360</td>\n",
       "      <td>500</td>\n",
       "      <td>550</td>\n",
       "      <td>200</td>\n",
       "      <td>3</td>\n",
       "      <td>3</td>\n",
       "      <td>smart</td>\n",
       "    </tr>\n",
       "    <tr>\n",
       "      <th>1</th>\n",
       "      <td>1000</td>\n",
       "      <td>30720</td>\n",
       "      <td>3000</td>\n",
       "      <td>1950</td>\n",
       "      <td>150</td>\n",
       "      <td>1</td>\n",
       "      <td>1</td>\n",
       "      <td>ultra</td>\n",
       "    </tr>\n",
       "  </tbody>\n",
       "</table>\n",
       "</div>"
      ],
      "text/plain": [
       "   messages_included  mb_per_month_included  minutes_included  \\\n",
       "0                 50                  15360               500   \n",
       "1               1000                  30720              3000   \n",
       "\n",
       "   rub_monthly_fee  rub_per_gb  rub_per_message  rub_per_minute tariff_name  \n",
       "0              550         200                3               3       smart  \n",
       "1             1950         150                1               1       ultra  "
      ]
     },
     "execution_count": 123,
     "metadata": {},
     "output_type": "execute_result"
    }
   ],
   "source": [
    "tariffs"
   ]
  },
  {
   "cell_type": "markdown",
   "metadata": {
    "deletable": false,
    "editable": false,
    "id": "jDruO0mX_oCd",
    "tags": [
     "start_task"
    ]
   },
   "source": [
    "**Задание 14.** Выведите основную информацию для датафрейма `tariffs` с помощью метода `info()`."
   ]
  },
  {
   "cell_type": "code",
   "execution_count": 124,
   "metadata": {
    "deletable": false,
    "id": "YgK7d8XT_oCd"
   },
   "outputs": [
    {
     "name": "stdout",
     "output_type": "stream",
     "text": [
      "<class 'pandas.core.frame.DataFrame'>\n",
      "RangeIndex: 2 entries, 0 to 1\n",
      "Data columns (total 8 columns):\n",
      " #   Column                 Non-Null Count  Dtype \n",
      "---  ------                 --------------  ----- \n",
      " 0   messages_included      2 non-null      int64 \n",
      " 1   mb_per_month_included  2 non-null      int64 \n",
      " 2   minutes_included       2 non-null      int64 \n",
      " 3   rub_monthly_fee        2 non-null      int64 \n",
      " 4   rub_per_gb             2 non-null      int64 \n",
      " 5   rub_per_message        2 non-null      int64 \n",
      " 6   rub_per_minute         2 non-null      int64 \n",
      " 7   tariff_name            2 non-null      object\n",
      "dtypes: int64(7), object(1)\n",
      "memory usage: 256.0+ bytes\n"
     ]
    }
   ],
   "source": [
    "tariffs.info()"
   ]
  },
  {
   "cell_type": "markdown",
   "metadata": {
    "deletable": false,
    "editable": false,
    "id": "20KVeYwe_oCd",
    "tags": [
     "start_task"
    ]
   },
   "source": [
    "**Задание 15.** Откройте файл `/datasets/users.csv`, сохраните датафрейм в переменную `users`."
   ]
  },
  {
   "cell_type": "code",
   "execution_count": 125,
   "metadata": {
    "deletable": false,
    "id": "v5NwQmKo_oCd"
   },
   "outputs": [],
   "source": [
    "users = pd.read_csv('/datasets/users.csv')"
   ]
  },
  {
   "cell_type": "markdown",
   "metadata": {
    "deletable": false,
    "editable": false,
    "id": "q0SqMiTs_oCd",
    "tags": [
     "start_task"
    ]
   },
   "source": [
    "**Задание 16.** Выведите первые 5 строк датафрейма `users`."
   ]
  },
  {
   "cell_type": "code",
   "execution_count": 126,
   "metadata": {
    "deletable": false,
    "id": "TwMOUDXV_oCe"
   },
   "outputs": [
    {
     "data": {
      "text/html": [
       "<div>\n",
       "<style scoped>\n",
       "    .dataframe tbody tr th:only-of-type {\n",
       "        vertical-align: middle;\n",
       "    }\n",
       "\n",
       "    .dataframe tbody tr th {\n",
       "        vertical-align: top;\n",
       "    }\n",
       "\n",
       "    .dataframe thead th {\n",
       "        text-align: right;\n",
       "    }\n",
       "</style>\n",
       "<table border=\"1\" class=\"dataframe\">\n",
       "  <thead>\n",
       "    <tr style=\"text-align: right;\">\n",
       "      <th></th>\n",
       "      <th>user_id</th>\n",
       "      <th>age</th>\n",
       "      <th>churn_date</th>\n",
       "      <th>city</th>\n",
       "      <th>first_name</th>\n",
       "      <th>last_name</th>\n",
       "      <th>reg_date</th>\n",
       "      <th>tariff</th>\n",
       "    </tr>\n",
       "  </thead>\n",
       "  <tbody>\n",
       "    <tr>\n",
       "      <th>0</th>\n",
       "      <td>1000</td>\n",
       "      <td>52</td>\n",
       "      <td>NaN</td>\n",
       "      <td>Краснодар</td>\n",
       "      <td>Рафаил</td>\n",
       "      <td>Верещагин</td>\n",
       "      <td>2018-05-25</td>\n",
       "      <td>ultra</td>\n",
       "    </tr>\n",
       "    <tr>\n",
       "      <th>1</th>\n",
       "      <td>1001</td>\n",
       "      <td>41</td>\n",
       "      <td>NaN</td>\n",
       "      <td>Москва</td>\n",
       "      <td>Иван</td>\n",
       "      <td>Ежов</td>\n",
       "      <td>2018-11-01</td>\n",
       "      <td>smart</td>\n",
       "    </tr>\n",
       "    <tr>\n",
       "      <th>2</th>\n",
       "      <td>1002</td>\n",
       "      <td>59</td>\n",
       "      <td>NaN</td>\n",
       "      <td>Стерлитамак</td>\n",
       "      <td>Евгений</td>\n",
       "      <td>Абрамович</td>\n",
       "      <td>2018-06-17</td>\n",
       "      <td>smart</td>\n",
       "    </tr>\n",
       "    <tr>\n",
       "      <th>3</th>\n",
       "      <td>1003</td>\n",
       "      <td>23</td>\n",
       "      <td>NaN</td>\n",
       "      <td>Москва</td>\n",
       "      <td>Белла</td>\n",
       "      <td>Белякова</td>\n",
       "      <td>2018-08-17</td>\n",
       "      <td>ultra</td>\n",
       "    </tr>\n",
       "    <tr>\n",
       "      <th>4</th>\n",
       "      <td>1004</td>\n",
       "      <td>68</td>\n",
       "      <td>NaN</td>\n",
       "      <td>Новокузнецк</td>\n",
       "      <td>Татьяна</td>\n",
       "      <td>Авдеенко</td>\n",
       "      <td>2018-05-14</td>\n",
       "      <td>ultra</td>\n",
       "    </tr>\n",
       "  </tbody>\n",
       "</table>\n",
       "</div>"
      ],
      "text/plain": [
       "   user_id  age churn_date         city first_name  last_name    reg_date  \\\n",
       "0     1000   52        NaN    Краснодар     Рафаил  Верещагин  2018-05-25   \n",
       "1     1001   41        NaN       Москва       Иван       Ежов  2018-11-01   \n",
       "2     1002   59        NaN  Стерлитамак    Евгений  Абрамович  2018-06-17   \n",
       "3     1003   23        NaN       Москва      Белла   Белякова  2018-08-17   \n",
       "4     1004   68        NaN  Новокузнецк    Татьяна   Авдеенко  2018-05-14   \n",
       "\n",
       "  tariff  \n",
       "0  ultra  \n",
       "1  smart  \n",
       "2  smart  \n",
       "3  ultra  \n",
       "4  ultra  "
      ]
     },
     "execution_count": 126,
     "metadata": {},
     "output_type": "execute_result"
    }
   ],
   "source": [
    "users.head()"
   ]
  },
  {
   "cell_type": "markdown",
   "metadata": {
    "deletable": false,
    "editable": false,
    "id": "YE-wtjlL_oCe",
    "tags": [
     "start_task"
    ]
   },
   "source": [
    "**Задание 17.** Выведите основную информацию для датафрейма `users` с помощью метода `info()`."
   ]
  },
  {
   "cell_type": "code",
   "execution_count": 127,
   "metadata": {
    "deletable": false,
    "id": "WgiCfvjJ_oCe"
   },
   "outputs": [
    {
     "name": "stdout",
     "output_type": "stream",
     "text": [
      "<class 'pandas.core.frame.DataFrame'>\n",
      "RangeIndex: 500 entries, 0 to 499\n",
      "Data columns (total 8 columns):\n",
      " #   Column      Non-Null Count  Dtype \n",
      "---  ------      --------------  ----- \n",
      " 0   user_id     500 non-null    int64 \n",
      " 1   age         500 non-null    int64 \n",
      " 2   churn_date  38 non-null     object\n",
      " 3   city        500 non-null    object\n",
      " 4   first_name  500 non-null    object\n",
      " 5   last_name   500 non-null    object\n",
      " 6   reg_date    500 non-null    object\n",
      " 7   tariff      500 non-null    object\n",
      "dtypes: int64(2), object(6)\n",
      "memory usage: 31.4+ KB\n"
     ]
    }
   ],
   "source": [
    "users.info()"
   ]
  },
  {
   "cell_type": "markdown",
   "metadata": {
    "deletable": false,
    "editable": false,
    "id": "Y0kllEng_oCf"
   },
   "source": [
    "### Подготовьте данные"
   ]
  },
  {
   "cell_type": "markdown",
   "metadata": {
    "deletable": false,
    "editable": false,
    "id": "EyLIy5lh_oCf",
    "tags": [
     "start_task"
    ]
   },
   "source": [
    "**Задание 18.**  Приведите столбцы\n",
    "\n",
    "- `reg_date` из таблицы `users`\n",
    "- `churn_date` из таблицы `users`\n",
    "- `call_date` из таблицы `calls`\n",
    "- `message_date` из таблицы `messages`\n",
    "- `session_date` из таблицы `sessions`\n",
    "\n",
    "к новому типу с помощью метода `to_datetime()`."
   ]
  },
  {
   "cell_type": "code",
   "execution_count": 128,
   "metadata": {
    "deletable": false,
    "id": "Ig2hAtil_oCh"
   },
   "outputs": [],
   "source": [
    "users['churn_date'] = pd.to_datetime(users['churn_date'], format='%Y-%m-%d') # обработка столбца reg_date [users['reg_date'], \n",
    "users['reg_date'] = pd.to_datetime(users['reg_date'], format='%Y-%m-%d') # обработка столбца churn_date\n",
    "\n",
    "calls['call_date'] = pd.to_datetime(calls['call_date'], format='%Y-%m-%d') # обработка столбца call_date\n",
    "\n",
    "messages['message_date'] = pd.to_datetime(messages['message_date'], format='%Y-%m-%d') # обработка столбца message_date\n",
    "sessions['session_date'] = pd.to_datetime(sessions['session_date'], format='%Y-%m-%d') # обработка столбца session_date"
   ]
  },
  {
   "cell_type": "markdown",
   "metadata": {
    "deletable": false,
    "editable": false,
    "id": "xZgEKVdX_oCi",
    "tags": [
     "start_task"
    ]
   },
   "source": [
    "**Задание 19.** В данных вы найдёте звонки с нулевой продолжительностью. Это не ошибка: нулями обозначены пропущенные звонки, поэтому их не нужно удалять.\n",
    "\n",
    "Однако в столбце `duration` датафрейма `calls` значения дробные. Округлите значения столбца `duration` вверх с помощью метода `numpy.ceil()` и приведите столбец `duration` к типу `int`."
   ]
  },
  {
   "cell_type": "code",
   "execution_count": 129,
   "metadata": {
    "deletable": false,
    "id": "7Msb3UqS_oCj"
   },
   "outputs": [
    {
     "data": {
      "text/html": [
       "<div>\n",
       "<style scoped>\n",
       "    .dataframe tbody tr th:only-of-type {\n",
       "        vertical-align: middle;\n",
       "    }\n",
       "\n",
       "    .dataframe tbody tr th {\n",
       "        vertical-align: top;\n",
       "    }\n",
       "\n",
       "    .dataframe thead th {\n",
       "        text-align: right;\n",
       "    }\n",
       "</style>\n",
       "<table border=\"1\" class=\"dataframe\">\n",
       "  <thead>\n",
       "    <tr style=\"text-align: right;\">\n",
       "      <th></th>\n",
       "      <th>id</th>\n",
       "      <th>call_date</th>\n",
       "      <th>duration</th>\n",
       "      <th>user_id</th>\n",
       "    </tr>\n",
       "  </thead>\n",
       "  <tbody>\n",
       "    <tr>\n",
       "      <th>0</th>\n",
       "      <td>1000_0</td>\n",
       "      <td>2018-07-25</td>\n",
       "      <td>0</td>\n",
       "      <td>1000</td>\n",
       "    </tr>\n",
       "    <tr>\n",
       "      <th>1</th>\n",
       "      <td>1000_1</td>\n",
       "      <td>2018-08-17</td>\n",
       "      <td>0</td>\n",
       "      <td>1000</td>\n",
       "    </tr>\n",
       "    <tr>\n",
       "      <th>2</th>\n",
       "      <td>1000_2</td>\n",
       "      <td>2018-06-11</td>\n",
       "      <td>3</td>\n",
       "      <td>1000</td>\n",
       "    </tr>\n",
       "    <tr>\n",
       "      <th>3</th>\n",
       "      <td>1000_3</td>\n",
       "      <td>2018-09-21</td>\n",
       "      <td>14</td>\n",
       "      <td>1000</td>\n",
       "    </tr>\n",
       "    <tr>\n",
       "      <th>4</th>\n",
       "      <td>1000_4</td>\n",
       "      <td>2018-12-15</td>\n",
       "      <td>6</td>\n",
       "      <td>1000</td>\n",
       "    </tr>\n",
       "  </tbody>\n",
       "</table>\n",
       "</div>"
      ],
      "text/plain": [
       "       id  call_date  duration  user_id\n",
       "0  1000_0 2018-07-25         0     1000\n",
       "1  1000_1 2018-08-17         0     1000\n",
       "2  1000_2 2018-06-11         3     1000\n",
       "3  1000_3 2018-09-21        14     1000\n",
       "4  1000_4 2018-12-15         6     1000"
      ]
     },
     "execution_count": 129,
     "metadata": {},
     "output_type": "execute_result"
    }
   ],
   "source": [
    "import numpy as np\n",
    "\n",
    "calls['duration'] = np.ceil(calls['duration']).astype('int')\n",
    "calls.head()\n",
    "# округление значений столбца duration с помощью np.ceil() и приведение типа к int"
   ]
  },
  {
   "cell_type": "markdown",
   "metadata": {
    "deletable": false,
    "editable": false,
    "id": "u-6V42lj_oCj",
    "tags": [
     "start_task"
    ]
   },
   "source": [
    "**Задание 20.** Удалите столбец `Unnamed: 0` из датафрейма `sessions`. Столбец с таким названием возникает, когда данные сохраняют с указанием индекса (`df.to_csv(..., index=column)`). Он сейчас не понадобится."
   ]
  },
  {
   "cell_type": "code",
   "execution_count": 130,
   "metadata": {
    "deletable": false,
    "id": "0qBUTIJK_oCj"
   },
   "outputs": [
    {
     "data": {
      "text/html": [
       "<div>\n",
       "<style scoped>\n",
       "    .dataframe tbody tr th:only-of-type {\n",
       "        vertical-align: middle;\n",
       "    }\n",
       "\n",
       "    .dataframe tbody tr th {\n",
       "        vertical-align: top;\n",
       "    }\n",
       "\n",
       "    .dataframe thead th {\n",
       "        text-align: right;\n",
       "    }\n",
       "</style>\n",
       "<table border=\"1\" class=\"dataframe\">\n",
       "  <thead>\n",
       "    <tr style=\"text-align: right;\">\n",
       "      <th></th>\n",
       "      <th>id</th>\n",
       "      <th>mb_used</th>\n",
       "      <th>session_date</th>\n",
       "      <th>user_id</th>\n",
       "    </tr>\n",
       "  </thead>\n",
       "  <tbody>\n",
       "    <tr>\n",
       "      <th>0</th>\n",
       "      <td>1000_0</td>\n",
       "      <td>112.95</td>\n",
       "      <td>2018-11-25</td>\n",
       "      <td>1000</td>\n",
       "    </tr>\n",
       "    <tr>\n",
       "      <th>1</th>\n",
       "      <td>1000_1</td>\n",
       "      <td>1052.81</td>\n",
       "      <td>2018-09-07</td>\n",
       "      <td>1000</td>\n",
       "    </tr>\n",
       "    <tr>\n",
       "      <th>2</th>\n",
       "      <td>1000_2</td>\n",
       "      <td>1197.26</td>\n",
       "      <td>2018-06-25</td>\n",
       "      <td>1000</td>\n",
       "    </tr>\n",
       "    <tr>\n",
       "      <th>3</th>\n",
       "      <td>1000_3</td>\n",
       "      <td>550.27</td>\n",
       "      <td>2018-08-22</td>\n",
       "      <td>1000</td>\n",
       "    </tr>\n",
       "    <tr>\n",
       "      <th>4</th>\n",
       "      <td>1000_4</td>\n",
       "      <td>302.56</td>\n",
       "      <td>2018-09-24</td>\n",
       "      <td>1000</td>\n",
       "    </tr>\n",
       "  </tbody>\n",
       "</table>\n",
       "</div>"
      ],
      "text/plain": [
       "       id  mb_used session_date  user_id\n",
       "0  1000_0   112.95   2018-11-25     1000\n",
       "1  1000_1  1052.81   2018-09-07     1000\n",
       "2  1000_2  1197.26   2018-06-25     1000\n",
       "3  1000_3   550.27   2018-08-22     1000\n",
       "4  1000_4   302.56   2018-09-24     1000"
      ]
     },
     "execution_count": 130,
     "metadata": {},
     "output_type": "execute_result"
    }
   ],
   "source": [
    "sessions = sessions.drop(columns='Unnamed: 0')\n",
    "sessions.head()"
   ]
  },
  {
   "cell_type": "markdown",
   "metadata": {
    "deletable": false,
    "editable": false,
    "id": "HlB1e_bN_oCj",
    "tags": [
     "start_task"
    ]
   },
   "source": [
    "**Задание 21.** Создайте столбец `month` в датафрейме `calls` с номером месяца из столбца `call_date`."
   ]
  },
  {
   "cell_type": "code",
   "execution_count": 131,
   "metadata": {
    "deletable": false,
    "id": "qepFbMhq_oCj"
   },
   "outputs": [],
   "source": [
    "calls['month'] = calls['call_date'].dt.month"
   ]
  },
  {
   "cell_type": "markdown",
   "metadata": {
    "deletable": false,
    "editable": false,
    "id": "nQUHs3Gx_oCk",
    "tags": [
     "start_task"
    ]
   },
   "source": [
    "**Задание 22.** Создайте столбец `month` в датафрейме `messages` с номером месяца из столбца `message_date`."
   ]
  },
  {
   "cell_type": "code",
   "execution_count": 132,
   "metadata": {
    "deletable": false,
    "id": "2evOzw_K_oCk"
   },
   "outputs": [],
   "source": [
    "messages['month'] = messages['message_date'].dt.month"
   ]
  },
  {
   "cell_type": "markdown",
   "metadata": {
    "deletable": false,
    "editable": false,
    "id": "IbLqO0z-_oCk",
    "tags": [
     "start_task"
    ]
   },
   "source": [
    "**Задание 23.** Создайте столбец `month` в датафрейме `sessions` с номером месяца из столбца `session_date`."
   ]
  },
  {
   "cell_type": "code",
   "execution_count": 133,
   "metadata": {
    "deletable": false,
    "id": "dKZPB_eo_oCk"
   },
   "outputs": [],
   "source": [
    "sessions['month'] = sessions['session_date'].dt.month"
   ]
  },
  {
   "cell_type": "markdown",
   "metadata": {
    "deletable": false,
    "editable": false,
    "id": "VLMTL8f0_oCk",
    "tags": [
     "start_task"
    ]
   },
   "source": [
    "**Задание 24.** Посчитайте количество сделанных звонков разговора для каждого пользователя по месяцам."
   ]
  },
  {
   "cell_type": "code",
   "execution_count": 134,
   "metadata": {
    "deletable": false,
    "id": "tMAmcPhC_oCl"
   },
   "outputs": [
    {
     "data": {
      "text/html": [
       "<div>\n",
       "<style scoped>\n",
       "    .dataframe tbody tr th:only-of-type {\n",
       "        vertical-align: middle;\n",
       "    }\n",
       "\n",
       "    .dataframe tbody tr th {\n",
       "        vertical-align: top;\n",
       "    }\n",
       "\n",
       "    .dataframe thead th {\n",
       "        text-align: right;\n",
       "    }\n",
       "</style>\n",
       "<table border=\"1\" class=\"dataframe\">\n",
       "  <thead>\n",
       "    <tr style=\"text-align: right;\">\n",
       "      <th></th>\n",
       "      <th>id</th>\n",
       "      <th>call_date</th>\n",
       "      <th>duration</th>\n",
       "      <th>user_id</th>\n",
       "      <th>month</th>\n",
       "    </tr>\n",
       "  </thead>\n",
       "  <tbody>\n",
       "    <tr>\n",
       "      <th>0</th>\n",
       "      <td>1000_0</td>\n",
       "      <td>2018-07-25</td>\n",
       "      <td>0</td>\n",
       "      <td>1000</td>\n",
       "      <td>7</td>\n",
       "    </tr>\n",
       "    <tr>\n",
       "      <th>1</th>\n",
       "      <td>1000_1</td>\n",
       "      <td>2018-08-17</td>\n",
       "      <td>0</td>\n",
       "      <td>1000</td>\n",
       "      <td>8</td>\n",
       "    </tr>\n",
       "    <tr>\n",
       "      <th>2</th>\n",
       "      <td>1000_2</td>\n",
       "      <td>2018-06-11</td>\n",
       "      <td>3</td>\n",
       "      <td>1000</td>\n",
       "      <td>6</td>\n",
       "    </tr>\n",
       "    <tr>\n",
       "      <th>3</th>\n",
       "      <td>1000_3</td>\n",
       "      <td>2018-09-21</td>\n",
       "      <td>14</td>\n",
       "      <td>1000</td>\n",
       "      <td>9</td>\n",
       "    </tr>\n",
       "    <tr>\n",
       "      <th>4</th>\n",
       "      <td>1000_4</td>\n",
       "      <td>2018-12-15</td>\n",
       "      <td>6</td>\n",
       "      <td>1000</td>\n",
       "      <td>12</td>\n",
       "    </tr>\n",
       "  </tbody>\n",
       "</table>\n",
       "</div>"
      ],
      "text/plain": [
       "       id  call_date  duration  user_id  month\n",
       "0  1000_0 2018-07-25         0     1000      7\n",
       "1  1000_1 2018-08-17         0     1000      8\n",
       "2  1000_2 2018-06-11         3     1000      6\n",
       "3  1000_3 2018-09-21        14     1000      9\n",
       "4  1000_4 2018-12-15         6     1000     12"
      ]
     },
     "execution_count": 134,
     "metadata": {},
     "output_type": "execute_result"
    }
   ],
   "source": [
    "calls_per_month = calls.groupby(['user_id','month']).agg(calls = ('duration', 'count'))\n",
    "calls.head() # подсчёт количества звонков для каждого пользователя по месяцам"
   ]
  },
  {
   "cell_type": "code",
   "execution_count": 135,
   "metadata": {
    "deletable": false,
    "id": "r8pvxWhj_oCl",
    "scrolled": true
   },
   "outputs": [
    {
     "data": {
      "text/html": [
       "<div>\n",
       "<style scoped>\n",
       "    .dataframe tbody tr th:only-of-type {\n",
       "        vertical-align: middle;\n",
       "    }\n",
       "\n",
       "    .dataframe tbody tr th {\n",
       "        vertical-align: top;\n",
       "    }\n",
       "\n",
       "    .dataframe thead th {\n",
       "        text-align: right;\n",
       "    }\n",
       "</style>\n",
       "<table border=\"1\" class=\"dataframe\">\n",
       "  <thead>\n",
       "    <tr style=\"text-align: right;\">\n",
       "      <th></th>\n",
       "      <th></th>\n",
       "      <th>calls</th>\n",
       "    </tr>\n",
       "    <tr>\n",
       "      <th>user_id</th>\n",
       "      <th>month</th>\n",
       "      <th></th>\n",
       "    </tr>\n",
       "  </thead>\n",
       "  <tbody>\n",
       "    <tr>\n",
       "      <th rowspan=\"8\" valign=\"top\">1000</th>\n",
       "      <th>5</th>\n",
       "      <td>22</td>\n",
       "    </tr>\n",
       "    <tr>\n",
       "      <th>6</th>\n",
       "      <td>43</td>\n",
       "    </tr>\n",
       "    <tr>\n",
       "      <th>7</th>\n",
       "      <td>47</td>\n",
       "    </tr>\n",
       "    <tr>\n",
       "      <th>8</th>\n",
       "      <td>52</td>\n",
       "    </tr>\n",
       "    <tr>\n",
       "      <th>9</th>\n",
       "      <td>58</td>\n",
       "    </tr>\n",
       "    <tr>\n",
       "      <th>10</th>\n",
       "      <td>57</td>\n",
       "    </tr>\n",
       "    <tr>\n",
       "      <th>11</th>\n",
       "      <td>43</td>\n",
       "    </tr>\n",
       "    <tr>\n",
       "      <th>12</th>\n",
       "      <td>46</td>\n",
       "    </tr>\n",
       "    <tr>\n",
       "      <th rowspan=\"2\" valign=\"top\">1001</th>\n",
       "      <th>11</th>\n",
       "      <td>59</td>\n",
       "    </tr>\n",
       "    <tr>\n",
       "      <th>12</th>\n",
       "      <td>63</td>\n",
       "    </tr>\n",
       "    <tr>\n",
       "      <th rowspan=\"7\" valign=\"top\">1002</th>\n",
       "      <th>6</th>\n",
       "      <td>15</td>\n",
       "    </tr>\n",
       "    <tr>\n",
       "      <th>7</th>\n",
       "      <td>26</td>\n",
       "    </tr>\n",
       "    <tr>\n",
       "      <th>8</th>\n",
       "      <td>42</td>\n",
       "    </tr>\n",
       "    <tr>\n",
       "      <th>9</th>\n",
       "      <td>36</td>\n",
       "    </tr>\n",
       "    <tr>\n",
       "      <th>10</th>\n",
       "      <td>33</td>\n",
       "    </tr>\n",
       "    <tr>\n",
       "      <th>11</th>\n",
       "      <td>32</td>\n",
       "    </tr>\n",
       "    <tr>\n",
       "      <th>12</th>\n",
       "      <td>33</td>\n",
       "    </tr>\n",
       "    <tr>\n",
       "      <th rowspan=\"5\" valign=\"top\">1003</th>\n",
       "      <th>8</th>\n",
       "      <td>55</td>\n",
       "    </tr>\n",
       "    <tr>\n",
       "      <th>9</th>\n",
       "      <td>134</td>\n",
       "    </tr>\n",
       "    <tr>\n",
       "      <th>10</th>\n",
       "      <td>108</td>\n",
       "    </tr>\n",
       "    <tr>\n",
       "      <th>11</th>\n",
       "      <td>115</td>\n",
       "    </tr>\n",
       "    <tr>\n",
       "      <th>12</th>\n",
       "      <td>108</td>\n",
       "    </tr>\n",
       "    <tr>\n",
       "      <th rowspan=\"8\" valign=\"top\">1004</th>\n",
       "      <th>5</th>\n",
       "      <td>9</td>\n",
       "    </tr>\n",
       "    <tr>\n",
       "      <th>6</th>\n",
       "      <td>31</td>\n",
       "    </tr>\n",
       "    <tr>\n",
       "      <th>7</th>\n",
       "      <td>22</td>\n",
       "    </tr>\n",
       "    <tr>\n",
       "      <th>8</th>\n",
       "      <td>19</td>\n",
       "    </tr>\n",
       "    <tr>\n",
       "      <th>9</th>\n",
       "      <td>26</td>\n",
       "    </tr>\n",
       "    <tr>\n",
       "      <th>10</th>\n",
       "      <td>29</td>\n",
       "    </tr>\n",
       "    <tr>\n",
       "      <th>11</th>\n",
       "      <td>19</td>\n",
       "    </tr>\n",
       "    <tr>\n",
       "      <th>12</th>\n",
       "      <td>21</td>\n",
       "    </tr>\n",
       "  </tbody>\n",
       "</table>\n",
       "</div>"
      ],
      "text/plain": [
       "               calls\n",
       "user_id month       \n",
       "1000    5         22\n",
       "        6         43\n",
       "        7         47\n",
       "        8         52\n",
       "        9         58\n",
       "        10        57\n",
       "        11        43\n",
       "        12        46\n",
       "1001    11        59\n",
       "        12        63\n",
       "1002    6         15\n",
       "        7         26\n",
       "        8         42\n",
       "        9         36\n",
       "        10        33\n",
       "        11        32\n",
       "        12        33\n",
       "1003    8         55\n",
       "        9        134\n",
       "        10       108\n",
       "        11       115\n",
       "        12       108\n",
       "1004    5          9\n",
       "        6         31\n",
       "        7         22\n",
       "        8         19\n",
       "        9         26\n",
       "        10        29\n",
       "        11        19\n",
       "        12        21"
      ]
     },
     "execution_count": 135,
     "metadata": {},
     "output_type": "execute_result"
    }
   ],
   "source": [
    "calls_per_month.head(30) # вывод 30 первых строк на экран"
   ]
  },
  {
   "cell_type": "markdown",
   "metadata": {
    "deletable": false,
    "editable": false,
    "id": "2DUx3WnM_oCl",
    "tags": [
     "start_task"
    ]
   },
   "source": [
    "**Задание 25.** Посчитайте количество израсходованных минут разговора для каждого пользователя по месяцам и сохраните в переменную `minutes_per_month`. Вам понадобится\n",
    "\n",
    "- сгруппировать датафрейм с информацией о звонках по двум столбцам — с идентификаторами пользователей и номерами месяцев;\n",
    "- после группировки выбрать столбец `duration`\n",
    "- затем применить метод для подсчёта суммы.\n",
    "\n",
    "Выведите первые 30 строчек `minutes_per_month`."
   ]
  },
  {
   "cell_type": "code",
   "execution_count": 136,
   "metadata": {
    "deletable": false,
    "id": "ehr5Lhq-_oCl"
   },
   "outputs": [],
   "source": [
    "minutes_per_month = calls.groupby(['user_id', 'month']).agg(minutes = ('duration', 'sum'))"
   ]
  },
  {
   "cell_type": "code",
   "execution_count": 137,
   "metadata": {
    "deletable": false,
    "id": "-vbsnfVq_oCl",
    "scrolled": true
   },
   "outputs": [
    {
     "data": {
      "text/html": [
       "<div>\n",
       "<style scoped>\n",
       "    .dataframe tbody tr th:only-of-type {\n",
       "        vertical-align: middle;\n",
       "    }\n",
       "\n",
       "    .dataframe tbody tr th {\n",
       "        vertical-align: top;\n",
       "    }\n",
       "\n",
       "    .dataframe thead th {\n",
       "        text-align: right;\n",
       "    }\n",
       "</style>\n",
       "<table border=\"1\" class=\"dataframe\">\n",
       "  <thead>\n",
       "    <tr style=\"text-align: right;\">\n",
       "      <th></th>\n",
       "      <th></th>\n",
       "      <th>minutes</th>\n",
       "    </tr>\n",
       "    <tr>\n",
       "      <th>user_id</th>\n",
       "      <th>month</th>\n",
       "      <th></th>\n",
       "    </tr>\n",
       "  </thead>\n",
       "  <tbody>\n",
       "    <tr>\n",
       "      <th rowspan=\"8\" valign=\"top\">1000</th>\n",
       "      <th>5</th>\n",
       "      <td>159</td>\n",
       "    </tr>\n",
       "    <tr>\n",
       "      <th>6</th>\n",
       "      <td>172</td>\n",
       "    </tr>\n",
       "    <tr>\n",
       "      <th>7</th>\n",
       "      <td>340</td>\n",
       "    </tr>\n",
       "    <tr>\n",
       "      <th>8</th>\n",
       "      <td>408</td>\n",
       "    </tr>\n",
       "    <tr>\n",
       "      <th>9</th>\n",
       "      <td>466</td>\n",
       "    </tr>\n",
       "    <tr>\n",
       "      <th>10</th>\n",
       "      <td>350</td>\n",
       "    </tr>\n",
       "    <tr>\n",
       "      <th>11</th>\n",
       "      <td>338</td>\n",
       "    </tr>\n",
       "    <tr>\n",
       "      <th>12</th>\n",
       "      <td>333</td>\n",
       "    </tr>\n",
       "    <tr>\n",
       "      <th rowspan=\"2\" valign=\"top\">1001</th>\n",
       "      <th>11</th>\n",
       "      <td>430</td>\n",
       "    </tr>\n",
       "    <tr>\n",
       "      <th>12</th>\n",
       "      <td>414</td>\n",
       "    </tr>\n",
       "    <tr>\n",
       "      <th rowspan=\"7\" valign=\"top\">1002</th>\n",
       "      <th>6</th>\n",
       "      <td>117</td>\n",
       "    </tr>\n",
       "    <tr>\n",
       "      <th>7</th>\n",
       "      <td>214</td>\n",
       "    </tr>\n",
       "    <tr>\n",
       "      <th>8</th>\n",
       "      <td>289</td>\n",
       "    </tr>\n",
       "    <tr>\n",
       "      <th>9</th>\n",
       "      <td>206</td>\n",
       "    </tr>\n",
       "    <tr>\n",
       "      <th>10</th>\n",
       "      <td>212</td>\n",
       "    </tr>\n",
       "    <tr>\n",
       "      <th>11</th>\n",
       "      <td>243</td>\n",
       "    </tr>\n",
       "    <tr>\n",
       "      <th>12</th>\n",
       "      <td>236</td>\n",
       "    </tr>\n",
       "    <tr>\n",
       "      <th rowspan=\"5\" valign=\"top\">1003</th>\n",
       "      <th>8</th>\n",
       "      <td>380</td>\n",
       "    </tr>\n",
       "    <tr>\n",
       "      <th>9</th>\n",
       "      <td>961</td>\n",
       "    </tr>\n",
       "    <tr>\n",
       "      <th>10</th>\n",
       "      <td>855</td>\n",
       "    </tr>\n",
       "    <tr>\n",
       "      <th>11</th>\n",
       "      <td>824</td>\n",
       "    </tr>\n",
       "    <tr>\n",
       "      <th>12</th>\n",
       "      <td>802</td>\n",
       "    </tr>\n",
       "    <tr>\n",
       "      <th rowspan=\"8\" valign=\"top\">1004</th>\n",
       "      <th>5</th>\n",
       "      <td>35</td>\n",
       "    </tr>\n",
       "    <tr>\n",
       "      <th>6</th>\n",
       "      <td>171</td>\n",
       "    </tr>\n",
       "    <tr>\n",
       "      <th>7</th>\n",
       "      <td>135</td>\n",
       "    </tr>\n",
       "    <tr>\n",
       "      <th>8</th>\n",
       "      <td>137</td>\n",
       "    </tr>\n",
       "    <tr>\n",
       "      <th>9</th>\n",
       "      <td>117</td>\n",
       "    </tr>\n",
       "    <tr>\n",
       "      <th>10</th>\n",
       "      <td>145</td>\n",
       "    </tr>\n",
       "    <tr>\n",
       "      <th>11</th>\n",
       "      <td>117</td>\n",
       "    </tr>\n",
       "    <tr>\n",
       "      <th>12</th>\n",
       "      <td>130</td>\n",
       "    </tr>\n",
       "  </tbody>\n",
       "</table>\n",
       "</div>"
      ],
      "text/plain": [
       "               minutes\n",
       "user_id month         \n",
       "1000    5          159\n",
       "        6          172\n",
       "        7          340\n",
       "        8          408\n",
       "        9          466\n",
       "        10         350\n",
       "        11         338\n",
       "        12         333\n",
       "1001    11         430\n",
       "        12         414\n",
       "1002    6          117\n",
       "        7          214\n",
       "        8          289\n",
       "        9          206\n",
       "        10         212\n",
       "        11         243\n",
       "        12         236\n",
       "1003    8          380\n",
       "        9          961\n",
       "        10         855\n",
       "        11         824\n",
       "        12         802\n",
       "1004    5           35\n",
       "        6          171\n",
       "        7          135\n",
       "        8          137\n",
       "        9          117\n",
       "        10         145\n",
       "        11         117\n",
       "        12         130"
      ]
     },
     "execution_count": 137,
     "metadata": {},
     "output_type": "execute_result"
    }
   ],
   "source": [
    "minutes_per_month.head(30) # вывод первых 30 строк на экран"
   ]
  },
  {
   "cell_type": "markdown",
   "metadata": {
    "deletable": false,
    "editable": false,
    "id": "bjTWE47D_oCl",
    "tags": [
     "start_task"
    ]
   },
   "source": [
    "**Задание 26.** Посчитайте количество отправленных сообщений по месяцам для каждого пользователя и сохраните в переменную `messages_per_month`. Вам понадобится\n",
    "\n",
    "- сгруппировать датафрейм с информацией о сообщениях по двум столбцам — с идентификаторами пользователей и номерами месяцев;\n",
    "- после группировки выбрать столбец `message_date`;\n",
    "- затем применить метод для подсчёта количества.\n",
    "\n",
    "Выведите первые 30 строчек `messages_per_month`."
   ]
  },
  {
   "cell_type": "code",
   "execution_count": 138,
   "metadata": {},
   "outputs": [
    {
     "data": {
      "text/html": [
       "<div>\n",
       "<style scoped>\n",
       "    .dataframe tbody tr th:only-of-type {\n",
       "        vertical-align: middle;\n",
       "    }\n",
       "\n",
       "    .dataframe tbody tr th {\n",
       "        vertical-align: top;\n",
       "    }\n",
       "\n",
       "    .dataframe thead th {\n",
       "        text-align: right;\n",
       "    }\n",
       "</style>\n",
       "<table border=\"1\" class=\"dataframe\">\n",
       "  <thead>\n",
       "    <tr style=\"text-align: right;\">\n",
       "      <th></th>\n",
       "      <th>id</th>\n",
       "      <th>message_date</th>\n",
       "      <th>user_id</th>\n",
       "      <th>month</th>\n",
       "    </tr>\n",
       "  </thead>\n",
       "  <tbody>\n",
       "    <tr>\n",
       "      <th>0</th>\n",
       "      <td>1000_0</td>\n",
       "      <td>2018-06-27</td>\n",
       "      <td>1000</td>\n",
       "      <td>6</td>\n",
       "    </tr>\n",
       "    <tr>\n",
       "      <th>1</th>\n",
       "      <td>1000_1</td>\n",
       "      <td>2018-10-08</td>\n",
       "      <td>1000</td>\n",
       "      <td>10</td>\n",
       "    </tr>\n",
       "    <tr>\n",
       "      <th>2</th>\n",
       "      <td>1000_2</td>\n",
       "      <td>2018-08-04</td>\n",
       "      <td>1000</td>\n",
       "      <td>8</td>\n",
       "    </tr>\n",
       "    <tr>\n",
       "      <th>3</th>\n",
       "      <td>1000_3</td>\n",
       "      <td>2018-06-16</td>\n",
       "      <td>1000</td>\n",
       "      <td>6</td>\n",
       "    </tr>\n",
       "    <tr>\n",
       "      <th>4</th>\n",
       "      <td>1000_4</td>\n",
       "      <td>2018-12-05</td>\n",
       "      <td>1000</td>\n",
       "      <td>12</td>\n",
       "    </tr>\n",
       "  </tbody>\n",
       "</table>\n",
       "</div>"
      ],
      "text/plain": [
       "       id message_date  user_id  month\n",
       "0  1000_0   2018-06-27     1000      6\n",
       "1  1000_1   2018-10-08     1000     10\n",
       "2  1000_2   2018-08-04     1000      8\n",
       "3  1000_3   2018-06-16     1000      6\n",
       "4  1000_4   2018-12-05     1000     12"
      ]
     },
     "execution_count": 138,
     "metadata": {},
     "output_type": "execute_result"
    }
   ],
   "source": [
    "messages.head()"
   ]
  },
  {
   "cell_type": "code",
   "execution_count": 139,
   "metadata": {
    "deletable": false,
    "id": "YiS9waG7_oCl"
   },
   "outputs": [],
   "source": [
    "messages_per_month = messages.groupby(['user_id', 'month']).agg(messages=('message_date', 'count'))"
   ]
  },
  {
   "cell_type": "code",
   "execution_count": 140,
   "metadata": {
    "deletable": false,
    "id": "aaDNanZ0_oCm",
    "scrolled": true
   },
   "outputs": [
    {
     "data": {
      "text/html": [
       "<div>\n",
       "<style scoped>\n",
       "    .dataframe tbody tr th:only-of-type {\n",
       "        vertical-align: middle;\n",
       "    }\n",
       "\n",
       "    .dataframe tbody tr th {\n",
       "        vertical-align: top;\n",
       "    }\n",
       "\n",
       "    .dataframe thead th {\n",
       "        text-align: right;\n",
       "    }\n",
       "</style>\n",
       "<table border=\"1\" class=\"dataframe\">\n",
       "  <thead>\n",
       "    <tr style=\"text-align: right;\">\n",
       "      <th></th>\n",
       "      <th></th>\n",
       "      <th>messages</th>\n",
       "    </tr>\n",
       "    <tr>\n",
       "      <th>user_id</th>\n",
       "      <th>month</th>\n",
       "      <th></th>\n",
       "    </tr>\n",
       "  </thead>\n",
       "  <tbody>\n",
       "    <tr>\n",
       "      <th rowspan=\"8\" valign=\"top\">1000</th>\n",
       "      <th>5</th>\n",
       "      <td>22</td>\n",
       "    </tr>\n",
       "    <tr>\n",
       "      <th>6</th>\n",
       "      <td>60</td>\n",
       "    </tr>\n",
       "    <tr>\n",
       "      <th>7</th>\n",
       "      <td>75</td>\n",
       "    </tr>\n",
       "    <tr>\n",
       "      <th>8</th>\n",
       "      <td>81</td>\n",
       "    </tr>\n",
       "    <tr>\n",
       "      <th>9</th>\n",
       "      <td>57</td>\n",
       "    </tr>\n",
       "    <tr>\n",
       "      <th>10</th>\n",
       "      <td>73</td>\n",
       "    </tr>\n",
       "    <tr>\n",
       "      <th>11</th>\n",
       "      <td>58</td>\n",
       "    </tr>\n",
       "    <tr>\n",
       "      <th>12</th>\n",
       "      <td>70</td>\n",
       "    </tr>\n",
       "    <tr>\n",
       "      <th rowspan=\"7\" valign=\"top\">1002</th>\n",
       "      <th>6</th>\n",
       "      <td>4</td>\n",
       "    </tr>\n",
       "    <tr>\n",
       "      <th>7</th>\n",
       "      <td>11</td>\n",
       "    </tr>\n",
       "    <tr>\n",
       "      <th>8</th>\n",
       "      <td>13</td>\n",
       "    </tr>\n",
       "    <tr>\n",
       "      <th>9</th>\n",
       "      <td>4</td>\n",
       "    </tr>\n",
       "    <tr>\n",
       "      <th>10</th>\n",
       "      <td>10</td>\n",
       "    </tr>\n",
       "    <tr>\n",
       "      <th>11</th>\n",
       "      <td>16</td>\n",
       "    </tr>\n",
       "    <tr>\n",
       "      <th>12</th>\n",
       "      <td>12</td>\n",
       "    </tr>\n",
       "    <tr>\n",
       "      <th rowspan=\"5\" valign=\"top\">1003</th>\n",
       "      <th>8</th>\n",
       "      <td>37</td>\n",
       "    </tr>\n",
       "    <tr>\n",
       "      <th>9</th>\n",
       "      <td>91</td>\n",
       "    </tr>\n",
       "    <tr>\n",
       "      <th>10</th>\n",
       "      <td>83</td>\n",
       "    </tr>\n",
       "    <tr>\n",
       "      <th>11</th>\n",
       "      <td>94</td>\n",
       "    </tr>\n",
       "    <tr>\n",
       "      <th>12</th>\n",
       "      <td>75</td>\n",
       "    </tr>\n",
       "    <tr>\n",
       "      <th rowspan=\"8\" valign=\"top\">1004</th>\n",
       "      <th>5</th>\n",
       "      <td>95</td>\n",
       "    </tr>\n",
       "    <tr>\n",
       "      <th>6</th>\n",
       "      <td>134</td>\n",
       "    </tr>\n",
       "    <tr>\n",
       "      <th>7</th>\n",
       "      <td>181</td>\n",
       "    </tr>\n",
       "    <tr>\n",
       "      <th>8</th>\n",
       "      <td>151</td>\n",
       "    </tr>\n",
       "    <tr>\n",
       "      <th>9</th>\n",
       "      <td>146</td>\n",
       "    </tr>\n",
       "    <tr>\n",
       "      <th>10</th>\n",
       "      <td>165</td>\n",
       "    </tr>\n",
       "    <tr>\n",
       "      <th>11</th>\n",
       "      <td>158</td>\n",
       "    </tr>\n",
       "    <tr>\n",
       "      <th>12</th>\n",
       "      <td>162</td>\n",
       "    </tr>\n",
       "    <tr>\n",
       "      <th rowspan=\"2\" valign=\"top\">1005</th>\n",
       "      <th>1</th>\n",
       "      <td>7</td>\n",
       "    </tr>\n",
       "    <tr>\n",
       "      <th>2</th>\n",
       "      <td>38</td>\n",
       "    </tr>\n",
       "  </tbody>\n",
       "</table>\n",
       "</div>"
      ],
      "text/plain": [
       "               messages\n",
       "user_id month          \n",
       "1000    5            22\n",
       "        6            60\n",
       "        7            75\n",
       "        8            81\n",
       "        9            57\n",
       "        10           73\n",
       "        11           58\n",
       "        12           70\n",
       "1002    6             4\n",
       "        7            11\n",
       "        8            13\n",
       "        9             4\n",
       "        10           10\n",
       "        11           16\n",
       "        12           12\n",
       "1003    8            37\n",
       "        9            91\n",
       "        10           83\n",
       "        11           94\n",
       "        12           75\n",
       "1004    5            95\n",
       "        6           134\n",
       "        7           181\n",
       "        8           151\n",
       "        9           146\n",
       "        10          165\n",
       "        11          158\n",
       "        12          162\n",
       "1005    1             7\n",
       "        2            38"
      ]
     },
     "execution_count": 140,
     "metadata": {},
     "output_type": "execute_result"
    }
   ],
   "source": [
    "messages_per_month.head(30) # вывод первых 30 строк на экран"
   ]
  },
  {
   "cell_type": "markdown",
   "metadata": {
    "deletable": false,
    "editable": false,
    "id": "9PZFHjUU_oCm",
    "tags": [
     "start_task"
    ]
   },
   "source": [
    "**Задание 27.** Посчитайте количество потраченных мегабайт по месяцам для каждого пользователя и сохраните в переменную `sessions_per_month`. Вам понадобится\n",
    "\n",
    "- сгруппировать датафрейм с информацией о сообщениях по двум столбцам — с идентификаторами пользователей и номерами месяцев;\n",
    "- затем применить метод для подсчёта суммы: `.agg({'mb_used': 'sum'})`"
   ]
  },
  {
   "cell_type": "code",
   "execution_count": 141,
   "metadata": {
    "deletable": false,
    "id": "-ITlvcsU_oCm"
   },
   "outputs": [],
   "source": [
    "sessions_per_month = sessions.groupby(['user_id', 'month']).agg({'mb_used': 'sum'})"
   ]
  },
  {
   "cell_type": "code",
   "execution_count": 142,
   "metadata": {
    "deletable": false,
    "id": "YF7FQfXf_oCm",
    "scrolled": true
   },
   "outputs": [
    {
     "data": {
      "text/html": [
       "<div>\n",
       "<style scoped>\n",
       "    .dataframe tbody tr th:only-of-type {\n",
       "        vertical-align: middle;\n",
       "    }\n",
       "\n",
       "    .dataframe tbody tr th {\n",
       "        vertical-align: top;\n",
       "    }\n",
       "\n",
       "    .dataframe thead th {\n",
       "        text-align: right;\n",
       "    }\n",
       "</style>\n",
       "<table border=\"1\" class=\"dataframe\">\n",
       "  <thead>\n",
       "    <tr style=\"text-align: right;\">\n",
       "      <th></th>\n",
       "      <th></th>\n",
       "      <th>mb_used</th>\n",
       "    </tr>\n",
       "    <tr>\n",
       "      <th>user_id</th>\n",
       "      <th>month</th>\n",
       "      <th></th>\n",
       "    </tr>\n",
       "  </thead>\n",
       "  <tbody>\n",
       "    <tr>\n",
       "      <th rowspan=\"8\" valign=\"top\">1000</th>\n",
       "      <th>5</th>\n",
       "      <td>2253.49</td>\n",
       "    </tr>\n",
       "    <tr>\n",
       "      <th>6</th>\n",
       "      <td>23233.77</td>\n",
       "    </tr>\n",
       "    <tr>\n",
       "      <th>7</th>\n",
       "      <td>14003.64</td>\n",
       "    </tr>\n",
       "    <tr>\n",
       "      <th>8</th>\n",
       "      <td>14055.93</td>\n",
       "    </tr>\n",
       "    <tr>\n",
       "      <th>9</th>\n",
       "      <td>14568.91</td>\n",
       "    </tr>\n",
       "    <tr>\n",
       "      <th>10</th>\n",
       "      <td>14702.49</td>\n",
       "    </tr>\n",
       "    <tr>\n",
       "      <th>11</th>\n",
       "      <td>14756.47</td>\n",
       "    </tr>\n",
       "    <tr>\n",
       "      <th>12</th>\n",
       "      <td>9817.61</td>\n",
       "    </tr>\n",
       "    <tr>\n",
       "      <th rowspan=\"2\" valign=\"top\">1001</th>\n",
       "      <th>11</th>\n",
       "      <td>18429.34</td>\n",
       "    </tr>\n",
       "    <tr>\n",
       "      <th>12</th>\n",
       "      <td>14036.66</td>\n",
       "    </tr>\n",
       "    <tr>\n",
       "      <th rowspan=\"7\" valign=\"top\">1002</th>\n",
       "      <th>6</th>\n",
       "      <td>10856.82</td>\n",
       "    </tr>\n",
       "    <tr>\n",
       "      <th>7</th>\n",
       "      <td>17580.10</td>\n",
       "    </tr>\n",
       "    <tr>\n",
       "      <th>8</th>\n",
       "      <td>20319.26</td>\n",
       "    </tr>\n",
       "    <tr>\n",
       "      <th>9</th>\n",
       "      <td>16691.08</td>\n",
       "    </tr>\n",
       "    <tr>\n",
       "      <th>10</th>\n",
       "      <td>13888.25</td>\n",
       "    </tr>\n",
       "    <tr>\n",
       "      <th>11</th>\n",
       "      <td>18587.28</td>\n",
       "    </tr>\n",
       "    <tr>\n",
       "      <th>12</th>\n",
       "      <td>18113.73</td>\n",
       "    </tr>\n",
       "    <tr>\n",
       "      <th rowspan=\"5\" valign=\"top\">1003</th>\n",
       "      <th>8</th>\n",
       "      <td>8565.21</td>\n",
       "    </tr>\n",
       "    <tr>\n",
       "      <th>9</th>\n",
       "      <td>12468.87</td>\n",
       "    </tr>\n",
       "    <tr>\n",
       "      <th>10</th>\n",
       "      <td>14768.14</td>\n",
       "    </tr>\n",
       "    <tr>\n",
       "      <th>11</th>\n",
       "      <td>11356.89</td>\n",
       "    </tr>\n",
       "    <tr>\n",
       "      <th>12</th>\n",
       "      <td>10121.53</td>\n",
       "    </tr>\n",
       "    <tr>\n",
       "      <th rowspan=\"8\" valign=\"top\">1004</th>\n",
       "      <th>5</th>\n",
       "      <td>13403.98</td>\n",
       "    </tr>\n",
       "    <tr>\n",
       "      <th>6</th>\n",
       "      <td>17600.02</td>\n",
       "    </tr>\n",
       "    <tr>\n",
       "      <th>7</th>\n",
       "      <td>22229.58</td>\n",
       "    </tr>\n",
       "    <tr>\n",
       "      <th>8</th>\n",
       "      <td>28584.37</td>\n",
       "    </tr>\n",
       "    <tr>\n",
       "      <th>9</th>\n",
       "      <td>15109.03</td>\n",
       "    </tr>\n",
       "    <tr>\n",
       "      <th>10</th>\n",
       "      <td>18475.44</td>\n",
       "    </tr>\n",
       "    <tr>\n",
       "      <th>11</th>\n",
       "      <td>15616.02</td>\n",
       "    </tr>\n",
       "    <tr>\n",
       "      <th>12</th>\n",
       "      <td>18021.04</td>\n",
       "    </tr>\n",
       "  </tbody>\n",
       "</table>\n",
       "</div>"
      ],
      "text/plain": [
       "                mb_used\n",
       "user_id month          \n",
       "1000    5       2253.49\n",
       "        6      23233.77\n",
       "        7      14003.64\n",
       "        8      14055.93\n",
       "        9      14568.91\n",
       "        10     14702.49\n",
       "        11     14756.47\n",
       "        12      9817.61\n",
       "1001    11     18429.34\n",
       "        12     14036.66\n",
       "1002    6      10856.82\n",
       "        7      17580.10\n",
       "        8      20319.26\n",
       "        9      16691.08\n",
       "        10     13888.25\n",
       "        11     18587.28\n",
       "        12     18113.73\n",
       "1003    8       8565.21\n",
       "        9      12468.87\n",
       "        10     14768.14\n",
       "        11     11356.89\n",
       "        12     10121.53\n",
       "1004    5      13403.98\n",
       "        6      17600.02\n",
       "        7      22229.58\n",
       "        8      28584.37\n",
       "        9      15109.03\n",
       "        10     18475.44\n",
       "        11     15616.02\n",
       "        12     18021.04"
      ]
     },
     "execution_count": 142,
     "metadata": {},
     "output_type": "execute_result"
    }
   ],
   "source": [
    "sessions_per_month.head(30) # вывод первых 30 строк на экран"
   ]
  },
  {
   "cell_type": "markdown",
   "metadata": {
    "deletable": false,
    "editable": false,
    "id": "GF37Inq-_oCn"
   },
   "source": [
    "### Анализ данных и подсчёт выручки"
   ]
  },
  {
   "cell_type": "markdown",
   "metadata": {
    "deletable": false,
    "editable": false,
    "id": "7U9eZ81t_oCn"
   },
   "source": [
    "Объединяем все посчитанные выше значения в один датафрейм `user_behavior`.\n",
    "Для каждой пары «пользователь — месяц» будут доступны информация о тарифе, количестве звонков, сообщений и потраченных мегабайтах."
   ]
  },
  {
   "cell_type": "code",
   "execution_count": 143,
   "metadata": {
    "deletable": false,
    "id": "SDchqQI5_oCn",
    "outputId": "760b21d8-9344-46a3-9c6e-a3cbbc7dd542"
   },
   "outputs": [
    {
     "data": {
      "text/plain": [
       "7.6"
      ]
     },
     "execution_count": 143,
     "metadata": {},
     "output_type": "execute_result"
    }
   ],
   "source": [
    "users['churn_date'].count() / users['churn_date'].shape[0] * 100"
   ]
  },
  {
   "cell_type": "markdown",
   "metadata": {
    "deletable": false,
    "editable": false,
    "id": "7jb0qJhe_oCn"
   },
   "source": [
    "Расторгли договор 7.6% клиентов из датасета"
   ]
  },
  {
   "cell_type": "code",
   "execution_count": 144,
   "metadata": {
    "deletable": false,
    "id": "QJuiD1cd_oCo",
    "outputId": "60af33ba-196b-464c-e15d-239dd446a4f4"
   },
   "outputs": [
    {
     "data": {
      "text/html": [
       "<div>\n",
       "<style scoped>\n",
       "    .dataframe tbody tr th:only-of-type {\n",
       "        vertical-align: middle;\n",
       "    }\n",
       "\n",
       "    .dataframe tbody tr th {\n",
       "        vertical-align: top;\n",
       "    }\n",
       "\n",
       "    .dataframe thead th {\n",
       "        text-align: right;\n",
       "    }\n",
       "</style>\n",
       "<table border=\"1\" class=\"dataframe\">\n",
       "  <thead>\n",
       "    <tr style=\"text-align: right;\">\n",
       "      <th></th>\n",
       "      <th>user_id</th>\n",
       "      <th>month</th>\n",
       "      <th>calls</th>\n",
       "      <th>messages</th>\n",
       "      <th>mb_used</th>\n",
       "      <th>minutes</th>\n",
       "      <th>age</th>\n",
       "      <th>churn_date</th>\n",
       "      <th>city</th>\n",
       "      <th>first_name</th>\n",
       "      <th>last_name</th>\n",
       "      <th>reg_date</th>\n",
       "      <th>tariff</th>\n",
       "    </tr>\n",
       "  </thead>\n",
       "  <tbody>\n",
       "    <tr>\n",
       "      <th>0</th>\n",
       "      <td>1000</td>\n",
       "      <td>5</td>\n",
       "      <td>22.0</td>\n",
       "      <td>22.0</td>\n",
       "      <td>2253.49</td>\n",
       "      <td>159.0</td>\n",
       "      <td>52</td>\n",
       "      <td>NaT</td>\n",
       "      <td>Краснодар</td>\n",
       "      <td>Рафаил</td>\n",
       "      <td>Верещагин</td>\n",
       "      <td>2018-05-25</td>\n",
       "      <td>ultra</td>\n",
       "    </tr>\n",
       "    <tr>\n",
       "      <th>1</th>\n",
       "      <td>1000</td>\n",
       "      <td>6</td>\n",
       "      <td>43.0</td>\n",
       "      <td>60.0</td>\n",
       "      <td>23233.77</td>\n",
       "      <td>172.0</td>\n",
       "      <td>52</td>\n",
       "      <td>NaT</td>\n",
       "      <td>Краснодар</td>\n",
       "      <td>Рафаил</td>\n",
       "      <td>Верещагин</td>\n",
       "      <td>2018-05-25</td>\n",
       "      <td>ultra</td>\n",
       "    </tr>\n",
       "    <tr>\n",
       "      <th>2</th>\n",
       "      <td>1000</td>\n",
       "      <td>7</td>\n",
       "      <td>47.0</td>\n",
       "      <td>75.0</td>\n",
       "      <td>14003.64</td>\n",
       "      <td>340.0</td>\n",
       "      <td>52</td>\n",
       "      <td>NaT</td>\n",
       "      <td>Краснодар</td>\n",
       "      <td>Рафаил</td>\n",
       "      <td>Верещагин</td>\n",
       "      <td>2018-05-25</td>\n",
       "      <td>ultra</td>\n",
       "    </tr>\n",
       "    <tr>\n",
       "      <th>3</th>\n",
       "      <td>1000</td>\n",
       "      <td>8</td>\n",
       "      <td>52.0</td>\n",
       "      <td>81.0</td>\n",
       "      <td>14055.93</td>\n",
       "      <td>408.0</td>\n",
       "      <td>52</td>\n",
       "      <td>NaT</td>\n",
       "      <td>Краснодар</td>\n",
       "      <td>Рафаил</td>\n",
       "      <td>Верещагин</td>\n",
       "      <td>2018-05-25</td>\n",
       "      <td>ultra</td>\n",
       "    </tr>\n",
       "    <tr>\n",
       "      <th>4</th>\n",
       "      <td>1000</td>\n",
       "      <td>9</td>\n",
       "      <td>58.0</td>\n",
       "      <td>57.0</td>\n",
       "      <td>14568.91</td>\n",
       "      <td>466.0</td>\n",
       "      <td>52</td>\n",
       "      <td>NaT</td>\n",
       "      <td>Краснодар</td>\n",
       "      <td>Рафаил</td>\n",
       "      <td>Верещагин</td>\n",
       "      <td>2018-05-25</td>\n",
       "      <td>ultra</td>\n",
       "    </tr>\n",
       "  </tbody>\n",
       "</table>\n",
       "</div>"
      ],
      "text/plain": [
       "   user_id  month  calls  messages   mb_used  minutes  age churn_date  \\\n",
       "0     1000      5   22.0      22.0   2253.49    159.0   52        NaT   \n",
       "1     1000      6   43.0      60.0  23233.77    172.0   52        NaT   \n",
       "2     1000      7   47.0      75.0  14003.64    340.0   52        NaT   \n",
       "3     1000      8   52.0      81.0  14055.93    408.0   52        NaT   \n",
       "4     1000      9   58.0      57.0  14568.91    466.0   52        NaT   \n",
       "\n",
       "        city first_name  last_name   reg_date tariff  \n",
       "0  Краснодар     Рафаил  Верещагин 2018-05-25  ultra  \n",
       "1  Краснодар     Рафаил  Верещагин 2018-05-25  ultra  \n",
       "2  Краснодар     Рафаил  Верещагин 2018-05-25  ultra  \n",
       "3  Краснодар     Рафаил  Верещагин 2018-05-25  ultra  \n",
       "4  Краснодар     Рафаил  Верещагин 2018-05-25  ultra  "
      ]
     },
     "execution_count": 144,
     "metadata": {},
     "output_type": "execute_result"
    }
   ],
   "source": [
    "user_behavior = calls_per_month\\\n",
    "    .merge(messages_per_month, left_index=True, right_index=True, how='outer')\\\n",
    "    .merge(sessions_per_month, left_index=True, right_index=True, how='outer')\\\n",
    "    .merge(minutes_per_month, left_index=True, right_index=True, how='outer')\\\n",
    "    .reset_index()\\\n",
    "    .merge(users, how='left', left_on='user_id', right_on='user_id')\\\n",
    "\n",
    "user_behavior.head()"
   ]
  },
  {
   "cell_type": "markdown",
   "metadata": {
    "deletable": false,
    "editable": false,
    "id": "9Kif7-vi_oCo"
   },
   "source": [
    "Проверим пропуски в таблице `user_behavior` после объединения:"
   ]
  },
  {
   "cell_type": "code",
   "execution_count": 145,
   "metadata": {
    "deletable": false,
    "id": "MExwRr6x_oCo",
    "outputId": "1362c11d-ba78-47b6-8495-ba877c2cae38"
   },
   "outputs": [
    {
     "data": {
      "text/plain": [
       "user_id          0\n",
       "month            0\n",
       "calls           40\n",
       "messages       497\n",
       "mb_used         11\n",
       "minutes         40\n",
       "age              0\n",
       "churn_date    3027\n",
       "city             0\n",
       "first_name       0\n",
       "last_name        0\n",
       "reg_date         0\n",
       "tariff           0\n",
       "dtype: int64"
      ]
     },
     "execution_count": 145,
     "metadata": {},
     "output_type": "execute_result"
    }
   ],
   "source": [
    "user_behavior.isna().sum()"
   ]
  },
  {
   "cell_type": "markdown",
   "metadata": {
    "deletable": false,
    "editable": false,
    "id": "eNUHBFPI_oCo"
   },
   "source": [
    "Заполним образовавшиеся пропуски в данных:"
   ]
  },
  {
   "cell_type": "code",
   "execution_count": 146,
   "metadata": {
    "deletable": false,
    "id": "2aCyfvNX_oCo"
   },
   "outputs": [],
   "source": [
    "user_behavior['calls'] = user_behavior['calls'].fillna(0)\n",
    "user_behavior['minutes'] = user_behavior['minutes'].fillna(0)\n",
    "user_behavior['messages'] = user_behavior['messages'].fillna(0)\n",
    "user_behavior['mb_used'] = user_behavior['mb_used'].fillna(0)"
   ]
  },
  {
   "cell_type": "markdown",
   "metadata": {
    "deletable": false,
    "editable": false,
    "id": "JTszP_Iy_oCo"
   },
   "source": [
    "Присоединяем информацию о тарифах"
   ]
  },
  {
   "cell_type": "code",
   "execution_count": 147,
   "metadata": {
    "deletable": false,
    "id": "zmnnqTIq_oCo"
   },
   "outputs": [],
   "source": [
    "# переименование столбца tariff_name на более простое tariff\n",
    "\n",
    "tariffs = tariffs.rename(\n",
    "    columns={\n",
    "        'tariff_name': 'tariff'\n",
    "    }\n",
    ")"
   ]
  },
  {
   "cell_type": "code",
   "execution_count": 148,
   "metadata": {
    "deletable": false,
    "id": "hop7kFhB_oCp"
   },
   "outputs": [
    {
     "data": {
      "text/html": [
       "<div>\n",
       "<style scoped>\n",
       "    .dataframe tbody tr th:only-of-type {\n",
       "        vertical-align: middle;\n",
       "    }\n",
       "\n",
       "    .dataframe tbody tr th {\n",
       "        vertical-align: top;\n",
       "    }\n",
       "\n",
       "    .dataframe thead th {\n",
       "        text-align: right;\n",
       "    }\n",
       "</style>\n",
       "<table border=\"1\" class=\"dataframe\">\n",
       "  <thead>\n",
       "    <tr style=\"text-align: right;\">\n",
       "      <th></th>\n",
       "      <th>user_id</th>\n",
       "      <th>month</th>\n",
       "      <th>calls</th>\n",
       "      <th>messages</th>\n",
       "      <th>mb_used</th>\n",
       "      <th>minutes</th>\n",
       "      <th>age</th>\n",
       "      <th>churn_date</th>\n",
       "      <th>city</th>\n",
       "      <th>first_name</th>\n",
       "      <th>last_name</th>\n",
       "      <th>reg_date</th>\n",
       "      <th>tariff</th>\n",
       "      <th>messages_included</th>\n",
       "      <th>mb_per_month_included</th>\n",
       "      <th>minutes_included</th>\n",
       "      <th>rub_monthly_fee</th>\n",
       "      <th>rub_per_gb</th>\n",
       "      <th>rub_per_message</th>\n",
       "      <th>rub_per_minute</th>\n",
       "    </tr>\n",
       "  </thead>\n",
       "  <tbody>\n",
       "    <tr>\n",
       "      <th>0</th>\n",
       "      <td>1000</td>\n",
       "      <td>5</td>\n",
       "      <td>22.0</td>\n",
       "      <td>22.0</td>\n",
       "      <td>2253.49</td>\n",
       "      <td>159.0</td>\n",
       "      <td>52</td>\n",
       "      <td>NaT</td>\n",
       "      <td>Краснодар</td>\n",
       "      <td>Рафаил</td>\n",
       "      <td>Верещагин</td>\n",
       "      <td>2018-05-25</td>\n",
       "      <td>ultra</td>\n",
       "      <td>1000</td>\n",
       "      <td>30720</td>\n",
       "      <td>3000</td>\n",
       "      <td>1950</td>\n",
       "      <td>150</td>\n",
       "      <td>1</td>\n",
       "      <td>1</td>\n",
       "    </tr>\n",
       "    <tr>\n",
       "      <th>1</th>\n",
       "      <td>1000</td>\n",
       "      <td>6</td>\n",
       "      <td>43.0</td>\n",
       "      <td>60.0</td>\n",
       "      <td>23233.77</td>\n",
       "      <td>172.0</td>\n",
       "      <td>52</td>\n",
       "      <td>NaT</td>\n",
       "      <td>Краснодар</td>\n",
       "      <td>Рафаил</td>\n",
       "      <td>Верещагин</td>\n",
       "      <td>2018-05-25</td>\n",
       "      <td>ultra</td>\n",
       "      <td>1000</td>\n",
       "      <td>30720</td>\n",
       "      <td>3000</td>\n",
       "      <td>1950</td>\n",
       "      <td>150</td>\n",
       "      <td>1</td>\n",
       "      <td>1</td>\n",
       "    </tr>\n",
       "    <tr>\n",
       "      <th>2</th>\n",
       "      <td>1000</td>\n",
       "      <td>7</td>\n",
       "      <td>47.0</td>\n",
       "      <td>75.0</td>\n",
       "      <td>14003.64</td>\n",
       "      <td>340.0</td>\n",
       "      <td>52</td>\n",
       "      <td>NaT</td>\n",
       "      <td>Краснодар</td>\n",
       "      <td>Рафаил</td>\n",
       "      <td>Верещагин</td>\n",
       "      <td>2018-05-25</td>\n",
       "      <td>ultra</td>\n",
       "      <td>1000</td>\n",
       "      <td>30720</td>\n",
       "      <td>3000</td>\n",
       "      <td>1950</td>\n",
       "      <td>150</td>\n",
       "      <td>1</td>\n",
       "      <td>1</td>\n",
       "    </tr>\n",
       "    <tr>\n",
       "      <th>3</th>\n",
       "      <td>1000</td>\n",
       "      <td>8</td>\n",
       "      <td>52.0</td>\n",
       "      <td>81.0</td>\n",
       "      <td>14055.93</td>\n",
       "      <td>408.0</td>\n",
       "      <td>52</td>\n",
       "      <td>NaT</td>\n",
       "      <td>Краснодар</td>\n",
       "      <td>Рафаил</td>\n",
       "      <td>Верещагин</td>\n",
       "      <td>2018-05-25</td>\n",
       "      <td>ultra</td>\n",
       "      <td>1000</td>\n",
       "      <td>30720</td>\n",
       "      <td>3000</td>\n",
       "      <td>1950</td>\n",
       "      <td>150</td>\n",
       "      <td>1</td>\n",
       "      <td>1</td>\n",
       "    </tr>\n",
       "    <tr>\n",
       "      <th>4</th>\n",
       "      <td>1000</td>\n",
       "      <td>9</td>\n",
       "      <td>58.0</td>\n",
       "      <td>57.0</td>\n",
       "      <td>14568.91</td>\n",
       "      <td>466.0</td>\n",
       "      <td>52</td>\n",
       "      <td>NaT</td>\n",
       "      <td>Краснодар</td>\n",
       "      <td>Рафаил</td>\n",
       "      <td>Верещагин</td>\n",
       "      <td>2018-05-25</td>\n",
       "      <td>ultra</td>\n",
       "      <td>1000</td>\n",
       "      <td>30720</td>\n",
       "      <td>3000</td>\n",
       "      <td>1950</td>\n",
       "      <td>150</td>\n",
       "      <td>1</td>\n",
       "      <td>1</td>\n",
       "    </tr>\n",
       "  </tbody>\n",
       "</table>\n",
       "</div>"
      ],
      "text/plain": [
       "   user_id  month  calls  messages   mb_used  minutes  age churn_date  \\\n",
       "0     1000      5   22.0      22.0   2253.49    159.0   52        NaT   \n",
       "1     1000      6   43.0      60.0  23233.77    172.0   52        NaT   \n",
       "2     1000      7   47.0      75.0  14003.64    340.0   52        NaT   \n",
       "3     1000      8   52.0      81.0  14055.93    408.0   52        NaT   \n",
       "4     1000      9   58.0      57.0  14568.91    466.0   52        NaT   \n",
       "\n",
       "        city first_name  last_name   reg_date tariff  messages_included  \\\n",
       "0  Краснодар     Рафаил  Верещагин 2018-05-25  ultra               1000   \n",
       "1  Краснодар     Рафаил  Верещагин 2018-05-25  ultra               1000   \n",
       "2  Краснодар     Рафаил  Верещагин 2018-05-25  ultra               1000   \n",
       "3  Краснодар     Рафаил  Верещагин 2018-05-25  ultra               1000   \n",
       "4  Краснодар     Рафаил  Верещагин 2018-05-25  ultra               1000   \n",
       "\n",
       "   mb_per_month_included  minutes_included  rub_monthly_fee  rub_per_gb  \\\n",
       "0                  30720              3000             1950         150   \n",
       "1                  30720              3000             1950         150   \n",
       "2                  30720              3000             1950         150   \n",
       "3                  30720              3000             1950         150   \n",
       "4                  30720              3000             1950         150   \n",
       "\n",
       "   rub_per_message  rub_per_minute  \n",
       "0                1               1  \n",
       "1                1               1  \n",
       "2                1               1  \n",
       "3                1               1  \n",
       "4                1               1  "
      ]
     },
     "execution_count": 148,
     "metadata": {},
     "output_type": "execute_result"
    }
   ],
   "source": [
    "user_behavior = user_behavior.merge(tariffs, on='tariff')\n",
    "pd.set_option('display.max_columns', 100)\n",
    "user_behavior.head()"
   ]
  },
  {
   "cell_type": "markdown",
   "metadata": {
    "deletable": false,
    "editable": false,
    "id": "aJZeqJwL_oCp"
   },
   "source": [
    "Считаем количество минут разговора, сообщений и мегабайт, превышающих включённые в тариф\n"
   ]
  },
  {
   "cell_type": "code",
   "execution_count": 149,
   "metadata": {
    "deletable": false,
    "id": "1Tcf3IxI_oCp"
   },
   "outputs": [],
   "source": [
    "user_behavior['paid_minutes'] = user_behavior['minutes'] - user_behavior['minutes_included']\n",
    "user_behavior['paid_messages'] = user_behavior['messages'] - user_behavior['messages_included']\n",
    "user_behavior['paid_mb'] = user_behavior['mb_used'] - user_behavior['mb_per_month_included']\n",
    "\n",
    "for col in ['paid_messages', 'paid_minutes', 'paid_mb']:\n",
    "    user_behavior.loc[user_behavior[col] < 0, col] = 0"
   ]
  },
  {
   "cell_type": "markdown",
   "metadata": {
    "deletable": false,
    "editable": false,
    "id": "9mf7Pko9_oCp"
   },
   "source": [
    "Переводим превышающие тариф мегабайты в гигабайты и сохраняем в столбец `paid_gb`"
   ]
  },
  {
   "cell_type": "code",
   "execution_count": 150,
   "metadata": {
    "deletable": false,
    "id": "cct5ZB60_oCp"
   },
   "outputs": [],
   "source": [
    "user_behavior['paid_gb'] = np.ceil(user_behavior['paid_mb'] / 1024).astype(int)"
   ]
  },
  {
   "cell_type": "markdown",
   "metadata": {
    "deletable": false,
    "editable": false,
    "id": "KEZ1rO-r_oCp"
   },
   "source": [
    "Считаем выручку за минуты разговора, сообщения и интернет"
   ]
  },
  {
   "cell_type": "code",
   "execution_count": 151,
   "metadata": {
    "deletable": false,
    "id": "U302RLm6_oCp"
   },
   "outputs": [],
   "source": [
    "user_behavior['cost_minutes'] = user_behavior['paid_minutes'] * user_behavior['rub_per_minute']\n",
    "user_behavior['cost_messages'] = user_behavior['paid_messages'] * user_behavior['rub_per_message']\n",
    "user_behavior['cost_gb'] = user_behavior['paid_gb'] * user_behavior['rub_per_gb']"
   ]
  },
  {
   "cell_type": "markdown",
   "metadata": {
    "deletable": false,
    "editable": false,
    "id": "18ruYfTJ_oCp"
   },
   "source": [
    "Считаем помесячную выручку с каждого пользователя, она будет храниться в столбце `total_cost`"
   ]
  },
  {
   "cell_type": "code",
   "execution_count": 152,
   "metadata": {
    "deletable": false,
    "id": "Uf2YyazE_oCp"
   },
   "outputs": [],
   "source": [
    "user_behavior['total_cost'] = \\\n",
    "      user_behavior['rub_monthly_fee']\\\n",
    "    + user_behavior['cost_minutes']\\\n",
    "    + user_behavior['cost_messages']\\\n",
    "    + user_behavior['cost_gb']"
   ]
  },
  {
   "cell_type": "code",
   "execution_count": 153,
   "metadata": {},
   "outputs": [
    {
     "data": {
      "text/html": [
       "<div>\n",
       "<style scoped>\n",
       "    .dataframe tbody tr th:only-of-type {\n",
       "        vertical-align: middle;\n",
       "    }\n",
       "\n",
       "    .dataframe tbody tr th {\n",
       "        vertical-align: top;\n",
       "    }\n",
       "\n",
       "    .dataframe thead th {\n",
       "        text-align: right;\n",
       "    }\n",
       "</style>\n",
       "<table border=\"1\" class=\"dataframe\">\n",
       "  <thead>\n",
       "    <tr style=\"text-align: right;\">\n",
       "      <th></th>\n",
       "      <th>user_id</th>\n",
       "      <th>month</th>\n",
       "      <th>calls</th>\n",
       "      <th>messages</th>\n",
       "      <th>mb_used</th>\n",
       "      <th>minutes</th>\n",
       "      <th>age</th>\n",
       "      <th>churn_date</th>\n",
       "      <th>city</th>\n",
       "      <th>first_name</th>\n",
       "      <th>last_name</th>\n",
       "      <th>reg_date</th>\n",
       "      <th>tariff</th>\n",
       "      <th>messages_included</th>\n",
       "      <th>mb_per_month_included</th>\n",
       "      <th>minutes_included</th>\n",
       "      <th>rub_monthly_fee</th>\n",
       "      <th>rub_per_gb</th>\n",
       "      <th>rub_per_message</th>\n",
       "      <th>rub_per_minute</th>\n",
       "      <th>paid_minutes</th>\n",
       "      <th>paid_messages</th>\n",
       "      <th>paid_mb</th>\n",
       "      <th>paid_gb</th>\n",
       "      <th>cost_minutes</th>\n",
       "      <th>cost_messages</th>\n",
       "      <th>cost_gb</th>\n",
       "      <th>total_cost</th>\n",
       "    </tr>\n",
       "  </thead>\n",
       "  <tbody>\n",
       "    <tr>\n",
       "      <th>0</th>\n",
       "      <td>1000</td>\n",
       "      <td>5</td>\n",
       "      <td>22.0</td>\n",
       "      <td>22.0</td>\n",
       "      <td>2253.49</td>\n",
       "      <td>159.0</td>\n",
       "      <td>52</td>\n",
       "      <td>NaT</td>\n",
       "      <td>Краснодар</td>\n",
       "      <td>Рафаил</td>\n",
       "      <td>Верещагин</td>\n",
       "      <td>2018-05-25</td>\n",
       "      <td>ultra</td>\n",
       "      <td>1000</td>\n",
       "      <td>30720</td>\n",
       "      <td>3000</td>\n",
       "      <td>1950</td>\n",
       "      <td>150</td>\n",
       "      <td>1</td>\n",
       "      <td>1</td>\n",
       "      <td>0.0</td>\n",
       "      <td>0.0</td>\n",
       "      <td>0.0</td>\n",
       "      <td>0</td>\n",
       "      <td>0.0</td>\n",
       "      <td>0.0</td>\n",
       "      <td>0</td>\n",
       "      <td>1950.0</td>\n",
       "    </tr>\n",
       "    <tr>\n",
       "      <th>1</th>\n",
       "      <td>1000</td>\n",
       "      <td>6</td>\n",
       "      <td>43.0</td>\n",
       "      <td>60.0</td>\n",
       "      <td>23233.77</td>\n",
       "      <td>172.0</td>\n",
       "      <td>52</td>\n",
       "      <td>NaT</td>\n",
       "      <td>Краснодар</td>\n",
       "      <td>Рафаил</td>\n",
       "      <td>Верещагин</td>\n",
       "      <td>2018-05-25</td>\n",
       "      <td>ultra</td>\n",
       "      <td>1000</td>\n",
       "      <td>30720</td>\n",
       "      <td>3000</td>\n",
       "      <td>1950</td>\n",
       "      <td>150</td>\n",
       "      <td>1</td>\n",
       "      <td>1</td>\n",
       "      <td>0.0</td>\n",
       "      <td>0.0</td>\n",
       "      <td>0.0</td>\n",
       "      <td>0</td>\n",
       "      <td>0.0</td>\n",
       "      <td>0.0</td>\n",
       "      <td>0</td>\n",
       "      <td>1950.0</td>\n",
       "    </tr>\n",
       "    <tr>\n",
       "      <th>2</th>\n",
       "      <td>1000</td>\n",
       "      <td>7</td>\n",
       "      <td>47.0</td>\n",
       "      <td>75.0</td>\n",
       "      <td>14003.64</td>\n",
       "      <td>340.0</td>\n",
       "      <td>52</td>\n",
       "      <td>NaT</td>\n",
       "      <td>Краснодар</td>\n",
       "      <td>Рафаил</td>\n",
       "      <td>Верещагин</td>\n",
       "      <td>2018-05-25</td>\n",
       "      <td>ultra</td>\n",
       "      <td>1000</td>\n",
       "      <td>30720</td>\n",
       "      <td>3000</td>\n",
       "      <td>1950</td>\n",
       "      <td>150</td>\n",
       "      <td>1</td>\n",
       "      <td>1</td>\n",
       "      <td>0.0</td>\n",
       "      <td>0.0</td>\n",
       "      <td>0.0</td>\n",
       "      <td>0</td>\n",
       "      <td>0.0</td>\n",
       "      <td>0.0</td>\n",
       "      <td>0</td>\n",
       "      <td>1950.0</td>\n",
       "    </tr>\n",
       "    <tr>\n",
       "      <th>3</th>\n",
       "      <td>1000</td>\n",
       "      <td>8</td>\n",
       "      <td>52.0</td>\n",
       "      <td>81.0</td>\n",
       "      <td>14055.93</td>\n",
       "      <td>408.0</td>\n",
       "      <td>52</td>\n",
       "      <td>NaT</td>\n",
       "      <td>Краснодар</td>\n",
       "      <td>Рафаил</td>\n",
       "      <td>Верещагин</td>\n",
       "      <td>2018-05-25</td>\n",
       "      <td>ultra</td>\n",
       "      <td>1000</td>\n",
       "      <td>30720</td>\n",
       "      <td>3000</td>\n",
       "      <td>1950</td>\n",
       "      <td>150</td>\n",
       "      <td>1</td>\n",
       "      <td>1</td>\n",
       "      <td>0.0</td>\n",
       "      <td>0.0</td>\n",
       "      <td>0.0</td>\n",
       "      <td>0</td>\n",
       "      <td>0.0</td>\n",
       "      <td>0.0</td>\n",
       "      <td>0</td>\n",
       "      <td>1950.0</td>\n",
       "    </tr>\n",
       "    <tr>\n",
       "      <th>4</th>\n",
       "      <td>1000</td>\n",
       "      <td>9</td>\n",
       "      <td>58.0</td>\n",
       "      <td>57.0</td>\n",
       "      <td>14568.91</td>\n",
       "      <td>466.0</td>\n",
       "      <td>52</td>\n",
       "      <td>NaT</td>\n",
       "      <td>Краснодар</td>\n",
       "      <td>Рафаил</td>\n",
       "      <td>Верещагин</td>\n",
       "      <td>2018-05-25</td>\n",
       "      <td>ultra</td>\n",
       "      <td>1000</td>\n",
       "      <td>30720</td>\n",
       "      <td>3000</td>\n",
       "      <td>1950</td>\n",
       "      <td>150</td>\n",
       "      <td>1</td>\n",
       "      <td>1</td>\n",
       "      <td>0.0</td>\n",
       "      <td>0.0</td>\n",
       "      <td>0.0</td>\n",
       "      <td>0</td>\n",
       "      <td>0.0</td>\n",
       "      <td>0.0</td>\n",
       "      <td>0</td>\n",
       "      <td>1950.0</td>\n",
       "    </tr>\n",
       "  </tbody>\n",
       "</table>\n",
       "</div>"
      ],
      "text/plain": [
       "   user_id  month  calls  messages   mb_used  minutes  age churn_date  \\\n",
       "0     1000      5   22.0      22.0   2253.49    159.0   52        NaT   \n",
       "1     1000      6   43.0      60.0  23233.77    172.0   52        NaT   \n",
       "2     1000      7   47.0      75.0  14003.64    340.0   52        NaT   \n",
       "3     1000      8   52.0      81.0  14055.93    408.0   52        NaT   \n",
       "4     1000      9   58.0      57.0  14568.91    466.0   52        NaT   \n",
       "\n",
       "        city first_name  last_name   reg_date tariff  messages_included  \\\n",
       "0  Краснодар     Рафаил  Верещагин 2018-05-25  ultra               1000   \n",
       "1  Краснодар     Рафаил  Верещагин 2018-05-25  ultra               1000   \n",
       "2  Краснодар     Рафаил  Верещагин 2018-05-25  ultra               1000   \n",
       "3  Краснодар     Рафаил  Верещагин 2018-05-25  ultra               1000   \n",
       "4  Краснодар     Рафаил  Верещагин 2018-05-25  ultra               1000   \n",
       "\n",
       "   mb_per_month_included  minutes_included  rub_monthly_fee  rub_per_gb  \\\n",
       "0                  30720              3000             1950         150   \n",
       "1                  30720              3000             1950         150   \n",
       "2                  30720              3000             1950         150   \n",
       "3                  30720              3000             1950         150   \n",
       "4                  30720              3000             1950         150   \n",
       "\n",
       "   rub_per_message  rub_per_minute  paid_minutes  paid_messages  paid_mb  \\\n",
       "0                1               1           0.0            0.0      0.0   \n",
       "1                1               1           0.0            0.0      0.0   \n",
       "2                1               1           0.0            0.0      0.0   \n",
       "3                1               1           0.0            0.0      0.0   \n",
       "4                1               1           0.0            0.0      0.0   \n",
       "\n",
       "   paid_gb  cost_minutes  cost_messages  cost_gb  total_cost  \n",
       "0        0           0.0            0.0        0      1950.0  \n",
       "1        0           0.0            0.0        0      1950.0  \n",
       "2        0           0.0            0.0        0      1950.0  \n",
       "3        0           0.0            0.0        0      1950.0  \n",
       "4        0           0.0            0.0        0      1950.0  "
      ]
     },
     "execution_count": 153,
     "metadata": {},
     "output_type": "execute_result"
    }
   ],
   "source": [
    "user_behavior.head()"
   ]
  },
  {
   "cell_type": "code",
   "execution_count": 154,
   "metadata": {},
   "outputs": [],
   "source": [
    "total_ultra = user_behavior[user_behavior['tariff']=='ultra'].groupby('user_id')['total_cost'].sum().sum()"
   ]
  },
  {
   "cell_type": "code",
   "execution_count": 155,
   "metadata": {},
   "outputs": [],
   "source": [
    "total_smart = user_behavior[user_behavior['tariff']=='smart'].groupby('user_id')['total_cost'].sum().sum()"
   ]
  },
  {
   "cell_type": "code",
   "execution_count": 156,
   "metadata": {},
   "outputs": [
    {
     "name": "stdout",
     "output_type": "stream",
     "text": [
      "Общая выручка от абонентов тарифа \"Ультра\" составила 2039100\n",
      "Общая выручка от абонентов тарифа \"Смарт\" составила 2875351\n"
     ]
    }
   ],
   "source": [
    "print('Общая выручка от абонентов тарифа \"Ультра\" составила', int(total_ultra))\n",
    "print('Общая выручка от абонентов тарифа \"Смарт\" составила', int(total_smart))"
   ]
  },
  {
   "cell_type": "markdown",
   "metadata": {},
   "source": [
    "**Вывод**\n",
    "Тариф \"Смарт\" принес на 800000 больше прибыли за все время"
   ]
  },
  {
   "cell_type": "code",
   "execution_count": 157,
   "metadata": {},
   "outputs": [
    {
     "data": {
      "image/png": "[encoded data removed]",
      "text/plain": [
       "<Figure size 432x288 with 1 Axes>"
      ]
     },
     "metadata": {
      "needs_background": "light"
     },
     "output_type": "display_data"
    }
   ],
   "source": [
    "fig, ax = plt.subplots()\n",
    "ax.plot(user_behavior[user_behavior['tariff']=='ultra'].groupby('month')['total_cost'].sum())\n",
    "ax.plot(user_behavior[user_behavior['tariff']=='smart'].groupby('month')['total_cost'].sum())\n",
    "ax.set(xlabel='month', ylabel='total_cost',\n",
    "       title='Total costs by tariff')\n",
    "ax.grid()\n",
    "plt.legend(['ultra', 'smart'])\n",
    "plt.show()"
   ]
  },
  {
   "cell_type": "markdown",
   "metadata": {
    "deletable": false,
    "editable": false,
    "id": "49WKdXmA_oCp"
   },
   "source": [
    "Датафрейм `stats_df` для каждой пары «месяц — тариф» будет хранить основные характеристики"
   ]
  },
  {
   "cell_type": "code",
   "execution_count": 158,
   "metadata": {
    "deletable": false,
    "id": "4V-Kl67S_oCp",
    "outputId": "ed8b1220-debd-42f0-9941-3acb27e94db1"
   },
   "outputs": [
    {
     "data": {
      "text/html": [
       "<div>\n",
       "<style scoped>\n",
       "    .dataframe tbody tr th:only-of-type {\n",
       "        vertical-align: middle;\n",
       "    }\n",
       "\n",
       "    .dataframe tbody tr th {\n",
       "        vertical-align: top;\n",
       "    }\n",
       "\n",
       "    .dataframe thead th {\n",
       "        text-align: right;\n",
       "    }\n",
       "</style>\n",
       "<table border=\"1\" class=\"dataframe\">\n",
       "  <thead>\n",
       "    <tr style=\"text-align: right;\">\n",
       "      <th></th>\n",
       "      <th>month</th>\n",
       "      <th>tariff</th>\n",
       "      <th>calls_mean</th>\n",
       "      <th>sessions_mean</th>\n",
       "      <th>messages_mean</th>\n",
       "      <th>minutes_mean</th>\n",
       "      <th>calls_std</th>\n",
       "      <th>sessions_std</th>\n",
       "      <th>messages_std</th>\n",
       "      <th>minutes_std</th>\n",
       "      <th>calls_median</th>\n",
       "      <th>sessions_median</th>\n",
       "      <th>messages_median</th>\n",
       "      <th>minutes_median</th>\n",
       "    </tr>\n",
       "  </thead>\n",
       "  <tbody>\n",
       "    <tr>\n",
       "      <th>0</th>\n",
       "      <td>1</td>\n",
       "      <td>smart</td>\n",
       "      <td>27.68</td>\n",
       "      <td>8513.72</td>\n",
       "      <td>18.24</td>\n",
       "      <td>203.85</td>\n",
       "      <td>20.81</td>\n",
       "      <td>6444.68</td>\n",
       "      <td>16.20</td>\n",
       "      <td>154.23</td>\n",
       "      <td>20.5</td>\n",
       "      <td>7096.18</td>\n",
       "      <td>15.0</td>\n",
       "      <td>162.5</td>\n",
       "    </tr>\n",
       "    <tr>\n",
       "      <th>1</th>\n",
       "      <td>1</td>\n",
       "      <td>ultra</td>\n",
       "      <td>59.44</td>\n",
       "      <td>13140.68</td>\n",
       "      <td>33.78</td>\n",
       "      <td>428.11</td>\n",
       "      <td>41.64</td>\n",
       "      <td>6865.35</td>\n",
       "      <td>30.67</td>\n",
       "      <td>269.76</td>\n",
       "      <td>51.0</td>\n",
       "      <td>14791.37</td>\n",
       "      <td>32.0</td>\n",
       "      <td>382.0</td>\n",
       "    </tr>\n",
       "    <tr>\n",
       "      <th>2</th>\n",
       "      <td>2</td>\n",
       "      <td>smart</td>\n",
       "      <td>40.19</td>\n",
       "      <td>11597.05</td>\n",
       "      <td>24.09</td>\n",
       "      <td>298.69</td>\n",
       "      <td>25.39</td>\n",
       "      <td>6247.35</td>\n",
       "      <td>21.75</td>\n",
       "      <td>190.82</td>\n",
       "      <td>38.5</td>\n",
       "      <td>12553.71</td>\n",
       "      <td>20.0</td>\n",
       "      <td>258.0</td>\n",
       "    </tr>\n",
       "    <tr>\n",
       "      <th>3</th>\n",
       "      <td>2</td>\n",
       "      <td>ultra</td>\n",
       "      <td>41.54</td>\n",
       "      <td>11775.94</td>\n",
       "      <td>21.96</td>\n",
       "      <td>297.12</td>\n",
       "      <td>40.97</td>\n",
       "      <td>10644.64</td>\n",
       "      <td>26.77</td>\n",
       "      <td>296.51</td>\n",
       "      <td>25.0</td>\n",
       "      <td>7327.12</td>\n",
       "      <td>5.5</td>\n",
       "      <td>168.0</td>\n",
       "    </tr>\n",
       "    <tr>\n",
       "      <th>4</th>\n",
       "      <td>3</td>\n",
       "      <td>smart</td>\n",
       "      <td>54.32</td>\n",
       "      <td>15104.16</td>\n",
       "      <td>31.86</td>\n",
       "      <td>390.05</td>\n",
       "      <td>25.54</td>\n",
       "      <td>5828.24</td>\n",
       "      <td>26.80</td>\n",
       "      <td>191.89</td>\n",
       "      <td>59.0</td>\n",
       "      <td>15670.25</td>\n",
       "      <td>23.0</td>\n",
       "      <td>409.0</td>\n",
       "    </tr>\n",
       "    <tr>\n",
       "      <th>5</th>\n",
       "      <td>3</td>\n",
       "      <td>ultra</td>\n",
       "      <td>67.68</td>\n",
       "      <td>17535.55</td>\n",
       "      <td>32.30</td>\n",
       "      <td>489.65</td>\n",
       "      <td>44.84</td>\n",
       "      <td>10951.79</td>\n",
       "      <td>41.62</td>\n",
       "      <td>333.74</td>\n",
       "      <td>57.0</td>\n",
       "      <td>17495.18</td>\n",
       "      <td>20.0</td>\n",
       "      <td>403.0</td>\n",
       "    </tr>\n",
       "    <tr>\n",
       "      <th>6</th>\n",
       "      <td>4</td>\n",
       "      <td>smart</td>\n",
       "      <td>51.31</td>\n",
       "      <td>13462.18</td>\n",
       "      <td>30.74</td>\n",
       "      <td>367.13</td>\n",
       "      <td>25.70</td>\n",
       "      <td>5698.25</td>\n",
       "      <td>24.54</td>\n",
       "      <td>186.49</td>\n",
       "      <td>52.0</td>\n",
       "      <td>14087.65</td>\n",
       "      <td>28.0</td>\n",
       "      <td>368.5</td>\n",
       "    </tr>\n",
       "    <tr>\n",
       "      <th>7</th>\n",
       "      <td>4</td>\n",
       "      <td>ultra</td>\n",
       "      <td>64.09</td>\n",
       "      <td>16828.13</td>\n",
       "      <td>31.56</td>\n",
       "      <td>458.02</td>\n",
       "      <td>36.27</td>\n",
       "      <td>9718.65</td>\n",
       "      <td>37.51</td>\n",
       "      <td>267.68</td>\n",
       "      <td>61.0</td>\n",
       "      <td>16645.78</td>\n",
       "      <td>17.0</td>\n",
       "      <td>453.0</td>\n",
       "    </tr>\n",
       "    <tr>\n",
       "      <th>8</th>\n",
       "      <td>5</td>\n",
       "      <td>smart</td>\n",
       "      <td>55.24</td>\n",
       "      <td>15805.18</td>\n",
       "      <td>33.77</td>\n",
       "      <td>387.36</td>\n",
       "      <td>25.38</td>\n",
       "      <td>5978.23</td>\n",
       "      <td>27.04</td>\n",
       "      <td>186.60</td>\n",
       "      <td>59.0</td>\n",
       "      <td>16323.94</td>\n",
       "      <td>30.0</td>\n",
       "      <td>433.0</td>\n",
       "    </tr>\n",
       "    <tr>\n",
       "      <th>9</th>\n",
       "      <td>5</td>\n",
       "      <td>ultra</td>\n",
       "      <td>72.51</td>\n",
       "      <td>19363.15</td>\n",
       "      <td>37.85</td>\n",
       "      <td>510.33</td>\n",
       "      <td>41.08</td>\n",
       "      <td>10046.11</td>\n",
       "      <td>40.31</td>\n",
       "      <td>289.60</td>\n",
       "      <td>75.0</td>\n",
       "      <td>18696.43</td>\n",
       "      <td>25.0</td>\n",
       "      <td>519.0</td>\n",
       "    </tr>\n",
       "  </tbody>\n",
       "</table>\n",
       "</div>"
      ],
      "text/plain": [
       "   month tariff  calls_mean  sessions_mean  messages_mean  minutes_mean  \\\n",
       "0      1  smart       27.68        8513.72          18.24        203.85   \n",
       "1      1  ultra       59.44       13140.68          33.78        428.11   \n",
       "2      2  smart       40.19       11597.05          24.09        298.69   \n",
       "3      2  ultra       41.54       11775.94          21.96        297.12   \n",
       "4      3  smart       54.32       15104.16          31.86        390.05   \n",
       "5      3  ultra       67.68       17535.55          32.30        489.65   \n",
       "6      4  smart       51.31       13462.18          30.74        367.13   \n",
       "7      4  ultra       64.09       16828.13          31.56        458.02   \n",
       "8      5  smart       55.24       15805.18          33.77        387.36   \n",
       "9      5  ultra       72.51       19363.15          37.85        510.33   \n",
       "\n",
       "   calls_std  sessions_std  messages_std  minutes_std  calls_median  \\\n",
       "0      20.81       6444.68         16.20       154.23          20.5   \n",
       "1      41.64       6865.35         30.67       269.76          51.0   \n",
       "2      25.39       6247.35         21.75       190.82          38.5   \n",
       "3      40.97      10644.64         26.77       296.51          25.0   \n",
       "4      25.54       5828.24         26.80       191.89          59.0   \n",
       "5      44.84      10951.79         41.62       333.74          57.0   \n",
       "6      25.70       5698.25         24.54       186.49          52.0   \n",
       "7      36.27       9718.65         37.51       267.68          61.0   \n",
       "8      25.38       5978.23         27.04       186.60          59.0   \n",
       "9      41.08      10046.11         40.31       289.60          75.0   \n",
       "\n",
       "   sessions_median  messages_median  minutes_median  \n",
       "0          7096.18             15.0           162.5  \n",
       "1         14791.37             32.0           382.0  \n",
       "2         12553.71             20.0           258.0  \n",
       "3          7327.12              5.5           168.0  \n",
       "4         15670.25             23.0           409.0  \n",
       "5         17495.18             20.0           403.0  \n",
       "6         14087.65             28.0           368.5  \n",
       "7         16645.78             17.0           453.0  \n",
       "8         16323.94             30.0           433.0  \n",
       "9         18696.43             25.0           519.0  "
      ]
     },
     "execution_count": 158,
     "metadata": {},
     "output_type": "execute_result"
    }
   ],
   "source": [
    "# сохранение статистических метрик для каждой пары месяц-тариф\n",
    "# в одной таблице stats_df (среднее значение, стандартное отклонение, медиана)\n",
    "\n",
    "stats_df = user_behavior.pivot_table(\n",
    "            index=['month', 'tariff'],\\\n",
    "            values=['calls', 'minutes', 'messages', 'mb_used'],\\\n",
    "            aggfunc=['mean', 'std', 'median']\\\n",
    ").round(2).reset_index()\n",
    "\n",
    "stats_df.columns=['month', 'tariff', 'calls_mean', 'sessions_mean', 'messages_mean', 'minutes_mean',\n",
    "                                     'calls_std',  'sessions_std', 'messages_std', 'minutes_std', \n",
    "                                     'calls_median', 'sessions_median', 'messages_median',  'minutes_median']\n",
    "\n",
    "stats_df.head(10)"
   ]
  },
  {
   "cell_type": "markdown",
   "metadata": {
    "deletable": false,
    "editable": false,
    "id": "HBjTHsiq_oCq"
   },
   "source": [
    "Распределение среднего количества звонков по видам тарифов и месяцам"
   ]
  },
  {
   "cell_type": "code",
   "execution_count": 159,
   "metadata": {
    "deletable": false,
    "id": "HKlQp7la_oCq",
    "outputId": "18ba7a99-d460-44f5-9c08-a67e71e18aa2"
   },
   "outputs": [
    {
     "data": {
      "image/png": "[encoded data removed]",
      "text/plain": [
       "<Figure size 432x288 with 1 Axes>"
      ]
     },
     "metadata": {
      "needs_background": "light"
     },
     "output_type": "display_data"
    }
   ],
   "source": [
    "import seaborn as sns\n",
    "\n",
    "ax = sns.barplot(x='month',\n",
    "            y='calls_mean',\n",
    "            hue=\"tariff\",\n",
    "            data=stats_df,\n",
    "            palette=['lightblue', 'blue'])\n",
    "\n",
    "ax.set_title('Распределение количества звонков по видам тарифов и месяцам')\n",
    "ax.set(xlabel='Номер месяца', ylabel='Среднее количество звонков');"
   ]
  },
  {
   "cell_type": "code",
   "execution_count": 160,
   "metadata": {
    "deletable": false,
    "id": "LBzNZDS1_oCq",
    "outputId": "12f9ceca-41e4-4ff9-ebf7-1a778751b299"
   },
   "outputs": [
    {
     "data": {
      "image/png": "[encoded data removed]",
      "text/plain": [
       "<Figure size 720x288 with 1 Axes>"
      ]
     },
     "metadata": {
      "needs_background": "light"
     },
     "output_type": "display_data"
    }
   ],
   "source": [
    "plt.figure(figsize=(10,4))\n",
    "user_behavior.groupby('tariff')['calls'].plot(kind='hist', bins=50, alpha=0.7)\n",
    "plt.legend(['Smart', 'Ultra'])\n",
    "plt.xlabel('Количество звонков')\n",
    "plt.ylabel('Количество клиентов')\n",
    "plt.title('Сравнение тарифов по количеству звонков')\n",
    "plt.grid()\n",
    "plt.show()"
   ]
  },
  {
   "cell_type": "markdown",
   "metadata": {
    "deletable": false,
    "editable": false,
    "id": "6ApNiP3G_oCq"
   },
   "source": [
    "Распределение средней продолжительности звонков по видам тарифов и месяцам"
   ]
  },
  {
   "cell_type": "code",
   "execution_count": 161,
   "metadata": {
    "deletable": false,
    "id": "NB9xuopA_oCq",
    "outputId": "f4f1696b-7a58-41b3-8085-f86e0c866bc9",
    "scrolled": true
   },
   "outputs": [
    {
     "data": {
      "image/png": "[encoded data removed]",
      "text/plain": [
       "<Figure size 432x288 with 1 Axes>"
      ]
     },
     "metadata": {
      "needs_background": "light"
     },
     "output_type": "display_data"
    }
   ],
   "source": [
    "ax = sns.barplot(x='month',\n",
    "            y='minutes_mean',\n",
    "            hue=\"tariff\",\n",
    "            data=stats_df,\n",
    "            palette=['lightblue', 'blue'])\n",
    "\n",
    "ax.set_title('Распределение продолжительности звонков по видам тарифов и месяцам')\n",
    "ax.set(xlabel='Номер месяца', ylabel='Средняя продолжительность звонков');"
   ]
  },
  {
   "cell_type": "code",
   "execution_count": 162,
   "metadata": {
    "deletable": false,
    "id": "eL5SHsdq_oCq",
    "outputId": "21d15fb2-0f41-46cb-b0ab-a31874d3d201"
   },
   "outputs": [
    {
     "data": {
      "image/png": "[encoded data removed]",
      "text/plain": [
       "<Figure size 720x288 with 1 Axes>"
      ]
     },
     "metadata": {
      "needs_background": "light"
     },
     "output_type": "display_data"
    }
   ],
   "source": [
    "plt.figure(figsize=(10,4))\n",
    "user_behavior.groupby('tariff')['minutes'].plot(kind='hist', bins=50, alpha=0.7)\n",
    "plt.legend(['Smart', 'Ultra'])\n",
    "plt.xlabel('Использованные минуты')\n",
    "plt.ylabel('Количество клиентов')\n",
    "plt.title('Сравнение тарифов по количеству использованных минут')\n",
    "plt.grid()\n",
    "plt.show()"
   ]
  },
  {
   "cell_type": "markdown",
   "metadata": {
    "deletable": false,
    "editable": false,
    "id": "G3NDyWZy_oCq"
   },
   "source": [
    "Средняя длительность разговоров у абонентов тарифа Ultra больше, чем у абонентов тарифа Smart. В течение года пользователи обоих тарифов увеличивают среднюю продолжительность своих разговоров. Рост средней длительности разговоров у абонентов тарифа Smart равномерный в течение года. Пользователи тарифа Ultra не проявляют подобной линейной стабильности. Стоит отметить, что феврале у абонентов обоих тарифных планов наблюдались самые низкие показатели."
   ]
  },
  {
   "cell_type": "markdown",
   "metadata": {
    "deletable": false,
    "editable": false,
    "id": "ils1vnE7_oCq"
   },
   "source": [
    "Распределение среднего количества сообщений по видам тарифов и месяцам"
   ]
  },
  {
   "cell_type": "code",
   "execution_count": 163,
   "metadata": {
    "deletable": false,
    "id": "zkSEsDH__oCq",
    "outputId": "34370df8-5375-4a80-b1f5-ad6d556f6a54"
   },
   "outputs": [
    {
     "data": {
      "image/png": "[encoded data removed]",
      "text/plain": [
       "<Figure size 432x288 with 1 Axes>"
      ]
     },
     "metadata": {
      "needs_background": "light"
     },
     "output_type": "display_data"
    }
   ],
   "source": [
    "ax = sns.barplot(x='month',\n",
    "            y='messages_mean',\n",
    "            hue=\"tariff\",\n",
    "            data=stats_df,\n",
    "            palette=['lightblue', 'blue']\n",
    ")\n",
    "\n",
    "ax.set_title('Распределение количества сообщений по видам тарифов и месяцам')\n",
    "ax.set(xlabel='Номер месяца', ylabel='Среднее количество сообщений');"
   ]
  },
  {
   "cell_type": "code",
   "execution_count": 164,
   "metadata": {
    "deletable": false,
    "id": "I97vMndq_oCq",
    "outputId": "87f68d2f-ac58-4253-ccbb-70e81f073a41"
   },
   "outputs": [
    {
     "data": {
      "image/png": "[encoded data removed]",
      "text/plain": [
       "<Figure size 720x288 with 1 Axes>"
      ]
     },
     "metadata": {
      "needs_background": "light"
     },
     "output_type": "display_data"
    }
   ],
   "source": [
    "plt.figure(figsize=(10,4))\n",
    "user_behavior.groupby('tariff')['messages'].plot(kind='hist', bins=50, alpha=0.7)\n",
    "plt.legend(['Smart', 'Ultra'])\n",
    "plt.xlabel('Отправленные сообщения')\n",
    "plt.ylabel('Количество клиентов')\n",
    "plt.title('Сравнение тарифов по количеству отправленных сообщений')\n",
    "plt.grid()\n",
    "plt.show()"
   ]
  },
  {
   "cell_type": "markdown",
   "metadata": {
    "id": "IKu7ZqEy_oCq"
   },
   "source": [
    "В среднем пользователи тарифа Ultra отправляют больше сообщений — почти на 20 сообщений больше, чем пользователи тарифа Smart. Количество сообщений в течение года на обоих тарифах растёт. Динамика по отправке сообщений схожа с тенденциями по длительности разговоров: в феврале отмечено наименьшее количество сообщений за год и пользователи тарифа Ultra также проявляют нелинейную положительную динамику."
   ]
  },
  {
   "cell_type": "code",
   "execution_count": 165,
   "metadata": {
    "deletable": false,
    "id": "q866NzDW_oCr",
    "outputId": "18a00f1a-0227-4176-da41-47d448aecc0b"
   },
   "outputs": [
    {
     "data": {
      "image/png": "[encoded data removed]",
      "text/plain": [
       "<Figure size 432x288 with 1 Axes>"
      ]
     },
     "metadata": {
      "needs_background": "light"
     },
     "output_type": "display_data"
    }
   ],
   "source": [
    "ax = sns.barplot(x='month',\n",
    "            y='sessions_mean',\n",
    "            hue='tariff',\n",
    "            data=stats_df,\n",
    "            palette=['lightblue', 'blue']\n",
    ")\n",
    "\n",
    "ax.set_title('Распределение количества потраченного трафика (Мб) по видам тарифов и месяцам')\n",
    "ax.set(xlabel='Номер месяца', ylabel='Среднее количество мегабайт');"
   ]
  },
  {
   "cell_type": "markdown",
   "metadata": {
    "deletable": false,
    "editable": false,
    "id": "an1c3noO_oCr"
   },
   "source": [
    "Сравнение потраченных мегабайт среди пользователей тарифов Smart и Ultra"
   ]
  },
  {
   "cell_type": "code",
   "execution_count": 166,
   "metadata": {
    "deletable": false,
    "id": "Czm2mIhd_oCr",
    "outputId": "af40db5d-21b7-4991-bcfb-cd57eec6bb3d"
   },
   "outputs": [
    {
     "data": {
      "image/png": "[encoded data removed]",
      "text/plain": [
       "<Figure size 720x288 with 1 Axes>"
      ]
     },
     "metadata": {
      "needs_background": "light"
     },
     "output_type": "display_data"
    }
   ],
   "source": [
    "plt.figure(figsize=(10,4))\n",
    "user_behavior.groupby('tariff')['mb_used'].plot(kind='hist', bins=50, alpha=0.7)\n",
    "plt.legend(['Smart', 'Ultra'])\n",
    "plt.xlabel('Использованные мегабайты')\n",
    "plt.ylabel('Количество клиентов')\n",
    "plt.title('Сравнение тарифов по количеству использованных мегабайт')\n",
    "plt.grid()\n",
    "plt.show()"
   ]
  },
  {
   "cell_type": "markdown",
   "metadata": {
    "deletable": false,
    "editable": false,
    "id": "DQp_KGw1_oCr"
   },
   "source": [
    "Меньше всего пользователи использовали интернет в январе, феврале и апреле. Чаще всего абоненты тарифа Smart тратят 15–17 Гб, а абоненты тарифного плана Ultra — 19–21 ГБ."
   ]
  },
  {
   "cell_type": "markdown",
   "metadata": {
    "deletable": false,
    "editable": false,
    "id": "aKJz6DhN_oCr"
   },
   "source": [
    "### Проверка гипотез"
   ]
  },
  {
   "cell_type": "markdown",
   "metadata": {
    "deletable": false,
    "editable": false,
    "id": "FW2jChme_oCr",
    "tags": [
     "start_task"
    ]
   },
   "source": [
    "**Задание 28.** Проверка гипотезы: средняя выручка пользователей тарифов «Ультра» и «Смарт» различается;\n",
    "\n",
    "```\n",
    "H_0: Выручка (total_cost) пользователей \"Ультра\" = выручка (total_cost) пользователей \"Смарт\"`\n",
    "H_a: Выручка (total_cost) пользователей \"Ультра\" ≠ выручка (total_cost) пользователей \"Смарт\"`\n",
    "alpha = 0.05\n",
    "```"
   ]
  },
  {
   "cell_type": "code",
   "execution_count": 167,
   "metadata": {},
   "outputs": [
    {
     "data": {
      "text/html": [
       "<div>\n",
       "<style scoped>\n",
       "    .dataframe tbody tr th:only-of-type {\n",
       "        vertical-align: middle;\n",
       "    }\n",
       "\n",
       "    .dataframe tbody tr th {\n",
       "        vertical-align: top;\n",
       "    }\n",
       "\n",
       "    .dataframe thead th {\n",
       "        text-align: right;\n",
       "    }\n",
       "</style>\n",
       "<table border=\"1\" class=\"dataframe\">\n",
       "  <thead>\n",
       "    <tr style=\"text-align: right;\">\n",
       "      <th></th>\n",
       "      <th>user_id</th>\n",
       "      <th>month</th>\n",
       "      <th>calls</th>\n",
       "      <th>messages</th>\n",
       "      <th>mb_used</th>\n",
       "      <th>minutes</th>\n",
       "      <th>age</th>\n",
       "      <th>churn_date</th>\n",
       "      <th>city</th>\n",
       "      <th>first_name</th>\n",
       "      <th>last_name</th>\n",
       "      <th>reg_date</th>\n",
       "      <th>tariff</th>\n",
       "      <th>messages_included</th>\n",
       "      <th>mb_per_month_included</th>\n",
       "      <th>minutes_included</th>\n",
       "      <th>rub_monthly_fee</th>\n",
       "      <th>rub_per_gb</th>\n",
       "      <th>rub_per_message</th>\n",
       "      <th>rub_per_minute</th>\n",
       "      <th>paid_minutes</th>\n",
       "      <th>paid_messages</th>\n",
       "      <th>paid_mb</th>\n",
       "      <th>paid_gb</th>\n",
       "      <th>cost_minutes</th>\n",
       "      <th>cost_messages</th>\n",
       "      <th>cost_gb</th>\n",
       "      <th>total_cost</th>\n",
       "    </tr>\n",
       "  </thead>\n",
       "  <tbody>\n",
       "    <tr>\n",
       "      <th>0</th>\n",
       "      <td>1000</td>\n",
       "      <td>5</td>\n",
       "      <td>22.0</td>\n",
       "      <td>22.0</td>\n",
       "      <td>2253.49</td>\n",
       "      <td>159.0</td>\n",
       "      <td>52</td>\n",
       "      <td>NaT</td>\n",
       "      <td>Краснодар</td>\n",
       "      <td>Рафаил</td>\n",
       "      <td>Верещагин</td>\n",
       "      <td>2018-05-25</td>\n",
       "      <td>ultra</td>\n",
       "      <td>1000</td>\n",
       "      <td>30720</td>\n",
       "      <td>3000</td>\n",
       "      <td>1950</td>\n",
       "      <td>150</td>\n",
       "      <td>1</td>\n",
       "      <td>1</td>\n",
       "      <td>0.0</td>\n",
       "      <td>0.0</td>\n",
       "      <td>0.0</td>\n",
       "      <td>0</td>\n",
       "      <td>0.0</td>\n",
       "      <td>0.0</td>\n",
       "      <td>0</td>\n",
       "      <td>1950.0</td>\n",
       "    </tr>\n",
       "    <tr>\n",
       "      <th>1</th>\n",
       "      <td>1000</td>\n",
       "      <td>6</td>\n",
       "      <td>43.0</td>\n",
       "      <td>60.0</td>\n",
       "      <td>23233.77</td>\n",
       "      <td>172.0</td>\n",
       "      <td>52</td>\n",
       "      <td>NaT</td>\n",
       "      <td>Краснодар</td>\n",
       "      <td>Рафаил</td>\n",
       "      <td>Верещагин</td>\n",
       "      <td>2018-05-25</td>\n",
       "      <td>ultra</td>\n",
       "      <td>1000</td>\n",
       "      <td>30720</td>\n",
       "      <td>3000</td>\n",
       "      <td>1950</td>\n",
       "      <td>150</td>\n",
       "      <td>1</td>\n",
       "      <td>1</td>\n",
       "      <td>0.0</td>\n",
       "      <td>0.0</td>\n",
       "      <td>0.0</td>\n",
       "      <td>0</td>\n",
       "      <td>0.0</td>\n",
       "      <td>0.0</td>\n",
       "      <td>0</td>\n",
       "      <td>1950.0</td>\n",
       "    </tr>\n",
       "    <tr>\n",
       "      <th>2</th>\n",
       "      <td>1000</td>\n",
       "      <td>7</td>\n",
       "      <td>47.0</td>\n",
       "      <td>75.0</td>\n",
       "      <td>14003.64</td>\n",
       "      <td>340.0</td>\n",
       "      <td>52</td>\n",
       "      <td>NaT</td>\n",
       "      <td>Краснодар</td>\n",
       "      <td>Рафаил</td>\n",
       "      <td>Верещагин</td>\n",
       "      <td>2018-05-25</td>\n",
       "      <td>ultra</td>\n",
       "      <td>1000</td>\n",
       "      <td>30720</td>\n",
       "      <td>3000</td>\n",
       "      <td>1950</td>\n",
       "      <td>150</td>\n",
       "      <td>1</td>\n",
       "      <td>1</td>\n",
       "      <td>0.0</td>\n",
       "      <td>0.0</td>\n",
       "      <td>0.0</td>\n",
       "      <td>0</td>\n",
       "      <td>0.0</td>\n",
       "      <td>0.0</td>\n",
       "      <td>0</td>\n",
       "      <td>1950.0</td>\n",
       "    </tr>\n",
       "    <tr>\n",
       "      <th>3</th>\n",
       "      <td>1000</td>\n",
       "      <td>8</td>\n",
       "      <td>52.0</td>\n",
       "      <td>81.0</td>\n",
       "      <td>14055.93</td>\n",
       "      <td>408.0</td>\n",
       "      <td>52</td>\n",
       "      <td>NaT</td>\n",
       "      <td>Краснодар</td>\n",
       "      <td>Рафаил</td>\n",
       "      <td>Верещагин</td>\n",
       "      <td>2018-05-25</td>\n",
       "      <td>ultra</td>\n",
       "      <td>1000</td>\n",
       "      <td>30720</td>\n",
       "      <td>3000</td>\n",
       "      <td>1950</td>\n",
       "      <td>150</td>\n",
       "      <td>1</td>\n",
       "      <td>1</td>\n",
       "      <td>0.0</td>\n",
       "      <td>0.0</td>\n",
       "      <td>0.0</td>\n",
       "      <td>0</td>\n",
       "      <td>0.0</td>\n",
       "      <td>0.0</td>\n",
       "      <td>0</td>\n",
       "      <td>1950.0</td>\n",
       "    </tr>\n",
       "    <tr>\n",
       "      <th>4</th>\n",
       "      <td>1000</td>\n",
       "      <td>9</td>\n",
       "      <td>58.0</td>\n",
       "      <td>57.0</td>\n",
       "      <td>14568.91</td>\n",
       "      <td>466.0</td>\n",
       "      <td>52</td>\n",
       "      <td>NaT</td>\n",
       "      <td>Краснодар</td>\n",
       "      <td>Рафаил</td>\n",
       "      <td>Верещагин</td>\n",
       "      <td>2018-05-25</td>\n",
       "      <td>ultra</td>\n",
       "      <td>1000</td>\n",
       "      <td>30720</td>\n",
       "      <td>3000</td>\n",
       "      <td>1950</td>\n",
       "      <td>150</td>\n",
       "      <td>1</td>\n",
       "      <td>1</td>\n",
       "      <td>0.0</td>\n",
       "      <td>0.0</td>\n",
       "      <td>0.0</td>\n",
       "      <td>0</td>\n",
       "      <td>0.0</td>\n",
       "      <td>0.0</td>\n",
       "      <td>0</td>\n",
       "      <td>1950.0</td>\n",
       "    </tr>\n",
       "  </tbody>\n",
       "</table>\n",
       "</div>"
      ],
      "text/plain": [
       "   user_id  month  calls  messages   mb_used  minutes  age churn_date  \\\n",
       "0     1000      5   22.0      22.0   2253.49    159.0   52        NaT   \n",
       "1     1000      6   43.0      60.0  23233.77    172.0   52        NaT   \n",
       "2     1000      7   47.0      75.0  14003.64    340.0   52        NaT   \n",
       "3     1000      8   52.0      81.0  14055.93    408.0   52        NaT   \n",
       "4     1000      9   58.0      57.0  14568.91    466.0   52        NaT   \n",
       "\n",
       "        city first_name  last_name   reg_date tariff  messages_included  \\\n",
       "0  Краснодар     Рафаил  Верещагин 2018-05-25  ultra               1000   \n",
       "1  Краснодар     Рафаил  Верещагин 2018-05-25  ultra               1000   \n",
       "2  Краснодар     Рафаил  Верещагин 2018-05-25  ultra               1000   \n",
       "3  Краснодар     Рафаил  Верещагин 2018-05-25  ultra               1000   \n",
       "4  Краснодар     Рафаил  Верещагин 2018-05-25  ultra               1000   \n",
       "\n",
       "   mb_per_month_included  minutes_included  rub_monthly_fee  rub_per_gb  \\\n",
       "0                  30720              3000             1950         150   \n",
       "1                  30720              3000             1950         150   \n",
       "2                  30720              3000             1950         150   \n",
       "3                  30720              3000             1950         150   \n",
       "4                  30720              3000             1950         150   \n",
       "\n",
       "   rub_per_message  rub_per_minute  paid_minutes  paid_messages  paid_mb  \\\n",
       "0                1               1           0.0            0.0      0.0   \n",
       "1                1               1           0.0            0.0      0.0   \n",
       "2                1               1           0.0            0.0      0.0   \n",
       "3                1               1           0.0            0.0      0.0   \n",
       "4                1               1           0.0            0.0      0.0   \n",
       "\n",
       "   paid_gb  cost_minutes  cost_messages  cost_gb  total_cost  \n",
       "0        0           0.0            0.0        0      1950.0  \n",
       "1        0           0.0            0.0        0      1950.0  \n",
       "2        0           0.0            0.0        0      1950.0  \n",
       "3        0           0.0            0.0        0      1950.0  \n",
       "4        0           0.0            0.0        0      1950.0  "
      ]
     },
     "execution_count": 167,
     "metadata": {},
     "output_type": "execute_result"
    }
   ],
   "source": [
    "user_behavior.head()"
   ]
  },
  {
   "cell_type": "code",
   "execution_count": null,
   "metadata": {
    "deletable": false,
    "id": "02sfJAHr_oCr"
   },
   "outputs": [],
   "source": []
  },
  {
   "cell_type": "code",
   "execution_count": 168,
   "metadata": {
    "deletable": false,
    "id": "OxsrhJXE_oCr"
   },
   "outputs": [
    {
     "name": "stdout",
     "output_type": "stream",
     "text": [
      "4.2606313931076085e-250\n",
      "Отвергаем нулевую гипотезу\n"
     ]
    }
   ],
   "source": [
    "total_cost1 = user_behavior[user_behavior['tariff'] =='smart']['total_cost']\n",
    "total_cost2 = user_behavior[user_behavior['tariff'] =='ultra']['total_cost']\n",
    "\n",
    "results = st.ttest_ind(total_cost1, total_cost2, equal_var=0)\n",
    "alpha = 0.05\n",
    "\n",
    "print(results.pvalue) \n",
    "\n",
    "if results.pvalue < alpha:\n",
    "    print(\"Отвергаем нулевую гипотезу\")\n",
    "else:\n",
    "    print('Не получилось отвергнуть нулевую гипотезу')"
   ]
  },
  {
   "cell_type": "markdown",
   "metadata": {
    "deletable": false,
    "editable": false,
    "id": "-ENs-XhC_oCr",
    "tags": [
     "start_task"
    ]
   },
   "source": [
    "**Задание 29.** Проверка гипотезы: средняя выручка с пользователей из Москвы отличается от выручки c пользователей других регионов; \n",
    "\n",
    "```\n",
    "H_0: Выручка (total_cost) пользователей из Москвы = выручка (total_cost) пользователей не из Москвы`\n",
    "H_1: Выручка (total_cost) пользователей из Москвы ≠ выручка (total_cost) пользователей не из Москвы`\n",
    "alpha = 0.05\n",
    "```"
   ]
  },
  {
   "cell_type": "code",
   "execution_count": 169,
   "metadata": {
    "deletable": false,
    "id": "RznkRUuu_oCr"
   },
   "outputs": [
    {
     "name": "stdout",
     "output_type": "stream",
     "text": [
      "0.5257376663729298\n",
      "Не получилось отвергнуть нулевую гипотезу\n"
     ]
    }
   ],
   "source": [
    "total_cost1 = user_behavior.query('city == \"Москва\"')['total_cost']\n",
    "total_cost2 = user_behavior.query('city != \"Москва\"')['total_cost']\n",
    "\n",
    "results = st.ttest_ind(total_cost1, total_cost2, equal_var=0)\n",
    "\n",
    "alpha = 0.05\n",
    "\n",
    "print(results.pvalue)\n",
    "\n",
    "if results.pvalue < alpha:\n",
    "    print(\"Отвергаем нулевую гипотезу\")\n",
    "else:\n",
    "    print('Не получилось отвергнуть нулевую гипотезу')"
   ]
  }
 ],
 "metadata": {
  "ExecuteTimeLog": [
   {
    "duration": 59,
    "start_time": "2023-03-06T15:27:16.615Z"
   },
   {
    "duration": 398,
    "start_time": "2023-03-06T15:27:23.669Z"
   },
   {
    "duration": 512,
    "start_time": "2023-03-06T15:27:24.069Z"
   },
   {
    "duration": 16,
    "start_time": "2023-03-06T15:27:24.583Z"
   },
   {
    "duration": 26,
    "start_time": "2023-03-06T15:27:24.601Z"
   },
   {
    "duration": 2,
    "start_time": "2023-03-06T15:27:24.629Z"
   },
   {
    "duration": 13,
    "start_time": "2023-03-06T15:27:24.633Z"
   },
   {
    "duration": 12,
    "start_time": "2023-03-06T15:27:24.647Z"
   },
   {
    "duration": 16,
    "start_time": "2023-03-06T15:27:24.661Z"
   },
   {
    "duration": 12,
    "start_time": "2023-03-06T15:27:24.679Z"
   },
   {
    "duration": 8,
    "start_time": "2023-03-06T15:27:24.694Z"
   },
   {
    "duration": 11,
    "start_time": "2023-03-06T15:27:24.704Z"
   },
   {
    "duration": 7,
    "start_time": "2023-03-06T15:27:24.717Z"
   },
   {
    "duration": 13,
    "start_time": "2023-03-06T15:27:24.725Z"
   },
   {
    "duration": 4,
    "start_time": "2023-03-06T15:27:24.740Z"
   },
   {
    "duration": 40,
    "start_time": "2023-03-06T15:27:24.746Z"
   },
   {
    "duration": 0,
    "start_time": "2023-03-06T15:27:24.789Z"
   },
   {
    "duration": 0,
    "start_time": "2023-03-06T15:27:24.791Z"
   },
   {
    "duration": 0,
    "start_time": "2023-03-06T15:27:24.792Z"
   },
   {
    "duration": 0,
    "start_time": "2023-03-06T15:27:24.793Z"
   },
   {
    "duration": 0,
    "start_time": "2023-03-06T15:27:24.796Z"
   },
   {
    "duration": 0,
    "start_time": "2023-03-06T15:27:24.798Z"
   },
   {
    "duration": 0,
    "start_time": "2023-03-06T15:27:24.799Z"
   },
   {
    "duration": 0,
    "start_time": "2023-03-06T15:27:24.801Z"
   },
   {
    "duration": 0,
    "start_time": "2023-03-06T15:27:24.802Z"
   },
   {
    "duration": 0,
    "start_time": "2023-03-06T15:27:24.804Z"
   },
   {
    "duration": 0,
    "start_time": "2023-03-06T15:27:24.805Z"
   },
   {
    "duration": 0,
    "start_time": "2023-03-06T15:27:24.806Z"
   },
   {
    "duration": 0,
    "start_time": "2023-03-06T15:27:24.825Z"
   },
   {
    "duration": 0,
    "start_time": "2023-03-06T15:27:24.826Z"
   },
   {
    "duration": 1,
    "start_time": "2023-03-06T15:27:24.827Z"
   },
   {
    "duration": 0,
    "start_time": "2023-03-06T15:27:24.829Z"
   },
   {
    "duration": 0,
    "start_time": "2023-03-06T15:27:24.830Z"
   },
   {
    "duration": 0,
    "start_time": "2023-03-06T15:27:24.832Z"
   },
   {
    "duration": 0,
    "start_time": "2023-03-06T15:27:24.833Z"
   },
   {
    "duration": 0,
    "start_time": "2023-03-06T15:27:24.834Z"
   },
   {
    "duration": 0,
    "start_time": "2023-03-06T15:27:24.835Z"
   },
   {
    "duration": 612,
    "start_time": "2023-03-06T15:29:01.295Z"
   },
   {
    "duration": 20,
    "start_time": "2023-03-06T15:29:44.334Z"
   },
   {
    "duration": 452,
    "start_time": "2023-03-06T15:29:50.223Z"
   },
   {
    "duration": 11,
    "start_time": "2023-03-06T15:30:03.690Z"
   },
   {
    "duration": 28,
    "start_time": "2023-03-06T15:30:12.653Z"
   },
   {
    "duration": 174,
    "start_time": "2023-03-06T15:30:32.893Z"
   },
   {
    "duration": 167,
    "start_time": "2023-03-06T15:30:56.536Z"
   },
   {
    "duration": 9,
    "start_time": "2023-03-06T15:31:08.355Z"
   },
   {
    "duration": 26,
    "start_time": "2023-03-06T15:31:15.871Z"
   },
   {
    "duration": 62,
    "start_time": "2023-03-06T15:31:37.687Z"
   },
   {
    "duration": 9,
    "start_time": "2023-03-06T15:31:59.329Z"
   },
   {
    "duration": 27,
    "start_time": "2023-03-06T15:32:05.731Z"
   },
   {
    "duration": 8,
    "start_time": "2023-03-06T15:32:07.303Z"
   },
   {
    "duration": 13,
    "start_time": "2023-03-06T15:32:20.505Z"
   },
   {
    "duration": 79,
    "start_time": "2023-03-06T15:32:48.155Z"
   },
   {
    "duration": 11,
    "start_time": "2023-03-06T15:32:57.969Z"
   },
   {
    "duration": 16,
    "start_time": "2023-03-06T15:33:11.795Z"
   },
   {
    "duration": 52,
    "start_time": "2023-03-06T15:42:31.342Z"
   },
   {
    "duration": 13,
    "start_time": "2023-03-06T15:42:38.796Z"
   },
   {
    "duration": 22,
    "start_time": "2023-03-06T15:43:38.387Z"
   },
   {
    "duration": 13,
    "start_time": "2023-03-06T15:44:03.627Z"
   },
   {
    "duration": 10,
    "start_time": "2023-03-06T15:44:43.890Z"
   },
   {
    "duration": 91,
    "start_time": "2023-03-06T15:45:52.379Z"
   },
   {
    "duration": 11,
    "start_time": "2023-03-06T15:48:47.379Z"
   },
   {
    "duration": 6,
    "start_time": "2023-03-06T15:49:14.600Z"
   },
   {
    "duration": 11,
    "start_time": "2023-03-06T15:49:25.786Z"
   },
   {
    "duration": 12,
    "start_time": "2023-03-06T15:49:39.541Z"
   },
   {
    "duration": 12,
    "start_time": "2023-03-06T15:50:51.972Z"
   },
   {
    "duration": 32,
    "start_time": "2023-03-06T15:51:36.176Z"
   },
   {
    "duration": 73,
    "start_time": "2023-03-06T15:51:51.943Z"
   },
   {
    "duration": 58,
    "start_time": "2023-03-06T15:51:56.281Z"
   },
   {
    "duration": 14,
    "start_time": "2023-03-06T15:52:06.181Z"
   },
   {
    "duration": 13,
    "start_time": "2023-03-06T15:52:24.501Z"
   },
   {
    "duration": 7,
    "start_time": "2023-03-06T15:52:52.660Z"
   },
   {
    "duration": 11,
    "start_time": "2023-03-06T15:53:08.781Z"
   },
   {
    "duration": 42,
    "start_time": "2023-03-06T15:53:22.293Z"
   },
   {
    "duration": 11,
    "start_time": "2023-03-06T15:53:41.394Z"
   },
   {
    "duration": 17,
    "start_time": "2023-03-06T15:54:03.387Z"
   },
   {
    "duration": 12,
    "start_time": "2023-03-06T15:54:28.947Z"
   },
   {
    "duration": 12,
    "start_time": "2023-03-06T15:54:48.076Z"
   },
   {
    "duration": 14,
    "start_time": "2023-03-06T15:54:54.289Z"
   },
   {
    "duration": 11,
    "start_time": "2023-03-06T15:54:57.158Z"
   },
   {
    "duration": 15,
    "start_time": "2023-03-06T15:55:12.881Z"
   },
   {
    "duration": 42,
    "start_time": "2023-03-06T15:55:21.360Z"
   },
   {
    "duration": 11,
    "start_time": "2023-03-06T15:55:26.853Z"
   },
   {
    "duration": 221,
    "start_time": "2023-03-06T15:56:20.719Z"
   },
   {
    "duration": 22,
    "start_time": "2023-03-06T15:56:59.118Z"
   },
   {
    "duration": 35,
    "start_time": "2023-03-06T15:57:50.646Z"
   },
   {
    "duration": 14,
    "start_time": "2023-03-06T15:59:49.122Z"
   },
   {
    "duration": 840,
    "start_time": "2023-03-06T15:59:55.599Z"
   },
   {
    "duration": 883,
    "start_time": "2023-03-06T16:00:06.337Z"
   },
   {
    "duration": 1389,
    "start_time": "2023-03-06T16:00:12.803Z"
   },
   {
    "duration": 878,
    "start_time": "2023-03-06T16:00:17.985Z"
   },
   {
    "duration": 57,
    "start_time": "2023-03-06T16:01:21.765Z"
   },
   {
    "duration": 740,
    "start_time": "2023-03-06T16:02:17.233Z"
   },
   {
    "duration": 10,
    "start_time": "2023-03-06T16:04:07.541Z"
   },
   {
    "duration": 15,
    "start_time": "2023-03-06T16:04:18.836Z"
   },
   {
    "duration": 12,
    "start_time": "2023-03-06T16:04:29.881Z"
   },
   {
    "duration": 11,
    "start_time": "2023-03-06T16:04:44.186Z"
   },
   {
    "duration": 11,
    "start_time": "2023-03-06T16:05:16.601Z"
   },
   {
    "duration": 16,
    "start_time": "2023-03-06T16:05:20.669Z"
   },
   {
    "duration": 50,
    "start_time": "2023-03-06T16:05:40.293Z"
   },
   {
    "duration": 742,
    "start_time": "2023-03-06T16:05:44.014Z"
   },
   {
    "duration": 15,
    "start_time": "2023-03-06T16:06:40.316Z"
   },
   {
    "duration": 13,
    "start_time": "2023-03-06T16:06:46.766Z"
   },
   {
    "duration": 18,
    "start_time": "2023-03-06T16:08:25.817Z"
   },
   {
    "duration": 18,
    "start_time": "2023-03-06T16:08:39.679Z"
   },
   {
    "duration": 20,
    "start_time": "2023-03-06T16:08:58.024Z"
   },
   {
    "duration": 18,
    "start_time": "2023-03-06T16:09:06.061Z"
   },
   {
    "duration": 13,
    "start_time": "2023-03-06T16:09:20.791Z"
   },
   {
    "duration": 16,
    "start_time": "2023-03-06T16:09:28.478Z"
   },
   {
    "duration": 18,
    "start_time": "2023-03-06T16:09:33.807Z"
   },
   {
    "duration": 27,
    "start_time": "2023-03-06T16:10:00.911Z"
   },
   {
    "duration": 17,
    "start_time": "2023-03-06T16:13:10.873Z"
   },
   {
    "duration": 9,
    "start_time": "2023-03-06T16:13:17.010Z"
   },
   {
    "duration": 8,
    "start_time": "2023-03-06T16:13:28.695Z"
   },
   {
    "duration": 16,
    "start_time": "2023-03-06T16:13:42.737Z"
   },
   {
    "duration": 16,
    "start_time": "2023-03-06T16:13:59.496Z"
   },
   {
    "duration": 8,
    "start_time": "2023-03-06T16:14:01.838Z"
   },
   {
    "duration": 9,
    "start_time": "2023-03-06T16:18:04.537Z"
   },
   {
    "duration": 3,
    "start_time": "2023-03-06T16:18:23.662Z"
   },
   {
    "duration": 178,
    "start_time": "2023-03-06T16:18:23.667Z"
   },
   {
    "duration": 9,
    "start_time": "2023-03-06T16:18:23.847Z"
   },
   {
    "duration": 27,
    "start_time": "2023-03-06T16:18:23.857Z"
   },
   {
    "duration": 187,
    "start_time": "2023-03-06T16:18:23.886Z"
   },
   {
    "duration": 142,
    "start_time": "2023-03-06T16:18:24.075Z"
   },
   {
    "duration": 18,
    "start_time": "2023-03-06T16:18:24.219Z"
   },
   {
    "duration": 28,
    "start_time": "2023-03-06T16:18:24.240Z"
   },
   {
    "duration": 176,
    "start_time": "2023-03-06T16:18:24.270Z"
   },
   {
    "duration": 97,
    "start_time": "2023-03-06T16:18:24.448Z"
   },
   {
    "duration": 8,
    "start_time": "2023-03-06T16:18:24.548Z"
   },
   {
    "duration": 20,
    "start_time": "2023-03-06T16:18:24.558Z"
   },
   {
    "duration": 19,
    "start_time": "2023-03-06T16:18:24.580Z"
   },
   {
    "duration": 8,
    "start_time": "2023-03-06T16:18:24.601Z"
   },
   {
    "duration": 12,
    "start_time": "2023-03-06T16:18:24.631Z"
   },
   {
    "duration": 30,
    "start_time": "2023-03-06T16:18:24.644Z"
   },
   {
    "duration": 11,
    "start_time": "2023-03-06T16:18:24.676Z"
   },
   {
    "duration": 20,
    "start_time": "2023-03-06T16:18:24.689Z"
   },
   {
    "duration": 144,
    "start_time": "2023-03-06T16:18:24.710Z"
   },
   {
    "duration": 11,
    "start_time": "2023-03-06T16:18:24.855Z"
   },
   {
    "duration": 14,
    "start_time": "2023-03-06T16:18:24.867Z"
   },
   {
    "duration": 21,
    "start_time": "2023-03-06T16:18:50.521Z"
   },
   {
    "duration": 11,
    "start_time": "2023-03-06T16:20:07.044Z"
   },
   {
    "duration": 30,
    "start_time": "2023-03-06T16:22:44.424Z"
   },
   {
    "duration": 22,
    "start_time": "2023-03-06T16:23:36.109Z"
   },
   {
    "duration": 24,
    "start_time": "2023-03-06T16:24:08.107Z"
   },
   {
    "duration": 9,
    "start_time": "2023-03-06T16:25:52.937Z"
   },
   {
    "duration": 13,
    "start_time": "2023-03-06T16:25:59.721Z"
   },
   {
    "duration": 32,
    "start_time": "2023-03-06T16:27:18.516Z"
   },
   {
    "duration": 18,
    "start_time": "2023-03-06T16:27:24.188Z"
   },
   {
    "duration": 13,
    "start_time": "2023-03-06T16:27:32.212Z"
   },
   {
    "duration": 446,
    "start_time": "2023-03-09T10:10:34.187Z"
   },
   {
    "duration": 545,
    "start_time": "2023-03-09T10:10:34.635Z"
   },
   {
    "duration": 14,
    "start_time": "2023-03-09T10:10:35.182Z"
   },
   {
    "duration": 25,
    "start_time": "2023-03-09T10:10:35.198Z"
   },
   {
    "duration": 552,
    "start_time": "2023-03-09T10:10:35.225Z"
   },
   {
    "duration": 429,
    "start_time": "2023-03-09T10:10:35.779Z"
   },
   {
    "duration": 11,
    "start_time": "2023-03-09T10:10:36.210Z"
   },
   {
    "duration": 22,
    "start_time": "2023-03-09T10:10:36.222Z"
   },
   {
    "duration": 167,
    "start_time": "2023-03-09T10:10:36.246Z"
   },
   {
    "duration": 143,
    "start_time": "2023-03-09T10:10:36.422Z"
   },
   {
    "duration": 8,
    "start_time": "2023-03-09T10:10:36.567Z"
   },
   {
    "duration": 28,
    "start_time": "2023-03-09T10:10:36.577Z"
   },
   {
    "duration": 51,
    "start_time": "2023-03-09T10:10:36.607Z"
   },
   {
    "duration": 10,
    "start_time": "2023-03-09T10:10:36.660Z"
   },
   {
    "duration": 15,
    "start_time": "2023-03-09T10:10:36.672Z"
   },
   {
    "duration": 71,
    "start_time": "2023-03-09T10:10:36.689Z"
   },
   {
    "duration": 10,
    "start_time": "2023-03-09T10:10:36.762Z"
   },
   {
    "duration": 16,
    "start_time": "2023-03-09T10:10:36.774Z"
   },
   {
    "duration": 77,
    "start_time": "2023-03-09T10:10:36.792Z"
   },
   {
    "duration": 12,
    "start_time": "2023-03-09T10:10:36.870Z"
   },
   {
    "duration": 11,
    "start_time": "2023-03-09T10:10:36.883Z"
   },
   {
    "duration": 37,
    "start_time": "2023-03-09T10:10:36.896Z"
   },
   {
    "duration": 15,
    "start_time": "2023-03-09T10:10:36.935Z"
   },
   {
    "duration": 19,
    "start_time": "2023-03-09T10:10:36.952Z"
   },
   {
    "duration": 93,
    "start_time": "2023-03-09T10:10:36.973Z"
   },
   {
    "duration": 0,
    "start_time": "2023-03-09T10:10:37.069Z"
   },
   {
    "duration": 0,
    "start_time": "2023-03-09T10:10:37.070Z"
   },
   {
    "duration": 0,
    "start_time": "2023-03-09T10:10:37.072Z"
   },
   {
    "duration": 0,
    "start_time": "2023-03-09T10:10:37.072Z"
   },
   {
    "duration": 0,
    "start_time": "2023-03-09T10:10:37.074Z"
   },
   {
    "duration": 0,
    "start_time": "2023-03-09T10:10:37.075Z"
   },
   {
    "duration": 0,
    "start_time": "2023-03-09T10:10:37.076Z"
   },
   {
    "duration": 0,
    "start_time": "2023-03-09T10:10:37.077Z"
   },
   {
    "duration": 0,
    "start_time": "2023-03-09T10:10:37.079Z"
   },
   {
    "duration": 0,
    "start_time": "2023-03-09T10:10:37.080Z"
   },
   {
    "duration": 0,
    "start_time": "2023-03-09T10:10:37.081Z"
   },
   {
    "duration": 0,
    "start_time": "2023-03-09T10:10:37.083Z"
   },
   {
    "duration": 0,
    "start_time": "2023-03-09T10:10:37.084Z"
   },
   {
    "duration": 0,
    "start_time": "2023-03-09T10:10:37.086Z"
   },
   {
    "duration": 0,
    "start_time": "2023-03-09T10:10:37.087Z"
   },
   {
    "duration": 0,
    "start_time": "2023-03-09T10:10:37.088Z"
   },
   {
    "duration": 0,
    "start_time": "2023-03-09T10:10:37.121Z"
   },
   {
    "duration": 0,
    "start_time": "2023-03-09T10:10:37.123Z"
   },
   {
    "duration": 0,
    "start_time": "2023-03-09T10:10:37.125Z"
   },
   {
    "duration": 0,
    "start_time": "2023-03-09T10:10:37.126Z"
   },
   {
    "duration": 0,
    "start_time": "2023-03-09T10:10:37.127Z"
   },
   {
    "duration": 0,
    "start_time": "2023-03-09T10:10:37.129Z"
   },
   {
    "duration": 0,
    "start_time": "2023-03-09T10:10:37.130Z"
   },
   {
    "duration": 0,
    "start_time": "2023-03-09T10:10:37.132Z"
   },
   {
    "duration": 0,
    "start_time": "2023-03-09T10:10:37.133Z"
   },
   {
    "duration": 0,
    "start_time": "2023-03-09T10:10:37.135Z"
   },
   {
    "duration": 0,
    "start_time": "2023-03-09T10:10:37.136Z"
   },
   {
    "duration": 0,
    "start_time": "2023-03-09T10:10:37.137Z"
   },
   {
    "duration": 0,
    "start_time": "2023-03-09T10:10:37.139Z"
   },
   {
    "duration": 21,
    "start_time": "2023-03-09T10:11:58.936Z"
   },
   {
    "duration": 11,
    "start_time": "2023-03-09T10:12:14.224Z"
   },
   {
    "duration": 17,
    "start_time": "2023-03-09T10:16:01.426Z"
   },
   {
    "duration": 29,
    "start_time": "2023-03-09T10:16:38.960Z"
   },
   {
    "duration": 9,
    "start_time": "2023-03-09T10:21:50.258Z"
   },
   {
    "duration": 16,
    "start_time": "2023-03-09T10:21:58.632Z"
   },
   {
    "duration": 8,
    "start_time": "2023-03-09T10:22:21.307Z"
   },
   {
    "duration": 20,
    "start_time": "2023-03-09T10:23:26.043Z"
   },
   {
    "duration": 15,
    "start_time": "2023-03-09T10:23:33.598Z"
   },
   {
    "duration": 19,
    "start_time": "2023-03-09T10:24:58.517Z"
   },
   {
    "duration": 9,
    "start_time": "2023-03-09T10:25:30.035Z"
   },
   {
    "duration": 3,
    "start_time": "2023-03-09T10:25:36.605Z"
   },
   {
    "duration": 153,
    "start_time": "2023-03-09T10:25:36.609Z"
   },
   {
    "duration": 15,
    "start_time": "2023-03-09T10:25:36.763Z"
   },
   {
    "duration": 43,
    "start_time": "2023-03-09T10:25:36.781Z"
   },
   {
    "duration": 165,
    "start_time": "2023-03-09T10:25:36.826Z"
   },
   {
    "duration": 116,
    "start_time": "2023-03-09T10:25:36.992Z"
   },
   {
    "duration": 12,
    "start_time": "2023-03-09T10:25:37.109Z"
   },
   {
    "duration": 18,
    "start_time": "2023-03-09T10:25:37.122Z"
   },
   {
    "duration": 161,
    "start_time": "2023-03-09T10:25:37.143Z"
   },
   {
    "duration": 82,
    "start_time": "2023-03-09T10:25:37.306Z"
   },
   {
    "duration": 7,
    "start_time": "2023-03-09T10:25:37.390Z"
   },
   {
    "duration": 23,
    "start_time": "2023-03-09T10:25:37.398Z"
   },
   {
    "duration": 16,
    "start_time": "2023-03-09T10:25:37.423Z"
   },
   {
    "duration": 7,
    "start_time": "2023-03-09T10:25:37.441Z"
   },
   {
    "duration": 10,
    "start_time": "2023-03-09T10:25:37.450Z"
   },
   {
    "duration": 31,
    "start_time": "2023-03-09T10:25:37.461Z"
   },
   {
    "duration": 10,
    "start_time": "2023-03-09T10:25:37.494Z"
   },
   {
    "duration": 10,
    "start_time": "2023-03-09T10:25:37.505Z"
   },
   {
    "duration": 115,
    "start_time": "2023-03-09T10:25:37.517Z"
   },
   {
    "duration": 11,
    "start_time": "2023-03-09T10:25:37.634Z"
   },
   {
    "duration": 8,
    "start_time": "2023-03-09T10:25:37.647Z"
   },
   {
    "duration": 13,
    "start_time": "2023-03-09T10:27:30.934Z"
   },
   {
    "duration": 13,
    "start_time": "2023-03-09T10:27:39.626Z"
   },
   {
    "duration": 9,
    "start_time": "2023-03-09T10:28:57.511Z"
   },
   {
    "duration": 9,
    "start_time": "2023-03-09T10:31:57.180Z"
   },
   {
    "duration": 12,
    "start_time": "2023-03-09T10:33:12.113Z"
   },
   {
    "duration": 10,
    "start_time": "2023-03-09T10:33:16.170Z"
   },
   {
    "duration": 13,
    "start_time": "2023-03-09T10:33:37.114Z"
   },
   {
    "duration": 12,
    "start_time": "2023-03-09T10:34:53.888Z"
   },
   {
    "duration": 13,
    "start_time": "2023-03-09T10:34:59.209Z"
   },
   {
    "duration": 8,
    "start_time": "2023-03-09T10:35:36.926Z"
   },
   {
    "duration": 3,
    "start_time": "2023-03-09T10:36:26.006Z"
   },
   {
    "duration": 195,
    "start_time": "2023-03-09T10:36:26.011Z"
   },
   {
    "duration": 10,
    "start_time": "2023-03-09T10:36:26.207Z"
   },
   {
    "duration": 38,
    "start_time": "2023-03-09T10:36:26.221Z"
   },
   {
    "duration": 169,
    "start_time": "2023-03-09T10:36:26.261Z"
   },
   {
    "duration": 130,
    "start_time": "2023-03-09T10:36:26.431Z"
   },
   {
    "duration": 9,
    "start_time": "2023-03-09T10:36:26.562Z"
   },
   {
    "duration": 50,
    "start_time": "2023-03-09T10:36:26.573Z"
   },
   {
    "duration": 157,
    "start_time": "2023-03-09T10:36:26.625Z"
   },
   {
    "duration": 88,
    "start_time": "2023-03-09T10:36:26.783Z"
   },
   {
    "duration": 8,
    "start_time": "2023-03-09T10:36:26.872Z"
   },
   {
    "duration": 42,
    "start_time": "2023-03-09T10:36:26.881Z"
   },
   {
    "duration": 25,
    "start_time": "2023-03-09T10:36:26.925Z"
   },
   {
    "duration": 7,
    "start_time": "2023-03-09T10:36:26.953Z"
   },
   {
    "duration": 19,
    "start_time": "2023-03-09T10:36:26.962Z"
   },
   {
    "duration": 45,
    "start_time": "2023-03-09T10:36:26.983Z"
   },
   {
    "duration": 10,
    "start_time": "2023-03-09T10:36:27.029Z"
   },
   {
    "duration": 17,
    "start_time": "2023-03-09T10:36:27.041Z"
   },
   {
    "duration": 99,
    "start_time": "2023-03-09T10:36:27.060Z"
   },
   {
    "duration": 11,
    "start_time": "2023-03-09T10:36:27.161Z"
   },
   {
    "duration": 14,
    "start_time": "2023-03-09T10:36:27.174Z"
   },
   {
    "duration": 47,
    "start_time": "2023-03-09T10:36:27.190Z"
   },
   {
    "duration": 16,
    "start_time": "2023-03-09T10:36:27.238Z"
   },
   {
    "duration": 17,
    "start_time": "2023-03-09T10:36:27.256Z"
   },
   {
    "duration": 9,
    "start_time": "2023-03-09T10:36:30.141Z"
   },
   {
    "duration": 11,
    "start_time": "2023-03-09T10:36:33.410Z"
   },
   {
    "duration": 11,
    "start_time": "2023-03-09T10:36:54.809Z"
   },
   {
    "duration": 13,
    "start_time": "2023-03-09T10:37:06.274Z"
   },
   {
    "duration": 238,
    "start_time": "2023-03-09T10:37:44.884Z"
   },
   {
    "duration": 9,
    "start_time": "2023-03-09T10:38:00.122Z"
   },
   {
    "duration": 19,
    "start_time": "2023-03-09T10:38:29.707Z"
   },
   {
    "duration": 8,
    "start_time": "2023-03-09T10:38:31.574Z"
   },
   {
    "duration": 17,
    "start_time": "2023-03-09T10:41:01.363Z"
   },
   {
    "duration": 8,
    "start_time": "2023-03-09T10:41:04.850Z"
   },
   {
    "duration": 21,
    "start_time": "2023-03-09T10:41:56.630Z"
   },
   {
    "duration": 8,
    "start_time": "2023-03-09T10:41:58.802Z"
   },
   {
    "duration": 13,
    "start_time": "2023-03-09T10:44:58.795Z"
   },
   {
    "duration": 10,
    "start_time": "2023-03-09T10:45:40.580Z"
   },
   {
    "duration": 30,
    "start_time": "2023-03-09T10:46:28.987Z"
   },
   {
    "duration": 12,
    "start_time": "2023-03-09T10:46:39.129Z"
   },
   {
    "duration": 28,
    "start_time": "2023-03-09T10:46:59.384Z"
   },
   {
    "duration": 13,
    "start_time": "2023-03-09T10:47:00.213Z"
   },
   {
    "duration": 17,
    "start_time": "2023-03-09T10:47:34.715Z"
   },
   {
    "duration": 8,
    "start_time": "2023-03-09T10:47:36.122Z"
   },
   {
    "duration": 8,
    "start_time": "2023-03-09T10:48:57.176Z"
   },
   {
    "duration": 20,
    "start_time": "2023-03-09T10:50:37.106Z"
   },
   {
    "duration": 10,
    "start_time": "2023-03-09T10:50:46.426Z"
   },
   {
    "duration": 20,
    "start_time": "2023-03-09T10:51:22.376Z"
   },
   {
    "duration": 10,
    "start_time": "2023-03-09T10:51:25.728Z"
   },
   {
    "duration": 12,
    "start_time": "2023-03-09T10:53:13.605Z"
   },
   {
    "duration": 11,
    "start_time": "2023-03-09T10:53:22.410Z"
   },
   {
    "duration": 9,
    "start_time": "2023-03-09T10:54:21.109Z"
   },
   {
    "duration": 9,
    "start_time": "2023-03-09T10:55:01.874Z"
   },
   {
    "duration": 7,
    "start_time": "2023-03-09T10:55:06.938Z"
   },
   {
    "duration": 4,
    "start_time": "2023-03-09T10:56:32.041Z"
   },
   {
    "duration": 40,
    "start_time": "2023-03-09T10:59:10.806Z"
   },
   {
    "duration": 10,
    "start_time": "2023-03-09T10:59:30.684Z"
   },
   {
    "duration": 3,
    "start_time": "2023-03-09T10:59:49.254Z"
   },
   {
    "duration": 190,
    "start_time": "2023-03-09T10:59:49.259Z"
   },
   {
    "duration": 10,
    "start_time": "2023-03-09T10:59:49.450Z"
   },
   {
    "duration": 41,
    "start_time": "2023-03-09T10:59:49.462Z"
   },
   {
    "duration": 223,
    "start_time": "2023-03-09T10:59:49.506Z"
   },
   {
    "duration": 124,
    "start_time": "2023-03-09T10:59:49.731Z"
   },
   {
    "duration": 10,
    "start_time": "2023-03-09T10:59:49.857Z"
   },
   {
    "duration": 24,
    "start_time": "2023-03-09T10:59:49.868Z"
   },
   {
    "duration": 218,
    "start_time": "2023-03-09T10:59:49.894Z"
   },
   {
    "duration": 87,
    "start_time": "2023-03-09T10:59:50.113Z"
   },
   {
    "duration": 8,
    "start_time": "2023-03-09T10:59:50.202Z"
   },
   {
    "duration": 33,
    "start_time": "2023-03-09T10:59:50.212Z"
   },
   {
    "duration": 22,
    "start_time": "2023-03-09T10:59:50.247Z"
   },
   {
    "duration": 11,
    "start_time": "2023-03-09T10:59:50.273Z"
   },
   {
    "duration": 16,
    "start_time": "2023-03-09T10:59:50.287Z"
   },
   {
    "duration": 43,
    "start_time": "2023-03-09T10:59:50.306Z"
   },
   {
    "duration": 15,
    "start_time": "2023-03-09T10:59:50.352Z"
   },
   {
    "duration": 23,
    "start_time": "2023-03-09T10:59:50.369Z"
   },
   {
    "duration": 93,
    "start_time": "2023-03-09T10:59:50.394Z"
   },
   {
    "duration": 13,
    "start_time": "2023-03-09T10:59:50.489Z"
   },
   {
    "duration": 30,
    "start_time": "2023-03-09T10:59:50.507Z"
   },
   {
    "duration": 32,
    "start_time": "2023-03-09T10:59:50.539Z"
   },
   {
    "duration": 19,
    "start_time": "2023-03-09T10:59:50.573Z"
   },
   {
    "duration": 35,
    "start_time": "2023-03-09T10:59:50.594Z"
   },
   {
    "duration": 29,
    "start_time": "2023-03-09T10:59:50.630Z"
   },
   {
    "duration": 8,
    "start_time": "2023-03-09T10:59:50.661Z"
   },
   {
    "duration": 52,
    "start_time": "2023-03-09T10:59:50.671Z"
   },
   {
    "duration": 10,
    "start_time": "2023-03-09T10:59:50.725Z"
   },
   {
    "duration": 25,
    "start_time": "2023-03-09T10:59:50.740Z"
   },
   {
    "duration": 33,
    "start_time": "2023-03-09T10:59:50.767Z"
   },
   {
    "duration": 13,
    "start_time": "2023-03-09T10:59:50.803Z"
   },
   {
    "duration": 27,
    "start_time": "2023-03-09T10:59:50.818Z"
   },
   {
    "duration": 14,
    "start_time": "2023-03-09T10:59:50.848Z"
   },
   {
    "duration": 6,
    "start_time": "2023-03-09T10:59:50.864Z"
   },
   {
    "duration": 59,
    "start_time": "2023-03-09T10:59:50.873Z"
   },
   {
    "duration": 8,
    "start_time": "2023-03-09T10:59:50.934Z"
   },
   {
    "duration": 766,
    "start_time": "2023-03-09T10:59:50.943Z"
   },
   {
    "duration": 0,
    "start_time": "2023-03-09T10:59:51.711Z"
   },
   {
    "duration": 0,
    "start_time": "2023-03-09T10:59:51.712Z"
   },
   {
    "duration": 0,
    "start_time": "2023-03-09T10:59:51.713Z"
   },
   {
    "duration": 0,
    "start_time": "2023-03-09T10:59:51.714Z"
   },
   {
    "duration": 0,
    "start_time": "2023-03-09T10:59:51.715Z"
   },
   {
    "duration": 0,
    "start_time": "2023-03-09T10:59:51.716Z"
   },
   {
    "duration": 0,
    "start_time": "2023-03-09T10:59:51.718Z"
   },
   {
    "duration": 0,
    "start_time": "2023-03-09T10:59:51.719Z"
   },
   {
    "duration": 0,
    "start_time": "2023-03-09T10:59:51.721Z"
   },
   {
    "duration": 0,
    "start_time": "2023-03-09T10:59:51.722Z"
   },
   {
    "duration": 0,
    "start_time": "2023-03-09T10:59:51.724Z"
   },
   {
    "duration": 0,
    "start_time": "2023-03-09T10:59:51.726Z"
   },
   {
    "duration": 0,
    "start_time": "2023-03-09T10:59:51.727Z"
   },
   {
    "duration": 0,
    "start_time": "2023-03-09T10:59:51.729Z"
   },
   {
    "duration": 0,
    "start_time": "2023-03-09T10:59:51.730Z"
   },
   {
    "duration": 0,
    "start_time": "2023-03-09T10:59:51.732Z"
   },
   {
    "duration": 0,
    "start_time": "2023-03-09T10:59:51.733Z"
   },
   {
    "duration": 0,
    "start_time": "2023-03-09T10:59:51.734Z"
   },
   {
    "duration": 3,
    "start_time": "2023-03-09T11:00:43.317Z"
   },
   {
    "duration": 158,
    "start_time": "2023-03-09T11:00:43.322Z"
   },
   {
    "duration": 9,
    "start_time": "2023-03-09T11:00:43.482Z"
   },
   {
    "duration": 37,
    "start_time": "2023-03-09T11:00:43.492Z"
   },
   {
    "duration": 163,
    "start_time": "2023-03-09T11:00:43.531Z"
   },
   {
    "duration": 120,
    "start_time": "2023-03-09T11:00:43.695Z"
   },
   {
    "duration": 9,
    "start_time": "2023-03-09T11:00:43.817Z"
   },
   {
    "duration": 30,
    "start_time": "2023-03-09T11:00:43.828Z"
   },
   {
    "duration": 170,
    "start_time": "2023-03-09T11:00:43.859Z"
   },
   {
    "duration": 87,
    "start_time": "2023-03-09T11:00:44.031Z"
   },
   {
    "duration": 9,
    "start_time": "2023-03-09T11:00:44.123Z"
   },
   {
    "duration": 25,
    "start_time": "2023-03-09T11:00:44.134Z"
   },
   {
    "duration": 16,
    "start_time": "2023-03-09T11:00:44.161Z"
   },
   {
    "duration": 7,
    "start_time": "2023-03-09T11:00:44.179Z"
   },
   {
    "duration": 12,
    "start_time": "2023-03-09T11:00:44.188Z"
   },
   {
    "duration": 31,
    "start_time": "2023-03-09T11:00:44.201Z"
   },
   {
    "duration": 9,
    "start_time": "2023-03-09T11:00:44.234Z"
   },
   {
    "duration": 11,
    "start_time": "2023-03-09T11:00:44.245Z"
   },
   {
    "duration": 78,
    "start_time": "2023-03-09T11:00:44.258Z"
   },
   {
    "duration": 10,
    "start_time": "2023-03-09T11:00:44.337Z"
   },
   {
    "duration": 12,
    "start_time": "2023-03-09T11:00:44.349Z"
   },
   {
    "duration": 24,
    "start_time": "2023-03-09T11:00:44.363Z"
   },
   {
    "duration": 35,
    "start_time": "2023-03-09T11:00:44.389Z"
   },
   {
    "duration": 18,
    "start_time": "2023-03-09T11:00:44.425Z"
   },
   {
    "duration": 27,
    "start_time": "2023-03-09T11:00:44.445Z"
   },
   {
    "duration": 8,
    "start_time": "2023-03-09T11:00:44.474Z"
   },
   {
    "duration": 58,
    "start_time": "2023-03-09T11:00:44.484Z"
   },
   {
    "duration": 8,
    "start_time": "2023-03-09T11:00:44.544Z"
   },
   {
    "duration": 8,
    "start_time": "2023-03-09T11:00:44.555Z"
   },
   {
    "duration": 22,
    "start_time": "2023-03-09T11:00:44.565Z"
   },
   {
    "duration": 17,
    "start_time": "2023-03-09T11:00:44.589Z"
   },
   {
    "duration": 13,
    "start_time": "2023-03-09T11:00:44.621Z"
   },
   {
    "duration": 10,
    "start_time": "2023-03-09T11:00:44.635Z"
   },
   {
    "duration": 5,
    "start_time": "2023-03-09T11:00:44.646Z"
   },
   {
    "duration": 115,
    "start_time": "2023-03-09T11:00:44.652Z"
   },
   {
    "duration": 8,
    "start_time": "2023-03-09T11:00:44.768Z"
   },
   {
    "duration": 7,
    "start_time": "2023-03-09T11:00:44.777Z"
   },
   {
    "duration": 4,
    "start_time": "2023-03-09T11:00:44.786Z"
   },
   {
    "duration": 11,
    "start_time": "2023-03-09T11:00:44.792Z"
   },
   {
    "duration": 11,
    "start_time": "2023-03-09T11:00:44.822Z"
   },
   {
    "duration": 5,
    "start_time": "2023-03-09T11:00:44.835Z"
   },
   {
    "duration": 33,
    "start_time": "2023-03-09T11:00:44.842Z"
   },
   {
    "duration": 6,
    "start_time": "2023-03-09T11:00:44.876Z"
   },
   {
    "duration": 54,
    "start_time": "2023-03-09T11:00:44.884Z"
   },
   {
    "duration": 799,
    "start_time": "2023-03-09T11:00:44.939Z"
   },
   {
    "duration": 261,
    "start_time": "2023-03-09T11:00:45.739Z"
   },
   {
    "duration": 383,
    "start_time": "2023-03-09T11:00:46.001Z"
   },
   {
    "duration": 226,
    "start_time": "2023-03-09T11:00:46.386Z"
   },
   {
    "duration": 265,
    "start_time": "2023-03-09T11:00:46.613Z"
   },
   {
    "duration": 215,
    "start_time": "2023-03-09T11:00:46.880Z"
   },
   {
    "duration": 314,
    "start_time": "2023-03-09T11:00:47.097Z"
   },
   {
    "duration": 220,
    "start_time": "2023-03-09T11:00:47.412Z"
   },
   {
    "duration": 2,
    "start_time": "2023-03-09T11:00:47.634Z"
   },
   {
    "duration": 4,
    "start_time": "2023-03-09T11:00:47.638Z"
   },
   {
    "duration": 5,
    "start_time": "2023-03-09T11:00:47.644Z"
   },
   {
    "duration": 28,
    "start_time": "2023-03-09T11:02:33.470Z"
   },
   {
    "duration": 51,
    "start_time": "2023-03-09T11:03:18.742Z"
   },
   {
    "duration": 37,
    "start_time": "2023-03-09T11:03:26.437Z"
   },
   {
    "duration": 5,
    "start_time": "2023-03-09T11:04:20.226Z"
   },
   {
    "duration": 226,
    "start_time": "2023-03-09T11:04:20.234Z"
   },
   {
    "duration": 12,
    "start_time": "2023-03-09T11:04:20.462Z"
   },
   {
    "duration": 39,
    "start_time": "2023-03-09T11:04:20.477Z"
   },
   {
    "duration": 263,
    "start_time": "2023-03-09T11:04:20.522Z"
   },
   {
    "duration": 135,
    "start_time": "2023-03-09T11:04:20.787Z"
   },
   {
    "duration": 8,
    "start_time": "2023-03-09T11:04:20.924Z"
   },
   {
    "duration": 31,
    "start_time": "2023-03-09T11:04:20.934Z"
   },
   {
    "duration": 165,
    "start_time": "2023-03-09T11:04:20.967Z"
   },
   {
    "duration": 86,
    "start_time": "2023-03-09T11:04:21.133Z"
   },
   {
    "duration": 7,
    "start_time": "2023-03-09T11:04:21.220Z"
   },
   {
    "duration": 27,
    "start_time": "2023-03-09T11:04:21.229Z"
   },
   {
    "duration": 36,
    "start_time": "2023-03-09T11:04:21.258Z"
   },
   {
    "duration": 10,
    "start_time": "2023-03-09T11:04:21.297Z"
   },
   {
    "duration": 14,
    "start_time": "2023-03-09T11:04:21.309Z"
   },
   {
    "duration": 36,
    "start_time": "2023-03-09T11:04:21.324Z"
   },
   {
    "duration": 10,
    "start_time": "2023-03-09T11:04:21.361Z"
   },
   {
    "duration": 17,
    "start_time": "2023-03-09T11:04:21.373Z"
   },
   {
    "duration": 68,
    "start_time": "2023-03-09T11:04:21.392Z"
   },
   {
    "duration": 10,
    "start_time": "2023-03-09T11:04:21.462Z"
   },
   {
    "duration": 35,
    "start_time": "2023-03-09T11:04:21.473Z"
   },
   {
    "duration": 23,
    "start_time": "2023-03-09T11:04:21.510Z"
   },
   {
    "duration": 15,
    "start_time": "2023-03-09T11:04:21.534Z"
   },
   {
    "duration": 17,
    "start_time": "2023-03-09T11:04:21.552Z"
   },
   {
    "duration": 28,
    "start_time": "2023-03-09T11:04:21.571Z"
   },
   {
    "duration": 26,
    "start_time": "2023-03-09T11:04:21.600Z"
   },
   {
    "duration": 30,
    "start_time": "2023-03-09T11:04:21.628Z"
   },
   {
    "duration": 8,
    "start_time": "2023-03-09T11:04:21.660Z"
   },
   {
    "duration": 8,
    "start_time": "2023-03-09T11:04:21.670Z"
   },
   {
    "duration": 28,
    "start_time": "2023-03-09T11:04:21.680Z"
   },
   {
    "duration": 9,
    "start_time": "2023-03-09T11:04:21.720Z"
   },
   {
    "duration": 16,
    "start_time": "2023-03-09T11:04:21.730Z"
   },
   {
    "duration": 9,
    "start_time": "2023-03-09T11:04:21.748Z"
   },
   {
    "duration": 6,
    "start_time": "2023-03-09T11:04:21.758Z"
   },
   {
    "duration": 60,
    "start_time": "2023-03-09T11:04:21.766Z"
   },
   {
    "duration": 11,
    "start_time": "2023-03-09T11:04:21.829Z"
   },
   {
    "duration": 6,
    "start_time": "2023-03-09T11:04:21.842Z"
   },
   {
    "duration": 14,
    "start_time": "2023-03-09T11:04:21.850Z"
   },
   {
    "duration": 40,
    "start_time": "2023-03-09T11:04:21.866Z"
   },
   {
    "duration": 80,
    "start_time": "2023-03-09T13:32:22.009Z"
   },
   {
    "duration": 36,
    "start_time": "2023-03-09T13:32:59.978Z"
   },
   {
    "duration": 27,
    "start_time": "2023-03-09T13:33:40.819Z"
   },
   {
    "duration": 1286,
    "start_time": "2023-03-09T13:34:16.696Z"
   },
   {
    "duration": 2,
    "start_time": "2023-03-09T13:34:35.902Z"
   },
   {
    "duration": 23,
    "start_time": "2023-03-09T13:36:28.454Z"
   },
   {
    "duration": 9,
    "start_time": "2023-03-09T13:37:50.095Z"
   },
   {
    "duration": 11,
    "start_time": "2023-03-09T13:37:50.107Z"
   },
   {
    "duration": 19,
    "start_time": "2023-03-09T13:37:50.120Z"
   },
   {
    "duration": 7,
    "start_time": "2023-03-09T13:37:50.141Z"
   },
   {
    "duration": 60,
    "start_time": "2023-03-09T13:37:50.153Z"
   },
   {
    "duration": 396,
    "start_time": "2023-03-09T13:37:50.215Z"
   },
   {
    "duration": 356,
    "start_time": "2023-03-09T13:37:50.612Z"
   },
   {
    "duration": 377,
    "start_time": "2023-03-09T13:37:50.972Z"
   },
   {
    "duration": 354,
    "start_time": "2023-03-09T13:37:51.357Z"
   },
   {
    "duration": 324,
    "start_time": "2023-03-09T13:37:51.712Z"
   },
   {
    "duration": 235,
    "start_time": "2023-03-09T13:37:52.037Z"
   },
   {
    "duration": 354,
    "start_time": "2023-03-09T13:37:52.274Z"
   },
   {
    "duration": 256,
    "start_time": "2023-03-09T13:37:52.634Z"
   },
   {
    "duration": 23,
    "start_time": "2023-03-09T13:37:52.892Z"
   },
   {
    "duration": 71,
    "start_time": "2023-03-09T13:37:52.924Z"
   },
   {
    "duration": 0,
    "start_time": "2023-03-09T13:37:52.997Z"
   },
   {
    "duration": 0,
    "start_time": "2023-03-09T13:37:52.998Z"
   },
   {
    "duration": 0,
    "start_time": "2023-03-09T13:37:52.999Z"
   },
   {
    "duration": 3,
    "start_time": "2023-03-09T13:39:17.169Z"
   },
   {
    "duration": 68,
    "start_time": "2023-03-09T13:39:17.174Z"
   },
   {
    "duration": 0,
    "start_time": "2023-03-09T13:39:17.253Z"
   },
   {
    "duration": 9,
    "start_time": "2023-03-09T13:39:53.208Z"
   },
   {
    "duration": 8,
    "start_time": "2023-03-09T13:40:08.502Z"
   },
   {
    "duration": 56,
    "start_time": "2023-03-09T13:43:19.958Z"
   },
   {
    "duration": 19,
    "start_time": "2023-03-09T13:43:27.527Z"
   },
   {
    "duration": 90,
    "start_time": "2023-03-09T13:45:22.291Z"
   },
   {
    "duration": 11,
    "start_time": "2023-03-09T13:45:27.343Z"
   },
   {
    "duration": 13,
    "start_time": "2023-03-09T13:46:22.702Z"
   },
   {
    "duration": 12,
    "start_time": "2023-03-09T13:46:44.054Z"
   },
   {
    "duration": 9,
    "start_time": "2023-03-09T13:47:18.496Z"
   },
   {
    "duration": 11,
    "start_time": "2023-03-09T13:50:47.214Z"
   },
   {
    "duration": 10,
    "start_time": "2023-03-09T13:53:06.458Z"
   },
   {
    "duration": 12,
    "start_time": "2023-03-09T13:53:46.098Z"
   },
   {
    "duration": 415,
    "start_time": "2023-08-26T21:20:34.713Z"
   },
   {
    "duration": 234,
    "start_time": "2023-08-26T21:20:35.130Z"
   },
   {
    "duration": 14,
    "start_time": "2023-08-26T21:20:35.365Z"
   },
   {
    "duration": 33,
    "start_time": "2023-08-26T21:20:35.381Z"
   },
   {
    "duration": 378,
    "start_time": "2023-08-26T21:20:35.417Z"
   },
   {
    "duration": 326,
    "start_time": "2023-08-26T21:20:35.797Z"
   },
   {
    "duration": 12,
    "start_time": "2023-08-26T21:20:36.125Z"
   },
   {
    "duration": 27,
    "start_time": "2023-08-26T21:20:36.139Z"
   },
   {
    "duration": 146,
    "start_time": "2023-08-26T21:20:36.167Z"
   },
   {
    "duration": 340,
    "start_time": "2023-08-26T21:20:36.314Z"
   },
   {
    "duration": 6,
    "start_time": "2023-08-26T21:20:36.656Z"
   },
   {
    "duration": 30,
    "start_time": "2023-08-26T21:20:36.664Z"
   },
   {
    "duration": 60,
    "start_time": "2023-08-26T21:20:36.696Z"
   },
   {
    "duration": 8,
    "start_time": "2023-08-26T21:20:36.759Z"
   },
   {
    "duration": 18,
    "start_time": "2023-08-26T21:20:36.768Z"
   },
   {
    "duration": 73,
    "start_time": "2023-08-26T21:20:36.787Z"
   },
   {
    "duration": 10,
    "start_time": "2023-08-26T21:20:36.861Z"
   },
   {
    "duration": 33,
    "start_time": "2023-08-26T21:20:36.872Z"
   },
   {
    "duration": 94,
    "start_time": "2023-08-26T21:20:36.906Z"
   },
   {
    "duration": 13,
    "start_time": "2023-08-26T21:20:37.002Z"
   },
   {
    "duration": 32,
    "start_time": "2023-08-26T21:20:37.017Z"
   },
   {
    "duration": 26,
    "start_time": "2023-08-26T21:20:37.050Z"
   },
   {
    "duration": 14,
    "start_time": "2023-08-26T21:20:37.078Z"
   },
   {
    "duration": 17,
    "start_time": "2023-08-26T21:20:37.093Z"
   },
   {
    "duration": 47,
    "start_time": "2023-08-26T21:20:37.112Z"
   },
   {
    "duration": 8,
    "start_time": "2023-08-26T21:20:37.161Z"
   },
   {
    "duration": 26,
    "start_time": "2023-08-26T21:20:37.171Z"
   },
   {
    "duration": 9,
    "start_time": "2023-08-26T21:20:37.198Z"
   },
   {
    "duration": 43,
    "start_time": "2023-08-26T21:20:37.208Z"
   },
   {
    "duration": 19,
    "start_time": "2023-08-26T21:20:37.253Z"
   },
   {
    "duration": 7,
    "start_time": "2023-08-26T21:20:37.274Z"
   },
   {
    "duration": 25,
    "start_time": "2023-08-26T21:20:37.283Z"
   },
   {
    "duration": 9,
    "start_time": "2023-08-26T21:20:37.310Z"
   },
   {
    "duration": 15,
    "start_time": "2023-08-26T21:20:37.320Z"
   },
   {
    "duration": 39,
    "start_time": "2023-08-26T21:20:37.337Z"
   },
   {
    "duration": 9,
    "start_time": "2023-08-26T21:20:37.378Z"
   },
   {
    "duration": 11,
    "start_time": "2023-08-26T21:20:37.388Z"
   },
   {
    "duration": 12,
    "start_time": "2023-08-26T21:20:37.400Z"
   },
   {
    "duration": 35,
    "start_time": "2023-08-26T21:20:37.413Z"
   },
   {
    "duration": 8,
    "start_time": "2023-08-26T21:20:37.450Z"
   },
   {
    "duration": 4,
    "start_time": "2023-08-26T21:20:37.462Z"
   },
   {
    "duration": 10,
    "start_time": "2023-08-26T21:20:37.467Z"
   },
   {
    "duration": 22,
    "start_time": "2023-08-26T21:20:37.478Z"
   },
   {
    "duration": 22,
    "start_time": "2023-08-26T21:20:50.677Z"
   },
   {
    "duration": 17,
    "start_time": "2023-08-26T21:21:00.853Z"
   },
   {
    "duration": 20,
    "start_time": "2023-08-26T21:21:04.546Z"
   },
   {
    "duration": 70,
    "start_time": "2023-08-26T21:22:05.589Z"
   },
   {
    "duration": 142,
    "start_time": "2023-08-26T21:22:21.009Z"
   },
   {
    "duration": 529,
    "start_time": "2023-08-26T21:22:44.369Z"
   },
   {
    "duration": 121,
    "start_time": "2023-08-26T21:23:02.446Z"
   },
   {
    "duration": 8,
    "start_time": "2023-08-26T21:23:06.686Z"
   },
   {
    "duration": 29,
    "start_time": "2023-08-26T21:23:18.717Z"
   },
   {
    "duration": 23,
    "start_time": "2023-08-26T21:24:28.429Z"
   },
   {
    "duration": 169,
    "start_time": "2023-08-26T21:25:38.781Z"
   },
   {
    "duration": 31,
    "start_time": "2023-08-26T21:26:05.869Z"
   },
   {
    "duration": 370,
    "start_time": "2023-08-26T21:26:27.367Z"
   },
   {
    "duration": 101,
    "start_time": "2023-08-26T21:26:38.050Z"
   },
   {
    "duration": 13,
    "start_time": "2023-08-26T21:27:06.770Z"
   },
   {
    "duration": 15,
    "start_time": "2023-08-26T21:27:24.867Z"
   },
   {
    "duration": 11,
    "start_time": "2023-08-26T21:27:29.176Z"
   },
   {
    "duration": 11,
    "start_time": "2023-08-26T21:27:38.967Z"
   },
   {
    "duration": 11,
    "start_time": "2023-08-26T21:27:59.191Z"
   },
   {
    "duration": 2,
    "start_time": "2023-08-26T21:30:38.269Z"
   },
   {
    "duration": 188,
    "start_time": "2023-08-26T21:31:44.440Z"
   },
   {
    "duration": 8,
    "start_time": "2023-08-26T21:32:00.190Z"
   },
   {
    "duration": 20,
    "start_time": "2023-08-26T21:34:12.528Z"
   },
   {
    "duration": 10,
    "start_time": "2023-08-26T21:34:36.603Z"
   },
   {
    "duration": 15,
    "start_time": "2023-08-26T21:34:40.746Z"
   },
   {
    "duration": 107,
    "start_time": "2023-08-26T21:35:17.872Z"
   },
   {
    "duration": 9,
    "start_time": "2023-08-26T21:35:39.402Z"
   },
   {
    "duration": 12,
    "start_time": "2023-08-26T21:36:47.503Z"
   },
   {
    "duration": 102,
    "start_time": "2023-08-26T21:36:55.561Z"
   },
   {
    "duration": 107,
    "start_time": "2023-08-26T21:37:04.089Z"
   },
   {
    "duration": 88,
    "start_time": "2023-08-26T21:37:14.520Z"
   },
   {
    "duration": 104,
    "start_time": "2023-08-26T21:37:26.623Z"
   },
   {
    "duration": 12,
    "start_time": "2023-08-26T21:37:41.581Z"
   },
   {
    "duration": 12,
    "start_time": "2023-08-26T21:38:36.577Z"
   },
   {
    "duration": 106,
    "start_time": "2023-08-26T21:38:47.518Z"
   },
   {
    "duration": 105,
    "start_time": "2023-08-26T21:39:58.659Z"
   },
   {
    "duration": 105,
    "start_time": "2023-08-26T21:40:12.049Z"
   },
   {
    "duration": 8,
    "start_time": "2023-08-26T21:41:46.954Z"
   },
   {
    "duration": 8,
    "start_time": "2023-08-26T21:42:03.969Z"
   },
   {
    "duration": 18,
    "start_time": "2023-08-26T21:43:35.909Z"
   },
   {
    "duration": 2009,
    "start_time": "2023-08-26T21:43:44.121Z"
   },
   {
    "duration": 113,
    "start_time": "2023-08-26T21:44:01.505Z"
   },
   {
    "duration": 146,
    "start_time": "2023-08-26T21:44:14.729Z"
   },
   {
    "duration": 143,
    "start_time": "2023-08-26T21:44:33.560Z"
   },
   {
    "duration": 140,
    "start_time": "2023-08-26T21:44:38.610Z"
   },
   {
    "duration": 264,
    "start_time": "2023-08-26T21:45:03.812Z"
   },
   {
    "duration": 151,
    "start_time": "2023-08-26T21:45:11.169Z"
   },
   {
    "duration": 155,
    "start_time": "2023-08-26T21:45:28.094Z"
   },
   {
    "duration": 168,
    "start_time": "2023-08-26T21:45:43.302Z"
   },
   {
    "duration": 154,
    "start_time": "2023-08-26T21:45:48.875Z"
   },
   {
    "duration": 133,
    "start_time": "2023-08-26T21:45:53.228Z"
   },
   {
    "duration": 120,
    "start_time": "2023-08-26T21:46:38.678Z"
   },
   {
    "duration": 19,
    "start_time": "2023-08-26T21:48:23.558Z"
   },
   {
    "duration": 8,
    "start_time": "2023-08-26T21:49:23.076Z"
   },
   {
    "duration": 7,
    "start_time": "2023-08-26T21:49:28.062Z"
   },
   {
    "duration": 7,
    "start_time": "2023-08-26T21:51:45.523Z"
   },
   {
    "duration": 7,
    "start_time": "2023-08-26T21:51:53.790Z"
   },
   {
    "duration": 5,
    "start_time": "2023-08-26T21:53:39.483Z"
   },
   {
    "duration": 6,
    "start_time": "2023-08-26T21:53:39.861Z"
   },
   {
    "duration": 3,
    "start_time": "2023-08-26T21:53:40.277Z"
   },
   {
    "duration": 3,
    "start_time": "2023-08-26T21:53:56.204Z"
   },
   {
    "duration": 11,
    "start_time": "2023-08-26T21:56:24.458Z"
   },
   {
    "duration": 115,
    "start_time": "2023-08-26T21:56:34.972Z"
   },
   {
    "duration": 187,
    "start_time": "2023-08-26T21:57:20.579Z"
   },
   {
    "duration": 221,
    "start_time": "2023-08-26T21:57:54.330Z"
   },
   {
    "duration": 318,
    "start_time": "2023-08-26T21:58:05.880Z"
   },
   {
    "duration": 112,
    "start_time": "2023-08-26T21:59:10.000Z"
   },
   {
    "duration": 133,
    "start_time": "2023-08-26T21:59:15.960Z"
   },
   {
    "duration": 123,
    "start_time": "2023-08-26T22:00:02.414Z"
   },
   {
    "duration": 7,
    "start_time": "2023-08-26T22:00:23.519Z"
   },
   {
    "duration": 7,
    "start_time": "2023-08-26T22:00:40.999Z"
   },
   {
    "duration": 124,
    "start_time": "2023-08-26T22:00:56.260Z"
   },
   {
    "duration": 125,
    "start_time": "2023-08-26T22:01:24.959Z"
   },
   {
    "duration": 189,
    "start_time": "2023-08-26T22:01:43.780Z"
   },
   {
    "duration": 231,
    "start_time": "2023-08-26T22:01:47.380Z"
   },
   {
    "duration": 146,
    "start_time": "2023-08-26T22:02:31.401Z"
   },
   {
    "duration": 121,
    "start_time": "2023-08-26T22:02:34.439Z"
   },
   {
    "duration": 122,
    "start_time": "2023-08-26T22:03:41.778Z"
   },
   {
    "duration": 126,
    "start_time": "2023-08-26T22:04:00.402Z"
   },
   {
    "duration": 139,
    "start_time": "2023-08-26T22:04:39.900Z"
   },
   {
    "duration": 141,
    "start_time": "2023-08-26T22:05:14.966Z"
   },
   {
    "duration": 144,
    "start_time": "2023-08-26T22:05:34.012Z"
   },
   {
    "duration": 8,
    "start_time": "2023-08-26T22:05:44.158Z"
   },
   {
    "duration": 7,
    "start_time": "2023-08-26T22:05:56.048Z"
   },
   {
    "duration": 6,
    "start_time": "2023-08-26T22:06:28.708Z"
   },
   {
    "duration": 152,
    "start_time": "2023-08-26T22:06:45.966Z"
   },
   {
    "duration": 103,
    "start_time": "2023-08-26T22:07:21.436Z"
   },
   {
    "duration": 138,
    "start_time": "2023-08-26T22:08:06.470Z"
   },
   {
    "duration": 139,
    "start_time": "2023-08-26T22:08:35.663Z"
   },
   {
    "duration": 128,
    "start_time": "2023-08-26T22:09:06.486Z"
   },
   {
    "duration": 167,
    "start_time": "2023-08-26T22:09:13.510Z"
   },
   {
    "duration": 149,
    "start_time": "2023-08-26T22:10:32.296Z"
   },
   {
    "duration": 102,
    "start_time": "2023-08-26T22:11:21.268Z"
   },
   {
    "duration": 123,
    "start_time": "2023-08-26T22:12:19.769Z"
   },
   {
    "duration": 123,
    "start_time": "2023-08-26T22:12:27.972Z"
   },
   {
    "duration": 114,
    "start_time": "2023-08-26T22:13:06.310Z"
   },
   {
    "duration": 127,
    "start_time": "2023-08-26T22:13:21.534Z"
   },
   {
    "duration": 115,
    "start_time": "2023-08-26T22:16:22.925Z"
   },
   {
    "duration": 95,
    "start_time": "2023-08-26T22:16:37.636Z"
   },
   {
    "duration": 119,
    "start_time": "2023-08-26T22:16:42.185Z"
   },
   {
    "duration": 113,
    "start_time": "2023-08-26T22:17:16.939Z"
   },
   {
    "duration": 243,
    "start_time": "2023-08-26T22:18:21.457Z"
   },
   {
    "duration": 123,
    "start_time": "2023-08-26T22:18:49.726Z"
   },
   {
    "duration": 136,
    "start_time": "2023-08-26T22:19:42.026Z"
   },
   {
    "duration": 132,
    "start_time": "2023-08-26T22:19:58.326Z"
   },
   {
    "duration": 8,
    "start_time": "2023-08-26T22:23:06.028Z"
   },
   {
    "duration": 129,
    "start_time": "2023-08-26T22:24:24.233Z"
   },
   {
    "duration": 6,
    "start_time": "2023-08-26T22:24:28.693Z"
   },
   {
    "duration": 130,
    "start_time": "2023-08-26T22:25:03.333Z"
   },
   {
    "duration": 4,
    "start_time": "2023-08-26T22:25:18.241Z"
   },
   {
    "duration": 8,
    "start_time": "2023-08-26T22:25:37.581Z"
   },
   {
    "duration": 6,
    "start_time": "2023-08-26T22:25:59.542Z"
   },
   {
    "duration": 1759,
    "start_time": "2023-08-27T17:35:44.000Z"
   },
   {
    "duration": 4,
    "start_time": "2023-08-27T17:38:02.941Z"
   },
   {
    "duration": 563,
    "start_time": "2023-08-27T17:38:02.951Z"
   },
   {
    "duration": 16,
    "start_time": "2023-08-27T17:38:03.518Z"
   },
   {
    "duration": 49,
    "start_time": "2023-08-27T17:38:03.537Z"
   },
   {
    "duration": 242,
    "start_time": "2023-08-27T17:38:03.589Z"
   },
   {
    "duration": 488,
    "start_time": "2023-08-27T17:38:03.834Z"
   },
   {
    "duration": 13,
    "start_time": "2023-08-27T17:38:04.324Z"
   },
   {
    "duration": 46,
    "start_time": "2023-08-27T17:38:04.339Z"
   },
   {
    "duration": 235,
    "start_time": "2023-08-27T17:38:04.388Z"
   },
   {
    "duration": 169,
    "start_time": "2023-08-27T17:38:04.626Z"
   },
   {
    "duration": 8,
    "start_time": "2023-08-27T17:38:04.798Z"
   },
   {
    "duration": 29,
    "start_time": "2023-08-27T17:38:04.808Z"
   },
   {
    "duration": 51,
    "start_time": "2023-08-27T17:38:04.839Z"
   },
   {
    "duration": 10,
    "start_time": "2023-08-27T17:38:04.891Z"
   },
   {
    "duration": 14,
    "start_time": "2023-08-27T17:38:04.903Z"
   },
   {
    "duration": 76,
    "start_time": "2023-08-27T17:38:04.919Z"
   },
   {
    "duration": 14,
    "start_time": "2023-08-27T17:38:04.997Z"
   },
   {
    "duration": 18,
    "start_time": "2023-08-27T17:38:05.013Z"
   },
   {
    "duration": 94,
    "start_time": "2023-08-27T17:38:05.033Z"
   },
   {
    "duration": 12,
    "start_time": "2023-08-27T17:38:05.129Z"
   },
   {
    "duration": 60,
    "start_time": "2023-08-27T17:38:05.143Z"
   },
   {
    "duration": 126,
    "start_time": "2023-08-27T17:38:05.205Z"
   },
   {
    "duration": 62,
    "start_time": "2023-08-27T17:38:05.333Z"
   },
   {
    "duration": 81,
    "start_time": "2023-08-27T17:38:05.397Z"
   },
   {
    "duration": 46,
    "start_time": "2023-08-27T17:38:05.480Z"
   },
   {
    "duration": 11,
    "start_time": "2023-08-27T17:38:05.528Z"
   },
   {
    "duration": 28,
    "start_time": "2023-08-27T17:38:05.560Z"
   },
   {
    "duration": 9,
    "start_time": "2023-08-27T17:38:05.590Z"
   },
   {
    "duration": 20,
    "start_time": "2023-08-27T17:38:05.604Z"
   },
   {
    "duration": 46,
    "start_time": "2023-08-27T17:38:05.626Z"
   },
   {
    "duration": 11,
    "start_time": "2023-08-27T17:38:05.674Z"
   },
   {
    "duration": 25,
    "start_time": "2023-08-27T17:38:05.686Z"
   },
   {
    "duration": 10,
    "start_time": "2023-08-27T17:38:05.713Z"
   },
   {
    "duration": 33,
    "start_time": "2023-08-27T17:38:05.725Z"
   },
   {
    "duration": 41,
    "start_time": "2023-08-27T17:38:05.760Z"
   },
   {
    "duration": 10,
    "start_time": "2023-08-27T17:38:05.803Z"
   },
   {
    "duration": 6,
    "start_time": "2023-08-27T17:38:05.815Z"
   },
   {
    "duration": 8,
    "start_time": "2023-08-27T17:38:05.823Z"
   },
   {
    "duration": 31,
    "start_time": "2023-08-27T17:38:05.860Z"
   },
   {
    "duration": 12,
    "start_time": "2023-08-27T17:38:05.893Z"
   },
   {
    "duration": 5,
    "start_time": "2023-08-27T17:38:05.907Z"
   },
   {
    "duration": 10,
    "start_time": "2023-08-27T17:38:05.914Z"
   },
   {
    "duration": 37,
    "start_time": "2023-08-27T17:38:05.925Z"
   },
   {
    "duration": 36,
    "start_time": "2023-08-27T17:38:05.964Z"
   },
   {
    "duration": 16,
    "start_time": "2023-08-27T17:38:06.001Z"
   },
   {
    "duration": 8,
    "start_time": "2023-08-27T17:38:06.018Z"
   },
   {
    "duration": 23,
    "start_time": "2023-08-27T17:38:06.028Z"
   },
   {
    "duration": 227,
    "start_time": "2023-08-27T17:38:06.054Z"
   },
   {
    "duration": 54,
    "start_time": "2023-08-27T17:38:06.283Z"
   },
   {
    "duration": 367,
    "start_time": "2023-08-27T17:38:06.339Z"
   },
   {
    "duration": 392,
    "start_time": "2023-08-27T17:38:06.708Z"
   },
   {
    "duration": 349,
    "start_time": "2023-08-27T17:38:07.102Z"
   },
   {
    "duration": 302,
    "start_time": "2023-08-27T17:38:07.453Z"
   },
   {
    "duration": 292,
    "start_time": "2023-08-27T17:38:07.760Z"
   },
   {
    "duration": 226,
    "start_time": "2023-08-27T17:38:08.058Z"
   },
   {
    "duration": 338,
    "start_time": "2023-08-27T17:38:08.286Z"
   },
   {
    "duration": 378,
    "start_time": "2023-08-27T17:38:08.626Z"
   },
   {
    "duration": 35,
    "start_time": "2023-08-27T17:38:09.006Z"
   },
   {
    "duration": 27,
    "start_time": "2023-08-27T17:38:09.043Z"
   },
   {
    "duration": 17,
    "start_time": "2023-08-27T17:38:09.072Z"
   },
   {
    "duration": 377,
    "start_time": "2023-08-27T17:39:21.995Z"
   },
   {
    "duration": 398,
    "start_time": "2023-08-27T17:39:34.290Z"
   },
   {
    "duration": 143,
    "start_time": "2023-08-27T17:40:16.197Z"
   },
   {
    "duration": 237,
    "start_time": "2023-08-27T17:40:26.266Z"
   },
   {
    "duration": 154,
    "start_time": "2023-08-27T17:41:36.210Z"
   },
   {
    "duration": 155,
    "start_time": "2023-08-27T17:41:48.594Z"
   },
   {
    "duration": 404,
    "start_time": "2023-08-27T17:42:18.288Z"
   },
   {
    "duration": 593,
    "start_time": "2023-08-27T17:42:51.987Z"
   },
   {
    "duration": 186,
    "start_time": "2023-08-27T17:43:14.182Z"
   },
   {
    "duration": 286,
    "start_time": "2023-08-27T17:43:25.234Z"
   },
   {
    "duration": 11,
    "start_time": "2023-08-27T17:44:38.486Z"
   },
   {
    "duration": 13,
    "start_time": "2023-08-27T17:44:57.035Z"
   },
   {
    "duration": 242,
    "start_time": "2023-08-27T17:47:37.898Z"
   },
   {
    "duration": 221,
    "start_time": "2023-08-27T17:47:54.600Z"
   },
   {
    "duration": 266,
    "start_time": "2023-08-27T17:48:06.101Z"
   },
   {
    "duration": 136,
    "start_time": "2023-08-27T17:50:35.440Z"
   },
   {
    "duration": 262,
    "start_time": "2023-08-27T17:50:56.116Z"
   },
   {
    "duration": 138,
    "start_time": "2023-08-27T17:51:06.145Z"
   },
   {
    "duration": 133,
    "start_time": "2023-08-27T17:51:15.700Z"
   },
   {
    "duration": 216,
    "start_time": "2023-08-27T17:51:59.688Z"
   },
   {
    "duration": 265,
    "start_time": "2023-08-27T17:52:13.688Z"
   },
   {
    "duration": 373,
    "start_time": "2023-08-27T17:52:33.837Z"
   },
   {
    "duration": 302,
    "start_time": "2023-08-27T17:52:49.696Z"
   },
   {
    "duration": 470,
    "start_time": "2023-08-27T17:53:01.799Z"
   },
   {
    "duration": 116,
    "start_time": "2023-08-27T17:53:20.406Z"
   },
   {
    "duration": 323,
    "start_time": "2023-08-27T17:53:34.393Z"
   },
   {
    "duration": 22,
    "start_time": "2023-08-27T17:53:50.233Z"
   },
   {
    "duration": 365,
    "start_time": "2023-08-27T17:53:59.056Z"
   },
   {
    "duration": 324,
    "start_time": "2023-08-27T17:54:04.516Z"
   },
   {
    "duration": 248,
    "start_time": "2023-08-27T18:05:16.689Z"
   },
   {
    "duration": 494,
    "start_time": "2023-08-27T18:06:03.128Z"
   },
   {
    "duration": 381,
    "start_time": "2023-08-27T18:06:46.595Z"
   },
   {
    "duration": 357,
    "start_time": "2023-08-27T18:13:32.617Z"
   },
   {
    "duration": 348,
    "start_time": "2023-08-27T18:14:31.626Z"
   },
   {
    "duration": 282,
    "start_time": "2023-08-27T18:16:57.577Z"
   },
   {
    "duration": 376,
    "start_time": "2023-08-27T18:17:07.726Z"
   },
   {
    "duration": 526,
    "start_time": "2023-08-27T18:17:10.958Z"
   },
   {
    "duration": 470,
    "start_time": "2023-08-27T18:18:24.207Z"
   },
   {
    "duration": 462,
    "start_time": "2023-08-27T18:19:10.707Z"
   },
   {
    "duration": 501,
    "start_time": "2023-08-27T18:19:23.641Z"
   },
   {
    "duration": 445,
    "start_time": "2023-08-27T18:19:36.003Z"
   },
   {
    "duration": 580,
    "start_time": "2023-08-27T18:19:45.476Z"
   },
   {
    "duration": 396,
    "start_time": "2023-08-27T18:20:42.129Z"
   },
   {
    "duration": 353,
    "start_time": "2023-08-27T18:21:13.423Z"
   },
   {
    "duration": 504,
    "start_time": "2023-08-27T18:22:00.145Z"
   },
   {
    "duration": 531,
    "start_time": "2023-08-27T18:22:47.545Z"
   },
   {
    "duration": 261,
    "start_time": "2023-08-27T18:24:16.031Z"
   },
   {
    "duration": 381,
    "start_time": "2023-08-27T18:24:31.915Z"
   },
   {
    "duration": 3,
    "start_time": "2023-08-27T18:24:40.592Z"
   },
   {
    "duration": 321,
    "start_time": "2023-08-27T18:24:40.598Z"
   },
   {
    "duration": 14,
    "start_time": "2023-08-27T18:24:40.922Z"
   },
   {
    "duration": 136,
    "start_time": "2023-08-27T18:24:40.938Z"
   },
   {
    "duration": 220,
    "start_time": "2023-08-27T18:24:41.086Z"
   },
   {
    "duration": 159,
    "start_time": "2023-08-27T18:24:41.308Z"
   },
   {
    "duration": 20,
    "start_time": "2023-08-27T18:24:41.469Z"
   },
   {
    "duration": 45,
    "start_time": "2023-08-27T18:24:41.491Z"
   },
   {
    "duration": 272,
    "start_time": "2023-08-27T18:24:41.539Z"
   },
   {
    "duration": 159,
    "start_time": "2023-08-27T18:24:41.814Z"
   },
   {
    "duration": 18,
    "start_time": "2023-08-27T18:24:41.983Z"
   },
   {
    "duration": 54,
    "start_time": "2023-08-27T18:24:42.005Z"
   },
   {
    "duration": 20,
    "start_time": "2023-08-27T18:24:42.067Z"
   },
   {
    "duration": 25,
    "start_time": "2023-08-27T18:24:42.094Z"
   },
   {
    "duration": 20,
    "start_time": "2023-08-27T18:24:42.122Z"
   },
   {
    "duration": 35,
    "start_time": "2023-08-27T18:24:42.144Z"
   },
   {
    "duration": 24,
    "start_time": "2023-08-27T18:24:42.188Z"
   },
   {
    "duration": 29,
    "start_time": "2023-08-27T18:24:42.214Z"
   },
   {
    "duration": 146,
    "start_time": "2023-08-27T18:24:42.245Z"
   },
   {
    "duration": 21,
    "start_time": "2023-08-27T18:24:42.395Z"
   },
   {
    "duration": 33,
    "start_time": "2023-08-27T18:24:42.419Z"
   },
   {
    "duration": 47,
    "start_time": "2023-08-27T18:24:42.454Z"
   },
   {
    "duration": 21,
    "start_time": "2023-08-27T18:24:42.505Z"
   },
   {
    "duration": 25,
    "start_time": "2023-08-27T18:24:42.528Z"
   },
   {
    "duration": 63,
    "start_time": "2023-08-27T18:24:42.556Z"
   },
   {
    "duration": 17,
    "start_time": "2023-08-27T18:24:42.621Z"
   },
   {
    "duration": 54,
    "start_time": "2023-08-27T18:24:42.640Z"
   },
   {
    "duration": 11,
    "start_time": "2023-08-27T18:24:42.698Z"
   },
   {
    "duration": 24,
    "start_time": "2023-08-27T18:24:42.711Z"
   },
   {
    "duration": 36,
    "start_time": "2023-08-27T18:24:42.738Z"
   },
   {
    "duration": 15,
    "start_time": "2023-08-27T18:24:42.776Z"
   },
   {
    "duration": 22,
    "start_time": "2023-08-27T18:24:42.794Z"
   },
   {
    "duration": 14,
    "start_time": "2023-08-27T18:24:42.818Z"
   },
   {
    "duration": 39,
    "start_time": "2023-08-27T18:24:42.834Z"
   },
   {
    "duration": 47,
    "start_time": "2023-08-27T18:24:42.878Z"
   },
   {
    "duration": 12,
    "start_time": "2023-08-27T18:24:42.928Z"
   },
   {
    "duration": 24,
    "start_time": "2023-08-27T18:24:42.945Z"
   },
   {
    "duration": 15,
    "start_time": "2023-08-27T18:24:42.972Z"
   },
   {
    "duration": 37,
    "start_time": "2023-08-27T18:24:42.990Z"
   },
   {
    "duration": 13,
    "start_time": "2023-08-27T18:24:43.030Z"
   },
   {
    "duration": 9,
    "start_time": "2023-08-27T18:24:43.045Z"
   },
   {
    "duration": 19,
    "start_time": "2023-08-27T18:24:43.059Z"
   },
   {
    "duration": 20,
    "start_time": "2023-08-27T18:24:43.083Z"
   },
   {
    "duration": 41,
    "start_time": "2023-08-27T18:24:43.107Z"
   },
   {
    "duration": 16,
    "start_time": "2023-08-27T18:24:43.151Z"
   },
   {
    "duration": 12,
    "start_time": "2023-08-27T18:24:43.170Z"
   },
   {
    "duration": 10,
    "start_time": "2023-08-27T18:24:43.184Z"
   },
   {
    "duration": 233,
    "start_time": "2023-08-27T18:24:43.203Z"
   },
   {
    "duration": 88,
    "start_time": "2023-08-27T18:24:43.438Z"
   },
   {
    "duration": 584,
    "start_time": "2023-08-27T18:24:43.528Z"
   },
   {
    "duration": 535,
    "start_time": "2023-08-27T18:24:44.115Z"
   },
   {
    "duration": 441,
    "start_time": "2023-08-27T18:24:44.663Z"
   },
   {
    "duration": 731,
    "start_time": "2023-08-27T18:24:45.106Z"
   },
   {
    "duration": 377,
    "start_time": "2023-08-27T18:24:45.839Z"
   },
   {
    "duration": 454,
    "start_time": "2023-08-27T18:24:46.218Z"
   },
   {
    "duration": 474,
    "start_time": "2023-08-27T18:24:46.685Z"
   },
   {
    "duration": 569,
    "start_time": "2023-08-27T18:24:47.170Z"
   },
   {
    "duration": 50,
    "start_time": "2023-08-27T18:24:47.741Z"
   },
   {
    "duration": 12,
    "start_time": "2023-08-27T18:24:47.793Z"
   },
   {
    "duration": 25,
    "start_time": "2023-08-27T18:24:47.808Z"
   }
  ],
  "colab": {
   "provenance": []
  },
  "kernelspec": {
   "display_name": "Python 3 (ipykernel)",
   "language": "python",
   "name": "python3"
  },
  "language_info": {
   "codemirror_mode": {
    "name": "ipython",
    "version": 3
   },
   "file_extension": ".py",
   "mimetype": "text/x-python",
   "name": "python",
   "nbconvert_exporter": "python",
   "pygments_lexer": "ipython3",
   "version": "3.9.5"
  },
  "toc": {
   "base_numbering": 1,
   "nav_menu": {},
   "number_sections": true,
   "sideBar": true,
   "skip_h1_title": true,
   "title_cell": "Table of Contents",
   "title_sidebar": "Contents",
   "toc_cell": false,
   "toc_position": {},
   "toc_section_display": true,
   "toc_window_display": false
  }
 },
 "nbformat": 4,
 "nbformat_minor": 1
}
